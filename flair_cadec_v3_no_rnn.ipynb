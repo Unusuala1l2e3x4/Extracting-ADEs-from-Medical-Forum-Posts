{
  "cells": [
    {
      "cell_type": "code",
      "execution_count": 1,
      "metadata": {
        "colab": {
          "base_uri": "https://localhost:8080/"
        },
        "id": "XhIssB_etI8X",
        "outputId": "78c25e90-c958-4488-f3eb-37b4fb77a294"
      },
      "outputs": [
        {
          "output_type": "stream",
          "name": "stdout",
          "text": [
            "Looking in indexes: https://pypi.org/simple, https://us-python.pkg.dev/colab-wheels/public/simple/\n",
            "Collecting flair\n",
            "  Downloading flair-0.12.2-py3-none-any.whl (373 kB)\n",
            "\u001b[2K     \u001b[90m━━━━━━━━━━━━━━━━━━━━━━━━━━━━━━━━━━━━━━\u001b[0m \u001b[32m373.1/373.1 kB\u001b[0m \u001b[31m27.6 MB/s\u001b[0m eta \u001b[36m0:00:00\u001b[0m\n",
            "\u001b[?25hCollecting mpld3==0.3\n",
            "  Downloading mpld3-0.3.tar.gz (788 kB)\n",
            "\u001b[2K     \u001b[90m━━━━━━━━━━━━━━━━━━━━━━━━━━━━━━━━━━━━━━\u001b[0m \u001b[32m788.5/788.5 kB\u001b[0m \u001b[31m64.5 MB/s\u001b[0m eta \u001b[36m0:00:00\u001b[0m\n",
            "\u001b[?25h  Preparing metadata (setup.py) ... \u001b[?25l\u001b[?25hdone\n",
            "Collecting transformers[sentencepiece]>=4.18.0\n",
            "  Downloading transformers-4.28.1-py3-none-any.whl (7.0 MB)\n",
            "\u001b[2K     \u001b[90m━━━━━━━━━━━━━━━━━━━━━━━━━━━━━━━━━━━━━━━━\u001b[0m \u001b[32m7.0/7.0 MB\u001b[0m \u001b[31m48.8 MB/s\u001b[0m eta \u001b[36m0:00:00\u001b[0m\n",
            "\u001b[?25hCollecting huggingface-hub>=0.10.0\n",
            "  Downloading huggingface_hub-0.13.4-py3-none-any.whl (200 kB)\n",
            "\u001b[2K     \u001b[90m━━━━━━━━━━━━━━━━━━━━━━━━━━━━━━━━━━━━━━\u001b[0m \u001b[32m200.1/200.1 kB\u001b[0m \u001b[31m29.1 MB/s\u001b[0m eta \u001b[36m0:00:00\u001b[0m\n",
            "\u001b[?25hRequirement already satisfied: more-itertools in /usr/local/lib/python3.9/dist-packages (from flair) (9.1.0)\n",
            "Requirement already satisfied: tqdm>=4.26.0 in /usr/local/lib/python3.9/dist-packages (from flair) (4.65.0)\n",
            "Requirement already satisfied: regex in /usr/local/lib/python3.9/dist-packages (from flair) (2022.10.31)\n",
            "Requirement already satisfied: gensim>=3.8.0 in /usr/local/lib/python3.9/dist-packages (from flair) (4.3.1)\n",
            "Collecting pptree\n",
            "  Downloading pptree-3.1.tar.gz (3.0 kB)\n",
            "  Preparing metadata (setup.py) ... \u001b[?25l\u001b[?25hdone\n",
            "Collecting boto3\n",
            "  Downloading boto3-1.26.117-py3-none-any.whl (135 kB)\n",
            "\u001b[2K     \u001b[90m━━━━━━━━━━━━━━━━━━━━━━━━━━━━━━━━━━━━━━\u001b[0m \u001b[32m135.6/135.6 kB\u001b[0m \u001b[31m19.0 MB/s\u001b[0m eta \u001b[36m0:00:00\u001b[0m\n",
            "\u001b[?25hCollecting langdetect\n",
            "  Downloading langdetect-1.0.9.tar.gz (981 kB)\n",
            "\u001b[2K     \u001b[90m━━━━━━━━━━━━━━━━━━━━━━━━━━━━━━━━━━━━━━\u001b[0m \u001b[32m981.5/981.5 kB\u001b[0m \u001b[31m73.6 MB/s\u001b[0m eta \u001b[36m0:00:00\u001b[0m\n",
            "\u001b[?25h  Preparing metadata (setup.py) ... \u001b[?25l\u001b[?25hdone\n",
            "Requirement already satisfied: lxml in /usr/local/lib/python3.9/dist-packages (from flair) (4.9.2)\n",
            "Requirement already satisfied: python-dateutil>=2.6.1 in /usr/local/lib/python3.9/dist-packages (from flair) (2.8.2)\n",
            "Requirement already satisfied: tabulate in /usr/local/lib/python3.9/dist-packages (from flair) (0.8.10)\n",
            "Requirement already satisfied: matplotlib>=2.2.3 in /usr/local/lib/python3.9/dist-packages (from flair) (3.7.1)\n",
            "Collecting conllu>=4.0\n",
            "  Downloading conllu-4.5.2-py2.py3-none-any.whl (16 kB)\n",
            "Collecting sqlitedict>=1.6.0\n",
            "  Downloading sqlitedict-2.1.0.tar.gz (21 kB)\n",
            "  Preparing metadata (setup.py) ... \u001b[?25l\u001b[?25hdone\n",
            "Collecting gdown==4.4.0\n",
            "  Downloading gdown-4.4.0.tar.gz (14 kB)\n",
            "  Installing build dependencies ... \u001b[?25l\u001b[?25hdone\n",
            "  Getting requirements to build wheel ... \u001b[?25l\u001b[?25hdone\n",
            "  Preparing metadata (pyproject.toml) ... \u001b[?25l\u001b[?25hdone\n",
            "Requirement already satisfied: torch!=1.8,>=1.5.0 in /usr/local/lib/python3.9/dist-packages (from flair) (2.0.0+cu118)\n",
            "Collecting janome\n",
            "  Downloading Janome-0.4.2-py2.py3-none-any.whl (19.7 MB)\n",
            "\u001b[2K     \u001b[90m━━━━━━━━━━━━━━━━━━━━━━━━━━━━━━━━━━━━━━━━\u001b[0m \u001b[32m19.7/19.7 MB\u001b[0m \u001b[31m75.4 MB/s\u001b[0m eta \u001b[36m0:00:00\u001b[0m\n",
            "\u001b[?25hCollecting deprecated>=1.2.4\n",
            "  Downloading Deprecated-1.2.13-py2.py3-none-any.whl (9.6 kB)\n",
            "Requirement already satisfied: hyperopt>=0.2.7 in /usr/local/lib/python3.9/dist-packages (from flair) (0.2.7)\n",
            "Collecting pytorch-revgrad\n",
            "  Downloading pytorch_revgrad-0.2.0-py3-none-any.whl (4.6 kB)\n",
            "Collecting transformer-smaller-training-vocab>=0.2.1\n",
            "  Downloading transformer_smaller_training_vocab-0.2.3-py3-none-any.whl (12 kB)\n",
            "Collecting ftfy\n",
            "  Downloading ftfy-6.1.1-py3-none-any.whl (53 kB)\n",
            "\u001b[2K     \u001b[90m━━━━━━━━━━━━━━━━━━━━━━━━━━━━━━━━━━━━━━━━\u001b[0m \u001b[32m53.1/53.1 kB\u001b[0m \u001b[31m8.7 MB/s\u001b[0m eta \u001b[36m0:00:00\u001b[0m\n",
            "\u001b[?25hCollecting wikipedia-api\n",
            "  Downloading Wikipedia_API-0.5.8-py3-none-any.whl (13 kB)\n",
            "Requirement already satisfied: scikit-learn>=0.21.3 in /usr/local/lib/python3.9/dist-packages (from flair) (1.2.2)\n",
            "Collecting segtok>=1.5.7\n",
            "  Downloading segtok-1.5.11-py3-none-any.whl (24 kB)\n",
            "Collecting bpemb>=0.3.2\n",
            "  Downloading bpemb-0.3.4-py3-none-any.whl (19 kB)\n",
            "Requirement already satisfied: filelock in /usr/local/lib/python3.9/dist-packages (from gdown==4.4.0->flair) (3.11.0)\n",
            "Requirement already satisfied: requests[socks] in /usr/local/lib/python3.9/dist-packages (from gdown==4.4.0->flair) (2.27.1)\n",
            "Requirement already satisfied: beautifulsoup4 in /usr/local/lib/python3.9/dist-packages (from gdown==4.4.0->flair) (4.11.2)\n",
            "Requirement already satisfied: six in /usr/local/lib/python3.9/dist-packages (from gdown==4.4.0->flair) (1.16.0)\n",
            "Collecting sentencepiece\n",
            "  Downloading sentencepiece-0.1.98-cp39-cp39-manylinux_2_17_x86_64.manylinux2014_x86_64.whl (1.3 MB)\n",
            "\u001b[2K     \u001b[90m━━━━━━━━━━━━━━━━━━━━━━━━━━━━━━━━━━━━━━━━\u001b[0m \u001b[32m1.3/1.3 MB\u001b[0m \u001b[31m79.5 MB/s\u001b[0m eta \u001b[36m0:00:00\u001b[0m\n",
            "\u001b[?25hRequirement already satisfied: numpy in /usr/local/lib/python3.9/dist-packages (from bpemb>=0.3.2->flair) (1.22.4)\n",
            "Requirement already satisfied: wrapt<2,>=1.10 in /usr/local/lib/python3.9/dist-packages (from deprecated>=1.2.4->flair) (1.14.1)\n",
            "Requirement already satisfied: scipy>=1.7.0 in /usr/local/lib/python3.9/dist-packages (from gensim>=3.8.0->flair) (1.10.1)\n",
            "Requirement already satisfied: smart-open>=1.8.1 in /usr/local/lib/python3.9/dist-packages (from gensim>=3.8.0->flair) (6.3.0)\n",
            "Requirement already satisfied: typing-extensions>=3.7.4.3 in /usr/local/lib/python3.9/dist-packages (from huggingface-hub>=0.10.0->flair) (4.5.0)\n",
            "Requirement already satisfied: packaging>=20.9 in /usr/local/lib/python3.9/dist-packages (from huggingface-hub>=0.10.0->flair) (23.1)\n",
            "Requirement already satisfied: pyyaml>=5.1 in /usr/local/lib/python3.9/dist-packages (from huggingface-hub>=0.10.0->flair) (6.0)\n",
            "Requirement already satisfied: cloudpickle in /usr/local/lib/python3.9/dist-packages (from hyperopt>=0.2.7->flair) (2.2.1)\n",
            "Requirement already satisfied: py4j in /usr/local/lib/python3.9/dist-packages (from hyperopt>=0.2.7->flair) (0.10.9.7)\n",
            "Requirement already satisfied: networkx>=2.2 in /usr/local/lib/python3.9/dist-packages (from hyperopt>=0.2.7->flair) (3.1)\n",
            "Requirement already satisfied: future in /usr/local/lib/python3.9/dist-packages (from hyperopt>=0.2.7->flair) (0.18.3)\n",
            "Requirement already satisfied: cycler>=0.10 in /usr/local/lib/python3.9/dist-packages (from matplotlib>=2.2.3->flair) (0.11.0)\n",
            "Requirement already satisfied: pyparsing>=2.3.1 in /usr/local/lib/python3.9/dist-packages (from matplotlib>=2.2.3->flair) (3.0.9)\n",
            "Requirement already satisfied: pillow>=6.2.0 in /usr/local/lib/python3.9/dist-packages (from matplotlib>=2.2.3->flair) (8.4.0)\n",
            "Requirement already satisfied: fonttools>=4.22.0 in /usr/local/lib/python3.9/dist-packages (from matplotlib>=2.2.3->flair) (4.39.3)\n",
            "Requirement already satisfied: kiwisolver>=1.0.1 in /usr/local/lib/python3.9/dist-packages (from matplotlib>=2.2.3->flair) (1.4.4)\n",
            "Requirement already satisfied: importlib-resources>=3.2.0 in /usr/local/lib/python3.9/dist-packages (from matplotlib>=2.2.3->flair) (5.12.0)\n",
            "Requirement already satisfied: contourpy>=1.0.1 in /usr/local/lib/python3.9/dist-packages (from matplotlib>=2.2.3->flair) (1.0.7)\n",
            "Requirement already satisfied: joblib>=1.1.1 in /usr/local/lib/python3.9/dist-packages (from scikit-learn>=0.21.3->flair) (1.2.0)\n",
            "Requirement already satisfied: threadpoolctl>=2.0.0 in /usr/local/lib/python3.9/dist-packages (from scikit-learn>=0.21.3->flair) (3.1.0)\n",
            "Requirement already satisfied: jinja2 in /usr/local/lib/python3.9/dist-packages (from torch!=1.8,>=1.5.0->flair) (3.1.2)\n",
            "Requirement already satisfied: triton==2.0.0 in /usr/local/lib/python3.9/dist-packages (from torch!=1.8,>=1.5.0->flair) (2.0.0)\n",
            "Requirement already satisfied: sympy in /usr/local/lib/python3.9/dist-packages (from torch!=1.8,>=1.5.0->flair) (1.11.1)\n",
            "Requirement already satisfied: lit in /usr/local/lib/python3.9/dist-packages (from triton==2.0.0->torch!=1.8,>=1.5.0->flair) (16.0.1)\n",
            "Requirement already satisfied: cmake in /usr/local/lib/python3.9/dist-packages (from triton==2.0.0->torch!=1.8,>=1.5.0->flair) (3.25.2)\n",
            "Collecting datasets<3.0.0,>=2.0.0\n",
            "  Downloading datasets-2.11.0-py3-none-any.whl (468 kB)\n",
            "\u001b[2K     \u001b[90m━━━━━━━━━━━━━━━━━━━━━━━━━━━━━━━━━━━━━━\u001b[0m \u001b[32m468.7/468.7 kB\u001b[0m \u001b[31m54.8 MB/s\u001b[0m eta \u001b[36m0:00:00\u001b[0m\n",
            "\u001b[?25hCollecting tokenizers!=0.11.3,<0.14,>=0.11.1\n",
            "  Downloading tokenizers-0.13.3-cp39-cp39-manylinux_2_17_x86_64.manylinux2014_x86_64.whl (7.8 MB)\n",
            "\u001b[2K     \u001b[90m━━━━━━━━━━━━━━━━━━━━━━━━━━━━━━━━━━━━━━━━\u001b[0m \u001b[32m7.8/7.8 MB\u001b[0m \u001b[31m86.7 MB/s\u001b[0m eta \u001b[36m0:00:00\u001b[0m\n",
            "\u001b[?25hCollecting protobuf<=3.20.2\n",
            "  Downloading protobuf-3.20.2-cp39-cp39-manylinux_2_5_x86_64.manylinux1_x86_64.whl (1.0 MB)\n",
            "\u001b[2K     \u001b[90m━━━━━━━━━━━━━━━━━━━━━━━━━━━━━━━━━━━━━━━━\u001b[0m \u001b[32m1.0/1.0 MB\u001b[0m \u001b[31m78.7 MB/s\u001b[0m eta \u001b[36m0:00:00\u001b[0m\n",
            "\u001b[?25hCollecting s3transfer<0.7.0,>=0.6.0\n",
            "  Downloading s3transfer-0.6.0-py3-none-any.whl (79 kB)\n",
            "\u001b[2K     \u001b[90m━━━━━━━━━━━━━━━━━━━━━━━━━━━━━━━━━━━━━━━━\u001b[0m \u001b[32m79.6/79.6 kB\u001b[0m \u001b[31m14.3 MB/s\u001b[0m eta \u001b[36m0:00:00\u001b[0m\n",
            "\u001b[?25hCollecting jmespath<2.0.0,>=0.7.1\n",
            "  Downloading jmespath-1.0.1-py3-none-any.whl (20 kB)\n",
            "Collecting botocore<1.30.0,>=1.29.117\n",
            "  Downloading botocore-1.29.117-py3-none-any.whl (10.7 MB)\n",
            "\u001b[2K     \u001b[90m━━━━━━━━━━━━━━━━━━━━━━━━━━━━━━━━━━━━━━━\u001b[0m \u001b[32m10.7/10.7 MB\u001b[0m \u001b[31m121.8 MB/s\u001b[0m eta \u001b[36m0:00:00\u001b[0m\n",
            "\u001b[?25hRequirement already satisfied: wcwidth>=0.2.5 in /usr/local/lib/python3.9/dist-packages (from ftfy->flair) (0.2.6)\n",
            "Requirement already satisfied: urllib3<1.27,>=1.25.4 in /usr/local/lib/python3.9/dist-packages (from botocore<1.30.0,>=1.29.117->boto3->flair) (1.26.15)\n",
            "Collecting aiohttp\n",
            "  Downloading aiohttp-3.8.4-cp39-cp39-manylinux_2_17_x86_64.manylinux2014_x86_64.whl (1.0 MB)\n",
            "\u001b[2K     \u001b[90m━━━━━━━━━━━━━━━━━━━━━━━━━━━━━━━━━━━━━━━━\u001b[0m \u001b[32m1.0/1.0 MB\u001b[0m \u001b[31m68.7 MB/s\u001b[0m eta \u001b[36m0:00:00\u001b[0m\n",
            "\u001b[?25hCollecting xxhash\n",
            "  Downloading xxhash-3.2.0-cp39-cp39-manylinux_2_17_x86_64.manylinux2014_x86_64.whl (212 kB)\n",
            "\u001b[2K     \u001b[90m━━━━━━━━━━━━━━━━━━━━━━━━━━━━━━━━━━━━━━\u001b[0m \u001b[32m212.2/212.2 kB\u001b[0m \u001b[31m32.2 MB/s\u001b[0m eta \u001b[36m0:00:00\u001b[0m\n",
            "\u001b[?25hRequirement already satisfied: fsspec[http]>=2021.11.1 in /usr/local/lib/python3.9/dist-packages (from datasets<3.0.0,>=2.0.0->transformer-smaller-training-vocab>=0.2.1->flair) (2023.4.0)\n",
            "Collecting dill<0.3.7,>=0.3.0\n",
            "  Downloading dill-0.3.6-py3-none-any.whl (110 kB)\n",
            "\u001b[2K     \u001b[90m━━━━━━━━━━━━━━━━━━━━━━━━━━━━━━━━━━━━━━\u001b[0m \u001b[32m110.5/110.5 kB\u001b[0m \u001b[31m18.9 MB/s\u001b[0m eta \u001b[36m0:00:00\u001b[0m\n",
            "\u001b[?25hCollecting responses<0.19\n",
            "  Downloading responses-0.18.0-py3-none-any.whl (38 kB)\n",
            "Requirement already satisfied: pandas in /usr/local/lib/python3.9/dist-packages (from datasets<3.0.0,>=2.0.0->transformer-smaller-training-vocab>=0.2.1->flair) (1.5.3)\n",
            "Collecting multiprocess\n",
            "  Downloading multiprocess-0.70.14-py39-none-any.whl (132 kB)\n",
            "\u001b[2K     \u001b[90m━━━━━━━━━━━━━━━━━━━━━━━━━━━━━━━━━━━━━━\u001b[0m \u001b[32m132.9/132.9 kB\u001b[0m \u001b[31m21.6 MB/s\u001b[0m eta \u001b[36m0:00:00\u001b[0m\n",
            "\u001b[?25hRequirement already satisfied: pyarrow>=8.0.0 in /usr/local/lib/python3.9/dist-packages (from datasets<3.0.0,>=2.0.0->transformer-smaller-training-vocab>=0.2.1->flair) (9.0.0)\n",
            "Requirement already satisfied: zipp>=3.1.0 in /usr/local/lib/python3.9/dist-packages (from importlib-resources>=3.2.0->matplotlib>=2.2.3->flair) (3.15.0)\n",
            "Requirement already satisfied: charset-normalizer~=2.0.0 in /usr/local/lib/python3.9/dist-packages (from requests[socks]->gdown==4.4.0->flair) (2.0.12)\n",
            "Requirement already satisfied: idna<4,>=2.5 in /usr/local/lib/python3.9/dist-packages (from requests[socks]->gdown==4.4.0->flair) (3.4)\n",
            "Requirement already satisfied: certifi>=2017.4.17 in /usr/local/lib/python3.9/dist-packages (from requests[socks]->gdown==4.4.0->flair) (2022.12.7)\n",
            "Requirement already satisfied: soupsieve>1.2 in /usr/local/lib/python3.9/dist-packages (from beautifulsoup4->gdown==4.4.0->flair) (2.4.1)\n",
            "Requirement already satisfied: MarkupSafe>=2.0 in /usr/local/lib/python3.9/dist-packages (from jinja2->torch!=1.8,>=1.5.0->flair) (2.1.2)\n",
            "Requirement already satisfied: PySocks!=1.5.7,>=1.5.6 in /usr/local/lib/python3.9/dist-packages (from requests[socks]->gdown==4.4.0->flair) (1.7.1)\n",
            "Requirement already satisfied: mpmath>=0.19 in /usr/local/lib/python3.9/dist-packages (from sympy->torch!=1.8,>=1.5.0->flair) (1.3.0)\n",
            "Collecting async-timeout<5.0,>=4.0.0a3\n",
            "  Downloading async_timeout-4.0.2-py3-none-any.whl (5.8 kB)\n",
            "Requirement already satisfied: attrs>=17.3.0 in /usr/local/lib/python3.9/dist-packages (from aiohttp->datasets<3.0.0,>=2.0.0->transformer-smaller-training-vocab>=0.2.1->flair) (23.1.0)\n",
            "Collecting frozenlist>=1.1.1\n",
            "  Downloading frozenlist-1.3.3-cp39-cp39-manylinux_2_5_x86_64.manylinux1_x86_64.manylinux_2_17_x86_64.manylinux2014_x86_64.whl (158 kB)\n",
            "\u001b[2K     \u001b[90m━━━━━━━━━━━━━━━━━━━━━━━━━━━━━━━━━━━━━━\u001b[0m \u001b[32m158.8/158.8 kB\u001b[0m \u001b[31m25.4 MB/s\u001b[0m eta \u001b[36m0:00:00\u001b[0m\n",
            "\u001b[?25hCollecting aiosignal>=1.1.2\n",
            "  Downloading aiosignal-1.3.1-py3-none-any.whl (7.6 kB)\n",
            "Collecting yarl<2.0,>=1.0\n",
            "  Downloading yarl-1.8.2-cp39-cp39-manylinux_2_17_x86_64.manylinux2014_x86_64.whl (264 kB)\n",
            "\u001b[2K     \u001b[90m━━━━━━━━━━━━━━━━━━━━━━━━━━━━━━━━━━━━━━\u001b[0m \u001b[32m264.6/264.6 kB\u001b[0m \u001b[31m35.4 MB/s\u001b[0m eta \u001b[36m0:00:00\u001b[0m\n",
            "\u001b[?25hCollecting multidict<7.0,>=4.5\n",
            "  Downloading multidict-6.0.4-cp39-cp39-manylinux_2_17_x86_64.manylinux2014_x86_64.whl (114 kB)\n",
            "\u001b[2K     \u001b[90m━━━━━━━━━━━━━━━━━━━━━━━━━━━━━━━━━━━━━━\u001b[0m \u001b[32m114.2/114.2 kB\u001b[0m \u001b[31m19.7 MB/s\u001b[0m eta \u001b[36m0:00:00\u001b[0m\n",
            "\u001b[?25hRequirement already satisfied: pytz>=2020.1 in /usr/local/lib/python3.9/dist-packages (from pandas->datasets<3.0.0,>=2.0.0->transformer-smaller-training-vocab>=0.2.1->flair) (2022.7.1)\n",
            "Building wheels for collected packages: gdown, mpld3, sqlitedict, langdetect, pptree\n",
            "  Building wheel for gdown (pyproject.toml) ... \u001b[?25l\u001b[?25hdone\n",
            "  Created wheel for gdown: filename=gdown-4.4.0-py3-none-any.whl size=14776 sha256=7bbfa290e1c8e59c453322400f5c349397446c7395ccad67c8796bbadca0b643\n",
            "  Stored in directory: /root/.cache/pip/wheels/7d/37/b6/b2a79c75e898c0b8e46ff255102602d7159a10d9af0d80641a\n",
            "  Building wheel for mpld3 (setup.py) ... \u001b[?25l\u001b[?25hdone\n",
            "  Created wheel for mpld3: filename=mpld3-0.3-py3-none-any.whl size=116702 sha256=a8b66ae1c8620232eb3e529668524e9fdee0930e7d2f6da304fbf1b85ff3c3b5\n",
            "  Stored in directory: /root/.cache/pip/wheels/a6/f4/e6/e40ff9021f6b3854af70fa8ea004f5ab95672817462df08fed\n",
            "  Building wheel for sqlitedict (setup.py) ... \u001b[?25l\u001b[?25hdone\n",
            "  Created wheel for sqlitedict: filename=sqlitedict-2.1.0-py3-none-any.whl size=16863 sha256=e52cac54e0132b7b88217d2a9de838621166cb2b2f7b4c9fd73fbf8793ead744\n",
            "  Stored in directory: /root/.cache/pip/wheels/f6/48/c4/942f7a1d556fddd2348cb9ac262f251873dfd8a39afec5678e\n",
            "  Building wheel for langdetect (setup.py) ... \u001b[?25l\u001b[?25hdone\n",
            "  Created wheel for langdetect: filename=langdetect-1.0.9-py3-none-any.whl size=993243 sha256=c297e0e831b260979751e6ba5ddc4be1c592a890f16f4cbaf7dbe4626e3505aa\n",
            "  Stored in directory: /root/.cache/pip/wheels/d1/c1/d9/7e068de779d863bc8f8fc9467d85e25cfe47fa5051fff1a1bb\n",
            "  Building wheel for pptree (setup.py) ... \u001b[?25l\u001b[?25hdone\n",
            "  Created wheel for pptree: filename=pptree-3.1-py3-none-any.whl size=4629 sha256=ad3e9991d659f560cc7d27e8045533fe43ab3b5d22cab3f732b267741982201f\n",
            "  Stored in directory: /root/.cache/pip/wheels/52/0e/51/514e690004ea9713bc3fdb678d5e2768fcc597d0c3b6a3abd2\n",
            "Successfully built gdown mpld3 sqlitedict langdetect pptree\n",
            "Installing collected packages: tokenizers, sqlitedict, sentencepiece, pptree, mpld3, janome, xxhash, segtok, protobuf, multidict, langdetect, jmespath, ftfy, frozenlist, dill, deprecated, conllu, async-timeout, yarl, wikipedia-api, responses, multiprocess, huggingface-hub, botocore, aiosignal, transformers, s3transfer, gdown, bpemb, aiohttp, boto3, datasets, transformer-smaller-training-vocab, pytorch-revgrad, flair\n",
            "  Attempting uninstall: protobuf\n",
            "    Found existing installation: protobuf 3.20.3\n",
            "    Uninstalling protobuf-3.20.3:\n",
            "      Successfully uninstalled protobuf-3.20.3\n",
            "  Attempting uninstall: gdown\n",
            "    Found existing installation: gdown 4.6.6\n",
            "    Uninstalling gdown-4.6.6:\n",
            "      Successfully uninstalled gdown-4.6.6\n",
            "\u001b[31mERROR: pip's dependency resolver does not currently take into account all the packages that are installed. This behaviour is the source of the following dependency conflicts.\n",
            "tensorflow 2.12.0 requires protobuf!=4.21.0,!=4.21.1,!=4.21.2,!=4.21.3,!=4.21.4,!=4.21.5,<5.0.0dev,>=3.20.3, but you have protobuf 3.20.2 which is incompatible.\n",
            "tensorflow-metadata 1.13.1 requires protobuf<5,>=3.20.3, but you have protobuf 3.20.2 which is incompatible.\u001b[0m\u001b[31m\n",
            "\u001b[0mSuccessfully installed aiohttp-3.8.4 aiosignal-1.3.1 async-timeout-4.0.2 boto3-1.26.117 botocore-1.29.117 bpemb-0.3.4 conllu-4.5.2 datasets-2.11.0 deprecated-1.2.13 dill-0.3.6 flair-0.12.2 frozenlist-1.3.3 ftfy-6.1.1 gdown-4.4.0 huggingface-hub-0.13.4 janome-0.4.2 jmespath-1.0.1 langdetect-1.0.9 mpld3-0.3 multidict-6.0.4 multiprocess-0.70.14 pptree-3.1 protobuf-3.20.2 pytorch-revgrad-0.2.0 responses-0.18.0 s3transfer-0.6.0 segtok-1.5.11 sentencepiece-0.1.98 sqlitedict-2.1.0 tokenizers-0.13.3 transformer-smaller-training-vocab-0.2.3 transformers-4.28.1 wikipedia-api-0.5.8 xxhash-3.2.0 yarl-1.8.2\n"
          ]
        }
      ],
      "source": [
        "!pip install flair"
      ]
    },
    {
      "cell_type": "code",
      "execution_count": 2,
      "metadata": {
        "id": "xONJpNLKtGie"
      },
      "outputs": [],
      "source": [
        "import pandas as pd\n",
        "import numpy as np\n",
        "import os, re, csv, string, random\n",
        "import flair\n",
        "# print(flair.__version__)\n",
        "\n",
        "\n",
        "import nltk\n",
        "from nltk.tokenize import RegexpTokenizer\n",
        "\n",
        "from flair.data import Sentence, Span, Corpus, Dictionary, Token\n",
        "from flair.embeddings import WordEmbeddings, DocumentPoolEmbeddings, FlairEmbeddings, StackedEmbeddings, TokenEmbeddings\n",
        "from flair.models import SequenceTagger\n",
        "\n",
        "from flair.datasets import ColumnCorpus\n",
        "from flair.trainers import ModelTrainer\n",
        "\n",
        "from typing import List, Tuple\n",
        "\n",
        "from sklearn.metrics import confusion_matrix, classification_report\n",
        "\n",
        "import seaborn as sns\n",
        "import pickle\n",
        "\n",
        "from tqdm.auto import tqdm, trange\n",
        "\n",
        "# import seaborn as sns\n",
        "import matplotlib.pyplot as plt\n",
        "from collections import Counter\n",
        "from itertools import chain\n",
        "# from flair.data import Sentence"
      ]
    },
    {
      "cell_type": "code",
      "execution_count": 3,
      "metadata": {
        "colab": {
          "base_uri": "https://localhost:8080/"
        },
        "id": "nw6RM8uotGih",
        "outputId": "95d533a2-0122-4731-f0bf-b2b106828a57"
      },
      "outputs": [
        {
          "output_type": "stream",
          "name": "stdout",
          "text": [
            "Mounted at /content/drive\n"
          ]
        }
      ],
      "source": [
        "from google.colab import drive\n",
        "drive.mount(\"/content/drive\")\n",
        "\n",
        "os.chdir('/content/drive/MyDrive/SI 630 project')\n",
        "# os.listdir('.')"
      ]
    },
    {
      "cell_type": "code",
      "execution_count": 4,
      "metadata": {
        "colab": {
          "base_uri": "https://localhost:8080/"
        },
        "id": "P9LwpBadtGih",
        "outputId": "14c3fb21-099e-4602-a797-61b28b039e7c"
      },
      "outputs": [
        {
          "output_type": "execute_result",
          "data": {
            "text/plain": [
              "['sct',\n",
              " 'text',\n",
              " 'original - unedited version of edited files',\n",
              " 'meddra - unedited version of edited files',\n",
              " 'sct - unedited version of edited files',\n",
              " 'original',\n",
              " 'meddra']"
            ]
          },
          "metadata": {},
          "execution_count": 4
        }
      ],
      "source": [
        "os.listdir('datasets/CADEC/CADEC.v2/cadec')\n"
      ]
    },
    {
      "cell_type": "code",
      "execution_count": 5,
      "metadata": {
        "id": "VNZtmxiPb5uV"
      },
      "outputs": [],
      "source": [
        "suf = '_v3'\n",
        "\n",
        "data_save_dir = 'data'+suf\n",
        "\n",
        "suf += '_no_rnn'"
      ]
    },
    {
      "cell_type": "code",
      "execution_count": 6,
      "metadata": {
        "colab": {
          "base_uri": "https://localhost:8080/",
          "height": 423
        },
        "id": "BIUl2-W9tGii",
        "outputId": "d4a57bab-fe08-4aca-c1bd-89f050da9b5b"
      },
      "outputs": [
        {
          "output_type": "execute_result",
          "data": {
            "text/plain": [
              "          ner        meddra  counts_exploded  counts  counts_exploded_rank\n",
              "0        Drug       Lipitor             1081    1073                     1\n",
              "1         ADR  CONCEPT_LESS             1016     266                     2\n",
              "2         ADR   Severe_pain              722     247                     3\n",
              "3         ADR       Myalgia              619     305                     4\n",
              "4         ADR          Pain              292     260                     5\n",
              "...       ...           ...              ...     ...                   ...\n",
              "1294  Finding      Senility                1       1                  1233\n",
              "1295     Drug      Seroquel                1       1                  1233\n",
              "1296     Drug      Solaraze                1       1                  1233\n",
              "1297     Drug       Tagamet                1       1                  1233\n",
              "1298     Drug  testosterone                1       1                  1233\n",
              "\n",
              "[1299 rows x 5 columns]"
            ],
            "text/html": [
              "\n",
              "  <div id=\"df-f18900e7-a886-4ba2-b578-6ef729c72a79\">\n",
              "    <div class=\"colab-df-container\">\n",
              "      <div>\n",
              "<style scoped>\n",
              "    .dataframe tbody tr th:only-of-type {\n",
              "        vertical-align: middle;\n",
              "    }\n",
              "\n",
              "    .dataframe tbody tr th {\n",
              "        vertical-align: top;\n",
              "    }\n",
              "\n",
              "    .dataframe thead th {\n",
              "        text-align: right;\n",
              "    }\n",
              "</style>\n",
              "<table border=\"1\" class=\"dataframe\">\n",
              "  <thead>\n",
              "    <tr style=\"text-align: right;\">\n",
              "      <th></th>\n",
              "      <th>ner</th>\n",
              "      <th>meddra</th>\n",
              "      <th>counts_exploded</th>\n",
              "      <th>counts</th>\n",
              "      <th>counts_exploded_rank</th>\n",
              "    </tr>\n",
              "  </thead>\n",
              "  <tbody>\n",
              "    <tr>\n",
              "      <th>0</th>\n",
              "      <td>Drug</td>\n",
              "      <td>Lipitor</td>\n",
              "      <td>1081</td>\n",
              "      <td>1073</td>\n",
              "      <td>1</td>\n",
              "    </tr>\n",
              "    <tr>\n",
              "      <th>1</th>\n",
              "      <td>ADR</td>\n",
              "      <td>CONCEPT_LESS</td>\n",
              "      <td>1016</td>\n",
              "      <td>266</td>\n",
              "      <td>2</td>\n",
              "    </tr>\n",
              "    <tr>\n",
              "      <th>2</th>\n",
              "      <td>ADR</td>\n",
              "      <td>Severe_pain</td>\n",
              "      <td>722</td>\n",
              "      <td>247</td>\n",
              "      <td>3</td>\n",
              "    </tr>\n",
              "    <tr>\n",
              "      <th>3</th>\n",
              "      <td>ADR</td>\n",
              "      <td>Myalgia</td>\n",
              "      <td>619</td>\n",
              "      <td>305</td>\n",
              "      <td>4</td>\n",
              "    </tr>\n",
              "    <tr>\n",
              "      <th>4</th>\n",
              "      <td>ADR</td>\n",
              "      <td>Pain</td>\n",
              "      <td>292</td>\n",
              "      <td>260</td>\n",
              "      <td>5</td>\n",
              "    </tr>\n",
              "    <tr>\n",
              "      <th>...</th>\n",
              "      <td>...</td>\n",
              "      <td>...</td>\n",
              "      <td>...</td>\n",
              "      <td>...</td>\n",
              "      <td>...</td>\n",
              "    </tr>\n",
              "    <tr>\n",
              "      <th>1294</th>\n",
              "      <td>Finding</td>\n",
              "      <td>Senility</td>\n",
              "      <td>1</td>\n",
              "      <td>1</td>\n",
              "      <td>1233</td>\n",
              "    </tr>\n",
              "    <tr>\n",
              "      <th>1295</th>\n",
              "      <td>Drug</td>\n",
              "      <td>Seroquel</td>\n",
              "      <td>1</td>\n",
              "      <td>1</td>\n",
              "      <td>1233</td>\n",
              "    </tr>\n",
              "    <tr>\n",
              "      <th>1296</th>\n",
              "      <td>Drug</td>\n",
              "      <td>Solaraze</td>\n",
              "      <td>1</td>\n",
              "      <td>1</td>\n",
              "      <td>1233</td>\n",
              "    </tr>\n",
              "    <tr>\n",
              "      <th>1297</th>\n",
              "      <td>Drug</td>\n",
              "      <td>Tagamet</td>\n",
              "      <td>1</td>\n",
              "      <td>1</td>\n",
              "      <td>1233</td>\n",
              "    </tr>\n",
              "    <tr>\n",
              "      <th>1298</th>\n",
              "      <td>Drug</td>\n",
              "      <td>testosterone</td>\n",
              "      <td>1</td>\n",
              "      <td>1</td>\n",
              "      <td>1233</td>\n",
              "    </tr>\n",
              "  </tbody>\n",
              "</table>\n",
              "<p>1299 rows × 5 columns</p>\n",
              "</div>\n",
              "      <button class=\"colab-df-convert\" onclick=\"convertToInteractive('df-f18900e7-a886-4ba2-b578-6ef729c72a79')\"\n",
              "              title=\"Convert this dataframe to an interactive table.\"\n",
              "              style=\"display:none;\">\n",
              "        \n",
              "  <svg xmlns=\"http://www.w3.org/2000/svg\" height=\"24px\"viewBox=\"0 0 24 24\"\n",
              "       width=\"24px\">\n",
              "    <path d=\"M0 0h24v24H0V0z\" fill=\"none\"/>\n",
              "    <path d=\"M18.56 5.44l.94 2.06.94-2.06 2.06-.94-2.06-.94-.94-2.06-.94 2.06-2.06.94zm-11 1L8.5 8.5l.94-2.06 2.06-.94-2.06-.94L8.5 2.5l-.94 2.06-2.06.94zm10 10l.94 2.06.94-2.06 2.06-.94-2.06-.94-.94-2.06-.94 2.06-2.06.94z\"/><path d=\"M17.41 7.96l-1.37-1.37c-.4-.4-.92-.59-1.43-.59-.52 0-1.04.2-1.43.59L10.3 9.45l-7.72 7.72c-.78.78-.78 2.05 0 2.83L4 21.41c.39.39.9.59 1.41.59.51 0 1.02-.2 1.41-.59l7.78-7.78 2.81-2.81c.8-.78.8-2.07 0-2.86zM5.41 20L4 18.59l7.72-7.72 1.47 1.35L5.41 20z\"/>\n",
              "  </svg>\n",
              "      </button>\n",
              "      \n",
              "  <style>\n",
              "    .colab-df-container {\n",
              "      display:flex;\n",
              "      flex-wrap:wrap;\n",
              "      gap: 12px;\n",
              "    }\n",
              "\n",
              "    .colab-df-convert {\n",
              "      background-color: #E8F0FE;\n",
              "      border: none;\n",
              "      border-radius: 50%;\n",
              "      cursor: pointer;\n",
              "      display: none;\n",
              "      fill: #1967D2;\n",
              "      height: 32px;\n",
              "      padding: 0 0 0 0;\n",
              "      width: 32px;\n",
              "    }\n",
              "\n",
              "    .colab-df-convert:hover {\n",
              "      background-color: #E2EBFA;\n",
              "      box-shadow: 0px 1px 2px rgba(60, 64, 67, 0.3), 0px 1px 3px 1px rgba(60, 64, 67, 0.15);\n",
              "      fill: #174EA6;\n",
              "    }\n",
              "\n",
              "    [theme=dark] .colab-df-convert {\n",
              "      background-color: #3B4455;\n",
              "      fill: #D2E3FC;\n",
              "    }\n",
              "\n",
              "    [theme=dark] .colab-df-convert:hover {\n",
              "      background-color: #434B5C;\n",
              "      box-shadow: 0px 1px 3px 1px rgba(0, 0, 0, 0.15);\n",
              "      filter: drop-shadow(0px 1px 2px rgba(0, 0, 0, 0.3));\n",
              "      fill: #FFFFFF;\n",
              "    }\n",
              "  </style>\n",
              "\n",
              "      <script>\n",
              "        const buttonEl =\n",
              "          document.querySelector('#df-f18900e7-a886-4ba2-b578-6ef729c72a79 button.colab-df-convert');\n",
              "        buttonEl.style.display =\n",
              "          google.colab.kernel.accessAllowed ? 'block' : 'none';\n",
              "\n",
              "        async function convertToInteractive(key) {\n",
              "          const element = document.querySelector('#df-f18900e7-a886-4ba2-b578-6ef729c72a79');\n",
              "          const dataTable =\n",
              "            await google.colab.kernel.invokeFunction('convertToInteractive',\n",
              "                                                     [key], {});\n",
              "          if (!dataTable) return;\n",
              "\n",
              "          const docLinkHtml = 'Like what you see? Visit the ' +\n",
              "            '<a target=\"_blank\" href=https://colab.research.google.com/notebooks/data_table.ipynb>data table notebook</a>'\n",
              "            + ' to learn more about interactive tables.';\n",
              "          element.innerHTML = '';\n",
              "          dataTable['output_type'] = 'display_data';\n",
              "          await google.colab.output.renderOutput(dataTable, element);\n",
              "          const docLink = document.createElement('div');\n",
              "          docLink.innerHTML = docLinkHtml;\n",
              "          element.appendChild(docLink);\n",
              "        }\n",
              "      </script>\n",
              "    </div>\n",
              "  </div>\n",
              "  "
            ]
          },
          "metadata": {},
          "execution_count": 6
        }
      ],
      "source": [
        "meddra_counts = pd.read_csv(data_save_dir+'/meddra_counts.csv')\n",
        "meddra_counts"
      ]
    },
    {
      "cell_type": "code",
      "execution_count": 7,
      "metadata": {
        "colab": {
          "base_uri": "https://localhost:8080/",
          "height": 423
        },
        "id": "xzc4Zo0PtGii",
        "outputId": "8980109c-492b-47c5-b3c5-f36e615b165a"
      },
      "outputs": [
        {
          "output_type": "execute_result",
          "data": {
            "text/plain": [
              "      ner                       meddra  counts_exploded  counts  \\\n",
              "1     ADR                 CONCEPT_LESS             1016     266   \n",
              "2     ADR                  Severe_pain              722     247   \n",
              "3     ADR                      Myalgia              619     305   \n",
              "4     ADR                         Pain              292     260   \n",
              "5     ADR                   Arthralgia              280     163   \n",
              "...   ...                          ...              ...     ...   \n",
              "1268  ADR                Labyrinthitis                1       1   \n",
              "1269  ADR                    Dysphagia                1       1   \n",
              "1275  ADR          Lupus_erythematosus                1       1   \n",
              "1278  ADR                     Cataract                1       1   \n",
              "1283  ADR  Crying_associated_with_mood                1       1   \n",
              "\n",
              "      counts_exploded_rank  \n",
              "1                        2  \n",
              "2                        3  \n",
              "3                        4  \n",
              "4                        5  \n",
              "5                        6  \n",
              "...                    ...  \n",
              "1268                  1233  \n",
              "1269                  1233  \n",
              "1275                  1233  \n",
              "1278                  1233  \n",
              "1283                  1233  \n",
              "\n",
              "[800 rows x 5 columns]"
            ],
            "text/html": [
              "\n",
              "  <div id=\"df-25271fce-12cd-49c5-8d9d-359f6b916573\">\n",
              "    <div class=\"colab-df-container\">\n",
              "      <div>\n",
              "<style scoped>\n",
              "    .dataframe tbody tr th:only-of-type {\n",
              "        vertical-align: middle;\n",
              "    }\n",
              "\n",
              "    .dataframe tbody tr th {\n",
              "        vertical-align: top;\n",
              "    }\n",
              "\n",
              "    .dataframe thead th {\n",
              "        text-align: right;\n",
              "    }\n",
              "</style>\n",
              "<table border=\"1\" class=\"dataframe\">\n",
              "  <thead>\n",
              "    <tr style=\"text-align: right;\">\n",
              "      <th></th>\n",
              "      <th>ner</th>\n",
              "      <th>meddra</th>\n",
              "      <th>counts_exploded</th>\n",
              "      <th>counts</th>\n",
              "      <th>counts_exploded_rank</th>\n",
              "    </tr>\n",
              "  </thead>\n",
              "  <tbody>\n",
              "    <tr>\n",
              "      <th>1</th>\n",
              "      <td>ADR</td>\n",
              "      <td>CONCEPT_LESS</td>\n",
              "      <td>1016</td>\n",
              "      <td>266</td>\n",
              "      <td>2</td>\n",
              "    </tr>\n",
              "    <tr>\n",
              "      <th>2</th>\n",
              "      <td>ADR</td>\n",
              "      <td>Severe_pain</td>\n",
              "      <td>722</td>\n",
              "      <td>247</td>\n",
              "      <td>3</td>\n",
              "    </tr>\n",
              "    <tr>\n",
              "      <th>3</th>\n",
              "      <td>ADR</td>\n",
              "      <td>Myalgia</td>\n",
              "      <td>619</td>\n",
              "      <td>305</td>\n",
              "      <td>4</td>\n",
              "    </tr>\n",
              "    <tr>\n",
              "      <th>4</th>\n",
              "      <td>ADR</td>\n",
              "      <td>Pain</td>\n",
              "      <td>292</td>\n",
              "      <td>260</td>\n",
              "      <td>5</td>\n",
              "    </tr>\n",
              "    <tr>\n",
              "      <th>5</th>\n",
              "      <td>ADR</td>\n",
              "      <td>Arthralgia</td>\n",
              "      <td>280</td>\n",
              "      <td>163</td>\n",
              "      <td>6</td>\n",
              "    </tr>\n",
              "    <tr>\n",
              "      <th>...</th>\n",
              "      <td>...</td>\n",
              "      <td>...</td>\n",
              "      <td>...</td>\n",
              "      <td>...</td>\n",
              "      <td>...</td>\n",
              "    </tr>\n",
              "    <tr>\n",
              "      <th>1268</th>\n",
              "      <td>ADR</td>\n",
              "      <td>Labyrinthitis</td>\n",
              "      <td>1</td>\n",
              "      <td>1</td>\n",
              "      <td>1233</td>\n",
              "    </tr>\n",
              "    <tr>\n",
              "      <th>1269</th>\n",
              "      <td>ADR</td>\n",
              "      <td>Dysphagia</td>\n",
              "      <td>1</td>\n",
              "      <td>1</td>\n",
              "      <td>1233</td>\n",
              "    </tr>\n",
              "    <tr>\n",
              "      <th>1275</th>\n",
              "      <td>ADR</td>\n",
              "      <td>Lupus_erythematosus</td>\n",
              "      <td>1</td>\n",
              "      <td>1</td>\n",
              "      <td>1233</td>\n",
              "    </tr>\n",
              "    <tr>\n",
              "      <th>1278</th>\n",
              "      <td>ADR</td>\n",
              "      <td>Cataract</td>\n",
              "      <td>1</td>\n",
              "      <td>1</td>\n",
              "      <td>1233</td>\n",
              "    </tr>\n",
              "    <tr>\n",
              "      <th>1283</th>\n",
              "      <td>ADR</td>\n",
              "      <td>Crying_associated_with_mood</td>\n",
              "      <td>1</td>\n",
              "      <td>1</td>\n",
              "      <td>1233</td>\n",
              "    </tr>\n",
              "  </tbody>\n",
              "</table>\n",
              "<p>800 rows × 5 columns</p>\n",
              "</div>\n",
              "      <button class=\"colab-df-convert\" onclick=\"convertToInteractive('df-25271fce-12cd-49c5-8d9d-359f6b916573')\"\n",
              "              title=\"Convert this dataframe to an interactive table.\"\n",
              "              style=\"display:none;\">\n",
              "        \n",
              "  <svg xmlns=\"http://www.w3.org/2000/svg\" height=\"24px\"viewBox=\"0 0 24 24\"\n",
              "       width=\"24px\">\n",
              "    <path d=\"M0 0h24v24H0V0z\" fill=\"none\"/>\n",
              "    <path d=\"M18.56 5.44l.94 2.06.94-2.06 2.06-.94-2.06-.94-.94-2.06-.94 2.06-2.06.94zm-11 1L8.5 8.5l.94-2.06 2.06-.94-2.06-.94L8.5 2.5l-.94 2.06-2.06.94zm10 10l.94 2.06.94-2.06 2.06-.94-2.06-.94-.94-2.06-.94 2.06-2.06.94z\"/><path d=\"M17.41 7.96l-1.37-1.37c-.4-.4-.92-.59-1.43-.59-.52 0-1.04.2-1.43.59L10.3 9.45l-7.72 7.72c-.78.78-.78 2.05 0 2.83L4 21.41c.39.39.9.59 1.41.59.51 0 1.02-.2 1.41-.59l7.78-7.78 2.81-2.81c.8-.78.8-2.07 0-2.86zM5.41 20L4 18.59l7.72-7.72 1.47 1.35L5.41 20z\"/>\n",
              "  </svg>\n",
              "      </button>\n",
              "      \n",
              "  <style>\n",
              "    .colab-df-container {\n",
              "      display:flex;\n",
              "      flex-wrap:wrap;\n",
              "      gap: 12px;\n",
              "    }\n",
              "\n",
              "    .colab-df-convert {\n",
              "      background-color: #E8F0FE;\n",
              "      border: none;\n",
              "      border-radius: 50%;\n",
              "      cursor: pointer;\n",
              "      display: none;\n",
              "      fill: #1967D2;\n",
              "      height: 32px;\n",
              "      padding: 0 0 0 0;\n",
              "      width: 32px;\n",
              "    }\n",
              "\n",
              "    .colab-df-convert:hover {\n",
              "      background-color: #E2EBFA;\n",
              "      box-shadow: 0px 1px 2px rgba(60, 64, 67, 0.3), 0px 1px 3px 1px rgba(60, 64, 67, 0.15);\n",
              "      fill: #174EA6;\n",
              "    }\n",
              "\n",
              "    [theme=dark] .colab-df-convert {\n",
              "      background-color: #3B4455;\n",
              "      fill: #D2E3FC;\n",
              "    }\n",
              "\n",
              "    [theme=dark] .colab-df-convert:hover {\n",
              "      background-color: #434B5C;\n",
              "      box-shadow: 0px 1px 3px 1px rgba(0, 0, 0, 0.15);\n",
              "      filter: drop-shadow(0px 1px 2px rgba(0, 0, 0, 0.3));\n",
              "      fill: #FFFFFF;\n",
              "    }\n",
              "  </style>\n",
              "\n",
              "      <script>\n",
              "        const buttonEl =\n",
              "          document.querySelector('#df-25271fce-12cd-49c5-8d9d-359f6b916573 button.colab-df-convert');\n",
              "        buttonEl.style.display =\n",
              "          google.colab.kernel.accessAllowed ? 'block' : 'none';\n",
              "\n",
              "        async function convertToInteractive(key) {\n",
              "          const element = document.querySelector('#df-25271fce-12cd-49c5-8d9d-359f6b916573');\n",
              "          const dataTable =\n",
              "            await google.colab.kernel.invokeFunction('convertToInteractive',\n",
              "                                                     [key], {});\n",
              "          if (!dataTable) return;\n",
              "\n",
              "          const docLinkHtml = 'Like what you see? Visit the ' +\n",
              "            '<a target=\"_blank\" href=https://colab.research.google.com/notebooks/data_table.ipynb>data table notebook</a>'\n",
              "            + ' to learn more about interactive tables.';\n",
              "          element.innerHTML = '';\n",
              "          dataTable['output_type'] = 'display_data';\n",
              "          await google.colab.output.renderOutput(dataTable, element);\n",
              "          const docLink = document.createElement('div');\n",
              "          docLink.innerHTML = docLinkHtml;\n",
              "          element.appendChild(docLink);\n",
              "        }\n",
              "      </script>\n",
              "    </div>\n",
              "  </div>\n",
              "  "
            ]
          },
          "metadata": {},
          "execution_count": 7
        }
      ],
      "source": [
        "meddra_counts.loc[meddra_counts.ner == 'ADR',:]"
      ]
    },
    {
      "cell_type": "code",
      "execution_count": 8,
      "metadata": {
        "colab": {
          "base_uri": "https://localhost:8080/"
        },
        "id": "hAGPini7tGii",
        "outputId": "3da6bc75-2bc2-439d-cf9c-e572ece460cd"
      },
      "outputs": [
        {
          "output_type": "execute_result",
          "data": {
            "text/plain": [
              "[Sentence[117]: \"i feel a bit drowsy & have a little blurred vision , so far no gastric problems . ive been on arthrotec 50 for over 10 years on and off , only taking it when i needed it . due to my arthritis getting progressively worse , to the point where i am in tears with the agony , gp ' s started me on 75 twice a day and i have to take it . every day for the next month to see how i get on , here goes . so far its been very good , pains almost gone , but i feel a bit weird , didnt have that when on 50 .\" → [\"i\"/O/O, \"feel\"/O/O, \"a\"/O/O, \"bit\"/B-ADR/B-Drowsy, \"drowsy\"/I-ADR/I-Drowsy, \"&\"/O/O, \"have\"/O/O, \"a\"/O/O, \"little\"/B-ADR/B-Blurred_vision_-_hazy, \"blurred\"/I-ADR/I-Blurred_vision_-_hazy, \"vision\"/I-ADR/I-Blurred_vision_-_hazy, \",\"/O/O, \"so\"/O/O, \"far\"/O/O, \"no\"/O/O, \"gastric\"/B-ADR/B-Excessive_upper_gastrointestinal_gas, \"problems\"/I-ADR/I-Excessive_upper_gastrointestinal_gas, \".\"/O/O, \"ive\"/O/O, \"been\"/O/O, \"on\"/O/O, \"arthrotec\"/B-Drug/B-Arthrotec, \"50\"/O/O, \"for\"/O/O, \"over\"/O/O, \"10\"/O/O, \"years\"/O/O, \"on\"/O/O, \"and\"/O/O, \"off\"/O/O, \",\"/O/O, \"only\"/O/O, \"taking\"/O/O, \"it\"/O/O, \"when\"/O/O, \"i\"/O/O, \"needed\"/O/O, \"it\"/O/O, \".\"/O/O, \"due\"/O/O, \"to\"/O/O, \"my\"/O/O, \"arthritis\"/B-Disease/B-Arthritis, \"getting\"/O/O, \"progressively\"/O/O, \"worse\"/O/O, \",\"/O/O, \"to\"/O/O, \"the\"/O/O, \"point\"/O/O, \"where\"/O/O, \"i\"/O/O, \"am\"/O/O, \"in\"/O/O, \"tears\"/O/O, \"with\"/O/O, \"the\"/O/O, \"agony\"/B-Symptom/B-Agony, \",\"/O/O, \"gp\"/O/O, \"'\"/O/O, \"s\"/O/O, \"started\"/O/O, \"me\"/O/O, \"on\"/O/O, \"75\"/O/O, \"twice\"/O/O, \"a\"/O/O, \"day\"/O/O, \"and\"/O/O, \"i\"/O/O, \"have\"/O/O, \"to\"/O/O, \"take\"/O/O, \"it\"/O/O, \".\"/O/O, \"every\"/O/O, \"day\"/O/O, \"for\"/O/O, \"the\"/O/O, \"next\"/O/O, \"month\"/O/O, \"to\"/O/O, \"see\"/O/O, \"how\"/O/O, \"i\"/O/O, \"get\"/O/O, \"on\"/O/O, \",\"/O/O, \"here\"/O/O, \"goes\"/O/O, \".\"/O/O, \"so\"/O/O, \"far\"/O/O, \"its\"/O/O, \"been\"/O/O, \"very\"/O/O, \"good\"/O/O, \",\"/O/O, \"pains\"/B-Symptom/B-Pain, \"almost\"/O/O, \"gone\"/O/O, \",\"/O/O, \"but\"/O/O, \"i\"/O/O, \"feel\"/B-ADR/B-Malaise, \"a\"/I-ADR/I-Malaise, \"bit\"/I-ADR/I-Malaise, \"weird\"/I-ADR/I-Malaise, \",\"/O/O, \"didnt\"/O/O, \"have\"/O/O, \"that\"/O/O, \"when\"/O/O, \"on\"/O/O, \"50\"/O/O, \".\"/O/O],\n",
              " Sentence[39]: \"hunger pangs . brilliant , i have a new lease of life , i walk up & down steps properly , no longer sideways like a toddler , hip pain as gone other than if i jar it .\" → [\"hunger\"/B-ADR/B-Hunger_pain, \"pangs\"/I-ADR/I-Hunger_pain, \".\"/O/O, \"brilliant\"/O/O, \",\"/O/O, \"i\"/O/O, \"have\"/O/O, \"a\"/O/O, \"new\"/O/O, \"lease\"/O/O, \"of\"/O/O, \"life\"/O/O, \",\"/O/O, \"i\"/O/O, \"walk\"/B-Symptom/B-CONCEPT_LESS, \"up\"/I-Symptom/I-CONCEPT_LESS, \"&\"/I-Symptom/I-CONCEPT_LESS, \"down\"/I-Symptom/I-CONCEPT_LESS, \"steps\"/I-Symptom/I-CONCEPT_LESS, \"properly\"/O/O, \",\"/O/O, \"no\"/O/O, \"longer\"/O/O, \"sideways\"/I-Symptom/I-CONCEPT_LESS, \"like\"/O/O, \"a\"/O/O, \"toddler\"/O/O, \",\"/O/O, \"hip\"/B-Symptom/B-Hip_pain, \"pain\"/I-Symptom/I-Hip_pain, \"as\"/O/O, \"gone\"/O/O, \"other\"/O/O, \"than\"/O/O, \"if\"/O/O, \"i\"/O/O, \"jar\"/O/O, \"it\"/O/O, \".\"/O/O],\n",
              " Sentence[51]: \"no side effects for the first two months . then vaginal bleeding 2 wks after menstral cycle . stomach pain . canker sores in my mouth . headache . been off for 1 week still have bleeding . helped my pain alot . too scared to take this drug again .\" → [\"no\"/O/O, \"side\"/O/O, \"effects\"/O/O, \"for\"/O/O, \"the\"/O/O, \"first\"/O/O, \"two\"/O/O, \"months\"/O/O, \".\"/O/O, \"then\"/O/O, \"vaginal\"/B-ADR/B-Vaginal_bleeding, \"bleeding\"/I-ADR/I-Vaginal_bleeding, \"2\"/O/O, \"wks\"/O/O, \"after\"/O/O, \"menstral\"/O/O, \"cycle\"/O/O, \".\"/O/O, \"stomach\"/B-ADR/B-Stomach_ache, \"pain\"/I-ADR/I-Stomach_ache, \".\"/O/O, \"canker\"/B-ADR/B-Aphthous_ulcer, \"sores\"/I-ADR/I-Aphthous_ulcer, \"in\"/O/O, \"my\"/O/O, \"mouth\"/O/O, \".\"/O/O, \"headache\"/B-ADR/B-Headache, \".\"/O/O, \"been\"/O/O, \"off\"/O/O, \"for\"/O/O, \"1\"/O/O, \"week\"/O/O, \"still\"/O/O, \"have\"/O/O, \"bleeding\"/O/O, \".\"/O/O, \"helped\"/O/O, \"my\"/O/O, \"pain\"/B-Symptom/B-Pain, \"alot\"/O/O, \".\"/O/O, \"too\"/O/O, \"scared\"/O/O, \"to\"/O/O, \"take\"/O/O, \"this\"/O/O, \"drug\"/O/O, \"again\"/O/O, \".\"/O/O],\n",
              " Sentence[68]: \"1st pill taken with food , a few hours after i experienced shortness of breath , a sense of depression , cramping , upset stomache will stop taking immediately . honestly can not recommend this drug , i am still experiencing side effects just after 1 pill and im supposed to take twice / day 75mg . i just cant keep going have to try something else .\" → [\"1st\"/O/O, \"pill\"/O/O, \"taken\"/O/O, \"with\"/O/O, \"food\"/O/O, \",\"/O/O, \"a\"/O/O, \"few\"/O/O, \"hours\"/O/O, \"after\"/O/O, \"i\"/O/O, \"experienced\"/O/O, \"shortness\"/B-ADR/B-Dyspnoea, \"of\"/I-ADR/I-Dyspnoea, \"breath\"/I-ADR/I-Dyspnoea, \",\"/O/O, \"a\"/O/O, \"sense\"/O/O, \"of\"/O/O, \"depression\"/B-ADR/B-Depression, \",\"/O/O, \"cramping\"/B-ADR/B-Muscle_cramp, \",\"/O/O, \"upset\"/B-ADR/B-Upset_stomach, \"stomache\"/I-ADR/I-Upset_stomach, \"will\"/O/O, \"stop\"/O/O, \"taking\"/O/O, \"immediately\"/O/O, \".\"/O/O, \"honestly\"/O/O, \"can\"/O/O, \"not\"/O/O, \"recommend\"/O/O, \"this\"/O/O, \"drug\"/O/O, \",\"/O/O, \"i\"/O/O, \"am\"/O/O, \"still\"/O/O, \"experiencing\"/O/O, \"side\"/O/O, \"effects\"/O/O, \"just\"/O/O, \"after\"/O/O, \"1\"/O/O, \"pill\"/O/O, \"and\"/O/O, \"im\"/O/O, \"supposed\"/O/O, \"to\"/O/O, \"take\"/O/O, \"twice\"/O/O, \"/\"/O/O, \"day\"/O/O, \"75mg\"/O/O, \".\"/O/O, \"i\"/O/O, \"just\"/O/O, \"cant\"/O/O, \"keep\"/O/O, \"going\"/O/O, \"have\"/O/O, \"to\"/O/O, \"try\"/O/O, \"something\"/O/O, \"else\"/O/O, \".\"/O/O],\n",
              " Sentence[50]: \"i have had no side effects been taking arthrotec a little over a year , have not noticed any side effects . it does help alot i noticed that when there are times when i forget to take it i cant stand or walk for any lengths of time .\" → [\"i\"/O/O, \"have\"/O/O, \"had\"/O/O, \"no\"/O/O, \"side\"/O/O, \"effects\"/O/O, \"been\"/O/O, \"taking\"/O/O, \"arthrotec\"/B-Drug/B-Arthrotec, \"a\"/O/O, \"little\"/O/O, \"over\"/O/O, \"a\"/O/O, \"year\"/O/O, \",\"/O/O, \"have\"/O/O, \"not\"/O/O, \"noticed\"/O/O, \"any\"/O/O, \"side\"/O/O, \"effects\"/O/O, \".\"/O/O, \"it\"/O/O, \"does\"/O/O, \"help\"/O/O, \"alot\"/O/O, \"i\"/O/O, \"noticed\"/O/O, \"that\"/O/O, \"when\"/O/O, \"there\"/O/O, \"are\"/O/O, \"times\"/O/O, \"when\"/O/O, \"i\"/O/O, \"forget\"/O/O, \"to\"/O/O, \"take\"/O/O, \"it\"/O/O, \"i\"/B-Symptom/B-Reduced_mobility, \"cant\"/I-Symptom/I-Reduced_mobility, \"stand\"/I-Symptom/I-Reduced_mobility, \"or\"/I-Symptom/I-Reduced_mobility, \"walk\"/I-Symptom/I-Reduced_mobility, \"for\"/I-Symptom/I-Reduced_mobility, \"any\"/I-Symptom/I-Reduced_mobility, \"lengths\"/I-Symptom/I-Reduced_mobility, \"of\"/I-Symptom/I-Reduced_mobility, \"time\"/I-Symptom/I-Reduced_mobility, \".\"/O/O],\n",
              " Sentence[89]: \"it seems as if bleeding forever is a side effect but doctors tell you that its not the drug . i have been on arthotec for three months i still have pain and stiffness . at first week into this drug i was in so much pain i sat on the floor at work and thought i was gaving a baby . i always feel weak and almost fainted a bunch of times . consider somthing that works i am switching today as this isnt in my head .\" → [\"it\"/O/O, \"seems\"/O/O, \"as\"/O/O, \"if\"/O/O, \"bleeding\"/B-ADR/B-Bleeding, \"forever\"/O/O, \"is\"/O/O, \"a\"/O/O, \"side\"/O/O, \"effect\"/O/O, \"but\"/O/O, \"doctors\"/O/O, \"tell\"/O/O, \"you\"/O/O, \"that\"/O/O, \"its\"/O/O, \"not\"/O/O, \"the\"/O/O, \"drug\"/O/O, \".\"/O/O, \"i\"/O/O, \"have\"/O/O, \"been\"/O/O, \"on\"/O/O, \"arthotec\"/B-Drug/B-Arthrotec, \"for\"/O/O, \"three\"/O/O, \"months\"/O/O, \"i\"/O/O, \"still\"/O/O, \"have\"/O/O, \"pain\"/B-Symptom/B-Pain, \"and\"/I-Symptom/I-Pain, \"stiffness\"/I-Symptom/I-Pain, \".\"/O/O, \"at\"/O/O, \"first\"/O/O, \"week\"/O/O, \"into\"/O/O, \"this\"/O/O, \"drug\"/O/O, \"i\"/O/O, \"was\"/O/O, \"in\"/O/O, \"so\"/B-ADR/B-Pain, \"much\"/I-ADR/I-Pain, \"pain\"/I-ADR/I-Pain, \"i\"/O/O, \"sat\"/O/O, \"on\"/O/O, \"the\"/O/O, \"floor\"/O/O, \"at\"/O/O, \"work\"/O/O, \"and\"/O/O, \"thought\"/O/O, \"i\"/O/O, \"was\"/O/O, \"gaving\"/O/O, \"a\"/O/O, \"baby\"/O/O, \".\"/O/O, \"i\"/O/O, \"always\"/O/O, \"feel\"/B-ADR/B-Malaise_and_fatigue, \"weak\"/I-ADR/I-Malaise_and_fatigue, \"and\"/I-ADR/I-Malaise_and_fatigue, \"almost\"/I-ADR/I-Malaise_and_fatigue, \"fainted\"/I-ADR/I-Malaise_and_fatigue, \"a\"/O/O, \"bunch\"/O/O, \"of\"/O/O, \"times\"/O/O, \".\"/O/O, \"consider\"/O/O, \"somthing\"/O/O, \"that\"/O/O, \"works\"/O/O, \"i\"/O/O, \"am\"/O/O, \"switching\"/O/O, \"today\"/O/O, \"as\"/O/O, \"this\"/O/O, \"isnt\"/O/O, \"in\"/O/O, \"my\"/O/O, \"head\"/O/O, \".\"/O/O],\n",
              " Sentence[56]: \"some diarrhea , some constipation , fatigue . it works very well for the heel ; i couldnt walk on it very well before taking it . i take 75mg . twice a day . also have severe osteoarthritis in the knees and hands , but it doesnt seem to relieve that pain at all .\" → [\"some\"/O/O, \"diarrhea\"/B-ADR/B-Diarrhoea, \",\"/O/O, \"some\"/O/O, \"constipation\"/B-ADR/B-Constipation, \",\"/O/O, \"fatigue\"/B-ADR/B-Fatigue, \".\"/O/O, \"it\"/O/O, \"works\"/O/O, \"very\"/O/O, \"well\"/O/O, \"for\"/O/O, \"the\"/B-Symptom/B-Walking_disability, \"heel\"/I-Symptom/I-Walking_disability, \";\"/O/O, \"i\"/I-Symptom/I-Walking_disability, \"couldnt\"/I-Symptom/I-Walking_disability, \"walk\"/I-Symptom/I-Walking_disability, \"on\"/I-Symptom/I-Walking_disability, \"it\"/O/O, \"very\"/I-Symptom/I-Walking_disability, \"well\"/I-Symptom/I-Walking_disability, \"before\"/O/O, \"taking\"/O/O, \"it\"/O/O, \".\"/O/O, \"i\"/O/O, \"take\"/O/O, \"75mg\"/O/O, \".\"/O/O, \"twice\"/O/O, \"a\"/O/O, \"day\"/O/O, \".\"/O/O, \"also\"/O/O, \"have\"/O/O, \"severe\"/B-Disease/B-Osteoarthritis_of_knee/B-Osteoarthrosis_of_hand, \"osteoarthritis\"/I-Disease/I-Osteoarthritis_of_knee/I-Osteoarthrosis_of_hand, \"in\"/I-Disease/I-Osteoarthritis_of_knee/I-Osteoarthrosis_of_hand, \"the\"/I-Disease/I-Osteoarthritis_of_knee/I-Osteoarthrosis_of_hand, \"knees\"/I-Disease/I-Osteoarthritis_of_knee, \"and\"/O/O, \"hands\"/I-Disease/I-Osteoarthrosis_of_hand, \",\"/O/O, \"but\"/O/O, \"it\"/O/O, \"doesnt\"/O/O, \"seem\"/O/O, \"to\"/O/O, \"relieve\"/O/O, \"that\"/O/O, \"pain\"/B-Symptom/B-Pain, \"at\"/O/O, \"all\"/O/O, \".\"/O/O],\n",
              " Sentence[84]: \"ive been on 75mg twice daily for 13 days , with recent body swelling , face , wrists , abdomen , thighs - clothes fit tight . insomina is much worse . i have forgetfulnes and confussion - really bad - almost dangerous . have felt \" empty stomach \" feeling , but not bothersome . have had more loose stools , but tolerable . im looking for a more natural therapy , checking into ha ( hyaluronic acid ) to replace arthrotec .\" → [\"ive\"/O/O, \"been\"/O/O, \"on\"/O/O, \"75mg\"/O/O, \"twice\"/O/O, \"daily\"/O/O, \"for\"/O/O, \"13\"/O/O, \"days\"/O/O, \",\"/O/O, \"with\"/O/O, \"recent\"/O/O, \"body\"/B-ADR/B-Swelling_of_body_region, \"swelling\"/B-ADR/I-ADR/B-Abdominal_swelling/B-Facial_swelling/I-Swelling_of_body_region/B-Swelling_of_lower_limb/B-Swelling_of_wrist_joint, \",\"/O/O, \"face\"/I-ADR/I-Facial_swelling, \",\"/O/O, \"wrists\"/I-ADR/I-Swelling_of_wrist_joint, \",\"/O/O, \"abdomen\"/I-ADR/I-Abdominal_swelling, \",\"/O/O, \"thighs\"/I-ADR/I-Swelling_of_lower_limb, \"-\"/O/O, \"clothes\"/O/O, \"fit\"/O/O, \"tight\"/O/O, \".\"/O/O, \"insomina\"/B-ADR/B-Insomnia, \"is\"/O/O, \"much\"/O/O, \"worse\"/O/O, \".\"/O/O, \"i\"/O/O, \"have\"/O/O, \"forgetfulnes\"/B-ADR/B-Forgetful, \"and\"/I-ADR/I-Forgetful, \"confussion\"/I-ADR/I-Forgetful, \"-\"/O/O, \"really\"/O/O, \"bad\"/O/O, \"-\"/O/O, \"almost\"/O/O, \"dangerous\"/O/O, \".\"/O/O, \"have\"/O/O, \"felt\"/O/O, \"\"\"/B-ADR/B-Feeling_empty, \"empty\"/I-ADR/I-Feeling_empty, \"stomach\"/I-ADR/I-Feeling_empty, \"\"\"/I-ADR/I-Feeling_empty, \"feeling\"/I-ADR/I-Feeling_empty, \",\"/O/O, \"but\"/O/O, \"not\"/O/O, \"bothersome\"/O/O, \".\"/O/O, \"have\"/O/O, \"had\"/O/O, \"more\"/O/O, \"loose\"/B-ADR/B-Loose_stool, \"stools\"/I-ADR/I-Loose_stool, \",\"/O/O, \"but\"/O/O, \"tolerable\"/O/O, \".\"/O/O, \"im\"/O/O, \"looking\"/O/O, \"for\"/O/O, \"a\"/O/O, \"more\"/O/O, \"natural\"/O/O, \"therapy\"/O/O, \",\"/O/O, \"checking\"/O/O, \"into\"/O/O, \"ha\"/B-Drug/B-CONCEPT_LESS, \"(\"/I-Drug/I-CONCEPT_LESS, \"hyaluronic\"/I-Drug/I-CONCEPT_LESS, \"acid\"/I-Drug/I-CONCEPT_LESS, \")\"/I-Drug/I-CONCEPT_LESS, \"to\"/O/O, \"replace\"/O/O, \"arthrotec\"/B-Drug/B-Arthrotec, \".\"/O/O],\n",
              " Sentence[68]: \"none that i can think of . i recently had bilateral knee replacement . prior to that , arthrotec was the only drug that helped . i tried every drug on the market , but , to no avail . i took 50 mg . 3 times a day of arthrotec and was almost pain free . i highly recommend it to anyone that suffers from arthritis .\" → [\"none\"/O/O, \"that\"/O/O, \"i\"/O/O, \"can\"/O/O, \"think\"/O/O, \"of\"/O/O, \".\"/O/O, \"i\"/O/O, \"recently\"/O/O, \"had\"/O/O, \"bilateral\"/O/O, \"knee\"/O/O, \"replacement\"/O/O, \".\"/O/O, \"prior\"/O/O, \"to\"/O/O, \"that\"/O/O, \",\"/O/O, \"arthrotec\"/B-Drug/B-Arthrotec, \"was\"/O/O, \"the\"/O/O, \"only\"/O/O, \"drug\"/O/O, \"that\"/O/O, \"helped\"/O/O, \".\"/O/O, \"i\"/O/O, \"tried\"/O/O, \"every\"/O/O, \"drug\"/O/O, \"on\"/O/O, \"the\"/O/O, \"market\"/O/O, \",\"/O/O, \"but\"/O/O, \",\"/O/O, \"to\"/O/O, \"no\"/O/O, \"avail\"/O/O, \".\"/O/O, \"i\"/O/O, \"took\"/O/O, \"50\"/O/O, \"mg\"/O/O, \".\"/O/O, \"3\"/O/O, \"times\"/O/O, \"a\"/O/O, \"day\"/O/O, \"of\"/O/O, \"arthrotec\"/B-Drug/B-Arthrotec, \"and\"/O/O, \"was\"/O/O, \"almost\"/O/O, \"pain\"/B-Symptom/B-Pain, \"free\"/O/O, \".\"/O/O, \"i\"/O/O, \"highly\"/O/O, \"recommend\"/O/O, \"it\"/O/O, \"to\"/O/O, \"anyone\"/O/O, \"that\"/O/O, \"suffers\"/O/O, \"from\"/O/O, \"arthritis\"/B-Finding/B-Arthritis, \".\"/O/O],\n",
              " Sentence[28]: \"hospitalization due extreme rectal bleed that required blood transfusion . i was extremely sick and initially felt i might not survive . should be removed from market .\" → [\"hospitalization\"/O/O, \"due\"/O/O, \"extreme\"/O/O, \"rectal\"/B-ADR/B-Rectal_haemorrhage, \"bleed\"/I-ADR/I-Rectal_haemorrhage, \"that\"/O/O, \"required\"/O/O, \"blood\"/O/O, \"transfusion\"/O/O, \".\"/O/O, \"i\"/O/O, \"was\"/O/O, \"extremely\"/B-ADR/B-Generally_unwell, \"sick\"/I-ADR/I-Generally_unwell, \"and\"/O/O, \"initially\"/O/O, \"felt\"/B-ADR/B-CONCEPT_LESS, \"i\"/I-ADR/I-CONCEPT_LESS, \"might\"/I-ADR/I-CONCEPT_LESS, \"not\"/I-ADR/I-CONCEPT_LESS, \"survive\"/I-ADR/I-CONCEPT_LESS, \".\"/O/O, \"should\"/O/O, \"be\"/O/O, \"removed\"/O/O, \"from\"/O/O, \"market\"/O/O, \".\"/O/O]]"
            ]
          },
          "metadata": {},
          "execution_count": 8
        }
      ],
      "source": [
        "with open(data_save_dir+'/cadec_flair_objects.pkl', 'rb') as f:\n",
        "    docs = pickle.load(f)\n",
        "docs[:10]"
      ]
    },
    {
      "cell_type": "code",
      "execution_count": 9,
      "metadata": {
        "colab": {
          "base_uri": "https://localhost:8080/"
        },
        "id": "sW10pPAPtGij",
        "outputId": "0cbd1c40-e1ee-436b-af29-e04f0e1c74d7"
      },
      "outputs": [
        {
          "output_type": "execute_result",
          "data": {
            "text/plain": [
              "1186"
            ]
          },
          "metadata": {},
          "execution_count": 9
        }
      ],
      "source": [
        "len(docs)"
      ]
    },
    {
      "cell_type": "code",
      "execution_count": 10,
      "metadata": {
        "colab": {
          "base_uri": "https://localhost:8080/"
        },
        "id": "EMT5TsNStGij",
        "outputId": "6ba1b17d-9007-4ce5-a696-7490597ce3c6"
      },
      "outputs": [
        {
          "output_type": "execute_result",
          "data": {
            "text/plain": [
              "Sentence[117]: \"i feel a bit drowsy & have a little blurred vision , so far no gastric problems . ive been on arthrotec 50 for over 10 years on and off , only taking it when i needed it . due to my arthritis getting progressively worse , to the point where i am in tears with the agony , gp ' s started me on 75 twice a day and i have to take it . every day for the next month to see how i get on , here goes . so far its been very good , pains almost gone , but i feel a bit weird , didnt have that when on 50 .\" → [\"i\"/O/O, \"feel\"/O/O, \"a\"/O/O, \"bit\"/B-ADR/B-Drowsy, \"drowsy\"/I-ADR/I-Drowsy, \"&\"/O/O, \"have\"/O/O, \"a\"/O/O, \"little\"/B-ADR/B-Blurred_vision_-_hazy, \"blurred\"/I-ADR/I-Blurred_vision_-_hazy, \"vision\"/I-ADR/I-Blurred_vision_-_hazy, \",\"/O/O, \"so\"/O/O, \"far\"/O/O, \"no\"/O/O, \"gastric\"/B-ADR/B-Excessive_upper_gastrointestinal_gas, \"problems\"/I-ADR/I-Excessive_upper_gastrointestinal_gas, \".\"/O/O, \"ive\"/O/O, \"been\"/O/O, \"on\"/O/O, \"arthrotec\"/B-Drug/B-Arthrotec, \"50\"/O/O, \"for\"/O/O, \"over\"/O/O, \"10\"/O/O, \"years\"/O/O, \"on\"/O/O, \"and\"/O/O, \"off\"/O/O, \",\"/O/O, \"only\"/O/O, \"taking\"/O/O, \"it\"/O/O, \"when\"/O/O, \"i\"/O/O, \"needed\"/O/O, \"it\"/O/O, \".\"/O/O, \"due\"/O/O, \"to\"/O/O, \"my\"/O/O, \"arthritis\"/B-Disease/B-Arthritis, \"getting\"/O/O, \"progressively\"/O/O, \"worse\"/O/O, \",\"/O/O, \"to\"/O/O, \"the\"/O/O, \"point\"/O/O, \"where\"/O/O, \"i\"/O/O, \"am\"/O/O, \"in\"/O/O, \"tears\"/O/O, \"with\"/O/O, \"the\"/O/O, \"agony\"/B-Symptom/B-Agony, \",\"/O/O, \"gp\"/O/O, \"'\"/O/O, \"s\"/O/O, \"started\"/O/O, \"me\"/O/O, \"on\"/O/O, \"75\"/O/O, \"twice\"/O/O, \"a\"/O/O, \"day\"/O/O, \"and\"/O/O, \"i\"/O/O, \"have\"/O/O, \"to\"/O/O, \"take\"/O/O, \"it\"/O/O, \".\"/O/O, \"every\"/O/O, \"day\"/O/O, \"for\"/O/O, \"the\"/O/O, \"next\"/O/O, \"month\"/O/O, \"to\"/O/O, \"see\"/O/O, \"how\"/O/O, \"i\"/O/O, \"get\"/O/O, \"on\"/O/O, \",\"/O/O, \"here\"/O/O, \"goes\"/O/O, \".\"/O/O, \"so\"/O/O, \"far\"/O/O, \"its\"/O/O, \"been\"/O/O, \"very\"/O/O, \"good\"/O/O, \",\"/O/O, \"pains\"/B-Symptom/B-Pain, \"almost\"/O/O, \"gone\"/O/O, \",\"/O/O, \"but\"/O/O, \"i\"/O/O, \"feel\"/B-ADR/B-Malaise, \"a\"/I-ADR/I-Malaise, \"bit\"/I-ADR/I-Malaise, \"weird\"/I-ADR/I-Malaise, \",\"/O/O, \"didnt\"/O/O, \"have\"/O/O, \"that\"/O/O, \"when\"/O/O, \"on\"/O/O, \"50\"/O/O, \".\"/O/O]"
            ]
          },
          "metadata": {},
          "execution_count": 10
        }
      ],
      "source": [
        "temp = docs[0]\n",
        "temp"
      ]
    },
    {
      "cell_type": "code",
      "execution_count": 11,
      "metadata": {
        "colab": {
          "base_uri": "https://localhost:8080/"
        },
        "id": "2EeTdfHstGij",
        "outputId": "807397b8-f283-4426-f1e8-f05f2b7ae695"
      },
      "outputs": [
        {
          "output_type": "execute_result",
          "data": {
            "text/plain": [
              "{'ner': ['Token[0]: \"i\"'/'O' (1.0),\n",
              "  'Token[1]: \"feel\"'/'O' (1.0),\n",
              "  'Token[2]: \"a\"'/'O' (1.0),\n",
              "  'Token[3]: \"bit\"'/'B-ADR' (1.0),\n",
              "  'Token[4]: \"drowsy\"'/'I-ADR' (1.0),\n",
              "  'Token[5]: \"&\"'/'O' (1.0),\n",
              "  'Token[6]: \"have\"'/'O' (1.0),\n",
              "  'Token[7]: \"a\"'/'O' (1.0),\n",
              "  'Token[8]: \"little\"'/'B-ADR' (1.0),\n",
              "  'Token[9]: \"blurred\"'/'I-ADR' (1.0),\n",
              "  'Token[10]: \"vision\"'/'I-ADR' (1.0),\n",
              "  'Token[11]: \",\"'/'O' (1.0),\n",
              "  'Token[12]: \"so\"'/'O' (1.0),\n",
              "  'Token[13]: \"far\"'/'O' (1.0),\n",
              "  'Token[14]: \"no\"'/'O' (1.0),\n",
              "  'Token[15]: \"gastric\"'/'B-ADR' (1.0),\n",
              "  'Token[16]: \"problems\"'/'I-ADR' (1.0),\n",
              "  'Token[17]: \".\"'/'O' (1.0),\n",
              "  'Token[18]: \"ive\"'/'O' (1.0),\n",
              "  'Token[19]: \"been\"'/'O' (1.0),\n",
              "  'Token[20]: \"on\"'/'O' (1.0),\n",
              "  'Token[21]: \"arthrotec\"'/'B-Drug' (1.0),\n",
              "  'Token[22]: \"50\"'/'O' (1.0),\n",
              "  'Token[23]: \"for\"'/'O' (1.0),\n",
              "  'Token[24]: \"over\"'/'O' (1.0),\n",
              "  'Token[25]: \"10\"'/'O' (1.0),\n",
              "  'Token[26]: \"years\"'/'O' (1.0),\n",
              "  'Token[27]: \"on\"'/'O' (1.0),\n",
              "  'Token[28]: \"and\"'/'O' (1.0),\n",
              "  'Token[29]: \"off\"'/'O' (1.0),\n",
              "  'Token[30]: \",\"'/'O' (1.0),\n",
              "  'Token[31]: \"only\"'/'O' (1.0),\n",
              "  'Token[32]: \"taking\"'/'O' (1.0),\n",
              "  'Token[33]: \"it\"'/'O' (1.0),\n",
              "  'Token[34]: \"when\"'/'O' (1.0),\n",
              "  'Token[35]: \"i\"'/'O' (1.0),\n",
              "  'Token[36]: \"needed\"'/'O' (1.0),\n",
              "  'Token[37]: \"it\"'/'O' (1.0),\n",
              "  'Token[38]: \".\"'/'O' (1.0),\n",
              "  'Token[39]: \"due\"'/'O' (1.0),\n",
              "  'Token[40]: \"to\"'/'O' (1.0),\n",
              "  'Token[41]: \"my\"'/'O' (1.0),\n",
              "  'Token[42]: \"arthritis\"'/'B-Disease' (1.0),\n",
              "  'Token[43]: \"getting\"'/'O' (1.0),\n",
              "  'Token[44]: \"progressively\"'/'O' (1.0),\n",
              "  'Token[45]: \"worse\"'/'O' (1.0),\n",
              "  'Token[46]: \",\"'/'O' (1.0),\n",
              "  'Token[47]: \"to\"'/'O' (1.0),\n",
              "  'Token[48]: \"the\"'/'O' (1.0),\n",
              "  'Token[49]: \"point\"'/'O' (1.0),\n",
              "  'Token[50]: \"where\"'/'O' (1.0),\n",
              "  'Token[51]: \"i\"'/'O' (1.0),\n",
              "  'Token[52]: \"am\"'/'O' (1.0),\n",
              "  'Token[53]: \"in\"'/'O' (1.0),\n",
              "  'Token[54]: \"tears\"'/'O' (1.0),\n",
              "  'Token[55]: \"with\"'/'O' (1.0),\n",
              "  'Token[56]: \"the\"'/'O' (1.0),\n",
              "  'Token[57]: \"agony\"'/'B-Symptom' (1.0),\n",
              "  'Token[58]: \",\"'/'O' (1.0),\n",
              "  'Token[59]: \"gp\"'/'O' (1.0),\n",
              "  'Token[60]: \"'\"'/'O' (1.0),\n",
              "  'Token[61]: \"s\"'/'O' (1.0),\n",
              "  'Token[62]: \"started\"'/'O' (1.0),\n",
              "  'Token[63]: \"me\"'/'O' (1.0),\n",
              "  'Token[64]: \"on\"'/'O' (1.0),\n",
              "  'Token[65]: \"75\"'/'O' (1.0),\n",
              "  'Token[66]: \"twice\"'/'O' (1.0),\n",
              "  'Token[67]: \"a\"'/'O' (1.0),\n",
              "  'Token[68]: \"day\"'/'O' (1.0),\n",
              "  'Token[69]: \"and\"'/'O' (1.0),\n",
              "  'Token[70]: \"i\"'/'O' (1.0),\n",
              "  'Token[71]: \"have\"'/'O' (1.0),\n",
              "  'Token[72]: \"to\"'/'O' (1.0),\n",
              "  'Token[73]: \"take\"'/'O' (1.0),\n",
              "  'Token[74]: \"it\"'/'O' (1.0),\n",
              "  'Token[75]: \".\"'/'O' (1.0),\n",
              "  'Token[76]: \"every\"'/'O' (1.0),\n",
              "  'Token[77]: \"day\"'/'O' (1.0),\n",
              "  'Token[78]: \"for\"'/'O' (1.0),\n",
              "  'Token[79]: \"the\"'/'O' (1.0),\n",
              "  'Token[80]: \"next\"'/'O' (1.0),\n",
              "  'Token[81]: \"month\"'/'O' (1.0),\n",
              "  'Token[82]: \"to\"'/'O' (1.0),\n",
              "  'Token[83]: \"see\"'/'O' (1.0),\n",
              "  'Token[84]: \"how\"'/'O' (1.0),\n",
              "  'Token[85]: \"i\"'/'O' (1.0),\n",
              "  'Token[86]: \"get\"'/'O' (1.0),\n",
              "  'Token[87]: \"on\"'/'O' (1.0),\n",
              "  'Token[88]: \",\"'/'O' (1.0),\n",
              "  'Token[89]: \"here\"'/'O' (1.0),\n",
              "  'Token[90]: \"goes\"'/'O' (1.0),\n",
              "  'Token[91]: \".\"'/'O' (1.0),\n",
              "  'Token[92]: \"so\"'/'O' (1.0),\n",
              "  'Token[93]: \"far\"'/'O' (1.0),\n",
              "  'Token[94]: \"its\"'/'O' (1.0),\n",
              "  'Token[95]: \"been\"'/'O' (1.0),\n",
              "  'Token[96]: \"very\"'/'O' (1.0),\n",
              "  'Token[97]: \"good\"'/'O' (1.0),\n",
              "  'Token[98]: \",\"'/'O' (1.0),\n",
              "  'Token[99]: \"pains\"'/'B-Symptom' (1.0),\n",
              "  'Token[100]: \"almost\"'/'O' (1.0),\n",
              "  'Token[101]: \"gone\"'/'O' (1.0),\n",
              "  'Token[102]: \",\"'/'O' (1.0),\n",
              "  'Token[103]: \"but\"'/'O' (1.0),\n",
              "  'Token[104]: \"i\"'/'O' (1.0),\n",
              "  'Token[105]: \"feel\"'/'B-ADR' (1.0),\n",
              "  'Token[106]: \"a\"'/'I-ADR' (1.0),\n",
              "  'Token[107]: \"bit\"'/'I-ADR' (1.0),\n",
              "  'Token[108]: \"weird\"'/'I-ADR' (1.0),\n",
              "  'Token[109]: \",\"'/'O' (1.0),\n",
              "  'Token[110]: \"didnt\"'/'O' (1.0),\n",
              "  'Token[111]: \"have\"'/'O' (1.0),\n",
              "  'Token[112]: \"that\"'/'O' (1.0),\n",
              "  'Token[113]: \"when\"'/'O' (1.0),\n",
              "  'Token[114]: \"on\"'/'O' (1.0),\n",
              "  'Token[115]: \"50\"'/'O' (1.0),\n",
              "  'Token[116]: \".\"'/'O' (1.0)],\n",
              " 'meddra': ['Token[0]: \"i\"'/'O' (1.0),\n",
              "  'Token[1]: \"feel\"'/'O' (1.0),\n",
              "  'Token[2]: \"a\"'/'O' (1.0),\n",
              "  'Token[3]: \"bit\"'/'B-Drowsy' (1.0),\n",
              "  'Token[4]: \"drowsy\"'/'I-Drowsy' (1.0),\n",
              "  'Token[5]: \"&\"'/'O' (1.0),\n",
              "  'Token[6]: \"have\"'/'O' (1.0),\n",
              "  'Token[7]: \"a\"'/'O' (1.0),\n",
              "  'Token[8]: \"little\"'/'B-Blurred_vision_-_hazy' (1.0),\n",
              "  'Token[9]: \"blurred\"'/'I-Blurred_vision_-_hazy' (1.0),\n",
              "  'Token[10]: \"vision\"'/'I-Blurred_vision_-_hazy' (1.0),\n",
              "  'Token[11]: \",\"'/'O' (1.0),\n",
              "  'Token[12]: \"so\"'/'O' (1.0),\n",
              "  'Token[13]: \"far\"'/'O' (1.0),\n",
              "  'Token[14]: \"no\"'/'O' (1.0),\n",
              "  'Token[15]: \"gastric\"'/'B-Excessive_upper_gastrointestinal_gas' (1.0),\n",
              "  'Token[16]: \"problems\"'/'I-Excessive_upper_gastrointestinal_gas' (1.0),\n",
              "  'Token[17]: \".\"'/'O' (1.0),\n",
              "  'Token[18]: \"ive\"'/'O' (1.0),\n",
              "  'Token[19]: \"been\"'/'O' (1.0),\n",
              "  'Token[20]: \"on\"'/'O' (1.0),\n",
              "  'Token[21]: \"arthrotec\"'/'B-Arthrotec' (1.0),\n",
              "  'Token[22]: \"50\"'/'O' (1.0),\n",
              "  'Token[23]: \"for\"'/'O' (1.0),\n",
              "  'Token[24]: \"over\"'/'O' (1.0),\n",
              "  'Token[25]: \"10\"'/'O' (1.0),\n",
              "  'Token[26]: \"years\"'/'O' (1.0),\n",
              "  'Token[27]: \"on\"'/'O' (1.0),\n",
              "  'Token[28]: \"and\"'/'O' (1.0),\n",
              "  'Token[29]: \"off\"'/'O' (1.0),\n",
              "  'Token[30]: \",\"'/'O' (1.0),\n",
              "  'Token[31]: \"only\"'/'O' (1.0),\n",
              "  'Token[32]: \"taking\"'/'O' (1.0),\n",
              "  'Token[33]: \"it\"'/'O' (1.0),\n",
              "  'Token[34]: \"when\"'/'O' (1.0),\n",
              "  'Token[35]: \"i\"'/'O' (1.0),\n",
              "  'Token[36]: \"needed\"'/'O' (1.0),\n",
              "  'Token[37]: \"it\"'/'O' (1.0),\n",
              "  'Token[38]: \".\"'/'O' (1.0),\n",
              "  'Token[39]: \"due\"'/'O' (1.0),\n",
              "  'Token[40]: \"to\"'/'O' (1.0),\n",
              "  'Token[41]: \"my\"'/'O' (1.0),\n",
              "  'Token[42]: \"arthritis\"'/'B-Arthritis' (1.0),\n",
              "  'Token[43]: \"getting\"'/'O' (1.0),\n",
              "  'Token[44]: \"progressively\"'/'O' (1.0),\n",
              "  'Token[45]: \"worse\"'/'O' (1.0),\n",
              "  'Token[46]: \",\"'/'O' (1.0),\n",
              "  'Token[47]: \"to\"'/'O' (1.0),\n",
              "  'Token[48]: \"the\"'/'O' (1.0),\n",
              "  'Token[49]: \"point\"'/'O' (1.0),\n",
              "  'Token[50]: \"where\"'/'O' (1.0),\n",
              "  'Token[51]: \"i\"'/'O' (1.0),\n",
              "  'Token[52]: \"am\"'/'O' (1.0),\n",
              "  'Token[53]: \"in\"'/'O' (1.0),\n",
              "  'Token[54]: \"tears\"'/'O' (1.0),\n",
              "  'Token[55]: \"with\"'/'O' (1.0),\n",
              "  'Token[56]: \"the\"'/'O' (1.0),\n",
              "  'Token[57]: \"agony\"'/'B-Agony' (1.0),\n",
              "  'Token[58]: \",\"'/'O' (1.0),\n",
              "  'Token[59]: \"gp\"'/'O' (1.0),\n",
              "  'Token[60]: \"'\"'/'O' (1.0),\n",
              "  'Token[61]: \"s\"'/'O' (1.0),\n",
              "  'Token[62]: \"started\"'/'O' (1.0),\n",
              "  'Token[63]: \"me\"'/'O' (1.0),\n",
              "  'Token[64]: \"on\"'/'O' (1.0),\n",
              "  'Token[65]: \"75\"'/'O' (1.0),\n",
              "  'Token[66]: \"twice\"'/'O' (1.0),\n",
              "  'Token[67]: \"a\"'/'O' (1.0),\n",
              "  'Token[68]: \"day\"'/'O' (1.0),\n",
              "  'Token[69]: \"and\"'/'O' (1.0),\n",
              "  'Token[70]: \"i\"'/'O' (1.0),\n",
              "  'Token[71]: \"have\"'/'O' (1.0),\n",
              "  'Token[72]: \"to\"'/'O' (1.0),\n",
              "  'Token[73]: \"take\"'/'O' (1.0),\n",
              "  'Token[74]: \"it\"'/'O' (1.0),\n",
              "  'Token[75]: \".\"'/'O' (1.0),\n",
              "  'Token[76]: \"every\"'/'O' (1.0),\n",
              "  'Token[77]: \"day\"'/'O' (1.0),\n",
              "  'Token[78]: \"for\"'/'O' (1.0),\n",
              "  'Token[79]: \"the\"'/'O' (1.0),\n",
              "  'Token[80]: \"next\"'/'O' (1.0),\n",
              "  'Token[81]: \"month\"'/'O' (1.0),\n",
              "  'Token[82]: \"to\"'/'O' (1.0),\n",
              "  'Token[83]: \"see\"'/'O' (1.0),\n",
              "  'Token[84]: \"how\"'/'O' (1.0),\n",
              "  'Token[85]: \"i\"'/'O' (1.0),\n",
              "  'Token[86]: \"get\"'/'O' (1.0),\n",
              "  'Token[87]: \"on\"'/'O' (1.0),\n",
              "  'Token[88]: \",\"'/'O' (1.0),\n",
              "  'Token[89]: \"here\"'/'O' (1.0),\n",
              "  'Token[90]: \"goes\"'/'O' (1.0),\n",
              "  'Token[91]: \".\"'/'O' (1.0),\n",
              "  'Token[92]: \"so\"'/'O' (1.0),\n",
              "  'Token[93]: \"far\"'/'O' (1.0),\n",
              "  'Token[94]: \"its\"'/'O' (1.0),\n",
              "  'Token[95]: \"been\"'/'O' (1.0),\n",
              "  'Token[96]: \"very\"'/'O' (1.0),\n",
              "  'Token[97]: \"good\"'/'O' (1.0),\n",
              "  'Token[98]: \",\"'/'O' (1.0),\n",
              "  'Token[99]: \"pains\"'/'B-Pain' (1.0),\n",
              "  'Token[100]: \"almost\"'/'O' (1.0),\n",
              "  'Token[101]: \"gone\"'/'O' (1.0),\n",
              "  'Token[102]: \",\"'/'O' (1.0),\n",
              "  'Token[103]: \"but\"'/'O' (1.0),\n",
              "  'Token[104]: \"i\"'/'O' (1.0),\n",
              "  'Token[105]: \"feel\"'/'B-Malaise' (1.0),\n",
              "  'Token[106]: \"a\"'/'I-Malaise' (1.0),\n",
              "  'Token[107]: \"bit\"'/'I-Malaise' (1.0),\n",
              "  'Token[108]: \"weird\"'/'I-Malaise' (1.0),\n",
              "  'Token[109]: \",\"'/'O' (1.0),\n",
              "  'Token[110]: \"didnt\"'/'O' (1.0),\n",
              "  'Token[111]: \"have\"'/'O' (1.0),\n",
              "  'Token[112]: \"that\"'/'O' (1.0),\n",
              "  'Token[113]: \"when\"'/'O' (1.0),\n",
              "  'Token[114]: \"on\"'/'O' (1.0),\n",
              "  'Token[115]: \"50\"'/'O' (1.0),\n",
              "  'Token[116]: \".\"'/'O' (1.0)]}"
            ]
          },
          "metadata": {},
          "execution_count": 11
        }
      ],
      "source": [
        "temp.annotation_layers"
      ]
    },
    {
      "cell_type": "code",
      "execution_count": 12,
      "metadata": {
        "id": "4CsGKKB6tGik"
      },
      "outputs": [],
      "source": [
        "\n",
        "# define your NER tags\n",
        "label_dict = {\n",
        "    'ADR': 'ADR',\n",
        "    'Drug': 'Drug',\n",
        "    'Finding': 'Finding',\n",
        "    'Symptom': 'Symptom',\n",
        "    'Disease': 'Disease'\n",
        "}"
      ]
    },
    {
      "cell_type": "code",
      "execution_count": 13,
      "metadata": {
        "colab": {
          "base_uri": "https://localhost:8080/"
        },
        "id": "QmNsy8AltGik",
        "outputId": "671aee57-a48f-4bbe-eed6-52f6b1b4e11d"
      },
      "outputs": [
        {
          "output_type": "stream",
          "name": "stdout",
          "text": [
            "2023-04-21 06:31:48,992 Filtering empty sentences\n",
            "2023-04-21 06:31:49,044 Corpus: 948 train + 119 dev + 119 test sentences\n",
            "2023-04-21 06:31:49,046 Computing label dictionary. Progress:\n"
          ]
        },
        {
          "output_type": "stream",
          "name": "stderr",
          "text": [
            "948it [00:00, 6694.00it/s]"
          ]
        },
        {
          "output_type": "stream",
          "name": "stdout",
          "text": [
            "2023-04-21 06:31:49,195 Dictionary created for label 'ner' with 12 values: O (seen 79057 times), I-ADR (seen 7953 times), B-ADR (seen 4712 times), B-Drug (seen 1396 times), I-Finding (seen 349 times), B-Finding (seen 309 times), B-Disease (seen 231 times), B-Symptom (seen 222 times), I-Symptom (seen 218 times), I-Disease (seen 169 times), I-Drug (seen 161 times)\n",
            "False\n"
          ]
        },
        {
          "output_type": "stream",
          "name": "stderr",
          "text": [
            "\n"
          ]
        },
        {
          "output_type": "stream",
          "name": "stdout",
          "text": [
            "2023-04-21 06:31:50,201 https://flair.informatik.hu-berlin.de/resources/embeddings/token/glove.gensim.vectors.npy not found in cache, downloading to /tmp/tmpipnmabm9\n"
          ]
        },
        {
          "output_type": "stream",
          "name": "stderr",
          "text": [
            "100%|██████████| 153M/153M [00:13<00:00, 12.1MB/s]"
          ]
        },
        {
          "output_type": "stream",
          "name": "stdout",
          "text": [
            "2023-04-21 06:32:04,051 copying /tmp/tmpipnmabm9 to cache at /root/.flair/embeddings/glove.gensim.vectors.npy\n"
          ]
        },
        {
          "output_type": "stream",
          "name": "stderr",
          "text": [
            "\n"
          ]
        },
        {
          "output_type": "stream",
          "name": "stdout",
          "text": [
            "2023-04-21 06:32:04,170 removing temp file /tmp/tmpipnmabm9\n",
            "2023-04-21 06:32:04,849 https://flair.informatik.hu-berlin.de/resources/embeddings/token/glove.gensim not found in cache, downloading to /tmp/tmpzgid3gn8\n"
          ]
        },
        {
          "output_type": "stream",
          "name": "stderr",
          "text": [
            "100%|██████████| 20.5M/20.5M [00:02<00:00, 7.25MB/s]"
          ]
        },
        {
          "output_type": "stream",
          "name": "stdout",
          "text": [
            "2023-04-21 06:32:08,464 copying /tmp/tmpzgid3gn8 to cache at /root/.flair/embeddings/glove.gensim\n",
            "2023-04-21 06:32:08,482 removing temp file /tmp/tmpzgid3gn8\n"
          ]
        },
        {
          "output_type": "stream",
          "name": "stderr",
          "text": [
            "\n"
          ]
        },
        {
          "output_type": "stream",
          "name": "stdout",
          "text": [
            "2023-04-21 06:32:19,351 https://flair.informatik.hu-berlin.de/resources/embeddings/flair/news-forward-0.4.1.pt not found in cache, downloading to /tmp/tmp7igsemf4\n"
          ]
        },
        {
          "output_type": "stream",
          "name": "stderr",
          "text": [
            "100%|██████████| 69.7M/69.7M [00:06<00:00, 10.8MB/s]"
          ]
        },
        {
          "output_type": "stream",
          "name": "stdout",
          "text": [
            "2023-04-21 06:32:27,119 copying /tmp/tmp7igsemf4 to cache at /root/.flair/embeddings/news-forward-0.4.1.pt\n"
          ]
        },
        {
          "output_type": "stream",
          "name": "stderr",
          "text": [
            "\n"
          ]
        },
        {
          "output_type": "stream",
          "name": "stdout",
          "text": [
            "2023-04-21 06:32:27,174 removing temp file /tmp/tmp7igsemf4\n",
            "2023-04-21 06:32:32,026 https://flair.informatik.hu-berlin.de/resources/embeddings/flair/news-backward-0.4.1.pt not found in cache, downloading to /tmp/tmpjz05w1rd\n"
          ]
        },
        {
          "output_type": "stream",
          "name": "stderr",
          "text": [
            "100%|██████████| 69.7M/69.7M [00:06<00:00, 10.9MB/s]"
          ]
        },
        {
          "output_type": "stream",
          "name": "stdout",
          "text": [
            "2023-04-21 06:32:39,364 copying /tmp/tmpjz05w1rd to cache at /root/.flair/embeddings/news-backward-0.4.1.pt\n"
          ]
        },
        {
          "output_type": "stream",
          "name": "stderr",
          "text": [
            "\n"
          ]
        },
        {
          "output_type": "stream",
          "name": "stdout",
          "text": [
            "2023-04-21 06:32:39,419 removing temp file /tmp/tmpjz05w1rd\n",
            "2023-04-21 06:32:39,647 SequenceTagger predicts: Dictionary with 12 tags: <unk>, O, I-ADR, B-ADR, B-Drug, I-Finding, B-Finding, B-Disease, B-Symptom, I-Symptom, I-Disease, I-Drug\n",
            "True\n",
            "False\n"
          ]
        }
      ],
      "source": [
        "from flair.data import Corpus\n",
        "# from flair.datasets import SentenceDataset\n",
        "from flair.embeddings import WordEmbeddings, FlairEmbeddings, StackedEmbeddings, TransformerWordEmbeddings\n",
        "from flair.models import SequenceTagger\n",
        "from flair.trainers import ModelTrainer\n",
        "from sklearn.model_selection import train_test_split\n",
        "\n",
        "import torch\n",
        "from torch.utils.data import Dataset\n",
        "from torch.optim import AdamW, SGD\n",
        "\n",
        "from flair.visual.training_curves import Plotter\n",
        "plotter = Plotter()\n",
        "\n",
        "\n",
        "\n",
        "train_docs, test_docs = train_test_split(docs, test_size=0.2, random_state=321)\n",
        "dev_docs, test_docs = train_test_split(test_docs, test_size=0.5, random_state=123)\n",
        "\n",
        "corpus = Corpus(train=train_docs, dev=dev_docs, test=test_docs) # Corpus: 948 train + 119 dev + 119 test sentences\n",
        "corpus.filter_empty_sentences()\n",
        "# # create a tag dictionary\n",
        "labels = ['ADR', 'Drug', 'Finding', 'Symptom', 'Disease']\n",
        "# tag_dictionary = Dictionary(add_unk=True)\n",
        "# for label in labels:\n",
        "#     tag_dictionary.add_item(label)\n",
        "tag_dictionary = corpus.make_label_dictionary(label_type='ner')\n",
        "print(tag_dictionary.span_labels)\n",
        "\n",
        "# create a stacked embedding using GloVe and Flair embeddings\n",
        "stacked_embeddings = StackedEmbeddings([\n",
        "    WordEmbeddings('glove',\n",
        "                   force_cpu=False,\n",
        "                #    embedding_length=1024,\n",
        "                  #  fine_tune=True,\n",
        "                   ),\n",
        "    # TransformerWordEmbeddings('emilyalsentzer/Bio_ClinicalBERT', layers=\"-1\",\n",
        "    #                                    subtoken_pooling=\"first\",\n",
        "    #                                    is_document_embedding=True,\n",
        "    #                                    fine_tune=True,\n",
        "    #                                    use_context=True,\n",
        "    #                                    max_seq_length=1024,\n",
        "    #                                    ),\n",
        "    FlairEmbeddings('news-forward',\n",
        "                    # fine_tune=True\n",
        "                    ),\n",
        "    FlairEmbeddings('news-backward',\n",
        "                    # fine_tune=True\n",
        "                    ),\n",
        "])\n",
        "# https://github.com/flairNLP/flair/blob/master/resources/docs/embeddings/FLAIR_EMBEDDINGS.md\n",
        "\n",
        "# create a SequenceTagger object and specify the tag dictionary and embeddings to use\n",
        "tagger = SequenceTagger(hidden_size=256,\n",
        "                        embeddings=stacked_embeddings,\n",
        "                        tag_dictionary=tag_dictionary,\n",
        "                        tag_type='ner',\n",
        "                        # use_crf=False,\n",
        "                        use_rnn=False,\n",
        "                        # reproject_embeddings=False,\n",
        "                        )\n",
        "tagger.predict_spans = False\n",
        "\n",
        "print(tagger._determine_if_span_prediction_problem(tagger.label_dictionary))\n",
        "print(tagger.predict_spans)\n",
        "\n",
        "# https://github.com/flairNLP/flair/blob/master/flair/trainers/trainer.py\n",
        "# create a ModelTrainer object and train the tagger\n",
        "trainer = ModelTrainer(tagger, corpus)"
      ]
    },
    {
      "cell_type": "code",
      "execution_count": 14,
      "metadata": {
        "id": "fh0zU2jHAA4J"
      },
      "outputs": [],
      "source": [
        "# !tensorboard --logdir=runs\n",
        "# http://localhost:6006/"
      ]
    },
    {
      "cell_type": "code",
      "execution_count": 15,
      "metadata": {
        "colab": {
          "base_uri": "https://localhost:8080/"
        },
        "id": "UKTMzxV8zF9o",
        "outputId": "c886e135-0d1b-42c9-b7db-7cddcd1ad11f"
      },
      "outputs": [
        {
          "output_type": "stream",
          "name": "stdout",
          "text": [
            "2023-04-21 06:32:39,836 tensorboard logging path is runs/tb_logs_v3_no_rnn\n",
            "2023-04-21 06:32:39,847 ----------------------------------------------------------------------------------------------------\n",
            "2023-04-21 06:32:39,849 Model: \"SequenceTagger(\n",
            "  (embeddings): StackedEmbeddings(\n",
            "    (list_embedding_0): WordEmbeddings(\n",
            "      'glove'\n",
            "      (embedding): Embedding(400001, 100)\n",
            "    )\n",
            "    (list_embedding_1): FlairEmbeddings(\n",
            "      (lm): LanguageModel(\n",
            "        (drop): Dropout(p=0.05, inplace=False)\n",
            "        (encoder): Embedding(300, 100)\n",
            "        (rnn): LSTM(100, 2048)\n",
            "      )\n",
            "    )\n",
            "    (list_embedding_2): FlairEmbeddings(\n",
            "      (lm): LanguageModel(\n",
            "        (drop): Dropout(p=0.05, inplace=False)\n",
            "        (encoder): Embedding(300, 100)\n",
            "        (rnn): LSTM(100, 2048)\n",
            "      )\n",
            "    )\n",
            "  )\n",
            "  (word_dropout): WordDropout(p=0.05)\n",
            "  (locked_dropout): LockedDropout(p=0.5)\n",
            "  (embedding2nn): Linear(in_features=4196, out_features=4196, bias=True)\n",
            "  (linear): Linear(in_features=4196, out_features=14, bias=True)\n",
            "  (loss_function): ViterbiLoss()\n",
            "  (crf): CRF()\n",
            ")\"\n",
            "2023-04-21 06:32:39,850 ----------------------------------------------------------------------------------------------------\n",
            "2023-04-21 06:32:39,852 Corpus: \"Corpus: 948 train + 119 dev + 119 test sentences\"\n",
            "2023-04-21 06:32:39,853 ----------------------------------------------------------------------------------------------------\n",
            "2023-04-21 06:32:39,855 Parameters:\n",
            "2023-04-21 06:32:39,856  - learning_rate: \"0.100000\"\n",
            "2023-04-21 06:32:39,858  - mini_batch_size: \"12\"\n",
            "2023-04-21 06:32:39,859  - patience: \"1\"\n",
            "2023-04-21 06:32:39,861  - anneal_factor: \"0.5\"\n",
            "2023-04-21 06:32:39,862  - max_epochs: \"100\"\n",
            "2023-04-21 06:32:39,864  - shuffle: \"True\"\n",
            "2023-04-21 06:32:39,865  - train_with_dev: \"False\"\n",
            "2023-04-21 06:32:39,867  - batch_growth_annealing: \"False\"\n",
            "2023-04-21 06:32:39,868 ----------------------------------------------------------------------------------------------------\n",
            "2023-04-21 06:32:39,870 Model training base path: \"flair_ner_model_v3_no_rnn\"\n",
            "2023-04-21 06:32:39,871 ----------------------------------------------------------------------------------------------------\n",
            "2023-04-21 06:32:39,872 Device: cuda:0\n",
            "2023-04-21 06:32:39,873 ----------------------------------------------------------------------------------------------------\n",
            "2023-04-21 06:32:39,875 Embeddings storage mode: gpu\n",
            "2023-04-21 06:32:39,876 ----------------------------------------------------------------------------------------------------\n",
            "2023-04-21 06:32:43,219 epoch 1 - iter 7/79 - loss 3950.88961436 - time (sec): 3.34 - samples/sec: 2735.88 - lr: 0.100000\n",
            "2023-04-21 06:32:45,401 epoch 1 - iter 14/79 - loss 2771.66535989 - time (sec): 5.52 - samples/sec: 2960.63 - lr: 0.100000\n",
            "2023-04-21 06:32:48,014 epoch 1 - iter 21/79 - loss 2102.17125639 - time (sec): 8.14 - samples/sec: 3002.47 - lr: 0.100000\n",
            "2023-04-21 06:32:50,509 epoch 1 - iter 28/79 - loss 1684.50050501 - time (sec): 10.63 - samples/sec: 3066.50 - lr: 0.100000\n",
            "2023-04-21 06:32:53,064 epoch 1 - iter 35/79 - loss 1411.10411232 - time (sec): 13.19 - samples/sec: 3130.68 - lr: 0.100000\n",
            "2023-04-21 06:32:55,601 epoch 1 - iter 42/79 - loss 1216.41055369 - time (sec): 15.72 - samples/sec: 3146.58 - lr: 0.100000\n",
            "2023-04-21 06:32:58,137 epoch 1 - iter 49/79 - loss 1088.10664060 - time (sec): 18.26 - samples/sec: 3169.97 - lr: 0.100000\n",
            "2023-04-21 06:33:01,726 epoch 1 - iter 56/79 - loss 993.14491209 - time (sec): 21.85 - samples/sec: 3045.79 - lr: 0.100000\n",
            "2023-04-21 06:33:03,974 epoch 1 - iter 63/79 - loss 933.09853739 - time (sec): 24.10 - samples/sec: 3107.89 - lr: 0.100000\n",
            "2023-04-21 06:33:06,791 epoch 1 - iter 70/79 - loss 884.84907081 - time (sec): 26.91 - samples/sec: 3090.44 - lr: 0.100000\n",
            "2023-04-21 06:33:10,500 epoch 1 - iter 77/79 - loss 829.95679404 - time (sec): 30.62 - samples/sec: 3001.77 - lr: 0.100000\n",
            "2023-04-21 06:33:11,963 ----------------------------------------------------------------------------------------------------\n",
            "2023-04-21 06:33:11,965 EPOCH 1 done: loss 811.7617 - lr 0.100000\n"
          ]
        },
        {
          "output_type": "stream",
          "name": "stderr",
          "text": [
            "100%|██████████| 79/79 [00:19<00:00,  4.04it/s]"
          ]
        },
        {
          "output_type": "stream",
          "name": "stdout",
          "text": [
            "2023-04-21 06:33:31,658 Evaluating as a multi-label problem: True\n"
          ]
        },
        {
          "output_type": "stream",
          "name": "stderr",
          "text": [
            "\n"
          ]
        },
        {
          "output_type": "stream",
          "name": "stdout",
          "text": [
            "2023-04-21 06:33:33,479 TRAIN : loss 236.70489501953125 - f1-score (weighted avg)  0.4232\n"
          ]
        },
        {
          "output_type": "stream",
          "name": "stderr",
          "text": [
            "100%|██████████| 10/10 [00:04<00:00,  2.40it/s]"
          ]
        },
        {
          "output_type": "stream",
          "name": "stdout",
          "text": [
            "2023-04-21 06:33:37,720 Evaluating as a multi-label problem: False\n",
            "2023-04-21 06:33:37,788 DEV : loss 255.78189086914062 - f1-score (weighted avg)  0.4131\n",
            "2023-04-21 06:33:37,797 BAD EPOCHS (no improvement): 0\n",
            "2023-04-21 06:33:37,802 saving best model\n"
          ]
        },
        {
          "output_type": "stream",
          "name": "stderr",
          "text": [
            "\n"
          ]
        },
        {
          "output_type": "stream",
          "name": "stdout",
          "text": [
            "2023-04-21 06:33:39,537 ----------------------------------------------------------------------------------------------------\n",
            "2023-04-21 06:33:40,899 epoch 2 - iter 7/79 - loss 303.24261400 - time (sec): 1.36 - samples/sec: 5725.22 - lr: 0.100000\n",
            "2023-04-21 06:33:42,224 epoch 2 - iter 14/79 - loss 310.39342349 - time (sec): 2.68 - samples/sec: 5826.56 - lr: 0.100000\n",
            "2023-04-21 06:33:43,888 epoch 2 - iter 21/79 - loss 274.60554707 - time (sec): 4.35 - samples/sec: 5722.80 - lr: 0.100000\n",
            "2023-04-21 06:33:45,850 epoch 2 - iter 28/79 - loss 264.48554462 - time (sec): 6.31 - samples/sec: 5424.00 - lr: 0.100000\n",
            "2023-04-21 06:33:47,615 epoch 2 - iter 35/79 - loss 267.04690186 - time (sec): 8.08 - samples/sec: 5330.14 - lr: 0.100000\n",
            "2023-04-21 06:33:49,038 epoch 2 - iter 42/79 - loss 262.99147871 - time (sec): 9.50 - samples/sec: 5395.85 - lr: 0.100000\n",
            "2023-04-21 06:33:50,609 epoch 2 - iter 49/79 - loss 282.37626750 - time (sec): 11.07 - samples/sec: 5425.66 - lr: 0.100000\n",
            "2023-04-21 06:33:52,056 epoch 2 - iter 56/79 - loss 283.79898442 - time (sec): 12.52 - samples/sec: 5487.14 - lr: 0.100000\n",
            "2023-04-21 06:33:53,384 epoch 2 - iter 63/79 - loss 289.38435635 - time (sec): 13.84 - samples/sec: 5507.20 - lr: 0.100000\n",
            "2023-04-21 06:33:54,722 epoch 2 - iter 70/79 - loss 295.38464189 - time (sec): 15.18 - samples/sec: 5496.67 - lr: 0.100000\n",
            "2023-04-21 06:33:56,411 epoch 2 - iter 77/79 - loss 302.15119911 - time (sec): 16.87 - samples/sec: 5437.29 - lr: 0.100000\n",
            "2023-04-21 06:33:57,041 ----------------------------------------------------------------------------------------------------\n",
            "2023-04-21 06:33:57,043 EPOCH 2 done: loss 299.8902 - lr 0.100000\n"
          ]
        },
        {
          "output_type": "stream",
          "name": "stderr",
          "text": [
            "100%|██████████| 79/79 [00:20<00:00,  3.81it/s]"
          ]
        },
        {
          "output_type": "stream",
          "name": "stdout",
          "text": [
            "2023-04-21 06:34:17,924 Evaluating as a multi-label problem: True\n"
          ]
        },
        {
          "output_type": "stream",
          "name": "stderr",
          "text": [
            "\n"
          ]
        },
        {
          "output_type": "stream",
          "name": "stdout",
          "text": [
            "2023-04-21 06:34:19,760 TRAIN : loss 208.71144104003906 - f1-score (weighted avg)  0.5187\n"
          ]
        },
        {
          "output_type": "stream",
          "name": "stderr",
          "text": [
            "100%|██████████| 10/10 [00:02<00:00,  3.91it/s]"
          ]
        },
        {
          "output_type": "stream",
          "name": "stdout",
          "text": [
            "2023-04-21 06:34:22,400 Evaluating as a multi-label problem: False\n",
            "2023-04-21 06:34:22,471 DEV : loss 244.9864959716797 - f1-score (weighted avg)  0.4696\n",
            "2023-04-21 06:34:22,481 BAD EPOCHS (no improvement): 0\n",
            "2023-04-21 06:34:22,485 saving best model\n"
          ]
        },
        {
          "output_type": "stream",
          "name": "stderr",
          "text": [
            "\n"
          ]
        },
        {
          "output_type": "stream",
          "name": "stdout",
          "text": [
            "2023-04-21 06:34:24,342 ----------------------------------------------------------------------------------------------------\n",
            "2023-04-21 06:34:25,763 epoch 3 - iter 7/79 - loss 304.59512761 - time (sec): 1.42 - samples/sec: 5771.40 - lr: 0.100000\n",
            "2023-04-21 06:34:27,184 epoch 3 - iter 14/79 - loss 307.04084430 - time (sec): 2.84 - samples/sec: 5779.00 - lr: 0.100000\n",
            "2023-04-21 06:34:28,864 epoch 3 - iter 21/79 - loss 347.06972216 - time (sec): 4.52 - samples/sec: 5708.69 - lr: 0.100000\n",
            "2023-04-21 06:34:30,309 epoch 3 - iter 28/79 - loss 366.31622920 - time (sec): 5.97 - samples/sec: 5773.55 - lr: 0.100000\n",
            "2023-04-21 06:34:31,711 epoch 3 - iter 35/79 - loss 369.08494961 - time (sec): 7.37 - samples/sec: 5697.06 - lr: 0.100000\n",
            "2023-04-21 06:34:33,190 epoch 3 - iter 42/79 - loss 350.70793493 - time (sec): 8.85 - samples/sec: 5639.33 - lr: 0.100000\n",
            "2023-04-21 06:34:34,779 epoch 3 - iter 49/79 - loss 348.96003005 - time (sec): 10.44 - samples/sec: 5612.52 - lr: 0.100000\n",
            "2023-04-21 06:34:37,117 epoch 3 - iter 56/79 - loss 339.50586115 - time (sec): 12.77 - samples/sec: 5343.03 - lr: 0.100000\n",
            "2023-04-21 06:34:38,532 epoch 3 - iter 63/79 - loss 337.29148208 - time (sec): 14.19 - samples/sec: 5377.40 - lr: 0.100000\n",
            "2023-04-21 06:34:40,299 epoch 3 - iter 70/79 - loss 329.56160128 - time (sec): 15.96 - samples/sec: 5265.28 - lr: 0.100000\n",
            "2023-04-21 06:34:41,931 epoch 3 - iter 77/79 - loss 327.22949992 - time (sec): 17.59 - samples/sec: 5239.46 - lr: 0.100000\n",
            "2023-04-21 06:34:42,440 ----------------------------------------------------------------------------------------------------\n",
            "2023-04-21 06:34:42,441 EPOCH 3 done: loss 325.6493 - lr 0.100000\n"
          ]
        },
        {
          "output_type": "stream",
          "name": "stderr",
          "text": [
            "100%|██████████| 79/79 [00:19<00:00,  4.01it/s]"
          ]
        },
        {
          "output_type": "stream",
          "name": "stdout",
          "text": [
            "2023-04-21 06:35:02,270 Evaluating as a multi-label problem: True\n"
          ]
        },
        {
          "output_type": "stream",
          "name": "stderr",
          "text": [
            "\n"
          ]
        },
        {
          "output_type": "stream",
          "name": "stdout",
          "text": [
            "2023-04-21 06:35:05,328 TRAIN : loss 300.0597229003906 - f1-score (weighted avg)  0.4161\n"
          ]
        },
        {
          "output_type": "stream",
          "name": "stderr",
          "text": [
            "100%|██████████| 10/10 [00:02<00:00,  3.88it/s]"
          ]
        },
        {
          "output_type": "stream",
          "name": "stdout",
          "text": [
            "2023-04-21 06:35:07,983 Evaluating as a multi-label problem: False\n",
            "2023-04-21 06:35:08,049 DEV : loss 326.432373046875 - f1-score (weighted avg)  0.4051\n",
            "2023-04-21 06:35:08,058 BAD EPOCHS (no improvement): 1\n",
            "2023-04-21 06:35:08,062 ----------------------------------------------------------------------------------------------------\n"
          ]
        },
        {
          "output_type": "stream",
          "name": "stderr",
          "text": [
            "\n"
          ]
        },
        {
          "output_type": "stream",
          "name": "stdout",
          "text": [
            "2023-04-21 06:35:09,502 epoch 4 - iter 7/79 - loss 359.44078633 - time (sec): 1.44 - samples/sec: 5817.41 - lr: 0.100000\n",
            "2023-04-21 06:35:10,777 epoch 4 - iter 14/79 - loss 351.44171779 - time (sec): 2.71 - samples/sec: 5765.75 - lr: 0.100000\n",
            "2023-04-21 06:35:12,427 epoch 4 - iter 21/79 - loss 345.81723694 - time (sec): 4.36 - samples/sec: 5512.33 - lr: 0.100000\n",
            "2023-04-21 06:35:14,262 epoch 4 - iter 28/79 - loss 330.57252634 - time (sec): 6.20 - samples/sec: 5222.41 - lr: 0.100000\n",
            "2023-04-21 06:35:15,670 epoch 4 - iter 35/79 - loss 318.73231448 - time (sec): 7.61 - samples/sec: 5348.38 - lr: 0.100000\n",
            "2023-04-21 06:35:17,503 epoch 4 - iter 42/79 - loss 318.40868053 - time (sec): 9.44 - samples/sec: 5344.48 - lr: 0.100000\n",
            "2023-04-21 06:35:19,329 epoch 4 - iter 49/79 - loss 328.27191527 - time (sec): 11.27 - samples/sec: 5296.83 - lr: 0.100000\n",
            "2023-04-21 06:35:20,633 epoch 4 - iter 56/79 - loss 335.90444641 - time (sec): 12.57 - samples/sec: 5352.63 - lr: 0.100000\n",
            "2023-04-21 06:35:22,083 epoch 4 - iter 63/79 - loss 334.12537518 - time (sec): 14.02 - samples/sec: 5394.73 - lr: 0.100000\n",
            "2023-04-21 06:35:23,633 epoch 4 - iter 70/79 - loss 333.85346150 - time (sec): 15.57 - samples/sec: 5400.45 - lr: 0.100000\n",
            "2023-04-21 06:35:25,112 epoch 4 - iter 77/79 - loss 334.84443536 - time (sec): 17.05 - samples/sec: 5415.89 - lr: 0.100000\n",
            "2023-04-21 06:35:25,513 ----------------------------------------------------------------------------------------------------\n",
            "2023-04-21 06:35:25,515 EPOCH 4 done: loss 333.4221 - lr 0.100000\n"
          ]
        },
        {
          "output_type": "stream",
          "name": "stderr",
          "text": [
            "100%|██████████| 79/79 [00:19<00:00,  3.99it/s]"
          ]
        },
        {
          "output_type": "stream",
          "name": "stdout",
          "text": [
            "2023-04-21 06:35:45,461 Evaluating as a multi-label problem: True\n"
          ]
        },
        {
          "output_type": "stream",
          "name": "stderr",
          "text": [
            "\n"
          ]
        },
        {
          "output_type": "stream",
          "name": "stdout",
          "text": [
            "2023-04-21 06:35:47,324 TRAIN : loss 242.12222290039062 - f1-score (weighted avg)  0.5504\n"
          ]
        },
        {
          "output_type": "stream",
          "name": "stderr",
          "text": [
            "100%|██████████| 10/10 [00:02<00:00,  3.91it/s]"
          ]
        },
        {
          "output_type": "stream",
          "name": "stdout",
          "text": [
            "2023-04-21 06:35:49,965 Evaluating as a multi-label problem: False\n",
            "2023-04-21 06:35:50,036 DEV : loss 283.011474609375 - f1-score (weighted avg)  0.5248\n",
            "2023-04-21 06:35:50,045 Epoch     4: reducing learning rate of group 0 to 5.0000e-02.\n",
            "2023-04-21 06:35:50,047 BAD EPOCHS (no improvement): 2\n",
            "2023-04-21 06:35:50,051 ----------------------------------------------------------------------------------------------------\n"
          ]
        },
        {
          "output_type": "stream",
          "name": "stderr",
          "text": [
            "\n"
          ]
        },
        {
          "output_type": "stream",
          "name": "stdout",
          "text": [
            "2023-04-21 06:35:51,544 epoch 5 - iter 7/79 - loss 296.38494600 - time (sec): 1.49 - samples/sec: 6084.20 - lr: 0.050000\n",
            "2023-04-21 06:35:52,972 epoch 5 - iter 14/79 - loss 316.42315114 - time (sec): 2.92 - samples/sec: 6033.52 - lr: 0.050000\n",
            "2023-04-21 06:35:54,679 epoch 5 - iter 21/79 - loss 295.36118740 - time (sec): 4.63 - samples/sec: 5744.35 - lr: 0.050000\n",
            "2023-04-21 06:35:55,850 epoch 5 - iter 28/79 - loss 279.01524745 - time (sec): 5.80 - samples/sec: 5775.20 - lr: 0.050000\n",
            "2023-04-21 06:35:57,089 epoch 5 - iter 35/79 - loss 279.58838298 - time (sec): 7.04 - samples/sec: 5830.11 - lr: 0.050000\n",
            "2023-04-21 06:35:58,956 epoch 5 - iter 42/79 - loss 281.99546911 - time (sec): 8.90 - samples/sec: 5676.29 - lr: 0.050000\n",
            "2023-04-21 06:36:00,354 epoch 5 - iter 49/79 - loss 273.81297306 - time (sec): 10.30 - samples/sec: 5681.27 - lr: 0.050000\n",
            "2023-04-21 06:36:01,836 epoch 5 - iter 56/79 - loss 262.91928723 - time (sec): 11.78 - samples/sec: 5648.01 - lr: 0.050000\n",
            "2023-04-21 06:36:03,441 epoch 5 - iter 63/79 - loss 255.35966518 - time (sec): 13.39 - samples/sec: 5569.91 - lr: 0.050000\n",
            "2023-04-21 06:36:05,000 epoch 5 - iter 70/79 - loss 249.64490598 - time (sec): 14.95 - samples/sec: 5589.54 - lr: 0.050000\n",
            "2023-04-21 06:36:06,486 epoch 5 - iter 77/79 - loss 248.99030274 - time (sec): 16.43 - samples/sec: 5595.86 - lr: 0.050000\n",
            "2023-04-21 06:36:07,015 ----------------------------------------------------------------------------------------------------\n",
            "2023-04-21 06:36:07,017 EPOCH 5 done: loss 252.2694 - lr 0.050000\n"
          ]
        },
        {
          "output_type": "stream",
          "name": "stderr",
          "text": [
            "100%|██████████| 79/79 [00:20<00:00,  3.76it/s]"
          ]
        },
        {
          "output_type": "stream",
          "name": "stdout",
          "text": [
            "2023-04-21 06:36:28,137 Evaluating as a multi-label problem: True\n"
          ]
        },
        {
          "output_type": "stream",
          "name": "stderr",
          "text": [
            "\n"
          ]
        },
        {
          "output_type": "stream",
          "name": "stdout",
          "text": [
            "2023-04-21 06:36:29,996 TRAIN : loss 121.9336166381836 - f1-score (weighted avg)  0.6343\n"
          ]
        },
        {
          "output_type": "stream",
          "name": "stderr",
          "text": [
            "100%|██████████| 10/10 [00:02<00:00,  3.89it/s]"
          ]
        },
        {
          "output_type": "stream",
          "name": "stdout",
          "text": [
            "2023-04-21 06:36:32,650 Evaluating as a multi-label problem: False\n",
            "2023-04-21 06:36:32,718 DEV : loss 156.13169860839844 - f1-score (weighted avg)  0.59\n",
            "2023-04-21 06:36:32,727 BAD EPOCHS (no improvement): 0\n",
            "2023-04-21 06:36:32,731 saving best model\n"
          ]
        },
        {
          "output_type": "stream",
          "name": "stderr",
          "text": [
            "\n"
          ]
        },
        {
          "output_type": "stream",
          "name": "stdout",
          "text": [
            "2023-04-21 06:36:34,537 ----------------------------------------------------------------------------------------------------\n",
            "2023-04-21 06:36:36,220 epoch 6 - iter 7/79 - loss 207.21423064 - time (sec): 1.68 - samples/sec: 5402.14 - lr: 0.050000\n",
            "2023-04-21 06:36:38,122 epoch 6 - iter 14/79 - loss 211.56909429 - time (sec): 3.58 - samples/sec: 5025.90 - lr: 0.050000\n",
            "2023-04-21 06:36:39,792 epoch 6 - iter 21/79 - loss 205.22755592 - time (sec): 5.25 - samples/sec: 5072.28 - lr: 0.050000\n",
            "2023-04-21 06:36:41,097 epoch 6 - iter 28/79 - loss 196.47011839 - time (sec): 6.56 - samples/sec: 5217.14 - lr: 0.050000\n",
            "2023-04-21 06:36:42,656 epoch 6 - iter 35/79 - loss 187.40916714 - time (sec): 8.12 - samples/sec: 5216.10 - lr: 0.050000\n",
            "2023-04-21 06:36:44,260 epoch 6 - iter 42/79 - loss 180.28271539 - time (sec): 9.72 - samples/sec: 5271.47 - lr: 0.050000\n",
            "2023-04-21 06:36:45,826 epoch 6 - iter 49/79 - loss 180.81304730 - time (sec): 11.29 - samples/sec: 5342.09 - lr: 0.050000\n",
            "2023-04-21 06:36:47,788 epoch 6 - iter 56/79 - loss 186.83451029 - time (sec): 13.25 - samples/sec: 5151.76 - lr: 0.050000\n",
            "2023-04-21 06:36:49,210 epoch 6 - iter 63/79 - loss 184.72381703 - time (sec): 14.67 - samples/sec: 5185.99 - lr: 0.050000\n",
            "2023-04-21 06:36:50,904 epoch 6 - iter 70/79 - loss 182.62228277 - time (sec): 16.36 - samples/sec: 5130.31 - lr: 0.050000\n",
            "2023-04-21 06:36:52,343 epoch 6 - iter 77/79 - loss 179.00292266 - time (sec): 17.80 - samples/sec: 5184.15 - lr: 0.050000\n",
            "2023-04-21 06:36:52,777 ----------------------------------------------------------------------------------------------------\n",
            "2023-04-21 06:36:52,778 EPOCH 6 done: loss 178.1231 - lr 0.050000\n"
          ]
        },
        {
          "output_type": "stream",
          "name": "stderr",
          "text": [
            "100%|██████████| 79/79 [00:19<00:00,  3.97it/s]\n"
          ]
        },
        {
          "output_type": "stream",
          "name": "stdout",
          "text": [
            "2023-04-21 06:37:13,979 Evaluating as a multi-label problem: True\n",
            "2023-04-21 06:37:15,831 TRAIN : loss 133.89158630371094 - f1-score (weighted avg)  0.5815\n"
          ]
        },
        {
          "output_type": "stream",
          "name": "stderr",
          "text": [
            "100%|██████████| 10/10 [00:02<00:00,  3.91it/s]"
          ]
        },
        {
          "output_type": "stream",
          "name": "stdout",
          "text": [
            "2023-04-21 06:37:18,467 Evaluating as a multi-label problem: False\n",
            "2023-04-21 06:37:18,540 DEV : loss 179.7421112060547 - f1-score (weighted avg)  0.5399\n",
            "2023-04-21 06:37:18,549 BAD EPOCHS (no improvement): 1\n",
            "2023-04-21 06:37:18,554 ----------------------------------------------------------------------------------------------------\n"
          ]
        },
        {
          "output_type": "stream",
          "name": "stderr",
          "text": [
            "\n"
          ]
        },
        {
          "output_type": "stream",
          "name": "stdout",
          "text": [
            "2023-04-21 06:37:20,254 epoch 7 - iter 7/79 - loss 165.37485750 - time (sec): 1.70 - samples/sec: 4647.54 - lr: 0.050000\n",
            "2023-04-21 06:37:21,878 epoch 7 - iter 14/79 - loss 180.51238263 - time (sec): 3.32 - samples/sec: 4839.47 - lr: 0.050000\n",
            "2023-04-21 06:37:23,721 epoch 7 - iter 21/79 - loss 169.97570554 - time (sec): 5.17 - samples/sec: 4663.77 - lr: 0.050000\n",
            "2023-04-21 06:37:25,062 epoch 7 - iter 28/79 - loss 173.27126418 - time (sec): 6.51 - samples/sec: 4971.37 - lr: 0.050000\n",
            "2023-04-21 06:37:26,797 epoch 7 - iter 35/79 - loss 175.75955186 - time (sec): 8.24 - samples/sec: 5050.57 - lr: 0.050000\n",
            "2023-04-21 06:37:28,414 epoch 7 - iter 42/79 - loss 177.47675342 - time (sec): 9.86 - samples/sec: 5075.98 - lr: 0.050000\n",
            "2023-04-21 06:37:29,717 epoch 7 - iter 49/79 - loss 173.38062644 - time (sec): 11.16 - samples/sec: 5174.96 - lr: 0.050000\n",
            "2023-04-21 06:37:31,110 epoch 7 - iter 56/79 - loss 169.05936383 - time (sec): 12.56 - samples/sec: 5301.61 - lr: 0.050000\n",
            "2023-04-21 06:37:32,602 epoch 7 - iter 63/79 - loss 168.11225549 - time (sec): 14.05 - samples/sec: 5298.93 - lr: 0.050000\n",
            "2023-04-21 06:37:34,178 epoch 7 - iter 70/79 - loss 163.61286145 - time (sec): 15.62 - samples/sec: 5319.20 - lr: 0.050000\n",
            "2023-04-21 06:37:35,781 epoch 7 - iter 77/79 - loss 161.21561660 - time (sec): 17.23 - samples/sec: 5376.84 - lr: 0.050000\n",
            "2023-04-21 06:37:36,118 ----------------------------------------------------------------------------------------------------\n",
            "2023-04-21 06:37:36,119 EPOCH 7 done: loss 160.8724 - lr 0.050000\n"
          ]
        },
        {
          "output_type": "stream",
          "name": "stderr",
          "text": [
            "100%|██████████| 79/79 [00:19<00:00,  3.97it/s]"
          ]
        },
        {
          "output_type": "stream",
          "name": "stdout",
          "text": [
            "2023-04-21 06:37:56,148 Evaluating as a multi-label problem: True\n"
          ]
        },
        {
          "output_type": "stream",
          "name": "stderr",
          "text": [
            "\n"
          ]
        },
        {
          "output_type": "stream",
          "name": "stdout",
          "text": [
            "2023-04-21 06:37:58,008 TRAIN : loss 100.53085327148438 - f1-score (weighted avg)  0.5856\n"
          ]
        },
        {
          "output_type": "stream",
          "name": "stderr",
          "text": [
            "100%|██████████| 10/10 [00:02<00:00,  3.94it/s]\n"
          ]
        },
        {
          "output_type": "stream",
          "name": "stdout",
          "text": [
            "2023-04-21 06:38:01,716 Evaluating as a multi-label problem: False\n",
            "2023-04-21 06:38:01,784 DEV : loss 138.7762908935547 - f1-score (weighted avg)  0.5235\n",
            "2023-04-21 06:38:01,794 BAD EPOCHS (no improvement): 0\n",
            "2023-04-21 06:38:01,808 saving best model\n",
            "2023-04-21 06:38:03,606 ----------------------------------------------------------------------------------------------------\n",
            "2023-04-21 06:38:04,889 epoch 8 - iter 7/79 - loss 157.08637153 - time (sec): 1.28 - samples/sec: 6297.56 - lr: 0.050000\n",
            "2023-04-21 06:38:06,642 epoch 8 - iter 14/79 - loss 139.73436908 - time (sec): 3.03 - samples/sec: 5220.31 - lr: 0.050000\n",
            "2023-04-21 06:38:07,961 epoch 8 - iter 21/79 - loss 140.19959230 - time (sec): 4.35 - samples/sec: 5382.06 - lr: 0.050000\n",
            "2023-04-21 06:38:09,066 epoch 8 - iter 28/79 - loss 136.14190453 - time (sec): 5.46 - samples/sec: 5585.49 - lr: 0.050000\n",
            "2023-04-21 06:38:10,575 epoch 8 - iter 35/79 - loss 142.22748716 - time (sec): 6.97 - samples/sec: 5644.75 - lr: 0.050000\n",
            "2023-04-21 06:38:12,408 epoch 8 - iter 42/79 - loss 142.12367224 - time (sec): 8.80 - samples/sec: 5595.28 - lr: 0.050000\n",
            "2023-04-21 06:38:13,886 epoch 8 - iter 49/79 - loss 140.92862579 - time (sec): 10.28 - samples/sec: 5561.66 - lr: 0.050000\n",
            "2023-04-21 06:38:15,388 epoch 8 - iter 56/79 - loss 145.40520800 - time (sec): 11.78 - samples/sec: 5532.58 - lr: 0.050000\n",
            "2023-04-21 06:38:17,487 epoch 8 - iter 63/79 - loss 144.96423795 - time (sec): 13.88 - samples/sec: 5333.93 - lr: 0.050000\n",
            "2023-04-21 06:38:19,064 epoch 8 - iter 70/79 - loss 145.01149656 - time (sec): 15.46 - samples/sec: 5315.74 - lr: 0.050000\n",
            "2023-04-21 06:38:20,991 epoch 8 - iter 77/79 - loss 150.16603986 - time (sec): 17.38 - samples/sec: 5308.18 - lr: 0.050000\n",
            "2023-04-21 06:38:21,483 ----------------------------------------------------------------------------------------------------\n",
            "2023-04-21 06:38:21,485 EPOCH 8 done: loss 150.5752 - lr 0.050000\n"
          ]
        },
        {
          "output_type": "stream",
          "name": "stderr",
          "text": [
            "100%|██████████| 79/79 [00:19<00:00,  3.97it/s]"
          ]
        },
        {
          "output_type": "stream",
          "name": "stdout",
          "text": [
            "2023-04-21 06:38:41,519 Evaluating as a multi-label problem: True\n"
          ]
        },
        {
          "output_type": "stream",
          "name": "stderr",
          "text": [
            "\n"
          ]
        },
        {
          "output_type": "stream",
          "name": "stdout",
          "text": [
            "2023-04-21 06:38:43,371 TRAIN : loss 114.70535278320312 - f1-score (weighted avg)  0.5819\n"
          ]
        },
        {
          "output_type": "stream",
          "name": "stderr",
          "text": [
            "100%|██████████| 10/10 [00:02<00:00,  3.93it/s]"
          ]
        },
        {
          "output_type": "stream",
          "name": "stdout",
          "text": [
            "2023-04-21 06:38:45,993 Evaluating as a multi-label problem: False\n",
            "2023-04-21 06:38:46,062 DEV : loss 146.93936157226562 - f1-score (weighted avg)  0.5325\n",
            "2023-04-21 06:38:46,072 BAD EPOCHS (no improvement): 1\n",
            "2023-04-21 06:38:46,076 ----------------------------------------------------------------------------------------------------\n"
          ]
        },
        {
          "output_type": "stream",
          "name": "stderr",
          "text": [
            "\n"
          ]
        },
        {
          "output_type": "stream",
          "name": "stdout",
          "text": [
            "2023-04-21 06:38:47,675 epoch 9 - iter 7/79 - loss 146.26805539 - time (sec): 1.60 - samples/sec: 5244.68 - lr: 0.050000\n",
            "2023-04-21 06:38:49,588 epoch 9 - iter 14/79 - loss 153.90570924 - time (sec): 3.51 - samples/sec: 4923.05 - lr: 0.050000\n",
            "2023-04-21 06:38:51,073 epoch 9 - iter 21/79 - loss 159.61415244 - time (sec): 4.99 - samples/sec: 5289.99 - lr: 0.050000\n",
            "2023-04-21 06:38:52,626 epoch 9 - iter 28/79 - loss 159.18489901 - time (sec): 6.55 - samples/sec: 5262.15 - lr: 0.050000\n",
            "2023-04-21 06:38:54,033 epoch 9 - iter 35/79 - loss 152.72928097 - time (sec): 7.96 - samples/sec: 5452.58 - lr: 0.050000\n",
            "2023-04-21 06:38:55,593 epoch 9 - iter 42/79 - loss 152.70903066 - time (sec): 9.52 - samples/sec: 5375.44 - lr: 0.050000\n",
            "2023-04-21 06:38:56,896 epoch 9 - iter 49/79 - loss 150.40058803 - time (sec): 10.82 - samples/sec: 5478.60 - lr: 0.050000\n",
            "2023-04-21 06:38:58,529 epoch 9 - iter 56/79 - loss 147.62389813 - time (sec): 12.45 - samples/sec: 5466.70 - lr: 0.050000\n",
            "2023-04-21 06:39:00,191 epoch 9 - iter 63/79 - loss 147.69243703 - time (sec): 14.11 - samples/sec: 5457.45 - lr: 0.050000\n",
            "2023-04-21 06:39:01,565 epoch 9 - iter 70/79 - loss 146.90618422 - time (sec): 15.49 - samples/sec: 5429.89 - lr: 0.050000\n",
            "2023-04-21 06:39:03,065 epoch 9 - iter 77/79 - loss 145.25452749 - time (sec): 16.99 - samples/sec: 5451.36 - lr: 0.050000\n",
            "2023-04-21 06:39:03,582 ----------------------------------------------------------------------------------------------------\n",
            "2023-04-21 06:39:03,584 EPOCH 9 done: loss 145.0238 - lr 0.050000\n"
          ]
        },
        {
          "output_type": "stream",
          "name": "stderr",
          "text": [
            "100%|██████████| 79/79 [00:19<00:00,  3.98it/s]\n"
          ]
        },
        {
          "output_type": "stream",
          "name": "stdout",
          "text": [
            "2023-04-21 06:39:24,752 Evaluating as a multi-label problem: True\n",
            "2023-04-21 06:39:26,614 TRAIN : loss 95.2791748046875 - f1-score (weighted avg)  0.6251\n"
          ]
        },
        {
          "output_type": "stream",
          "name": "stderr",
          "text": [
            "100%|██████████| 10/10 [00:02<00:00,  3.90it/s]"
          ]
        },
        {
          "output_type": "stream",
          "name": "stdout",
          "text": [
            "2023-04-21 06:39:29,261 Evaluating as a multi-label problem: False\n",
            "2023-04-21 06:39:29,330 DEV : loss 130.91543579101562 - f1-score (weighted avg)  0.5701\n",
            "2023-04-21 06:39:29,340 BAD EPOCHS (no improvement): 0\n",
            "2023-04-21 06:39:29,344 saving best model\n"
          ]
        },
        {
          "output_type": "stream",
          "name": "stderr",
          "text": [
            "\n"
          ]
        },
        {
          "output_type": "stream",
          "name": "stdout",
          "text": [
            "2023-04-21 06:39:31,167 ----------------------------------------------------------------------------------------------------\n",
            "2023-04-21 06:39:32,669 epoch 10 - iter 7/79 - loss 136.33745089 - time (sec): 1.50 - samples/sec: 4414.71 - lr: 0.050000\n",
            "2023-04-21 06:39:34,267 epoch 10 - iter 14/79 - loss 141.29779341 - time (sec): 3.10 - samples/sec: 5047.92 - lr: 0.050000\n",
            "2023-04-21 06:39:35,699 epoch 10 - iter 21/79 - loss 136.49931283 - time (sec): 4.53 - samples/sec: 5140.75 - lr: 0.050000\n",
            "2023-04-21 06:39:37,235 epoch 10 - iter 28/79 - loss 138.38733751 - time (sec): 6.07 - samples/sec: 5263.23 - lr: 0.050000\n",
            "2023-04-21 06:39:38,625 epoch 10 - iter 35/79 - loss 133.73815292 - time (sec): 7.46 - samples/sec: 5426.12 - lr: 0.050000\n",
            "2023-04-21 06:39:40,281 epoch 10 - iter 42/79 - loss 132.98645363 - time (sec): 9.11 - samples/sec: 5327.09 - lr: 0.050000\n",
            "2023-04-21 06:39:41,569 epoch 10 - iter 49/79 - loss 134.68271751 - time (sec): 10.40 - samples/sec: 5356.03 - lr: 0.050000\n",
            "2023-04-21 06:39:43,553 epoch 10 - iter 56/79 - loss 139.33290271 - time (sec): 12.38 - samples/sec: 5235.19 - lr: 0.050000\n",
            "2023-04-21 06:39:45,429 epoch 10 - iter 63/79 - loss 140.60812937 - time (sec): 14.26 - samples/sec: 5260.60 - lr: 0.050000\n",
            "2023-04-21 06:39:46,997 epoch 10 - iter 70/79 - loss 140.55498597 - time (sec): 15.83 - samples/sec: 5290.49 - lr: 0.050000\n",
            "2023-04-21 06:39:48,626 epoch 10 - iter 77/79 - loss 141.43547146 - time (sec): 17.46 - samples/sec: 5284.50 - lr: 0.050000\n",
            "2023-04-21 06:39:49,085 ----------------------------------------------------------------------------------------------------\n",
            "2023-04-21 06:39:49,087 EPOCH 10 done: loss 140.7317 - lr 0.050000\n"
          ]
        },
        {
          "output_type": "stream",
          "name": "stderr",
          "text": [
            "100%|██████████| 79/79 [00:19<00:00,  4.00it/s]"
          ]
        },
        {
          "output_type": "stream",
          "name": "stdout",
          "text": [
            "2023-04-21 06:40:08,998 Evaluating as a multi-label problem: True\n"
          ]
        },
        {
          "output_type": "stream",
          "name": "stderr",
          "text": [
            "\n"
          ]
        },
        {
          "output_type": "stream",
          "name": "stdout",
          "text": [
            "2023-04-21 06:40:12,151 TRAIN : loss 97.79492950439453 - f1-score (weighted avg)  0.6066\n"
          ]
        },
        {
          "output_type": "stream",
          "name": "stderr",
          "text": [
            "100%|██████████| 10/10 [00:02<00:00,  3.82it/s]"
          ]
        },
        {
          "output_type": "stream",
          "name": "stdout",
          "text": [
            "2023-04-21 06:40:14,847 Evaluating as a multi-label problem: False\n",
            "2023-04-21 06:40:14,928 DEV : loss 130.17807006835938 - f1-score (weighted avg)  0.567\n",
            "2023-04-21 06:40:14,938 BAD EPOCHS (no improvement): 0\n",
            "2023-04-21 06:40:14,942 saving best model\n"
          ]
        },
        {
          "output_type": "stream",
          "name": "stderr",
          "text": [
            "\n"
          ]
        },
        {
          "output_type": "stream",
          "name": "stdout",
          "text": [
            "2023-04-21 06:40:16,750 ----------------------------------------------------------------------------------------------------\n",
            "2023-04-21 06:40:18,351 epoch 11 - iter 7/79 - loss 127.09513490 - time (sec): 1.59 - samples/sec: 5813.82 - lr: 0.050000\n",
            "2023-04-21 06:40:19,800 epoch 11 - iter 14/79 - loss 144.16351441 - time (sec): 3.04 - samples/sec: 5929.60 - lr: 0.050000\n",
            "2023-04-21 06:40:21,506 epoch 11 - iter 21/79 - loss 147.87917919 - time (sec): 4.74 - samples/sec: 5613.29 - lr: 0.050000\n",
            "2023-04-21 06:40:22,927 epoch 11 - iter 28/79 - loss 151.13773172 - time (sec): 6.16 - samples/sec: 5558.19 - lr: 0.050000\n",
            "2023-04-21 06:40:24,971 epoch 11 - iter 35/79 - loss 151.59039568 - time (sec): 8.21 - samples/sec: 5296.39 - lr: 0.050000\n",
            "2023-04-21 06:40:26,414 epoch 11 - iter 42/79 - loss 147.80156927 - time (sec): 9.65 - samples/sec: 5335.64 - lr: 0.050000\n",
            "2023-04-21 06:40:28,254 epoch 11 - iter 49/79 - loss 144.51569084 - time (sec): 11.49 - samples/sec: 5143.26 - lr: 0.050000\n",
            "2023-04-21 06:40:29,887 epoch 11 - iter 56/79 - loss 141.13204379 - time (sec): 13.12 - samples/sec: 5230.45 - lr: 0.050000\n",
            "2023-04-21 06:40:31,355 epoch 11 - iter 63/79 - loss 140.59488915 - time (sec): 14.59 - samples/sec: 5249.10 - lr: 0.050000\n",
            "2023-04-21 06:40:32,691 epoch 11 - iter 70/79 - loss 139.71260428 - time (sec): 15.93 - samples/sec: 5275.55 - lr: 0.050000\n",
            "2023-04-21 06:40:34,137 epoch 11 - iter 77/79 - loss 142.18669247 - time (sec): 17.37 - samples/sec: 5301.32 - lr: 0.050000\n",
            "2023-04-21 06:40:34,657 ----------------------------------------------------------------------------------------------------\n",
            "2023-04-21 06:40:34,659 EPOCH 11 done: loss 141.9488 - lr 0.050000\n"
          ]
        },
        {
          "output_type": "stream",
          "name": "stderr",
          "text": [
            "100%|██████████| 79/79 [00:19<00:00,  4.03it/s]"
          ]
        },
        {
          "output_type": "stream",
          "name": "stdout",
          "text": [
            "2023-04-21 06:40:54,411 Evaluating as a multi-label problem: True\n"
          ]
        },
        {
          "output_type": "stream",
          "name": "stderr",
          "text": [
            "\n"
          ]
        },
        {
          "output_type": "stream",
          "name": "stdout",
          "text": [
            "2023-04-21 06:40:56,283 TRAIN : loss 162.58175659179688 - f1-score (weighted avg)  0.366\n"
          ]
        },
        {
          "output_type": "stream",
          "name": "stderr",
          "text": [
            "100%|██████████| 10/10 [00:02<00:00,  3.94it/s]"
          ]
        },
        {
          "output_type": "stream",
          "name": "stdout",
          "text": [
            "2023-04-21 06:40:58,899 Evaluating as a multi-label problem: False\n",
            "2023-04-21 06:40:58,967 DEV : loss 192.02427673339844 - f1-score (weighted avg)  0.3408\n",
            "2023-04-21 06:40:58,976 BAD EPOCHS (no improvement): 1\n",
            "2023-04-21 06:40:58,981 ----------------------------------------------------------------------------------------------------\n"
          ]
        },
        {
          "output_type": "stream",
          "name": "stderr",
          "text": [
            "\n"
          ]
        },
        {
          "output_type": "stream",
          "name": "stdout",
          "text": [
            "2023-04-21 06:41:00,197 epoch 12 - iter 7/79 - loss 163.77234144 - time (sec): 1.21 - samples/sec: 6060.54 - lr: 0.050000\n",
            "2023-04-21 06:41:01,854 epoch 12 - iter 14/79 - loss 167.52078775 - time (sec): 2.87 - samples/sec: 5728.53 - lr: 0.050000\n",
            "2023-04-21 06:41:03,377 epoch 12 - iter 21/79 - loss 157.76067637 - time (sec): 4.39 - samples/sec: 5723.46 - lr: 0.050000\n",
            "2023-04-21 06:41:04,900 epoch 12 - iter 28/79 - loss 151.12595051 - time (sec): 5.92 - samples/sec: 5778.16 - lr: 0.050000\n",
            "2023-04-21 06:41:06,664 epoch 12 - iter 35/79 - loss 143.78717889 - time (sec): 7.68 - samples/sec: 5600.09 - lr: 0.050000\n",
            "2023-04-21 06:41:08,265 epoch 12 - iter 42/79 - loss 140.63599271 - time (sec): 9.28 - samples/sec: 5557.68 - lr: 0.050000\n",
            "2023-04-21 06:41:09,656 epoch 12 - iter 49/79 - loss 139.03840793 - time (sec): 10.67 - samples/sec: 5545.40 - lr: 0.050000\n",
            "2023-04-21 06:41:11,379 epoch 12 - iter 56/79 - loss 134.64188437 - time (sec): 12.40 - samples/sec: 5505.71 - lr: 0.050000\n",
            "2023-04-21 06:41:12,620 epoch 12 - iter 63/79 - loss 133.14759276 - time (sec): 13.64 - samples/sec: 5531.60 - lr: 0.050000\n",
            "2023-04-21 06:41:14,043 epoch 12 - iter 70/79 - loss 135.09853817 - time (sec): 15.06 - samples/sec: 5593.56 - lr: 0.050000\n",
            "2023-04-21 06:41:15,500 epoch 12 - iter 77/79 - loss 138.93855145 - time (sec): 16.52 - samples/sec: 5552.92 - lr: 0.050000\n",
            "2023-04-21 06:41:16,410 ----------------------------------------------------------------------------------------------------\n",
            "2023-04-21 06:41:16,412 EPOCH 12 done: loss 139.3705 - lr 0.050000\n"
          ]
        },
        {
          "output_type": "stream",
          "name": "stderr",
          "text": [
            "100%|██████████| 79/79 [00:19<00:00,  4.01it/s]\n"
          ]
        },
        {
          "output_type": "stream",
          "name": "stdout",
          "text": [
            "2023-04-21 06:41:37,411 Evaluating as a multi-label problem: True\n",
            "2023-04-21 06:41:39,280 TRAIN : loss 139.54920959472656 - f1-score (weighted avg)  0.5858\n"
          ]
        },
        {
          "output_type": "stream",
          "name": "stderr",
          "text": [
            "100%|██████████| 10/10 [00:02<00:00,  3.95it/s]"
          ]
        },
        {
          "output_type": "stream",
          "name": "stdout",
          "text": [
            "2023-04-21 06:41:41,890 Evaluating as a multi-label problem: False\n",
            "2023-04-21 06:41:41,971 DEV : loss 169.09567260742188 - f1-score (weighted avg)  0.5411\n",
            "2023-04-21 06:41:41,980 Epoch    12: reducing learning rate of group 0 to 2.5000e-02.\n",
            "2023-04-21 06:41:41,983 BAD EPOCHS (no improvement): 2\n",
            "2023-04-21 06:41:41,989 ----------------------------------------------------------------------------------------------------\n"
          ]
        },
        {
          "output_type": "stream",
          "name": "stderr",
          "text": [
            "\n"
          ]
        },
        {
          "output_type": "stream",
          "name": "stdout",
          "text": [
            "2023-04-21 06:41:43,562 epoch 13 - iter 7/79 - loss 155.06961692 - time (sec): 1.57 - samples/sec: 5433.68 - lr: 0.025000\n",
            "2023-04-21 06:41:45,086 epoch 13 - iter 14/79 - loss 134.65693647 - time (sec): 3.10 - samples/sec: 5456.20 - lr: 0.025000\n",
            "2023-04-21 06:41:46,735 epoch 13 - iter 21/79 - loss 127.13225712 - time (sec): 4.74 - samples/sec: 5224.29 - lr: 0.025000\n",
            "2023-04-21 06:41:48,081 epoch 13 - iter 28/79 - loss 122.43331579 - time (sec): 6.09 - samples/sec: 5381.42 - lr: 0.025000\n",
            "2023-04-21 06:41:49,880 epoch 13 - iter 35/79 - loss 119.57003550 - time (sec): 7.89 - samples/sec: 5265.80 - lr: 0.025000\n",
            "2023-04-21 06:41:51,278 epoch 13 - iter 42/79 - loss 117.22705048 - time (sec): 9.29 - samples/sec: 5312.91 - lr: 0.025000\n",
            "2023-04-21 06:41:53,144 epoch 13 - iter 49/79 - loss 113.66254052 - time (sec): 11.15 - samples/sec: 5283.18 - lr: 0.025000\n",
            "2023-04-21 06:41:54,669 epoch 13 - iter 56/79 - loss 111.99253542 - time (sec): 12.68 - samples/sec: 5371.77 - lr: 0.025000\n",
            "2023-04-21 06:41:56,102 epoch 13 - iter 63/79 - loss 109.68585379 - time (sec): 14.11 - samples/sec: 5397.24 - lr: 0.025000\n",
            "2023-04-21 06:41:57,675 epoch 13 - iter 70/79 - loss 107.13036028 - time (sec): 15.68 - samples/sec: 5437.33 - lr: 0.025000\n",
            "2023-04-21 06:41:58,929 epoch 13 - iter 77/79 - loss 104.50105425 - time (sec): 16.94 - samples/sec: 5466.86 - lr: 0.025000\n",
            "2023-04-21 06:41:59,387 ----------------------------------------------------------------------------------------------------\n",
            "2023-04-21 06:41:59,389 EPOCH 13 done: loss 103.9029 - lr 0.025000\n"
          ]
        },
        {
          "output_type": "stream",
          "name": "stderr",
          "text": [
            "100%|██████████| 79/79 [00:19<00:00,  4.01it/s]"
          ]
        },
        {
          "output_type": "stream",
          "name": "stdout",
          "text": [
            "2023-04-21 06:42:19,226 Evaluating as a multi-label problem: True\n"
          ]
        },
        {
          "output_type": "stream",
          "name": "stderr",
          "text": [
            "\n"
          ]
        },
        {
          "output_type": "stream",
          "name": "stdout",
          "text": [
            "2023-04-21 06:42:21,090 TRAIN : loss 49.67378616333008 - f1-score (weighted avg)  0.6512\n"
          ]
        },
        {
          "output_type": "stream",
          "name": "stderr",
          "text": [
            "100%|██████████| 10/10 [00:03<00:00,  2.77it/s]"
          ]
        },
        {
          "output_type": "stream",
          "name": "stdout",
          "text": [
            "2023-04-21 06:42:24,780 Evaluating as a multi-label problem: False\n",
            "2023-04-21 06:42:24,848 DEV : loss 78.19248962402344 - f1-score (weighted avg)  0.5923\n",
            "2023-04-21 06:42:24,858 BAD EPOCHS (no improvement): 0\n",
            "2023-04-21 06:42:24,862 saving best model\n"
          ]
        },
        {
          "output_type": "stream",
          "name": "stderr",
          "text": [
            "\n"
          ]
        },
        {
          "output_type": "stream",
          "name": "stdout",
          "text": [
            "2023-04-21 06:42:26,656 ----------------------------------------------------------------------------------------------------\n",
            "2023-04-21 06:42:28,084 epoch 14 - iter 7/79 - loss 77.62202883 - time (sec): 1.42 - samples/sec: 5405.87 - lr: 0.025000\n",
            "2023-04-21 06:42:29,974 epoch 14 - iter 14/79 - loss 75.15438810 - time (sec): 3.31 - samples/sec: 5342.34 - lr: 0.025000\n",
            "2023-04-21 06:42:31,465 epoch 14 - iter 21/79 - loss 78.44908671 - time (sec): 4.81 - samples/sec: 5411.84 - lr: 0.025000\n",
            "2023-04-21 06:42:33,320 epoch 14 - iter 28/79 - loss 79.21194852 - time (sec): 6.66 - samples/sec: 5200.03 - lr: 0.025000\n",
            "2023-04-21 06:42:34,784 epoch 14 - iter 35/79 - loss 80.10900162 - time (sec): 8.12 - samples/sec: 5253.98 - lr: 0.025000\n",
            "2023-04-21 06:42:36,440 epoch 14 - iter 42/79 - loss 79.01343121 - time (sec): 9.78 - samples/sec: 5225.13 - lr: 0.025000\n",
            "2023-04-21 06:42:38,212 epoch 14 - iter 49/79 - loss 78.34150806 - time (sec): 11.55 - samples/sec: 5243.77 - lr: 0.025000\n",
            "2023-04-21 06:42:39,502 epoch 14 - iter 56/79 - loss 77.85696721 - time (sec): 12.84 - samples/sec: 5335.49 - lr: 0.025000\n",
            "2023-04-21 06:42:41,095 epoch 14 - iter 63/79 - loss 77.34738550 - time (sec): 14.44 - samples/sec: 5332.99 - lr: 0.025000\n",
            "2023-04-21 06:42:42,326 epoch 14 - iter 70/79 - loss 77.01560840 - time (sec): 15.67 - samples/sec: 5346.52 - lr: 0.025000\n",
            "2023-04-21 06:42:43,667 epoch 14 - iter 77/79 - loss 77.07947837 - time (sec): 17.01 - samples/sec: 5448.25 - lr: 0.025000\n",
            "2023-04-21 06:42:44,061 ----------------------------------------------------------------------------------------------------\n",
            "2023-04-21 06:42:44,062 EPOCH 14 done: loss 77.0797 - lr 0.025000\n"
          ]
        },
        {
          "output_type": "stream",
          "name": "stderr",
          "text": [
            "100%|██████████| 79/79 [00:19<00:00,  4.01it/s]"
          ]
        },
        {
          "output_type": "stream",
          "name": "stdout",
          "text": [
            "2023-04-21 06:43:03,894 Evaluating as a multi-label problem: True\n"
          ]
        },
        {
          "output_type": "stream",
          "name": "stderr",
          "text": [
            "\n"
          ]
        },
        {
          "output_type": "stream",
          "name": "stdout",
          "text": [
            "2023-04-21 06:43:05,751 TRAIN : loss 40.339927673339844 - f1-score (weighted avg)  0.6443\n"
          ]
        },
        {
          "output_type": "stream",
          "name": "stderr",
          "text": [
            "100%|██████████| 10/10 [00:02<00:00,  3.95it/s]"
          ]
        },
        {
          "output_type": "stream",
          "name": "stdout",
          "text": [
            "2023-04-21 06:43:08,365 Evaluating as a multi-label problem: False\n",
            "2023-04-21 06:43:08,434 DEV : loss 69.9004898071289 - f1-score (weighted avg)  0.5688\n",
            "2023-04-21 06:43:08,443 BAD EPOCHS (no improvement): 0\n",
            "2023-04-21 06:43:08,447 saving best model\n"
          ]
        },
        {
          "output_type": "stream",
          "name": "stderr",
          "text": [
            "\n"
          ]
        },
        {
          "output_type": "stream",
          "name": "stdout",
          "text": [
            "2023-04-21 06:43:10,268 ----------------------------------------------------------------------------------------------------\n",
            "2023-04-21 06:43:12,058 epoch 15 - iter 7/79 - loss 76.61069828 - time (sec): 1.79 - samples/sec: 4744.82 - lr: 0.025000\n",
            "2023-04-21 06:43:13,428 epoch 15 - iter 14/79 - loss 69.27278871 - time (sec): 3.16 - samples/sec: 5213.58 - lr: 0.025000\n",
            "2023-04-21 06:43:15,349 epoch 15 - iter 21/79 - loss 66.94508150 - time (sec): 5.08 - samples/sec: 5061.92 - lr: 0.025000\n",
            "2023-04-21 06:43:16,690 epoch 15 - iter 28/79 - loss 68.23056290 - time (sec): 6.42 - samples/sec: 5299.99 - lr: 0.025000\n",
            "2023-04-21 06:43:18,542 epoch 15 - iter 35/79 - loss 69.65606813 - time (sec): 8.27 - samples/sec: 5297.41 - lr: 0.025000\n",
            "2023-04-21 06:43:19,869 epoch 15 - iter 42/79 - loss 68.54123939 - time (sec): 9.60 - samples/sec: 5415.29 - lr: 0.025000\n",
            "2023-04-21 06:43:21,204 epoch 15 - iter 49/79 - loss 67.45860971 - time (sec): 10.93 - samples/sec: 5501.81 - lr: 0.025000\n",
            "2023-04-21 06:43:22,702 epoch 15 - iter 56/79 - loss 66.65374947 - time (sec): 12.43 - samples/sec: 5536.35 - lr: 0.025000\n",
            "2023-04-21 06:43:24,483 epoch 15 - iter 63/79 - loss 66.33911425 - time (sec): 14.21 - samples/sec: 5430.12 - lr: 0.025000\n",
            "2023-04-21 06:43:25,753 epoch 15 - iter 70/79 - loss 65.75982399 - time (sec): 15.48 - samples/sec: 5466.11 - lr: 0.025000\n",
            "2023-04-21 06:43:27,279 epoch 15 - iter 77/79 - loss 65.96269306 - time (sec): 17.01 - samples/sec: 5459.10 - lr: 0.025000\n",
            "2023-04-21 06:43:27,677 ----------------------------------------------------------------------------------------------------\n",
            "2023-04-21 06:43:27,679 EPOCH 15 done: loss 65.9747 - lr 0.025000\n"
          ]
        },
        {
          "output_type": "stream",
          "name": "stderr",
          "text": [
            "100%|██████████| 79/79 [00:20<00:00,  3.77it/s]"
          ]
        },
        {
          "output_type": "stream",
          "name": "stdout",
          "text": [
            "2023-04-21 06:43:48,777 Evaluating as a multi-label problem: True\n"
          ]
        },
        {
          "output_type": "stream",
          "name": "stderr",
          "text": [
            "\n"
          ]
        },
        {
          "output_type": "stream",
          "name": "stdout",
          "text": [
            "2023-04-21 06:43:50,642 TRAIN : loss 40.103843688964844 - f1-score (weighted avg)  0.6499\n"
          ]
        },
        {
          "output_type": "stream",
          "name": "stderr",
          "text": [
            "100%|██████████| 10/10 [00:02<00:00,  3.92it/s]"
          ]
        },
        {
          "output_type": "stream",
          "name": "stdout",
          "text": [
            "2023-04-21 06:43:53,270 Evaluating as a multi-label problem: False\n",
            "2023-04-21 06:43:53,337 DEV : loss 67.31417083740234 - f1-score (weighted avg)  0.5766\n",
            "2023-04-21 06:43:53,346 BAD EPOCHS (no improvement): 0\n",
            "2023-04-21 06:43:53,350 saving best model\n"
          ]
        },
        {
          "output_type": "stream",
          "name": "stderr",
          "text": [
            "\n"
          ]
        },
        {
          "output_type": "stream",
          "name": "stdout",
          "text": [
            "2023-04-21 06:43:55,148 ----------------------------------------------------------------------------------------------------\n",
            "2023-04-21 06:43:56,710 epoch 16 - iter 7/79 - loss 68.18433198 - time (sec): 1.56 - samples/sec: 6150.23 - lr: 0.025000\n",
            "2023-04-21 06:43:58,650 epoch 16 - iter 14/79 - loss 62.84701579 - time (sec): 3.50 - samples/sec: 5537.91 - lr: 0.025000\n",
            "2023-04-21 06:44:00,107 epoch 16 - iter 21/79 - loss 61.08086152 - time (sec): 4.96 - samples/sec: 5554.43 - lr: 0.025000\n",
            "2023-04-21 06:44:01,719 epoch 16 - iter 28/79 - loss 64.33764560 - time (sec): 6.57 - samples/sec: 5476.62 - lr: 0.025000\n",
            "2023-04-21 06:44:03,182 epoch 16 - iter 35/79 - loss 64.26133381 - time (sec): 8.03 - samples/sec: 5456.13 - lr: 0.025000\n",
            "2023-04-21 06:44:04,610 epoch 16 - iter 42/79 - loss 65.55356392 - time (sec): 9.46 - samples/sec: 5528.61 - lr: 0.025000\n",
            "2023-04-21 06:44:06,037 epoch 16 - iter 49/79 - loss 65.53758025 - time (sec): 10.89 - samples/sec: 5551.23 - lr: 0.025000\n",
            "2023-04-21 06:44:07,502 epoch 16 - iter 56/79 - loss 66.35568830 - time (sec): 12.35 - samples/sec: 5579.08 - lr: 0.025000\n",
            "2023-04-21 06:44:09,434 epoch 16 - iter 63/79 - loss 65.82004916 - time (sec): 14.28 - samples/sec: 5433.31 - lr: 0.025000\n",
            "2023-04-21 06:44:11,166 epoch 16 - iter 70/79 - loss 66.39090689 - time (sec): 16.02 - samples/sec: 5350.63 - lr: 0.025000\n",
            "2023-04-21 06:44:12,479 epoch 16 - iter 77/79 - loss 65.48815221 - time (sec): 17.33 - samples/sec: 5359.77 - lr: 0.025000\n",
            "2023-04-21 06:44:12,815 ----------------------------------------------------------------------------------------------------\n",
            "2023-04-21 06:44:12,816 EPOCH 16 done: loss 65.5104 - lr 0.025000\n"
          ]
        },
        {
          "output_type": "stream",
          "name": "stderr",
          "text": [
            "100%|██████████| 79/79 [00:19<00:00,  4.03it/s]"
          ]
        },
        {
          "output_type": "stream",
          "name": "stdout",
          "text": [
            "2023-04-21 06:44:32,568 Evaluating as a multi-label problem: True\n"
          ]
        },
        {
          "output_type": "stream",
          "name": "stderr",
          "text": [
            "\n"
          ]
        },
        {
          "output_type": "stream",
          "name": "stdout",
          "text": [
            "2023-04-21 06:44:35,705 TRAIN : loss 41.92377471923828 - f1-score (weighted avg)  0.6559\n"
          ]
        },
        {
          "output_type": "stream",
          "name": "stderr",
          "text": [
            "100%|██████████| 10/10 [00:02<00:00,  3.79it/s]"
          ]
        },
        {
          "output_type": "stream",
          "name": "stdout",
          "text": [
            "2023-04-21 06:44:38,426 Evaluating as a multi-label problem: False\n",
            "2023-04-21 06:44:38,497 DEV : loss 67.08356475830078 - f1-score (weighted avg)  0.5861\n",
            "2023-04-21 06:44:38,506 BAD EPOCHS (no improvement): 0\n",
            "2023-04-21 06:44:38,510 saving best model\n"
          ]
        },
        {
          "output_type": "stream",
          "name": "stderr",
          "text": [
            "\n"
          ]
        },
        {
          "output_type": "stream",
          "name": "stdout",
          "text": [
            "2023-04-21 06:44:40,331 ----------------------------------------------------------------------------------------------------\n",
            "2023-04-21 06:44:41,819 epoch 17 - iter 7/79 - loss 57.08360468 - time (sec): 1.49 - samples/sec: 4857.12 - lr: 0.025000\n",
            "2023-04-21 06:44:43,293 epoch 17 - iter 14/79 - loss 61.17942813 - time (sec): 2.96 - samples/sec: 5465.18 - lr: 0.025000\n",
            "2023-04-21 06:44:44,645 epoch 17 - iter 21/79 - loss 62.48087920 - time (sec): 4.31 - samples/sec: 5616.98 - lr: 0.025000\n",
            "2023-04-21 06:44:46,315 epoch 17 - iter 28/79 - loss 63.48429100 - time (sec): 5.98 - samples/sec: 5628.11 - lr: 0.025000\n",
            "2023-04-21 06:44:47,543 epoch 17 - iter 35/79 - loss 62.58743151 - time (sec): 7.21 - samples/sec: 5670.75 - lr: 0.025000\n",
            "2023-04-21 06:44:49,482 epoch 17 - iter 42/79 - loss 63.18109506 - time (sec): 9.15 - samples/sec: 5436.20 - lr: 0.025000\n",
            "2023-04-21 06:44:51,436 epoch 17 - iter 49/79 - loss 62.00906453 - time (sec): 11.10 - samples/sec: 5347.19 - lr: 0.025000\n",
            "2023-04-21 06:44:52,847 epoch 17 - iter 56/79 - loss 63.34992485 - time (sec): 12.51 - samples/sec: 5396.82 - lr: 0.025000\n",
            "2023-04-21 06:44:54,314 epoch 17 - iter 63/79 - loss 63.77088125 - time (sec): 13.98 - samples/sec: 5411.29 - lr: 0.025000\n",
            "2023-04-21 06:44:56,187 epoch 17 - iter 70/79 - loss 63.70019234 - time (sec): 15.85 - samples/sec: 5296.30 - lr: 0.025000\n",
            "2023-04-21 06:44:58,036 epoch 17 - iter 77/79 - loss 65.28226781 - time (sec): 17.70 - samples/sec: 5237.82 - lr: 0.025000\n",
            "2023-04-21 06:44:58,415 ----------------------------------------------------------------------------------------------------\n",
            "2023-04-21 06:44:58,417 EPOCH 17 done: loss 64.9573 - lr 0.025000\n"
          ]
        },
        {
          "output_type": "stream",
          "name": "stderr",
          "text": [
            "100%|██████████| 79/79 [00:19<00:00,  3.99it/s]"
          ]
        },
        {
          "output_type": "stream",
          "name": "stdout",
          "text": [
            "2023-04-21 06:45:18,342 Evaluating as a multi-label problem: True\n"
          ]
        },
        {
          "output_type": "stream",
          "name": "stderr",
          "text": [
            "\n"
          ]
        },
        {
          "output_type": "stream",
          "name": "stdout",
          "text": [
            "2023-04-21 06:45:20,214 TRAIN : loss 42.31814956665039 - f1-score (weighted avg)  0.6239\n"
          ]
        },
        {
          "output_type": "stream",
          "name": "stderr",
          "text": [
            "100%|██████████| 10/10 [00:02<00:00,  3.89it/s]"
          ]
        },
        {
          "output_type": "stream",
          "name": "stdout",
          "text": [
            "2023-04-21 06:45:22,869 Evaluating as a multi-label problem: False\n",
            "2023-04-21 06:45:22,940 DEV : loss 65.89649963378906 - f1-score (weighted avg)  0.5638\n",
            "2023-04-21 06:45:22,949 BAD EPOCHS (no improvement): 0\n",
            "2023-04-21 06:45:22,954 saving best model\n"
          ]
        },
        {
          "output_type": "stream",
          "name": "stderr",
          "text": [
            "\n"
          ]
        },
        {
          "output_type": "stream",
          "name": "stdout",
          "text": [
            "2023-04-21 06:45:24,757 ----------------------------------------------------------------------------------------------------\n",
            "2023-04-21 06:45:26,296 epoch 18 - iter 7/79 - loss 59.42494885 - time (sec): 1.54 - samples/sec: 6041.19 - lr: 0.025000\n",
            "2023-04-21 06:45:28,119 epoch 18 - iter 14/79 - loss 55.64778260 - time (sec): 3.36 - samples/sec: 5317.92 - lr: 0.025000\n",
            "2023-04-21 06:45:29,503 epoch 18 - iter 21/79 - loss 56.03182809 - time (sec): 4.74 - samples/sec: 5366.58 - lr: 0.025000\n",
            "2023-04-21 06:45:30,684 epoch 18 - iter 28/79 - loss 56.13376698 - time (sec): 5.93 - samples/sec: 5529.78 - lr: 0.025000\n",
            "2023-04-21 06:45:32,418 epoch 18 - iter 35/79 - loss 57.63992944 - time (sec): 7.66 - samples/sec: 5449.34 - lr: 0.025000\n",
            "2023-04-21 06:45:34,688 epoch 18 - iter 42/79 - loss 59.82883565 - time (sec): 9.93 - samples/sec: 5123.93 - lr: 0.025000\n",
            "2023-04-21 06:45:35,903 epoch 18 - iter 49/79 - loss 59.96450633 - time (sec): 11.14 - samples/sec: 5265.75 - lr: 0.025000\n",
            "2023-04-21 06:45:37,255 epoch 18 - iter 56/79 - loss 59.66651759 - time (sec): 12.50 - samples/sec: 5301.00 - lr: 0.025000\n",
            "2023-04-21 06:45:38,772 epoch 18 - iter 63/79 - loss 60.46387104 - time (sec): 14.01 - samples/sec: 5319.61 - lr: 0.025000\n",
            "2023-04-21 06:45:40,231 epoch 18 - iter 70/79 - loss 61.77230692 - time (sec): 15.47 - samples/sec: 5388.52 - lr: 0.025000\n",
            "2023-04-21 06:45:41,870 epoch 18 - iter 77/79 - loss 61.87961136 - time (sec): 17.11 - samples/sec: 5376.79 - lr: 0.025000\n",
            "2023-04-21 06:45:42,457 ----------------------------------------------------------------------------------------------------\n",
            "2023-04-21 06:45:42,459 EPOCH 18 done: loss 62.1300 - lr 0.025000\n"
          ]
        },
        {
          "output_type": "stream",
          "name": "stderr",
          "text": [
            "100%|██████████| 79/79 [00:21<00:00,  3.76it/s]"
          ]
        },
        {
          "output_type": "stream",
          "name": "stdout",
          "text": [
            "2023-04-21 06:46:03,599 Evaluating as a multi-label problem: True\n"
          ]
        },
        {
          "output_type": "stream",
          "name": "stderr",
          "text": [
            "\n"
          ]
        },
        {
          "output_type": "stream",
          "name": "stdout",
          "text": [
            "2023-04-21 06:46:05,470 TRAIN : loss 44.99423599243164 - f1-score (weighted avg)  0.6339\n"
          ]
        },
        {
          "output_type": "stream",
          "name": "stderr",
          "text": [
            "100%|██████████| 10/10 [00:02<00:00,  3.91it/s]"
          ]
        },
        {
          "output_type": "stream",
          "name": "stdout",
          "text": [
            "2023-04-21 06:46:08,112 Evaluating as a multi-label problem: False\n",
            "2023-04-21 06:46:08,184 DEV : loss 71.40547943115234 - f1-score (weighted avg)  0.5973\n",
            "2023-04-21 06:46:08,194 BAD EPOCHS (no improvement): 1\n",
            "2023-04-21 06:46:08,199 ----------------------------------------------------------------------------------------------------\n"
          ]
        },
        {
          "output_type": "stream",
          "name": "stderr",
          "text": [
            "\n"
          ]
        },
        {
          "output_type": "stream",
          "name": "stdout",
          "text": [
            "2023-04-21 06:46:10,045 epoch 19 - iter 7/79 - loss 68.63494687 - time (sec): 1.84 - samples/sec: 4796.83 - lr: 0.025000\n",
            "2023-04-21 06:46:11,466 epoch 19 - iter 14/79 - loss 67.26337282 - time (sec): 3.27 - samples/sec: 4912.08 - lr: 0.025000\n",
            "2023-04-21 06:46:12,946 epoch 19 - iter 21/79 - loss 60.85070738 - time (sec): 4.75 - samples/sec: 5317.32 - lr: 0.025000\n",
            "2023-04-21 06:46:14,629 epoch 19 - iter 28/79 - loss 60.53135844 - time (sec): 6.43 - samples/sec: 5334.45 - lr: 0.025000\n",
            "2023-04-21 06:46:16,731 epoch 19 - iter 35/79 - loss 61.24370848 - time (sec): 8.53 - samples/sec: 5116.65 - lr: 0.025000\n",
            "2023-04-21 06:46:18,024 epoch 19 - iter 42/79 - loss 63.13729960 - time (sec): 9.82 - samples/sec: 5219.38 - lr: 0.025000\n",
            "2023-04-21 06:46:19,599 epoch 19 - iter 49/79 - loss 61.38913968 - time (sec): 11.40 - samples/sec: 5271.59 - lr: 0.025000\n",
            "2023-04-21 06:46:21,147 epoch 19 - iter 56/79 - loss 61.61574799 - time (sec): 12.95 - samples/sec: 5328.54 - lr: 0.025000\n",
            "2023-04-21 06:46:22,340 epoch 19 - iter 63/79 - loss 61.66399249 - time (sec): 14.14 - samples/sec: 5421.49 - lr: 0.025000\n",
            "2023-04-21 06:46:23,987 epoch 19 - iter 70/79 - loss 61.43093836 - time (sec): 15.79 - samples/sec: 5371.19 - lr: 0.025000\n",
            "2023-04-21 06:46:25,397 epoch 19 - iter 77/79 - loss 61.20554666 - time (sec): 17.20 - samples/sec: 5391.64 - lr: 0.025000\n",
            "2023-04-21 06:46:25,764 ----------------------------------------------------------------------------------------------------\n",
            "2023-04-21 06:46:25,765 EPOCH 19 done: loss 61.2297 - lr 0.025000\n"
          ]
        },
        {
          "output_type": "stream",
          "name": "stderr",
          "text": [
            "100%|██████████| 79/79 [00:19<00:00,  4.03it/s]"
          ]
        },
        {
          "output_type": "stream",
          "name": "stdout",
          "text": [
            "2023-04-21 06:46:45,515 Evaluating as a multi-label problem: True\n"
          ]
        },
        {
          "output_type": "stream",
          "name": "stderr",
          "text": [
            "\n"
          ]
        },
        {
          "output_type": "stream",
          "name": "stdout",
          "text": [
            "2023-04-21 06:46:48,627 TRAIN : loss 36.03307342529297 - f1-score (weighted avg)  0.6632\n"
          ]
        },
        {
          "output_type": "stream",
          "name": "stderr",
          "text": [
            "100%|██████████| 10/10 [00:02<00:00,  3.96it/s]"
          ]
        },
        {
          "output_type": "stream",
          "name": "stdout",
          "text": [
            "2023-04-21 06:46:51,232 Evaluating as a multi-label problem: False\n",
            "2023-04-21 06:46:51,303 DEV : loss 56.88645935058594 - f1-score (weighted avg)  0.6092\n",
            "2023-04-21 06:46:51,312 BAD EPOCHS (no improvement): 0\n",
            "2023-04-21 06:46:51,316 saving best model\n"
          ]
        },
        {
          "output_type": "stream",
          "name": "stderr",
          "text": [
            "\n"
          ]
        },
        {
          "output_type": "stream",
          "name": "stdout",
          "text": [
            "2023-04-21 06:46:53,123 ----------------------------------------------------------------------------------------------------\n",
            "2023-04-21 06:46:54,608 epoch 20 - iter 7/79 - loss 61.49593556 - time (sec): 1.47 - samples/sec: 5794.11 - lr: 0.025000\n",
            "2023-04-21 06:46:55,923 epoch 20 - iter 14/79 - loss 65.11323975 - time (sec): 2.79 - samples/sec: 5811.76 - lr: 0.025000\n",
            "2023-04-21 06:46:57,868 epoch 20 - iter 21/79 - loss 62.78262293 - time (sec): 4.73 - samples/sec: 5244.25 - lr: 0.025000\n",
            "2023-04-21 06:46:59,180 epoch 20 - iter 28/79 - loss 65.45529963 - time (sec): 6.04 - samples/sec: 5575.48 - lr: 0.025000\n",
            "2023-04-21 06:47:00,477 epoch 20 - iter 35/79 - loss 64.91743181 - time (sec): 7.34 - samples/sec: 5550.19 - lr: 0.025000\n",
            "2023-04-21 06:47:02,049 epoch 20 - iter 42/79 - loss 63.39378520 - time (sec): 8.91 - samples/sec: 5480.03 - lr: 0.025000\n",
            "2023-04-21 06:47:03,755 epoch 20 - iter 49/79 - loss 63.07119747 - time (sec): 10.62 - samples/sec: 5443.49 - lr: 0.025000\n",
            "2023-04-21 06:47:05,193 epoch 20 - iter 56/79 - loss 60.96845786 - time (sec): 12.06 - samples/sec: 5474.45 - lr: 0.025000\n",
            "2023-04-21 06:47:07,265 epoch 20 - iter 63/79 - loss 60.55643479 - time (sec): 14.13 - samples/sec: 5345.74 - lr: 0.025000\n",
            "2023-04-21 06:47:08,906 epoch 20 - iter 70/79 - loss 60.86237459 - time (sec): 15.77 - samples/sec: 5341.37 - lr: 0.025000\n",
            "2023-04-21 06:47:10,600 epoch 20 - iter 77/79 - loss 60.81756123 - time (sec): 17.46 - samples/sec: 5307.83 - lr: 0.025000\n",
            "2023-04-21 06:47:10,907 ----------------------------------------------------------------------------------------------------\n",
            "2023-04-21 06:47:10,909 EPOCH 20 done: loss 61.0593 - lr 0.025000\n"
          ]
        },
        {
          "output_type": "stream",
          "name": "stderr",
          "text": [
            "100%|██████████| 79/79 [00:19<00:00,  4.01it/s]"
          ]
        },
        {
          "output_type": "stream",
          "name": "stdout",
          "text": [
            "2023-04-21 06:47:30,753 Evaluating as a multi-label problem: True\n"
          ]
        },
        {
          "output_type": "stream",
          "name": "stderr",
          "text": [
            "\n"
          ]
        },
        {
          "output_type": "stream",
          "name": "stdout",
          "text": [
            "2023-04-21 06:47:32,623 TRAIN : loss 34.6785774230957 - f1-score (weighted avg)  0.6455\n"
          ]
        },
        {
          "output_type": "stream",
          "name": "stderr",
          "text": [
            "100%|██████████| 10/10 [00:02<00:00,  3.97it/s]"
          ]
        },
        {
          "output_type": "stream",
          "name": "stdout",
          "text": [
            "2023-04-21 06:47:35,233 Evaluating as a multi-label problem: False\n",
            "2023-04-21 06:47:35,304 DEV : loss 57.63330841064453 - f1-score (weighted avg)  0.5749\n",
            "2023-04-21 06:47:35,313 BAD EPOCHS (no improvement): 1\n",
            "2023-04-21 06:47:35,317 ----------------------------------------------------------------------------------------------------\n"
          ]
        },
        {
          "output_type": "stream",
          "name": "stderr",
          "text": [
            "\n"
          ]
        },
        {
          "output_type": "stream",
          "name": "stdout",
          "text": [
            "2023-04-21 06:47:36,979 epoch 21 - iter 7/79 - loss 48.20893895 - time (sec): 1.66 - samples/sec: 4764.47 - lr: 0.025000\n",
            "2023-04-21 06:47:38,375 epoch 21 - iter 14/79 - loss 48.54718220 - time (sec): 3.06 - samples/sec: 5108.07 - lr: 0.025000\n",
            "2023-04-21 06:47:39,782 epoch 21 - iter 21/79 - loss 49.89205829 - time (sec): 4.46 - samples/sec: 5353.46 - lr: 0.025000\n",
            "2023-04-21 06:47:41,157 epoch 21 - iter 28/79 - loss 53.09684298 - time (sec): 5.84 - samples/sec: 5431.84 - lr: 0.025000\n",
            "2023-04-21 06:47:42,651 epoch 21 - iter 35/79 - loss 53.82092958 - time (sec): 7.33 - samples/sec: 5490.52 - lr: 0.025000\n",
            "2023-04-21 06:47:44,384 epoch 21 - iter 42/79 - loss 54.95361268 - time (sec): 9.07 - samples/sec: 5385.85 - lr: 0.025000\n",
            "2023-04-21 06:47:45,727 epoch 21 - iter 49/79 - loss 53.67870615 - time (sec): 10.41 - samples/sec: 5450.06 - lr: 0.025000\n",
            "2023-04-21 06:47:47,294 epoch 21 - iter 56/79 - loss 53.37688931 - time (sec): 11.98 - samples/sec: 5497.18 - lr: 0.025000\n",
            "2023-04-21 06:47:49,111 epoch 21 - iter 63/79 - loss 53.93796418 - time (sec): 13.79 - samples/sec: 5398.35 - lr: 0.025000\n",
            "2023-04-21 06:47:50,574 epoch 21 - iter 70/79 - loss 55.37587708 - time (sec): 15.26 - samples/sec: 5418.47 - lr: 0.025000\n",
            "2023-04-21 06:47:52,158 epoch 21 - iter 77/79 - loss 54.57308997 - time (sec): 16.84 - samples/sec: 5436.26 - lr: 0.025000\n",
            "2023-04-21 06:47:52,830 ----------------------------------------------------------------------------------------------------\n",
            "2023-04-21 06:47:52,832 EPOCH 21 done: loss 54.2514 - lr 0.025000\n"
          ]
        },
        {
          "output_type": "stream",
          "name": "stderr",
          "text": [
            "100%|██████████| 79/79 [00:20<00:00,  3.78it/s]"
          ]
        },
        {
          "output_type": "stream",
          "name": "stdout",
          "text": [
            "2023-04-21 06:48:13,861 Evaluating as a multi-label problem: True\n"
          ]
        },
        {
          "output_type": "stream",
          "name": "stderr",
          "text": [
            "\n"
          ]
        },
        {
          "output_type": "stream",
          "name": "stdout",
          "text": [
            "2023-04-21 06:48:15,731 TRAIN : loss 30.17097282409668 - f1-score (weighted avg)  0.666\n"
          ]
        },
        {
          "output_type": "stream",
          "name": "stderr",
          "text": [
            "100%|██████████| 10/10 [00:02<00:00,  3.90it/s]"
          ]
        },
        {
          "output_type": "stream",
          "name": "stdout",
          "text": [
            "2023-04-21 06:48:18,377 Evaluating as a multi-label problem: False\n",
            "2023-04-21 06:48:18,448 DEV : loss 51.88227081298828 - f1-score (weighted avg)  0.5938\n",
            "2023-04-21 06:48:18,458 BAD EPOCHS (no improvement): 0\n",
            "2023-04-21 06:48:18,461 saving best model\n"
          ]
        },
        {
          "output_type": "stream",
          "name": "stderr",
          "text": [
            "\n"
          ]
        },
        {
          "output_type": "stream",
          "name": "stdout",
          "text": [
            "2023-04-21 06:48:20,268 ----------------------------------------------------------------------------------------------------\n",
            "2023-04-21 06:48:21,933 epoch 22 - iter 7/79 - loss 49.46799261 - time (sec): 1.66 - samples/sec: 5532.77 - lr: 0.025000\n",
            "2023-04-21 06:48:23,438 epoch 22 - iter 14/79 - loss 46.76388068 - time (sec): 3.17 - samples/sec: 5875.92 - lr: 0.025000\n",
            "2023-04-21 06:48:24,820 epoch 22 - iter 21/79 - loss 49.02435287 - time (sec): 4.55 - samples/sec: 5935.47 - lr: 0.025000\n",
            "2023-04-21 06:48:26,284 epoch 22 - iter 28/79 - loss 51.77787032 - time (sec): 6.01 - samples/sec: 5939.83 - lr: 0.025000\n",
            "2023-04-21 06:48:27,786 epoch 22 - iter 35/79 - loss 54.53577360 - time (sec): 7.52 - samples/sec: 5848.79 - lr: 0.025000\n",
            "2023-04-21 06:48:29,563 epoch 22 - iter 42/79 - loss 54.97850656 - time (sec): 9.29 - samples/sec: 5770.15 - lr: 0.025000\n",
            "2023-04-21 06:48:30,978 epoch 22 - iter 49/79 - loss 55.49688345 - time (sec): 10.71 - samples/sec: 5764.54 - lr: 0.025000\n",
            "2023-04-21 06:48:32,672 epoch 22 - iter 56/79 - loss 54.73905704 - time (sec): 12.40 - samples/sec: 5582.75 - lr: 0.025000\n",
            "2023-04-21 06:48:34,476 epoch 22 - iter 63/79 - loss 55.82514740 - time (sec): 14.21 - samples/sec: 5468.20 - lr: 0.025000\n",
            "2023-04-21 06:48:36,357 epoch 22 - iter 70/79 - loss 55.22423765 - time (sec): 16.09 - samples/sec: 5304.24 - lr: 0.025000\n",
            "2023-04-21 06:48:37,806 epoch 22 - iter 77/79 - loss 55.56462666 - time (sec): 17.54 - samples/sec: 5284.32 - lr: 0.025000\n",
            "2023-04-21 06:48:38,253 ----------------------------------------------------------------------------------------------------\n",
            "2023-04-21 06:48:38,255 EPOCH 22 done: loss 55.5807 - lr 0.025000\n"
          ]
        },
        {
          "output_type": "stream",
          "name": "stderr",
          "text": [
            "100%|██████████| 79/79 [00:19<00:00,  4.03it/s]"
          ]
        },
        {
          "output_type": "stream",
          "name": "stdout",
          "text": [
            "2023-04-21 06:48:58,000 Evaluating as a multi-label problem: True\n"
          ]
        },
        {
          "output_type": "stream",
          "name": "stderr",
          "text": [
            "\n"
          ]
        },
        {
          "output_type": "stream",
          "name": "stdout",
          "text": [
            "2023-04-21 06:49:01,139 TRAIN : loss 38.224796295166016 - f1-score (weighted avg)  0.6004\n"
          ]
        },
        {
          "output_type": "stream",
          "name": "stderr",
          "text": [
            "100%|██████████| 10/10 [00:02<00:00,  3.92it/s]"
          ]
        },
        {
          "output_type": "stream",
          "name": "stdout",
          "text": [
            "2023-04-21 06:49:03,768 Evaluating as a multi-label problem: False\n",
            "2023-04-21 06:49:03,834 DEV : loss 58.237457275390625 - f1-score (weighted avg)  0.5531\n",
            "2023-04-21 06:49:03,844 BAD EPOCHS (no improvement): 1\n",
            "2023-04-21 06:49:03,848 ----------------------------------------------------------------------------------------------------\n"
          ]
        },
        {
          "output_type": "stream",
          "name": "stderr",
          "text": [
            "\n"
          ]
        },
        {
          "output_type": "stream",
          "name": "stdout",
          "text": [
            "2023-04-21 06:49:05,756 epoch 23 - iter 7/79 - loss 42.58585482 - time (sec): 1.91 - samples/sec: 5103.89 - lr: 0.025000\n",
            "2023-04-21 06:49:07,320 epoch 23 - iter 14/79 - loss 48.92224431 - time (sec): 3.47 - samples/sec: 5181.23 - lr: 0.025000\n",
            "2023-04-21 06:49:09,062 epoch 23 - iter 21/79 - loss 49.65889956 - time (sec): 5.21 - samples/sec: 5194.83 - lr: 0.025000\n",
            "2023-04-21 06:49:10,479 epoch 23 - iter 28/79 - loss 49.33917659 - time (sec): 6.63 - samples/sec: 5207.72 - lr: 0.025000\n",
            "2023-04-21 06:49:11,907 epoch 23 - iter 35/79 - loss 51.44558332 - time (sec): 8.06 - samples/sec: 5230.61 - lr: 0.025000\n",
            "2023-04-21 06:49:13,392 epoch 23 - iter 42/79 - loss 52.50852831 - time (sec): 9.54 - samples/sec: 5275.73 - lr: 0.025000\n",
            "2023-04-21 06:49:14,848 epoch 23 - iter 49/79 - loss 53.20067046 - time (sec): 11.00 - samples/sec: 5332.90 - lr: 0.025000\n",
            "2023-04-21 06:49:16,271 epoch 23 - iter 56/79 - loss 53.70586492 - time (sec): 12.42 - samples/sec: 5431.35 - lr: 0.025000\n",
            "2023-04-21 06:49:18,106 epoch 23 - iter 63/79 - loss 53.00985922 - time (sec): 14.26 - samples/sec: 5343.92 - lr: 0.025000\n",
            "2023-04-21 06:49:19,503 epoch 23 - iter 70/79 - loss 52.78282716 - time (sec): 15.65 - samples/sec: 5379.53 - lr: 0.025000\n",
            "2023-04-21 06:49:21,162 epoch 23 - iter 77/79 - loss 53.26301016 - time (sec): 17.31 - samples/sec: 5339.78 - lr: 0.025000\n",
            "2023-04-21 06:49:21,558 ----------------------------------------------------------------------------------------------------\n",
            "2023-04-21 06:49:21,560 EPOCH 23 done: loss 53.7337 - lr 0.025000\n"
          ]
        },
        {
          "output_type": "stream",
          "name": "stderr",
          "text": [
            "100%|██████████| 79/79 [00:19<00:00,  3.96it/s]"
          ]
        },
        {
          "output_type": "stream",
          "name": "stdout",
          "text": [
            "2023-04-21 06:49:41,641 Evaluating as a multi-label problem: True\n"
          ]
        },
        {
          "output_type": "stream",
          "name": "stderr",
          "text": [
            "\n"
          ]
        },
        {
          "output_type": "stream",
          "name": "stdout",
          "text": [
            "2023-04-21 06:49:43,505 TRAIN : loss 35.555423736572266 - f1-score (weighted avg)  0.6249\n"
          ]
        },
        {
          "output_type": "stream",
          "name": "stderr",
          "text": [
            "100%|██████████| 10/10 [00:02<00:00,  3.89it/s]"
          ]
        },
        {
          "output_type": "stream",
          "name": "stdout",
          "text": [
            "2023-04-21 06:49:46,152 Evaluating as a multi-label problem: False\n",
            "2023-04-21 06:49:46,224 DEV : loss 59.5703125 - f1-score (weighted avg)  0.5635\n",
            "2023-04-21 06:49:46,234 Epoch    23: reducing learning rate of group 0 to 1.2500e-02.\n",
            "2023-04-21 06:49:46,236 BAD EPOCHS (no improvement): 2\n",
            "2023-04-21 06:49:46,240 ----------------------------------------------------------------------------------------------------\n"
          ]
        },
        {
          "output_type": "stream",
          "name": "stderr",
          "text": [
            "\n"
          ]
        },
        {
          "output_type": "stream",
          "name": "stdout",
          "text": [
            "2023-04-21 06:49:47,700 epoch 24 - iter 7/79 - loss 57.79343653 - time (sec): 1.46 - samples/sec: 5536.34 - lr: 0.012500\n",
            "2023-04-21 06:49:48,992 epoch 24 - iter 14/79 - loss 53.55583607 - time (sec): 2.75 - samples/sec: 5868.76 - lr: 0.012500\n",
            "2023-04-21 06:49:50,395 epoch 24 - iter 21/79 - loss 50.81742919 - time (sec): 4.15 - samples/sec: 5755.58 - lr: 0.012500\n",
            "2023-04-21 06:49:52,012 epoch 24 - iter 28/79 - loss 48.25730835 - time (sec): 5.77 - samples/sec: 5801.00 - lr: 0.012500\n",
            "2023-04-21 06:49:53,816 epoch 24 - iter 35/79 - loss 47.79696165 - time (sec): 7.57 - samples/sec: 5546.55 - lr: 0.012500\n",
            "2023-04-21 06:49:55,301 epoch 24 - iter 42/79 - loss 47.59464564 - time (sec): 9.06 - samples/sec: 5588.21 - lr: 0.012500\n",
            "2023-04-21 06:49:56,641 epoch 24 - iter 49/79 - loss 46.81638436 - time (sec): 10.40 - samples/sec: 5611.92 - lr: 0.012500\n",
            "2023-04-21 06:49:58,530 epoch 24 - iter 56/79 - loss 45.46189384 - time (sec): 12.29 - samples/sec: 5482.66 - lr: 0.012500\n",
            "2023-04-21 06:50:00,085 epoch 24 - iter 63/79 - loss 45.06385174 - time (sec): 13.84 - samples/sec: 5514.51 - lr: 0.012500\n",
            "2023-04-21 06:50:01,611 epoch 24 - iter 70/79 - loss 44.82849963 - time (sec): 15.37 - samples/sec: 5525.17 - lr: 0.012500\n",
            "2023-04-21 06:50:03,083 epoch 24 - iter 77/79 - loss 43.80097609 - time (sec): 16.84 - samples/sec: 5496.19 - lr: 0.012500\n",
            "2023-04-21 06:50:03,441 ----------------------------------------------------------------------------------------------------\n",
            "2023-04-21 06:50:03,443 EPOCH 24 done: loss 43.3118 - lr 0.012500\n"
          ]
        },
        {
          "output_type": "stream",
          "name": "stderr",
          "text": [
            "100%|██████████| 79/79 [00:20<00:00,  3.81it/s]"
          ]
        },
        {
          "output_type": "stream",
          "name": "stdout",
          "text": [
            "2023-04-21 06:50:24,323 Evaluating as a multi-label problem: True\n"
          ]
        },
        {
          "output_type": "stream",
          "name": "stderr",
          "text": [
            "\n"
          ]
        },
        {
          "output_type": "stream",
          "name": "stdout",
          "text": [
            "2023-04-21 06:50:26,196 TRAIN : loss 22.481565475463867 - f1-score (weighted avg)  0.6701\n"
          ]
        },
        {
          "output_type": "stream",
          "name": "stderr",
          "text": [
            "100%|██████████| 10/10 [00:02<00:00,  3.90it/s]"
          ]
        },
        {
          "output_type": "stream",
          "name": "stdout",
          "text": [
            "2023-04-21 06:50:28,840 Evaluating as a multi-label problem: False\n",
            "2023-04-21 06:50:28,909 DEV : loss 43.040889739990234 - f1-score (weighted avg)  0.5969\n",
            "2023-04-21 06:50:28,918 BAD EPOCHS (no improvement): 0\n",
            "2023-04-21 06:50:28,922 saving best model\n"
          ]
        },
        {
          "output_type": "stream",
          "name": "stderr",
          "text": [
            "\n"
          ]
        },
        {
          "output_type": "stream",
          "name": "stdout",
          "text": [
            "2023-04-21 06:50:30,739 ----------------------------------------------------------------------------------------------------\n",
            "2023-04-21 06:50:32,578 epoch 25 - iter 7/79 - loss 34.58250313 - time (sec): 1.84 - samples/sec: 4781.17 - lr: 0.012500\n",
            "2023-04-21 06:50:34,038 epoch 25 - iter 14/79 - loss 31.61565259 - time (sec): 3.30 - samples/sec: 5256.26 - lr: 0.012500\n",
            "2023-04-21 06:50:35,823 epoch 25 - iter 21/79 - loss 32.91574903 - time (sec): 5.08 - samples/sec: 5057.41 - lr: 0.012500\n",
            "2023-04-21 06:50:37,627 epoch 25 - iter 28/79 - loss 34.69085326 - time (sec): 6.89 - samples/sec: 5048.03 - lr: 0.012500\n",
            "2023-04-21 06:50:39,145 epoch 25 - iter 35/79 - loss 33.81651997 - time (sec): 8.40 - samples/sec: 5097.16 - lr: 0.012500\n",
            "2023-04-21 06:50:40,596 epoch 25 - iter 42/79 - loss 34.22783231 - time (sec): 9.86 - samples/sec: 5235.86 - lr: 0.012500\n",
            "2023-04-21 06:50:42,169 epoch 25 - iter 49/79 - loss 34.67154235 - time (sec): 11.43 - samples/sec: 5199.58 - lr: 0.012500\n",
            "2023-04-21 06:50:43,555 epoch 25 - iter 56/79 - loss 35.84657874 - time (sec): 12.81 - samples/sec: 5247.16 - lr: 0.012500\n",
            "2023-04-21 06:50:45,144 epoch 25 - iter 63/79 - loss 36.01007553 - time (sec): 14.40 - samples/sec: 5249.08 - lr: 0.012500\n",
            "2023-04-21 06:50:46,582 epoch 25 - iter 70/79 - loss 35.63033970 - time (sec): 15.84 - samples/sec: 5278.73 - lr: 0.012500\n",
            "2023-04-21 06:50:48,118 epoch 25 - iter 77/79 - loss 36.16034844 - time (sec): 17.38 - samples/sec: 5331.47 - lr: 0.012500\n",
            "2023-04-21 06:50:48,458 ----------------------------------------------------------------------------------------------------\n",
            "2023-04-21 06:50:48,459 EPOCH 25 done: loss 36.0379 - lr 0.012500\n"
          ]
        },
        {
          "output_type": "stream",
          "name": "stderr",
          "text": [
            "100%|██████████| 79/79 [00:19<00:00,  4.02it/s]"
          ]
        },
        {
          "output_type": "stream",
          "name": "stdout",
          "text": [
            "2023-04-21 06:51:08,256 Evaluating as a multi-label problem: True\n"
          ]
        },
        {
          "output_type": "stream",
          "name": "stderr",
          "text": [
            "\n"
          ]
        },
        {
          "output_type": "stream",
          "name": "stdout",
          "text": [
            "2023-04-21 06:51:11,372 TRAIN : loss 17.974634170532227 - f1-score (weighted avg)  0.6916\n"
          ]
        },
        {
          "output_type": "stream",
          "name": "stderr",
          "text": [
            "100%|██████████| 10/10 [00:02<00:00,  3.94it/s]"
          ]
        },
        {
          "output_type": "stream",
          "name": "stdout",
          "text": [
            "2023-04-21 06:51:13,992 Evaluating as a multi-label problem: False\n",
            "2023-04-21 06:51:14,061 DEV : loss 36.89798355102539 - f1-score (weighted avg)  0.6162\n",
            "2023-04-21 06:51:14,070 BAD EPOCHS (no improvement): 0\n",
            "2023-04-21 06:51:14,075 saving best model\n"
          ]
        },
        {
          "output_type": "stream",
          "name": "stderr",
          "text": [
            "\n"
          ]
        },
        {
          "output_type": "stream",
          "name": "stdout",
          "text": [
            "2023-04-21 06:51:15,881 ----------------------------------------------------------------------------------------------------\n",
            "2023-04-21 06:51:17,302 epoch 26 - iter 7/79 - loss 39.54255453 - time (sec): 1.42 - samples/sec: 5591.88 - lr: 0.012500\n",
            "2023-04-21 06:51:18,636 epoch 26 - iter 14/79 - loss 37.09545426 - time (sec): 2.75 - samples/sec: 5702.69 - lr: 0.012500\n",
            "2023-04-21 06:51:20,832 epoch 26 - iter 21/79 - loss 35.78351289 - time (sec): 4.95 - samples/sec: 5252.33 - lr: 0.012500\n",
            "2023-04-21 06:51:22,243 epoch 26 - iter 28/79 - loss 36.20817262 - time (sec): 6.36 - samples/sec: 5421.57 - lr: 0.012500\n",
            "2023-04-21 06:51:23,983 epoch 26 - iter 35/79 - loss 34.14788446 - time (sec): 8.10 - samples/sec: 5382.35 - lr: 0.012500\n",
            "2023-04-21 06:51:25,378 epoch 26 - iter 42/79 - loss 33.97687369 - time (sec): 9.49 - samples/sec: 5325.35 - lr: 0.012500\n",
            "2023-04-21 06:51:26,704 epoch 26 - iter 49/79 - loss 33.22450824 - time (sec): 10.82 - samples/sec: 5386.46 - lr: 0.012500\n",
            "2023-04-21 06:51:28,404 epoch 26 - iter 56/79 - loss 32.97169940 - time (sec): 12.52 - samples/sec: 5328.71 - lr: 0.012500\n",
            "2023-04-21 06:51:29,826 epoch 26 - iter 63/79 - loss 33.69307040 - time (sec): 13.94 - samples/sec: 5416.85 - lr: 0.012500\n",
            "2023-04-21 06:51:31,502 epoch 26 - iter 70/79 - loss 33.33985471 - time (sec): 15.62 - samples/sec: 5432.27 - lr: 0.012500\n",
            "2023-04-21 06:51:32,816 epoch 26 - iter 77/79 - loss 32.86393824 - time (sec): 16.93 - samples/sec: 5443.26 - lr: 0.012500\n",
            "2023-04-21 06:51:33,430 ----------------------------------------------------------------------------------------------------\n",
            "2023-04-21 06:51:33,432 EPOCH 26 done: loss 33.0391 - lr 0.012500\n"
          ]
        },
        {
          "output_type": "stream",
          "name": "stderr",
          "text": [
            "100%|██████████| 79/79 [00:19<00:00,  3.95it/s]"
          ]
        },
        {
          "output_type": "stream",
          "name": "stdout",
          "text": [
            "2023-04-21 06:51:53,549 Evaluating as a multi-label problem: True\n"
          ]
        },
        {
          "output_type": "stream",
          "name": "stderr",
          "text": [
            "\n"
          ]
        },
        {
          "output_type": "stream",
          "name": "stdout",
          "text": [
            "2023-04-21 06:51:55,410 TRAIN : loss 17.124711990356445 - f1-score (weighted avg)  0.6963\n"
          ]
        },
        {
          "output_type": "stream",
          "name": "stderr",
          "text": [
            "100%|██████████| 10/10 [00:02<00:00,  3.92it/s]"
          ]
        },
        {
          "output_type": "stream",
          "name": "stdout",
          "text": [
            "2023-04-21 06:51:58,045 Evaluating as a multi-label problem: False\n",
            "2023-04-21 06:51:58,116 DEV : loss 34.308101654052734 - f1-score (weighted avg)  0.6147\n",
            "2023-04-21 06:51:58,125 BAD EPOCHS (no improvement): 0\n",
            "2023-04-21 06:51:58,130 saving best model\n"
          ]
        },
        {
          "output_type": "stream",
          "name": "stderr",
          "text": [
            "\n"
          ]
        },
        {
          "output_type": "stream",
          "name": "stdout",
          "text": [
            "2023-04-21 06:51:59,928 ----------------------------------------------------------------------------------------------------\n",
            "2023-04-21 06:52:01,714 epoch 27 - iter 7/79 - loss 31.75514299 - time (sec): 1.77 - samples/sec: 5305.33 - lr: 0.012500\n",
            "2023-04-21 06:52:03,045 epoch 27 - iter 14/79 - loss 30.91740319 - time (sec): 3.10 - samples/sec: 5542.13 - lr: 0.012500\n",
            "2023-04-21 06:52:05,119 epoch 27 - iter 21/79 - loss 31.38483284 - time (sec): 5.18 - samples/sec: 5107.16 - lr: 0.012500\n",
            "2023-04-21 06:52:06,965 epoch 27 - iter 28/79 - loss 29.96153688 - time (sec): 7.02 - samples/sec: 5179.27 - lr: 0.012500\n",
            "2023-04-21 06:52:08,379 epoch 27 - iter 35/79 - loss 29.81360155 - time (sec): 8.44 - samples/sec: 5238.55 - lr: 0.012500\n",
            "2023-04-21 06:52:09,785 epoch 27 - iter 42/79 - loss 29.81031546 - time (sec): 9.84 - samples/sec: 5368.46 - lr: 0.012500\n",
            "2023-04-21 06:52:11,265 epoch 27 - iter 49/79 - loss 29.35116756 - time (sec): 11.32 - samples/sec: 5413.84 - lr: 0.012500\n",
            "2023-04-21 06:52:12,701 epoch 27 - iter 56/79 - loss 29.64109163 - time (sec): 12.76 - samples/sec: 5416.56 - lr: 0.012500\n",
            "2023-04-21 06:52:14,356 epoch 27 - iter 63/79 - loss 29.85760714 - time (sec): 14.41 - samples/sec: 5311.07 - lr: 0.012500\n",
            "2023-04-21 06:52:15,787 epoch 27 - iter 70/79 - loss 29.75968620 - time (sec): 15.85 - samples/sec: 5316.91 - lr: 0.012500\n",
            "2023-04-21 06:52:17,348 epoch 27 - iter 77/79 - loss 29.90816136 - time (sec): 17.41 - samples/sec: 5332.46 - lr: 0.012500\n",
            "2023-04-21 06:52:17,699 ----------------------------------------------------------------------------------------------------\n",
            "2023-04-21 06:52:17,701 EPOCH 27 done: loss 30.0779 - lr 0.012500\n"
          ]
        },
        {
          "output_type": "stream",
          "name": "stderr",
          "text": [
            "100%|██████████| 79/79 [00:20<00:00,  3.78it/s]"
          ]
        },
        {
          "output_type": "stream",
          "name": "stdout",
          "text": [
            "2023-04-21 06:52:38,739 Evaluating as a multi-label problem: True\n"
          ]
        },
        {
          "output_type": "stream",
          "name": "stderr",
          "text": [
            "\n"
          ]
        },
        {
          "output_type": "stream",
          "name": "stdout",
          "text": [
            "2023-04-21 06:52:40,592 TRAIN : loss 15.424275398254395 - f1-score (weighted avg)  0.6841\n"
          ]
        },
        {
          "output_type": "stream",
          "name": "stderr",
          "text": [
            "100%|██████████| 10/10 [00:02<00:00,  3.89it/s]"
          ]
        },
        {
          "output_type": "stream",
          "name": "stdout",
          "text": [
            "2023-04-21 06:52:43,240 Evaluating as a multi-label problem: False\n",
            "2023-04-21 06:52:43,308 DEV : loss 32.67240905761719 - f1-score (weighted avg)  0.606\n",
            "2023-04-21 06:52:43,318 BAD EPOCHS (no improvement): 0\n",
            "2023-04-21 06:52:43,322 saving best model\n"
          ]
        },
        {
          "output_type": "stream",
          "name": "stderr",
          "text": [
            "\n"
          ]
        },
        {
          "output_type": "stream",
          "name": "stdout",
          "text": [
            "2023-04-21 06:52:45,137 ----------------------------------------------------------------------------------------------------\n",
            "2023-04-21 06:52:46,622 epoch 28 - iter 7/79 - loss 24.05570934 - time (sec): 1.48 - samples/sec: 5848.59 - lr: 0.012500\n",
            "2023-04-21 06:52:48,007 epoch 28 - iter 14/79 - loss 26.17853521 - time (sec): 2.87 - samples/sec: 5675.17 - lr: 0.012500\n",
            "2023-04-21 06:52:49,715 epoch 28 - iter 21/79 - loss 24.79806501 - time (sec): 4.58 - samples/sec: 5466.59 - lr: 0.012500\n",
            "2023-04-21 06:52:51,053 epoch 28 - iter 28/79 - loss 26.11110404 - time (sec): 5.91 - samples/sec: 5645.40 - lr: 0.012500\n",
            "2023-04-21 06:52:52,508 epoch 28 - iter 35/79 - loss 26.76886259 - time (sec): 7.37 - samples/sec: 5642.45 - lr: 0.012500\n",
            "2023-04-21 06:52:54,551 epoch 28 - iter 42/79 - loss 27.29856444 - time (sec): 9.41 - samples/sec: 5375.16 - lr: 0.012500\n",
            "2023-04-21 06:52:56,168 epoch 28 - iter 49/79 - loss 27.23718851 - time (sec): 11.03 - samples/sec: 5279.93 - lr: 0.012500\n",
            "2023-04-21 06:52:58,062 epoch 28 - iter 56/79 - loss 27.43677300 - time (sec): 12.92 - samples/sec: 5202.40 - lr: 0.012500\n",
            "2023-04-21 06:52:59,644 epoch 28 - iter 63/79 - loss 26.97992870 - time (sec): 14.50 - samples/sec: 5303.92 - lr: 0.012500\n",
            "2023-04-21 06:53:01,023 epoch 28 - iter 70/79 - loss 27.25323317 - time (sec): 15.88 - samples/sec: 5333.07 - lr: 0.012500\n",
            "2023-04-21 06:53:02,605 epoch 28 - iter 77/79 - loss 27.54327187 - time (sec): 17.47 - samples/sec: 5324.97 - lr: 0.012500\n",
            "2023-04-21 06:53:02,982 ----------------------------------------------------------------------------------------------------\n",
            "2023-04-21 06:53:02,984 EPOCH 28 done: loss 27.4159 - lr 0.012500\n"
          ]
        },
        {
          "output_type": "stream",
          "name": "stderr",
          "text": [
            "100%|██████████| 79/79 [00:19<00:00,  3.99it/s]"
          ]
        },
        {
          "output_type": "stream",
          "name": "stdout",
          "text": [
            "2023-04-21 06:53:22,925 Evaluating as a multi-label problem: True\n"
          ]
        },
        {
          "output_type": "stream",
          "name": "stderr",
          "text": [
            "\n"
          ]
        },
        {
          "output_type": "stream",
          "name": "stdout",
          "text": [
            "2023-04-21 06:53:26,032 TRAIN : loss 18.10240936279297 - f1-score (weighted avg)  0.6206\n"
          ]
        },
        {
          "output_type": "stream",
          "name": "stderr",
          "text": [
            "100%|██████████| 10/10 [00:02<00:00,  3.87it/s]"
          ]
        },
        {
          "output_type": "stream",
          "name": "stdout",
          "text": [
            "2023-04-21 06:53:28,693 Evaluating as a multi-label problem: False\n",
            "2023-04-21 06:53:28,760 DEV : loss 33.716026306152344 - f1-score (weighted avg)  0.5525\n",
            "2023-04-21 06:53:28,769 BAD EPOCHS (no improvement): 1\n",
            "2023-04-21 06:53:28,773 ----------------------------------------------------------------------------------------------------\n"
          ]
        },
        {
          "output_type": "stream",
          "name": "stderr",
          "text": [
            "\n"
          ]
        },
        {
          "output_type": "stream",
          "name": "stdout",
          "text": [
            "2023-04-21 06:53:30,218 epoch 29 - iter 7/79 - loss 24.67532667 - time (sec): 1.44 - samples/sec: 6202.06 - lr: 0.012500\n",
            "2023-04-21 06:53:32,479 epoch 29 - iter 14/79 - loss 24.06495297 - time (sec): 3.70 - samples/sec: 5309.57 - lr: 0.012500\n",
            "2023-04-21 06:53:33,704 epoch 29 - iter 21/79 - loss 24.58435852 - time (sec): 4.93 - samples/sec: 5424.09 - lr: 0.012500\n",
            "2023-04-21 06:53:35,078 epoch 29 - iter 28/79 - loss 24.21757237 - time (sec): 6.30 - samples/sec: 5556.92 - lr: 0.012500\n",
            "2023-04-21 06:53:36,547 epoch 29 - iter 35/79 - loss 24.29370003 - time (sec): 7.77 - samples/sec: 5648.20 - lr: 0.012500\n",
            "2023-04-21 06:53:37,983 epoch 29 - iter 42/79 - loss 24.35185975 - time (sec): 9.21 - samples/sec: 5696.68 - lr: 0.012500\n",
            "2023-04-21 06:53:39,147 epoch 29 - iter 49/79 - loss 24.83045881 - time (sec): 10.37 - samples/sec: 5672.48 - lr: 0.012500\n",
            "2023-04-21 06:53:40,815 epoch 29 - iter 56/79 - loss 25.91674388 - time (sec): 12.04 - samples/sec: 5534.88 - lr: 0.012500\n",
            "2023-04-21 06:53:42,496 epoch 29 - iter 63/79 - loss 26.81924864 - time (sec): 13.72 - samples/sec: 5523.64 - lr: 0.012500\n",
            "2023-04-21 06:53:44,001 epoch 29 - iter 70/79 - loss 26.85843488 - time (sec): 15.23 - samples/sec: 5494.45 - lr: 0.012500\n",
            "2023-04-21 06:53:45,505 epoch 29 - iter 77/79 - loss 26.69671489 - time (sec): 16.73 - samples/sec: 5518.87 - lr: 0.012500\n",
            "2023-04-21 06:53:45,941 ----------------------------------------------------------------------------------------------------\n",
            "2023-04-21 06:53:45,943 EPOCH 29 done: loss 26.8957 - lr 0.012500\n"
          ]
        },
        {
          "output_type": "stream",
          "name": "stderr",
          "text": [
            "100%|██████████| 79/79 [00:19<00:00,  4.00it/s]"
          ]
        },
        {
          "output_type": "stream",
          "name": "stdout",
          "text": [
            "2023-04-21 06:54:05,836 Evaluating as a multi-label problem: True\n"
          ]
        },
        {
          "output_type": "stream",
          "name": "stderr",
          "text": [
            "\n"
          ]
        },
        {
          "output_type": "stream",
          "name": "stdout",
          "text": [
            "2023-04-21 06:54:07,709 TRAIN : loss 14.101890563964844 - f1-score (weighted avg)  0.6766\n"
          ]
        },
        {
          "output_type": "stream",
          "name": "stderr",
          "text": [
            "100%|██████████| 10/10 [00:02<00:00,  3.92it/s]"
          ]
        },
        {
          "output_type": "stream",
          "name": "stdout",
          "text": [
            "2023-04-21 06:54:10,337 Evaluating as a multi-label problem: False\n",
            "2023-04-21 06:54:10,405 DEV : loss 30.880666732788086 - f1-score (weighted avg)  0.5883\n",
            "2023-04-21 06:54:10,414 BAD EPOCHS (no improvement): 0\n",
            "2023-04-21 06:54:10,419 saving best model\n"
          ]
        },
        {
          "output_type": "stream",
          "name": "stderr",
          "text": [
            "\n"
          ]
        },
        {
          "output_type": "stream",
          "name": "stdout",
          "text": [
            "2023-04-21 06:54:12,237 ----------------------------------------------------------------------------------------------------\n",
            "2023-04-21 06:54:13,682 epoch 30 - iter 7/79 - loss 28.21654210 - time (sec): 1.44 - samples/sec: 5421.04 - lr: 0.012500\n",
            "2023-04-21 06:54:15,164 epoch 30 - iter 14/79 - loss 25.90272868 - time (sec): 2.93 - samples/sec: 5511.06 - lr: 0.012500\n",
            "2023-04-21 06:54:16,535 epoch 30 - iter 21/79 - loss 26.66202748 - time (sec): 4.30 - samples/sec: 5466.81 - lr: 0.012500\n",
            "2023-04-21 06:54:17,970 epoch 30 - iter 28/79 - loss 26.66924986 - time (sec): 5.73 - samples/sec: 5458.63 - lr: 0.012500\n",
            "2023-04-21 06:54:20,320 epoch 30 - iter 35/79 - loss 26.92648329 - time (sec): 8.08 - samples/sec: 5121.29 - lr: 0.012500\n",
            "2023-04-21 06:54:21,767 epoch 30 - iter 42/79 - loss 27.15989474 - time (sec): 9.53 - samples/sec: 5162.11 - lr: 0.012500\n",
            "2023-04-21 06:54:23,193 epoch 30 - iter 49/79 - loss 26.99959297 - time (sec): 10.95 - samples/sec: 5228.20 - lr: 0.012500\n",
            "2023-04-21 06:54:25,055 epoch 30 - iter 56/79 - loss 26.92682934 - time (sec): 12.82 - samples/sec: 5164.52 - lr: 0.012500\n",
            "2023-04-21 06:54:26,805 epoch 30 - iter 63/79 - loss 27.30967433 - time (sec): 14.57 - samples/sec: 5183.83 - lr: 0.012500\n",
            "2023-04-21 06:54:28,432 epoch 30 - iter 70/79 - loss 26.80095163 - time (sec): 16.19 - samples/sec: 5177.67 - lr: 0.012500\n",
            "2023-04-21 06:54:29,968 epoch 30 - iter 77/79 - loss 26.91570064 - time (sec): 17.73 - samples/sec: 5217.24 - lr: 0.012500\n",
            "2023-04-21 06:54:30,475 ----------------------------------------------------------------------------------------------------\n",
            "2023-04-21 06:54:30,477 EPOCH 30 done: loss 26.8482 - lr 0.012500\n"
          ]
        },
        {
          "output_type": "stream",
          "name": "stderr",
          "text": [
            "100%|██████████| 79/79 [00:20<00:00,  3.77it/s]"
          ]
        },
        {
          "output_type": "stream",
          "name": "stdout",
          "text": [
            "2023-04-21 06:54:51,548 Evaluating as a multi-label problem: True\n"
          ]
        },
        {
          "output_type": "stream",
          "name": "stderr",
          "text": [
            "\n"
          ]
        },
        {
          "output_type": "stream",
          "name": "stdout",
          "text": [
            "2023-04-21 06:54:53,416 TRAIN : loss 12.906679153442383 - f1-score (weighted avg)  0.6905\n"
          ]
        },
        {
          "output_type": "stream",
          "name": "stderr",
          "text": [
            "100%|██████████| 10/10 [00:02<00:00,  3.91it/s]"
          ]
        },
        {
          "output_type": "stream",
          "name": "stdout",
          "text": [
            "2023-04-21 06:54:56,053 Evaluating as a multi-label problem: False\n",
            "2023-04-21 06:54:56,125 DEV : loss 26.801801681518555 - f1-score (weighted avg)  0.6181\n",
            "2023-04-21 06:54:56,135 BAD EPOCHS (no improvement): 0\n",
            "2023-04-21 06:54:56,138 saving best model\n"
          ]
        },
        {
          "output_type": "stream",
          "name": "stderr",
          "text": [
            "\n"
          ]
        },
        {
          "output_type": "stream",
          "name": "stdout",
          "text": [
            "2023-04-21 06:54:57,966 ----------------------------------------------------------------------------------------------------\n",
            "2023-04-21 06:54:59,264 epoch 31 - iter 7/79 - loss 21.18926975 - time (sec): 1.30 - samples/sec: 6211.14 - lr: 0.012500\n",
            "2023-04-21 06:55:00,853 epoch 31 - iter 14/79 - loss 21.68398142 - time (sec): 2.89 - samples/sec: 5269.25 - lr: 0.012500\n",
            "2023-04-21 06:55:02,667 epoch 31 - iter 21/79 - loss 24.24931132 - time (sec): 4.70 - samples/sec: 5310.80 - lr: 0.012500\n",
            "2023-04-21 06:55:04,062 epoch 31 - iter 28/79 - loss 24.47058309 - time (sec): 6.09 - samples/sec: 5390.33 - lr: 0.012500\n",
            "2023-04-21 06:55:05,584 epoch 31 - iter 35/79 - loss 25.31439167 - time (sec): 7.62 - samples/sec: 5479.22 - lr: 0.012500\n",
            "2023-04-21 06:55:07,181 epoch 31 - iter 42/79 - loss 25.36020869 - time (sec): 9.21 - samples/sec: 5362.19 - lr: 0.012500\n",
            "2023-04-21 06:55:08,662 epoch 31 - iter 49/79 - loss 26.08289611 - time (sec): 10.69 - samples/sec: 5382.50 - lr: 0.012500\n",
            "2023-04-21 06:55:10,378 epoch 31 - iter 56/79 - loss 25.58814600 - time (sec): 12.41 - samples/sec: 5321.42 - lr: 0.012500\n",
            "2023-04-21 06:55:12,303 epoch 31 - iter 63/79 - loss 26.19140771 - time (sec): 14.34 - samples/sec: 5228.22 - lr: 0.012500\n",
            "2023-04-21 06:55:13,813 epoch 31 - iter 70/79 - loss 26.01038146 - time (sec): 15.84 - samples/sec: 5284.44 - lr: 0.012500\n",
            "2023-04-21 06:55:15,286 epoch 31 - iter 77/79 - loss 25.86971432 - time (sec): 17.32 - samples/sec: 5354.36 - lr: 0.012500\n",
            "2023-04-21 06:55:15,662 ----------------------------------------------------------------------------------------------------\n",
            "2023-04-21 06:55:15,663 EPOCH 31 done: loss 25.8191 - lr 0.012500\n"
          ]
        },
        {
          "output_type": "stream",
          "name": "stderr",
          "text": [
            "100%|██████████| 79/79 [00:19<00:00,  4.01it/s]"
          ]
        },
        {
          "output_type": "stream",
          "name": "stdout",
          "text": [
            "2023-04-21 06:55:35,480 Evaluating as a multi-label problem: True\n"
          ]
        },
        {
          "output_type": "stream",
          "name": "stderr",
          "text": [
            "\n"
          ]
        },
        {
          "output_type": "stream",
          "name": "stdout",
          "text": [
            "2023-04-21 06:55:38,570 TRAIN : loss 13.199604988098145 - f1-score (weighted avg)  0.6808\n"
          ]
        },
        {
          "output_type": "stream",
          "name": "stderr",
          "text": [
            "100%|██████████| 10/10 [00:02<00:00,  3.98it/s]"
          ]
        },
        {
          "output_type": "stream",
          "name": "stdout",
          "text": [
            "2023-04-21 06:55:41,165 Evaluating as a multi-label problem: False\n",
            "2023-04-21 06:55:41,234 DEV : loss 27.633787155151367 - f1-score (weighted avg)  0.6222\n",
            "2023-04-21 06:55:41,243 BAD EPOCHS (no improvement): 1\n",
            "2023-04-21 06:55:41,247 ----------------------------------------------------------------------------------------------------\n"
          ]
        },
        {
          "output_type": "stream",
          "name": "stderr",
          "text": [
            "\n"
          ]
        },
        {
          "output_type": "stream",
          "name": "stdout",
          "text": [
            "2023-04-21 06:55:42,644 epoch 32 - iter 7/79 - loss 25.97228440 - time (sec): 1.40 - samples/sec: 6081.61 - lr: 0.012500\n",
            "2023-04-21 06:55:44,264 epoch 32 - iter 14/79 - loss 27.22583660 - time (sec): 3.02 - samples/sec: 5410.38 - lr: 0.012500\n",
            "2023-04-21 06:55:45,907 epoch 32 - iter 21/79 - loss 27.38725163 - time (sec): 4.66 - samples/sec: 5229.22 - lr: 0.012500\n",
            "2023-04-21 06:55:47,630 epoch 32 - iter 28/79 - loss 27.89771239 - time (sec): 6.38 - samples/sec: 5024.53 - lr: 0.012500\n",
            "2023-04-21 06:55:49,168 epoch 32 - iter 35/79 - loss 27.12845116 - time (sec): 7.92 - samples/sec: 5099.83 - lr: 0.012500\n",
            "2023-04-21 06:55:50,512 epoch 32 - iter 42/79 - loss 27.39957856 - time (sec): 9.26 - samples/sec: 5148.58 - lr: 0.012500\n",
            "2023-04-21 06:55:52,505 epoch 32 - iter 49/79 - loss 26.52505406 - time (sec): 11.26 - samples/sec: 5135.97 - lr: 0.012500\n",
            "2023-04-21 06:55:53,945 epoch 32 - iter 56/79 - loss 26.30199925 - time (sec): 12.70 - samples/sec: 5239.64 - lr: 0.012500\n",
            "2023-04-21 06:55:55,689 epoch 32 - iter 63/79 - loss 26.08341019 - time (sec): 14.44 - samples/sec: 5293.36 - lr: 0.012500\n",
            "2023-04-21 06:55:57,287 epoch 32 - iter 70/79 - loss 25.91505408 - time (sec): 16.04 - samples/sec: 5285.98 - lr: 0.012500\n",
            "2023-04-21 06:55:58,590 epoch 32 - iter 77/79 - loss 26.31464219 - time (sec): 17.34 - samples/sec: 5339.93 - lr: 0.012500\n",
            "2023-04-21 06:55:58,959 ----------------------------------------------------------------------------------------------------\n",
            "2023-04-21 06:55:58,960 EPOCH 32 done: loss 26.4098 - lr 0.012500\n"
          ]
        },
        {
          "output_type": "stream",
          "name": "stderr",
          "text": [
            "100%|██████████| 79/79 [00:19<00:00,  4.03it/s]"
          ]
        },
        {
          "output_type": "stream",
          "name": "stdout",
          "text": [
            "2023-04-21 06:56:18,713 Evaluating as a multi-label problem: True\n"
          ]
        },
        {
          "output_type": "stream",
          "name": "stderr",
          "text": [
            "\n"
          ]
        },
        {
          "output_type": "stream",
          "name": "stdout",
          "text": [
            "2023-04-21 06:56:20,587 TRAIN : loss 12.740036964416504 - f1-score (weighted avg)  0.6694\n"
          ]
        },
        {
          "output_type": "stream",
          "name": "stderr",
          "text": [
            "100%|██████████| 10/10 [00:02<00:00,  3.95it/s]"
          ]
        },
        {
          "output_type": "stream",
          "name": "stdout",
          "text": [
            "2023-04-21 06:56:23,202 Evaluating as a multi-label problem: False\n",
            "2023-04-21 06:56:23,273 DEV : loss 26.220823287963867 - f1-score (weighted avg)  0.6015\n",
            "2023-04-21 06:56:23,283 BAD EPOCHS (no improvement): 0\n",
            "2023-04-21 06:56:23,287 saving best model\n"
          ]
        },
        {
          "output_type": "stream",
          "name": "stderr",
          "text": [
            "\n"
          ]
        },
        {
          "output_type": "stream",
          "name": "stdout",
          "text": [
            "2023-04-21 06:56:25,080 ----------------------------------------------------------------------------------------------------\n",
            "2023-04-21 06:56:26,577 epoch 33 - iter 7/79 - loss 22.67553748 - time (sec): 1.49 - samples/sec: 5759.27 - lr: 0.012500\n",
            "2023-04-21 06:56:27,819 epoch 33 - iter 14/79 - loss 23.78504823 - time (sec): 2.74 - samples/sec: 5986.84 - lr: 0.012500\n",
            "2023-04-21 06:56:29,304 epoch 33 - iter 21/79 - loss 24.24930904 - time (sec): 4.22 - samples/sec: 5763.18 - lr: 0.012500\n",
            "2023-04-21 06:56:30,842 epoch 33 - iter 28/79 - loss 24.31828540 - time (sec): 5.76 - samples/sec: 5780.44 - lr: 0.012500\n",
            "2023-04-21 06:56:32,545 epoch 33 - iter 35/79 - loss 24.05699307 - time (sec): 7.46 - samples/sec: 5576.89 - lr: 0.012500\n",
            "2023-04-21 06:56:33,929 epoch 33 - iter 42/79 - loss 25.08148369 - time (sec): 8.85 - samples/sec: 5659.39 - lr: 0.012500\n",
            "2023-04-21 06:56:35,587 epoch 33 - iter 49/79 - loss 25.52215595 - time (sec): 10.50 - samples/sec: 5480.62 - lr: 0.012500\n",
            "2023-04-21 06:56:37,283 epoch 33 - iter 56/79 - loss 25.60130582 - time (sec): 12.20 - samples/sec: 5361.27 - lr: 0.012500\n",
            "2023-04-21 06:56:38,841 epoch 33 - iter 63/79 - loss 25.75654437 - time (sec): 13.76 - samples/sec: 5372.04 - lr: 0.012500\n",
            "2023-04-21 06:56:40,445 epoch 33 - iter 70/79 - loss 25.67691291 - time (sec): 15.36 - samples/sec: 5375.24 - lr: 0.012500\n",
            "2023-04-21 06:56:42,244 epoch 33 - iter 77/79 - loss 25.56935860 - time (sec): 17.16 - samples/sec: 5359.24 - lr: 0.012500\n",
            "2023-04-21 06:56:43,005 ----------------------------------------------------------------------------------------------------\n",
            "2023-04-21 06:56:43,007 EPOCH 33 done: loss 25.4333 - lr 0.012500\n"
          ]
        },
        {
          "output_type": "stream",
          "name": "stderr",
          "text": [
            "100%|██████████| 79/79 [00:19<00:00,  4.01it/s]\n"
          ]
        },
        {
          "output_type": "stream",
          "name": "stdout",
          "text": [
            "2023-04-21 06:57:04,021 Evaluating as a multi-label problem: True\n",
            "2023-04-21 06:57:05,867 TRAIN : loss 17.969812393188477 - f1-score (weighted avg)  0.5967\n"
          ]
        },
        {
          "output_type": "stream",
          "name": "stderr",
          "text": [
            "100%|██████████| 10/10 [00:02<00:00,  3.95it/s]"
          ]
        },
        {
          "output_type": "stream",
          "name": "stdout",
          "text": [
            "2023-04-21 06:57:08,480 Evaluating as a multi-label problem: False\n",
            "2023-04-21 06:57:08,548 DEV : loss 32.883583068847656 - f1-score (weighted avg)  0.5377\n",
            "2023-04-21 06:57:08,558 BAD EPOCHS (no improvement): 1\n",
            "2023-04-21 06:57:08,562 ----------------------------------------------------------------------------------------------------\n"
          ]
        },
        {
          "output_type": "stream",
          "name": "stderr",
          "text": [
            "\n"
          ]
        },
        {
          "output_type": "stream",
          "name": "stdout",
          "text": [
            "2023-04-21 06:57:10,021 epoch 34 - iter 7/79 - loss 25.92403186 - time (sec): 1.46 - samples/sec: 5489.56 - lr: 0.012500\n",
            "2023-04-21 06:57:11,563 epoch 34 - iter 14/79 - loss 22.95447838 - time (sec): 3.00 - samples/sec: 5534.33 - lr: 0.012500\n",
            "2023-04-21 06:57:13,374 epoch 34 - iter 21/79 - loss 23.76451448 - time (sec): 4.81 - samples/sec: 5182.44 - lr: 0.012500\n",
            "2023-04-21 06:57:14,730 epoch 34 - iter 28/79 - loss 23.44848796 - time (sec): 6.17 - samples/sec: 5292.18 - lr: 0.012500\n",
            "2023-04-21 06:57:16,098 epoch 34 - iter 35/79 - loss 23.80918482 - time (sec): 7.53 - samples/sec: 5332.01 - lr: 0.012500\n",
            "2023-04-21 06:57:17,726 epoch 34 - iter 42/79 - loss 23.97039460 - time (sec): 9.16 - samples/sec: 5229.97 - lr: 0.012500\n",
            "2023-04-21 06:57:19,436 epoch 34 - iter 49/79 - loss 24.75026461 - time (sec): 10.87 - samples/sec: 5257.19 - lr: 0.012500\n",
            "2023-04-21 06:57:21,347 epoch 34 - iter 56/79 - loss 24.93695845 - time (sec): 12.78 - samples/sec: 5154.66 - lr: 0.012500\n",
            "2023-04-21 06:57:22,883 epoch 34 - iter 63/79 - loss 24.74560896 - time (sec): 14.32 - samples/sec: 5218.24 - lr: 0.012500\n",
            "2023-04-21 06:57:24,564 epoch 34 - iter 70/79 - loss 25.09006683 - time (sec): 16.00 - samples/sec: 5250.48 - lr: 0.012500\n",
            "2023-04-21 06:57:26,048 epoch 34 - iter 77/79 - loss 24.93912594 - time (sec): 17.48 - samples/sec: 5278.56 - lr: 0.012500\n",
            "2023-04-21 06:57:26,496 ----------------------------------------------------------------------------------------------------\n",
            "2023-04-21 06:57:26,498 EPOCH 34 done: loss 24.9737 - lr 0.012500\n"
          ]
        },
        {
          "output_type": "stream",
          "name": "stderr",
          "text": [
            "100%|██████████| 79/79 [00:19<00:00,  4.02it/s]"
          ]
        },
        {
          "output_type": "stream",
          "name": "stdout",
          "text": [
            "2023-04-21 06:57:46,271 Evaluating as a multi-label problem: True\n"
          ]
        },
        {
          "output_type": "stream",
          "name": "stderr",
          "text": [
            "\n"
          ]
        },
        {
          "output_type": "stream",
          "name": "stdout",
          "text": [
            "2023-04-21 06:57:49,426 TRAIN : loss 12.8441801071167 - f1-score (weighted avg)  0.677\n"
          ]
        },
        {
          "output_type": "stream",
          "name": "stderr",
          "text": [
            "100%|██████████| 10/10 [00:02<00:00,  3.90it/s]"
          ]
        },
        {
          "output_type": "stream",
          "name": "stdout",
          "text": [
            "2023-04-21 06:57:52,073 Evaluating as a multi-label problem: False\n",
            "2023-04-21 06:57:52,141 DEV : loss 26.01877784729004 - f1-score (weighted avg)  0.6132\n",
            "2023-04-21 06:57:52,151 BAD EPOCHS (no improvement): 0\n",
            "2023-04-21 06:57:52,155 saving best model\n"
          ]
        },
        {
          "output_type": "stream",
          "name": "stderr",
          "text": [
            "\n"
          ]
        },
        {
          "output_type": "stream",
          "name": "stdout",
          "text": [
            "2023-04-21 06:57:53,984 ----------------------------------------------------------------------------------------------------\n",
            "2023-04-21 06:57:55,380 epoch 35 - iter 7/79 - loss 20.92731342 - time (sec): 1.39 - samples/sec: 6176.01 - lr: 0.012500\n",
            "2023-04-21 06:57:56,961 epoch 35 - iter 14/79 - loss 19.58503990 - time (sec): 2.97 - samples/sec: 5394.26 - lr: 0.012500\n",
            "2023-04-21 06:57:58,744 epoch 35 - iter 21/79 - loss 22.29514720 - time (sec): 4.76 - samples/sec: 5090.81 - lr: 0.012500\n",
            "2023-04-21 06:58:00,284 epoch 35 - iter 28/79 - loss 22.44674074 - time (sec): 6.30 - samples/sec: 5141.43 - lr: 0.012500\n",
            "2023-04-21 06:58:02,034 epoch 35 - iter 35/79 - loss 23.60488910 - time (sec): 8.05 - samples/sec: 5120.80 - lr: 0.012500\n",
            "2023-04-21 06:58:03,680 epoch 35 - iter 42/79 - loss 25.43304613 - time (sec): 9.69 - samples/sec: 5042.69 - lr: 0.012500\n",
            "2023-04-21 06:58:05,156 epoch 35 - iter 49/79 - loss 25.50114200 - time (sec): 11.17 - samples/sec: 5056.67 - lr: 0.012500\n",
            "2023-04-21 06:58:06,661 epoch 35 - iter 56/79 - loss 26.13767657 - time (sec): 12.67 - samples/sec: 5105.47 - lr: 0.012500\n",
            "2023-04-21 06:58:08,651 epoch 35 - iter 63/79 - loss 26.63155539 - time (sec): 14.66 - samples/sec: 5065.01 - lr: 0.012500\n",
            "2023-04-21 06:58:10,144 epoch 35 - iter 70/79 - loss 27.20759816 - time (sec): 16.16 - samples/sec: 5107.46 - lr: 0.012500\n",
            "2023-04-21 06:58:11,711 epoch 35 - iter 77/79 - loss 27.11089728 - time (sec): 17.72 - samples/sec: 5203.80 - lr: 0.012500\n",
            "2023-04-21 06:58:12,159 ----------------------------------------------------------------------------------------------------\n",
            "2023-04-21 06:58:12,161 EPOCH 35 done: loss 26.9764 - lr 0.012500\n"
          ]
        },
        {
          "output_type": "stream",
          "name": "stderr",
          "text": [
            "100%|██████████| 79/79 [00:19<00:00,  3.99it/s]"
          ]
        },
        {
          "output_type": "stream",
          "name": "stdout",
          "text": [
            "2023-04-21 06:58:32,096 Evaluating as a multi-label problem: True\n"
          ]
        },
        {
          "output_type": "stream",
          "name": "stderr",
          "text": [
            "\n"
          ]
        },
        {
          "output_type": "stream",
          "name": "stdout",
          "text": [
            "2023-04-21 06:58:33,957 TRAIN : loss 12.360252380371094 - f1-score (weighted avg)  0.6906\n"
          ]
        },
        {
          "output_type": "stream",
          "name": "stderr",
          "text": [
            "100%|██████████| 10/10 [00:02<00:00,  4.00it/s]"
          ]
        },
        {
          "output_type": "stream",
          "name": "stdout",
          "text": [
            "2023-04-21 06:58:36,540 Evaluating as a multi-label problem: False\n",
            "2023-04-21 06:58:36,607 DEV : loss 25.833757400512695 - f1-score (weighted avg)  0.611\n",
            "2023-04-21 06:58:36,616 BAD EPOCHS (no improvement): 0\n",
            "2023-04-21 06:58:36,620 saving best model\n"
          ]
        },
        {
          "output_type": "stream",
          "name": "stderr",
          "text": [
            "\n"
          ]
        },
        {
          "output_type": "stream",
          "name": "stdout",
          "text": [
            "2023-04-21 06:58:38,415 ----------------------------------------------------------------------------------------------------\n",
            "2023-04-21 06:58:39,911 epoch 36 - iter 7/79 - loss 22.08451991 - time (sec): 1.49 - samples/sec: 5314.83 - lr: 0.012500\n",
            "2023-04-21 06:58:41,464 epoch 36 - iter 14/79 - loss 21.86960088 - time (sec): 3.05 - samples/sec: 5501.36 - lr: 0.012500\n",
            "2023-04-21 06:58:42,840 epoch 36 - iter 21/79 - loss 22.29664039 - time (sec): 4.42 - samples/sec: 5707.42 - lr: 0.012500\n",
            "2023-04-21 06:58:44,199 epoch 36 - iter 28/79 - loss 23.43832515 - time (sec): 5.78 - samples/sec: 5830.38 - lr: 0.012500\n",
            "2023-04-21 06:58:46,071 epoch 36 - iter 35/79 - loss 24.08324175 - time (sec): 7.65 - samples/sec: 5439.28 - lr: 0.012500\n",
            "2023-04-21 06:58:47,544 epoch 36 - iter 42/79 - loss 24.19276519 - time (sec): 9.13 - samples/sec: 5610.81 - lr: 0.012500\n",
            "2023-04-21 06:58:49,114 epoch 36 - iter 49/79 - loss 24.07281008 - time (sec): 10.70 - samples/sec: 5609.89 - lr: 0.012500\n",
            "2023-04-21 06:58:50,952 epoch 36 - iter 56/79 - loss 23.59226561 - time (sec): 12.53 - samples/sec: 5446.80 - lr: 0.012500\n",
            "2023-04-21 06:58:52,480 epoch 36 - iter 63/79 - loss 23.92842406 - time (sec): 14.06 - samples/sec: 5424.34 - lr: 0.012500\n",
            "2023-04-21 06:58:54,224 epoch 36 - iter 70/79 - loss 23.97677281 - time (sec): 15.81 - samples/sec: 5374.79 - lr: 0.012500\n",
            "2023-04-21 06:58:55,859 epoch 36 - iter 77/79 - loss 24.31194801 - time (sec): 17.44 - samples/sec: 5310.29 - lr: 0.012500\n",
            "2023-04-21 06:58:56,337 ----------------------------------------------------------------------------------------------------\n",
            "2023-04-21 06:58:56,339 EPOCH 36 done: loss 24.5660 - lr 0.012500\n"
          ]
        },
        {
          "output_type": "stream",
          "name": "stderr",
          "text": [
            "100%|██████████| 79/79 [00:19<00:00,  3.98it/s]\n"
          ]
        },
        {
          "output_type": "stream",
          "name": "stdout",
          "text": [
            "2023-04-21 06:59:17,485 Evaluating as a multi-label problem: True\n",
            "2023-04-21 06:59:19,347 TRAIN : loss 12.768494606018066 - f1-score (weighted avg)  0.6951\n"
          ]
        },
        {
          "output_type": "stream",
          "name": "stderr",
          "text": [
            "100%|██████████| 10/10 [00:02<00:00,  3.93it/s]"
          ]
        },
        {
          "output_type": "stream",
          "name": "stdout",
          "text": [
            "2023-04-21 06:59:21,970 Evaluating as a multi-label problem: False\n",
            "2023-04-21 06:59:22,041 DEV : loss 26.304500579833984 - f1-score (weighted avg)  0.6144\n",
            "2023-04-21 06:59:22,050 BAD EPOCHS (no improvement): 1\n",
            "2023-04-21 06:59:22,054 ----------------------------------------------------------------------------------------------------\n"
          ]
        },
        {
          "output_type": "stream",
          "name": "stderr",
          "text": [
            "\n"
          ]
        },
        {
          "output_type": "stream",
          "name": "stdout",
          "text": [
            "2023-04-21 06:59:23,919 epoch 37 - iter 7/79 - loss 21.74540412 - time (sec): 1.86 - samples/sec: 5079.56 - lr: 0.012500\n",
            "2023-04-21 06:59:25,268 epoch 37 - iter 14/79 - loss 24.52146689 - time (sec): 3.21 - samples/sec: 5252.01 - lr: 0.012500\n",
            "2023-04-21 06:59:26,917 epoch 37 - iter 21/79 - loss 24.23742230 - time (sec): 4.86 - samples/sec: 5493.19 - lr: 0.012500\n",
            "2023-04-21 06:59:28,248 epoch 37 - iter 28/79 - loss 24.73400277 - time (sec): 6.19 - samples/sec: 5592.68 - lr: 0.012500\n",
            "2023-04-21 06:59:29,683 epoch 37 - iter 35/79 - loss 24.60431259 - time (sec): 7.63 - samples/sec: 5465.64 - lr: 0.012500\n",
            "2023-04-21 06:59:31,585 epoch 37 - iter 42/79 - loss 25.22405529 - time (sec): 9.53 - samples/sec: 5361.34 - lr: 0.012500\n",
            "2023-04-21 06:59:32,943 epoch 37 - iter 49/79 - loss 26.05411787 - time (sec): 10.89 - samples/sec: 5427.13 - lr: 0.012500\n",
            "2023-04-21 06:59:34,639 epoch 37 - iter 56/79 - loss 25.51337128 - time (sec): 12.58 - samples/sec: 5408.79 - lr: 0.012500\n",
            "2023-04-21 06:59:36,025 epoch 37 - iter 63/79 - loss 24.97002477 - time (sec): 13.97 - samples/sec: 5470.06 - lr: 0.012500\n",
            "2023-04-21 06:59:37,281 epoch 37 - iter 70/79 - loss 24.74578316 - time (sec): 15.22 - samples/sec: 5481.82 - lr: 0.012500\n",
            "2023-04-21 06:59:39,192 epoch 37 - iter 77/79 - loss 24.76999608 - time (sec): 17.14 - samples/sec: 5398.99 - lr: 0.012500\n",
            "2023-04-21 06:59:39,563 ----------------------------------------------------------------------------------------------------\n",
            "2023-04-21 06:59:39,565 EPOCH 37 done: loss 24.7020 - lr 0.012500\n"
          ]
        },
        {
          "output_type": "stream",
          "name": "stderr",
          "text": [
            "100%|██████████| 79/79 [00:19<00:00,  3.98it/s]"
          ]
        },
        {
          "output_type": "stream",
          "name": "stdout",
          "text": [
            "2023-04-21 06:59:59,566 Evaluating as a multi-label problem: True\n"
          ]
        },
        {
          "output_type": "stream",
          "name": "stderr",
          "text": [
            "\n"
          ]
        },
        {
          "output_type": "stream",
          "name": "stdout",
          "text": [
            "2023-04-21 07:00:02,731 TRAIN : loss 17.212154388427734 - f1-score (weighted avg)  0.6248\n"
          ]
        },
        {
          "output_type": "stream",
          "name": "stderr",
          "text": [
            "100%|██████████| 10/10 [00:02<00:00,  3.95it/s]"
          ]
        },
        {
          "output_type": "stream",
          "name": "stdout",
          "text": [
            "2023-04-21 07:00:05,344 Evaluating as a multi-label problem: False\n",
            "2023-04-21 07:00:05,414 DEV : loss 30.084726333618164 - f1-score (weighted avg)  0.5754\n",
            "2023-04-21 07:00:05,423 Epoch    37: reducing learning rate of group 0 to 6.2500e-03.\n",
            "2023-04-21 07:00:05,425 BAD EPOCHS (no improvement): 2\n",
            "2023-04-21 07:00:05,428 ----------------------------------------------------------------------------------------------------\n"
          ]
        },
        {
          "output_type": "stream",
          "name": "stderr",
          "text": [
            "\n"
          ]
        },
        {
          "output_type": "stream",
          "name": "stdout",
          "text": [
            "2023-04-21 07:00:06,894 epoch 38 - iter 7/79 - loss 31.40363269 - time (sec): 1.46 - samples/sec: 5414.37 - lr: 0.006250\n",
            "2023-04-21 07:00:08,235 epoch 38 - iter 14/79 - loss 26.74872240 - time (sec): 2.81 - samples/sec: 5650.33 - lr: 0.006250\n",
            "2023-04-21 07:00:09,705 epoch 38 - iter 21/79 - loss 24.27135678 - time (sec): 4.28 - samples/sec: 5584.88 - lr: 0.006250\n",
            "2023-04-21 07:00:11,101 epoch 38 - iter 28/79 - loss 22.93437008 - time (sec): 5.67 - samples/sec: 5706.93 - lr: 0.006250\n",
            "2023-04-21 07:00:12,418 epoch 38 - iter 35/79 - loss 22.28312950 - time (sec): 6.99 - samples/sec: 5788.56 - lr: 0.006250\n",
            "2023-04-21 07:00:14,054 epoch 38 - iter 42/79 - loss 21.47475501 - time (sec): 8.62 - samples/sec: 5661.75 - lr: 0.006250\n",
            "2023-04-21 07:00:16,381 epoch 38 - iter 49/79 - loss 20.36853121 - time (sec): 10.95 - samples/sec: 5357.61 - lr: 0.006250\n",
            "2023-04-21 07:00:17,912 epoch 38 - iter 56/79 - loss 20.21380703 - time (sec): 12.48 - samples/sec: 5416.62 - lr: 0.006250\n",
            "2023-04-21 07:00:19,616 epoch 38 - iter 63/79 - loss 19.73883831 - time (sec): 14.19 - samples/sec: 5344.88 - lr: 0.006250\n",
            "2023-04-21 07:00:21,038 epoch 38 - iter 70/79 - loss 19.71978138 - time (sec): 15.61 - samples/sec: 5423.80 - lr: 0.006250\n",
            "2023-04-21 07:00:22,749 epoch 38 - iter 77/79 - loss 19.77305633 - time (sec): 17.32 - samples/sec: 5334.87 - lr: 0.006250\n",
            "2023-04-21 07:00:23,140 ----------------------------------------------------------------------------------------------------\n",
            "2023-04-21 07:00:23,141 EPOCH 38 done: loss 19.6919 - lr 0.006250\n"
          ]
        },
        {
          "output_type": "stream",
          "name": "stderr",
          "text": [
            "100%|██████████| 79/79 [00:19<00:00,  4.02it/s]"
          ]
        },
        {
          "output_type": "stream",
          "name": "stdout",
          "text": [
            "2023-04-21 07:00:42,919 Evaluating as a multi-label problem: True\n"
          ]
        },
        {
          "output_type": "stream",
          "name": "stderr",
          "text": [
            "\n"
          ]
        },
        {
          "output_type": "stream",
          "name": "stdout",
          "text": [
            "2023-04-21 07:00:44,786 TRAIN : loss 8.414944648742676 - f1-score (weighted avg)  0.7195\n"
          ]
        },
        {
          "output_type": "stream",
          "name": "stderr",
          "text": [
            "100%|██████████| 10/10 [00:02<00:00,  3.90it/s]"
          ]
        },
        {
          "output_type": "stream",
          "name": "stdout",
          "text": [
            "2023-04-21 07:00:47,425 Evaluating as a multi-label problem: False\n",
            "2023-04-21 07:00:47,493 DEV : loss 21.10654640197754 - f1-score (weighted avg)  0.6253\n",
            "2023-04-21 07:00:47,503 BAD EPOCHS (no improvement): 0\n",
            "2023-04-21 07:00:47,507 saving best model\n"
          ]
        },
        {
          "output_type": "stream",
          "name": "stderr",
          "text": [
            "\n"
          ]
        },
        {
          "output_type": "stream",
          "name": "stdout",
          "text": [
            "2023-04-21 07:00:49,304 ----------------------------------------------------------------------------------------------------\n",
            "2023-04-21 07:00:50,932 epoch 39 - iter 7/79 - loss 17.59725329 - time (sec): 1.62 - samples/sec: 4540.39 - lr: 0.006250\n",
            "2023-04-21 07:00:52,725 epoch 39 - iter 14/79 - loss 16.59409724 - time (sec): 3.42 - samples/sec: 4712.33 - lr: 0.006250\n",
            "2023-04-21 07:00:54,396 epoch 39 - iter 21/79 - loss 16.82213422 - time (sec): 5.09 - samples/sec: 4965.37 - lr: 0.006250\n",
            "2023-04-21 07:00:55,832 epoch 39 - iter 28/79 - loss 17.22859146 - time (sec): 6.53 - samples/sec: 5067.83 - lr: 0.006250\n",
            "2023-04-21 07:00:57,641 epoch 39 - iter 35/79 - loss 16.74602739 - time (sec): 8.33 - samples/sec: 5162.95 - lr: 0.006250\n",
            "2023-04-21 07:00:58,846 epoch 39 - iter 42/79 - loss 16.08211206 - time (sec): 9.54 - samples/sec: 5264.99 - lr: 0.006250\n",
            "2023-04-21 07:01:00,224 epoch 39 - iter 49/79 - loss 15.55263927 - time (sec): 10.92 - samples/sec: 5368.84 - lr: 0.006250\n",
            "2023-04-21 07:01:01,462 epoch 39 - iter 56/79 - loss 15.69668401 - time (sec): 12.16 - samples/sec: 5443.66 - lr: 0.006250\n",
            "2023-04-21 07:01:02,838 epoch 39 - iter 63/79 - loss 15.63505305 - time (sec): 13.53 - samples/sec: 5481.57 - lr: 0.006250\n",
            "2023-04-21 07:01:04,658 epoch 39 - iter 70/79 - loss 15.52967758 - time (sec): 15.35 - samples/sec: 5398.68 - lr: 0.006250\n",
            "2023-04-21 07:01:06,215 epoch 39 - iter 77/79 - loss 15.63980292 - time (sec): 16.91 - samples/sec: 5445.32 - lr: 0.006250\n",
            "2023-04-21 07:01:06,681 ----------------------------------------------------------------------------------------------------\n",
            "2023-04-21 07:01:06,683 EPOCH 39 done: loss 15.8471 - lr 0.006250\n"
          ]
        },
        {
          "output_type": "stream",
          "name": "stderr",
          "text": [
            "100%|██████████| 79/79 [00:19<00:00,  3.98it/s]\n"
          ]
        },
        {
          "output_type": "stream",
          "name": "stdout",
          "text": [
            "2023-04-21 07:01:27,833 Evaluating as a multi-label problem: True\n",
            "2023-04-21 07:01:29,684 TRAIN : loss 7.786107063293457 - f1-score (weighted avg)  0.7204\n"
          ]
        },
        {
          "output_type": "stream",
          "name": "stderr",
          "text": [
            "100%|██████████| 10/10 [00:02<00:00,  3.96it/s]"
          ]
        },
        {
          "output_type": "stream",
          "name": "stdout",
          "text": [
            "2023-04-21 07:01:32,287 Evaluating as a multi-label problem: False\n",
            "2023-04-21 07:01:32,355 DEV : loss 19.196908950805664 - f1-score (weighted avg)  0.6499\n",
            "2023-04-21 07:01:32,364 BAD EPOCHS (no improvement): 0\n",
            "2023-04-21 07:01:32,369 saving best model\n"
          ]
        },
        {
          "output_type": "stream",
          "name": "stderr",
          "text": [
            "\n"
          ]
        },
        {
          "output_type": "stream",
          "name": "stdout",
          "text": [
            "2023-04-21 07:01:34,179 ----------------------------------------------------------------------------------------------------\n",
            "2023-04-21 07:01:35,488 epoch 40 - iter 7/79 - loss 19.68626271 - time (sec): 1.31 - samples/sec: 5642.61 - lr: 0.006250\n",
            "2023-04-21 07:01:37,253 epoch 40 - iter 14/79 - loss 18.62957819 - time (sec): 3.07 - samples/sec: 5039.76 - lr: 0.006250\n",
            "2023-04-21 07:01:38,976 epoch 40 - iter 21/79 - loss 17.51520284 - time (sec): 4.79 - samples/sec: 5001.99 - lr: 0.006250\n",
            "2023-04-21 07:01:40,352 epoch 40 - iter 28/79 - loss 16.40487554 - time (sec): 6.17 - samples/sec: 5334.91 - lr: 0.006250\n",
            "2023-04-21 07:01:42,299 epoch 40 - iter 35/79 - loss 16.08644168 - time (sec): 8.12 - samples/sec: 5171.16 - lr: 0.006250\n",
            "2023-04-21 07:01:43,873 epoch 40 - iter 42/79 - loss 15.68486603 - time (sec): 9.69 - samples/sec: 5192.95 - lr: 0.006250\n",
            "2023-04-21 07:01:45,309 epoch 40 - iter 49/79 - loss 15.91095736 - time (sec): 11.13 - samples/sec: 5281.72 - lr: 0.006250\n",
            "2023-04-21 07:01:46,915 epoch 40 - iter 56/79 - loss 15.54992300 - time (sec): 12.73 - samples/sec: 5303.24 - lr: 0.006250\n",
            "2023-04-21 07:01:48,340 epoch 40 - iter 63/79 - loss 15.39289584 - time (sec): 14.16 - samples/sec: 5345.40 - lr: 0.006250\n",
            "2023-04-21 07:01:49,726 epoch 40 - iter 70/79 - loss 15.27587372 - time (sec): 15.54 - samples/sec: 5356.68 - lr: 0.006250\n",
            "2023-04-21 07:01:51,572 epoch 40 - iter 77/79 - loss 15.28068138 - time (sec): 17.39 - samples/sec: 5309.03 - lr: 0.006250\n",
            "2023-04-21 07:01:52,021 ----------------------------------------------------------------------------------------------------\n",
            "2023-04-21 07:01:52,023 EPOCH 40 done: loss 15.2930 - lr 0.006250\n"
          ]
        },
        {
          "output_type": "stream",
          "name": "stderr",
          "text": [
            "100%|██████████| 79/79 [00:19<00:00,  4.02it/s]"
          ]
        },
        {
          "output_type": "stream",
          "name": "stdout",
          "text": [
            "2023-04-21 07:02:11,800 Evaluating as a multi-label problem: True\n"
          ]
        },
        {
          "output_type": "stream",
          "name": "stderr",
          "text": [
            "\n"
          ]
        },
        {
          "output_type": "stream",
          "name": "stdout",
          "text": [
            "2023-04-21 07:02:14,958 TRAIN : loss 7.730550765991211 - f1-score (weighted avg)  0.7259\n"
          ]
        },
        {
          "output_type": "stream",
          "name": "stderr",
          "text": [
            "100%|██████████| 10/10 [00:02<00:00,  3.94it/s]"
          ]
        },
        {
          "output_type": "stream",
          "name": "stdout",
          "text": [
            "2023-04-21 07:02:17,574 Evaluating as a multi-label problem: False\n",
            "2023-04-21 07:02:17,642 DEV : loss 19.527034759521484 - f1-score (weighted avg)  0.6384\n",
            "2023-04-21 07:02:17,652 BAD EPOCHS (no improvement): 1\n",
            "2023-04-21 07:02:17,656 ----------------------------------------------------------------------------------------------------\n"
          ]
        },
        {
          "output_type": "stream",
          "name": "stderr",
          "text": [
            "\n"
          ]
        },
        {
          "output_type": "stream",
          "name": "stdout",
          "text": [
            "2023-04-21 07:02:19,570 epoch 41 - iter 7/79 - loss 14.04570133 - time (sec): 1.91 - samples/sec: 5247.33 - lr: 0.006250\n",
            "2023-04-21 07:02:21,635 epoch 41 - iter 14/79 - loss 14.00942812 - time (sec): 3.98 - samples/sec: 4820.82 - lr: 0.006250\n",
            "2023-04-21 07:02:22,841 epoch 41 - iter 21/79 - loss 14.03300666 - time (sec): 5.18 - samples/sec: 5086.09 - lr: 0.006250\n",
            "2023-04-21 07:02:24,273 epoch 41 - iter 28/79 - loss 14.71717188 - time (sec): 6.62 - samples/sec: 5291.84 - lr: 0.006250\n",
            "2023-04-21 07:02:25,534 epoch 41 - iter 35/79 - loss 14.57295053 - time (sec): 7.88 - samples/sec: 5349.76 - lr: 0.006250\n",
            "2023-04-21 07:02:27,124 epoch 41 - iter 42/79 - loss 14.19598567 - time (sec): 9.47 - samples/sec: 5296.09 - lr: 0.006250\n",
            "2023-04-21 07:02:28,701 epoch 41 - iter 49/79 - loss 14.03600781 - time (sec): 11.04 - samples/sec: 5362.77 - lr: 0.006250\n",
            "2023-04-21 07:02:29,982 epoch 41 - iter 56/79 - loss 14.10095031 - time (sec): 12.32 - samples/sec: 5452.58 - lr: 0.006250\n",
            "2023-04-21 07:02:31,412 epoch 41 - iter 63/79 - loss 14.04330590 - time (sec): 13.75 - samples/sec: 5499.51 - lr: 0.006250\n",
            "2023-04-21 07:02:32,921 epoch 41 - iter 70/79 - loss 14.09566172 - time (sec): 15.26 - samples/sec: 5470.42 - lr: 0.006250\n",
            "2023-04-21 07:02:34,518 epoch 41 - iter 77/79 - loss 14.01854723 - time (sec): 16.86 - samples/sec: 5451.45 - lr: 0.006250\n",
            "2023-04-21 07:02:34,979 ----------------------------------------------------------------------------------------------------\n",
            "2023-04-21 07:02:34,981 EPOCH 41 done: loss 14.1300 - lr 0.006250\n"
          ]
        },
        {
          "output_type": "stream",
          "name": "stderr",
          "text": [
            "100%|██████████| 79/79 [00:19<00:00,  4.01it/s]"
          ]
        },
        {
          "output_type": "stream",
          "name": "stdout",
          "text": [
            "2023-04-21 07:02:54,820 Evaluating as a multi-label problem: True\n"
          ]
        },
        {
          "output_type": "stream",
          "name": "stderr",
          "text": [
            "\n"
          ]
        },
        {
          "output_type": "stream",
          "name": "stdout",
          "text": [
            "2023-04-21 07:02:56,688 TRAIN : loss 6.371293544769287 - f1-score (weighted avg)  0.7236\n"
          ]
        },
        {
          "output_type": "stream",
          "name": "stderr",
          "text": [
            "100%|██████████| 10/10 [00:02<00:00,  3.86it/s]"
          ]
        },
        {
          "output_type": "stream",
          "name": "stdout",
          "text": [
            "2023-04-21 07:02:59,357 Evaluating as a multi-label problem: False\n",
            "2023-04-21 07:02:59,426 DEV : loss 16.760025024414062 - f1-score (weighted avg)  0.6381\n",
            "2023-04-21 07:02:59,435 BAD EPOCHS (no improvement): 0\n",
            "2023-04-21 07:02:59,439 saving best model\n"
          ]
        },
        {
          "output_type": "stream",
          "name": "stderr",
          "text": [
            "\n"
          ]
        },
        {
          "output_type": "stream",
          "name": "stdout",
          "text": [
            "2023-04-21 07:03:01,253 ----------------------------------------------------------------------------------------------------\n",
            "2023-04-21 07:03:02,894 epoch 42 - iter 7/79 - loss 12.95135345 - time (sec): 1.64 - samples/sec: 5020.51 - lr: 0.006250\n",
            "2023-04-21 07:03:04,639 epoch 42 - iter 14/79 - loss 12.44265120 - time (sec): 3.38 - samples/sec: 5199.45 - lr: 0.006250\n",
            "2023-04-21 07:03:06,106 epoch 42 - iter 21/79 - loss 13.14365235 - time (sec): 4.85 - samples/sec: 5462.53 - lr: 0.006250\n",
            "2023-04-21 07:03:07,539 epoch 42 - iter 28/79 - loss 13.31017665 - time (sec): 6.28 - samples/sec: 5437.04 - lr: 0.006250\n",
            "2023-04-21 07:03:08,802 epoch 42 - iter 35/79 - loss 13.66864320 - time (sec): 7.55 - samples/sec: 5536.38 - lr: 0.006250\n",
            "2023-04-21 07:03:10,397 epoch 42 - iter 42/79 - loss 13.50262780 - time (sec): 9.14 - samples/sec: 5424.44 - lr: 0.006250\n",
            "2023-04-21 07:03:11,967 epoch 42 - iter 49/79 - loss 14.25282983 - time (sec): 10.71 - samples/sec: 5527.97 - lr: 0.006250\n",
            "2023-04-21 07:03:13,264 epoch 42 - iter 56/79 - loss 14.45954546 - time (sec): 12.01 - samples/sec: 5624.00 - lr: 0.006250\n",
            "2023-04-21 07:03:14,981 epoch 42 - iter 63/79 - loss 14.23177748 - time (sec): 13.73 - samples/sec: 5507.33 - lr: 0.006250\n",
            "2023-04-21 07:03:16,661 epoch 42 - iter 70/79 - loss 14.19751093 - time (sec): 15.41 - samples/sec: 5427.66 - lr: 0.006250\n",
            "2023-04-21 07:03:18,322 epoch 42 - iter 77/79 - loss 14.45903616 - time (sec): 17.07 - samples/sec: 5374.79 - lr: 0.006250\n",
            "2023-04-21 07:03:18,888 ----------------------------------------------------------------------------------------------------\n",
            "2023-04-21 07:03:18,889 EPOCH 42 done: loss 14.3385 - lr 0.006250\n"
          ]
        },
        {
          "output_type": "stream",
          "name": "stderr",
          "text": [
            "100%|██████████| 79/79 [00:19<00:00,  4.00it/s]\n"
          ]
        },
        {
          "output_type": "stream",
          "name": "stdout",
          "text": [
            "2023-04-21 07:03:39,934 Evaluating as a multi-label problem: True\n",
            "2023-04-21 07:03:41,824 TRAIN : loss 7.082573890686035 - f1-score (weighted avg)  0.717\n"
          ]
        },
        {
          "output_type": "stream",
          "name": "stderr",
          "text": [
            "100%|██████████| 10/10 [00:02<00:00,  3.93it/s]"
          ]
        },
        {
          "output_type": "stream",
          "name": "stdout",
          "text": [
            "2023-04-21 07:03:44,444 Evaluating as a multi-label problem: False\n",
            "2023-04-21 07:03:44,512 DEV : loss 17.25944709777832 - f1-score (weighted avg)  0.6436\n",
            "2023-04-21 07:03:44,521 BAD EPOCHS (no improvement): 1\n",
            "2023-04-21 07:03:44,525 ----------------------------------------------------------------------------------------------------\n"
          ]
        },
        {
          "output_type": "stream",
          "name": "stderr",
          "text": [
            "\n"
          ]
        },
        {
          "output_type": "stream",
          "name": "stdout",
          "text": [
            "2023-04-21 07:03:46,281 epoch 43 - iter 7/79 - loss 14.06099727 - time (sec): 1.75 - samples/sec: 5215.80 - lr: 0.006250\n",
            "2023-04-21 07:03:47,889 epoch 43 - iter 14/79 - loss 14.81845404 - time (sec): 3.36 - samples/sec: 5344.51 - lr: 0.006250\n",
            "2023-04-21 07:03:49,508 epoch 43 - iter 21/79 - loss 14.63273020 - time (sec): 4.98 - samples/sec: 5526.97 - lr: 0.006250\n",
            "2023-04-21 07:03:51,113 epoch 43 - iter 28/79 - loss 14.47579520 - time (sec): 6.59 - samples/sec: 5525.31 - lr: 0.006250\n",
            "2023-04-21 07:03:52,461 epoch 43 - iter 35/79 - loss 14.37416886 - time (sec): 7.93 - samples/sec: 5563.33 - lr: 0.006250\n",
            "2023-04-21 07:03:54,003 epoch 43 - iter 42/79 - loss 14.26867650 - time (sec): 9.48 - samples/sec: 5464.59 - lr: 0.006250\n",
            "2023-04-21 07:03:55,268 epoch 43 - iter 49/79 - loss 14.13684445 - time (sec): 10.74 - samples/sec: 5453.69 - lr: 0.006250\n",
            "2023-04-21 07:03:57,148 epoch 43 - iter 56/79 - loss 14.27804509 - time (sec): 12.62 - samples/sec: 5353.78 - lr: 0.006250\n",
            "2023-04-21 07:03:58,777 epoch 43 - iter 63/79 - loss 14.10007817 - time (sec): 14.25 - samples/sec: 5363.51 - lr: 0.006250\n",
            "2023-04-21 07:04:00,066 epoch 43 - iter 70/79 - loss 14.14931203 - time (sec): 15.54 - samples/sec: 5379.80 - lr: 0.006250\n",
            "2023-04-21 07:04:01,371 epoch 43 - iter 77/79 - loss 13.92918031 - time (sec): 16.84 - samples/sec: 5438.35 - lr: 0.006250\n",
            "2023-04-21 07:04:01,866 ----------------------------------------------------------------------------------------------------\n",
            "2023-04-21 07:04:01,868 EPOCH 43 done: loss 13.9462 - lr 0.006250\n"
          ]
        },
        {
          "output_type": "stream",
          "name": "stderr",
          "text": [
            "100%|██████████| 79/79 [00:19<00:00,  4.03it/s]"
          ]
        },
        {
          "output_type": "stream",
          "name": "stdout",
          "text": [
            "2023-04-21 07:04:21,614 Evaluating as a multi-label problem: True\n"
          ]
        },
        {
          "output_type": "stream",
          "name": "stderr",
          "text": [
            "\n"
          ]
        },
        {
          "output_type": "stream",
          "name": "stdout",
          "text": [
            "2023-04-21 07:04:23,489 TRAIN : loss 8.492111206054688 - f1-score (weighted avg)  0.6808\n"
          ]
        },
        {
          "output_type": "stream",
          "name": "stderr",
          "text": [
            "100%|██████████| 10/10 [00:02<00:00,  3.94it/s]\n"
          ]
        },
        {
          "output_type": "stream",
          "name": "stdout",
          "text": [
            "2023-04-21 07:04:27,216 Evaluating as a multi-label problem: False\n",
            "2023-04-21 07:04:27,287 DEV : loss 19.06441879272461 - f1-score (weighted avg)  0.6207\n",
            "2023-04-21 07:04:27,296 Epoch    43: reducing learning rate of group 0 to 3.1250e-03.\n",
            "2023-04-21 07:04:27,298 BAD EPOCHS (no improvement): 2\n",
            "2023-04-21 07:04:27,301 ----------------------------------------------------------------------------------------------------\n",
            "2023-04-21 07:04:28,705 epoch 44 - iter 7/79 - loss 13.03947250 - time (sec): 1.40 - samples/sec: 5966.04 - lr: 0.003125\n",
            "2023-04-21 07:04:30,334 epoch 44 - iter 14/79 - loss 12.70251180 - time (sec): 3.03 - samples/sec: 5590.91 - lr: 0.003125\n",
            "2023-04-21 07:04:31,840 epoch 44 - iter 21/79 - loss 11.93334890 - time (sec): 4.54 - samples/sec: 5605.32 - lr: 0.003125\n",
            "2023-04-21 07:04:33,366 epoch 44 - iter 28/79 - loss 12.04878121 - time (sec): 6.06 - samples/sec: 5534.44 - lr: 0.003125\n",
            "2023-04-21 07:04:34,812 epoch 44 - iter 35/79 - loss 12.11366603 - time (sec): 7.51 - samples/sec: 5483.54 - lr: 0.003125\n",
            "2023-04-21 07:04:36,689 epoch 44 - iter 42/79 - loss 11.88462246 - time (sec): 9.39 - samples/sec: 5287.44 - lr: 0.003125\n",
            "2023-04-21 07:04:38,172 epoch 44 - iter 49/79 - loss 11.94436308 - time (sec): 10.87 - samples/sec: 5379.03 - lr: 0.003125\n",
            "2023-04-21 07:04:39,686 epoch 44 - iter 56/79 - loss 12.11745351 - time (sec): 12.38 - samples/sec: 5419.44 - lr: 0.003125\n",
            "2023-04-21 07:04:41,029 epoch 44 - iter 63/79 - loss 12.14378962 - time (sec): 13.73 - samples/sec: 5447.45 - lr: 0.003125\n",
            "2023-04-21 07:04:42,525 epoch 44 - iter 70/79 - loss 11.96145761 - time (sec): 15.22 - samples/sec: 5508.05 - lr: 0.003125\n",
            "2023-04-21 07:04:44,625 epoch 44 - iter 77/79 - loss 11.92981801 - time (sec): 17.32 - samples/sec: 5342.53 - lr: 0.003125\n",
            "2023-04-21 07:04:45,003 ----------------------------------------------------------------------------------------------------\n",
            "2023-04-21 07:04:45,005 EPOCH 44 done: loss 11.8706 - lr 0.003125\n"
          ]
        },
        {
          "output_type": "stream",
          "name": "stderr",
          "text": [
            "100%|██████████| 79/79 [00:19<00:00,  4.01it/s]"
          ]
        },
        {
          "output_type": "stream",
          "name": "stdout",
          "text": [
            "2023-04-21 07:05:04,844 Evaluating as a multi-label problem: True\n"
          ]
        },
        {
          "output_type": "stream",
          "name": "stderr",
          "text": [
            "\n"
          ]
        },
        {
          "output_type": "stream",
          "name": "stdout",
          "text": [
            "2023-04-21 07:05:06,705 TRAIN : loss 5.497291088104248 - f1-score (weighted avg)  0.7441\n"
          ]
        },
        {
          "output_type": "stream",
          "name": "stderr",
          "text": [
            "100%|██████████| 10/10 [00:02<00:00,  3.97it/s]"
          ]
        },
        {
          "output_type": "stream",
          "name": "stdout",
          "text": [
            "2023-04-21 07:05:09,309 Evaluating as a multi-label problem: False\n",
            "2023-04-21 07:05:09,377 DEV : loss 15.64533805847168 - f1-score (weighted avg)  0.6584\n",
            "2023-04-21 07:05:09,388 BAD EPOCHS (no improvement): 0\n",
            "2023-04-21 07:05:09,395 saving best model\n"
          ]
        },
        {
          "output_type": "stream",
          "name": "stderr",
          "text": [
            "\n"
          ]
        },
        {
          "output_type": "stream",
          "name": "stdout",
          "text": [
            "2023-04-21 07:05:11,210 ----------------------------------------------------------------------------------------------------\n",
            "2023-04-21 07:05:12,675 epoch 45 - iter 7/79 - loss 10.55539723 - time (sec): 1.46 - samples/sec: 5878.81 - lr: 0.003125\n",
            "2023-04-21 07:05:14,308 epoch 45 - iter 14/79 - loss 10.70148515 - time (sec): 3.10 - samples/sec: 5710.62 - lr: 0.003125\n",
            "2023-04-21 07:05:15,723 epoch 45 - iter 21/79 - loss 10.59184110 - time (sec): 4.51 - samples/sec: 5825.72 - lr: 0.003125\n",
            "2023-04-21 07:05:17,333 epoch 45 - iter 28/79 - loss 10.10425495 - time (sec): 6.12 - samples/sec: 5706.38 - lr: 0.003125\n",
            "2023-04-21 07:05:18,817 epoch 45 - iter 35/79 - loss 10.07871211 - time (sec): 7.60 - samples/sec: 5722.15 - lr: 0.003125\n",
            "2023-04-21 07:05:20,791 epoch 45 - iter 42/79 - loss 10.16307792 - time (sec): 9.58 - samples/sec: 5404.10 - lr: 0.003125\n",
            "2023-04-21 07:05:22,439 epoch 45 - iter 49/79 - loss 10.10056511 - time (sec): 11.23 - samples/sec: 5325.82 - lr: 0.003125\n",
            "2023-04-21 07:05:24,125 epoch 45 - iter 56/79 - loss 10.26209876 - time (sec): 12.91 - samples/sec: 5279.15 - lr: 0.003125\n",
            "2023-04-21 07:05:25,515 epoch 45 - iter 63/79 - loss 10.42785230 - time (sec): 14.30 - samples/sec: 5304.97 - lr: 0.003125\n",
            "2023-04-21 07:05:27,266 epoch 45 - iter 70/79 - loss 10.34220955 - time (sec): 16.05 - samples/sec: 5230.39 - lr: 0.003125\n",
            "2023-04-21 07:05:28,946 epoch 45 - iter 77/79 - loss 10.33329284 - time (sec): 17.73 - samples/sec: 5222.69 - lr: 0.003125\n",
            "2023-04-21 07:05:29,404 ----------------------------------------------------------------------------------------------------\n",
            "2023-04-21 07:05:29,405 EPOCH 45 done: loss 10.3606 - lr 0.003125\n"
          ]
        },
        {
          "output_type": "stream",
          "name": "stderr",
          "text": [
            "100%|██████████| 79/79 [00:19<00:00,  4.02it/s]\n"
          ]
        },
        {
          "output_type": "stream",
          "name": "stdout",
          "text": [
            "2023-04-21 07:05:50,359 Evaluating as a multi-label problem: True\n",
            "2023-04-21 07:05:52,223 TRAIN : loss 5.130480766296387 - f1-score (weighted avg)  0.724\n"
          ]
        },
        {
          "output_type": "stream",
          "name": "stderr",
          "text": [
            "100%|██████████| 10/10 [00:02<00:00,  3.90it/s]"
          ]
        },
        {
          "output_type": "stream",
          "name": "stdout",
          "text": [
            "2023-04-21 07:05:54,864 Evaluating as a multi-label problem: False\n",
            "2023-04-21 07:05:54,932 DEV : loss 15.040587425231934 - f1-score (weighted avg)  0.6385\n",
            "2023-04-21 07:05:54,941 BAD EPOCHS (no improvement): 0\n",
            "2023-04-21 07:05:54,945 saving best model\n"
          ]
        },
        {
          "output_type": "stream",
          "name": "stderr",
          "text": [
            "\n"
          ]
        },
        {
          "output_type": "stream",
          "name": "stdout",
          "text": [
            "2023-04-21 07:05:56,764 ----------------------------------------------------------------------------------------------------\n",
            "2023-04-21 07:05:58,355 epoch 46 - iter 7/79 - loss 10.91783072 - time (sec): 1.59 - samples/sec: 4937.63 - lr: 0.003125\n",
            "2023-04-21 07:05:59,749 epoch 46 - iter 14/79 - loss 9.45313906 - time (sec): 2.98 - samples/sec: 5592.22 - lr: 0.003125\n",
            "2023-04-21 07:06:01,300 epoch 46 - iter 21/79 - loss 9.83478517 - time (sec): 4.53 - samples/sec: 5514.97 - lr: 0.003125\n",
            "2023-04-21 07:06:03,020 epoch 46 - iter 28/79 - loss 10.34321044 - time (sec): 6.25 - samples/sec: 5409.91 - lr: 0.003125\n",
            "2023-04-21 07:06:04,531 epoch 46 - iter 35/79 - loss 10.10263850 - time (sec): 7.76 - samples/sec: 5452.63 - lr: 0.003125\n",
            "2023-04-21 07:06:06,579 epoch 46 - iter 42/79 - loss 10.30600524 - time (sec): 9.81 - samples/sec: 5212.73 - lr: 0.003125\n",
            "2023-04-21 07:06:07,901 epoch 46 - iter 49/79 - loss 10.43125452 - time (sec): 11.13 - samples/sec: 5341.05 - lr: 0.003125\n",
            "2023-04-21 07:06:09,335 epoch 46 - iter 56/79 - loss 10.36685992 - time (sec): 12.57 - samples/sec: 5347.59 - lr: 0.003125\n",
            "2023-04-21 07:06:10,820 epoch 46 - iter 63/79 - loss 10.16688996 - time (sec): 14.05 - samples/sec: 5364.52 - lr: 0.003125\n",
            "2023-04-21 07:06:12,528 epoch 46 - iter 70/79 - loss 10.25947943 - time (sec): 15.76 - samples/sec: 5335.59 - lr: 0.003125\n",
            "2023-04-21 07:06:14,202 epoch 46 - iter 77/79 - loss 10.16550771 - time (sec): 17.44 - samples/sec: 5324.23 - lr: 0.003125\n",
            "2023-04-21 07:06:14,598 ----------------------------------------------------------------------------------------------------\n",
            "2023-04-21 07:06:14,600 EPOCH 46 done: loss 10.1553 - lr 0.003125\n"
          ]
        },
        {
          "output_type": "stream",
          "name": "stderr",
          "text": [
            "100%|██████████| 79/79 [00:19<00:00,  4.02it/s]"
          ]
        },
        {
          "output_type": "stream",
          "name": "stdout",
          "text": [
            "2023-04-21 07:06:34,369 Evaluating as a multi-label problem: True\n"
          ]
        },
        {
          "output_type": "stream",
          "name": "stderr",
          "text": [
            "\n"
          ]
        },
        {
          "output_type": "stream",
          "name": "stdout",
          "text": [
            "2023-04-21 07:06:37,509 TRAIN : loss 4.453370571136475 - f1-score (weighted avg)  0.7354\n"
          ]
        },
        {
          "output_type": "stream",
          "name": "stderr",
          "text": [
            "100%|██████████| 10/10 [00:02<00:00,  3.89it/s]"
          ]
        },
        {
          "output_type": "stream",
          "name": "stdout",
          "text": [
            "2023-04-21 07:06:40,155 Evaluating as a multi-label problem: False\n",
            "2023-04-21 07:06:40,224 DEV : loss 13.691507339477539 - f1-score (weighted avg)  0.6468\n",
            "2023-04-21 07:06:40,234 BAD EPOCHS (no improvement): 0\n",
            "2023-04-21 07:06:40,239 saving best model\n"
          ]
        },
        {
          "output_type": "stream",
          "name": "stderr",
          "text": [
            "\n"
          ]
        },
        {
          "output_type": "stream",
          "name": "stdout",
          "text": [
            "2023-04-21 07:06:42,080 ----------------------------------------------------------------------------------------------------\n",
            "2023-04-21 07:06:43,517 epoch 47 - iter 7/79 - loss 9.87223718 - time (sec): 1.44 - samples/sec: 5501.19 - lr: 0.003125\n",
            "2023-04-21 07:06:45,137 epoch 47 - iter 14/79 - loss 10.35277166 - time (sec): 3.06 - samples/sec: 5274.48 - lr: 0.003125\n",
            "2023-04-21 07:06:46,810 epoch 47 - iter 21/79 - loss 9.75836836 - time (sec): 4.73 - samples/sec: 5258.83 - lr: 0.003125\n",
            "2023-04-21 07:06:48,280 epoch 47 - iter 28/79 - loss 9.57394353 - time (sec): 6.20 - samples/sec: 5507.26 - lr: 0.003125\n",
            "2023-04-21 07:06:49,696 epoch 47 - iter 35/79 - loss 9.48817851 - time (sec): 7.61 - samples/sec: 5483.26 - lr: 0.003125\n",
            "2023-04-21 07:06:51,327 epoch 47 - iter 42/79 - loss 9.25347160 - time (sec): 9.24 - samples/sec: 5431.30 - lr: 0.003125\n",
            "2023-04-21 07:06:52,604 epoch 47 - iter 49/79 - loss 9.48398964 - time (sec): 10.52 - samples/sec: 5522.36 - lr: 0.003125\n",
            "2023-04-21 07:06:54,714 epoch 47 - iter 56/79 - loss 9.51482413 - time (sec): 12.63 - samples/sec: 5294.36 - lr: 0.003125\n",
            "2023-04-21 07:06:56,825 epoch 47 - iter 63/79 - loss 9.52978051 - time (sec): 14.74 - samples/sec: 5132.10 - lr: 0.003125\n",
            "2023-04-21 07:06:58,359 epoch 47 - iter 70/79 - loss 9.60167488 - time (sec): 16.28 - samples/sec: 5163.92 - lr: 0.003125\n",
            "2023-04-21 07:06:59,752 epoch 47 - iter 77/79 - loss 9.86820870 - time (sec): 17.67 - samples/sec: 5227.43 - lr: 0.003125\n",
            "2023-04-21 07:07:00,140 ----------------------------------------------------------------------------------------------------\n",
            "2023-04-21 07:07:00,141 EPOCH 47 done: loss 9.8611 - lr 0.003125\n"
          ]
        },
        {
          "output_type": "stream",
          "name": "stderr",
          "text": [
            "100%|██████████| 79/79 [00:19<00:00,  4.02it/s]"
          ]
        },
        {
          "output_type": "stream",
          "name": "stdout",
          "text": [
            "2023-04-21 07:07:19,926 Evaluating as a multi-label problem: True\n"
          ]
        },
        {
          "output_type": "stream",
          "name": "stderr",
          "text": [
            "\n"
          ]
        },
        {
          "output_type": "stream",
          "name": "stdout",
          "text": [
            "2023-04-21 07:07:21,803 TRAIN : loss 4.167174339294434 - f1-score (weighted avg)  0.7285\n"
          ]
        },
        {
          "output_type": "stream",
          "name": "stderr",
          "text": [
            "100%|██████████| 10/10 [00:02<00:00,  3.93it/s]"
          ]
        },
        {
          "output_type": "stream",
          "name": "stdout",
          "text": [
            "2023-04-21 07:07:24,429 Evaluating as a multi-label problem: False\n",
            "2023-04-21 07:07:24,500 DEV : loss 12.852426528930664 - f1-score (weighted avg)  0.6377\n",
            "2023-04-21 07:07:24,510 BAD EPOCHS (no improvement): 0\n",
            "2023-04-21 07:07:24,514 saving best model\n"
          ]
        },
        {
          "output_type": "stream",
          "name": "stderr",
          "text": [
            "\n"
          ]
        },
        {
          "output_type": "stream",
          "name": "stdout",
          "text": [
            "2023-04-21 07:07:26,316 ----------------------------------------------------------------------------------------------------\n",
            "2023-04-21 07:07:27,737 epoch 48 - iter 7/79 - loss 8.64021885 - time (sec): 1.41 - samples/sec: 5577.66 - lr: 0.003125\n",
            "2023-04-21 07:07:29,278 epoch 48 - iter 14/79 - loss 10.11088951 - time (sec): 2.95 - samples/sec: 5389.67 - lr: 0.003125\n",
            "2023-04-21 07:07:31,035 epoch 48 - iter 21/79 - loss 9.41309316 - time (sec): 4.71 - samples/sec: 5406.04 - lr: 0.003125\n",
            "2023-04-21 07:07:32,495 epoch 48 - iter 28/79 - loss 9.61934720 - time (sec): 6.17 - samples/sec: 5399.92 - lr: 0.003125\n",
            "2023-04-21 07:07:34,257 epoch 48 - iter 35/79 - loss 9.44768388 - time (sec): 7.93 - samples/sec: 5272.28 - lr: 0.003125\n",
            "2023-04-21 07:07:36,430 epoch 48 - iter 42/79 - loss 9.34887600 - time (sec): 10.10 - samples/sec: 5079.18 - lr: 0.003125\n",
            "2023-04-21 07:07:38,227 epoch 48 - iter 49/79 - loss 9.14330884 - time (sec): 11.90 - samples/sec: 5115.57 - lr: 0.003125\n",
            "2023-04-21 07:07:39,570 epoch 48 - iter 56/79 - loss 9.12502009 - time (sec): 13.24 - samples/sec: 5169.36 - lr: 0.003125\n",
            "2023-04-21 07:07:40,920 epoch 48 - iter 63/79 - loss 9.10278042 - time (sec): 14.59 - samples/sec: 5185.35 - lr: 0.003125\n",
            "2023-04-21 07:07:42,228 epoch 48 - iter 70/79 - loss 9.06215152 - time (sec): 15.90 - samples/sec: 5234.53 - lr: 0.003125\n",
            "2023-04-21 07:07:43,702 epoch 48 - iter 77/79 - loss 9.22654669 - time (sec): 17.37 - samples/sec: 5292.33 - lr: 0.003125\n",
            "2023-04-21 07:07:44,284 ----------------------------------------------------------------------------------------------------\n",
            "2023-04-21 07:07:44,286 EPOCH 48 done: loss 9.2197 - lr 0.003125\n"
          ]
        },
        {
          "output_type": "stream",
          "name": "stderr",
          "text": [
            "100%|██████████| 79/79 [00:19<00:00,  4.01it/s]\n"
          ]
        },
        {
          "output_type": "stream",
          "name": "stdout",
          "text": [
            "2023-04-21 07:08:05,339 Evaluating as a multi-label problem: True\n",
            "2023-04-21 07:08:07,214 TRAIN : loss 4.225277423858643 - f1-score (weighted avg)  0.7367\n"
          ]
        },
        {
          "output_type": "stream",
          "name": "stderr",
          "text": [
            "100%|██████████| 10/10 [00:02<00:00,  3.96it/s]"
          ]
        },
        {
          "output_type": "stream",
          "name": "stdout",
          "text": [
            "2023-04-21 07:08:09,815 Evaluating as a multi-label problem: False\n",
            "2023-04-21 07:08:09,883 DEV : loss 12.958596229553223 - f1-score (weighted avg)  0.6465\n",
            "2023-04-21 07:08:09,892 BAD EPOCHS (no improvement): 1\n",
            "2023-04-21 07:08:09,896 ----------------------------------------------------------------------------------------------------\n"
          ]
        },
        {
          "output_type": "stream",
          "name": "stderr",
          "text": [
            "\n"
          ]
        },
        {
          "output_type": "stream",
          "name": "stdout",
          "text": [
            "2023-04-21 07:08:11,648 epoch 49 - iter 7/79 - loss 8.80491649 - time (sec): 1.75 - samples/sec: 5165.87 - lr: 0.003125\n",
            "2023-04-21 07:08:13,165 epoch 49 - iter 14/79 - loss 8.64476966 - time (sec): 3.27 - samples/sec: 5461.68 - lr: 0.003125\n",
            "2023-04-21 07:08:14,602 epoch 49 - iter 21/79 - loss 8.33718366 - time (sec): 4.70 - samples/sec: 5325.62 - lr: 0.003125\n",
            "2023-04-21 07:08:16,548 epoch 49 - iter 28/79 - loss 8.70546681 - time (sec): 6.65 - samples/sec: 5080.47 - lr: 0.003125\n",
            "2023-04-21 07:08:17,900 epoch 49 - iter 35/79 - loss 8.99249395 - time (sec): 8.00 - samples/sec: 5167.13 - lr: 0.003125\n",
            "2023-04-21 07:08:19,681 epoch 49 - iter 42/79 - loss 9.13569630 - time (sec): 9.78 - samples/sec: 5155.42 - lr: 0.003125\n",
            "2023-04-21 07:08:21,183 epoch 49 - iter 49/79 - loss 9.36147522 - time (sec): 11.28 - samples/sec: 5196.95 - lr: 0.003125\n",
            "2023-04-21 07:08:23,021 epoch 49 - iter 56/79 - loss 9.21463654 - time (sec): 13.12 - samples/sec: 5158.64 - lr: 0.003125\n",
            "2023-04-21 07:08:24,416 epoch 49 - iter 63/79 - loss 9.10504477 - time (sec): 14.52 - samples/sec: 5250.77 - lr: 0.003125\n",
            "2023-04-21 07:08:26,052 epoch 49 - iter 70/79 - loss 9.01504819 - time (sec): 16.15 - samples/sec: 5267.16 - lr: 0.003125\n",
            "2023-04-21 07:08:27,399 epoch 49 - iter 77/79 - loss 9.10704546 - time (sec): 17.50 - samples/sec: 5290.50 - lr: 0.003125\n",
            "2023-04-21 07:08:27,830 ----------------------------------------------------------------------------------------------------\n",
            "2023-04-21 07:08:27,832 EPOCH 49 done: loss 9.1532 - lr 0.003125\n"
          ]
        },
        {
          "output_type": "stream",
          "name": "stderr",
          "text": [
            "100%|██████████| 79/79 [00:19<00:00,  3.98it/s]"
          ]
        },
        {
          "output_type": "stream",
          "name": "stdout",
          "text": [
            "2023-04-21 07:08:47,820 Evaluating as a multi-label problem: True\n"
          ]
        },
        {
          "output_type": "stream",
          "name": "stderr",
          "text": [
            "\n"
          ]
        },
        {
          "output_type": "stream",
          "name": "stdout",
          "text": [
            "2023-04-21 07:08:49,681 TRAIN : loss 4.484241962432861 - f1-score (weighted avg)  0.7121\n"
          ]
        },
        {
          "output_type": "stream",
          "name": "stderr",
          "text": [
            "100%|██████████| 10/10 [00:03<00:00,  2.78it/s]"
          ]
        },
        {
          "output_type": "stream",
          "name": "stdout",
          "text": [
            "2023-04-21 07:08:53,364 Evaluating as a multi-label problem: False\n",
            "2023-04-21 07:08:53,434 DEV : loss 13.325900077819824 - f1-score (weighted avg)  0.627\n",
            "2023-04-21 07:08:53,444 Epoch    49: reducing learning rate of group 0 to 1.5625e-03.\n",
            "2023-04-21 07:08:53,446 BAD EPOCHS (no improvement): 2\n",
            "2023-04-21 07:08:53,452 ----------------------------------------------------------------------------------------------------\n"
          ]
        },
        {
          "output_type": "stream",
          "name": "stderr",
          "text": [
            "\n"
          ]
        },
        {
          "output_type": "stream",
          "name": "stdout",
          "text": [
            "2023-04-21 07:08:54,876 epoch 50 - iter 7/79 - loss 8.97568813 - time (sec): 1.42 - samples/sec: 5794.27 - lr: 0.001563\n",
            "2023-04-21 07:08:56,372 epoch 50 - iter 14/79 - loss 8.21419159 - time (sec): 2.92 - samples/sec: 5589.62 - lr: 0.001563\n",
            "2023-04-21 07:08:57,655 epoch 50 - iter 21/79 - loss 7.92894251 - time (sec): 4.20 - samples/sec: 5834.40 - lr: 0.001563\n",
            "2023-04-21 07:08:59,404 epoch 50 - iter 28/79 - loss 8.08633131 - time (sec): 5.95 - samples/sec: 5694.16 - lr: 0.001563\n",
            "2023-04-21 07:09:01,278 epoch 50 - iter 35/79 - loss 7.92176671 - time (sec): 7.82 - samples/sec: 5476.99 - lr: 0.001563\n",
            "2023-04-21 07:09:02,697 epoch 50 - iter 42/79 - loss 7.70548469 - time (sec): 9.24 - samples/sec: 5520.95 - lr: 0.001563\n",
            "2023-04-21 07:09:04,393 epoch 50 - iter 49/79 - loss 7.97059408 - time (sec): 10.94 - samples/sec: 5516.20 - lr: 0.001563\n",
            "2023-04-21 07:09:05,879 epoch 50 - iter 56/79 - loss 8.02605951 - time (sec): 12.43 - samples/sec: 5566.85 - lr: 0.001563\n",
            "2023-04-21 07:09:07,176 epoch 50 - iter 63/79 - loss 8.12351933 - time (sec): 13.72 - samples/sec: 5592.20 - lr: 0.001563\n",
            "2023-04-21 07:09:08,892 epoch 50 - iter 70/79 - loss 8.14019817 - time (sec): 15.44 - samples/sec: 5555.63 - lr: 0.001563\n",
            "2023-04-21 07:09:10,107 epoch 50 - iter 77/79 - loss 8.23348240 - time (sec): 16.65 - samples/sec: 5535.28 - lr: 0.001563\n",
            "2023-04-21 07:09:10,576 ----------------------------------------------------------------------------------------------------\n",
            "2023-04-21 07:09:10,578 EPOCH 50 done: loss 8.2624 - lr 0.001563\n"
          ]
        },
        {
          "output_type": "stream",
          "name": "stderr",
          "text": [
            "100%|██████████| 79/79 [00:19<00:00,  4.00it/s]"
          ]
        },
        {
          "output_type": "stream",
          "name": "stdout",
          "text": [
            "2023-04-21 07:09:30,455 Evaluating as a multi-label problem: True\n"
          ]
        },
        {
          "output_type": "stream",
          "name": "stderr",
          "text": [
            "\n"
          ]
        },
        {
          "output_type": "stream",
          "name": "stdout",
          "text": [
            "2023-04-21 07:09:32,313 TRAIN : loss 3.5171525478363037 - f1-score (weighted avg)  0.7564\n"
          ]
        },
        {
          "output_type": "stream",
          "name": "stderr",
          "text": [
            "100%|██████████| 10/10 [00:02<00:00,  3.98it/s]"
          ]
        },
        {
          "output_type": "stream",
          "name": "stdout",
          "text": [
            "2023-04-21 07:09:34,905 Evaluating as a multi-label problem: False\n",
            "2023-04-21 07:09:34,974 DEV : loss 11.884212493896484 - f1-score (weighted avg)  0.6531\n",
            "2023-04-21 07:09:34,983 BAD EPOCHS (no improvement): 0\n",
            "2023-04-21 07:09:34,987 saving best model\n"
          ]
        },
        {
          "output_type": "stream",
          "name": "stderr",
          "text": [
            "\n"
          ]
        },
        {
          "output_type": "stream",
          "name": "stdout",
          "text": [
            "2023-04-21 07:09:36,798 ----------------------------------------------------------------------------------------------------\n",
            "2023-04-21 07:09:38,217 epoch 51 - iter 7/79 - loss 7.77710325 - time (sec): 1.42 - samples/sec: 5538.00 - lr: 0.001563\n",
            "2023-04-21 07:09:39,636 epoch 51 - iter 14/79 - loss 7.79055375 - time (sec): 2.83 - samples/sec: 5414.48 - lr: 0.001563\n",
            "2023-04-21 07:09:41,037 epoch 51 - iter 21/79 - loss 7.71027880 - time (sec): 4.24 - samples/sec: 5700.50 - lr: 0.001563\n",
            "2023-04-21 07:09:42,474 epoch 51 - iter 28/79 - loss 8.12652335 - time (sec): 5.67 - samples/sec: 5705.52 - lr: 0.001563\n",
            "2023-04-21 07:09:44,126 epoch 51 - iter 35/79 - loss 7.91496516 - time (sec): 7.33 - samples/sec: 5602.29 - lr: 0.001563\n",
            "2023-04-21 07:09:45,732 epoch 51 - iter 42/79 - loss 7.95213031 - time (sec): 8.93 - samples/sec: 5451.95 - lr: 0.001563\n",
            "2023-04-21 07:09:47,544 epoch 51 - iter 49/79 - loss 7.71321914 - time (sec): 10.74 - samples/sec: 5316.55 - lr: 0.001563\n",
            "2023-04-21 07:09:48,845 epoch 51 - iter 56/79 - loss 7.66861530 - time (sec): 12.04 - samples/sec: 5462.43 - lr: 0.001563\n",
            "2023-04-21 07:09:50,607 epoch 51 - iter 63/79 - loss 7.70271891 - time (sec): 13.81 - samples/sec: 5406.43 - lr: 0.001563\n",
            "2023-04-21 07:09:52,003 epoch 51 - iter 70/79 - loss 7.68693798 - time (sec): 15.20 - samples/sec: 5464.14 - lr: 0.001563\n",
            "2023-04-21 07:09:54,285 epoch 51 - iter 77/79 - loss 7.87479591 - time (sec): 17.48 - samples/sec: 5306.91 - lr: 0.001563\n",
            "2023-04-21 07:09:54,638 ----------------------------------------------------------------------------------------------------\n",
            "2023-04-21 07:09:54,640 EPOCH 51 done: loss 7.8821 - lr 0.001563\n"
          ]
        },
        {
          "output_type": "stream",
          "name": "stderr",
          "text": [
            "100%|██████████| 79/79 [00:20<00:00,  3.78it/s]"
          ]
        },
        {
          "output_type": "stream",
          "name": "stdout",
          "text": [
            "2023-04-21 07:10:15,674 Evaluating as a multi-label problem: True\n"
          ]
        },
        {
          "output_type": "stream",
          "name": "stderr",
          "text": [
            "\n"
          ]
        },
        {
          "output_type": "stream",
          "name": "stdout",
          "text": [
            "2023-04-21 07:10:17,539 TRAIN : loss 3.631633758544922 - f1-score (weighted avg)  0.723\n"
          ]
        },
        {
          "output_type": "stream",
          "name": "stderr",
          "text": [
            "100%|██████████| 10/10 [00:02<00:00,  3.96it/s]"
          ]
        },
        {
          "output_type": "stream",
          "name": "stdout",
          "text": [
            "2023-04-21 07:10:20,140 Evaluating as a multi-label problem: False\n",
            "2023-04-21 07:10:20,209 DEV : loss 11.930930137634277 - f1-score (weighted avg)  0.63\n",
            "2023-04-21 07:10:20,218 BAD EPOCHS (no improvement): 1\n",
            "2023-04-21 07:10:20,222 ----------------------------------------------------------------------------------------------------\n"
          ]
        },
        {
          "output_type": "stream",
          "name": "stderr",
          "text": [
            "\n"
          ]
        },
        {
          "output_type": "stream",
          "name": "stdout",
          "text": [
            "2023-04-21 07:10:22,014 epoch 52 - iter 7/79 - loss 9.36325789 - time (sec): 1.79 - samples/sec: 5416.14 - lr: 0.001563\n",
            "2023-04-21 07:10:23,386 epoch 52 - iter 14/79 - loss 8.13674658 - time (sec): 3.16 - samples/sec: 5771.53 - lr: 0.001563\n",
            "2023-04-21 07:10:24,770 epoch 52 - iter 21/79 - loss 7.69677493 - time (sec): 4.55 - samples/sec: 5783.24 - lr: 0.001563\n",
            "2023-04-21 07:10:26,326 epoch 52 - iter 28/79 - loss 7.60892626 - time (sec): 6.10 - samples/sec: 5579.88 - lr: 0.001563\n",
            "2023-04-21 07:10:28,162 epoch 52 - iter 35/79 - loss 7.72869159 - time (sec): 7.94 - samples/sec: 5507.13 - lr: 0.001563\n",
            "2023-04-21 07:10:29,822 epoch 52 - iter 42/79 - loss 7.60363819 - time (sec): 9.60 - samples/sec: 5392.24 - lr: 0.001563\n",
            "2023-04-21 07:10:31,289 epoch 52 - iter 49/79 - loss 7.48469657 - time (sec): 11.07 - samples/sec: 5401.00 - lr: 0.001563\n",
            "2023-04-21 07:10:32,645 epoch 52 - iter 56/79 - loss 7.48167944 - time (sec): 12.42 - samples/sec: 5431.78 - lr: 0.001563\n",
            "2023-04-21 07:10:34,119 epoch 52 - iter 63/79 - loss 7.56858177 - time (sec): 13.90 - samples/sec: 5481.02 - lr: 0.001563\n",
            "2023-04-21 07:10:35,806 epoch 52 - iter 70/79 - loss 7.49655128 - time (sec): 15.58 - samples/sec: 5452.34 - lr: 0.001563\n",
            "2023-04-21 07:10:37,209 epoch 52 - iter 77/79 - loss 7.42534530 - time (sec): 16.99 - samples/sec: 5485.73 - lr: 0.001563\n",
            "2023-04-21 07:10:37,531 ----------------------------------------------------------------------------------------------------\n",
            "2023-04-21 07:10:37,532 EPOCH 52 done: loss 7.4705 - lr 0.001563\n"
          ]
        },
        {
          "output_type": "stream",
          "name": "stderr",
          "text": [
            "100%|██████████| 79/79 [00:19<00:00,  4.01it/s]"
          ]
        },
        {
          "output_type": "stream",
          "name": "stdout",
          "text": [
            "2023-04-21 07:10:57,371 Evaluating as a multi-label problem: True\n"
          ]
        },
        {
          "output_type": "stream",
          "name": "stderr",
          "text": [
            "\n"
          ]
        },
        {
          "output_type": "stream",
          "name": "stdout",
          "text": [
            "2023-04-21 07:11:00,489 TRAIN : loss 3.2318875789642334 - f1-score (weighted avg)  0.7477\n"
          ]
        },
        {
          "output_type": "stream",
          "name": "stderr",
          "text": [
            "100%|██████████| 10/10 [00:02<00:00,  3.97it/s]"
          ]
        },
        {
          "output_type": "stream",
          "name": "stdout",
          "text": [
            "2023-04-21 07:11:03,088 Evaluating as a multi-label problem: False\n",
            "2023-04-21 07:11:03,155 DEV : loss 11.631178855895996 - f1-score (weighted avg)  0.6559\n",
            "2023-04-21 07:11:03,164 BAD EPOCHS (no improvement): 0\n",
            "2023-04-21 07:11:03,169 saving best model\n"
          ]
        },
        {
          "output_type": "stream",
          "name": "stderr",
          "text": [
            "\n"
          ]
        },
        {
          "output_type": "stream",
          "name": "stdout",
          "text": [
            "2023-04-21 07:11:04,998 ----------------------------------------------------------------------------------------------------\n",
            "2023-04-21 07:11:06,671 epoch 53 - iter 7/79 - loss 7.74675193 - time (sec): 1.67 - samples/sec: 5897.95 - lr: 0.001563\n",
            "2023-04-21 07:11:08,233 epoch 53 - iter 14/79 - loss 7.65307873 - time (sec): 3.23 - samples/sec: 5703.22 - lr: 0.001563\n",
            "2023-04-21 07:11:09,746 epoch 53 - iter 21/79 - loss 7.36411987 - time (sec): 4.75 - samples/sec: 5796.78 - lr: 0.001563\n",
            "2023-04-21 07:11:11,048 epoch 53 - iter 28/79 - loss 7.51660713 - time (sec): 6.05 - samples/sec: 5889.93 - lr: 0.001563\n",
            "2023-04-21 07:11:12,858 epoch 53 - iter 35/79 - loss 7.61051018 - time (sec): 7.86 - samples/sec: 5701.57 - lr: 0.001563\n",
            "2023-04-21 07:11:14,146 epoch 53 - iter 42/79 - loss 7.72960181 - time (sec): 9.15 - samples/sec: 5706.08 - lr: 0.001563\n",
            "2023-04-21 07:11:15,535 epoch 53 - iter 49/79 - loss 7.61737984 - time (sec): 10.53 - samples/sec: 5644.85 - lr: 0.001563\n",
            "2023-04-21 07:11:17,410 epoch 53 - iter 56/79 - loss 7.52061437 - time (sec): 12.41 - samples/sec: 5566.28 - lr: 0.001563\n",
            "2023-04-21 07:11:19,457 epoch 53 - iter 63/79 - loss 7.50088509 - time (sec): 14.46 - samples/sec: 5377.98 - lr: 0.001563\n",
            "2023-04-21 07:11:20,884 epoch 53 - iter 70/79 - loss 7.43171204 - time (sec): 15.88 - samples/sec: 5367.14 - lr: 0.001563\n",
            "2023-04-21 07:11:22,248 epoch 53 - iter 77/79 - loss 7.35387070 - time (sec): 17.25 - samples/sec: 5360.78 - lr: 0.001563\n",
            "2023-04-21 07:11:22,616 ----------------------------------------------------------------------------------------------------\n",
            "2023-04-21 07:11:22,618 EPOCH 53 done: loss 7.3144 - lr 0.001563\n"
          ]
        },
        {
          "output_type": "stream",
          "name": "stderr",
          "text": [
            "100%|██████████| 79/79 [00:19<00:00,  3.99it/s]"
          ]
        },
        {
          "output_type": "stream",
          "name": "stdout",
          "text": [
            "2023-04-21 07:11:42,543 Evaluating as a multi-label problem: True\n"
          ]
        },
        {
          "output_type": "stream",
          "name": "stderr",
          "text": [
            "\n"
          ]
        },
        {
          "output_type": "stream",
          "name": "stdout",
          "text": [
            "2023-04-21 07:11:44,404 TRAIN : loss 3.8926491737365723 - f1-score (weighted avg)  0.7091\n"
          ]
        },
        {
          "output_type": "stream",
          "name": "stderr",
          "text": [
            "100%|██████████| 10/10 [00:02<00:00,  3.96it/s]"
          ]
        },
        {
          "output_type": "stream",
          "name": "stdout",
          "text": [
            "2023-04-21 07:11:47,009 Evaluating as a multi-label problem: False\n",
            "2023-04-21 07:11:47,079 DEV : loss 11.920929908752441 - f1-score (weighted avg)  0.6281\n",
            "2023-04-21 07:11:47,088 BAD EPOCHS (no improvement): 1\n",
            "2023-04-21 07:11:47,092 ----------------------------------------------------------------------------------------------------\n"
          ]
        },
        {
          "output_type": "stream",
          "name": "stderr",
          "text": [
            "\n"
          ]
        },
        {
          "output_type": "stream",
          "name": "stdout",
          "text": [
            "2023-04-21 07:11:48,308 epoch 54 - iter 7/79 - loss 6.33966973 - time (sec): 1.21 - samples/sec: 6415.77 - lr: 0.001563\n",
            "2023-04-21 07:11:49,776 epoch 54 - iter 14/79 - loss 6.52818129 - time (sec): 2.68 - samples/sec: 6146.82 - lr: 0.001563\n",
            "2023-04-21 07:11:51,167 epoch 54 - iter 21/79 - loss 6.55608988 - time (sec): 4.07 - samples/sec: 5950.33 - lr: 0.001563\n",
            "2023-04-21 07:11:52,912 epoch 54 - iter 28/79 - loss 6.75399607 - time (sec): 5.82 - samples/sec: 5658.63 - lr: 0.001563\n",
            "2023-04-21 07:11:54,447 epoch 54 - iter 35/79 - loss 6.91413669 - time (sec): 7.35 - samples/sec: 5685.56 - lr: 0.001563\n",
            "2023-04-21 07:11:55,834 epoch 54 - iter 42/79 - loss 7.10937311 - time (sec): 8.74 - samples/sec: 5684.39 - lr: 0.001563\n",
            "2023-04-21 07:11:57,151 epoch 54 - iter 49/79 - loss 7.20237033 - time (sec): 10.06 - samples/sec: 5712.75 - lr: 0.001563\n",
            "2023-04-21 07:11:58,746 epoch 54 - iter 56/79 - loss 7.16833154 - time (sec): 11.65 - samples/sec: 5595.00 - lr: 0.001563\n",
            "2023-04-21 07:12:00,210 epoch 54 - iter 63/79 - loss 7.22104812 - time (sec): 13.12 - samples/sec: 5633.53 - lr: 0.001563\n",
            "2023-04-21 07:12:01,827 epoch 54 - iter 70/79 - loss 7.20398411 - time (sec): 14.73 - samples/sec: 5638.84 - lr: 0.001563\n",
            "2023-04-21 07:12:03,424 epoch 54 - iter 77/79 - loss 7.33017540 - time (sec): 16.33 - samples/sec: 5622.45 - lr: 0.001563\n",
            "2023-04-21 07:12:04,278 ----------------------------------------------------------------------------------------------------\n",
            "2023-04-21 07:12:04,280 EPOCH 54 done: loss 7.3435 - lr 0.001563\n"
          ]
        },
        {
          "output_type": "stream",
          "name": "stderr",
          "text": [
            "100%|██████████| 79/79 [00:19<00:00,  4.04it/s]\n"
          ]
        },
        {
          "output_type": "stream",
          "name": "stdout",
          "text": [
            "2023-04-21 07:12:25,124 Evaluating as a multi-label problem: True\n",
            "2023-04-21 07:12:27,003 TRAIN : loss 3.3866379261016846 - f1-score (weighted avg)  0.7292\n"
          ]
        },
        {
          "output_type": "stream",
          "name": "stderr",
          "text": [
            "100%|██████████| 10/10 [00:02<00:00,  3.91it/s]"
          ]
        },
        {
          "output_type": "stream",
          "name": "stdout",
          "text": [
            "2023-04-21 07:12:29,640 Evaluating as a multi-label problem: False\n",
            "2023-04-21 07:12:29,708 DEV : loss 11.359491348266602 - f1-score (weighted avg)  0.6402\n",
            "2023-04-21 07:12:29,717 BAD EPOCHS (no improvement): 0\n",
            "2023-04-21 07:12:29,722 saving best model\n"
          ]
        },
        {
          "output_type": "stream",
          "name": "stderr",
          "text": [
            "\n"
          ]
        },
        {
          "output_type": "stream",
          "name": "stdout",
          "text": [
            "2023-04-21 07:12:31,541 ----------------------------------------------------------------------------------------------------\n",
            "2023-04-21 07:12:33,316 epoch 55 - iter 7/79 - loss 8.02281930 - time (sec): 1.77 - samples/sec: 5783.18 - lr: 0.001563\n",
            "2023-04-21 07:12:34,920 epoch 55 - iter 14/79 - loss 7.51445009 - time (sec): 3.38 - samples/sec: 5482.27 - lr: 0.001563\n",
            "2023-04-21 07:12:36,621 epoch 55 - iter 21/79 - loss 7.11611898 - time (sec): 5.08 - samples/sec: 5362.39 - lr: 0.001563\n",
            "2023-04-21 07:12:38,059 epoch 55 - iter 28/79 - loss 7.06004464 - time (sec): 6.52 - samples/sec: 5501.02 - lr: 0.001563\n",
            "2023-04-21 07:12:39,692 epoch 55 - iter 35/79 - loss 6.95740335 - time (sec): 8.15 - samples/sec: 5440.48 - lr: 0.001563\n",
            "2023-04-21 07:12:41,671 epoch 55 - iter 42/79 - loss 7.17269213 - time (sec): 10.13 - samples/sec: 5243.36 - lr: 0.001563\n",
            "2023-04-21 07:12:43,115 epoch 55 - iter 49/79 - loss 7.12680066 - time (sec): 11.57 - samples/sec: 5234.13 - lr: 0.001563\n",
            "2023-04-21 07:12:44,561 epoch 55 - iter 56/79 - loss 7.07822699 - time (sec): 13.02 - samples/sec: 5202.00 - lr: 0.001563\n",
            "2023-04-21 07:12:46,008 epoch 55 - iter 63/79 - loss 7.10754107 - time (sec): 14.46 - samples/sec: 5214.47 - lr: 0.001563\n",
            "2023-04-21 07:12:47,447 epoch 55 - iter 70/79 - loss 7.10185938 - time (sec): 15.90 - samples/sec: 5256.71 - lr: 0.001563\n",
            "2023-04-21 07:12:48,777 epoch 55 - iter 77/79 - loss 7.02785674 - time (sec): 17.23 - samples/sec: 5368.47 - lr: 0.001563\n",
            "2023-04-21 07:12:49,135 ----------------------------------------------------------------------------------------------------\n",
            "2023-04-21 07:12:49,137 EPOCH 55 done: loss 7.0590 - lr 0.001563\n"
          ]
        },
        {
          "output_type": "stream",
          "name": "stderr",
          "text": [
            "100%|██████████| 79/79 [00:19<00:00,  3.97it/s]"
          ]
        },
        {
          "output_type": "stream",
          "name": "stdout",
          "text": [
            "2023-04-21 07:13:09,151 Evaluating as a multi-label problem: True\n"
          ]
        },
        {
          "output_type": "stream",
          "name": "stderr",
          "text": [
            "\n"
          ]
        },
        {
          "output_type": "stream",
          "name": "stdout",
          "text": [
            "2023-04-21 07:13:12,298 TRAIN : loss 3.2192234992980957 - f1-score (weighted avg)  0.7422\n"
          ]
        },
        {
          "output_type": "stream",
          "name": "stderr",
          "text": [
            "100%|██████████| 10/10 [00:02<00:00,  3.89it/s]"
          ]
        },
        {
          "output_type": "stream",
          "name": "stdout",
          "text": [
            "2023-04-21 07:13:14,946 Evaluating as a multi-label problem: False\n",
            "2023-04-21 07:13:15,016 DEV : loss 11.055005073547363 - f1-score (weighted avg)  0.6519\n",
            "2023-04-21 07:13:15,025 BAD EPOCHS (no improvement): 0\n",
            "2023-04-21 07:13:15,029 saving best model\n"
          ]
        },
        {
          "output_type": "stream",
          "name": "stderr",
          "text": [
            "\n"
          ]
        },
        {
          "output_type": "stream",
          "name": "stdout",
          "text": [
            "2023-04-21 07:13:16,841 ----------------------------------------------------------------------------------------------------\n",
            "2023-04-21 07:13:18,513 epoch 56 - iter 7/79 - loss 8.13216168 - time (sec): 1.67 - samples/sec: 5284.70 - lr: 0.001563\n",
            "2023-04-21 07:13:19,787 epoch 56 - iter 14/79 - loss 7.55076293 - time (sec): 2.94 - samples/sec: 5432.30 - lr: 0.001563\n",
            "2023-04-21 07:13:21,253 epoch 56 - iter 21/79 - loss 7.40593550 - time (sec): 4.41 - samples/sec: 5588.49 - lr: 0.001563\n",
            "2023-04-21 07:13:23,284 epoch 56 - iter 28/79 - loss 7.29114044 - time (sec): 6.44 - samples/sec: 5243.63 - lr: 0.001563\n",
            "2023-04-21 07:13:24,810 epoch 56 - iter 35/79 - loss 7.21185553 - time (sec): 7.97 - samples/sec: 5285.71 - lr: 0.001563\n",
            "2023-04-21 07:13:26,479 epoch 56 - iter 42/79 - loss 7.08762800 - time (sec): 9.64 - samples/sec: 5331.00 - lr: 0.001563\n",
            "2023-04-21 07:13:27,922 epoch 56 - iter 49/79 - loss 6.93413084 - time (sec): 11.08 - samples/sec: 5324.70 - lr: 0.001563\n",
            "2023-04-21 07:13:29,877 epoch 56 - iter 56/79 - loss 6.91463227 - time (sec): 13.03 - samples/sec: 5245.64 - lr: 0.001563\n",
            "2023-04-21 07:13:31,314 epoch 56 - iter 63/79 - loss 6.90693356 - time (sec): 14.47 - samples/sec: 5316.99 - lr: 0.001563\n",
            "2023-04-21 07:13:32,824 epoch 56 - iter 70/79 - loss 6.96030585 - time (sec): 15.98 - samples/sec: 5334.97 - lr: 0.001563\n",
            "2023-04-21 07:13:34,203 epoch 56 - iter 77/79 - loss 6.84366590 - time (sec): 17.36 - samples/sec: 5351.16 - lr: 0.001563\n",
            "2023-04-21 07:13:34,541 ----------------------------------------------------------------------------------------------------\n",
            "2023-04-21 07:13:34,543 EPOCH 56 done: loss 6.8175 - lr 0.001563\n"
          ]
        },
        {
          "output_type": "stream",
          "name": "stderr",
          "text": [
            "100%|██████████| 79/79 [00:19<00:00,  3.99it/s]"
          ]
        },
        {
          "output_type": "stream",
          "name": "stdout",
          "text": [
            "2023-04-21 07:13:54,480 Evaluating as a multi-label problem: True\n"
          ]
        },
        {
          "output_type": "stream",
          "name": "stderr",
          "text": [
            "\n"
          ]
        },
        {
          "output_type": "stream",
          "name": "stdout",
          "text": [
            "2023-04-21 07:13:56,343 TRAIN : loss 3.2885525226593018 - f1-score (weighted avg)  0.7462\n"
          ]
        },
        {
          "output_type": "stream",
          "name": "stderr",
          "text": [
            "100%|██████████| 10/10 [00:02<00:00,  3.93it/s]"
          ]
        },
        {
          "output_type": "stream",
          "name": "stdout",
          "text": [
            "2023-04-21 07:13:58,976 Evaluating as a multi-label problem: False\n",
            "2023-04-21 07:13:59,044 DEV : loss 11.302940368652344 - f1-score (weighted avg)  0.6527\n",
            "2023-04-21 07:13:59,054 BAD EPOCHS (no improvement): 1\n",
            "2023-04-21 07:13:59,058 ----------------------------------------------------------------------------------------------------\n"
          ]
        },
        {
          "output_type": "stream",
          "name": "stderr",
          "text": [
            "\n"
          ]
        },
        {
          "output_type": "stream",
          "name": "stdout",
          "text": [
            "2023-04-21 07:14:00,144 epoch 57 - iter 7/79 - loss 6.67207991 - time (sec): 1.08 - samples/sec: 6399.21 - lr: 0.001563\n",
            "2023-04-21 07:14:01,651 epoch 57 - iter 14/79 - loss 6.94890533 - time (sec): 2.59 - samples/sec: 5627.74 - lr: 0.001563\n",
            "2023-04-21 07:14:03,294 epoch 57 - iter 21/79 - loss 6.79554004 - time (sec): 4.23 - samples/sec: 5461.77 - lr: 0.001563\n",
            "2023-04-21 07:14:04,754 epoch 57 - iter 28/79 - loss 6.96737776 - time (sec): 5.69 - samples/sec: 5495.05 - lr: 0.001563\n",
            "2023-04-21 07:14:06,219 epoch 57 - iter 35/79 - loss 6.79368547 - time (sec): 7.16 - samples/sec: 5506.27 - lr: 0.001563\n",
            "2023-04-21 07:14:07,643 epoch 57 - iter 42/79 - loss 6.66209131 - time (sec): 8.58 - samples/sec: 5530.53 - lr: 0.001563\n",
            "2023-04-21 07:14:09,239 epoch 57 - iter 49/79 - loss 6.66049749 - time (sec): 10.18 - samples/sec: 5482.08 - lr: 0.001563\n",
            "2023-04-21 07:14:10,612 epoch 57 - iter 56/79 - loss 6.62170055 - time (sec): 11.55 - samples/sec: 5568.70 - lr: 0.001563\n",
            "2023-04-21 07:14:12,192 epoch 57 - iter 63/79 - loss 6.53735758 - time (sec): 13.13 - samples/sec: 5600.93 - lr: 0.001563\n",
            "2023-04-21 07:14:13,820 epoch 57 - iter 70/79 - loss 6.72951653 - time (sec): 14.76 - samples/sec: 5579.28 - lr: 0.001563\n",
            "2023-04-21 07:14:16,060 epoch 57 - iter 77/79 - loss 6.68764493 - time (sec): 17.00 - samples/sec: 5428.25 - lr: 0.001563\n",
            "2023-04-21 07:14:16,524 ----------------------------------------------------------------------------------------------------\n",
            "2023-04-21 07:14:16,526 EPOCH 57 done: loss 6.6430 - lr 0.001563\n"
          ]
        },
        {
          "output_type": "stream",
          "name": "stderr",
          "text": [
            "100%|██████████| 79/79 [00:20<00:00,  3.77it/s]"
          ]
        },
        {
          "output_type": "stream",
          "name": "stdout",
          "text": [
            "2023-04-21 07:14:37,614 Evaluating as a multi-label problem: True\n"
          ]
        },
        {
          "output_type": "stream",
          "name": "stderr",
          "text": [
            "\n"
          ]
        },
        {
          "output_type": "stream",
          "name": "stdout",
          "text": [
            "2023-04-21 07:14:39,477 TRAIN : loss 3.2620038986206055 - f1-score (weighted avg)  0.7426\n"
          ]
        },
        {
          "output_type": "stream",
          "name": "stderr",
          "text": [
            "100%|██████████| 10/10 [00:02<00:00,  3.95it/s]"
          ]
        },
        {
          "output_type": "stream",
          "name": "stdout",
          "text": [
            "2023-04-21 07:14:42,091 Evaluating as a multi-label problem: False\n",
            "2023-04-21 07:14:42,160 DEV : loss 11.03012752532959 - f1-score (weighted avg)  0.6544\n",
            "2023-04-21 07:14:42,169 BAD EPOCHS (no improvement): 0\n",
            "2023-04-21 07:14:42,173 saving best model\n"
          ]
        },
        {
          "output_type": "stream",
          "name": "stderr",
          "text": [
            "\n"
          ]
        },
        {
          "output_type": "stream",
          "name": "stdout",
          "text": [
            "2023-04-21 07:14:43,980 ----------------------------------------------------------------------------------------------------\n",
            "2023-04-21 07:14:45,761 epoch 58 - iter 7/79 - loss 5.66733323 - time (sec): 1.77 - samples/sec: 4793.82 - lr: 0.001563\n",
            "2023-04-21 07:14:47,068 epoch 58 - iter 14/79 - loss 5.98417469 - time (sec): 3.07 - samples/sec: 5000.37 - lr: 0.001563\n",
            "2023-04-21 07:14:48,901 epoch 58 - iter 21/79 - loss 6.29250742 - time (sec): 4.91 - samples/sec: 5014.54 - lr: 0.001563\n",
            "2023-04-21 07:14:50,625 epoch 58 - iter 28/79 - loss 6.26185168 - time (sec): 6.63 - samples/sec: 5047.99 - lr: 0.001563\n",
            "2023-04-21 07:14:52,053 epoch 58 - iter 35/79 - loss 6.32731176 - time (sec): 8.06 - samples/sec: 5140.54 - lr: 0.001563\n",
            "2023-04-21 07:14:53,723 epoch 58 - iter 42/79 - loss 6.18789868 - time (sec): 9.73 - samples/sec: 5156.43 - lr: 0.001563\n",
            "2023-04-21 07:14:55,200 epoch 58 - iter 49/79 - loss 6.17969544 - time (sec): 11.21 - samples/sec: 5183.27 - lr: 0.001563\n",
            "2023-04-21 07:14:56,765 epoch 58 - iter 56/79 - loss 6.20621861 - time (sec): 12.77 - samples/sec: 5177.02 - lr: 0.001563\n",
            "2023-04-21 07:14:58,085 epoch 58 - iter 63/79 - loss 6.15936990 - time (sec): 14.09 - samples/sec: 5265.38 - lr: 0.001563\n",
            "2023-04-21 07:14:59,735 epoch 58 - iter 70/79 - loss 6.12690845 - time (sec): 15.74 - samples/sec: 5299.05 - lr: 0.001563\n",
            "2023-04-21 07:15:01,213 epoch 58 - iter 77/79 - loss 6.15966688 - time (sec): 17.22 - samples/sec: 5377.93 - lr: 0.001563\n",
            "2023-04-21 07:15:01,642 ----------------------------------------------------------------------------------------------------\n",
            "2023-04-21 07:15:01,643 EPOCH 58 done: loss 6.1657 - lr 0.001563\n"
          ]
        },
        {
          "output_type": "stream",
          "name": "stderr",
          "text": [
            "100%|██████████| 79/79 [00:19<00:00,  4.01it/s]"
          ]
        },
        {
          "output_type": "stream",
          "name": "stdout",
          "text": [
            "2023-04-21 07:15:21,470 Evaluating as a multi-label problem: True\n"
          ]
        },
        {
          "output_type": "stream",
          "name": "stderr",
          "text": [
            "\n"
          ]
        },
        {
          "output_type": "stream",
          "name": "stdout",
          "text": [
            "2023-04-21 07:15:24,579 TRAIN : loss 3.0220017433166504 - f1-score (weighted avg)  0.7407\n"
          ]
        },
        {
          "output_type": "stream",
          "name": "stderr",
          "text": [
            "100%|██████████| 10/10 [00:02<00:00,  3.96it/s]"
          ]
        },
        {
          "output_type": "stream",
          "name": "stdout",
          "text": [
            "2023-04-21 07:15:27,184 Evaluating as a multi-label problem: False\n",
            "2023-04-21 07:15:27,251 DEV : loss 10.702069282531738 - f1-score (weighted avg)  0.6529\n",
            "2023-04-21 07:15:27,260 BAD EPOCHS (no improvement): 0\n",
            "2023-04-21 07:15:27,264 saving best model\n"
          ]
        },
        {
          "output_type": "stream",
          "name": "stderr",
          "text": [
            "\n"
          ]
        },
        {
          "output_type": "stream",
          "name": "stdout",
          "text": [
            "2023-04-21 07:15:29,072 ----------------------------------------------------------------------------------------------------\n",
            "2023-04-21 07:15:30,449 epoch 59 - iter 7/79 - loss 6.31645016 - time (sec): 1.37 - samples/sec: 5307.14 - lr: 0.001563\n",
            "2023-04-21 07:15:32,640 epoch 59 - iter 14/79 - loss 6.99717870 - time (sec): 3.57 - samples/sec: 4672.77 - lr: 0.001563\n",
            "2023-04-21 07:15:34,121 epoch 59 - iter 21/79 - loss 6.50641135 - time (sec): 5.05 - samples/sec: 4943.31 - lr: 0.001563\n",
            "2023-04-21 07:15:35,501 epoch 59 - iter 28/79 - loss 6.49425098 - time (sec): 6.43 - samples/sec: 5078.19 - lr: 0.001563\n",
            "2023-04-21 07:15:37,007 epoch 59 - iter 35/79 - loss 6.82346131 - time (sec): 7.93 - samples/sec: 5213.07 - lr: 0.001563\n",
            "2023-04-21 07:15:38,798 epoch 59 - iter 42/79 - loss 6.70165580 - time (sec): 9.72 - samples/sec: 5268.91 - lr: 0.001563\n",
            "2023-04-21 07:15:40,475 epoch 59 - iter 49/79 - loss 6.82550114 - time (sec): 11.40 - samples/sec: 5231.45 - lr: 0.001563\n",
            "2023-04-21 07:15:42,124 epoch 59 - iter 56/79 - loss 6.77691755 - time (sec): 13.05 - samples/sec: 5226.42 - lr: 0.001563\n",
            "2023-04-21 07:15:43,687 epoch 59 - iter 63/79 - loss 6.70350698 - time (sec): 14.61 - samples/sec: 5212.32 - lr: 0.001563\n",
            "2023-04-21 07:15:45,181 epoch 59 - iter 70/79 - loss 6.52643264 - time (sec): 16.11 - samples/sec: 5280.08 - lr: 0.001563\n",
            "2023-04-21 07:15:46,571 epoch 59 - iter 77/79 - loss 6.52720215 - time (sec): 17.50 - samples/sec: 5263.02 - lr: 0.001563\n",
            "2023-04-21 07:15:47,070 ----------------------------------------------------------------------------------------------------\n",
            "2023-04-21 07:15:47,071 EPOCH 59 done: loss 6.5655 - lr 0.001563\n"
          ]
        },
        {
          "output_type": "stream",
          "name": "stderr",
          "text": [
            "100%|██████████| 79/79 [00:19<00:00,  4.01it/s]"
          ]
        },
        {
          "output_type": "stream",
          "name": "stdout",
          "text": [
            "2023-04-21 07:16:06,921 Evaluating as a multi-label problem: True\n"
          ]
        },
        {
          "output_type": "stream",
          "name": "stderr",
          "text": [
            "\n"
          ]
        },
        {
          "output_type": "stream",
          "name": "stdout",
          "text": [
            "2023-04-21 07:16:08,782 TRAIN : loss 3.071920156478882 - f1-score (weighted avg)  0.7438\n"
          ]
        },
        {
          "output_type": "stream",
          "name": "stderr",
          "text": [
            "100%|██████████| 10/10 [00:02<00:00,  3.93it/s]"
          ]
        },
        {
          "output_type": "stream",
          "name": "stdout",
          "text": [
            "2023-04-21 07:16:11,405 Evaluating as a multi-label problem: False\n",
            "2023-04-21 07:16:11,476 DEV : loss 10.631766319274902 - f1-score (weighted avg)  0.6546\n",
            "2023-04-21 07:16:11,486 BAD EPOCHS (no improvement): 0\n",
            "2023-04-21 07:16:11,490 saving best model\n"
          ]
        },
        {
          "output_type": "stream",
          "name": "stderr",
          "text": [
            "\n"
          ]
        },
        {
          "output_type": "stream",
          "name": "stdout",
          "text": [
            "2023-04-21 07:16:13,338 ----------------------------------------------------------------------------------------------------\n",
            "2023-04-21 07:16:15,137 epoch 60 - iter 7/79 - loss 5.49836962 - time (sec): 1.80 - samples/sec: 5160.80 - lr: 0.001563\n",
            "2023-04-21 07:16:16,390 epoch 60 - iter 14/79 - loss 6.10820768 - time (sec): 3.05 - samples/sec: 5261.55 - lr: 0.001563\n",
            "2023-04-21 07:16:18,089 epoch 60 - iter 21/79 - loss 6.17374104 - time (sec): 4.75 - samples/sec: 5255.37 - lr: 0.001563\n",
            "2023-04-21 07:16:19,731 epoch 60 - iter 28/79 - loss 6.21194654 - time (sec): 6.39 - samples/sec: 5279.35 - lr: 0.001563\n",
            "2023-04-21 07:16:21,263 epoch 60 - iter 35/79 - loss 6.22958769 - time (sec): 7.92 - samples/sec: 5358.19 - lr: 0.001563\n",
            "2023-04-21 07:16:22,882 epoch 60 - iter 42/79 - loss 6.35456961 - time (sec): 9.54 - samples/sec: 5358.74 - lr: 0.001563\n",
            "2023-04-21 07:16:24,325 epoch 60 - iter 49/79 - loss 6.32709575 - time (sec): 10.99 - samples/sec: 5406.00 - lr: 0.001563\n",
            "2023-04-21 07:16:26,363 epoch 60 - iter 56/79 - loss 6.44807824 - time (sec): 13.02 - samples/sec: 5232.75 - lr: 0.001563\n",
            "2023-04-21 07:16:27,763 epoch 60 - iter 63/79 - loss 6.46232244 - time (sec): 14.42 - samples/sec: 5217.53 - lr: 0.001563\n",
            "2023-04-21 07:16:29,174 epoch 60 - iter 70/79 - loss 6.51922161 - time (sec): 15.83 - samples/sec: 5238.48 - lr: 0.001563\n",
            "2023-04-21 07:16:30,688 epoch 60 - iter 77/79 - loss 6.53172953 - time (sec): 17.35 - samples/sec: 5319.24 - lr: 0.001563\n",
            "2023-04-21 07:16:31,074 ----------------------------------------------------------------------------------------------------\n",
            "2023-04-21 07:16:31,076 EPOCH 60 done: loss 6.5194 - lr 0.001563\n"
          ]
        },
        {
          "output_type": "stream",
          "name": "stderr",
          "text": [
            "100%|██████████| 79/79 [00:19<00:00,  4.01it/s]\n"
          ]
        },
        {
          "output_type": "stream",
          "name": "stdout",
          "text": [
            "2023-04-21 07:16:52,069 Evaluating as a multi-label problem: True\n",
            "2023-04-21 07:16:53,961 TRAIN : loss 2.8929953575134277 - f1-score (weighted avg)  0.7399\n"
          ]
        },
        {
          "output_type": "stream",
          "name": "stderr",
          "text": [
            "100%|██████████| 10/10 [00:02<00:00,  3.85it/s]"
          ]
        },
        {
          "output_type": "stream",
          "name": "stdout",
          "text": [
            "2023-04-21 07:16:56,635 Evaluating as a multi-label problem: False\n",
            "2023-04-21 07:16:56,705 DEV : loss 10.290318489074707 - f1-score (weighted avg)  0.6444\n",
            "2023-04-21 07:16:56,716 BAD EPOCHS (no improvement): 0\n",
            "2023-04-21 07:16:56,719 saving best model\n"
          ]
        },
        {
          "output_type": "stream",
          "name": "stderr",
          "text": [
            "\n"
          ]
        },
        {
          "output_type": "stream",
          "name": "stdout",
          "text": [
            "2023-04-21 07:16:58,534 ----------------------------------------------------------------------------------------------------\n",
            "2023-04-21 07:17:00,044 epoch 61 - iter 7/79 - loss 6.79177596 - time (sec): 1.51 - samples/sec: 5563.15 - lr: 0.001563\n",
            "2023-04-21 07:17:01,812 epoch 61 - iter 14/79 - loss 6.65287335 - time (sec): 3.28 - samples/sec: 5079.96 - lr: 0.001563\n",
            "2023-04-21 07:17:03,372 epoch 61 - iter 21/79 - loss 6.42581920 - time (sec): 4.84 - samples/sec: 5279.67 - lr: 0.001563\n",
            "2023-04-21 07:17:05,087 epoch 61 - iter 28/79 - loss 6.50190905 - time (sec): 6.55 - samples/sec: 5148.09 - lr: 0.001563\n",
            "2023-04-21 07:17:06,493 epoch 61 - iter 35/79 - loss 6.54744662 - time (sec): 7.96 - samples/sec: 5256.59 - lr: 0.001563\n",
            "2023-04-21 07:17:08,412 epoch 61 - iter 42/79 - loss 6.33822158 - time (sec): 9.88 - samples/sec: 5157.32 - lr: 0.001563\n",
            "2023-04-21 07:17:10,351 epoch 61 - iter 49/79 - loss 6.15447501 - time (sec): 11.81 - samples/sec: 5023.56 - lr: 0.001563\n",
            "2023-04-21 07:17:11,766 epoch 61 - iter 56/79 - loss 6.20456532 - time (sec): 13.23 - samples/sec: 5123.59 - lr: 0.001563\n",
            "2023-04-21 07:17:13,322 epoch 61 - iter 63/79 - loss 6.27378897 - time (sec): 14.79 - samples/sec: 5170.13 - lr: 0.001563\n",
            "2023-04-21 07:17:14,791 epoch 61 - iter 70/79 - loss 6.30493490 - time (sec): 16.25 - samples/sec: 5183.19 - lr: 0.001563\n",
            "2023-04-21 07:17:16,285 epoch 61 - iter 77/79 - loss 6.32024244 - time (sec): 17.75 - samples/sec: 5227.78 - lr: 0.001563\n",
            "2023-04-21 07:17:16,673 ----------------------------------------------------------------------------------------------------\n",
            "2023-04-21 07:17:16,675 EPOCH 61 done: loss 6.3473 - lr 0.001563\n"
          ]
        },
        {
          "output_type": "stream",
          "name": "stderr",
          "text": [
            "100%|██████████| 79/79 [00:19<00:00,  4.00it/s]"
          ]
        },
        {
          "output_type": "stream",
          "name": "stdout",
          "text": [
            "2023-04-21 07:17:36,571 Evaluating as a multi-label problem: True\n"
          ]
        },
        {
          "output_type": "stream",
          "name": "stderr",
          "text": [
            "\n"
          ]
        },
        {
          "output_type": "stream",
          "name": "stdout",
          "text": [
            "2023-04-21 07:17:39,701 TRAIN : loss 3.23785138130188 - f1-score (weighted avg)  0.7172\n"
          ]
        },
        {
          "output_type": "stream",
          "name": "stderr",
          "text": [
            "100%|██████████| 10/10 [00:02<00:00,  3.97it/s]"
          ]
        },
        {
          "output_type": "stream",
          "name": "stdout",
          "text": [
            "2023-04-21 07:17:42,301 Evaluating as a multi-label problem: False\n",
            "2023-04-21 07:17:42,369 DEV : loss 10.626668930053711 - f1-score (weighted avg)  0.618\n",
            "2023-04-21 07:17:42,379 BAD EPOCHS (no improvement): 1\n",
            "2023-04-21 07:17:42,383 ----------------------------------------------------------------------------------------------------\n"
          ]
        },
        {
          "output_type": "stream",
          "name": "stderr",
          "text": [
            "\n"
          ]
        },
        {
          "output_type": "stream",
          "name": "stdout",
          "text": [
            "2023-04-21 07:17:43,800 epoch 62 - iter 7/79 - loss 6.79810676 - time (sec): 1.42 - samples/sec: 6147.61 - lr: 0.001563\n",
            "2023-04-21 07:17:45,752 epoch 62 - iter 14/79 - loss 6.67904947 - time (sec): 3.37 - samples/sec: 5469.35 - lr: 0.001563\n",
            "2023-04-21 07:17:47,151 epoch 62 - iter 21/79 - loss 6.61492791 - time (sec): 4.77 - samples/sec: 5682.45 - lr: 0.001563\n",
            "2023-04-21 07:17:48,718 epoch 62 - iter 28/79 - loss 6.57248781 - time (sec): 6.33 - samples/sec: 5699.20 - lr: 0.001563\n",
            "2023-04-21 07:17:50,176 epoch 62 - iter 35/79 - loss 6.41289402 - time (sec): 7.79 - samples/sec: 5618.95 - lr: 0.001563\n",
            "2023-04-21 07:17:51,760 epoch 62 - iter 42/79 - loss 6.48766428 - time (sec): 9.37 - samples/sec: 5494.72 - lr: 0.001563\n",
            "2023-04-21 07:17:53,419 epoch 62 - iter 49/79 - loss 6.43592028 - time (sec): 11.03 - samples/sec: 5353.40 - lr: 0.001563\n",
            "2023-04-21 07:17:55,011 epoch 62 - iter 56/79 - loss 6.31283426 - time (sec): 12.63 - samples/sec: 5449.47 - lr: 0.001563\n",
            "2023-04-21 07:17:56,381 epoch 62 - iter 63/79 - loss 6.38322314 - time (sec): 14.00 - samples/sec: 5422.20 - lr: 0.001563\n",
            "2023-04-21 07:17:57,915 epoch 62 - iter 70/79 - loss 6.36125307 - time (sec): 15.53 - samples/sec: 5433.61 - lr: 0.001563\n",
            "2023-04-21 07:17:59,359 epoch 62 - iter 77/79 - loss 6.29349543 - time (sec): 16.97 - samples/sec: 5416.89 - lr: 0.001563\n",
            "2023-04-21 07:17:59,782 ----------------------------------------------------------------------------------------------------\n",
            "2023-04-21 07:17:59,784 EPOCH 62 done: loss 6.3521 - lr 0.001563\n"
          ]
        },
        {
          "output_type": "stream",
          "name": "stderr",
          "text": [
            "100%|██████████| 79/79 [00:19<00:00,  3.99it/s]"
          ]
        },
        {
          "output_type": "stream",
          "name": "stdout",
          "text": [
            "2023-04-21 07:18:19,716 Evaluating as a multi-label problem: True\n"
          ]
        },
        {
          "output_type": "stream",
          "name": "stderr",
          "text": [
            "\n"
          ]
        },
        {
          "output_type": "stream",
          "name": "stdout",
          "text": [
            "2023-04-21 07:18:21,582 TRAIN : loss 2.8566224575042725 - f1-score (weighted avg)  0.748\n"
          ]
        },
        {
          "output_type": "stream",
          "name": "stderr",
          "text": [
            "100%|██████████| 10/10 [00:02<00:00,  3.96it/s]"
          ]
        },
        {
          "output_type": "stream",
          "name": "stdout",
          "text": [
            "2023-04-21 07:18:24,184 Evaluating as a multi-label problem: False\n",
            "2023-04-21 07:18:24,252 DEV : loss 10.104281425476074 - f1-score (weighted avg)  0.6487\n",
            "2023-04-21 07:18:24,262 BAD EPOCHS (no improvement): 0\n",
            "2023-04-21 07:18:24,266 saving best model\n"
          ]
        },
        {
          "output_type": "stream",
          "name": "stderr",
          "text": [
            "\n"
          ]
        },
        {
          "output_type": "stream",
          "name": "stdout",
          "text": [
            "2023-04-21 07:18:26,078 ----------------------------------------------------------------------------------------------------\n",
            "2023-04-21 07:18:27,630 epoch 63 - iter 7/79 - loss 8.05869585 - time (sec): 1.54 - samples/sec: 5298.59 - lr: 0.001563\n",
            "2023-04-21 07:18:29,641 epoch 63 - iter 14/79 - loss 7.62232451 - time (sec): 3.55 - samples/sec: 4897.51 - lr: 0.001563\n",
            "2023-04-21 07:18:31,266 epoch 63 - iter 21/79 - loss 6.91730718 - time (sec): 5.17 - samples/sec: 5117.79 - lr: 0.001563\n",
            "2023-04-21 07:18:33,016 epoch 63 - iter 28/79 - loss 6.60404031 - time (sec): 6.92 - samples/sec: 5191.26 - lr: 0.001563\n",
            "2023-04-21 07:18:34,364 epoch 63 - iter 35/79 - loss 6.66828207 - time (sec): 8.27 - samples/sec: 5204.63 - lr: 0.001563\n",
            "2023-04-21 07:18:35,595 epoch 63 - iter 42/79 - loss 6.43826283 - time (sec): 9.50 - samples/sec: 5315.41 - lr: 0.001563\n",
            "2023-04-21 07:18:37,294 epoch 63 - iter 49/79 - loss 6.25436962 - time (sec): 11.20 - samples/sec: 5224.26 - lr: 0.001563\n",
            "2023-04-21 07:18:38,795 epoch 63 - iter 56/79 - loss 6.51139474 - time (sec): 12.70 - samples/sec: 5285.55 - lr: 0.001563\n",
            "2023-04-21 07:18:40,108 epoch 63 - iter 63/79 - loss 6.47461399 - time (sec): 14.02 - samples/sec: 5373.15 - lr: 0.001563\n",
            "2023-04-21 07:18:41,604 epoch 63 - iter 70/79 - loss 6.41257654 - time (sec): 15.51 - samples/sec: 5438.06 - lr: 0.001563\n",
            "2023-04-21 07:18:43,043 epoch 63 - iter 77/79 - loss 6.33604931 - time (sec): 16.95 - samples/sec: 5466.20 - lr: 0.001563\n",
            "2023-04-21 07:18:43,473 ----------------------------------------------------------------------------------------------------\n",
            "2023-04-21 07:18:43,475 EPOCH 63 done: loss 6.3920 - lr 0.001563\n"
          ]
        },
        {
          "output_type": "stream",
          "name": "stderr",
          "text": [
            "100%|██████████| 79/79 [00:19<00:00,  4.00it/s]\n"
          ]
        },
        {
          "output_type": "stream",
          "name": "stdout",
          "text": [
            "2023-04-21 07:19:04,520 Evaluating as a multi-label problem: True\n",
            "2023-04-21 07:19:06,384 TRAIN : loss 2.7526800632476807 - f1-score (weighted avg)  0.7476\n"
          ]
        },
        {
          "output_type": "stream",
          "name": "stderr",
          "text": [
            "100%|██████████| 10/10 [00:02<00:00,  3.88it/s]"
          ]
        },
        {
          "output_type": "stream",
          "name": "stdout",
          "text": [
            "2023-04-21 07:19:09,044 Evaluating as a multi-label problem: False\n",
            "2023-04-21 07:19:09,112 DEV : loss 9.867323875427246 - f1-score (weighted avg)  0.6443\n",
            "2023-04-21 07:19:09,122 BAD EPOCHS (no improvement): 0\n",
            "2023-04-21 07:19:09,126 saving best model\n"
          ]
        },
        {
          "output_type": "stream",
          "name": "stderr",
          "text": [
            "\n"
          ]
        },
        {
          "output_type": "stream",
          "name": "stdout",
          "text": [
            "2023-04-21 07:19:10,931 ----------------------------------------------------------------------------------------------------\n",
            "2023-04-21 07:19:12,318 epoch 64 - iter 7/79 - loss 4.38275085 - time (sec): 1.37 - samples/sec: 6184.84 - lr: 0.001563\n",
            "2023-04-21 07:19:14,374 epoch 64 - iter 14/79 - loss 6.31807400 - time (sec): 3.43 - samples/sec: 5117.94 - lr: 0.001563\n",
            "2023-04-21 07:19:15,808 epoch 64 - iter 21/79 - loss 5.93658714 - time (sec): 4.86 - samples/sec: 5378.96 - lr: 0.001563\n",
            "2023-04-21 07:19:17,107 epoch 64 - iter 28/79 - loss 5.94930814 - time (sec): 6.16 - samples/sec: 5503.39 - lr: 0.001563\n",
            "2023-04-21 07:19:18,770 epoch 64 - iter 35/79 - loss 5.80248531 - time (sec): 7.82 - samples/sec: 5395.13 - lr: 0.001563\n",
            "2023-04-21 07:19:20,731 epoch 64 - iter 42/79 - loss 5.79186298 - time (sec): 9.79 - samples/sec: 5270.41 - lr: 0.001563\n",
            "2023-04-21 07:19:22,032 epoch 64 - iter 49/79 - loss 5.80702366 - time (sec): 11.09 - samples/sec: 5307.70 - lr: 0.001563\n",
            "2023-04-21 07:19:23,615 epoch 64 - iter 56/79 - loss 5.89060615 - time (sec): 12.67 - samples/sec: 5298.81 - lr: 0.001563\n",
            "2023-04-21 07:19:25,077 epoch 64 - iter 63/79 - loss 6.00286603 - time (sec): 14.13 - samples/sec: 5322.14 - lr: 0.001563\n",
            "2023-04-21 07:19:26,660 epoch 64 - iter 70/79 - loss 6.01120819 - time (sec): 15.71 - samples/sec: 5331.16 - lr: 0.001563\n",
            "2023-04-21 07:19:28,485 epoch 64 - iter 77/79 - loss 6.00046175 - time (sec): 17.54 - samples/sec: 5286.03 - lr: 0.001563\n",
            "2023-04-21 07:19:28,838 ----------------------------------------------------------------------------------------------------\n",
            "2023-04-21 07:19:28,840 EPOCH 64 done: loss 5.9893 - lr 0.001563\n"
          ]
        },
        {
          "output_type": "stream",
          "name": "stderr",
          "text": [
            "100%|██████████| 79/79 [00:19<00:00,  4.00it/s]"
          ]
        },
        {
          "output_type": "stream",
          "name": "stdout",
          "text": [
            "2023-04-21 07:19:48,727 Evaluating as a multi-label problem: True\n"
          ]
        },
        {
          "output_type": "stream",
          "name": "stderr",
          "text": [
            "\n"
          ]
        },
        {
          "output_type": "stream",
          "name": "stdout",
          "text": [
            "2023-04-21 07:19:51,870 TRAIN : loss 3.166785955429077 - f1-score (weighted avg)  0.73\n"
          ]
        },
        {
          "output_type": "stream",
          "name": "stderr",
          "text": [
            "100%|██████████| 10/10 [00:02<00:00,  3.94it/s]"
          ]
        },
        {
          "output_type": "stream",
          "name": "stdout",
          "text": [
            "2023-04-21 07:19:54,494 Evaluating as a multi-label problem: False\n",
            "2023-04-21 07:19:54,564 DEV : loss 10.280054092407227 - f1-score (weighted avg)  0.654\n",
            "2023-04-21 07:19:54,575 BAD EPOCHS (no improvement): 1\n",
            "2023-04-21 07:19:54,579 ----------------------------------------------------------------------------------------------------\n"
          ]
        },
        {
          "output_type": "stream",
          "name": "stderr",
          "text": [
            "\n"
          ]
        },
        {
          "output_type": "stream",
          "name": "stdout",
          "text": [
            "2023-04-21 07:19:56,101 epoch 65 - iter 7/79 - loss 7.11905035 - time (sec): 1.52 - samples/sec: 5732.33 - lr: 0.001563\n",
            "2023-04-21 07:19:57,262 epoch 65 - iter 14/79 - loss 6.66095837 - time (sec): 2.68 - samples/sec: 5975.13 - lr: 0.001563\n",
            "2023-04-21 07:19:58,587 epoch 65 - iter 21/79 - loss 6.12328462 - time (sec): 4.01 - samples/sec: 5873.99 - lr: 0.001563\n",
            "2023-04-21 07:20:00,116 epoch 65 - iter 28/79 - loss 6.12914578 - time (sec): 5.54 - samples/sec: 5801.08 - lr: 0.001563\n",
            "2023-04-21 07:20:01,360 epoch 65 - iter 35/79 - loss 5.89292349 - time (sec): 6.78 - samples/sec: 5934.89 - lr: 0.001563\n",
            "2023-04-21 07:20:03,018 epoch 65 - iter 42/79 - loss 5.97066383 - time (sec): 8.44 - samples/sec: 5666.50 - lr: 0.001563\n",
            "2023-04-21 07:20:04,845 epoch 65 - iter 49/79 - loss 6.08171366 - time (sec): 10.26 - samples/sec: 5502.26 - lr: 0.001563\n",
            "2023-04-21 07:20:06,952 epoch 65 - iter 56/79 - loss 5.89766027 - time (sec): 12.37 - samples/sec: 5353.31 - lr: 0.001563\n",
            "2023-04-21 07:20:08,144 epoch 65 - iter 63/79 - loss 5.97217099 - time (sec): 13.56 - samples/sec: 5436.85 - lr: 0.001563\n",
            "2023-04-21 07:20:10,143 epoch 65 - iter 70/79 - loss 6.06036249 - time (sec): 15.56 - samples/sec: 5347.05 - lr: 0.001563\n",
            "2023-04-21 07:20:11,565 epoch 65 - iter 77/79 - loss 5.96030755 - time (sec): 16.98 - samples/sec: 5412.96 - lr: 0.001563\n",
            "2023-04-21 07:20:12,056 ----------------------------------------------------------------------------------------------------\n",
            "2023-04-21 07:20:12,058 EPOCH 65 done: loss 5.9407 - lr 0.001563\n"
          ]
        },
        {
          "output_type": "stream",
          "name": "stderr",
          "text": [
            "100%|██████████| 79/79 [00:19<00:00,  4.05it/s]"
          ]
        },
        {
          "output_type": "stream",
          "name": "stdout",
          "text": [
            "2023-04-21 07:20:31,708 Evaluating as a multi-label problem: True\n"
          ]
        },
        {
          "output_type": "stream",
          "name": "stderr",
          "text": [
            "\n"
          ]
        },
        {
          "output_type": "stream",
          "name": "stdout",
          "text": [
            "2023-04-21 07:20:33,580 TRAIN : loss 2.803340196609497 - f1-score (weighted avg)  0.747\n"
          ]
        },
        {
          "output_type": "stream",
          "name": "stderr",
          "text": [
            "100%|██████████| 10/10 [00:02<00:00,  3.94it/s]"
          ]
        },
        {
          "output_type": "stream",
          "name": "stdout",
          "text": [
            "2023-04-21 07:20:36,204 Evaluating as a multi-label problem: False\n",
            "2023-04-21 07:20:36,275 DEV : loss 9.73533821105957 - f1-score (weighted avg)  0.6595\n",
            "2023-04-21 07:20:36,285 BAD EPOCHS (no improvement): 0\n",
            "2023-04-21 07:20:36,297 saving best model\n"
          ]
        },
        {
          "output_type": "stream",
          "name": "stderr",
          "text": [
            "\n"
          ]
        },
        {
          "output_type": "stream",
          "name": "stdout",
          "text": [
            "2023-04-21 07:20:38,118 ----------------------------------------------------------------------------------------------------\n",
            "2023-04-21 07:20:39,820 epoch 66 - iter 7/79 - loss 6.74260722 - time (sec): 1.70 - samples/sec: 5154.48 - lr: 0.001563\n",
            "2023-04-21 07:20:41,630 epoch 66 - iter 14/79 - loss 5.86237567 - time (sec): 3.51 - samples/sec: 5212.36 - lr: 0.001563\n",
            "2023-04-21 07:20:43,132 epoch 66 - iter 21/79 - loss 5.95824780 - time (sec): 5.01 - samples/sec: 5248.13 - lr: 0.001563\n",
            "2023-04-21 07:20:44,628 epoch 66 - iter 28/79 - loss 5.93147490 - time (sec): 6.51 - samples/sec: 5093.81 - lr: 0.001563\n",
            "2023-04-21 07:20:46,044 epoch 66 - iter 35/79 - loss 5.97637956 - time (sec): 7.92 - samples/sec: 5221.85 - lr: 0.001563\n",
            "2023-04-21 07:20:47,772 epoch 66 - iter 42/79 - loss 6.20933365 - time (sec): 9.65 - samples/sec: 5316.21 - lr: 0.001563\n",
            "2023-04-21 07:20:49,110 epoch 66 - iter 49/79 - loss 6.16606499 - time (sec): 10.99 - samples/sec: 5403.25 - lr: 0.001563\n",
            "2023-04-21 07:20:50,620 epoch 66 - iter 56/79 - loss 6.07997150 - time (sec): 12.50 - samples/sec: 5382.35 - lr: 0.001563\n",
            "2023-04-21 07:20:52,442 epoch 66 - iter 63/79 - loss 6.04127304 - time (sec): 14.32 - samples/sec: 5280.65 - lr: 0.001563\n",
            "2023-04-21 07:20:54,215 epoch 66 - iter 70/79 - loss 6.05418118 - time (sec): 16.10 - samples/sec: 5209.18 - lr: 0.001563\n",
            "2023-04-21 07:20:55,949 epoch 66 - iter 77/79 - loss 6.03541190 - time (sec): 17.83 - samples/sec: 5193.43 - lr: 0.001563\n",
            "2023-04-21 07:20:56,412 ----------------------------------------------------------------------------------------------------\n",
            "2023-04-21 07:20:56,414 EPOCH 66 done: loss 5.9892 - lr 0.001563\n"
          ]
        },
        {
          "output_type": "stream",
          "name": "stderr",
          "text": [
            "100%|██████████| 79/79 [00:19<00:00,  4.01it/s]\n"
          ]
        },
        {
          "output_type": "stream",
          "name": "stdout",
          "text": [
            "2023-04-21 07:21:17,416 Evaluating as a multi-label problem: True\n",
            "2023-04-21 07:21:19,304 TRAIN : loss 3.1690447330474854 - f1-score (weighted avg)  0.7234\n"
          ]
        },
        {
          "output_type": "stream",
          "name": "stderr",
          "text": [
            "100%|██████████| 10/10 [00:02<00:00,  3.90it/s]"
          ]
        },
        {
          "output_type": "stream",
          "name": "stdout",
          "text": [
            "2023-04-21 07:21:21,947 Evaluating as a multi-label problem: False\n",
            "2023-04-21 07:21:22,015 DEV : loss 10.319716453552246 - f1-score (weighted avg)  0.6296\n",
            "2023-04-21 07:21:22,025 BAD EPOCHS (no improvement): 1\n",
            "2023-04-21 07:21:22,029 ----------------------------------------------------------------------------------------------------\n"
          ]
        },
        {
          "output_type": "stream",
          "name": "stderr",
          "text": [
            "\n"
          ]
        },
        {
          "output_type": "stream",
          "name": "stdout",
          "text": [
            "2023-04-21 07:21:23,696 epoch 67 - iter 7/79 - loss 6.48383892 - time (sec): 1.66 - samples/sec: 5252.05 - lr: 0.001563\n",
            "2023-04-21 07:21:25,434 epoch 67 - iter 14/79 - loss 5.77526938 - time (sec): 3.40 - samples/sec: 5357.89 - lr: 0.001563\n",
            "2023-04-21 07:21:26,590 epoch 67 - iter 21/79 - loss 6.16903819 - time (sec): 4.56 - samples/sec: 5779.14 - lr: 0.001563\n",
            "2023-04-21 07:21:27,918 epoch 67 - iter 28/79 - loss 6.05174585 - time (sec): 5.89 - samples/sec: 5876.71 - lr: 0.001563\n",
            "2023-04-21 07:21:29,410 epoch 67 - iter 35/79 - loss 5.91848161 - time (sec): 7.38 - samples/sec: 5771.78 - lr: 0.001563\n",
            "2023-04-21 07:21:30,951 epoch 67 - iter 42/79 - loss 5.82061053 - time (sec): 8.92 - samples/sec: 5739.48 - lr: 0.001563\n",
            "2023-04-21 07:21:32,494 epoch 67 - iter 49/79 - loss 5.85836426 - time (sec): 10.46 - samples/sec: 5645.62 - lr: 0.001563\n",
            "2023-04-21 07:21:34,353 epoch 67 - iter 56/79 - loss 5.91394225 - time (sec): 12.32 - samples/sec: 5509.65 - lr: 0.001563\n",
            "2023-04-21 07:21:36,041 epoch 67 - iter 63/79 - loss 5.98174825 - time (sec): 14.01 - samples/sec: 5375.50 - lr: 0.001563\n",
            "2023-04-21 07:21:37,766 epoch 67 - iter 70/79 - loss 5.95390379 - time (sec): 15.74 - samples/sec: 5332.28 - lr: 0.001563\n",
            "2023-04-21 07:21:39,132 epoch 67 - iter 77/79 - loss 5.98015557 - time (sec): 17.10 - samples/sec: 5430.97 - lr: 0.001563\n",
            "2023-04-21 07:21:39,590 ----------------------------------------------------------------------------------------------------\n",
            "2023-04-21 07:21:39,591 EPOCH 67 done: loss 5.9823 - lr 0.001563\n"
          ]
        },
        {
          "output_type": "stream",
          "name": "stderr",
          "text": [
            "100%|██████████| 79/79 [00:19<00:00,  3.97it/s]"
          ]
        },
        {
          "output_type": "stream",
          "name": "stdout",
          "text": [
            "2023-04-21 07:21:59,613 Evaluating as a multi-label problem: True\n"
          ]
        },
        {
          "output_type": "stream",
          "name": "stderr",
          "text": [
            "\n"
          ]
        },
        {
          "output_type": "stream",
          "name": "stdout",
          "text": [
            "2023-04-21 07:22:01,501 TRAIN : loss 2.613806962966919 - f1-score (weighted avg)  0.7469\n"
          ]
        },
        {
          "output_type": "stream",
          "name": "stderr",
          "text": [
            "100%|██████████| 10/10 [00:02<00:00,  3.97it/s]\n"
          ]
        },
        {
          "output_type": "stream",
          "name": "stdout",
          "text": [
            "2023-04-21 07:22:05,189 Evaluating as a multi-label problem: False\n",
            "2023-04-21 07:22:05,258 DEV : loss 9.502422332763672 - f1-score (weighted avg)  0.6431\n",
            "2023-04-21 07:22:05,269 BAD EPOCHS (no improvement): 0\n",
            "2023-04-21 07:22:05,273 saving best model\n",
            "2023-04-21 07:22:07,083 ----------------------------------------------------------------------------------------------------\n",
            "2023-04-21 07:22:08,355 epoch 68 - iter 7/79 - loss 6.35688242 - time (sec): 1.27 - samples/sec: 6104.93 - lr: 0.001563\n",
            "2023-04-21 07:22:10,066 epoch 68 - iter 14/79 - loss 6.37481437 - time (sec): 2.98 - samples/sec: 5647.25 - lr: 0.001563\n",
            "2023-04-21 07:22:11,497 epoch 68 - iter 21/79 - loss 6.18926128 - time (sec): 4.41 - samples/sec: 5534.52 - lr: 0.001563\n",
            "2023-04-21 07:22:13,333 epoch 68 - iter 28/79 - loss 6.42582897 - time (sec): 6.25 - samples/sec: 5319.54 - lr: 0.001563\n",
            "2023-04-21 07:22:14,872 epoch 68 - iter 35/79 - loss 6.38748420 - time (sec): 7.79 - samples/sec: 5283.50 - lr: 0.001563\n",
            "2023-04-21 07:22:16,819 epoch 68 - iter 42/79 - loss 6.20170563 - time (sec): 9.73 - samples/sec: 5097.42 - lr: 0.001563\n",
            "2023-04-21 07:22:18,755 epoch 68 - iter 49/79 - loss 6.19844072 - time (sec): 11.67 - samples/sec: 5121.73 - lr: 0.001563\n",
            "2023-04-21 07:22:20,180 epoch 68 - iter 56/79 - loss 6.16419625 - time (sec): 13.09 - samples/sec: 5143.30 - lr: 0.001563\n",
            "2023-04-21 07:22:21,699 epoch 68 - iter 63/79 - loss 6.09594618 - time (sec): 14.61 - samples/sec: 5215.08 - lr: 0.001563\n",
            "2023-04-21 07:22:23,158 epoch 68 - iter 70/79 - loss 5.98333516 - time (sec): 16.07 - samples/sec: 5256.87 - lr: 0.001563\n",
            "2023-04-21 07:22:24,669 epoch 68 - iter 77/79 - loss 5.94662969 - time (sec): 17.58 - samples/sec: 5253.89 - lr: 0.001563\n",
            "2023-04-21 07:22:25,023 ----------------------------------------------------------------------------------------------------\n",
            "2023-04-21 07:22:25,024 EPOCH 68 done: loss 6.0178 - lr 0.001563\n"
          ]
        },
        {
          "output_type": "stream",
          "name": "stderr",
          "text": [
            "100%|██████████| 79/79 [00:19<00:00,  4.01it/s]"
          ]
        },
        {
          "output_type": "stream",
          "name": "stdout",
          "text": [
            "2023-04-21 07:22:44,854 Evaluating as a multi-label problem: True\n"
          ]
        },
        {
          "output_type": "stream",
          "name": "stderr",
          "text": [
            "\n"
          ]
        },
        {
          "output_type": "stream",
          "name": "stdout",
          "text": [
            "2023-04-21 07:22:46,727 TRAIN : loss 3.0888848304748535 - f1-score (weighted avg)  0.691\n"
          ]
        },
        {
          "output_type": "stream",
          "name": "stderr",
          "text": [
            "100%|██████████| 10/10 [00:02<00:00,  3.86it/s]"
          ]
        },
        {
          "output_type": "stream",
          "name": "stdout",
          "text": [
            "2023-04-21 07:22:49,396 Evaluating as a multi-label problem: False\n",
            "2023-04-21 07:22:49,463 DEV : loss 9.911482810974121 - f1-score (weighted avg)  0.6141\n",
            "2023-04-21 07:22:49,472 BAD EPOCHS (no improvement): 1\n",
            "2023-04-21 07:22:49,476 ----------------------------------------------------------------------------------------------------\n"
          ]
        },
        {
          "output_type": "stream",
          "name": "stderr",
          "text": [
            "\n"
          ]
        },
        {
          "output_type": "stream",
          "name": "stdout",
          "text": [
            "2023-04-21 07:22:50,843 epoch 69 - iter 7/79 - loss 5.65828914 - time (sec): 1.37 - samples/sec: 5454.59 - lr: 0.001563\n",
            "2023-04-21 07:22:51,992 epoch 69 - iter 14/79 - loss 6.51450811 - time (sec): 2.51 - samples/sec: 5979.81 - lr: 0.001563\n",
            "2023-04-21 07:22:53,334 epoch 69 - iter 21/79 - loss 6.76940757 - time (sec): 3.86 - samples/sec: 5781.56 - lr: 0.001563\n",
            "2023-04-21 07:22:55,076 epoch 69 - iter 28/79 - loss 6.52521485 - time (sec): 5.60 - samples/sec: 5456.03 - lr: 0.001563\n",
            "2023-04-21 07:22:56,535 epoch 69 - iter 35/79 - loss 6.25654222 - time (sec): 7.06 - samples/sec: 5482.31 - lr: 0.001563\n",
            "2023-04-21 07:22:58,393 epoch 69 - iter 42/79 - loss 5.99952301 - time (sec): 8.92 - samples/sec: 5393.75 - lr: 0.001563\n",
            "2023-04-21 07:22:59,998 epoch 69 - iter 49/79 - loss 5.92328131 - time (sec): 10.52 - samples/sec: 5381.77 - lr: 0.001563\n",
            "2023-04-21 07:23:01,762 epoch 69 - iter 56/79 - loss 6.06117040 - time (sec): 12.28 - samples/sec: 5326.26 - lr: 0.001563\n",
            "2023-04-21 07:23:03,161 epoch 69 - iter 63/79 - loss 6.19759572 - time (sec): 13.68 - samples/sec: 5384.21 - lr: 0.001563\n",
            "2023-04-21 07:23:04,773 epoch 69 - iter 70/79 - loss 6.24336057 - time (sec): 15.30 - samples/sec: 5425.78 - lr: 0.001563\n",
            "2023-04-21 07:23:06,666 epoch 69 - iter 77/79 - loss 6.19625325 - time (sec): 17.19 - samples/sec: 5363.02 - lr: 0.001563\n",
            "2023-04-21 07:23:07,129 ----------------------------------------------------------------------------------------------------\n",
            "2023-04-21 07:23:07,131 EPOCH 69 done: loss 6.1398 - lr 0.001563\n"
          ]
        },
        {
          "output_type": "stream",
          "name": "stderr",
          "text": [
            "100%|██████████| 79/79 [00:19<00:00,  4.00it/s]\n"
          ]
        },
        {
          "output_type": "stream",
          "name": "stdout",
          "text": [
            "2023-04-21 07:23:28,144 Evaluating as a multi-label problem: True\n",
            "2023-04-21 07:23:30,020 TRAIN : loss 2.555182933807373 - f1-score (weighted avg)  0.7448\n"
          ]
        },
        {
          "output_type": "stream",
          "name": "stderr",
          "text": [
            "100%|██████████| 10/10 [00:02<00:00,  3.93it/s]"
          ]
        },
        {
          "output_type": "stream",
          "name": "stdout",
          "text": [
            "2023-04-21 07:23:32,644 Evaluating as a multi-label problem: False\n",
            "2023-04-21 07:23:32,713 DEV : loss 9.266433715820312 - f1-score (weighted avg)  0.645\n",
            "2023-04-21 07:23:32,724 BAD EPOCHS (no improvement): 0\n",
            "2023-04-21 07:23:32,728 saving best model\n"
          ]
        },
        {
          "output_type": "stream",
          "name": "stderr",
          "text": [
            "\n"
          ]
        },
        {
          "output_type": "stream",
          "name": "stdout",
          "text": [
            "2023-04-21 07:23:34,527 ----------------------------------------------------------------------------------------------------\n",
            "2023-04-21 07:23:35,847 epoch 70 - iter 7/79 - loss 6.36076923 - time (sec): 1.31 - samples/sec: 5721.38 - lr: 0.001563\n",
            "2023-04-21 07:23:37,402 epoch 70 - iter 14/79 - loss 5.94649346 - time (sec): 2.86 - samples/sec: 5530.29 - lr: 0.001563\n",
            "2023-04-21 07:23:38,978 epoch 70 - iter 21/79 - loss 5.78455501 - time (sec): 4.44 - samples/sec: 5344.21 - lr: 0.001563\n",
            "2023-04-21 07:23:40,623 epoch 70 - iter 28/79 - loss 5.74801606 - time (sec): 6.08 - samples/sec: 5314.52 - lr: 0.001563\n",
            "2023-04-21 07:23:42,253 epoch 70 - iter 35/79 - loss 5.68157771 - time (sec): 7.71 - samples/sec: 5232.89 - lr: 0.001563\n",
            "2023-04-21 07:23:44,087 epoch 70 - iter 42/79 - loss 5.61090669 - time (sec): 9.55 - samples/sec: 5227.85 - lr: 0.001563\n",
            "2023-04-21 07:23:45,672 epoch 70 - iter 49/79 - loss 5.66746058 - time (sec): 11.13 - samples/sec: 5247.88 - lr: 0.001563\n",
            "2023-04-21 07:23:47,355 epoch 70 - iter 56/79 - loss 5.54948876 - time (sec): 12.81 - samples/sec: 5191.89 - lr: 0.001563\n",
            "2023-04-21 07:23:49,041 epoch 70 - iter 63/79 - loss 5.73278694 - time (sec): 14.50 - samples/sec: 5185.51 - lr: 0.001563\n",
            "2023-04-21 07:23:51,028 epoch 70 - iter 70/79 - loss 5.82314583 - time (sec): 16.49 - samples/sec: 5138.94 - lr: 0.001563\n",
            "2023-04-21 07:23:52,488 epoch 70 - iter 77/79 - loss 5.77330801 - time (sec): 17.95 - samples/sec: 5143.29 - lr: 0.001563\n",
            "2023-04-21 07:23:53,013 ----------------------------------------------------------------------------------------------------\n",
            "2023-04-21 07:23:53,015 EPOCH 70 done: loss 5.7841 - lr 0.001563\n"
          ]
        },
        {
          "output_type": "stream",
          "name": "stderr",
          "text": [
            "100%|██████████| 79/79 [00:19<00:00,  4.02it/s]"
          ]
        },
        {
          "output_type": "stream",
          "name": "stdout",
          "text": [
            "2023-04-21 07:24:12,789 Evaluating as a multi-label problem: True\n"
          ]
        },
        {
          "output_type": "stream",
          "name": "stderr",
          "text": [
            "\n"
          ]
        },
        {
          "output_type": "stream",
          "name": "stdout",
          "text": [
            "2023-04-21 07:24:15,952 TRAIN : loss 2.493804693222046 - f1-score (weighted avg)  0.7628\n"
          ]
        },
        {
          "output_type": "stream",
          "name": "stderr",
          "text": [
            "100%|██████████| 10/10 [00:02<00:00,  3.95it/s]"
          ]
        },
        {
          "output_type": "stream",
          "name": "stdout",
          "text": [
            "2023-04-21 07:24:18,560 Evaluating as a multi-label problem: False\n",
            "2023-04-21 07:24:18,628 DEV : loss 9.354144096374512 - f1-score (weighted avg)  0.659\n",
            "2023-04-21 07:24:18,639 BAD EPOCHS (no improvement): 1\n",
            "2023-04-21 07:24:18,643 ----------------------------------------------------------------------------------------------------\n"
          ]
        },
        {
          "output_type": "stream",
          "name": "stderr",
          "text": [
            "\n"
          ]
        },
        {
          "output_type": "stream",
          "name": "stdout",
          "text": [
            "2023-04-21 07:24:19,965 epoch 71 - iter 7/79 - loss 4.84429030 - time (sec): 1.32 - samples/sec: 5956.78 - lr: 0.001563\n",
            "2023-04-21 07:24:21,621 epoch 71 - iter 14/79 - loss 5.50168919 - time (sec): 2.98 - samples/sec: 5284.34 - lr: 0.001563\n",
            "2023-04-21 07:24:23,240 epoch 71 - iter 21/79 - loss 5.55899366 - time (sec): 4.60 - samples/sec: 5161.01 - lr: 0.001563\n",
            "2023-04-21 07:24:24,385 epoch 71 - iter 28/79 - loss 5.82694221 - time (sec): 5.74 - samples/sec: 5493.13 - lr: 0.001563\n",
            "2023-04-21 07:24:25,668 epoch 71 - iter 35/79 - loss 5.99458211 - time (sec): 7.02 - samples/sec: 5531.10 - lr: 0.001563\n",
            "2023-04-21 07:24:27,539 epoch 71 - iter 42/79 - loss 5.78653817 - time (sec): 8.89 - samples/sec: 5325.16 - lr: 0.001563\n",
            "2023-04-21 07:24:28,897 epoch 71 - iter 49/79 - loss 5.86750229 - time (sec): 10.25 - samples/sec: 5488.18 - lr: 0.001563\n",
            "2023-04-21 07:24:30,640 epoch 71 - iter 56/79 - loss 5.91944920 - time (sec): 12.00 - samples/sec: 5421.20 - lr: 0.001563\n",
            "2023-04-21 07:24:32,024 epoch 71 - iter 63/79 - loss 5.78506140 - time (sec): 13.38 - samples/sec: 5507.10 - lr: 0.001563\n",
            "2023-04-21 07:24:33,602 epoch 71 - iter 70/79 - loss 5.69304317 - time (sec): 14.96 - samples/sec: 5560.80 - lr: 0.001563\n",
            "2023-04-21 07:24:35,380 epoch 71 - iter 77/79 - loss 5.65499964 - time (sec): 16.74 - samples/sec: 5537.62 - lr: 0.001563\n",
            "2023-04-21 07:24:35,744 ----------------------------------------------------------------------------------------------------\n",
            "2023-04-21 07:24:35,745 EPOCH 71 done: loss 5.6691 - lr 0.001563\n"
          ]
        },
        {
          "output_type": "stream",
          "name": "stderr",
          "text": [
            "100%|██████████| 79/79 [00:19<00:00,  4.02it/s]"
          ]
        },
        {
          "output_type": "stream",
          "name": "stdout",
          "text": [
            "2023-04-21 07:24:55,536 Evaluating as a multi-label problem: True\n"
          ]
        },
        {
          "output_type": "stream",
          "name": "stderr",
          "text": [
            "\n"
          ]
        },
        {
          "output_type": "stream",
          "name": "stdout",
          "text": [
            "2023-04-21 07:24:57,407 TRAIN : loss 2.880711078643799 - f1-score (weighted avg)  0.7264\n"
          ]
        },
        {
          "output_type": "stream",
          "name": "stderr",
          "text": [
            "100%|██████████| 10/10 [00:02<00:00,  3.83it/s]"
          ]
        },
        {
          "output_type": "stream",
          "name": "stdout",
          "text": [
            "2023-04-21 07:25:00,104 Evaluating as a multi-label problem: False\n",
            "2023-04-21 07:25:00,173 DEV : loss 9.738537788391113 - f1-score (weighted avg)  0.6364\n",
            "2023-04-21 07:25:00,183 Epoch    71: reducing learning rate of group 0 to 7.8125e-04.\n",
            "2023-04-21 07:25:00,184 BAD EPOCHS (no improvement): 2\n",
            "2023-04-21 07:25:00,189 ----------------------------------------------------------------------------------------------------\n"
          ]
        },
        {
          "output_type": "stream",
          "name": "stderr",
          "text": [
            "\n"
          ]
        },
        {
          "output_type": "stream",
          "name": "stdout",
          "text": [
            "2023-04-21 07:25:02,093 epoch 72 - iter 7/79 - loss 4.62007516 - time (sec): 1.90 - samples/sec: 4984.30 - lr: 0.000781\n",
            "2023-04-21 07:25:03,820 epoch 72 - iter 14/79 - loss 5.29812458 - time (sec): 3.63 - samples/sec: 5309.27 - lr: 0.000781\n",
            "2023-04-21 07:25:05,147 epoch 72 - iter 21/79 - loss 5.55292771 - time (sec): 4.96 - samples/sec: 5288.78 - lr: 0.000781\n",
            "2023-04-21 07:25:06,407 epoch 72 - iter 28/79 - loss 5.75344137 - time (sec): 6.22 - samples/sec: 5448.82 - lr: 0.000781\n",
            "2023-04-21 07:25:07,826 epoch 72 - iter 35/79 - loss 5.69868993 - time (sec): 7.64 - samples/sec: 5573.37 - lr: 0.000781\n",
            "2023-04-21 07:25:09,327 epoch 72 - iter 42/79 - loss 5.62300075 - time (sec): 9.14 - samples/sec: 5594.62 - lr: 0.000781\n",
            "2023-04-21 07:25:10,715 epoch 72 - iter 49/79 - loss 5.60087505 - time (sec): 10.52 - samples/sec: 5640.86 - lr: 0.000781\n",
            "2023-04-21 07:25:12,891 epoch 72 - iter 56/79 - loss 5.55766545 - time (sec): 12.70 - samples/sec: 5482.45 - lr: 0.000781\n",
            "2023-04-21 07:25:14,206 epoch 72 - iter 63/79 - loss 5.48390382 - time (sec): 14.02 - samples/sec: 5508.27 - lr: 0.000781\n",
            "2023-04-21 07:25:15,648 epoch 72 - iter 70/79 - loss 5.46552966 - time (sec): 15.46 - samples/sec: 5466.60 - lr: 0.000781\n",
            "2023-04-21 07:25:17,058 epoch 72 - iter 77/79 - loss 5.37460601 - time (sec): 16.87 - samples/sec: 5501.77 - lr: 0.000781\n",
            "2023-04-21 07:25:17,496 ----------------------------------------------------------------------------------------------------\n",
            "2023-04-21 07:25:17,498 EPOCH 72 done: loss 5.3842 - lr 0.000781\n"
          ]
        },
        {
          "output_type": "stream",
          "name": "stderr",
          "text": [
            "100%|██████████| 79/79 [00:19<00:00,  4.00it/s]\n"
          ]
        },
        {
          "output_type": "stream",
          "name": "stdout",
          "text": [
            "2023-04-21 07:25:38,588 Evaluating as a multi-label problem: True\n",
            "2023-04-21 07:25:40,446 TRAIN : loss 2.6741549968719482 - f1-score (weighted avg)  0.7258\n"
          ]
        },
        {
          "output_type": "stream",
          "name": "stderr",
          "text": [
            "100%|██████████| 10/10 [00:02<00:00,  3.95it/s]"
          ]
        },
        {
          "output_type": "stream",
          "name": "stdout",
          "text": [
            "2023-04-21 07:25:43,055 Evaluating as a multi-label problem: False\n",
            "2023-04-21 07:25:43,123 DEV : loss 9.273048400878906 - f1-score (weighted avg)  0.6341\n",
            "2023-04-21 07:25:43,133 BAD EPOCHS (no improvement): 1\n",
            "2023-04-21 07:25:43,137 ----------------------------------------------------------------------------------------------------\n"
          ]
        },
        {
          "output_type": "stream",
          "name": "stderr",
          "text": [
            "\n"
          ]
        },
        {
          "output_type": "stream",
          "name": "stdout",
          "text": [
            "2023-04-21 07:25:44,830 epoch 73 - iter 7/79 - loss 4.69990330 - time (sec): 1.69 - samples/sec: 5273.18 - lr: 0.000781\n",
            "2023-04-21 07:25:46,206 epoch 73 - iter 14/79 - loss 5.01391666 - time (sec): 3.07 - samples/sec: 5544.17 - lr: 0.000781\n",
            "2023-04-21 07:25:47,799 epoch 73 - iter 21/79 - loss 4.79111331 - time (sec): 4.66 - samples/sec: 5453.36 - lr: 0.000781\n",
            "2023-04-21 07:25:49,293 epoch 73 - iter 28/79 - loss 4.85203731 - time (sec): 6.15 - samples/sec: 5560.86 - lr: 0.000781\n",
            "2023-04-21 07:25:51,284 epoch 73 - iter 35/79 - loss 4.86205511 - time (sec): 8.15 - samples/sec: 5367.25 - lr: 0.000781\n",
            "2023-04-21 07:25:52,942 epoch 73 - iter 42/79 - loss 4.92441026 - time (sec): 9.80 - samples/sec: 5327.76 - lr: 0.000781\n",
            "2023-04-21 07:25:54,286 epoch 73 - iter 49/79 - loss 4.91288111 - time (sec): 11.15 - samples/sec: 5346.11 - lr: 0.000781\n",
            "2023-04-21 07:25:55,731 epoch 73 - iter 56/79 - loss 5.12462605 - time (sec): 12.59 - samples/sec: 5362.44 - lr: 0.000781\n",
            "2023-04-21 07:25:57,081 epoch 73 - iter 63/79 - loss 5.07931616 - time (sec): 13.94 - samples/sec: 5383.73 - lr: 0.000781\n",
            "2023-04-21 07:25:58,615 epoch 73 - iter 70/79 - loss 5.09636427 - time (sec): 15.48 - samples/sec: 5410.52 - lr: 0.000781\n",
            "2023-04-21 07:26:00,184 epoch 73 - iter 77/79 - loss 5.04342440 - time (sec): 17.05 - samples/sec: 5402.15 - lr: 0.000781\n",
            "2023-04-21 07:26:00,635 ----------------------------------------------------------------------------------------------------\n",
            "2023-04-21 07:26:00,637 EPOCH 73 done: loss 5.0573 - lr 0.000781\n"
          ]
        },
        {
          "output_type": "stream",
          "name": "stderr",
          "text": [
            "100%|██████████| 79/79 [00:19<00:00,  3.98it/s]"
          ]
        },
        {
          "output_type": "stream",
          "name": "stdout",
          "text": [
            "2023-04-21 07:26:20,616 Evaluating as a multi-label problem: True\n"
          ]
        },
        {
          "output_type": "stream",
          "name": "stderr",
          "text": [
            "\n"
          ]
        },
        {
          "output_type": "stream",
          "name": "stdout",
          "text": [
            "2023-04-21 07:26:22,487 TRAIN : loss 2.5438284873962402 - f1-score (weighted avg)  0.722\n"
          ]
        },
        {
          "output_type": "stream",
          "name": "stderr",
          "text": [
            "100%|██████████| 10/10 [00:02<00:00,  3.92it/s]"
          ]
        },
        {
          "output_type": "stream",
          "name": "stdout",
          "text": [
            "2023-04-21 07:26:25,115 Evaluating as a multi-label problem: False\n",
            "2023-04-21 07:26:25,182 DEV : loss 9.026198387145996 - f1-score (weighted avg)  0.635\n",
            "2023-04-21 07:26:25,192 BAD EPOCHS (no improvement): 0\n",
            "2023-04-21 07:26:25,197 saving best model\n"
          ]
        },
        {
          "output_type": "stream",
          "name": "stderr",
          "text": [
            "\n"
          ]
        },
        {
          "output_type": "stream",
          "name": "stdout",
          "text": [
            "2023-04-21 07:26:27,034 ----------------------------------------------------------------------------------------------------\n",
            "2023-04-21 07:26:29,675 epoch 74 - iter 7/79 - loss 4.89825631 - time (sec): 2.63 - samples/sec: 3331.33 - lr: 0.000781\n",
            "2023-04-21 07:26:31,130 epoch 74 - iter 14/79 - loss 4.65579577 - time (sec): 4.08 - samples/sec: 4010.83 - lr: 0.000781\n",
            "2023-04-21 07:26:32,439 epoch 74 - iter 21/79 - loss 5.00309082 - time (sec): 5.39 - samples/sec: 4493.08 - lr: 0.000781\n",
            "2023-04-21 07:26:33,832 epoch 74 - iter 28/79 - loss 5.31458629 - time (sec): 6.78 - samples/sec: 4773.37 - lr: 0.000781\n",
            "2023-04-21 07:26:35,829 epoch 74 - iter 35/79 - loss 5.11325152 - time (sec): 8.78 - samples/sec: 4727.68 - lr: 0.000781\n",
            "2023-04-21 07:26:37,363 epoch 74 - iter 42/79 - loss 5.14066395 - time (sec): 10.32 - samples/sec: 4822.86 - lr: 0.000781\n",
            "2023-04-21 07:26:39,047 epoch 74 - iter 49/79 - loss 5.03596507 - time (sec): 12.00 - samples/sec: 4892.54 - lr: 0.000781\n",
            "2023-04-21 07:26:40,690 epoch 74 - iter 56/79 - loss 5.00185628 - time (sec): 13.64 - samples/sec: 4936.04 - lr: 0.000781\n",
            "2023-04-21 07:26:42,136 epoch 74 - iter 63/79 - loss 4.97352193 - time (sec): 15.09 - samples/sec: 4940.31 - lr: 0.000781\n",
            "2023-04-21 07:26:43,610 epoch 74 - iter 70/79 - loss 4.98219221 - time (sec): 16.56 - samples/sec: 4996.97 - lr: 0.000781\n",
            "2023-04-21 07:26:45,628 epoch 74 - iter 77/79 - loss 5.06559444 - time (sec): 18.58 - samples/sec: 4963.97 - lr: 0.000781\n",
            "2023-04-21 07:26:46,078 ----------------------------------------------------------------------------------------------------\n",
            "2023-04-21 07:26:46,080 EPOCH 74 done: loss 5.0606 - lr 0.000781\n"
          ]
        },
        {
          "output_type": "stream",
          "name": "stderr",
          "text": [
            "100%|██████████| 79/79 [00:19<00:00,  4.02it/s]"
          ]
        },
        {
          "output_type": "stream",
          "name": "stdout",
          "text": [
            "2023-04-21 07:27:05,878 Evaluating as a multi-label problem: True\n"
          ]
        },
        {
          "output_type": "stream",
          "name": "stderr",
          "text": [
            "\n"
          ]
        },
        {
          "output_type": "stream",
          "name": "stdout",
          "text": [
            "2023-04-21 07:27:07,761 TRAIN : loss 2.523477077484131 - f1-score (weighted avg)  0.7388\n"
          ]
        },
        {
          "output_type": "stream",
          "name": "stderr",
          "text": [
            "100%|██████████| 10/10 [00:02<00:00,  3.95it/s]"
          ]
        },
        {
          "output_type": "stream",
          "name": "stdout",
          "text": [
            "2023-04-21 07:27:10,371 Evaluating as a multi-label problem: False\n",
            "2023-04-21 07:27:10,442 DEV : loss 8.937162399291992 - f1-score (weighted avg)  0.6491\n",
            "2023-04-21 07:27:10,452 BAD EPOCHS (no improvement): 0\n",
            "2023-04-21 07:27:10,456 saving best model\n"
          ]
        },
        {
          "output_type": "stream",
          "name": "stderr",
          "text": [
            "\n"
          ]
        },
        {
          "output_type": "stream",
          "name": "stdout",
          "text": [
            "2023-04-21 07:27:12,273 ----------------------------------------------------------------------------------------------------\n",
            "2023-04-21 07:27:13,565 epoch 75 - iter 7/79 - loss 3.88911500 - time (sec): 1.29 - samples/sec: 6711.94 - lr: 0.000781\n",
            "2023-04-21 07:27:15,122 epoch 75 - iter 14/79 - loss 3.89742090 - time (sec): 2.85 - samples/sec: 5816.80 - lr: 0.000781\n",
            "2023-04-21 07:27:16,706 epoch 75 - iter 21/79 - loss 4.52902784 - time (sec): 4.43 - samples/sec: 5601.11 - lr: 0.000781\n",
            "2023-04-21 07:27:18,129 epoch 75 - iter 28/79 - loss 4.52559111 - time (sec): 5.85 - samples/sec: 5736.48 - lr: 0.000781\n",
            "2023-04-21 07:27:20,199 epoch 75 - iter 35/79 - loss 4.70998261 - time (sec): 7.92 - samples/sec: 5351.49 - lr: 0.000781\n",
            "2023-04-21 07:27:21,733 epoch 75 - iter 42/79 - loss 4.86822590 - time (sec): 9.46 - samples/sec: 5396.27 - lr: 0.000781\n",
            "2023-04-21 07:27:23,308 epoch 75 - iter 49/79 - loss 4.90662613 - time (sec): 11.03 - samples/sec: 5331.28 - lr: 0.000781\n",
            "2023-04-21 07:27:24,873 epoch 75 - iter 56/79 - loss 5.04018097 - time (sec): 12.60 - samples/sec: 5325.05 - lr: 0.000781\n",
            "2023-04-21 07:27:26,595 epoch 75 - iter 63/79 - loss 5.00440378 - time (sec): 14.32 - samples/sec: 5317.01 - lr: 0.000781\n",
            "2023-04-21 07:27:28,096 epoch 75 - iter 70/79 - loss 5.01355448 - time (sec): 15.82 - samples/sec: 5324.87 - lr: 0.000781\n",
            "2023-04-21 07:27:29,943 epoch 75 - iter 77/79 - loss 4.94550414 - time (sec): 17.67 - samples/sec: 5223.81 - lr: 0.000781\n",
            "2023-04-21 07:27:30,384 ----------------------------------------------------------------------------------------------------\n",
            "2023-04-21 07:27:30,386 EPOCH 75 done: loss 5.0050 - lr 0.000781\n"
          ]
        },
        {
          "output_type": "stream",
          "name": "stderr",
          "text": [
            "100%|██████████| 79/79 [00:19<00:00,  4.01it/s]\n"
          ]
        },
        {
          "output_type": "stream",
          "name": "stdout",
          "text": [
            "2023-04-21 07:27:51,375 Evaluating as a multi-label problem: True\n",
            "2023-04-21 07:27:53,237 TRAIN : loss 2.2794666290283203 - f1-score (weighted avg)  0.749\n"
          ]
        },
        {
          "output_type": "stream",
          "name": "stderr",
          "text": [
            "100%|██████████| 10/10 [00:02<00:00,  3.94it/s]"
          ]
        },
        {
          "output_type": "stream",
          "name": "stdout",
          "text": [
            "2023-04-21 07:27:55,859 Evaluating as a multi-label problem: False\n",
            "2023-04-21 07:27:55,927 DEV : loss 8.75390911102295 - f1-score (weighted avg)  0.6517\n",
            "2023-04-21 07:27:55,937 BAD EPOCHS (no improvement): 0\n",
            "2023-04-21 07:27:55,941 saving best model\n"
          ]
        },
        {
          "output_type": "stream",
          "name": "stderr",
          "text": [
            "\n"
          ]
        },
        {
          "output_type": "stream",
          "name": "stdout",
          "text": [
            "2023-04-21 07:27:57,745 ----------------------------------------------------------------------------------------------------\n",
            "2023-04-21 07:27:59,094 epoch 76 - iter 7/79 - loss 5.16448803 - time (sec): 1.35 - samples/sec: 5956.12 - lr: 0.000781\n",
            "2023-04-21 07:28:00,494 epoch 76 - iter 14/79 - loss 5.21537085 - time (sec): 2.75 - samples/sec: 5948.88 - lr: 0.000781\n",
            "2023-04-21 07:28:02,064 epoch 76 - iter 21/79 - loss 4.89157220 - time (sec): 4.32 - samples/sec: 5701.56 - lr: 0.000781\n",
            "2023-04-21 07:28:03,759 epoch 76 - iter 28/79 - loss 4.88622928 - time (sec): 6.01 - samples/sec: 5599.01 - lr: 0.000781\n",
            "2023-04-21 07:28:05,373 epoch 76 - iter 35/79 - loss 5.00388461 - time (sec): 7.63 - samples/sec: 5515.24 - lr: 0.000781\n",
            "2023-04-21 07:28:06,942 epoch 76 - iter 42/79 - loss 5.00270533 - time (sec): 9.19 - samples/sec: 5512.48 - lr: 0.000781\n",
            "2023-04-21 07:28:08,992 epoch 76 - iter 49/79 - loss 4.95950202 - time (sec): 11.24 - samples/sec: 5294.94 - lr: 0.000781\n",
            "2023-04-21 07:28:10,507 epoch 76 - iter 56/79 - loss 4.93211348 - time (sec): 12.76 - samples/sec: 5259.33 - lr: 0.000781\n",
            "2023-04-21 07:28:11,850 epoch 76 - iter 63/79 - loss 4.99098794 - time (sec): 14.10 - samples/sec: 5255.48 - lr: 0.000781\n",
            "2023-04-21 07:28:13,810 epoch 76 - iter 70/79 - loss 4.89359672 - time (sec): 16.06 - samples/sec: 5198.48 - lr: 0.000781\n",
            "2023-04-21 07:28:15,231 epoch 76 - iter 77/79 - loss 4.92203900 - time (sec): 17.48 - samples/sec: 5252.87 - lr: 0.000781\n",
            "2023-04-21 07:28:15,695 ----------------------------------------------------------------------------------------------------\n",
            "2023-04-21 07:28:15,696 EPOCH 76 done: loss 4.9030 - lr 0.000781\n"
          ]
        },
        {
          "output_type": "stream",
          "name": "stderr",
          "text": [
            "100%|██████████| 79/79 [00:19<00:00,  3.99it/s]"
          ]
        },
        {
          "output_type": "stream",
          "name": "stdout",
          "text": [
            "2023-04-21 07:28:35,652 Evaluating as a multi-label problem: True\n"
          ]
        },
        {
          "output_type": "stream",
          "name": "stderr",
          "text": [
            "\n"
          ]
        },
        {
          "output_type": "stream",
          "name": "stdout",
          "text": [
            "2023-04-21 07:28:38,794 TRAIN : loss 2.4016783237457275 - f1-score (weighted avg)  0.7317\n"
          ]
        },
        {
          "output_type": "stream",
          "name": "stderr",
          "text": [
            "100%|██████████| 10/10 [00:02<00:00,  3.95it/s]"
          ]
        },
        {
          "output_type": "stream",
          "name": "stdout",
          "text": [
            "2023-04-21 07:28:41,406 Evaluating as a multi-label problem: False\n",
            "2023-04-21 07:28:41,479 DEV : loss 8.851913452148438 - f1-score (weighted avg)  0.6457\n",
            "2023-04-21 07:28:41,488 BAD EPOCHS (no improvement): 1\n",
            "2023-04-21 07:28:41,492 ----------------------------------------------------------------------------------------------------\n"
          ]
        },
        {
          "output_type": "stream",
          "name": "stderr",
          "text": [
            "\n"
          ]
        },
        {
          "output_type": "stream",
          "name": "stdout",
          "text": [
            "2023-04-21 07:28:43,007 epoch 77 - iter 7/79 - loss 4.13352135 - time (sec): 1.51 - samples/sec: 5465.38 - lr: 0.000781\n",
            "2023-04-21 07:28:44,486 epoch 77 - iter 14/79 - loss 4.17223391 - time (sec): 2.99 - samples/sec: 5557.88 - lr: 0.000781\n",
            "2023-04-21 07:28:46,102 epoch 77 - iter 21/79 - loss 4.69233091 - time (sec): 4.61 - samples/sec: 5438.95 - lr: 0.000781\n",
            "2023-04-21 07:28:47,687 epoch 77 - iter 28/79 - loss 4.61833441 - time (sec): 6.19 - samples/sec: 5481.30 - lr: 0.000781\n",
            "2023-04-21 07:28:49,742 epoch 77 - iter 35/79 - loss 4.92245793 - time (sec): 8.25 - samples/sec: 5179.95 - lr: 0.000781\n",
            "2023-04-21 07:28:51,371 epoch 77 - iter 42/79 - loss 4.97664510 - time (sec): 9.88 - samples/sec: 5190.67 - lr: 0.000781\n",
            "2023-04-21 07:28:52,844 epoch 77 - iter 49/79 - loss 4.90169566 - time (sec): 11.35 - samples/sec: 5241.54 - lr: 0.000781\n",
            "2023-04-21 07:28:54,403 epoch 77 - iter 56/79 - loss 4.78780485 - time (sec): 12.91 - samples/sec: 5212.49 - lr: 0.000781\n",
            "2023-04-21 07:28:55,856 epoch 77 - iter 63/79 - loss 4.78084042 - time (sec): 14.36 - samples/sec: 5243.38 - lr: 0.000781\n",
            "2023-04-21 07:28:57,399 epoch 77 - iter 70/79 - loss 4.76028360 - time (sec): 15.91 - samples/sec: 5345.02 - lr: 0.000781\n",
            "2023-04-21 07:28:58,843 epoch 77 - iter 77/79 - loss 4.75773290 - time (sec): 17.35 - samples/sec: 5351.61 - lr: 0.000781\n",
            "2023-04-21 07:28:59,234 ----------------------------------------------------------------------------------------------------\n",
            "2023-04-21 07:28:59,235 EPOCH 77 done: loss 4.7461 - lr 0.000781\n"
          ]
        },
        {
          "output_type": "stream",
          "name": "stderr",
          "text": [
            "100%|██████████| 79/79 [00:19<00:00,  4.01it/s]"
          ]
        },
        {
          "output_type": "stream",
          "name": "stdout",
          "text": [
            "2023-04-21 07:29:19,070 Evaluating as a multi-label problem: True\n"
          ]
        },
        {
          "output_type": "stream",
          "name": "stderr",
          "text": [
            "\n"
          ]
        },
        {
          "output_type": "stream",
          "name": "stdout",
          "text": [
            "2023-04-21 07:29:20,932 TRAIN : loss 2.4226911067962646 - f1-score (weighted avg)  0.7176\n"
          ]
        },
        {
          "output_type": "stream",
          "name": "stderr",
          "text": [
            "100%|██████████| 10/10 [00:02<00:00,  3.94it/s]"
          ]
        },
        {
          "output_type": "stream",
          "name": "stdout",
          "text": [
            "2023-04-21 07:29:23,552 Evaluating as a multi-label problem: False\n",
            "2023-04-21 07:29:23,623 DEV : loss 8.840851783752441 - f1-score (weighted avg)  0.6357\n",
            "2023-04-21 07:29:23,632 Epoch    77: reducing learning rate of group 0 to 3.9063e-04.\n",
            "2023-04-21 07:29:23,634 BAD EPOCHS (no improvement): 2\n",
            "2023-04-21 07:29:23,638 ----------------------------------------------------------------------------------------------------\n"
          ]
        },
        {
          "output_type": "stream",
          "name": "stderr",
          "text": [
            "\n"
          ]
        },
        {
          "output_type": "stream",
          "name": "stdout",
          "text": [
            "2023-04-21 07:29:25,266 epoch 78 - iter 7/79 - loss 4.57769382 - time (sec): 1.63 - samples/sec: 5728.79 - lr: 0.000391\n",
            "2023-04-21 07:29:26,963 epoch 78 - iter 14/79 - loss 4.67040167 - time (sec): 3.32 - samples/sec: 5335.80 - lr: 0.000391\n",
            "2023-04-21 07:29:28,677 epoch 78 - iter 21/79 - loss 4.50588431 - time (sec): 5.04 - samples/sec: 5147.76 - lr: 0.000391\n",
            "2023-04-21 07:29:30,113 epoch 78 - iter 28/79 - loss 4.34619421 - time (sec): 6.47 - samples/sec: 5243.77 - lr: 0.000391\n",
            "2023-04-21 07:29:31,341 epoch 78 - iter 35/79 - loss 4.35467438 - time (sec): 7.70 - samples/sec: 5397.65 - lr: 0.000391\n",
            "2023-04-21 07:29:32,870 epoch 78 - iter 42/79 - loss 4.37631093 - time (sec): 9.23 - samples/sec: 5454.35 - lr: 0.000391\n",
            "2023-04-21 07:29:34,337 epoch 78 - iter 49/79 - loss 4.46573068 - time (sec): 10.70 - samples/sec: 5456.92 - lr: 0.000391\n",
            "2023-04-21 07:29:35,825 epoch 78 - iter 56/79 - loss 4.60320729 - time (sec): 12.18 - samples/sec: 5392.04 - lr: 0.000391\n",
            "2023-04-21 07:29:37,728 epoch 78 - iter 63/79 - loss 4.61708485 - time (sec): 14.09 - samples/sec: 5320.96 - lr: 0.000391\n",
            "2023-04-21 07:29:39,476 epoch 78 - iter 70/79 - loss 4.62220929 - time (sec): 15.84 - samples/sec: 5281.59 - lr: 0.000391\n",
            "2023-04-21 07:29:40,922 epoch 78 - iter 77/79 - loss 4.61028468 - time (sec): 17.28 - samples/sec: 5356.00 - lr: 0.000391\n",
            "2023-04-21 07:29:41,261 ----------------------------------------------------------------------------------------------------\n",
            "2023-04-21 07:29:41,263 EPOCH 78 done: loss 4.5792 - lr 0.000391\n"
          ]
        },
        {
          "output_type": "stream",
          "name": "stderr",
          "text": [
            "100%|██████████| 79/79 [00:19<00:00,  3.99it/s]\n"
          ]
        },
        {
          "output_type": "stream",
          "name": "stdout",
          "text": [
            "2023-04-21 07:30:02,354 Evaluating as a multi-label problem: True\n",
            "2023-04-21 07:30:04,218 TRAIN : loss 2.0434043407440186 - f1-score (weighted avg)  0.7491\n"
          ]
        },
        {
          "output_type": "stream",
          "name": "stderr",
          "text": [
            "100%|██████████| 10/10 [00:02<00:00,  3.92it/s]"
          ]
        },
        {
          "output_type": "stream",
          "name": "stdout",
          "text": [
            "2023-04-21 07:30:06,846 Evaluating as a multi-label problem: False\n",
            "2023-04-21 07:30:06,915 DEV : loss 8.376355171203613 - f1-score (weighted avg)  0.6473\n",
            "2023-04-21 07:30:06,925 BAD EPOCHS (no improvement): 0\n",
            "2023-04-21 07:30:06,929 saving best model\n"
          ]
        },
        {
          "output_type": "stream",
          "name": "stderr",
          "text": [
            "\n"
          ]
        },
        {
          "output_type": "stream",
          "name": "stdout",
          "text": [
            "2023-04-21 07:30:08,769 ----------------------------------------------------------------------------------------------------\n",
            "2023-04-21 07:30:10,015 epoch 79 - iter 7/79 - loss 5.31932666 - time (sec): 1.24 - samples/sec: 5498.29 - lr: 0.000391\n",
            "2023-04-21 07:30:11,638 epoch 79 - iter 14/79 - loss 4.71140916 - time (sec): 2.87 - samples/sec: 5511.71 - lr: 0.000391\n",
            "2023-04-21 07:30:13,415 epoch 79 - iter 21/79 - loss 4.65319830 - time (sec): 4.64 - samples/sec: 5223.61 - lr: 0.000391\n",
            "2023-04-21 07:30:14,883 epoch 79 - iter 28/79 - loss 4.64533968 - time (sec): 6.11 - samples/sec: 5399.54 - lr: 0.000391\n",
            "2023-04-21 07:30:16,131 epoch 79 - iter 35/79 - loss 4.41818959 - time (sec): 7.36 - samples/sec: 5560.99 - lr: 0.000391\n",
            "2023-04-21 07:30:17,673 epoch 79 - iter 42/79 - loss 4.36681506 - time (sec): 8.90 - samples/sec: 5459.44 - lr: 0.000391\n",
            "2023-04-21 07:30:19,362 epoch 79 - iter 49/79 - loss 4.63788367 - time (sec): 10.59 - samples/sec: 5417.06 - lr: 0.000391\n",
            "2023-04-21 07:30:21,093 epoch 79 - iter 56/79 - loss 4.59832143 - time (sec): 12.32 - samples/sec: 5342.27 - lr: 0.000391\n",
            "2023-04-21 07:30:23,224 epoch 79 - iter 63/79 - loss 4.54460212 - time (sec): 14.45 - samples/sec: 5262.46 - lr: 0.000391\n",
            "2023-04-21 07:30:24,695 epoch 79 - iter 70/79 - loss 4.55096788 - time (sec): 15.92 - samples/sec: 5300.82 - lr: 0.000391\n",
            "2023-04-21 07:30:26,162 epoch 79 - iter 77/79 - loss 4.49839738 - time (sec): 17.39 - samples/sec: 5334.62 - lr: 0.000391\n",
            "2023-04-21 07:30:26,537 ----------------------------------------------------------------------------------------------------\n",
            "2023-04-21 07:30:26,539 EPOCH 79 done: loss 4.4819 - lr 0.000391\n"
          ]
        },
        {
          "output_type": "stream",
          "name": "stderr",
          "text": [
            "100%|██████████| 79/79 [00:19<00:00,  3.98it/s]"
          ]
        },
        {
          "output_type": "stream",
          "name": "stdout",
          "text": [
            "2023-04-21 07:30:46,510 Evaluating as a multi-label problem: True\n"
          ]
        },
        {
          "output_type": "stream",
          "name": "stderr",
          "text": [
            "\n"
          ]
        },
        {
          "output_type": "stream",
          "name": "stdout",
          "text": [
            "2023-04-21 07:30:48,375 TRAIN : loss 2.1216819286346436 - f1-score (weighted avg)  0.7488\n"
          ]
        },
        {
          "output_type": "stream",
          "name": "stderr",
          "text": [
            "100%|██████████| 10/10 [00:03<00:00,  2.74it/s]"
          ]
        },
        {
          "output_type": "stream",
          "name": "stdout",
          "text": [
            "2023-04-21 07:30:52,103 Evaluating as a multi-label problem: False\n",
            "2023-04-21 07:30:52,171 DEV : loss 8.345420837402344 - f1-score (weighted avg)  0.651\n",
            "2023-04-21 07:30:52,181 BAD EPOCHS (no improvement): 0\n",
            "2023-04-21 07:30:52,185 saving best model\n"
          ]
        },
        {
          "output_type": "stream",
          "name": "stderr",
          "text": [
            "\n"
          ]
        },
        {
          "output_type": "stream",
          "name": "stdout",
          "text": [
            "2023-04-21 07:30:53,997 ----------------------------------------------------------------------------------------------------\n",
            "2023-04-21 07:30:55,468 epoch 80 - iter 7/79 - loss 4.14291024 - time (sec): 1.47 - samples/sec: 5604.85 - lr: 0.000391\n",
            "2023-04-21 07:30:57,152 epoch 80 - iter 14/79 - loss 4.46296871 - time (sec): 3.15 - samples/sec: 4980.99 - lr: 0.000391\n",
            "2023-04-21 07:30:58,523 epoch 80 - iter 21/79 - loss 4.46185892 - time (sec): 4.52 - samples/sec: 5249.38 - lr: 0.000391\n",
            "2023-04-21 07:31:00,394 epoch 80 - iter 28/79 - loss 4.37485801 - time (sec): 6.40 - samples/sec: 5162.47 - lr: 0.000391\n",
            "2023-04-21 07:31:01,851 epoch 80 - iter 35/79 - loss 4.45879241 - time (sec): 7.85 - samples/sec: 5247.19 - lr: 0.000391\n",
            "2023-04-21 07:31:03,993 epoch 80 - iter 42/79 - loss 4.48704431 - time (sec): 9.99 - samples/sec: 5159.78 - lr: 0.000391\n",
            "2023-04-21 07:31:05,656 epoch 80 - iter 49/79 - loss 4.45824362 - time (sec): 11.66 - samples/sec: 5159.54 - lr: 0.000391\n",
            "2023-04-21 07:31:07,183 epoch 80 - iter 56/79 - loss 4.43740967 - time (sec): 13.18 - samples/sec: 5247.61 - lr: 0.000391\n",
            "2023-04-21 07:31:08,579 epoch 80 - iter 63/79 - loss 4.44565549 - time (sec): 14.58 - samples/sec: 5287.99 - lr: 0.000391\n",
            "2023-04-21 07:31:09,906 epoch 80 - iter 70/79 - loss 4.45967596 - time (sec): 15.91 - samples/sec: 5311.32 - lr: 0.000391\n",
            "2023-04-21 07:31:11,522 epoch 80 - iter 77/79 - loss 4.54971893 - time (sec): 17.52 - samples/sec: 5291.39 - lr: 0.000391\n",
            "2023-04-21 07:31:11,861 ----------------------------------------------------------------------------------------------------\n",
            "2023-04-21 07:31:11,862 EPOCH 80 done: loss 4.5475 - lr 0.000391\n"
          ]
        },
        {
          "output_type": "stream",
          "name": "stderr",
          "text": [
            "100%|██████████| 79/79 [00:19<00:00,  3.98it/s]"
          ]
        },
        {
          "output_type": "stream",
          "name": "stdout",
          "text": [
            "2023-04-21 07:31:31,844 Evaluating as a multi-label problem: True\n"
          ]
        },
        {
          "output_type": "stream",
          "name": "stderr",
          "text": [
            "\n"
          ]
        },
        {
          "output_type": "stream",
          "name": "stdout",
          "text": [
            "2023-04-21 07:31:33,718 TRAIN : loss 2.1543781757354736 - f1-score (weighted avg)  0.7473\n"
          ]
        },
        {
          "output_type": "stream",
          "name": "stderr",
          "text": [
            "100%|██████████| 10/10 [00:02<00:00,  3.91it/s]"
          ]
        },
        {
          "output_type": "stream",
          "name": "stdout",
          "text": [
            "2023-04-21 07:31:36,353 Evaluating as a multi-label problem: False\n",
            "2023-04-21 07:31:36,423 DEV : loss 8.43421745300293 - f1-score (weighted avg)  0.6505\n",
            "2023-04-21 07:31:36,433 BAD EPOCHS (no improvement): 1\n",
            "2023-04-21 07:31:36,438 ----------------------------------------------------------------------------------------------------\n"
          ]
        },
        {
          "output_type": "stream",
          "name": "stderr",
          "text": [
            "\n"
          ]
        },
        {
          "output_type": "stream",
          "name": "stdout",
          "text": [
            "2023-04-21 07:31:37,957 epoch 81 - iter 7/79 - loss 3.97874719 - time (sec): 1.52 - samples/sec: 5267.48 - lr: 0.000391\n",
            "2023-04-21 07:31:39,307 epoch 81 - iter 14/79 - loss 4.26658075 - time (sec): 2.87 - samples/sec: 5512.92 - lr: 0.000391\n",
            "2023-04-21 07:31:40,764 epoch 81 - iter 21/79 - loss 4.13874814 - time (sec): 4.32 - samples/sec: 5750.22 - lr: 0.000391\n",
            "2023-04-21 07:31:42,135 epoch 81 - iter 28/79 - loss 4.27201333 - time (sec): 5.70 - samples/sec: 5845.70 - lr: 0.000391\n",
            "2023-04-21 07:31:43,530 epoch 81 - iter 35/79 - loss 4.26503045 - time (sec): 7.09 - samples/sec: 5800.19 - lr: 0.000391\n",
            "2023-04-21 07:31:44,852 epoch 81 - iter 42/79 - loss 4.25005935 - time (sec): 8.41 - samples/sec: 5758.37 - lr: 0.000391\n",
            "2023-04-21 07:31:46,639 epoch 81 - iter 49/79 - loss 4.25716508 - time (sec): 10.20 - samples/sec: 5621.02 - lr: 0.000391\n",
            "2023-04-21 07:31:48,582 epoch 81 - iter 56/79 - loss 4.30640083 - time (sec): 12.14 - samples/sec: 5412.52 - lr: 0.000391\n",
            "2023-04-21 07:31:50,357 epoch 81 - iter 63/79 - loss 4.21821434 - time (sec): 13.92 - samples/sec: 5344.62 - lr: 0.000391\n",
            "2023-04-21 07:31:51,805 epoch 81 - iter 70/79 - loss 4.41526996 - time (sec): 15.37 - samples/sec: 5375.87 - lr: 0.000391\n",
            "2023-04-21 07:31:53,477 epoch 81 - iter 77/79 - loss 4.44021096 - time (sec): 17.04 - samples/sec: 5409.84 - lr: 0.000391\n",
            "2023-04-21 07:31:53,913 ----------------------------------------------------------------------------------------------------\n",
            "2023-04-21 07:31:53,914 EPOCH 81 done: loss 4.4105 - lr 0.000391\n"
          ]
        },
        {
          "output_type": "stream",
          "name": "stderr",
          "text": [
            "100%|██████████| 79/79 [00:20<00:00,  3.77it/s]"
          ]
        },
        {
          "output_type": "stream",
          "name": "stdout",
          "text": [
            "2023-04-21 07:32:15,013 Evaluating as a multi-label problem: True\n"
          ]
        },
        {
          "output_type": "stream",
          "name": "stderr",
          "text": [
            "\n"
          ]
        },
        {
          "output_type": "stream",
          "name": "stdout",
          "text": [
            "2023-04-21 07:32:16,881 TRAIN : loss 2.090440034866333 - f1-score (weighted avg)  0.7467\n"
          ]
        },
        {
          "output_type": "stream",
          "name": "stderr",
          "text": [
            "100%|██████████| 10/10 [00:02<00:00,  3.95it/s]"
          ]
        },
        {
          "output_type": "stream",
          "name": "stdout",
          "text": [
            "2023-04-21 07:32:19,489 Evaluating as a multi-label problem: False\n",
            "2023-04-21 07:32:19,555 DEV : loss 8.304388999938965 - f1-score (weighted avg)  0.6439\n",
            "2023-04-21 07:32:19,566 BAD EPOCHS (no improvement): 0\n",
            "2023-04-21 07:32:19,569 saving best model\n"
          ]
        },
        {
          "output_type": "stream",
          "name": "stderr",
          "text": [
            "\n"
          ]
        },
        {
          "output_type": "stream",
          "name": "stdout",
          "text": [
            "2023-04-21 07:32:21,376 ----------------------------------------------------------------------------------------------------\n",
            "2023-04-21 07:32:23,524 epoch 82 - iter 7/79 - loss 4.77113424 - time (sec): 2.15 - samples/sec: 4387.80 - lr: 0.000391\n",
            "2023-04-21 07:32:25,320 epoch 82 - iter 14/79 - loss 4.66395722 - time (sec): 3.94 - samples/sec: 4856.54 - lr: 0.000391\n",
            "2023-04-21 07:32:26,852 epoch 82 - iter 21/79 - loss 4.47156085 - time (sec): 5.47 - samples/sec: 4936.86 - lr: 0.000391\n",
            "2023-04-21 07:32:28,473 epoch 82 - iter 28/79 - loss 4.51698026 - time (sec): 7.09 - samples/sec: 5048.97 - lr: 0.000391\n",
            "2023-04-21 07:32:29,784 epoch 82 - iter 35/79 - loss 4.42884493 - time (sec): 8.41 - samples/sec: 5138.09 - lr: 0.000391\n",
            "2023-04-21 07:32:31,226 epoch 82 - iter 42/79 - loss 4.49176208 - time (sec): 9.85 - samples/sec: 5254.95 - lr: 0.000391\n",
            "2023-04-21 07:32:32,674 epoch 82 - iter 49/79 - loss 4.40009921 - time (sec): 11.30 - samples/sec: 5264.34 - lr: 0.000391\n",
            "2023-04-21 07:32:34,276 epoch 82 - iter 56/79 - loss 4.30254354 - time (sec): 12.90 - samples/sec: 5275.36 - lr: 0.000391\n",
            "2023-04-21 07:32:35,847 epoch 82 - iter 63/79 - loss 4.42291067 - time (sec): 14.47 - samples/sec: 5302.08 - lr: 0.000391\n",
            "2023-04-21 07:32:37,423 epoch 82 - iter 70/79 - loss 4.42770982 - time (sec): 16.05 - samples/sec: 5269.48 - lr: 0.000391\n",
            "2023-04-21 07:32:39,076 epoch 82 - iter 77/79 - loss 4.38275534 - time (sec): 17.70 - samples/sec: 5236.27 - lr: 0.000391\n",
            "2023-04-21 07:32:39,464 ----------------------------------------------------------------------------------------------------\n",
            "2023-04-21 07:32:39,466 EPOCH 82 done: loss 4.3754 - lr 0.000391\n"
          ]
        },
        {
          "output_type": "stream",
          "name": "stderr",
          "text": [
            "100%|██████████| 79/79 [00:19<00:00,  3.98it/s]"
          ]
        },
        {
          "output_type": "stream",
          "name": "stdout",
          "text": [
            "2023-04-21 07:32:59,440 Evaluating as a multi-label problem: True\n"
          ]
        },
        {
          "output_type": "stream",
          "name": "stderr",
          "text": [
            "\n"
          ]
        },
        {
          "output_type": "stream",
          "name": "stdout",
          "text": [
            "2023-04-21 07:33:02,558 TRAIN : loss 2.14402174949646 - f1-score (weighted avg)  0.7405\n"
          ]
        },
        {
          "output_type": "stream",
          "name": "stderr",
          "text": [
            "100%|██████████| 10/10 [00:02<00:00,  3.93it/s]"
          ]
        },
        {
          "output_type": "stream",
          "name": "stdout",
          "text": [
            "2023-04-21 07:33:05,182 Evaluating as a multi-label problem: False\n",
            "2023-04-21 07:33:05,250 DEV : loss 8.373311996459961 - f1-score (weighted avg)  0.644\n",
            "2023-04-21 07:33:05,259 BAD EPOCHS (no improvement): 1\n",
            "2023-04-21 07:33:05,263 ----------------------------------------------------------------------------------------------------\n"
          ]
        },
        {
          "output_type": "stream",
          "name": "stderr",
          "text": [
            "\n"
          ]
        },
        {
          "output_type": "stream",
          "name": "stdout",
          "text": [
            "2023-04-21 07:33:06,878 epoch 83 - iter 7/79 - loss 4.29011651 - time (sec): 1.61 - samples/sec: 5440.12 - lr: 0.000391\n",
            "2023-04-21 07:33:08,357 epoch 83 - iter 14/79 - loss 4.76323280 - time (sec): 3.09 - samples/sec: 5440.68 - lr: 0.000391\n",
            "2023-04-21 07:33:09,948 epoch 83 - iter 21/79 - loss 4.57889477 - time (sec): 4.68 - samples/sec: 5448.82 - lr: 0.000391\n",
            "2023-04-21 07:33:11,266 epoch 83 - iter 28/79 - loss 4.59732836 - time (sec): 6.00 - samples/sec: 5517.04 - lr: 0.000391\n",
            "2023-04-21 07:33:12,635 epoch 83 - iter 35/79 - loss 4.61401971 - time (sec): 7.37 - samples/sec: 5554.61 - lr: 0.000391\n",
            "2023-04-21 07:33:14,026 epoch 83 - iter 42/79 - loss 4.43272674 - time (sec): 8.76 - samples/sec: 5625.92 - lr: 0.000391\n",
            "2023-04-21 07:33:15,803 epoch 83 - iter 49/79 - loss 4.38588975 - time (sec): 10.54 - samples/sec: 5543.36 - lr: 0.000391\n",
            "2023-04-21 07:33:17,567 epoch 83 - iter 56/79 - loss 4.33675681 - time (sec): 12.30 - samples/sec: 5559.16 - lr: 0.000391\n",
            "2023-04-21 07:33:19,224 epoch 83 - iter 63/79 - loss 4.25290333 - time (sec): 13.96 - samples/sec: 5571.81 - lr: 0.000391\n",
            "2023-04-21 07:33:20,785 epoch 83 - iter 70/79 - loss 4.31993120 - time (sec): 15.52 - samples/sec: 5460.46 - lr: 0.000391\n",
            "2023-04-21 07:33:22,204 epoch 83 - iter 77/79 - loss 4.31393238 - time (sec): 16.94 - samples/sec: 5442.98 - lr: 0.000391\n",
            "2023-04-21 07:33:22,586 ----------------------------------------------------------------------------------------------------\n",
            "2023-04-21 07:33:22,588 EPOCH 83 done: loss 4.3887 - lr 0.000391\n"
          ]
        },
        {
          "output_type": "stream",
          "name": "stderr",
          "text": [
            "100%|██████████| 79/79 [00:19<00:00,  4.00it/s]"
          ]
        },
        {
          "output_type": "stream",
          "name": "stdout",
          "text": [
            "2023-04-21 07:33:42,463 Evaluating as a multi-label problem: True\n"
          ]
        },
        {
          "output_type": "stream",
          "name": "stderr",
          "text": [
            "\n"
          ]
        },
        {
          "output_type": "stream",
          "name": "stdout",
          "text": [
            "2023-04-21 07:33:44,328 TRAIN : loss 2.186221122741699 - f1-score (weighted avg)  0.7236\n"
          ]
        },
        {
          "output_type": "stream",
          "name": "stderr",
          "text": [
            "100%|██████████| 10/10 [00:02<00:00,  3.94it/s]"
          ]
        },
        {
          "output_type": "stream",
          "name": "stdout",
          "text": [
            "2023-04-21 07:33:46,953 Evaluating as a multi-label problem: False\n",
            "2023-04-21 07:33:47,024 DEV : loss 8.307299613952637 - f1-score (weighted avg)  0.6438\n",
            "2023-04-21 07:33:47,034 Epoch    83: reducing learning rate of group 0 to 1.9531e-04.\n",
            "2023-04-21 07:33:47,036 BAD EPOCHS (no improvement): 2\n",
            "2023-04-21 07:33:47,040 ----------------------------------------------------------------------------------------------------\n"
          ]
        },
        {
          "output_type": "stream",
          "name": "stderr",
          "text": [
            "\n"
          ]
        },
        {
          "output_type": "stream",
          "name": "stdout",
          "text": [
            "2023-04-21 07:33:48,477 epoch 84 - iter 7/79 - loss 5.31308843 - time (sec): 1.44 - samples/sec: 5178.25 - lr: 0.000195\n",
            "2023-04-21 07:33:50,093 epoch 84 - iter 14/79 - loss 4.18009683 - time (sec): 3.05 - samples/sec: 5229.01 - lr: 0.000195\n",
            "2023-04-21 07:33:51,635 epoch 84 - iter 21/79 - loss 4.18871967 - time (sec): 4.59 - samples/sec: 5158.91 - lr: 0.000195\n",
            "2023-04-21 07:33:53,269 epoch 84 - iter 28/79 - loss 4.32536652 - time (sec): 6.23 - samples/sec: 5216.17 - lr: 0.000195\n",
            "2023-04-21 07:33:54,630 epoch 84 - iter 35/79 - loss 4.35228563 - time (sec): 7.59 - samples/sec: 5426.59 - lr: 0.000195\n",
            "2023-04-21 07:33:56,451 epoch 84 - iter 42/79 - loss 4.22074165 - time (sec): 9.41 - samples/sec: 5290.86 - lr: 0.000195\n",
            "2023-04-21 07:33:57,886 epoch 84 - iter 49/79 - loss 4.22991022 - time (sec): 10.84 - samples/sec: 5367.63 - lr: 0.000195\n",
            "2023-04-21 07:33:59,667 epoch 84 - iter 56/79 - loss 4.41496957 - time (sec): 12.63 - samples/sec: 5339.51 - lr: 0.000195\n",
            "2023-04-21 07:34:01,218 epoch 84 - iter 63/79 - loss 4.36911431 - time (sec): 14.18 - samples/sec: 5335.26 - lr: 0.000195\n",
            "2023-04-21 07:34:02,715 epoch 84 - iter 70/79 - loss 4.28784794 - time (sec): 15.67 - samples/sec: 5299.25 - lr: 0.000195\n",
            "2023-04-21 07:34:04,180 epoch 84 - iter 77/79 - loss 4.23570919 - time (sec): 17.14 - samples/sec: 5340.18 - lr: 0.000195\n",
            "2023-04-21 07:34:04,827 ----------------------------------------------------------------------------------------------------\n",
            "2023-04-21 07:34:04,829 EPOCH 84 done: loss 4.2765 - lr 0.000195\n"
          ]
        },
        {
          "output_type": "stream",
          "name": "stderr",
          "text": [
            "100%|██████████| 79/79 [00:19<00:00,  4.03it/s]\n"
          ]
        },
        {
          "output_type": "stream",
          "name": "stdout",
          "text": [
            "2023-04-21 07:34:25,716 Evaluating as a multi-label problem: True\n",
            "2023-04-21 07:34:27,574 TRAIN : loss 1.9944074153900146 - f1-score (weighted avg)  0.7531\n"
          ]
        },
        {
          "output_type": "stream",
          "name": "stderr",
          "text": [
            "100%|██████████| 10/10 [00:02<00:00,  3.87it/s]"
          ]
        },
        {
          "output_type": "stream",
          "name": "stdout",
          "text": [
            "2023-04-21 07:34:30,239 Evaluating as a multi-label problem: False\n",
            "2023-04-21 07:34:30,311 DEV : loss 8.0824613571167 - f1-score (weighted avg)  0.6478\n",
            "2023-04-21 07:34:30,321 BAD EPOCHS (no improvement): 0\n",
            "2023-04-21 07:34:30,325 saving best model\n"
          ]
        },
        {
          "output_type": "stream",
          "name": "stderr",
          "text": [
            "\n"
          ]
        },
        {
          "output_type": "stream",
          "name": "stdout",
          "text": [
            "2023-04-21 07:34:32,162 ----------------------------------------------------------------------------------------------------\n",
            "2023-04-21 07:34:34,192 epoch 85 - iter 7/79 - loss 3.79172102 - time (sec): 2.03 - samples/sec: 4347.47 - lr: 0.000195\n",
            "2023-04-21 07:34:35,671 epoch 85 - iter 14/79 - loss 3.97107069 - time (sec): 3.51 - samples/sec: 4664.39 - lr: 0.000195\n",
            "2023-04-21 07:34:37,178 epoch 85 - iter 21/79 - loss 4.13356961 - time (sec): 5.01 - samples/sec: 5040.26 - lr: 0.000195\n",
            "2023-04-21 07:34:38,738 epoch 85 - iter 28/79 - loss 4.37643575 - time (sec): 6.57 - samples/sec: 5184.26 - lr: 0.000195\n",
            "2023-04-21 07:34:40,353 epoch 85 - iter 35/79 - loss 4.35356687 - time (sec): 8.19 - samples/sec: 5212.55 - lr: 0.000195\n",
            "2023-04-21 07:34:41,971 epoch 85 - iter 42/79 - loss 4.40878039 - time (sec): 9.81 - samples/sec: 5229.67 - lr: 0.000195\n",
            "2023-04-21 07:34:43,547 epoch 85 - iter 49/79 - loss 4.33914596 - time (sec): 11.38 - samples/sec: 5236.68 - lr: 0.000195\n",
            "2023-04-21 07:34:45,019 epoch 85 - iter 56/79 - loss 4.44542538 - time (sec): 12.86 - samples/sec: 5286.59 - lr: 0.000195\n",
            "2023-04-21 07:34:46,446 epoch 85 - iter 63/79 - loss 4.41142288 - time (sec): 14.28 - samples/sec: 5297.12 - lr: 0.000195\n",
            "2023-04-21 07:34:47,935 epoch 85 - iter 70/79 - loss 4.41648006 - time (sec): 15.77 - samples/sec: 5294.76 - lr: 0.000195\n",
            "2023-04-21 07:34:49,638 epoch 85 - iter 77/79 - loss 4.37381520 - time (sec): 17.47 - samples/sec: 5300.97 - lr: 0.000195\n",
            "2023-04-21 07:34:50,063 ----------------------------------------------------------------------------------------------------\n",
            "2023-04-21 07:34:50,064 EPOCH 85 done: loss 4.3591 - lr 0.000195\n"
          ]
        },
        {
          "output_type": "stream",
          "name": "stderr",
          "text": [
            "100%|██████████| 79/79 [00:19<00:00,  4.02it/s]"
          ]
        },
        {
          "output_type": "stream",
          "name": "stdout",
          "text": [
            "2023-04-21 07:35:09,833 Evaluating as a multi-label problem: True\n"
          ]
        },
        {
          "output_type": "stream",
          "name": "stderr",
          "text": [
            "\n"
          ]
        },
        {
          "output_type": "stream",
          "name": "stdout",
          "text": [
            "2023-04-21 07:35:13,032 TRAIN : loss 2.0581552982330322 - f1-score (weighted avg)  0.7414\n"
          ]
        },
        {
          "output_type": "stream",
          "name": "stderr",
          "text": [
            "100%|██████████| 10/10 [00:02<00:00,  3.89it/s]"
          ]
        },
        {
          "output_type": "stream",
          "name": "stdout",
          "text": [
            "2023-04-21 07:35:15,685 Evaluating as a multi-label problem: False\n",
            "2023-04-21 07:35:15,755 DEV : loss 8.160821914672852 - f1-score (weighted avg)  0.6513\n",
            "2023-04-21 07:35:15,766 BAD EPOCHS (no improvement): 1\n",
            "2023-04-21 07:35:15,770 ----------------------------------------------------------------------------------------------------\n"
          ]
        },
        {
          "output_type": "stream",
          "name": "stderr",
          "text": [
            "\n"
          ]
        },
        {
          "output_type": "stream",
          "name": "stdout",
          "text": [
            "2023-04-21 07:35:17,236 epoch 86 - iter 7/79 - loss 4.98925564 - time (sec): 1.46 - samples/sec: 5840.51 - lr: 0.000195\n",
            "2023-04-21 07:35:18,863 epoch 86 - iter 14/79 - loss 5.17868785 - time (sec): 3.09 - samples/sec: 5582.20 - lr: 0.000195\n",
            "2023-04-21 07:35:20,460 epoch 86 - iter 21/79 - loss 5.09082254 - time (sec): 4.69 - samples/sec: 5614.89 - lr: 0.000195\n",
            "2023-04-21 07:35:21,758 epoch 86 - iter 28/79 - loss 5.03905939 - time (sec): 5.99 - samples/sec: 5875.62 - lr: 0.000195\n",
            "2023-04-21 07:35:22,952 epoch 86 - iter 35/79 - loss 4.75961160 - time (sec): 7.18 - samples/sec: 5923.40 - lr: 0.000195\n",
            "2023-04-21 07:35:24,409 epoch 86 - iter 42/79 - loss 4.64203974 - time (sec): 8.64 - samples/sec: 5810.35 - lr: 0.000195\n",
            "2023-04-21 07:35:25,708 epoch 86 - iter 49/79 - loss 4.56820900 - time (sec): 9.94 - samples/sec: 5754.48 - lr: 0.000195\n",
            "2023-04-21 07:35:27,441 epoch 86 - iter 56/79 - loss 4.49975954 - time (sec): 11.67 - samples/sec: 5624.01 - lr: 0.000195\n",
            "2023-04-21 07:35:29,377 epoch 86 - iter 63/79 - loss 4.36869959 - time (sec): 13.61 - samples/sec: 5485.53 - lr: 0.000195\n",
            "2023-04-21 07:35:31,020 epoch 86 - iter 70/79 - loss 4.33668095 - time (sec): 15.25 - samples/sec: 5471.18 - lr: 0.000195\n",
            "2023-04-21 07:35:32,749 epoch 86 - iter 77/79 - loss 4.41642043 - time (sec): 16.98 - samples/sec: 5449.70 - lr: 0.000195\n",
            "2023-04-21 07:35:33,244 ----------------------------------------------------------------------------------------------------\n",
            "2023-04-21 07:35:33,246 EPOCH 86 done: loss 4.3989 - lr 0.000195\n"
          ]
        },
        {
          "output_type": "stream",
          "name": "stderr",
          "text": [
            "100%|██████████| 79/79 [00:19<00:00,  3.96it/s]"
          ]
        },
        {
          "output_type": "stream",
          "name": "stdout",
          "text": [
            "2023-04-21 07:35:53,344 Evaluating as a multi-label problem: True\n"
          ]
        },
        {
          "output_type": "stream",
          "name": "stderr",
          "text": [
            "\n"
          ]
        },
        {
          "output_type": "stream",
          "name": "stdout",
          "text": [
            "2023-04-21 07:35:55,227 TRAIN : loss 2.0013275146484375 - f1-score (weighted avg)  0.7465\n"
          ]
        },
        {
          "output_type": "stream",
          "name": "stderr",
          "text": [
            "100%|██████████| 10/10 [00:02<00:00,  3.79it/s]"
          ]
        },
        {
          "output_type": "stream",
          "name": "stdout",
          "text": [
            "2023-04-21 07:35:57,947 Evaluating as a multi-label problem: False\n",
            "2023-04-21 07:35:58,020 DEV : loss 8.071076393127441 - f1-score (weighted avg)  0.6521\n",
            "2023-04-21 07:35:58,030 BAD EPOCHS (no improvement): 0\n",
            "2023-04-21 07:35:58,035 saving best model\n"
          ]
        },
        {
          "output_type": "stream",
          "name": "stderr",
          "text": [
            "\n"
          ]
        },
        {
          "output_type": "stream",
          "name": "stdout",
          "text": [
            "2023-04-21 07:35:59,871 ----------------------------------------------------------------------------------------------------\n",
            "2023-04-21 07:36:01,241 epoch 87 - iter 7/79 - loss 4.54799379 - time (sec): 1.36 - samples/sec: 5755.66 - lr: 0.000195\n",
            "2023-04-21 07:36:02,906 epoch 87 - iter 14/79 - loss 4.01245030 - time (sec): 3.02 - samples/sec: 5577.95 - lr: 0.000195\n",
            "2023-04-21 07:36:04,567 epoch 87 - iter 21/79 - loss 4.30490810 - time (sec): 4.68 - samples/sec: 5363.20 - lr: 0.000195\n",
            "2023-04-21 07:36:06,699 epoch 87 - iter 28/79 - loss 4.18616602 - time (sec): 6.81 - samples/sec: 5067.66 - lr: 0.000195\n",
            "2023-04-21 07:36:08,284 epoch 87 - iter 35/79 - loss 4.14491207 - time (sec): 8.40 - samples/sec: 5040.11 - lr: 0.000195\n",
            "2023-04-21 07:36:09,754 epoch 87 - iter 42/79 - loss 4.16031891 - time (sec): 9.87 - samples/sec: 5141.85 - lr: 0.000195\n",
            "2023-04-21 07:36:11,282 epoch 87 - iter 49/79 - loss 4.09044796 - time (sec): 11.40 - samples/sec: 5191.43 - lr: 0.000195\n",
            "2023-04-21 07:36:12,853 epoch 87 - iter 56/79 - loss 4.10620824 - time (sec): 12.97 - samples/sec: 5262.62 - lr: 0.000195\n",
            "2023-04-21 07:36:14,649 epoch 87 - iter 63/79 - loss 4.20808303 - time (sec): 14.76 - samples/sec: 5158.28 - lr: 0.000195\n",
            "2023-04-21 07:36:16,485 epoch 87 - iter 70/79 - loss 4.17587545 - time (sec): 16.60 - samples/sec: 5118.82 - lr: 0.000195\n",
            "2023-04-21 07:36:17,842 epoch 87 - iter 77/79 - loss 4.16445366 - time (sec): 17.96 - samples/sec: 5186.30 - lr: 0.000195\n",
            "2023-04-21 07:36:18,161 ----------------------------------------------------------------------------------------------------\n",
            "2023-04-21 07:36:18,163 EPOCH 87 done: loss 4.2143 - lr 0.000195\n"
          ]
        },
        {
          "output_type": "stream",
          "name": "stderr",
          "text": [
            "100%|██████████| 79/79 [00:20<00:00,  3.94it/s]\n"
          ]
        },
        {
          "output_type": "stream",
          "name": "stdout",
          "text": [
            "2023-04-21 07:36:39,567 Evaluating as a multi-label problem: True\n",
            "2023-04-21 07:36:41,440 TRAIN : loss 1.9565473794937134 - f1-score (weighted avg)  0.7552\n"
          ]
        },
        {
          "output_type": "stream",
          "name": "stderr",
          "text": [
            "100%|██████████| 10/10 [00:02<00:00,  3.91it/s]"
          ]
        },
        {
          "output_type": "stream",
          "name": "stdout",
          "text": [
            "2023-04-21 07:36:44,077 Evaluating as a multi-label problem: False\n",
            "2023-04-21 07:36:44,147 DEV : loss 8.027148246765137 - f1-score (weighted avg)  0.663\n",
            "2023-04-21 07:36:44,156 BAD EPOCHS (no improvement): 0\n",
            "2023-04-21 07:36:44,160 saving best model\n"
          ]
        },
        {
          "output_type": "stream",
          "name": "stderr",
          "text": [
            "\n"
          ]
        },
        {
          "output_type": "stream",
          "name": "stdout",
          "text": [
            "2023-04-21 07:36:45,971 ----------------------------------------------------------------------------------------------------\n",
            "2023-04-21 07:36:47,222 epoch 88 - iter 7/79 - loss 3.78691568 - time (sec): 1.24 - samples/sec: 5549.31 - lr: 0.000195\n",
            "2023-04-21 07:36:48,721 epoch 88 - iter 14/79 - loss 4.02970603 - time (sec): 2.74 - samples/sec: 5763.21 - lr: 0.000195\n",
            "2023-04-21 07:36:50,248 epoch 88 - iter 21/79 - loss 3.76638935 - time (sec): 4.26 - samples/sec: 5639.66 - lr: 0.000195\n",
            "2023-04-21 07:36:52,055 epoch 88 - iter 28/79 - loss 3.88256756 - time (sec): 6.07 - samples/sec: 5480.26 - lr: 0.000195\n",
            "2023-04-21 07:36:53,660 epoch 88 - iter 35/79 - loss 3.84935879 - time (sec): 7.67 - samples/sec: 5570.38 - lr: 0.000195\n",
            "2023-04-21 07:36:55,432 epoch 88 - iter 42/79 - loss 3.85572893 - time (sec): 9.45 - samples/sec: 5354.12 - lr: 0.000195\n",
            "2023-04-21 07:36:56,945 epoch 88 - iter 49/79 - loss 3.88468656 - time (sec): 10.96 - samples/sec: 5380.36 - lr: 0.000195\n",
            "2023-04-21 07:36:58,363 epoch 88 - iter 56/79 - loss 3.90966974 - time (sec): 12.38 - samples/sec: 5419.51 - lr: 0.000195\n",
            "2023-04-21 07:36:59,798 epoch 88 - iter 63/79 - loss 3.93689665 - time (sec): 13.81 - samples/sec: 5489.39 - lr: 0.000195\n",
            "2023-04-21 07:37:01,118 epoch 88 - iter 70/79 - loss 4.10909973 - time (sec): 15.13 - samples/sec: 5510.10 - lr: 0.000195\n",
            "2023-04-21 07:37:02,688 epoch 88 - iter 77/79 - loss 4.17277767 - time (sec): 16.70 - samples/sec: 5553.64 - lr: 0.000195\n",
            "2023-04-21 07:37:02,985 ----------------------------------------------------------------------------------------------------\n",
            "2023-04-21 07:37:02,987 EPOCH 88 done: loss 4.1486 - lr 0.000195\n"
          ]
        },
        {
          "output_type": "stream",
          "name": "stderr",
          "text": [
            "100%|██████████| 79/79 [00:20<00:00,  3.95it/s]"
          ]
        },
        {
          "output_type": "stream",
          "name": "stdout",
          "text": [
            "2023-04-21 07:37:23,138 Evaluating as a multi-label problem: True\n"
          ]
        },
        {
          "output_type": "stream",
          "name": "stderr",
          "text": [
            "\n"
          ]
        },
        {
          "output_type": "stream",
          "name": "stdout",
          "text": [
            "2023-04-21 07:37:24,995 TRAIN : loss 1.902021884918213 - f1-score (weighted avg)  0.7601\n"
          ]
        },
        {
          "output_type": "stream",
          "name": "stderr",
          "text": [
            "100%|██████████| 10/10 [00:02<00:00,  3.94it/s]\n"
          ]
        },
        {
          "output_type": "stream",
          "name": "stdout",
          "text": [
            "2023-04-21 07:37:28,729 Evaluating as a multi-label problem: False\n",
            "2023-04-21 07:37:28,799 DEV : loss 7.9315900802612305 - f1-score (weighted avg)  0.6564\n",
            "2023-04-21 07:37:28,808 BAD EPOCHS (no improvement): 0\n",
            "2023-04-21 07:37:28,813 saving best model\n",
            "2023-04-21 07:37:30,610 ----------------------------------------------------------------------------------------------------\n",
            "2023-04-21 07:37:31,905 epoch 89 - iter 7/79 - loss 4.20976155 - time (sec): 1.29 - samples/sec: 5707.60 - lr: 0.000195\n",
            "2023-04-21 07:37:33,263 epoch 89 - iter 14/79 - loss 4.09838638 - time (sec): 2.65 - samples/sec: 5695.17 - lr: 0.000195\n",
            "2023-04-21 07:37:34,742 epoch 89 - iter 21/79 - loss 4.17266842 - time (sec): 4.13 - samples/sec: 5721.49 - lr: 0.000195\n",
            "2023-04-21 07:37:37,008 epoch 89 - iter 28/79 - loss 4.09174811 - time (sec): 6.40 - samples/sec: 5190.95 - lr: 0.000195\n",
            "2023-04-21 07:37:38,343 epoch 89 - iter 35/79 - loss 4.11188397 - time (sec): 7.73 - samples/sec: 5265.10 - lr: 0.000195\n",
            "2023-04-21 07:37:39,870 epoch 89 - iter 42/79 - loss 4.17246445 - time (sec): 9.26 - samples/sec: 5316.76 - lr: 0.000195\n",
            "2023-04-21 07:37:41,722 epoch 89 - iter 49/79 - loss 4.08417684 - time (sec): 11.11 - samples/sec: 5226.31 - lr: 0.000195\n",
            "2023-04-21 07:37:43,325 epoch 89 - iter 56/79 - loss 4.14843644 - time (sec): 12.71 - samples/sec: 5226.95 - lr: 0.000195\n",
            "2023-04-21 07:37:45,178 epoch 89 - iter 63/79 - loss 4.15291144 - time (sec): 14.57 - samples/sec: 5207.72 - lr: 0.000195\n",
            "2023-04-21 07:37:46,746 epoch 89 - iter 70/79 - loss 4.20874340 - time (sec): 16.13 - samples/sec: 5274.30 - lr: 0.000195\n",
            "2023-04-21 07:37:48,017 epoch 89 - iter 77/79 - loss 4.13629645 - time (sec): 17.40 - samples/sec: 5330.58 - lr: 0.000195\n",
            "2023-04-21 07:37:48,411 ----------------------------------------------------------------------------------------------------\n",
            "2023-04-21 07:37:48,413 EPOCH 89 done: loss 4.1589 - lr 0.000195\n"
          ]
        },
        {
          "output_type": "stream",
          "name": "stderr",
          "text": [
            "100%|██████████| 79/79 [00:19<00:00,  3.99it/s]"
          ]
        },
        {
          "output_type": "stream",
          "name": "stdout",
          "text": [
            "2023-04-21 07:38:08,368 Evaluating as a multi-label problem: True\n"
          ]
        },
        {
          "output_type": "stream",
          "name": "stderr",
          "text": [
            "\n"
          ]
        },
        {
          "output_type": "stream",
          "name": "stdout",
          "text": [
            "2023-04-21 07:38:10,258 TRAIN : loss 1.9098691940307617 - f1-score (weighted avg)  0.7586\n"
          ]
        },
        {
          "output_type": "stream",
          "name": "stderr",
          "text": [
            "100%|██████████| 10/10 [00:02<00:00,  3.96it/s]"
          ]
        },
        {
          "output_type": "stream",
          "name": "stdout",
          "text": [
            "2023-04-21 07:38:12,864 Evaluating as a multi-label problem: False\n",
            "2023-04-21 07:38:12,935 DEV : loss 7.894339561462402 - f1-score (weighted avg)  0.65\n",
            "2023-04-21 07:38:12,945 BAD EPOCHS (no improvement): 0\n",
            "2023-04-21 07:38:12,949 saving best model\n"
          ]
        },
        {
          "output_type": "stream",
          "name": "stderr",
          "text": [
            "\n"
          ]
        },
        {
          "output_type": "stream",
          "name": "stdout",
          "text": [
            "2023-04-21 07:38:14,776 ----------------------------------------------------------------------------------------------------\n",
            "2023-04-21 07:38:16,620 epoch 90 - iter 7/79 - loss 4.05602780 - time (sec): 1.84 - samples/sec: 4644.35 - lr: 0.000195\n",
            "2023-04-21 07:38:18,260 epoch 90 - iter 14/79 - loss 4.37073041 - time (sec): 3.48 - samples/sec: 4761.65 - lr: 0.000195\n",
            "2023-04-21 07:38:20,226 epoch 90 - iter 21/79 - loss 4.49877405 - time (sec): 5.45 - samples/sec: 4684.45 - lr: 0.000195\n",
            "2023-04-21 07:38:21,576 epoch 90 - iter 28/79 - loss 4.57206858 - time (sec): 6.80 - samples/sec: 4918.36 - lr: 0.000195\n",
            "2023-04-21 07:38:22,990 epoch 90 - iter 35/79 - loss 4.56591381 - time (sec): 8.21 - samples/sec: 5031.21 - lr: 0.000195\n",
            "2023-04-21 07:38:24,707 epoch 90 - iter 42/79 - loss 4.53130913 - time (sec): 9.93 - samples/sec: 5109.83 - lr: 0.000195\n",
            "2023-04-21 07:38:26,038 epoch 90 - iter 49/79 - loss 4.48590520 - time (sec): 11.26 - samples/sec: 5228.46 - lr: 0.000195\n",
            "2023-04-21 07:38:27,604 epoch 90 - iter 56/79 - loss 4.39468504 - time (sec): 12.83 - samples/sec: 5206.55 - lr: 0.000195\n",
            "2023-04-21 07:38:29,198 epoch 90 - iter 63/79 - loss 4.34136888 - time (sec): 14.42 - samples/sec: 5259.15 - lr: 0.000195\n",
            "2023-04-21 07:38:30,769 epoch 90 - iter 70/79 - loss 4.35648730 - time (sec): 15.99 - samples/sec: 5259.31 - lr: 0.000195\n",
            "2023-04-21 07:38:32,458 epoch 90 - iter 77/79 - loss 4.34367998 - time (sec): 17.68 - samples/sec: 5225.62 - lr: 0.000195\n",
            "2023-04-21 07:38:32,867 ----------------------------------------------------------------------------------------------------\n",
            "2023-04-21 07:38:32,869 EPOCH 90 done: loss 4.3341 - lr 0.000195\n"
          ]
        },
        {
          "output_type": "stream",
          "name": "stderr",
          "text": [
            "100%|██████████| 79/79 [00:19<00:00,  3.98it/s]\n"
          ]
        },
        {
          "output_type": "stream",
          "name": "stdout",
          "text": [
            "2023-04-21 07:38:54,036 Evaluating as a multi-label problem: True\n",
            "2023-04-21 07:38:55,911 TRAIN : loss 2.0122487545013428 - f1-score (weighted avg)  0.7472\n"
          ]
        },
        {
          "output_type": "stream",
          "name": "stderr",
          "text": [
            "100%|██████████| 10/10 [00:02<00:00,  3.90it/s]"
          ]
        },
        {
          "output_type": "stream",
          "name": "stdout",
          "text": [
            "2023-04-21 07:38:58,557 Evaluating as a multi-label problem: False\n",
            "2023-04-21 07:38:58,624 DEV : loss 7.956908226013184 - f1-score (weighted avg)  0.6437\n",
            "2023-04-21 07:38:58,634 BAD EPOCHS (no improvement): 1\n",
            "2023-04-21 07:38:58,638 ----------------------------------------------------------------------------------------------------\n"
          ]
        },
        {
          "output_type": "stream",
          "name": "stderr",
          "text": [
            "\n"
          ]
        },
        {
          "output_type": "stream",
          "name": "stdout",
          "text": [
            "2023-04-21 07:39:00,000 epoch 91 - iter 7/79 - loss 6.11479291 - time (sec): 1.36 - samples/sec: 5922.11 - lr: 0.000195\n",
            "2023-04-21 07:39:01,260 epoch 91 - iter 14/79 - loss 4.72268646 - time (sec): 2.62 - samples/sec: 6119.75 - lr: 0.000195\n",
            "2023-04-21 07:39:02,931 epoch 91 - iter 21/79 - loss 4.37305691 - time (sec): 4.29 - samples/sec: 5899.00 - lr: 0.000195\n",
            "2023-04-21 07:39:04,590 epoch 91 - iter 28/79 - loss 4.28730514 - time (sec): 5.95 - samples/sec: 5670.70 - lr: 0.000195\n",
            "2023-04-21 07:39:05,956 epoch 91 - iter 35/79 - loss 4.30135487 - time (sec): 7.32 - samples/sec: 5736.54 - lr: 0.000195\n",
            "2023-04-21 07:39:07,478 epoch 91 - iter 42/79 - loss 4.16360418 - time (sec): 8.84 - samples/sec: 5716.29 - lr: 0.000195\n",
            "2023-04-21 07:39:09,339 epoch 91 - iter 49/79 - loss 4.27325400 - time (sec): 10.70 - samples/sec: 5527.22 - lr: 0.000195\n",
            "2023-04-21 07:39:10,736 epoch 91 - iter 56/79 - loss 4.37767852 - time (sec): 12.10 - samples/sec: 5550.60 - lr: 0.000195\n",
            "2023-04-21 07:39:12,251 epoch 91 - iter 63/79 - loss 4.30245892 - time (sec): 13.61 - samples/sec: 5527.98 - lr: 0.000195\n",
            "2023-04-21 07:39:14,206 epoch 91 - iter 70/79 - loss 4.35425419 - time (sec): 15.57 - samples/sec: 5390.25 - lr: 0.000195\n",
            "2023-04-21 07:39:15,557 epoch 91 - iter 77/79 - loss 4.33221335 - time (sec): 16.92 - samples/sec: 5458.79 - lr: 0.000195\n",
            "2023-04-21 07:39:16,020 ----------------------------------------------------------------------------------------------------\n",
            "2023-04-21 07:39:16,022 EPOCH 91 done: loss 4.3379 - lr 0.000195\n"
          ]
        },
        {
          "output_type": "stream",
          "name": "stderr",
          "text": [
            "100%|██████████| 79/79 [00:19<00:00,  3.99it/s]"
          ]
        },
        {
          "output_type": "stream",
          "name": "stdout",
          "text": [
            "2023-04-21 07:39:35,977 Evaluating as a multi-label problem: True\n"
          ]
        },
        {
          "output_type": "stream",
          "name": "stderr",
          "text": [
            "\n"
          ]
        },
        {
          "output_type": "stream",
          "name": "stdout",
          "text": [
            "2023-04-21 07:39:39,126 TRAIN : loss 1.8849681615829468 - f1-score (weighted avg)  0.7622\n"
          ]
        },
        {
          "output_type": "stream",
          "name": "stderr",
          "text": [
            "100%|██████████| 10/10 [00:02<00:00,  3.82it/s]"
          ]
        },
        {
          "output_type": "stream",
          "name": "stdout",
          "text": [
            "2023-04-21 07:39:41,823 Evaluating as a multi-label problem: False\n",
            "2023-04-21 07:39:41,894 DEV : loss 7.817353248596191 - f1-score (weighted avg)  0.6548\n",
            "2023-04-21 07:39:41,904 BAD EPOCHS (no improvement): 0\n",
            "2023-04-21 07:39:41,908 saving best model\n"
          ]
        },
        {
          "output_type": "stream",
          "name": "stderr",
          "text": [
            "\n"
          ]
        },
        {
          "output_type": "stream",
          "name": "stdout",
          "text": [
            "2023-04-21 07:39:43,732 ----------------------------------------------------------------------------------------------------\n",
            "2023-04-21 07:39:45,702 epoch 92 - iter 7/79 - loss 4.49093589 - time (sec): 1.97 - samples/sec: 4352.77 - lr: 0.000195\n",
            "2023-04-21 07:39:47,082 epoch 92 - iter 14/79 - loss 4.04330362 - time (sec): 3.35 - samples/sec: 5094.90 - lr: 0.000195\n",
            "2023-04-21 07:39:48,598 epoch 92 - iter 21/79 - loss 4.28614526 - time (sec): 4.86 - samples/sec: 5209.01 - lr: 0.000195\n",
            "2023-04-21 07:39:50,152 epoch 92 - iter 28/79 - loss 4.25970601 - time (sec): 6.42 - samples/sec: 5364.89 - lr: 0.000195\n",
            "2023-04-21 07:39:51,656 epoch 92 - iter 35/79 - loss 4.19373188 - time (sec): 7.92 - samples/sec: 5398.28 - lr: 0.000195\n",
            "2023-04-21 07:39:53,009 epoch 92 - iter 42/79 - loss 4.07537293 - time (sec): 9.27 - samples/sec: 5478.62 - lr: 0.000195\n",
            "2023-04-21 07:39:54,696 epoch 92 - iter 49/79 - loss 4.13523650 - time (sec): 10.96 - samples/sec: 5437.92 - lr: 0.000195\n",
            "2023-04-21 07:39:56,283 epoch 92 - iter 56/79 - loss 4.15371607 - time (sec): 12.55 - samples/sec: 5404.15 - lr: 0.000195\n",
            "2023-04-21 07:39:57,943 epoch 92 - iter 63/79 - loss 4.19213114 - time (sec): 14.21 - samples/sec: 5302.95 - lr: 0.000195\n",
            "2023-04-21 07:39:59,511 epoch 92 - iter 70/79 - loss 4.10729805 - time (sec): 15.78 - samples/sec: 5295.07 - lr: 0.000195\n",
            "2023-04-21 07:40:01,086 epoch 92 - iter 77/79 - loss 4.15391704 - time (sec): 17.35 - samples/sec: 5315.84 - lr: 0.000195\n",
            "2023-04-21 07:40:01,526 ----------------------------------------------------------------------------------------------------\n",
            "2023-04-21 07:40:01,528 EPOCH 92 done: loss 4.1466 - lr 0.000195\n"
          ]
        },
        {
          "output_type": "stream",
          "name": "stderr",
          "text": [
            "100%|██████████| 79/79 [00:19<00:00,  3.96it/s]"
          ]
        },
        {
          "output_type": "stream",
          "name": "stdout",
          "text": [
            "2023-04-21 07:40:21,600 Evaluating as a multi-label problem: True\n"
          ]
        },
        {
          "output_type": "stream",
          "name": "stderr",
          "text": [
            "\n"
          ]
        },
        {
          "output_type": "stream",
          "name": "stdout",
          "text": [
            "2023-04-21 07:40:23,494 TRAIN : loss 1.8953419923782349 - f1-score (weighted avg)  0.7512\n"
          ]
        },
        {
          "output_type": "stream",
          "name": "stderr",
          "text": [
            "100%|██████████| 10/10 [00:02<00:00,  3.91it/s]"
          ]
        },
        {
          "output_type": "stream",
          "name": "stdout",
          "text": [
            "2023-04-21 07:40:26,133 Evaluating as a multi-label problem: False\n",
            "2023-04-21 07:40:26,203 DEV : loss 7.844677448272705 - f1-score (weighted avg)  0.6519\n",
            "2023-04-21 07:40:26,213 BAD EPOCHS (no improvement): 1\n",
            "2023-04-21 07:40:26,225 ----------------------------------------------------------------------------------------------------\n"
          ]
        },
        {
          "output_type": "stream",
          "name": "stderr",
          "text": [
            "\n"
          ]
        },
        {
          "output_type": "stream",
          "name": "stdout",
          "text": [
            "2023-04-21 07:40:27,732 epoch 93 - iter 7/79 - loss 3.42423619 - time (sec): 1.50 - samples/sec: 5448.46 - lr: 0.000195\n",
            "2023-04-21 07:40:29,619 epoch 93 - iter 14/79 - loss 3.63349062 - time (sec): 3.39 - samples/sec: 5138.89 - lr: 0.000195\n",
            "2023-04-21 07:40:31,162 epoch 93 - iter 21/79 - loss 3.70927816 - time (sec): 4.94 - samples/sec: 5191.54 - lr: 0.000195\n",
            "2023-04-21 07:40:32,633 epoch 93 - iter 28/79 - loss 3.95879663 - time (sec): 6.41 - samples/sec: 5356.19 - lr: 0.000195\n",
            "2023-04-21 07:40:34,273 epoch 93 - iter 35/79 - loss 3.88555790 - time (sec): 8.05 - samples/sec: 5545.72 - lr: 0.000195\n",
            "2023-04-21 07:40:35,616 epoch 93 - iter 42/79 - loss 3.80596975 - time (sec): 9.39 - samples/sec: 5539.12 - lr: 0.000195\n",
            "2023-04-21 07:40:37,273 epoch 93 - iter 49/79 - loss 3.97341175 - time (sec): 11.05 - samples/sec: 5395.31 - lr: 0.000195\n",
            "2023-04-21 07:40:38,614 epoch 93 - iter 56/79 - loss 4.01643890 - time (sec): 12.39 - samples/sec: 5422.85 - lr: 0.000195\n",
            "2023-04-21 07:40:40,283 epoch 93 - iter 63/79 - loss 4.01470918 - time (sec): 14.06 - samples/sec: 5358.83 - lr: 0.000195\n",
            "2023-04-21 07:40:41,856 epoch 93 - iter 70/79 - loss 4.05418800 - time (sec): 15.63 - samples/sec: 5367.10 - lr: 0.000195\n",
            "2023-04-21 07:40:43,294 epoch 93 - iter 77/79 - loss 4.03395587 - time (sec): 17.07 - samples/sec: 5410.10 - lr: 0.000195\n",
            "2023-04-21 07:40:43,797 ----------------------------------------------------------------------------------------------------\n",
            "2023-04-21 07:40:43,798 EPOCH 93 done: loss 4.0680 - lr 0.000195\n"
          ]
        },
        {
          "output_type": "stream",
          "name": "stderr",
          "text": [
            "100%|██████████| 79/79 [00:19<00:00,  4.02it/s]\n"
          ]
        },
        {
          "output_type": "stream",
          "name": "stdout",
          "text": [
            "2023-04-21 07:41:04,758 Evaluating as a multi-label problem: True\n",
            "2023-04-21 07:41:06,622 TRAIN : loss 1.905566692352295 - f1-score (weighted avg)  0.7534\n"
          ]
        },
        {
          "output_type": "stream",
          "name": "stderr",
          "text": [
            "100%|██████████| 10/10 [00:02<00:00,  3.90it/s]"
          ]
        },
        {
          "output_type": "stream",
          "name": "stdout",
          "text": [
            "2023-04-21 07:41:09,266 Evaluating as a multi-label problem: False\n",
            "2023-04-21 07:41:09,337 DEV : loss 7.835518836975098 - f1-score (weighted avg)  0.6517\n",
            "2023-04-21 07:41:09,346 Epoch    93: reducing learning rate of group 0 to 9.7656e-05.\n",
            "2023-04-21 07:41:09,348 BAD EPOCHS (no improvement): 2\n",
            "2023-04-21 07:41:09,352 ----------------------------------------------------------------------------------------------------\n"
          ]
        },
        {
          "output_type": "stream",
          "name": "stderr",
          "text": [
            "\n"
          ]
        },
        {
          "output_type": "stream",
          "name": "stdout",
          "text": [
            "2023-04-21 07:41:10,806 epoch 94 - iter 7/79 - loss 4.03113383 - time (sec): 1.45 - samples/sec: 5554.65 - lr: 0.000098\n",
            "2023-04-21 07:41:12,291 epoch 94 - iter 14/79 - loss 4.22053232 - time (sec): 2.94 - samples/sec: 5550.24 - lr: 0.000098\n",
            "2023-04-21 07:41:13,984 epoch 94 - iter 21/79 - loss 4.33758714 - time (sec): 4.63 - samples/sec: 5359.53 - lr: 0.000098\n",
            "2023-04-21 07:41:15,256 epoch 94 - iter 28/79 - loss 4.26429697 - time (sec): 5.90 - samples/sec: 5509.19 - lr: 0.000098\n",
            "2023-04-21 07:41:16,834 epoch 94 - iter 35/79 - loss 3.90148386 - time (sec): 7.48 - samples/sec: 5630.48 - lr: 0.000098\n",
            "2023-04-21 07:41:18,188 epoch 94 - iter 42/79 - loss 3.85654924 - time (sec): 8.83 - samples/sec: 5711.77 - lr: 0.000098\n",
            "2023-04-21 07:41:19,990 epoch 94 - iter 49/79 - loss 3.90017429 - time (sec): 10.64 - samples/sec: 5505.25 - lr: 0.000098\n",
            "2023-04-21 07:41:21,758 epoch 94 - iter 56/79 - loss 3.93352553 - time (sec): 12.40 - samples/sec: 5438.01 - lr: 0.000098\n",
            "2023-04-21 07:41:23,282 epoch 94 - iter 63/79 - loss 3.93442943 - time (sec): 13.93 - samples/sec: 5452.92 - lr: 0.000098\n",
            "2023-04-21 07:41:24,923 epoch 94 - iter 70/79 - loss 3.94345762 - time (sec): 15.57 - samples/sec: 5414.86 - lr: 0.000098\n",
            "2023-04-21 07:41:26,384 epoch 94 - iter 77/79 - loss 3.93862101 - time (sec): 17.03 - samples/sec: 5413.12 - lr: 0.000098\n",
            "2023-04-21 07:41:26,834 ----------------------------------------------------------------------------------------------------\n",
            "2023-04-21 07:41:26,835 EPOCH 94 done: loss 4.0078 - lr 0.000098\n"
          ]
        },
        {
          "output_type": "stream",
          "name": "stderr",
          "text": [
            "100%|██████████| 79/79 [00:19<00:00,  3.98it/s]"
          ]
        },
        {
          "output_type": "stream",
          "name": "stdout",
          "text": [
            "2023-04-21 07:41:46,829 Evaluating as a multi-label problem: True\n"
          ]
        },
        {
          "output_type": "stream",
          "name": "stderr",
          "text": [
            "\n"
          ]
        },
        {
          "output_type": "stream",
          "name": "stdout",
          "text": [
            "2023-04-21 07:41:49,969 TRAIN : loss 1.880246877670288 - f1-score (weighted avg)  0.7579\n"
          ]
        },
        {
          "output_type": "stream",
          "name": "stderr",
          "text": [
            "100%|██████████| 10/10 [00:02<00:00,  3.94it/s]"
          ]
        },
        {
          "output_type": "stream",
          "name": "stdout",
          "text": [
            "2023-04-21 07:41:52,588 Evaluating as a multi-label problem: False\n",
            "2023-04-21 07:41:52,656 DEV : loss 7.781159400939941 - f1-score (weighted avg)  0.6514\n",
            "2023-04-21 07:41:52,665 BAD EPOCHS (no improvement): 0\n",
            "2023-04-21 07:41:52,669 saving best model\n"
          ]
        },
        {
          "output_type": "stream",
          "name": "stderr",
          "text": [
            "\n"
          ]
        },
        {
          "output_type": "stream",
          "name": "stdout",
          "text": [
            "2023-04-21 07:41:54,468 ----------------------------------------------------------------------------------------------------\n",
            "2023-04-21 07:41:55,878 epoch 95 - iter 7/79 - loss 3.63412132 - time (sec): 1.41 - samples/sec: 5496.77 - lr: 0.000098\n",
            "2023-04-21 07:41:57,201 epoch 95 - iter 14/79 - loss 3.85691527 - time (sec): 2.73 - samples/sec: 5961.75 - lr: 0.000098\n",
            "2023-04-21 07:41:58,817 epoch 95 - iter 21/79 - loss 3.51531298 - time (sec): 4.35 - samples/sec: 5644.71 - lr: 0.000098\n",
            "2023-04-21 07:42:00,487 epoch 95 - iter 28/79 - loss 3.65016603 - time (sec): 6.02 - samples/sec: 5405.88 - lr: 0.000098\n",
            "2023-04-21 07:42:02,394 epoch 95 - iter 35/79 - loss 3.59294506 - time (sec): 7.92 - samples/sec: 5198.71 - lr: 0.000098\n",
            "2023-04-21 07:42:03,985 epoch 95 - iter 42/79 - loss 3.72353169 - time (sec): 9.51 - samples/sec: 5247.90 - lr: 0.000098\n",
            "2023-04-21 07:42:05,441 epoch 95 - iter 49/79 - loss 3.95664087 - time (sec): 10.97 - samples/sec: 5279.12 - lr: 0.000098\n",
            "2023-04-21 07:42:07,145 epoch 95 - iter 56/79 - loss 3.92771009 - time (sec): 12.67 - samples/sec: 5272.65 - lr: 0.000098\n",
            "2023-04-21 07:42:08,502 epoch 95 - iter 63/79 - loss 3.95041683 - time (sec): 14.03 - samples/sec: 5321.43 - lr: 0.000098\n",
            "2023-04-21 07:42:10,268 epoch 95 - iter 70/79 - loss 3.88218706 - time (sec): 15.80 - samples/sec: 5315.99 - lr: 0.000098\n",
            "2023-04-21 07:42:11,674 epoch 95 - iter 77/79 - loss 3.94094709 - time (sec): 17.20 - samples/sec: 5380.12 - lr: 0.000098\n",
            "2023-04-21 07:42:12,084 ----------------------------------------------------------------------------------------------------\n",
            "2023-04-21 07:42:12,085 EPOCH 95 done: loss 3.9266 - lr 0.000098\n"
          ]
        },
        {
          "output_type": "stream",
          "name": "stderr",
          "text": [
            "100%|██████████| 79/79 [00:19<00:00,  3.98it/s]"
          ]
        },
        {
          "output_type": "stream",
          "name": "stdout",
          "text": [
            "2023-04-21 07:42:32,055 Evaluating as a multi-label problem: True\n"
          ]
        },
        {
          "output_type": "stream",
          "name": "stderr",
          "text": [
            "\n"
          ]
        },
        {
          "output_type": "stream",
          "name": "stdout",
          "text": [
            "2023-04-21 07:42:33,906 TRAIN : loss 1.8864954710006714 - f1-score (weighted avg)  0.7585\n"
          ]
        },
        {
          "output_type": "stream",
          "name": "stderr",
          "text": [
            "100%|██████████| 10/10 [00:02<00:00,  3.98it/s]"
          ]
        },
        {
          "output_type": "stream",
          "name": "stdout",
          "text": [
            "2023-04-21 07:42:36,499 Evaluating as a multi-label problem: False\n",
            "2023-04-21 07:42:36,567 DEV : loss 7.79839563369751 - f1-score (weighted avg)  0.6498\n",
            "2023-04-21 07:42:36,587 BAD EPOCHS (no improvement): 1\n",
            "2023-04-21 07:42:36,592 ----------------------------------------------------------------------------------------------------\n"
          ]
        },
        {
          "output_type": "stream",
          "name": "stderr",
          "text": [
            "\n"
          ]
        },
        {
          "output_type": "stream",
          "name": "stdout",
          "text": [
            "2023-04-21 07:42:37,946 epoch 96 - iter 7/79 - loss 3.83126969 - time (sec): 1.35 - samples/sec: 5395.40 - lr: 0.000098\n",
            "2023-04-21 07:42:39,775 epoch 96 - iter 14/79 - loss 4.53765106 - time (sec): 3.18 - samples/sec: 5123.84 - lr: 0.000098\n",
            "2023-04-21 07:42:41,280 epoch 96 - iter 21/79 - loss 4.17508936 - time (sec): 4.69 - samples/sec: 5342.91 - lr: 0.000098\n",
            "2023-04-21 07:42:42,587 epoch 96 - iter 28/79 - loss 4.06201706 - time (sec): 5.99 - samples/sec: 5506.27 - lr: 0.000098\n",
            "2023-04-21 07:42:44,550 epoch 96 - iter 35/79 - loss 3.94465916 - time (sec): 7.96 - samples/sec: 5369.67 - lr: 0.000098\n",
            "2023-04-21 07:42:45,985 epoch 96 - iter 42/79 - loss 4.07393189 - time (sec): 9.39 - samples/sec: 5478.11 - lr: 0.000098\n",
            "2023-04-21 07:42:47,418 epoch 96 - iter 49/79 - loss 4.11306351 - time (sec): 10.82 - samples/sec: 5537.30 - lr: 0.000098\n",
            "2023-04-21 07:42:48,695 epoch 96 - iter 56/79 - loss 4.21573438 - time (sec): 12.10 - samples/sec: 5519.94 - lr: 0.000098\n",
            "2023-04-21 07:42:50,190 epoch 96 - iter 63/79 - loss 4.21796409 - time (sec): 13.60 - samples/sec: 5506.59 - lr: 0.000098\n",
            "2023-04-21 07:42:51,644 epoch 96 - iter 70/79 - loss 4.15097056 - time (sec): 15.05 - samples/sec: 5494.54 - lr: 0.000098\n",
            "2023-04-21 07:42:53,245 epoch 96 - iter 77/79 - loss 4.12230029 - time (sec): 16.65 - samples/sec: 5500.07 - lr: 0.000098\n",
            "2023-04-21 07:42:54,194 ----------------------------------------------------------------------------------------------------\n",
            "2023-04-21 07:42:54,197 EPOCH 96 done: loss 4.0866 - lr 0.000098\n"
          ]
        },
        {
          "output_type": "stream",
          "name": "stderr",
          "text": [
            "100%|██████████| 79/79 [00:19<00:00,  4.02it/s]\n"
          ]
        },
        {
          "output_type": "stream",
          "name": "stdout",
          "text": [
            "2023-04-21 07:43:15,185 Evaluating as a multi-label problem: True\n",
            "2023-04-21 07:43:17,046 TRAIN : loss 1.9057164192199707 - f1-score (weighted avg)  0.7557\n"
          ]
        },
        {
          "output_type": "stream",
          "name": "stderr",
          "text": [
            "100%|██████████| 10/10 [00:02<00:00,  3.96it/s]"
          ]
        },
        {
          "output_type": "stream",
          "name": "stdout",
          "text": [
            "2023-04-21 07:43:19,649 Evaluating as a multi-label problem: False\n",
            "2023-04-21 07:43:19,717 DEV : loss 7.831355094909668 - f1-score (weighted avg)  0.6543\n",
            "2023-04-21 07:43:19,727 Epoch    96: reducing learning rate of group 0 to 4.8828e-05.\n",
            "2023-04-21 07:43:19,729 BAD EPOCHS (no improvement): 2\n",
            "2023-04-21 07:43:19,732 ----------------------------------------------------------------------------------------------------\n"
          ]
        },
        {
          "output_type": "stream",
          "name": "stderr",
          "text": [
            "\n"
          ]
        },
        {
          "output_type": "stream",
          "name": "stdout",
          "text": [
            "2023-04-21 07:43:21,053 epoch 97 - iter 7/79 - loss 4.30438963 - time (sec): 1.32 - samples/sec: 5764.03 - lr: 0.000049\n",
            "2023-04-21 07:43:22,918 epoch 97 - iter 14/79 - loss 4.08299394 - time (sec): 3.18 - samples/sec: 5128.57 - lr: 0.000049\n",
            "2023-04-21 07:43:24,357 epoch 97 - iter 21/79 - loss 4.46213871 - time (sec): 4.62 - samples/sec: 5433.30 - lr: 0.000049\n",
            "2023-04-21 07:43:25,949 epoch 97 - iter 28/79 - loss 4.35890470 - time (sec): 6.22 - samples/sec: 5302.56 - lr: 0.000049\n",
            "2023-04-21 07:43:27,887 epoch 97 - iter 35/79 - loss 4.19375894 - time (sec): 8.15 - samples/sec: 5230.32 - lr: 0.000049\n",
            "2023-04-21 07:43:29,350 epoch 97 - iter 42/79 - loss 4.08176052 - time (sec): 9.62 - samples/sec: 5302.76 - lr: 0.000049\n",
            "2023-04-21 07:43:30,689 epoch 97 - iter 49/79 - loss 4.18370703 - time (sec): 10.96 - samples/sec: 5347.85 - lr: 0.000049\n",
            "2023-04-21 07:43:32,154 epoch 97 - iter 56/79 - loss 4.10524939 - time (sec): 12.42 - samples/sec: 5471.11 - lr: 0.000049\n",
            "2023-04-21 07:43:33,794 epoch 97 - iter 63/79 - loss 4.10267630 - time (sec): 14.06 - samples/sec: 5446.88 - lr: 0.000049\n",
            "2023-04-21 07:43:35,192 epoch 97 - iter 70/79 - loss 4.09606434 - time (sec): 15.46 - samples/sec: 5474.18 - lr: 0.000049\n",
            "2023-04-21 07:43:36,463 epoch 97 - iter 77/79 - loss 4.09745543 - time (sec): 16.73 - samples/sec: 5500.86 - lr: 0.000049\n",
            "2023-04-21 07:43:37,097 ----------------------------------------------------------------------------------------------------\n",
            "2023-04-21 07:43:37,099 EPOCH 97 done: loss 4.1176 - lr 0.000049\n"
          ]
        },
        {
          "output_type": "stream",
          "name": "stderr",
          "text": [
            "100%|██████████| 79/79 [00:19<00:00,  3.99it/s]"
          ]
        },
        {
          "output_type": "stream",
          "name": "stdout",
          "text": [
            "2023-04-21 07:43:57,038 Evaluating as a multi-label problem: True\n"
          ]
        },
        {
          "output_type": "stream",
          "name": "stderr",
          "text": [
            "\n"
          ]
        },
        {
          "output_type": "stream",
          "name": "stdout",
          "text": [
            "2023-04-21 07:43:58,910 TRAIN : loss 1.9362812042236328 - f1-score (weighted avg)  0.7439\n"
          ]
        },
        {
          "output_type": "stream",
          "name": "stderr",
          "text": [
            "100%|██████████| 10/10 [00:03<00:00,  2.76it/s]"
          ]
        },
        {
          "output_type": "stream",
          "name": "stdout",
          "text": [
            "2023-04-21 07:44:02,613 Evaluating as a multi-label problem: False\n",
            "2023-04-21 07:44:02,682 DEV : loss 7.853160381317139 - f1-score (weighted avg)  0.6463\n",
            "2023-04-21 07:44:02,691 BAD EPOCHS (no improvement): 1\n",
            "2023-04-21 07:44:02,694 ----------------------------------------------------------------------------------------------------\n"
          ]
        },
        {
          "output_type": "stream",
          "name": "stderr",
          "text": [
            "\n"
          ]
        },
        {
          "output_type": "stream",
          "name": "stdout",
          "text": [
            "2023-04-21 07:44:04,189 epoch 98 - iter 7/79 - loss 4.13470310 - time (sec): 1.49 - samples/sec: 5690.79 - lr: 0.000049\n",
            "2023-04-21 07:44:05,610 epoch 98 - iter 14/79 - loss 3.76873431 - time (sec): 2.91 - samples/sec: 5606.98 - lr: 0.000049\n",
            "2023-04-21 07:44:06,843 epoch 98 - iter 21/79 - loss 3.63990584 - time (sec): 4.15 - samples/sec: 5768.16 - lr: 0.000049\n",
            "2023-04-21 07:44:08,281 epoch 98 - iter 28/79 - loss 4.00914762 - time (sec): 5.58 - samples/sec: 5758.31 - lr: 0.000049\n",
            "2023-04-21 07:44:09,856 epoch 98 - iter 35/79 - loss 3.97967016 - time (sec): 7.16 - samples/sec: 5588.70 - lr: 0.000049\n",
            "2023-04-21 07:44:11,479 epoch 98 - iter 42/79 - loss 3.95118755 - time (sec): 8.78 - samples/sec: 5674.52 - lr: 0.000049\n",
            "2023-04-21 07:44:12,869 epoch 98 - iter 49/79 - loss 4.02517750 - time (sec): 10.17 - samples/sec: 5732.16 - lr: 0.000049\n",
            "2023-04-21 07:44:14,805 epoch 98 - iter 56/79 - loss 4.01033201 - time (sec): 12.11 - samples/sec: 5589.19 - lr: 0.000049\n",
            "2023-04-21 07:44:16,252 epoch 98 - iter 63/79 - loss 3.98547813 - time (sec): 13.56 - samples/sec: 5653.85 - lr: 0.000049\n",
            "2023-04-21 07:44:17,669 epoch 98 - iter 70/79 - loss 3.93466775 - time (sec): 14.97 - samples/sec: 5609.32 - lr: 0.000049\n",
            "2023-04-21 07:44:19,436 epoch 98 - iter 77/79 - loss 3.93310982 - time (sec): 16.74 - samples/sec: 5513.58 - lr: 0.000049\n",
            "2023-04-21 07:44:19,919 ----------------------------------------------------------------------------------------------------\n",
            "2023-04-21 07:44:19,921 EPOCH 98 done: loss 3.9189 - lr 0.000049\n"
          ]
        },
        {
          "output_type": "stream",
          "name": "stderr",
          "text": [
            "100%|██████████| 79/79 [00:19<00:00,  4.00it/s]"
          ]
        },
        {
          "output_type": "stream",
          "name": "stdout",
          "text": [
            "2023-04-21 07:44:39,799 Evaluating as a multi-label problem: True\n"
          ]
        },
        {
          "output_type": "stream",
          "name": "stderr",
          "text": [
            "\n"
          ]
        },
        {
          "output_type": "stream",
          "name": "stdout",
          "text": [
            "2023-04-21 07:44:41,658 TRAIN : loss 1.9027295112609863 - f1-score (weighted avg)  0.7538\n"
          ]
        },
        {
          "output_type": "stream",
          "name": "stderr",
          "text": [
            "100%|██████████| 10/10 [00:02<00:00,  3.84it/s]"
          ]
        },
        {
          "output_type": "stream",
          "name": "stdout",
          "text": [
            "2023-04-21 07:44:44,341 Evaluating as a multi-label problem: False\n",
            "2023-04-21 07:44:44,408 DEV : loss 7.8401618003845215 - f1-score (weighted avg)  0.6526\n",
            "2023-04-21 07:44:44,419 Epoch    98: reducing learning rate of group 0 to 2.4414e-05.\n",
            "2023-04-21 07:44:44,420 BAD EPOCHS (no improvement): 2\n",
            "2023-04-21 07:44:44,424 ----------------------------------------------------------------------------------------------------\n"
          ]
        },
        {
          "output_type": "stream",
          "name": "stderr",
          "text": [
            "\n"
          ]
        },
        {
          "output_type": "stream",
          "name": "stdout",
          "text": [
            "2023-04-21 07:44:45,877 epoch 99 - iter 7/79 - loss 3.26608469 - time (sec): 1.45 - samples/sec: 5009.54 - lr: 0.000024\n",
            "2023-04-21 07:44:47,360 epoch 99 - iter 14/79 - loss 3.30101467 - time (sec): 2.94 - samples/sec: 5074.61 - lr: 0.000024\n",
            "2023-04-21 07:44:48,595 epoch 99 - iter 21/79 - loss 3.58946551 - time (sec): 4.17 - samples/sec: 5406.57 - lr: 0.000024\n",
            "2023-04-21 07:44:50,456 epoch 99 - iter 28/79 - loss 3.93538403 - time (sec): 6.03 - samples/sec: 5259.63 - lr: 0.000024\n",
            "2023-04-21 07:44:52,001 epoch 99 - iter 35/79 - loss 3.99314757 - time (sec): 7.58 - samples/sec: 5220.34 - lr: 0.000024\n",
            "2023-04-21 07:44:53,577 epoch 99 - iter 42/79 - loss 4.11053149 - time (sec): 9.15 - samples/sec: 5214.42 - lr: 0.000024\n",
            "2023-04-21 07:44:54,954 epoch 99 - iter 49/79 - loss 4.10411237 - time (sec): 10.53 - samples/sec: 5320.45 - lr: 0.000024\n",
            "2023-04-21 07:44:56,816 epoch 99 - iter 56/79 - loss 4.05128390 - time (sec): 12.39 - samples/sec: 5236.95 - lr: 0.000024\n",
            "2023-04-21 07:44:58,220 epoch 99 - iter 63/79 - loss 4.07487510 - time (sec): 13.79 - samples/sec: 5281.56 - lr: 0.000024\n",
            "2023-04-21 07:44:59,851 epoch 99 - iter 70/79 - loss 4.03664128 - time (sec): 15.43 - samples/sec: 5335.47 - lr: 0.000024\n",
            "2023-04-21 07:45:01,799 epoch 99 - iter 77/79 - loss 4.03797185 - time (sec): 17.37 - samples/sec: 5286.37 - lr: 0.000024\n",
            "2023-04-21 07:45:02,216 ----------------------------------------------------------------------------------------------------\n",
            "2023-04-21 07:45:02,218 EPOCH 99 done: loss 4.0268 - lr 0.000024\n"
          ]
        },
        {
          "output_type": "stream",
          "name": "stderr",
          "text": [
            "100%|██████████| 79/79 [00:20<00:00,  3.80it/s]"
          ]
        },
        {
          "output_type": "stream",
          "name": "stdout",
          "text": [
            "2023-04-21 07:45:23,167 Evaluating as a multi-label problem: True\n"
          ]
        },
        {
          "output_type": "stream",
          "name": "stderr",
          "text": [
            "\n"
          ]
        },
        {
          "output_type": "stream",
          "name": "stdout",
          "text": [
            "2023-04-21 07:45:25,039 TRAIN : loss 1.9168380498886108 - f1-score (weighted avg)  0.7499\n"
          ]
        },
        {
          "output_type": "stream",
          "name": "stderr",
          "text": [
            "100%|██████████| 10/10 [00:02<00:00,  3.79it/s]"
          ]
        },
        {
          "output_type": "stream",
          "name": "stdout",
          "text": [
            "2023-04-21 07:45:27,756 Evaluating as a multi-label problem: False\n",
            "2023-04-21 07:45:27,828 DEV : loss 7.848713397979736 - f1-score (weighted avg)  0.646\n",
            "2023-04-21 07:45:27,839 BAD EPOCHS (no improvement): 1\n",
            "2023-04-21 07:45:27,843 ----------------------------------------------------------------------------------------------------\n"
          ]
        },
        {
          "output_type": "stream",
          "name": "stderr",
          "text": [
            "\n"
          ]
        },
        {
          "output_type": "stream",
          "name": "stdout",
          "text": [
            "2023-04-21 07:45:29,369 epoch 100 - iter 7/79 - loss 3.82059023 - time (sec): 1.52 - samples/sec: 5813.59 - lr: 0.000024\n",
            "2023-04-21 07:45:31,049 epoch 100 - iter 14/79 - loss 3.39763432 - time (sec): 3.20 - samples/sec: 5437.85 - lr: 0.000024\n",
            "2023-04-21 07:45:32,959 epoch 100 - iter 21/79 - loss 3.71818791 - time (sec): 5.11 - samples/sec: 5326.77 - lr: 0.000024\n",
            "2023-04-21 07:45:34,301 epoch 100 - iter 28/79 - loss 3.66043224 - time (sec): 6.46 - samples/sec: 5492.03 - lr: 0.000024\n",
            "2023-04-21 07:45:35,867 epoch 100 - iter 35/79 - loss 3.56824250 - time (sec): 8.02 - samples/sec: 5462.17 - lr: 0.000024\n",
            "2023-04-21 07:45:37,190 epoch 100 - iter 42/79 - loss 3.64088050 - time (sec): 9.34 - samples/sec: 5503.73 - lr: 0.000024\n",
            "2023-04-21 07:45:38,529 epoch 100 - iter 49/79 - loss 3.75432281 - time (sec): 10.68 - samples/sec: 5534.85 - lr: 0.000024\n",
            "2023-04-21 07:45:40,101 epoch 100 - iter 56/79 - loss 3.81717296 - time (sec): 12.26 - samples/sec: 5496.66 - lr: 0.000024\n",
            "2023-04-21 07:45:41,758 epoch 100 - iter 63/79 - loss 3.78191683 - time (sec): 13.91 - samples/sec: 5443.33 - lr: 0.000024\n",
            "2023-04-21 07:45:43,213 epoch 100 - iter 70/79 - loss 3.75158246 - time (sec): 15.37 - samples/sec: 5445.82 - lr: 0.000024\n",
            "2023-04-21 07:45:44,762 epoch 100 - iter 77/79 - loss 3.81328737 - time (sec): 16.92 - samples/sec: 5447.56 - lr: 0.000024\n",
            "2023-04-21 07:45:45,311 ----------------------------------------------------------------------------------------------------\n",
            "2023-04-21 07:45:45,313 EPOCH 100 done: loss 3.8225 - lr 0.000024\n"
          ]
        },
        {
          "output_type": "stream",
          "name": "stderr",
          "text": [
            "100%|██████████| 79/79 [00:19<00:00,  4.03it/s]"
          ]
        },
        {
          "output_type": "stream",
          "name": "stdout",
          "text": [
            "2023-04-21 07:46:05,072 Evaluating as a multi-label problem: True\n"
          ]
        },
        {
          "output_type": "stream",
          "name": "stderr",
          "text": [
            "\n"
          ]
        },
        {
          "output_type": "stream",
          "name": "stdout",
          "text": [
            "2023-04-21 07:46:08,236 TRAIN : loss 1.8802218437194824 - f1-score (weighted avg)  0.7537\n"
          ]
        },
        {
          "output_type": "stream",
          "name": "stderr",
          "text": [
            "100%|██████████| 10/10 [00:02<00:00,  3.87it/s]"
          ]
        },
        {
          "output_type": "stream",
          "name": "stdout",
          "text": [
            "2023-04-21 07:46:10,899 Evaluating as a multi-label problem: False\n",
            "2023-04-21 07:46:10,970 DEV : loss 7.808605670928955 - f1-score (weighted avg)  0.6475\n",
            "2023-04-21 07:46:10,979 Epoch   100: reducing learning rate of group 0 to 1.2207e-05.\n",
            "2023-04-21 07:46:10,981 BAD EPOCHS (no improvement): 2\n"
          ]
        },
        {
          "output_type": "stream",
          "name": "stderr",
          "text": [
            "\n"
          ]
        },
        {
          "output_type": "stream",
          "name": "stdout",
          "text": [
            "2023-04-21 07:46:12,738 ----------------------------------------------------------------------------------------------------\n",
            "2023-04-21 07:46:14,408 SequenceTagger predicts: Dictionary with 14 tags: <unk>, O, I-ADR, B-ADR, B-Drug, I-Finding, B-Finding, B-Disease, B-Symptom, I-Symptom, I-Disease, I-Drug, <START>, <STOP>\n"
          ]
        },
        {
          "output_type": "stream",
          "name": "stderr",
          "text": [
            "100%|██████████| 10/10 [00:03<00:00,  2.73it/s]"
          ]
        },
        {
          "output_type": "stream",
          "name": "stdout",
          "text": [
            "2023-04-21 07:46:18,384 Evaluating as a multi-label problem: True\n"
          ]
        },
        {
          "output_type": "stream",
          "name": "stderr",
          "text": [
            "\n"
          ]
        },
        {
          "output_type": "stream",
          "name": "stdout",
          "text": [
            "2023-04-21 07:46:18,616 0.7556\t0.642\t0.6942\t0.92\n",
            "2023-04-21 07:46:18,618 \n",
            "Results:\n",
            "- F-score (micro) 0.6942\n",
            "- F-score (macro) 0.4035\n",
            "- Accuracy 0.92\n",
            "\n",
            "By class:\n",
            "              precision    recall  f1-score   support\n",
            "\n",
            "       I-ADR     0.7310    0.6153    0.6682       967\n",
            "       B-ADR     0.7392    0.7431    0.7411       576\n",
            "      B-Drug     0.9414    0.9543    0.9478       219\n",
            "      I-Drug     0.8148    0.4231    0.5570        52\n",
            "   B-Finding     0.4762    0.1923    0.2740        52\n",
            "   I-Finding     0.4000    0.1111    0.1739        36\n",
            "   B-Disease     0.4615    0.3000    0.3636        20\n",
            "   I-Symptom     0.0000    0.0000    0.0000        33\n",
            "   B-Symptom     1.0000    0.0909    0.1667        22\n",
            "   I-Disease     0.5000    0.0833    0.1429        12\n",
            "\n",
            "   micro avg     0.7556    0.6420    0.6942      1989\n",
            "   macro avg     0.6064    0.3513    0.4035      1989\n",
            "weighted avg     0.7328    0.6420    0.6751      1989\n",
            " samples avg     0.1079    0.1078    0.1079      1989\n",
            "\n",
            "2023-04-21 07:46:18,619 ----------------------------------------------------------------------------------------------------\n"
          ]
        }
      ],
      "source": [
        "hist = trainer.train('flair_ner_model'+suf,\n",
        "              embeddings_storage_mode='gpu',\n",
        "              gold_label_dictionary_for_eval=tag_dictionary,\n",
        "              mini_batch_size = 12,\n",
        "              eval_batch_size = 12,\n",
        "              patience=1,\n",
        "              anneal_factor = 0.5,\n",
        "              anneal_against_dev_loss=True,\n",
        "              main_evaluation_metric = (\"weighted avg\", \"f1-score\"),\n",
        "              metrics_for_tensorboard=[(\"weighted avg\", 'precision'), (\"weighted avg\", 'recall'), (\"macro avg\", 'f1-score'), (\"macro avg\", 'precision'), (\"macro avg\", 'recall')],\n",
        "              use_tensorboard=True,\n",
        "              tensorboard_comment='Flair NER',\n",
        "              tensorboard_log_dir='runs/tb_logs'+suf,\n",
        "              min_learning_rate=3e-8,\n",
        "              optimizer=AdamW,\n",
        "              learning_rate=1e-1,\n",
        "              weight_decay=0.001,\n",
        "              max_epochs=100,\n",
        "              monitor_train=True,\n",
        "              save_optimizer_state=True,)\n",
        "# hist"
      ]
    },
    {
      "cell_type": "code",
      "execution_count": 16,
      "metadata": {
        "id": "ExiLRreqXsDJ"
      },
      "outputs": [],
      "source": [
        "# print(hist.keys())\n",
        "# hist"
      ]
    },
    {
      "cell_type": "code",
      "execution_count": 17,
      "metadata": {
        "colab": {
          "base_uri": "https://localhost:8080/",
          "height": 1000
        },
        "id": "P5Uu5qkN0pia",
        "outputId": "486d8faf-2d0b-48b2-a75a-eb5959d39838"
      },
      "outputs": [
        {
          "output_type": "stream",
          "name": "stdout",
          "text": [
            "_v3_no_rnn\n",
            "2023-04-21 07:46:18,654 ----------------------------------------------------------------------------------------------------\n",
            "2023-04-21 07:46:18,654 WARNING: No LOSS found for test split in this data.\n",
            "2023-04-21 07:46:18,655 Are you sure you want to plot LOSS and not another value?\n",
            "2023-04-21 07:46:18,657 ----------------------------------------------------------------------------------------------------\n",
            "2023-04-21 07:46:18,680 ----------------------------------------------------------------------------------------------------\n",
            "2023-04-21 07:46:18,681 WARNING: No F1 found for test split in this data.\n",
            "2023-04-21 07:46:18,682 Are you sure you want to plot F1 and not another value?\n",
            "2023-04-21 07:46:18,683 ----------------------------------------------------------------------------------------------------\n",
            "2023-04-21 07:46:19,865 Loss and F1 plots are saved in flair_ner_model_v3_no_rnn/training.png\n"
          ]
        },
        {
          "output_type": "display_data",
          "data": {
            "text/plain": [
              "<Figure size 1500x1000 with 2 Axes>"
            ],
            "image/png": "[encoded data removed]"
          },
          "metadata": {}
        },
        {
          "output_type": "stream",
          "name": "stderr",
          "text": [
            "100%|██████████| 79/79 [00:21<00:00,  3.72it/s]"
          ]
        },
        {
          "output_type": "stream",
          "name": "stdout",
          "text": [
            "2023-04-21 07:46:41,563 Evaluating as a multi-label problem: True\n"
          ]
        },
        {
          "output_type": "stream",
          "name": "stderr",
          "text": [
            "\n",
            "100%|██████████| 10/10 [00:02<00:00,  3.85it/s]"
          ]
        },
        {
          "output_type": "stream",
          "name": "stdout",
          "text": [
            "2023-04-21 07:46:46,058 Evaluating as a multi-label problem: False\n"
          ]
        },
        {
          "output_type": "stream",
          "name": "stderr",
          "text": [
            "\n",
            "100%|██████████| 10/10 [00:04<00:00,  2.27it/s]"
          ]
        },
        {
          "output_type": "stream",
          "name": "stdout",
          "text": [
            "2023-04-21 07:46:50,554 Evaluating as a multi-label problem: True\n"
          ]
        },
        {
          "output_type": "stream",
          "name": "stderr",
          "text": [
            "\n"
          ]
        },
        {
          "output_type": "execute_result",
          "data": {
            "text/plain": [
              "    split      index        I-ADR        B-ADR       B-Drug   B-Finding  \\\n",
              "0   train  precision     0.774902     0.800216     0.990014    0.840426   \n",
              "1   train     recall     0.692569     0.787139     0.994269    0.511327   \n",
              "2   train   f1-score     0.731426     0.793624     0.992137    0.635815   \n",
              "3   train    support  7953.000000  4712.000000  1396.000000  309.000000   \n",
              "4     dev  precision     0.667027     0.732224     0.956044    0.444444   \n",
              "5     dev     recall     0.638716     0.743472     0.945652    0.125000   \n",
              "6     dev   f1-score     0.652565     0.737805     0.950820    0.195122   \n",
              "7     dev    support   966.000000   651.000000   184.000000   64.000000   \n",
              "8    test  precision     0.730958     0.739206     0.941441    0.476190   \n",
              "9    test     recall     0.615305     0.743056     0.954338    0.192308   \n",
              "10   test   f1-score     0.668164     0.741126     0.947846    0.273973   \n",
              "11   test    support   967.000000   576.000000   219.000000   52.000000   \n",
              "\n",
              "     I-Finding   B-Disease   B-Symptom      I-Drug   I-Disease   I-Symptom  \\\n",
              "0     0.837037    0.961290    0.879518    0.985185    0.981308    1.000000   \n",
              "1     0.323782    0.645022    0.328829    0.826087    0.621302    0.146789   \n",
              "2     0.466942    0.772021    0.478689    0.898649    0.760870    0.256000   \n",
              "3   349.000000  231.000000  222.000000  161.000000  169.000000  218.000000   \n",
              "4     0.636364    0.500000    0.333333    0.636364    0.384615    0.000000   \n",
              "5     0.129630    0.258065    0.080000    0.518519    0.178571    0.000000   \n",
              "6     0.215385    0.340426    0.129032    0.571429    0.243902    0.000000   \n",
              "7    54.000000   31.000000   25.000000   27.000000   28.000000   36.000000   \n",
              "8     0.400000    0.461538    1.000000    0.814815    0.500000    0.000000   \n",
              "9     0.111111    0.300000    0.090909    0.423077    0.083333    0.000000   \n",
              "10    0.173913    0.363636    0.166667    0.556962    0.142857    0.000000   \n",
              "11   36.000000   20.000000   22.000000   52.000000   12.000000   33.000000   \n",
              "\n",
              "       micro avg     macro avg  weighted avg   samples avg  \n",
              "0       0.813162      0.904990      0.815970      0.119954  \n",
              "1       0.723155      0.587711      0.723155      0.119917  \n",
              "2       0.765522      0.678617      0.757934      0.119929  \n",
              "3   15720.000000  15720.000000  15720.000000  15720.000000  \n",
              "4       0.711435      0.529042      0.683219           NaN  \n",
              "5       0.638432      0.361762      0.638432           NaN  \n",
              "6       0.672959      0.403648      0.651401           NaN  \n",
              "7    2066.000000   2066.000000   2066.000000           NaN  \n",
              "8       0.755621      0.606415      0.732809      0.107909  \n",
              "9       0.642031      0.351344      0.642031      0.107825  \n",
              "10      0.694210      0.403514      0.675065      0.107853  \n",
              "11   1989.000000   1989.000000   1989.000000   1989.000000  "
            ],
            "text/html": [
              "\n",
              "  <div id=\"df-b6ccc516-70ff-4460-bd03-0593fb1c8dfd\">\n",
              "    <div class=\"colab-df-container\">\n",
              "      <div>\n",
              "<style scoped>\n",
              "    .dataframe tbody tr th:only-of-type {\n",
              "        vertical-align: middle;\n",
              "    }\n",
              "\n",
              "    .dataframe tbody tr th {\n",
              "        vertical-align: top;\n",
              "    }\n",
              "\n",
              "    .dataframe thead th {\n",
              "        text-align: right;\n",
              "    }\n",
              "</style>\n",
              "<table border=\"1\" class=\"dataframe\">\n",
              "  <thead>\n",
              "    <tr style=\"text-align: right;\">\n",
              "      <th></th>\n",
              "      <th>split</th>\n",
              "      <th>index</th>\n",
              "      <th>I-ADR</th>\n",
              "      <th>B-ADR</th>\n",
              "      <th>B-Drug</th>\n",
              "      <th>B-Finding</th>\n",
              "      <th>I-Finding</th>\n",
              "      <th>B-Disease</th>\n",
              "      <th>B-Symptom</th>\n",
              "      <th>I-Drug</th>\n",
              "      <th>I-Disease</th>\n",
              "      <th>I-Symptom</th>\n",
              "      <th>micro avg</th>\n",
              "      <th>macro avg</th>\n",
              "      <th>weighted avg</th>\n",
              "      <th>samples avg</th>\n",
              "    </tr>\n",
              "  </thead>\n",
              "  <tbody>\n",
              "    <tr>\n",
              "      <th>0</th>\n",
              "      <td>train</td>\n",
              "      <td>precision</td>\n",
              "      <td>0.774902</td>\n",
              "      <td>0.800216</td>\n",
              "      <td>0.990014</td>\n",
              "      <td>0.840426</td>\n",
              "      <td>0.837037</td>\n",
              "      <td>0.961290</td>\n",
              "      <td>0.879518</td>\n",
              "      <td>0.985185</td>\n",
              "      <td>0.981308</td>\n",
              "      <td>1.000000</td>\n",
              "      <td>0.813162</td>\n",
              "      <td>0.904990</td>\n",
              "      <td>0.815970</td>\n",
              "      <td>0.119954</td>\n",
              "    </tr>\n",
              "    <tr>\n",
              "      <th>1</th>\n",
              "      <td>train</td>\n",
              "      <td>recall</td>\n",
              "      <td>0.692569</td>\n",
              "      <td>0.787139</td>\n",
              "      <td>0.994269</td>\n",
              "      <td>0.511327</td>\n",
              "      <td>0.323782</td>\n",
              "      <td>0.645022</td>\n",
              "      <td>0.328829</td>\n",
              "      <td>0.826087</td>\n",
              "      <td>0.621302</td>\n",
              "      <td>0.146789</td>\n",
              "      <td>0.723155</td>\n",
              "      <td>0.587711</td>\n",
              "      <td>0.723155</td>\n",
              "      <td>0.119917</td>\n",
              "    </tr>\n",
              "    <tr>\n",
              "      <th>2</th>\n",
              "      <td>train</td>\n",
              "      <td>f1-score</td>\n",
              "      <td>0.731426</td>\n",
              "      <td>0.793624</td>\n",
              "      <td>0.992137</td>\n",
              "      <td>0.635815</td>\n",
              "      <td>0.466942</td>\n",
              "      <td>0.772021</td>\n",
              "      <td>0.478689</td>\n",
              "      <td>0.898649</td>\n",
              "      <td>0.760870</td>\n",
              "      <td>0.256000</td>\n",
              "      <td>0.765522</td>\n",
              "      <td>0.678617</td>\n",
              "      <td>0.757934</td>\n",
              "      <td>0.119929</td>\n",
              "    </tr>\n",
              "    <tr>\n",
              "      <th>3</th>\n",
              "      <td>train</td>\n",
              "      <td>support</td>\n",
              "      <td>7953.000000</td>\n",
              "      <td>4712.000000</td>\n",
              "      <td>1396.000000</td>\n",
              "      <td>309.000000</td>\n",
              "      <td>349.000000</td>\n",
              "      <td>231.000000</td>\n",
              "      <td>222.000000</td>\n",
              "      <td>161.000000</td>\n",
              "      <td>169.000000</td>\n",
              "      <td>218.000000</td>\n",
              "      <td>15720.000000</td>\n",
              "      <td>15720.000000</td>\n",
              "      <td>15720.000000</td>\n",
              "      <td>15720.000000</td>\n",
              "    </tr>\n",
              "    <tr>\n",
              "      <th>4</th>\n",
              "      <td>dev</td>\n",
              "      <td>precision</td>\n",
              "      <td>0.667027</td>\n",
              "      <td>0.732224</td>\n",
              "      <td>0.956044</td>\n",
              "      <td>0.444444</td>\n",
              "      <td>0.636364</td>\n",
              "      <td>0.500000</td>\n",
              "      <td>0.333333</td>\n",
              "      <td>0.636364</td>\n",
              "      <td>0.384615</td>\n",
              "      <td>0.000000</td>\n",
              "      <td>0.711435</td>\n",
              "      <td>0.529042</td>\n",
              "      <td>0.683219</td>\n",
              "      <td>NaN</td>\n",
              "    </tr>\n",
              "    <tr>\n",
              "      <th>5</th>\n",
              "      <td>dev</td>\n",
              "      <td>recall</td>\n",
              "      <td>0.638716</td>\n",
              "      <td>0.743472</td>\n",
              "      <td>0.945652</td>\n",
              "      <td>0.125000</td>\n",
              "      <td>0.129630</td>\n",
              "      <td>0.258065</td>\n",
              "      <td>0.080000</td>\n",
              "      <td>0.518519</td>\n",
              "      <td>0.178571</td>\n",
              "      <td>0.000000</td>\n",
              "      <td>0.638432</td>\n",
              "      <td>0.361762</td>\n",
              "      <td>0.638432</td>\n",
              "      <td>NaN</td>\n",
              "    </tr>\n",
              "    <tr>\n",
              "      <th>6</th>\n",
              "      <td>dev</td>\n",
              "      <td>f1-score</td>\n",
              "      <td>0.652565</td>\n",
              "      <td>0.737805</td>\n",
              "      <td>0.950820</td>\n",
              "      <td>0.195122</td>\n",
              "      <td>0.215385</td>\n",
              "      <td>0.340426</td>\n",
              "      <td>0.129032</td>\n",
              "      <td>0.571429</td>\n",
              "      <td>0.243902</td>\n",
              "      <td>0.000000</td>\n",
              "      <td>0.672959</td>\n",
              "      <td>0.403648</td>\n",
              "      <td>0.651401</td>\n",
              "      <td>NaN</td>\n",
              "    </tr>\n",
              "    <tr>\n",
              "      <th>7</th>\n",
              "      <td>dev</td>\n",
              "      <td>support</td>\n",
              "      <td>966.000000</td>\n",
              "      <td>651.000000</td>\n",
              "      <td>184.000000</td>\n",
              "      <td>64.000000</td>\n",
              "      <td>54.000000</td>\n",
              "      <td>31.000000</td>\n",
              "      <td>25.000000</td>\n",
              "      <td>27.000000</td>\n",
              "      <td>28.000000</td>\n",
              "      <td>36.000000</td>\n",
              "      <td>2066.000000</td>\n",
              "      <td>2066.000000</td>\n",
              "      <td>2066.000000</td>\n",
              "      <td>NaN</td>\n",
              "    </tr>\n",
              "    <tr>\n",
              "      <th>8</th>\n",
              "      <td>test</td>\n",
              "      <td>precision</td>\n",
              "      <td>0.730958</td>\n",
              "      <td>0.739206</td>\n",
              "      <td>0.941441</td>\n",
              "      <td>0.476190</td>\n",
              "      <td>0.400000</td>\n",
              "      <td>0.461538</td>\n",
              "      <td>1.000000</td>\n",
              "      <td>0.814815</td>\n",
              "      <td>0.500000</td>\n",
              "      <td>0.000000</td>\n",
              "      <td>0.755621</td>\n",
              "      <td>0.606415</td>\n",
              "      <td>0.732809</td>\n",
              "      <td>0.107909</td>\n",
              "    </tr>\n",
              "    <tr>\n",
              "      <th>9</th>\n",
              "      <td>test</td>\n",
              "      <td>recall</td>\n",
              "      <td>0.615305</td>\n",
              "      <td>0.743056</td>\n",
              "      <td>0.954338</td>\n",
              "      <td>0.192308</td>\n",
              "      <td>0.111111</td>\n",
              "      <td>0.300000</td>\n",
              "      <td>0.090909</td>\n",
              "      <td>0.423077</td>\n",
              "      <td>0.083333</td>\n",
              "      <td>0.000000</td>\n",
              "      <td>0.642031</td>\n",
              "      <td>0.351344</td>\n",
              "      <td>0.642031</td>\n",
              "      <td>0.107825</td>\n",
              "    </tr>\n",
              "    <tr>\n",
              "      <th>10</th>\n",
              "      <td>test</td>\n",
              "      <td>f1-score</td>\n",
              "      <td>0.668164</td>\n",
              "      <td>0.741126</td>\n",
              "      <td>0.947846</td>\n",
              "      <td>0.273973</td>\n",
              "      <td>0.173913</td>\n",
              "      <td>0.363636</td>\n",
              "      <td>0.166667</td>\n",
              "      <td>0.556962</td>\n",
              "      <td>0.142857</td>\n",
              "      <td>0.000000</td>\n",
              "      <td>0.694210</td>\n",
              "      <td>0.403514</td>\n",
              "      <td>0.675065</td>\n",
              "      <td>0.107853</td>\n",
              "    </tr>\n",
              "    <tr>\n",
              "      <th>11</th>\n",
              "      <td>test</td>\n",
              "      <td>support</td>\n",
              "      <td>967.000000</td>\n",
              "      <td>576.000000</td>\n",
              "      <td>219.000000</td>\n",
              "      <td>52.000000</td>\n",
              "      <td>36.000000</td>\n",
              "      <td>20.000000</td>\n",
              "      <td>22.000000</td>\n",
              "      <td>52.000000</td>\n",
              "      <td>12.000000</td>\n",
              "      <td>33.000000</td>\n",
              "      <td>1989.000000</td>\n",
              "      <td>1989.000000</td>\n",
              "      <td>1989.000000</td>\n",
              "      <td>1989.000000</td>\n",
              "    </tr>\n",
              "  </tbody>\n",
              "</table>\n",
              "</div>\n",
              "      <button class=\"colab-df-convert\" onclick=\"convertToInteractive('df-b6ccc516-70ff-4460-bd03-0593fb1c8dfd')\"\n",
              "              title=\"Convert this dataframe to an interactive table.\"\n",
              "              style=\"display:none;\">\n",
              "        \n",
              "  <svg xmlns=\"http://www.w3.org/2000/svg\" height=\"24px\"viewBox=\"0 0 24 24\"\n",
              "       width=\"24px\">\n",
              "    <path d=\"M0 0h24v24H0V0z\" fill=\"none\"/>\n",
              "    <path d=\"M18.56 5.44l.94 2.06.94-2.06 2.06-.94-2.06-.94-.94-2.06-.94 2.06-2.06.94zm-11 1L8.5 8.5l.94-2.06 2.06-.94-2.06-.94L8.5 2.5l-.94 2.06-2.06.94zm10 10l.94 2.06.94-2.06 2.06-.94-2.06-.94-.94-2.06-.94 2.06-2.06.94z\"/><path d=\"M17.41 7.96l-1.37-1.37c-.4-.4-.92-.59-1.43-.59-.52 0-1.04.2-1.43.59L10.3 9.45l-7.72 7.72c-.78.78-.78 2.05 0 2.83L4 21.41c.39.39.9.59 1.41.59.51 0 1.02-.2 1.41-.59l7.78-7.78 2.81-2.81c.8-.78.8-2.07 0-2.86zM5.41 20L4 18.59l7.72-7.72 1.47 1.35L5.41 20z\"/>\n",
              "  </svg>\n",
              "      </button>\n",
              "      \n",
              "  <style>\n",
              "    .colab-df-container {\n",
              "      display:flex;\n",
              "      flex-wrap:wrap;\n",
              "      gap: 12px;\n",
              "    }\n",
              "\n",
              "    .colab-df-convert {\n",
              "      background-color: #E8F0FE;\n",
              "      border: none;\n",
              "      border-radius: 50%;\n",
              "      cursor: pointer;\n",
              "      display: none;\n",
              "      fill: #1967D2;\n",
              "      height: 32px;\n",
              "      padding: 0 0 0 0;\n",
              "      width: 32px;\n",
              "    }\n",
              "\n",
              "    .colab-df-convert:hover {\n",
              "      background-color: #E2EBFA;\n",
              "      box-shadow: 0px 1px 2px rgba(60, 64, 67, 0.3), 0px 1px 3px 1px rgba(60, 64, 67, 0.15);\n",
              "      fill: #174EA6;\n",
              "    }\n",
              "\n",
              "    [theme=dark] .colab-df-convert {\n",
              "      background-color: #3B4455;\n",
              "      fill: #D2E3FC;\n",
              "    }\n",
              "\n",
              "    [theme=dark] .colab-df-convert:hover {\n",
              "      background-color: #434B5C;\n",
              "      box-shadow: 0px 1px 3px 1px rgba(0, 0, 0, 0.15);\n",
              "      filter: drop-shadow(0px 1px 2px rgba(0, 0, 0, 0.3));\n",
              "      fill: #FFFFFF;\n",
              "    }\n",
              "  </style>\n",
              "\n",
              "      <script>\n",
              "        const buttonEl =\n",
              "          document.querySelector('#df-b6ccc516-70ff-4460-bd03-0593fb1c8dfd button.colab-df-convert');\n",
              "        buttonEl.style.display =\n",
              "          google.colab.kernel.accessAllowed ? 'block' : 'none';\n",
              "\n",
              "        async function convertToInteractive(key) {\n",
              "          const element = document.querySelector('#df-b6ccc516-70ff-4460-bd03-0593fb1c8dfd');\n",
              "          const dataTable =\n",
              "            await google.colab.kernel.invokeFunction('convertToInteractive',\n",
              "                                                     [key], {});\n",
              "          if (!dataTable) return;\n",
              "\n",
              "          const docLinkHtml = 'Like what you see? Visit the ' +\n",
              "            '<a target=\"_blank\" href=https://colab.research.google.com/notebooks/data_table.ipynb>data table notebook</a>'\n",
              "            + ' to learn more about interactive tables.';\n",
              "          element.innerHTML = '';\n",
              "          dataTable['output_type'] = 'display_data';\n",
              "          await google.colab.output.renderOutput(dataTable, element);\n",
              "          const docLink = document.createElement('div');\n",
              "          docLink.innerHTML = docLinkHtml;\n",
              "          element.appendChild(docLink);\n",
              "        }\n",
              "      </script>\n",
              "    </div>\n",
              "  </div>\n",
              "  "
            ]
          },
          "metadata": {},
          "execution_count": 17
        }
      ],
      "source": [
        "print(suf)\n",
        "\n",
        "os.mkdir('flair_ner_model'+suf+'/classification_report')\n",
        "plotter.plot_training_curves('flair_ner_model'+suf+'/loss.tsv')\n",
        "\n",
        "# evaluate the tagger on the test set\n",
        "result = tagger.evaluate(corpus.train, \n",
        "                         embeddings_storage_mode='gpu',\n",
        "                         mini_batch_size=12,\n",
        "                         main_evaluation_metric = (\"weighted avg\", \"f1-score\"),\n",
        "                         gold_label_type='ner',\n",
        "                         gold_label_dictionary=tag_dictionary)\n",
        "open('flair_ner_model'+suf+'/classification_report/train.txt', 'w').write(str(result))\n",
        "res1 = pd.DataFrame.from_dict(result.classification_report).reset_index()\n",
        "res1.insert(loc=0, column='split', value='train')\n",
        "\n",
        "result = tagger.evaluate(corpus.dev, \n",
        "                         embeddings_storage_mode='gpu',\n",
        "                         mini_batch_size=12,\n",
        "                         main_evaluation_metric = (\"weighted avg\", \"f1-score\"),\n",
        "                         gold_label_type='ner',\n",
        "                         gold_label_dictionary=tag_dictionary)\n",
        "open('flair_ner_model'+suf+'/classification_report/dev.txt', 'w').write(str(result))\n",
        "res2 = pd.DataFrame.from_dict(result.classification_report).reset_index()\n",
        "res2.insert(loc=0, column='split', value='dev')\n",
        "\n",
        "result = tagger.evaluate(corpus.test, \n",
        "                         embeddings_storage_mode='gpu',\n",
        "                         mini_batch_size=12,\n",
        "                         main_evaluation_metric = (\"weighted avg\", \"f1-score\"),\n",
        "                         gold_label_type='ner',\n",
        "                         gold_label_dictionary=tag_dictionary)\n",
        "open('flair_ner_model'+suf+'/classification_report/test.txt', 'w').write(str(result))\n",
        "res3 = pd.DataFrame.from_dict(result.classification_report).reset_index()\n",
        "res3.insert(loc=0, column='split', value='test')\n",
        "\n",
        "res = pd.concat([res1,res2,res3],ignore_index=True)\n",
        "res.to_csv('flair_ner_model'+suf+'/classification_report.csv',index=False)\n",
        "res"
      ]
    },
    {
      "cell_type": "code",
      "execution_count": 18,
      "metadata": {
        "id": "VvIDCtYJkY-G"
      },
      "outputs": [],
      "source": [
        "# import time\n",
        "# start_time = time.time()\n",
        "# while time.time() - start_time < 1:\n",
        "#     time.sleep(1)\n",
        "# print('Session has timed out (2 minutes). Disconnecting...')\n",
        "# !kill -9 -1"
      ]
    },
    {
      "cell_type": "markdown",
      "metadata": {
        "id": "tGILL4RFtGil"
      },
      "source": [
        "Layering can be a good idea if the NER tags in the first layer have their own set of dependent values in the second layer. This can help capture more information about the entities being recognized and provide more context for downstream tasks. However, it also increases the complexity of the annotation and the training process, so it should be used judiciously. In general, it's a good idea to start with a simple tag scheme and gradually increase complexity as needed."
      ]
    },
    {
      "cell_type": "markdown",
      "metadata": {
        "id": "JoZ5D6aEtGin"
      },
      "source": [
        "    does it really matter if u use the E header\n",
        "\n",
        "It depends on the specific task and the requirements of the downstream model. In some cases, using the E tag can help disambiguate between overlapping entities, while in other cases it may not be necessary or even desired. Ultimately, it's up to the developer to determine the appropriate tagging scheme for their specific use case."
      ]
    },
    {
      "cell_type": "markdown",
      "metadata": {
        "id": "BGt2RhM6tGin"
      },
      "source": [
        "    would adding POS as an extra NER layer help model performance or not\n",
        "\n",
        "Adding POS as an extra NER layer may or may not help model performance, depending on the specific use case and data being analyzed.\n",
        "\n",
        "On one hand, incorporating POS tags could provide additional context to the model and help it better distinguish between named entities and other parts of speech. For example, knowing that a word is a noun or verb could help the model determine if it is likely to be a named entity or not.\n",
        "\n",
        "On the other hand, adding an additional layer could also increase model complexity and training time without necessarily improving performance. It may also require additional manual annotation efforts to create a labeled dataset with both NER and POS tags.\n",
        "\n",
        "Ultimately, whether to include POS as an additional layer will depend on the specific requirements and goals of the project, as well as the available data and resources."
      ]
    },
    {
      "cell_type": "markdown",
      "metadata": {
        "id": "6zpEn1bgtGin"
      },
      "source": [
        "    besides bioes ordering (which is up-to-down), it doesn't matter what order the tags in the same domain appear in left-to-right?\n",
        "\n",
        "Yes, that is correct. As long as the BIOES order is maintained vertically, the order of tags in the same domain from left-to-right should not impact training in flai"
      ]
    },
    {
      "cell_type": "markdown",
      "metadata": {
        "id": "yrmL98VatGin"
      },
      "source": [
        "    different typenames must be treated as separate tasks?\n",
        "\n",
        "Yes, that's correct. Different typenames should be treated as separate tasks because they represent different types of annotations that you want to predict. For example, in a biomedical NER task, you might want to predict the entity types of both drugs and diseases, which would be represented by two different typenames in your annotation data. Predicting both types of entities would require different models and possibly different evaluation metrics."
      ]
    }
  ],
  "metadata": {
    "accelerator": "GPU",
    "colab": {
      "gpuType": "A100",
      "provenance": []
    },
    "gpuClass": "standard",
    "kernelspec": {
      "display_name": "flair",
      "language": "python",
      "name": "python3"
    },
    "language_info": {
      "codemirror_mode": {
        "name": "ipython",
        "version": 3
      },
      "file_extension": ".py",
      "mimetype": "text/x-python",
      "name": "python",
      "nbconvert_exporter": "python",
      "pygments_lexer": "ipython3",
      "version": "3.9.16"
    },
    "vscode": {
      "interpreter": {
        "hash": "381c8abc3392c5f20473858f182d9ac4a53ef053fb1f276fcb4936938616c3f3"
      }
    }
  },
  "nbformat": 4,
  "nbformat_minor": 0
}