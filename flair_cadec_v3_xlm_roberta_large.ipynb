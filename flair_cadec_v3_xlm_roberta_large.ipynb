{
  "cells": [
    {
      "cell_type": "code",
      "execution_count": 21,
      "metadata": {
        "id": "xONJpNLKtGie"
      },
      "outputs": [],
      "source": [
        "import pandas as pd\n",
        "import os\n",
        "import pickle"
      ]
    },
    {
      "cell_type": "code",
      "execution_count": 22,
      "metadata": {
        "colab": {
          "base_uri": "https://localhost:8080/"
        },
        "id": "nw6RM8uotGih",
        "outputId": "e170df29-b890-475d-ab8c-37aada95b7bf"
      },
      "outputs": [
        {
          "name": "stdout",
          "output_type": "stream",
          "text": [
            "Drive already mounted at /content/drive; to attempt to forcibly remount, call drive.mount(\"/content/drive\", force_remount=True).\n"
          ]
        }
      ],
      "source": [
        "from google.colab import drive\n",
        "drive.mount(\"/content/drive\")\n",
        "\n",
        "os.chdir('/content/drive/MyDrive/SI 630 project')\n",
        "# os.listdir('.')"
      ]
    },
    {
      "cell_type": "code",
      "execution_count": 23,
      "metadata": {
        "colab": {
          "base_uri": "https://localhost:8080/"
        },
        "id": "P9LwpBadtGih",
        "outputId": "892870b9-c3e1-4717-9ad5-f9470219cbde"
      },
      "outputs": [
        {
          "data": {
            "text/plain": [
              "['sct',\n",
              " 'text',\n",
              " 'original - unedited version of edited files',\n",
              " 'meddra - unedited version of edited files',\n",
              " 'sct - unedited version of edited files',\n",
              " 'original',\n",
              " 'meddra']"
            ]
          },
          "execution_count": 23,
          "metadata": {},
          "output_type": "execute_result"
        }
      ],
      "source": [
        "os.listdir('datasets/CADEC/CADEC.v2/cadec')\n"
      ]
    },
    {
      "cell_type": "code",
      "execution_count": 24,
      "metadata": {
        "id": "VNZtmxiPb5uV"
      },
      "outputs": [],
      "source": [
        "suf = '_v3'\n",
        "\n",
        "data_save_dir = 'data'+suf\n",
        "\n",
        "suf += '_xlm-roberta-large'"
      ]
    },
    {
      "cell_type": "code",
      "execution_count": 25,
      "metadata": {
        "colab": {
          "base_uri": "https://localhost:8080/",
          "height": 423
        },
        "id": "BIUl2-W9tGii",
        "outputId": "c765c8d4-c4bc-40f3-92f4-f25f0ad14849"
      },
      "outputs": [
        {
          "data": {
            "text/html": [
              "\n",
              "  <div id=\"df-a82f4a2b-1ee1-409a-b20d-026fd9939fe3\">\n",
              "    <div class=\"colab-df-container\">\n",
              "      <div>\n",
              "<style scoped>\n",
              "    .dataframe tbody tr th:only-of-type {\n",
              "        vertical-align: middle;\n",
              "    }\n",
              "\n",
              "    .dataframe tbody tr th {\n",
              "        vertical-align: top;\n",
              "    }\n",
              "\n",
              "    .dataframe thead th {\n",
              "        text-align: right;\n",
              "    }\n",
              "</style>\n",
              "<table border=\"1\" class=\"dataframe\">\n",
              "  <thead>\n",
              "    <tr style=\"text-align: right;\">\n",
              "      <th></th>\n",
              "      <th>ner</th>\n",
              "      <th>meddra</th>\n",
              "      <th>counts_exploded</th>\n",
              "      <th>counts</th>\n",
              "      <th>counts_exploded_rank</th>\n",
              "    </tr>\n",
              "  </thead>\n",
              "  <tbody>\n",
              "    <tr>\n",
              "      <th>0</th>\n",
              "      <td>Drug</td>\n",
              "      <td>Lipitor</td>\n",
              "      <td>1081</td>\n",
              "      <td>1073</td>\n",
              "      <td>1</td>\n",
              "    </tr>\n",
              "    <tr>\n",
              "      <th>1</th>\n",
              "      <td>ADR</td>\n",
              "      <td>CONCEPT_LESS</td>\n",
              "      <td>1016</td>\n",
              "      <td>266</td>\n",
              "      <td>2</td>\n",
              "    </tr>\n",
              "    <tr>\n",
              "      <th>2</th>\n",
              "      <td>ADR</td>\n",
              "      <td>Severe_pain</td>\n",
              "      <td>722</td>\n",
              "      <td>247</td>\n",
              "      <td>3</td>\n",
              "    </tr>\n",
              "    <tr>\n",
              "      <th>3</th>\n",
              "      <td>ADR</td>\n",
              "      <td>Myalgia</td>\n",
              "      <td>619</td>\n",
              "      <td>305</td>\n",
              "      <td>4</td>\n",
              "    </tr>\n",
              "    <tr>\n",
              "      <th>4</th>\n",
              "      <td>ADR</td>\n",
              "      <td>Pain</td>\n",
              "      <td>292</td>\n",
              "      <td>260</td>\n",
              "      <td>5</td>\n",
              "    </tr>\n",
              "    <tr>\n",
              "      <th>...</th>\n",
              "      <td>...</td>\n",
              "      <td>...</td>\n",
              "      <td>...</td>\n",
              "      <td>...</td>\n",
              "      <td>...</td>\n",
              "    </tr>\n",
              "    <tr>\n",
              "      <th>1294</th>\n",
              "      <td>Finding</td>\n",
              "      <td>Senility</td>\n",
              "      <td>1</td>\n",
              "      <td>1</td>\n",
              "      <td>1233</td>\n",
              "    </tr>\n",
              "    <tr>\n",
              "      <th>1295</th>\n",
              "      <td>Drug</td>\n",
              "      <td>Seroquel</td>\n",
              "      <td>1</td>\n",
              "      <td>1</td>\n",
              "      <td>1233</td>\n",
              "    </tr>\n",
              "    <tr>\n",
              "      <th>1296</th>\n",
              "      <td>Drug</td>\n",
              "      <td>Solaraze</td>\n",
              "      <td>1</td>\n",
              "      <td>1</td>\n",
              "      <td>1233</td>\n",
              "    </tr>\n",
              "    <tr>\n",
              "      <th>1297</th>\n",
              "      <td>Drug</td>\n",
              "      <td>Tagamet</td>\n",
              "      <td>1</td>\n",
              "      <td>1</td>\n",
              "      <td>1233</td>\n",
              "    </tr>\n",
              "    <tr>\n",
              "      <th>1298</th>\n",
              "      <td>Drug</td>\n",
              "      <td>testosterone</td>\n",
              "      <td>1</td>\n",
              "      <td>1</td>\n",
              "      <td>1233</td>\n",
              "    </tr>\n",
              "  </tbody>\n",
              "</table>\n",
              "<p>1299 rows × 5 columns</p>\n",
              "</div>\n",
              "      <button class=\"colab-df-convert\" onclick=\"convertToInteractive('df-a82f4a2b-1ee1-409a-b20d-026fd9939fe3')\"\n",
              "              title=\"Convert this dataframe to an interactive table.\"\n",
              "              style=\"display:none;\">\n",
              "        \n",
              "  <svg xmlns=\"http://www.w3.org/2000/svg\" height=\"24px\"viewBox=\"0 0 24 24\"\n",
              "       width=\"24px\">\n",
              "    <path d=\"M0 0h24v24H0V0z\" fill=\"none\"/>\n",
              "    <path d=\"M18.56 5.44l.94 2.06.94-2.06 2.06-.94-2.06-.94-.94-2.06-.94 2.06-2.06.94zm-11 1L8.5 8.5l.94-2.06 2.06-.94-2.06-.94L8.5 2.5l-.94 2.06-2.06.94zm10 10l.94 2.06.94-2.06 2.06-.94-2.06-.94-.94-2.06-.94 2.06-2.06.94z\"/><path d=\"M17.41 7.96l-1.37-1.37c-.4-.4-.92-.59-1.43-.59-.52 0-1.04.2-1.43.59L10.3 9.45l-7.72 7.72c-.78.78-.78 2.05 0 2.83L4 21.41c.39.39.9.59 1.41.59.51 0 1.02-.2 1.41-.59l7.78-7.78 2.81-2.81c.8-.78.8-2.07 0-2.86zM5.41 20L4 18.59l7.72-7.72 1.47 1.35L5.41 20z\"/>\n",
              "  </svg>\n",
              "      </button>\n",
              "      \n",
              "  <style>\n",
              "    .colab-df-container {\n",
              "      display:flex;\n",
              "      flex-wrap:wrap;\n",
              "      gap: 12px;\n",
              "    }\n",
              "\n",
              "    .colab-df-convert {\n",
              "      background-color: #E8F0FE;\n",
              "      border: none;\n",
              "      border-radius: 50%;\n",
              "      cursor: pointer;\n",
              "      display: none;\n",
              "      fill: #1967D2;\n",
              "      height: 32px;\n",
              "      padding: 0 0 0 0;\n",
              "      width: 32px;\n",
              "    }\n",
              "\n",
              "    .colab-df-convert:hover {\n",
              "      background-color: #E2EBFA;\n",
              "      box-shadow: 0px 1px 2px rgba(60, 64, 67, 0.3), 0px 1px 3px 1px rgba(60, 64, 67, 0.15);\n",
              "      fill: #174EA6;\n",
              "    }\n",
              "\n",
              "    [theme=dark] .colab-df-convert {\n",
              "      background-color: #3B4455;\n",
              "      fill: #D2E3FC;\n",
              "    }\n",
              "\n",
              "    [theme=dark] .colab-df-convert:hover {\n",
              "      background-color: #434B5C;\n",
              "      box-shadow: 0px 1px 3px 1px rgba(0, 0, 0, 0.15);\n",
              "      filter: drop-shadow(0px 1px 2px rgba(0, 0, 0, 0.3));\n",
              "      fill: #FFFFFF;\n",
              "    }\n",
              "  </style>\n",
              "\n",
              "      <script>\n",
              "        const buttonEl =\n",
              "          document.querySelector('#df-a82f4a2b-1ee1-409a-b20d-026fd9939fe3 button.colab-df-convert');\n",
              "        buttonEl.style.display =\n",
              "          google.colab.kernel.accessAllowed ? 'block' : 'none';\n",
              "\n",
              "        async function convertToInteractive(key) {\n",
              "          const element = document.querySelector('#df-a82f4a2b-1ee1-409a-b20d-026fd9939fe3');\n",
              "          const dataTable =\n",
              "            await google.colab.kernel.invokeFunction('convertToInteractive',\n",
              "                                                     [key], {});\n",
              "          if (!dataTable) return;\n",
              "\n",
              "          const docLinkHtml = 'Like what you see? Visit the ' +\n",
              "            '<a target=\"_blank\" href=https://colab.research.google.com/notebooks/data_table.ipynb>data table notebook</a>'\n",
              "            + ' to learn more about interactive tables.';\n",
              "          element.innerHTML = '';\n",
              "          dataTable['output_type'] = 'display_data';\n",
              "          await google.colab.output.renderOutput(dataTable, element);\n",
              "          const docLink = document.createElement('div');\n",
              "          docLink.innerHTML = docLinkHtml;\n",
              "          element.appendChild(docLink);\n",
              "        }\n",
              "      </script>\n",
              "    </div>\n",
              "  </div>\n",
              "  "
            ],
            "text/plain": [
              "          ner        meddra  counts_exploded  counts  counts_exploded_rank\n",
              "0        Drug       Lipitor             1081    1073                     1\n",
              "1         ADR  CONCEPT_LESS             1016     266                     2\n",
              "2         ADR   Severe_pain              722     247                     3\n",
              "3         ADR       Myalgia              619     305                     4\n",
              "4         ADR          Pain              292     260                     5\n",
              "...       ...           ...              ...     ...                   ...\n",
              "1294  Finding      Senility                1       1                  1233\n",
              "1295     Drug      Seroquel                1       1                  1233\n",
              "1296     Drug      Solaraze                1       1                  1233\n",
              "1297     Drug       Tagamet                1       1                  1233\n",
              "1298     Drug  testosterone                1       1                  1233\n",
              "\n",
              "[1299 rows x 5 columns]"
            ]
          },
          "execution_count": 25,
          "metadata": {},
          "output_type": "execute_result"
        }
      ],
      "source": [
        "meddra_counts = pd.read_csv(data_save_dir+'/meddra_counts.csv')\n",
        "meddra_counts"
      ]
    },
    {
      "cell_type": "code",
      "execution_count": 26,
      "metadata": {
        "colab": {
          "base_uri": "https://localhost:8080/",
          "height": 423
        },
        "id": "xzc4Zo0PtGii",
        "outputId": "b411bc73-79a1-43c3-c3e2-b2f33c003bbb"
      },
      "outputs": [
        {
          "data": {
            "text/html": [
              "\n",
              "  <div id=\"df-f96d75b7-94a3-4888-a8a8-3232322c82b0\">\n",
              "    <div class=\"colab-df-container\">\n",
              "      <div>\n",
              "<style scoped>\n",
              "    .dataframe tbody tr th:only-of-type {\n",
              "        vertical-align: middle;\n",
              "    }\n",
              "\n",
              "    .dataframe tbody tr th {\n",
              "        vertical-align: top;\n",
              "    }\n",
              "\n",
              "    .dataframe thead th {\n",
              "        text-align: right;\n",
              "    }\n",
              "</style>\n",
              "<table border=\"1\" class=\"dataframe\">\n",
              "  <thead>\n",
              "    <tr style=\"text-align: right;\">\n",
              "      <th></th>\n",
              "      <th>ner</th>\n",
              "      <th>meddra</th>\n",
              "      <th>counts_exploded</th>\n",
              "      <th>counts</th>\n",
              "      <th>counts_exploded_rank</th>\n",
              "    </tr>\n",
              "  </thead>\n",
              "  <tbody>\n",
              "    <tr>\n",
              "      <th>1</th>\n",
              "      <td>ADR</td>\n",
              "      <td>CONCEPT_LESS</td>\n",
              "      <td>1016</td>\n",
              "      <td>266</td>\n",
              "      <td>2</td>\n",
              "    </tr>\n",
              "    <tr>\n",
              "      <th>2</th>\n",
              "      <td>ADR</td>\n",
              "      <td>Severe_pain</td>\n",
              "      <td>722</td>\n",
              "      <td>247</td>\n",
              "      <td>3</td>\n",
              "    </tr>\n",
              "    <tr>\n",
              "      <th>3</th>\n",
              "      <td>ADR</td>\n",
              "      <td>Myalgia</td>\n",
              "      <td>619</td>\n",
              "      <td>305</td>\n",
              "      <td>4</td>\n",
              "    </tr>\n",
              "    <tr>\n",
              "      <th>4</th>\n",
              "      <td>ADR</td>\n",
              "      <td>Pain</td>\n",
              "      <td>292</td>\n",
              "      <td>260</td>\n",
              "      <td>5</td>\n",
              "    </tr>\n",
              "    <tr>\n",
              "      <th>5</th>\n",
              "      <td>ADR</td>\n",
              "      <td>Arthralgia</td>\n",
              "      <td>280</td>\n",
              "      <td>163</td>\n",
              "      <td>6</td>\n",
              "    </tr>\n",
              "    <tr>\n",
              "      <th>...</th>\n",
              "      <td>...</td>\n",
              "      <td>...</td>\n",
              "      <td>...</td>\n",
              "      <td>...</td>\n",
              "      <td>...</td>\n",
              "    </tr>\n",
              "    <tr>\n",
              "      <th>1268</th>\n",
              "      <td>ADR</td>\n",
              "      <td>Labyrinthitis</td>\n",
              "      <td>1</td>\n",
              "      <td>1</td>\n",
              "      <td>1233</td>\n",
              "    </tr>\n",
              "    <tr>\n",
              "      <th>1269</th>\n",
              "      <td>ADR</td>\n",
              "      <td>Dysphagia</td>\n",
              "      <td>1</td>\n",
              "      <td>1</td>\n",
              "      <td>1233</td>\n",
              "    </tr>\n",
              "    <tr>\n",
              "      <th>1275</th>\n",
              "      <td>ADR</td>\n",
              "      <td>Lupus_erythematosus</td>\n",
              "      <td>1</td>\n",
              "      <td>1</td>\n",
              "      <td>1233</td>\n",
              "    </tr>\n",
              "    <tr>\n",
              "      <th>1278</th>\n",
              "      <td>ADR</td>\n",
              "      <td>Cataract</td>\n",
              "      <td>1</td>\n",
              "      <td>1</td>\n",
              "      <td>1233</td>\n",
              "    </tr>\n",
              "    <tr>\n",
              "      <th>1283</th>\n",
              "      <td>ADR</td>\n",
              "      <td>Crying_associated_with_mood</td>\n",
              "      <td>1</td>\n",
              "      <td>1</td>\n",
              "      <td>1233</td>\n",
              "    </tr>\n",
              "  </tbody>\n",
              "</table>\n",
              "<p>800 rows × 5 columns</p>\n",
              "</div>\n",
              "      <button class=\"colab-df-convert\" onclick=\"convertToInteractive('df-f96d75b7-94a3-4888-a8a8-3232322c82b0')\"\n",
              "              title=\"Convert this dataframe to an interactive table.\"\n",
              "              style=\"display:none;\">\n",
              "        \n",
              "  <svg xmlns=\"http://www.w3.org/2000/svg\" height=\"24px\"viewBox=\"0 0 24 24\"\n",
              "       width=\"24px\">\n",
              "    <path d=\"M0 0h24v24H0V0z\" fill=\"none\"/>\n",
              "    <path d=\"M18.56 5.44l.94 2.06.94-2.06 2.06-.94-2.06-.94-.94-2.06-.94 2.06-2.06.94zm-11 1L8.5 8.5l.94-2.06 2.06-.94-2.06-.94L8.5 2.5l-.94 2.06-2.06.94zm10 10l.94 2.06.94-2.06 2.06-.94-2.06-.94-.94-2.06-.94 2.06-2.06.94z\"/><path d=\"M17.41 7.96l-1.37-1.37c-.4-.4-.92-.59-1.43-.59-.52 0-1.04.2-1.43.59L10.3 9.45l-7.72 7.72c-.78.78-.78 2.05 0 2.83L4 21.41c.39.39.9.59 1.41.59.51 0 1.02-.2 1.41-.59l7.78-7.78 2.81-2.81c.8-.78.8-2.07 0-2.86zM5.41 20L4 18.59l7.72-7.72 1.47 1.35L5.41 20z\"/>\n",
              "  </svg>\n",
              "      </button>\n",
              "      \n",
              "  <style>\n",
              "    .colab-df-container {\n",
              "      display:flex;\n",
              "      flex-wrap:wrap;\n",
              "      gap: 12px;\n",
              "    }\n",
              "\n",
              "    .colab-df-convert {\n",
              "      background-color: #E8F0FE;\n",
              "      border: none;\n",
              "      border-radius: 50%;\n",
              "      cursor: pointer;\n",
              "      display: none;\n",
              "      fill: #1967D2;\n",
              "      height: 32px;\n",
              "      padding: 0 0 0 0;\n",
              "      width: 32px;\n",
              "    }\n",
              "\n",
              "    .colab-df-convert:hover {\n",
              "      background-color: #E2EBFA;\n",
              "      box-shadow: 0px 1px 2px rgba(60, 64, 67, 0.3), 0px 1px 3px 1px rgba(60, 64, 67, 0.15);\n",
              "      fill: #174EA6;\n",
              "    }\n",
              "\n",
              "    [theme=dark] .colab-df-convert {\n",
              "      background-color: #3B4455;\n",
              "      fill: #D2E3FC;\n",
              "    }\n",
              "\n",
              "    [theme=dark] .colab-df-convert:hover {\n",
              "      background-color: #434B5C;\n",
              "      box-shadow: 0px 1px 3px 1px rgba(0, 0, 0, 0.15);\n",
              "      filter: drop-shadow(0px 1px 2px rgba(0, 0, 0, 0.3));\n",
              "      fill: #FFFFFF;\n",
              "    }\n",
              "  </style>\n",
              "\n",
              "      <script>\n",
              "        const buttonEl =\n",
              "          document.querySelector('#df-f96d75b7-94a3-4888-a8a8-3232322c82b0 button.colab-df-convert');\n",
              "        buttonEl.style.display =\n",
              "          google.colab.kernel.accessAllowed ? 'block' : 'none';\n",
              "\n",
              "        async function convertToInteractive(key) {\n",
              "          const element = document.querySelector('#df-f96d75b7-94a3-4888-a8a8-3232322c82b0');\n",
              "          const dataTable =\n",
              "            await google.colab.kernel.invokeFunction('convertToInteractive',\n",
              "                                                     [key], {});\n",
              "          if (!dataTable) return;\n",
              "\n",
              "          const docLinkHtml = 'Like what you see? Visit the ' +\n",
              "            '<a target=\"_blank\" href=https://colab.research.google.com/notebooks/data_table.ipynb>data table notebook</a>'\n",
              "            + ' to learn more about interactive tables.';\n",
              "          element.innerHTML = '';\n",
              "          dataTable['output_type'] = 'display_data';\n",
              "          await google.colab.output.renderOutput(dataTable, element);\n",
              "          const docLink = document.createElement('div');\n",
              "          docLink.innerHTML = docLinkHtml;\n",
              "          element.appendChild(docLink);\n",
              "        }\n",
              "      </script>\n",
              "    </div>\n",
              "  </div>\n",
              "  "
            ],
            "text/plain": [
              "      ner                       meddra  counts_exploded  counts  \\\n",
              "1     ADR                 CONCEPT_LESS             1016     266   \n",
              "2     ADR                  Severe_pain              722     247   \n",
              "3     ADR                      Myalgia              619     305   \n",
              "4     ADR                         Pain              292     260   \n",
              "5     ADR                   Arthralgia              280     163   \n",
              "...   ...                          ...              ...     ...   \n",
              "1268  ADR                Labyrinthitis                1       1   \n",
              "1269  ADR                    Dysphagia                1       1   \n",
              "1275  ADR          Lupus_erythematosus                1       1   \n",
              "1278  ADR                     Cataract                1       1   \n",
              "1283  ADR  Crying_associated_with_mood                1       1   \n",
              "\n",
              "      counts_exploded_rank  \n",
              "1                        2  \n",
              "2                        3  \n",
              "3                        4  \n",
              "4                        5  \n",
              "5                        6  \n",
              "...                    ...  \n",
              "1268                  1233  \n",
              "1269                  1233  \n",
              "1275                  1233  \n",
              "1278                  1233  \n",
              "1283                  1233  \n",
              "\n",
              "[800 rows x 5 columns]"
            ]
          },
          "execution_count": 26,
          "metadata": {},
          "output_type": "execute_result"
        }
      ],
      "source": [
        "meddra_counts.loc[meddra_counts.ner == 'ADR',:]"
      ]
    },
    {
      "cell_type": "code",
      "execution_count": 27,
      "metadata": {
        "colab": {
          "base_uri": "https://localhost:8080/"
        },
        "id": "hAGPini7tGii",
        "outputId": "595e8757-695c-4544-8569-1abc3f2667b5"
      },
      "outputs": [
        {
          "data": {
            "text/plain": [
              "[Sentence[117]: \"i feel a bit drowsy & have a little blurred vision , so far no gastric problems . ive been on arthrotec 50 for over 10 years on and off , only taking it when i needed it . due to my arthritis getting progressively worse , to the point where i am in tears with the agony , gp ' s started me on 75 twice a day and i have to take it . every day for the next month to see how i get on , here goes . so far its been very good , pains almost gone , but i feel a bit weird , didnt have that when on 50 .\" → [\"i\"/O/O, \"feel\"/O/O, \"a\"/O/O, \"bit\"/B-ADR/B-Drowsy, \"drowsy\"/I-ADR/I-Drowsy, \"&\"/O/O, \"have\"/O/O, \"a\"/O/O, \"little\"/B-ADR/B-Blurred_vision_-_hazy, \"blurred\"/I-ADR/I-Blurred_vision_-_hazy, \"vision\"/I-ADR/I-Blurred_vision_-_hazy, \",\"/O/O, \"so\"/O/O, \"far\"/O/O, \"no\"/O/O, \"gastric\"/B-ADR/B-Excessive_upper_gastrointestinal_gas, \"problems\"/I-ADR/I-Excessive_upper_gastrointestinal_gas, \".\"/O/O, \"ive\"/O/O, \"been\"/O/O, \"on\"/O/O, \"arthrotec\"/B-Drug/B-Arthrotec, \"50\"/O/O, \"for\"/O/O, \"over\"/O/O, \"10\"/O/O, \"years\"/O/O, \"on\"/O/O, \"and\"/O/O, \"off\"/O/O, \",\"/O/O, \"only\"/O/O, \"taking\"/O/O, \"it\"/O/O, \"when\"/O/O, \"i\"/O/O, \"needed\"/O/O, \"it\"/O/O, \".\"/O/O, \"due\"/O/O, \"to\"/O/O, \"my\"/O/O, \"arthritis\"/B-Disease/B-Arthritis, \"getting\"/O/O, \"progressively\"/O/O, \"worse\"/O/O, \",\"/O/O, \"to\"/O/O, \"the\"/O/O, \"point\"/O/O, \"where\"/O/O, \"i\"/O/O, \"am\"/O/O, \"in\"/O/O, \"tears\"/O/O, \"with\"/O/O, \"the\"/O/O, \"agony\"/B-Symptom/B-Agony, \",\"/O/O, \"gp\"/O/O, \"'\"/O/O, \"s\"/O/O, \"started\"/O/O, \"me\"/O/O, \"on\"/O/O, \"75\"/O/O, \"twice\"/O/O, \"a\"/O/O, \"day\"/O/O, \"and\"/O/O, \"i\"/O/O, \"have\"/O/O, \"to\"/O/O, \"take\"/O/O, \"it\"/O/O, \".\"/O/O, \"every\"/O/O, \"day\"/O/O, \"for\"/O/O, \"the\"/O/O, \"next\"/O/O, \"month\"/O/O, \"to\"/O/O, \"see\"/O/O, \"how\"/O/O, \"i\"/O/O, \"get\"/O/O, \"on\"/O/O, \",\"/O/O, \"here\"/O/O, \"goes\"/O/O, \".\"/O/O, \"so\"/O/O, \"far\"/O/O, \"its\"/O/O, \"been\"/O/O, \"very\"/O/O, \"good\"/O/O, \",\"/O/O, \"pains\"/B-Symptom/B-Pain, \"almost\"/O/O, \"gone\"/O/O, \",\"/O/O, \"but\"/O/O, \"i\"/O/O, \"feel\"/B-ADR/B-Malaise, \"a\"/I-ADR/I-Malaise, \"bit\"/I-ADR/I-Malaise, \"weird\"/I-ADR/I-Malaise, \",\"/O/O, \"didnt\"/O/O, \"have\"/O/O, \"that\"/O/O, \"when\"/O/O, \"on\"/O/O, \"50\"/O/O, \".\"/O/O],\n",
              " Sentence[39]: \"hunger pangs . brilliant , i have a new lease of life , i walk up & down steps properly , no longer sideways like a toddler , hip pain as gone other than if i jar it .\" → [\"hunger\"/B-ADR/B-Hunger_pain, \"pangs\"/I-ADR/I-Hunger_pain, \".\"/O/O, \"brilliant\"/O/O, \",\"/O/O, \"i\"/O/O, \"have\"/O/O, \"a\"/O/O, \"new\"/O/O, \"lease\"/O/O, \"of\"/O/O, \"life\"/O/O, \",\"/O/O, \"i\"/O/O, \"walk\"/B-Symptom/B-CONCEPT_LESS, \"up\"/I-Symptom/I-CONCEPT_LESS, \"&\"/I-Symptom/I-CONCEPT_LESS, \"down\"/I-Symptom/I-CONCEPT_LESS, \"steps\"/I-Symptom/I-CONCEPT_LESS, \"properly\"/O/O, \",\"/O/O, \"no\"/O/O, \"longer\"/O/O, \"sideways\"/I-Symptom/I-CONCEPT_LESS, \"like\"/O/O, \"a\"/O/O, \"toddler\"/O/O, \",\"/O/O, \"hip\"/B-Symptom/B-Hip_pain, \"pain\"/I-Symptom/I-Hip_pain, \"as\"/O/O, \"gone\"/O/O, \"other\"/O/O, \"than\"/O/O, \"if\"/O/O, \"i\"/O/O, \"jar\"/O/O, \"it\"/O/O, \".\"/O/O],\n",
              " Sentence[51]: \"no side effects for the first two months . then vaginal bleeding 2 wks after menstral cycle . stomach pain . canker sores in my mouth . headache . been off for 1 week still have bleeding . helped my pain alot . too scared to take this drug again .\" → [\"no\"/O/O, \"side\"/O/O, \"effects\"/O/O, \"for\"/O/O, \"the\"/O/O, \"first\"/O/O, \"two\"/O/O, \"months\"/O/O, \".\"/O/O, \"then\"/O/O, \"vaginal\"/B-ADR/B-Vaginal_bleeding, \"bleeding\"/I-ADR/I-Vaginal_bleeding, \"2\"/O/O, \"wks\"/O/O, \"after\"/O/O, \"menstral\"/O/O, \"cycle\"/O/O, \".\"/O/O, \"stomach\"/B-ADR/B-Stomach_ache, \"pain\"/I-ADR/I-Stomach_ache, \".\"/O/O, \"canker\"/B-ADR/B-Aphthous_ulcer, \"sores\"/I-ADR/I-Aphthous_ulcer, \"in\"/O/O, \"my\"/O/O, \"mouth\"/O/O, \".\"/O/O, \"headache\"/B-ADR/B-Headache, \".\"/O/O, \"been\"/O/O, \"off\"/O/O, \"for\"/O/O, \"1\"/O/O, \"week\"/O/O, \"still\"/O/O, \"have\"/O/O, \"bleeding\"/O/O, \".\"/O/O, \"helped\"/O/O, \"my\"/O/O, \"pain\"/B-Symptom/B-Pain, \"alot\"/O/O, \".\"/O/O, \"too\"/O/O, \"scared\"/O/O, \"to\"/O/O, \"take\"/O/O, \"this\"/O/O, \"drug\"/O/O, \"again\"/O/O, \".\"/O/O],\n",
              " Sentence[68]: \"1st pill taken with food , a few hours after i experienced shortness of breath , a sense of depression , cramping , upset stomache will stop taking immediately . honestly can not recommend this drug , i am still experiencing side effects just after 1 pill and im supposed to take twice / day 75mg . i just cant keep going have to try something else .\" → [\"1st\"/O/O, \"pill\"/O/O, \"taken\"/O/O, \"with\"/O/O, \"food\"/O/O, \",\"/O/O, \"a\"/O/O, \"few\"/O/O, \"hours\"/O/O, \"after\"/O/O, \"i\"/O/O, \"experienced\"/O/O, \"shortness\"/B-ADR/B-Dyspnoea, \"of\"/I-ADR/I-Dyspnoea, \"breath\"/I-ADR/I-Dyspnoea, \",\"/O/O, \"a\"/O/O, \"sense\"/O/O, \"of\"/O/O, \"depression\"/B-ADR/B-Depression, \",\"/O/O, \"cramping\"/B-ADR/B-Muscle_cramp, \",\"/O/O, \"upset\"/B-ADR/B-Upset_stomach, \"stomache\"/I-ADR/I-Upset_stomach, \"will\"/O/O, \"stop\"/O/O, \"taking\"/O/O, \"immediately\"/O/O, \".\"/O/O, \"honestly\"/O/O, \"can\"/O/O, \"not\"/O/O, \"recommend\"/O/O, \"this\"/O/O, \"drug\"/O/O, \",\"/O/O, \"i\"/O/O, \"am\"/O/O, \"still\"/O/O, \"experiencing\"/O/O, \"side\"/O/O, \"effects\"/O/O, \"just\"/O/O, \"after\"/O/O, \"1\"/O/O, \"pill\"/O/O, \"and\"/O/O, \"im\"/O/O, \"supposed\"/O/O, \"to\"/O/O, \"take\"/O/O, \"twice\"/O/O, \"/\"/O/O, \"day\"/O/O, \"75mg\"/O/O, \".\"/O/O, \"i\"/O/O, \"just\"/O/O, \"cant\"/O/O, \"keep\"/O/O, \"going\"/O/O, \"have\"/O/O, \"to\"/O/O, \"try\"/O/O, \"something\"/O/O, \"else\"/O/O, \".\"/O/O],\n",
              " Sentence[50]: \"i have had no side effects been taking arthrotec a little over a year , have not noticed any side effects . it does help alot i noticed that when there are times when i forget to take it i cant stand or walk for any lengths of time .\" → [\"i\"/O/O, \"have\"/O/O, \"had\"/O/O, \"no\"/O/O, \"side\"/O/O, \"effects\"/O/O, \"been\"/O/O, \"taking\"/O/O, \"arthrotec\"/B-Drug/B-Arthrotec, \"a\"/O/O, \"little\"/O/O, \"over\"/O/O, \"a\"/O/O, \"year\"/O/O, \",\"/O/O, \"have\"/O/O, \"not\"/O/O, \"noticed\"/O/O, \"any\"/O/O, \"side\"/O/O, \"effects\"/O/O, \".\"/O/O, \"it\"/O/O, \"does\"/O/O, \"help\"/O/O, \"alot\"/O/O, \"i\"/O/O, \"noticed\"/O/O, \"that\"/O/O, \"when\"/O/O, \"there\"/O/O, \"are\"/O/O, \"times\"/O/O, \"when\"/O/O, \"i\"/O/O, \"forget\"/O/O, \"to\"/O/O, \"take\"/O/O, \"it\"/O/O, \"i\"/B-Symptom/B-Reduced_mobility, \"cant\"/I-Symptom/I-Reduced_mobility, \"stand\"/I-Symptom/I-Reduced_mobility, \"or\"/I-Symptom/I-Reduced_mobility, \"walk\"/I-Symptom/I-Reduced_mobility, \"for\"/I-Symptom/I-Reduced_mobility, \"any\"/I-Symptom/I-Reduced_mobility, \"lengths\"/I-Symptom/I-Reduced_mobility, \"of\"/I-Symptom/I-Reduced_mobility, \"time\"/I-Symptom/I-Reduced_mobility, \".\"/O/O],\n",
              " Sentence[89]: \"it seems as if bleeding forever is a side effect but doctors tell you that its not the drug . i have been on arthotec for three months i still have pain and stiffness . at first week into this drug i was in so much pain i sat on the floor at work and thought i was gaving a baby . i always feel weak and almost fainted a bunch of times . consider somthing that works i am switching today as this isnt in my head .\" → [\"it\"/O/O, \"seems\"/O/O, \"as\"/O/O, \"if\"/O/O, \"bleeding\"/B-ADR/B-Bleeding, \"forever\"/O/O, \"is\"/O/O, \"a\"/O/O, \"side\"/O/O, \"effect\"/O/O, \"but\"/O/O, \"doctors\"/O/O, \"tell\"/O/O, \"you\"/O/O, \"that\"/O/O, \"its\"/O/O, \"not\"/O/O, \"the\"/O/O, \"drug\"/O/O, \".\"/O/O, \"i\"/O/O, \"have\"/O/O, \"been\"/O/O, \"on\"/O/O, \"arthotec\"/B-Drug/B-Arthrotec, \"for\"/O/O, \"three\"/O/O, \"months\"/O/O, \"i\"/O/O, \"still\"/O/O, \"have\"/O/O, \"pain\"/B-Symptom/B-Pain, \"and\"/I-Symptom/I-Pain, \"stiffness\"/I-Symptom/I-Pain, \".\"/O/O, \"at\"/O/O, \"first\"/O/O, \"week\"/O/O, \"into\"/O/O, \"this\"/O/O, \"drug\"/O/O, \"i\"/O/O, \"was\"/O/O, \"in\"/O/O, \"so\"/B-ADR/B-Pain, \"much\"/I-ADR/I-Pain, \"pain\"/I-ADR/I-Pain, \"i\"/O/O, \"sat\"/O/O, \"on\"/O/O, \"the\"/O/O, \"floor\"/O/O, \"at\"/O/O, \"work\"/O/O, \"and\"/O/O, \"thought\"/O/O, \"i\"/O/O, \"was\"/O/O, \"gaving\"/O/O, \"a\"/O/O, \"baby\"/O/O, \".\"/O/O, \"i\"/O/O, \"always\"/O/O, \"feel\"/B-ADR/B-Malaise_and_fatigue, \"weak\"/I-ADR/I-Malaise_and_fatigue, \"and\"/I-ADR/I-Malaise_and_fatigue, \"almost\"/I-ADR/I-Malaise_and_fatigue, \"fainted\"/I-ADR/I-Malaise_and_fatigue, \"a\"/O/O, \"bunch\"/O/O, \"of\"/O/O, \"times\"/O/O, \".\"/O/O, \"consider\"/O/O, \"somthing\"/O/O, \"that\"/O/O, \"works\"/O/O, \"i\"/O/O, \"am\"/O/O, \"switching\"/O/O, \"today\"/O/O, \"as\"/O/O, \"this\"/O/O, \"isnt\"/O/O, \"in\"/O/O, \"my\"/O/O, \"head\"/O/O, \".\"/O/O],\n",
              " Sentence[56]: \"some diarrhea , some constipation , fatigue . it works very well for the heel ; i couldnt walk on it very well before taking it . i take 75mg . twice a day . also have severe osteoarthritis in the knees and hands , but it doesnt seem to relieve that pain at all .\" → [\"some\"/O/O, \"diarrhea\"/B-ADR/B-Diarrhoea, \",\"/O/O, \"some\"/O/O, \"constipation\"/B-ADR/B-Constipation, \",\"/O/O, \"fatigue\"/B-ADR/B-Fatigue, \".\"/O/O, \"it\"/O/O, \"works\"/O/O, \"very\"/O/O, \"well\"/O/O, \"for\"/O/O, \"the\"/B-Symptom/B-Walking_disability, \"heel\"/I-Symptom/I-Walking_disability, \";\"/O/O, \"i\"/I-Symptom/I-Walking_disability, \"couldnt\"/I-Symptom/I-Walking_disability, \"walk\"/I-Symptom/I-Walking_disability, \"on\"/I-Symptom/I-Walking_disability, \"it\"/O/O, \"very\"/I-Symptom/I-Walking_disability, \"well\"/I-Symptom/I-Walking_disability, \"before\"/O/O, \"taking\"/O/O, \"it\"/O/O, \".\"/O/O, \"i\"/O/O, \"take\"/O/O, \"75mg\"/O/O, \".\"/O/O, \"twice\"/O/O, \"a\"/O/O, \"day\"/O/O, \".\"/O/O, \"also\"/O/O, \"have\"/O/O, \"severe\"/B-Disease/B-Osteoarthritis_of_knee/B-Osteoarthrosis_of_hand, \"osteoarthritis\"/I-Disease/I-Osteoarthritis_of_knee/I-Osteoarthrosis_of_hand, \"in\"/I-Disease/I-Osteoarthritis_of_knee/I-Osteoarthrosis_of_hand, \"the\"/I-Disease/I-Osteoarthritis_of_knee/I-Osteoarthrosis_of_hand, \"knees\"/I-Disease/I-Osteoarthritis_of_knee, \"and\"/O/O, \"hands\"/I-Disease/I-Osteoarthrosis_of_hand, \",\"/O/O, \"but\"/O/O, \"it\"/O/O, \"doesnt\"/O/O, \"seem\"/O/O, \"to\"/O/O, \"relieve\"/O/O, \"that\"/O/O, \"pain\"/B-Symptom/B-Pain, \"at\"/O/O, \"all\"/O/O, \".\"/O/O],\n",
              " Sentence[84]: \"ive been on 75mg twice daily for 13 days , with recent body swelling , face , wrists , abdomen , thighs - clothes fit tight . insomina is much worse . i have forgetfulnes and confussion - really bad - almost dangerous . have felt \" empty stomach \" feeling , but not bothersome . have had more loose stools , but tolerable . im looking for a more natural therapy , checking into ha ( hyaluronic acid ) to replace arthrotec .\" → [\"ive\"/O/O, \"been\"/O/O, \"on\"/O/O, \"75mg\"/O/O, \"twice\"/O/O, \"daily\"/O/O, \"for\"/O/O, \"13\"/O/O, \"days\"/O/O, \",\"/O/O, \"with\"/O/O, \"recent\"/O/O, \"body\"/B-ADR/B-Swelling_of_body_region, \"swelling\"/B-ADR/I-ADR/B-Abdominal_swelling/B-Facial_swelling/I-Swelling_of_body_region/B-Swelling_of_lower_limb/B-Swelling_of_wrist_joint, \",\"/O/O, \"face\"/I-ADR/I-Facial_swelling, \",\"/O/O, \"wrists\"/I-ADR/I-Swelling_of_wrist_joint, \",\"/O/O, \"abdomen\"/I-ADR/I-Abdominal_swelling, \",\"/O/O, \"thighs\"/I-ADR/I-Swelling_of_lower_limb, \"-\"/O/O, \"clothes\"/O/O, \"fit\"/O/O, \"tight\"/O/O, \".\"/O/O, \"insomina\"/B-ADR/B-Insomnia, \"is\"/O/O, \"much\"/O/O, \"worse\"/O/O, \".\"/O/O, \"i\"/O/O, \"have\"/O/O, \"forgetfulnes\"/B-ADR/B-Forgetful, \"and\"/I-ADR/I-Forgetful, \"confussion\"/I-ADR/I-Forgetful, \"-\"/O/O, \"really\"/O/O, \"bad\"/O/O, \"-\"/O/O, \"almost\"/O/O, \"dangerous\"/O/O, \".\"/O/O, \"have\"/O/O, \"felt\"/O/O, \"\"\"/B-ADR/B-Feeling_empty, \"empty\"/I-ADR/I-Feeling_empty, \"stomach\"/I-ADR/I-Feeling_empty, \"\"\"/I-ADR/I-Feeling_empty, \"feeling\"/I-ADR/I-Feeling_empty, \",\"/O/O, \"but\"/O/O, \"not\"/O/O, \"bothersome\"/O/O, \".\"/O/O, \"have\"/O/O, \"had\"/O/O, \"more\"/O/O, \"loose\"/B-ADR/B-Loose_stool, \"stools\"/I-ADR/I-Loose_stool, \",\"/O/O, \"but\"/O/O, \"tolerable\"/O/O, \".\"/O/O, \"im\"/O/O, \"looking\"/O/O, \"for\"/O/O, \"a\"/O/O, \"more\"/O/O, \"natural\"/O/O, \"therapy\"/O/O, \",\"/O/O, \"checking\"/O/O, \"into\"/O/O, \"ha\"/B-Drug/B-CONCEPT_LESS, \"(\"/I-Drug/I-CONCEPT_LESS, \"hyaluronic\"/I-Drug/I-CONCEPT_LESS, \"acid\"/I-Drug/I-CONCEPT_LESS, \")\"/I-Drug/I-CONCEPT_LESS, \"to\"/O/O, \"replace\"/O/O, \"arthrotec\"/B-Drug/B-Arthrotec, \".\"/O/O],\n",
              " Sentence[68]: \"none that i can think of . i recently had bilateral knee replacement . prior to that , arthrotec was the only drug that helped . i tried every drug on the market , but , to no avail . i took 50 mg . 3 times a day of arthrotec and was almost pain free . i highly recommend it to anyone that suffers from arthritis .\" → [\"none\"/O/O, \"that\"/O/O, \"i\"/O/O, \"can\"/O/O, \"think\"/O/O, \"of\"/O/O, \".\"/O/O, \"i\"/O/O, \"recently\"/O/O, \"had\"/O/O, \"bilateral\"/O/O, \"knee\"/O/O, \"replacement\"/O/O, \".\"/O/O, \"prior\"/O/O, \"to\"/O/O, \"that\"/O/O, \",\"/O/O, \"arthrotec\"/B-Drug/B-Arthrotec, \"was\"/O/O, \"the\"/O/O, \"only\"/O/O, \"drug\"/O/O, \"that\"/O/O, \"helped\"/O/O, \".\"/O/O, \"i\"/O/O, \"tried\"/O/O, \"every\"/O/O, \"drug\"/O/O, \"on\"/O/O, \"the\"/O/O, \"market\"/O/O, \",\"/O/O, \"but\"/O/O, \",\"/O/O, \"to\"/O/O, \"no\"/O/O, \"avail\"/O/O, \".\"/O/O, \"i\"/O/O, \"took\"/O/O, \"50\"/O/O, \"mg\"/O/O, \".\"/O/O, \"3\"/O/O, \"times\"/O/O, \"a\"/O/O, \"day\"/O/O, \"of\"/O/O, \"arthrotec\"/B-Drug/B-Arthrotec, \"and\"/O/O, \"was\"/O/O, \"almost\"/O/O, \"pain\"/B-Symptom/B-Pain, \"free\"/O/O, \".\"/O/O, \"i\"/O/O, \"highly\"/O/O, \"recommend\"/O/O, \"it\"/O/O, \"to\"/O/O, \"anyone\"/O/O, \"that\"/O/O, \"suffers\"/O/O, \"from\"/O/O, \"arthritis\"/B-Finding/B-Arthritis, \".\"/O/O],\n",
              " Sentence[28]: \"hospitalization due extreme rectal bleed that required blood transfusion . i was extremely sick and initially felt i might not survive . should be removed from market .\" → [\"hospitalization\"/O/O, \"due\"/O/O, \"extreme\"/O/O, \"rectal\"/B-ADR/B-Rectal_haemorrhage, \"bleed\"/I-ADR/I-Rectal_haemorrhage, \"that\"/O/O, \"required\"/O/O, \"blood\"/O/O, \"transfusion\"/O/O, \".\"/O/O, \"i\"/O/O, \"was\"/O/O, \"extremely\"/B-ADR/B-Generally_unwell, \"sick\"/I-ADR/I-Generally_unwell, \"and\"/O/O, \"initially\"/O/O, \"felt\"/B-ADR/B-CONCEPT_LESS, \"i\"/I-ADR/I-CONCEPT_LESS, \"might\"/I-ADR/I-CONCEPT_LESS, \"not\"/I-ADR/I-CONCEPT_LESS, \"survive\"/I-ADR/I-CONCEPT_LESS, \".\"/O/O, \"should\"/O/O, \"be\"/O/O, \"removed\"/O/O, \"from\"/O/O, \"market\"/O/O, \".\"/O/O]]"
            ]
          },
          "execution_count": 27,
          "metadata": {},
          "output_type": "execute_result"
        }
      ],
      "source": [
        "with open(data_save_dir+'/cadec_flair_objects.pkl', 'rb') as f:\n",
        "    docs = pickle.load(f)\n",
        "docs[:10]"
      ]
    },
    {
      "cell_type": "code",
      "execution_count": 28,
      "metadata": {
        "colab": {
          "base_uri": "https://localhost:8080/"
        },
        "id": "sW10pPAPtGij",
        "outputId": "2e025817-05b4-4147-ae43-d1ebc2d81b6e"
      },
      "outputs": [
        {
          "data": {
            "text/plain": [
              "1186"
            ]
          },
          "execution_count": 28,
          "metadata": {},
          "output_type": "execute_result"
        }
      ],
      "source": [
        "len(docs)"
      ]
    },
    {
      "cell_type": "code",
      "execution_count": 29,
      "metadata": {
        "colab": {
          "base_uri": "https://localhost:8080/"
        },
        "id": "EMT5TsNStGij",
        "outputId": "7f68894a-2d23-442d-f8ff-4bc93fc736e6"
      },
      "outputs": [
        {
          "data": {
            "text/plain": [
              "Sentence[117]: \"i feel a bit drowsy & have a little blurred vision , so far no gastric problems . ive been on arthrotec 50 for over 10 years on and off , only taking it when i needed it . due to my arthritis getting progressively worse , to the point where i am in tears with the agony , gp ' s started me on 75 twice a day and i have to take it . every day for the next month to see how i get on , here goes . so far its been very good , pains almost gone , but i feel a bit weird , didnt have that when on 50 .\" → [\"i\"/O/O, \"feel\"/O/O, \"a\"/O/O, \"bit\"/B-ADR/B-Drowsy, \"drowsy\"/I-ADR/I-Drowsy, \"&\"/O/O, \"have\"/O/O, \"a\"/O/O, \"little\"/B-ADR/B-Blurred_vision_-_hazy, \"blurred\"/I-ADR/I-Blurred_vision_-_hazy, \"vision\"/I-ADR/I-Blurred_vision_-_hazy, \",\"/O/O, \"so\"/O/O, \"far\"/O/O, \"no\"/O/O, \"gastric\"/B-ADR/B-Excessive_upper_gastrointestinal_gas, \"problems\"/I-ADR/I-Excessive_upper_gastrointestinal_gas, \".\"/O/O, \"ive\"/O/O, \"been\"/O/O, \"on\"/O/O, \"arthrotec\"/B-Drug/B-Arthrotec, \"50\"/O/O, \"for\"/O/O, \"over\"/O/O, \"10\"/O/O, \"years\"/O/O, \"on\"/O/O, \"and\"/O/O, \"off\"/O/O, \",\"/O/O, \"only\"/O/O, \"taking\"/O/O, \"it\"/O/O, \"when\"/O/O, \"i\"/O/O, \"needed\"/O/O, \"it\"/O/O, \".\"/O/O, \"due\"/O/O, \"to\"/O/O, \"my\"/O/O, \"arthritis\"/B-Disease/B-Arthritis, \"getting\"/O/O, \"progressively\"/O/O, \"worse\"/O/O, \",\"/O/O, \"to\"/O/O, \"the\"/O/O, \"point\"/O/O, \"where\"/O/O, \"i\"/O/O, \"am\"/O/O, \"in\"/O/O, \"tears\"/O/O, \"with\"/O/O, \"the\"/O/O, \"agony\"/B-Symptom/B-Agony, \",\"/O/O, \"gp\"/O/O, \"'\"/O/O, \"s\"/O/O, \"started\"/O/O, \"me\"/O/O, \"on\"/O/O, \"75\"/O/O, \"twice\"/O/O, \"a\"/O/O, \"day\"/O/O, \"and\"/O/O, \"i\"/O/O, \"have\"/O/O, \"to\"/O/O, \"take\"/O/O, \"it\"/O/O, \".\"/O/O, \"every\"/O/O, \"day\"/O/O, \"for\"/O/O, \"the\"/O/O, \"next\"/O/O, \"month\"/O/O, \"to\"/O/O, \"see\"/O/O, \"how\"/O/O, \"i\"/O/O, \"get\"/O/O, \"on\"/O/O, \",\"/O/O, \"here\"/O/O, \"goes\"/O/O, \".\"/O/O, \"so\"/O/O, \"far\"/O/O, \"its\"/O/O, \"been\"/O/O, \"very\"/O/O, \"good\"/O/O, \",\"/O/O, \"pains\"/B-Symptom/B-Pain, \"almost\"/O/O, \"gone\"/O/O, \",\"/O/O, \"but\"/O/O, \"i\"/O/O, \"feel\"/B-ADR/B-Malaise, \"a\"/I-ADR/I-Malaise, \"bit\"/I-ADR/I-Malaise, \"weird\"/I-ADR/I-Malaise, \",\"/O/O, \"didnt\"/O/O, \"have\"/O/O, \"that\"/O/O, \"when\"/O/O, \"on\"/O/O, \"50\"/O/O, \".\"/O/O]"
            ]
          },
          "execution_count": 29,
          "metadata": {},
          "output_type": "execute_result"
        }
      ],
      "source": [
        "temp = docs[0]\n",
        "temp"
      ]
    },
    {
      "cell_type": "code",
      "execution_count": 30,
      "metadata": {
        "colab": {
          "base_uri": "https://localhost:8080/"
        },
        "id": "2EeTdfHstGij",
        "outputId": "84c95e66-a28a-4fa0-96d0-ecdc36f030c6"
      },
      "outputs": [
        {
          "data": {
            "text/plain": [
              "{'ner': ['Token[0]: \"i\"'/'O' (1.0),\n",
              "  'Token[1]: \"feel\"'/'O' (1.0),\n",
              "  'Token[2]: \"a\"'/'O' (1.0),\n",
              "  'Token[3]: \"bit\"'/'B-ADR' (1.0),\n",
              "  'Token[4]: \"drowsy\"'/'I-ADR' (1.0),\n",
              "  'Token[5]: \"&\"'/'O' (1.0),\n",
              "  'Token[6]: \"have\"'/'O' (1.0),\n",
              "  'Token[7]: \"a\"'/'O' (1.0),\n",
              "  'Token[8]: \"little\"'/'B-ADR' (1.0),\n",
              "  'Token[9]: \"blurred\"'/'I-ADR' (1.0),\n",
              "  'Token[10]: \"vision\"'/'I-ADR' (1.0),\n",
              "  'Token[11]: \",\"'/'O' (1.0),\n",
              "  'Token[12]: \"so\"'/'O' (1.0),\n",
              "  'Token[13]: \"far\"'/'O' (1.0),\n",
              "  'Token[14]: \"no\"'/'O' (1.0),\n",
              "  'Token[15]: \"gastric\"'/'B-ADR' (1.0),\n",
              "  'Token[16]: \"problems\"'/'I-ADR' (1.0),\n",
              "  'Token[17]: \".\"'/'O' (1.0),\n",
              "  'Token[18]: \"ive\"'/'O' (1.0),\n",
              "  'Token[19]: \"been\"'/'O' (1.0),\n",
              "  'Token[20]: \"on\"'/'O' (1.0),\n",
              "  'Token[21]: \"arthrotec\"'/'B-Drug' (1.0),\n",
              "  'Token[22]: \"50\"'/'O' (1.0),\n",
              "  'Token[23]: \"for\"'/'O' (1.0),\n",
              "  'Token[24]: \"over\"'/'O' (1.0),\n",
              "  'Token[25]: \"10\"'/'O' (1.0),\n",
              "  'Token[26]: \"years\"'/'O' (1.0),\n",
              "  'Token[27]: \"on\"'/'O' (1.0),\n",
              "  'Token[28]: \"and\"'/'O' (1.0),\n",
              "  'Token[29]: \"off\"'/'O' (1.0),\n",
              "  'Token[30]: \",\"'/'O' (1.0),\n",
              "  'Token[31]: \"only\"'/'O' (1.0),\n",
              "  'Token[32]: \"taking\"'/'O' (1.0),\n",
              "  'Token[33]: \"it\"'/'O' (1.0),\n",
              "  'Token[34]: \"when\"'/'O' (1.0),\n",
              "  'Token[35]: \"i\"'/'O' (1.0),\n",
              "  'Token[36]: \"needed\"'/'O' (1.0),\n",
              "  'Token[37]: \"it\"'/'O' (1.0),\n",
              "  'Token[38]: \".\"'/'O' (1.0),\n",
              "  'Token[39]: \"due\"'/'O' (1.0),\n",
              "  'Token[40]: \"to\"'/'O' (1.0),\n",
              "  'Token[41]: \"my\"'/'O' (1.0),\n",
              "  'Token[42]: \"arthritis\"'/'B-Disease' (1.0),\n",
              "  'Token[43]: \"getting\"'/'O' (1.0),\n",
              "  'Token[44]: \"progressively\"'/'O' (1.0),\n",
              "  'Token[45]: \"worse\"'/'O' (1.0),\n",
              "  'Token[46]: \",\"'/'O' (1.0),\n",
              "  'Token[47]: \"to\"'/'O' (1.0),\n",
              "  'Token[48]: \"the\"'/'O' (1.0),\n",
              "  'Token[49]: \"point\"'/'O' (1.0),\n",
              "  'Token[50]: \"where\"'/'O' (1.0),\n",
              "  'Token[51]: \"i\"'/'O' (1.0),\n",
              "  'Token[52]: \"am\"'/'O' (1.0),\n",
              "  'Token[53]: \"in\"'/'O' (1.0),\n",
              "  'Token[54]: \"tears\"'/'O' (1.0),\n",
              "  'Token[55]: \"with\"'/'O' (1.0),\n",
              "  'Token[56]: \"the\"'/'O' (1.0),\n",
              "  'Token[57]: \"agony\"'/'B-Symptom' (1.0),\n",
              "  'Token[58]: \",\"'/'O' (1.0),\n",
              "  'Token[59]: \"gp\"'/'O' (1.0),\n",
              "  'Token[60]: \"'\"'/'O' (1.0),\n",
              "  'Token[61]: \"s\"'/'O' (1.0),\n",
              "  'Token[62]: \"started\"'/'O' (1.0),\n",
              "  'Token[63]: \"me\"'/'O' (1.0),\n",
              "  'Token[64]: \"on\"'/'O' (1.0),\n",
              "  'Token[65]: \"75\"'/'O' (1.0),\n",
              "  'Token[66]: \"twice\"'/'O' (1.0),\n",
              "  'Token[67]: \"a\"'/'O' (1.0),\n",
              "  'Token[68]: \"day\"'/'O' (1.0),\n",
              "  'Token[69]: \"and\"'/'O' (1.0),\n",
              "  'Token[70]: \"i\"'/'O' (1.0),\n",
              "  'Token[71]: \"have\"'/'O' (1.0),\n",
              "  'Token[72]: \"to\"'/'O' (1.0),\n",
              "  'Token[73]: \"take\"'/'O' (1.0),\n",
              "  'Token[74]: \"it\"'/'O' (1.0),\n",
              "  'Token[75]: \".\"'/'O' (1.0),\n",
              "  'Token[76]: \"every\"'/'O' (1.0),\n",
              "  'Token[77]: \"day\"'/'O' (1.0),\n",
              "  'Token[78]: \"for\"'/'O' (1.0),\n",
              "  'Token[79]: \"the\"'/'O' (1.0),\n",
              "  'Token[80]: \"next\"'/'O' (1.0),\n",
              "  'Token[81]: \"month\"'/'O' (1.0),\n",
              "  'Token[82]: \"to\"'/'O' (1.0),\n",
              "  'Token[83]: \"see\"'/'O' (1.0),\n",
              "  'Token[84]: \"how\"'/'O' (1.0),\n",
              "  'Token[85]: \"i\"'/'O' (1.0),\n",
              "  'Token[86]: \"get\"'/'O' (1.0),\n",
              "  'Token[87]: \"on\"'/'O' (1.0),\n",
              "  'Token[88]: \",\"'/'O' (1.0),\n",
              "  'Token[89]: \"here\"'/'O' (1.0),\n",
              "  'Token[90]: \"goes\"'/'O' (1.0),\n",
              "  'Token[91]: \".\"'/'O' (1.0),\n",
              "  'Token[92]: \"so\"'/'O' (1.0),\n",
              "  'Token[93]: \"far\"'/'O' (1.0),\n",
              "  'Token[94]: \"its\"'/'O' (1.0),\n",
              "  'Token[95]: \"been\"'/'O' (1.0),\n",
              "  'Token[96]: \"very\"'/'O' (1.0),\n",
              "  'Token[97]: \"good\"'/'O' (1.0),\n",
              "  'Token[98]: \",\"'/'O' (1.0),\n",
              "  'Token[99]: \"pains\"'/'B-Symptom' (1.0),\n",
              "  'Token[100]: \"almost\"'/'O' (1.0),\n",
              "  'Token[101]: \"gone\"'/'O' (1.0),\n",
              "  'Token[102]: \",\"'/'O' (1.0),\n",
              "  'Token[103]: \"but\"'/'O' (1.0),\n",
              "  'Token[104]: \"i\"'/'O' (1.0),\n",
              "  'Token[105]: \"feel\"'/'B-ADR' (1.0),\n",
              "  'Token[106]: \"a\"'/'I-ADR' (1.0),\n",
              "  'Token[107]: \"bit\"'/'I-ADR' (1.0),\n",
              "  'Token[108]: \"weird\"'/'I-ADR' (1.0),\n",
              "  'Token[109]: \",\"'/'O' (1.0),\n",
              "  'Token[110]: \"didnt\"'/'O' (1.0),\n",
              "  'Token[111]: \"have\"'/'O' (1.0),\n",
              "  'Token[112]: \"that\"'/'O' (1.0),\n",
              "  'Token[113]: \"when\"'/'O' (1.0),\n",
              "  'Token[114]: \"on\"'/'O' (1.0),\n",
              "  'Token[115]: \"50\"'/'O' (1.0),\n",
              "  'Token[116]: \".\"'/'O' (1.0)],\n",
              " 'meddra': ['Token[0]: \"i\"'/'O' (1.0),\n",
              "  'Token[1]: \"feel\"'/'O' (1.0),\n",
              "  'Token[2]: \"a\"'/'O' (1.0),\n",
              "  'Token[3]: \"bit\"'/'B-Drowsy' (1.0),\n",
              "  'Token[4]: \"drowsy\"'/'I-Drowsy' (1.0),\n",
              "  'Token[5]: \"&\"'/'O' (1.0),\n",
              "  'Token[6]: \"have\"'/'O' (1.0),\n",
              "  'Token[7]: \"a\"'/'O' (1.0),\n",
              "  'Token[8]: \"little\"'/'B-Blurred_vision_-_hazy' (1.0),\n",
              "  'Token[9]: \"blurred\"'/'I-Blurred_vision_-_hazy' (1.0),\n",
              "  'Token[10]: \"vision\"'/'I-Blurred_vision_-_hazy' (1.0),\n",
              "  'Token[11]: \",\"'/'O' (1.0),\n",
              "  'Token[12]: \"so\"'/'O' (1.0),\n",
              "  'Token[13]: \"far\"'/'O' (1.0),\n",
              "  'Token[14]: \"no\"'/'O' (1.0),\n",
              "  'Token[15]: \"gastric\"'/'B-Excessive_upper_gastrointestinal_gas' (1.0),\n",
              "  'Token[16]: \"problems\"'/'I-Excessive_upper_gastrointestinal_gas' (1.0),\n",
              "  'Token[17]: \".\"'/'O' (1.0),\n",
              "  'Token[18]: \"ive\"'/'O' (1.0),\n",
              "  'Token[19]: \"been\"'/'O' (1.0),\n",
              "  'Token[20]: \"on\"'/'O' (1.0),\n",
              "  'Token[21]: \"arthrotec\"'/'B-Arthrotec' (1.0),\n",
              "  'Token[22]: \"50\"'/'O' (1.0),\n",
              "  'Token[23]: \"for\"'/'O' (1.0),\n",
              "  'Token[24]: \"over\"'/'O' (1.0),\n",
              "  'Token[25]: \"10\"'/'O' (1.0),\n",
              "  'Token[26]: \"years\"'/'O' (1.0),\n",
              "  'Token[27]: \"on\"'/'O' (1.0),\n",
              "  'Token[28]: \"and\"'/'O' (1.0),\n",
              "  'Token[29]: \"off\"'/'O' (1.0),\n",
              "  'Token[30]: \",\"'/'O' (1.0),\n",
              "  'Token[31]: \"only\"'/'O' (1.0),\n",
              "  'Token[32]: \"taking\"'/'O' (1.0),\n",
              "  'Token[33]: \"it\"'/'O' (1.0),\n",
              "  'Token[34]: \"when\"'/'O' (1.0),\n",
              "  'Token[35]: \"i\"'/'O' (1.0),\n",
              "  'Token[36]: \"needed\"'/'O' (1.0),\n",
              "  'Token[37]: \"it\"'/'O' (1.0),\n",
              "  'Token[38]: \".\"'/'O' (1.0),\n",
              "  'Token[39]: \"due\"'/'O' (1.0),\n",
              "  'Token[40]: \"to\"'/'O' (1.0),\n",
              "  'Token[41]: \"my\"'/'O' (1.0),\n",
              "  'Token[42]: \"arthritis\"'/'B-Arthritis' (1.0),\n",
              "  'Token[43]: \"getting\"'/'O' (1.0),\n",
              "  'Token[44]: \"progressively\"'/'O' (1.0),\n",
              "  'Token[45]: \"worse\"'/'O' (1.0),\n",
              "  'Token[46]: \",\"'/'O' (1.0),\n",
              "  'Token[47]: \"to\"'/'O' (1.0),\n",
              "  'Token[48]: \"the\"'/'O' (1.0),\n",
              "  'Token[49]: \"point\"'/'O' (1.0),\n",
              "  'Token[50]: \"where\"'/'O' (1.0),\n",
              "  'Token[51]: \"i\"'/'O' (1.0),\n",
              "  'Token[52]: \"am\"'/'O' (1.0),\n",
              "  'Token[53]: \"in\"'/'O' (1.0),\n",
              "  'Token[54]: \"tears\"'/'O' (1.0),\n",
              "  'Token[55]: \"with\"'/'O' (1.0),\n",
              "  'Token[56]: \"the\"'/'O' (1.0),\n",
              "  'Token[57]: \"agony\"'/'B-Agony' (1.0),\n",
              "  'Token[58]: \",\"'/'O' (1.0),\n",
              "  'Token[59]: \"gp\"'/'O' (1.0),\n",
              "  'Token[60]: \"'\"'/'O' (1.0),\n",
              "  'Token[61]: \"s\"'/'O' (1.0),\n",
              "  'Token[62]: \"started\"'/'O' (1.0),\n",
              "  'Token[63]: \"me\"'/'O' (1.0),\n",
              "  'Token[64]: \"on\"'/'O' (1.0),\n",
              "  'Token[65]: \"75\"'/'O' (1.0),\n",
              "  'Token[66]: \"twice\"'/'O' (1.0),\n",
              "  'Token[67]: \"a\"'/'O' (1.0),\n",
              "  'Token[68]: \"day\"'/'O' (1.0),\n",
              "  'Token[69]: \"and\"'/'O' (1.0),\n",
              "  'Token[70]: \"i\"'/'O' (1.0),\n",
              "  'Token[71]: \"have\"'/'O' (1.0),\n",
              "  'Token[72]: \"to\"'/'O' (1.0),\n",
              "  'Token[73]: \"take\"'/'O' (1.0),\n",
              "  'Token[74]: \"it\"'/'O' (1.0),\n",
              "  'Token[75]: \".\"'/'O' (1.0),\n",
              "  'Token[76]: \"every\"'/'O' (1.0),\n",
              "  'Token[77]: \"day\"'/'O' (1.0),\n",
              "  'Token[78]: \"for\"'/'O' (1.0),\n",
              "  'Token[79]: \"the\"'/'O' (1.0),\n",
              "  'Token[80]: \"next\"'/'O' (1.0),\n",
              "  'Token[81]: \"month\"'/'O' (1.0),\n",
              "  'Token[82]: \"to\"'/'O' (1.0),\n",
              "  'Token[83]: \"see\"'/'O' (1.0),\n",
              "  'Token[84]: \"how\"'/'O' (1.0),\n",
              "  'Token[85]: \"i\"'/'O' (1.0),\n",
              "  'Token[86]: \"get\"'/'O' (1.0),\n",
              "  'Token[87]: \"on\"'/'O' (1.0),\n",
              "  'Token[88]: \",\"'/'O' (1.0),\n",
              "  'Token[89]: \"here\"'/'O' (1.0),\n",
              "  'Token[90]: \"goes\"'/'O' (1.0),\n",
              "  'Token[91]: \".\"'/'O' (1.0),\n",
              "  'Token[92]: \"so\"'/'O' (1.0),\n",
              "  'Token[93]: \"far\"'/'O' (1.0),\n",
              "  'Token[94]: \"its\"'/'O' (1.0),\n",
              "  'Token[95]: \"been\"'/'O' (1.0),\n",
              "  'Token[96]: \"very\"'/'O' (1.0),\n",
              "  'Token[97]: \"good\"'/'O' (1.0),\n",
              "  'Token[98]: \",\"'/'O' (1.0),\n",
              "  'Token[99]: \"pains\"'/'B-Pain' (1.0),\n",
              "  'Token[100]: \"almost\"'/'O' (1.0),\n",
              "  'Token[101]: \"gone\"'/'O' (1.0),\n",
              "  'Token[102]: \",\"'/'O' (1.0),\n",
              "  'Token[103]: \"but\"'/'O' (1.0),\n",
              "  'Token[104]: \"i\"'/'O' (1.0),\n",
              "  'Token[105]: \"feel\"'/'B-Malaise' (1.0),\n",
              "  'Token[106]: \"a\"'/'I-Malaise' (1.0),\n",
              "  'Token[107]: \"bit\"'/'I-Malaise' (1.0),\n",
              "  'Token[108]: \"weird\"'/'I-Malaise' (1.0),\n",
              "  'Token[109]: \",\"'/'O' (1.0),\n",
              "  'Token[110]: \"didnt\"'/'O' (1.0),\n",
              "  'Token[111]: \"have\"'/'O' (1.0),\n",
              "  'Token[112]: \"that\"'/'O' (1.0),\n",
              "  'Token[113]: \"when\"'/'O' (1.0),\n",
              "  'Token[114]: \"on\"'/'O' (1.0),\n",
              "  'Token[115]: \"50\"'/'O' (1.0),\n",
              "  'Token[116]: \".\"'/'O' (1.0)]}"
            ]
          },
          "execution_count": 30,
          "metadata": {},
          "output_type": "execute_result"
        }
      ],
      "source": [
        "temp.annotation_layers"
      ]
    },
    {
      "cell_type": "code",
      "execution_count": 31,
      "metadata": {
        "id": "4CsGKKB6tGik"
      },
      "outputs": [],
      "source": [
        "\n",
        "# define your NER tags\n",
        "label_dict = {\n",
        "    'ADR': 'ADR',\n",
        "    'Drug': 'Drug',\n",
        "    'Finding': 'Finding',\n",
        "    'Symptom': 'Symptom',\n",
        "    'Disease': 'Disease'\n",
        "}"
      ]
    },
    {
      "cell_type": "code",
      "execution_count": 32,
      "metadata": {
        "colab": {
          "base_uri": "https://localhost:8080/"
        },
        "id": "QmNsy8AltGik",
        "outputId": "69c8d489-44a6-43b1-d9b4-0f621345039b"
      },
      "outputs": [
        {
          "name": "stdout",
          "output_type": "stream",
          "text": [
            "2023-04-21 07:35:59,379 Filtering empty sentences\n",
            "2023-04-21 07:35:59,398 Corpus: 948 train + 119 dev + 119 test sentences\n",
            "2023-04-21 07:35:59,399 Computing label dictionary. Progress:\n"
          ]
        },
        {
          "name": "stderr",
          "output_type": "stream",
          "text": [
            "948it [00:00, 7337.79it/s]"
          ]
        },
        {
          "name": "stdout",
          "output_type": "stream",
          "text": [
            "2023-04-21 07:35:59,533 Dictionary created for label 'ner' with 12 values: O (seen 79057 times), I-ADR (seen 7953 times), B-ADR (seen 4712 times), B-Drug (seen 1396 times), I-Finding (seen 349 times), B-Finding (seen 309 times), B-Disease (seen 231 times), B-Symptom (seen 222 times), I-Symptom (seen 218 times), I-Disease (seen 169 times), I-Drug (seen 161 times)\n",
            "False\n"
          ]
        },
        {
          "name": "stderr",
          "output_type": "stream",
          "text": [
            "\n"
          ]
        },
        {
          "name": "stdout",
          "output_type": "stream",
          "text": [
            "2023-04-21 07:36:09,703 SequenceTagger predicts: Dictionary with 12 tags: <unk>, O, I-ADR, B-ADR, B-Drug, I-Finding, B-Finding, B-Disease, B-Symptom, I-Symptom, I-Disease, I-Drug\n",
            "True\n",
            "False\n"
          ]
        }
      ],
      "source": [
        "from flair.data import Corpus\n",
        "\n",
        "from flair.embeddings import WordEmbeddings, FlairEmbeddings, StackedEmbeddings, TransformerWordEmbeddings\n",
        "from flair.models import SequenceTagger\n",
        "from flair.trainers import ModelTrainer\n",
        "from sklearn.model_selection import train_test_split\n",
        "\n",
        "from torch.optim import AdamW, SGD\n",
        "\n",
        "from flair.visual.training_curves import Plotter\n",
        "plotter = Plotter()\n",
        "\n",
        "\n",
        "\n",
        "train_docs, test_docs = train_test_split(docs, test_size=0.2, random_state=321)\n",
        "dev_docs, test_docs = train_test_split(test_docs, test_size=0.5, random_state=123)\n",
        "\n",
        "corpus = Corpus(train=train_docs, dev=dev_docs, test=test_docs) # Corpus: 948 train + 119 dev + 119 test sentences\n",
        "corpus.filter_empty_sentences()\n",
        "# # create a tag dictionary\n",
        "labels = ['ADR', 'Drug', 'Finding', 'Symptom', 'Disease']\n",
        "# tag_dictionary = Dictionary(add_unk=True)\n",
        "# for label in labels:\n",
        "#     tag_dictionary.add_item(label)\n",
        "tag_dictionary = corpus.make_label_dictionary(label_type='ner')\n",
        "print(tag_dictionary.span_labels)\n",
        "\n",
        "# create a stacked embedding using GloVe and Flair embeddings\n",
        "# stacked_embeddings = StackedEmbeddings([\n",
        "#     WordEmbeddings('glove',\n",
        "#                    force_cpu=False,\n",
        "#                 #    embedding_length=1024,\n",
        "#                   #  fine_tune=True,\n",
        "#                    ),\n",
        "#     # TransformerWordEmbeddings('emilyalsentzer/Bio_ClinicalBERT', layers=\"-1\",\n",
        "#     #                                    subtoken_pooling=\"first\",\n",
        "#     #                                    is_document_embedding=True,\n",
        "#     #                                    fine_tune=True,\n",
        "#     #                                    use_context=True,\n",
        "#     #                                    max_seq_length=1024,\n",
        "#     #                                    ),\n",
        "#     FlairEmbeddings('news-forward',\n",
        "#                     # fine_tune=True\n",
        "#                     ),\n",
        "#     FlairEmbeddings('news-backward',\n",
        "#                     # fine_tune=True\n",
        "#                     ),\n",
        "# ])\n",
        "# https://github.com/flairNLP/flair/blob/master/resources/docs/embeddings/FLAIR_EMBEDDINGS.md\n",
        "\n",
        "\n",
        "embeddings = TransformerWordEmbeddings(model='xlm-roberta-large',\n",
        "                                       layers=\"-1\",\n",
        "                                       subtoken_pooling=\"first\",\n",
        "                                       fine_tune=True,\n",
        "                                       use_context=True,\n",
        "                                       )\n",
        "\n",
        "# create a SequenceTagger object and specify the tag dictionary and embeddings to use\n",
        "tagger = SequenceTagger(hidden_size=256,\n",
        "                        # embeddings=stacked_embeddings,\n",
        "                        embeddings=embeddings,\n",
        "                        tag_dictionary=tag_dictionary,\n",
        "                        tag_type='ner',\n",
        "                        use_crf=False,\n",
        "                        use_rnn=False,\n",
        "                        reproject_embeddings=False,\n",
        "                        )\n",
        "tagger.predict_spans = False\n",
        "\n",
        "print(tagger._determine_if_span_prediction_problem(tagger.label_dictionary))\n",
        "print(tagger.predict_spans)\n",
        "\n",
        "# https://github.com/flairNLP/flair/blob/master/flair/trainers/trainer.py\n",
        "# create a ModelTrainer object and train the tagger\n",
        "trainer = ModelTrainer(tagger, corpus)"
      ]
    },
    {
      "cell_type": "code",
      "execution_count": 33,
      "metadata": {
        "id": "fh0zU2jHAA4J"
      },
      "outputs": [],
      "source": [
        "# !tensorboard --logdir=runs\n",
        "# http://localhost:6006/"
      ]
    },
    {
      "cell_type": "code",
      "execution_count": 34,
      "metadata": {
        "colab": {
          "base_uri": "https://localhost:8080/"
        },
        "id": "UKTMzxV8zF9o",
        "outputId": "fa286397-a438-4fa6-92d2-726b15fd954a"
      },
      "outputs": [
        {
          "name": "stdout",
          "output_type": "stream",
          "text": [
            "2023-04-21 07:36:09,731 tensorboard logging path is runs/tb_logs_v3_xlm-roberta-large\n",
            "2023-04-21 07:36:09,742 ----------------------------------------------------------------------------------------------------\n",
            "2023-04-21 07:36:09,746 Model: \"SequenceTagger(\n",
            "  (embeddings): TransformerWordEmbeddings(\n",
            "    (model): XLMRobertaModel(\n",
            "      (embeddings): XLMRobertaEmbeddings(\n",
            "        (word_embeddings): Embedding(250003, 1024)\n",
            "        (position_embeddings): Embedding(514, 1024, padding_idx=1)\n",
            "        (token_type_embeddings): Embedding(1, 1024)\n",
            "        (LayerNorm): LayerNorm((1024,), eps=1e-05, elementwise_affine=True)\n",
            "        (dropout): Dropout(p=0.1, inplace=False)\n",
            "      )\n",
            "      (encoder): XLMRobertaEncoder(\n",
            "        (layer): ModuleList(\n",
            "          (0-23): 24 x XLMRobertaLayer(\n",
            "            (attention): XLMRobertaAttention(\n",
            "              (self): XLMRobertaSelfAttention(\n",
            "                (query): Linear(in_features=1024, out_features=1024, bias=True)\n",
            "                (key): Linear(in_features=1024, out_features=1024, bias=True)\n",
            "                (value): Linear(in_features=1024, out_features=1024, bias=True)\n",
            "                (dropout): Dropout(p=0.1, inplace=False)\n",
            "              )\n",
            "              (output): XLMRobertaSelfOutput(\n",
            "                (dense): Linear(in_features=1024, out_features=1024, bias=True)\n",
            "                (LayerNorm): LayerNorm((1024,), eps=1e-05, elementwise_affine=True)\n",
            "                (dropout): Dropout(p=0.1, inplace=False)\n",
            "              )\n",
            "            )\n",
            "            (intermediate): XLMRobertaIntermediate(\n",
            "              (dense): Linear(in_features=1024, out_features=4096, bias=True)\n",
            "              (intermediate_act_fn): GELUActivation()\n",
            "            )\n",
            "            (output): XLMRobertaOutput(\n",
            "              (dense): Linear(in_features=4096, out_features=1024, bias=True)\n",
            "              (LayerNorm): LayerNorm((1024,), eps=1e-05, elementwise_affine=True)\n",
            "              (dropout): Dropout(p=0.1, inplace=False)\n",
            "            )\n",
            "          )\n",
            "        )\n",
            "      )\n",
            "      (pooler): XLMRobertaPooler(\n",
            "        (dense): Linear(in_features=1024, out_features=1024, bias=True)\n",
            "        (activation): Tanh()\n",
            "      )\n",
            "    )\n",
            "  )\n",
            "  (locked_dropout): LockedDropout(p=0.5)\n",
            "  (linear): Linear(in_features=1024, out_features=12, bias=True)\n",
            "  (loss_function): CrossEntropyLoss()\n",
            ")\"\n",
            "2023-04-21 07:36:09,747 ----------------------------------------------------------------------------------------------------\n",
            "2023-04-21 07:36:09,749 Corpus: \"Corpus: 948 train + 119 dev + 119 test sentences\"\n",
            "2023-04-21 07:36:09,750 ----------------------------------------------------------------------------------------------------\n",
            "2023-04-21 07:36:09,752 Parameters:\n",
            "2023-04-21 07:36:09,753  - learning_rate: \"0.000005\"\n",
            "2023-04-21 07:36:09,755  - mini_batch_size: \"10\"\n",
            "2023-04-21 07:36:09,756  - patience: \"1\"\n",
            "2023-04-21 07:36:09,758  - anneal_factor: \"0.5\"\n",
            "2023-04-21 07:36:09,761  - max_epochs: \"100\"\n",
            "2023-04-21 07:36:09,763  - shuffle: \"True\"\n",
            "2023-04-21 07:36:09,765  - train_with_dev: \"False\"\n",
            "2023-04-21 07:36:09,767  - batch_growth_annealing: \"False\"\n",
            "2023-04-21 07:36:09,768 ----------------------------------------------------------------------------------------------------\n",
            "2023-04-21 07:36:09,769 Model training base path: \"flair_ner_model_v3_xlm-roberta-large\"\n",
            "2023-04-21 07:36:09,771 ----------------------------------------------------------------------------------------------------\n",
            "2023-04-21 07:36:09,772 Device: cuda:0\n",
            "2023-04-21 07:36:09,774 ----------------------------------------------------------------------------------------------------\n",
            "2023-04-21 07:36:09,775 Embeddings storage mode: gpu\n",
            "2023-04-21 07:36:09,776 ----------------------------------------------------------------------------------------------------\n",
            "2023-04-21 07:36:15,163 epoch 1 - iter 9/95 - loss 2.26951271 - time (sec): 5.38 - samples/sec: 1783.05 - lr: 0.000005\n",
            "2023-04-21 07:36:20,124 epoch 1 - iter 18/95 - loss 1.92179547 - time (sec): 10.35 - samples/sec: 1717.86 - lr: 0.000005\n",
            "2023-04-21 07:36:25,184 epoch 1 - iter 27/95 - loss 1.59466512 - time (sec): 15.41 - samples/sec: 1709.83 - lr: 0.000005\n",
            "2023-04-21 07:36:30,363 epoch 1 - iter 36/95 - loss 1.36754664 - time (sec): 20.58 - samples/sec: 1711.02 - lr: 0.000005\n",
            "2023-04-21 07:36:35,528 epoch 1 - iter 45/95 - loss 1.21319999 - time (sec): 25.75 - samples/sec: 1697.53 - lr: 0.000005\n",
            "2023-04-21 07:36:41,008 epoch 1 - iter 54/95 - loss 1.09643894 - time (sec): 31.23 - samples/sec: 1692.12 - lr: 0.000005\n",
            "2023-04-21 07:36:49,543 epoch 1 - iter 63/95 - loss 1.00476623 - time (sec): 39.76 - samples/sec: 1573.25 - lr: 0.000005\n",
            "2023-04-21 07:36:54,712 epoch 1 - iter 72/95 - loss 0.93325901 - time (sec): 44.93 - samples/sec: 1589.43 - lr: 0.000005\n",
            "2023-04-21 07:36:59,807 epoch 1 - iter 81/95 - loss 0.87550287 - time (sec): 50.03 - samples/sec: 1607.44 - lr: 0.000005\n",
            "2023-04-21 07:37:05,698 epoch 1 - iter 90/95 - loss 0.82738589 - time (sec): 55.92 - samples/sec: 1599.05 - lr: 0.000005\n",
            "2023-04-21 07:37:09,105 ----------------------------------------------------------------------------------------------------\n",
            "2023-04-21 07:37:09,107 EPOCH 1 done: loss 0.7998 - lr 0.000005\n"
          ]
        },
        {
          "name": "stderr",
          "output_type": "stream",
          "text": [
            "100%|██████████| 95/95 [00:21<00:00,  4.35it/s]"
          ]
        },
        {
          "name": "stdout",
          "output_type": "stream",
          "text": [
            "2023-04-21 07:37:31,056 Evaluating as a multi-label problem: True\n"
          ]
        },
        {
          "name": "stderr",
          "output_type": "stream",
          "text": [
            "\n"
          ]
        },
        {
          "name": "stdout",
          "output_type": "stream",
          "text": [
            "2023-04-21 07:37:33,991 TRAIN : loss 0.3060855567455292 - f1-score (weighted avg)  0.5341\n"
          ]
        },
        {
          "name": "stderr",
          "output_type": "stream",
          "text": [
            "100%|██████████| 12/12 [00:03<00:00,  3.94it/s]"
          ]
        },
        {
          "name": "stdout",
          "output_type": "stream",
          "text": [
            "2023-04-21 07:37:37,183 Evaluating as a multi-label problem: False\n",
            "2023-04-21 07:37:37,250 DEV : loss 0.324864000082016 - f1-score (weighted avg)  0.5074\n",
            "2023-04-21 07:37:37,270 BAD EPOCHS (no improvement): 0\n",
            "2023-04-21 07:37:37,275 saving best model\n"
          ]
        },
        {
          "name": "stderr",
          "output_type": "stream",
          "text": [
            "\n"
          ]
        },
        {
          "name": "stdout",
          "output_type": "stream",
          "text": [
            "2023-04-21 07:37:55,405 ----------------------------------------------------------------------------------------------------\n",
            "2023-04-21 07:38:00,256 epoch 2 - iter 9/95 - loss 0.37533373 - time (sec): 4.85 - samples/sec: 1718.68 - lr: 0.000005\n",
            "2023-04-21 07:38:05,288 epoch 2 - iter 18/95 - loss 0.36437762 - time (sec): 9.88 - samples/sec: 1694.34 - lr: 0.000005\n",
            "2023-04-21 07:38:10,895 epoch 2 - iter 27/95 - loss 0.35752187 - time (sec): 15.49 - samples/sec: 1685.39 - lr: 0.000005\n",
            "2023-04-21 07:38:16,920 epoch 2 - iter 36/95 - loss 0.34641611 - time (sec): 21.51 - samples/sec: 1677.11 - lr: 0.000005\n",
            "2023-04-21 07:38:23,020 epoch 2 - iter 45/95 - loss 0.34523299 - time (sec): 27.61 - samples/sec: 1621.17 - lr: 0.000005\n",
            "2023-04-21 07:38:29,402 epoch 2 - iter 54/95 - loss 0.33959601 - time (sec): 34.00 - samples/sec: 1611.10 - lr: 0.000005\n",
            "2023-04-21 07:38:34,844 epoch 2 - iter 63/95 - loss 0.33199797 - time (sec): 39.44 - samples/sec: 1610.36 - lr: 0.000005\n",
            "2023-04-21 07:38:40,413 epoch 2 - iter 72/95 - loss 0.32377221 - time (sec): 45.01 - samples/sec: 1610.80 - lr: 0.000005\n",
            "2023-04-21 07:38:45,744 epoch 2 - iter 81/95 - loss 0.31966834 - time (sec): 50.34 - samples/sec: 1621.62 - lr: 0.000005\n",
            "2023-04-21 07:38:51,260 epoch 2 - iter 90/95 - loss 0.31489674 - time (sec): 55.85 - samples/sec: 1608.54 - lr: 0.000005\n",
            "2023-04-21 07:38:54,354 ----------------------------------------------------------------------------------------------------\n",
            "2023-04-21 07:38:54,356 EPOCH 2 done: loss 0.3149 - lr 0.000005\n"
          ]
        },
        {
          "name": "stderr",
          "output_type": "stream",
          "text": [
            "100%|██████████| 95/95 [00:22<00:00,  4.31it/s]"
          ]
        },
        {
          "name": "stdout",
          "output_type": "stream",
          "text": [
            "2023-04-21 07:39:16,523 Evaluating as a multi-label problem: True\n"
          ]
        },
        {
          "name": "stderr",
          "output_type": "stream",
          "text": [
            "\n"
          ]
        },
        {
          "name": "stdout",
          "output_type": "stream",
          "text": [
            "2023-04-21 07:39:18,340 TRAIN : loss 0.21249648928642273 - f1-score (weighted avg)  0.7117\n"
          ]
        },
        {
          "name": "stderr",
          "output_type": "stream",
          "text": [
            "100%|██████████| 12/12 [00:03<00:00,  3.89it/s]\n"
          ]
        },
        {
          "name": "stdout",
          "output_type": "stream",
          "text": [
            "2023-04-21 07:39:22,810 Evaluating as a multi-label problem: False\n",
            "2023-04-21 07:39:22,878 DEV : loss 0.241384819149971 - f1-score (weighted avg)  0.6682\n",
            "2023-04-21 07:39:22,899 BAD EPOCHS (no improvement): 0\n",
            "2023-04-21 07:39:22,904 saving best model\n",
            "2023-04-21 07:39:44,346 ----------------------------------------------------------------------------------------------------\n",
            "2023-04-21 07:39:49,817 epoch 3 - iter 9/95 - loss 0.25569278 - time (sec): 5.47 - samples/sec: 1633.01 - lr: 0.000005\n",
            "2023-04-21 07:39:55,089 epoch 3 - iter 18/95 - loss 0.27213214 - time (sec): 10.74 - samples/sec: 1669.03 - lr: 0.000005\n",
            "2023-04-21 07:40:01,303 epoch 3 - iter 27/95 - loss 0.25853566 - time (sec): 16.95 - samples/sec: 1698.33 - lr: 0.000005\n",
            "2023-04-21 07:40:06,571 epoch 3 - iter 36/95 - loss 0.24904762 - time (sec): 22.22 - samples/sec: 1662.58 - lr: 0.000005\n",
            "2023-04-21 07:40:11,751 epoch 3 - iter 45/95 - loss 0.24884429 - time (sec): 27.40 - samples/sec: 1665.14 - lr: 0.000005\n",
            "2023-04-21 07:40:16,971 epoch 3 - iter 54/95 - loss 0.25366614 - time (sec): 32.62 - samples/sec: 1635.12 - lr: 0.000005\n",
            "2023-04-21 07:40:22,481 epoch 3 - iter 63/95 - loss 0.25466886 - time (sec): 38.13 - samples/sec: 1640.58 - lr: 0.000005\n",
            "2023-04-21 07:40:27,608 epoch 3 - iter 72/95 - loss 0.25399740 - time (sec): 43.26 - samples/sec: 1632.57 - lr: 0.000005\n",
            "2023-04-21 07:40:33,481 epoch 3 - iter 81/95 - loss 0.25564538 - time (sec): 49.13 - samples/sec: 1624.78 - lr: 0.000005\n",
            "2023-04-21 07:40:39,326 epoch 3 - iter 90/95 - loss 0.25260811 - time (sec): 54.98 - samples/sec: 1628.20 - lr: 0.000005\n",
            "2023-04-21 07:40:43,071 ----------------------------------------------------------------------------------------------------\n",
            "2023-04-21 07:40:43,072 EPOCH 3 done: loss 0.2541 - lr 0.000005\n"
          ]
        },
        {
          "name": "stderr",
          "output_type": "stream",
          "text": [
            "100%|██████████| 95/95 [00:22<00:00,  4.29it/s]"
          ]
        },
        {
          "name": "stdout",
          "output_type": "stream",
          "text": [
            "2023-04-21 07:41:05,382 Evaluating as a multi-label problem: True\n"
          ]
        },
        {
          "name": "stderr",
          "output_type": "stream",
          "text": [
            "\n"
          ]
        },
        {
          "name": "stdout",
          "output_type": "stream",
          "text": [
            "2023-04-21 07:41:08,588 TRAIN : loss 0.19729430973529816 - f1-score (weighted avg)  0.7317\n"
          ]
        },
        {
          "name": "stderr",
          "output_type": "stream",
          "text": [
            "100%|██████████| 12/12 [00:03<00:00,  3.90it/s]"
          ]
        },
        {
          "name": "stdout",
          "output_type": "stream",
          "text": [
            "2023-04-21 07:41:11,830 Evaluating as a multi-label problem: False\n",
            "2023-04-21 07:41:11,898 DEV : loss 0.239797443151474 - f1-score (weighted avg)  0.6873\n",
            "2023-04-21 07:41:11,918 BAD EPOCHS (no improvement): 0\n",
            "2023-04-21 07:41:11,923 saving best model\n"
          ]
        },
        {
          "name": "stderr",
          "output_type": "stream",
          "text": [
            "\n"
          ]
        },
        {
          "name": "stdout",
          "output_type": "stream",
          "text": [
            "2023-04-21 07:41:32,404 ----------------------------------------------------------------------------------------------------\n",
            "2023-04-21 07:41:38,513 epoch 4 - iter 9/95 - loss 0.23629125 - time (sec): 6.10 - samples/sec: 1631.30 - lr: 0.000005\n",
            "2023-04-21 07:41:45,091 epoch 4 - iter 18/95 - loss 0.23488347 - time (sec): 12.68 - samples/sec: 1658.32 - lr: 0.000005\n",
            "2023-04-21 07:41:50,867 epoch 4 - iter 27/95 - loss 0.22313980 - time (sec): 18.46 - samples/sec: 1667.05 - lr: 0.000005\n",
            "2023-04-21 07:41:55,737 epoch 4 - iter 36/95 - loss 0.23190845 - time (sec): 23.33 - samples/sec: 1639.51 - lr: 0.000005\n",
            "2023-04-21 07:42:01,278 epoch 4 - iter 45/95 - loss 0.22930707 - time (sec): 28.87 - samples/sec: 1625.77 - lr: 0.000005\n",
            "2023-04-21 07:42:06,933 epoch 4 - iter 54/95 - loss 0.23034481 - time (sec): 34.52 - samples/sec: 1604.10 - lr: 0.000005\n",
            "2023-04-21 07:42:12,417 epoch 4 - iter 63/95 - loss 0.23171734 - time (sec): 40.01 - samples/sec: 1592.59 - lr: 0.000005\n",
            "2023-04-21 07:42:17,796 epoch 4 - iter 72/95 - loss 0.23112161 - time (sec): 45.39 - samples/sec: 1605.08 - lr: 0.000005\n",
            "2023-04-21 07:42:23,223 epoch 4 - iter 81/95 - loss 0.23117375 - time (sec): 50.81 - samples/sec: 1593.95 - lr: 0.000005\n",
            "2023-04-21 07:42:29,036 epoch 4 - iter 90/95 - loss 0.23094468 - time (sec): 56.63 - samples/sec: 1589.92 - lr: 0.000005\n",
            "2023-04-21 07:42:31,683 ----------------------------------------------------------------------------------------------------\n",
            "2023-04-21 07:42:31,684 EPOCH 4 done: loss 0.2294 - lr 0.000005\n"
          ]
        },
        {
          "name": "stderr",
          "output_type": "stream",
          "text": [
            "100%|██████████| 95/95 [00:22<00:00,  4.30it/s]"
          ]
        },
        {
          "name": "stdout",
          "output_type": "stream",
          "text": [
            "2023-04-21 07:42:53,908 Evaluating as a multi-label problem: True\n"
          ]
        },
        {
          "name": "stderr",
          "output_type": "stream",
          "text": [
            "\n"
          ]
        },
        {
          "name": "stdout",
          "output_type": "stream",
          "text": [
            "2023-04-21 07:42:55,649 TRAIN : loss 0.16957058012485504 - f1-score (weighted avg)  0.7579\n"
          ]
        },
        {
          "name": "stderr",
          "output_type": "stream",
          "text": [
            "100%|██████████| 12/12 [00:04<00:00,  2.84it/s]"
          ]
        },
        {
          "name": "stdout",
          "output_type": "stream",
          "text": [
            "2023-04-21 07:43:00,028 Evaluating as a multi-label problem: False\n",
            "2023-04-21 07:43:00,108 DEV : loss 0.22333812713623047 - f1-score (weighted avg)  0.695\n",
            "2023-04-21 07:43:00,129 BAD EPOCHS (no improvement): 0\n",
            "2023-04-21 07:43:00,134 saving best model\n"
          ]
        },
        {
          "name": "stderr",
          "output_type": "stream",
          "text": [
            "\n"
          ]
        },
        {
          "name": "stdout",
          "output_type": "stream",
          "text": [
            "2023-04-21 07:43:20,248 ----------------------------------------------------------------------------------------------------\n",
            "2023-04-21 07:43:25,720 epoch 5 - iter 9/95 - loss 0.19130210 - time (sec): 5.47 - samples/sec: 1558.18 - lr: 0.000005\n",
            "2023-04-21 07:43:31,348 epoch 5 - iter 18/95 - loss 0.18966018 - time (sec): 11.10 - samples/sec: 1553.05 - lr: 0.000005\n",
            "2023-04-21 07:43:36,891 epoch 5 - iter 27/95 - loss 0.19305827 - time (sec): 16.64 - samples/sec: 1582.14 - lr: 0.000005\n",
            "2023-04-21 07:43:42,516 epoch 5 - iter 36/95 - loss 0.19871865 - time (sec): 22.27 - samples/sec: 1568.60 - lr: 0.000005\n",
            "2023-04-21 07:43:47,822 epoch 5 - iter 45/95 - loss 0.19646200 - time (sec): 27.57 - samples/sec: 1575.02 - lr: 0.000005\n",
            "2023-04-21 07:43:52,885 epoch 5 - iter 54/95 - loss 0.19755439 - time (sec): 32.64 - samples/sec: 1602.63 - lr: 0.000005\n",
            "2023-04-21 07:43:57,967 epoch 5 - iter 63/95 - loss 0.19895871 - time (sec): 37.72 - samples/sec: 1590.16 - lr: 0.000005\n",
            "2023-04-21 07:44:04,459 epoch 5 - iter 72/95 - loss 0.19839289 - time (sec): 44.21 - samples/sec: 1606.17 - lr: 0.000005\n",
            "2023-04-21 07:44:09,814 epoch 5 - iter 81/95 - loss 0.19729387 - time (sec): 49.56 - samples/sec: 1621.79 - lr: 0.000005\n",
            "2023-04-21 07:44:15,349 epoch 5 - iter 90/95 - loss 0.19828701 - time (sec): 55.10 - samples/sec: 1637.53 - lr: 0.000005\n",
            "2023-04-21 07:44:18,210 ----------------------------------------------------------------------------------------------------\n",
            "2023-04-21 07:44:18,212 EPOCH 5 done: loss 0.1986 - lr 0.000005\n"
          ]
        },
        {
          "name": "stderr",
          "output_type": "stream",
          "text": [
            "100%|██████████| 95/95 [00:21<00:00,  4.33it/s]"
          ]
        },
        {
          "name": "stdout",
          "output_type": "stream",
          "text": [
            "2023-04-21 07:44:40,299 Evaluating as a multi-label problem: True\n"
          ]
        },
        {
          "name": "stderr",
          "output_type": "stream",
          "text": [
            "\n"
          ]
        },
        {
          "name": "stdout",
          "output_type": "stream",
          "text": [
            "2023-04-21 07:44:43,479 TRAIN : loss 0.1459779441356659 - f1-score (weighted avg)  0.7921\n"
          ]
        },
        {
          "name": "stderr",
          "output_type": "stream",
          "text": [
            "100%|██████████| 12/12 [00:03<00:00,  3.90it/s]"
          ]
        },
        {
          "name": "stdout",
          "output_type": "stream",
          "text": [
            "2023-04-21 07:44:46,703 Evaluating as a multi-label problem: False\n",
            "2023-04-21 07:44:46,770 DEV : loss 0.21410144865512848 - f1-score (weighted avg)  0.7081\n",
            "2023-04-21 07:44:46,790 BAD EPOCHS (no improvement): 0\n",
            "2023-04-21 07:44:46,795 saving best model\n"
          ]
        },
        {
          "name": "stderr",
          "output_type": "stream",
          "text": [
            "\n"
          ]
        },
        {
          "name": "stdout",
          "output_type": "stream",
          "text": [
            "2023-04-21 07:45:06,686 ----------------------------------------------------------------------------------------------------\n",
            "2023-04-21 07:45:11,775 epoch 6 - iter 9/95 - loss 0.19688649 - time (sec): 5.09 - samples/sec: 1771.83 - lr: 0.000005\n",
            "2023-04-21 07:45:17,556 epoch 6 - iter 18/95 - loss 0.17677847 - time (sec): 10.87 - samples/sec: 1613.20 - lr: 0.000005\n",
            "2023-04-21 07:45:22,993 epoch 6 - iter 27/95 - loss 0.18543972 - time (sec): 16.30 - samples/sec: 1609.49 - lr: 0.000005\n",
            "2023-04-21 07:45:27,914 epoch 6 - iter 36/95 - loss 0.18890352 - time (sec): 21.23 - samples/sec: 1581.77 - lr: 0.000005\n",
            "2023-04-21 07:45:33,375 epoch 6 - iter 45/95 - loss 0.18301835 - time (sec): 26.69 - samples/sec: 1573.77 - lr: 0.000005\n",
            "2023-04-21 07:45:39,325 epoch 6 - iter 54/95 - loss 0.18094520 - time (sec): 32.64 - samples/sec: 1580.91 - lr: 0.000005\n",
            "2023-04-21 07:45:45,279 epoch 6 - iter 63/95 - loss 0.17906096 - time (sec): 38.59 - samples/sec: 1582.94 - lr: 0.000005\n",
            "2023-04-21 07:45:51,188 epoch 6 - iter 72/95 - loss 0.18023440 - time (sec): 44.50 - samples/sec: 1586.13 - lr: 0.000005\n",
            "2023-04-21 07:45:56,951 epoch 6 - iter 81/95 - loss 0.17740461 - time (sec): 50.26 - samples/sec: 1593.57 - lr: 0.000005\n",
            "2023-04-21 07:46:02,304 epoch 6 - iter 90/95 - loss 0.17979564 - time (sec): 55.62 - samples/sec: 1612.22 - lr: 0.000005\n",
            "2023-04-21 07:46:05,567 ----------------------------------------------------------------------------------------------------\n",
            "2023-04-21 07:46:05,569 EPOCH 6 done: loss 0.1795 - lr 0.000005\n"
          ]
        },
        {
          "name": "stderr",
          "output_type": "stream",
          "text": [
            "100%|██████████| 95/95 [00:22<00:00,  4.31it/s]"
          ]
        },
        {
          "name": "stdout",
          "output_type": "stream",
          "text": [
            "2023-04-21 07:46:27,713 Evaluating as a multi-label problem: True\n"
          ]
        },
        {
          "name": "stderr",
          "output_type": "stream",
          "text": [
            "\n"
          ]
        },
        {
          "name": "stdout",
          "output_type": "stream",
          "text": [
            "2023-04-21 07:46:29,461 TRAIN : loss 0.1400831639766693 - f1-score (weighted avg)  0.8095\n"
          ]
        },
        {
          "name": "stderr",
          "output_type": "stream",
          "text": [
            "100%|██████████| 12/12 [00:04<00:00,  2.85it/s]"
          ]
        },
        {
          "name": "stdout",
          "output_type": "stream",
          "text": [
            "2023-04-21 07:46:33,820 Evaluating as a multi-label problem: False\n",
            "2023-04-21 07:46:33,892 DEV : loss 0.22532613575458527 - f1-score (weighted avg)  0.721\n",
            "2023-04-21 07:46:33,913 BAD EPOCHS (no improvement): 1\n",
            "2023-04-21 07:46:33,918 ----------------------------------------------------------------------------------------------------\n"
          ]
        },
        {
          "name": "stderr",
          "output_type": "stream",
          "text": [
            "\n"
          ]
        },
        {
          "name": "stdout",
          "output_type": "stream",
          "text": [
            "2023-04-21 07:46:39,678 epoch 7 - iter 9/95 - loss 0.16515490 - time (sec): 5.76 - samples/sec: 1508.34 - lr: 0.000005\n",
            "2023-04-21 07:46:45,020 epoch 7 - iter 18/95 - loss 0.16420167 - time (sec): 11.10 - samples/sec: 1589.01 - lr: 0.000005\n",
            "2023-04-21 07:46:51,559 epoch 7 - iter 27/95 - loss 0.16323890 - time (sec): 17.64 - samples/sec: 1560.45 - lr: 0.000005\n",
            "2023-04-21 07:46:56,962 epoch 7 - iter 36/95 - loss 0.16568565 - time (sec): 23.04 - samples/sec: 1559.59 - lr: 0.000005\n",
            "2023-04-21 07:47:02,100 epoch 7 - iter 45/95 - loss 0.16128516 - time (sec): 28.18 - samples/sec: 1589.92 - lr: 0.000005\n",
            "2023-04-21 07:47:07,951 epoch 7 - iter 54/95 - loss 0.16037188 - time (sec): 34.03 - samples/sec: 1590.55 - lr: 0.000005\n",
            "2023-04-21 07:47:13,310 epoch 7 - iter 63/95 - loss 0.15856220 - time (sec): 39.39 - samples/sec: 1582.96 - lr: 0.000005\n",
            "2023-04-21 07:47:19,238 epoch 7 - iter 72/95 - loss 0.15941379 - time (sec): 45.32 - samples/sec: 1580.40 - lr: 0.000005\n",
            "2023-04-21 07:47:24,474 epoch 7 - iter 81/95 - loss 0.16163258 - time (sec): 50.55 - samples/sec: 1594.34 - lr: 0.000005\n",
            "2023-04-21 07:47:30,925 epoch 7 - iter 90/95 - loss 0.16240893 - time (sec): 57.01 - samples/sec: 1587.53 - lr: 0.000005\n",
            "2023-04-21 07:47:33,716 ----------------------------------------------------------------------------------------------------\n",
            "2023-04-21 07:47:33,718 EPOCH 7 done: loss 0.1621 - lr 0.000005\n"
          ]
        },
        {
          "name": "stderr",
          "output_type": "stream",
          "text": [
            "100%|██████████| 95/95 [00:22<00:00,  4.30it/s]"
          ]
        },
        {
          "name": "stdout",
          "output_type": "stream",
          "text": [
            "2023-04-21 07:47:55,937 Evaluating as a multi-label problem: True\n"
          ]
        },
        {
          "name": "stderr",
          "output_type": "stream",
          "text": [
            "\n"
          ]
        },
        {
          "name": "stdout",
          "output_type": "stream",
          "text": [
            "2023-04-21 07:47:58,939 TRAIN : loss 0.13968247175216675 - f1-score (weighted avg)  0.8132\n"
          ]
        },
        {
          "name": "stderr",
          "output_type": "stream",
          "text": [
            "100%|██████████| 12/12 [00:03<00:00,  3.93it/s]"
          ]
        },
        {
          "name": "stdout",
          "output_type": "stream",
          "text": [
            "2023-04-21 07:48:02,141 Evaluating as a multi-label problem: False\n",
            "2023-04-21 07:48:02,206 DEV : loss 0.2497834414243698 - f1-score (weighted avg)  0.7103\n",
            "2023-04-21 07:48:02,226 Epoch     7: reducing learning rate of group 0 to 2.5000e-06.\n",
            "2023-04-21 07:48:02,228 BAD EPOCHS (no improvement): 2\n",
            "2023-04-21 07:48:02,232 ----------------------------------------------------------------------------------------------------\n"
          ]
        },
        {
          "name": "stderr",
          "output_type": "stream",
          "text": [
            "\n"
          ]
        },
        {
          "name": "stdout",
          "output_type": "stream",
          "text": [
            "2023-04-21 07:48:08,080 epoch 8 - iter 9/95 - loss 0.16680809 - time (sec): 5.85 - samples/sec: 1802.46 - lr: 0.000003\n",
            "2023-04-21 07:48:13,845 epoch 8 - iter 18/95 - loss 0.17264095 - time (sec): 11.61 - samples/sec: 1770.26 - lr: 0.000003\n",
            "2023-04-21 07:48:18,994 epoch 8 - iter 27/95 - loss 0.17455433 - time (sec): 16.76 - samples/sec: 1686.76 - lr: 0.000003\n",
            "2023-04-21 07:48:24,469 epoch 8 - iter 36/95 - loss 0.16539553 - time (sec): 22.24 - samples/sec: 1634.12 - lr: 0.000003\n",
            "2023-04-21 07:48:30,097 epoch 8 - iter 45/95 - loss 0.16343282 - time (sec): 27.86 - samples/sec: 1643.86 - lr: 0.000003\n",
            "2023-04-21 07:48:35,969 epoch 8 - iter 54/95 - loss 0.15941362 - time (sec): 33.74 - samples/sec: 1605.09 - lr: 0.000003\n",
            "2023-04-21 07:48:41,352 epoch 8 - iter 63/95 - loss 0.15916385 - time (sec): 39.12 - samples/sec: 1615.98 - lr: 0.000003\n",
            "2023-04-21 07:48:46,654 epoch 8 - iter 72/95 - loss 0.15646054 - time (sec): 44.42 - samples/sec: 1615.42 - lr: 0.000003\n",
            "2023-04-21 07:48:52,082 epoch 8 - iter 81/95 - loss 0.15434149 - time (sec): 49.85 - samples/sec: 1617.84 - lr: 0.000003\n",
            "2023-04-21 07:48:57,440 epoch 8 - iter 90/95 - loss 0.15444925 - time (sec): 55.21 - samples/sec: 1618.01 - lr: 0.000003\n",
            "2023-04-21 07:49:00,571 ----------------------------------------------------------------------------------------------------\n",
            "2023-04-21 07:49:00,573 EPOCH 8 done: loss 0.1527 - lr 0.000003\n"
          ]
        },
        {
          "name": "stderr",
          "output_type": "stream",
          "text": [
            "100%|██████████| 95/95 [00:21<00:00,  4.35it/s]"
          ]
        },
        {
          "name": "stdout",
          "output_type": "stream",
          "text": [
            "2023-04-21 07:49:22,550 Evaluating as a multi-label problem: True\n"
          ]
        },
        {
          "name": "stderr",
          "output_type": "stream",
          "text": [
            "\n"
          ]
        },
        {
          "name": "stdout",
          "output_type": "stream",
          "text": [
            "2023-04-21 07:49:24,285 TRAIN : loss 0.10666860640048981 - f1-score (weighted avg)  0.8528\n"
          ]
        },
        {
          "name": "stderr",
          "output_type": "stream",
          "text": [
            "100%|██████████| 12/12 [00:04<00:00,  2.88it/s]"
          ]
        },
        {
          "name": "stdout",
          "output_type": "stream",
          "text": [
            "2023-04-21 07:49:28,598 Evaluating as a multi-label problem: False\n",
            "2023-04-21 07:49:28,666 DEV : loss 0.21803835034370422 - f1-score (weighted avg)  0.7324\n",
            "2023-04-21 07:49:28,686 BAD EPOCHS (no improvement): 1\n",
            "2023-04-21 07:49:28,690 ----------------------------------------------------------------------------------------------------\n"
          ]
        },
        {
          "name": "stderr",
          "output_type": "stream",
          "text": [
            "\n"
          ]
        },
        {
          "name": "stdout",
          "output_type": "stream",
          "text": [
            "2023-04-21 07:49:33,852 epoch 9 - iter 9/95 - loss 0.13200214 - time (sec): 5.16 - samples/sec: 1633.71 - lr: 0.000003\n",
            "2023-04-21 07:49:39,639 epoch 9 - iter 18/95 - loss 0.13909331 - time (sec): 10.95 - samples/sec: 1669.76 - lr: 0.000003\n",
            "2023-04-21 07:49:44,763 epoch 9 - iter 27/95 - loss 0.13888725 - time (sec): 16.07 - samples/sec: 1676.62 - lr: 0.000003\n",
            "2023-04-21 07:49:50,682 epoch 9 - iter 36/95 - loss 0.13932750 - time (sec): 21.99 - samples/sec: 1655.78 - lr: 0.000003\n",
            "2023-04-21 07:49:56,425 epoch 9 - iter 45/95 - loss 0.13974123 - time (sec): 27.73 - samples/sec: 1633.23 - lr: 0.000003\n",
            "2023-04-21 07:50:01,729 epoch 9 - iter 54/95 - loss 0.13909779 - time (sec): 33.04 - samples/sec: 1632.63 - lr: 0.000003\n",
            "2023-04-21 07:50:07,095 epoch 9 - iter 63/95 - loss 0.13653336 - time (sec): 38.40 - samples/sec: 1646.40 - lr: 0.000003\n",
            "2023-04-21 07:50:12,862 epoch 9 - iter 72/95 - loss 0.13583081 - time (sec): 44.17 - samples/sec: 1655.94 - lr: 0.000003\n",
            "2023-04-21 07:50:18,269 epoch 9 - iter 81/95 - loss 0.13792140 - time (sec): 49.58 - samples/sec: 1655.01 - lr: 0.000003\n",
            "2023-04-21 07:50:23,842 epoch 9 - iter 90/95 - loss 0.13894482 - time (sec): 55.15 - samples/sec: 1632.87 - lr: 0.000003\n",
            "2023-04-21 07:50:26,424 ----------------------------------------------------------------------------------------------------\n",
            "2023-04-21 07:50:26,425 EPOCH 9 done: loss 0.1388 - lr 0.000003\n"
          ]
        },
        {
          "name": "stderr",
          "output_type": "stream",
          "text": [
            "100%|██████████| 95/95 [00:21<00:00,  4.34it/s]"
          ]
        },
        {
          "name": "stdout",
          "output_type": "stream",
          "text": [
            "2023-04-21 07:50:48,460 Evaluating as a multi-label problem: True\n"
          ]
        },
        {
          "name": "stderr",
          "output_type": "stream",
          "text": [
            "\n"
          ]
        },
        {
          "name": "stdout",
          "output_type": "stream",
          "text": [
            "2023-04-21 07:50:51,459 TRAIN : loss 0.09972985088825226 - f1-score (weighted avg)  0.8608\n"
          ]
        },
        {
          "name": "stderr",
          "output_type": "stream",
          "text": [
            "100%|██████████| 12/12 [00:03<00:00,  3.95it/s]"
          ]
        },
        {
          "name": "stdout",
          "output_type": "stream",
          "text": [
            "2023-04-21 07:50:54,646 Evaluating as a multi-label problem: False\n",
            "2023-04-21 07:50:54,715 DEV : loss 0.22082297503948212 - f1-score (weighted avg)  0.7373\n",
            "2023-04-21 07:50:54,736 Epoch     9: reducing learning rate of group 0 to 1.2500e-06.\n",
            "2023-04-21 07:50:54,738 BAD EPOCHS (no improvement): 2\n",
            "2023-04-21 07:50:54,744 ----------------------------------------------------------------------------------------------------\n"
          ]
        },
        {
          "name": "stderr",
          "output_type": "stream",
          "text": [
            "\n"
          ]
        },
        {
          "name": "stdout",
          "output_type": "stream",
          "text": [
            "2023-04-21 07:51:00,181 epoch 10 - iter 9/95 - loss 0.11637451 - time (sec): 5.44 - samples/sec: 1639.50 - lr: 0.000001\n",
            "2023-04-21 07:51:05,318 epoch 10 - iter 18/95 - loss 0.12731986 - time (sec): 10.57 - samples/sec: 1618.23 - lr: 0.000001\n",
            "2023-04-21 07:51:11,258 epoch 10 - iter 27/95 - loss 0.12879651 - time (sec): 16.51 - samples/sec: 1650.22 - lr: 0.000001\n",
            "2023-04-21 07:51:16,925 epoch 10 - iter 36/95 - loss 0.12216849 - time (sec): 22.18 - samples/sec: 1626.61 - lr: 0.000001\n",
            "2023-04-21 07:51:22,566 epoch 10 - iter 45/95 - loss 0.12725273 - time (sec): 27.82 - samples/sec: 1622.19 - lr: 0.000001\n",
            "2023-04-21 07:51:28,345 epoch 10 - iter 54/95 - loss 0.12786240 - time (sec): 33.60 - samples/sec: 1606.31 - lr: 0.000001\n",
            "2023-04-21 07:51:34,146 epoch 10 - iter 63/95 - loss 0.12588693 - time (sec): 39.40 - samples/sec: 1607.18 - lr: 0.000001\n",
            "2023-04-21 07:51:39,435 epoch 10 - iter 72/95 - loss 0.12533909 - time (sec): 44.69 - samples/sec: 1616.42 - lr: 0.000001\n",
            "2023-04-21 07:51:45,351 epoch 10 - iter 81/95 - loss 0.12585829 - time (sec): 50.61 - samples/sec: 1612.21 - lr: 0.000001\n",
            "2023-04-21 07:51:50,937 epoch 10 - iter 90/95 - loss 0.12677323 - time (sec): 56.19 - samples/sec: 1615.21 - lr: 0.000001\n",
            "2023-04-21 07:51:53,159 ----------------------------------------------------------------------------------------------------\n",
            "2023-04-21 07:51:53,160 EPOCH 10 done: loss 0.1275 - lr 0.000001\n"
          ]
        },
        {
          "name": "stderr",
          "output_type": "stream",
          "text": [
            "100%|██████████| 95/95 [00:21<00:00,  4.34it/s]"
          ]
        },
        {
          "name": "stdout",
          "output_type": "stream",
          "text": [
            "2023-04-21 07:52:15,197 Evaluating as a multi-label problem: True\n"
          ]
        },
        {
          "name": "stderr",
          "output_type": "stream",
          "text": [
            "\n"
          ]
        },
        {
          "name": "stdout",
          "output_type": "stream",
          "text": [
            "2023-04-21 07:52:16,932 TRAIN : loss 0.09424158930778503 - f1-score (weighted avg)  0.8704\n"
          ]
        },
        {
          "name": "stderr",
          "output_type": "stream",
          "text": [
            "100%|██████████| 12/12 [00:04<00:00,  2.88it/s]"
          ]
        },
        {
          "name": "stdout",
          "output_type": "stream",
          "text": [
            "2023-04-21 07:52:21,253 Evaluating as a multi-label problem: False\n",
            "2023-04-21 07:52:21,320 DEV : loss 0.22357980906963348 - f1-score (weighted avg)  0.7356\n",
            "2023-04-21 07:52:21,339 BAD EPOCHS (no improvement): 1\n",
            "2023-04-21 07:52:21,343 ----------------------------------------------------------------------------------------------------\n"
          ]
        },
        {
          "name": "stderr",
          "output_type": "stream",
          "text": [
            "\n"
          ]
        },
        {
          "name": "stdout",
          "output_type": "stream",
          "text": [
            "2023-04-21 07:52:27,619 epoch 11 - iter 9/95 - loss 0.11971198 - time (sec): 6.27 - samples/sec: 1630.79 - lr: 0.000001\n",
            "2023-04-21 07:52:33,168 epoch 11 - iter 18/95 - loss 0.11781361 - time (sec): 11.82 - samples/sec: 1616.42 - lr: 0.000001\n",
            "2023-04-21 07:52:38,205 epoch 11 - iter 27/95 - loss 0.11278141 - time (sec): 16.86 - samples/sec: 1607.70 - lr: 0.000001\n",
            "2023-04-21 07:52:43,679 epoch 11 - iter 36/95 - loss 0.12386910 - time (sec): 22.33 - samples/sec: 1621.29 - lr: 0.000001\n",
            "2023-04-21 07:52:48,676 epoch 11 - iter 45/95 - loss 0.12258755 - time (sec): 27.33 - samples/sec: 1667.62 - lr: 0.000001\n",
            "2023-04-21 07:52:54,331 epoch 11 - iter 54/95 - loss 0.12195036 - time (sec): 32.99 - samples/sec: 1660.32 - lr: 0.000001\n",
            "2023-04-21 07:52:59,741 epoch 11 - iter 63/95 - loss 0.12581929 - time (sec): 38.40 - samples/sec: 1664.05 - lr: 0.000001\n",
            "2023-04-21 07:53:05,406 epoch 11 - iter 72/95 - loss 0.12588287 - time (sec): 44.06 - samples/sec: 1652.57 - lr: 0.000001\n",
            "2023-04-21 07:53:10,495 epoch 11 - iter 81/95 - loss 0.12487625 - time (sec): 49.15 - samples/sec: 1656.53 - lr: 0.000001\n",
            "2023-04-21 07:53:15,770 epoch 11 - iter 90/95 - loss 0.12382798 - time (sec): 54.43 - samples/sec: 1666.72 - lr: 0.000001\n",
            "2023-04-21 07:53:18,523 ----------------------------------------------------------------------------------------------------\n",
            "2023-04-21 07:53:18,524 EPOCH 11 done: loss 0.1237 - lr 0.000001\n"
          ]
        },
        {
          "name": "stderr",
          "output_type": "stream",
          "text": [
            "100%|██████████| 95/95 [00:21<00:00,  4.34it/s]"
          ]
        },
        {
          "name": "stdout",
          "output_type": "stream",
          "text": [
            "2023-04-21 07:53:40,554 Evaluating as a multi-label problem: True\n"
          ]
        },
        {
          "name": "stderr",
          "output_type": "stream",
          "text": [
            "\n"
          ]
        },
        {
          "name": "stdout",
          "output_type": "stream",
          "text": [
            "2023-04-21 07:53:43,584 TRAIN : loss 0.09376189857721329 - f1-score (weighted avg)  0.8706\n"
          ]
        },
        {
          "name": "stderr",
          "output_type": "stream",
          "text": [
            "100%|██████████| 12/12 [00:03<00:00,  3.94it/s]"
          ]
        },
        {
          "name": "stdout",
          "output_type": "stream",
          "text": [
            "2023-04-21 07:53:46,784 Evaluating as a multi-label problem: False\n",
            "2023-04-21 07:53:46,856 DEV : loss 0.22922992706298828 - f1-score (weighted avg)  0.7353\n",
            "2023-04-21 07:53:46,877 Epoch    11: reducing learning rate of group 0 to 6.2500e-07.\n",
            "2023-04-21 07:53:46,880 BAD EPOCHS (no improvement): 2\n",
            "2023-04-21 07:53:46,884 ----------------------------------------------------------------------------------------------------\n"
          ]
        },
        {
          "name": "stderr",
          "output_type": "stream",
          "text": [
            "\n"
          ]
        },
        {
          "name": "stdout",
          "output_type": "stream",
          "text": [
            "2023-04-21 07:53:52,653 epoch 12 - iter 9/95 - loss 0.09779903 - time (sec): 5.77 - samples/sec: 1781.04 - lr: 0.000001\n",
            "2023-04-21 07:53:58,254 epoch 12 - iter 18/95 - loss 0.11278953 - time (sec): 11.37 - samples/sec: 1812.89 - lr: 0.000001\n",
            "2023-04-21 07:54:02,990 epoch 12 - iter 27/95 - loss 0.11864330 - time (sec): 16.10 - samples/sec: 1759.43 - lr: 0.000001\n",
            "2023-04-21 07:54:08,111 epoch 12 - iter 36/95 - loss 0.11963289 - time (sec): 21.23 - samples/sec: 1710.71 - lr: 0.000001\n",
            "2023-04-21 07:54:13,838 epoch 12 - iter 45/95 - loss 0.11747970 - time (sec): 26.95 - samples/sec: 1690.49 - lr: 0.000001\n",
            "2023-04-21 07:54:19,037 epoch 12 - iter 54/95 - loss 0.11499170 - time (sec): 32.15 - samples/sec: 1687.32 - lr: 0.000001\n",
            "2023-04-21 07:54:24,557 epoch 12 - iter 63/95 - loss 0.11332331 - time (sec): 37.67 - samples/sec: 1682.88 - lr: 0.000001\n",
            "2023-04-21 07:54:30,549 epoch 12 - iter 72/95 - loss 0.11444535 - time (sec): 43.66 - samples/sec: 1672.39 - lr: 0.000001\n",
            "2023-04-21 07:54:36,200 epoch 12 - iter 81/95 - loss 0.11717747 - time (sec): 49.31 - samples/sec: 1660.98 - lr: 0.000001\n",
            "2023-04-21 07:54:41,922 epoch 12 - iter 90/95 - loss 0.11610297 - time (sec): 55.04 - samples/sec: 1649.35 - lr: 0.000001\n",
            "2023-04-21 07:54:44,824 ----------------------------------------------------------------------------------------------------\n",
            "2023-04-21 07:54:44,826 EPOCH 12 done: loss 0.1174 - lr 0.000001\n"
          ]
        },
        {
          "name": "stderr",
          "output_type": "stream",
          "text": [
            "100%|██████████| 95/95 [00:21<00:00,  4.33it/s]"
          ]
        },
        {
          "name": "stdout",
          "output_type": "stream",
          "text": [
            "2023-04-21 07:55:06,877 Evaluating as a multi-label problem: True\n"
          ]
        },
        {
          "name": "stderr",
          "output_type": "stream",
          "text": [
            "\n"
          ]
        },
        {
          "name": "stdout",
          "output_type": "stream",
          "text": [
            "2023-04-21 07:55:08,618 TRAIN : loss 0.08936187624931335 - f1-score (weighted avg)  0.8759\n"
          ]
        },
        {
          "name": "stderr",
          "output_type": "stream",
          "text": [
            "100%|██████████| 12/12 [00:04<00:00,  2.87it/s]"
          ]
        },
        {
          "name": "stdout",
          "output_type": "stream",
          "text": [
            "2023-04-21 07:55:12,950 Evaluating as a multi-label problem: False\n",
            "2023-04-21 07:55:13,019 DEV : loss 0.2273721694946289 - f1-score (weighted avg)  0.7411\n",
            "2023-04-21 07:55:13,039 BAD EPOCHS (no improvement): 1\n",
            "2023-04-21 07:55:13,044 ----------------------------------------------------------------------------------------------------\n"
          ]
        },
        {
          "name": "stderr",
          "output_type": "stream",
          "text": [
            "\n"
          ]
        },
        {
          "name": "stdout",
          "output_type": "stream",
          "text": [
            "2023-04-21 07:55:18,656 epoch 13 - iter 9/95 - loss 0.11232159 - time (sec): 5.61 - samples/sec: 1703.77 - lr: 0.000001\n",
            "2023-04-21 07:55:24,394 epoch 13 - iter 18/95 - loss 0.12066680 - time (sec): 11.35 - samples/sec: 1546.91 - lr: 0.000001\n",
            "2023-04-21 07:55:29,890 epoch 13 - iter 27/95 - loss 0.11625904 - time (sec): 16.84 - samples/sec: 1588.78 - lr: 0.000001\n",
            "2023-04-21 07:55:35,721 epoch 13 - iter 36/95 - loss 0.11575663 - time (sec): 22.68 - samples/sec: 1608.42 - lr: 0.000001\n",
            "2023-04-21 07:55:41,345 epoch 13 - iter 45/95 - loss 0.11662742 - time (sec): 28.30 - samples/sec: 1583.07 - lr: 0.000001\n",
            "2023-04-21 07:55:46,886 epoch 13 - iter 54/95 - loss 0.11365349 - time (sec): 33.84 - samples/sec: 1579.40 - lr: 0.000001\n",
            "2023-04-21 07:55:52,374 epoch 13 - iter 63/95 - loss 0.11495735 - time (sec): 39.33 - samples/sec: 1588.57 - lr: 0.000001\n",
            "2023-04-21 07:55:57,479 epoch 13 - iter 72/95 - loss 0.11532566 - time (sec): 44.43 - samples/sec: 1603.65 - lr: 0.000001\n",
            "2023-04-21 07:56:03,124 epoch 13 - iter 81/95 - loss 0.11437968 - time (sec): 50.08 - samples/sec: 1608.61 - lr: 0.000001\n",
            "2023-04-21 07:56:08,538 epoch 13 - iter 90/95 - loss 0.11405941 - time (sec): 55.49 - samples/sec: 1610.43 - lr: 0.000001\n",
            "2023-04-21 07:56:11,618 ----------------------------------------------------------------------------------------------------\n",
            "2023-04-21 07:56:11,620 EPOCH 13 done: loss 0.1147 - lr 0.000001\n"
          ]
        },
        {
          "name": "stderr",
          "output_type": "stream",
          "text": [
            "100%|██████████| 95/95 [00:21<00:00,  4.33it/s]"
          ]
        },
        {
          "name": "stdout",
          "output_type": "stream",
          "text": [
            "2023-04-21 07:56:33,660 Evaluating as a multi-label problem: True\n"
          ]
        },
        {
          "name": "stderr",
          "output_type": "stream",
          "text": [
            "\n"
          ]
        },
        {
          "name": "stdout",
          "output_type": "stream",
          "text": [
            "2023-04-21 07:56:36,651 TRAIN : loss 0.08574479818344116 - f1-score (weighted avg)  0.8802\n"
          ]
        },
        {
          "name": "stderr",
          "output_type": "stream",
          "text": [
            "100%|██████████| 12/12 [00:03<00:00,  3.97it/s]"
          ]
        },
        {
          "name": "stdout",
          "output_type": "stream",
          "text": [
            "2023-04-21 07:56:39,826 Evaluating as a multi-label problem: False\n",
            "2023-04-21 07:56:39,896 DEV : loss 0.22896721959114075 - f1-score (weighted avg)  0.7405\n",
            "2023-04-21 07:56:39,916 Epoch    13: reducing learning rate of group 0 to 3.1250e-07.\n",
            "2023-04-21 07:56:39,919 BAD EPOCHS (no improvement): 2\n",
            "2023-04-21 07:56:39,922 ----------------------------------------------------------------------------------------------------\n"
          ]
        },
        {
          "name": "stderr",
          "output_type": "stream",
          "text": [
            "\n"
          ]
        },
        {
          "name": "stdout",
          "output_type": "stream",
          "text": [
            "2023-04-21 07:56:45,496 epoch 14 - iter 9/95 - loss 0.10008884 - time (sec): 5.57 - samples/sec: 1502.30 - lr: 0.000000\n",
            "2023-04-21 07:56:51,279 epoch 14 - iter 18/95 - loss 0.10894708 - time (sec): 11.36 - samples/sec: 1586.73 - lr: 0.000000\n",
            "2023-04-21 07:56:58,093 epoch 14 - iter 27/95 - loss 0.10826608 - time (sec): 18.17 - samples/sec: 1559.30 - lr: 0.000000\n",
            "2023-04-21 07:57:03,221 epoch 14 - iter 36/95 - loss 0.11183599 - time (sec): 23.30 - samples/sec: 1585.73 - lr: 0.000000\n",
            "2023-04-21 07:57:09,012 epoch 14 - iter 45/95 - loss 0.11425528 - time (sec): 29.09 - samples/sec: 1603.45 - lr: 0.000000\n",
            "2023-04-21 07:57:14,089 epoch 14 - iter 54/95 - loss 0.11392218 - time (sec): 34.17 - samples/sec: 1623.87 - lr: 0.000000\n",
            "2023-04-21 07:57:18,993 epoch 14 - iter 63/95 - loss 0.11169005 - time (sec): 39.07 - samples/sec: 1632.14 - lr: 0.000000\n",
            "2023-04-21 07:57:24,492 epoch 14 - iter 72/95 - loss 0.11420323 - time (sec): 44.57 - samples/sec: 1630.20 - lr: 0.000000\n",
            "2023-04-21 07:57:29,792 epoch 14 - iter 81/95 - loss 0.11489656 - time (sec): 49.87 - samples/sec: 1630.60 - lr: 0.000000\n",
            "2023-04-21 07:57:34,832 epoch 14 - iter 90/95 - loss 0.11395481 - time (sec): 54.91 - samples/sec: 1638.66 - lr: 0.000000\n",
            "2023-04-21 07:57:37,573 ----------------------------------------------------------------------------------------------------\n",
            "2023-04-21 07:57:37,575 EPOCH 14 done: loss 0.1140 - lr 0.000000\n"
          ]
        },
        {
          "name": "stderr",
          "output_type": "stream",
          "text": [
            "100%|██████████| 95/95 [00:21<00:00,  4.36it/s]"
          ]
        },
        {
          "name": "stdout",
          "output_type": "stream",
          "text": [
            "2023-04-21 07:57:59,509 Evaluating as a multi-label problem: True\n"
          ]
        },
        {
          "name": "stderr",
          "output_type": "stream",
          "text": [
            "\n"
          ]
        },
        {
          "name": "stdout",
          "output_type": "stream",
          "text": [
            "2023-04-21 07:58:02,527 TRAIN : loss 0.08583981543779373 - f1-score (weighted avg)  0.8805\n"
          ]
        },
        {
          "name": "stderr",
          "output_type": "stream",
          "text": [
            "100%|██████████| 12/12 [00:03<00:00,  3.94it/s]"
          ]
        },
        {
          "name": "stdout",
          "output_type": "stream",
          "text": [
            "2023-04-21 07:58:05,720 Evaluating as a multi-label problem: False\n",
            "2023-04-21 07:58:05,786 DEV : loss 0.2294926941394806 - f1-score (weighted avg)  0.7402\n",
            "2023-04-21 07:58:05,806 BAD EPOCHS (no improvement): 1\n",
            "2023-04-21 07:58:05,810 ----------------------------------------------------------------------------------------------------\n"
          ]
        },
        {
          "name": "stderr",
          "output_type": "stream",
          "text": [
            "\n"
          ]
        },
        {
          "name": "stdout",
          "output_type": "stream",
          "text": [
            "2023-04-21 07:58:10,558 epoch 15 - iter 9/95 - loss 0.10929579 - time (sec): 4.75 - samples/sec: 1584.25 - lr: 0.000000\n",
            "2023-04-21 07:58:16,314 epoch 15 - iter 18/95 - loss 0.10032477 - time (sec): 10.50 - samples/sec: 1650.28 - lr: 0.000000\n",
            "2023-04-21 07:58:22,000 epoch 15 - iter 27/95 - loss 0.10662957 - time (sec): 16.19 - samples/sec: 1637.53 - lr: 0.000000\n",
            "2023-04-21 07:58:27,264 epoch 15 - iter 36/95 - loss 0.11109275 - time (sec): 21.45 - samples/sec: 1623.74 - lr: 0.000000\n",
            "2023-04-21 07:58:32,810 epoch 15 - iter 45/95 - loss 0.10717369 - time (sec): 27.00 - samples/sec: 1694.74 - lr: 0.000000\n",
            "2023-04-21 07:58:37,911 epoch 15 - iter 54/95 - loss 0.10815659 - time (sec): 32.10 - samples/sec: 1684.71 - lr: 0.000000\n",
            "2023-04-21 07:58:43,720 epoch 15 - iter 63/95 - loss 0.11261887 - time (sec): 37.91 - samples/sec: 1666.07 - lr: 0.000000\n",
            "2023-04-21 07:58:49,120 epoch 15 - iter 72/95 - loss 0.11004972 - time (sec): 43.31 - samples/sec: 1657.94 - lr: 0.000000\n",
            "2023-04-21 07:58:55,227 epoch 15 - iter 81/95 - loss 0.11165223 - time (sec): 49.42 - samples/sec: 1627.94 - lr: 0.000000\n",
            "2023-04-21 07:59:01,057 epoch 15 - iter 90/95 - loss 0.11130193 - time (sec): 55.24 - samples/sec: 1628.64 - lr: 0.000000\n",
            "2023-04-21 07:59:03,757 ----------------------------------------------------------------------------------------------------\n",
            "2023-04-21 07:59:03,758 EPOCH 15 done: loss 0.1103 - lr 0.000000\n"
          ]
        },
        {
          "name": "stderr",
          "output_type": "stream",
          "text": [
            "100%|██████████| 95/95 [00:21<00:00,  4.35it/s]"
          ]
        },
        {
          "name": "stdout",
          "output_type": "stream",
          "text": [
            "2023-04-21 07:59:25,730 Evaluating as a multi-label problem: True\n"
          ]
        },
        {
          "name": "stderr",
          "output_type": "stream",
          "text": [
            "\n"
          ]
        },
        {
          "name": "stdout",
          "output_type": "stream",
          "text": [
            "2023-04-21 07:59:27,472 TRAIN : loss 0.08597242087125778 - f1-score (weighted avg)  0.8811\n"
          ]
        },
        {
          "name": "stderr",
          "output_type": "stream",
          "text": [
            "100%|██████████| 12/12 [00:03<00:00,  3.95it/s]"
          ]
        },
        {
          "name": "stdout",
          "output_type": "stream",
          "text": [
            "2023-04-21 07:59:30,663 Evaluating as a multi-label problem: False\n",
            "2023-04-21 07:59:30,729 DEV : loss 0.23250260949134827 - f1-score (weighted avg)  0.7422\n",
            "2023-04-21 07:59:30,750 Epoch    15: reducing learning rate of group 0 to 1.5625e-07.\n",
            "2023-04-21 07:59:30,752 BAD EPOCHS (no improvement): 2\n",
            "2023-04-21 07:59:30,755 ----------------------------------------------------------------------------------------------------\n"
          ]
        },
        {
          "name": "stderr",
          "output_type": "stream",
          "text": [
            "\n"
          ]
        },
        {
          "name": "stdout",
          "output_type": "stream",
          "text": [
            "2023-04-21 07:59:35,943 epoch 16 - iter 9/95 - loss 0.11147960 - time (sec): 5.19 - samples/sec: 1613.01 - lr: 0.000000\n",
            "2023-04-21 07:59:42,364 epoch 16 - iter 18/95 - loss 0.10591869 - time (sec): 11.61 - samples/sec: 1665.71 - lr: 0.000000\n",
            "2023-04-21 07:59:47,959 epoch 16 - iter 27/95 - loss 0.10290632 - time (sec): 17.20 - samples/sec: 1663.65 - lr: 0.000000\n",
            "2023-04-21 07:59:53,955 epoch 16 - iter 36/95 - loss 0.10381961 - time (sec): 23.20 - samples/sec: 1599.10 - lr: 0.000000\n",
            "2023-04-21 07:59:59,556 epoch 16 - iter 45/95 - loss 0.10796063 - time (sec): 28.80 - samples/sec: 1578.01 - lr: 0.000000\n",
            "2023-04-21 08:00:05,345 epoch 16 - iter 54/95 - loss 0.10813393 - time (sec): 34.59 - samples/sec: 1576.04 - lr: 0.000000\n",
            "2023-04-21 08:00:11,389 epoch 16 - iter 63/95 - loss 0.11080905 - time (sec): 40.63 - samples/sec: 1579.01 - lr: 0.000000\n",
            "2023-04-21 08:00:16,503 epoch 16 - iter 72/95 - loss 0.11046386 - time (sec): 45.75 - samples/sec: 1589.41 - lr: 0.000000\n",
            "2023-04-21 08:00:21,419 epoch 16 - iter 81/95 - loss 0.11114754 - time (sec): 50.66 - samples/sec: 1584.45 - lr: 0.000000\n",
            "2023-04-21 08:00:27,509 epoch 16 - iter 90/95 - loss 0.11149841 - time (sec): 56.75 - samples/sec: 1582.75 - lr: 0.000000\n",
            "2023-04-21 08:00:30,344 ----------------------------------------------------------------------------------------------------\n",
            "2023-04-21 08:00:30,345 EPOCH 16 done: loss 0.1109 - lr 0.000000\n"
          ]
        },
        {
          "name": "stderr",
          "output_type": "stream",
          "text": [
            "100%|██████████| 95/95 [00:23<00:00,  4.11it/s]"
          ]
        },
        {
          "name": "stdout",
          "output_type": "stream",
          "text": [
            "2023-04-21 08:00:53,560 Evaluating as a multi-label problem: True\n"
          ]
        },
        {
          "name": "stderr",
          "output_type": "stream",
          "text": [
            "\n"
          ]
        },
        {
          "name": "stdout",
          "output_type": "stream",
          "text": [
            "2023-04-21 08:00:55,304 TRAIN : loss 0.08481640368700027 - f1-score (weighted avg)  0.8818\n"
          ]
        },
        {
          "name": "stderr",
          "output_type": "stream",
          "text": [
            "100%|██████████| 12/12 [00:04<00:00,  2.86it/s]"
          ]
        },
        {
          "name": "stdout",
          "output_type": "stream",
          "text": [
            "2023-04-21 08:00:59,649 Evaluating as a multi-label problem: False\n",
            "2023-04-21 08:00:59,717 DEV : loss 0.2330416589975357 - f1-score (weighted avg)  0.7411\n",
            "2023-04-21 08:00:59,737 BAD EPOCHS (no improvement): 1\n",
            "2023-04-21 08:00:59,741 ----------------------------------------------------------------------------------------------------\n"
          ]
        },
        {
          "name": "stderr",
          "output_type": "stream",
          "text": [
            "\n"
          ]
        },
        {
          "name": "stdout",
          "output_type": "stream",
          "text": [
            "2023-04-21 08:01:05,667 epoch 17 - iter 9/95 - loss 0.09593663 - time (sec): 5.92 - samples/sec: 1544.02 - lr: 0.000000\n",
            "2023-04-21 08:01:10,976 epoch 17 - iter 18/95 - loss 0.09601175 - time (sec): 11.23 - samples/sec: 1622.60 - lr: 0.000000\n",
            "2023-04-21 08:01:16,356 epoch 17 - iter 27/95 - loss 0.09993484 - time (sec): 16.61 - samples/sec: 1633.23 - lr: 0.000000\n",
            "2023-04-21 08:01:21,490 epoch 17 - iter 36/95 - loss 0.10236016 - time (sec): 21.75 - samples/sec: 1626.87 - lr: 0.000000\n",
            "2023-04-21 08:01:27,470 epoch 17 - iter 45/95 - loss 0.10563959 - time (sec): 27.73 - samples/sec: 1627.85 - lr: 0.000000\n",
            "2023-04-21 08:01:33,087 epoch 17 - iter 54/95 - loss 0.11242371 - time (sec): 33.34 - samples/sec: 1605.36 - lr: 0.000000\n",
            "2023-04-21 08:01:39,499 epoch 17 - iter 63/95 - loss 0.11152754 - time (sec): 39.76 - samples/sec: 1584.14 - lr: 0.000000\n",
            "2023-04-21 08:01:45,002 epoch 17 - iter 72/95 - loss 0.11093290 - time (sec): 45.26 - samples/sec: 1593.81 - lr: 0.000000\n",
            "2023-04-21 08:01:50,589 epoch 17 - iter 81/95 - loss 0.10963987 - time (sec): 50.85 - samples/sec: 1597.81 - lr: 0.000000\n",
            "2023-04-21 08:01:55,716 epoch 17 - iter 90/95 - loss 0.11112527 - time (sec): 55.97 - samples/sec: 1615.27 - lr: 0.000000\n",
            "2023-04-21 08:01:58,307 ----------------------------------------------------------------------------------------------------\n",
            "2023-04-21 08:01:58,308 EPOCH 17 done: loss 0.1115 - lr 0.000000\n"
          ]
        },
        {
          "name": "stderr",
          "output_type": "stream",
          "text": [
            "100%|██████████| 95/95 [00:21<00:00,  4.36it/s]"
          ]
        },
        {
          "name": "stdout",
          "output_type": "stream",
          "text": [
            "2023-04-21 08:02:20,239 Evaluating as a multi-label problem: True\n"
          ]
        },
        {
          "name": "stderr",
          "output_type": "stream",
          "text": [
            "\n"
          ]
        },
        {
          "name": "stdout",
          "output_type": "stream",
          "text": [
            "2023-04-21 08:02:23,245 TRAIN : loss 0.08408570289611816 - f1-score (weighted avg)  0.8834\n"
          ]
        },
        {
          "name": "stderr",
          "output_type": "stream",
          "text": [
            "100%|██████████| 12/12 [00:03<00:00,  3.96it/s]"
          ]
        },
        {
          "name": "stdout",
          "output_type": "stream",
          "text": [
            "2023-04-21 08:02:26,431 Evaluating as a multi-label problem: False\n",
            "2023-04-21 08:02:26,499 DEV : loss 0.23575621843338013 - f1-score (weighted avg)  0.7432\n",
            "2023-04-21 08:02:26,521 Epoch    17: reducing learning rate of group 0 to 7.8125e-08.\n",
            "2023-04-21 08:02:26,523 BAD EPOCHS (no improvement): 2\n",
            "2023-04-21 08:02:26,527 ----------------------------------------------------------------------------------------------------\n"
          ]
        },
        {
          "name": "stderr",
          "output_type": "stream",
          "text": [
            "\n"
          ]
        },
        {
          "name": "stdout",
          "output_type": "stream",
          "text": [
            "2023-04-21 08:02:31,778 epoch 18 - iter 9/95 - loss 0.11338914 - time (sec): 5.25 - samples/sec: 1608.53 - lr: 0.000000\n",
            "2023-04-21 08:02:37,569 epoch 18 - iter 18/95 - loss 0.10581573 - time (sec): 11.04 - samples/sec: 1546.89 - lr: 0.000000\n",
            "2023-04-21 08:02:43,002 epoch 18 - iter 27/95 - loss 0.11485092 - time (sec): 16.47 - samples/sec: 1569.50 - lr: 0.000000\n",
            "2023-04-21 08:02:48,258 epoch 18 - iter 36/95 - loss 0.11355517 - time (sec): 21.73 - samples/sec: 1564.59 - lr: 0.000000\n",
            "2023-04-21 08:02:54,020 epoch 18 - iter 45/95 - loss 0.11320600 - time (sec): 27.49 - samples/sec: 1576.54 - lr: 0.000000\n",
            "2023-04-21 08:02:59,566 epoch 18 - iter 54/95 - loss 0.11324099 - time (sec): 33.04 - samples/sec: 1603.61 - lr: 0.000000\n",
            "2023-04-21 08:03:05,527 epoch 18 - iter 63/95 - loss 0.11399008 - time (sec): 39.00 - samples/sec: 1613.46 - lr: 0.000000\n",
            "2023-04-21 08:03:10,966 epoch 18 - iter 72/95 - loss 0.11167093 - time (sec): 44.44 - samples/sec: 1619.94 - lr: 0.000000\n",
            "2023-04-21 08:03:16,950 epoch 18 - iter 81/95 - loss 0.11149210 - time (sec): 50.42 - samples/sec: 1627.38 - lr: 0.000000\n",
            "2023-04-21 08:03:22,027 epoch 18 - iter 90/95 - loss 0.11118167 - time (sec): 55.50 - samples/sec: 1632.16 - lr: 0.000000\n",
            "2023-04-21 08:03:24,531 ----------------------------------------------------------------------------------------------------\n",
            "2023-04-21 08:03:24,532 EPOCH 18 done: loss 0.1105 - lr 0.000000\n"
          ]
        },
        {
          "name": "stderr",
          "output_type": "stream",
          "text": [
            "100%|██████████| 95/95 [00:21<00:00,  4.35it/s]"
          ]
        },
        {
          "name": "stdout",
          "output_type": "stream",
          "text": [
            "2023-04-21 08:03:46,521 Evaluating as a multi-label problem: True\n"
          ]
        },
        {
          "name": "stderr",
          "output_type": "stream",
          "text": [
            "\n"
          ]
        },
        {
          "name": "stdout",
          "output_type": "stream",
          "text": [
            "2023-04-21 08:03:49,557 TRAIN : loss 0.08348634839057922 - f1-score (weighted avg)  0.8838\n"
          ]
        },
        {
          "name": "stderr",
          "output_type": "stream",
          "text": [
            "100%|██████████| 12/12 [00:03<00:00,  3.93it/s]"
          ]
        },
        {
          "name": "stdout",
          "output_type": "stream",
          "text": [
            "2023-04-21 08:03:52,763 Evaluating as a multi-label problem: False\n",
            "2023-04-21 08:03:52,832 DEV : loss 0.23525114357471466 - f1-score (weighted avg)  0.7428\n",
            "2023-04-21 08:03:52,853 BAD EPOCHS (no improvement): 1\n",
            "2023-04-21 08:03:52,857 ----------------------------------------------------------------------------------------------------\n"
          ]
        },
        {
          "name": "stderr",
          "output_type": "stream",
          "text": [
            "\n"
          ]
        },
        {
          "name": "stdout",
          "output_type": "stream",
          "text": [
            "2023-04-21 08:03:58,392 epoch 19 - iter 9/95 - loss 0.11147551 - time (sec): 5.53 - samples/sec: 1566.98 - lr: 0.000000\n",
            "2023-04-21 08:04:04,189 epoch 19 - iter 18/95 - loss 0.10402774 - time (sec): 11.33 - samples/sec: 1571.26 - lr: 0.000000\n",
            "2023-04-21 08:04:09,275 epoch 19 - iter 27/95 - loss 0.10577129 - time (sec): 16.42 - samples/sec: 1576.99 - lr: 0.000000\n",
            "2023-04-21 08:04:14,745 epoch 19 - iter 36/95 - loss 0.11066444 - time (sec): 21.89 - samples/sec: 1566.05 - lr: 0.000000\n",
            "2023-04-21 08:04:20,161 epoch 19 - iter 45/95 - loss 0.11312138 - time (sec): 27.30 - samples/sec: 1571.34 - lr: 0.000000\n",
            "2023-04-21 08:04:25,182 epoch 19 - iter 54/95 - loss 0.11037765 - time (sec): 32.32 - samples/sec: 1600.30 - lr: 0.000000\n",
            "2023-04-21 08:04:30,724 epoch 19 - iter 63/95 - loss 0.11170292 - time (sec): 37.87 - samples/sec: 1602.73 - lr: 0.000000\n",
            "2023-04-21 08:04:37,282 epoch 19 - iter 72/95 - loss 0.11160782 - time (sec): 44.42 - samples/sec: 1597.97 - lr: 0.000000\n",
            "2023-04-21 08:04:42,929 epoch 19 - iter 81/95 - loss 0.11188000 - time (sec): 50.07 - samples/sec: 1604.05 - lr: 0.000000\n",
            "2023-04-21 08:04:48,437 epoch 19 - iter 90/95 - loss 0.11190802 - time (sec): 55.58 - samples/sec: 1620.85 - lr: 0.000000\n",
            "2023-04-21 08:04:51,126 ----------------------------------------------------------------------------------------------------\n",
            "2023-04-21 08:04:51,127 EPOCH 19 done: loss 0.1105 - lr 0.000000\n"
          ]
        },
        {
          "name": "stderr",
          "output_type": "stream",
          "text": [
            "100%|██████████| 95/95 [00:21<00:00,  4.34it/s]"
          ]
        },
        {
          "name": "stdout",
          "output_type": "stream",
          "text": [
            "2023-04-21 08:05:13,127 Evaluating as a multi-label problem: True\n"
          ]
        },
        {
          "name": "stderr",
          "output_type": "stream",
          "text": [
            "\n"
          ]
        },
        {
          "name": "stdout",
          "output_type": "stream",
          "text": [
            "2023-04-21 08:05:14,864 TRAIN : loss 0.08297470957040787 - f1-score (weighted avg)  0.8847\n"
          ]
        },
        {
          "name": "stderr",
          "output_type": "stream",
          "text": [
            "100%|██████████| 12/12 [00:03<00:00,  3.97it/s]"
          ]
        },
        {
          "name": "stdout",
          "output_type": "stream",
          "text": [
            "2023-04-21 08:05:18,041 Evaluating as a multi-label problem: False\n",
            "2023-04-21 08:05:18,107 DEV : loss 0.23492124676704407 - f1-score (weighted avg)  0.744\n",
            "2023-04-21 08:05:18,127 Epoch    19: reducing learning rate of group 0 to 3.9063e-08.\n",
            "2023-04-21 08:05:18,129 BAD EPOCHS (no improvement): 2\n",
            "2023-04-21 08:05:18,134 ----------------------------------------------------------------------------------------------------\n"
          ]
        },
        {
          "name": "stderr",
          "output_type": "stream",
          "text": [
            "\n"
          ]
        },
        {
          "name": "stdout",
          "output_type": "stream",
          "text": [
            "2023-04-21 08:05:23,172 epoch 20 - iter 9/95 - loss 0.10326158 - time (sec): 5.04 - samples/sec: 1630.03 - lr: 0.000000\n",
            "2023-04-21 08:05:29,464 epoch 20 - iter 18/95 - loss 0.10621649 - time (sec): 11.33 - samples/sec: 1637.05 - lr: 0.000000\n",
            "2023-04-21 08:05:34,607 epoch 20 - iter 27/95 - loss 0.10430326 - time (sec): 16.47 - samples/sec: 1637.35 - lr: 0.000000\n",
            "2023-04-21 08:05:40,270 epoch 20 - iter 36/95 - loss 0.10823468 - time (sec): 22.13 - samples/sec: 1638.69 - lr: 0.000000\n",
            "2023-04-21 08:05:45,751 epoch 20 - iter 45/95 - loss 0.11147891 - time (sec): 27.61 - samples/sec: 1633.70 - lr: 0.000000\n",
            "2023-04-21 08:05:50,611 epoch 20 - iter 54/95 - loss 0.10966624 - time (sec): 32.47 - samples/sec: 1626.14 - lr: 0.000000\n",
            "2023-04-21 08:05:56,769 epoch 20 - iter 63/95 - loss 0.11030786 - time (sec): 38.63 - samples/sec: 1634.88 - lr: 0.000000\n",
            "2023-04-21 08:06:01,902 epoch 20 - iter 72/95 - loss 0.11181695 - time (sec): 43.77 - samples/sec: 1631.58 - lr: 0.000000\n",
            "2023-04-21 08:06:07,523 epoch 20 - iter 81/95 - loss 0.11053667 - time (sec): 49.39 - samples/sec: 1630.60 - lr: 0.000000\n",
            "2023-04-21 08:06:12,840 epoch 20 - iter 90/95 - loss 0.11066240 - time (sec): 54.70 - samples/sec: 1637.79 - lr: 0.000000\n",
            "2023-04-21 08:06:15,858 ----------------------------------------------------------------------------------------------------\n",
            "2023-04-21 08:06:15,860 EPOCH 20 done: loss 0.1095 - lr 0.000000\n"
          ]
        },
        {
          "name": "stderr",
          "output_type": "stream",
          "text": [
            "100%|██████████| 95/95 [00:23<00:00,  4.11it/s]"
          ]
        },
        {
          "name": "stdout",
          "output_type": "stream",
          "text": [
            "2023-04-21 08:06:39,087 Evaluating as a multi-label problem: True\n"
          ]
        },
        {
          "name": "stderr",
          "output_type": "stream",
          "text": [
            "\n"
          ]
        },
        {
          "name": "stdout",
          "output_type": "stream",
          "text": [
            "2023-04-21 08:06:40,817 TRAIN : loss 0.08378034085035324 - f1-score (weighted avg)  0.8838\n"
          ]
        },
        {
          "name": "stderr",
          "output_type": "stream",
          "text": [
            "100%|██████████| 12/12 [00:04<00:00,  2.88it/s]"
          ]
        },
        {
          "name": "stdout",
          "output_type": "stream",
          "text": [
            "2023-04-21 08:06:45,132 Evaluating as a multi-label problem: False\n",
            "2023-04-21 08:06:45,201 DEV : loss 0.23547261953353882 - f1-score (weighted avg)  0.7416\n",
            "2023-04-21 08:06:45,222 BAD EPOCHS (no improvement): 1\n",
            "2023-04-21 08:06:45,227 ----------------------------------------------------------------------------------------------------\n"
          ]
        },
        {
          "name": "stderr",
          "output_type": "stream",
          "text": [
            "\n"
          ]
        },
        {
          "name": "stdout",
          "output_type": "stream",
          "text": [
            "2023-04-21 08:06:50,203 epoch 21 - iter 9/95 - loss 0.11242015 - time (sec): 4.97 - samples/sec: 1884.03 - lr: 0.000000\n",
            "2023-04-21 08:06:55,958 epoch 21 - iter 18/95 - loss 0.09763770 - time (sec): 10.73 - samples/sec: 1697.15 - lr: 0.000000\n",
            "2023-04-21 08:07:00,916 epoch 21 - iter 27/95 - loss 0.10685025 - time (sec): 15.69 - samples/sec: 1731.87 - lr: 0.000000\n",
            "2023-04-21 08:07:06,583 epoch 21 - iter 36/95 - loss 0.10785069 - time (sec): 21.35 - samples/sec: 1695.11 - lr: 0.000000\n",
            "2023-04-21 08:07:12,478 epoch 21 - iter 45/95 - loss 0.10286182 - time (sec): 27.25 - samples/sec: 1666.58 - lr: 0.000000\n",
            "2023-04-21 08:07:18,571 epoch 21 - iter 54/95 - loss 0.10317843 - time (sec): 33.34 - samples/sec: 1666.98 - lr: 0.000000\n",
            "2023-04-21 08:07:24,292 epoch 21 - iter 63/95 - loss 0.10717405 - time (sec): 39.06 - samples/sec: 1649.99 - lr: 0.000000\n",
            "2023-04-21 08:07:29,853 epoch 21 - iter 72/95 - loss 0.10924971 - time (sec): 44.62 - samples/sec: 1632.97 - lr: 0.000000\n",
            "2023-04-21 08:07:36,051 epoch 21 - iter 81/95 - loss 0.10856678 - time (sec): 50.82 - samples/sec: 1623.92 - lr: 0.000000\n",
            "2023-04-21 08:07:41,911 epoch 21 - iter 90/95 - loss 0.11044755 - time (sec): 56.68 - samples/sec: 1596.31 - lr: 0.000000\n",
            "2023-04-21 08:07:44,721 ----------------------------------------------------------------------------------------------------\n",
            "2023-04-21 08:07:44,722 EPOCH 21 done: loss 0.1100 - lr 0.000000\n"
          ]
        },
        {
          "name": "stderr",
          "output_type": "stream",
          "text": [
            "100%|██████████| 95/95 [00:21<00:00,  4.34it/s]"
          ]
        },
        {
          "name": "stdout",
          "output_type": "stream",
          "text": [
            "2023-04-21 08:08:06,724 Evaluating as a multi-label problem: True\n"
          ]
        },
        {
          "name": "stderr",
          "output_type": "stream",
          "text": [
            "\n"
          ]
        },
        {
          "name": "stdout",
          "output_type": "stream",
          "text": [
            "2023-04-21 08:08:09,761 TRAIN : loss 0.08328529447317123 - f1-score (weighted avg)  0.8844\n"
          ]
        },
        {
          "name": "stderr",
          "output_type": "stream",
          "text": [
            "100%|██████████| 12/12 [00:03<00:00,  3.90it/s]"
          ]
        },
        {
          "name": "stdout",
          "output_type": "stream",
          "text": [
            "2023-04-21 08:08:12,991 Evaluating as a multi-label problem: False\n",
            "2023-04-21 08:08:13,059 DEV : loss 0.23586790263652802 - f1-score (weighted avg)  0.7429\n",
            "2023-04-21 08:08:13,079 Epoch    21: reducing learning rate of group 0 to 1.9531e-08.\n",
            "2023-04-21 08:08:13,081 BAD EPOCHS (no improvement): 2\n",
            "2023-04-21 08:08:13,084 ----------------------------------------------------------------------------------------------------\n",
            "2023-04-21 08:08:13,085 ----------------------------------------------------------------------------------------------------\n",
            "2023-04-21 08:08:13,087 learning rate too small - quitting training!\n",
            "2023-04-21 08:08:13,089 ----------------------------------------------------------------------------------------------------\n"
          ]
        },
        {
          "name": "stderr",
          "output_type": "stream",
          "text": [
            "\n"
          ]
        },
        {
          "name": "stdout",
          "output_type": "stream",
          "text": [
            "2023-04-21 08:08:31,392 ----------------------------------------------------------------------------------------------------\n",
            "2023-04-21 08:08:52,503 SequenceTagger predicts: Dictionary with 12 tags: <unk>, O, I-ADR, B-ADR, B-Drug, I-Finding, B-Finding, B-Disease, B-Symptom, I-Symptom, I-Disease, I-Drug\n"
          ]
        },
        {
          "name": "stderr",
          "output_type": "stream",
          "text": [
            "100%|██████████| 12/12 [00:03<00:00,  3.62it/s]"
          ]
        },
        {
          "name": "stdout",
          "output_type": "stream",
          "text": [
            "2023-04-21 08:08:56,755 Evaluating as a multi-label problem: True\n"
          ]
        },
        {
          "name": "stderr",
          "output_type": "stream",
          "text": [
            "\n"
          ]
        },
        {
          "name": "stdout",
          "output_type": "stream",
          "text": [
            "2023-04-21 08:08:56,975 0.7906\t0.7496\t0.7695\t0.9392\n",
            "2023-04-21 08:08:56,976 \n",
            "Results:\n",
            "- F-score (micro) 0.7695\n",
            "- F-score (macro) 0.3223\n",
            "- Accuracy 0.9392\n",
            "\n",
            "By class:\n",
            "              precision    recall  f1-score   support\n",
            "\n",
            "       I-ADR     0.7740    0.7932    0.7835       967\n",
            "       B-ADR     0.7913    0.8559    0.8224       576\n",
            "      B-Drug     0.9217    0.9680    0.9443       219\n",
            "   B-Finding     0.3929    0.2115    0.2750        52\n",
            "      I-Drug     1.0000    0.0962    0.1754        52\n",
            "   I-Finding     0.0000    0.0000    0.0000        36\n",
            "   I-Symptom     0.0000    0.0000    0.0000        33\n",
            "   B-Disease     0.4286    0.1500    0.2222        20\n",
            "   B-Symptom     0.0000    0.0000    0.0000        22\n",
            "   I-Disease     0.0000    0.0000    0.0000        12\n",
            "\n",
            "   micro avg     0.7906    0.7496    0.7695      1989\n",
            "   macro avg     0.4308    0.3075    0.3223      1989\n",
            "weighted avg     0.7477    0.7496    0.7370      1989\n",
            " samples avg     0.1260    0.1259    0.1259      1989\n",
            "\n",
            "2023-04-21 08:08:56,978 ----------------------------------------------------------------------------------------------------\n"
          ]
        }
      ],
      "source": [
        "hist = trainer.train('flair_ner_model'+suf,\n",
        "              embeddings_storage_mode='gpu',\n",
        "              gold_label_dictionary_for_eval=tag_dictionary,\n",
        "              mini_batch_size = 10,\n",
        "              eval_batch_size = 10,\n",
        "              patience=1,\n",
        "              anneal_factor = 0.5,\n",
        "              anneal_against_dev_loss=True,\n",
        "              main_evaluation_metric = (\"weighted avg\", \"f1-score\"),\n",
        "              metrics_for_tensorboard=[(\"weighted avg\", 'precision'), (\"weighted avg\", 'recall'), (\"macro avg\", 'f1-score'), (\"macro avg\", 'precision'), (\"macro avg\", 'recall')],\n",
        "              use_tensorboard=True,\n",
        "              tensorboard_comment='Flair NER',\n",
        "              tensorboard_log_dir='runs/tb_logs'+suf,\n",
        "              min_learning_rate=3e-8,\n",
        "              optimizer=AdamW,\n",
        "              learning_rate=5.0e-6,\n",
        "              weight_decay=0.001,\n",
        "              max_epochs=100,\n",
        "              monitor_train=True,\n",
        "              save_optimizer_state=True,)\n",
        "# hist"
      ]
    },
    {
      "cell_type": "code",
      "execution_count": 35,
      "metadata": {
        "id": "ExiLRreqXsDJ"
      },
      "outputs": [],
      "source": [
        "# print(hist.keys())\n",
        "# hist"
      ]
    },
    {
      "cell_type": "code",
      "execution_count": 36,
      "metadata": {
        "colab": {
          "base_uri": "https://localhost:8080/",
          "height": 1000
        },
        "id": "P5Uu5qkN0pia",
        "outputId": "b34e35c4-0da0-47f6-abd9-6e79b672aed1"
      },
      "outputs": [
        {
          "name": "stdout",
          "output_type": "stream",
          "text": [
            "_v3_xlm-roberta-large\n",
            "2023-04-21 08:08:57,002 ----------------------------------------------------------------------------------------------------\n",
            "2023-04-21 08:08:57,003 WARNING: No LOSS found for test split in this data.\n",
            "2023-04-21 08:08:57,004 Are you sure you want to plot LOSS and not another value?\n",
            "2023-04-21 08:08:57,005 ----------------------------------------------------------------------------------------------------\n",
            "2023-04-21 08:08:57,027 ----------------------------------------------------------------------------------------------------\n",
            "2023-04-21 08:08:57,027 WARNING: No F1 found for test split in this data.\n",
            "2023-04-21 08:08:57,029 Are you sure you want to plot F1 and not another value?\n",
            "2023-04-21 08:08:57,030 ----------------------------------------------------------------------------------------------------\n",
            "2023-04-21 08:08:58,106 Loss and F1 plots are saved in flair_ner_model_v3_xlm-roberta-large/training.png\n"
          ]
        },
        {
          "data": {
            "image/png": "[encoded data removed]",
            "text/plain": [
              "<Figure size 1500x1000 with 2 Axes>"
            ]
          },
          "metadata": {},
          "output_type": "display_data"
        },
        {
          "name": "stderr",
          "output_type": "stream",
          "text": [
            "100%|██████████| 79/79 [00:22<00:00,  3.53it/s]"
          ]
        },
        {
          "name": "stdout",
          "output_type": "stream",
          "text": [
            "2023-04-21 08:09:20,971 Evaluating as a multi-label problem: True\n"
          ]
        },
        {
          "name": "stderr",
          "output_type": "stream",
          "text": [
            "\n",
            "100%|██████████| 10/10 [00:03<00:00,  3.28it/s]"
          ]
        },
        {
          "name": "stdout",
          "output_type": "stream",
          "text": [
            "2023-04-21 08:09:25,816 Evaluating as a multi-label problem: False\n"
          ]
        },
        {
          "name": "stderr",
          "output_type": "stream",
          "text": [
            "\n",
            "100%|██████████| 10/10 [00:04<00:00,  2.32it/s]"
          ]
        },
        {
          "name": "stdout",
          "output_type": "stream",
          "text": [
            "2023-04-21 08:09:30,219 Evaluating as a multi-label problem: True\n"
          ]
        },
        {
          "name": "stderr",
          "output_type": "stream",
          "text": [
            "\n"
          ]
        },
        {
          "data": {
            "text/html": [
              "\n",
              "  <div id=\"df-7e5c2683-69e9-470b-823f-a86b09b5b5b2\">\n",
              "    <div class=\"colab-df-container\">\n",
              "      <div>\n",
              "<style scoped>\n",
              "    .dataframe tbody tr th:only-of-type {\n",
              "        vertical-align: middle;\n",
              "    }\n",
              "\n",
              "    .dataframe tbody tr th {\n",
              "        vertical-align: top;\n",
              "    }\n",
              "\n",
              "    .dataframe thead th {\n",
              "        text-align: right;\n",
              "    }\n",
              "</style>\n",
              "<table border=\"1\" class=\"dataframe\">\n",
              "  <thead>\n",
              "    <tr style=\"text-align: right;\">\n",
              "      <th></th>\n",
              "      <th>split</th>\n",
              "      <th>index</th>\n",
              "      <th>I-ADR</th>\n",
              "      <th>B-ADR</th>\n",
              "      <th>B-Drug</th>\n",
              "      <th>B-Finding</th>\n",
              "      <th>I-Finding</th>\n",
              "      <th>B-Disease</th>\n",
              "      <th>B-Symptom</th>\n",
              "      <th>I-Symptom</th>\n",
              "      <th>I-Drug</th>\n",
              "      <th>I-Disease</th>\n",
              "      <th>micro avg</th>\n",
              "      <th>macro avg</th>\n",
              "      <th>weighted avg</th>\n",
              "      <th>samples avg</th>\n",
              "    </tr>\n",
              "  </thead>\n",
              "  <tbody>\n",
              "    <tr>\n",
              "      <th>0</th>\n",
              "      <td>train</td>\n",
              "      <td>precision</td>\n",
              "      <td>0.813552</td>\n",
              "      <td>0.824810</td>\n",
              "      <td>0.965493</td>\n",
              "      <td>0.410909</td>\n",
              "      <td>0.500000</td>\n",
              "      <td>0.571429</td>\n",
              "      <td>0.727273</td>\n",
              "      <td>0.0</td>\n",
              "      <td>0.977273</td>\n",
              "      <td>0.0</td>\n",
              "      <td>0.822831</td>\n",
              "      <td>0.579074</td>\n",
              "      <td>0.792416</td>\n",
              "      <td>0.135992</td>\n",
              "    </tr>\n",
              "    <tr>\n",
              "      <th>1</th>\n",
              "      <td>train</td>\n",
              "      <td>recall</td>\n",
              "      <td>0.887715</td>\n",
              "      <td>0.900255</td>\n",
              "      <td>0.982092</td>\n",
              "      <td>0.365696</td>\n",
              "      <td>0.031519</td>\n",
              "      <td>0.173160</td>\n",
              "      <td>0.036036</td>\n",
              "      <td>0.0</td>\n",
              "      <td>0.267081</td>\n",
              "      <td>0.0</td>\n",
              "      <td>0.819847</td>\n",
              "      <td>0.364355</td>\n",
              "      <td>0.819847</td>\n",
              "      <td>0.135955</td>\n",
              "    </tr>\n",
              "    <tr>\n",
              "      <th>2</th>\n",
              "      <td>train</td>\n",
              "      <td>f1-score</td>\n",
              "      <td>0.849017</td>\n",
              "      <td>0.860883</td>\n",
              "      <td>0.973722</td>\n",
              "      <td>0.386986</td>\n",
              "      <td>0.059299</td>\n",
              "      <td>0.265781</td>\n",
              "      <td>0.068670</td>\n",
              "      <td>0.0</td>\n",
              "      <td>0.419512</td>\n",
              "      <td>0.0</td>\n",
              "      <td>0.821336</td>\n",
              "      <td>0.388387</td>\n",
              "      <td>0.792143</td>\n",
              "      <td>0.135968</td>\n",
              "    </tr>\n",
              "    <tr>\n",
              "      <th>3</th>\n",
              "      <td>train</td>\n",
              "      <td>support</td>\n",
              "      <td>7953.000000</td>\n",
              "      <td>4712.000000</td>\n",
              "      <td>1396.000000</td>\n",
              "      <td>309.000000</td>\n",
              "      <td>349.000000</td>\n",
              "      <td>231.000000</td>\n",
              "      <td>222.000000</td>\n",
              "      <td>218.0</td>\n",
              "      <td>161.000000</td>\n",
              "      <td>169.0</td>\n",
              "      <td>15720.000000</td>\n",
              "      <td>15720.000000</td>\n",
              "      <td>15720.000000</td>\n",
              "      <td>15720.000000</td>\n",
              "    </tr>\n",
              "    <tr>\n",
              "      <th>4</th>\n",
              "      <td>dev</td>\n",
              "      <td>precision</td>\n",
              "      <td>0.709648</td>\n",
              "      <td>0.753406</td>\n",
              "      <td>0.967568</td>\n",
              "      <td>0.375000</td>\n",
              "      <td>1.000000</td>\n",
              "      <td>0.500000</td>\n",
              "      <td>1.000000</td>\n",
              "      <td>0.0</td>\n",
              "      <td>0.000000</td>\n",
              "      <td>0.0</td>\n",
              "      <td>0.742885</td>\n",
              "      <td>0.530562</td>\n",
              "      <td>0.712740</td>\n",
              "      <td>NaN</td>\n",
              "    </tr>\n",
              "    <tr>\n",
              "      <th>5</th>\n",
              "      <td>dev</td>\n",
              "      <td>recall</td>\n",
              "      <td>0.814700</td>\n",
              "      <td>0.849462</td>\n",
              "      <td>0.972826</td>\n",
              "      <td>0.187500</td>\n",
              "      <td>0.055556</td>\n",
              "      <td>0.129032</td>\n",
              "      <td>0.080000</td>\n",
              "      <td>0.0</td>\n",
              "      <td>0.000000</td>\n",
              "      <td>0.0</td>\n",
              "      <td>0.745402</td>\n",
              "      <td>0.308908</td>\n",
              "      <td>0.745402</td>\n",
              "      <td>NaN</td>\n",
              "    </tr>\n",
              "    <tr>\n",
              "      <th>6</th>\n",
              "      <td>dev</td>\n",
              "      <td>f1-score</td>\n",
              "      <td>0.758554</td>\n",
              "      <td>0.798556</td>\n",
              "      <td>0.970190</td>\n",
              "      <td>0.250000</td>\n",
              "      <td>0.105263</td>\n",
              "      <td>0.205128</td>\n",
              "      <td>0.148148</td>\n",
              "      <td>0.0</td>\n",
              "      <td>0.000000</td>\n",
              "      <td>0.0</td>\n",
              "      <td>0.744141</td>\n",
              "      <td>0.323584</td>\n",
              "      <td>0.708076</td>\n",
              "      <td>NaN</td>\n",
              "    </tr>\n",
              "    <tr>\n",
              "      <th>7</th>\n",
              "      <td>dev</td>\n",
              "      <td>support</td>\n",
              "      <td>966.000000</td>\n",
              "      <td>651.000000</td>\n",
              "      <td>184.000000</td>\n",
              "      <td>64.000000</td>\n",
              "      <td>54.000000</td>\n",
              "      <td>31.000000</td>\n",
              "      <td>25.000000</td>\n",
              "      <td>36.0</td>\n",
              "      <td>27.000000</td>\n",
              "      <td>28.0</td>\n",
              "      <td>2066.000000</td>\n",
              "      <td>2066.000000</td>\n",
              "      <td>2066.000000</td>\n",
              "      <td>NaN</td>\n",
              "    </tr>\n",
              "    <tr>\n",
              "      <th>8</th>\n",
              "      <td>test</td>\n",
              "      <td>precision</td>\n",
              "      <td>0.773966</td>\n",
              "      <td>0.791332</td>\n",
              "      <td>0.921739</td>\n",
              "      <td>0.392857</td>\n",
              "      <td>0.000000</td>\n",
              "      <td>0.428571</td>\n",
              "      <td>0.000000</td>\n",
              "      <td>0.0</td>\n",
              "      <td>1.000000</td>\n",
              "      <td>0.0</td>\n",
              "      <td>0.790562</td>\n",
              "      <td>0.430847</td>\n",
              "      <td>0.747659</td>\n",
              "      <td>0.125993</td>\n",
              "    </tr>\n",
              "    <tr>\n",
              "      <th>9</th>\n",
              "      <td>test</td>\n",
              "      <td>recall</td>\n",
              "      <td>0.793175</td>\n",
              "      <td>0.855903</td>\n",
              "      <td>0.968037</td>\n",
              "      <td>0.211538</td>\n",
              "      <td>0.000000</td>\n",
              "      <td>0.150000</td>\n",
              "      <td>0.000000</td>\n",
              "      <td>0.0</td>\n",
              "      <td>0.096154</td>\n",
              "      <td>0.0</td>\n",
              "      <td>0.749623</td>\n",
              "      <td>0.307481</td>\n",
              "      <td>0.749623</td>\n",
              "      <td>0.125908</td>\n",
              "    </tr>\n",
              "    <tr>\n",
              "      <th>10</th>\n",
              "      <td>test</td>\n",
              "      <td>f1-score</td>\n",
              "      <td>0.783453</td>\n",
              "      <td>0.822352</td>\n",
              "      <td>0.944321</td>\n",
              "      <td>0.275000</td>\n",
              "      <td>0.000000</td>\n",
              "      <td>0.222222</td>\n",
              "      <td>0.000000</td>\n",
              "      <td>0.0</td>\n",
              "      <td>0.175439</td>\n",
              "      <td>0.0</td>\n",
              "      <td>0.769548</td>\n",
              "      <td>0.322279</td>\n",
              "      <td>0.737027</td>\n",
              "      <td>0.125937</td>\n",
              "    </tr>\n",
              "    <tr>\n",
              "      <th>11</th>\n",
              "      <td>test</td>\n",
              "      <td>support</td>\n",
              "      <td>967.000000</td>\n",
              "      <td>576.000000</td>\n",
              "      <td>219.000000</td>\n",
              "      <td>52.000000</td>\n",
              "      <td>36.000000</td>\n",
              "      <td>20.000000</td>\n",
              "      <td>22.000000</td>\n",
              "      <td>33.0</td>\n",
              "      <td>52.000000</td>\n",
              "      <td>12.0</td>\n",
              "      <td>1989.000000</td>\n",
              "      <td>1989.000000</td>\n",
              "      <td>1989.000000</td>\n",
              "      <td>1989.000000</td>\n",
              "    </tr>\n",
              "  </tbody>\n",
              "</table>\n",
              "</div>\n",
              "      <button class=\"colab-df-convert\" onclick=\"convertToInteractive('df-7e5c2683-69e9-470b-823f-a86b09b5b5b2')\"\n",
              "              title=\"Convert this dataframe to an interactive table.\"\n",
              "              style=\"display:none;\">\n",
              "        \n",
              "  <svg xmlns=\"http://www.w3.org/2000/svg\" height=\"24px\"viewBox=\"0 0 24 24\"\n",
              "       width=\"24px\">\n",
              "    <path d=\"M0 0h24v24H0V0z\" fill=\"none\"/>\n",
              "    <path d=\"M18.56 5.44l.94 2.06.94-2.06 2.06-.94-2.06-.94-.94-2.06-.94 2.06-2.06.94zm-11 1L8.5 8.5l.94-2.06 2.06-.94-2.06-.94L8.5 2.5l-.94 2.06-2.06.94zm10 10l.94 2.06.94-2.06 2.06-.94-2.06-.94-.94-2.06-.94 2.06-2.06.94z\"/><path d=\"M17.41 7.96l-1.37-1.37c-.4-.4-.92-.59-1.43-.59-.52 0-1.04.2-1.43.59L10.3 9.45l-7.72 7.72c-.78.78-.78 2.05 0 2.83L4 21.41c.39.39.9.59 1.41.59.51 0 1.02-.2 1.41-.59l7.78-7.78 2.81-2.81c.8-.78.8-2.07 0-2.86zM5.41 20L4 18.59l7.72-7.72 1.47 1.35L5.41 20z\"/>\n",
              "  </svg>\n",
              "      </button>\n",
              "      \n",
              "  <style>\n",
              "    .colab-df-container {\n",
              "      display:flex;\n",
              "      flex-wrap:wrap;\n",
              "      gap: 12px;\n",
              "    }\n",
              "\n",
              "    .colab-df-convert {\n",
              "      background-color: #E8F0FE;\n",
              "      border: none;\n",
              "      border-radius: 50%;\n",
              "      cursor: pointer;\n",
              "      display: none;\n",
              "      fill: #1967D2;\n",
              "      height: 32px;\n",
              "      padding: 0 0 0 0;\n",
              "      width: 32px;\n",
              "    }\n",
              "\n",
              "    .colab-df-convert:hover {\n",
              "      background-color: #E2EBFA;\n",
              "      box-shadow: 0px 1px 2px rgba(60, 64, 67, 0.3), 0px 1px 3px 1px rgba(60, 64, 67, 0.15);\n",
              "      fill: #174EA6;\n",
              "    }\n",
              "\n",
              "    [theme=dark] .colab-df-convert {\n",
              "      background-color: #3B4455;\n",
              "      fill: #D2E3FC;\n",
              "    }\n",
              "\n",
              "    [theme=dark] .colab-df-convert:hover {\n",
              "      background-color: #434B5C;\n",
              "      box-shadow: 0px 1px 3px 1px rgba(0, 0, 0, 0.15);\n",
              "      filter: drop-shadow(0px 1px 2px rgba(0, 0, 0, 0.3));\n",
              "      fill: #FFFFFF;\n",
              "    }\n",
              "  </style>\n",
              "\n",
              "      <script>\n",
              "        const buttonEl =\n",
              "          document.querySelector('#df-7e5c2683-69e9-470b-823f-a86b09b5b5b2 button.colab-df-convert');\n",
              "        buttonEl.style.display =\n",
              "          google.colab.kernel.accessAllowed ? 'block' : 'none';\n",
              "\n",
              "        async function convertToInteractive(key) {\n",
              "          const element = document.querySelector('#df-7e5c2683-69e9-470b-823f-a86b09b5b5b2');\n",
              "          const dataTable =\n",
              "            await google.colab.kernel.invokeFunction('convertToInteractive',\n",
              "                                                     [key], {});\n",
              "          if (!dataTable) return;\n",
              "\n",
              "          const docLinkHtml = 'Like what you see? Visit the ' +\n",
              "            '<a target=\"_blank\" href=https://colab.research.google.com/notebooks/data_table.ipynb>data table notebook</a>'\n",
              "            + ' to learn more about interactive tables.';\n",
              "          element.innerHTML = '';\n",
              "          dataTable['output_type'] = 'display_data';\n",
              "          await google.colab.output.renderOutput(dataTable, element);\n",
              "          const docLink = document.createElement('div');\n",
              "          docLink.innerHTML = docLinkHtml;\n",
              "          element.appendChild(docLink);\n",
              "        }\n",
              "      </script>\n",
              "    </div>\n",
              "  </div>\n",
              "  "
            ],
            "text/plain": [
              "    split      index        I-ADR        B-ADR       B-Drug   B-Finding  \\\n",
              "0   train  precision     0.813552     0.824810     0.965493    0.410909   \n",
              "1   train     recall     0.887715     0.900255     0.982092    0.365696   \n",
              "2   train   f1-score     0.849017     0.860883     0.973722    0.386986   \n",
              "3   train    support  7953.000000  4712.000000  1396.000000  309.000000   \n",
              "4     dev  precision     0.709648     0.753406     0.967568    0.375000   \n",
              "5     dev     recall     0.814700     0.849462     0.972826    0.187500   \n",
              "6     dev   f1-score     0.758554     0.798556     0.970190    0.250000   \n",
              "7     dev    support   966.000000   651.000000   184.000000   64.000000   \n",
              "8    test  precision     0.773966     0.791332     0.921739    0.392857   \n",
              "9    test     recall     0.793175     0.855903     0.968037    0.211538   \n",
              "10   test   f1-score     0.783453     0.822352     0.944321    0.275000   \n",
              "11   test    support   967.000000   576.000000   219.000000   52.000000   \n",
              "\n",
              "     I-Finding   B-Disease   B-Symptom  I-Symptom      I-Drug  I-Disease  \\\n",
              "0     0.500000    0.571429    0.727273        0.0    0.977273        0.0   \n",
              "1     0.031519    0.173160    0.036036        0.0    0.267081        0.0   \n",
              "2     0.059299    0.265781    0.068670        0.0    0.419512        0.0   \n",
              "3   349.000000  231.000000  222.000000      218.0  161.000000      169.0   \n",
              "4     1.000000    0.500000    1.000000        0.0    0.000000        0.0   \n",
              "5     0.055556    0.129032    0.080000        0.0    0.000000        0.0   \n",
              "6     0.105263    0.205128    0.148148        0.0    0.000000        0.0   \n",
              "7    54.000000   31.000000   25.000000       36.0   27.000000       28.0   \n",
              "8     0.000000    0.428571    0.000000        0.0    1.000000        0.0   \n",
              "9     0.000000    0.150000    0.000000        0.0    0.096154        0.0   \n",
              "10    0.000000    0.222222    0.000000        0.0    0.175439        0.0   \n",
              "11   36.000000   20.000000   22.000000       33.0   52.000000       12.0   \n",
              "\n",
              "       micro avg     macro avg  weighted avg   samples avg  \n",
              "0       0.822831      0.579074      0.792416      0.135992  \n",
              "1       0.819847      0.364355      0.819847      0.135955  \n",
              "2       0.821336      0.388387      0.792143      0.135968  \n",
              "3   15720.000000  15720.000000  15720.000000  15720.000000  \n",
              "4       0.742885      0.530562      0.712740           NaN  \n",
              "5       0.745402      0.308908      0.745402           NaN  \n",
              "6       0.744141      0.323584      0.708076           NaN  \n",
              "7    2066.000000   2066.000000   2066.000000           NaN  \n",
              "8       0.790562      0.430847      0.747659      0.125993  \n",
              "9       0.749623      0.307481      0.749623      0.125908  \n",
              "10      0.769548      0.322279      0.737027      0.125937  \n",
              "11   1989.000000   1989.000000   1989.000000   1989.000000  "
            ]
          },
          "execution_count": 36,
          "metadata": {},
          "output_type": "execute_result"
        }
      ],
      "source": [
        "print(suf)\n",
        "\n",
        "os.mkdir('flair_ner_model'+suf+'/classification_report')\n",
        "plotter.plot_training_curves('flair_ner_model'+suf+'/loss.tsv')\n",
        "\n",
        "# evaluate the tagger on the test set\n",
        "result = tagger.evaluate(corpus.train, \n",
        "                         embeddings_storage_mode='gpu',\n",
        "                         mini_batch_size=12,\n",
        "                         main_evaluation_metric = (\"weighted avg\", \"f1-score\"),\n",
        "                         gold_label_type='ner',\n",
        "                         gold_label_dictionary=tag_dictionary)\n",
        "open('flair_ner_model'+suf+'/classification_report/train.txt', 'w').write(str(result))\n",
        "res1 = pd.DataFrame.from_dict(result.classification_report).reset_index()\n",
        "res1.insert(loc=0, column='split', value='train')\n",
        "\n",
        "result = tagger.evaluate(corpus.dev, \n",
        "                         embeddings_storage_mode='gpu',\n",
        "                         mini_batch_size=12,\n",
        "                         main_evaluation_metric = (\"weighted avg\", \"f1-score\"),\n",
        "                         gold_label_type='ner',\n",
        "                         gold_label_dictionary=tag_dictionary)\n",
        "open('flair_ner_model'+suf+'/classification_report/dev.txt', 'w').write(str(result))\n",
        "res2 = pd.DataFrame.from_dict(result.classification_report).reset_index()\n",
        "res2.insert(loc=0, column='split', value='dev')\n",
        "\n",
        "result = tagger.evaluate(corpus.test, \n",
        "                         embeddings_storage_mode='gpu',\n",
        "                         mini_batch_size=12,\n",
        "                         main_evaluation_metric = (\"weighted avg\", \"f1-score\"),\n",
        "                         gold_label_type='ner',\n",
        "                         gold_label_dictionary=tag_dictionary)\n",
        "open('flair_ner_model'+suf+'/classification_report/test.txt', 'w').write(str(result))\n",
        "res3 = pd.DataFrame.from_dict(result.classification_report).reset_index()\n",
        "res3.insert(loc=0, column='split', value='test')\n",
        "\n",
        "res = pd.concat([res1,res2,res3],ignore_index=True)\n",
        "res.to_csv('flair_ner_model'+suf+'/classification_report.csv',index=False)\n",
        "res"
      ]
    },
    {
      "cell_type": "code",
      "execution_count": 37,
      "metadata": {
        "id": "VvIDCtYJkY-G"
      },
      "outputs": [],
      "source": [
        "# import time\n",
        "# start_time = time.time()\n",
        "# while time.time() - start_time < 1:\n",
        "#     time.sleep(1)\n",
        "# print('Session has timed out (2 minutes). Disconnecting...')\n",
        "# !kill -9 -1"
      ]
    },
    {
      "cell_type": "markdown",
      "metadata": {
        "id": "tGILL4RFtGil"
      },
      "source": [
        "Layering can be a good idea if the NER tags in the first layer have their own set of dependent values in the second layer. This can help capture more information about the entities being recognized and provide more context for downstream tasks. However, it also increases the complexity of the annotation and the training process, so it should be used judiciously. In general, it's a good idea to start with a simple tag scheme and gradually increase complexity as needed."
      ]
    },
    {
      "cell_type": "markdown",
      "metadata": {
        "id": "JoZ5D6aEtGin"
      },
      "source": [
        "    does it really matter if u use the E header\n",
        "\n",
        "It depends on the specific task and the requirements of the downstream model. In some cases, using the E tag can help disambiguate between overlapping entities, while in other cases it may not be necessary or even desired. Ultimately, it's up to the developer to determine the appropriate tagging scheme for their specific use case."
      ]
    },
    {
      "cell_type": "markdown",
      "metadata": {
        "id": "BGt2RhM6tGin"
      },
      "source": [
        "    would adding POS as an extra NER layer help model performance or not\n",
        "\n",
        "Adding POS as an extra NER layer may or may not help model performance, depending on the specific use case and data being analyzed.\n",
        "\n",
        "On one hand, incorporating POS tags could provide additional context to the model and help it better distinguish between named entities and other parts of speech. For example, knowing that a word is a noun or verb could help the model determine if it is likely to be a named entity or not.\n",
        "\n",
        "On the other hand, adding an additional layer could also increase model complexity and training time without necessarily improving performance. It may also require additional manual annotation efforts to create a labeled dataset with both NER and POS tags.\n",
        "\n",
        "Ultimately, whether to include POS as an additional layer will depend on the specific requirements and goals of the project, as well as the available data and resources."
      ]
    },
    {
      "cell_type": "markdown",
      "metadata": {
        "id": "6zpEn1bgtGin"
      },
      "source": [
        "    besides bioes ordering (which is up-to-down), it doesn't matter what order the tags in the same domain appear in left-to-right?\n",
        "\n",
        "Yes, that is correct. As long as the BIOES order is maintained vertically, the order of tags in the same domain from left-to-right should not impact training in flai"
      ]
    },
    {
      "cell_type": "markdown",
      "metadata": {
        "id": "yrmL98VatGin"
      },
      "source": [
        "    different typenames must be treated as separate tasks?\n",
        "\n",
        "Yes, that's correct. Different typenames should be treated as separate tasks because they represent different types of annotations that you want to predict. For example, in a biomedical NER task, you might want to predict the entity types of both drugs and diseases, which would be represented by two different typenames in your annotation data. Predicting both types of entities would require different models and possibly different evaluation metrics."
      ]
    }
  ],
  "metadata": {
    "accelerator": "GPU",
    "colab": {
      "gpuType": "A100",
      "provenance": []
    },
    "gpuClass": "standard",
    "kernelspec": {
      "display_name": "flair",
      "language": "python",
      "name": "python3"
    },
    "language_info": {
      "codemirror_mode": {
        "name": "ipython",
        "version": 3
      },
      "file_extension": ".py",
      "mimetype": "text/x-python",
      "name": "python",
      "nbconvert_exporter": "python",
      "pygments_lexer": "ipython3",
      "version": "3.9.16"
    },
    "vscode": {
      "interpreter": {
        "hash": "381c8abc3392c5f20473858f182d9ac4a53ef053fb1f276fcb4936938616c3f3"
      }
    }
  },
  "nbformat": 4,
  "nbformat_minor": 0
}
