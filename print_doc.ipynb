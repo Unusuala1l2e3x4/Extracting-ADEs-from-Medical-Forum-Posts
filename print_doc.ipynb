{
 "cells": [
  {
   "cell_type": "code",
   "execution_count": 2,
   "metadata": {},
   "outputs": [],
   "source": [
    "import os"
   ]
  },
  {
   "cell_type": "code",
   "execution_count": 3,
   "metadata": {},
   "outputs": [
    {
     "data": {
      "text/plain": [
       "['meddra',\n",
       " 'meddra - unedited version of edited files',\n",
       " 'original',\n",
       " 'original - unedited version of edited files',\n",
       " 'sct',\n",
       " 'sct - unedited version of edited files',\n",
       " 'text']"
      ]
     },
     "execution_count": 3,
     "metadata": {},
     "output_type": "execute_result"
    }
   ],
   "source": [
    "os.listdir('datasets\\CADEC\\CADEC.v2\\cadec')"
   ]
  },
  {
   "cell_type": "code",
   "execution_count": 12,
   "metadata": {},
   "outputs": [
    {
     "name": "stdout",
     "output_type": "stream",
     "text": [
      "=== ARTHROTEC.10 ===\n",
      "--- meddra ---\n",
      "TT3\t10033407 0 12\tHunger pangs\n",
      "--- meddra - unedited version of edited files ---\n",
      "--- original ---\n",
      "T1\tSymptom 121 129\thip pain\n",
      "T2\tSymptom 55 75;96 104\twalk up & down steps sideways\n",
      "T3\tADR 0 12\tHunger pangs\n",
      "--- original - unedited version of edited files ---\n",
      "--- sct ---\n",
      "TT3\t162043005 | Hunger pain | 0 12\tHunger pangs\n",
      "TT2\tCONCEPT_LESS 55 75;96 104\twalk up & down steps sideways\n",
      "TT1\t49218002 | Hip pain | 121 129\thip pain\n",
      "--- sct - unedited version of edited files ---\n",
      "--- text ---\n",
      "Hunger pangs.\n",
      "Brilliant, I have a new lease of life, i walk up & down steps properly, no longer sideways like a toddler, hip pain as gone other than if i jar it.\n"
     ]
    }
   ],
   "source": [
    "fname = 'ARTHROTEC.10'\n",
    "# fname = 'VOLTAREN.34'\n",
    "\n",
    "# fname = 'DICLOFENAC-SODIUM.7'\n",
    "# fname = 'LIPITOR.944'\n",
    "# fname = 'VOLTAREN.34'\n",
    "\n",
    "\n",
    "\n",
    "print('===',fname,'===')\n",
    "for section in os.listdir('datasets\\CADEC\\CADEC.v2\\cadec'):\n",
    "# for section in ['sct', 'text']:\n",
    "    print('---',section,'---')\n",
    "    for f in [f for f in os.listdir(os.path.join('datasets\\CADEC\\CADEC.v2\\cadec', section)) if f.startswith(fname+'.')]:\n",
    "        data = open(os.path.join('datasets\\CADEC\\CADEC.v2\\cadec', section, f), encoding='latin').read().strip('\\n')\n",
    "        if section == 'text':\n",
    "            print(data)\n",
    "        elif section == 'sct':\n",
    "            print(data)\n",
    "            # for line in data.split('\\n'):\n",
    "            #     print(re.split('; |,|, |\\t|\\n|\\|',line))\n",
    "        else:\n",
    "            print(data)\n",
    "        "
   ]
  }
 ],
 "metadata": {
  "kernelspec": {
   "display_name": "flair",
   "language": "python",
   "name": "python3"
  },
  "language_info": {
   "codemirror_mode": {
    "name": "ipython",
    "version": 3
   },
   "file_extension": ".py",
   "mimetype": "text/x-python",
   "name": "python",
   "nbconvert_exporter": "python",
   "pygments_lexer": "ipython3",
   "version": "3.9.16"
  },
  "orig_nbformat": 4,
  "vscode": {
   "interpreter": {
    "hash": "381c8abc3392c5f20473858f182d9ac4a53ef053fb1f276fcb4936938616c3f3"
   }
  }
 },
 "nbformat": 4,
 "nbformat_minor": 2
}
