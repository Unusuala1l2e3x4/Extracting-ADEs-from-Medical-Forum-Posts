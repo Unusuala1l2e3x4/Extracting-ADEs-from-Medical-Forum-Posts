{
  "cells": [
    {
      "cell_type": "code",
      "execution_count": 1,
      "metadata": {
        "colab": {
          "base_uri": "https://localhost:8080/"
        },
        "id": "XhIssB_etI8X",
        "outputId": "7c3fdce7-b6f0-4aa2-ae94-78798d66ee03"
      },
      "outputs": [
        {
          "output_type": "stream",
          "name": "stdout",
          "text": [
            "Looking in indexes: https://pypi.org/simple, https://us-python.pkg.dev/colab-wheels/public/simple/\n",
            "Requirement already satisfied: flair in /usr/local/lib/python3.9/dist-packages (0.12.2)\n",
            "Requirement already satisfied: matplotlib>=2.2.3 in /usr/local/lib/python3.9/dist-packages (from flair) (3.7.1)\n",
            "Requirement already satisfied: regex in /usr/local/lib/python3.9/dist-packages (from flair) (2022.10.31)\n",
            "Requirement already satisfied: more-itertools in /usr/local/lib/python3.9/dist-packages (from flair) (9.1.0)\n",
            "Requirement already satisfied: bpemb>=0.3.2 in /usr/local/lib/python3.9/dist-packages (from flair) (0.3.4)\n",
            "Requirement already satisfied: hyperopt>=0.2.7 in /usr/local/lib/python3.9/dist-packages (from flair) (0.2.7)\n",
            "Requirement already satisfied: mpld3==0.3 in /usr/local/lib/python3.9/dist-packages (from flair) (0.3)\n",
            "Requirement already satisfied: python-dateutil>=2.6.1 in /usr/local/lib/python3.9/dist-packages (from flair) (2.8.2)\n",
            "Requirement already satisfied: sqlitedict>=1.6.0 in /usr/local/lib/python3.9/dist-packages (from flair) (2.1.0)\n",
            "Requirement already satisfied: langdetect in /usr/local/lib/python3.9/dist-packages (from flair) (1.0.9)\n",
            "Requirement already satisfied: ftfy in /usr/local/lib/python3.9/dist-packages (from flair) (6.1.1)\n",
            "Requirement already satisfied: gdown==4.4.0 in /usr/local/lib/python3.9/dist-packages (from flair) (4.4.0)\n",
            "Requirement already satisfied: gensim>=3.8.0 in /usr/local/lib/python3.9/dist-packages (from flair) (4.3.1)\n",
            "Requirement already satisfied: huggingface-hub>=0.10.0 in /usr/local/lib/python3.9/dist-packages (from flair) (0.13.4)\n",
            "Requirement already satisfied: transformers[sentencepiece]>=4.18.0 in /usr/local/lib/python3.9/dist-packages (from flair) (4.28.1)\n",
            "Requirement already satisfied: pytorch-revgrad in /usr/local/lib/python3.9/dist-packages (from flair) (0.2.0)\n",
            "Requirement already satisfied: boto3 in /usr/local/lib/python3.9/dist-packages (from flair) (1.26.117)\n",
            "Requirement already satisfied: deprecated>=1.2.4 in /usr/local/lib/python3.9/dist-packages (from flair) (1.2.13)\n",
            "Requirement already satisfied: transformer-smaller-training-vocab>=0.2.1 in /usr/local/lib/python3.9/dist-packages (from flair) (0.2.3)\n",
            "Requirement already satisfied: lxml in /usr/local/lib/python3.9/dist-packages (from flair) (4.9.2)\n",
            "Requirement already satisfied: wikipedia-api in /usr/local/lib/python3.9/dist-packages (from flair) (0.5.8)\n",
            "Requirement already satisfied: scikit-learn>=0.21.3 in /usr/local/lib/python3.9/dist-packages (from flair) (1.2.2)\n",
            "Requirement already satisfied: segtok>=1.5.7 in /usr/local/lib/python3.9/dist-packages (from flair) (1.5.11)\n",
            "Requirement already satisfied: conllu>=4.0 in /usr/local/lib/python3.9/dist-packages (from flair) (4.5.2)\n",
            "Requirement already satisfied: janome in /usr/local/lib/python3.9/dist-packages (from flair) (0.4.2)\n",
            "Requirement already satisfied: tqdm>=4.26.0 in /usr/local/lib/python3.9/dist-packages (from flair) (4.65.0)\n",
            "Requirement already satisfied: tabulate in /usr/local/lib/python3.9/dist-packages (from flair) (0.8.10)\n",
            "Requirement already satisfied: torch!=1.8,>=1.5.0 in /usr/local/lib/python3.9/dist-packages (from flair) (2.0.0+cu118)\n",
            "Requirement already satisfied: pptree in /usr/local/lib/python3.9/dist-packages (from flair) (3.1)\n",
            "Requirement already satisfied: beautifulsoup4 in /usr/local/lib/python3.9/dist-packages (from gdown==4.4.0->flair) (4.11.2)\n",
            "Requirement already satisfied: six in /usr/local/lib/python3.9/dist-packages (from gdown==4.4.0->flair) (1.16.0)\n",
            "Requirement already satisfied: requests[socks] in /usr/local/lib/python3.9/dist-packages (from gdown==4.4.0->flair) (2.27.1)\n",
            "Requirement already satisfied: filelock in /usr/local/lib/python3.9/dist-packages (from gdown==4.4.0->flair) (3.11.0)\n",
            "Requirement already satisfied: sentencepiece in /usr/local/lib/python3.9/dist-packages (from bpemb>=0.3.2->flair) (0.1.98)\n",
            "Requirement already satisfied: numpy in /usr/local/lib/python3.9/dist-packages (from bpemb>=0.3.2->flair) (1.22.4)\n",
            "Requirement already satisfied: wrapt<2,>=1.10 in /usr/local/lib/python3.9/dist-packages (from deprecated>=1.2.4->flair) (1.14.1)\n",
            "Requirement already satisfied: scipy>=1.7.0 in /usr/local/lib/python3.9/dist-packages (from gensim>=3.8.0->flair) (1.10.1)\n",
            "Requirement already satisfied: smart-open>=1.8.1 in /usr/local/lib/python3.9/dist-packages (from gensim>=3.8.0->flair) (6.3.0)\n",
            "Requirement already satisfied: packaging>=20.9 in /usr/local/lib/python3.9/dist-packages (from huggingface-hub>=0.10.0->flair) (23.1)\n",
            "Requirement already satisfied: pyyaml>=5.1 in /usr/local/lib/python3.9/dist-packages (from huggingface-hub>=0.10.0->flair) (6.0)\n",
            "Requirement already satisfied: typing-extensions>=3.7.4.3 in /usr/local/lib/python3.9/dist-packages (from huggingface-hub>=0.10.0->flair) (4.5.0)\n",
            "Requirement already satisfied: future in /usr/local/lib/python3.9/dist-packages (from hyperopt>=0.2.7->flair) (0.18.3)\n",
            "Requirement already satisfied: cloudpickle in /usr/local/lib/python3.9/dist-packages (from hyperopt>=0.2.7->flair) (2.2.1)\n",
            "Requirement already satisfied: py4j in /usr/local/lib/python3.9/dist-packages (from hyperopt>=0.2.7->flair) (0.10.9.7)\n",
            "Requirement already satisfied: networkx>=2.2 in /usr/local/lib/python3.9/dist-packages (from hyperopt>=0.2.7->flair) (3.1)\n",
            "Requirement already satisfied: kiwisolver>=1.0.1 in /usr/local/lib/python3.9/dist-packages (from matplotlib>=2.2.3->flair) (1.4.4)\n",
            "Requirement already satisfied: contourpy>=1.0.1 in /usr/local/lib/python3.9/dist-packages (from matplotlib>=2.2.3->flair) (1.0.7)\n",
            "Requirement already satisfied: pyparsing>=2.3.1 in /usr/local/lib/python3.9/dist-packages (from matplotlib>=2.2.3->flair) (3.0.9)\n",
            "Requirement already satisfied: importlib-resources>=3.2.0 in /usr/local/lib/python3.9/dist-packages (from matplotlib>=2.2.3->flair) (5.12.0)\n",
            "Requirement already satisfied: pillow>=6.2.0 in /usr/local/lib/python3.9/dist-packages (from matplotlib>=2.2.3->flair) (8.4.0)\n",
            "Requirement already satisfied: cycler>=0.10 in /usr/local/lib/python3.9/dist-packages (from matplotlib>=2.2.3->flair) (0.11.0)\n",
            "Requirement already satisfied: fonttools>=4.22.0 in /usr/local/lib/python3.9/dist-packages (from matplotlib>=2.2.3->flair) (4.39.3)\n",
            "Requirement already satisfied: joblib>=1.1.1 in /usr/local/lib/python3.9/dist-packages (from scikit-learn>=0.21.3->flair) (1.2.0)\n",
            "Requirement already satisfied: threadpoolctl>=2.0.0 in /usr/local/lib/python3.9/dist-packages (from scikit-learn>=0.21.3->flair) (3.1.0)\n",
            "Requirement already satisfied: triton==2.0.0 in /usr/local/lib/python3.9/dist-packages (from torch!=1.8,>=1.5.0->flair) (2.0.0)\n",
            "Requirement already satisfied: sympy in /usr/local/lib/python3.9/dist-packages (from torch!=1.8,>=1.5.0->flair) (1.11.1)\n",
            "Requirement already satisfied: jinja2 in /usr/local/lib/python3.9/dist-packages (from torch!=1.8,>=1.5.0->flair) (3.1.2)\n",
            "Requirement already satisfied: lit in /usr/local/lib/python3.9/dist-packages (from triton==2.0.0->torch!=1.8,>=1.5.0->flair) (16.0.1)\n",
            "Requirement already satisfied: cmake in /usr/local/lib/python3.9/dist-packages (from triton==2.0.0->torch!=1.8,>=1.5.0->flair) (3.25.2)\n",
            "Requirement already satisfied: datasets<3.0.0,>=2.0.0 in /usr/local/lib/python3.9/dist-packages (from transformer-smaller-training-vocab>=0.2.1->flair) (2.11.0)\n",
            "Requirement already satisfied: tokenizers!=0.11.3,<0.14,>=0.11.1 in /usr/local/lib/python3.9/dist-packages (from transformers[sentencepiece]>=4.18.0->flair) (0.13.3)\n",
            "Requirement already satisfied: protobuf<=3.20.2 in /usr/local/lib/python3.9/dist-packages (from transformers[sentencepiece]>=4.18.0->flair) (3.20.2)\n",
            "Requirement already satisfied: botocore<1.30.0,>=1.29.117 in /usr/local/lib/python3.9/dist-packages (from boto3->flair) (1.29.117)\n",
            "Requirement already satisfied: s3transfer<0.7.0,>=0.6.0 in /usr/local/lib/python3.9/dist-packages (from boto3->flair) (0.6.0)\n",
            "Requirement already satisfied: jmespath<2.0.0,>=0.7.1 in /usr/local/lib/python3.9/dist-packages (from boto3->flair) (1.0.1)\n",
            "Requirement already satisfied: wcwidth>=0.2.5 in /usr/local/lib/python3.9/dist-packages (from ftfy->flair) (0.2.6)\n",
            "Requirement already satisfied: urllib3<1.27,>=1.25.4 in /usr/local/lib/python3.9/dist-packages (from botocore<1.30.0,>=1.29.117->boto3->flair) (1.26.15)\n",
            "Requirement already satisfied: xxhash in /usr/local/lib/python3.9/dist-packages (from datasets<3.0.0,>=2.0.0->transformer-smaller-training-vocab>=0.2.1->flair) (3.2.0)\n",
            "Requirement already satisfied: pyarrow>=8.0.0 in /usr/local/lib/python3.9/dist-packages (from datasets<3.0.0,>=2.0.0->transformer-smaller-training-vocab>=0.2.1->flair) (9.0.0)\n",
            "Requirement already satisfied: aiohttp in /usr/local/lib/python3.9/dist-packages (from datasets<3.0.0,>=2.0.0->transformer-smaller-training-vocab>=0.2.1->flair) (3.8.4)\n",
            "Requirement already satisfied: multiprocess in /usr/local/lib/python3.9/dist-packages (from datasets<3.0.0,>=2.0.0->transformer-smaller-training-vocab>=0.2.1->flair) (0.70.14)\n",
            "Requirement already satisfied: responses<0.19 in /usr/local/lib/python3.9/dist-packages (from datasets<3.0.0,>=2.0.0->transformer-smaller-training-vocab>=0.2.1->flair) (0.18.0)\n",
            "Requirement already satisfied: pandas in /usr/local/lib/python3.9/dist-packages (from datasets<3.0.0,>=2.0.0->transformer-smaller-training-vocab>=0.2.1->flair) (1.5.3)\n",
            "Requirement already satisfied: fsspec[http]>=2021.11.1 in /usr/local/lib/python3.9/dist-packages (from datasets<3.0.0,>=2.0.0->transformer-smaller-training-vocab>=0.2.1->flair) (2023.4.0)\n",
            "Requirement already satisfied: dill<0.3.7,>=0.3.0 in /usr/local/lib/python3.9/dist-packages (from datasets<3.0.0,>=2.0.0->transformer-smaller-training-vocab>=0.2.1->flair) (0.3.6)\n",
            "Requirement already satisfied: zipp>=3.1.0 in /usr/local/lib/python3.9/dist-packages (from importlib-resources>=3.2.0->matplotlib>=2.2.3->flair) (3.15.0)\n",
            "Requirement already satisfied: charset-normalizer~=2.0.0 in /usr/local/lib/python3.9/dist-packages (from requests[socks]->gdown==4.4.0->flair) (2.0.12)\n",
            "Requirement already satisfied: idna<4,>=2.5 in /usr/local/lib/python3.9/dist-packages (from requests[socks]->gdown==4.4.0->flair) (3.4)\n",
            "Requirement already satisfied: certifi>=2017.4.17 in /usr/local/lib/python3.9/dist-packages (from requests[socks]->gdown==4.4.0->flair) (2022.12.7)\n",
            "Requirement already satisfied: soupsieve>1.2 in /usr/local/lib/python3.9/dist-packages (from beautifulsoup4->gdown==4.4.0->flair) (2.4.1)\n",
            "Requirement already satisfied: MarkupSafe>=2.0 in /usr/local/lib/python3.9/dist-packages (from jinja2->torch!=1.8,>=1.5.0->flair) (2.1.2)\n",
            "Requirement already satisfied: PySocks!=1.5.7,>=1.5.6 in /usr/local/lib/python3.9/dist-packages (from requests[socks]->gdown==4.4.0->flair) (1.7.1)\n",
            "Requirement already satisfied: mpmath>=0.19 in /usr/local/lib/python3.9/dist-packages (from sympy->torch!=1.8,>=1.5.0->flair) (1.3.0)\n",
            "Requirement already satisfied: aiosignal>=1.1.2 in /usr/local/lib/python3.9/dist-packages (from aiohttp->datasets<3.0.0,>=2.0.0->transformer-smaller-training-vocab>=0.2.1->flair) (1.3.1)\n",
            "Requirement already satisfied: async-timeout<5.0,>=4.0.0a3 in /usr/local/lib/python3.9/dist-packages (from aiohttp->datasets<3.0.0,>=2.0.0->transformer-smaller-training-vocab>=0.2.1->flair) (4.0.2)\n",
            "Requirement already satisfied: multidict<7.0,>=4.5 in /usr/local/lib/python3.9/dist-packages (from aiohttp->datasets<3.0.0,>=2.0.0->transformer-smaller-training-vocab>=0.2.1->flair) (6.0.4)\n",
            "Requirement already satisfied: frozenlist>=1.1.1 in /usr/local/lib/python3.9/dist-packages (from aiohttp->datasets<3.0.0,>=2.0.0->transformer-smaller-training-vocab>=0.2.1->flair) (1.3.3)\n",
            "Requirement already satisfied: attrs>=17.3.0 in /usr/local/lib/python3.9/dist-packages (from aiohttp->datasets<3.0.0,>=2.0.0->transformer-smaller-training-vocab>=0.2.1->flair) (23.1.0)\n",
            "Requirement already satisfied: yarl<2.0,>=1.0 in /usr/local/lib/python3.9/dist-packages (from aiohttp->datasets<3.0.0,>=2.0.0->transformer-smaller-training-vocab>=0.2.1->flair) (1.8.2)\n",
            "Requirement already satisfied: pytz>=2020.1 in /usr/local/lib/python3.9/dist-packages (from pandas->datasets<3.0.0,>=2.0.0->transformer-smaller-training-vocab>=0.2.1->flair) (2022.7.1)\n"
          ]
        }
      ],
      "source": [
        "!pip install flair"
      ]
    },
    {
      "cell_type": "code",
      "execution_count": 2,
      "metadata": {
        "id": "xONJpNLKtGie"
      },
      "outputs": [],
      "source": [
        "import pandas as pd\n",
        "import numpy as np\n",
        "import os, re, csv, string, random\n",
        "import flair\n",
        "# print(flair.__version__)\n",
        "\n",
        "\n",
        "import nltk\n",
        "from nltk.tokenize import RegexpTokenizer\n",
        "\n",
        "from flair.data import Sentence, Span, Corpus, Dictionary, Token\n",
        "from flair.embeddings import WordEmbeddings, DocumentPoolEmbeddings, FlairEmbeddings, StackedEmbeddings, TokenEmbeddings\n",
        "from flair.models import SequenceTagger\n",
        "\n",
        "from flair.datasets import ColumnCorpus\n",
        "from flair.trainers import ModelTrainer\n",
        "\n",
        "from typing import List, Tuple\n",
        "\n",
        "from sklearn.metrics import confusion_matrix, classification_report\n",
        "\n",
        "import seaborn as sns\n",
        "import pickle\n",
        "\n",
        "from tqdm.auto import tqdm, trange\n",
        "\n",
        "# import seaborn as sns\n",
        "import matplotlib.pyplot as plt\n",
        "from collections import Counter\n",
        "from itertools import chain\n",
        "# from flair.data import Sentence"
      ]
    },
    {
      "cell_type": "code",
      "execution_count": 3,
      "metadata": {
        "colab": {
          "base_uri": "https://localhost:8080/"
        },
        "id": "nw6RM8uotGih",
        "outputId": "f50e2d73-8d5f-42ec-8d6d-3f9f089d6731"
      },
      "outputs": [
        {
          "output_type": "stream",
          "name": "stdout",
          "text": [
            "Drive already mounted at /content/drive; to attempt to forcibly remount, call drive.mount(\"/content/drive\", force_remount=True).\n"
          ]
        }
      ],
      "source": [
        "from google.colab import drive\n",
        "drive.mount(\"/content/drive\")\n",
        "\n",
        "os.chdir('/content/drive/MyDrive/SI 630 project')\n",
        "# os.listdir('.')"
      ]
    },
    {
      "cell_type": "code",
      "execution_count": 4,
      "metadata": {
        "colab": {
          "base_uri": "https://localhost:8080/"
        },
        "id": "P9LwpBadtGih",
        "outputId": "9df9277b-a7fa-4252-bc66-b7cc6bad7aa7"
      },
      "outputs": [
        {
          "output_type": "execute_result",
          "data": {
            "text/plain": [
              "['sct',\n",
              " 'text',\n",
              " 'original - unedited version of edited files',\n",
              " 'meddra - unedited version of edited files',\n",
              " 'sct - unedited version of edited files',\n",
              " 'original',\n",
              " 'meddra']"
            ]
          },
          "metadata": {},
          "execution_count": 4
        }
      ],
      "source": [
        "os.listdir('datasets/CADEC/CADEC.v2/cadec')\n"
      ]
    },
    {
      "cell_type": "code",
      "execution_count": 5,
      "metadata": {
        "id": "VNZtmxiPb5uV"
      },
      "outputs": [],
      "source": [
        "suf = '_v2'\n",
        "\n",
        "data_save_dir = 'data'+suf\n",
        "\n",
        "suf += '_Bio_ClinicalBERT'"
      ]
    },
    {
      "cell_type": "code",
      "execution_count": 6,
      "metadata": {
        "colab": {
          "base_uri": "https://localhost:8080/",
          "height": 424
        },
        "id": "BIUl2-W9tGii",
        "outputId": "af96466a-fc4c-4ff0-a75b-62244cccf6f6"
      },
      "outputs": [
        {
          "output_type": "execute_result",
          "data": {
            "text/plain": [
              "          ner        meddra  counts_exploded  counts  counts_exploded_rank\n",
              "0        Drug       Lipitor             1081    1073                     1\n",
              "1         ADR  CONCEPT_LESS             1016     266                     2\n",
              "2         ADR   Severe_pain              722     247                     3\n",
              "3         ADR       Myalgia              619     305                     4\n",
              "4         ADR          Pain              292     260                     5\n",
              "...       ...           ...              ...     ...                   ...\n",
              "1294  Finding      Senility                1       1                  1233\n",
              "1295     Drug      Seroquel                1       1                  1233\n",
              "1296     Drug      Solaraze                1       1                  1233\n",
              "1297     Drug       Tagamet                1       1                  1233\n",
              "1298     Drug  testosterone                1       1                  1233\n",
              "\n",
              "[1299 rows x 5 columns]"
            ],
            "text/html": [
              "\n",
              "  <div id=\"df-ebd33d22-20a5-4cee-be6b-a62ceb4fcf6f\">\n",
              "    <div class=\"colab-df-container\">\n",
              "      <div>\n",
              "<style scoped>\n",
              "    .dataframe tbody tr th:only-of-type {\n",
              "        vertical-align: middle;\n",
              "    }\n",
              "\n",
              "    .dataframe tbody tr th {\n",
              "        vertical-align: top;\n",
              "    }\n",
              "\n",
              "    .dataframe thead th {\n",
              "        text-align: right;\n",
              "    }\n",
              "</style>\n",
              "<table border=\"1\" class=\"dataframe\">\n",
              "  <thead>\n",
              "    <tr style=\"text-align: right;\">\n",
              "      <th></th>\n",
              "      <th>ner</th>\n",
              "      <th>meddra</th>\n",
              "      <th>counts_exploded</th>\n",
              "      <th>counts</th>\n",
              "      <th>counts_exploded_rank</th>\n",
              "    </tr>\n",
              "  </thead>\n",
              "  <tbody>\n",
              "    <tr>\n",
              "      <th>0</th>\n",
              "      <td>Drug</td>\n",
              "      <td>Lipitor</td>\n",
              "      <td>1081</td>\n",
              "      <td>1073</td>\n",
              "      <td>1</td>\n",
              "    </tr>\n",
              "    <tr>\n",
              "      <th>1</th>\n",
              "      <td>ADR</td>\n",
              "      <td>CONCEPT_LESS</td>\n",
              "      <td>1016</td>\n",
              "      <td>266</td>\n",
              "      <td>2</td>\n",
              "    </tr>\n",
              "    <tr>\n",
              "      <th>2</th>\n",
              "      <td>ADR</td>\n",
              "      <td>Severe_pain</td>\n",
              "      <td>722</td>\n",
              "      <td>247</td>\n",
              "      <td>3</td>\n",
              "    </tr>\n",
              "    <tr>\n",
              "      <th>3</th>\n",
              "      <td>ADR</td>\n",
              "      <td>Myalgia</td>\n",
              "      <td>619</td>\n",
              "      <td>305</td>\n",
              "      <td>4</td>\n",
              "    </tr>\n",
              "    <tr>\n",
              "      <th>4</th>\n",
              "      <td>ADR</td>\n",
              "      <td>Pain</td>\n",
              "      <td>292</td>\n",
              "      <td>260</td>\n",
              "      <td>5</td>\n",
              "    </tr>\n",
              "    <tr>\n",
              "      <th>...</th>\n",
              "      <td>...</td>\n",
              "      <td>...</td>\n",
              "      <td>...</td>\n",
              "      <td>...</td>\n",
              "      <td>...</td>\n",
              "    </tr>\n",
              "    <tr>\n",
              "      <th>1294</th>\n",
              "      <td>Finding</td>\n",
              "      <td>Senility</td>\n",
              "      <td>1</td>\n",
              "      <td>1</td>\n",
              "      <td>1233</td>\n",
              "    </tr>\n",
              "    <tr>\n",
              "      <th>1295</th>\n",
              "      <td>Drug</td>\n",
              "      <td>Seroquel</td>\n",
              "      <td>1</td>\n",
              "      <td>1</td>\n",
              "      <td>1233</td>\n",
              "    </tr>\n",
              "    <tr>\n",
              "      <th>1296</th>\n",
              "      <td>Drug</td>\n",
              "      <td>Solaraze</td>\n",
              "      <td>1</td>\n",
              "      <td>1</td>\n",
              "      <td>1233</td>\n",
              "    </tr>\n",
              "    <tr>\n",
              "      <th>1297</th>\n",
              "      <td>Drug</td>\n",
              "      <td>Tagamet</td>\n",
              "      <td>1</td>\n",
              "      <td>1</td>\n",
              "      <td>1233</td>\n",
              "    </tr>\n",
              "    <tr>\n",
              "      <th>1298</th>\n",
              "      <td>Drug</td>\n",
              "      <td>testosterone</td>\n",
              "      <td>1</td>\n",
              "      <td>1</td>\n",
              "      <td>1233</td>\n",
              "    </tr>\n",
              "  </tbody>\n",
              "</table>\n",
              "<p>1299 rows × 5 columns</p>\n",
              "</div>\n",
              "      <button class=\"colab-df-convert\" onclick=\"convertToInteractive('df-ebd33d22-20a5-4cee-be6b-a62ceb4fcf6f')\"\n",
              "              title=\"Convert this dataframe to an interactive table.\"\n",
              "              style=\"display:none;\">\n",
              "        \n",
              "  <svg xmlns=\"http://www.w3.org/2000/svg\" height=\"24px\"viewBox=\"0 0 24 24\"\n",
              "       width=\"24px\">\n",
              "    <path d=\"M0 0h24v24H0V0z\" fill=\"none\"/>\n",
              "    <path d=\"M18.56 5.44l.94 2.06.94-2.06 2.06-.94-2.06-.94-.94-2.06-.94 2.06-2.06.94zm-11 1L8.5 8.5l.94-2.06 2.06-.94-2.06-.94L8.5 2.5l-.94 2.06-2.06.94zm10 10l.94 2.06.94-2.06 2.06-.94-2.06-.94-.94-2.06-.94 2.06-2.06.94z\"/><path d=\"M17.41 7.96l-1.37-1.37c-.4-.4-.92-.59-1.43-.59-.52 0-1.04.2-1.43.59L10.3 9.45l-7.72 7.72c-.78.78-.78 2.05 0 2.83L4 21.41c.39.39.9.59 1.41.59.51 0 1.02-.2 1.41-.59l7.78-7.78 2.81-2.81c.8-.78.8-2.07 0-2.86zM5.41 20L4 18.59l7.72-7.72 1.47 1.35L5.41 20z\"/>\n",
              "  </svg>\n",
              "      </button>\n",
              "      \n",
              "  <style>\n",
              "    .colab-df-container {\n",
              "      display:flex;\n",
              "      flex-wrap:wrap;\n",
              "      gap: 12px;\n",
              "    }\n",
              "\n",
              "    .colab-df-convert {\n",
              "      background-color: #E8F0FE;\n",
              "      border: none;\n",
              "      border-radius: 50%;\n",
              "      cursor: pointer;\n",
              "      display: none;\n",
              "      fill: #1967D2;\n",
              "      height: 32px;\n",
              "      padding: 0 0 0 0;\n",
              "      width: 32px;\n",
              "    }\n",
              "\n",
              "    .colab-df-convert:hover {\n",
              "      background-color: #E2EBFA;\n",
              "      box-shadow: 0px 1px 2px rgba(60, 64, 67, 0.3), 0px 1px 3px 1px rgba(60, 64, 67, 0.15);\n",
              "      fill: #174EA6;\n",
              "    }\n",
              "\n",
              "    [theme=dark] .colab-df-convert {\n",
              "      background-color: #3B4455;\n",
              "      fill: #D2E3FC;\n",
              "    }\n",
              "\n",
              "    [theme=dark] .colab-df-convert:hover {\n",
              "      background-color: #434B5C;\n",
              "      box-shadow: 0px 1px 3px 1px rgba(0, 0, 0, 0.15);\n",
              "      filter: drop-shadow(0px 1px 2px rgba(0, 0, 0, 0.3));\n",
              "      fill: #FFFFFF;\n",
              "    }\n",
              "  </style>\n",
              "\n",
              "      <script>\n",
              "        const buttonEl =\n",
              "          document.querySelector('#df-ebd33d22-20a5-4cee-be6b-a62ceb4fcf6f button.colab-df-convert');\n",
              "        buttonEl.style.display =\n",
              "          google.colab.kernel.accessAllowed ? 'block' : 'none';\n",
              "\n",
              "        async function convertToInteractive(key) {\n",
              "          const element = document.querySelector('#df-ebd33d22-20a5-4cee-be6b-a62ceb4fcf6f');\n",
              "          const dataTable =\n",
              "            await google.colab.kernel.invokeFunction('convertToInteractive',\n",
              "                                                     [key], {});\n",
              "          if (!dataTable) return;\n",
              "\n",
              "          const docLinkHtml = 'Like what you see? Visit the ' +\n",
              "            '<a target=\"_blank\" href=https://colab.research.google.com/notebooks/data_table.ipynb>data table notebook</a>'\n",
              "            + ' to learn more about interactive tables.';\n",
              "          element.innerHTML = '';\n",
              "          dataTable['output_type'] = 'display_data';\n",
              "          await google.colab.output.renderOutput(dataTable, element);\n",
              "          const docLink = document.createElement('div');\n",
              "          docLink.innerHTML = docLinkHtml;\n",
              "          element.appendChild(docLink);\n",
              "        }\n",
              "      </script>\n",
              "    </div>\n",
              "  </div>\n",
              "  "
            ]
          },
          "metadata": {},
          "execution_count": 6
        }
      ],
      "source": [
        "meddra_counts = pd.read_csv(data_save_dir+'/meddra_counts.csv')\n",
        "meddra_counts"
      ]
    },
    {
      "cell_type": "code",
      "execution_count": 7,
      "metadata": {
        "colab": {
          "base_uri": "https://localhost:8080/",
          "height": 424
        },
        "id": "xzc4Zo0PtGii",
        "outputId": "7c4c7e28-d17b-463e-a73f-ff10cbfae519"
      },
      "outputs": [
        {
          "output_type": "execute_result",
          "data": {
            "text/plain": [
              "      ner                       meddra  counts_exploded  counts  \\\n",
              "1     ADR                 CONCEPT_LESS             1016     266   \n",
              "2     ADR                  Severe_pain              722     247   \n",
              "3     ADR                      Myalgia              619     305   \n",
              "4     ADR                         Pain              292     260   \n",
              "5     ADR                   Arthralgia              280     163   \n",
              "...   ...                          ...              ...     ...   \n",
              "1268  ADR                Labyrinthitis                1       1   \n",
              "1269  ADR                    Dysphagia                1       1   \n",
              "1275  ADR          Lupus_erythematosus                1       1   \n",
              "1278  ADR                     Cataract                1       1   \n",
              "1283  ADR  Crying_associated_with_mood                1       1   \n",
              "\n",
              "      counts_exploded_rank  \n",
              "1                        2  \n",
              "2                        3  \n",
              "3                        4  \n",
              "4                        5  \n",
              "5                        6  \n",
              "...                    ...  \n",
              "1268                  1233  \n",
              "1269                  1233  \n",
              "1275                  1233  \n",
              "1278                  1233  \n",
              "1283                  1233  \n",
              "\n",
              "[800 rows x 5 columns]"
            ],
            "text/html": [
              "\n",
              "  <div id=\"df-50211309-ae9c-41af-bce2-18fcb40297b3\">\n",
              "    <div class=\"colab-df-container\">\n",
              "      <div>\n",
              "<style scoped>\n",
              "    .dataframe tbody tr th:only-of-type {\n",
              "        vertical-align: middle;\n",
              "    }\n",
              "\n",
              "    .dataframe tbody tr th {\n",
              "        vertical-align: top;\n",
              "    }\n",
              "\n",
              "    .dataframe thead th {\n",
              "        text-align: right;\n",
              "    }\n",
              "</style>\n",
              "<table border=\"1\" class=\"dataframe\">\n",
              "  <thead>\n",
              "    <tr style=\"text-align: right;\">\n",
              "      <th></th>\n",
              "      <th>ner</th>\n",
              "      <th>meddra</th>\n",
              "      <th>counts_exploded</th>\n",
              "      <th>counts</th>\n",
              "      <th>counts_exploded_rank</th>\n",
              "    </tr>\n",
              "  </thead>\n",
              "  <tbody>\n",
              "    <tr>\n",
              "      <th>1</th>\n",
              "      <td>ADR</td>\n",
              "      <td>CONCEPT_LESS</td>\n",
              "      <td>1016</td>\n",
              "      <td>266</td>\n",
              "      <td>2</td>\n",
              "    </tr>\n",
              "    <tr>\n",
              "      <th>2</th>\n",
              "      <td>ADR</td>\n",
              "      <td>Severe_pain</td>\n",
              "      <td>722</td>\n",
              "      <td>247</td>\n",
              "      <td>3</td>\n",
              "    </tr>\n",
              "    <tr>\n",
              "      <th>3</th>\n",
              "      <td>ADR</td>\n",
              "      <td>Myalgia</td>\n",
              "      <td>619</td>\n",
              "      <td>305</td>\n",
              "      <td>4</td>\n",
              "    </tr>\n",
              "    <tr>\n",
              "      <th>4</th>\n",
              "      <td>ADR</td>\n",
              "      <td>Pain</td>\n",
              "      <td>292</td>\n",
              "      <td>260</td>\n",
              "      <td>5</td>\n",
              "    </tr>\n",
              "    <tr>\n",
              "      <th>5</th>\n",
              "      <td>ADR</td>\n",
              "      <td>Arthralgia</td>\n",
              "      <td>280</td>\n",
              "      <td>163</td>\n",
              "      <td>6</td>\n",
              "    </tr>\n",
              "    <tr>\n",
              "      <th>...</th>\n",
              "      <td>...</td>\n",
              "      <td>...</td>\n",
              "      <td>...</td>\n",
              "      <td>...</td>\n",
              "      <td>...</td>\n",
              "    </tr>\n",
              "    <tr>\n",
              "      <th>1268</th>\n",
              "      <td>ADR</td>\n",
              "      <td>Labyrinthitis</td>\n",
              "      <td>1</td>\n",
              "      <td>1</td>\n",
              "      <td>1233</td>\n",
              "    </tr>\n",
              "    <tr>\n",
              "      <th>1269</th>\n",
              "      <td>ADR</td>\n",
              "      <td>Dysphagia</td>\n",
              "      <td>1</td>\n",
              "      <td>1</td>\n",
              "      <td>1233</td>\n",
              "    </tr>\n",
              "    <tr>\n",
              "      <th>1275</th>\n",
              "      <td>ADR</td>\n",
              "      <td>Lupus_erythematosus</td>\n",
              "      <td>1</td>\n",
              "      <td>1</td>\n",
              "      <td>1233</td>\n",
              "    </tr>\n",
              "    <tr>\n",
              "      <th>1278</th>\n",
              "      <td>ADR</td>\n",
              "      <td>Cataract</td>\n",
              "      <td>1</td>\n",
              "      <td>1</td>\n",
              "      <td>1233</td>\n",
              "    </tr>\n",
              "    <tr>\n",
              "      <th>1283</th>\n",
              "      <td>ADR</td>\n",
              "      <td>Crying_associated_with_mood</td>\n",
              "      <td>1</td>\n",
              "      <td>1</td>\n",
              "      <td>1233</td>\n",
              "    </tr>\n",
              "  </tbody>\n",
              "</table>\n",
              "<p>800 rows × 5 columns</p>\n",
              "</div>\n",
              "      <button class=\"colab-df-convert\" onclick=\"convertToInteractive('df-50211309-ae9c-41af-bce2-18fcb40297b3')\"\n",
              "              title=\"Convert this dataframe to an interactive table.\"\n",
              "              style=\"display:none;\">\n",
              "        \n",
              "  <svg xmlns=\"http://www.w3.org/2000/svg\" height=\"24px\"viewBox=\"0 0 24 24\"\n",
              "       width=\"24px\">\n",
              "    <path d=\"M0 0h24v24H0V0z\" fill=\"none\"/>\n",
              "    <path d=\"M18.56 5.44l.94 2.06.94-2.06 2.06-.94-2.06-.94-.94-2.06-.94 2.06-2.06.94zm-11 1L8.5 8.5l.94-2.06 2.06-.94-2.06-.94L8.5 2.5l-.94 2.06-2.06.94zm10 10l.94 2.06.94-2.06 2.06-.94-2.06-.94-.94-2.06-.94 2.06-2.06.94z\"/><path d=\"M17.41 7.96l-1.37-1.37c-.4-.4-.92-.59-1.43-.59-.52 0-1.04.2-1.43.59L10.3 9.45l-7.72 7.72c-.78.78-.78 2.05 0 2.83L4 21.41c.39.39.9.59 1.41.59.51 0 1.02-.2 1.41-.59l7.78-7.78 2.81-2.81c.8-.78.8-2.07 0-2.86zM5.41 20L4 18.59l7.72-7.72 1.47 1.35L5.41 20z\"/>\n",
              "  </svg>\n",
              "      </button>\n",
              "      \n",
              "  <style>\n",
              "    .colab-df-container {\n",
              "      display:flex;\n",
              "      flex-wrap:wrap;\n",
              "      gap: 12px;\n",
              "    }\n",
              "\n",
              "    .colab-df-convert {\n",
              "      background-color: #E8F0FE;\n",
              "      border: none;\n",
              "      border-radius: 50%;\n",
              "      cursor: pointer;\n",
              "      display: none;\n",
              "      fill: #1967D2;\n",
              "      height: 32px;\n",
              "      padding: 0 0 0 0;\n",
              "      width: 32px;\n",
              "    }\n",
              "\n",
              "    .colab-df-convert:hover {\n",
              "      background-color: #E2EBFA;\n",
              "      box-shadow: 0px 1px 2px rgba(60, 64, 67, 0.3), 0px 1px 3px 1px rgba(60, 64, 67, 0.15);\n",
              "      fill: #174EA6;\n",
              "    }\n",
              "\n",
              "    [theme=dark] .colab-df-convert {\n",
              "      background-color: #3B4455;\n",
              "      fill: #D2E3FC;\n",
              "    }\n",
              "\n",
              "    [theme=dark] .colab-df-convert:hover {\n",
              "      background-color: #434B5C;\n",
              "      box-shadow: 0px 1px 3px 1px rgba(0, 0, 0, 0.15);\n",
              "      filter: drop-shadow(0px 1px 2px rgba(0, 0, 0, 0.3));\n",
              "      fill: #FFFFFF;\n",
              "    }\n",
              "  </style>\n",
              "\n",
              "      <script>\n",
              "        const buttonEl =\n",
              "          document.querySelector('#df-50211309-ae9c-41af-bce2-18fcb40297b3 button.colab-df-convert');\n",
              "        buttonEl.style.display =\n",
              "          google.colab.kernel.accessAllowed ? 'block' : 'none';\n",
              "\n",
              "        async function convertToInteractive(key) {\n",
              "          const element = document.querySelector('#df-50211309-ae9c-41af-bce2-18fcb40297b3');\n",
              "          const dataTable =\n",
              "            await google.colab.kernel.invokeFunction('convertToInteractive',\n",
              "                                                     [key], {});\n",
              "          if (!dataTable) return;\n",
              "\n",
              "          const docLinkHtml = 'Like what you see? Visit the ' +\n",
              "            '<a target=\"_blank\" href=https://colab.research.google.com/notebooks/data_table.ipynb>data table notebook</a>'\n",
              "            + ' to learn more about interactive tables.';\n",
              "          element.innerHTML = '';\n",
              "          dataTable['output_type'] = 'display_data';\n",
              "          await google.colab.output.renderOutput(dataTable, element);\n",
              "          const docLink = document.createElement('div');\n",
              "          docLink.innerHTML = docLinkHtml;\n",
              "          element.appendChild(docLink);\n",
              "        }\n",
              "      </script>\n",
              "    </div>\n",
              "  </div>\n",
              "  "
            ]
          },
          "metadata": {},
          "execution_count": 7
        }
      ],
      "source": [
        "meddra_counts.loc[meddra_counts.ner == 'ADR',:]"
      ]
    },
    {
      "cell_type": "code",
      "execution_count": 8,
      "metadata": {
        "colab": {
          "base_uri": "https://localhost:8080/"
        },
        "id": "hAGPini7tGii",
        "outputId": "6e5ae050-ffa7-471d-ba58-b849860f64bd"
      },
      "outputs": [
        {
          "output_type": "execute_result",
          "data": {
            "text/plain": [
              "[Sentence[117]: \"i feel a bit drowsy & have a little blurred vision , so far no gastric problems . ive been on arthrotec 50 for over 10 years on and off , only taking it when i needed it . due to my arthritis getting progressively worse , to the point where i am in tears with the agony , gp ' s started me on 75 twice a day and i have to take it . every day for the next month to see how i get on , here goes . so far its been very good , pains almost gone , but i feel a bit weird , didnt have that when on 50 .\" → [\"i\"/O/O, \"feel\"/O/O, \"a\"/O/O, \"bit\"/B-ADR/B-Drowsy, \"drowsy\"/E-ADR/E-Drowsy, \"&\"/O/O, \"have\"/O/O, \"a\"/O/O, \"little\"/B-ADR/B-Blurred_vision_-_hazy, \"blurred\"/I-ADR/I-Blurred_vision_-_hazy, \"vision\"/E-ADR/E-Blurred_vision_-_hazy, \",\"/O/O, \"so\"/O/O, \"far\"/O/O, \"no\"/O/O, \"gastric\"/B-ADR/B-Excessive_upper_gastrointestinal_gas, \"problems\"/E-ADR/E-Excessive_upper_gastrointestinal_gas, \".\"/O/O, \"ive\"/O/O, \"been\"/O/O, \"on\"/O/O, \"arthrotec\"/S-Drug/S-Arthrotec, \"50\"/O/O, \"for\"/O/O, \"over\"/O/O, \"10\"/O/O, \"years\"/O/O, \"on\"/O/O, \"and\"/O/O, \"off\"/O/O, \",\"/O/O, \"only\"/O/O, \"taking\"/O/O, \"it\"/O/O, \"when\"/O/O, \"i\"/O/O, \"needed\"/O/O, \"it\"/O/O, \".\"/O/O, \"due\"/O/O, \"to\"/O/O, \"my\"/O/O, \"arthritis\"/S-Disease/S-Arthritis, \"getting\"/O/O, \"progressively\"/O/O, \"worse\"/O/O, \",\"/O/O, \"to\"/O/O, \"the\"/O/O, \"point\"/O/O, \"where\"/O/O, \"i\"/O/O, \"am\"/O/O, \"in\"/O/O, \"tears\"/O/O, \"with\"/O/O, \"the\"/O/O, \"agony\"/S-Symptom/S-Agony, \",\"/O/O, \"gp\"/O/O, \"'\"/O/O, \"s\"/O/O, \"started\"/O/O, \"me\"/O/O, \"on\"/O/O, \"75\"/O/O, \"twice\"/O/O, \"a\"/O/O, \"day\"/O/O, \"and\"/O/O, \"i\"/O/O, \"have\"/O/O, \"to\"/O/O, \"take\"/O/O, \"it\"/O/O, \".\"/O/O, \"every\"/O/O, \"day\"/O/O, \"for\"/O/O, \"the\"/O/O, \"next\"/O/O, \"month\"/O/O, \"to\"/O/O, \"see\"/O/O, \"how\"/O/O, \"i\"/O/O, \"get\"/O/O, \"on\"/O/O, \",\"/O/O, \"here\"/O/O, \"goes\"/O/O, \".\"/O/O, \"so\"/O/O, \"far\"/O/O, \"its\"/O/O, \"been\"/O/O, \"very\"/O/O, \"good\"/O/O, \",\"/O/O, \"pains\"/S-Symptom/S-Pain, \"almost\"/O/O, \"gone\"/O/O, \",\"/O/O, \"but\"/O/O, \"i\"/O/O, \"feel\"/B-ADR/B-Malaise, \"a\"/I-ADR/I-Malaise, \"bit\"/I-ADR/I-Malaise, \"weird\"/E-ADR/E-Malaise, \",\"/O/O, \"didnt\"/O/O, \"have\"/O/O, \"that\"/O/O, \"when\"/O/O, \"on\"/O/O, \"50\"/O/O, \".\"/O/O],\n",
              " Sentence[39]: \"hunger pangs . brilliant , i have a new lease of life , i walk up & down steps properly , no longer sideways like a toddler , hip pain as gone other than if i jar it .\" → [\"hunger\"/B-ADR/B-Hunger_pain, \"pangs\"/E-ADR/E-Hunger_pain, \".\"/O/O, \"brilliant\"/O/O, \",\"/O/O, \"i\"/O/O, \"have\"/O/O, \"a\"/O/O, \"new\"/O/O, \"lease\"/O/O, \"of\"/O/O, \"life\"/O/O, \",\"/O/O, \"i\"/O/O, \"walk\"/B-Symptom/B-CONCEPT_LESS, \"up\"/I-Symptom/I-CONCEPT_LESS, \"&\"/I-Symptom/I-CONCEPT_LESS, \"down\"/I-Symptom/I-CONCEPT_LESS, \"steps\"/I-Symptom/I-CONCEPT_LESS, \"properly\"/O/O, \",\"/O/O, \"no\"/O/O, \"longer\"/O/O, \"sideways\"/E-Symptom/E-CONCEPT_LESS, \"like\"/O/O, \"a\"/O/O, \"toddler\"/O/O, \",\"/O/O, \"hip\"/B-Symptom/B-Hip_pain, \"pain\"/E-Symptom/E-Hip_pain, \"as\"/O/O, \"gone\"/O/O, \"other\"/O/O, \"than\"/O/O, \"if\"/O/O, \"i\"/O/O, \"jar\"/O/O, \"it\"/O/O, \".\"/O/O],\n",
              " Sentence[51]: \"no side effects for the first two months . then vaginal bleeding 2 wks after menstral cycle . stomach pain . canker sores in my mouth . headache . been off for 1 week still have bleeding . helped my pain alot . too scared to take this drug again .\" → [\"no\"/O/O, \"side\"/O/O, \"effects\"/O/O, \"for\"/O/O, \"the\"/O/O, \"first\"/O/O, \"two\"/O/O, \"months\"/O/O, \".\"/O/O, \"then\"/O/O, \"vaginal\"/B-ADR/B-Vaginal_bleeding, \"bleeding\"/E-ADR/E-Vaginal_bleeding, \"2\"/O/O, \"wks\"/O/O, \"after\"/O/O, \"menstral\"/O/O, \"cycle\"/O/O, \".\"/O/O, \"stomach\"/B-ADR/B-Stomach_ache, \"pain\"/E-ADR/E-Stomach_ache, \".\"/O/O, \"canker\"/B-ADR/B-Aphthous_ulcer, \"sores\"/E-ADR/E-Aphthous_ulcer, \"in\"/O/O, \"my\"/O/O, \"mouth\"/O/O, \".\"/O/O, \"headache\"/S-ADR/S-Headache, \".\"/O/O, \"been\"/O/O, \"off\"/O/O, \"for\"/O/O, \"1\"/O/O, \"week\"/O/O, \"still\"/O/O, \"have\"/O/O, \"bleeding\"/O/O, \".\"/O/O, \"helped\"/O/O, \"my\"/O/O, \"pain\"/S-Symptom/S-Pain, \"alot\"/O/O, \".\"/O/O, \"too\"/O/O, \"scared\"/O/O, \"to\"/O/O, \"take\"/O/O, \"this\"/O/O, \"drug\"/O/O, \"again\"/O/O, \".\"/O/O],\n",
              " Sentence[68]: \"1st pill taken with food , a few hours after i experienced shortness of breath , a sense of depression , cramping , upset stomache will stop taking immediately . honestly can not recommend this drug , i am still experiencing side effects just after 1 pill and im supposed to take twice / day 75mg . i just cant keep going have to try something else .\" → [\"1st\"/O/O, \"pill\"/O/O, \"taken\"/O/O, \"with\"/O/O, \"food\"/O/O, \",\"/O/O, \"a\"/O/O, \"few\"/O/O, \"hours\"/O/O, \"after\"/O/O, \"i\"/O/O, \"experienced\"/O/O, \"shortness\"/B-ADR/B-Dyspnoea, \"of\"/I-ADR/I-Dyspnoea, \"breath\"/E-ADR/E-Dyspnoea, \",\"/O/O, \"a\"/O/O, \"sense\"/O/O, \"of\"/O/O, \"depression\"/S-ADR/S-Depression, \",\"/O/O, \"cramping\"/S-ADR/S-Muscle_cramp, \",\"/O/O, \"upset\"/B-ADR/B-Upset_stomach, \"stomache\"/E-ADR/E-Upset_stomach, \"will\"/O/O, \"stop\"/O/O, \"taking\"/O/O, \"immediately\"/O/O, \".\"/O/O, \"honestly\"/O/O, \"can\"/O/O, \"not\"/O/O, \"recommend\"/O/O, \"this\"/O/O, \"drug\"/O/O, \",\"/O/O, \"i\"/O/O, \"am\"/O/O, \"still\"/O/O, \"experiencing\"/O/O, \"side\"/O/O, \"effects\"/O/O, \"just\"/O/O, \"after\"/O/O, \"1\"/O/O, \"pill\"/O/O, \"and\"/O/O, \"im\"/O/O, \"supposed\"/O/O, \"to\"/O/O, \"take\"/O/O, \"twice\"/O/O, \"/\"/O/O, \"day\"/O/O, \"75mg\"/O/O, \".\"/O/O, \"i\"/O/O, \"just\"/O/O, \"cant\"/O/O, \"keep\"/O/O, \"going\"/O/O, \"have\"/O/O, \"to\"/O/O, \"try\"/O/O, \"something\"/O/O, \"else\"/O/O, \".\"/O/O],\n",
              " Sentence[50]: \"i have had no side effects been taking arthrotec a little over a year , have not noticed any side effects . it does help alot i noticed that when there are times when i forget to take it i cant stand or walk for any lengths of time .\" → [\"i\"/O/O, \"have\"/O/O, \"had\"/O/O, \"no\"/O/O, \"side\"/O/O, \"effects\"/O/O, \"been\"/O/O, \"taking\"/O/O, \"arthrotec\"/S-Drug/S-Arthrotec, \"a\"/O/O, \"little\"/O/O, \"over\"/O/O, \"a\"/O/O, \"year\"/O/O, \",\"/O/O, \"have\"/O/O, \"not\"/O/O, \"noticed\"/O/O, \"any\"/O/O, \"side\"/O/O, \"effects\"/O/O, \".\"/O/O, \"it\"/O/O, \"does\"/O/O, \"help\"/O/O, \"alot\"/O/O, \"i\"/O/O, \"noticed\"/O/O, \"that\"/O/O, \"when\"/O/O, \"there\"/O/O, \"are\"/O/O, \"times\"/O/O, \"when\"/O/O, \"i\"/O/O, \"forget\"/O/O, \"to\"/O/O, \"take\"/O/O, \"it\"/O/O, \"i\"/B-Symptom/B-Reduced_mobility, \"cant\"/I-Symptom/I-Reduced_mobility, \"stand\"/I-Symptom/I-Reduced_mobility, \"or\"/I-Symptom/I-Reduced_mobility, \"walk\"/I-Symptom/I-Reduced_mobility, \"for\"/I-Symptom/I-Reduced_mobility, \"any\"/I-Symptom/I-Reduced_mobility, \"lengths\"/I-Symptom/I-Reduced_mobility, \"of\"/I-Symptom/I-Reduced_mobility, \"time\"/E-Symptom/E-Reduced_mobility, \".\"/O/O],\n",
              " Sentence[89]: \"it seems as if bleeding forever is a side effect but doctors tell you that its not the drug . i have been on arthotec for three months i still have pain and stiffness . at first week into this drug i was in so much pain i sat on the floor at work and thought i was gaving a baby . i always feel weak and almost fainted a bunch of times . consider somthing that works i am switching today as this isnt in my head .\" → [\"it\"/O/O, \"seems\"/O/O, \"as\"/O/O, \"if\"/O/O, \"bleeding\"/S-ADR/S-Bleeding, \"forever\"/O/O, \"is\"/O/O, \"a\"/O/O, \"side\"/O/O, \"effect\"/O/O, \"but\"/O/O, \"doctors\"/O/O, \"tell\"/O/O, \"you\"/O/O, \"that\"/O/O, \"its\"/O/O, \"not\"/O/O, \"the\"/O/O, \"drug\"/O/O, \".\"/O/O, \"i\"/O/O, \"have\"/O/O, \"been\"/O/O, \"on\"/O/O, \"arthotec\"/S-Drug/S-Arthrotec, \"for\"/O/O, \"three\"/O/O, \"months\"/O/O, \"i\"/O/O, \"still\"/O/O, \"have\"/O/O, \"pain\"/B-Symptom/B-Pain, \"and\"/I-Symptom/I-Pain, \"stiffness\"/E-Symptom/E-Pain, \".\"/O/O, \"at\"/O/O, \"first\"/O/O, \"week\"/O/O, \"into\"/O/O, \"this\"/O/O, \"drug\"/O/O, \"i\"/O/O, \"was\"/O/O, \"in\"/O/O, \"so\"/B-ADR/B-Pain, \"much\"/I-ADR/I-Pain, \"pain\"/E-ADR/E-Pain, \"i\"/O/O, \"sat\"/O/O, \"on\"/O/O, \"the\"/O/O, \"floor\"/O/O, \"at\"/O/O, \"work\"/O/O, \"and\"/O/O, \"thought\"/O/O, \"i\"/O/O, \"was\"/O/O, \"gaving\"/O/O, \"a\"/O/O, \"baby\"/O/O, \".\"/O/O, \"i\"/O/O, \"always\"/O/O, \"feel\"/B-ADR/B-Malaise_and_fatigue, \"weak\"/I-ADR/I-Malaise_and_fatigue, \"and\"/I-ADR/I-Malaise_and_fatigue, \"almost\"/I-ADR/I-Malaise_and_fatigue, \"fainted\"/E-ADR/E-Malaise_and_fatigue, \"a\"/O/O, \"bunch\"/O/O, \"of\"/O/O, \"times\"/O/O, \".\"/O/O, \"consider\"/O/O, \"somthing\"/O/O, \"that\"/O/O, \"works\"/O/O, \"i\"/O/O, \"am\"/O/O, \"switching\"/O/O, \"today\"/O/O, \"as\"/O/O, \"this\"/O/O, \"isnt\"/O/O, \"in\"/O/O, \"my\"/O/O, \"head\"/O/O, \".\"/O/O],\n",
              " Sentence[56]: \"some diarrhea , some constipation , fatigue . it works very well for the heel ; i couldnt walk on it very well before taking it . i take 75mg . twice a day . also have severe osteoarthritis in the knees and hands , but it doesnt seem to relieve that pain at all .\" → [\"some\"/O/O, \"diarrhea\"/S-ADR/S-Diarrhoea, \",\"/O/O, \"some\"/O/O, \"constipation\"/S-ADR/S-Constipation, \",\"/O/O, \"fatigue\"/S-ADR/S-Fatigue, \".\"/O/O, \"it\"/O/O, \"works\"/O/O, \"very\"/O/O, \"well\"/O/O, \"for\"/O/O, \"the\"/B-Symptom/B-Walking_disability, \"heel\"/I-Symptom/I-Walking_disability, \";\"/O/O, \"i\"/I-Symptom/I-Walking_disability, \"couldnt\"/I-Symptom/I-Walking_disability, \"walk\"/I-Symptom/I-Walking_disability, \"on\"/I-Symptom/I-Walking_disability, \"it\"/O/O, \"very\"/I-Symptom/I-Walking_disability, \"well\"/E-Symptom/E-Walking_disability, \"before\"/O/O, \"taking\"/O/O, \"it\"/O/O, \".\"/O/O, \"i\"/O/O, \"take\"/O/O, \"75mg\"/O/O, \".\"/O/O, \"twice\"/O/O, \"a\"/O/O, \"day\"/O/O, \".\"/O/O, \"also\"/O/O, \"have\"/O/O, \"severe\"/B-Disease/B-Osteoarthritis_of_knee/B-Osteoarthrosis_of_hand, \"osteoarthritis\"/I-Disease/I-Osteoarthritis_of_knee/I-Osteoarthrosis_of_hand, \"in\"/I-Disease/I-Osteoarthritis_of_knee/I-Osteoarthrosis_of_hand, \"the\"/I-Disease/I-Osteoarthritis_of_knee/I-Osteoarthrosis_of_hand, \"knees\"/E-Disease/E-Osteoarthritis_of_knee, \"and\"/O/O, \"hands\"/E-Disease/E-Osteoarthrosis_of_hand, \",\"/O/O, \"but\"/O/O, \"it\"/O/O, \"doesnt\"/O/O, \"seem\"/O/O, \"to\"/O/O, \"relieve\"/O/O, \"that\"/O/O, \"pain\"/S-Symptom/S-Pain, \"at\"/O/O, \"all\"/O/O, \".\"/O/O],\n",
              " Sentence[84]: \"ive been on 75mg twice daily for 13 days , with recent body swelling , face , wrists , abdomen , thighs - clothes fit tight . insomina is much worse . i have forgetfulnes and confussion - really bad - almost dangerous . have felt \" empty stomach \" feeling , but not bothersome . have had more loose stools , but tolerable . im looking for a more natural therapy , checking into ha ( hyaluronic acid ) to replace arthrotec .\" → [\"ive\"/O/O, \"been\"/O/O, \"on\"/O/O, \"75mg\"/O/O, \"twice\"/O/O, \"daily\"/O/O, \"for\"/O/O, \"13\"/O/O, \"days\"/O/O, \",\"/O/O, \"with\"/O/O, \"recent\"/O/O, \"body\"/B-ADR/B-Swelling_of_body_region, \"swelling\"/B-ADR/E-ADR/B-Abdominal_swelling/B-Facial_swelling/E-Swelling_of_body_region/B-Swelling_of_lower_limb/B-Swelling_of_wrist_joint, \",\"/O/O, \"face\"/E-ADR/E-Facial_swelling, \",\"/O/O, \"wrists\"/E-ADR/E-Swelling_of_wrist_joint, \",\"/O/O, \"abdomen\"/E-ADR/E-Abdominal_swelling, \",\"/O/O, \"thighs\"/E-ADR/E-Swelling_of_lower_limb, \"-\"/O/O, \"clothes\"/O/O, \"fit\"/O/O, \"tight\"/O/O, \".\"/O/O, \"insomina\"/S-ADR/S-Insomnia, \"is\"/O/O, \"much\"/O/O, \"worse\"/O/O, \".\"/O/O, \"i\"/O/O, \"have\"/O/O, \"forgetfulnes\"/B-ADR/B-Forgetful, \"and\"/I-ADR/I-Forgetful, \"confussion\"/E-ADR/E-Forgetful, \"-\"/O/O, \"really\"/O/O, \"bad\"/O/O, \"-\"/O/O, \"almost\"/O/O, \"dangerous\"/O/O, \".\"/O/O, \"have\"/O/O, \"felt\"/O/O, \"\"\"/B-ADR/B-Feeling_empty, \"empty\"/I-ADR/I-Feeling_empty, \"stomach\"/I-ADR/I-Feeling_empty, \"\"\"/I-ADR/I-Feeling_empty, \"feeling\"/E-ADR/E-Feeling_empty, \",\"/O/O, \"but\"/O/O, \"not\"/O/O, \"bothersome\"/O/O, \".\"/O/O, \"have\"/O/O, \"had\"/O/O, \"more\"/O/O, \"loose\"/B-ADR/B-Loose_stool, \"stools\"/E-ADR/E-Loose_stool, \",\"/O/O, \"but\"/O/O, \"tolerable\"/O/O, \".\"/O/O, \"im\"/O/O, \"looking\"/O/O, \"for\"/O/O, \"a\"/O/O, \"more\"/O/O, \"natural\"/O/O, \"therapy\"/O/O, \",\"/O/O, \"checking\"/O/O, \"into\"/O/O, \"ha\"/B-Drug/B-CONCEPT_LESS, \"(\"/I-Drug/I-CONCEPT_LESS, \"hyaluronic\"/I-Drug/I-CONCEPT_LESS, \"acid\"/I-Drug/I-CONCEPT_LESS, \")\"/E-Drug/E-CONCEPT_LESS, \"to\"/O/O, \"replace\"/O/O, \"arthrotec\"/S-Drug/S-Arthrotec, \".\"/O/O],\n",
              " Sentence[68]: \"none that i can think of . i recently had bilateral knee replacement . prior to that , arthrotec was the only drug that helped . i tried every drug on the market , but , to no avail . i took 50 mg . 3 times a day of arthrotec and was almost pain free . i highly recommend it to anyone that suffers from arthritis .\" → [\"none\"/O/O, \"that\"/O/O, \"i\"/O/O, \"can\"/O/O, \"think\"/O/O, \"of\"/O/O, \".\"/O/O, \"i\"/O/O, \"recently\"/O/O, \"had\"/O/O, \"bilateral\"/O/O, \"knee\"/O/O, \"replacement\"/O/O, \".\"/O/O, \"prior\"/O/O, \"to\"/O/O, \"that\"/O/O, \",\"/O/O, \"arthrotec\"/S-Drug/S-Arthrotec, \"was\"/O/O, \"the\"/O/O, \"only\"/O/O, \"drug\"/O/O, \"that\"/O/O, \"helped\"/O/O, \".\"/O/O, \"i\"/O/O, \"tried\"/O/O, \"every\"/O/O, \"drug\"/O/O, \"on\"/O/O, \"the\"/O/O, \"market\"/O/O, \",\"/O/O, \"but\"/O/O, \",\"/O/O, \"to\"/O/O, \"no\"/O/O, \"avail\"/O/O, \".\"/O/O, \"i\"/O/O, \"took\"/O/O, \"50\"/O/O, \"mg\"/O/O, \".\"/O/O, \"3\"/O/O, \"times\"/O/O, \"a\"/O/O, \"day\"/O/O, \"of\"/O/O, \"arthrotec\"/S-Drug/S-Arthrotec, \"and\"/O/O, \"was\"/O/O, \"almost\"/O/O, \"pain\"/S-Symptom/S-Pain, \"free\"/O/O, \".\"/O/O, \"i\"/O/O, \"highly\"/O/O, \"recommend\"/O/O, \"it\"/O/O, \"to\"/O/O, \"anyone\"/O/O, \"that\"/O/O, \"suffers\"/O/O, \"from\"/O/O, \"arthritis\"/S-Finding/S-Arthritis, \".\"/O/O],\n",
              " Sentence[28]: \"hospitalization due extreme rectal bleed that required blood transfusion . i was extremely sick and initially felt i might not survive . should be removed from market .\" → [\"hospitalization\"/O/O, \"due\"/O/O, \"extreme\"/O/O, \"rectal\"/B-ADR/B-Rectal_haemorrhage, \"bleed\"/E-ADR/E-Rectal_haemorrhage, \"that\"/O/O, \"required\"/O/O, \"blood\"/O/O, \"transfusion\"/O/O, \".\"/O/O, \"i\"/O/O, \"was\"/O/O, \"extremely\"/B-ADR/B-Generally_unwell, \"sick\"/E-ADR/E-Generally_unwell, \"and\"/O/O, \"initially\"/O/O, \"felt\"/B-ADR/B-CONCEPT_LESS, \"i\"/I-ADR/I-CONCEPT_LESS, \"might\"/I-ADR/I-CONCEPT_LESS, \"not\"/I-ADR/I-CONCEPT_LESS, \"survive\"/E-ADR/E-CONCEPT_LESS, \".\"/O/O, \"should\"/O/O, \"be\"/O/O, \"removed\"/O/O, \"from\"/O/O, \"market\"/O/O, \".\"/O/O]]"
            ]
          },
          "metadata": {},
          "execution_count": 8
        }
      ],
      "source": [
        "with open(data_save_dir+'/cadec_flair_objects.pkl', 'rb') as f:\n",
        "    docs = pickle.load(f)\n",
        "docs[:10]"
      ]
    },
    {
      "cell_type": "code",
      "execution_count": 9,
      "metadata": {
        "colab": {
          "base_uri": "https://localhost:8080/"
        },
        "id": "sW10pPAPtGij",
        "outputId": "ad16582d-24b5-4232-9ea9-66deba4cc685"
      },
      "outputs": [
        {
          "output_type": "execute_result",
          "data": {
            "text/plain": [
              "1186"
            ]
          },
          "metadata": {},
          "execution_count": 9
        }
      ],
      "source": [
        "len(docs)"
      ]
    },
    {
      "cell_type": "code",
      "execution_count": 10,
      "metadata": {
        "colab": {
          "base_uri": "https://localhost:8080/"
        },
        "id": "EMT5TsNStGij",
        "outputId": "a6a2491f-778a-422d-deb7-5abdf0954a74"
      },
      "outputs": [
        {
          "output_type": "execute_result",
          "data": {
            "text/plain": [
              "Sentence[117]: \"i feel a bit drowsy & have a little blurred vision , so far no gastric problems . ive been on arthrotec 50 for over 10 years on and off , only taking it when i needed it . due to my arthritis getting progressively worse , to the point where i am in tears with the agony , gp ' s started me on 75 twice a day and i have to take it . every day for the next month to see how i get on , here goes . so far its been very good , pains almost gone , but i feel a bit weird , didnt have that when on 50 .\" → [\"i\"/O/O, \"feel\"/O/O, \"a\"/O/O, \"bit\"/B-ADR/B-Drowsy, \"drowsy\"/E-ADR/E-Drowsy, \"&\"/O/O, \"have\"/O/O, \"a\"/O/O, \"little\"/B-ADR/B-Blurred_vision_-_hazy, \"blurred\"/I-ADR/I-Blurred_vision_-_hazy, \"vision\"/E-ADR/E-Blurred_vision_-_hazy, \",\"/O/O, \"so\"/O/O, \"far\"/O/O, \"no\"/O/O, \"gastric\"/B-ADR/B-Excessive_upper_gastrointestinal_gas, \"problems\"/E-ADR/E-Excessive_upper_gastrointestinal_gas, \".\"/O/O, \"ive\"/O/O, \"been\"/O/O, \"on\"/O/O, \"arthrotec\"/S-Drug/S-Arthrotec, \"50\"/O/O, \"for\"/O/O, \"over\"/O/O, \"10\"/O/O, \"years\"/O/O, \"on\"/O/O, \"and\"/O/O, \"off\"/O/O, \",\"/O/O, \"only\"/O/O, \"taking\"/O/O, \"it\"/O/O, \"when\"/O/O, \"i\"/O/O, \"needed\"/O/O, \"it\"/O/O, \".\"/O/O, \"due\"/O/O, \"to\"/O/O, \"my\"/O/O, \"arthritis\"/S-Disease/S-Arthritis, \"getting\"/O/O, \"progressively\"/O/O, \"worse\"/O/O, \",\"/O/O, \"to\"/O/O, \"the\"/O/O, \"point\"/O/O, \"where\"/O/O, \"i\"/O/O, \"am\"/O/O, \"in\"/O/O, \"tears\"/O/O, \"with\"/O/O, \"the\"/O/O, \"agony\"/S-Symptom/S-Agony, \",\"/O/O, \"gp\"/O/O, \"'\"/O/O, \"s\"/O/O, \"started\"/O/O, \"me\"/O/O, \"on\"/O/O, \"75\"/O/O, \"twice\"/O/O, \"a\"/O/O, \"day\"/O/O, \"and\"/O/O, \"i\"/O/O, \"have\"/O/O, \"to\"/O/O, \"take\"/O/O, \"it\"/O/O, \".\"/O/O, \"every\"/O/O, \"day\"/O/O, \"for\"/O/O, \"the\"/O/O, \"next\"/O/O, \"month\"/O/O, \"to\"/O/O, \"see\"/O/O, \"how\"/O/O, \"i\"/O/O, \"get\"/O/O, \"on\"/O/O, \",\"/O/O, \"here\"/O/O, \"goes\"/O/O, \".\"/O/O, \"so\"/O/O, \"far\"/O/O, \"its\"/O/O, \"been\"/O/O, \"very\"/O/O, \"good\"/O/O, \",\"/O/O, \"pains\"/S-Symptom/S-Pain, \"almost\"/O/O, \"gone\"/O/O, \",\"/O/O, \"but\"/O/O, \"i\"/O/O, \"feel\"/B-ADR/B-Malaise, \"a\"/I-ADR/I-Malaise, \"bit\"/I-ADR/I-Malaise, \"weird\"/E-ADR/E-Malaise, \",\"/O/O, \"didnt\"/O/O, \"have\"/O/O, \"that\"/O/O, \"when\"/O/O, \"on\"/O/O, \"50\"/O/O, \".\"/O/O]"
            ]
          },
          "metadata": {},
          "execution_count": 10
        }
      ],
      "source": [
        "temp = docs[0]\n",
        "temp"
      ]
    },
    {
      "cell_type": "code",
      "execution_count": 11,
      "metadata": {
        "colab": {
          "base_uri": "https://localhost:8080/"
        },
        "id": "2EeTdfHstGij",
        "outputId": "4ec46d15-e6dd-4cc3-ac4a-66be2934954f"
      },
      "outputs": [
        {
          "output_type": "execute_result",
          "data": {
            "text/plain": [
              "{'ner': ['Token[0]: \"i\"'/'O' (1.0),\n",
              "  'Token[1]: \"feel\"'/'O' (1.0),\n",
              "  'Token[2]: \"a\"'/'O' (1.0),\n",
              "  'Token[3]: \"bit\"'/'B-ADR' (1.0),\n",
              "  'Token[4]: \"drowsy\"'/'E-ADR' (1.0),\n",
              "  'Token[5]: \"&\"'/'O' (1.0),\n",
              "  'Token[6]: \"have\"'/'O' (1.0),\n",
              "  'Token[7]: \"a\"'/'O' (1.0),\n",
              "  'Token[8]: \"little\"'/'B-ADR' (1.0),\n",
              "  'Token[9]: \"blurred\"'/'I-ADR' (1.0),\n",
              "  'Token[10]: \"vision\"'/'E-ADR' (1.0),\n",
              "  'Token[11]: \",\"'/'O' (1.0),\n",
              "  'Token[12]: \"so\"'/'O' (1.0),\n",
              "  'Token[13]: \"far\"'/'O' (1.0),\n",
              "  'Token[14]: \"no\"'/'O' (1.0),\n",
              "  'Token[15]: \"gastric\"'/'B-ADR' (1.0),\n",
              "  'Token[16]: \"problems\"'/'E-ADR' (1.0),\n",
              "  'Token[17]: \".\"'/'O' (1.0),\n",
              "  'Token[18]: \"ive\"'/'O' (1.0),\n",
              "  'Token[19]: \"been\"'/'O' (1.0),\n",
              "  'Token[20]: \"on\"'/'O' (1.0),\n",
              "  'Token[21]: \"arthrotec\"'/'S-Drug' (1.0),\n",
              "  'Token[22]: \"50\"'/'O' (1.0),\n",
              "  'Token[23]: \"for\"'/'O' (1.0),\n",
              "  'Token[24]: \"over\"'/'O' (1.0),\n",
              "  'Token[25]: \"10\"'/'O' (1.0),\n",
              "  'Token[26]: \"years\"'/'O' (1.0),\n",
              "  'Token[27]: \"on\"'/'O' (1.0),\n",
              "  'Token[28]: \"and\"'/'O' (1.0),\n",
              "  'Token[29]: \"off\"'/'O' (1.0),\n",
              "  'Token[30]: \",\"'/'O' (1.0),\n",
              "  'Token[31]: \"only\"'/'O' (1.0),\n",
              "  'Token[32]: \"taking\"'/'O' (1.0),\n",
              "  'Token[33]: \"it\"'/'O' (1.0),\n",
              "  'Token[34]: \"when\"'/'O' (1.0),\n",
              "  'Token[35]: \"i\"'/'O' (1.0),\n",
              "  'Token[36]: \"needed\"'/'O' (1.0),\n",
              "  'Token[37]: \"it\"'/'O' (1.0),\n",
              "  'Token[38]: \".\"'/'O' (1.0),\n",
              "  'Token[39]: \"due\"'/'O' (1.0),\n",
              "  'Token[40]: \"to\"'/'O' (1.0),\n",
              "  'Token[41]: \"my\"'/'O' (1.0),\n",
              "  'Token[42]: \"arthritis\"'/'S-Disease' (1.0),\n",
              "  'Token[43]: \"getting\"'/'O' (1.0),\n",
              "  'Token[44]: \"progressively\"'/'O' (1.0),\n",
              "  'Token[45]: \"worse\"'/'O' (1.0),\n",
              "  'Token[46]: \",\"'/'O' (1.0),\n",
              "  'Token[47]: \"to\"'/'O' (1.0),\n",
              "  'Token[48]: \"the\"'/'O' (1.0),\n",
              "  'Token[49]: \"point\"'/'O' (1.0),\n",
              "  'Token[50]: \"where\"'/'O' (1.0),\n",
              "  'Token[51]: \"i\"'/'O' (1.0),\n",
              "  'Token[52]: \"am\"'/'O' (1.0),\n",
              "  'Token[53]: \"in\"'/'O' (1.0),\n",
              "  'Token[54]: \"tears\"'/'O' (1.0),\n",
              "  'Token[55]: \"with\"'/'O' (1.0),\n",
              "  'Token[56]: \"the\"'/'O' (1.0),\n",
              "  'Token[57]: \"agony\"'/'S-Symptom' (1.0),\n",
              "  'Token[58]: \",\"'/'O' (1.0),\n",
              "  'Token[59]: \"gp\"'/'O' (1.0),\n",
              "  'Token[60]: \"'\"'/'O' (1.0),\n",
              "  'Token[61]: \"s\"'/'O' (1.0),\n",
              "  'Token[62]: \"started\"'/'O' (1.0),\n",
              "  'Token[63]: \"me\"'/'O' (1.0),\n",
              "  'Token[64]: \"on\"'/'O' (1.0),\n",
              "  'Token[65]: \"75\"'/'O' (1.0),\n",
              "  'Token[66]: \"twice\"'/'O' (1.0),\n",
              "  'Token[67]: \"a\"'/'O' (1.0),\n",
              "  'Token[68]: \"day\"'/'O' (1.0),\n",
              "  'Token[69]: \"and\"'/'O' (1.0),\n",
              "  'Token[70]: \"i\"'/'O' (1.0),\n",
              "  'Token[71]: \"have\"'/'O' (1.0),\n",
              "  'Token[72]: \"to\"'/'O' (1.0),\n",
              "  'Token[73]: \"take\"'/'O' (1.0),\n",
              "  'Token[74]: \"it\"'/'O' (1.0),\n",
              "  'Token[75]: \".\"'/'O' (1.0),\n",
              "  'Token[76]: \"every\"'/'O' (1.0),\n",
              "  'Token[77]: \"day\"'/'O' (1.0),\n",
              "  'Token[78]: \"for\"'/'O' (1.0),\n",
              "  'Token[79]: \"the\"'/'O' (1.0),\n",
              "  'Token[80]: \"next\"'/'O' (1.0),\n",
              "  'Token[81]: \"month\"'/'O' (1.0),\n",
              "  'Token[82]: \"to\"'/'O' (1.0),\n",
              "  'Token[83]: \"see\"'/'O' (1.0),\n",
              "  'Token[84]: \"how\"'/'O' (1.0),\n",
              "  'Token[85]: \"i\"'/'O' (1.0),\n",
              "  'Token[86]: \"get\"'/'O' (1.0),\n",
              "  'Token[87]: \"on\"'/'O' (1.0),\n",
              "  'Token[88]: \",\"'/'O' (1.0),\n",
              "  'Token[89]: \"here\"'/'O' (1.0),\n",
              "  'Token[90]: \"goes\"'/'O' (1.0),\n",
              "  'Token[91]: \".\"'/'O' (1.0),\n",
              "  'Token[92]: \"so\"'/'O' (1.0),\n",
              "  'Token[93]: \"far\"'/'O' (1.0),\n",
              "  'Token[94]: \"its\"'/'O' (1.0),\n",
              "  'Token[95]: \"been\"'/'O' (1.0),\n",
              "  'Token[96]: \"very\"'/'O' (1.0),\n",
              "  'Token[97]: \"good\"'/'O' (1.0),\n",
              "  'Token[98]: \",\"'/'O' (1.0),\n",
              "  'Token[99]: \"pains\"'/'S-Symptom' (1.0),\n",
              "  'Token[100]: \"almost\"'/'O' (1.0),\n",
              "  'Token[101]: \"gone\"'/'O' (1.0),\n",
              "  'Token[102]: \",\"'/'O' (1.0),\n",
              "  'Token[103]: \"but\"'/'O' (1.0),\n",
              "  'Token[104]: \"i\"'/'O' (1.0),\n",
              "  'Token[105]: \"feel\"'/'B-ADR' (1.0),\n",
              "  'Token[106]: \"a\"'/'I-ADR' (1.0),\n",
              "  'Token[107]: \"bit\"'/'I-ADR' (1.0),\n",
              "  'Token[108]: \"weird\"'/'E-ADR' (1.0),\n",
              "  'Token[109]: \",\"'/'O' (1.0),\n",
              "  'Token[110]: \"didnt\"'/'O' (1.0),\n",
              "  'Token[111]: \"have\"'/'O' (1.0),\n",
              "  'Token[112]: \"that\"'/'O' (1.0),\n",
              "  'Token[113]: \"when\"'/'O' (1.0),\n",
              "  'Token[114]: \"on\"'/'O' (1.0),\n",
              "  'Token[115]: \"50\"'/'O' (1.0),\n",
              "  'Token[116]: \".\"'/'O' (1.0)],\n",
              " 'meddra': ['Token[0]: \"i\"'/'O' (1.0),\n",
              "  'Token[1]: \"feel\"'/'O' (1.0),\n",
              "  'Token[2]: \"a\"'/'O' (1.0),\n",
              "  'Token[3]: \"bit\"'/'B-Drowsy' (1.0),\n",
              "  'Token[4]: \"drowsy\"'/'E-Drowsy' (1.0),\n",
              "  'Token[5]: \"&\"'/'O' (1.0),\n",
              "  'Token[6]: \"have\"'/'O' (1.0),\n",
              "  'Token[7]: \"a\"'/'O' (1.0),\n",
              "  'Token[8]: \"little\"'/'B-Blurred_vision_-_hazy' (1.0),\n",
              "  'Token[9]: \"blurred\"'/'I-Blurred_vision_-_hazy' (1.0),\n",
              "  'Token[10]: \"vision\"'/'E-Blurred_vision_-_hazy' (1.0),\n",
              "  'Token[11]: \",\"'/'O' (1.0),\n",
              "  'Token[12]: \"so\"'/'O' (1.0),\n",
              "  'Token[13]: \"far\"'/'O' (1.0),\n",
              "  'Token[14]: \"no\"'/'O' (1.0),\n",
              "  'Token[15]: \"gastric\"'/'B-Excessive_upper_gastrointestinal_gas' (1.0),\n",
              "  'Token[16]: \"problems\"'/'E-Excessive_upper_gastrointestinal_gas' (1.0),\n",
              "  'Token[17]: \".\"'/'O' (1.0),\n",
              "  'Token[18]: \"ive\"'/'O' (1.0),\n",
              "  'Token[19]: \"been\"'/'O' (1.0),\n",
              "  'Token[20]: \"on\"'/'O' (1.0),\n",
              "  'Token[21]: \"arthrotec\"'/'S-Arthrotec' (1.0),\n",
              "  'Token[22]: \"50\"'/'O' (1.0),\n",
              "  'Token[23]: \"for\"'/'O' (1.0),\n",
              "  'Token[24]: \"over\"'/'O' (1.0),\n",
              "  'Token[25]: \"10\"'/'O' (1.0),\n",
              "  'Token[26]: \"years\"'/'O' (1.0),\n",
              "  'Token[27]: \"on\"'/'O' (1.0),\n",
              "  'Token[28]: \"and\"'/'O' (1.0),\n",
              "  'Token[29]: \"off\"'/'O' (1.0),\n",
              "  'Token[30]: \",\"'/'O' (1.0),\n",
              "  'Token[31]: \"only\"'/'O' (1.0),\n",
              "  'Token[32]: \"taking\"'/'O' (1.0),\n",
              "  'Token[33]: \"it\"'/'O' (1.0),\n",
              "  'Token[34]: \"when\"'/'O' (1.0),\n",
              "  'Token[35]: \"i\"'/'O' (1.0),\n",
              "  'Token[36]: \"needed\"'/'O' (1.0),\n",
              "  'Token[37]: \"it\"'/'O' (1.0),\n",
              "  'Token[38]: \".\"'/'O' (1.0),\n",
              "  'Token[39]: \"due\"'/'O' (1.0),\n",
              "  'Token[40]: \"to\"'/'O' (1.0),\n",
              "  'Token[41]: \"my\"'/'O' (1.0),\n",
              "  'Token[42]: \"arthritis\"'/'S-Arthritis' (1.0),\n",
              "  'Token[43]: \"getting\"'/'O' (1.0),\n",
              "  'Token[44]: \"progressively\"'/'O' (1.0),\n",
              "  'Token[45]: \"worse\"'/'O' (1.0),\n",
              "  'Token[46]: \",\"'/'O' (1.0),\n",
              "  'Token[47]: \"to\"'/'O' (1.0),\n",
              "  'Token[48]: \"the\"'/'O' (1.0),\n",
              "  'Token[49]: \"point\"'/'O' (1.0),\n",
              "  'Token[50]: \"where\"'/'O' (1.0),\n",
              "  'Token[51]: \"i\"'/'O' (1.0),\n",
              "  'Token[52]: \"am\"'/'O' (1.0),\n",
              "  'Token[53]: \"in\"'/'O' (1.0),\n",
              "  'Token[54]: \"tears\"'/'O' (1.0),\n",
              "  'Token[55]: \"with\"'/'O' (1.0),\n",
              "  'Token[56]: \"the\"'/'O' (1.0),\n",
              "  'Token[57]: \"agony\"'/'S-Agony' (1.0),\n",
              "  'Token[58]: \",\"'/'O' (1.0),\n",
              "  'Token[59]: \"gp\"'/'O' (1.0),\n",
              "  'Token[60]: \"'\"'/'O' (1.0),\n",
              "  'Token[61]: \"s\"'/'O' (1.0),\n",
              "  'Token[62]: \"started\"'/'O' (1.0),\n",
              "  'Token[63]: \"me\"'/'O' (1.0),\n",
              "  'Token[64]: \"on\"'/'O' (1.0),\n",
              "  'Token[65]: \"75\"'/'O' (1.0),\n",
              "  'Token[66]: \"twice\"'/'O' (1.0),\n",
              "  'Token[67]: \"a\"'/'O' (1.0),\n",
              "  'Token[68]: \"day\"'/'O' (1.0),\n",
              "  'Token[69]: \"and\"'/'O' (1.0),\n",
              "  'Token[70]: \"i\"'/'O' (1.0),\n",
              "  'Token[71]: \"have\"'/'O' (1.0),\n",
              "  'Token[72]: \"to\"'/'O' (1.0),\n",
              "  'Token[73]: \"take\"'/'O' (1.0),\n",
              "  'Token[74]: \"it\"'/'O' (1.0),\n",
              "  'Token[75]: \".\"'/'O' (1.0),\n",
              "  'Token[76]: \"every\"'/'O' (1.0),\n",
              "  'Token[77]: \"day\"'/'O' (1.0),\n",
              "  'Token[78]: \"for\"'/'O' (1.0),\n",
              "  'Token[79]: \"the\"'/'O' (1.0),\n",
              "  'Token[80]: \"next\"'/'O' (1.0),\n",
              "  'Token[81]: \"month\"'/'O' (1.0),\n",
              "  'Token[82]: \"to\"'/'O' (1.0),\n",
              "  'Token[83]: \"see\"'/'O' (1.0),\n",
              "  'Token[84]: \"how\"'/'O' (1.0),\n",
              "  'Token[85]: \"i\"'/'O' (1.0),\n",
              "  'Token[86]: \"get\"'/'O' (1.0),\n",
              "  'Token[87]: \"on\"'/'O' (1.0),\n",
              "  'Token[88]: \",\"'/'O' (1.0),\n",
              "  'Token[89]: \"here\"'/'O' (1.0),\n",
              "  'Token[90]: \"goes\"'/'O' (1.0),\n",
              "  'Token[91]: \".\"'/'O' (1.0),\n",
              "  'Token[92]: \"so\"'/'O' (1.0),\n",
              "  'Token[93]: \"far\"'/'O' (1.0),\n",
              "  'Token[94]: \"its\"'/'O' (1.0),\n",
              "  'Token[95]: \"been\"'/'O' (1.0),\n",
              "  'Token[96]: \"very\"'/'O' (1.0),\n",
              "  'Token[97]: \"good\"'/'O' (1.0),\n",
              "  'Token[98]: \",\"'/'O' (1.0),\n",
              "  'Token[99]: \"pains\"'/'S-Pain' (1.0),\n",
              "  'Token[100]: \"almost\"'/'O' (1.0),\n",
              "  'Token[101]: \"gone\"'/'O' (1.0),\n",
              "  'Token[102]: \",\"'/'O' (1.0),\n",
              "  'Token[103]: \"but\"'/'O' (1.0),\n",
              "  'Token[104]: \"i\"'/'O' (1.0),\n",
              "  'Token[105]: \"feel\"'/'B-Malaise' (1.0),\n",
              "  'Token[106]: \"a\"'/'I-Malaise' (1.0),\n",
              "  'Token[107]: \"bit\"'/'I-Malaise' (1.0),\n",
              "  'Token[108]: \"weird\"'/'E-Malaise' (1.0),\n",
              "  'Token[109]: \",\"'/'O' (1.0),\n",
              "  'Token[110]: \"didnt\"'/'O' (1.0),\n",
              "  'Token[111]: \"have\"'/'O' (1.0),\n",
              "  'Token[112]: \"that\"'/'O' (1.0),\n",
              "  'Token[113]: \"when\"'/'O' (1.0),\n",
              "  'Token[114]: \"on\"'/'O' (1.0),\n",
              "  'Token[115]: \"50\"'/'O' (1.0),\n",
              "  'Token[116]: \".\"'/'O' (1.0)]}"
            ]
          },
          "metadata": {},
          "execution_count": 11
        }
      ],
      "source": [
        "temp.annotation_layers"
      ]
    },
    {
      "cell_type": "code",
      "execution_count": 12,
      "metadata": {
        "id": "4CsGKKB6tGik"
      },
      "outputs": [],
      "source": [
        "\n",
        "# define your NER tags\n",
        "label_dict = {\n",
        "    'ADR': 'ADR',\n",
        "    'Drug': 'Drug',\n",
        "    'Finding': 'Finding',\n",
        "    'Symptom': 'Symptom',\n",
        "    'Disease': 'Disease'\n",
        "}"
      ]
    },
    {
      "cell_type": "code",
      "execution_count": 13,
      "metadata": {
        "colab": {
          "base_uri": "https://localhost:8080/"
        },
        "id": "QmNsy8AltGik",
        "outputId": "78c24674-201d-4983-8d16-af87f4ce71f0"
      },
      "outputs": [
        {
          "output_type": "stream",
          "name": "stdout",
          "text": [
            "2023-04-21 15:35:44,421 Filtering empty sentences\n",
            "2023-04-21 15:35:44,442 Corpus: 948 train + 119 dev + 119 test sentences\n",
            "2023-04-21 15:35:44,443 Computing label dictionary. Progress:\n"
          ]
        },
        {
          "output_type": "stream",
          "name": "stderr",
          "text": [
            "948it [00:00, 6600.69it/s]"
          ]
        },
        {
          "output_type": "stream",
          "name": "stdout",
          "text": [
            "2023-04-21 15:35:44,592 Dictionary created for label 'ner' with 22 values: O (seen 79057 times), I-ADR (seen 4449 times), E-ADR (seen 3506 times), B-ADR (seen 3349 times), S-ADR (seen 1363 times), S-Drug (seen 1286 times), B-Finding (seen 200 times), E-Finding (seen 200 times), I-Finding (seen 149 times), B-Disease (seen 119 times), E-Disease (seen 119 times), E-Symptom (seen 114 times), S-Disease (seen 112 times), S-Symptom (seen 112 times), E-Drug (seen 111 times), B-Symptom (seen 110 times), B-Drug (seen 110 times), S-Finding (seen 109 times), I-Symptom (seen 104 times), I-Drug (seen 50 times)\n",
            "False\n"
          ]
        },
        {
          "output_type": "stream",
          "name": "stderr",
          "text": [
            "\n"
          ]
        },
        {
          "output_type": "stream",
          "name": "stdout",
          "text": [
            "True True False 768\n",
            "{'is_token_embedding': True, 'is_document_embedding': False, 'allow_long_sentences': False, 'tokenizer': BertTokenizerFast(name_or_path='emilyalsentzer/Bio_ClinicalBERT', vocab_size=28996, model_max_length=512, is_fast=True, padding_side='right', truncation_side='right', special_tokens={'unk_token': '[UNK]', 'sep_token': '[SEP]', 'pad_token': '[PAD]', 'cls_token': '[CLS]', 'mask_token': '[MASK]', 'additional_special_tokens': ['[FLERT]']}, clean_up_tokenization_spaces=True), 'context_length': 64, 'context_dropout': 0.5, 'respect_document_boundaries': True, 'truncate': True, 'stride': 0, 'embedding_length': 768, 'name': 'transformer-emilyalsentzer/Bio_ClinicalBERT', 'fine_tune': True, 'use_lang_emb': False, 'force_max_length': True, 'feature_extractor': None, 'use_context_separator': True, 'needs_manual_ocr': False}\n",
            "BertTokenizerFast(name_or_path='emilyalsentzer/Bio_ClinicalBERT', vocab_size=28996, model_max_length=512, is_fast=True, padding_side='right', truncation_side='right', special_tokens={'unk_token': '[UNK]', 'sep_token': '[SEP]', 'pad_token': '[PAD]', 'cls_token': '[CLS]', 'mask_token': '[MASK]', 'additional_special_tokens': ['[FLERT]']}, clean_up_tokenization_spaces=True)\n",
            "2023-04-21 15:35:49,508 SequenceTagger predicts: Dictionary with 22 tags: <unk>, O, I-ADR, E-ADR, B-ADR, S-ADR, S-Drug, B-Finding, E-Finding, I-Finding, B-Disease, E-Disease, E-Symptom, S-Disease, S-Symptom, E-Drug, B-Symptom, B-Drug, S-Finding, I-Symptom, I-Drug, I-Disease\n",
            "True\n",
            "False\n"
          ]
        }
      ],
      "source": [
        "from flair.data import Corpus\n",
        "# from flair.datasets import SentenceDataset\n",
        "from flair.embeddings import WordEmbeddings, FlairEmbeddings, StackedEmbeddings, TransformerWordEmbeddings\n",
        "from flair.models import SequenceTagger\n",
        "from flair.trainers import ModelTrainer\n",
        "from sklearn.model_selection import train_test_split\n",
        "\n",
        "import torch\n",
        "from torch.utils.data import Dataset\n",
        "from torch.optim import AdamW, SGD\n",
        "\n",
        "from flair.visual.training_curves import Plotter\n",
        "plotter = Plotter()\n",
        "\n",
        "\n",
        "\n",
        "train_docs, test_docs = train_test_split(docs, test_size=0.2, random_state=321)\n",
        "dev_docs, test_docs = train_test_split(test_docs, test_size=0.5, random_state=123)\n",
        "\n",
        "corpus = Corpus(train=train_docs, dev=dev_docs, test=test_docs) # Corpus: 948 train + 119 dev + 119 test sentences\n",
        "corpus.filter_empty_sentences()\n",
        "# # create a tag dictionary\n",
        "labels = ['ADR', 'Drug', 'Finding', 'Symptom', 'Disease']\n",
        "# tag_dictionary = Dictionary(add_unk=True)\n",
        "# for label in labels:\n",
        "#     tag_dictionary.add_item(label)\n",
        "tag_dictionary = corpus.make_label_dictionary(label_type='ner')\n",
        "print(tag_dictionary.span_labels)\n",
        "\n",
        "# create a stacked embedding using GloVe and Flair embeddings\n",
        "# stacked_embeddings = StackedEmbeddings([\n",
        "#     WordEmbeddings('glove',\n",
        "#                    force_cpu=False,\n",
        "#                 #    embedding_length=1024,\n",
        "#                   #  fine_tune=True,\n",
        "#                    ),\n",
        "#     # TransformerWordEmbeddings('emilyalsentzer/Bio_ClinicalBERT', layers=\"-1\",\n",
        "#     #                                    subtoken_pooling=\"first\",\n",
        "#     #                                    is_document_embedding=True,\n",
        "#     #                                    fine_tune=True,\n",
        "#     #                                    use_context=True,\n",
        "#     #                                    max_seq_length=1024,\n",
        "#     #                                    ),\n",
        "#     FlairEmbeddings('news-forward',\n",
        "#                     # fine_tune=True\n",
        "#                     ),\n",
        "#     FlairEmbeddings('news-backward',\n",
        "#                     # fine_tune=True\n",
        "#                     ),\n",
        "# ])\n",
        "# https://github.com/flairNLP/flair/blob/master/resources/docs/embeddings/FLAIR_EMBEDDINGS.md\n",
        "\n",
        "\n",
        "embeddings = TransformerWordEmbeddings(model='emilyalsentzer/Bio_ClinicalBERT',\n",
        "                                       layers=\"-1\",\n",
        "                                       subtoken_pooling=\"first\",\n",
        "                                       fine_tune=True,\n",
        "                                       use_context=True,\n",
        "                                       force_max_length=True,\n",
        "                                      #  truncate=True, # not accepted here\n",
        "                                      # #  is_document_embedding=True, # False is default\n",
        "                                      #  allow_long_sentences=True, # True is default; doesnt go through\n",
        "                                      #  embedding_length=512,\n",
        "                                       )\n",
        "# embeddings.allow_long_sentences = False\n",
        "embeddings.truncate = True\n",
        "# embeddings.embedding_length_internal = 512\n",
        "print(embeddings.force_max_length,embeddings.truncate,embeddings.allow_long_sentences,embeddings.embedding_length_internal)\n",
        "embeddings.tokenizer.model_max_length=512\n",
        "print(embeddings.to_args())\n",
        "print(embeddings.tokenizer)\n",
        "\n",
        "\n",
        "# create a SequenceTagger object and specify the tag dictionary and embeddings to use\n",
        "tagger = SequenceTagger(hidden_size=256,\n",
        "                        # embeddings=stacked_embeddings,\n",
        "                        embeddings=embeddings,\n",
        "                        tag_dictionary=tag_dictionary,\n",
        "                        tag_type='ner',\n",
        "                        use_crf=False,\n",
        "                        use_rnn=False,\n",
        "                        # reproject_embeddings=False\n",
        "                        )\n",
        "tagger.predict_spans = False\n",
        "\n",
        "print(tagger._determine_if_span_prediction_problem(tagger.label_dictionary))\n",
        "print(tagger.predict_spans)\n",
        "\n",
        "# https://github.com/flairNLP/flair/blob/master/flair/trainers/trainer.py\n",
        "# create a ModelTrainer object and train the tagger\n",
        "trainer = ModelTrainer(tagger, corpus)"
      ]
    },
    {
      "cell_type": "code",
      "execution_count": 14,
      "metadata": {
        "id": "fh0zU2jHAA4J"
      },
      "outputs": [],
      "source": [
        "# !tensorboard --logdir=runs\n",
        "# http://localhost:6006/"
      ]
    },
    {
      "cell_type": "code",
      "execution_count": 15,
      "metadata": {
        "colab": {
          "base_uri": "https://localhost:8080/"
        },
        "id": "UKTMzxV8zF9o",
        "outputId": "9620b04a-6e9f-47e7-cf51-4253bb4d650c"
      },
      "outputs": [
        {
          "output_type": "stream",
          "name": "stdout",
          "text": [
            "2023-04-21 15:35:49,541 tensorboard logging path is runs/tb_logs_v2_Bio_ClinicalBERT\n"
          ]
        },
        {
          "output_type": "stream",
          "name": "stderr",
          "text": [
            "/usr/local/lib/python3.9/dist-packages/flair/trainers/trainer.py:69: UserWarning: There should be no best model saved at epoch 1 except there is a model from previous trainings in your training folder. All previous best models will be deleted.\n",
            "  warnings.warn(\n"
          ]
        },
        {
          "output_type": "stream",
          "name": "stdout",
          "text": [
            "2023-04-21 15:35:49,750 ----------------------------------------------------------------------------------------------------\n",
            "2023-04-21 15:35:49,753 Model: \"SequenceTagger(\n",
            "  (embeddings): TransformerWordEmbeddings(\n",
            "    (model): BertModel(\n",
            "      (embeddings): BertEmbeddings(\n",
            "        (word_embeddings): Embedding(28997, 768)\n",
            "        (position_embeddings): Embedding(512, 768)\n",
            "        (token_type_embeddings): Embedding(2, 768)\n",
            "        (LayerNorm): LayerNorm((768,), eps=1e-12, elementwise_affine=True)\n",
            "        (dropout): Dropout(p=0.1, inplace=False)\n",
            "      )\n",
            "      (encoder): BertEncoder(\n",
            "        (layer): ModuleList(\n",
            "          (0-11): 12 x BertLayer(\n",
            "            (attention): BertAttention(\n",
            "              (self): BertSelfAttention(\n",
            "                (query): Linear(in_features=768, out_features=768, bias=True)\n",
            "                (key): Linear(in_features=768, out_features=768, bias=True)\n",
            "                (value): Linear(in_features=768, out_features=768, bias=True)\n",
            "                (dropout): Dropout(p=0.1, inplace=False)\n",
            "              )\n",
            "              (output): BertSelfOutput(\n",
            "                (dense): Linear(in_features=768, out_features=768, bias=True)\n",
            "                (LayerNorm): LayerNorm((768,), eps=1e-12, elementwise_affine=True)\n",
            "                (dropout): Dropout(p=0.1, inplace=False)\n",
            "              )\n",
            "            )\n",
            "            (intermediate): BertIntermediate(\n",
            "              (dense): Linear(in_features=768, out_features=3072, bias=True)\n",
            "              (intermediate_act_fn): GELUActivation()\n",
            "            )\n",
            "            (output): BertOutput(\n",
            "              (dense): Linear(in_features=3072, out_features=768, bias=True)\n",
            "              (LayerNorm): LayerNorm((768,), eps=1e-12, elementwise_affine=True)\n",
            "              (dropout): Dropout(p=0.1, inplace=False)\n",
            "            )\n",
            "          )\n",
            "        )\n",
            "      )\n",
            "      (pooler): BertPooler(\n",
            "        (dense): Linear(in_features=768, out_features=768, bias=True)\n",
            "        (activation): Tanh()\n",
            "      )\n",
            "    )\n",
            "  )\n",
            "  (locked_dropout): LockedDropout(p=0.5)\n",
            "  (embedding2nn): Linear(in_features=768, out_features=768, bias=True)\n",
            "  (linear): Linear(in_features=768, out_features=22, bias=True)\n",
            "  (loss_function): CrossEntropyLoss()\n",
            ")\"\n",
            "2023-04-21 15:35:49,754 ----------------------------------------------------------------------------------------------------\n",
            "2023-04-21 15:35:49,756 Corpus: \"Corpus: 948 train + 119 dev + 119 test sentences\"\n",
            "2023-04-21 15:35:49,757 ----------------------------------------------------------------------------------------------------\n",
            "2023-04-21 15:35:49,759 Parameters:\n",
            "2023-04-21 15:35:49,760  - learning_rate: \"0.000005\"\n",
            "2023-04-21 15:35:49,762  - mini_batch_size: \"40\"\n",
            "2023-04-21 15:35:49,763  - patience: \"1\"\n",
            "2023-04-21 15:35:49,765  - anneal_factor: \"0.8\"\n",
            "2023-04-21 15:35:49,766  - max_epochs: \"100\"\n",
            "2023-04-21 15:35:49,767  - shuffle: \"True\"\n",
            "2023-04-21 15:35:49,769  - train_with_dev: \"False\"\n",
            "2023-04-21 15:35:49,770  - batch_growth_annealing: \"False\"\n",
            "2023-04-21 15:35:49,772 ----------------------------------------------------------------------------------------------------\n",
            "2023-04-21 15:35:49,773 Model training base path: \"flair_ner_model_v2_Bio_ClinicalBERT\"\n",
            "2023-04-21 15:35:49,775 ----------------------------------------------------------------------------------------------------\n",
            "2023-04-21 15:35:49,776 Device: cuda:0\n",
            "2023-04-21 15:35:49,778 ----------------------------------------------------------------------------------------------------\n",
            "2023-04-21 15:35:49,779 Embeddings storage mode: gpu\n",
            "2023-04-21 15:35:49,781 ----------------------------------------------------------------------------------------------------\n",
            "2023-04-21 15:35:52,947 epoch 1 - iter 2/24 - loss 3.15271635 - time (sec): 3.16 - samples/sec: 2735.41 - lr: 0.000005\n",
            "2023-04-21 15:35:54,979 epoch 1 - iter 4/24 - loss 3.09263520 - time (sec): 5.20 - samples/sec: 3010.02 - lr: 0.000005\n",
            "2023-04-21 15:35:57,059 epoch 1 - iter 6/24 - loss 3.02840970 - time (sec): 7.28 - samples/sec: 3212.80 - lr: 0.000005\n",
            "2023-04-21 15:35:59,143 epoch 1 - iter 8/24 - loss 2.96221242 - time (sec): 9.36 - samples/sec: 3286.95 - lr: 0.000005\n",
            "2023-04-21 15:36:01,262 epoch 1 - iter 10/24 - loss 2.89748742 - time (sec): 11.48 - samples/sec: 3405.18 - lr: 0.000005\n",
            "2023-04-21 15:36:03,329 epoch 1 - iter 12/24 - loss 2.84117682 - time (sec): 13.55 - samples/sec: 3448.65 - lr: 0.000005\n",
            "2023-04-21 15:36:05,495 epoch 1 - iter 14/24 - loss 2.77387193 - time (sec): 15.71 - samples/sec: 3491.48 - lr: 0.000005\n",
            "2023-04-21 15:36:07,866 epoch 1 - iter 16/24 - loss 2.71496811 - time (sec): 18.08 - samples/sec: 3514.37 - lr: 0.000005\n",
            "2023-04-21 15:36:09,963 epoch 1 - iter 18/24 - loss 2.65267710 - time (sec): 20.18 - samples/sec: 3539.12 - lr: 0.000005\n",
            "2023-04-21 15:36:12,011 epoch 1 - iter 20/24 - loss 2.59324499 - time (sec): 22.23 - samples/sec: 3550.90 - lr: 0.000005\n",
            "2023-04-21 15:36:14,142 epoch 1 - iter 22/24 - loss 2.52407445 - time (sec): 24.36 - samples/sec: 3578.66 - lr: 0.000005\n",
            "2023-04-21 15:36:16,031 epoch 1 - iter 24/24 - loss 2.45985387 - time (sec): 26.25 - samples/sec: 3610.50 - lr: 0.000005\n",
            "2023-04-21 15:36:16,034 ----------------------------------------------------------------------------------------------------\n",
            "2023-04-21 15:36:16,036 EPOCH 1 done: loss 2.4599 - lr 0.000005\n"
          ]
        },
        {
          "output_type": "stream",
          "name": "stderr",
          "text": [
            "100%|██████████| 24/24 [00:10<00:00,  2.21it/s]"
          ]
        },
        {
          "output_type": "stream",
          "name": "stdout",
          "text": [
            "2023-04-21 15:36:27,038 Evaluating as a multi-label problem: True\n"
          ]
        },
        {
          "output_type": "stream",
          "name": "stderr",
          "text": [
            "\n"
          ]
        },
        {
          "output_type": "stream",
          "name": "stdout",
          "text": [
            "2023-04-21 15:36:30,791 TRAIN : loss 1.5179344415664673 - f1-score (weighted avg)  0.0001\n"
          ]
        },
        {
          "output_type": "stream",
          "name": "stderr",
          "text": [
            "100%|██████████| 3/3 [00:01<00:00,  2.23it/s]"
          ]
        },
        {
          "output_type": "stream",
          "name": "stdout",
          "text": [
            "2023-04-21 15:36:32,289 Evaluating as a multi-label problem: False\n",
            "2023-04-21 15:36:32,350 DEV : loss 1.5258961915969849 - f1-score (weighted avg)  0.0\n",
            "2023-04-21 15:36:32,369 BAD EPOCHS (no improvement): 0\n",
            "2023-04-21 15:36:32,374 saving best model\n"
          ]
        },
        {
          "output_type": "stream",
          "name": "stderr",
          "text": [
            "\n"
          ]
        },
        {
          "output_type": "stream",
          "name": "stdout",
          "text": [
            "2023-04-21 15:36:35,362 ----------------------------------------------------------------------------------------------------\n",
            "2023-04-21 15:36:37,459 epoch 2 - iter 2/24 - loss 1.62005371 - time (sec): 2.09 - samples/sec: 3484.95 - lr: 0.000005\n",
            "2023-04-21 15:36:39,552 epoch 2 - iter 4/24 - loss 1.49425011 - time (sec): 4.19 - samples/sec: 3627.30 - lr: 0.000005\n",
            "2023-04-21 15:36:41,660 epoch 2 - iter 6/24 - loss 1.45345277 - time (sec): 6.30 - samples/sec: 3675.94 - lr: 0.000005\n",
            "2023-04-21 15:36:43,716 epoch 2 - iter 8/24 - loss 1.40255649 - time (sec): 8.35 - samples/sec: 3791.26 - lr: 0.000005\n",
            "2023-04-21 15:36:45,768 epoch 2 - iter 10/24 - loss 1.35991373 - time (sec): 10.40 - samples/sec: 3752.89 - lr: 0.000005\n",
            "2023-04-21 15:36:47,942 epoch 2 - iter 12/24 - loss 1.32210284 - time (sec): 12.58 - samples/sec: 3753.06 - lr: 0.000005\n",
            "2023-04-21 15:36:50,286 epoch 2 - iter 14/24 - loss 1.28121573 - time (sec): 14.92 - samples/sec: 3775.75 - lr: 0.000005\n",
            "2023-04-21 15:36:52,300 epoch 2 - iter 16/24 - loss 1.26047449 - time (sec): 16.94 - samples/sec: 3721.68 - lr: 0.000005\n",
            "2023-04-21 15:36:54,685 epoch 2 - iter 18/24 - loss 1.24893881 - time (sec): 19.32 - samples/sec: 3679.12 - lr: 0.000005\n",
            "2023-04-21 15:36:56,809 epoch 2 - iter 20/24 - loss 1.22439924 - time (sec): 21.44 - samples/sec: 3703.04 - lr: 0.000005\n",
            "2023-04-21 15:36:59,037 epoch 2 - iter 22/24 - loss 1.19611915 - time (sec): 23.67 - samples/sec: 3720.36 - lr: 0.000005\n",
            "2023-04-21 15:37:00,817 epoch 2 - iter 24/24 - loss 1.18093102 - time (sec): 25.45 - samples/sec: 3723.41 - lr: 0.000005\n",
            "2023-04-21 15:37:00,820 ----------------------------------------------------------------------------------------------------\n",
            "2023-04-21 15:37:00,821 EPOCH 2 done: loss 1.1809 - lr 0.000005\n"
          ]
        },
        {
          "output_type": "stream",
          "name": "stderr",
          "text": [
            "100%|██████████| 24/24 [00:10<00:00,  2.40it/s]"
          ]
        },
        {
          "output_type": "stream",
          "name": "stdout",
          "text": [
            "2023-04-21 15:37:10,950 Evaluating as a multi-label problem: True\n"
          ]
        },
        {
          "output_type": "stream",
          "name": "stderr",
          "text": [
            "\n"
          ]
        },
        {
          "output_type": "stream",
          "name": "stdout",
          "text": [
            "2023-04-21 15:37:13,631 TRAIN : loss 0.9102762341499329 - f1-score (weighted avg)  0.0001\n"
          ]
        },
        {
          "output_type": "stream",
          "name": "stderr",
          "text": [
            "100%|██████████| 3/3 [00:01<00:00,  2.20it/s]"
          ]
        },
        {
          "output_type": "stream",
          "name": "stdout",
          "text": [
            "2023-04-21 15:37:15,143 Evaluating as a multi-label problem: False\n",
            "2023-04-21 15:37:15,206 DEV : loss 0.9028670787811279 - f1-score (weighted avg)  0.0\n",
            "2023-04-21 15:37:15,225 BAD EPOCHS (no improvement): 0\n",
            "2023-04-21 15:37:15,230 saving best model\n"
          ]
        },
        {
          "output_type": "stream",
          "name": "stderr",
          "text": [
            "\n"
          ]
        },
        {
          "output_type": "stream",
          "name": "stdout",
          "text": [
            "2023-04-21 15:37:18,529 ----------------------------------------------------------------------------------------------------\n",
            "2023-04-21 15:37:20,684 epoch 3 - iter 2/24 - loss 0.89185883 - time (sec): 2.15 - samples/sec: 3773.40 - lr: 0.000005\n",
            "2023-04-21 15:37:22,811 epoch 3 - iter 4/24 - loss 0.90324167 - time (sec): 4.28 - samples/sec: 3954.03 - lr: 0.000005\n",
            "2023-04-21 15:37:24,946 epoch 3 - iter 6/24 - loss 0.90000806 - time (sec): 6.42 - samples/sec: 3891.35 - lr: 0.000005\n",
            "2023-04-21 15:37:27,019 epoch 3 - iter 8/24 - loss 0.90670090 - time (sec): 8.49 - samples/sec: 3865.81 - lr: 0.000005\n",
            "2023-04-21 15:37:29,452 epoch 3 - iter 10/24 - loss 0.92535350 - time (sec): 10.92 - samples/sec: 3761.87 - lr: 0.000005\n",
            "2023-04-21 15:37:31,526 epoch 3 - iter 12/24 - loss 0.91248229 - time (sec): 13.00 - samples/sec: 3734.77 - lr: 0.000005\n",
            "2023-04-21 15:37:33,615 epoch 3 - iter 14/24 - loss 0.90439098 - time (sec): 15.08 - samples/sec: 3701.75 - lr: 0.000005\n",
            "2023-04-21 15:37:35,639 epoch 3 - iter 16/24 - loss 0.89658326 - time (sec): 17.11 - samples/sec: 3697.44 - lr: 0.000005\n",
            "2023-04-21 15:37:37,831 epoch 3 - iter 18/24 - loss 0.88830759 - time (sec): 19.30 - samples/sec: 3716.70 - lr: 0.000005\n",
            "2023-04-21 15:37:39,874 epoch 3 - iter 20/24 - loss 0.88390008 - time (sec): 21.34 - samples/sec: 3678.49 - lr: 0.000005\n",
            "2023-04-21 15:37:41,988 epoch 3 - iter 22/24 - loss 0.87435701 - time (sec): 23.46 - samples/sec: 3747.36 - lr: 0.000005\n",
            "2023-04-21 15:37:43,778 epoch 3 - iter 24/24 - loss 0.86979915 - time (sec): 25.25 - samples/sec: 3753.66 - lr: 0.000005\n",
            "2023-04-21 15:37:43,781 ----------------------------------------------------------------------------------------------------\n",
            "2023-04-21 15:37:43,783 EPOCH 3 done: loss 0.8698 - lr 0.000005\n"
          ]
        },
        {
          "output_type": "stream",
          "name": "stderr",
          "text": [
            "100%|██████████| 24/24 [00:10<00:00,  2.19it/s]"
          ]
        },
        {
          "output_type": "stream",
          "name": "stdout",
          "text": [
            "2023-04-21 15:37:54,870 Evaluating as a multi-label problem: True\n"
          ]
        },
        {
          "output_type": "stream",
          "name": "stderr",
          "text": [
            "\n"
          ]
        },
        {
          "output_type": "stream",
          "name": "stdout",
          "text": [
            "2023-04-21 15:37:57,534 TRAIN : loss 0.7233665585517883 - f1-score (weighted avg)  0.0001\n"
          ]
        },
        {
          "output_type": "stream",
          "name": "stderr",
          "text": [
            "100%|██████████| 3/3 [00:01<00:00,  2.22it/s]"
          ]
        },
        {
          "output_type": "stream",
          "name": "stdout",
          "text": [
            "2023-04-21 15:37:59,036 Evaluating as a multi-label problem: False\n",
            "2023-04-21 15:37:59,104 DEV : loss 0.7228750586509705 - f1-score (weighted avg)  0.0\n",
            "2023-04-21 15:37:59,125 BAD EPOCHS (no improvement): 0\n",
            "2023-04-21 15:37:59,129 saving best model\n"
          ]
        },
        {
          "output_type": "stream",
          "name": "stderr",
          "text": [
            "\n"
          ]
        },
        {
          "output_type": "stream",
          "name": "stdout",
          "text": [
            "2023-04-21 15:38:02,320 ----------------------------------------------------------------------------------------------------\n",
            "2023-04-21 15:38:04,463 epoch 4 - iter 2/24 - loss 0.77416928 - time (sec): 2.14 - samples/sec: 3741.24 - lr: 0.000005\n",
            "2023-04-21 15:38:06,558 epoch 4 - iter 4/24 - loss 0.76155765 - time (sec): 4.23 - samples/sec: 3859.40 - lr: 0.000005\n",
            "2023-04-21 15:38:09,774 epoch 4 - iter 6/24 - loss 0.73613031 - time (sec): 7.45 - samples/sec: 3336.50 - lr: 0.000005\n",
            "2023-04-21 15:38:11,886 epoch 4 - iter 8/24 - loss 0.73703101 - time (sec): 9.56 - samples/sec: 3582.99 - lr: 0.000005\n",
            "2023-04-21 15:38:14,006 epoch 4 - iter 10/24 - loss 0.74189729 - time (sec): 11.68 - samples/sec: 3528.02 - lr: 0.000005\n",
            "2023-04-21 15:38:16,070 epoch 4 - iter 12/24 - loss 0.74638099 - time (sec): 13.75 - samples/sec: 3501.12 - lr: 0.000005\n",
            "2023-04-21 15:38:18,637 epoch 4 - iter 14/24 - loss 0.74865937 - time (sec): 16.31 - samples/sec: 3529.49 - lr: 0.000005\n",
            "2023-04-21 15:38:20,732 epoch 4 - iter 16/24 - loss 0.73501412 - time (sec): 18.41 - samples/sec: 3577.43 - lr: 0.000005\n",
            "2023-04-21 15:38:22,824 epoch 4 - iter 18/24 - loss 0.72210582 - time (sec): 20.50 - samples/sec: 3575.72 - lr: 0.000005\n",
            "2023-04-21 15:38:24,910 epoch 4 - iter 20/24 - loss 0.71683879 - time (sec): 22.59 - samples/sec: 3597.55 - lr: 0.000005\n",
            "2023-04-21 15:38:27,068 epoch 4 - iter 22/24 - loss 0.71200577 - time (sec): 24.74 - samples/sec: 3567.91 - lr: 0.000005\n",
            "2023-04-21 15:38:28,877 epoch 4 - iter 24/24 - loss 0.70546643 - time (sec): 26.55 - samples/sec: 3568.90 - lr: 0.000005\n",
            "2023-04-21 15:38:28,880 ----------------------------------------------------------------------------------------------------\n",
            "2023-04-21 15:38:28,881 EPOCH 4 done: loss 0.7055 - lr 0.000005\n"
          ]
        },
        {
          "output_type": "stream",
          "name": "stderr",
          "text": [
            "100%|██████████| 24/24 [00:10<00:00,  2.38it/s]"
          ]
        },
        {
          "output_type": "stream",
          "name": "stdout",
          "text": [
            "2023-04-21 15:38:39,097 Evaluating as a multi-label problem: True\n"
          ]
        },
        {
          "output_type": "stream",
          "name": "stderr",
          "text": [
            "\n"
          ]
        },
        {
          "output_type": "stream",
          "name": "stdout",
          "text": [
            "2023-04-21 15:38:42,925 TRAIN : loss 0.5868856906890869 - f1-score (weighted avg)  0.0457\n"
          ]
        },
        {
          "output_type": "stream",
          "name": "stderr",
          "text": [
            "100%|██████████| 3/3 [00:01<00:00,  2.17it/s]"
          ]
        },
        {
          "output_type": "stream",
          "name": "stdout",
          "text": [
            "2023-04-21 15:38:44,462 Evaluating as a multi-label problem: False\n",
            "2023-04-21 15:38:44,526 DEV : loss 0.6008151769638062 - f1-score (weighted avg)  0.0493\n",
            "2023-04-21 15:38:44,547 BAD EPOCHS (no improvement): 0\n",
            "2023-04-21 15:38:44,551 saving best model\n"
          ]
        },
        {
          "output_type": "stream",
          "name": "stderr",
          "text": [
            "\n"
          ]
        },
        {
          "output_type": "stream",
          "name": "stdout",
          "text": [
            "2023-04-21 15:38:47,813 ----------------------------------------------------------------------------------------------------\n",
            "2023-04-21 15:38:49,957 epoch 5 - iter 2/24 - loss 0.57342843 - time (sec): 2.14 - samples/sec: 3632.88 - lr: 0.000005\n",
            "2023-04-21 15:38:51,980 epoch 5 - iter 4/24 - loss 0.57322758 - time (sec): 4.16 - samples/sec: 3946.53 - lr: 0.000005\n",
            "2023-04-21 15:38:54,077 epoch 5 - iter 6/24 - loss 0.57149773 - time (sec): 6.26 - samples/sec: 3947.71 - lr: 0.000005\n",
            "2023-04-21 15:38:56,151 epoch 5 - iter 8/24 - loss 0.58675672 - time (sec): 8.33 - samples/sec: 3890.88 - lr: 0.000005\n",
            "2023-04-21 15:38:58,357 epoch 5 - iter 10/24 - loss 0.58576811 - time (sec): 10.54 - samples/sec: 3929.09 - lr: 0.000005\n",
            "2023-04-21 15:39:00,705 epoch 5 - iter 12/24 - loss 0.60970088 - time (sec): 12.89 - samples/sec: 3914.35 - lr: 0.000005\n",
            "2023-04-21 15:39:02,830 epoch 5 - iter 14/24 - loss 0.60212328 - time (sec): 15.01 - samples/sec: 3899.47 - lr: 0.000005\n",
            "2023-04-21 15:39:05,066 epoch 5 - iter 16/24 - loss 0.60304179 - time (sec): 17.25 - samples/sec: 3839.90 - lr: 0.000005\n",
            "2023-04-21 15:39:07,198 epoch 5 - iter 18/24 - loss 0.59872623 - time (sec): 19.38 - samples/sec: 3826.31 - lr: 0.000005\n",
            "2023-04-21 15:39:09,303 epoch 5 - iter 20/24 - loss 0.59974453 - time (sec): 21.49 - samples/sec: 3759.05 - lr: 0.000005\n",
            "2023-04-21 15:39:11,419 epoch 5 - iter 22/24 - loss 0.59515004 - time (sec): 23.60 - samples/sec: 3746.71 - lr: 0.000005\n",
            "2023-04-21 15:39:13,189 epoch 5 - iter 24/24 - loss 0.59214446 - time (sec): 25.37 - samples/sec: 3735.27 - lr: 0.000005\n",
            "2023-04-21 15:39:13,192 ----------------------------------------------------------------------------------------------------\n",
            "2023-04-21 15:39:13,193 EPOCH 5 done: loss 0.5921 - lr 0.000005\n"
          ]
        },
        {
          "output_type": "stream",
          "name": "stderr",
          "text": [
            "100%|██████████| 24/24 [00:09<00:00,  2.40it/s]"
          ]
        },
        {
          "output_type": "stream",
          "name": "stdout",
          "text": [
            "2023-04-21 15:39:23,314 Evaluating as a multi-label problem: True\n"
          ]
        },
        {
          "output_type": "stream",
          "name": "stderr",
          "text": [
            "\n"
          ]
        },
        {
          "output_type": "stream",
          "name": "stdout",
          "text": [
            "2023-04-21 15:39:27,180 TRAIN : loss 0.5190421342849731 - f1-score (weighted avg)  0.3114\n"
          ]
        },
        {
          "output_type": "stream",
          "name": "stderr",
          "text": [
            "100%|██████████| 3/3 [00:01<00:00,  2.21it/s]"
          ]
        },
        {
          "output_type": "stream",
          "name": "stdout",
          "text": [
            "2023-04-21 15:39:28,687 Evaluating as a multi-label problem: False\n",
            "2023-04-21 15:39:28,753 DEV : loss 0.5366393327713013 - f1-score (weighted avg)  0.3109\n",
            "2023-04-21 15:39:28,773 BAD EPOCHS (no improvement): 0\n",
            "2023-04-21 15:39:28,777 saving best model\n"
          ]
        },
        {
          "output_type": "stream",
          "name": "stderr",
          "text": [
            "\n"
          ]
        },
        {
          "output_type": "stream",
          "name": "stdout",
          "text": [
            "2023-04-21 15:39:32,034 ----------------------------------------------------------------------------------------------------\n",
            "2023-04-21 15:39:34,269 epoch 6 - iter 2/24 - loss 0.48051915 - time (sec): 2.23 - samples/sec: 3537.10 - lr: 0.000005\n",
            "2023-04-21 15:39:36,478 epoch 6 - iter 4/24 - loss 0.53107594 - time (sec): 4.44 - samples/sec: 3540.91 - lr: 0.000005\n",
            "2023-04-21 15:39:38,534 epoch 6 - iter 6/24 - loss 0.51854003 - time (sec): 6.50 - samples/sec: 3634.88 - lr: 0.000005\n",
            "2023-04-21 15:39:40,600 epoch 6 - iter 8/24 - loss 0.52766262 - time (sec): 8.56 - samples/sec: 3663.56 - lr: 0.000005\n",
            "2023-04-21 15:39:42,682 epoch 6 - iter 10/24 - loss 0.53377989 - time (sec): 10.65 - samples/sec: 3684.83 - lr: 0.000005\n",
            "2023-04-21 15:39:45,185 epoch 6 - iter 12/24 - loss 0.56147153 - time (sec): 13.15 - samples/sec: 3638.26 - lr: 0.000005\n",
            "2023-04-21 15:39:47,304 epoch 6 - iter 14/24 - loss 0.55728607 - time (sec): 15.27 - samples/sec: 3701.63 - lr: 0.000005\n",
            "2023-04-21 15:39:49,406 epoch 6 - iter 16/24 - loss 0.55293923 - time (sec): 17.37 - samples/sec: 3739.64 - lr: 0.000005\n",
            "2023-04-21 15:39:51,501 epoch 6 - iter 18/24 - loss 0.54598198 - time (sec): 19.46 - samples/sec: 3728.71 - lr: 0.000005\n",
            "2023-04-21 15:39:53,548 epoch 6 - iter 20/24 - loss 0.53950731 - time (sec): 21.51 - samples/sec: 3713.35 - lr: 0.000005\n",
            "2023-04-21 15:39:55,678 epoch 6 - iter 22/24 - loss 0.53265527 - time (sec): 23.64 - samples/sec: 3731.73 - lr: 0.000005\n",
            "2023-04-21 15:39:57,469 epoch 6 - iter 24/24 - loss 0.53146077 - time (sec): 25.43 - samples/sec: 3726.42 - lr: 0.000005\n",
            "2023-04-21 15:39:57,472 ----------------------------------------------------------------------------------------------------\n",
            "2023-04-21 15:39:57,474 EPOCH 6 done: loss 0.5315 - lr 0.000005\n"
          ]
        },
        {
          "output_type": "stream",
          "name": "stderr",
          "text": [
            "100%|██████████| 24/24 [00:10<00:00,  2.38it/s]"
          ]
        },
        {
          "output_type": "stream",
          "name": "stdout",
          "text": [
            "2023-04-21 15:40:07,690 Evaluating as a multi-label problem: True\n"
          ]
        },
        {
          "output_type": "stream",
          "name": "stderr",
          "text": [
            "\n"
          ]
        },
        {
          "output_type": "stream",
          "name": "stdout",
          "text": [
            "2023-04-21 15:40:10,401 TRAIN : loss 0.4639450013637543 - f1-score (weighted avg)  0.406\n"
          ]
        },
        {
          "output_type": "stream",
          "name": "stderr",
          "text": [
            "100%|██████████| 3/3 [00:01<00:00,  2.18it/s]"
          ]
        },
        {
          "output_type": "stream",
          "name": "stdout",
          "text": [
            "2023-04-21 15:40:11,929 Evaluating as a multi-label problem: False\n",
            "2023-04-21 15:40:11,995 DEV : loss 0.4882453382015228 - f1-score (weighted avg)  0.3777\n",
            "2023-04-21 15:40:12,015 BAD EPOCHS (no improvement): 0\n",
            "2023-04-21 15:40:12,019 saving best model\n"
          ]
        },
        {
          "output_type": "stream",
          "name": "stderr",
          "text": [
            "\n"
          ]
        },
        {
          "output_type": "stream",
          "name": "stdout",
          "text": [
            "2023-04-21 15:40:15,236 ----------------------------------------------------------------------------------------------------\n",
            "2023-04-21 15:40:17,375 epoch 7 - iter 2/24 - loss 0.50837533 - time (sec): 2.14 - samples/sec: 3570.84 - lr: 0.000005\n",
            "2023-04-21 15:40:19,505 epoch 7 - iter 4/24 - loss 0.52429333 - time (sec): 4.27 - samples/sec: 3608.91 - lr: 0.000005\n",
            "2023-04-21 15:40:21,555 epoch 7 - iter 6/24 - loss 0.50715964 - time (sec): 6.32 - samples/sec: 3684.66 - lr: 0.000005\n",
            "2023-04-21 15:40:23,631 epoch 7 - iter 8/24 - loss 0.50627285 - time (sec): 8.39 - samples/sec: 3713.65 - lr: 0.000005\n",
            "2023-04-21 15:40:25,719 epoch 7 - iter 10/24 - loss 0.49723706 - time (sec): 10.48 - samples/sec: 3721.46 - lr: 0.000005\n",
            "2023-04-21 15:40:29,115 epoch 7 - iter 12/24 - loss 0.51084792 - time (sec): 13.88 - samples/sec: 3420.63 - lr: 0.000005\n",
            "2023-04-21 15:40:31,281 epoch 7 - iter 14/24 - loss 0.50310324 - time (sec): 16.04 - samples/sec: 3516.12 - lr: 0.000005\n",
            "2023-04-21 15:40:33,397 epoch 7 - iter 16/24 - loss 0.49793160 - time (sec): 18.16 - samples/sec: 3532.49 - lr: 0.000005\n",
            "2023-04-21 15:40:35,483 epoch 7 - iter 18/24 - loss 0.49435704 - time (sec): 20.24 - samples/sec: 3542.33 - lr: 0.000005\n",
            "2023-04-21 15:40:37,742 epoch 7 - iter 20/24 - loss 0.49321202 - time (sec): 22.50 - samples/sec: 3545.38 - lr: 0.000005\n",
            "2023-04-21 15:40:39,824 epoch 7 - iter 22/24 - loss 0.48909621 - time (sec): 24.59 - samples/sec: 3546.13 - lr: 0.000005\n",
            "2023-04-21 15:40:41,652 epoch 7 - iter 24/24 - loss 0.48701529 - time (sec): 26.41 - samples/sec: 3587.94 - lr: 0.000005\n",
            "2023-04-21 15:40:41,655 ----------------------------------------------------------------------------------------------------\n",
            "2023-04-21 15:40:41,657 EPOCH 7 done: loss 0.4870 - lr 0.000005\n"
          ]
        },
        {
          "output_type": "stream",
          "name": "stderr",
          "text": [
            "100%|██████████| 24/24 [00:10<00:00,  2.38it/s]"
          ]
        },
        {
          "output_type": "stream",
          "name": "stdout",
          "text": [
            "2023-04-21 15:40:51,880 Evaluating as a multi-label problem: True\n"
          ]
        },
        {
          "output_type": "stream",
          "name": "stderr",
          "text": [
            "\n"
          ]
        },
        {
          "output_type": "stream",
          "name": "stdout",
          "text": [
            "2023-04-21 15:40:55,722 TRAIN : loss 0.42805400490760803 - f1-score (weighted avg)  0.4387\n"
          ]
        },
        {
          "output_type": "stream",
          "name": "stderr",
          "text": [
            "100%|██████████| 3/3 [00:01<00:00,  2.17it/s]"
          ]
        },
        {
          "output_type": "stream",
          "name": "stdout",
          "text": [
            "2023-04-21 15:40:57,255 Evaluating as a multi-label problem: False\n",
            "2023-04-21 15:40:57,325 DEV : loss 0.4546288847923279 - f1-score (weighted avg)  0.4031\n",
            "2023-04-21 15:40:57,346 BAD EPOCHS (no improvement): 0\n",
            "2023-04-21 15:40:57,351 saving best model\n"
          ]
        },
        {
          "output_type": "stream",
          "name": "stderr",
          "text": [
            "\n"
          ]
        },
        {
          "output_type": "stream",
          "name": "stdout",
          "text": [
            "2023-04-21 15:41:00,537 ----------------------------------------------------------------------------------------------------\n",
            "2023-04-21 15:41:02,748 epoch 8 - iter 2/24 - loss 0.51191619 - time (sec): 2.21 - samples/sec: 4013.34 - lr: 0.000005\n",
            "2023-04-21 15:41:04,824 epoch 8 - iter 4/24 - loss 0.48272858 - time (sec): 4.29 - samples/sec: 3960.96 - lr: 0.000005\n",
            "2023-04-21 15:41:06,898 epoch 8 - iter 6/24 - loss 0.46966950 - time (sec): 6.36 - samples/sec: 3918.32 - lr: 0.000005\n",
            "2023-04-21 15:41:08,984 epoch 8 - iter 8/24 - loss 0.46322262 - time (sec): 8.45 - samples/sec: 3942.23 - lr: 0.000005\n",
            "2023-04-21 15:41:11,101 epoch 8 - iter 10/24 - loss 0.46767266 - time (sec): 10.56 - samples/sec: 3888.78 - lr: 0.000005\n",
            "2023-04-21 15:41:13,202 epoch 8 - iter 12/24 - loss 0.46339075 - time (sec): 12.66 - samples/sec: 3857.18 - lr: 0.000005\n",
            "2023-04-21 15:41:15,261 epoch 8 - iter 14/24 - loss 0.45356740 - time (sec): 14.72 - samples/sec: 3846.59 - lr: 0.000005\n",
            "2023-04-21 15:41:17,374 epoch 8 - iter 16/24 - loss 0.44826863 - time (sec): 16.83 - samples/sec: 3836.86 - lr: 0.000005\n",
            "2023-04-21 15:41:19,397 epoch 8 - iter 18/24 - loss 0.45029851 - time (sec): 18.86 - samples/sec: 3782.50 - lr: 0.000005\n",
            "2023-04-21 15:41:21,695 epoch 8 - iter 20/24 - loss 0.45201200 - time (sec): 21.16 - samples/sec: 3797.30 - lr: 0.000005\n",
            "2023-04-21 15:41:24,035 epoch 8 - iter 22/24 - loss 0.45951441 - time (sec): 23.50 - samples/sec: 3800.20 - lr: 0.000005\n",
            "2023-04-21 15:41:25,829 epoch 8 - iter 24/24 - loss 0.45657266 - time (sec): 25.29 - samples/sec: 3747.34 - lr: 0.000005\n",
            "2023-04-21 15:41:25,832 ----------------------------------------------------------------------------------------------------\n",
            "2023-04-21 15:41:25,834 EPOCH 8 done: loss 0.4566 - lr 0.000005\n"
          ]
        },
        {
          "output_type": "stream",
          "name": "stderr",
          "text": [
            "100%|██████████| 24/24 [00:10<00:00,  2.36it/s]"
          ]
        },
        {
          "output_type": "stream",
          "name": "stdout",
          "text": [
            "2023-04-21 15:41:36,156 Evaluating as a multi-label problem: True\n"
          ]
        },
        {
          "output_type": "stream",
          "name": "stderr",
          "text": [
            "\n"
          ]
        },
        {
          "output_type": "stream",
          "name": "stdout",
          "text": [
            "2023-04-21 15:41:40,099 TRAIN : loss 0.40006259083747864 - f1-score (weighted avg)  0.4444\n"
          ]
        },
        {
          "output_type": "stream",
          "name": "stderr",
          "text": [
            "100%|██████████| 3/3 [00:01<00:00,  2.20it/s]"
          ]
        },
        {
          "output_type": "stream",
          "name": "stdout",
          "text": [
            "2023-04-21 15:41:41,612 Evaluating as a multi-label problem: False\n",
            "2023-04-21 15:41:41,679 DEV : loss 0.4289088845252991 - f1-score (weighted avg)  0.4041\n",
            "2023-04-21 15:41:41,700 BAD EPOCHS (no improvement): 0\n",
            "2023-04-21 15:41:41,704 saving best model\n"
          ]
        },
        {
          "output_type": "stream",
          "name": "stderr",
          "text": [
            "\n"
          ]
        },
        {
          "output_type": "stream",
          "name": "stdout",
          "text": [
            "2023-04-21 15:41:44,967 ----------------------------------------------------------------------------------------------------\n",
            "2023-04-21 15:41:47,247 epoch 9 - iter 2/24 - loss 0.48312802 - time (sec): 2.28 - samples/sec: 3595.00 - lr: 0.000005\n",
            "2023-04-21 15:41:49,307 epoch 9 - iter 4/24 - loss 0.42347625 - time (sec): 4.34 - samples/sec: 3799.28 - lr: 0.000005\n",
            "2023-04-21 15:41:51,428 epoch 9 - iter 6/24 - loss 0.43247792 - time (sec): 6.46 - samples/sec: 3756.82 - lr: 0.000005\n",
            "2023-04-21 15:41:53,616 epoch 9 - iter 8/24 - loss 0.43515071 - time (sec): 8.65 - samples/sec: 3659.89 - lr: 0.000005\n",
            "2023-04-21 15:41:55,657 epoch 9 - iter 10/24 - loss 0.42812627 - time (sec): 10.69 - samples/sec: 3615.22 - lr: 0.000005\n",
            "2023-04-21 15:41:57,799 epoch 9 - iter 12/24 - loss 0.42213058 - time (sec): 12.83 - samples/sec: 3735.65 - lr: 0.000005\n",
            "2023-04-21 15:41:59,822 epoch 9 - iter 14/24 - loss 0.41788934 - time (sec): 14.85 - samples/sec: 3685.45 - lr: 0.000005\n",
            "2023-04-21 15:42:01,898 epoch 9 - iter 16/24 - loss 0.41952547 - time (sec): 16.93 - samples/sec: 3657.30 - lr: 0.000005\n",
            "2023-04-21 15:42:04,314 epoch 9 - iter 18/24 - loss 0.43123059 - time (sec): 19.35 - samples/sec: 3701.64 - lr: 0.000005\n",
            "2023-04-21 15:42:06,389 epoch 9 - iter 20/24 - loss 0.42856330 - time (sec): 21.42 - samples/sec: 3691.05 - lr: 0.000005\n",
            "2023-04-21 15:42:08,503 epoch 9 - iter 22/24 - loss 0.42644928 - time (sec): 23.53 - samples/sec: 3715.16 - lr: 0.000005\n",
            "2023-04-21 15:42:10,289 epoch 9 - iter 24/24 - loss 0.42714080 - time (sec): 25.32 - samples/sec: 3742.85 - lr: 0.000005\n",
            "2023-04-21 15:42:10,292 ----------------------------------------------------------------------------------------------------\n",
            "2023-04-21 15:42:10,294 EPOCH 9 done: loss 0.4271 - lr 0.000005\n"
          ]
        },
        {
          "output_type": "stream",
          "name": "stderr",
          "text": [
            "100%|██████████| 24/24 [00:10<00:00,  2.35it/s]"
          ]
        },
        {
          "output_type": "stream",
          "name": "stdout",
          "text": [
            "2023-04-21 15:42:20,639 Evaluating as a multi-label problem: True\n"
          ]
        },
        {
          "output_type": "stream",
          "name": "stderr",
          "text": [
            "\n"
          ]
        },
        {
          "output_type": "stream",
          "name": "stdout",
          "text": [
            "2023-04-21 15:42:23,399 TRAIN : loss 0.3673950135707855 - f1-score (weighted avg)  0.502\n"
          ]
        },
        {
          "output_type": "stream",
          "name": "stderr",
          "text": [
            "100%|██████████| 3/3 [00:02<00:00,  1.25it/s]"
          ]
        },
        {
          "output_type": "stream",
          "name": "stdout",
          "text": [
            "2023-04-21 15:42:25,962 Evaluating as a multi-label problem: False\n",
            "2023-04-21 15:42:26,029 DEV : loss 0.40099459886550903 - f1-score (weighted avg)  0.4613\n",
            "2023-04-21 15:42:26,048 BAD EPOCHS (no improvement): 0\n",
            "2023-04-21 15:42:26,064 saving best model\n"
          ]
        },
        {
          "output_type": "stream",
          "name": "stderr",
          "text": [
            "\n"
          ]
        },
        {
          "output_type": "stream",
          "name": "stdout",
          "text": [
            "2023-04-21 15:42:29,251 ----------------------------------------------------------------------------------------------------\n",
            "2023-04-21 15:42:31,659 epoch 10 - iter 2/24 - loss 0.49686371 - time (sec): 2.41 - samples/sec: 3703.59 - lr: 0.000005\n",
            "2023-04-21 15:42:33,780 epoch 10 - iter 4/24 - loss 0.44575768 - time (sec): 4.53 - samples/sec: 3778.11 - lr: 0.000005\n",
            "2023-04-21 15:42:35,925 epoch 10 - iter 6/24 - loss 0.42484406 - time (sec): 6.67 - samples/sec: 3827.08 - lr: 0.000005\n",
            "2023-04-21 15:42:38,203 epoch 10 - iter 8/24 - loss 0.43518493 - time (sec): 8.95 - samples/sec: 3746.79 - lr: 0.000005\n",
            "2023-04-21 15:42:40,252 epoch 10 - iter 10/24 - loss 0.42078935 - time (sec): 11.00 - samples/sec: 3732.92 - lr: 0.000005\n",
            "2023-04-21 15:42:42,387 epoch 10 - iter 12/24 - loss 0.41376779 - time (sec): 13.13 - samples/sec: 3737.65 - lr: 0.000005\n",
            "2023-04-21 15:42:44,470 epoch 10 - iter 14/24 - loss 0.40925663 - time (sec): 15.22 - samples/sec: 3676.30 - lr: 0.000005\n",
            "2023-04-21 15:42:46,543 epoch 10 - iter 16/24 - loss 0.41151540 - time (sec): 17.29 - samples/sec: 3706.35 - lr: 0.000005\n",
            "2023-04-21 15:42:48,664 epoch 10 - iter 18/24 - loss 0.41250390 - time (sec): 19.41 - samples/sec: 3684.86 - lr: 0.000005\n",
            "2023-04-21 15:42:50,930 epoch 10 - iter 20/24 - loss 0.40718919 - time (sec): 21.68 - samples/sec: 3676.85 - lr: 0.000005\n",
            "2023-04-21 15:42:53,063 epoch 10 - iter 22/24 - loss 0.40259474 - time (sec): 23.81 - samples/sec: 3720.97 - lr: 0.000005\n",
            "2023-04-21 15:42:54,822 epoch 10 - iter 24/24 - loss 0.39777393 - time (sec): 25.57 - samples/sec: 3706.42 - lr: 0.000005\n",
            "2023-04-21 15:42:54,825 ----------------------------------------------------------------------------------------------------\n",
            "2023-04-21 15:42:54,827 EPOCH 10 done: loss 0.3978 - lr 0.000005\n"
          ]
        },
        {
          "output_type": "stream",
          "name": "stderr",
          "text": [
            "100%|██████████| 24/24 [00:10<00:00,  2.37it/s]"
          ]
        },
        {
          "output_type": "stream",
          "name": "stdout",
          "text": [
            "2023-04-21 15:43:05,101 Evaluating as a multi-label problem: True\n"
          ]
        },
        {
          "output_type": "stream",
          "name": "stderr",
          "text": [
            "\n"
          ]
        },
        {
          "output_type": "stream",
          "name": "stdout",
          "text": [
            "2023-04-21 15:43:08,960 TRAIN : loss 0.34109529852867126 - f1-score (weighted avg)  0.5493\n"
          ]
        },
        {
          "output_type": "stream",
          "name": "stderr",
          "text": [
            "100%|██████████| 3/3 [00:01<00:00,  2.20it/s]"
          ]
        },
        {
          "output_type": "stream",
          "name": "stdout",
          "text": [
            "2023-04-21 15:43:10,478 Evaluating as a multi-label problem: False\n",
            "2023-04-21 15:43:10,546 DEV : loss 0.37978169322013855 - f1-score (weighted avg)  0.4908\n",
            "2023-04-21 15:43:10,565 BAD EPOCHS (no improvement): 0\n",
            "2023-04-21 15:43:10,569 saving best model\n"
          ]
        },
        {
          "output_type": "stream",
          "name": "stderr",
          "text": [
            "\n"
          ]
        },
        {
          "output_type": "stream",
          "name": "stdout",
          "text": [
            "2023-04-21 15:43:13,771 ----------------------------------------------------------------------------------------------------\n",
            "2023-04-21 15:43:15,928 epoch 11 - iter 2/24 - loss 0.37016594 - time (sec): 2.15 - samples/sec: 3404.18 - lr: 0.000005\n",
            "2023-04-21 15:43:18,052 epoch 11 - iter 4/24 - loss 0.34752056 - time (sec): 4.28 - samples/sec: 3535.14 - lr: 0.000005\n",
            "2023-04-21 15:43:20,475 epoch 11 - iter 6/24 - loss 0.41559603 - time (sec): 6.70 - samples/sec: 3409.19 - lr: 0.000005\n",
            "2023-04-21 15:43:22,767 epoch 11 - iter 8/24 - loss 0.41586326 - time (sec): 8.99 - samples/sec: 3609.75 - lr: 0.000005\n",
            "2023-04-21 15:43:24,978 epoch 11 - iter 10/24 - loss 0.40896241 - time (sec): 11.20 - samples/sec: 3618.42 - lr: 0.000005\n",
            "2023-04-21 15:43:27,033 epoch 11 - iter 12/24 - loss 0.39488148 - time (sec): 13.26 - samples/sec: 3611.98 - lr: 0.000005\n",
            "2023-04-21 15:43:29,139 epoch 11 - iter 14/24 - loss 0.38335967 - time (sec): 15.37 - samples/sec: 3660.87 - lr: 0.000005\n",
            "2023-04-21 15:43:31,222 epoch 11 - iter 16/24 - loss 0.37543645 - time (sec): 17.45 - samples/sec: 3655.66 - lr: 0.000005\n",
            "2023-04-21 15:43:33,299 epoch 11 - iter 18/24 - loss 0.37574397 - time (sec): 19.53 - samples/sec: 3663.48 - lr: 0.000005\n",
            "2023-04-21 15:43:35,496 epoch 11 - iter 20/24 - loss 0.36892106 - time (sec): 21.72 - samples/sec: 3692.61 - lr: 0.000005\n",
            "2023-04-21 15:43:37,576 epoch 11 - iter 22/24 - loss 0.36955590 - time (sec): 23.80 - samples/sec: 3712.88 - lr: 0.000005\n",
            "2023-04-21 15:43:39,328 epoch 11 - iter 24/24 - loss 0.36941954 - time (sec): 25.55 - samples/sec: 3708.58 - lr: 0.000005\n",
            "2023-04-21 15:43:39,331 ----------------------------------------------------------------------------------------------------\n",
            "2023-04-21 15:43:39,332 EPOCH 11 done: loss 0.3694 - lr 0.000005\n"
          ]
        },
        {
          "output_type": "stream",
          "name": "stderr",
          "text": [
            "100%|██████████| 24/24 [00:10<00:00,  2.37it/s]"
          ]
        },
        {
          "output_type": "stream",
          "name": "stdout",
          "text": [
            "2023-04-21 15:43:49,595 Evaluating as a multi-label problem: True\n"
          ]
        },
        {
          "output_type": "stream",
          "name": "stderr",
          "text": [
            "\n"
          ]
        },
        {
          "output_type": "stream",
          "name": "stdout",
          "text": [
            "2023-04-21 15:43:53,449 TRAIN : loss 0.3185730576515198 - f1-score (weighted avg)  0.5841\n"
          ]
        },
        {
          "output_type": "stream",
          "name": "stderr",
          "text": [
            "100%|██████████| 3/3 [00:01<00:00,  2.20it/s]"
          ]
        },
        {
          "output_type": "stream",
          "name": "stdout",
          "text": [
            "2023-04-21 15:43:54,966 Evaluating as a multi-label problem: False\n",
            "2023-04-21 15:43:55,035 DEV : loss 0.3629409968852997 - f1-score (weighted avg)  0.5171\n",
            "2023-04-21 15:43:55,054 BAD EPOCHS (no improvement): 0\n",
            "2023-04-21 15:43:55,059 saving best model\n"
          ]
        },
        {
          "output_type": "stream",
          "name": "stderr",
          "text": [
            "\n"
          ]
        },
        {
          "output_type": "stream",
          "name": "stdout",
          "text": [
            "2023-04-21 15:43:58,262 ----------------------------------------------------------------------------------------------------\n",
            "2023-04-21 15:44:00,478 epoch 12 - iter 2/24 - loss 0.30639237 - time (sec): 2.21 - samples/sec: 4059.44 - lr: 0.000005\n",
            "2023-04-21 15:44:02,529 epoch 12 - iter 4/24 - loss 0.29152846 - time (sec): 4.27 - samples/sec: 3911.94 - lr: 0.000005\n",
            "2023-04-21 15:44:04,771 epoch 12 - iter 6/24 - loss 0.32585086 - time (sec): 6.51 - samples/sec: 3867.68 - lr: 0.000005\n",
            "2023-04-21 15:44:06,822 epoch 12 - iter 8/24 - loss 0.32972928 - time (sec): 8.56 - samples/sec: 3940.84 - lr: 0.000005\n",
            "2023-04-21 15:44:08,934 epoch 12 - iter 10/24 - loss 0.32978928 - time (sec): 10.67 - samples/sec: 3860.64 - lr: 0.000005\n",
            "2023-04-21 15:44:11,047 epoch 12 - iter 12/24 - loss 0.33741720 - time (sec): 12.78 - samples/sec: 3814.49 - lr: 0.000005\n",
            "2023-04-21 15:44:13,481 epoch 12 - iter 14/24 - loss 0.36066419 - time (sec): 15.22 - samples/sec: 3791.92 - lr: 0.000005\n",
            "2023-04-21 15:44:15,565 epoch 12 - iter 16/24 - loss 0.35684207 - time (sec): 17.30 - samples/sec: 3760.00 - lr: 0.000005\n",
            "2023-04-21 15:44:17,702 epoch 12 - iter 18/24 - loss 0.35557643 - time (sec): 19.44 - samples/sec: 3738.24 - lr: 0.000005\n",
            "2023-04-21 15:44:19,803 epoch 12 - iter 20/24 - loss 0.35442549 - time (sec): 21.54 - samples/sec: 3728.48 - lr: 0.000005\n",
            "2023-04-21 15:44:21,972 epoch 12 - iter 22/24 - loss 0.35271437 - time (sec): 23.71 - samples/sec: 3689.41 - lr: 0.000005\n",
            "2023-04-21 15:44:23,803 epoch 12 - iter 24/24 - loss 0.34723155 - time (sec): 25.54 - samples/sec: 3710.79 - lr: 0.000005\n",
            "2023-04-21 15:44:23,806 ----------------------------------------------------------------------------------------------------\n",
            "2023-04-21 15:44:23,807 EPOCH 12 done: loss 0.3472 - lr 0.000005\n"
          ]
        },
        {
          "output_type": "stream",
          "name": "stderr",
          "text": [
            "100%|██████████| 24/24 [00:10<00:00,  2.37it/s]"
          ]
        },
        {
          "output_type": "stream",
          "name": "stdout",
          "text": [
            "2023-04-21 15:44:34,070 Evaluating as a multi-label problem: True\n"
          ]
        },
        {
          "output_type": "stream",
          "name": "stderr",
          "text": [
            "\n"
          ]
        },
        {
          "output_type": "stream",
          "name": "stdout",
          "text": [
            "2023-04-21 15:44:37,970 TRAIN : loss 0.2982182502746582 - f1-score (weighted avg)  0.6189\n"
          ]
        },
        {
          "output_type": "stream",
          "name": "stderr",
          "text": [
            "100%|██████████| 3/3 [00:01<00:00,  2.20it/s]"
          ]
        },
        {
          "output_type": "stream",
          "name": "stdout",
          "text": [
            "2023-04-21 15:44:39,489 Evaluating as a multi-label problem: False\n",
            "2023-04-21 15:44:39,559 DEV : loss 0.348649263381958 - f1-score (weighted avg)  0.5539\n",
            "2023-04-21 15:44:39,579 BAD EPOCHS (no improvement): 0\n",
            "2023-04-21 15:44:39,584 saving best model\n"
          ]
        },
        {
          "output_type": "stream",
          "name": "stderr",
          "text": [
            "\n"
          ]
        },
        {
          "output_type": "stream",
          "name": "stdout",
          "text": [
            "2023-04-21 15:44:42,912 ----------------------------------------------------------------------------------------------------\n",
            "2023-04-21 15:44:44,990 epoch 13 - iter 2/24 - loss 0.32651397 - time (sec): 2.08 - samples/sec: 4010.27 - lr: 0.000005\n",
            "2023-04-21 15:44:47,112 epoch 13 - iter 4/24 - loss 0.31990530 - time (sec): 4.20 - samples/sec: 3956.23 - lr: 0.000005\n",
            "2023-04-21 15:44:49,231 epoch 13 - iter 6/24 - loss 0.31081729 - time (sec): 6.32 - samples/sec: 3957.71 - lr: 0.000005\n",
            "2023-04-21 15:44:51,332 epoch 13 - iter 8/24 - loss 0.31612323 - time (sec): 8.42 - samples/sec: 3905.73 - lr: 0.000005\n",
            "2023-04-21 15:44:53,583 epoch 13 - iter 10/24 - loss 0.32310055 - time (sec): 10.67 - samples/sec: 3810.07 - lr: 0.000005\n",
            "2023-04-21 15:44:55,661 epoch 13 - iter 12/24 - loss 0.32197271 - time (sec): 12.75 - samples/sec: 3775.89 - lr: 0.000005\n",
            "2023-04-21 15:44:58,143 epoch 13 - iter 14/24 - loss 0.33583743 - time (sec): 15.23 - samples/sec: 3743.88 - lr: 0.000005\n",
            "2023-04-21 15:45:00,266 epoch 13 - iter 16/24 - loss 0.33415842 - time (sec): 17.35 - samples/sec: 3731.80 - lr: 0.000005\n",
            "2023-04-21 15:45:02,347 epoch 13 - iter 18/24 - loss 0.33128277 - time (sec): 19.43 - samples/sec: 3757.28 - lr: 0.000005\n",
            "2023-04-21 15:45:04,420 epoch 13 - iter 20/24 - loss 0.32848798 - time (sec): 21.51 - samples/sec: 3799.05 - lr: 0.000005\n",
            "2023-04-21 15:45:06,500 epoch 13 - iter 22/24 - loss 0.32569725 - time (sec): 23.59 - samples/sec: 3778.09 - lr: 0.000005\n",
            "2023-04-21 15:45:08,303 epoch 13 - iter 24/24 - loss 0.32505472 - time (sec): 25.39 - samples/sec: 3732.65 - lr: 0.000005\n",
            "2023-04-21 15:45:08,307 ----------------------------------------------------------------------------------------------------\n",
            "2023-04-21 15:45:08,309 EPOCH 13 done: loss 0.3251 - lr 0.000005\n"
          ]
        },
        {
          "output_type": "stream",
          "name": "stderr",
          "text": [
            "100%|██████████| 24/24 [00:10<00:00,  2.37it/s]"
          ]
        },
        {
          "output_type": "stream",
          "name": "stdout",
          "text": [
            "2023-04-21 15:45:18,593 Evaluating as a multi-label problem: True\n"
          ]
        },
        {
          "output_type": "stream",
          "name": "stderr",
          "text": [
            "\n"
          ]
        },
        {
          "output_type": "stream",
          "name": "stdout",
          "text": [
            "2023-04-21 15:45:22,544 TRAIN : loss 0.28303036093711853 - f1-score (weighted avg)  0.6512\n"
          ]
        },
        {
          "output_type": "stream",
          "name": "stderr",
          "text": [
            "100%|██████████| 3/3 [00:01<00:00,  2.14it/s]"
          ]
        },
        {
          "output_type": "stream",
          "name": "stdout",
          "text": [
            "2023-04-21 15:45:24,105 Evaluating as a multi-label problem: False\n",
            "2023-04-21 15:45:24,174 DEV : loss 0.34025391936302185 - f1-score (weighted avg)  0.5831\n",
            "2023-04-21 15:45:24,194 BAD EPOCHS (no improvement): 0\n",
            "2023-04-21 15:45:24,198 saving best model\n"
          ]
        },
        {
          "output_type": "stream",
          "name": "stderr",
          "text": [
            "\n"
          ]
        },
        {
          "output_type": "stream",
          "name": "stdout",
          "text": [
            "2023-04-21 15:45:29,777 ----------------------------------------------------------------------------------------------------\n",
            "2023-04-21 15:45:31,934 epoch 14 - iter 2/24 - loss 0.31037383 - time (sec): 2.15 - samples/sec: 4304.09 - lr: 0.000005\n",
            "2023-04-21 15:45:34,286 epoch 14 - iter 4/24 - loss 0.37069144 - time (sec): 4.51 - samples/sec: 3964.63 - lr: 0.000005\n",
            "2023-04-21 15:45:36,346 epoch 14 - iter 6/24 - loss 0.34902056 - time (sec): 6.57 - samples/sec: 3878.26 - lr: 0.000005\n",
            "2023-04-21 15:45:38,449 epoch 14 - iter 8/24 - loss 0.32805889 - time (sec): 8.67 - samples/sec: 3807.41 - lr: 0.000005\n",
            "2023-04-21 15:45:40,573 epoch 14 - iter 10/24 - loss 0.31179711 - time (sec): 10.79 - samples/sec: 3843.81 - lr: 0.000005\n",
            "2023-04-21 15:45:42,627 epoch 14 - iter 12/24 - loss 0.30799216 - time (sec): 12.85 - samples/sec: 3789.92 - lr: 0.000005\n",
            "2023-04-21 15:45:44,759 epoch 14 - iter 14/24 - loss 0.30960310 - time (sec): 14.98 - samples/sec: 3726.19 - lr: 0.000005\n",
            "2023-04-21 15:45:46,806 epoch 14 - iter 16/24 - loss 0.31022375 - time (sec): 17.03 - samples/sec: 3700.19 - lr: 0.000005\n",
            "2023-04-21 15:45:48,885 epoch 14 - iter 18/24 - loss 0.30585662 - time (sec): 19.10 - samples/sec: 3760.34 - lr: 0.000005\n",
            "2023-04-21 15:45:50,968 epoch 14 - iter 20/24 - loss 0.30481436 - time (sec): 21.19 - samples/sec: 3768.76 - lr: 0.000005\n",
            "2023-04-21 15:45:53,222 epoch 14 - iter 22/24 - loss 0.30919095 - time (sec): 23.44 - samples/sec: 3740.24 - lr: 0.000005\n",
            "2023-04-21 15:45:55,097 epoch 14 - iter 24/24 - loss 0.31102627 - time (sec): 25.32 - samples/sec: 3743.27 - lr: 0.000005\n",
            "2023-04-21 15:45:55,100 ----------------------------------------------------------------------------------------------------\n",
            "2023-04-21 15:45:55,102 EPOCH 14 done: loss 0.3110 - lr 0.000005\n"
          ]
        },
        {
          "output_type": "stream",
          "name": "stderr",
          "text": [
            "100%|██████████| 24/24 [00:10<00:00,  2.35it/s]"
          ]
        },
        {
          "output_type": "stream",
          "name": "stdout",
          "text": [
            "2023-04-21 15:46:05,461 Evaluating as a multi-label problem: True\n"
          ]
        },
        {
          "output_type": "stream",
          "name": "stderr",
          "text": [
            "\n"
          ]
        },
        {
          "output_type": "stream",
          "name": "stdout",
          "text": [
            "2023-04-21 15:46:09,376 TRAIN : loss 0.26829928159713745 - f1-score (weighted avg)  0.6676\n"
          ]
        },
        {
          "output_type": "stream",
          "name": "stderr",
          "text": [
            "100%|██████████| 3/3 [00:01<00:00,  2.21it/s]"
          ]
        },
        {
          "output_type": "stream",
          "name": "stdout",
          "text": [
            "2023-04-21 15:46:10,886 Evaluating as a multi-label problem: False\n",
            "2023-04-21 15:46:10,954 DEV : loss 0.3297281861305237 - f1-score (weighted avg)  0.5897\n",
            "2023-04-21 15:46:10,974 BAD EPOCHS (no improvement): 0\n",
            "2023-04-21 15:46:10,978 saving best model\n"
          ]
        },
        {
          "output_type": "stream",
          "name": "stderr",
          "text": [
            "\n"
          ]
        },
        {
          "output_type": "stream",
          "name": "stdout",
          "text": [
            "2023-04-21 15:46:14,239 ----------------------------------------------------------------------------------------------------\n",
            "2023-04-21 15:46:16,392 epoch 15 - iter 2/24 - loss 0.31422387 - time (sec): 2.15 - samples/sec: 3760.08 - lr: 0.000005\n",
            "2023-04-21 15:46:18,645 epoch 15 - iter 4/24 - loss 0.31221509 - time (sec): 4.40 - samples/sec: 3500.67 - lr: 0.000005\n",
            "2023-04-21 15:46:20,850 epoch 15 - iter 6/24 - loss 0.31120676 - time (sec): 6.61 - samples/sec: 3431.27 - lr: 0.000005\n",
            "2023-04-21 15:46:22,933 epoch 15 - iter 8/24 - loss 0.30376452 - time (sec): 8.69 - samples/sec: 3520.74 - lr: 0.000005\n",
            "2023-04-21 15:46:25,048 epoch 15 - iter 10/24 - loss 0.30298960 - time (sec): 10.81 - samples/sec: 3563.18 - lr: 0.000005\n",
            "2023-04-21 15:46:27,071 epoch 15 - iter 12/24 - loss 0.30096597 - time (sec): 12.83 - samples/sec: 3590.92 - lr: 0.000005\n",
            "2023-04-21 15:46:29,504 epoch 15 - iter 14/24 - loss 0.31591944 - time (sec): 15.26 - samples/sec: 3627.63 - lr: 0.000005\n",
            "2023-04-21 15:46:31,622 epoch 15 - iter 16/24 - loss 0.31311023 - time (sec): 17.38 - samples/sec: 3622.21 - lr: 0.000005\n",
            "2023-04-21 15:46:33,783 epoch 15 - iter 18/24 - loss 0.30704487 - time (sec): 19.54 - samples/sec: 3661.31 - lr: 0.000005\n",
            "2023-04-21 15:46:35,912 epoch 15 - iter 20/24 - loss 0.30154703 - time (sec): 21.67 - samples/sec: 3697.52 - lr: 0.000005\n",
            "2023-04-21 15:46:38,020 epoch 15 - iter 22/24 - loss 0.29803853 - time (sec): 23.78 - samples/sec: 3687.11 - lr: 0.000005\n",
            "2023-04-21 15:46:39,861 epoch 15 - iter 24/24 - loss 0.29793063 - time (sec): 25.62 - samples/sec: 3699.04 - lr: 0.000005\n",
            "2023-04-21 15:46:39,865 ----------------------------------------------------------------------------------------------------\n",
            "2023-04-21 15:46:39,866 EPOCH 15 done: loss 0.2979 - lr 0.000005\n"
          ]
        },
        {
          "output_type": "stream",
          "name": "stderr",
          "text": [
            "100%|██████████| 24/24 [00:10<00:00,  2.38it/s]"
          ]
        },
        {
          "output_type": "stream",
          "name": "stdout",
          "text": [
            "2023-04-21 15:46:50,101 Evaluating as a multi-label problem: True\n"
          ]
        },
        {
          "output_type": "stream",
          "name": "stderr",
          "text": [
            "\n"
          ]
        },
        {
          "output_type": "stream",
          "name": "stdout",
          "text": [
            "2023-04-21 15:46:54,059 TRAIN : loss 0.2590849697589874 - f1-score (weighted avg)  0.6752\n"
          ]
        },
        {
          "output_type": "stream",
          "name": "stderr",
          "text": [
            "100%|██████████| 3/3 [00:01<00:00,  2.18it/s]"
          ]
        },
        {
          "output_type": "stream",
          "name": "stdout",
          "text": [
            "2023-04-21 15:46:55,589 Evaluating as a multi-label problem: False\n",
            "2023-04-21 15:46:55,657 DEV : loss 0.32519692182540894 - f1-score (weighted avg)  0.5903\n",
            "2023-04-21 15:46:55,678 BAD EPOCHS (no improvement): 0\n",
            "2023-04-21 15:46:55,682 saving best model\n"
          ]
        },
        {
          "output_type": "stream",
          "name": "stderr",
          "text": [
            "\n"
          ]
        },
        {
          "output_type": "stream",
          "name": "stdout",
          "text": [
            "2023-04-21 15:46:58,890 ----------------------------------------------------------------------------------------------------\n",
            "2023-04-21 15:47:01,017 epoch 16 - iter 2/24 - loss 0.22658043 - time (sec): 2.13 - samples/sec: 3607.70 - lr: 0.000005\n",
            "2023-04-21 15:47:03,096 epoch 16 - iter 4/24 - loss 0.24463808 - time (sec): 4.20 - samples/sec: 3591.55 - lr: 0.000005\n",
            "2023-04-21 15:47:05,187 epoch 16 - iter 6/24 - loss 0.25848674 - time (sec): 6.29 - samples/sec: 3580.01 - lr: 0.000005\n",
            "2023-04-21 15:47:07,266 epoch 16 - iter 8/24 - loss 0.25856292 - time (sec): 8.37 - samples/sec: 3604.63 - lr: 0.000005\n",
            "2023-04-21 15:47:09,291 epoch 16 - iter 10/24 - loss 0.26502409 - time (sec): 10.40 - samples/sec: 3651.20 - lr: 0.000005\n",
            "2023-04-21 15:47:11,435 epoch 16 - iter 12/24 - loss 0.26040228 - time (sec): 12.54 - samples/sec: 3635.05 - lr: 0.000005\n",
            "2023-04-21 15:47:13,549 epoch 16 - iter 14/24 - loss 0.26059789 - time (sec): 14.66 - samples/sec: 3720.09 - lr: 0.000005\n",
            "2023-04-21 15:47:15,627 epoch 16 - iter 16/24 - loss 0.25949749 - time (sec): 16.74 - samples/sec: 3723.03 - lr: 0.000005\n",
            "2023-04-21 15:47:17,700 epoch 16 - iter 18/24 - loss 0.26131678 - time (sec): 18.81 - samples/sec: 3731.74 - lr: 0.000005\n",
            "2023-04-21 15:47:19,929 epoch 16 - iter 20/24 - loss 0.27117844 - time (sec): 21.04 - samples/sec: 3726.58 - lr: 0.000005\n",
            "2023-04-21 15:47:22,153 epoch 16 - iter 22/24 - loss 0.27388256 - time (sec): 23.26 - samples/sec: 3743.84 - lr: 0.000005\n",
            "2023-04-21 15:47:24,217 epoch 16 - iter 24/24 - loss 0.28504184 - time (sec): 25.33 - samples/sec: 3742.07 - lr: 0.000005\n",
            "2023-04-21 15:47:24,220 ----------------------------------------------------------------------------------------------------\n",
            "2023-04-21 15:47:24,222 EPOCH 16 done: loss 0.2850 - lr 0.000005\n"
          ]
        },
        {
          "output_type": "stream",
          "name": "stderr",
          "text": [
            "100%|██████████| 24/24 [00:10<00:00,  2.36it/s]"
          ]
        },
        {
          "output_type": "stream",
          "name": "stdout",
          "text": [
            "2023-04-21 15:47:34,550 Evaluating as a multi-label problem: True\n"
          ]
        },
        {
          "output_type": "stream",
          "name": "stderr",
          "text": [
            "\n"
          ]
        },
        {
          "output_type": "stream",
          "name": "stdout",
          "text": [
            "2023-04-21 15:47:38,480 TRAIN : loss 0.2492038607597351 - f1-score (weighted avg)  0.6821\n"
          ]
        },
        {
          "output_type": "stream",
          "name": "stderr",
          "text": [
            "100%|██████████| 3/3 [00:01<00:00,  2.17it/s]"
          ]
        },
        {
          "output_type": "stream",
          "name": "stdout",
          "text": [
            "2023-04-21 15:47:40,017 Evaluating as a multi-label problem: False\n",
            "2023-04-21 15:47:40,085 DEV : loss 0.3237982392311096 - f1-score (weighted avg)  0.593\n",
            "2023-04-21 15:47:40,106 BAD EPOCHS (no improvement): 0\n",
            "2023-04-21 15:47:40,110 saving best model\n"
          ]
        },
        {
          "output_type": "stream",
          "name": "stderr",
          "text": [
            "\n"
          ]
        },
        {
          "output_type": "stream",
          "name": "stdout",
          "text": [
            "2023-04-21 15:47:43,357 ----------------------------------------------------------------------------------------------------\n",
            "2023-04-21 15:47:45,477 epoch 17 - iter 2/24 - loss 0.25724267 - time (sec): 2.12 - samples/sec: 3618.24 - lr: 0.000005\n",
            "2023-04-21 15:47:47,583 epoch 17 - iter 4/24 - loss 0.27963981 - time (sec): 4.22 - samples/sec: 3848.41 - lr: 0.000005\n",
            "2023-04-21 15:47:49,641 epoch 17 - iter 6/24 - loss 0.28869128 - time (sec): 6.28 - samples/sec: 3755.98 - lr: 0.000005\n",
            "2023-04-21 15:47:51,709 epoch 17 - iter 8/24 - loss 0.27985266 - time (sec): 8.35 - samples/sec: 3760.30 - lr: 0.000005\n",
            "2023-04-21 15:47:53,765 epoch 17 - iter 10/24 - loss 0.27936266 - time (sec): 10.41 - samples/sec: 3755.94 - lr: 0.000005\n",
            "2023-04-21 15:47:56,028 epoch 17 - iter 12/24 - loss 0.28178098 - time (sec): 12.67 - samples/sec: 3713.95 - lr: 0.000005\n",
            "2023-04-21 15:47:58,084 epoch 17 - iter 14/24 - loss 0.28010572 - time (sec): 14.73 - samples/sec: 3677.74 - lr: 0.000005\n",
            "2023-04-21 15:48:00,161 epoch 17 - iter 16/24 - loss 0.27418067 - time (sec): 16.80 - samples/sec: 3720.08 - lr: 0.000005\n",
            "2023-04-21 15:48:02,323 epoch 17 - iter 18/24 - loss 0.26861666 - time (sec): 18.96 - samples/sec: 3778.63 - lr: 0.000005\n",
            "2023-04-21 15:48:04,684 epoch 17 - iter 20/24 - loss 0.28308019 - time (sec): 21.32 - samples/sec: 3744.86 - lr: 0.000005\n",
            "2023-04-21 15:48:06,755 epoch 17 - iter 22/24 - loss 0.27801983 - time (sec): 23.40 - samples/sec: 3754.96 - lr: 0.000005\n",
            "2023-04-21 15:48:08,567 epoch 17 - iter 24/24 - loss 0.27718873 - time (sec): 25.21 - samples/sec: 3759.55 - lr: 0.000005\n",
            "2023-04-21 15:48:08,570 ----------------------------------------------------------------------------------------------------\n",
            "2023-04-21 15:48:08,572 EPOCH 17 done: loss 0.2772 - lr 0.000005\n"
          ]
        },
        {
          "output_type": "stream",
          "name": "stderr",
          "text": [
            "100%|██████████| 24/24 [00:10<00:00,  2.37it/s]"
          ]
        },
        {
          "output_type": "stream",
          "name": "stdout",
          "text": [
            "2023-04-21 15:48:18,832 Evaluating as a multi-label problem: True\n"
          ]
        },
        {
          "output_type": "stream",
          "name": "stderr",
          "text": [
            "\n"
          ]
        },
        {
          "output_type": "stream",
          "name": "stdout",
          "text": [
            "2023-04-21 15:48:22,766 TRAIN : loss 0.23839688301086426 - f1-score (weighted avg)  0.6932\n"
          ]
        },
        {
          "output_type": "stream",
          "name": "stderr",
          "text": [
            "100%|██████████| 3/3 [00:01<00:00,  2.17it/s]"
          ]
        },
        {
          "output_type": "stream",
          "name": "stdout",
          "text": [
            "2023-04-21 15:48:24,305 Evaluating as a multi-label problem: False\n",
            "2023-04-21 15:48:24,374 DEV : loss 0.31959280371665955 - f1-score (weighted avg)  0.6\n",
            "2023-04-21 15:48:24,394 BAD EPOCHS (no improvement): 0\n",
            "2023-04-21 15:48:24,399 saving best model\n"
          ]
        },
        {
          "output_type": "stream",
          "name": "stderr",
          "text": [
            "\n"
          ]
        },
        {
          "output_type": "stream",
          "name": "stdout",
          "text": [
            "2023-04-21 15:48:27,591 ----------------------------------------------------------------------------------------------------\n",
            "2023-04-21 15:48:29,678 epoch 18 - iter 2/24 - loss 0.24078648 - time (sec): 2.09 - samples/sec: 3729.16 - lr: 0.000005\n",
            "2023-04-21 15:48:31,835 epoch 18 - iter 4/24 - loss 0.25297416 - time (sec): 4.24 - samples/sec: 3931.42 - lr: 0.000005\n",
            "2023-04-21 15:48:33,932 epoch 18 - iter 6/24 - loss 0.25773353 - time (sec): 6.34 - samples/sec: 3848.91 - lr: 0.000005\n",
            "2023-04-21 15:48:36,098 epoch 18 - iter 8/24 - loss 0.26060265 - time (sec): 8.51 - samples/sec: 3817.97 - lr: 0.000005\n",
            "2023-04-21 15:48:38,155 epoch 18 - iter 10/24 - loss 0.26248995 - time (sec): 10.56 - samples/sec: 3738.43 - lr: 0.000005\n",
            "2023-04-21 15:48:40,327 epoch 18 - iter 12/24 - loss 0.25423067 - time (sec): 12.73 - samples/sec: 3696.44 - lr: 0.000005\n",
            "2023-04-21 15:48:42,482 epoch 18 - iter 14/24 - loss 0.25344754 - time (sec): 14.89 - samples/sec: 3819.34 - lr: 0.000005\n",
            "2023-04-21 15:48:44,910 epoch 18 - iter 16/24 - loss 0.26941009 - time (sec): 17.32 - samples/sec: 3749.51 - lr: 0.000005\n",
            "2023-04-21 15:48:47,041 epoch 18 - iter 18/24 - loss 0.26728718 - time (sec): 19.45 - samples/sec: 3730.64 - lr: 0.000005\n",
            "2023-04-21 15:48:49,126 epoch 18 - iter 20/24 - loss 0.26621278 - time (sec): 21.53 - samples/sec: 3704.15 - lr: 0.000005\n",
            "2023-04-21 15:48:51,504 epoch 18 - iter 22/24 - loss 0.27029042 - time (sec): 23.91 - samples/sec: 3677.84 - lr: 0.000005\n",
            "2023-04-21 15:48:53,260 epoch 18 - iter 24/24 - loss 0.26935372 - time (sec): 25.67 - samples/sec: 3692.20 - lr: 0.000005\n",
            "2023-04-21 15:48:53,263 ----------------------------------------------------------------------------------------------------\n",
            "2023-04-21 15:48:53,265 EPOCH 18 done: loss 0.2694 - lr 0.000005\n"
          ]
        },
        {
          "output_type": "stream",
          "name": "stderr",
          "text": [
            "100%|██████████| 24/24 [00:10<00:00,  2.37it/s]"
          ]
        },
        {
          "output_type": "stream",
          "name": "stdout",
          "text": [
            "2023-04-21 15:49:03,513 Evaluating as a multi-label problem: True\n"
          ]
        },
        {
          "output_type": "stream",
          "name": "stderr",
          "text": [
            "\n"
          ]
        },
        {
          "output_type": "stream",
          "name": "stdout",
          "text": [
            "2023-04-21 15:49:06,246 TRAIN : loss 0.23559676110744476 - f1-score (weighted avg)  0.6942\n"
          ]
        },
        {
          "output_type": "stream",
          "name": "stderr",
          "text": [
            "100%|██████████| 3/3 [00:02<00:00,  1.23it/s]"
          ]
        },
        {
          "output_type": "stream",
          "name": "stdout",
          "text": [
            "2023-04-21 15:49:08,840 Evaluating as a multi-label problem: False\n",
            "2023-04-21 15:49:08,910 DEV : loss 0.3216804563999176 - f1-score (weighted avg)  0.5994\n",
            "2023-04-21 15:49:08,930 BAD EPOCHS (no improvement): 1\n",
            "2023-04-21 15:49:08,934 ----------------------------------------------------------------------------------------------------\n"
          ]
        },
        {
          "output_type": "stream",
          "name": "stderr",
          "text": [
            "\n"
          ]
        },
        {
          "output_type": "stream",
          "name": "stdout",
          "text": [
            "2023-04-21 15:49:11,221 epoch 19 - iter 2/24 - loss 0.29992598 - time (sec): 2.28 - samples/sec: 3864.83 - lr: 0.000005\n",
            "2023-04-21 15:49:13,615 epoch 19 - iter 4/24 - loss 0.32281963 - time (sec): 4.68 - samples/sec: 3735.00 - lr: 0.000005\n",
            "2023-04-21 15:49:15,776 epoch 19 - iter 6/24 - loss 0.30093526 - time (sec): 6.84 - samples/sec: 3779.08 - lr: 0.000005\n",
            "2023-04-21 15:49:17,852 epoch 19 - iter 8/24 - loss 0.29720034 - time (sec): 8.92 - samples/sec: 3738.54 - lr: 0.000005\n",
            "2023-04-21 15:49:19,967 epoch 19 - iter 10/24 - loss 0.28759366 - time (sec): 11.03 - samples/sec: 3770.28 - lr: 0.000005\n",
            "2023-04-21 15:49:22,060 epoch 19 - iter 12/24 - loss 0.27683938 - time (sec): 13.12 - samples/sec: 3795.84 - lr: 0.000005\n",
            "2023-04-21 15:49:24,102 epoch 19 - iter 14/24 - loss 0.27341977 - time (sec): 15.17 - samples/sec: 3723.58 - lr: 0.000005\n",
            "2023-04-21 15:49:26,162 epoch 19 - iter 16/24 - loss 0.26716858 - time (sec): 17.23 - samples/sec: 3690.46 - lr: 0.000005\n",
            "2023-04-21 15:49:28,226 epoch 19 - iter 18/24 - loss 0.26700953 - time (sec): 19.29 - samples/sec: 3723.97 - lr: 0.000005\n",
            "2023-04-21 15:49:30,296 epoch 19 - iter 20/24 - loss 0.26608179 - time (sec): 21.36 - samples/sec: 3763.71 - lr: 0.000005\n",
            "2023-04-21 15:49:32,396 epoch 19 - iter 22/24 - loss 0.26323239 - time (sec): 23.46 - samples/sec: 3762.29 - lr: 0.000005\n",
            "2023-04-21 15:49:34,180 epoch 19 - iter 24/24 - loss 0.26055762 - time (sec): 25.24 - samples/sec: 3754.18 - lr: 0.000005\n",
            "2023-04-21 15:49:34,183 ----------------------------------------------------------------------------------------------------\n",
            "2023-04-21 15:49:34,185 EPOCH 19 done: loss 0.2606 - lr 0.000005\n"
          ]
        },
        {
          "output_type": "stream",
          "name": "stderr",
          "text": [
            "100%|██████████| 24/24 [00:10<00:00,  2.38it/s]"
          ]
        },
        {
          "output_type": "stream",
          "name": "stdout",
          "text": [
            "2023-04-21 15:49:44,415 Evaluating as a multi-label problem: True\n"
          ]
        },
        {
          "output_type": "stream",
          "name": "stderr",
          "text": [
            "\n"
          ]
        },
        {
          "output_type": "stream",
          "name": "stdout",
          "text": [
            "2023-04-21 15:49:48,329 TRAIN : loss 0.22641754150390625 - f1-score (weighted avg)  0.7025\n"
          ]
        },
        {
          "output_type": "stream",
          "name": "stderr",
          "text": [
            "100%|██████████| 3/3 [00:01<00:00,  2.16it/s]"
          ]
        },
        {
          "output_type": "stream",
          "name": "stdout",
          "text": [
            "2023-04-21 15:49:49,873 Evaluating as a multi-label problem: False\n",
            "2023-04-21 15:49:49,941 DEV : loss 0.31879130005836487 - f1-score (weighted avg)  0.6001\n",
            "2023-04-21 15:49:49,961 BAD EPOCHS (no improvement): 0\n",
            "2023-04-21 15:49:49,965 saving best model\n"
          ]
        },
        {
          "output_type": "stream",
          "name": "stderr",
          "text": [
            "\n"
          ]
        },
        {
          "output_type": "stream",
          "name": "stdout",
          "text": [
            "2023-04-21 15:49:53,214 ----------------------------------------------------------------------------------------------------\n",
            "2023-04-21 15:49:55,620 epoch 20 - iter 2/24 - loss 0.37770778 - time (sec): 2.40 - samples/sec: 3815.50 - lr: 0.000005\n",
            "2023-04-21 15:49:57,762 epoch 20 - iter 4/24 - loss 0.32496353 - time (sec): 4.55 - samples/sec: 3684.95 - lr: 0.000005\n",
            "2023-04-21 15:49:59,890 epoch 20 - iter 6/24 - loss 0.29518814 - time (sec): 6.67 - samples/sec: 3777.62 - lr: 0.000005\n",
            "2023-04-21 15:50:01,954 epoch 20 - iter 8/24 - loss 0.27437170 - time (sec): 8.74 - samples/sec: 3768.57 - lr: 0.000005\n",
            "2023-04-21 15:50:04,024 epoch 20 - iter 10/24 - loss 0.26955177 - time (sec): 10.81 - samples/sec: 3761.97 - lr: 0.000005\n",
            "2023-04-21 15:50:06,117 epoch 20 - iter 12/24 - loss 0.26085836 - time (sec): 12.90 - samples/sec: 3831.05 - lr: 0.000005\n",
            "2023-04-21 15:50:08,382 epoch 20 - iter 14/24 - loss 0.26451328 - time (sec): 15.17 - samples/sec: 3774.46 - lr: 0.000005\n",
            "2023-04-21 15:50:10,481 epoch 20 - iter 16/24 - loss 0.26058308 - time (sec): 17.27 - samples/sec: 3816.60 - lr: 0.000005\n",
            "2023-04-21 15:50:12,607 epoch 20 - iter 18/24 - loss 0.25915641 - time (sec): 19.39 - samples/sec: 3797.97 - lr: 0.000005\n",
            "2023-04-21 15:50:14,660 epoch 20 - iter 20/24 - loss 0.25299236 - time (sec): 21.44 - samples/sec: 3751.76 - lr: 0.000005\n",
            "2023-04-21 15:50:16,852 epoch 20 - iter 22/24 - loss 0.25065174 - time (sec): 23.64 - samples/sec: 3727.02 - lr: 0.000005\n",
            "2023-04-21 15:50:18,639 epoch 20 - iter 24/24 - loss 0.25344995 - time (sec): 25.42 - samples/sec: 3727.74 - lr: 0.000005\n",
            "2023-04-21 15:50:18,642 ----------------------------------------------------------------------------------------------------\n",
            "2023-04-21 15:50:18,643 EPOCH 20 done: loss 0.2534 - lr 0.000005\n"
          ]
        },
        {
          "output_type": "stream",
          "name": "stderr",
          "text": [
            "100%|██████████| 24/24 [00:10<00:00,  2.38it/s]"
          ]
        },
        {
          "output_type": "stream",
          "name": "stdout",
          "text": [
            "2023-04-21 15:50:28,884 Evaluating as a multi-label problem: True\n"
          ]
        },
        {
          "output_type": "stream",
          "name": "stderr",
          "text": [
            "\n"
          ]
        },
        {
          "output_type": "stream",
          "name": "stdout",
          "text": [
            "2023-04-21 15:50:32,812 TRAIN : loss 0.21763019263744354 - f1-score (weighted avg)  0.7081\n"
          ]
        },
        {
          "output_type": "stream",
          "name": "stderr",
          "text": [
            "100%|██████████| 3/3 [00:01<00:00,  2.17it/s]"
          ]
        },
        {
          "output_type": "stream",
          "name": "stdout",
          "text": [
            "2023-04-21 15:50:34,351 Evaluating as a multi-label problem: False\n",
            "2023-04-21 15:50:34,420 DEV : loss 0.3162033259868622 - f1-score (weighted avg)  0.6019\n",
            "2023-04-21 15:50:34,440 BAD EPOCHS (no improvement): 0\n",
            "2023-04-21 15:50:34,444 saving best model\n"
          ]
        },
        {
          "output_type": "stream",
          "name": "stderr",
          "text": [
            "\n"
          ]
        },
        {
          "output_type": "stream",
          "name": "stdout",
          "text": [
            "2023-04-21 15:50:37,593 ----------------------------------------------------------------------------------------------------\n",
            "2023-04-21 15:50:39,807 epoch 21 - iter 2/24 - loss 0.25141486 - time (sec): 2.21 - samples/sec: 3667.27 - lr: 0.000005\n",
            "2023-04-21 15:50:41,921 epoch 21 - iter 4/24 - loss 0.24031155 - time (sec): 4.33 - samples/sec: 3655.23 - lr: 0.000005\n",
            "2023-04-21 15:50:43,983 epoch 21 - iter 6/24 - loss 0.24015089 - time (sec): 6.39 - samples/sec: 3659.17 - lr: 0.000005\n",
            "2023-04-21 15:50:46,124 epoch 21 - iter 8/24 - loss 0.21866412 - time (sec): 8.53 - samples/sec: 3802.26 - lr: 0.000005\n",
            "2023-04-21 15:50:48,232 epoch 21 - iter 10/24 - loss 0.21726374 - time (sec): 10.64 - samples/sec: 3664.07 - lr: 0.000005\n",
            "2023-04-21 15:50:50,306 epoch 21 - iter 12/24 - loss 0.21769687 - time (sec): 12.71 - samples/sec: 3724.92 - lr: 0.000005\n",
            "2023-04-21 15:50:52,386 epoch 21 - iter 14/24 - loss 0.22276040 - time (sec): 14.79 - samples/sec: 3730.83 - lr: 0.000005\n",
            "2023-04-21 15:50:54,460 epoch 21 - iter 16/24 - loss 0.22812628 - time (sec): 16.86 - samples/sec: 3703.39 - lr: 0.000005\n",
            "2023-04-21 15:50:56,915 epoch 21 - iter 18/24 - loss 0.24782771 - time (sec): 19.32 - samples/sec: 3708.40 - lr: 0.000005\n",
            "2023-04-21 15:50:59,032 epoch 21 - iter 20/24 - loss 0.24626730 - time (sec): 21.44 - samples/sec: 3713.23 - lr: 0.000005\n",
            "2023-04-21 15:51:01,160 epoch 21 - iter 22/24 - loss 0.24404752 - time (sec): 23.56 - samples/sec: 3760.25 - lr: 0.000005\n",
            "2023-04-21 15:51:02,925 epoch 21 - iter 24/24 - loss 0.24468508 - time (sec): 25.33 - samples/sec: 3741.44 - lr: 0.000005\n",
            "2023-04-21 15:51:02,928 ----------------------------------------------------------------------------------------------------\n",
            "2023-04-21 15:51:02,930 EPOCH 21 done: loss 0.2447 - lr 0.000005\n"
          ]
        },
        {
          "output_type": "stream",
          "name": "stderr",
          "text": [
            "100%|██████████| 24/24 [00:10<00:00,  2.36it/s]"
          ]
        },
        {
          "output_type": "stream",
          "name": "stdout",
          "text": [
            "2023-04-21 15:51:13,219 Evaluating as a multi-label problem: True\n"
          ]
        },
        {
          "output_type": "stream",
          "name": "stderr",
          "text": [
            "\n"
          ]
        },
        {
          "output_type": "stream",
          "name": "stdout",
          "text": [
            "2023-04-21 15:51:17,103 TRAIN : loss 0.20984892547130585 - f1-score (weighted avg)  0.7147\n"
          ]
        },
        {
          "output_type": "stream",
          "name": "stderr",
          "text": [
            "100%|██████████| 3/3 [00:01<00:00,  2.17it/s]"
          ]
        },
        {
          "output_type": "stream",
          "name": "stdout",
          "text": [
            "2023-04-21 15:51:18,640 Evaluating as a multi-label problem: False\n",
            "2023-04-21 15:51:18,707 DEV : loss 0.3135586977005005 - f1-score (weighted avg)  0.6004\n",
            "2023-04-21 15:51:18,726 BAD EPOCHS (no improvement): 0\n",
            "2023-04-21 15:51:18,730 saving best model\n"
          ]
        },
        {
          "output_type": "stream",
          "name": "stderr",
          "text": [
            "\n"
          ]
        },
        {
          "output_type": "stream",
          "name": "stdout",
          "text": [
            "2023-04-21 15:51:21,880 ----------------------------------------------------------------------------------------------------\n",
            "2023-04-21 15:51:24,062 epoch 22 - iter 2/24 - loss 0.20882197 - time (sec): 2.18 - samples/sec: 3722.36 - lr: 0.000005\n",
            "2023-04-21 15:51:26,148 epoch 22 - iter 4/24 - loss 0.21356412 - time (sec): 4.27 - samples/sec: 3625.94 - lr: 0.000005\n",
            "2023-04-21 15:51:28,218 epoch 22 - iter 6/24 - loss 0.21296943 - time (sec): 6.34 - samples/sec: 3560.87 - lr: 0.000005\n",
            "2023-04-21 15:51:30,357 epoch 22 - iter 8/24 - loss 0.21603617 - time (sec): 8.48 - samples/sec: 3690.28 - lr: 0.000005\n",
            "2023-04-21 15:51:32,438 epoch 22 - iter 10/24 - loss 0.21485725 - time (sec): 10.56 - samples/sec: 3658.16 - lr: 0.000005\n",
            "2023-04-21 15:51:34,625 epoch 22 - iter 12/24 - loss 0.21857806 - time (sec): 12.74 - samples/sec: 3682.37 - lr: 0.000005\n",
            "2023-04-21 15:51:36,857 epoch 22 - iter 14/24 - loss 0.23073366 - time (sec): 14.98 - samples/sec: 3609.83 - lr: 0.000005\n",
            "2023-04-21 15:51:39,253 epoch 22 - iter 16/24 - loss 0.24271116 - time (sec): 17.37 - samples/sec: 3595.32 - lr: 0.000005\n",
            "2023-04-21 15:51:41,414 epoch 22 - iter 18/24 - loss 0.24165599 - time (sec): 19.53 - samples/sec: 3659.29 - lr: 0.000005\n",
            "2023-04-21 15:51:43,571 epoch 22 - iter 20/24 - loss 0.23780941 - time (sec): 21.69 - samples/sec: 3636.13 - lr: 0.000005\n",
            "2023-04-21 15:51:45,648 epoch 22 - iter 22/24 - loss 0.23580988 - time (sec): 23.77 - samples/sec: 3638.07 - lr: 0.000005\n",
            "2023-04-21 15:51:47,427 epoch 22 - iter 24/24 - loss 0.23865571 - time (sec): 25.54 - samples/sec: 3709.97 - lr: 0.000005\n",
            "2023-04-21 15:51:47,429 ----------------------------------------------------------------------------------------------------\n",
            "2023-04-21 15:51:47,431 EPOCH 22 done: loss 0.2387 - lr 0.000005\n"
          ]
        },
        {
          "output_type": "stream",
          "name": "stderr",
          "text": [
            "100%|██████████| 24/24 [00:10<00:00,  2.37it/s]"
          ]
        },
        {
          "output_type": "stream",
          "name": "stdout",
          "text": [
            "2023-04-21 15:51:57,697 Evaluating as a multi-label problem: True\n"
          ]
        },
        {
          "output_type": "stream",
          "name": "stderr",
          "text": [
            "\n"
          ]
        },
        {
          "output_type": "stream",
          "name": "stdout",
          "text": [
            "2023-04-21 15:52:01,598 TRAIN : loss 0.2034568041563034 - f1-score (weighted avg)  0.7202\n"
          ]
        },
        {
          "output_type": "stream",
          "name": "stderr",
          "text": [
            "100%|██████████| 3/3 [00:01<00:00,  2.16it/s]"
          ]
        },
        {
          "output_type": "stream",
          "name": "stdout",
          "text": [
            "2023-04-21 15:52:03,144 Evaluating as a multi-label problem: False\n",
            "2023-04-21 15:52:03,214 DEV : loss 0.31257274746894836 - f1-score (weighted avg)  0.6078\n",
            "2023-04-21 15:52:03,234 BAD EPOCHS (no improvement): 0\n",
            "2023-04-21 15:52:03,238 saving best model\n"
          ]
        },
        {
          "output_type": "stream",
          "name": "stderr",
          "text": [
            "\n"
          ]
        },
        {
          "output_type": "stream",
          "name": "stdout",
          "text": [
            "2023-04-21 15:52:06,501 ----------------------------------------------------------------------------------------------------\n",
            "2023-04-21 15:52:08,624 epoch 23 - iter 2/24 - loss 0.21254160 - time (sec): 2.12 - samples/sec: 4152.88 - lr: 0.000005\n",
            "2023-04-21 15:52:10,662 epoch 23 - iter 4/24 - loss 0.22279024 - time (sec): 4.16 - samples/sec: 3785.08 - lr: 0.000005\n",
            "2023-04-21 15:52:12,826 epoch 23 - iter 6/24 - loss 0.21914667 - time (sec): 6.32 - samples/sec: 3850.24 - lr: 0.000005\n",
            "2023-04-21 15:52:15,173 epoch 23 - iter 8/24 - loss 0.24563577 - time (sec): 8.67 - samples/sec: 3826.40 - lr: 0.000005\n",
            "2023-04-21 15:52:17,343 epoch 23 - iter 10/24 - loss 0.23959564 - time (sec): 10.84 - samples/sec: 3905.97 - lr: 0.000005\n",
            "2023-04-21 15:52:19,458 epoch 23 - iter 12/24 - loss 0.23856147 - time (sec): 12.95 - samples/sec: 3891.34 - lr: 0.000005\n",
            "2023-04-21 15:52:21,526 epoch 23 - iter 14/24 - loss 0.23789525 - time (sec): 15.02 - samples/sec: 3841.12 - lr: 0.000005\n",
            "2023-04-21 15:52:23,672 epoch 23 - iter 16/24 - loss 0.23785607 - time (sec): 17.17 - samples/sec: 3786.74 - lr: 0.000005\n",
            "2023-04-21 15:52:25,928 epoch 23 - iter 18/24 - loss 0.23909093 - time (sec): 19.42 - samples/sec: 3809.24 - lr: 0.000005\n",
            "2023-04-21 15:52:28,074 epoch 23 - iter 20/24 - loss 0.23459412 - time (sec): 21.57 - samples/sec: 3780.26 - lr: 0.000005\n",
            "2023-04-21 15:52:30,129 epoch 23 - iter 22/24 - loss 0.23518800 - time (sec): 23.62 - samples/sec: 3759.62 - lr: 0.000005\n",
            "2023-04-21 15:52:31,891 epoch 23 - iter 24/24 - loss 0.23408513 - time (sec): 25.39 - samples/sec: 3732.98 - lr: 0.000005\n",
            "2023-04-21 15:52:31,895 ----------------------------------------------------------------------------------------------------\n",
            "2023-04-21 15:52:31,896 EPOCH 23 done: loss 0.2341 - lr 0.000005\n"
          ]
        },
        {
          "output_type": "stream",
          "name": "stderr",
          "text": [
            "100%|██████████| 24/24 [00:10<00:00,  2.38it/s]"
          ]
        },
        {
          "output_type": "stream",
          "name": "stdout",
          "text": [
            "2023-04-21 15:52:42,124 Evaluating as a multi-label problem: True\n"
          ]
        },
        {
          "output_type": "stream",
          "name": "stderr",
          "text": [
            "\n"
          ]
        },
        {
          "output_type": "stream",
          "name": "stdout",
          "text": [
            "2023-04-21 15:52:46,041 TRAIN : loss 0.19563889503479004 - f1-score (weighted avg)  0.7261\n"
          ]
        },
        {
          "output_type": "stream",
          "name": "stderr",
          "text": [
            "100%|██████████| 3/3 [00:01<00:00,  2.20it/s]"
          ]
        },
        {
          "output_type": "stream",
          "name": "stdout",
          "text": [
            "2023-04-21 15:52:47,560 Evaluating as a multi-label problem: False\n",
            "2023-04-21 15:52:47,629 DEV : loss 0.3107152581214905 - f1-score (weighted avg)  0.6045\n",
            "2023-04-21 15:52:47,650 BAD EPOCHS (no improvement): 0\n",
            "2023-04-21 15:52:47,654 saving best model\n"
          ]
        },
        {
          "output_type": "stream",
          "name": "stderr",
          "text": [
            "\n"
          ]
        },
        {
          "output_type": "stream",
          "name": "stdout",
          "text": [
            "2023-04-21 15:52:50,859 ----------------------------------------------------------------------------------------------------\n",
            "2023-04-21 15:52:53,096 epoch 24 - iter 2/24 - loss 0.23457423 - time (sec): 2.23 - samples/sec: 4176.14 - lr: 0.000005\n",
            "2023-04-21 15:52:55,161 epoch 24 - iter 4/24 - loss 0.20945501 - time (sec): 4.30 - samples/sec: 4241.80 - lr: 0.000005\n",
            "2023-04-21 15:52:57,475 epoch 24 - iter 6/24 - loss 0.26158552 - time (sec): 6.61 - samples/sec: 3904.04 - lr: 0.000005\n",
            "2023-04-21 15:52:59,594 epoch 24 - iter 8/24 - loss 0.25957228 - time (sec): 8.73 - samples/sec: 3878.96 - lr: 0.000005\n",
            "2023-04-21 15:53:01,648 epoch 24 - iter 10/24 - loss 0.25207452 - time (sec): 10.79 - samples/sec: 3837.27 - lr: 0.000005\n",
            "2023-04-21 15:53:03,732 epoch 24 - iter 12/24 - loss 0.24212287 - time (sec): 12.87 - samples/sec: 3808.14 - lr: 0.000005\n",
            "2023-04-21 15:53:05,838 epoch 24 - iter 14/24 - loss 0.24057923 - time (sec): 14.98 - samples/sec: 3762.29 - lr: 0.000005\n",
            "2023-04-21 15:53:07,970 epoch 24 - iter 16/24 - loss 0.23617743 - time (sec): 17.11 - samples/sec: 3790.94 - lr: 0.000005\n",
            "2023-04-21 15:53:10,211 epoch 24 - iter 18/24 - loss 0.23528651 - time (sec): 19.35 - samples/sec: 3779.93 - lr: 0.000005\n",
            "2023-04-21 15:53:12,311 epoch 24 - iter 20/24 - loss 0.23158548 - time (sec): 21.45 - samples/sec: 3740.28 - lr: 0.000005\n",
            "2023-04-21 15:53:14,369 epoch 24 - iter 22/24 - loss 0.22849227 - time (sec): 23.51 - samples/sec: 3743.68 - lr: 0.000005\n",
            "2023-04-21 15:53:16,129 epoch 24 - iter 24/24 - loss 0.22784453 - time (sec): 25.27 - samples/sec: 3750.55 - lr: 0.000005\n",
            "2023-04-21 15:53:16,132 ----------------------------------------------------------------------------------------------------\n",
            "2023-04-21 15:53:16,134 EPOCH 24 done: loss 0.2278 - lr 0.000005\n"
          ]
        },
        {
          "output_type": "stream",
          "name": "stderr",
          "text": [
            "100%|██████████| 24/24 [00:10<00:00,  2.36it/s]"
          ]
        },
        {
          "output_type": "stream",
          "name": "stdout",
          "text": [
            "2023-04-21 15:53:26,422 Evaluating as a multi-label problem: True\n"
          ]
        },
        {
          "output_type": "stream",
          "name": "stderr",
          "text": [
            "\n"
          ]
        },
        {
          "output_type": "stream",
          "name": "stdout",
          "text": [
            "2023-04-21 15:53:30,368 TRAIN : loss 0.190591961145401 - f1-score (weighted avg)  0.7308\n"
          ]
        },
        {
          "output_type": "stream",
          "name": "stderr",
          "text": [
            "100%|██████████| 3/3 [00:01<00:00,  2.19it/s]"
          ]
        },
        {
          "output_type": "stream",
          "name": "stdout",
          "text": [
            "2023-04-21 15:53:31,893 Evaluating as a multi-label problem: False\n",
            "2023-04-21 15:53:31,963 DEV : loss 0.31405124068260193 - f1-score (weighted avg)  0.6067\n",
            "2023-04-21 15:53:31,983 BAD EPOCHS (no improvement): 1\n",
            "2023-04-21 15:53:31,987 ----------------------------------------------------------------------------------------------------\n"
          ]
        },
        {
          "output_type": "stream",
          "name": "stderr",
          "text": [
            "\n"
          ]
        },
        {
          "output_type": "stream",
          "name": "stdout",
          "text": [
            "2023-04-21 15:53:34,106 epoch 25 - iter 2/24 - loss 0.19354190 - time (sec): 2.12 - samples/sec: 3685.32 - lr: 0.000005\n",
            "2023-04-21 15:53:36,278 epoch 25 - iter 4/24 - loss 0.21263504 - time (sec): 4.29 - samples/sec: 3864.98 - lr: 0.000005\n",
            "2023-04-21 15:53:38,385 epoch 25 - iter 6/24 - loss 0.20837598 - time (sec): 6.40 - samples/sec: 3749.35 - lr: 0.000005\n",
            "2023-04-21 15:53:40,499 epoch 25 - iter 8/24 - loss 0.19858419 - time (sec): 8.51 - samples/sec: 3715.94 - lr: 0.000005\n",
            "2023-04-21 15:53:42,535 epoch 25 - iter 10/24 - loss 0.20632934 - time (sec): 10.55 - samples/sec: 3622.74 - lr: 0.000005\n",
            "2023-04-21 15:53:44,796 epoch 25 - iter 12/24 - loss 0.21124519 - time (sec): 12.81 - samples/sec: 3636.58 - lr: 0.000005\n",
            "2023-04-21 15:53:46,842 epoch 25 - iter 14/24 - loss 0.20914406 - time (sec): 14.85 - samples/sec: 3664.11 - lr: 0.000005\n",
            "2023-04-21 15:53:48,912 epoch 25 - iter 16/24 - loss 0.21371981 - time (sec): 16.92 - samples/sec: 3669.21 - lr: 0.000005\n",
            "2023-04-21 15:53:50,991 epoch 25 - iter 18/24 - loss 0.21396797 - time (sec): 19.00 - samples/sec: 3694.60 - lr: 0.000005\n",
            "2023-04-21 15:53:53,061 epoch 25 - iter 20/24 - loss 0.21232485 - time (sec): 21.07 - samples/sec: 3738.53 - lr: 0.000005\n",
            "2023-04-21 15:53:55,109 epoch 25 - iter 22/24 - loss 0.21155571 - time (sec): 23.12 - samples/sec: 3748.68 - lr: 0.000005\n",
            "2023-04-21 15:53:57,131 epoch 25 - iter 24/24 - loss 0.21983280 - time (sec): 25.14 - samples/sec: 3769.36 - lr: 0.000005\n",
            "2023-04-21 15:53:57,134 ----------------------------------------------------------------------------------------------------\n",
            "2023-04-21 15:53:57,135 EPOCH 25 done: loss 0.2198 - lr 0.000005\n"
          ]
        },
        {
          "output_type": "stream",
          "name": "stderr",
          "text": [
            "100%|██████████| 24/24 [00:10<00:00,  2.36it/s]"
          ]
        },
        {
          "output_type": "stream",
          "name": "stdout",
          "text": [
            "2023-04-21 15:54:07,421 Evaluating as a multi-label problem: True\n"
          ]
        },
        {
          "output_type": "stream",
          "name": "stderr",
          "text": [
            "\n"
          ]
        },
        {
          "output_type": "stream",
          "name": "stdout",
          "text": [
            "2023-04-21 15:54:11,373 TRAIN : loss 0.18450091779232025 - f1-score (weighted avg)  0.7369\n"
          ]
        },
        {
          "output_type": "stream",
          "name": "stderr",
          "text": [
            "100%|██████████| 3/3 [00:01<00:00,  2.17it/s]"
          ]
        },
        {
          "output_type": "stream",
          "name": "stdout",
          "text": [
            "2023-04-21 15:54:12,915 Evaluating as a multi-label problem: False\n",
            "2023-04-21 15:54:12,984 DEV : loss 0.31447380781173706 - f1-score (weighted avg)  0.6055\n",
            "2023-04-21 15:54:13,004 Epoch    25: reducing learning rate of group 0 to 4.0000e-06.\n",
            "2023-04-21 15:54:13,007 BAD EPOCHS (no improvement): 2\n",
            "2023-04-21 15:54:13,010 ----------------------------------------------------------------------------------------------------\n"
          ]
        },
        {
          "output_type": "stream",
          "name": "stderr",
          "text": [
            "\n"
          ]
        },
        {
          "output_type": "stream",
          "name": "stdout",
          "text": [
            "2023-04-21 15:54:15,089 epoch 26 - iter 2/24 - loss 0.17129853 - time (sec): 2.08 - samples/sec: 4117.20 - lr: 0.000004\n",
            "2023-04-21 15:54:17,180 epoch 26 - iter 4/24 - loss 0.18614928 - time (sec): 4.17 - samples/sec: 3910.76 - lr: 0.000004\n",
            "2023-04-21 15:54:19,599 epoch 26 - iter 6/24 - loss 0.23496939 - time (sec): 6.59 - samples/sec: 3769.39 - lr: 0.000004\n",
            "2023-04-21 15:54:21,644 epoch 26 - iter 8/24 - loss 0.22412022 - time (sec): 8.63 - samples/sec: 3797.27 - lr: 0.000004\n",
            "2023-04-21 15:54:23,924 epoch 26 - iter 10/24 - loss 0.22863495 - time (sec): 10.91 - samples/sec: 3787.65 - lr: 0.000004\n",
            "2023-04-21 15:54:25,977 epoch 26 - iter 12/24 - loss 0.22003693 - time (sec): 12.97 - samples/sec: 3764.69 - lr: 0.000004\n",
            "2023-04-21 15:54:28,117 epoch 26 - iter 14/24 - loss 0.21368785 - time (sec): 15.10 - samples/sec: 3765.38 - lr: 0.000004\n",
            "2023-04-21 15:54:30,277 epoch 26 - iter 16/24 - loss 0.21115526 - time (sec): 17.26 - samples/sec: 3739.97 - lr: 0.000004\n",
            "2023-04-21 15:54:32,332 epoch 26 - iter 18/24 - loss 0.21504276 - time (sec): 19.32 - samples/sec: 3734.42 - lr: 0.000004\n",
            "2023-04-21 15:54:34,536 epoch 26 - iter 20/24 - loss 0.21502674 - time (sec): 21.52 - samples/sec: 3725.22 - lr: 0.000004\n",
            "2023-04-21 15:54:36,606 epoch 26 - iter 22/24 - loss 0.21656705 - time (sec): 23.59 - samples/sec: 3721.14 - lr: 0.000004\n",
            "2023-04-21 15:54:38,382 epoch 26 - iter 24/24 - loss 0.21370982 - time (sec): 25.37 - samples/sec: 3735.57 - lr: 0.000004\n",
            "2023-04-21 15:54:38,385 ----------------------------------------------------------------------------------------------------\n",
            "2023-04-21 15:54:38,387 EPOCH 26 done: loss 0.2137 - lr 0.000004\n"
          ]
        },
        {
          "output_type": "stream",
          "name": "stderr",
          "text": [
            "100%|██████████| 24/24 [00:10<00:00,  2.37it/s]"
          ]
        },
        {
          "output_type": "stream",
          "name": "stdout",
          "text": [
            "2023-04-21 15:54:48,648 Evaluating as a multi-label problem: True\n"
          ]
        },
        {
          "output_type": "stream",
          "name": "stderr",
          "text": [
            "\n"
          ]
        },
        {
          "output_type": "stream",
          "name": "stdout",
          "text": [
            "2023-04-21 15:54:51,381 TRAIN : loss 0.1834673285484314 - f1-score (weighted avg)  0.7382\n"
          ]
        },
        {
          "output_type": "stream",
          "name": "stderr",
          "text": [
            "100%|██████████| 3/3 [00:02<00:00,  1.22it/s]"
          ]
        },
        {
          "output_type": "stream",
          "name": "stdout",
          "text": [
            "2023-04-21 15:54:53,990 Evaluating as a multi-label problem: False\n",
            "2023-04-21 15:54:54,061 DEV : loss 0.3155559003353119 - f1-score (weighted avg)  0.6062\n",
            "2023-04-21 15:54:54,082 BAD EPOCHS (no improvement): 1\n",
            "2023-04-21 15:54:54,087 ----------------------------------------------------------------------------------------------------\n"
          ]
        },
        {
          "output_type": "stream",
          "name": "stderr",
          "text": [
            "\n"
          ]
        },
        {
          "output_type": "stream",
          "name": "stdout",
          "text": [
            "2023-04-21 15:54:56,320 epoch 27 - iter 2/24 - loss 0.23308758 - time (sec): 2.23 - samples/sec: 3578.96 - lr: 0.000004\n",
            "2023-04-21 15:54:58,438 epoch 27 - iter 4/24 - loss 0.22632490 - time (sec): 4.35 - samples/sec: 3956.46 - lr: 0.000004\n",
            "2023-04-21 15:55:00,499 epoch 27 - iter 6/24 - loss 0.21346358 - time (sec): 6.41 - samples/sec: 3964.77 - lr: 0.000004\n",
            "2023-04-21 15:55:02,537 epoch 27 - iter 8/24 - loss 0.21405655 - time (sec): 8.45 - samples/sec: 3906.63 - lr: 0.000004\n",
            "2023-04-21 15:55:04,573 epoch 27 - iter 10/24 - loss 0.20919395 - time (sec): 10.48 - samples/sec: 3806.24 - lr: 0.000004\n",
            "2023-04-21 15:55:06,686 epoch 27 - iter 12/24 - loss 0.20778986 - time (sec): 12.60 - samples/sec: 3778.50 - lr: 0.000004\n",
            "2023-04-21 15:55:08,814 epoch 27 - iter 14/24 - loss 0.21042734 - time (sec): 14.73 - samples/sec: 3801.99 - lr: 0.000004\n",
            "2023-04-21 15:55:10,987 epoch 27 - iter 16/24 - loss 0.21192893 - time (sec): 16.90 - samples/sec: 3770.05 - lr: 0.000004\n",
            "2023-04-21 15:55:13,022 epoch 27 - iter 18/24 - loss 0.20668209 - time (sec): 18.93 - samples/sec: 3740.80 - lr: 0.000004\n",
            "2023-04-21 15:55:15,139 epoch 27 - iter 20/24 - loss 0.20494685 - time (sec): 21.05 - samples/sec: 3729.27 - lr: 0.000004\n",
            "2023-04-21 15:55:17,277 epoch 27 - iter 22/24 - loss 0.20091484 - time (sec): 23.19 - samples/sec: 3744.08 - lr: 0.000004\n",
            "2023-04-21 15:55:19,369 epoch 27 - iter 24/24 - loss 0.21054642 - time (sec): 25.28 - samples/sec: 3748.72 - lr: 0.000004\n",
            "2023-04-21 15:55:19,372 ----------------------------------------------------------------------------------------------------\n",
            "2023-04-21 15:55:19,374 EPOCH 27 done: loss 0.2105 - lr 0.000004\n"
          ]
        },
        {
          "output_type": "stream",
          "name": "stderr",
          "text": [
            "100%|██████████| 24/24 [00:10<00:00,  2.36it/s]"
          ]
        },
        {
          "output_type": "stream",
          "name": "stdout",
          "text": [
            "2023-04-21 15:55:29,660 Evaluating as a multi-label problem: True\n"
          ]
        },
        {
          "output_type": "stream",
          "name": "stderr",
          "text": [
            "\n"
          ]
        },
        {
          "output_type": "stream",
          "name": "stdout",
          "text": [
            "2023-04-21 15:55:33,557 TRAIN : loss 0.1794329434633255 - f1-score (weighted avg)  0.7418\n"
          ]
        },
        {
          "output_type": "stream",
          "name": "stderr",
          "text": [
            "100%|██████████| 3/3 [00:01<00:00,  2.16it/s]"
          ]
        },
        {
          "output_type": "stream",
          "name": "stdout",
          "text": [
            "2023-04-21 15:55:35,103 Evaluating as a multi-label problem: False\n",
            "2023-04-21 15:55:35,175 DEV : loss 0.31355682015419006 - f1-score (weighted avg)  0.6111\n",
            "2023-04-21 15:55:35,195 Epoch    27: reducing learning rate of group 0 to 3.2000e-06.\n",
            "2023-04-21 15:55:35,197 BAD EPOCHS (no improvement): 2\n",
            "2023-04-21 15:55:35,201 ----------------------------------------------------------------------------------------------------\n"
          ]
        },
        {
          "output_type": "stream",
          "name": "stderr",
          "text": [
            "\n"
          ]
        },
        {
          "output_type": "stream",
          "name": "stdout",
          "text": [
            "2023-04-21 15:55:37,316 epoch 28 - iter 2/24 - loss 0.18932573 - time (sec): 2.11 - samples/sec: 3953.72 - lr: 0.000003\n",
            "2023-04-21 15:55:39,475 epoch 28 - iter 4/24 - loss 0.19658419 - time (sec): 4.27 - samples/sec: 3778.23 - lr: 0.000003\n",
            "2023-04-21 15:55:41,508 epoch 28 - iter 6/24 - loss 0.19675180 - time (sec): 6.31 - samples/sec: 3800.56 - lr: 0.000003\n",
            "2023-04-21 15:55:43,611 epoch 28 - iter 8/24 - loss 0.20473032 - time (sec): 8.41 - samples/sec: 3615.17 - lr: 0.000003\n",
            "2023-04-21 15:55:45,862 epoch 28 - iter 10/24 - loss 0.20906028 - time (sec): 10.66 - samples/sec: 3638.01 - lr: 0.000003\n",
            "2023-04-21 15:55:48,237 epoch 28 - iter 12/24 - loss 0.22554408 - time (sec): 13.03 - samples/sec: 3668.36 - lr: 0.000003\n",
            "2023-04-21 15:55:50,298 epoch 28 - iter 14/24 - loss 0.22021059 - time (sec): 15.10 - samples/sec: 3697.51 - lr: 0.000003\n",
            "2023-04-21 15:55:52,366 epoch 28 - iter 16/24 - loss 0.21529302 - time (sec): 17.16 - samples/sec: 3698.25 - lr: 0.000003\n",
            "2023-04-21 15:55:54,441 epoch 28 - iter 18/24 - loss 0.21385366 - time (sec): 19.24 - samples/sec: 3684.51 - lr: 0.000003\n",
            "2023-04-21 15:55:56,518 epoch 28 - iter 20/24 - loss 0.21047960 - time (sec): 21.32 - samples/sec: 3715.14 - lr: 0.000003\n",
            "2023-04-21 15:55:58,614 epoch 28 - iter 22/24 - loss 0.20915980 - time (sec): 23.41 - samples/sec: 3749.14 - lr: 0.000003\n",
            "2023-04-21 15:56:00,397 epoch 28 - iter 24/24 - loss 0.20735367 - time (sec): 25.19 - samples/sec: 3761.60 - lr: 0.000003\n",
            "2023-04-21 15:56:00,400 ----------------------------------------------------------------------------------------------------\n",
            "2023-04-21 15:56:00,401 EPOCH 28 done: loss 0.2074 - lr 0.000003\n"
          ]
        },
        {
          "output_type": "stream",
          "name": "stderr",
          "text": [
            "100%|██████████| 24/24 [00:10<00:00,  2.37it/s]"
          ]
        },
        {
          "output_type": "stream",
          "name": "stdout",
          "text": [
            "2023-04-21 15:56:10,670 Evaluating as a multi-label problem: True\n"
          ]
        },
        {
          "output_type": "stream",
          "name": "stderr",
          "text": [
            "\n"
          ]
        },
        {
          "output_type": "stream",
          "name": "stdout",
          "text": [
            "2023-04-21 15:56:14,579 TRAIN : loss 0.17379885911941528 - f1-score (weighted avg)  0.7486\n"
          ]
        },
        {
          "output_type": "stream",
          "name": "stderr",
          "text": [
            "100%|██████████| 3/3 [00:01<00:00,  2.15it/s]"
          ]
        },
        {
          "output_type": "stream",
          "name": "stdout",
          "text": [
            "2023-04-21 15:56:16,129 Evaluating as a multi-label problem: False\n",
            "2023-04-21 15:56:16,197 DEV : loss 0.31128355860710144 - f1-score (weighted avg)  0.6123\n",
            "2023-04-21 15:56:16,216 BAD EPOCHS (no improvement): 1\n",
            "2023-04-21 15:56:16,234 ----------------------------------------------------------------------------------------------------\n"
          ]
        },
        {
          "output_type": "stream",
          "name": "stderr",
          "text": [
            "\n"
          ]
        },
        {
          "output_type": "stream",
          "name": "stdout",
          "text": [
            "2023-04-21 15:56:18,315 epoch 29 - iter 2/24 - loss 0.18036945 - time (sec): 2.08 - samples/sec: 3972.15 - lr: 0.000003\n",
            "2023-04-21 15:56:20,378 epoch 29 - iter 4/24 - loss 0.18564003 - time (sec): 4.14 - samples/sec: 3924.93 - lr: 0.000003\n",
            "2023-04-21 15:56:22,540 epoch 29 - iter 6/24 - loss 0.18531052 - time (sec): 6.30 - samples/sec: 4097.74 - lr: 0.000003\n",
            "2023-04-21 15:56:24,772 epoch 29 - iter 8/24 - loss 0.19614291 - time (sec): 8.54 - samples/sec: 3909.88 - lr: 0.000003\n",
            "2023-04-21 15:56:27,225 epoch 29 - iter 10/24 - loss 0.22324087 - time (sec): 10.99 - samples/sec: 3779.99 - lr: 0.000003\n",
            "2023-04-21 15:56:29,296 epoch 29 - iter 12/24 - loss 0.21904090 - time (sec): 13.06 - samples/sec: 3786.63 - lr: 0.000003\n",
            "2023-04-21 15:56:31,380 epoch 29 - iter 14/24 - loss 0.21370619 - time (sec): 15.15 - samples/sec: 3770.75 - lr: 0.000003\n",
            "2023-04-21 15:56:33,444 epoch 29 - iter 16/24 - loss 0.20881956 - time (sec): 17.21 - samples/sec: 3681.43 - lr: 0.000003\n",
            "2023-04-21 15:56:35,573 epoch 29 - iter 18/24 - loss 0.20498187 - time (sec): 19.34 - samples/sec: 3683.44 - lr: 0.000003\n",
            "2023-04-21 15:56:37,660 epoch 29 - iter 20/24 - loss 0.20464741 - time (sec): 21.43 - samples/sec: 3687.66 - lr: 0.000003\n",
            "2023-04-21 15:56:39,750 epoch 29 - iter 22/24 - loss 0.20184684 - time (sec): 23.51 - samples/sec: 3718.81 - lr: 0.000003\n",
            "2023-04-21 15:56:41,583 epoch 29 - iter 24/24 - loss 0.20285476 - time (sec): 25.35 - samples/sec: 3738.75 - lr: 0.000003\n",
            "2023-04-21 15:56:41,586 ----------------------------------------------------------------------------------------------------\n",
            "2023-04-21 15:56:41,588 EPOCH 29 done: loss 0.2029 - lr 0.000003\n"
          ]
        },
        {
          "output_type": "stream",
          "name": "stderr",
          "text": [
            "100%|██████████| 24/24 [00:10<00:00,  2.37it/s]"
          ]
        },
        {
          "output_type": "stream",
          "name": "stdout",
          "text": [
            "2023-04-21 15:56:51,851 Evaluating as a multi-label problem: True\n"
          ]
        },
        {
          "output_type": "stream",
          "name": "stderr",
          "text": [
            "\n"
          ]
        },
        {
          "output_type": "stream",
          "name": "stdout",
          "text": [
            "2023-04-21 15:56:55,846 TRAIN : loss 0.16976039111614227 - f1-score (weighted avg)  0.7537\n"
          ]
        },
        {
          "output_type": "stream",
          "name": "stderr",
          "text": [
            "100%|██████████| 3/3 [00:01<00:00,  2.16it/s]"
          ]
        },
        {
          "output_type": "stream",
          "name": "stdout",
          "text": [
            "2023-04-21 15:56:57,395 Evaluating as a multi-label problem: False\n",
            "2023-04-21 15:56:57,463 DEV : loss 0.3163415193557739 - f1-score (weighted avg)  0.6172\n",
            "2023-04-21 15:56:57,483 Epoch    29: reducing learning rate of group 0 to 2.5600e-06.\n",
            "2023-04-21 15:56:57,485 BAD EPOCHS (no improvement): 2\n",
            "2023-04-21 15:56:57,489 ----------------------------------------------------------------------------------------------------\n"
          ]
        },
        {
          "output_type": "stream",
          "name": "stderr",
          "text": [
            "\n"
          ]
        },
        {
          "output_type": "stream",
          "name": "stdout",
          "text": [
            "2023-04-21 15:56:59,545 epoch 30 - iter 2/24 - loss 0.18201995 - time (sec): 2.06 - samples/sec: 3803.79 - lr: 0.000003\n",
            "2023-04-21 15:57:01,612 epoch 30 - iter 4/24 - loss 0.17990065 - time (sec): 4.12 - samples/sec: 3818.25 - lr: 0.000003\n",
            "2023-04-21 15:57:03,711 epoch 30 - iter 6/24 - loss 0.18045395 - time (sec): 6.22 - samples/sec: 3797.65 - lr: 0.000003\n",
            "2023-04-21 15:57:05,970 epoch 30 - iter 8/24 - loss 0.20842980 - time (sec): 8.48 - samples/sec: 3801.86 - lr: 0.000003\n",
            "2023-04-21 15:57:08,038 epoch 30 - iter 10/24 - loss 0.20897219 - time (sec): 10.55 - samples/sec: 3794.75 - lr: 0.000003\n",
            "2023-04-21 15:57:10,143 epoch 30 - iter 12/24 - loss 0.20499191 - time (sec): 12.65 - samples/sec: 3838.94 - lr: 0.000003\n",
            "2023-04-21 15:57:12,188 epoch 30 - iter 14/24 - loss 0.20029493 - time (sec): 14.70 - samples/sec: 3779.77 - lr: 0.000003\n",
            "2023-04-21 15:57:14,315 epoch 30 - iter 16/24 - loss 0.19508930 - time (sec): 16.82 - samples/sec: 3782.31 - lr: 0.000003\n",
            "2023-04-21 15:57:16,669 epoch 30 - iter 18/24 - loss 0.20725370 - time (sec): 19.18 - samples/sec: 3769.26 - lr: 0.000003\n",
            "2023-04-21 15:57:18,767 epoch 30 - iter 20/24 - loss 0.20643558 - time (sec): 21.28 - samples/sec: 3786.83 - lr: 0.000003\n",
            "2023-04-21 15:57:20,896 epoch 30 - iter 22/24 - loss 0.20400838 - time (sec): 23.41 - samples/sec: 3768.70 - lr: 0.000003\n",
            "2023-04-21 15:57:22,723 epoch 30 - iter 24/24 - loss 0.20079634 - time (sec): 25.23 - samples/sec: 3755.70 - lr: 0.000003\n",
            "2023-04-21 15:57:22,727 ----------------------------------------------------------------------------------------------------\n",
            "2023-04-21 15:57:22,728 EPOCH 30 done: loss 0.2008 - lr 0.000003\n"
          ]
        },
        {
          "output_type": "stream",
          "name": "stderr",
          "text": [
            "100%|██████████| 24/24 [00:10<00:00,  2.37it/s]"
          ]
        },
        {
          "output_type": "stream",
          "name": "stdout",
          "text": [
            "2023-04-21 15:57:32,992 Evaluating as a multi-label problem: True\n"
          ]
        },
        {
          "output_type": "stream",
          "name": "stderr",
          "text": [
            "\n"
          ]
        },
        {
          "output_type": "stream",
          "name": "stdout",
          "text": [
            "2023-04-21 15:57:36,969 TRAIN : loss 0.16654275357723236 - f1-score (weighted avg)  0.758\n"
          ]
        },
        {
          "output_type": "stream",
          "name": "stderr",
          "text": [
            "100%|██████████| 3/3 [00:01<00:00,  2.17it/s]"
          ]
        },
        {
          "output_type": "stream",
          "name": "stdout",
          "text": [
            "2023-04-21 15:57:38,509 Evaluating as a multi-label problem: False\n",
            "2023-04-21 15:57:38,578 DEV : loss 0.31209439039230347 - f1-score (weighted avg)  0.6178\n",
            "2023-04-21 15:57:38,598 BAD EPOCHS (no improvement): 1\n",
            "2023-04-21 15:57:38,603 ----------------------------------------------------------------------------------------------------\n"
          ]
        },
        {
          "output_type": "stream",
          "name": "stderr",
          "text": [
            "\n"
          ]
        },
        {
          "output_type": "stream",
          "name": "stdout",
          "text": [
            "2023-04-21 15:57:40,704 epoch 31 - iter 2/24 - loss 0.19400742 - time (sec): 2.10 - samples/sec: 3909.36 - lr: 0.000003\n",
            "2023-04-21 15:57:42,777 epoch 31 - iter 4/24 - loss 0.19867620 - time (sec): 4.17 - samples/sec: 3855.79 - lr: 0.000003\n",
            "2023-04-21 15:57:44,840 epoch 31 - iter 6/24 - loss 0.18156124 - time (sec): 6.24 - samples/sec: 3834.65 - lr: 0.000003\n",
            "2023-04-21 15:57:46,875 epoch 31 - iter 8/24 - loss 0.18288957 - time (sec): 8.27 - samples/sec: 3822.97 - lr: 0.000003\n",
            "2023-04-21 15:57:49,078 epoch 31 - iter 10/24 - loss 0.18722636 - time (sec): 10.47 - samples/sec: 3731.95 - lr: 0.000003\n",
            "2023-04-21 15:57:51,442 epoch 31 - iter 12/24 - loss 0.20863759 - time (sec): 12.84 - samples/sec: 3766.84 - lr: 0.000003\n",
            "2023-04-21 15:57:53,651 epoch 31 - iter 14/24 - loss 0.20586242 - time (sec): 15.05 - samples/sec: 3739.46 - lr: 0.000003\n",
            "2023-04-21 15:57:55,742 epoch 31 - iter 16/24 - loss 0.20650596 - time (sec): 17.14 - samples/sec: 3689.64 - lr: 0.000003\n",
            "2023-04-21 15:57:57,908 epoch 31 - iter 18/24 - loss 0.20334287 - time (sec): 19.30 - samples/sec: 3701.57 - lr: 0.000003\n",
            "2023-04-21 15:57:59,974 epoch 31 - iter 20/24 - loss 0.20185407 - time (sec): 21.37 - samples/sec: 3711.46 - lr: 0.000003\n",
            "2023-04-21 15:58:02,073 epoch 31 - iter 22/24 - loss 0.19954855 - time (sec): 23.47 - samples/sec: 3755.30 - lr: 0.000003\n",
            "2023-04-21 15:58:03,840 epoch 31 - iter 24/24 - loss 0.19589038 - time (sec): 25.24 - samples/sec: 3755.44 - lr: 0.000003\n",
            "2023-04-21 15:58:03,843 ----------------------------------------------------------------------------------------------------\n",
            "2023-04-21 15:58:03,845 EPOCH 31 done: loss 0.1959 - lr 0.000003\n"
          ]
        },
        {
          "output_type": "stream",
          "name": "stderr",
          "text": [
            "100%|██████████| 24/24 [00:10<00:00,  2.38it/s]"
          ]
        },
        {
          "output_type": "stream",
          "name": "stdout",
          "text": [
            "2023-04-21 15:58:14,071 Evaluating as a multi-label problem: True\n"
          ]
        },
        {
          "output_type": "stream",
          "name": "stderr",
          "text": [
            "\n"
          ]
        },
        {
          "output_type": "stream",
          "name": "stdout",
          "text": [
            "2023-04-21 15:58:16,824 TRAIN : loss 0.1632482409477234 - f1-score (weighted avg)  0.763\n"
          ]
        },
        {
          "output_type": "stream",
          "name": "stderr",
          "text": [
            "100%|██████████| 3/3 [00:01<00:00,  2.19it/s]"
          ]
        },
        {
          "output_type": "stream",
          "name": "stdout",
          "text": [
            "2023-04-21 15:58:18,352 Evaluating as a multi-label problem: False\n",
            "2023-04-21 15:58:18,421 DEV : loss 0.3152558207511902 - f1-score (weighted avg)  0.6222\n",
            "2023-04-21 15:58:18,441 Epoch    31: reducing learning rate of group 0 to 2.0480e-06.\n",
            "2023-04-21 15:58:18,443 BAD EPOCHS (no improvement): 2\n",
            "2023-04-21 15:58:18,446 ----------------------------------------------------------------------------------------------------\n"
          ]
        },
        {
          "output_type": "stream",
          "name": "stderr",
          "text": [
            "\n"
          ]
        },
        {
          "output_type": "stream",
          "name": "stdout",
          "text": [
            "2023-04-21 15:58:21,709 epoch 32 - iter 2/24 - loss 0.25357147 - time (sec): 3.26 - samples/sec: 2312.12 - lr: 0.000002\n",
            "2023-04-21 15:58:23,779 epoch 32 - iter 4/24 - loss 0.21586823 - time (sec): 5.33 - samples/sec: 2669.84 - lr: 0.000002\n",
            "2023-04-21 15:58:25,900 epoch 32 - iter 6/24 - loss 0.19713698 - time (sec): 7.45 - samples/sec: 3077.01 - lr: 0.000002\n",
            "2023-04-21 15:58:27,959 epoch 32 - iter 8/24 - loss 0.19246237 - time (sec): 9.51 - samples/sec: 3204.01 - lr: 0.000002\n",
            "2023-04-21 15:58:30,112 epoch 32 - iter 10/24 - loss 0.18318337 - time (sec): 11.67 - samples/sec: 3401.65 - lr: 0.000002\n",
            "2023-04-21 15:58:32,496 epoch 32 - iter 12/24 - loss 0.20796476 - time (sec): 14.05 - samples/sec: 3383.00 - lr: 0.000002\n",
            "2023-04-21 15:58:34,564 epoch 32 - iter 14/24 - loss 0.20372157 - time (sec): 16.12 - samples/sec: 3396.12 - lr: 0.000002\n",
            "2023-04-21 15:58:36,733 epoch 32 - iter 16/24 - loss 0.19515288 - time (sec): 18.29 - samples/sec: 3501.38 - lr: 0.000002\n",
            "2023-04-21 15:58:38,912 epoch 32 - iter 18/24 - loss 0.19281301 - time (sec): 20.46 - samples/sec: 3588.32 - lr: 0.000002\n",
            "2023-04-21 15:58:40,940 epoch 32 - iter 20/24 - loss 0.19331541 - time (sec): 22.49 - samples/sec: 3598.46 - lr: 0.000002\n",
            "2023-04-21 15:58:42,997 epoch 32 - iter 22/24 - loss 0.19263740 - time (sec): 24.55 - samples/sec: 3580.00 - lr: 0.000002\n",
            "2023-04-21 15:58:44,747 epoch 32 - iter 24/24 - loss 0.19317540 - time (sec): 26.30 - samples/sec: 3603.47 - lr: 0.000002\n",
            "2023-04-21 15:58:44,749 ----------------------------------------------------------------------------------------------------\n",
            "2023-04-21 15:58:44,751 EPOCH 32 done: loss 0.1932 - lr 0.000002\n"
          ]
        },
        {
          "output_type": "stream",
          "name": "stderr",
          "text": [
            "100%|██████████| 24/24 [00:10<00:00,  2.37it/s]"
          ]
        },
        {
          "output_type": "stream",
          "name": "stdout",
          "text": [
            "2023-04-21 15:58:55,011 Evaluating as a multi-label problem: True\n"
          ]
        },
        {
          "output_type": "stream",
          "name": "stderr",
          "text": [
            "\n"
          ]
        },
        {
          "output_type": "stream",
          "name": "stdout",
          "text": [
            "2023-04-21 15:58:58,963 TRAIN : loss 0.1636420041322708 - f1-score (weighted avg)  0.7625\n"
          ]
        },
        {
          "output_type": "stream",
          "name": "stderr",
          "text": [
            "100%|██████████| 3/3 [00:01<00:00,  2.20it/s]"
          ]
        },
        {
          "output_type": "stream",
          "name": "stdout",
          "text": [
            "2023-04-21 15:59:00,482 Evaluating as a multi-label problem: False\n",
            "2023-04-21 15:59:00,550 DEV : loss 0.31694725155830383 - f1-score (weighted avg)  0.6264\n",
            "2023-04-21 15:59:00,570 BAD EPOCHS (no improvement): 1\n",
            "2023-04-21 15:59:00,574 ----------------------------------------------------------------------------------------------------\n"
          ]
        },
        {
          "output_type": "stream",
          "name": "stderr",
          "text": [
            "\n"
          ]
        },
        {
          "output_type": "stream",
          "name": "stdout",
          "text": [
            "2023-04-21 15:59:02,627 epoch 33 - iter 2/24 - loss 0.19614215 - time (sec): 2.05 - samples/sec: 3622.05 - lr: 0.000002\n",
            "2023-04-21 15:59:04,738 epoch 33 - iter 4/24 - loss 0.18917405 - time (sec): 4.16 - samples/sec: 3701.12 - lr: 0.000002\n",
            "2023-04-21 15:59:06,797 epoch 33 - iter 6/24 - loss 0.17397000 - time (sec): 6.22 - samples/sec: 3659.52 - lr: 0.000002\n",
            "2023-04-21 15:59:09,089 epoch 33 - iter 8/24 - loss 0.18903588 - time (sec): 8.51 - samples/sec: 3554.28 - lr: 0.000002\n",
            "2023-04-21 15:59:11,152 epoch 33 - iter 10/24 - loss 0.17678517 - time (sec): 10.58 - samples/sec: 3691.67 - lr: 0.000002\n",
            "2023-04-21 15:59:13,222 epoch 33 - iter 12/24 - loss 0.17648447 - time (sec): 12.65 - samples/sec: 3712.52 - lr: 0.000002\n",
            "2023-04-21 15:59:15,283 epoch 33 - iter 14/24 - loss 0.17815880 - time (sec): 14.71 - samples/sec: 3706.74 - lr: 0.000002\n",
            "2023-04-21 15:59:17,333 epoch 33 - iter 16/24 - loss 0.17891751 - time (sec): 16.76 - samples/sec: 3759.94 - lr: 0.000002\n",
            "2023-04-21 15:59:19,544 epoch 33 - iter 18/24 - loss 0.18237756 - time (sec): 18.97 - samples/sec: 3834.21 - lr: 0.000002\n",
            "2023-04-21 15:59:21,646 epoch 33 - iter 20/24 - loss 0.18192248 - time (sec): 21.07 - samples/sec: 3834.46 - lr: 0.000002\n",
            "2023-04-21 15:59:23,643 epoch 33 - iter 22/24 - loss 0.18009312 - time (sec): 23.07 - samples/sec: 3801.37 - lr: 0.000002\n",
            "2023-04-21 15:59:25,675 epoch 33 - iter 24/24 - loss 0.19255165 - time (sec): 25.10 - samples/sec: 3775.81 - lr: 0.000002\n",
            "2023-04-21 15:59:25,678 ----------------------------------------------------------------------------------------------------\n",
            "2023-04-21 15:59:25,679 EPOCH 33 done: loss 0.1926 - lr 0.000002\n"
          ]
        },
        {
          "output_type": "stream",
          "name": "stderr",
          "text": [
            "100%|██████████| 24/24 [00:10<00:00,  2.37it/s]"
          ]
        },
        {
          "output_type": "stream",
          "name": "stdout",
          "text": [
            "2023-04-21 15:59:35,959 Evaluating as a multi-label problem: True\n"
          ]
        },
        {
          "output_type": "stream",
          "name": "stderr",
          "text": [
            "\n"
          ]
        },
        {
          "output_type": "stream",
          "name": "stdout",
          "text": [
            "2023-04-21 15:59:39,919 TRAIN : loss 0.15846584737300873 - f1-score (weighted avg)  0.7691\n"
          ]
        },
        {
          "output_type": "stream",
          "name": "stderr",
          "text": [
            "100%|██████████| 3/3 [00:01<00:00,  2.15it/s]"
          ]
        },
        {
          "output_type": "stream",
          "name": "stdout",
          "text": [
            "2023-04-21 15:59:41,471 Evaluating as a multi-label problem: False\n",
            "2023-04-21 15:59:41,538 DEV : loss 0.31682780385017395 - f1-score (weighted avg)  0.6291\n",
            "2023-04-21 15:59:41,558 Epoch    33: reducing learning rate of group 0 to 1.6384e-06.\n",
            "2023-04-21 15:59:41,560 BAD EPOCHS (no improvement): 2\n",
            "2023-04-21 15:59:41,564 ----------------------------------------------------------------------------------------------------\n"
          ]
        },
        {
          "output_type": "stream",
          "name": "stderr",
          "text": [
            "\n"
          ]
        },
        {
          "output_type": "stream",
          "name": "stdout",
          "text": [
            "2023-04-21 15:59:43,639 epoch 34 - iter 2/24 - loss 0.17297757 - time (sec): 2.07 - samples/sec: 3868.55 - lr: 0.000002\n",
            "2023-04-21 15:59:45,690 epoch 34 - iter 4/24 - loss 0.18491645 - time (sec): 4.12 - samples/sec: 3578.85 - lr: 0.000002\n",
            "2023-04-21 15:59:47,778 epoch 34 - iter 6/24 - loss 0.18034752 - time (sec): 6.21 - samples/sec: 3821.86 - lr: 0.000002\n",
            "2023-04-21 15:59:50,140 epoch 34 - iter 8/24 - loss 0.21725779 - time (sec): 8.57 - samples/sec: 3767.96 - lr: 0.000002\n",
            "2023-04-21 15:59:52,356 epoch 34 - iter 10/24 - loss 0.20881054 - time (sec): 10.79 - samples/sec: 3836.64 - lr: 0.000002\n",
            "2023-04-21 15:59:54,426 epoch 34 - iter 12/24 - loss 0.20043046 - time (sec): 12.86 - samples/sec: 3920.72 - lr: 0.000002\n",
            "2023-04-21 15:59:56,447 epoch 34 - iter 14/24 - loss 0.19778800 - time (sec): 14.88 - samples/sec: 3868.67 - lr: 0.000002\n",
            "2023-04-21 15:59:58,521 epoch 34 - iter 16/24 - loss 0.19458659 - time (sec): 16.96 - samples/sec: 3867.95 - lr: 0.000002\n",
            "2023-04-21 16:00:00,573 epoch 34 - iter 18/24 - loss 0.19488963 - time (sec): 19.01 - samples/sec: 3799.15 - lr: 0.000002\n",
            "2023-04-21 16:00:02,641 epoch 34 - iter 20/24 - loss 0.19390446 - time (sec): 21.07 - samples/sec: 3765.13 - lr: 0.000002\n",
            "2023-04-21 16:00:04,710 epoch 34 - iter 22/24 - loss 0.19183060 - time (sec): 23.14 - samples/sec: 3733.52 - lr: 0.000002\n",
            "2023-04-21 16:00:06,660 epoch 34 - iter 24/24 - loss 0.19119282 - time (sec): 25.09 - samples/sec: 3776.53 - lr: 0.000002\n",
            "2023-04-21 16:00:06,663 ----------------------------------------------------------------------------------------------------\n",
            "2023-04-21 16:00:06,665 EPOCH 34 done: loss 0.1912 - lr 0.000002\n"
          ]
        },
        {
          "output_type": "stream",
          "name": "stderr",
          "text": [
            "100%|██████████| 24/24 [00:10<00:00,  2.36it/s]"
          ]
        },
        {
          "output_type": "stream",
          "name": "stdout",
          "text": [
            "2023-04-21 16:00:16,964 Evaluating as a multi-label problem: True\n"
          ]
        },
        {
          "output_type": "stream",
          "name": "stderr",
          "text": [
            "\n"
          ]
        },
        {
          "output_type": "stream",
          "name": "stdout",
          "text": [
            "2023-04-21 16:00:20,914 TRAIN : loss 0.1586059182882309 - f1-score (weighted avg)  0.7688\n"
          ]
        },
        {
          "output_type": "stream",
          "name": "stderr",
          "text": [
            "100%|██████████| 3/3 [00:01<00:00,  2.19it/s]"
          ]
        },
        {
          "output_type": "stream",
          "name": "stdout",
          "text": [
            "2023-04-21 16:00:22,453 Evaluating as a multi-label problem: False\n",
            "2023-04-21 16:00:22,525 DEV : loss 0.3147658407688141 - f1-score (weighted avg)  0.6268\n",
            "2023-04-21 16:00:22,546 BAD EPOCHS (no improvement): 1\n",
            "2023-04-21 16:00:22,550 ----------------------------------------------------------------------------------------------------\n"
          ]
        },
        {
          "output_type": "stream",
          "name": "stderr",
          "text": [
            "\n"
          ]
        },
        {
          "output_type": "stream",
          "name": "stdout",
          "text": [
            "2023-04-21 16:00:24,911 epoch 35 - iter 2/24 - loss 0.30660181 - time (sec): 2.36 - samples/sec: 3748.59 - lr: 0.000002\n",
            "2023-04-21 16:00:26,992 epoch 35 - iter 4/24 - loss 0.23349026 - time (sec): 4.44 - samples/sec: 3993.06 - lr: 0.000002\n",
            "2023-04-21 16:00:29,123 epoch 35 - iter 6/24 - loss 0.21188937 - time (sec): 6.57 - samples/sec: 3949.50 - lr: 0.000002\n",
            "2023-04-21 16:00:31,390 epoch 35 - iter 8/24 - loss 0.21672816 - time (sec): 8.84 - samples/sec: 3954.74 - lr: 0.000002\n",
            "2023-04-21 16:00:33,445 epoch 35 - iter 10/24 - loss 0.20895312 - time (sec): 10.89 - samples/sec: 3856.88 - lr: 0.000002\n",
            "2023-04-21 16:00:35,484 epoch 35 - iter 12/24 - loss 0.20212446 - time (sec): 12.93 - samples/sec: 3795.53 - lr: 0.000002\n",
            "2023-04-21 16:00:37,588 epoch 35 - iter 14/24 - loss 0.19709767 - time (sec): 15.04 - samples/sec: 3752.52 - lr: 0.000002\n",
            "2023-04-21 16:00:39,665 epoch 35 - iter 16/24 - loss 0.19922146 - time (sec): 17.11 - samples/sec: 3737.88 - lr: 0.000002\n",
            "2023-04-21 16:00:41,774 epoch 35 - iter 18/24 - loss 0.19497250 - time (sec): 19.22 - samples/sec: 3711.87 - lr: 0.000002\n",
            "2023-04-21 16:00:43,843 epoch 35 - iter 20/24 - loss 0.19017308 - time (sec): 21.29 - samples/sec: 3739.94 - lr: 0.000002\n",
            "2023-04-21 16:00:45,895 epoch 35 - iter 22/24 - loss 0.18904500 - time (sec): 23.34 - samples/sec: 3752.67 - lr: 0.000002\n",
            "2023-04-21 16:00:47,689 epoch 35 - iter 24/24 - loss 0.18802645 - time (sec): 25.14 - samples/sec: 3770.16 - lr: 0.000002\n",
            "2023-04-21 16:00:47,691 ----------------------------------------------------------------------------------------------------\n",
            "2023-04-21 16:00:47,693 EPOCH 35 done: loss 0.1880 - lr 0.000002\n"
          ]
        },
        {
          "output_type": "stream",
          "name": "stderr",
          "text": [
            "100%|██████████| 24/24 [00:10<00:00,  2.37it/s]"
          ]
        },
        {
          "output_type": "stream",
          "name": "stdout",
          "text": [
            "2023-04-21 16:00:57,974 Evaluating as a multi-label problem: True\n"
          ]
        },
        {
          "output_type": "stream",
          "name": "stderr",
          "text": [
            "\n"
          ]
        },
        {
          "output_type": "stream",
          "name": "stdout",
          "text": [
            "2023-04-21 16:01:01,932 TRAIN : loss 0.16215205192565918 - f1-score (weighted avg)  0.7661\n"
          ]
        },
        {
          "output_type": "stream",
          "name": "stderr",
          "text": [
            "100%|██████████| 3/3 [00:01<00:00,  2.19it/s]"
          ]
        },
        {
          "output_type": "stream",
          "name": "stdout",
          "text": [
            "2023-04-21 16:01:03,459 Evaluating as a multi-label problem: False\n",
            "2023-04-21 16:01:03,528 DEV : loss 0.31884923577308655 - f1-score (weighted avg)  0.6238\n",
            "2023-04-21 16:01:03,551 Epoch    35: reducing learning rate of group 0 to 1.3107e-06.\n",
            "2023-04-21 16:01:03,553 BAD EPOCHS (no improvement): 2\n",
            "2023-04-21 16:01:03,556 ----------------------------------------------------------------------------------------------------\n"
          ]
        },
        {
          "output_type": "stream",
          "name": "stderr",
          "text": [
            "\n"
          ]
        },
        {
          "output_type": "stream",
          "name": "stdout",
          "text": [
            "2023-04-21 16:01:05,643 epoch 36 - iter 2/24 - loss 0.17223094 - time (sec): 2.08 - samples/sec: 4098.29 - lr: 0.000001\n",
            "2023-04-21 16:01:07,688 epoch 36 - iter 4/24 - loss 0.15918467 - time (sec): 4.13 - samples/sec: 4097.20 - lr: 0.000001\n",
            "2023-04-21 16:01:09,747 epoch 36 - iter 6/24 - loss 0.16153124 - time (sec): 6.19 - samples/sec: 4029.09 - lr: 0.000001\n",
            "2023-04-21 16:01:11,844 epoch 36 - iter 8/24 - loss 0.16323465 - time (sec): 8.29 - samples/sec: 4013.64 - lr: 0.000001\n",
            "2023-04-21 16:01:13,890 epoch 36 - iter 10/24 - loss 0.16447611 - time (sec): 10.33 - samples/sec: 3984.33 - lr: 0.000001\n",
            "2023-04-21 16:01:16,163 epoch 36 - iter 12/24 - loss 0.17128948 - time (sec): 12.60 - samples/sec: 3884.82 - lr: 0.000001\n",
            "2023-04-21 16:01:18,371 epoch 36 - iter 14/24 - loss 0.17171401 - time (sec): 14.81 - samples/sec: 3929.43 - lr: 0.000001\n",
            "2023-04-21 16:01:20,471 epoch 36 - iter 16/24 - loss 0.17092919 - time (sec): 16.91 - samples/sec: 3857.50 - lr: 0.000001\n",
            "2023-04-21 16:01:22,599 epoch 36 - iter 18/24 - loss 0.17009289 - time (sec): 19.04 - samples/sec: 3838.71 - lr: 0.000001\n",
            "2023-04-21 16:01:24,979 epoch 36 - iter 20/24 - loss 0.18407983 - time (sec): 21.42 - samples/sec: 3818.32 - lr: 0.000001\n",
            "2023-04-21 16:01:27,029 epoch 36 - iter 22/24 - loss 0.18509407 - time (sec): 23.47 - samples/sec: 3766.57 - lr: 0.000001\n",
            "2023-04-21 16:01:28,771 epoch 36 - iter 24/24 - loss 0.18563113 - time (sec): 25.21 - samples/sec: 3758.81 - lr: 0.000001\n",
            "2023-04-21 16:01:28,774 ----------------------------------------------------------------------------------------------------\n",
            "2023-04-21 16:01:28,776 EPOCH 36 done: loss 0.1856 - lr 0.000001\n"
          ]
        },
        {
          "output_type": "stream",
          "name": "stderr",
          "text": [
            "100%|██████████| 24/24 [00:10<00:00,  2.37it/s]"
          ]
        },
        {
          "output_type": "stream",
          "name": "stdout",
          "text": [
            "2023-04-21 16:01:39,023 Evaluating as a multi-label problem: True\n"
          ]
        },
        {
          "output_type": "stream",
          "name": "stderr",
          "text": [
            "\n"
          ]
        },
        {
          "output_type": "stream",
          "name": "stdout",
          "text": [
            "2023-04-21 16:01:41,747 TRAIN : loss 0.15709343552589417 - f1-score (weighted avg)  0.772\n"
          ]
        },
        {
          "output_type": "stream",
          "name": "stderr",
          "text": [
            "100%|██████████| 3/3 [00:01<00:00,  2.17it/s]"
          ]
        },
        {
          "output_type": "stream",
          "name": "stdout",
          "text": [
            "2023-04-21 16:01:43,284 Evaluating as a multi-label problem: False\n",
            "2023-04-21 16:01:43,353 DEV : loss 0.31741341948509216 - f1-score (weighted avg)  0.6273\n",
            "2023-04-21 16:01:43,372 BAD EPOCHS (no improvement): 1\n",
            "2023-04-21 16:01:43,377 ----------------------------------------------------------------------------------------------------\n"
          ]
        },
        {
          "output_type": "stream",
          "name": "stderr",
          "text": [
            "\n"
          ]
        },
        {
          "output_type": "stream",
          "name": "stdout",
          "text": [
            "2023-04-21 16:01:45,460 epoch 37 - iter 2/24 - loss 0.17736281 - time (sec): 2.08 - samples/sec: 3717.80 - lr: 0.000001\n",
            "2023-04-21 16:01:47,514 epoch 37 - iter 4/24 - loss 0.16512323 - time (sec): 4.14 - samples/sec: 3741.05 - lr: 0.000001\n",
            "2023-04-21 16:01:50,943 epoch 37 - iter 6/24 - loss 0.19322805 - time (sec): 7.56 - samples/sec: 3412.65 - lr: 0.000001\n",
            "2023-04-21 16:01:53,091 epoch 37 - iter 8/24 - loss 0.18414008 - time (sec): 9.71 - samples/sec: 3582.45 - lr: 0.000001\n",
            "2023-04-21 16:01:55,316 epoch 37 - iter 10/24 - loss 0.19844535 - time (sec): 11.94 - samples/sec: 3535.59 - lr: 0.000001\n",
            "2023-04-21 16:01:57,396 epoch 37 - iter 12/24 - loss 0.19342684 - time (sec): 14.02 - samples/sec: 3559.26 - lr: 0.000001\n",
            "2023-04-21 16:01:59,549 epoch 37 - iter 14/24 - loss 0.19171141 - time (sec): 16.17 - samples/sec: 3567.59 - lr: 0.000001\n",
            "2023-04-21 16:02:01,573 epoch 37 - iter 16/24 - loss 0.19658189 - time (sec): 18.19 - samples/sec: 3556.83 - lr: 0.000001\n",
            "2023-04-21 16:02:03,623 epoch 37 - iter 18/24 - loss 0.19268098 - time (sec): 20.24 - samples/sec: 3563.57 - lr: 0.000001\n",
            "2023-04-21 16:02:05,708 epoch 37 - iter 20/24 - loss 0.18989871 - time (sec): 22.33 - samples/sec: 3572.49 - lr: 0.000001\n",
            "2023-04-21 16:02:07,864 epoch 37 - iter 22/24 - loss 0.18716629 - time (sec): 24.49 - samples/sec: 3609.51 - lr: 0.000001\n",
            "2023-04-21 16:02:09,646 epoch 37 - iter 24/24 - loss 0.18606349 - time (sec): 26.27 - samples/sec: 3607.81 - lr: 0.000001\n",
            "2023-04-21 16:02:09,649 ----------------------------------------------------------------------------------------------------\n",
            "2023-04-21 16:02:09,651 EPOCH 37 done: loss 0.1861 - lr 0.000001\n"
          ]
        },
        {
          "output_type": "stream",
          "name": "stderr",
          "text": [
            "100%|██████████| 24/24 [00:10<00:00,  2.37it/s]"
          ]
        },
        {
          "output_type": "stream",
          "name": "stdout",
          "text": [
            "2023-04-21 16:02:19,926 Evaluating as a multi-label problem: True\n"
          ]
        },
        {
          "output_type": "stream",
          "name": "stderr",
          "text": [
            "\n"
          ]
        },
        {
          "output_type": "stream",
          "name": "stdout",
          "text": [
            "2023-04-21 16:02:23,878 TRAIN : loss 0.1546487659215927 - f1-score (weighted avg)  0.7744\n"
          ]
        },
        {
          "output_type": "stream",
          "name": "stderr",
          "text": [
            "100%|██████████| 3/3 [00:01<00:00,  2.18it/s]"
          ]
        },
        {
          "output_type": "stream",
          "name": "stdout",
          "text": [
            "2023-04-21 16:02:25,412 Evaluating as a multi-label problem: False\n",
            "2023-04-21 16:02:25,481 DEV : loss 0.31744059920310974 - f1-score (weighted avg)  0.6286\n",
            "2023-04-21 16:02:25,501 Epoch    37: reducing learning rate of group 0 to 1.0486e-06.\n",
            "2023-04-21 16:02:25,503 BAD EPOCHS (no improvement): 2\n",
            "2023-04-21 16:02:25,511 ----------------------------------------------------------------------------------------------------\n"
          ]
        },
        {
          "output_type": "stream",
          "name": "stderr",
          "text": [
            "\n"
          ]
        },
        {
          "output_type": "stream",
          "name": "stdout",
          "text": [
            "2023-04-21 16:02:27,573 epoch 38 - iter 2/24 - loss 0.16697941 - time (sec): 2.06 - samples/sec: 4081.42 - lr: 0.000001\n",
            "2023-04-21 16:02:29,680 epoch 38 - iter 4/24 - loss 0.15449306 - time (sec): 4.17 - samples/sec: 3797.57 - lr: 0.000001\n",
            "2023-04-21 16:02:31,763 epoch 38 - iter 6/24 - loss 0.16387096 - time (sec): 6.25 - samples/sec: 3740.65 - lr: 0.000001\n",
            "2023-04-21 16:02:34,146 epoch 38 - iter 8/24 - loss 0.21031287 - time (sec): 8.63 - samples/sec: 3811.58 - lr: 0.000001\n",
            "2023-04-21 16:02:36,251 epoch 38 - iter 10/24 - loss 0.20147459 - time (sec): 10.74 - samples/sec: 3838.82 - lr: 0.000001\n",
            "2023-04-21 16:02:38,327 epoch 38 - iter 12/24 - loss 0.19542628 - time (sec): 12.81 - samples/sec: 3840.75 - lr: 0.000001\n",
            "2023-04-21 16:02:40,394 epoch 38 - iter 14/24 - loss 0.19238184 - time (sec): 14.88 - samples/sec: 3796.18 - lr: 0.000001\n",
            "2023-04-21 16:02:42,460 epoch 38 - iter 16/24 - loss 0.18687417 - time (sec): 16.95 - samples/sec: 3778.37 - lr: 0.000001\n",
            "2023-04-21 16:02:44,512 epoch 38 - iter 18/24 - loss 0.18719157 - time (sec): 19.00 - samples/sec: 3775.84 - lr: 0.000001\n",
            "2023-04-21 16:02:46,745 epoch 38 - iter 20/24 - loss 0.19146571 - time (sec): 21.23 - samples/sec: 3785.30 - lr: 0.000001\n",
            "2023-04-21 16:02:48,762 epoch 38 - iter 22/24 - loss 0.18909874 - time (sec): 23.25 - samples/sec: 3744.74 - lr: 0.000001\n",
            "2023-04-21 16:02:50,598 epoch 38 - iter 24/24 - loss 0.18432207 - time (sec): 25.09 - samples/sec: 3777.86 - lr: 0.000001\n",
            "2023-04-21 16:02:50,602 ----------------------------------------------------------------------------------------------------\n",
            "2023-04-21 16:02:50,603 EPOCH 38 done: loss 0.1843 - lr 0.000001\n"
          ]
        },
        {
          "output_type": "stream",
          "name": "stderr",
          "text": [
            "100%|██████████| 24/24 [00:10<00:00,  2.38it/s]"
          ]
        },
        {
          "output_type": "stream",
          "name": "stdout",
          "text": [
            "2023-04-21 16:03:00,813 Evaluating as a multi-label problem: True\n"
          ]
        },
        {
          "output_type": "stream",
          "name": "stderr",
          "text": [
            "\n"
          ]
        },
        {
          "output_type": "stream",
          "name": "stdout",
          "text": [
            "2023-04-21 16:03:04,785 TRAIN : loss 0.1528981775045395 - f1-score (weighted avg)  0.7772\n"
          ]
        },
        {
          "output_type": "stream",
          "name": "stderr",
          "text": [
            "100%|██████████| 3/3 [00:01<00:00,  2.18it/s]"
          ]
        },
        {
          "output_type": "stream",
          "name": "stdout",
          "text": [
            "2023-04-21 16:03:06,316 Evaluating as a multi-label problem: False\n",
            "2023-04-21 16:03:06,385 DEV : loss 0.32130780816078186 - f1-score (weighted avg)  0.629\n",
            "2023-04-21 16:03:06,405 BAD EPOCHS (no improvement): 1\n",
            "2023-04-21 16:03:06,409 ----------------------------------------------------------------------------------------------------\n"
          ]
        },
        {
          "output_type": "stream",
          "name": "stderr",
          "text": [
            "\n"
          ]
        },
        {
          "output_type": "stream",
          "name": "stdout",
          "text": [
            "2023-04-21 16:03:08,504 epoch 39 - iter 2/24 - loss 0.18084770 - time (sec): 2.09 - samples/sec: 3441.26 - lr: 0.000001\n",
            "2023-04-21 16:03:10,602 epoch 39 - iter 4/24 - loss 0.16623599 - time (sec): 4.19 - samples/sec: 3683.74 - lr: 0.000001\n",
            "2023-04-21 16:03:12,726 epoch 39 - iter 6/24 - loss 0.15967427 - time (sec): 6.32 - samples/sec: 3674.84 - lr: 0.000001\n",
            "2023-04-21 16:03:14,801 epoch 39 - iter 8/24 - loss 0.15896823 - time (sec): 8.39 - samples/sec: 3710.07 - lr: 0.000001\n",
            "2023-04-21 16:03:16,851 epoch 39 - iter 10/24 - loss 0.15942029 - time (sec): 10.44 - samples/sec: 3753.46 - lr: 0.000001\n",
            "2023-04-21 16:03:19,144 epoch 39 - iter 12/24 - loss 0.16631765 - time (sec): 12.73 - samples/sec: 3795.45 - lr: 0.000001\n",
            "2023-04-21 16:03:21,241 epoch 39 - iter 14/24 - loss 0.16357647 - time (sec): 14.83 - samples/sec: 3807.77 - lr: 0.000001\n",
            "2023-04-21 16:03:23,318 epoch 39 - iter 16/24 - loss 0.16540077 - time (sec): 16.91 - samples/sec: 3789.98 - lr: 0.000001\n",
            "2023-04-21 16:03:25,326 epoch 39 - iter 18/24 - loss 0.16662144 - time (sec): 18.92 - samples/sec: 3730.39 - lr: 0.000001\n",
            "2023-04-21 16:03:27,683 epoch 39 - iter 20/24 - loss 0.18206402 - time (sec): 21.27 - samples/sec: 3714.47 - lr: 0.000001\n",
            "2023-04-21 16:03:29,921 epoch 39 - iter 22/24 - loss 0.18265034 - time (sec): 23.51 - samples/sec: 3724.54 - lr: 0.000001\n",
            "2023-04-21 16:03:31,734 epoch 39 - iter 24/24 - loss 0.18252053 - time (sec): 25.32 - samples/sec: 3742.33 - lr: 0.000001\n",
            "2023-04-21 16:03:31,738 ----------------------------------------------------------------------------------------------------\n",
            "2023-04-21 16:03:31,739 EPOCH 39 done: loss 0.1825 - lr 0.000001\n"
          ]
        },
        {
          "output_type": "stream",
          "name": "stderr",
          "text": [
            "100%|██████████| 24/24 [00:10<00:00,  2.37it/s]"
          ]
        },
        {
          "output_type": "stream",
          "name": "stdout",
          "text": [
            "2023-04-21 16:03:41,999 Evaluating as a multi-label problem: True\n"
          ]
        },
        {
          "output_type": "stream",
          "name": "stderr",
          "text": [
            "\n"
          ]
        },
        {
          "output_type": "stream",
          "name": "stdout",
          "text": [
            "2023-04-21 16:03:46,006 TRAIN : loss 0.15431055426597595 - f1-score (weighted avg)  0.7747\n"
          ]
        },
        {
          "output_type": "stream",
          "name": "stderr",
          "text": [
            "100%|██████████| 3/3 [00:01<00:00,  2.18it/s]"
          ]
        },
        {
          "output_type": "stream",
          "name": "stdout",
          "text": [
            "2023-04-21 16:03:47,538 Evaluating as a multi-label problem: False\n",
            "2023-04-21 16:03:47,606 DEV : loss 0.319719523191452 - f1-score (weighted avg)  0.6297\n",
            "2023-04-21 16:03:47,626 Epoch    39: reducing learning rate of group 0 to 8.3886e-07.\n",
            "2023-04-21 16:03:47,628 BAD EPOCHS (no improvement): 2\n",
            "2023-04-21 16:03:47,632 ----------------------------------------------------------------------------------------------------\n"
          ]
        },
        {
          "output_type": "stream",
          "name": "stderr",
          "text": [
            "\n"
          ]
        },
        {
          "output_type": "stream",
          "name": "stdout",
          "text": [
            "2023-04-21 16:03:49,708 epoch 40 - iter 2/24 - loss 0.16823810 - time (sec): 2.07 - samples/sec: 3166.01 - lr: 0.000001\n",
            "2023-04-21 16:03:51,813 epoch 40 - iter 4/24 - loss 0.17617057 - time (sec): 4.18 - samples/sec: 3694.39 - lr: 0.000001\n",
            "2023-04-21 16:03:53,852 epoch 40 - iter 6/24 - loss 0.16236452 - time (sec): 6.22 - samples/sec: 3819.45 - lr: 0.000001\n",
            "2023-04-21 16:03:55,879 epoch 40 - iter 8/24 - loss 0.16312929 - time (sec): 8.25 - samples/sec: 3756.71 - lr: 0.000001\n",
            "2023-04-21 16:03:58,019 epoch 40 - iter 10/24 - loss 0.16630227 - time (sec): 10.38 - samples/sec: 3761.58 - lr: 0.000001\n",
            "2023-04-21 16:04:00,276 epoch 40 - iter 12/24 - loss 0.17271195 - time (sec): 12.64 - samples/sec: 3759.98 - lr: 0.000001\n",
            "2023-04-21 16:04:02,314 epoch 40 - iter 14/24 - loss 0.17609336 - time (sec): 14.68 - samples/sec: 3743.11 - lr: 0.000001\n",
            "2023-04-21 16:04:04,711 epoch 40 - iter 16/24 - loss 0.19015036 - time (sec): 17.08 - samples/sec: 3764.19 - lr: 0.000001\n",
            "2023-04-21 16:04:06,822 epoch 40 - iter 18/24 - loss 0.18804835 - time (sec): 19.19 - samples/sec: 3793.26 - lr: 0.000001\n",
            "2023-04-21 16:04:08,894 epoch 40 - iter 20/24 - loss 0.18511779 - time (sec): 21.26 - samples/sec: 3769.66 - lr: 0.000001\n",
            "2023-04-21 16:04:10,978 epoch 40 - iter 22/24 - loss 0.18202872 - time (sec): 23.34 - samples/sec: 3776.25 - lr: 0.000001\n",
            "2023-04-21 16:04:12,779 epoch 40 - iter 24/24 - loss 0.18088177 - time (sec): 25.15 - samples/sec: 3768.90 - lr: 0.000001\n",
            "2023-04-21 16:04:12,782 ----------------------------------------------------------------------------------------------------\n",
            "2023-04-21 16:04:12,784 EPOCH 40 done: loss 0.1809 - lr 0.000001\n"
          ]
        },
        {
          "output_type": "stream",
          "name": "stderr",
          "text": [
            "100%|██████████| 24/24 [00:10<00:00,  2.38it/s]"
          ]
        },
        {
          "output_type": "stream",
          "name": "stdout",
          "text": [
            "2023-04-21 16:04:23,019 Evaluating as a multi-label problem: True\n"
          ]
        },
        {
          "output_type": "stream",
          "name": "stderr",
          "text": [
            "\n"
          ]
        },
        {
          "output_type": "stream",
          "name": "stdout",
          "text": [
            "2023-04-21 16:04:25,789 TRAIN : loss 0.15378841757774353 - f1-score (weighted avg)  0.7755\n"
          ]
        },
        {
          "output_type": "stream",
          "name": "stderr",
          "text": [
            "100%|██████████| 3/3 [00:02<00:00,  1.24it/s]"
          ]
        },
        {
          "output_type": "stream",
          "name": "stdout",
          "text": [
            "2023-04-21 16:04:28,369 Evaluating as a multi-label problem: False\n",
            "2023-04-21 16:04:28,437 DEV : loss 0.3199656903743744 - f1-score (weighted avg)  0.6315\n",
            "2023-04-21 16:04:28,458 BAD EPOCHS (no improvement): 1\n",
            "2023-04-21 16:04:28,464 ----------------------------------------------------------------------------------------------------\n"
          ]
        },
        {
          "output_type": "stream",
          "name": "stderr",
          "text": [
            "\n"
          ]
        },
        {
          "output_type": "stream",
          "name": "stdout",
          "text": [
            "2023-04-21 16:04:30,536 epoch 41 - iter 2/24 - loss 0.15711182 - time (sec): 2.07 - samples/sec: 3696.96 - lr: 0.000001\n",
            "2023-04-21 16:04:32,604 epoch 41 - iter 4/24 - loss 0.16539522 - time (sec): 4.14 - samples/sec: 3602.14 - lr: 0.000001\n",
            "2023-04-21 16:04:34,952 epoch 41 - iter 6/24 - loss 0.21659016 - time (sec): 6.49 - samples/sec: 3613.09 - lr: 0.000001\n",
            "2023-04-21 16:04:37,132 epoch 41 - iter 8/24 - loss 0.20029103 - time (sec): 8.67 - samples/sec: 3631.84 - lr: 0.000001\n",
            "2023-04-21 16:04:39,316 epoch 41 - iter 10/24 - loss 0.19203454 - time (sec): 10.85 - samples/sec: 3644.94 - lr: 0.000001\n",
            "2023-04-21 16:04:41,381 epoch 41 - iter 12/24 - loss 0.19220321 - time (sec): 12.92 - samples/sec: 3662.85 - lr: 0.000001\n",
            "2023-04-21 16:04:43,464 epoch 41 - iter 14/24 - loss 0.18578377 - time (sec): 15.00 - samples/sec: 3660.84 - lr: 0.000001\n",
            "2023-04-21 16:04:45,573 epoch 41 - iter 16/24 - loss 0.18176684 - time (sec): 17.11 - samples/sec: 3668.08 - lr: 0.000001\n",
            "2023-04-21 16:04:47,701 epoch 41 - iter 18/24 - loss 0.17958798 - time (sec): 19.23 - samples/sec: 3693.62 - lr: 0.000001\n",
            "2023-04-21 16:04:49,776 epoch 41 - iter 20/24 - loss 0.17899737 - time (sec): 21.31 - samples/sec: 3718.84 - lr: 0.000001\n",
            "2023-04-21 16:04:52,010 epoch 41 - iter 22/24 - loss 0.18065486 - time (sec): 23.54 - samples/sec: 3722.30 - lr: 0.000001\n",
            "2023-04-21 16:04:53,791 epoch 41 - iter 24/24 - loss 0.18071190 - time (sec): 25.33 - samples/sec: 3742.08 - lr: 0.000001\n",
            "2023-04-21 16:04:53,794 ----------------------------------------------------------------------------------------------------\n",
            "2023-04-21 16:04:53,796 EPOCH 41 done: loss 0.1807 - lr 0.000001\n"
          ]
        },
        {
          "output_type": "stream",
          "name": "stderr",
          "text": [
            "100%|██████████| 24/24 [00:10<00:00,  2.37it/s]"
          ]
        },
        {
          "output_type": "stream",
          "name": "stdout",
          "text": [
            "2023-04-21 16:05:04,049 Evaluating as a multi-label problem: True\n"
          ]
        },
        {
          "output_type": "stream",
          "name": "stderr",
          "text": [
            "\n"
          ]
        },
        {
          "output_type": "stream",
          "name": "stdout",
          "text": [
            "2023-04-21 16:05:07,986 TRAIN : loss 0.15100373327732086 - f1-score (weighted avg)  0.7794\n"
          ]
        },
        {
          "output_type": "stream",
          "name": "stderr",
          "text": [
            "100%|██████████| 3/3 [00:01<00:00,  2.20it/s]"
          ]
        },
        {
          "output_type": "stream",
          "name": "stdout",
          "text": [
            "2023-04-21 16:05:09,503 Evaluating as a multi-label problem: False\n",
            "2023-04-21 16:05:09,571 DEV : loss 0.32128724455833435 - f1-score (weighted avg)  0.6316\n",
            "2023-04-21 16:05:09,590 Epoch    41: reducing learning rate of group 0 to 6.7109e-07.\n",
            "2023-04-21 16:05:09,592 BAD EPOCHS (no improvement): 2\n",
            "2023-04-21 16:05:09,595 ----------------------------------------------------------------------------------------------------\n"
          ]
        },
        {
          "output_type": "stream",
          "name": "stderr",
          "text": [
            "\n"
          ]
        },
        {
          "output_type": "stream",
          "name": "stdout",
          "text": [
            "2023-04-21 16:05:11,663 epoch 42 - iter 2/24 - loss 0.16737657 - time (sec): 2.07 - samples/sec: 4062.21 - lr: 0.000001\n",
            "2023-04-21 16:05:13,735 epoch 42 - iter 4/24 - loss 0.15862268 - time (sec): 4.14 - samples/sec: 3909.82 - lr: 0.000001\n",
            "2023-04-21 16:05:15,845 epoch 42 - iter 6/24 - loss 0.15884478 - time (sec): 6.25 - samples/sec: 4022.69 - lr: 0.000001\n",
            "2023-04-21 16:05:18,061 epoch 42 - iter 8/24 - loss 0.16184534 - time (sec): 8.46 - samples/sec: 3893.69 - lr: 0.000001\n",
            "2023-04-21 16:05:20,476 epoch 42 - iter 10/24 - loss 0.19445152 - time (sec): 10.88 - samples/sec: 3863.93 - lr: 0.000001\n",
            "2023-04-21 16:05:22,491 epoch 42 - iter 12/24 - loss 0.18800855 - time (sec): 12.89 - samples/sec: 3872.12 - lr: 0.000001\n",
            "2023-04-21 16:05:24,576 epoch 42 - iter 14/24 - loss 0.19020370 - time (sec): 14.98 - samples/sec: 3822.73 - lr: 0.000001\n",
            "2023-04-21 16:05:26,854 epoch 42 - iter 16/24 - loss 0.19232923 - time (sec): 17.26 - samples/sec: 3801.53 - lr: 0.000001\n",
            "2023-04-21 16:05:28,915 epoch 42 - iter 18/24 - loss 0.18715007 - time (sec): 19.32 - samples/sec: 3756.79 - lr: 0.000001\n",
            "2023-04-21 16:05:30,980 epoch 42 - iter 20/24 - loss 0.18409286 - time (sec): 21.38 - samples/sec: 3731.48 - lr: 0.000001\n",
            "2023-04-21 16:05:33,104 epoch 42 - iter 22/24 - loss 0.18047320 - time (sec): 23.51 - samples/sec: 3732.79 - lr: 0.000001\n",
            "2023-04-21 16:05:34,915 epoch 42 - iter 24/24 - loss 0.18058173 - time (sec): 25.32 - samples/sec: 3743.13 - lr: 0.000001\n",
            "2023-04-21 16:05:34,918 ----------------------------------------------------------------------------------------------------\n",
            "2023-04-21 16:05:34,920 EPOCH 42 done: loss 0.1806 - lr 0.000001\n"
          ]
        },
        {
          "output_type": "stream",
          "name": "stderr",
          "text": [
            "100%|██████████| 24/24 [00:10<00:00,  2.37it/s]"
          ]
        },
        {
          "output_type": "stream",
          "name": "stdout",
          "text": [
            "2023-04-21 16:05:45,180 Evaluating as a multi-label problem: True\n"
          ]
        },
        {
          "output_type": "stream",
          "name": "stderr",
          "text": [
            "\n"
          ]
        },
        {
          "output_type": "stream",
          "name": "stdout",
          "text": [
            "2023-04-21 16:05:49,155 TRAIN : loss 0.1519218236207962 - f1-score (weighted avg)  0.7784\n"
          ]
        },
        {
          "output_type": "stream",
          "name": "stderr",
          "text": [
            "100%|██████████| 3/3 [00:01<00:00,  2.15it/s]"
          ]
        },
        {
          "output_type": "stream",
          "name": "stdout",
          "text": [
            "2023-04-21 16:05:50,713 Evaluating as a multi-label problem: False\n",
            "2023-04-21 16:05:50,782 DEV : loss 0.32051342725753784 - f1-score (weighted avg)  0.6319\n",
            "2023-04-21 16:05:50,802 BAD EPOCHS (no improvement): 1\n",
            "2023-04-21 16:05:50,806 ----------------------------------------------------------------------------------------------------\n"
          ]
        },
        {
          "output_type": "stream",
          "name": "stderr",
          "text": [
            "\n"
          ]
        },
        {
          "output_type": "stream",
          "name": "stdout",
          "text": [
            "2023-04-21 16:05:52,838 epoch 43 - iter 2/24 - loss 0.17373515 - time (sec): 2.03 - samples/sec: 3246.86 - lr: 0.000001\n",
            "2023-04-21 16:05:54,935 epoch 43 - iter 4/24 - loss 0.17955341 - time (sec): 4.13 - samples/sec: 3405.54 - lr: 0.000001\n",
            "2023-04-21 16:05:57,055 epoch 43 - iter 6/24 - loss 0.16112405 - time (sec): 6.25 - samples/sec: 3675.12 - lr: 0.000001\n",
            "2023-04-21 16:05:59,206 epoch 43 - iter 8/24 - loss 0.15701524 - time (sec): 8.40 - samples/sec: 3674.74 - lr: 0.000001\n",
            "2023-04-21 16:06:01,432 epoch 43 - iter 10/24 - loss 0.16491226 - time (sec): 10.62 - samples/sec: 3758.83 - lr: 0.000001\n",
            "2023-04-21 16:06:03,537 epoch 43 - iter 12/24 - loss 0.16130393 - time (sec): 12.73 - samples/sec: 3706.97 - lr: 0.000001\n",
            "2023-04-21 16:06:05,606 epoch 43 - iter 14/24 - loss 0.16332192 - time (sec): 14.80 - samples/sec: 3681.13 - lr: 0.000001\n",
            "2023-04-21 16:06:07,681 epoch 43 - iter 16/24 - loss 0.16930546 - time (sec): 16.87 - samples/sec: 3707.50 - lr: 0.000001\n",
            "2023-04-21 16:06:10,031 epoch 43 - iter 18/24 - loss 0.18328259 - time (sec): 19.22 - samples/sec: 3706.69 - lr: 0.000001\n",
            "2023-04-21 16:06:12,116 epoch 43 - iter 20/24 - loss 0.18193633 - time (sec): 21.31 - samples/sec: 3724.23 - lr: 0.000001\n",
            "2023-04-21 16:06:14,282 epoch 43 - iter 22/24 - loss 0.18163520 - time (sec): 23.47 - samples/sec: 3734.32 - lr: 0.000001\n",
            "2023-04-21 16:06:16,082 epoch 43 - iter 24/24 - loss 0.17987212 - time (sec): 25.27 - samples/sec: 3749.66 - lr: 0.000001\n",
            "2023-04-21 16:06:16,085 ----------------------------------------------------------------------------------------------------\n",
            "2023-04-21 16:06:16,086 EPOCH 43 done: loss 0.1799 - lr 0.000001\n"
          ]
        },
        {
          "output_type": "stream",
          "name": "stderr",
          "text": [
            "100%|██████████| 24/24 [00:10<00:00,  2.38it/s]"
          ]
        },
        {
          "output_type": "stream",
          "name": "stdout",
          "text": [
            "2023-04-21 16:06:26,305 Evaluating as a multi-label problem: True\n"
          ]
        },
        {
          "output_type": "stream",
          "name": "stderr",
          "text": [
            "\n"
          ]
        },
        {
          "output_type": "stream",
          "name": "stdout",
          "text": [
            "2023-04-21 16:06:30,286 TRAIN : loss 0.14938974380493164 - f1-score (weighted avg)  0.7814\n"
          ]
        },
        {
          "output_type": "stream",
          "name": "stderr",
          "text": [
            "100%|██████████| 3/3 [00:01<00:00,  2.17it/s]"
          ]
        },
        {
          "output_type": "stream",
          "name": "stdout",
          "text": [
            "2023-04-21 16:06:31,826 Evaluating as a multi-label problem: False\n",
            "2023-04-21 16:06:31,896 DEV : loss 0.32128211855888367 - f1-score (weighted avg)  0.6327\n",
            "2023-04-21 16:06:31,916 Epoch    43: reducing learning rate of group 0 to 5.3687e-07.\n",
            "2023-04-21 16:06:31,918 BAD EPOCHS (no improvement): 2\n",
            "2023-04-21 16:06:31,922 ----------------------------------------------------------------------------------------------------\n"
          ]
        },
        {
          "output_type": "stream",
          "name": "stderr",
          "text": [
            "\n"
          ]
        },
        {
          "output_type": "stream",
          "name": "stdout",
          "text": [
            "2023-04-21 16:06:34,018 epoch 44 - iter 2/24 - loss 0.13160114 - time (sec): 2.09 - samples/sec: 4022.89 - lr: 0.000001\n",
            "2023-04-21 16:06:36,351 epoch 44 - iter 4/24 - loss 0.21299829 - time (sec): 4.43 - samples/sec: 3755.88 - lr: 0.000001\n",
            "2023-04-21 16:06:38,461 epoch 44 - iter 6/24 - loss 0.19235007 - time (sec): 6.54 - samples/sec: 3817.52 - lr: 0.000001\n",
            "2023-04-21 16:06:40,517 epoch 44 - iter 8/24 - loss 0.18877723 - time (sec): 8.59 - samples/sec: 3880.22 - lr: 0.000001\n",
            "2023-04-21 16:06:42,606 epoch 44 - iter 10/24 - loss 0.18226699 - time (sec): 10.68 - samples/sec: 3883.11 - lr: 0.000001\n",
            "2023-04-21 16:06:44,697 epoch 44 - iter 12/24 - loss 0.17699766 - time (sec): 12.77 - samples/sec: 3873.28 - lr: 0.000001\n",
            "2023-04-21 16:06:46,815 epoch 44 - iter 14/24 - loss 0.17477753 - time (sec): 14.89 - samples/sec: 3877.40 - lr: 0.000001\n",
            "2023-04-21 16:06:48,959 epoch 44 - iter 16/24 - loss 0.17669386 - time (sec): 17.04 - samples/sec: 3803.02 - lr: 0.000001\n",
            "2023-04-21 16:06:51,072 epoch 44 - iter 18/24 - loss 0.17219839 - time (sec): 19.15 - samples/sec: 3822.52 - lr: 0.000001\n",
            "2023-04-21 16:06:53,181 epoch 44 - iter 20/24 - loss 0.17303293 - time (sec): 21.26 - samples/sec: 3815.83 - lr: 0.000001\n",
            "2023-04-21 16:06:55,260 epoch 44 - iter 22/24 - loss 0.17472070 - time (sec): 23.34 - samples/sec: 3791.56 - lr: 0.000001\n",
            "2023-04-21 16:06:57,197 epoch 44 - iter 24/24 - loss 0.17859727 - time (sec): 25.27 - samples/sec: 3749.75 - lr: 0.000001\n",
            "2023-04-21 16:06:57,200 ----------------------------------------------------------------------------------------------------\n",
            "2023-04-21 16:06:57,202 EPOCH 44 done: loss 0.1786 - lr 0.000001\n"
          ]
        },
        {
          "output_type": "stream",
          "name": "stderr",
          "text": [
            "100%|██████████| 24/24 [00:10<00:00,  2.38it/s]"
          ]
        },
        {
          "output_type": "stream",
          "name": "stdout",
          "text": [
            "2023-04-21 16:07:07,439 Evaluating as a multi-label problem: True\n"
          ]
        },
        {
          "output_type": "stream",
          "name": "stderr",
          "text": [
            "\n"
          ]
        },
        {
          "output_type": "stream",
          "name": "stdout",
          "text": [
            "2023-04-21 16:07:11,407 TRAIN : loss 0.1506493091583252 - f1-score (weighted avg)  0.7797\n"
          ]
        },
        {
          "output_type": "stream",
          "name": "stderr",
          "text": [
            "100%|██████████| 3/3 [00:01<00:00,  2.17it/s]"
          ]
        },
        {
          "output_type": "stream",
          "name": "stdout",
          "text": [
            "2023-04-21 16:07:12,946 Evaluating as a multi-label problem: False\n",
            "2023-04-21 16:07:13,016 DEV : loss 0.320896178483963 - f1-score (weighted avg)  0.6317\n",
            "2023-04-21 16:07:13,035 BAD EPOCHS (no improvement): 1\n",
            "2023-04-21 16:07:13,040 ----------------------------------------------------------------------------------------------------\n"
          ]
        },
        {
          "output_type": "stream",
          "name": "stderr",
          "text": [
            "\n"
          ]
        },
        {
          "output_type": "stream",
          "name": "stdout",
          "text": [
            "2023-04-21 16:07:15,036 epoch 45 - iter 2/24 - loss 0.21498267 - time (sec): 1.99 - samples/sec: 3030.28 - lr: 0.000001\n",
            "2023-04-21 16:07:17,108 epoch 45 - iter 4/24 - loss 0.17237786 - time (sec): 4.07 - samples/sec: 3531.51 - lr: 0.000001\n",
            "2023-04-21 16:07:19,199 epoch 45 - iter 6/24 - loss 0.17317771 - time (sec): 6.16 - samples/sec: 3508.77 - lr: 0.000001\n",
            "2023-04-21 16:07:21,598 epoch 45 - iter 8/24 - loss 0.20785170 - time (sec): 8.56 - samples/sec: 3501.30 - lr: 0.000001\n",
            "2023-04-21 16:07:23,620 epoch 45 - iter 10/24 - loss 0.19766462 - time (sec): 10.58 - samples/sec: 3493.49 - lr: 0.000001\n",
            "2023-04-21 16:07:25,718 epoch 45 - iter 12/24 - loss 0.19173126 - time (sec): 12.68 - samples/sec: 3582.83 - lr: 0.000001\n",
            "2023-04-21 16:07:27,871 epoch 45 - iter 14/24 - loss 0.18254586 - time (sec): 14.83 - samples/sec: 3621.15 - lr: 0.000001\n",
            "2023-04-21 16:07:29,922 epoch 45 - iter 16/24 - loss 0.17994755 - time (sec): 16.88 - samples/sec: 3627.16 - lr: 0.000001\n",
            "2023-04-21 16:07:31,990 epoch 45 - iter 18/24 - loss 0.17636859 - time (sec): 18.95 - samples/sec: 3681.34 - lr: 0.000001\n",
            "2023-04-21 16:07:34,170 epoch 45 - iter 20/24 - loss 0.17615808 - time (sec): 21.13 - samples/sec: 3758.89 - lr: 0.000001\n",
            "2023-04-21 16:07:36,447 epoch 45 - iter 22/24 - loss 0.18109473 - time (sec): 23.41 - samples/sec: 3770.48 - lr: 0.000001\n",
            "2023-04-21 16:07:38,298 epoch 45 - iter 24/24 - loss 0.17875334 - time (sec): 25.26 - samples/sec: 3752.36 - lr: 0.000001\n",
            "2023-04-21 16:07:38,301 ----------------------------------------------------------------------------------------------------\n",
            "2023-04-21 16:07:38,303 EPOCH 45 done: loss 0.1788 - lr 0.000001\n"
          ]
        },
        {
          "output_type": "stream",
          "name": "stderr",
          "text": [
            "100%|██████████| 24/24 [00:10<00:00,  2.37it/s]"
          ]
        },
        {
          "output_type": "stream",
          "name": "stdout",
          "text": [
            "2023-04-21 16:07:48,565 Evaluating as a multi-label problem: True\n"
          ]
        },
        {
          "output_type": "stream",
          "name": "stderr",
          "text": [
            "\n"
          ]
        },
        {
          "output_type": "stream",
          "name": "stdout",
          "text": [
            "2023-04-21 16:07:52,573 TRAIN : loss 0.14963935315608978 - f1-score (weighted avg)  0.7814\n"
          ]
        },
        {
          "output_type": "stream",
          "name": "stderr",
          "text": [
            "100%|██████████| 3/3 [00:01<00:00,  2.15it/s]"
          ]
        },
        {
          "output_type": "stream",
          "name": "stdout",
          "text": [
            "2023-04-21 16:07:54,129 Evaluating as a multi-label problem: False\n",
            "2023-04-21 16:07:54,205 DEV : loss 0.32061171531677246 - f1-score (weighted avg)  0.6329\n",
            "2023-04-21 16:07:54,226 Epoch    45: reducing learning rate of group 0 to 4.2950e-07.\n",
            "2023-04-21 16:07:54,228 BAD EPOCHS (no improvement): 2\n",
            "2023-04-21 16:07:54,232 ----------------------------------------------------------------------------------------------------\n"
          ]
        },
        {
          "output_type": "stream",
          "name": "stderr",
          "text": [
            "\n"
          ]
        },
        {
          "output_type": "stream",
          "name": "stdout",
          "text": [
            "2023-04-21 16:07:56,287 epoch 46 - iter 2/24 - loss 0.16675075 - time (sec): 2.05 - samples/sec: 4037.10 - lr: 0.000000\n",
            "2023-04-21 16:07:58,361 epoch 46 - iter 4/24 - loss 0.16275341 - time (sec): 4.13 - samples/sec: 4052.88 - lr: 0.000000\n",
            "2023-04-21 16:08:00,733 epoch 46 - iter 6/24 - loss 0.21257713 - time (sec): 6.50 - samples/sec: 3848.91 - lr: 0.000000\n",
            "2023-04-21 16:08:02,828 epoch 46 - iter 8/24 - loss 0.20391136 - time (sec): 8.59 - samples/sec: 3751.70 - lr: 0.000000\n",
            "2023-04-21 16:08:05,185 epoch 46 - iter 10/24 - loss 0.20410987 - time (sec): 10.95 - samples/sec: 3821.10 - lr: 0.000000\n",
            "2023-04-21 16:08:07,270 epoch 46 - iter 12/24 - loss 0.20172381 - time (sec): 13.04 - samples/sec: 3822.22 - lr: 0.000000\n",
            "2023-04-21 16:08:09,391 epoch 46 - iter 14/24 - loss 0.19821533 - time (sec): 15.16 - samples/sec: 3829.58 - lr: 0.000000\n",
            "2023-04-21 16:08:11,426 epoch 46 - iter 16/24 - loss 0.19320469 - time (sec): 17.19 - samples/sec: 3782.87 - lr: 0.000000\n",
            "2023-04-21 16:08:13,544 epoch 46 - iter 18/24 - loss 0.18664514 - time (sec): 19.31 - samples/sec: 3783.84 - lr: 0.000000\n",
            "2023-04-21 16:08:15,594 epoch 46 - iter 20/24 - loss 0.18305116 - time (sec): 21.36 - samples/sec: 3812.41 - lr: 0.000000\n",
            "2023-04-21 16:08:17,616 epoch 46 - iter 22/24 - loss 0.17821429 - time (sec): 23.38 - samples/sec: 3795.18 - lr: 0.000000\n",
            "2023-04-21 16:08:19,412 epoch 46 - iter 24/24 - loss 0.17746673 - time (sec): 25.18 - samples/sec: 3763.94 - lr: 0.000000\n",
            "2023-04-21 16:08:19,415 ----------------------------------------------------------------------------------------------------\n",
            "2023-04-21 16:08:19,417 EPOCH 46 done: loss 0.1775 - lr 0.000000\n"
          ]
        },
        {
          "output_type": "stream",
          "name": "stderr",
          "text": [
            "100%|██████████| 24/24 [00:10<00:00,  2.37it/s]"
          ]
        },
        {
          "output_type": "stream",
          "name": "stdout",
          "text": [
            "2023-04-21 16:08:29,685 Evaluating as a multi-label problem: True\n"
          ]
        },
        {
          "output_type": "stream",
          "name": "stderr",
          "text": [
            "\n"
          ]
        },
        {
          "output_type": "stream",
          "name": "stdout",
          "text": [
            "2023-04-21 16:08:32,415 TRAIN : loss 0.1486888974905014 - f1-score (weighted avg)  0.7826\n"
          ]
        },
        {
          "output_type": "stream",
          "name": "stderr",
          "text": [
            "100%|██████████| 3/3 [00:01<00:00,  2.20it/s]\n"
          ]
        },
        {
          "output_type": "stream",
          "name": "stdout",
          "text": [
            "2023-04-21 16:08:34,969 Evaluating as a multi-label problem: False\n",
            "2023-04-21 16:08:35,040 DEV : loss 0.3209458887577057 - f1-score (weighted avg)  0.6339\n",
            "2023-04-21 16:08:35,060 BAD EPOCHS (no improvement): 1\n",
            "2023-04-21 16:08:35,067 ----------------------------------------------------------------------------------------------------\n",
            "2023-04-21 16:08:37,121 epoch 47 - iter 2/24 - loss 0.14900548 - time (sec): 2.05 - samples/sec: 3896.83 - lr: 0.000000\n",
            "2023-04-21 16:08:39,580 epoch 47 - iter 4/24 - loss 0.23171198 - time (sec): 4.51 - samples/sec: 3745.49 - lr: 0.000000\n",
            "2023-04-21 16:08:41,647 epoch 47 - iter 6/24 - loss 0.20799811 - time (sec): 6.58 - samples/sec: 3844.64 - lr: 0.000000\n",
            "2023-04-21 16:08:43,798 epoch 47 - iter 8/24 - loss 0.19040899 - time (sec): 8.73 - samples/sec: 3862.09 - lr: 0.000000\n",
            "2023-04-21 16:08:45,950 epoch 47 - iter 10/24 - loss 0.18261998 - time (sec): 10.88 - samples/sec: 3934.93 - lr: 0.000000\n",
            "2023-04-21 16:08:48,025 epoch 47 - iter 12/24 - loss 0.17724031 - time (sec): 12.96 - samples/sec: 3850.78 - lr: 0.000000\n",
            "2023-04-21 16:08:50,080 epoch 47 - iter 14/24 - loss 0.17656311 - time (sec): 15.01 - samples/sec: 3823.87 - lr: 0.000000\n",
            "2023-04-21 16:08:52,171 epoch 47 - iter 16/24 - loss 0.17415790 - time (sec): 17.10 - samples/sec: 3827.97 - lr: 0.000000\n",
            "2023-04-21 16:08:54,422 epoch 47 - iter 18/24 - loss 0.17934312 - time (sec): 19.35 - samples/sec: 3827.12 - lr: 0.000000\n",
            "2023-04-21 16:08:56,469 epoch 47 - iter 20/24 - loss 0.17908630 - time (sec): 21.40 - samples/sec: 3796.80 - lr: 0.000000\n",
            "2023-04-21 16:08:58,503 epoch 47 - iter 22/24 - loss 0.17840013 - time (sec): 23.43 - samples/sec: 3771.25 - lr: 0.000000\n",
            "2023-04-21 16:09:00,295 epoch 47 - iter 24/24 - loss 0.17622735 - time (sec): 25.23 - samples/sec: 3756.78 - lr: 0.000000\n",
            "2023-04-21 16:09:00,298 ----------------------------------------------------------------------------------------------------\n",
            "2023-04-21 16:09:00,300 EPOCH 47 done: loss 0.1762 - lr 0.000000\n"
          ]
        },
        {
          "output_type": "stream",
          "name": "stderr",
          "text": [
            "100%|██████████| 24/24 [00:10<00:00,  2.36it/s]"
          ]
        },
        {
          "output_type": "stream",
          "name": "stdout",
          "text": [
            "2023-04-21 16:09:10,599 Evaluating as a multi-label problem: True\n"
          ]
        },
        {
          "output_type": "stream",
          "name": "stderr",
          "text": [
            "\n"
          ]
        },
        {
          "output_type": "stream",
          "name": "stdout",
          "text": [
            "2023-04-21 16:09:14,493 TRAIN : loss 0.1487019658088684 - f1-score (weighted avg)  0.7825\n"
          ]
        },
        {
          "output_type": "stream",
          "name": "stderr",
          "text": [
            "100%|██████████| 3/3 [00:01<00:00,  2.19it/s]"
          ]
        },
        {
          "output_type": "stream",
          "name": "stdout",
          "text": [
            "2023-04-21 16:09:16,021 Evaluating as a multi-label problem: False\n",
            "2023-04-21 16:09:16,097 DEV : loss 0.3217669129371643 - f1-score (weighted avg)  0.6337\n",
            "2023-04-21 16:09:16,117 Epoch    47: reducing learning rate of group 0 to 3.4360e-07.\n",
            "2023-04-21 16:09:16,119 BAD EPOCHS (no improvement): 2\n",
            "2023-04-21 16:09:16,122 ----------------------------------------------------------------------------------------------------\n"
          ]
        },
        {
          "output_type": "stream",
          "name": "stderr",
          "text": [
            "\n"
          ]
        },
        {
          "output_type": "stream",
          "name": "stdout",
          "text": [
            "2023-04-21 16:09:18,172 epoch 48 - iter 2/24 - loss 0.19515821 - time (sec): 2.05 - samples/sec: 3513.19 - lr: 0.000000\n",
            "2023-04-21 16:09:20,232 epoch 48 - iter 4/24 - loss 0.16926374 - time (sec): 4.11 - samples/sec: 3722.77 - lr: 0.000000\n",
            "2023-04-21 16:09:22,339 epoch 48 - iter 6/24 - loss 0.16807216 - time (sec): 6.21 - samples/sec: 3603.73 - lr: 0.000000\n",
            "2023-04-21 16:09:24,484 epoch 48 - iter 8/24 - loss 0.16249739 - time (sec): 8.36 - samples/sec: 3644.53 - lr: 0.000000\n",
            "2023-04-21 16:09:26,520 epoch 48 - iter 10/24 - loss 0.16770485 - time (sec): 10.40 - samples/sec: 3682.94 - lr: 0.000000\n",
            "2023-04-21 16:09:28,570 epoch 48 - iter 12/24 - loss 0.16379329 - time (sec): 12.45 - samples/sec: 3702.02 - lr: 0.000000\n",
            "2023-04-21 16:09:30,652 epoch 48 - iter 14/24 - loss 0.16011795 - time (sec): 14.53 - samples/sec: 3742.46 - lr: 0.000000\n",
            "2023-04-21 16:09:33,041 epoch 48 - iter 16/24 - loss 0.18050479 - time (sec): 16.92 - samples/sec: 3719.02 - lr: 0.000000\n",
            "2023-04-21 16:09:35,121 epoch 48 - iter 18/24 - loss 0.18012707 - time (sec): 19.00 - samples/sec: 3712.15 - lr: 0.000000\n",
            "2023-04-21 16:09:37,368 epoch 48 - iter 20/24 - loss 0.18255970 - time (sec): 21.24 - samples/sec: 3737.95 - lr: 0.000000\n",
            "2023-04-21 16:09:39,527 epoch 48 - iter 22/24 - loss 0.18068472 - time (sec): 23.40 - samples/sec: 3757.36 - lr: 0.000000\n",
            "2023-04-21 16:09:41,319 epoch 48 - iter 24/24 - loss 0.17835745 - time (sec): 25.19 - samples/sec: 3761.51 - lr: 0.000000\n",
            "2023-04-21 16:09:41,323 ----------------------------------------------------------------------------------------------------\n",
            "2023-04-21 16:09:41,324 EPOCH 48 done: loss 0.1784 - lr 0.000000\n"
          ]
        },
        {
          "output_type": "stream",
          "name": "stderr",
          "text": [
            "100%|██████████| 24/24 [00:10<00:00,  2.37it/s]"
          ]
        },
        {
          "output_type": "stream",
          "name": "stdout",
          "text": [
            "2023-04-21 16:09:51,576 Evaluating as a multi-label problem: True\n"
          ]
        },
        {
          "output_type": "stream",
          "name": "stderr",
          "text": [
            "\n"
          ]
        },
        {
          "output_type": "stream",
          "name": "stdout",
          "text": [
            "2023-04-21 16:09:55,509 TRAIN : loss 0.14898264408111572 - f1-score (weighted avg)  0.7822\n"
          ]
        },
        {
          "output_type": "stream",
          "name": "stderr",
          "text": [
            "100%|██████████| 3/3 [00:01<00:00,  2.18it/s]"
          ]
        },
        {
          "output_type": "stream",
          "name": "stdout",
          "text": [
            "2023-04-21 16:09:57,037 Evaluating as a multi-label problem: False\n",
            "2023-04-21 16:09:57,109 DEV : loss 0.321629136800766 - f1-score (weighted avg)  0.6349\n",
            "2023-04-21 16:09:57,129 BAD EPOCHS (no improvement): 1\n",
            "2023-04-21 16:09:57,134 ----------------------------------------------------------------------------------------------------\n"
          ]
        },
        {
          "output_type": "stream",
          "name": "stderr",
          "text": [
            "\n"
          ]
        },
        {
          "output_type": "stream",
          "name": "stdout",
          "text": [
            "2023-04-21 16:09:59,204 epoch 49 - iter 2/24 - loss 0.16970590 - time (sec): 2.07 - samples/sec: 3678.73 - lr: 0.000000\n",
            "2023-04-21 16:10:01,505 epoch 49 - iter 4/24 - loss 0.18515088 - time (sec): 4.37 - samples/sec: 3672.37 - lr: 0.000000\n",
            "2023-04-21 16:10:03,918 epoch 49 - iter 6/24 - loss 0.21872657 - time (sec): 6.78 - samples/sec: 3551.15 - lr: 0.000000\n",
            "2023-04-21 16:10:05,964 epoch 49 - iter 8/24 - loss 0.20666798 - time (sec): 8.83 - samples/sec: 3557.64 - lr: 0.000000\n",
            "2023-04-21 16:10:08,019 epoch 49 - iter 10/24 - loss 0.19661698 - time (sec): 10.88 - samples/sec: 3627.26 - lr: 0.000000\n",
            "2023-04-21 16:10:10,111 epoch 49 - iter 12/24 - loss 0.19224492 - time (sec): 12.98 - samples/sec: 3696.25 - lr: 0.000000\n",
            "2023-04-21 16:10:12,219 epoch 49 - iter 14/24 - loss 0.18709617 - time (sec): 15.08 - samples/sec: 3736.08 - lr: 0.000000\n",
            "2023-04-21 16:10:14,262 epoch 49 - iter 16/24 - loss 0.18773293 - time (sec): 17.13 - samples/sec: 3719.41 - lr: 0.000000\n",
            "2023-04-21 16:10:16,349 epoch 49 - iter 18/24 - loss 0.18310698 - time (sec): 19.21 - samples/sec: 3740.84 - lr: 0.000000\n",
            "2023-04-21 16:10:18,436 epoch 49 - iter 20/24 - loss 0.18132659 - time (sec): 21.30 - samples/sec: 3791.40 - lr: 0.000000\n",
            "2023-04-21 16:10:20,515 epoch 49 - iter 22/24 - loss 0.17843921 - time (sec): 23.38 - samples/sec: 3795.24 - lr: 0.000000\n",
            "2023-04-21 16:10:22,242 epoch 49 - iter 24/24 - loss 0.17621707 - time (sec): 25.11 - samples/sec: 3774.74 - lr: 0.000000\n",
            "2023-04-21 16:10:22,245 ----------------------------------------------------------------------------------------------------\n",
            "2023-04-21 16:10:22,247 EPOCH 49 done: loss 0.1762 - lr 0.000000\n"
          ]
        },
        {
          "output_type": "stream",
          "name": "stderr",
          "text": [
            "100%|██████████| 24/24 [00:10<00:00,  2.38it/s]"
          ]
        },
        {
          "output_type": "stream",
          "name": "stdout",
          "text": [
            "2023-04-21 16:10:32,473 Evaluating as a multi-label problem: True\n"
          ]
        },
        {
          "output_type": "stream",
          "name": "stderr",
          "text": [
            "\n"
          ]
        },
        {
          "output_type": "stream",
          "name": "stdout",
          "text": [
            "2023-04-21 16:10:36,434 TRAIN : loss 0.14779187738895416 - f1-score (weighted avg)  0.7845\n"
          ]
        },
        {
          "output_type": "stream",
          "name": "stderr",
          "text": [
            "100%|██████████| 3/3 [00:01<00:00,  2.15it/s]"
          ]
        },
        {
          "output_type": "stream",
          "name": "stdout",
          "text": [
            "2023-04-21 16:10:37,984 Evaluating as a multi-label problem: False\n",
            "2023-04-21 16:10:38,055 DEV : loss 0.32178017497062683 - f1-score (weighted avg)  0.6356\n",
            "2023-04-21 16:10:38,076 Epoch    49: reducing learning rate of group 0 to 2.7488e-07.\n",
            "2023-04-21 16:10:38,078 BAD EPOCHS (no improvement): 2\n",
            "2023-04-21 16:10:38,082 ----------------------------------------------------------------------------------------------------\n"
          ]
        },
        {
          "output_type": "stream",
          "name": "stderr",
          "text": [
            "\n"
          ]
        },
        {
          "output_type": "stream",
          "name": "stdout",
          "text": [
            "2023-04-21 16:10:40,210 epoch 50 - iter 2/24 - loss 0.16370757 - time (sec): 2.13 - samples/sec: 4013.51 - lr: 0.000000\n",
            "2023-04-21 16:10:42,285 epoch 50 - iter 4/24 - loss 0.15215470 - time (sec): 4.20 - samples/sec: 4007.23 - lr: 0.000000\n",
            "2023-04-21 16:10:44,413 epoch 50 - iter 6/24 - loss 0.15564678 - time (sec): 6.33 - samples/sec: 3887.43 - lr: 0.000000\n",
            "2023-04-21 16:10:46,455 epoch 50 - iter 8/24 - loss 0.15936912 - time (sec): 8.37 - samples/sec: 3860.77 - lr: 0.000000\n",
            "2023-04-21 16:10:48,543 epoch 50 - iter 10/24 - loss 0.15711671 - time (sec): 10.46 - samples/sec: 3915.48 - lr: 0.000000\n",
            "2023-04-21 16:10:50,721 epoch 50 - iter 12/24 - loss 0.16469486 - time (sec): 12.64 - samples/sec: 3863.06 - lr: 0.000000\n",
            "2023-04-21 16:10:52,839 epoch 50 - iter 14/24 - loss 0.16221683 - time (sec): 14.75 - samples/sec: 3857.34 - lr: 0.000000\n",
            "2023-04-21 16:10:54,875 epoch 50 - iter 16/24 - loss 0.16308628 - time (sec): 16.79 - samples/sec: 3839.41 - lr: 0.000000\n",
            "2023-04-21 16:10:56,916 epoch 50 - iter 18/24 - loss 0.16186380 - time (sec): 18.83 - samples/sec: 3823.56 - lr: 0.000000\n",
            "2023-04-21 16:10:59,339 epoch 50 - iter 20/24 - loss 0.17545874 - time (sec): 21.26 - samples/sec: 3792.67 - lr: 0.000000\n",
            "2023-04-21 16:11:01,569 epoch 50 - iter 22/24 - loss 0.18017405 - time (sec): 23.48 - samples/sec: 3754.99 - lr: 0.000000\n",
            "2023-04-21 16:11:03,342 epoch 50 - iter 24/24 - loss 0.17761210 - time (sec): 25.26 - samples/sec: 3751.99 - lr: 0.000000\n",
            "2023-04-21 16:11:03,345 ----------------------------------------------------------------------------------------------------\n",
            "2023-04-21 16:11:03,347 EPOCH 50 done: loss 0.1776 - lr 0.000000\n"
          ]
        },
        {
          "output_type": "stream",
          "name": "stderr",
          "text": [
            "100%|██████████| 24/24 [00:10<00:00,  2.37it/s]"
          ]
        },
        {
          "output_type": "stream",
          "name": "stdout",
          "text": [
            "2023-04-21 16:11:13,622 Evaluating as a multi-label problem: True\n"
          ]
        },
        {
          "output_type": "stream",
          "name": "stderr",
          "text": [
            "\n"
          ]
        },
        {
          "output_type": "stream",
          "name": "stdout",
          "text": [
            "2023-04-21 16:11:17,605 TRAIN : loss 0.14807003736495972 - f1-score (weighted avg)  0.7837\n"
          ]
        },
        {
          "output_type": "stream",
          "name": "stderr",
          "text": [
            "100%|██████████| 3/3 [00:01<00:00,  2.16it/s]"
          ]
        },
        {
          "output_type": "stream",
          "name": "stdout",
          "text": [
            "2023-04-21 16:11:19,153 Evaluating as a multi-label problem: False\n",
            "2023-04-21 16:11:19,223 DEV : loss 0.3218626081943512 - f1-score (weighted avg)  0.6357\n",
            "2023-04-21 16:11:19,243 BAD EPOCHS (no improvement): 1\n",
            "2023-04-21 16:11:19,247 ----------------------------------------------------------------------------------------------------\n"
          ]
        },
        {
          "output_type": "stream",
          "name": "stderr",
          "text": [
            "\n"
          ]
        },
        {
          "output_type": "stream",
          "name": "stdout",
          "text": [
            "2023-04-21 16:11:21,497 epoch 51 - iter 2/24 - loss 0.20795363 - time (sec): 2.25 - samples/sec: 4169.58 - lr: 0.000000\n",
            "2023-04-21 16:11:23,567 epoch 51 - iter 4/24 - loss 0.17758435 - time (sec): 4.32 - samples/sec: 4019.89 - lr: 0.000000\n",
            "2023-04-21 16:11:25,701 epoch 51 - iter 6/24 - loss 0.17031656 - time (sec): 6.45 - samples/sec: 4100.77 - lr: 0.000000\n",
            "2023-04-21 16:11:28,171 epoch 51 - iter 8/24 - loss 0.20066830 - time (sec): 8.92 - samples/sec: 3982.62 - lr: 0.000000\n",
            "2023-04-21 16:11:30,291 epoch 51 - iter 10/24 - loss 0.19377385 - time (sec): 11.04 - samples/sec: 3936.42 - lr: 0.000000\n",
            "2023-04-21 16:11:32,332 epoch 51 - iter 12/24 - loss 0.19024660 - time (sec): 13.08 - samples/sec: 3930.75 - lr: 0.000000\n",
            "2023-04-21 16:11:34,413 epoch 51 - iter 14/24 - loss 0.18387978 - time (sec): 15.16 - samples/sec: 3951.84 - lr: 0.000000\n",
            "2023-04-21 16:11:36,512 epoch 51 - iter 16/24 - loss 0.18215025 - time (sec): 17.26 - samples/sec: 3849.33 - lr: 0.000000\n",
            "2023-04-21 16:11:38,539 epoch 51 - iter 18/24 - loss 0.18051065 - time (sec): 19.29 - samples/sec: 3790.57 - lr: 0.000000\n",
            "2023-04-21 16:11:40,637 epoch 51 - iter 20/24 - loss 0.17906334 - time (sec): 21.39 - samples/sec: 3780.29 - lr: 0.000000\n",
            "2023-04-21 16:11:42,737 epoch 51 - iter 22/24 - loss 0.17814676 - time (sec): 23.49 - samples/sec: 3776.64 - lr: 0.000000\n",
            "2023-04-21 16:11:44,468 epoch 51 - iter 24/24 - loss 0.17724426 - time (sec): 25.22 - samples/sec: 3757.88 - lr: 0.000000\n",
            "2023-04-21 16:11:44,471 ----------------------------------------------------------------------------------------------------\n",
            "2023-04-21 16:11:44,473 EPOCH 51 done: loss 0.1772 - lr 0.000000\n"
          ]
        },
        {
          "output_type": "stream",
          "name": "stderr",
          "text": [
            "100%|██████████| 24/24 [00:10<00:00,  2.37it/s]"
          ]
        },
        {
          "output_type": "stream",
          "name": "stdout",
          "text": [
            "2023-04-21 16:11:54,742 Evaluating as a multi-label problem: True\n"
          ]
        },
        {
          "output_type": "stream",
          "name": "stderr",
          "text": [
            "\n"
          ]
        },
        {
          "output_type": "stream",
          "name": "stdout",
          "text": [
            "2023-04-21 16:11:57,476 TRAIN : loss 0.14822396636009216 - f1-score (weighted avg)  0.7835\n"
          ]
        },
        {
          "output_type": "stream",
          "name": "stderr",
          "text": [
            "100%|██████████| 3/3 [00:02<00:00,  1.25it/s]"
          ]
        },
        {
          "output_type": "stream",
          "name": "stdout",
          "text": [
            "2023-04-21 16:12:00,038 Evaluating as a multi-label problem: False\n",
            "2023-04-21 16:12:00,106 DEV : loss 0.32166436314582825 - f1-score (weighted avg)  0.6358\n",
            "2023-04-21 16:12:00,126 Epoch    51: reducing learning rate of group 0 to 2.1990e-07.\n",
            "2023-04-21 16:12:00,127 BAD EPOCHS (no improvement): 2\n",
            "2023-04-21 16:12:00,130 ----------------------------------------------------------------------------------------------------\n"
          ]
        },
        {
          "output_type": "stream",
          "name": "stderr",
          "text": [
            "\n"
          ]
        },
        {
          "output_type": "stream",
          "name": "stdout",
          "text": [
            "2023-04-21 16:12:02,263 epoch 52 - iter 2/24 - loss 0.16972429 - time (sec): 2.13 - samples/sec: 3776.41 - lr: 0.000000\n",
            "2023-04-21 16:12:04,347 epoch 52 - iter 4/24 - loss 0.16047685 - time (sec): 4.21 - samples/sec: 3797.41 - lr: 0.000000\n",
            "2023-04-21 16:12:06,441 epoch 52 - iter 6/24 - loss 0.15913091 - time (sec): 6.31 - samples/sec: 3638.32 - lr: 0.000000\n",
            "2023-04-21 16:12:08,482 epoch 52 - iter 8/24 - loss 0.15742143 - time (sec): 8.35 - samples/sec: 3719.86 - lr: 0.000000\n",
            "2023-04-21 16:12:10,542 epoch 52 - iter 10/24 - loss 0.15827933 - time (sec): 10.41 - samples/sec: 3645.66 - lr: 0.000000\n",
            "2023-04-21 16:12:12,662 epoch 52 - iter 12/24 - loss 0.15634437 - time (sec): 12.53 - samples/sec: 3764.58 - lr: 0.000000\n",
            "2023-04-21 16:12:15,024 epoch 52 - iter 14/24 - loss 0.17755961 - time (sec): 14.89 - samples/sec: 3759.70 - lr: 0.000000\n",
            "2023-04-21 16:12:17,144 epoch 52 - iter 16/24 - loss 0.17912488 - time (sec): 17.01 - samples/sec: 3750.11 - lr: 0.000000\n",
            "2023-04-21 16:12:19,389 epoch 52 - iter 18/24 - loss 0.18388269 - time (sec): 19.26 - samples/sec: 3748.31 - lr: 0.000000\n",
            "2023-04-21 16:12:21,572 epoch 52 - iter 20/24 - loss 0.17945681 - time (sec): 21.44 - samples/sec: 3738.89 - lr: 0.000000\n",
            "2023-04-21 16:12:23,605 epoch 52 - iter 22/24 - loss 0.17774528 - time (sec): 23.47 - samples/sec: 3758.32 - lr: 0.000000\n",
            "2023-04-21 16:12:25,358 epoch 52 - iter 24/24 - loss 0.17666661 - time (sec): 25.23 - samples/sec: 3756.84 - lr: 0.000000\n",
            "2023-04-21 16:12:25,361 ----------------------------------------------------------------------------------------------------\n",
            "2023-04-21 16:12:25,363 EPOCH 52 done: loss 0.1767 - lr 0.000000\n"
          ]
        },
        {
          "output_type": "stream",
          "name": "stderr",
          "text": [
            "100%|██████████| 24/24 [00:10<00:00,  2.36it/s]"
          ]
        },
        {
          "output_type": "stream",
          "name": "stdout",
          "text": [
            "2023-04-21 16:12:35,672 Evaluating as a multi-label problem: True\n"
          ]
        },
        {
          "output_type": "stream",
          "name": "stderr",
          "text": [
            "\n"
          ]
        },
        {
          "output_type": "stream",
          "name": "stdout",
          "text": [
            "2023-04-21 16:12:39,597 TRAIN : loss 0.14746852219104767 - f1-score (weighted avg)  0.7847\n"
          ]
        },
        {
          "output_type": "stream",
          "name": "stderr",
          "text": [
            "100%|██████████| 3/3 [00:01<00:00,  2.17it/s]"
          ]
        },
        {
          "output_type": "stream",
          "name": "stdout",
          "text": [
            "2023-04-21 16:12:41,142 Evaluating as a multi-label problem: False\n",
            "2023-04-21 16:12:41,211 DEV : loss 0.3216248154640198 - f1-score (weighted avg)  0.6367\n",
            "2023-04-21 16:12:41,231 BAD EPOCHS (no improvement): 1\n",
            "2023-04-21 16:12:41,235 ----------------------------------------------------------------------------------------------------\n"
          ]
        },
        {
          "output_type": "stream",
          "name": "stderr",
          "text": [
            "\n"
          ]
        },
        {
          "output_type": "stream",
          "name": "stdout",
          "text": [
            "2023-04-21 16:12:43,321 epoch 53 - iter 2/24 - loss 0.15989308 - time (sec): 2.09 - samples/sec: 3687.68 - lr: 0.000000\n",
            "2023-04-21 16:12:45,368 epoch 53 - iter 4/24 - loss 0.15977590 - time (sec): 4.13 - samples/sec: 3784.15 - lr: 0.000000\n",
            "2023-04-21 16:12:47,534 epoch 53 - iter 6/24 - loss 0.16324510 - time (sec): 6.30 - samples/sec: 3762.63 - lr: 0.000000\n",
            "2023-04-21 16:12:49,627 epoch 53 - iter 8/24 - loss 0.16147011 - time (sec): 8.39 - samples/sec: 3741.49 - lr: 0.000000\n",
            "2023-04-21 16:12:51,707 epoch 53 - iter 10/24 - loss 0.16338404 - time (sec): 10.47 - samples/sec: 3721.84 - lr: 0.000000\n",
            "2023-04-21 16:12:53,794 epoch 53 - iter 12/24 - loss 0.16086104 - time (sec): 12.56 - samples/sec: 3605.02 - lr: 0.000000\n",
            "2023-04-21 16:12:56,258 epoch 53 - iter 14/24 - loss 0.18624128 - time (sec): 15.02 - samples/sec: 3639.47 - lr: 0.000000\n",
            "2023-04-21 16:12:58,314 epoch 53 - iter 16/24 - loss 0.18176188 - time (sec): 17.08 - samples/sec: 3680.04 - lr: 0.000000\n",
            "2023-04-21 16:13:00,431 epoch 53 - iter 18/24 - loss 0.18045971 - time (sec): 19.19 - samples/sec: 3705.88 - lr: 0.000000\n",
            "2023-04-21 16:13:02,558 epoch 53 - iter 20/24 - loss 0.17777200 - time (sec): 21.32 - samples/sec: 3753.90 - lr: 0.000000\n",
            "2023-04-21 16:13:04,601 epoch 53 - iter 22/24 - loss 0.17752424 - time (sec): 23.37 - samples/sec: 3748.25 - lr: 0.000000\n",
            "2023-04-21 16:13:06,366 epoch 53 - iter 24/24 - loss 0.17629741 - time (sec): 25.13 - samples/sec: 3771.19 - lr: 0.000000\n",
            "2023-04-21 16:13:06,369 ----------------------------------------------------------------------------------------------------\n",
            "2023-04-21 16:13:06,371 EPOCH 53 done: loss 0.1763 - lr 0.000000\n"
          ]
        },
        {
          "output_type": "stream",
          "name": "stderr",
          "text": [
            "100%|██████████| 24/24 [00:10<00:00,  2.36it/s]"
          ]
        },
        {
          "output_type": "stream",
          "name": "stdout",
          "text": [
            "2023-04-21 16:13:16,664 Evaluating as a multi-label problem: True\n"
          ]
        },
        {
          "output_type": "stream",
          "name": "stderr",
          "text": [
            "\n"
          ]
        },
        {
          "output_type": "stream",
          "name": "stdout",
          "text": [
            "2023-04-21 16:13:20,558 TRAIN : loss 0.1470487415790558 - f1-score (weighted avg)  0.785\n"
          ]
        },
        {
          "output_type": "stream",
          "name": "stderr",
          "text": [
            "100%|██████████| 3/3 [00:01<00:00,  2.19it/s]"
          ]
        },
        {
          "output_type": "stream",
          "name": "stdout",
          "text": [
            "2023-04-21 16:13:22,083 Evaluating as a multi-label problem: False\n",
            "2023-04-21 16:13:22,155 DEV : loss 0.32212895154953003 - f1-score (weighted avg)  0.6361\n",
            "2023-04-21 16:13:22,175 Epoch    53: reducing learning rate of group 0 to 1.7592e-07.\n",
            "2023-04-21 16:13:22,177 BAD EPOCHS (no improvement): 2\n",
            "2023-04-21 16:13:22,181 ----------------------------------------------------------------------------------------------------\n"
          ]
        },
        {
          "output_type": "stream",
          "name": "stderr",
          "text": [
            "\n"
          ]
        },
        {
          "output_type": "stream",
          "name": "stdout",
          "text": [
            "2023-04-21 16:13:24,328 epoch 54 - iter 2/24 - loss 0.14990206 - time (sec): 2.15 - samples/sec: 3894.00 - lr: 0.000000\n",
            "2023-04-21 16:13:26,545 epoch 54 - iter 4/24 - loss 0.16952101 - time (sec): 4.36 - samples/sec: 3790.04 - lr: 0.000000\n",
            "2023-04-21 16:13:28,698 epoch 54 - iter 6/24 - loss 0.16898942 - time (sec): 6.52 - samples/sec: 3879.04 - lr: 0.000000\n",
            "2023-04-21 16:13:30,757 epoch 54 - iter 8/24 - loss 0.16529356 - time (sec): 8.57 - samples/sec: 3843.35 - lr: 0.000000\n",
            "2023-04-21 16:13:32,895 epoch 54 - iter 10/24 - loss 0.16497487 - time (sec): 10.71 - samples/sec: 3759.21 - lr: 0.000000\n",
            "2023-04-21 16:13:34,949 epoch 54 - iter 12/24 - loss 0.16072372 - time (sec): 12.77 - samples/sec: 3808.46 - lr: 0.000000\n",
            "2023-04-21 16:13:37,021 epoch 54 - iter 14/24 - loss 0.16019643 - time (sec): 14.84 - samples/sec: 3729.72 - lr: 0.000000\n",
            "2023-04-21 16:13:39,078 epoch 54 - iter 16/24 - loss 0.16111999 - time (sec): 16.90 - samples/sec: 3758.86 - lr: 0.000000\n",
            "2023-04-21 16:13:41,295 epoch 54 - iter 18/24 - loss 0.16357315 - time (sec): 19.11 - samples/sec: 3781.57 - lr: 0.000000\n",
            "2023-04-21 16:13:43,670 epoch 54 - iter 20/24 - loss 0.17830383 - time (sec): 21.49 - samples/sec: 3767.70 - lr: 0.000000\n",
            "2023-04-21 16:13:45,753 epoch 54 - iter 22/24 - loss 0.17824536 - time (sec): 23.57 - samples/sec: 3779.16 - lr: 0.000000\n",
            "2023-04-21 16:13:47,488 epoch 54 - iter 24/24 - loss 0.17725412 - time (sec): 25.31 - samples/sec: 3745.00 - lr: 0.000000\n",
            "2023-04-21 16:13:47,491 ----------------------------------------------------------------------------------------------------\n",
            "2023-04-21 16:13:47,493 EPOCH 54 done: loss 0.1773 - lr 0.000000\n"
          ]
        },
        {
          "output_type": "stream",
          "name": "stderr",
          "text": [
            "100%|██████████| 24/24 [00:10<00:00,  2.37it/s]"
          ]
        },
        {
          "output_type": "stream",
          "name": "stdout",
          "text": [
            "2023-04-21 16:13:57,757 Evaluating as a multi-label problem: True\n"
          ]
        },
        {
          "output_type": "stream",
          "name": "stderr",
          "text": [
            "\n"
          ]
        },
        {
          "output_type": "stream",
          "name": "stdout",
          "text": [
            "2023-04-21 16:14:01,691 TRAIN : loss 0.14684084057807922 - f1-score (weighted avg)  0.7851\n"
          ]
        },
        {
          "output_type": "stream",
          "name": "stderr",
          "text": [
            "100%|██████████| 3/3 [00:01<00:00,  2.16it/s]"
          ]
        },
        {
          "output_type": "stream",
          "name": "stdout",
          "text": [
            "2023-04-21 16:14:03,238 Evaluating as a multi-label problem: False\n",
            "2023-04-21 16:14:03,311 DEV : loss 0.32231056690216064 - f1-score (weighted avg)  0.635\n",
            "2023-04-21 16:14:03,330 BAD EPOCHS (no improvement): 1\n",
            "2023-04-21 16:14:03,334 ----------------------------------------------------------------------------------------------------\n"
          ]
        },
        {
          "output_type": "stream",
          "name": "stderr",
          "text": [
            "\n"
          ]
        },
        {
          "output_type": "stream",
          "name": "stdout",
          "text": [
            "2023-04-21 16:14:05,465 epoch 55 - iter 2/24 - loss 0.17039633 - time (sec): 2.13 - samples/sec: 3660.05 - lr: 0.000000\n",
            "2023-04-21 16:14:07,589 epoch 55 - iter 4/24 - loss 0.17492667 - time (sec): 4.25 - samples/sec: 3780.63 - lr: 0.000000\n",
            "2023-04-21 16:14:09,637 epoch 55 - iter 6/24 - loss 0.17888353 - time (sec): 6.30 - samples/sec: 3788.32 - lr: 0.000000\n",
            "2023-04-21 16:14:11,894 epoch 55 - iter 8/24 - loss 0.18171794 - time (sec): 8.56 - samples/sec: 3801.76 - lr: 0.000000\n",
            "2023-04-21 16:14:13,945 epoch 55 - iter 10/24 - loss 0.17878542 - time (sec): 10.61 - samples/sec: 3813.91 - lr: 0.000000\n",
            "2023-04-21 16:14:16,067 epoch 55 - iter 12/24 - loss 0.17391897 - time (sec): 12.73 - samples/sec: 3903.39 - lr: 0.000000\n",
            "2023-04-21 16:14:18,133 epoch 55 - iter 14/24 - loss 0.17108501 - time (sec): 14.80 - samples/sec: 3901.18 - lr: 0.000000\n",
            "2023-04-21 16:14:20,476 epoch 55 - iter 16/24 - loss 0.18495709 - time (sec): 17.14 - samples/sec: 3834.96 - lr: 0.000000\n",
            "2023-04-21 16:14:22,593 epoch 55 - iter 18/24 - loss 0.18206762 - time (sec): 19.26 - samples/sec: 3819.24 - lr: 0.000000\n",
            "2023-04-21 16:14:24,685 epoch 55 - iter 20/24 - loss 0.17943392 - time (sec): 21.35 - samples/sec: 3800.44 - lr: 0.000000\n",
            "2023-04-21 16:14:26,823 epoch 55 - iter 22/24 - loss 0.17957519 - time (sec): 23.49 - samples/sec: 3745.73 - lr: 0.000000\n",
            "2023-04-21 16:14:28,649 epoch 55 - iter 24/24 - loss 0.17683468 - time (sec): 25.31 - samples/sec: 3743.91 - lr: 0.000000\n",
            "2023-04-21 16:14:28,652 ----------------------------------------------------------------------------------------------------\n",
            "2023-04-21 16:14:28,653 EPOCH 55 done: loss 0.1768 - lr 0.000000\n"
          ]
        },
        {
          "output_type": "stream",
          "name": "stderr",
          "text": [
            "100%|██████████| 24/24 [00:10<00:00,  2.38it/s]"
          ]
        },
        {
          "output_type": "stream",
          "name": "stdout",
          "text": [
            "2023-04-21 16:14:38,880 Evaluating as a multi-label problem: True\n"
          ]
        },
        {
          "output_type": "stream",
          "name": "stderr",
          "text": [
            "\n"
          ]
        },
        {
          "output_type": "stream",
          "name": "stdout",
          "text": [
            "2023-04-21 16:14:42,850 TRAIN : loss 0.14651867747306824 - f1-score (weighted avg)  0.7856\n"
          ]
        },
        {
          "output_type": "stream",
          "name": "stderr",
          "text": [
            "100%|██████████| 3/3 [00:01<00:00,  2.18it/s]"
          ]
        },
        {
          "output_type": "stream",
          "name": "stdout",
          "text": [
            "2023-04-21 16:14:44,386 Evaluating as a multi-label problem: False\n",
            "2023-04-21 16:14:44,458 DEV : loss 0.3224031627178192 - f1-score (weighted avg)  0.6358\n",
            "2023-04-21 16:14:44,478 Epoch    55: reducing learning rate of group 0 to 1.4074e-07.\n",
            "2023-04-21 16:14:44,480 BAD EPOCHS (no improvement): 2\n",
            "2023-04-21 16:14:44,484 ----------------------------------------------------------------------------------------------------\n"
          ]
        },
        {
          "output_type": "stream",
          "name": "stderr",
          "text": [
            "\n"
          ]
        },
        {
          "output_type": "stream",
          "name": "stdout",
          "text": [
            "2023-04-21 16:14:46,850 epoch 56 - iter 2/24 - loss 0.29763198 - time (sec): 2.36 - samples/sec: 3811.92 - lr: 0.000000\n",
            "2023-04-21 16:14:49,022 epoch 56 - iter 4/24 - loss 0.22828377 - time (sec): 4.54 - samples/sec: 3839.79 - lr: 0.000000\n",
            "2023-04-21 16:14:51,110 epoch 56 - iter 6/24 - loss 0.20008617 - time (sec): 6.62 - samples/sec: 3813.51 - lr: 0.000000\n",
            "2023-04-21 16:14:53,191 epoch 56 - iter 8/24 - loss 0.19648610 - time (sec): 8.71 - samples/sec: 3843.50 - lr: 0.000000\n",
            "2023-04-21 16:14:55,286 epoch 56 - iter 10/24 - loss 0.18575457 - time (sec): 10.80 - samples/sec: 3788.89 - lr: 0.000000\n",
            "2023-04-21 16:14:57,356 epoch 56 - iter 12/24 - loss 0.18478799 - time (sec): 12.87 - samples/sec: 3772.56 - lr: 0.000000\n",
            "2023-04-21 16:14:59,524 epoch 56 - iter 14/24 - loss 0.18548658 - time (sec): 15.04 - samples/sec: 3843.46 - lr: 0.000000\n",
            "2023-04-21 16:15:01,612 epoch 56 - iter 16/24 - loss 0.18030717 - time (sec): 17.13 - samples/sec: 3802.18 - lr: 0.000000\n",
            "2023-04-21 16:15:03,705 epoch 56 - iter 18/24 - loss 0.17882130 - time (sec): 19.22 - samples/sec: 3803.17 - lr: 0.000000\n",
            "2023-04-21 16:15:05,827 epoch 56 - iter 20/24 - loss 0.17715489 - time (sec): 21.34 - samples/sec: 3789.78 - lr: 0.000000\n",
            "2023-04-21 16:15:07,902 epoch 56 - iter 22/24 - loss 0.17563555 - time (sec): 23.42 - samples/sec: 3785.58 - lr: 0.000000\n",
            "2023-04-21 16:15:09,783 epoch 56 - iter 24/24 - loss 0.17823164 - time (sec): 25.30 - samples/sec: 3746.31 - lr: 0.000000\n",
            "2023-04-21 16:15:09,786 ----------------------------------------------------------------------------------------------------\n",
            "2023-04-21 16:15:09,788 EPOCH 56 done: loss 0.1782 - lr 0.000000\n"
          ]
        },
        {
          "output_type": "stream",
          "name": "stderr",
          "text": [
            "100%|██████████| 24/24 [00:10<00:00,  2.38it/s]"
          ]
        },
        {
          "output_type": "stream",
          "name": "stdout",
          "text": [
            "2023-04-21 16:15:20,031 Evaluating as a multi-label problem: True\n"
          ]
        },
        {
          "output_type": "stream",
          "name": "stderr",
          "text": [
            "\n"
          ]
        },
        {
          "output_type": "stream",
          "name": "stdout",
          "text": [
            "2023-04-21 16:15:22,785 TRAIN : loss 0.14684878289699554 - f1-score (weighted avg)  0.7851\n"
          ]
        },
        {
          "output_type": "stream",
          "name": "stderr",
          "text": [
            "100%|██████████| 3/3 [00:02<00:00,  1.25it/s]"
          ]
        },
        {
          "output_type": "stream",
          "name": "stdout",
          "text": [
            "2023-04-21 16:15:25,349 Evaluating as a multi-label problem: False\n",
            "2023-04-21 16:15:25,418 DEV : loss 0.32228580117225647 - f1-score (weighted avg)  0.6356\n",
            "2023-04-21 16:15:25,438 BAD EPOCHS (no improvement): 1\n",
            "2023-04-21 16:15:25,442 ----------------------------------------------------------------------------------------------------\n"
          ]
        },
        {
          "output_type": "stream",
          "name": "stderr",
          "text": [
            "\n"
          ]
        },
        {
          "output_type": "stream",
          "name": "stdout",
          "text": [
            "2023-04-21 16:15:27,595 epoch 57 - iter 2/24 - loss 0.19482709 - time (sec): 2.15 - samples/sec: 3575.01 - lr: 0.000000\n",
            "2023-04-21 16:15:29,719 epoch 57 - iter 4/24 - loss 0.16270362 - time (sec): 4.28 - samples/sec: 4027.26 - lr: 0.000000\n",
            "2023-04-21 16:15:31,814 epoch 57 - iter 6/24 - loss 0.15639020 - time (sec): 6.37 - samples/sec: 3823.53 - lr: 0.000000\n",
            "2023-04-21 16:15:33,926 epoch 57 - iter 8/24 - loss 0.15140405 - time (sec): 8.48 - samples/sec: 3771.26 - lr: 0.000000\n",
            "2023-04-21 16:15:36,216 epoch 57 - iter 10/24 - loss 0.16140215 - time (sec): 10.77 - samples/sec: 3693.88 - lr: 0.000000\n",
            "2023-04-21 16:15:38,338 epoch 57 - iter 12/24 - loss 0.16271951 - time (sec): 12.89 - samples/sec: 3731.66 - lr: 0.000000\n",
            "2023-04-21 16:15:40,440 epoch 57 - iter 14/24 - loss 0.16308405 - time (sec): 15.00 - samples/sec: 3772.15 - lr: 0.000000\n",
            "2023-04-21 16:15:42,563 epoch 57 - iter 16/24 - loss 0.16248838 - time (sec): 17.12 - samples/sec: 3778.53 - lr: 0.000000\n",
            "2023-04-21 16:15:44,622 epoch 57 - iter 18/24 - loss 0.16355189 - time (sec): 19.18 - samples/sec: 3790.55 - lr: 0.000000\n",
            "2023-04-21 16:15:46,985 epoch 57 - iter 20/24 - loss 0.17860857 - time (sec): 21.54 - samples/sec: 3737.63 - lr: 0.000000\n",
            "2023-04-21 16:15:49,045 epoch 57 - iter 22/24 - loss 0.17670938 - time (sec): 23.60 - samples/sec: 3749.90 - lr: 0.000000\n",
            "2023-04-21 16:15:50,788 epoch 57 - iter 24/24 - loss 0.17492165 - time (sec): 25.34 - samples/sec: 3739.27 - lr: 0.000000\n",
            "2023-04-21 16:15:50,791 ----------------------------------------------------------------------------------------------------\n",
            "2023-04-21 16:15:50,793 EPOCH 57 done: loss 0.1749 - lr 0.000000\n"
          ]
        },
        {
          "output_type": "stream",
          "name": "stderr",
          "text": [
            "100%|██████████| 24/24 [00:10<00:00,  2.37it/s]"
          ]
        },
        {
          "output_type": "stream",
          "name": "stdout",
          "text": [
            "2023-04-21 16:16:01,077 Evaluating as a multi-label problem: True\n"
          ]
        },
        {
          "output_type": "stream",
          "name": "stderr",
          "text": [
            "\n"
          ]
        },
        {
          "output_type": "stream",
          "name": "stdout",
          "text": [
            "2023-04-21 16:16:05,011 TRAIN : loss 0.14666098356246948 - f1-score (weighted avg)  0.7853\n"
          ]
        },
        {
          "output_type": "stream",
          "name": "stderr",
          "text": [
            "100%|██████████| 3/3 [00:01<00:00,  2.19it/s]"
          ]
        },
        {
          "output_type": "stream",
          "name": "stdout",
          "text": [
            "2023-04-21 16:16:06,541 Evaluating as a multi-label problem: False\n",
            "2023-04-21 16:16:06,610 DEV : loss 0.3225018382072449 - f1-score (weighted avg)  0.6356\n",
            "2023-04-21 16:16:06,629 Epoch    57: reducing learning rate of group 0 to 1.1259e-07.\n",
            "2023-04-21 16:16:06,631 BAD EPOCHS (no improvement): 2\n",
            "2023-04-21 16:16:06,634 ----------------------------------------------------------------------------------------------------\n"
          ]
        },
        {
          "output_type": "stream",
          "name": "stderr",
          "text": [
            "\n"
          ]
        },
        {
          "output_type": "stream",
          "name": "stdout",
          "text": [
            "2023-04-21 16:16:08,749 epoch 58 - iter 2/24 - loss 0.14509089 - time (sec): 2.11 - samples/sec: 3797.77 - lr: 0.000000\n",
            "2023-04-21 16:16:10,847 epoch 58 - iter 4/24 - loss 0.15858198 - time (sec): 4.21 - samples/sec: 3846.94 - lr: 0.000000\n",
            "2023-04-21 16:16:13,206 epoch 58 - iter 6/24 - loss 0.18833724 - time (sec): 6.57 - samples/sec: 3981.29 - lr: 0.000000\n",
            "2023-04-21 16:16:15,311 epoch 58 - iter 8/24 - loss 0.18675041 - time (sec): 8.68 - samples/sec: 4027.93 - lr: 0.000000\n",
            "2023-04-21 16:16:17,365 epoch 58 - iter 10/24 - loss 0.18002792 - time (sec): 10.73 - samples/sec: 3923.48 - lr: 0.000000\n",
            "2023-04-21 16:16:19,601 epoch 58 - iter 12/24 - loss 0.18455519 - time (sec): 12.97 - samples/sec: 3885.37 - lr: 0.000000\n",
            "2023-04-21 16:16:21,663 epoch 58 - iter 14/24 - loss 0.18366637 - time (sec): 15.03 - samples/sec: 3848.54 - lr: 0.000000\n",
            "2023-04-21 16:16:23,806 epoch 58 - iter 16/24 - loss 0.18090615 - time (sec): 17.17 - samples/sec: 3832.25 - lr: 0.000000\n",
            "2023-04-21 16:16:25,994 epoch 58 - iter 18/24 - loss 0.18066201 - time (sec): 19.36 - samples/sec: 3805.25 - lr: 0.000000\n",
            "2023-04-21 16:16:28,090 epoch 58 - iter 20/24 - loss 0.17911373 - time (sec): 21.45 - samples/sec: 3775.54 - lr: 0.000000\n",
            "2023-04-21 16:16:30,149 epoch 58 - iter 22/24 - loss 0.17592021 - time (sec): 23.51 - samples/sec: 3747.67 - lr: 0.000000\n",
            "2023-04-21 16:16:31,922 epoch 58 - iter 24/24 - loss 0.17683427 - time (sec): 25.29 - samples/sec: 3747.85 - lr: 0.000000\n",
            "2023-04-21 16:16:31,925 ----------------------------------------------------------------------------------------------------\n",
            "2023-04-21 16:16:31,926 EPOCH 58 done: loss 0.1768 - lr 0.000000\n"
          ]
        },
        {
          "output_type": "stream",
          "name": "stderr",
          "text": [
            "100%|██████████| 24/24 [00:10<00:00,  2.37it/s]"
          ]
        },
        {
          "output_type": "stream",
          "name": "stdout",
          "text": [
            "2023-04-21 16:16:42,187 Evaluating as a multi-label problem: True\n"
          ]
        },
        {
          "output_type": "stream",
          "name": "stderr",
          "text": [
            "\n"
          ]
        },
        {
          "output_type": "stream",
          "name": "stdout",
          "text": [
            "2023-04-21 16:16:46,144 TRAIN : loss 0.14665143191814423 - f1-score (weighted avg)  0.7859\n"
          ]
        },
        {
          "output_type": "stream",
          "name": "stderr",
          "text": [
            "100%|██████████| 3/3 [00:01<00:00,  2.20it/s]"
          ]
        },
        {
          "output_type": "stream",
          "name": "stdout",
          "text": [
            "2023-04-21 16:16:47,671 Evaluating as a multi-label problem: False\n",
            "2023-04-21 16:16:47,739 DEV : loss 0.3225475549697876 - f1-score (weighted avg)  0.635\n",
            "2023-04-21 16:16:47,760 BAD EPOCHS (no improvement): 1\n",
            "2023-04-21 16:16:47,764 ----------------------------------------------------------------------------------------------------\n"
          ]
        },
        {
          "output_type": "stream",
          "name": "stderr",
          "text": [
            "\n"
          ]
        },
        {
          "output_type": "stream",
          "name": "stdout",
          "text": [
            "2023-04-21 16:16:50,005 epoch 59 - iter 2/24 - loss 0.18542289 - time (sec): 2.24 - samples/sec: 4186.99 - lr: 0.000000\n",
            "2023-04-21 16:16:52,168 epoch 59 - iter 4/24 - loss 0.18033741 - time (sec): 4.40 - samples/sec: 3965.85 - lr: 0.000000\n",
            "2023-04-21 16:16:54,234 epoch 59 - iter 6/24 - loss 0.17055326 - time (sec): 6.47 - samples/sec: 3776.52 - lr: 0.000000\n",
            "2023-04-21 16:16:56,298 epoch 59 - iter 8/24 - loss 0.16904625 - time (sec): 8.53 - samples/sec: 3876.68 - lr: 0.000000\n",
            "2023-04-21 16:16:58,406 epoch 59 - iter 10/24 - loss 0.16780042 - time (sec): 10.64 - samples/sec: 3908.32 - lr: 0.000000\n",
            "2023-04-21 16:17:00,545 epoch 59 - iter 12/24 - loss 0.16689897 - time (sec): 12.78 - samples/sec: 3918.71 - lr: 0.000000\n",
            "2023-04-21 16:17:02,923 epoch 59 - iter 14/24 - loss 0.18330897 - time (sec): 15.16 - samples/sec: 3810.88 - lr: 0.000000\n",
            "2023-04-21 16:17:04,965 epoch 59 - iter 16/24 - loss 0.18154620 - time (sec): 17.20 - samples/sec: 3739.89 - lr: 0.000000\n",
            "2023-04-21 16:17:07,041 epoch 59 - iter 18/24 - loss 0.18001380 - time (sec): 19.28 - samples/sec: 3741.16 - lr: 0.000000\n",
            "2023-04-21 16:17:09,128 epoch 59 - iter 20/24 - loss 0.17883458 - time (sec): 21.36 - samples/sec: 3714.98 - lr: 0.000000\n",
            "2023-04-21 16:17:11,255 epoch 59 - iter 22/24 - loss 0.17714912 - time (sec): 23.49 - samples/sec: 3739.71 - lr: 0.000000\n",
            "2023-04-21 16:17:13,021 epoch 59 - iter 24/24 - loss 0.17487056 - time (sec): 25.26 - samples/sec: 3752.47 - lr: 0.000000\n",
            "2023-04-21 16:17:13,024 ----------------------------------------------------------------------------------------------------\n",
            "2023-04-21 16:17:13,026 EPOCH 59 done: loss 0.1749 - lr 0.000000\n"
          ]
        },
        {
          "output_type": "stream",
          "name": "stderr",
          "text": [
            "100%|██████████| 24/24 [00:10<00:00,  2.36it/s]"
          ]
        },
        {
          "output_type": "stream",
          "name": "stdout",
          "text": [
            "2023-04-21 16:17:23,330 Evaluating as a multi-label problem: True\n"
          ]
        },
        {
          "output_type": "stream",
          "name": "stderr",
          "text": [
            "\n"
          ]
        },
        {
          "output_type": "stream",
          "name": "stdout",
          "text": [
            "2023-04-21 16:17:27,292 TRAIN : loss 0.14652417600154877 - f1-score (weighted avg)  0.7858\n"
          ]
        },
        {
          "output_type": "stream",
          "name": "stderr",
          "text": [
            "100%|██████████| 3/3 [00:01<00:00,  2.15it/s]"
          ]
        },
        {
          "output_type": "stream",
          "name": "stdout",
          "text": [
            "2023-04-21 16:17:28,840 Evaluating as a multi-label problem: False\n",
            "2023-04-21 16:17:28,908 DEV : loss 0.3224460780620575 - f1-score (weighted avg)  0.6363\n",
            "2023-04-21 16:17:28,928 Epoch    59: reducing learning rate of group 0 to 9.0072e-08.\n",
            "2023-04-21 16:17:28,930 BAD EPOCHS (no improvement): 2\n",
            "2023-04-21 16:17:28,933 ----------------------------------------------------------------------------------------------------\n"
          ]
        },
        {
          "output_type": "stream",
          "name": "stderr",
          "text": [
            "\n"
          ]
        },
        {
          "output_type": "stream",
          "name": "stdout",
          "text": [
            "2023-04-21 16:17:31,022 epoch 60 - iter 2/24 - loss 0.18043520 - time (sec): 2.09 - samples/sec: 3853.23 - lr: 0.000000\n",
            "2023-04-21 16:17:33,074 epoch 60 - iter 4/24 - loss 0.17008471 - time (sec): 4.14 - samples/sec: 3809.10 - lr: 0.000000\n",
            "2023-04-21 16:17:35,194 epoch 60 - iter 6/24 - loss 0.16949361 - time (sec): 6.26 - samples/sec: 3932.76 - lr: 0.000000\n",
            "2023-04-21 16:17:37,231 epoch 60 - iter 8/24 - loss 0.16808721 - time (sec): 8.30 - samples/sec: 3707.12 - lr: 0.000000\n",
            "2023-04-21 16:17:39,342 epoch 60 - iter 10/24 - loss 0.16420983 - time (sec): 10.41 - samples/sec: 3739.24 - lr: 0.000000\n",
            "2023-04-21 16:17:41,430 epoch 60 - iter 12/24 - loss 0.16230475 - time (sec): 12.50 - samples/sec: 3716.60 - lr: 0.000000\n",
            "2023-04-21 16:17:43,477 epoch 60 - iter 14/24 - loss 0.16333331 - time (sec): 14.54 - samples/sec: 3720.47 - lr: 0.000000\n",
            "2023-04-21 16:17:45,640 epoch 60 - iter 16/24 - loss 0.16502678 - time (sec): 16.71 - samples/sec: 3732.99 - lr: 0.000000\n",
            "2023-04-21 16:17:47,706 epoch 60 - iter 18/24 - loss 0.16272311 - time (sec): 18.77 - samples/sec: 3720.86 - lr: 0.000000\n",
            "2023-04-21 16:17:49,998 epoch 60 - iter 20/24 - loss 0.16687289 - time (sec): 21.06 - samples/sec: 3734.63 - lr: 0.000000\n",
            "2023-04-21 16:17:52,355 epoch 60 - iter 22/24 - loss 0.17791980 - time (sec): 23.42 - samples/sec: 3725.54 - lr: 0.000000\n",
            "2023-04-21 16:17:54,152 epoch 60 - iter 24/24 - loss 0.17541965 - time (sec): 25.22 - samples/sec: 3758.17 - lr: 0.000000\n",
            "2023-04-21 16:17:54,155 ----------------------------------------------------------------------------------------------------\n",
            "2023-04-21 16:17:54,157 EPOCH 60 done: loss 0.1754 - lr 0.000000\n"
          ]
        },
        {
          "output_type": "stream",
          "name": "stderr",
          "text": [
            "100%|██████████| 24/24 [00:10<00:00,  2.38it/s]"
          ]
        },
        {
          "output_type": "stream",
          "name": "stdout",
          "text": [
            "2023-04-21 16:18:04,398 Evaluating as a multi-label problem: True\n"
          ]
        },
        {
          "output_type": "stream",
          "name": "stderr",
          "text": [
            "\n"
          ]
        },
        {
          "output_type": "stream",
          "name": "stdout",
          "text": [
            "2023-04-21 16:18:08,374 TRAIN : loss 0.14592918753623962 - f1-score (weighted avg)  0.7865\n"
          ]
        },
        {
          "output_type": "stream",
          "name": "stderr",
          "text": [
            "100%|██████████| 3/3 [00:01<00:00,  2.17it/s]"
          ]
        },
        {
          "output_type": "stream",
          "name": "stdout",
          "text": [
            "2023-04-21 16:18:09,912 Evaluating as a multi-label problem: False\n",
            "2023-04-21 16:18:09,980 DEV : loss 0.32268497347831726 - f1-score (weighted avg)  0.6356\n",
            "2023-04-21 16:18:09,999 BAD EPOCHS (no improvement): 1\n",
            "2023-04-21 16:18:10,004 ----------------------------------------------------------------------------------------------------\n"
          ]
        },
        {
          "output_type": "stream",
          "name": "stderr",
          "text": [
            "\n"
          ]
        },
        {
          "output_type": "stream",
          "name": "stdout",
          "text": [
            "2023-04-21 16:18:12,113 epoch 61 - iter 2/24 - loss 0.15806311 - time (sec): 2.11 - samples/sec: 3653.29 - lr: 0.000000\n",
            "2023-04-21 16:18:14,219 epoch 61 - iter 4/24 - loss 0.15255135 - time (sec): 4.21 - samples/sec: 3557.40 - lr: 0.000000\n",
            "2023-04-21 16:18:16,343 epoch 61 - iter 6/24 - loss 0.14776228 - time (sec): 6.34 - samples/sec: 3765.87 - lr: 0.000000\n",
            "2023-04-21 16:18:18,438 epoch 61 - iter 8/24 - loss 0.14948687 - time (sec): 8.43 - samples/sec: 3833.70 - lr: 0.000000\n",
            "2023-04-21 16:18:20,600 epoch 61 - iter 10/24 - loss 0.15561048 - time (sec): 10.59 - samples/sec: 3742.91 - lr: 0.000000\n",
            "2023-04-21 16:18:22,602 epoch 61 - iter 12/24 - loss 0.15801600 - time (sec): 12.60 - samples/sec: 3757.66 - lr: 0.000000\n",
            "2023-04-21 16:18:24,716 epoch 61 - iter 14/24 - loss 0.16249845 - time (sec): 14.71 - samples/sec: 3873.67 - lr: 0.000000\n",
            "2023-04-21 16:18:26,772 epoch 61 - iter 16/24 - loss 0.15903375 - time (sec): 16.77 - samples/sec: 3819.30 - lr: 0.000000\n",
            "2023-04-21 16:18:28,811 epoch 61 - iter 18/24 - loss 0.16233321 - time (sec): 18.81 - samples/sec: 3798.72 - lr: 0.000000\n",
            "2023-04-21 16:18:31,203 epoch 61 - iter 20/24 - loss 0.17248640 - time (sec): 21.20 - samples/sec: 3823.89 - lr: 0.000000\n",
            "2023-04-21 16:18:33,310 epoch 61 - iter 22/24 - loss 0.17150224 - time (sec): 23.30 - samples/sec: 3807.02 - lr: 0.000000\n",
            "2023-04-21 16:18:35,238 epoch 61 - iter 24/24 - loss 0.17477458 - time (sec): 25.23 - samples/sec: 3755.83 - lr: 0.000000\n",
            "2023-04-21 16:18:35,241 ----------------------------------------------------------------------------------------------------\n",
            "2023-04-21 16:18:35,243 EPOCH 61 done: loss 0.1748 - lr 0.000000\n"
          ]
        },
        {
          "output_type": "stream",
          "name": "stderr",
          "text": [
            "100%|██████████| 24/24 [00:10<00:00,  2.37it/s]"
          ]
        },
        {
          "output_type": "stream",
          "name": "stdout",
          "text": [
            "2023-04-21 16:18:45,522 Evaluating as a multi-label problem: True\n"
          ]
        },
        {
          "output_type": "stream",
          "name": "stderr",
          "text": [
            "\n"
          ]
        },
        {
          "output_type": "stream",
          "name": "stdout",
          "text": [
            "2023-04-21 16:18:48,282 TRAIN : loss 0.1459513008594513 - f1-score (weighted avg)  0.7863\n"
          ]
        },
        {
          "output_type": "stream",
          "name": "stderr",
          "text": [
            "100%|██████████| 3/3 [00:02<00:00,  1.25it/s]"
          ]
        },
        {
          "output_type": "stream",
          "name": "stdout",
          "text": [
            "2023-04-21 16:18:50,840 Evaluating as a multi-label problem: False\n",
            "2023-04-21 16:18:50,908 DEV : loss 0.3227328062057495 - f1-score (weighted avg)  0.6354\n",
            "2023-04-21 16:18:50,929 Epoch    61: reducing learning rate of group 0 to 7.2058e-08.\n",
            "2023-04-21 16:18:50,931 BAD EPOCHS (no improvement): 2\n",
            "2023-04-21 16:18:50,934 ----------------------------------------------------------------------------------------------------\n"
          ]
        },
        {
          "output_type": "stream",
          "name": "stderr",
          "text": [
            "\n"
          ]
        },
        {
          "output_type": "stream",
          "name": "stdout",
          "text": [
            "2023-04-21 16:18:53,049 epoch 62 - iter 2/24 - loss 0.16234207 - time (sec): 2.11 - samples/sec: 3719.07 - lr: 0.000000\n",
            "2023-04-21 16:18:55,281 epoch 62 - iter 4/24 - loss 0.18768658 - time (sec): 4.34 - samples/sec: 3790.22 - lr: 0.000000\n",
            "2023-04-21 16:18:57,346 epoch 62 - iter 6/24 - loss 0.17405304 - time (sec): 6.41 - samples/sec: 3803.38 - lr: 0.000000\n",
            "2023-04-21 16:18:59,438 epoch 62 - iter 8/24 - loss 0.16721143 - time (sec): 8.50 - samples/sec: 3837.63 - lr: 0.000000\n",
            "2023-04-21 16:19:01,489 epoch 62 - iter 10/24 - loss 0.16761001 - time (sec): 10.55 - samples/sec: 3881.44 - lr: 0.000000\n",
            "2023-04-21 16:19:03,567 epoch 62 - iter 12/24 - loss 0.16540228 - time (sec): 12.63 - samples/sec: 3879.94 - lr: 0.000000\n",
            "2023-04-21 16:19:05,616 epoch 62 - iter 14/24 - loss 0.16494219 - time (sec): 14.68 - samples/sec: 3779.95 - lr: 0.000000\n",
            "2023-04-21 16:19:07,847 epoch 62 - iter 16/24 - loss 0.16353346 - time (sec): 16.91 - samples/sec: 3817.04 - lr: 0.000000\n",
            "2023-04-21 16:19:10,252 epoch 62 - iter 18/24 - loss 0.17691238 - time (sec): 19.32 - samples/sec: 3789.91 - lr: 0.000000\n",
            "2023-04-21 16:19:12,296 epoch 62 - iter 20/24 - loss 0.17567896 - time (sec): 21.36 - samples/sec: 3768.61 - lr: 0.000000\n",
            "2023-04-21 16:19:14,423 epoch 62 - iter 22/24 - loss 0.17413459 - time (sec): 23.49 - samples/sec: 3746.00 - lr: 0.000000\n",
            "2023-04-21 16:19:16,207 epoch 62 - iter 24/24 - loss 0.17530372 - time (sec): 25.27 - samples/sec: 3750.18 - lr: 0.000000\n",
            "2023-04-21 16:19:16,210 ----------------------------------------------------------------------------------------------------\n",
            "2023-04-21 16:19:16,212 EPOCH 62 done: loss 0.1753 - lr 0.000000\n"
          ]
        },
        {
          "output_type": "stream",
          "name": "stderr",
          "text": [
            "100%|██████████| 24/24 [00:10<00:00,  2.38it/s]"
          ]
        },
        {
          "output_type": "stream",
          "name": "stdout",
          "text": [
            "2023-04-21 16:19:26,426 Evaluating as a multi-label problem: True\n"
          ]
        },
        {
          "output_type": "stream",
          "name": "stderr",
          "text": [
            "\n"
          ]
        },
        {
          "output_type": "stream",
          "name": "stdout",
          "text": [
            "2023-04-21 16:19:30,376 TRAIN : loss 0.14626027643680573 - f1-score (weighted avg)  0.7861\n"
          ]
        },
        {
          "output_type": "stream",
          "name": "stderr",
          "text": [
            "100%|██████████| 3/3 [00:01<00:00,  2.19it/s]"
          ]
        },
        {
          "output_type": "stream",
          "name": "stdout",
          "text": [
            "2023-04-21 16:19:31,908 Evaluating as a multi-label problem: False\n",
            "2023-04-21 16:19:31,977 DEV : loss 0.3226943910121918 - f1-score (weighted avg)  0.6358\n",
            "2023-04-21 16:19:31,998 BAD EPOCHS (no improvement): 1\n",
            "2023-04-21 16:19:32,002 ----------------------------------------------------------------------------------------------------\n"
          ]
        },
        {
          "output_type": "stream",
          "name": "stderr",
          "text": [
            "\n"
          ]
        },
        {
          "output_type": "stream",
          "name": "stdout",
          "text": [
            "2023-04-21 16:19:34,077 epoch 63 - iter 2/24 - loss 0.14860883 - time (sec): 2.07 - samples/sec: 4073.11 - lr: 0.000000\n",
            "2023-04-21 16:19:36,147 epoch 63 - iter 4/24 - loss 0.14929419 - time (sec): 4.14 - samples/sec: 3900.51 - lr: 0.000000\n",
            "2023-04-21 16:19:38,405 epoch 63 - iter 6/24 - loss 0.17073831 - time (sec): 6.40 - samples/sec: 3955.64 - lr: 0.000000\n",
            "2023-04-21 16:19:40,465 epoch 63 - iter 8/24 - loss 0.17266241 - time (sec): 8.46 - samples/sec: 3961.41 - lr: 0.000000\n",
            "2023-04-21 16:19:42,570 epoch 63 - iter 10/24 - loss 0.16962214 - time (sec): 10.57 - samples/sec: 3932.49 - lr: 0.000000\n",
            "2023-04-21 16:19:44,689 epoch 63 - iter 12/24 - loss 0.17303764 - time (sec): 12.69 - samples/sec: 3883.21 - lr: 0.000000\n",
            "2023-04-21 16:19:47,069 epoch 63 - iter 14/24 - loss 0.19206605 - time (sec): 15.07 - samples/sec: 3865.84 - lr: 0.000000\n",
            "2023-04-21 16:19:49,122 epoch 63 - iter 16/24 - loss 0.18714591 - time (sec): 17.12 - samples/sec: 3880.65 - lr: 0.000000\n",
            "2023-04-21 16:19:51,184 epoch 63 - iter 18/24 - loss 0.18185332 - time (sec): 19.18 - samples/sec: 3862.76 - lr: 0.000000\n",
            "2023-04-21 16:19:53,302 epoch 63 - iter 20/24 - loss 0.17813013 - time (sec): 21.30 - samples/sec: 3827.28 - lr: 0.000000\n",
            "2023-04-21 16:19:55,372 epoch 63 - iter 22/24 - loss 0.17802469 - time (sec): 23.37 - samples/sec: 3804.97 - lr: 0.000000\n",
            "2023-04-21 16:19:57,109 epoch 63 - iter 24/24 - loss 0.17566018 - time (sec): 25.11 - samples/sec: 3774.94 - lr: 0.000000\n",
            "2023-04-21 16:19:57,112 ----------------------------------------------------------------------------------------------------\n",
            "2023-04-21 16:19:57,114 EPOCH 63 done: loss 0.1757 - lr 0.000000\n"
          ]
        },
        {
          "output_type": "stream",
          "name": "stderr",
          "text": [
            "100%|██████████| 24/24 [00:10<00:00,  2.37it/s]"
          ]
        },
        {
          "output_type": "stream",
          "name": "stdout",
          "text": [
            "2023-04-21 16:20:07,375 Evaluating as a multi-label problem: True\n"
          ]
        },
        {
          "output_type": "stream",
          "name": "stderr",
          "text": [
            "\n"
          ]
        },
        {
          "output_type": "stream",
          "name": "stdout",
          "text": [
            "2023-04-21 16:20:11,340 TRAIN : loss 0.14661358296871185 - f1-score (weighted avg)  0.7855\n"
          ]
        },
        {
          "output_type": "stream",
          "name": "stderr",
          "text": [
            "100%|██████████| 3/3 [00:01<00:00,  2.13it/s]"
          ]
        },
        {
          "output_type": "stream",
          "name": "stdout",
          "text": [
            "2023-04-21 16:20:12,906 Evaluating as a multi-label problem: False\n",
            "2023-04-21 16:20:12,976 DEV : loss 0.3225415050983429 - f1-score (weighted avg)  0.6349\n",
            "2023-04-21 16:20:12,997 Epoch    63: reducing learning rate of group 0 to 5.7646e-08.\n",
            "2023-04-21 16:20:12,999 BAD EPOCHS (no improvement): 2\n",
            "2023-04-21 16:20:13,002 ----------------------------------------------------------------------------------------------------\n"
          ]
        },
        {
          "output_type": "stream",
          "name": "stderr",
          "text": [
            "\n"
          ]
        },
        {
          "output_type": "stream",
          "name": "stdout",
          "text": [
            "2023-04-21 16:20:15,111 epoch 64 - iter 2/24 - loss 0.17090442 - time (sec): 2.11 - samples/sec: 3750.98 - lr: 0.000000\n",
            "2023-04-21 16:20:17,467 epoch 64 - iter 4/24 - loss 0.24034229 - time (sec): 4.46 - samples/sec: 3775.01 - lr: 0.000000\n",
            "2023-04-21 16:20:19,519 epoch 64 - iter 6/24 - loss 0.21424286 - time (sec): 6.51 - samples/sec: 3831.00 - lr: 0.000000\n",
            "2023-04-21 16:20:21,782 epoch 64 - iter 8/24 - loss 0.21183220 - time (sec): 8.78 - samples/sec: 3901.15 - lr: 0.000000\n",
            "2023-04-21 16:20:23,860 epoch 64 - iter 10/24 - loss 0.20178153 - time (sec): 10.86 - samples/sec: 3889.69 - lr: 0.000000\n",
            "2023-04-21 16:20:25,955 epoch 64 - iter 12/24 - loss 0.19421723 - time (sec): 12.95 - samples/sec: 3824.16 - lr: 0.000000\n",
            "2023-04-21 16:20:28,027 epoch 64 - iter 14/24 - loss 0.18994574 - time (sec): 15.02 - samples/sec: 3806.39 - lr: 0.000000\n",
            "2023-04-21 16:20:30,192 epoch 64 - iter 16/24 - loss 0.18436283 - time (sec): 17.19 - samples/sec: 3772.16 - lr: 0.000000\n",
            "2023-04-21 16:20:32,279 epoch 64 - iter 18/24 - loss 0.18196282 - time (sec): 19.27 - samples/sec: 3790.60 - lr: 0.000000\n",
            "2023-04-21 16:20:34,334 epoch 64 - iter 20/24 - loss 0.18183697 - time (sec): 21.33 - samples/sec: 3744.55 - lr: 0.000000\n",
            "2023-04-21 16:20:36,436 epoch 64 - iter 22/24 - loss 0.17875967 - time (sec): 23.43 - samples/sec: 3753.19 - lr: 0.000000\n",
            "2023-04-21 16:20:38,219 epoch 64 - iter 24/24 - loss 0.17588827 - time (sec): 25.21 - samples/sec: 3758.50 - lr: 0.000000\n",
            "2023-04-21 16:20:38,222 ----------------------------------------------------------------------------------------------------\n",
            "2023-04-21 16:20:38,223 EPOCH 64 done: loss 0.1759 - lr 0.000000\n"
          ]
        },
        {
          "output_type": "stream",
          "name": "stderr",
          "text": [
            "100%|██████████| 24/24 [00:10<00:00,  2.38it/s]"
          ]
        },
        {
          "output_type": "stream",
          "name": "stdout",
          "text": [
            "2023-04-21 16:20:48,451 Evaluating as a multi-label problem: True\n"
          ]
        },
        {
          "output_type": "stream",
          "name": "stderr",
          "text": [
            "\n"
          ]
        },
        {
          "output_type": "stream",
          "name": "stdout",
          "text": [
            "2023-04-21 16:20:52,365 TRAIN : loss 0.14654982089996338 - f1-score (weighted avg)  0.7854\n"
          ]
        },
        {
          "output_type": "stream",
          "name": "stderr",
          "text": [
            "100%|██████████| 3/3 [00:01<00:00,  2.18it/s]"
          ]
        },
        {
          "output_type": "stream",
          "name": "stdout",
          "text": [
            "2023-04-21 16:20:53,902 Evaluating as a multi-label problem: False\n",
            "2023-04-21 16:20:53,970 DEV : loss 0.32251906394958496 - f1-score (weighted avg)  0.6348\n",
            "2023-04-21 16:20:53,989 BAD EPOCHS (no improvement): 1\n",
            "2023-04-21 16:20:53,993 ----------------------------------------------------------------------------------------------------\n"
          ]
        },
        {
          "output_type": "stream",
          "name": "stderr",
          "text": [
            "\n"
          ]
        },
        {
          "output_type": "stream",
          "name": "stdout",
          "text": [
            "2023-04-21 16:20:56,129 epoch 65 - iter 2/24 - loss 0.14569217 - time (sec): 2.13 - samples/sec: 3428.22 - lr: 0.000000\n",
            "2023-04-21 16:20:58,501 epoch 65 - iter 4/24 - loss 0.20871741 - time (sec): 4.51 - samples/sec: 3564.84 - lr: 0.000000\n",
            "2023-04-21 16:21:00,544 epoch 65 - iter 6/24 - loss 0.19174923 - time (sec): 6.55 - samples/sec: 3628.74 - lr: 0.000000\n",
            "2023-04-21 16:21:02,664 epoch 65 - iter 8/24 - loss 0.18121656 - time (sec): 8.67 - samples/sec: 3624.04 - lr: 0.000000\n",
            "2023-04-21 16:21:04,944 epoch 65 - iter 10/24 - loss 0.18266040 - time (sec): 10.95 - samples/sec: 3747.33 - lr: 0.000000\n",
            "2023-04-21 16:21:07,073 epoch 65 - iter 12/24 - loss 0.17649614 - time (sec): 13.08 - samples/sec: 3864.13 - lr: 0.000000\n",
            "2023-04-21 16:21:09,198 epoch 65 - iter 14/24 - loss 0.17375394 - time (sec): 15.20 - samples/sec: 3878.78 - lr: 0.000000\n",
            "2023-04-21 16:21:11,260 epoch 65 - iter 16/24 - loss 0.17176633 - time (sec): 17.27 - samples/sec: 3867.65 - lr: 0.000000\n",
            "2023-04-21 16:21:13,353 epoch 65 - iter 18/24 - loss 0.17171330 - time (sec): 19.36 - samples/sec: 3859.60 - lr: 0.000000\n",
            "2023-04-21 16:21:15,401 epoch 65 - iter 20/24 - loss 0.17354275 - time (sec): 21.41 - samples/sec: 3810.24 - lr: 0.000000\n",
            "2023-04-21 16:21:17,443 epoch 65 - iter 22/24 - loss 0.17348857 - time (sec): 23.45 - samples/sec: 3786.40 - lr: 0.000000\n",
            "2023-04-21 16:21:19,192 epoch 65 - iter 24/24 - loss 0.17334651 - time (sec): 25.20 - samples/sec: 3761.19 - lr: 0.000000\n",
            "2023-04-21 16:21:19,194 ----------------------------------------------------------------------------------------------------\n",
            "2023-04-21 16:21:19,196 EPOCH 65 done: loss 0.1733 - lr 0.000000\n"
          ]
        },
        {
          "output_type": "stream",
          "name": "stderr",
          "text": [
            "100%|██████████| 24/24 [00:10<00:00,  2.37it/s]"
          ]
        },
        {
          "output_type": "stream",
          "name": "stdout",
          "text": [
            "2023-04-21 16:21:29,445 Evaluating as a multi-label problem: True\n"
          ]
        },
        {
          "output_type": "stream",
          "name": "stderr",
          "text": [
            "\n"
          ]
        },
        {
          "output_type": "stream",
          "name": "stdout",
          "text": [
            "2023-04-21 16:21:33,361 TRAIN : loss 0.14633792638778687 - f1-score (weighted avg)  0.786\n"
          ]
        },
        {
          "output_type": "stream",
          "name": "stderr",
          "text": [
            "100%|██████████| 3/3 [00:01<00:00,  2.14it/s]"
          ]
        },
        {
          "output_type": "stream",
          "name": "stdout",
          "text": [
            "2023-04-21 16:21:34,933 Evaluating as a multi-label problem: False\n",
            "2023-04-21 16:21:35,003 DEV : loss 0.32257533073425293 - f1-score (weighted avg)  0.6353\n",
            "2023-04-21 16:21:35,023 Epoch    65: reducing learning rate of group 0 to 4.6117e-08.\n",
            "2023-04-21 16:21:35,025 BAD EPOCHS (no improvement): 2\n",
            "2023-04-21 16:21:35,029 ----------------------------------------------------------------------------------------------------\n"
          ]
        },
        {
          "output_type": "stream",
          "name": "stderr",
          "text": [
            "\n"
          ]
        },
        {
          "output_type": "stream",
          "name": "stdout",
          "text": [
            "2023-04-21 16:21:37,152 epoch 66 - iter 2/24 - loss 0.12719254 - time (sec): 2.12 - samples/sec: 3902.66 - lr: 0.000000\n",
            "2023-04-21 16:21:39,268 epoch 66 - iter 4/24 - loss 0.13648588 - time (sec): 4.24 - samples/sec: 4097.87 - lr: 0.000000\n",
            "2023-04-21 16:21:41,314 epoch 66 - iter 6/24 - loss 0.14715785 - time (sec): 6.28 - samples/sec: 3954.31 - lr: 0.000000\n",
            "2023-04-21 16:21:43,357 epoch 66 - iter 8/24 - loss 0.15676071 - time (sec): 8.33 - samples/sec: 3993.34 - lr: 0.000000\n",
            "2023-04-21 16:21:45,417 epoch 66 - iter 10/24 - loss 0.15510541 - time (sec): 10.39 - samples/sec: 3872.66 - lr: 0.000000\n",
            "2023-04-21 16:21:47,475 epoch 66 - iter 12/24 - loss 0.15853790 - time (sec): 12.44 - samples/sec: 3879.49 - lr: 0.000000\n",
            "2023-04-21 16:21:49,649 epoch 66 - iter 14/24 - loss 0.15987780 - time (sec): 14.62 - samples/sec: 3877.44 - lr: 0.000000\n",
            "2023-04-21 16:21:51,793 epoch 66 - iter 16/24 - loss 0.16071784 - time (sec): 16.76 - samples/sec: 3818.76 - lr: 0.000000\n",
            "2023-04-21 16:21:53,871 epoch 66 - iter 18/24 - loss 0.15995222 - time (sec): 18.84 - samples/sec: 3812.11 - lr: 0.000000\n",
            "2023-04-21 16:21:55,955 epoch 66 - iter 20/24 - loss 0.15960819 - time (sec): 20.92 - samples/sec: 3789.44 - lr: 0.000000\n",
            "2023-04-21 16:21:58,484 epoch 66 - iter 22/24 - loss 0.17503460 - time (sec): 23.45 - samples/sec: 3760.59 - lr: 0.000000\n",
            "2023-04-21 16:22:00,243 epoch 66 - iter 24/24 - loss 0.17535429 - time (sec): 25.21 - samples/sec: 3758.85 - lr: 0.000000\n",
            "2023-04-21 16:22:00,247 ----------------------------------------------------------------------------------------------------\n",
            "2023-04-21 16:22:00,248 EPOCH 66 done: loss 0.1754 - lr 0.000000\n"
          ]
        },
        {
          "output_type": "stream",
          "name": "stderr",
          "text": [
            "100%|██████████| 24/24 [00:10<00:00,  2.38it/s]"
          ]
        },
        {
          "output_type": "stream",
          "name": "stdout",
          "text": [
            "2023-04-21 16:22:10,475 Evaluating as a multi-label problem: True\n"
          ]
        },
        {
          "output_type": "stream",
          "name": "stderr",
          "text": [
            "\n"
          ]
        },
        {
          "output_type": "stream",
          "name": "stdout",
          "text": [
            "2023-04-21 16:22:14,397 TRAIN : loss 0.14617133140563965 - f1-score (weighted avg)  0.7861\n"
          ]
        },
        {
          "output_type": "stream",
          "name": "stderr",
          "text": [
            "100%|██████████| 3/3 [00:01<00:00,  2.13it/s]"
          ]
        },
        {
          "output_type": "stream",
          "name": "stdout",
          "text": [
            "2023-04-21 16:22:15,967 Evaluating as a multi-label problem: False\n",
            "2023-04-21 16:22:16,036 DEV : loss 0.32263079285621643 - f1-score (weighted avg)  0.6355\n",
            "2023-04-21 16:22:16,059 BAD EPOCHS (no improvement): 1\n",
            "2023-04-21 16:22:16,064 ----------------------------------------------------------------------------------------------------\n"
          ]
        },
        {
          "output_type": "stream",
          "name": "stderr",
          "text": [
            "\n"
          ]
        },
        {
          "output_type": "stream",
          "name": "stdout",
          "text": [
            "2023-04-21 16:22:18,167 epoch 67 - iter 2/24 - loss 0.13708504 - time (sec): 2.10 - samples/sec: 3445.28 - lr: 0.000000\n",
            "2023-04-21 16:22:20,314 epoch 67 - iter 4/24 - loss 0.13703742 - time (sec): 4.25 - samples/sec: 3745.00 - lr: 0.000000\n",
            "2023-04-21 16:22:22,477 epoch 67 - iter 6/24 - loss 0.15201797 - time (sec): 6.41 - samples/sec: 3749.16 - lr: 0.000000\n",
            "2023-04-21 16:22:24,555 epoch 67 - iter 8/24 - loss 0.15937810 - time (sec): 8.49 - samples/sec: 3844.07 - lr: 0.000000\n",
            "2023-04-21 16:22:26,657 epoch 67 - iter 10/24 - loss 0.15432234 - time (sec): 10.59 - samples/sec: 3914.66 - lr: 0.000000\n",
            "2023-04-21 16:22:28,720 epoch 67 - iter 12/24 - loss 0.15716259 - time (sec): 12.65 - samples/sec: 3851.11 - lr: 0.000000\n",
            "2023-04-21 16:22:31,135 epoch 67 - iter 14/24 - loss 0.18239821 - time (sec): 15.07 - samples/sec: 3851.90 - lr: 0.000000\n",
            "2023-04-21 16:22:33,193 epoch 67 - iter 16/24 - loss 0.18021247 - time (sec): 17.13 - samples/sec: 3812.93 - lr: 0.000000\n",
            "2023-04-21 16:22:35,226 epoch 67 - iter 18/24 - loss 0.17848438 - time (sec): 19.16 - samples/sec: 3805.52 - lr: 0.000000\n",
            "2023-04-21 16:22:37,258 epoch 67 - iter 20/24 - loss 0.17896914 - time (sec): 21.19 - samples/sec: 3774.56 - lr: 0.000000\n",
            "2023-04-21 16:22:39,362 epoch 67 - iter 22/24 - loss 0.17499446 - time (sec): 23.30 - samples/sec: 3752.52 - lr: 0.000000\n",
            "2023-04-21 16:22:41,174 epoch 67 - iter 24/24 - loss 0.17386245 - time (sec): 25.11 - samples/sec: 3774.50 - lr: 0.000000\n",
            "2023-04-21 16:22:41,177 ----------------------------------------------------------------------------------------------------\n",
            "2023-04-21 16:22:41,178 EPOCH 67 done: loss 0.1739 - lr 0.000000\n"
          ]
        },
        {
          "output_type": "stream",
          "name": "stderr",
          "text": [
            "100%|██████████| 24/24 [00:10<00:00,  2.38it/s]"
          ]
        },
        {
          "output_type": "stream",
          "name": "stdout",
          "text": [
            "2023-04-21 16:22:51,393 Evaluating as a multi-label problem: True\n"
          ]
        },
        {
          "output_type": "stream",
          "name": "stderr",
          "text": [
            "\n"
          ]
        },
        {
          "output_type": "stream",
          "name": "stdout",
          "text": [
            "2023-04-21 16:22:55,326 TRAIN : loss 0.14611010253429413 - f1-score (weighted avg)  0.7864\n"
          ]
        },
        {
          "output_type": "stream",
          "name": "stderr",
          "text": [
            "100%|██████████| 3/3 [00:01<00:00,  2.17it/s]"
          ]
        },
        {
          "output_type": "stream",
          "name": "stdout",
          "text": [
            "2023-04-21 16:22:56,869 Evaluating as a multi-label problem: False\n",
            "2023-04-21 16:22:56,939 DEV : loss 0.32268473505973816 - f1-score (weighted avg)  0.6357\n",
            "2023-04-21 16:22:56,958 BAD EPOCHS (no improvement): 0\n",
            "2023-04-21 16:22:56,962 ----------------------------------------------------------------------------------------------------\n"
          ]
        },
        {
          "output_type": "stream",
          "name": "stderr",
          "text": [
            "\n"
          ]
        },
        {
          "output_type": "stream",
          "name": "stdout",
          "text": [
            "2023-04-21 16:22:58,998 epoch 68 - iter 2/24 - loss 0.14544382 - time (sec): 2.03 - samples/sec: 3783.96 - lr: 0.000000\n",
            "2023-04-21 16:23:01,218 epoch 68 - iter 4/24 - loss 0.16605911 - time (sec): 4.25 - samples/sec: 3657.35 - lr: 0.000000\n",
            "2023-04-21 16:23:03,350 epoch 68 - iter 6/24 - loss 0.16550342 - time (sec): 6.39 - samples/sec: 3737.15 - lr: 0.000000\n",
            "2023-04-21 16:23:05,413 epoch 68 - iter 8/24 - loss 0.16838711 - time (sec): 8.45 - samples/sec: 3681.85 - lr: 0.000000\n",
            "2023-04-21 16:23:07,578 epoch 68 - iter 10/24 - loss 0.16611149 - time (sec): 10.61 - samples/sec: 3724.22 - lr: 0.000000\n",
            "2023-04-21 16:23:09,637 epoch 68 - iter 12/24 - loss 0.16605495 - time (sec): 12.67 - samples/sec: 3729.85 - lr: 0.000000\n",
            "2023-04-21 16:23:11,779 epoch 68 - iter 14/24 - loss 0.16762478 - time (sec): 14.81 - samples/sec: 3631.25 - lr: 0.000000\n",
            "2023-04-21 16:23:13,887 epoch 68 - iter 16/24 - loss 0.16455689 - time (sec): 16.92 - samples/sec: 3698.76 - lr: 0.000000\n",
            "2023-04-21 16:23:16,238 epoch 68 - iter 18/24 - loss 0.17958676 - time (sec): 19.27 - samples/sec: 3665.94 - lr: 0.000000\n",
            "2023-04-21 16:23:18,341 epoch 68 - iter 20/24 - loss 0.17833272 - time (sec): 21.38 - samples/sec: 3755.56 - lr: 0.000000\n",
            "2023-04-21 16:23:20,379 epoch 68 - iter 22/24 - loss 0.17695168 - time (sec): 23.42 - samples/sec: 3746.82 - lr: 0.000000\n",
            "2023-04-21 16:23:22,163 epoch 68 - iter 24/24 - loss 0.17410784 - time (sec): 25.20 - samples/sec: 3760.84 - lr: 0.000000\n",
            "2023-04-21 16:23:22,166 ----------------------------------------------------------------------------------------------------\n",
            "2023-04-21 16:23:22,167 EPOCH 68 done: loss 0.1741 - lr 0.000000\n"
          ]
        },
        {
          "output_type": "stream",
          "name": "stderr",
          "text": [
            "100%|██████████| 24/24 [00:10<00:00,  2.38it/s]"
          ]
        },
        {
          "output_type": "stream",
          "name": "stdout",
          "text": [
            "2023-04-21 16:23:32,389 Evaluating as a multi-label problem: True\n"
          ]
        },
        {
          "output_type": "stream",
          "name": "stderr",
          "text": [
            "\n"
          ]
        },
        {
          "output_type": "stream",
          "name": "stdout",
          "text": [
            "2023-04-21 16:23:36,350 TRAIN : loss 0.14612112939357758 - f1-score (weighted avg)  0.7863\n"
          ]
        },
        {
          "output_type": "stream",
          "name": "stderr",
          "text": [
            "100%|██████████| 3/3 [00:01<00:00,  2.14it/s]"
          ]
        },
        {
          "output_type": "stream",
          "name": "stdout",
          "text": [
            "2023-04-21 16:23:37,911 Evaluating as a multi-label problem: False\n",
            "2023-04-21 16:23:37,982 DEV : loss 0.3228234350681305 - f1-score (weighted avg)  0.6353\n",
            "2023-04-21 16:23:38,003 BAD EPOCHS (no improvement): 1\n",
            "2023-04-21 16:23:38,007 ----------------------------------------------------------------------------------------------------\n"
          ]
        },
        {
          "output_type": "stream",
          "name": "stderr",
          "text": [
            "\n"
          ]
        },
        {
          "output_type": "stream",
          "name": "stdout",
          "text": [
            "2023-04-21 16:23:40,080 epoch 69 - iter 2/24 - loss 0.17730199 - time (sec): 2.07 - samples/sec: 4481.90 - lr: 0.000000\n",
            "2023-04-21 16:23:42,097 epoch 69 - iter 4/24 - loss 0.18341655 - time (sec): 4.09 - samples/sec: 4034.83 - lr: 0.000000\n",
            "2023-04-21 16:23:44,381 epoch 69 - iter 6/24 - loss 0.18973688 - time (sec): 6.37 - samples/sec: 3903.23 - lr: 0.000000\n",
            "2023-04-21 16:23:46,532 epoch 69 - iter 8/24 - loss 0.17832054 - time (sec): 8.52 - samples/sec: 3898.86 - lr: 0.000000\n",
            "2023-04-21 16:23:48,575 epoch 69 - iter 10/24 - loss 0.17970349 - time (sec): 10.57 - samples/sec: 3850.20 - lr: 0.000000\n",
            "2023-04-21 16:23:50,677 epoch 69 - iter 12/24 - loss 0.17729937 - time (sec): 12.67 - samples/sec: 3833.24 - lr: 0.000000\n",
            "2023-04-21 16:23:52,787 epoch 69 - iter 14/24 - loss 0.17742381 - time (sec): 14.78 - samples/sec: 3890.59 - lr: 0.000000\n",
            "2023-04-21 16:23:54,846 epoch 69 - iter 16/24 - loss 0.17460015 - time (sec): 16.84 - samples/sec: 3835.15 - lr: 0.000000\n",
            "2023-04-21 16:23:57,195 epoch 69 - iter 18/24 - loss 0.18602803 - time (sec): 19.19 - samples/sec: 3789.54 - lr: 0.000000\n",
            "2023-04-21 16:23:59,266 epoch 69 - iter 20/24 - loss 0.18128931 - time (sec): 21.26 - samples/sec: 3785.29 - lr: 0.000000\n",
            "2023-04-21 16:24:01,335 epoch 69 - iter 22/24 - loss 0.17910882 - time (sec): 23.33 - samples/sec: 3789.33 - lr: 0.000000\n",
            "2023-04-21 16:24:03,138 epoch 69 - iter 24/24 - loss 0.17628011 - time (sec): 25.13 - samples/sec: 3771.38 - lr: 0.000000\n",
            "2023-04-21 16:24:03,140 ----------------------------------------------------------------------------------------------------\n",
            "2023-04-21 16:24:03,142 EPOCH 69 done: loss 0.1763 - lr 0.000000\n"
          ]
        },
        {
          "output_type": "stream",
          "name": "stderr",
          "text": [
            "100%|██████████| 24/24 [00:10<00:00,  2.38it/s]"
          ]
        },
        {
          "output_type": "stream",
          "name": "stdout",
          "text": [
            "2023-04-21 16:24:13,370 Evaluating as a multi-label problem: True\n"
          ]
        },
        {
          "output_type": "stream",
          "name": "stderr",
          "text": [
            "\n"
          ]
        },
        {
          "output_type": "stream",
          "name": "stdout",
          "text": [
            "2023-04-21 16:24:17,325 TRAIN : loss 0.1459549367427826 - f1-score (weighted avg)  0.7866\n"
          ]
        },
        {
          "output_type": "stream",
          "name": "stderr",
          "text": [
            "100%|██████████| 3/3 [00:01<00:00,  2.19it/s]"
          ]
        },
        {
          "output_type": "stream",
          "name": "stdout",
          "text": [
            "2023-04-21 16:24:18,854 Evaluating as a multi-label problem: False\n",
            "2023-04-21 16:24:18,922 DEV : loss 0.3229098320007324 - f1-score (weighted avg)  0.6357\n",
            "2023-04-21 16:24:18,942 BAD EPOCHS (no improvement): 0\n",
            "2023-04-21 16:24:18,946 ----------------------------------------------------------------------------------------------------\n"
          ]
        },
        {
          "output_type": "stream",
          "name": "stderr",
          "text": [
            "\n"
          ]
        },
        {
          "output_type": "stream",
          "name": "stdout",
          "text": [
            "2023-04-21 16:24:20,970 epoch 70 - iter 2/24 - loss 0.19617906 - time (sec): 2.02 - samples/sec: 3370.34 - lr: 0.000000\n",
            "2023-04-21 16:24:23,098 epoch 70 - iter 4/24 - loss 0.16918704 - time (sec): 4.15 - samples/sec: 3637.35 - lr: 0.000000\n",
            "2023-04-21 16:24:25,234 epoch 70 - iter 6/24 - loss 0.15858685 - time (sec): 6.29 - samples/sec: 3858.74 - lr: 0.000000\n",
            "2023-04-21 16:24:27,355 epoch 70 - iter 8/24 - loss 0.15426542 - time (sec): 8.41 - samples/sec: 3834.98 - lr: 0.000000\n",
            "2023-04-21 16:24:29,429 epoch 70 - iter 10/24 - loss 0.15818962 - time (sec): 10.48 - samples/sec: 3863.33 - lr: 0.000000\n",
            "2023-04-21 16:24:31,584 epoch 70 - iter 12/24 - loss 0.16424990 - time (sec): 12.64 - samples/sec: 3820.85 - lr: 0.000000\n",
            "2023-04-21 16:24:33,922 epoch 70 - iter 14/24 - loss 0.18201579 - time (sec): 14.97 - samples/sec: 3750.50 - lr: 0.000000\n",
            "2023-04-21 16:24:36,171 epoch 70 - iter 16/24 - loss 0.18389986 - time (sec): 17.22 - samples/sec: 3717.45 - lr: 0.000000\n",
            "2023-04-21 16:24:38,277 epoch 70 - iter 18/24 - loss 0.18227777 - time (sec): 19.33 - samples/sec: 3692.85 - lr: 0.000000\n",
            "2023-04-21 16:24:40,407 epoch 70 - iter 20/24 - loss 0.17815776 - time (sec): 21.46 - samples/sec: 3730.19 - lr: 0.000000\n",
            "2023-04-21 16:24:42,443 epoch 70 - iter 22/24 - loss 0.17673039 - time (sec): 23.50 - samples/sec: 3742.70 - lr: 0.000000\n",
            "2023-04-21 16:24:44,204 epoch 70 - iter 24/24 - loss 0.17342117 - time (sec): 25.26 - samples/sec: 3752.24 - lr: 0.000000\n",
            "2023-04-21 16:24:44,207 ----------------------------------------------------------------------------------------------------\n",
            "2023-04-21 16:24:44,208 EPOCH 70 done: loss 0.1734 - lr 0.000000\n"
          ]
        },
        {
          "output_type": "stream",
          "name": "stderr",
          "text": [
            "100%|██████████| 24/24 [00:10<00:00,  2.38it/s]"
          ]
        },
        {
          "output_type": "stream",
          "name": "stdout",
          "text": [
            "2023-04-21 16:24:54,441 Evaluating as a multi-label problem: True\n"
          ]
        },
        {
          "output_type": "stream",
          "name": "stderr",
          "text": [
            "\n"
          ]
        },
        {
          "output_type": "stream",
          "name": "stdout",
          "text": [
            "2023-04-21 16:24:57,168 TRAIN : loss 0.1459331065416336 - f1-score (weighted avg)  0.7865\n"
          ]
        },
        {
          "output_type": "stream",
          "name": "stderr",
          "text": [
            "100%|██████████| 3/3 [00:01<00:00,  2.20it/s]"
          ]
        },
        {
          "output_type": "stream",
          "name": "stdout",
          "text": [
            "2023-04-21 16:24:58,694 Evaluating as a multi-label problem: False\n",
            "2023-04-21 16:24:58,761 DEV : loss 0.3229310214519501 - f1-score (weighted avg)  0.6357\n",
            "2023-04-21 16:24:58,781 BAD EPOCHS (no improvement): 1\n",
            "2023-04-21 16:24:58,784 ----------------------------------------------------------------------------------------------------\n"
          ]
        },
        {
          "output_type": "stream",
          "name": "stderr",
          "text": [
            "\n"
          ]
        },
        {
          "output_type": "stream",
          "name": "stdout",
          "text": [
            "2023-04-21 16:25:00,902 epoch 71 - iter 2/24 - loss 0.15825582 - time (sec): 2.12 - samples/sec: 4196.63 - lr: 0.000000\n",
            "2023-04-21 16:25:02,933 epoch 71 - iter 4/24 - loss 0.14864852 - time (sec): 4.15 - samples/sec: 3907.47 - lr: 0.000000\n",
            "2023-04-21 16:25:06,044 epoch 71 - iter 6/24 - loss 0.14376211 - time (sec): 7.26 - samples/sec: 3461.41 - lr: 0.000000\n",
            "2023-04-21 16:25:08,117 epoch 71 - iter 8/24 - loss 0.14261270 - time (sec): 9.33 - samples/sec: 3646.48 - lr: 0.000000\n",
            "2023-04-21 16:25:10,217 epoch 71 - iter 10/24 - loss 0.14576347 - time (sec): 11.43 - samples/sec: 3667.04 - lr: 0.000000\n",
            "2023-04-21 16:25:12,276 epoch 71 - iter 12/24 - loss 0.14807527 - time (sec): 13.49 - samples/sec: 3695.53 - lr: 0.000000\n",
            "2023-04-21 16:25:14,341 epoch 71 - iter 14/24 - loss 0.15405980 - time (sec): 15.55 - samples/sec: 3681.82 - lr: 0.000000\n",
            "2023-04-21 16:25:16,577 epoch 71 - iter 16/24 - loss 0.16185152 - time (sec): 17.79 - samples/sec: 3678.51 - lr: 0.000000\n",
            "2023-04-21 16:25:18,995 epoch 71 - iter 18/24 - loss 0.17924272 - time (sec): 20.21 - samples/sec: 3634.99 - lr: 0.000000\n",
            "2023-04-21 16:25:21,027 epoch 71 - iter 20/24 - loss 0.17786125 - time (sec): 22.24 - samples/sec: 3619.56 - lr: 0.000000\n",
            "2023-04-21 16:25:23,110 epoch 71 - iter 22/24 - loss 0.17669285 - time (sec): 24.32 - samples/sec: 3608.06 - lr: 0.000000\n",
            "2023-04-21 16:25:24,936 epoch 71 - iter 24/24 - loss 0.17584647 - time (sec): 26.15 - samples/sec: 3624.20 - lr: 0.000000\n",
            "2023-04-21 16:25:24,938 ----------------------------------------------------------------------------------------------------\n",
            "2023-04-21 16:25:24,940 EPOCH 71 done: loss 0.1758 - lr 0.000000\n"
          ]
        },
        {
          "output_type": "stream",
          "name": "stderr",
          "text": [
            "100%|██████████| 24/24 [00:10<00:00,  2.37it/s]"
          ]
        },
        {
          "output_type": "stream",
          "name": "stdout",
          "text": [
            "2023-04-21 16:25:35,184 Evaluating as a multi-label problem: True\n"
          ]
        },
        {
          "output_type": "stream",
          "name": "stderr",
          "text": [
            "\n"
          ]
        },
        {
          "output_type": "stream",
          "name": "stdout",
          "text": [
            "2023-04-21 16:25:39,081 TRAIN : loss 0.1460726261138916 - f1-score (weighted avg)  0.7864\n"
          ]
        },
        {
          "output_type": "stream",
          "name": "stderr",
          "text": [
            "100%|██████████| 3/3 [00:01<00:00,  2.19it/s]"
          ]
        },
        {
          "output_type": "stream",
          "name": "stdout",
          "text": [
            "2023-04-21 16:25:40,612 Evaluating as a multi-label problem: False\n",
            "2023-04-21 16:25:40,679 DEV : loss 0.3228324055671692 - f1-score (weighted avg)  0.6351\n",
            "2023-04-21 16:25:40,700 BAD EPOCHS (no improvement): 0\n",
            "2023-04-21 16:25:40,704 ----------------------------------------------------------------------------------------------------\n"
          ]
        },
        {
          "output_type": "stream",
          "name": "stderr",
          "text": [
            "\n"
          ]
        },
        {
          "output_type": "stream",
          "name": "stdout",
          "text": [
            "2023-04-21 16:25:42,894 epoch 72 - iter 2/24 - loss 0.18003673 - time (sec): 2.19 - samples/sec: 3722.95 - lr: 0.000000\n",
            "2023-04-21 16:25:45,062 epoch 72 - iter 4/24 - loss 0.16498707 - time (sec): 4.36 - samples/sec: 3686.01 - lr: 0.000000\n",
            "2023-04-21 16:25:47,180 epoch 72 - iter 6/24 - loss 0.15460405 - time (sec): 6.48 - samples/sec: 3795.25 - lr: 0.000000\n",
            "2023-04-21 16:25:49,422 epoch 72 - iter 8/24 - loss 0.17146625 - time (sec): 8.72 - samples/sec: 3841.10 - lr: 0.000000\n",
            "2023-04-21 16:25:51,465 epoch 72 - iter 10/24 - loss 0.16376558 - time (sec): 10.76 - samples/sec: 3807.41 - lr: 0.000000\n",
            "2023-04-21 16:25:53,537 epoch 72 - iter 12/24 - loss 0.16752794 - time (sec): 12.83 - samples/sec: 3782.06 - lr: 0.000000\n",
            "2023-04-21 16:25:55,638 epoch 72 - iter 14/24 - loss 0.16529893 - time (sec): 14.93 - samples/sec: 3805.35 - lr: 0.000000\n",
            "2023-04-21 16:25:57,738 epoch 72 - iter 16/24 - loss 0.16187383 - time (sec): 17.03 - samples/sec: 3787.20 - lr: 0.000000\n",
            "2023-04-21 16:26:00,151 epoch 72 - iter 18/24 - loss 0.17498413 - time (sec): 19.45 - samples/sec: 3819.29 - lr: 0.000000\n",
            "2023-04-21 16:26:02,183 epoch 72 - iter 20/24 - loss 0.17549745 - time (sec): 21.48 - samples/sec: 3751.46 - lr: 0.000000\n",
            "2023-04-21 16:26:04,295 epoch 72 - iter 22/24 - loss 0.17341859 - time (sec): 23.59 - samples/sec: 3768.03 - lr: 0.000000\n",
            "2023-04-21 16:26:06,031 epoch 72 - iter 24/24 - loss 0.17327711 - time (sec): 25.33 - samples/sec: 3742.04 - lr: 0.000000\n",
            "2023-04-21 16:26:06,034 ----------------------------------------------------------------------------------------------------\n",
            "2023-04-21 16:26:06,036 EPOCH 72 done: loss 0.1733 - lr 0.000000\n"
          ]
        },
        {
          "output_type": "stream",
          "name": "stderr",
          "text": [
            "100%|██████████| 24/24 [00:10<00:00,  2.38it/s]"
          ]
        },
        {
          "output_type": "stream",
          "name": "stdout",
          "text": [
            "2023-04-21 16:26:16,270 Evaluating as a multi-label problem: True\n"
          ]
        },
        {
          "output_type": "stream",
          "name": "stderr",
          "text": [
            "\n"
          ]
        },
        {
          "output_type": "stream",
          "name": "stdout",
          "text": [
            "2023-04-21 16:26:20,234 TRAIN : loss 0.14609627425670624 - f1-score (weighted avg)  0.7864\n"
          ]
        },
        {
          "output_type": "stream",
          "name": "stderr",
          "text": [
            "100%|██████████| 3/3 [00:01<00:00,  2.16it/s]"
          ]
        },
        {
          "output_type": "stream",
          "name": "stdout",
          "text": [
            "2023-04-21 16:26:21,791 Evaluating as a multi-label problem: False\n",
            "2023-04-21 16:26:21,859 DEV : loss 0.3227851688861847 - f1-score (weighted avg)  0.6351\n",
            "2023-04-21 16:26:21,878 BAD EPOCHS (no improvement): 1\n",
            "2023-04-21 16:26:21,882 ----------------------------------------------------------------------------------------------------\n"
          ]
        },
        {
          "output_type": "stream",
          "name": "stderr",
          "text": [
            "\n"
          ]
        },
        {
          "output_type": "stream",
          "name": "stdout",
          "text": [
            "2023-04-21 16:26:24,178 epoch 73 - iter 2/24 - loss 0.19685273 - time (sec): 2.30 - samples/sec: 3849.21 - lr: 0.000000\n",
            "2023-04-21 16:26:26,249 epoch 73 - iter 4/24 - loss 0.18272412 - time (sec): 4.37 - samples/sec: 3809.68 - lr: 0.000000\n",
            "2023-04-21 16:26:28,326 epoch 73 - iter 6/24 - loss 0.17951525 - time (sec): 6.44 - samples/sec: 3674.01 - lr: 0.000000\n",
            "2023-04-21 16:26:30,433 epoch 73 - iter 8/24 - loss 0.16911781 - time (sec): 8.55 - samples/sec: 3612.15 - lr: 0.000000\n",
            "2023-04-21 16:26:32,500 epoch 73 - iter 10/24 - loss 0.16368436 - time (sec): 10.62 - samples/sec: 3710.33 - lr: 0.000000\n",
            "2023-04-21 16:26:34,585 epoch 73 - iter 12/24 - loss 0.16150240 - time (sec): 12.70 - samples/sec: 3746.17 - lr: 0.000000\n",
            "2023-04-21 16:26:36,709 epoch 73 - iter 14/24 - loss 0.15909885 - time (sec): 14.83 - samples/sec: 3721.28 - lr: 0.000000\n",
            "2023-04-21 16:26:39,042 epoch 73 - iter 16/24 - loss 0.17707580 - time (sec): 17.16 - samples/sec: 3667.62 - lr: 0.000000\n",
            "2023-04-21 16:26:41,117 epoch 73 - iter 18/24 - loss 0.17608610 - time (sec): 19.23 - samples/sec: 3677.54 - lr: 0.000000\n",
            "2023-04-21 16:26:43,288 epoch 73 - iter 20/24 - loss 0.17610701 - time (sec): 21.40 - samples/sec: 3692.97 - lr: 0.000000\n",
            "2023-04-21 16:26:45,357 epoch 73 - iter 22/24 - loss 0.17632739 - time (sec): 23.47 - samples/sec: 3726.48 - lr: 0.000000\n",
            "2023-04-21 16:26:47,132 epoch 73 - iter 24/24 - loss 0.17442386 - time (sec): 25.25 - samples/sec: 3753.36 - lr: 0.000000\n",
            "2023-04-21 16:26:47,135 ----------------------------------------------------------------------------------------------------\n",
            "2023-04-21 16:26:47,137 EPOCH 73 done: loss 0.1744 - lr 0.000000\n"
          ]
        },
        {
          "output_type": "stream",
          "name": "stderr",
          "text": [
            "100%|██████████| 24/24 [00:10<00:00,  2.37it/s]"
          ]
        },
        {
          "output_type": "stream",
          "name": "stdout",
          "text": [
            "2023-04-21 16:26:57,388 Evaluating as a multi-label problem: True\n"
          ]
        },
        {
          "output_type": "stream",
          "name": "stderr",
          "text": [
            "\n"
          ]
        },
        {
          "output_type": "stream",
          "name": "stdout",
          "text": [
            "2023-04-21 16:27:01,335 TRAIN : loss 0.1457398384809494 - f1-score (weighted avg)  0.7866\n"
          ]
        },
        {
          "output_type": "stream",
          "name": "stderr",
          "text": [
            "100%|██████████| 3/3 [00:01<00:00,  2.19it/s]"
          ]
        },
        {
          "output_type": "stream",
          "name": "stdout",
          "text": [
            "2023-04-21 16:27:02,863 Evaluating as a multi-label problem: False\n",
            "2023-04-21 16:27:02,930 DEV : loss 0.322784960269928 - f1-score (weighted avg)  0.6359\n",
            "2023-04-21 16:27:02,950 BAD EPOCHS (no improvement): 0\n",
            "2023-04-21 16:27:02,954 ----------------------------------------------------------------------------------------------------\n"
          ]
        },
        {
          "output_type": "stream",
          "name": "stderr",
          "text": [
            "\n"
          ]
        },
        {
          "output_type": "stream",
          "name": "stdout",
          "text": [
            "2023-04-21 16:27:05,093 epoch 74 - iter 2/24 - loss 0.17345761 - time (sec): 2.14 - samples/sec: 3794.12 - lr: 0.000000\n",
            "2023-04-21 16:27:07,174 epoch 74 - iter 4/24 - loss 0.15313083 - time (sec): 4.22 - samples/sec: 3812.52 - lr: 0.000000\n",
            "2023-04-21 16:27:09,228 epoch 74 - iter 6/24 - loss 0.16104352 - time (sec): 6.27 - samples/sec: 3692.95 - lr: 0.000000\n",
            "2023-04-21 16:27:11,279 epoch 74 - iter 8/24 - loss 0.15623573 - time (sec): 8.32 - samples/sec: 3709.32 - lr: 0.000000\n",
            "2023-04-21 16:27:13,312 epoch 74 - iter 10/24 - loss 0.15190130 - time (sec): 10.36 - samples/sec: 3762.82 - lr: 0.000000\n",
            "2023-04-21 16:27:15,443 epoch 74 - iter 12/24 - loss 0.15587622 - time (sec): 12.49 - samples/sec: 3832.83 - lr: 0.000000\n",
            "2023-04-21 16:27:17,795 epoch 74 - iter 14/24 - loss 0.17654966 - time (sec): 14.84 - samples/sec: 3802.37 - lr: 0.000000\n",
            "2023-04-21 16:27:19,860 epoch 74 - iter 16/24 - loss 0.17143311 - time (sec): 16.90 - samples/sec: 3802.05 - lr: 0.000000\n",
            "2023-04-21 16:27:22,086 epoch 74 - iter 18/24 - loss 0.17377320 - time (sec): 19.13 - samples/sec: 3761.91 - lr: 0.000000\n",
            "2023-04-21 16:27:24,186 epoch 74 - iter 20/24 - loss 0.17127658 - time (sec): 21.23 - samples/sec: 3771.70 - lr: 0.000000\n",
            "2023-04-21 16:27:26,344 epoch 74 - iter 22/24 - loss 0.17122110 - time (sec): 23.39 - samples/sec: 3760.60 - lr: 0.000000\n",
            "2023-04-21 16:27:28,115 epoch 74 - iter 24/24 - loss 0.17455457 - time (sec): 25.16 - samples/sec: 3766.70 - lr: 0.000000\n",
            "2023-04-21 16:27:28,118 ----------------------------------------------------------------------------------------------------\n",
            "2023-04-21 16:27:28,120 EPOCH 74 done: loss 0.1746 - lr 0.000000\n"
          ]
        },
        {
          "output_type": "stream",
          "name": "stderr",
          "text": [
            "100%|██████████| 24/24 [00:10<00:00,  2.37it/s]"
          ]
        },
        {
          "output_type": "stream",
          "name": "stdout",
          "text": [
            "2023-04-21 16:27:38,403 Evaluating as a multi-label problem: True\n"
          ]
        },
        {
          "output_type": "stream",
          "name": "stderr",
          "text": [
            "\n"
          ]
        },
        {
          "output_type": "stream",
          "name": "stdout",
          "text": [
            "2023-04-21 16:27:42,371 TRAIN : loss 0.14567038416862488 - f1-score (weighted avg)  0.7869\n"
          ]
        },
        {
          "output_type": "stream",
          "name": "stderr",
          "text": [
            "100%|██████████| 3/3 [00:01<00:00,  2.17it/s]"
          ]
        },
        {
          "output_type": "stream",
          "name": "stdout",
          "text": [
            "2023-04-21 16:27:43,908 Evaluating as a multi-label problem: False\n",
            "2023-04-21 16:27:43,976 DEV : loss 0.322842001914978 - f1-score (weighted avg)  0.6361\n",
            "2023-04-21 16:27:43,996 BAD EPOCHS (no improvement): 1\n",
            "2023-04-21 16:27:44,000 ----------------------------------------------------------------------------------------------------\n"
          ]
        },
        {
          "output_type": "stream",
          "name": "stderr",
          "text": [
            "\n"
          ]
        },
        {
          "output_type": "stream",
          "name": "stdout",
          "text": [
            "2023-04-21 16:27:46,109 epoch 75 - iter 2/24 - loss 0.17427384 - time (sec): 2.11 - samples/sec: 3449.74 - lr: 0.000000\n",
            "2023-04-21 16:27:48,170 epoch 75 - iter 4/24 - loss 0.16164145 - time (sec): 4.17 - samples/sec: 3504.17 - lr: 0.000000\n",
            "2023-04-21 16:27:50,239 epoch 75 - iter 6/24 - loss 0.16150553 - time (sec): 6.24 - samples/sec: 3580.07 - lr: 0.000000\n",
            "2023-04-21 16:27:52,308 epoch 75 - iter 8/24 - loss 0.15446240 - time (sec): 8.31 - samples/sec: 3657.68 - lr: 0.000000\n",
            "2023-04-21 16:27:54,549 epoch 75 - iter 10/24 - loss 0.16930124 - time (sec): 10.55 - samples/sec: 3690.39 - lr: 0.000000\n",
            "2023-04-21 16:27:56,651 epoch 75 - iter 12/24 - loss 0.17061208 - time (sec): 12.65 - samples/sec: 3730.22 - lr: 0.000000\n",
            "2023-04-21 16:27:58,810 epoch 75 - iter 14/24 - loss 0.17159599 - time (sec): 14.81 - samples/sec: 3690.24 - lr: 0.000000\n",
            "2023-04-21 16:28:01,212 epoch 75 - iter 16/24 - loss 0.18562368 - time (sec): 17.21 - samples/sec: 3674.41 - lr: 0.000000\n",
            "2023-04-21 16:28:03,276 epoch 75 - iter 18/24 - loss 0.18050012 - time (sec): 19.27 - samples/sec: 3704.43 - lr: 0.000000\n",
            "2023-04-21 16:28:05,387 epoch 75 - iter 20/24 - loss 0.17695329 - time (sec): 21.38 - samples/sec: 3752.49 - lr: 0.000000\n",
            "2023-04-21 16:28:07,439 epoch 75 - iter 22/24 - loss 0.17527842 - time (sec): 23.44 - samples/sec: 3762.55 - lr: 0.000000\n",
            "2023-04-21 16:28:09,199 epoch 75 - iter 24/24 - loss 0.17401722 - time (sec): 25.20 - samples/sec: 3761.12 - lr: 0.000000\n",
            "2023-04-21 16:28:09,202 ----------------------------------------------------------------------------------------------------\n",
            "2023-04-21 16:28:09,204 EPOCH 75 done: loss 0.1740 - lr 0.000000\n"
          ]
        },
        {
          "output_type": "stream",
          "name": "stderr",
          "text": [
            "100%|██████████| 24/24 [00:10<00:00,  2.37it/s]"
          ]
        },
        {
          "output_type": "stream",
          "name": "stdout",
          "text": [
            "2023-04-21 16:28:19,462 Evaluating as a multi-label problem: True\n"
          ]
        },
        {
          "output_type": "stream",
          "name": "stderr",
          "text": [
            "\n"
          ]
        },
        {
          "output_type": "stream",
          "name": "stdout",
          "text": [
            "2023-04-21 16:28:22,197 TRAIN : loss 0.14557071030139923 - f1-score (weighted avg)  0.787\n"
          ]
        },
        {
          "output_type": "stream",
          "name": "stderr",
          "text": [
            "100%|██████████| 3/3 [00:01<00:00,  2.15it/s]"
          ]
        },
        {
          "output_type": "stream",
          "name": "stdout",
          "text": [
            "2023-04-21 16:28:23,752 Evaluating as a multi-label problem: False\n",
            "2023-04-21 16:28:23,820 DEV : loss 0.3228197395801544 - f1-score (weighted avg)  0.6358\n",
            "2023-04-21 16:28:23,842 BAD EPOCHS (no improvement): 0\n",
            "2023-04-21 16:28:23,846 ----------------------------------------------------------------------------------------------------\n"
          ]
        },
        {
          "output_type": "stream",
          "name": "stderr",
          "text": [
            "\n"
          ]
        },
        {
          "output_type": "stream",
          "name": "stdout",
          "text": [
            "2023-04-21 16:28:25,971 epoch 76 - iter 2/24 - loss 0.15361464 - time (sec): 2.12 - samples/sec: 3806.29 - lr: 0.000000\n",
            "2023-04-21 16:28:28,011 epoch 76 - iter 4/24 - loss 0.16116009 - time (sec): 4.16 - samples/sec: 3820.79 - lr: 0.000000\n",
            "2023-04-21 16:28:30,091 epoch 76 - iter 6/24 - loss 0.15092859 - time (sec): 6.24 - samples/sec: 3898.49 - lr: 0.000000\n",
            "2023-04-21 16:28:33,270 epoch 76 - iter 8/24 - loss 0.15467980 - time (sec): 9.42 - samples/sec: 3390.48 - lr: 0.000000\n",
            "2023-04-21 16:28:35,493 epoch 76 - iter 10/24 - loss 0.16325806 - time (sec): 11.65 - samples/sec: 3415.53 - lr: 0.000000\n",
            "2023-04-21 16:28:37,662 epoch 76 - iter 12/24 - loss 0.15924411 - time (sec): 13.81 - samples/sec: 3436.84 - lr: 0.000000\n",
            "2023-04-21 16:28:39,738 epoch 76 - iter 14/24 - loss 0.16097599 - time (sec): 15.89 - samples/sec: 3507.21 - lr: 0.000000\n",
            "2023-04-21 16:28:41,900 epoch 76 - iter 16/24 - loss 0.16479824 - time (sec): 18.05 - samples/sec: 3530.32 - lr: 0.000000\n",
            "2023-04-21 16:28:43,999 epoch 76 - iter 18/24 - loss 0.16445020 - time (sec): 20.15 - samples/sec: 3573.27 - lr: 0.000000\n",
            "2023-04-21 16:28:46,093 epoch 76 - iter 20/24 - loss 0.16237687 - time (sec): 22.25 - samples/sec: 3591.58 - lr: 0.000000\n",
            "2023-04-21 16:28:48,454 epoch 76 - iter 22/24 - loss 0.17727073 - time (sec): 24.61 - samples/sec: 3571.34 - lr: 0.000000\n",
            "2023-04-21 16:28:50,222 epoch 76 - iter 24/24 - loss 0.17549262 - time (sec): 26.37 - samples/sec: 3593.26 - lr: 0.000000\n",
            "2023-04-21 16:28:50,225 ----------------------------------------------------------------------------------------------------\n",
            "2023-04-21 16:28:50,227 EPOCH 76 done: loss 0.1755 - lr 0.000000\n"
          ]
        },
        {
          "output_type": "stream",
          "name": "stderr",
          "text": [
            "100%|██████████| 24/24 [00:10<00:00,  2.37it/s]"
          ]
        },
        {
          "output_type": "stream",
          "name": "stdout",
          "text": [
            "2023-04-21 16:29:00,508 Evaluating as a multi-label problem: True\n"
          ]
        },
        {
          "output_type": "stream",
          "name": "stderr",
          "text": [
            "\n"
          ]
        },
        {
          "output_type": "stream",
          "name": "stdout",
          "text": [
            "2023-04-21 16:29:04,452 TRAIN : loss 0.14552879333496094 - f1-score (weighted avg)  0.7869\n"
          ]
        },
        {
          "output_type": "stream",
          "name": "stderr",
          "text": [
            "100%|██████████| 3/3 [00:01<00:00,  2.17it/s]"
          ]
        },
        {
          "output_type": "stream",
          "name": "stdout",
          "text": [
            "2023-04-21 16:29:05,996 Evaluating as a multi-label problem: False\n",
            "2023-04-21 16:29:06,062 DEV : loss 0.32280099391937256 - f1-score (weighted avg)  0.6358\n",
            "2023-04-21 16:29:06,081 BAD EPOCHS (no improvement): 1\n",
            "2023-04-21 16:29:06,085 ----------------------------------------------------------------------------------------------------\n"
          ]
        },
        {
          "output_type": "stream",
          "name": "stderr",
          "text": [
            "\n"
          ]
        },
        {
          "output_type": "stream",
          "name": "stdout",
          "text": [
            "2023-04-21 16:29:08,247 epoch 77 - iter 2/24 - loss 0.17886176 - time (sec): 2.16 - samples/sec: 4090.47 - lr: 0.000000\n",
            "2023-04-21 16:29:10,375 epoch 77 - iter 4/24 - loss 0.15682346 - time (sec): 4.29 - samples/sec: 4063.77 - lr: 0.000000\n",
            "2023-04-21 16:29:12,609 epoch 77 - iter 6/24 - loss 0.18025425 - time (sec): 6.52 - samples/sec: 3887.12 - lr: 0.000000\n",
            "2023-04-21 16:29:14,715 epoch 77 - iter 8/24 - loss 0.17461286 - time (sec): 8.63 - samples/sec: 3882.23 - lr: 0.000000\n",
            "2023-04-21 16:29:16,806 epoch 77 - iter 10/24 - loss 0.17362997 - time (sec): 10.72 - samples/sec: 3805.88 - lr: 0.000000\n",
            "2023-04-21 16:29:18,885 epoch 77 - iter 12/24 - loss 0.16648557 - time (sec): 12.80 - samples/sec: 3753.87 - lr: 0.000000\n",
            "2023-04-21 16:29:20,949 epoch 77 - iter 14/24 - loss 0.16202215 - time (sec): 14.86 - samples/sec: 3809.41 - lr: 0.000000\n",
            "2023-04-21 16:29:22,995 epoch 77 - iter 16/24 - loss 0.16097251 - time (sec): 16.91 - samples/sec: 3779.32 - lr: 0.000000\n",
            "2023-04-21 16:29:25,451 epoch 77 - iter 18/24 - loss 0.17790345 - time (sec): 19.36 - samples/sec: 3749.99 - lr: 0.000000\n",
            "2023-04-21 16:29:27,577 epoch 77 - iter 20/24 - loss 0.17693857 - time (sec): 21.49 - samples/sec: 3788.55 - lr: 0.000000\n",
            "2023-04-21 16:29:29,586 epoch 77 - iter 22/24 - loss 0.17585402 - time (sec): 23.50 - samples/sec: 3761.25 - lr: 0.000000\n",
            "2023-04-21 16:29:31,345 epoch 77 - iter 24/24 - loss 0.17600369 - time (sec): 25.26 - samples/sec: 3752.04 - lr: 0.000000\n",
            "2023-04-21 16:29:31,348 ----------------------------------------------------------------------------------------------------\n",
            "2023-04-21 16:29:31,350 EPOCH 77 done: loss 0.1760 - lr 0.000000\n"
          ]
        },
        {
          "output_type": "stream",
          "name": "stderr",
          "text": [
            "100%|██████████| 24/24 [00:10<00:00,  2.37it/s]"
          ]
        },
        {
          "output_type": "stream",
          "name": "stdout",
          "text": [
            "2023-04-21 16:29:41,623 Evaluating as a multi-label problem: True\n"
          ]
        },
        {
          "output_type": "stream",
          "name": "stderr",
          "text": [
            "\n"
          ]
        },
        {
          "output_type": "stream",
          "name": "stdout",
          "text": [
            "2023-04-21 16:29:45,583 TRAIN : loss 0.14555835723876953 - f1-score (weighted avg)  0.7868\n"
          ]
        },
        {
          "output_type": "stream",
          "name": "stderr",
          "text": [
            "100%|██████████| 3/3 [00:01<00:00,  2.16it/s]"
          ]
        },
        {
          "output_type": "stream",
          "name": "stdout",
          "text": [
            "2023-04-21 16:29:47,128 Evaluating as a multi-label problem: False\n",
            "2023-04-21 16:29:47,196 DEV : loss 0.3227786421775818 - f1-score (weighted avg)  0.6358\n",
            "2023-04-21 16:29:47,216 BAD EPOCHS (no improvement): 0\n",
            "2023-04-21 16:29:47,220 ----------------------------------------------------------------------------------------------------\n"
          ]
        },
        {
          "output_type": "stream",
          "name": "stderr",
          "text": [
            "\n"
          ]
        },
        {
          "output_type": "stream",
          "name": "stdout",
          "text": [
            "2023-04-21 16:29:49,322 epoch 78 - iter 2/24 - loss 0.16527415 - time (sec): 2.10 - samples/sec: 3714.94 - lr: 0.000000\n",
            "2023-04-21 16:29:51,603 epoch 78 - iter 4/24 - loss 0.17457210 - time (sec): 4.38 - samples/sec: 3935.93 - lr: 0.000000\n",
            "2023-04-21 16:29:53,721 epoch 78 - iter 6/24 - loss 0.16250138 - time (sec): 6.50 - samples/sec: 3947.06 - lr: 0.000000\n",
            "2023-04-21 16:29:55,784 epoch 78 - iter 8/24 - loss 0.16930958 - time (sec): 8.56 - samples/sec: 3853.63 - lr: 0.000000\n",
            "2023-04-21 16:29:57,843 epoch 78 - iter 10/24 - loss 0.16889491 - time (sec): 10.62 - samples/sec: 3759.05 - lr: 0.000000\n",
            "2023-04-21 16:30:00,040 epoch 78 - iter 12/24 - loss 0.17031270 - time (sec): 12.82 - samples/sec: 3698.49 - lr: 0.000000\n",
            "2023-04-21 16:30:02,106 epoch 78 - iter 14/24 - loss 0.16820841 - time (sec): 14.88 - samples/sec: 3683.45 - lr: 0.000000\n",
            "2023-04-21 16:30:04,454 epoch 78 - iter 16/24 - loss 0.18311569 - time (sec): 17.23 - samples/sec: 3696.93 - lr: 0.000000\n",
            "2023-04-21 16:30:06,477 epoch 78 - iter 18/24 - loss 0.18144590 - time (sec): 19.26 - samples/sec: 3707.95 - lr: 0.000000\n",
            "2023-04-21 16:30:08,549 epoch 78 - iter 20/24 - loss 0.17823669 - time (sec): 21.33 - samples/sec: 3694.90 - lr: 0.000000\n",
            "2023-04-21 16:30:10,618 epoch 78 - iter 22/24 - loss 0.17698586 - time (sec): 23.40 - samples/sec: 3714.87 - lr: 0.000000\n",
            "2023-04-21 16:30:12,452 epoch 78 - iter 24/24 - loss 0.17576034 - time (sec): 25.23 - samples/sec: 3756.20 - lr: 0.000000\n",
            "2023-04-21 16:30:12,455 ----------------------------------------------------------------------------------------------------\n",
            "2023-04-21 16:30:12,456 EPOCH 78 done: loss 0.1758 - lr 0.000000\n"
          ]
        },
        {
          "output_type": "stream",
          "name": "stderr",
          "text": [
            "100%|██████████| 24/24 [00:10<00:00,  2.37it/s]"
          ]
        },
        {
          "output_type": "stream",
          "name": "stdout",
          "text": [
            "2023-04-21 16:30:22,728 Evaluating as a multi-label problem: True\n"
          ]
        },
        {
          "output_type": "stream",
          "name": "stderr",
          "text": [
            "\n"
          ]
        },
        {
          "output_type": "stream",
          "name": "stdout",
          "text": [
            "2023-04-21 16:30:26,715 TRAIN : loss 0.14559844136238098 - f1-score (weighted avg)  0.7868\n"
          ]
        },
        {
          "output_type": "stream",
          "name": "stderr",
          "text": [
            "100%|██████████| 3/3 [00:01<00:00,  2.18it/s]"
          ]
        },
        {
          "output_type": "stream",
          "name": "stdout",
          "text": [
            "2023-04-21 16:30:28,249 Evaluating as a multi-label problem: False\n",
            "2023-04-21 16:30:28,318 DEV : loss 0.32270702719688416 - f1-score (weighted avg)  0.6359\n",
            "2023-04-21 16:30:28,339 BAD EPOCHS (no improvement): 1\n",
            "2023-04-21 16:30:28,343 ----------------------------------------------------------------------------------------------------\n"
          ]
        },
        {
          "output_type": "stream",
          "name": "stderr",
          "text": [
            "\n"
          ]
        },
        {
          "output_type": "stream",
          "name": "stdout",
          "text": [
            "2023-04-21 16:30:30,480 epoch 79 - iter 2/24 - loss 0.15593873 - time (sec): 2.13 - samples/sec: 4279.42 - lr: 0.000000\n",
            "2023-04-21 16:30:32,806 epoch 79 - iter 4/24 - loss 0.22459834 - time (sec): 4.46 - samples/sec: 3741.27 - lr: 0.000000\n",
            "2023-04-21 16:30:34,880 epoch 79 - iter 6/24 - loss 0.20652210 - time (sec): 6.53 - samples/sec: 3723.04 - lr: 0.000000\n",
            "2023-04-21 16:30:36,967 epoch 79 - iter 8/24 - loss 0.19031619 - time (sec): 8.62 - samples/sec: 3795.12 - lr: 0.000000\n",
            "2023-04-21 16:30:39,088 epoch 79 - iter 10/24 - loss 0.18766859 - time (sec): 10.74 - samples/sec: 3875.28 - lr: 0.000000\n",
            "2023-04-21 16:30:41,139 epoch 79 - iter 12/24 - loss 0.18178397 - time (sec): 12.79 - samples/sec: 3848.93 - lr: 0.000000\n",
            "2023-04-21 16:30:43,170 epoch 79 - iter 14/24 - loss 0.17775422 - time (sec): 14.82 - samples/sec: 3766.90 - lr: 0.000000\n",
            "2023-04-21 16:30:45,180 epoch 79 - iter 16/24 - loss 0.17748766 - time (sec): 16.83 - samples/sec: 3697.70 - lr: 0.000000\n",
            "2023-04-21 16:30:47,327 epoch 79 - iter 18/24 - loss 0.17851725 - time (sec): 18.98 - samples/sec: 3755.12 - lr: 0.000000\n",
            "2023-04-21 16:30:49,487 epoch 79 - iter 20/24 - loss 0.17550203 - time (sec): 21.14 - samples/sec: 3730.91 - lr: 0.000000\n",
            "2023-04-21 16:30:51,740 epoch 79 - iter 22/24 - loss 0.17465810 - time (sec): 23.39 - samples/sec: 3779.31 - lr: 0.000000\n",
            "2023-04-21 16:30:53,488 epoch 79 - iter 24/24 - loss 0.17559506 - time (sec): 25.14 - samples/sec: 3769.34 - lr: 0.000000\n",
            "2023-04-21 16:30:53,497 ----------------------------------------------------------------------------------------------------\n",
            "2023-04-21 16:30:53,498 EPOCH 79 done: loss 0.1756 - lr 0.000000\n"
          ]
        },
        {
          "output_type": "stream",
          "name": "stderr",
          "text": [
            "100%|██████████| 24/24 [00:10<00:00,  2.37it/s]"
          ]
        },
        {
          "output_type": "stream",
          "name": "stdout",
          "text": [
            "2023-04-21 16:31:03,751 Evaluating as a multi-label problem: True\n"
          ]
        },
        {
          "output_type": "stream",
          "name": "stderr",
          "text": [
            "\n"
          ]
        },
        {
          "output_type": "stream",
          "name": "stdout",
          "text": [
            "2023-04-21 16:31:06,476 TRAIN : loss 0.14575868844985962 - f1-score (weighted avg)  0.7868\n"
          ]
        },
        {
          "output_type": "stream",
          "name": "stderr",
          "text": [
            "100%|██████████| 3/3 [00:02<00:00,  1.23it/s]"
          ]
        },
        {
          "output_type": "stream",
          "name": "stdout",
          "text": [
            "2023-04-21 16:31:09,074 Evaluating as a multi-label problem: False\n",
            "2023-04-21 16:31:09,143 DEV : loss 0.3226163387298584 - f1-score (weighted avg)  0.6357\n",
            "2023-04-21 16:31:09,163 BAD EPOCHS (no improvement): 0\n",
            "2023-04-21 16:31:09,167 ----------------------------------------------------------------------------------------------------\n"
          ]
        },
        {
          "output_type": "stream",
          "name": "stderr",
          "text": [
            "\n"
          ]
        },
        {
          "output_type": "stream",
          "name": "stdout",
          "text": [
            "2023-04-21 16:31:11,223 epoch 80 - iter 2/24 - loss 0.15480930 - time (sec): 2.05 - samples/sec: 3678.08 - lr: 0.000000\n",
            "2023-04-21 16:31:13,286 epoch 80 - iter 4/24 - loss 0.15816125 - time (sec): 4.12 - samples/sec: 3754.86 - lr: 0.000000\n",
            "2023-04-21 16:31:15,367 epoch 80 - iter 6/24 - loss 0.16282686 - time (sec): 6.20 - samples/sec: 3627.76 - lr: 0.000000\n",
            "2023-04-21 16:31:17,439 epoch 80 - iter 8/24 - loss 0.15865010 - time (sec): 8.27 - samples/sec: 3754.50 - lr: 0.000000\n",
            "2023-04-21 16:31:19,689 epoch 80 - iter 10/24 - loss 0.16610398 - time (sec): 10.52 - samples/sec: 3724.06 - lr: 0.000000\n",
            "2023-04-21 16:31:21,791 epoch 80 - iter 12/24 - loss 0.16409380 - time (sec): 12.62 - samples/sec: 3781.07 - lr: 0.000000\n",
            "2023-04-21 16:31:24,203 epoch 80 - iter 14/24 - loss 0.18371129 - time (sec): 15.03 - samples/sec: 3790.79 - lr: 0.000000\n",
            "2023-04-21 16:31:26,351 epoch 80 - iter 16/24 - loss 0.18008937 - time (sec): 17.18 - samples/sec: 3804.12 - lr: 0.000000\n",
            "2023-04-21 16:31:28,439 epoch 80 - iter 18/24 - loss 0.18063145 - time (sec): 19.27 - samples/sec: 3790.43 - lr: 0.000000\n",
            "2023-04-21 16:31:30,524 epoch 80 - iter 20/24 - loss 0.17998089 - time (sec): 21.35 - samples/sec: 3735.37 - lr: 0.000000\n",
            "2023-04-21 16:31:32,590 epoch 80 - iter 22/24 - loss 0.17684128 - time (sec): 23.42 - samples/sec: 3739.64 - lr: 0.000000\n",
            "2023-04-21 16:31:34,410 epoch 80 - iter 24/24 - loss 0.17502904 - time (sec): 25.24 - samples/sec: 3754.72 - lr: 0.000000\n",
            "2023-04-21 16:31:34,412 ----------------------------------------------------------------------------------------------------\n",
            "2023-04-21 16:31:34,413 EPOCH 80 done: loss 0.1750 - lr 0.000000\n"
          ]
        },
        {
          "output_type": "stream",
          "name": "stderr",
          "text": [
            "100%|██████████| 24/24 [00:10<00:00,  2.36it/s]"
          ]
        },
        {
          "output_type": "stream",
          "name": "stdout",
          "text": [
            "2023-04-21 16:31:44,734 Evaluating as a multi-label problem: True\n"
          ]
        },
        {
          "output_type": "stream",
          "name": "stderr",
          "text": [
            "\n"
          ]
        },
        {
          "output_type": "stream",
          "name": "stdout",
          "text": [
            "2023-04-21 16:31:48,739 TRAIN : loss 0.14586767554283142 - f1-score (weighted avg)  0.7868\n"
          ]
        },
        {
          "output_type": "stream",
          "name": "stderr",
          "text": [
            "100%|██████████| 3/3 [00:01<00:00,  2.19it/s]"
          ]
        },
        {
          "output_type": "stream",
          "name": "stdout",
          "text": [
            "2023-04-21 16:31:50,271 Evaluating as a multi-label problem: False\n",
            "2023-04-21 16:31:50,342 DEV : loss 0.3225470185279846 - f1-score (weighted avg)  0.6351\n",
            "2023-04-21 16:31:50,362 BAD EPOCHS (no improvement): 1\n",
            "2023-04-21 16:31:50,366 ----------------------------------------------------------------------------------------------------\n"
          ]
        },
        {
          "output_type": "stream",
          "name": "stderr",
          "text": [
            "\n"
          ]
        },
        {
          "output_type": "stream",
          "name": "stdout",
          "text": [
            "2023-04-21 16:31:52,758 epoch 81 - iter 2/24 - loss 0.28558619 - time (sec): 2.39 - samples/sec: 3796.94 - lr: 0.000000\n",
            "2023-04-21 16:31:54,991 epoch 81 - iter 4/24 - loss 0.24354297 - time (sec): 4.62 - samples/sec: 3732.36 - lr: 0.000000\n",
            "2023-04-21 16:31:57,082 epoch 81 - iter 6/24 - loss 0.21745126 - time (sec): 6.71 - samples/sec: 3862.41 - lr: 0.000000\n",
            "2023-04-21 16:31:59,147 epoch 81 - iter 8/24 - loss 0.20355781 - time (sec): 8.78 - samples/sec: 3767.46 - lr: 0.000000\n",
            "2023-04-21 16:32:01,220 epoch 81 - iter 10/24 - loss 0.19559067 - time (sec): 10.85 - samples/sec: 3758.86 - lr: 0.000000\n",
            "2023-04-21 16:32:03,275 epoch 81 - iter 12/24 - loss 0.18946941 - time (sec): 12.91 - samples/sec: 3803.16 - lr: 0.000000\n",
            "2023-04-21 16:32:05,372 epoch 81 - iter 14/24 - loss 0.18453418 - time (sec): 15.00 - samples/sec: 3757.35 - lr: 0.000000\n",
            "2023-04-21 16:32:07,483 epoch 81 - iter 16/24 - loss 0.18237241 - time (sec): 17.11 - samples/sec: 3795.23 - lr: 0.000000\n",
            "2023-04-21 16:32:09,560 epoch 81 - iter 18/24 - loss 0.17794510 - time (sec): 19.19 - samples/sec: 3793.62 - lr: 0.000000\n",
            "2023-04-21 16:32:11,610 epoch 81 - iter 20/24 - loss 0.17539833 - time (sec): 21.24 - samples/sec: 3800.46 - lr: 0.000000\n",
            "2023-04-21 16:32:13,768 epoch 81 - iter 22/24 - loss 0.17539788 - time (sec): 23.40 - samples/sec: 3783.68 - lr: 0.000000\n",
            "2023-04-21 16:32:15,606 epoch 81 - iter 24/24 - loss 0.17518187 - time (sec): 25.24 - samples/sec: 3755.03 - lr: 0.000000\n",
            "2023-04-21 16:32:15,609 ----------------------------------------------------------------------------------------------------\n",
            "2023-04-21 16:32:15,611 EPOCH 81 done: loss 0.1752 - lr 0.000000\n"
          ]
        },
        {
          "output_type": "stream",
          "name": "stderr",
          "text": [
            "100%|██████████| 24/24 [00:10<00:00,  2.38it/s]"
          ]
        },
        {
          "output_type": "stream",
          "name": "stdout",
          "text": [
            "2023-04-21 16:32:25,817 Evaluating as a multi-label problem: True\n"
          ]
        },
        {
          "output_type": "stream",
          "name": "stderr",
          "text": [
            "\n"
          ]
        },
        {
          "output_type": "stream",
          "name": "stdout",
          "text": [
            "2023-04-21 16:32:29,813 TRAIN : loss 0.145797461271286 - f1-score (weighted avg)  0.7868\n"
          ]
        },
        {
          "output_type": "stream",
          "name": "stderr",
          "text": [
            "100%|██████████| 3/3 [00:01<00:00,  2.19it/s]"
          ]
        },
        {
          "output_type": "stream",
          "name": "stdout",
          "text": [
            "2023-04-21 16:32:31,341 Evaluating as a multi-label problem: False\n",
            "2023-04-21 16:32:31,410 DEV : loss 0.3225334882736206 - f1-score (weighted avg)  0.6351\n",
            "2023-04-21 16:32:31,430 BAD EPOCHS (no improvement): 0\n",
            "2023-04-21 16:32:31,433 ----------------------------------------------------------------------------------------------------\n"
          ]
        },
        {
          "output_type": "stream",
          "name": "stderr",
          "text": [
            "\n"
          ]
        },
        {
          "output_type": "stream",
          "name": "stdout",
          "text": [
            "2023-04-21 16:32:33,606 epoch 82 - iter 2/24 - loss 0.22066380 - time (sec): 2.17 - samples/sec: 3728.08 - lr: 0.000000\n",
            "2023-04-21 16:32:35,706 epoch 82 - iter 4/24 - loss 0.18892150 - time (sec): 4.27 - samples/sec: 3654.88 - lr: 0.000000\n",
            "2023-04-21 16:32:37,793 epoch 82 - iter 6/24 - loss 0.17630695 - time (sec): 6.36 - samples/sec: 3806.98 - lr: 0.000000\n",
            "2023-04-21 16:32:39,918 epoch 82 - iter 8/24 - loss 0.16628499 - time (sec): 8.48 - samples/sec: 3828.93 - lr: 0.000000\n",
            "2023-04-21 16:32:41,978 epoch 82 - iter 10/24 - loss 0.17306030 - time (sec): 10.54 - samples/sec: 3804.70 - lr: 0.000000\n",
            "2023-04-21 16:32:44,224 epoch 82 - iter 12/24 - loss 0.17821888 - time (sec): 12.79 - samples/sec: 3729.49 - lr: 0.000000\n",
            "2023-04-21 16:32:46,350 epoch 82 - iter 14/24 - loss 0.17559885 - time (sec): 14.91 - samples/sec: 3724.13 - lr: 0.000000\n",
            "2023-04-21 16:32:48,463 epoch 82 - iter 16/24 - loss 0.17126858 - time (sec): 17.03 - samples/sec: 3740.79 - lr: 0.000000\n",
            "2023-04-21 16:32:50,523 epoch 82 - iter 18/24 - loss 0.16937015 - time (sec): 19.09 - samples/sec: 3714.05 - lr: 0.000000\n",
            "2023-04-21 16:32:52,641 epoch 82 - iter 20/24 - loss 0.16699885 - time (sec): 21.21 - samples/sec: 3734.01 - lr: 0.000000\n",
            "2023-04-21 16:32:55,018 epoch 82 - iter 22/24 - loss 0.17665979 - time (sec): 23.58 - samples/sec: 3743.30 - lr: 0.000000\n",
            "2023-04-21 16:32:56,764 epoch 82 - iter 24/24 - loss 0.17424125 - time (sec): 25.33 - samples/sec: 3741.54 - lr: 0.000000\n",
            "2023-04-21 16:32:56,767 ----------------------------------------------------------------------------------------------------\n",
            "2023-04-21 16:32:56,768 EPOCH 82 done: loss 0.1742 - lr 0.000000\n"
          ]
        },
        {
          "output_type": "stream",
          "name": "stderr",
          "text": [
            "100%|██████████| 24/24 [00:10<00:00,  2.34it/s]"
          ]
        },
        {
          "output_type": "stream",
          "name": "stdout",
          "text": [
            "2023-04-21 16:33:07,182 Evaluating as a multi-label problem: True\n"
          ]
        },
        {
          "output_type": "stream",
          "name": "stderr",
          "text": [
            "\n"
          ]
        },
        {
          "output_type": "stream",
          "name": "stdout",
          "text": [
            "2023-04-21 16:33:11,243 TRAIN : loss 0.14563025534152985 - f1-score (weighted avg)  0.7869\n"
          ]
        },
        {
          "output_type": "stream",
          "name": "stderr",
          "text": [
            "100%|██████████| 3/3 [00:01<00:00,  2.12it/s]"
          ]
        },
        {
          "output_type": "stream",
          "name": "stdout",
          "text": [
            "2023-04-21 16:33:12,821 Evaluating as a multi-label problem: False\n",
            "2023-04-21 16:33:12,893 DEV : loss 0.32265177369117737 - f1-score (weighted avg)  0.6353\n",
            "2023-04-21 16:33:12,915 BAD EPOCHS (no improvement): 1\n",
            "2023-04-21 16:33:12,920 ----------------------------------------------------------------------------------------------------\n"
          ]
        },
        {
          "output_type": "stream",
          "name": "stderr",
          "text": [
            "\n"
          ]
        },
        {
          "output_type": "stream",
          "name": "stdout",
          "text": [
            "2023-04-21 16:33:15,014 epoch 83 - iter 2/24 - loss 0.17125433 - time (sec): 2.09 - samples/sec: 3803.56 - lr: 0.000000\n",
            "2023-04-21 16:33:17,110 epoch 83 - iter 4/24 - loss 0.15357016 - time (sec): 4.19 - samples/sec: 3766.92 - lr: 0.000000\n",
            "2023-04-21 16:33:19,278 epoch 83 - iter 6/24 - loss 0.15493688 - time (sec): 6.36 - samples/sec: 3603.52 - lr: 0.000000\n",
            "2023-04-21 16:33:21,323 epoch 83 - iter 8/24 - loss 0.15998815 - time (sec): 8.40 - samples/sec: 3564.22 - lr: 0.000000\n",
            "2023-04-21 16:33:23,397 epoch 83 - iter 10/24 - loss 0.15425119 - time (sec): 10.48 - samples/sec: 3672.97 - lr: 0.000000\n",
            "2023-04-21 16:33:25,777 epoch 83 - iter 12/24 - loss 0.17580904 - time (sec): 12.85 - samples/sec: 3741.43 - lr: 0.000000\n",
            "2023-04-21 16:33:27,876 epoch 83 - iter 14/24 - loss 0.17275369 - time (sec): 14.95 - samples/sec: 3735.73 - lr: 0.000000\n",
            "2023-04-21 16:33:29,946 epoch 83 - iter 16/24 - loss 0.17194583 - time (sec): 17.02 - samples/sec: 3740.12 - lr: 0.000000\n",
            "2023-04-21 16:33:32,066 epoch 83 - iter 18/24 - loss 0.17306567 - time (sec): 19.14 - samples/sec: 3738.02 - lr: 0.000000\n",
            "2023-04-21 16:33:34,128 epoch 83 - iter 20/24 - loss 0.17060202 - time (sec): 21.21 - samples/sec: 3710.84 - lr: 0.000000\n",
            "2023-04-21 16:33:36,250 epoch 83 - iter 22/24 - loss 0.16828574 - time (sec): 23.33 - samples/sec: 3729.18 - lr: 0.000000\n",
            "2023-04-21 16:33:38,175 epoch 83 - iter 24/24 - loss 0.17509066 - time (sec): 25.25 - samples/sec: 3752.83 - lr: 0.000000\n",
            "2023-04-21 16:33:38,178 ----------------------------------------------------------------------------------------------------\n",
            "2023-04-21 16:33:38,179 EPOCH 83 done: loss 0.1751 - lr 0.000000\n"
          ]
        },
        {
          "output_type": "stream",
          "name": "stderr",
          "text": [
            "100%|██████████| 24/24 [00:10<00:00,  2.35it/s]"
          ]
        },
        {
          "output_type": "stream",
          "name": "stdout",
          "text": [
            "2023-04-21 16:33:48,559 Evaluating as a multi-label problem: True\n"
          ]
        },
        {
          "output_type": "stream",
          "name": "stderr",
          "text": [
            "\n"
          ]
        },
        {
          "output_type": "stream",
          "name": "stdout",
          "text": [
            "2023-04-21 16:33:52,666 TRAIN : loss 0.14548033475875854 - f1-score (weighted avg)  0.7871\n"
          ]
        },
        {
          "output_type": "stream",
          "name": "stderr",
          "text": [
            "100%|██████████| 3/3 [00:01<00:00,  2.16it/s]"
          ]
        },
        {
          "output_type": "stream",
          "name": "stdout",
          "text": [
            "2023-04-21 16:33:54,211 Evaluating as a multi-label problem: False\n",
            "2023-04-21 16:33:54,281 DEV : loss 0.32277345657348633 - f1-score (weighted avg)  0.6355\n",
            "2023-04-21 16:33:54,301 BAD EPOCHS (no improvement): 0\n",
            "2023-04-21 16:33:54,305 ----------------------------------------------------------------------------------------------------\n"
          ]
        },
        {
          "output_type": "stream",
          "name": "stderr",
          "text": [
            "\n"
          ]
        },
        {
          "output_type": "stream",
          "name": "stdout",
          "text": [
            "2023-04-21 16:33:56,358 epoch 84 - iter 2/24 - loss 0.15546901 - time (sec): 2.05 - samples/sec: 3765.01 - lr: 0.000000\n",
            "2023-04-21 16:33:58,498 epoch 84 - iter 4/24 - loss 0.16752497 - time (sec): 4.19 - samples/sec: 3628.00 - lr: 0.000000\n",
            "2023-04-21 16:34:00,548 epoch 84 - iter 6/24 - loss 0.16991922 - time (sec): 6.24 - samples/sec: 3718.84 - lr: 0.000000\n",
            "2023-04-21 16:34:02,656 epoch 84 - iter 8/24 - loss 0.16468409 - time (sec): 8.35 - samples/sec: 3687.31 - lr: 0.000000\n",
            "2023-04-21 16:34:04,774 epoch 84 - iter 10/24 - loss 0.16491495 - time (sec): 10.47 - samples/sec: 3730.60 - lr: 0.000000\n",
            "2023-04-21 16:34:07,193 epoch 84 - iter 12/24 - loss 0.18049995 - time (sec): 12.89 - samples/sec: 3692.49 - lr: 0.000000\n",
            "2023-04-21 16:34:09,274 epoch 84 - iter 14/24 - loss 0.17906426 - time (sec): 14.97 - samples/sec: 3802.29 - lr: 0.000000\n",
            "2023-04-21 16:34:11,393 epoch 84 - iter 16/24 - loss 0.17810521 - time (sec): 17.09 - samples/sec: 3751.44 - lr: 0.000000\n",
            "2023-04-21 16:34:13,638 epoch 84 - iter 18/24 - loss 0.18257100 - time (sec): 19.33 - samples/sec: 3762.14 - lr: 0.000000\n",
            "2023-04-21 16:34:15,784 epoch 84 - iter 20/24 - loss 0.18273172 - time (sec): 21.48 - samples/sec: 3767.40 - lr: 0.000000\n",
            "2023-04-21 16:34:17,882 epoch 84 - iter 22/24 - loss 0.17850581 - time (sec): 23.58 - samples/sec: 3740.03 - lr: 0.000000\n",
            "2023-04-21 16:34:19,619 epoch 84 - iter 24/24 - loss 0.17507906 - time (sec): 25.31 - samples/sec: 3743.98 - lr: 0.000000\n",
            "2023-04-21 16:34:19,622 ----------------------------------------------------------------------------------------------------\n",
            "2023-04-21 16:34:19,624 EPOCH 84 done: loss 0.1751 - lr 0.000000\n"
          ]
        },
        {
          "output_type": "stream",
          "name": "stderr",
          "text": [
            "100%|██████████| 24/24 [00:10<00:00,  2.32it/s]"
          ]
        },
        {
          "output_type": "stream",
          "name": "stdout",
          "text": [
            "2023-04-21 16:34:30,105 Evaluating as a multi-label problem: True\n"
          ]
        },
        {
          "output_type": "stream",
          "name": "stderr",
          "text": [
            "\n"
          ]
        },
        {
          "output_type": "stream",
          "name": "stdout",
          "text": [
            "2023-04-21 16:34:32,876 TRAIN : loss 0.14547240734100342 - f1-score (weighted avg)  0.7871\n"
          ]
        },
        {
          "output_type": "stream",
          "name": "stderr",
          "text": [
            "100%|██████████| 3/3 [00:02<00:00,  1.20it/s]"
          ]
        },
        {
          "output_type": "stream",
          "name": "stdout",
          "text": [
            "2023-04-21 16:34:35,549 Evaluating as a multi-label problem: False\n",
            "2023-04-21 16:34:35,624 DEV : loss 0.3226759731769562 - f1-score (weighted avg)  0.6355\n",
            "2023-04-21 16:34:35,643 BAD EPOCHS (no improvement): 1\n",
            "2023-04-21 16:34:35,647 ----------------------------------------------------------------------------------------------------\n"
          ]
        },
        {
          "output_type": "stream",
          "name": "stderr",
          "text": [
            "\n"
          ]
        },
        {
          "output_type": "stream",
          "name": "stdout",
          "text": [
            "2023-04-21 16:34:37,762 epoch 85 - iter 2/24 - loss 0.17724219 - time (sec): 2.11 - samples/sec: 3567.35 - lr: 0.000000\n",
            "2023-04-21 16:34:39,839 epoch 85 - iter 4/24 - loss 0.16514000 - time (sec): 4.19 - samples/sec: 3700.23 - lr: 0.000000\n",
            "2023-04-21 16:34:41,925 epoch 85 - iter 6/24 - loss 0.16602873 - time (sec): 6.28 - samples/sec: 3802.69 - lr: 0.000000\n",
            "2023-04-21 16:34:44,042 epoch 85 - iter 8/24 - loss 0.15872011 - time (sec): 8.39 - samples/sec: 3783.96 - lr: 0.000000\n",
            "2023-04-21 16:34:46,115 epoch 85 - iter 10/24 - loss 0.16105347 - time (sec): 10.47 - samples/sec: 3765.29 - lr: 0.000000\n",
            "2023-04-21 16:34:48,212 epoch 85 - iter 12/24 - loss 0.15881175 - time (sec): 12.56 - samples/sec: 3757.90 - lr: 0.000000\n",
            "2023-04-21 16:34:50,367 epoch 85 - iter 14/24 - loss 0.16153291 - time (sec): 14.72 - samples/sec: 3723.80 - lr: 0.000000\n",
            "2023-04-21 16:34:52,666 epoch 85 - iter 16/24 - loss 0.16736172 - time (sec): 17.02 - samples/sec: 3688.50 - lr: 0.000000\n",
            "2023-04-21 16:34:54,767 epoch 85 - iter 18/24 - loss 0.16946993 - time (sec): 19.12 - samples/sec: 3738.68 - lr: 0.000000\n",
            "2023-04-21 16:34:57,172 epoch 85 - iter 20/24 - loss 0.17772777 - time (sec): 21.52 - samples/sec: 3756.66 - lr: 0.000000\n",
            "2023-04-21 16:34:59,265 epoch 85 - iter 22/24 - loss 0.17624405 - time (sec): 23.62 - samples/sec: 3756.69 - lr: 0.000000\n",
            "2023-04-21 16:35:01,022 epoch 85 - iter 24/24 - loss 0.17375062 - time (sec): 25.37 - samples/sec: 3735.12 - lr: 0.000000\n",
            "2023-04-21 16:35:01,025 ----------------------------------------------------------------------------------------------------\n",
            "2023-04-21 16:35:01,027 EPOCH 85 done: loss 0.1738 - lr 0.000000\n"
          ]
        },
        {
          "output_type": "stream",
          "name": "stderr",
          "text": [
            "100%|██████████| 24/24 [00:10<00:00,  2.34it/s]"
          ]
        },
        {
          "output_type": "stream",
          "name": "stdout",
          "text": [
            "2023-04-21 16:35:11,437 Evaluating as a multi-label problem: True\n"
          ]
        },
        {
          "output_type": "stream",
          "name": "stderr",
          "text": [
            "\n"
          ]
        },
        {
          "output_type": "stream",
          "name": "stdout",
          "text": [
            "2023-04-21 16:35:15,423 TRAIN : loss 0.1452755182981491 - f1-score (weighted avg)  0.7874\n"
          ]
        },
        {
          "output_type": "stream",
          "name": "stderr",
          "text": [
            "100%|██████████| 3/3 [00:01<00:00,  2.16it/s]"
          ]
        },
        {
          "output_type": "stream",
          "name": "stdout",
          "text": [
            "2023-04-21 16:35:16,979 Evaluating as a multi-label problem: False\n",
            "2023-04-21 16:35:17,048 DEV : loss 0.3227846026420593 - f1-score (weighted avg)  0.6357\n",
            "2023-04-21 16:35:17,067 BAD EPOCHS (no improvement): 0\n",
            "2023-04-21 16:35:17,075 ----------------------------------------------------------------------------------------------------\n"
          ]
        },
        {
          "output_type": "stream",
          "name": "stderr",
          "text": [
            "\n"
          ]
        },
        {
          "output_type": "stream",
          "name": "stdout",
          "text": [
            "2023-04-21 16:35:19,127 epoch 86 - iter 2/24 - loss 0.16401934 - time (sec): 2.05 - samples/sec: 3618.02 - lr: 0.000000\n",
            "2023-04-21 16:35:21,438 epoch 86 - iter 4/24 - loss 0.17705334 - time (sec): 4.36 - samples/sec: 3786.92 - lr: 0.000000\n",
            "2023-04-21 16:35:23,519 epoch 86 - iter 6/24 - loss 0.16161482 - time (sec): 6.44 - samples/sec: 3827.60 - lr: 0.000000\n",
            "2023-04-21 16:35:25,590 epoch 86 - iter 8/24 - loss 0.15613037 - time (sec): 8.51 - samples/sec: 3938.03 - lr: 0.000000\n",
            "2023-04-21 16:35:27,709 epoch 86 - iter 10/24 - loss 0.16023100 - time (sec): 10.63 - samples/sec: 3814.28 - lr: 0.000000\n",
            "2023-04-21 16:35:29,814 epoch 86 - iter 12/24 - loss 0.15844540 - time (sec): 12.74 - samples/sec: 3795.27 - lr: 0.000000\n",
            "2023-04-21 16:35:31,839 epoch 86 - iter 14/24 - loss 0.15704716 - time (sec): 14.76 - samples/sec: 3725.41 - lr: 0.000000\n",
            "2023-04-21 16:35:34,004 epoch 86 - iter 16/24 - loss 0.16443543 - time (sec): 16.93 - samples/sec: 3730.98 - lr: 0.000000\n",
            "2023-04-21 16:35:36,120 epoch 86 - iter 18/24 - loss 0.16598844 - time (sec): 19.04 - samples/sec: 3766.31 - lr: 0.000000\n",
            "2023-04-21 16:35:38,559 epoch 86 - iter 20/24 - loss 0.17864157 - time (sec): 21.48 - samples/sec: 3757.80 - lr: 0.000000\n",
            "2023-04-21 16:35:40,614 epoch 86 - iter 22/24 - loss 0.17686360 - time (sec): 23.54 - samples/sec: 3747.13 - lr: 0.000000\n",
            "2023-04-21 16:35:42,376 epoch 86 - iter 24/24 - loss 0.17519730 - time (sec): 25.30 - samples/sec: 3745.91 - lr: 0.000000\n",
            "2023-04-21 16:35:42,379 ----------------------------------------------------------------------------------------------------\n",
            "2023-04-21 16:35:42,381 EPOCH 86 done: loss 0.1752 - lr 0.000000\n"
          ]
        },
        {
          "output_type": "stream",
          "name": "stderr",
          "text": [
            "100%|██████████| 24/24 [00:10<00:00,  2.34it/s]"
          ]
        },
        {
          "output_type": "stream",
          "name": "stdout",
          "text": [
            "2023-04-21 16:35:52,778 Evaluating as a multi-label problem: True\n"
          ]
        },
        {
          "output_type": "stream",
          "name": "stderr",
          "text": [
            "\n"
          ]
        },
        {
          "output_type": "stream",
          "name": "stdout",
          "text": [
            "2023-04-21 16:35:56,850 TRAIN : loss 0.1453607976436615 - f1-score (weighted avg)  0.7872\n"
          ]
        },
        {
          "output_type": "stream",
          "name": "stderr",
          "text": [
            "100%|██████████| 3/3 [00:01<00:00,  2.13it/s]"
          ]
        },
        {
          "output_type": "stream",
          "name": "stdout",
          "text": [
            "2023-04-21 16:35:58,420 Evaluating as a multi-label problem: False\n",
            "2023-04-21 16:35:58,488 DEV : loss 0.3227638006210327 - f1-score (weighted avg)  0.6355\n",
            "2023-04-21 16:35:58,507 BAD EPOCHS (no improvement): 1\n",
            "2023-04-21 16:35:58,511 ----------------------------------------------------------------------------------------------------\n"
          ]
        },
        {
          "output_type": "stream",
          "name": "stderr",
          "text": [
            "\n"
          ]
        },
        {
          "output_type": "stream",
          "name": "stdout",
          "text": [
            "2023-04-21 16:36:00,588 epoch 87 - iter 2/24 - loss 0.15890836 - time (sec): 2.08 - samples/sec: 3364.09 - lr: 0.000000\n",
            "2023-04-21 16:36:02,707 epoch 87 - iter 4/24 - loss 0.14498424 - time (sec): 4.19 - samples/sec: 3589.32 - lr: 0.000000\n",
            "2023-04-21 16:36:04,828 epoch 87 - iter 6/24 - loss 0.14030379 - time (sec): 6.32 - samples/sec: 3678.58 - lr: 0.000000\n",
            "2023-04-21 16:36:06,899 epoch 87 - iter 8/24 - loss 0.15361864 - time (sec): 8.39 - samples/sec: 3735.97 - lr: 0.000000\n",
            "2023-04-21 16:36:09,314 epoch 87 - iter 10/24 - loss 0.18478752 - time (sec): 10.80 - samples/sec: 3773.72 - lr: 0.000000\n",
            "2023-04-21 16:36:11,388 epoch 87 - iter 12/24 - loss 0.18179641 - time (sec): 12.88 - samples/sec: 3731.15 - lr: 0.000000\n",
            "2023-04-21 16:36:13,574 epoch 87 - iter 14/24 - loss 0.18148150 - time (sec): 15.06 - samples/sec: 3683.04 - lr: 0.000000\n",
            "2023-04-21 16:36:15,687 epoch 87 - iter 16/24 - loss 0.17719309 - time (sec): 17.17 - samples/sec: 3741.55 - lr: 0.000000\n",
            "2023-04-21 16:36:17,939 epoch 87 - iter 18/24 - loss 0.18414578 - time (sec): 19.43 - samples/sec: 3689.70 - lr: 0.000000\n",
            "2023-04-21 16:36:20,018 epoch 87 - iter 20/24 - loss 0.18140420 - time (sec): 21.51 - samples/sec: 3745.40 - lr: 0.000000\n",
            "2023-04-21 16:36:22,104 epoch 87 - iter 22/24 - loss 0.17712895 - time (sec): 23.59 - samples/sec: 3719.95 - lr: 0.000000\n",
            "2023-04-21 16:36:23,945 epoch 87 - iter 24/24 - loss 0.17514672 - time (sec): 25.43 - samples/sec: 3726.35 - lr: 0.000000\n",
            "2023-04-21 16:36:23,948 ----------------------------------------------------------------------------------------------------\n",
            "2023-04-21 16:36:23,950 EPOCH 87 done: loss 0.1751 - lr 0.000000\n"
          ]
        },
        {
          "output_type": "stream",
          "name": "stderr",
          "text": [
            "100%|██████████| 24/24 [00:10<00:00,  2.35it/s]"
          ]
        },
        {
          "output_type": "stream",
          "name": "stdout",
          "text": [
            "2023-04-21 16:36:34,301 Evaluating as a multi-label problem: True\n"
          ]
        },
        {
          "output_type": "stream",
          "name": "stderr",
          "text": [
            "\n"
          ]
        },
        {
          "output_type": "stream",
          "name": "stdout",
          "text": [
            "2023-04-21 16:36:38,391 TRAIN : loss 0.14525297284126282 - f1-score (weighted avg)  0.7875\n"
          ]
        },
        {
          "output_type": "stream",
          "name": "stderr",
          "text": [
            "100%|██████████| 3/3 [00:01<00:00,  2.09it/s]"
          ]
        },
        {
          "output_type": "stream",
          "name": "stdout",
          "text": [
            "2023-04-21 16:36:39,993 Evaluating as a multi-label problem: False\n",
            "2023-04-21 16:36:40,069 DEV : loss 0.3227761685848236 - f1-score (weighted avg)  0.6357\n",
            "2023-04-21 16:36:40,090 BAD EPOCHS (no improvement): 0\n",
            "2023-04-21 16:36:40,096 ----------------------------------------------------------------------------------------------------\n"
          ]
        },
        {
          "output_type": "stream",
          "name": "stderr",
          "text": [
            "\n"
          ]
        },
        {
          "output_type": "stream",
          "name": "stdout",
          "text": [
            "2023-04-21 16:36:42,246 epoch 88 - iter 2/24 - loss 0.16289712 - time (sec): 2.15 - samples/sec: 4097.73 - lr: 0.000000\n",
            "2023-04-21 16:36:44,345 epoch 88 - iter 4/24 - loss 0.15519976 - time (sec): 4.25 - samples/sec: 3915.32 - lr: 0.000000\n",
            "2023-04-21 16:36:46,412 epoch 88 - iter 6/24 - loss 0.15703917 - time (sec): 6.31 - samples/sec: 3810.66 - lr: 0.000000\n",
            "2023-04-21 16:36:48,511 epoch 88 - iter 8/24 - loss 0.15760412 - time (sec): 8.41 - samples/sec: 3785.47 - lr: 0.000000\n",
            "2023-04-21 16:36:50,895 epoch 88 - iter 10/24 - loss 0.18390185 - time (sec): 10.80 - samples/sec: 3786.89 - lr: 0.000000\n",
            "2023-04-21 16:36:53,024 epoch 88 - iter 12/24 - loss 0.18339367 - time (sec): 12.93 - samples/sec: 3704.96 - lr: 0.000000\n",
            "2023-04-21 16:36:55,269 epoch 88 - iter 14/24 - loss 0.19015681 - time (sec): 15.17 - samples/sec: 3656.80 - lr: 0.000000\n",
            "2023-04-21 16:36:57,314 epoch 88 - iter 16/24 - loss 0.18478230 - time (sec): 17.22 - samples/sec: 3651.02 - lr: 0.000000\n",
            "2023-04-21 16:36:59,478 epoch 88 - iter 18/24 - loss 0.18195154 - time (sec): 19.38 - samples/sec: 3672.83 - lr: 0.000000\n",
            "2023-04-21 16:37:01,520 epoch 88 - iter 20/24 - loss 0.17882845 - time (sec): 21.42 - samples/sec: 3688.11 - lr: 0.000000\n",
            "2023-04-21 16:37:03,638 epoch 88 - iter 22/24 - loss 0.17583491 - time (sec): 23.54 - samples/sec: 3732.01 - lr: 0.000000\n",
            "2023-04-21 16:37:05,372 epoch 88 - iter 24/24 - loss 0.17301932 - time (sec): 25.27 - samples/sec: 3749.70 - lr: 0.000000\n",
            "2023-04-21 16:37:05,374 ----------------------------------------------------------------------------------------------------\n",
            "2023-04-21 16:37:05,376 EPOCH 88 done: loss 0.1730 - lr 0.000000\n"
          ]
        },
        {
          "output_type": "stream",
          "name": "stderr",
          "text": [
            "100%|██████████| 24/24 [00:10<00:00,  2.37it/s]"
          ]
        },
        {
          "output_type": "stream",
          "name": "stdout",
          "text": [
            "2023-04-21 16:37:15,662 Evaluating as a multi-label problem: True\n"
          ]
        },
        {
          "output_type": "stream",
          "name": "stderr",
          "text": [
            "\n"
          ]
        },
        {
          "output_type": "stream",
          "name": "stdout",
          "text": [
            "2023-04-21 16:37:19,643 TRAIN : loss 0.14523862302303314 - f1-score (weighted avg)  0.7877\n"
          ]
        },
        {
          "output_type": "stream",
          "name": "stderr",
          "text": [
            "100%|██████████| 3/3 [00:01<00:00,  2.14it/s]"
          ]
        },
        {
          "output_type": "stream",
          "name": "stdout",
          "text": [
            "2023-04-21 16:37:21,205 Evaluating as a multi-label problem: False\n",
            "2023-04-21 16:37:21,275 DEV : loss 0.3229760229587555 - f1-score (weighted avg)  0.635\n",
            "2023-04-21 16:37:21,296 BAD EPOCHS (no improvement): 1\n",
            "2023-04-21 16:37:21,300 ----------------------------------------------------------------------------------------------------\n"
          ]
        },
        {
          "output_type": "stream",
          "name": "stderr",
          "text": [
            "\n"
          ]
        },
        {
          "output_type": "stream",
          "name": "stdout",
          "text": [
            "2023-04-21 16:37:23,448 epoch 89 - iter 2/24 - loss 0.18269786 - time (sec): 2.15 - samples/sec: 3493.01 - lr: 0.000000\n",
            "2023-04-21 16:37:25,556 epoch 89 - iter 4/24 - loss 0.17455894 - time (sec): 4.25 - samples/sec: 3666.80 - lr: 0.000000\n",
            "2023-04-21 16:37:27,593 epoch 89 - iter 6/24 - loss 0.17404336 - time (sec): 6.29 - samples/sec: 3560.86 - lr: 0.000000\n",
            "2023-04-21 16:37:29,648 epoch 89 - iter 8/24 - loss 0.17124204 - time (sec): 8.35 - samples/sec: 3608.73 - lr: 0.000000\n",
            "2023-04-21 16:37:31,693 epoch 89 - iter 10/24 - loss 0.16749849 - time (sec): 10.39 - samples/sec: 3678.20 - lr: 0.000000\n",
            "2023-04-21 16:37:33,760 epoch 89 - iter 12/24 - loss 0.17447595 - time (sec): 12.46 - samples/sec: 3653.15 - lr: 0.000000\n",
            "2023-04-21 16:37:36,158 epoch 89 - iter 14/24 - loss 0.19261474 - time (sec): 14.86 - samples/sec: 3705.29 - lr: 0.000000\n",
            "2023-04-21 16:37:38,189 epoch 89 - iter 16/24 - loss 0.18771660 - time (sec): 16.89 - samples/sec: 3709.83 - lr: 0.000000\n",
            "2023-04-21 16:37:40,314 epoch 89 - iter 18/24 - loss 0.18519232 - time (sec): 19.01 - samples/sec: 3778.98 - lr: 0.000000\n",
            "2023-04-21 16:37:42,398 epoch 89 - iter 20/24 - loss 0.17939769 - time (sec): 21.10 - samples/sec: 3811.54 - lr: 0.000000\n",
            "2023-04-21 16:37:44,508 epoch 89 - iter 22/24 - loss 0.17599022 - time (sec): 23.21 - samples/sec: 3801.94 - lr: 0.000000\n",
            "2023-04-21 16:37:46,303 epoch 89 - iter 24/24 - loss 0.17502516 - time (sec): 25.00 - samples/sec: 3790.60 - lr: 0.000000\n",
            "2023-04-21 16:37:46,306 ----------------------------------------------------------------------------------------------------\n",
            "2023-04-21 16:37:46,307 EPOCH 89 done: loss 0.1750 - lr 0.000000\n"
          ]
        },
        {
          "output_type": "stream",
          "name": "stderr",
          "text": [
            "100%|██████████| 24/24 [00:10<00:00,  2.36it/s]"
          ]
        },
        {
          "output_type": "stream",
          "name": "stdout",
          "text": [
            "2023-04-21 16:37:56,606 Evaluating as a multi-label problem: True\n"
          ]
        },
        {
          "output_type": "stream",
          "name": "stderr",
          "text": [
            "\n"
          ]
        },
        {
          "output_type": "stream",
          "name": "stdout",
          "text": [
            "2023-04-21 16:38:00,562 TRAIN : loss 0.14542880654335022 - f1-score (weighted avg)  0.7875\n"
          ]
        },
        {
          "output_type": "stream",
          "name": "stderr",
          "text": [
            "100%|██████████| 3/3 [00:01<00:00,  2.15it/s]"
          ]
        },
        {
          "output_type": "stream",
          "name": "stdout",
          "text": [
            "2023-04-21 16:38:02,117 Evaluating as a multi-label problem: False\n",
            "2023-04-21 16:38:02,187 DEV : loss 0.32294225692749023 - f1-score (weighted avg)  0.6356\n",
            "2023-04-21 16:38:02,207 BAD EPOCHS (no improvement): 0\n",
            "2023-04-21 16:38:02,211 ----------------------------------------------------------------------------------------------------\n"
          ]
        },
        {
          "output_type": "stream",
          "name": "stderr",
          "text": [
            "\n"
          ]
        },
        {
          "output_type": "stream",
          "name": "stdout",
          "text": [
            "2023-04-21 16:38:04,316 epoch 90 - iter 2/24 - loss 0.13284734 - time (sec): 2.10 - samples/sec: 4206.68 - lr: 0.000000\n",
            "2023-04-21 16:38:06,404 epoch 90 - iter 4/24 - loss 0.13996739 - time (sec): 4.19 - samples/sec: 3876.65 - lr: 0.000000\n",
            "2023-04-21 16:38:08,454 epoch 90 - iter 6/24 - loss 0.15086233 - time (sec): 6.24 - samples/sec: 3840.12 - lr: 0.000000\n",
            "2023-04-21 16:38:10,552 epoch 90 - iter 8/24 - loss 0.15052403 - time (sec): 8.34 - samples/sec: 3869.78 - lr: 0.000000\n",
            "2023-04-21 16:38:12,610 epoch 90 - iter 10/24 - loss 0.15663205 - time (sec): 10.40 - samples/sec: 3786.24 - lr: 0.000000\n",
            "2023-04-21 16:38:14,962 epoch 90 - iter 12/24 - loss 0.17701306 - time (sec): 12.75 - samples/sec: 3752.03 - lr: 0.000000\n",
            "2023-04-21 16:38:17,069 epoch 90 - iter 14/24 - loss 0.18043542 - time (sec): 14.86 - samples/sec: 3753.63 - lr: 0.000000\n",
            "2023-04-21 16:38:19,243 epoch 90 - iter 16/24 - loss 0.17692884 - time (sec): 17.03 - samples/sec: 3790.89 - lr: 0.000000\n",
            "2023-04-21 16:38:21,292 epoch 90 - iter 18/24 - loss 0.17645713 - time (sec): 19.08 - samples/sec: 3795.16 - lr: 0.000000\n",
            "2023-04-21 16:38:23,456 epoch 90 - iter 20/24 - loss 0.17694011 - time (sec): 21.24 - samples/sec: 3741.90 - lr: 0.000000\n",
            "2023-04-21 16:38:25,699 epoch 90 - iter 22/24 - loss 0.17639215 - time (sec): 23.49 - samples/sec: 3756.39 - lr: 0.000000\n",
            "2023-04-21 16:38:27,452 epoch 90 - iter 24/24 - loss 0.17539105 - time (sec): 25.24 - samples/sec: 3754.89 - lr: 0.000000\n",
            "2023-04-21 16:38:27,455 ----------------------------------------------------------------------------------------------------\n",
            "2023-04-21 16:38:27,457 EPOCH 90 done: loss 0.1754 - lr 0.000000\n"
          ]
        },
        {
          "output_type": "stream",
          "name": "stderr",
          "text": [
            "100%|██████████| 24/24 [00:10<00:00,  2.36it/s]"
          ]
        },
        {
          "output_type": "stream",
          "name": "stdout",
          "text": [
            "2023-04-21 16:38:37,783 Evaluating as a multi-label problem: True\n"
          ]
        },
        {
          "output_type": "stream",
          "name": "stderr",
          "text": [
            "\n"
          ]
        },
        {
          "output_type": "stream",
          "name": "stdout",
          "text": [
            "2023-04-21 16:38:41,796 TRAIN : loss 0.14527592062950134 - f1-score (weighted avg)  0.7877\n"
          ]
        },
        {
          "output_type": "stream",
          "name": "stderr",
          "text": [
            "100%|██████████| 3/3 [00:01<00:00,  2.15it/s]"
          ]
        },
        {
          "output_type": "stream",
          "name": "stdout",
          "text": [
            "2023-04-21 16:38:43,350 Evaluating as a multi-label problem: False\n",
            "2023-04-21 16:38:43,421 DEV : loss 0.32299312949180603 - f1-score (weighted avg)  0.6349\n",
            "2023-04-21 16:38:43,441 BAD EPOCHS (no improvement): 1\n",
            "2023-04-21 16:38:43,446 ----------------------------------------------------------------------------------------------------\n"
          ]
        },
        {
          "output_type": "stream",
          "name": "stderr",
          "text": [
            "\n"
          ]
        },
        {
          "output_type": "stream",
          "name": "stdout",
          "text": [
            "2023-04-21 16:38:45,586 epoch 91 - iter 2/24 - loss 0.14663616 - time (sec): 2.14 - samples/sec: 4215.59 - lr: 0.000000\n",
            "2023-04-21 16:38:47,640 epoch 91 - iter 4/24 - loss 0.14933998 - time (sec): 4.19 - samples/sec: 4082.97 - lr: 0.000000\n",
            "2023-04-21 16:38:49,699 epoch 91 - iter 6/24 - loss 0.15918952 - time (sec): 6.25 - samples/sec: 3976.26 - lr: 0.000000\n",
            "2023-04-21 16:38:51,783 epoch 91 - iter 8/24 - loss 0.15621287 - time (sec): 8.33 - samples/sec: 3999.91 - lr: 0.000000\n",
            "2023-04-21 16:38:53,984 epoch 91 - iter 10/24 - loss 0.16130551 - time (sec): 10.54 - samples/sec: 3964.47 - lr: 0.000000\n",
            "2023-04-21 16:38:56,341 epoch 91 - iter 12/24 - loss 0.18244649 - time (sec): 12.89 - samples/sec: 3802.79 - lr: 0.000000\n",
            "2023-04-21 16:38:58,476 epoch 91 - iter 14/24 - loss 0.17464635 - time (sec): 15.03 - samples/sec: 3802.46 - lr: 0.000000\n",
            "2023-04-21 16:39:00,611 epoch 91 - iter 16/24 - loss 0.17439454 - time (sec): 17.16 - samples/sec: 3825.74 - lr: 0.000000\n",
            "2023-04-21 16:39:02,718 epoch 91 - iter 18/24 - loss 0.17396991 - time (sec): 19.27 - samples/sec: 3805.19 - lr: 0.000000\n",
            "2023-04-21 16:39:04,766 epoch 91 - iter 20/24 - loss 0.17118452 - time (sec): 21.32 - samples/sec: 3784.73 - lr: 0.000000\n",
            "2023-04-21 16:39:06,998 epoch 91 - iter 22/24 - loss 0.17333091 - time (sec): 23.55 - samples/sec: 3777.37 - lr: 0.000000\n",
            "2023-04-21 16:39:08,773 epoch 91 - iter 24/24 - loss 0.17350607 - time (sec): 25.32 - samples/sec: 3742.19 - lr: 0.000000\n",
            "2023-04-21 16:39:08,775 ----------------------------------------------------------------------------------------------------\n",
            "2023-04-21 16:39:08,777 EPOCH 91 done: loss 0.1735 - lr 0.000000\n"
          ]
        },
        {
          "output_type": "stream",
          "name": "stderr",
          "text": [
            "100%|██████████| 24/24 [00:10<00:00,  2.37it/s]"
          ]
        },
        {
          "output_type": "stream",
          "name": "stdout",
          "text": [
            "2023-04-21 16:39:19,049 Evaluating as a multi-label problem: True\n"
          ]
        },
        {
          "output_type": "stream",
          "name": "stderr",
          "text": [
            "\n"
          ]
        },
        {
          "output_type": "stream",
          "name": "stdout",
          "text": [
            "2023-04-21 16:39:21,778 TRAIN : loss 0.14528216421604156 - f1-score (weighted avg)  0.7876\n"
          ]
        },
        {
          "output_type": "stream",
          "name": "stderr",
          "text": [
            "100%|██████████| 3/3 [00:01<00:00,  2.19it/s]\n"
          ]
        },
        {
          "output_type": "stream",
          "name": "stdout",
          "text": [
            "2023-04-21 16:39:24,357 Evaluating as a multi-label problem: False\n",
            "2023-04-21 16:39:24,427 DEV : loss 0.32294294238090515 - f1-score (weighted avg)  0.6349\n",
            "2023-04-21 16:39:24,448 BAD EPOCHS (no improvement): 0\n",
            "2023-04-21 16:39:24,452 ----------------------------------------------------------------------------------------------------\n",
            "2023-04-21 16:39:26,610 epoch 92 - iter 2/24 - loss 0.13842949 - time (sec): 2.16 - samples/sec: 3960.32 - lr: 0.000000\n",
            "2023-04-21 16:39:28,671 epoch 92 - iter 4/24 - loss 0.14660939 - time (sec): 4.22 - samples/sec: 3823.44 - lr: 0.000000\n",
            "2023-04-21 16:39:30,738 epoch 92 - iter 6/24 - loss 0.15096810 - time (sec): 6.28 - samples/sec: 3719.30 - lr: 0.000000\n",
            "2023-04-21 16:39:32,845 epoch 92 - iter 8/24 - loss 0.14986614 - time (sec): 8.39 - samples/sec: 3734.50 - lr: 0.000000\n",
            "2023-04-21 16:39:34,906 epoch 92 - iter 10/24 - loss 0.15352418 - time (sec): 10.45 - samples/sec: 3778.10 - lr: 0.000000\n",
            "2023-04-21 16:39:37,139 epoch 92 - iter 12/24 - loss 0.16626201 - time (sec): 12.68 - samples/sec: 3752.90 - lr: 0.000000\n",
            "2023-04-21 16:39:39,280 epoch 92 - iter 14/24 - loss 0.16523418 - time (sec): 14.83 - samples/sec: 3742.73 - lr: 0.000000\n",
            "2023-04-21 16:39:41,360 epoch 92 - iter 16/24 - loss 0.16278621 - time (sec): 16.91 - samples/sec: 3754.19 - lr: 0.000000\n",
            "2023-04-21 16:39:43,552 epoch 92 - iter 18/24 - loss 0.16409022 - time (sec): 19.10 - samples/sec: 3772.18 - lr: 0.000000\n",
            "2023-04-21 16:39:45,607 epoch 92 - iter 20/24 - loss 0.16396802 - time (sec): 21.15 - samples/sec: 3794.33 - lr: 0.000000\n",
            "2023-04-21 16:39:47,704 epoch 92 - iter 22/24 - loss 0.16571886 - time (sec): 23.25 - samples/sec: 3762.05 - lr: 0.000000\n",
            "2023-04-21 16:39:49,712 epoch 92 - iter 24/24 - loss 0.17436350 - time (sec): 25.26 - samples/sec: 3752.00 - lr: 0.000000\n",
            "2023-04-21 16:39:49,715 ----------------------------------------------------------------------------------------------------\n",
            "2023-04-21 16:39:49,716 EPOCH 92 done: loss 0.1744 - lr 0.000000\n"
          ]
        },
        {
          "output_type": "stream",
          "name": "stderr",
          "text": [
            "100%|██████████| 24/24 [00:10<00:00,  2.37it/s]"
          ]
        },
        {
          "output_type": "stream",
          "name": "stdout",
          "text": [
            "2023-04-21 16:39:59,989 Evaluating as a multi-label problem: True\n"
          ]
        },
        {
          "output_type": "stream",
          "name": "stderr",
          "text": [
            "\n"
          ]
        },
        {
          "output_type": "stream",
          "name": "stdout",
          "text": [
            "2023-04-21 16:40:03,920 TRAIN : loss 0.14507117867469788 - f1-score (weighted avg)  0.7879\n"
          ]
        },
        {
          "output_type": "stream",
          "name": "stderr",
          "text": [
            "100%|██████████| 3/3 [00:01<00:00,  2.14it/s]"
          ]
        },
        {
          "output_type": "stream",
          "name": "stdout",
          "text": [
            "2023-04-21 16:40:05,493 Evaluating as a multi-label problem: False\n",
            "2023-04-21 16:40:05,562 DEV : loss 0.3230760097503662 - f1-score (weighted avg)  0.6344\n",
            "2023-04-21 16:40:05,582 BAD EPOCHS (no improvement): 1\n",
            "2023-04-21 16:40:05,586 ----------------------------------------------------------------------------------------------------\n"
          ]
        },
        {
          "output_type": "stream",
          "name": "stderr",
          "text": [
            "\n"
          ]
        },
        {
          "output_type": "stream",
          "name": "stdout",
          "text": [
            "2023-04-21 16:40:07,625 epoch 93 - iter 2/24 - loss 0.16802385 - time (sec): 2.04 - samples/sec: 3451.19 - lr: 0.000000\n",
            "2023-04-21 16:40:09,666 epoch 93 - iter 4/24 - loss 0.17953186 - time (sec): 4.08 - samples/sec: 3558.36 - lr: 0.000000\n",
            "2023-04-21 16:40:11,759 epoch 93 - iter 6/24 - loss 0.16604176 - time (sec): 6.17 - samples/sec: 3523.59 - lr: 0.000000\n",
            "2023-04-21 16:40:13,844 epoch 93 - iter 8/24 - loss 0.16759114 - time (sec): 8.26 - samples/sec: 3626.28 - lr: 0.000000\n",
            "2023-04-21 16:40:15,999 epoch 93 - iter 10/24 - loss 0.16796438 - time (sec): 10.41 - samples/sec: 3638.17 - lr: 0.000000\n",
            "2023-04-21 16:40:18,352 epoch 93 - iter 12/24 - loss 0.19034485 - time (sec): 12.76 - samples/sec: 3620.86 - lr: 0.000000\n",
            "2023-04-21 16:40:20,465 epoch 93 - iter 14/24 - loss 0.18380920 - time (sec): 14.88 - samples/sec: 3662.94 - lr: 0.000000\n",
            "2023-04-21 16:40:22,717 epoch 93 - iter 16/24 - loss 0.18653916 - time (sec): 17.13 - samples/sec: 3667.47 - lr: 0.000000\n",
            "2023-04-21 16:40:24,810 epoch 93 - iter 18/24 - loss 0.18101791 - time (sec): 19.22 - samples/sec: 3694.50 - lr: 0.000000\n",
            "2023-04-21 16:40:26,907 epoch 93 - iter 20/24 - loss 0.17641893 - time (sec): 21.32 - samples/sec: 3743.24 - lr: 0.000000\n",
            "2023-04-21 16:40:29,031 epoch 93 - iter 22/24 - loss 0.17481322 - time (sec): 23.44 - samples/sec: 3738.27 - lr: 0.000000\n",
            "2023-04-21 16:40:30,796 epoch 93 - iter 24/24 - loss 0.17403791 - time (sec): 25.21 - samples/sec: 3759.44 - lr: 0.000000\n",
            "2023-04-21 16:40:30,799 ----------------------------------------------------------------------------------------------------\n",
            "2023-04-21 16:40:30,800 EPOCH 93 done: loss 0.1740 - lr 0.000000\n"
          ]
        },
        {
          "output_type": "stream",
          "name": "stderr",
          "text": [
            "100%|██████████| 24/24 [00:10<00:00,  2.37it/s]"
          ]
        },
        {
          "output_type": "stream",
          "name": "stdout",
          "text": [
            "2023-04-21 16:40:41,074 Evaluating as a multi-label problem: True\n"
          ]
        },
        {
          "output_type": "stream",
          "name": "stderr",
          "text": [
            "\n"
          ]
        },
        {
          "output_type": "stream",
          "name": "stdout",
          "text": [
            "2023-04-21 16:40:45,025 TRAIN : loss 0.1450217217206955 - f1-score (weighted avg)  0.7879\n"
          ]
        },
        {
          "output_type": "stream",
          "name": "stderr",
          "text": [
            "100%|██████████| 3/3 [00:01<00:00,  2.14it/s]"
          ]
        },
        {
          "output_type": "stream",
          "name": "stdout",
          "text": [
            "2023-04-21 16:40:46,583 Evaluating as a multi-label problem: False\n",
            "2023-04-21 16:40:46,655 DEV : loss 0.32312244176864624 - f1-score (weighted avg)  0.6346\n",
            "2023-04-21 16:40:46,678 BAD EPOCHS (no improvement): 0\n",
            "2023-04-21 16:40:46,683 ----------------------------------------------------------------------------------------------------\n"
          ]
        },
        {
          "output_type": "stream",
          "name": "stderr",
          "text": [
            "\n"
          ]
        },
        {
          "output_type": "stream",
          "name": "stdout",
          "text": [
            "2023-04-21 16:40:48,776 epoch 94 - iter 2/24 - loss 0.15390360 - time (sec): 2.09 - samples/sec: 3759.76 - lr: 0.000000\n",
            "2023-04-21 16:40:51,053 epoch 94 - iter 4/24 - loss 0.18545061 - time (sec): 4.37 - samples/sec: 3590.99 - lr: 0.000000\n",
            "2023-04-21 16:40:53,191 epoch 94 - iter 6/24 - loss 0.17723104 - time (sec): 6.51 - samples/sec: 3614.46 - lr: 0.000000\n",
            "2023-04-21 16:40:55,258 epoch 94 - iter 8/24 - loss 0.17347705 - time (sec): 8.57 - samples/sec: 3583.99 - lr: 0.000000\n",
            "2023-04-21 16:40:57,308 epoch 94 - iter 10/24 - loss 0.16715251 - time (sec): 10.62 - samples/sec: 3669.49 - lr: 0.000000\n",
            "2023-04-21 16:40:59,366 epoch 94 - iter 12/24 - loss 0.16870881 - time (sec): 12.68 - samples/sec: 3706.89 - lr: 0.000000\n",
            "2023-04-21 16:41:01,406 epoch 94 - iter 14/24 - loss 0.16313947 - time (sec): 14.72 - samples/sec: 3729.84 - lr: 0.000000\n",
            "2023-04-21 16:41:03,448 epoch 94 - iter 16/24 - loss 0.16317676 - time (sec): 16.76 - samples/sec: 3691.76 - lr: 0.000000\n",
            "2023-04-21 16:41:05,554 epoch 94 - iter 18/24 - loss 0.16639542 - time (sec): 18.87 - samples/sec: 3742.66 - lr: 0.000000\n",
            "2023-04-21 16:41:07,898 epoch 94 - iter 20/24 - loss 0.18017095 - time (sec): 21.21 - samples/sec: 3675.91 - lr: 0.000000\n",
            "2023-04-21 16:41:10,029 epoch 94 - iter 22/24 - loss 0.17631170 - time (sec): 23.34 - samples/sec: 3726.12 - lr: 0.000000\n",
            "2023-04-21 16:41:11,861 epoch 94 - iter 24/24 - loss 0.17519295 - time (sec): 25.18 - samples/sec: 3764.24 - lr: 0.000000\n",
            "2023-04-21 16:41:11,864 ----------------------------------------------------------------------------------------------------\n",
            "2023-04-21 16:41:11,865 EPOCH 94 done: loss 0.1752 - lr 0.000000\n"
          ]
        },
        {
          "output_type": "stream",
          "name": "stderr",
          "text": [
            "100%|██████████| 24/24 [00:10<00:00,  2.36it/s]"
          ]
        },
        {
          "output_type": "stream",
          "name": "stdout",
          "text": [
            "2023-04-21 16:41:22,173 Evaluating as a multi-label problem: True\n"
          ]
        },
        {
          "output_type": "stream",
          "name": "stderr",
          "text": [
            "\n"
          ]
        },
        {
          "output_type": "stream",
          "name": "stdout",
          "text": [
            "2023-04-21 16:41:26,159 TRAIN : loss 0.14509862661361694 - f1-score (weighted avg)  0.788\n"
          ]
        },
        {
          "output_type": "stream",
          "name": "stderr",
          "text": [
            "100%|██████████| 3/3 [00:01<00:00,  2.16it/s]"
          ]
        },
        {
          "output_type": "stream",
          "name": "stdout",
          "text": [
            "2023-04-21 16:41:27,710 Evaluating as a multi-label problem: False\n",
            "2023-04-21 16:41:27,777 DEV : loss 0.3230433762073517 - f1-score (weighted avg)  0.6344\n",
            "2023-04-21 16:41:27,799 BAD EPOCHS (no improvement): 1\n",
            "2023-04-21 16:41:27,804 ----------------------------------------------------------------------------------------------------\n"
          ]
        },
        {
          "output_type": "stream",
          "name": "stderr",
          "text": [
            "\n"
          ]
        },
        {
          "output_type": "stream",
          "name": "stdout",
          "text": [
            "2023-04-21 16:41:29,858 epoch 95 - iter 2/24 - loss 0.16461354 - time (sec): 2.05 - samples/sec: 3561.35 - lr: 0.000000\n",
            "2023-04-21 16:41:32,035 epoch 95 - iter 4/24 - loss 0.15634072 - time (sec): 4.23 - samples/sec: 3547.73 - lr: 0.000000\n",
            "2023-04-21 16:41:34,127 epoch 95 - iter 6/24 - loss 0.16408618 - time (sec): 6.32 - samples/sec: 3558.94 - lr: 0.000000\n",
            "2023-04-21 16:41:36,445 epoch 95 - iter 8/24 - loss 0.16902627 - time (sec): 8.64 - samples/sec: 3776.27 - lr: 0.000000\n",
            "2023-04-21 16:41:38,492 epoch 95 - iter 10/24 - loss 0.16609662 - time (sec): 10.69 - samples/sec: 3801.29 - lr: 0.000000\n",
            "2023-04-21 16:41:40,895 epoch 95 - iter 12/24 - loss 0.19206673 - time (sec): 13.09 - samples/sec: 3750.33 - lr: 0.000000\n",
            "2023-04-21 16:41:42,983 epoch 95 - iter 14/24 - loss 0.18550891 - time (sec): 15.18 - samples/sec: 3651.29 - lr: 0.000000\n",
            "2023-04-21 16:41:45,045 epoch 95 - iter 16/24 - loss 0.18311266 - time (sec): 17.24 - samples/sec: 3681.95 - lr: 0.000000\n",
            "2023-04-21 16:41:47,163 epoch 95 - iter 18/24 - loss 0.18066980 - time (sec): 19.36 - samples/sec: 3691.90 - lr: 0.000000\n",
            "2023-04-21 16:41:49,233 epoch 95 - iter 20/24 - loss 0.17852682 - time (sec): 21.43 - samples/sec: 3702.70 - lr: 0.000000\n",
            "2023-04-21 16:41:51,301 epoch 95 - iter 22/24 - loss 0.17484521 - time (sec): 23.50 - samples/sec: 3728.72 - lr: 0.000000\n",
            "2023-04-21 16:41:53,066 epoch 95 - iter 24/24 - loss 0.17472801 - time (sec): 25.26 - samples/sec: 3751.61 - lr: 0.000000\n",
            "2023-04-21 16:41:53,069 ----------------------------------------------------------------------------------------------------\n",
            "2023-04-21 16:41:53,071 EPOCH 95 done: loss 0.1747 - lr 0.000000\n"
          ]
        },
        {
          "output_type": "stream",
          "name": "stderr",
          "text": [
            "100%|██████████| 24/24 [00:10<00:00,  2.36it/s]"
          ]
        },
        {
          "output_type": "stream",
          "name": "stdout",
          "text": [
            "2023-04-21 16:42:03,365 Evaluating as a multi-label problem: True\n"
          ]
        },
        {
          "output_type": "stream",
          "name": "stderr",
          "text": [
            "\n"
          ]
        },
        {
          "output_type": "stream",
          "name": "stdout",
          "text": [
            "2023-04-21 16:42:06,100 TRAIN : loss 0.14522551000118256 - f1-score (weighted avg)  0.7879\n"
          ]
        },
        {
          "output_type": "stream",
          "name": "stderr",
          "text": [
            "100%|██████████| 3/3 [00:02<00:00,  1.26it/s]"
          ]
        },
        {
          "output_type": "stream",
          "name": "stdout",
          "text": [
            "2023-04-21 16:42:08,648 Evaluating as a multi-label problem: False\n",
            "2023-04-21 16:42:08,716 DEV : loss 0.32289984822273254 - f1-score (weighted avg)  0.6348\n",
            "2023-04-21 16:42:08,736 BAD EPOCHS (no improvement): 0\n",
            "2023-04-21 16:42:08,740 ----------------------------------------------------------------------------------------------------\n"
          ]
        },
        {
          "output_type": "stream",
          "name": "stderr",
          "text": [
            "\n"
          ]
        },
        {
          "output_type": "stream",
          "name": "stdout",
          "text": [
            "2023-04-21 16:42:10,818 epoch 96 - iter 2/24 - loss 0.17125221 - time (sec): 2.08 - samples/sec: 4130.35 - lr: 0.000000\n",
            "2023-04-21 16:42:12,947 epoch 96 - iter 4/24 - loss 0.16742086 - time (sec): 4.20 - samples/sec: 4057.23 - lr: 0.000000\n",
            "2023-04-21 16:42:15,339 epoch 96 - iter 6/24 - loss 0.22014981 - time (sec): 6.60 - samples/sec: 3845.64 - lr: 0.000000\n",
            "2023-04-21 16:42:17,354 epoch 96 - iter 8/24 - loss 0.21681495 - time (sec): 8.61 - samples/sec: 3692.62 - lr: 0.000000\n",
            "2023-04-21 16:42:19,471 epoch 96 - iter 10/24 - loss 0.20346247 - time (sec): 10.73 - samples/sec: 3744.06 - lr: 0.000000\n",
            "2023-04-21 16:42:21,525 epoch 96 - iter 12/24 - loss 0.19289909 - time (sec): 12.78 - samples/sec: 3868.87 - lr: 0.000000\n",
            "2023-04-21 16:42:23,691 epoch 96 - iter 14/24 - loss 0.19086797 - time (sec): 14.95 - samples/sec: 3819.74 - lr: 0.000000\n",
            "2023-04-21 16:42:25,880 epoch 96 - iter 16/24 - loss 0.18592283 - time (sec): 17.14 - samples/sec: 3826.34 - lr: 0.000000\n",
            "2023-04-21 16:42:28,029 epoch 96 - iter 18/24 - loss 0.17961437 - time (sec): 19.29 - samples/sec: 3818.52 - lr: 0.000000\n",
            "2023-04-21 16:42:30,108 epoch 96 - iter 20/24 - loss 0.17596561 - time (sec): 21.37 - samples/sec: 3806.88 - lr: 0.000000\n",
            "2023-04-21 16:42:32,176 epoch 96 - iter 22/24 - loss 0.17489220 - time (sec): 23.43 - samples/sec: 3807.85 - lr: 0.000000\n",
            "2023-04-21 16:42:33,910 epoch 96 - iter 24/24 - loss 0.17411372 - time (sec): 25.17 - samples/sec: 3765.51 - lr: 0.000000\n",
            "2023-04-21 16:42:33,913 ----------------------------------------------------------------------------------------------------\n",
            "2023-04-21 16:42:33,914 EPOCH 96 done: loss 0.1741 - lr 0.000000\n"
          ]
        },
        {
          "output_type": "stream",
          "name": "stderr",
          "text": [
            "100%|██████████| 24/24 [00:10<00:00,  2.37it/s]"
          ]
        },
        {
          "output_type": "stream",
          "name": "stdout",
          "text": [
            "2023-04-21 16:42:44,193 Evaluating as a multi-label problem: True\n"
          ]
        },
        {
          "output_type": "stream",
          "name": "stderr",
          "text": [
            "\n"
          ]
        },
        {
          "output_type": "stream",
          "name": "stdout",
          "text": [
            "2023-04-21 16:42:48,102 TRAIN : loss 0.14527417719364166 - f1-score (weighted avg)  0.788\n"
          ]
        },
        {
          "output_type": "stream",
          "name": "stderr",
          "text": [
            "100%|██████████| 3/3 [00:01<00:00,  2.14it/s]"
          ]
        },
        {
          "output_type": "stream",
          "name": "stdout",
          "text": [
            "2023-04-21 16:42:49,665 Evaluating as a multi-label problem: False\n",
            "2023-04-21 16:42:49,733 DEV : loss 0.3228677809238434 - f1-score (weighted avg)  0.6349\n",
            "2023-04-21 16:42:49,752 BAD EPOCHS (no improvement): 1\n",
            "2023-04-21 16:42:49,756 ----------------------------------------------------------------------------------------------------\n"
          ]
        },
        {
          "output_type": "stream",
          "name": "stderr",
          "text": [
            "\n"
          ]
        },
        {
          "output_type": "stream",
          "name": "stdout",
          "text": [
            "2023-04-21 16:42:51,864 epoch 97 - iter 2/24 - loss 0.16282955 - time (sec): 2.11 - samples/sec: 3550.91 - lr: 0.000000\n",
            "2023-04-21 16:42:54,034 epoch 97 - iter 4/24 - loss 0.16267869 - time (sec): 4.28 - samples/sec: 3833.47 - lr: 0.000000\n",
            "2023-04-21 16:42:56,272 epoch 97 - iter 6/24 - loss 0.17900347 - time (sec): 6.51 - samples/sec: 3758.87 - lr: 0.000000\n",
            "2023-04-21 16:42:58,652 epoch 97 - iter 8/24 - loss 0.20546465 - time (sec): 8.90 - samples/sec: 3745.68 - lr: 0.000000\n",
            "2023-04-21 16:43:00,705 epoch 97 - iter 10/24 - loss 0.19258724 - time (sec): 10.95 - samples/sec: 3761.25 - lr: 0.000000\n",
            "2023-04-21 16:43:02,831 epoch 97 - iter 12/24 - loss 0.18118884 - time (sec): 13.07 - samples/sec: 3744.07 - lr: 0.000000\n",
            "2023-04-21 16:43:04,878 epoch 97 - iter 14/24 - loss 0.18046338 - time (sec): 15.12 - samples/sec: 3698.67 - lr: 0.000000\n",
            "2023-04-21 16:43:06,957 epoch 97 - iter 16/24 - loss 0.17651447 - time (sec): 17.20 - samples/sec: 3703.32 - lr: 0.000000\n",
            "2023-04-21 16:43:09,067 epoch 97 - iter 18/24 - loss 0.17434272 - time (sec): 19.31 - samples/sec: 3679.32 - lr: 0.000000\n",
            "2023-04-21 16:43:11,139 epoch 97 - iter 20/24 - loss 0.17204666 - time (sec): 21.38 - samples/sec: 3721.10 - lr: 0.000000\n",
            "2023-04-21 16:43:13,343 epoch 97 - iter 22/24 - loss 0.17347028 - time (sec): 23.59 - samples/sec: 3720.77 - lr: 0.000000\n",
            "2023-04-21 16:43:15,097 epoch 97 - iter 24/24 - loss 0.17360169 - time (sec): 25.34 - samples/sec: 3739.92 - lr: 0.000000\n",
            "2023-04-21 16:43:15,100 ----------------------------------------------------------------------------------------------------\n",
            "2023-04-21 16:43:15,102 EPOCH 97 done: loss 0.1736 - lr 0.000000\n"
          ]
        },
        {
          "output_type": "stream",
          "name": "stderr",
          "text": [
            "100%|██████████| 24/24 [00:10<00:00,  2.36it/s]"
          ]
        },
        {
          "output_type": "stream",
          "name": "stdout",
          "text": [
            "2023-04-21 16:43:25,400 Evaluating as a multi-label problem: True\n"
          ]
        },
        {
          "output_type": "stream",
          "name": "stderr",
          "text": [
            "\n"
          ]
        },
        {
          "output_type": "stream",
          "name": "stdout",
          "text": [
            "2023-04-21 16:43:29,356 TRAIN : loss 0.1452852040529251 - f1-score (weighted avg)  0.788\n"
          ]
        },
        {
          "output_type": "stream",
          "name": "stderr",
          "text": [
            "100%|██████████| 3/3 [00:01<00:00,  2.17it/s]"
          ]
        },
        {
          "output_type": "stream",
          "name": "stdout",
          "text": [
            "2023-04-21 16:43:30,899 Evaluating as a multi-label problem: False\n",
            "2023-04-21 16:43:30,967 DEV : loss 0.32285037636756897 - f1-score (weighted avg)  0.6347\n",
            "2023-04-21 16:43:30,986 BAD EPOCHS (no improvement): 0\n",
            "2023-04-21 16:43:30,990 ----------------------------------------------------------------------------------------------------\n"
          ]
        },
        {
          "output_type": "stream",
          "name": "stderr",
          "text": [
            "\n"
          ]
        },
        {
          "output_type": "stream",
          "name": "stdout",
          "text": [
            "2023-04-21 16:43:33,052 epoch 98 - iter 2/24 - loss 0.16192129 - time (sec): 2.06 - samples/sec: 4014.76 - lr: 0.000000\n",
            "2023-04-21 16:43:35,067 epoch 98 - iter 4/24 - loss 0.16061417 - time (sec): 4.07 - samples/sec: 3669.36 - lr: 0.000000\n",
            "2023-04-21 16:43:37,319 epoch 98 - iter 6/24 - loss 0.17228371 - time (sec): 6.33 - samples/sec: 3812.05 - lr: 0.000000\n",
            "2023-04-21 16:43:39,436 epoch 98 - iter 8/24 - loss 0.16848778 - time (sec): 8.44 - samples/sec: 3929.86 - lr: 0.000000\n",
            "2023-04-21 16:43:41,541 epoch 98 - iter 10/24 - loss 0.16387764 - time (sec): 10.55 - samples/sec: 3848.85 - lr: 0.000000\n",
            "2023-04-21 16:43:43,583 epoch 98 - iter 12/24 - loss 0.16002442 - time (sec): 12.59 - samples/sec: 3761.23 - lr: 0.000000\n",
            "2023-04-21 16:43:45,987 epoch 98 - iter 14/24 - loss 0.17936755 - time (sec): 15.00 - samples/sec: 3774.48 - lr: 0.000000\n",
            "2023-04-21 16:43:48,107 epoch 98 - iter 16/24 - loss 0.17798325 - time (sec): 17.11 - samples/sec: 3789.24 - lr: 0.000000\n",
            "2023-04-21 16:43:50,198 epoch 98 - iter 18/24 - loss 0.17920562 - time (sec): 19.21 - samples/sec: 3768.71 - lr: 0.000000\n",
            "2023-04-21 16:43:52,258 epoch 98 - iter 20/24 - loss 0.17802595 - time (sec): 21.27 - samples/sec: 3784.48 - lr: 0.000000\n",
            "2023-04-21 16:43:54,365 epoch 98 - iter 22/24 - loss 0.17586156 - time (sec): 23.37 - samples/sec: 3770.17 - lr: 0.000000\n",
            "2023-04-21 16:43:56,201 epoch 98 - iter 24/24 - loss 0.17395466 - time (sec): 25.21 - samples/sec: 3759.39 - lr: 0.000000\n",
            "2023-04-21 16:43:56,204 ----------------------------------------------------------------------------------------------------\n",
            "2023-04-21 16:43:56,205 EPOCH 98 done: loss 0.1740 - lr 0.000000\n"
          ]
        },
        {
          "output_type": "stream",
          "name": "stderr",
          "text": [
            "100%|██████████| 24/24 [00:10<00:00,  2.37it/s]"
          ]
        },
        {
          "output_type": "stream",
          "name": "stdout",
          "text": [
            "2023-04-21 16:44:06,459 Evaluating as a multi-label problem: True\n"
          ]
        },
        {
          "output_type": "stream",
          "name": "stderr",
          "text": [
            "\n"
          ]
        },
        {
          "output_type": "stream",
          "name": "stdout",
          "text": [
            "2023-04-21 16:44:10,398 TRAIN : loss 0.14513184130191803 - f1-score (weighted avg)  0.7881\n"
          ]
        },
        {
          "output_type": "stream",
          "name": "stderr",
          "text": [
            "100%|██████████| 3/3 [00:01<00:00,  2.17it/s]"
          ]
        },
        {
          "output_type": "stream",
          "name": "stdout",
          "text": [
            "2023-04-21 16:44:11,943 Evaluating as a multi-label problem: False\n",
            "2023-04-21 16:44:12,010 DEV : loss 0.3229234218597412 - f1-score (weighted avg)  0.635\n",
            "2023-04-21 16:44:12,029 BAD EPOCHS (no improvement): 1\n",
            "2023-04-21 16:44:12,033 ----------------------------------------------------------------------------------------------------\n"
          ]
        },
        {
          "output_type": "stream",
          "name": "stderr",
          "text": [
            "\n"
          ]
        },
        {
          "output_type": "stream",
          "name": "stdout",
          "text": [
            "2023-04-21 16:44:14,094 epoch 99 - iter 2/24 - loss 0.13370540 - time (sec): 2.06 - samples/sec: 3720.20 - lr: 0.000000\n",
            "2023-04-21 16:44:16,222 epoch 99 - iter 4/24 - loss 0.15872817 - time (sec): 4.19 - samples/sec: 3788.94 - lr: 0.000000\n",
            "2023-04-21 16:44:18,282 epoch 99 - iter 6/24 - loss 0.15536871 - time (sec): 6.25 - samples/sec: 3743.89 - lr: 0.000000\n",
            "2023-04-21 16:44:20,386 epoch 99 - iter 8/24 - loss 0.15839069 - time (sec): 8.35 - samples/sec: 3812.47 - lr: 0.000000\n",
            "2023-04-21 16:44:22,624 epoch 99 - iter 10/24 - loss 0.16867222 - time (sec): 10.59 - samples/sec: 3823.38 - lr: 0.000000\n",
            "2023-04-21 16:44:24,669 epoch 99 - iter 12/24 - loss 0.16350959 - time (sec): 12.63 - samples/sec: 3806.81 - lr: 0.000000\n",
            "2023-04-21 16:44:26,687 epoch 99 - iter 14/24 - loss 0.16451013 - time (sec): 14.65 - samples/sec: 3742.18 - lr: 0.000000\n",
            "2023-04-21 16:44:28,737 epoch 99 - iter 16/24 - loss 0.16396214 - time (sec): 16.70 - samples/sec: 3718.24 - lr: 0.000000\n",
            "2023-04-21 16:44:30,911 epoch 99 - iter 18/24 - loss 0.16683367 - time (sec): 18.88 - samples/sec: 3738.08 - lr: 0.000000\n",
            "2023-04-21 16:44:33,069 epoch 99 - iter 20/24 - loss 0.16355598 - time (sec): 21.03 - samples/sec: 3745.32 - lr: 0.000000\n",
            "2023-04-21 16:44:35,430 epoch 99 - iter 22/24 - loss 0.17610981 - time (sec): 23.40 - samples/sec: 3748.47 - lr: 0.000000\n",
            "2023-04-21 16:44:37,237 epoch 99 - iter 24/24 - loss 0.17515181 - time (sec): 25.20 - samples/sec: 3760.45 - lr: 0.000000\n",
            "2023-04-21 16:44:37,239 ----------------------------------------------------------------------------------------------------\n",
            "2023-04-21 16:44:37,241 EPOCH 99 done: loss 0.1752 - lr 0.000000\n"
          ]
        },
        {
          "output_type": "stream",
          "name": "stderr",
          "text": [
            "100%|██████████| 24/24 [00:10<00:00,  2.37it/s]"
          ]
        },
        {
          "output_type": "stream",
          "name": "stdout",
          "text": [
            "2023-04-21 16:44:47,504 Evaluating as a multi-label problem: True\n"
          ]
        },
        {
          "output_type": "stream",
          "name": "stderr",
          "text": [
            "\n"
          ]
        },
        {
          "output_type": "stream",
          "name": "stdout",
          "text": [
            "2023-04-21 16:44:51,448 TRAIN : loss 0.1449238806962967 - f1-score (weighted avg)  0.7883\n"
          ]
        },
        {
          "output_type": "stream",
          "name": "stderr",
          "text": [
            "100%|██████████| 3/3 [00:01<00:00,  2.16it/s]"
          ]
        },
        {
          "output_type": "stream",
          "name": "stdout",
          "text": [
            "2023-04-21 16:44:52,994 Evaluating as a multi-label problem: False\n",
            "2023-04-21 16:44:53,063 DEV : loss 0.3231108784675598 - f1-score (weighted avg)  0.6347\n",
            "2023-04-21 16:44:53,083 BAD EPOCHS (no improvement): 0\n",
            "2023-04-21 16:44:53,087 ----------------------------------------------------------------------------------------------------\n"
          ]
        },
        {
          "output_type": "stream",
          "name": "stderr",
          "text": [
            "\n"
          ]
        },
        {
          "output_type": "stream",
          "name": "stdout",
          "text": [
            "2023-04-21 16:44:55,197 epoch 100 - iter 2/24 - loss 0.14844262 - time (sec): 2.11 - samples/sec: 4057.28 - lr: 0.000000\n",
            "2023-04-21 16:44:57,279 epoch 100 - iter 4/24 - loss 0.14647375 - time (sec): 4.19 - samples/sec: 4047.27 - lr: 0.000000\n",
            "2023-04-21 16:44:59,561 epoch 100 - iter 6/24 - loss 0.17309890 - time (sec): 6.47 - samples/sec: 3841.15 - lr: 0.000000\n",
            "2023-04-21 16:45:01,645 epoch 100 - iter 8/24 - loss 0.16780334 - time (sec): 8.56 - samples/sec: 3791.07 - lr: 0.000000\n",
            "2023-04-21 16:45:03,991 epoch 100 - iter 10/24 - loss 0.19342199 - time (sec): 10.90 - samples/sec: 3723.77 - lr: 0.000000\n",
            "2023-04-21 16:45:06,170 epoch 100 - iter 12/24 - loss 0.18323964 - time (sec): 13.08 - samples/sec: 3811.06 - lr: 0.000000\n",
            "2023-04-21 16:45:08,324 epoch 100 - iter 14/24 - loss 0.18573428 - time (sec): 15.24 - samples/sec: 3757.78 - lr: 0.000000\n",
            "2023-04-21 16:45:10,427 epoch 100 - iter 16/24 - loss 0.18109479 - time (sec): 17.34 - samples/sec: 3754.42 - lr: 0.000000\n",
            "2023-04-21 16:45:12,470 epoch 100 - iter 18/24 - loss 0.17776354 - time (sec): 19.38 - samples/sec: 3766.53 - lr: 0.000000\n",
            "2023-04-21 16:45:14,526 epoch 100 - iter 20/24 - loss 0.17689665 - time (sec): 21.44 - samples/sec: 3732.38 - lr: 0.000000\n",
            "2023-04-21 16:45:16,583 epoch 100 - iter 22/24 - loss 0.17631133 - time (sec): 23.49 - samples/sec: 3716.84 - lr: 0.000000\n",
            "2023-04-21 16:45:18,359 epoch 100 - iter 24/24 - loss 0.17578324 - time (sec): 25.27 - samples/sec: 3750.23 - lr: 0.000000\n",
            "2023-04-21 16:45:18,362 ----------------------------------------------------------------------------------------------------\n",
            "2023-04-21 16:45:18,364 EPOCH 100 done: loss 0.1758 - lr 0.000000\n"
          ]
        },
        {
          "output_type": "stream",
          "name": "stderr",
          "text": [
            "100%|██████████| 24/24 [00:10<00:00,  2.37it/s]"
          ]
        },
        {
          "output_type": "stream",
          "name": "stdout",
          "text": [
            "2023-04-21 16:45:28,645 Evaluating as a multi-label problem: True\n"
          ]
        },
        {
          "output_type": "stream",
          "name": "stderr",
          "text": [
            "\n"
          ]
        },
        {
          "output_type": "stream",
          "name": "stdout",
          "text": [
            "2023-04-21 16:45:31,394 TRAIN : loss 0.1450694054365158 - f1-score (weighted avg)  0.7884\n"
          ]
        },
        {
          "output_type": "stream",
          "name": "stderr",
          "text": [
            "100%|██████████| 3/3 [00:02<00:00,  1.25it/s]"
          ]
        },
        {
          "output_type": "stream",
          "name": "stdout",
          "text": [
            "2023-04-21 16:45:33,947 Evaluating as a multi-label problem: False\n",
            "2023-04-21 16:45:34,015 DEV : loss 0.3230563700199127 - f1-score (weighted avg)  0.6349\n",
            "2023-04-21 16:45:34,036 BAD EPOCHS (no improvement): 1\n"
          ]
        },
        {
          "output_type": "stream",
          "name": "stderr",
          "text": [
            "\n"
          ]
        },
        {
          "output_type": "stream",
          "name": "stdout",
          "text": [
            "2023-04-21 16:45:38,823 ----------------------------------------------------------------------------------------------------\n",
            "2023-04-21 16:45:42,958 SequenceTagger predicts: Dictionary with 22 tags: <unk>, O, I-ADR, E-ADR, B-ADR, S-ADR, S-Drug, B-Finding, E-Finding, I-Finding, B-Disease, E-Disease, E-Symptom, S-Disease, S-Symptom, E-Drug, B-Symptom, B-Drug, S-Finding, I-Symptom, I-Drug, I-Disease\n"
          ]
        },
        {
          "output_type": "stream",
          "name": "stderr",
          "text": [
            "100%|██████████| 3/3 [00:01<00:00,  2.21it/s]"
          ]
        },
        {
          "output_type": "stream",
          "name": "stdout",
          "text": [
            "2023-04-21 16:45:44,490 Evaluating as a multi-label problem: True\n"
          ]
        },
        {
          "output_type": "stream",
          "name": "stderr",
          "text": [
            "\n"
          ]
        },
        {
          "output_type": "stream",
          "name": "stdout",
          "text": [
            "2023-04-21 16:45:44,821 0.7102\t0.6802\t0.6949\t0.925\n",
            "2023-04-21 16:45:44,823 \n",
            "Results:\n",
            "- F-score (micro) 0.6949\n",
            "- F-score (macro) 0.19\n",
            "- Accuracy 0.925\n",
            "\n",
            "By class:\n",
            "              precision    recall  f1-score   support\n",
            "\n",
            "       I-ADR     0.6455    0.6381    0.6418       525\n",
            "       E-ADR     0.7260    0.8213    0.7707       442\n",
            "       B-ADR     0.7370    0.8110    0.7722       418\n",
            "      S-Drug     0.7673    0.9792    0.8604       192\n",
            "       S-ADR     0.7072    0.8101    0.7552       158\n",
            "   S-Finding     0.0000    0.0000    0.0000        28\n",
            "   E-Finding     0.0000    0.0000    0.0000        27\n",
            "      B-Drug     0.0000    0.0000    0.0000        27\n",
            "      E-Drug     0.0000    0.0000    0.0000        27\n",
            "      I-Drug     0.0000    0.0000    0.0000        25\n",
            "   B-Finding     0.0000    0.0000    0.0000        24\n",
            "   I-Symptom     0.0000    0.0000    0.0000        20\n",
            "   B-Symptom     0.0000    0.0000    0.0000        13\n",
            "   E-Symptom     0.0000    0.0000    0.0000        13\n",
            "   S-Disease     0.0000    0.0000    0.0000        12\n",
            "   E-Disease     0.0000    0.0000    0.0000         9\n",
            "   I-Finding     0.0000    0.0000    0.0000         9\n",
            "   S-Symptom     0.0000    0.0000    0.0000         9\n",
            "   B-Disease     0.0000    0.0000    0.0000         8\n",
            "   I-Disease     0.0000    0.0000    0.0000         3\n",
            "\n",
            "   micro avg     0.7102    0.6802    0.6949      1989\n",
            "   macro avg     0.1791    0.2030    0.1900      1989\n",
            "weighted avg     0.6168    0.6802    0.6460      1989\n",
            " samples avg     0.1143    0.1142    0.1143      1989\n",
            "\n",
            "2023-04-21 16:45:44,824 ----------------------------------------------------------------------------------------------------\n"
          ]
        }
      ],
      "source": [
        "hist = trainer.train('flair_ner_model'+suf,\n",
        "              embeddings_storage_mode='gpu',\n",
        "              gold_label_dictionary_for_eval=tag_dictionary,\n",
        "              mini_batch_size = 40,\n",
        "              eval_batch_size = 40,\n",
        "              patience=1,\n",
        "              anneal_factor = 0.8,\n",
        "              anneal_against_dev_loss=True,\n",
        "              main_evaluation_metric = (\"weighted avg\", \"f1-score\"),\n",
        "              metrics_for_tensorboard=[(\"weighted avg\", 'precision'), (\"weighted avg\", 'recall'), (\"macro avg\", 'f1-score'), (\"macro avg\", 'precision'), (\"macro avg\", 'recall')],\n",
        "              use_tensorboard=True,\n",
        "              tensorboard_comment='Flair NER',\n",
        "              tensorboard_log_dir='runs/tb_logs'+suf,\n",
        "              min_learning_rate=3e-8,\n",
        "              optimizer=AdamW,\n",
        "              learning_rate=5.0e-6,\n",
        "              weight_decay=0.001,\n",
        "              max_epochs=100,\n",
        "              monitor_train=True,\n",
        "              save_optimizer_state=True,)\n",
        "# hist"
      ]
    },
    {
      "cell_type": "code",
      "execution_count": 16,
      "metadata": {
        "id": "ExiLRreqXsDJ"
      },
      "outputs": [],
      "source": [
        "# print(hist.keys())\n",
        "# hist"
      ]
    },
    {
      "cell_type": "code",
      "execution_count": 23,
      "metadata": {
        "id": "P5Uu5qkN0pia",
        "colab": {
          "base_uri": "https://localhost:8080/",
          "height": 1000
        },
        "outputId": "113125e4-a0a7-4a1d-9d9c-f487395d4240"
      },
      "outputs": [
        {
          "output_type": "stream",
          "name": "stdout",
          "text": [
            "_v2_Bio_ClinicalBERT\n",
            "2023-04-21 16:46:45,423 ----------------------------------------------------------------------------------------------------\n",
            "2023-04-21 16:46:45,424 WARNING: No LOSS found for test split in this data.\n",
            "2023-04-21 16:46:45,425 Are you sure you want to plot LOSS and not another value?\n",
            "2023-04-21 16:46:45,426 ----------------------------------------------------------------------------------------------------\n",
            "2023-04-21 16:46:45,450 ----------------------------------------------------------------------------------------------------\n",
            "2023-04-21 16:46:45,451 WARNING: No F1 found for test split in this data.\n",
            "2023-04-21 16:46:45,452 Are you sure you want to plot F1 and not another value?\n",
            "2023-04-21 16:46:45,453 ----------------------------------------------------------------------------------------------------\n",
            "2023-04-21 16:46:46,507 Loss and F1 plots are saved in flair_ner_model_v2_Bio_ClinicalBERT/training.png\n"
          ]
        },
        {
          "output_type": "display_data",
          "data": {
            "text/plain": [
              "<Figure size 1500x1000 with 2 Axes>"
            ],
            "image/png": "[encoded data removed]"
          },
          "metadata": {}
        },
        {
          "output_type": "stream",
          "name": "stderr",
          "text": [
            "100%|██████████| 24/24 [00:10<00:00,  2.32it/s]\n"
          ]
        },
        {
          "output_type": "stream",
          "name": "stdout",
          "text": [
            "2023-04-21 16:46:58,351 Evaluating as a multi-label problem: True\n"
          ]
        },
        {
          "output_type": "stream",
          "name": "stderr",
          "text": [
            "100%|██████████| 3/3 [00:01<00:00,  2.21it/s]"
          ]
        },
        {
          "output_type": "stream",
          "name": "stdout",
          "text": [
            "2023-04-21 16:47:02,482 Evaluating as a multi-label problem: False\n"
          ]
        },
        {
          "output_type": "stream",
          "name": "stderr",
          "text": [
            "\n",
            "100%|██████████| 3/3 [00:01<00:00,  2.31it/s]"
          ]
        },
        {
          "output_type": "stream",
          "name": "stdout",
          "text": [
            "2023-04-21 16:47:03,876 Evaluating as a multi-label problem: True\n"
          ]
        },
        {
          "output_type": "stream",
          "name": "stderr",
          "text": [
            "\n"
          ]
        },
        {
          "output_type": "execute_result",
          "data": {
            "text/plain": [
              "    split      index        I-ADR        E-ADR        B-ADR        S-ADR  \\\n",
              "0   train  precision     0.784784     0.785132     0.792851     0.556608   \n",
              "1   train     recall     0.839290     0.906731     0.874291     0.862069   \n",
              "2   train   f1-score     0.811122     0.841562     0.831582     0.676454   \n",
              "3   train    support  4449.000000  3506.000000  3349.000000  1363.000000   \n",
              "4     dev  precision     0.580762     0.692898     0.718941     0.497093   \n",
              "5     dev     recall     0.618956     0.804009     0.798643     0.818182   \n",
              "6     dev   f1-score     0.599251     0.744330     0.756699     0.618445   \n",
              "7     dev    support   517.000000   449.000000   442.000000   209.000000   \n",
              "8    test  precision     0.645472     0.726000     0.736957     0.707182   \n",
              "9    test     recall     0.638095     0.821267     0.811005     0.810127   \n",
              "10   test   f1-score     0.641762     0.770701     0.772210     0.755162   \n",
              "11   test    support   525.000000   442.000000   418.000000   158.000000   \n",
              "\n",
              "         S-Drug   B-Finding  E-Finding  I-Finding  ...  B-Symptom  B-Drug  \\\n",
              "0      0.821452    0.111111        0.0        0.0  ...        0.0     0.0   \n",
              "1      0.976672    0.005000        0.0        0.0  ...        0.0     0.0   \n",
              "2      0.892362    0.009569        0.0        0.0  ...        0.0     0.0   \n",
              "3   1286.000000  200.000000      200.0      149.0  ...      110.0   110.0   \n",
              "4      0.778325    0.000000        0.0        0.0  ...        0.0     0.0   \n",
              "5      0.963415    0.000000        0.0        0.0  ...        0.0     0.0   \n",
              "6      0.861035    0.000000        0.0        0.0  ...        0.0     0.0   \n",
              "7    164.000000   39.000000       34.0       20.0  ...       12.0    20.0   \n",
              "8      0.767347    0.000000        0.0        0.0  ...        0.0     0.0   \n",
              "9      0.979167    0.000000        0.0        0.0  ...        0.0     0.0   \n",
              "10     0.860412    0.000000        0.0        0.0  ...        0.0     0.0   \n",
              "11   192.000000   24.000000       27.0        9.0  ...       13.0    27.0   \n",
              "\n",
              "    S-Finding  I-Symptom  I-Drug  I-Disease     micro avg     macro avg  \\\n",
              "0         0.0        0.0     0.0        0.0      0.759985      0.192597   \n",
              "1         0.0        0.0     0.0        0.0      0.780626      0.223203   \n",
              "2         0.0        0.0     0.0        0.0      0.770167      0.203133   \n",
              "3       109.0      104.0    50.0       50.0  15722.000000  15722.000000   \n",
              "4         0.0        0.0     0.0        0.0      0.645972      0.163401   \n",
              "5         0.0        0.0     0.0        0.0      0.659729      0.200160   \n",
              "6         0.0        0.0     0.0        0.0      0.652778      0.178988   \n",
              "7        25.0       23.0     7.0       13.0   2066.000000   2066.000000   \n",
              "8         0.0        0.0     0.0        0.0      0.710236      0.179148   \n",
              "9         0.0        0.0     0.0        0.0      0.680241      0.202983   \n",
              "10        0.0        0.0     0.0        0.0      0.694915      0.190012   \n",
              "11       28.0       20.0    25.0        3.0   1989.000000   1989.000000   \n",
              "\n",
              "    weighted avg   samples avg  \n",
              "0       0.682909      0.129503  \n",
              "1       0.780626      0.129466  \n",
              "2       0.726095      0.129478  \n",
              "3   15722.000000  15722.000000  \n",
              "4       0.561798           NaN  \n",
              "5       0.659729           NaN  \n",
              "6       0.604522           NaN  \n",
              "7    2066.000000           NaN  \n",
              "8       0.616832      0.114332  \n",
              "9       0.680241      0.114247  \n",
              "10      0.645990      0.114275  \n",
              "11   1989.000000   1989.000000  \n",
              "\n",
              "[12 rows x 26 columns]"
            ],
            "text/html": [
              "\n",
              "  <div id=\"df-febd9580-2000-4578-b4ec-db7cf311990a\">\n",
              "    <div class=\"colab-df-container\">\n",
              "      <div>\n",
              "<style scoped>\n",
              "    .dataframe tbody tr th:only-of-type {\n",
              "        vertical-align: middle;\n",
              "    }\n",
              "\n",
              "    .dataframe tbody tr th {\n",
              "        vertical-align: top;\n",
              "    }\n",
              "\n",
              "    .dataframe thead th {\n",
              "        text-align: right;\n",
              "    }\n",
              "</style>\n",
              "<table border=\"1\" class=\"dataframe\">\n",
              "  <thead>\n",
              "    <tr style=\"text-align: right;\">\n",
              "      <th></th>\n",
              "      <th>split</th>\n",
              "      <th>index</th>\n",
              "      <th>I-ADR</th>\n",
              "      <th>E-ADR</th>\n",
              "      <th>B-ADR</th>\n",
              "      <th>S-ADR</th>\n",
              "      <th>S-Drug</th>\n",
              "      <th>B-Finding</th>\n",
              "      <th>E-Finding</th>\n",
              "      <th>I-Finding</th>\n",
              "      <th>...</th>\n",
              "      <th>B-Symptom</th>\n",
              "      <th>B-Drug</th>\n",
              "      <th>S-Finding</th>\n",
              "      <th>I-Symptom</th>\n",
              "      <th>I-Drug</th>\n",
              "      <th>I-Disease</th>\n",
              "      <th>micro avg</th>\n",
              "      <th>macro avg</th>\n",
              "      <th>weighted avg</th>\n",
              "      <th>samples avg</th>\n",
              "    </tr>\n",
              "  </thead>\n",
              "  <tbody>\n",
              "    <tr>\n",
              "      <th>0</th>\n",
              "      <td>train</td>\n",
              "      <td>precision</td>\n",
              "      <td>0.784784</td>\n",
              "      <td>0.785132</td>\n",
              "      <td>0.792851</td>\n",
              "      <td>0.556608</td>\n",
              "      <td>0.821452</td>\n",
              "      <td>0.111111</td>\n",
              "      <td>0.0</td>\n",
              "      <td>0.0</td>\n",
              "      <td>...</td>\n",
              "      <td>0.0</td>\n",
              "      <td>0.0</td>\n",
              "      <td>0.0</td>\n",
              "      <td>0.0</td>\n",
              "      <td>0.0</td>\n",
              "      <td>0.0</td>\n",
              "      <td>0.759985</td>\n",
              "      <td>0.192597</td>\n",
              "      <td>0.682909</td>\n",
              "      <td>0.129503</td>\n",
              "    </tr>\n",
              "    <tr>\n",
              "      <th>1</th>\n",
              "      <td>train</td>\n",
              "      <td>recall</td>\n",
              "      <td>0.839290</td>\n",
              "      <td>0.906731</td>\n",
              "      <td>0.874291</td>\n",
              "      <td>0.862069</td>\n",
              "      <td>0.976672</td>\n",
              "      <td>0.005000</td>\n",
              "      <td>0.0</td>\n",
              "      <td>0.0</td>\n",
              "      <td>...</td>\n",
              "      <td>0.0</td>\n",
              "      <td>0.0</td>\n",
              "      <td>0.0</td>\n",
              "      <td>0.0</td>\n",
              "      <td>0.0</td>\n",
              "      <td>0.0</td>\n",
              "      <td>0.780626</td>\n",
              "      <td>0.223203</td>\n",
              "      <td>0.780626</td>\n",
              "      <td>0.129466</td>\n",
              "    </tr>\n",
              "    <tr>\n",
              "      <th>2</th>\n",
              "      <td>train</td>\n",
              "      <td>f1-score</td>\n",
              "      <td>0.811122</td>\n",
              "      <td>0.841562</td>\n",
              "      <td>0.831582</td>\n",
              "      <td>0.676454</td>\n",
              "      <td>0.892362</td>\n",
              "      <td>0.009569</td>\n",
              "      <td>0.0</td>\n",
              "      <td>0.0</td>\n",
              "      <td>...</td>\n",
              "      <td>0.0</td>\n",
              "      <td>0.0</td>\n",
              "      <td>0.0</td>\n",
              "      <td>0.0</td>\n",
              "      <td>0.0</td>\n",
              "      <td>0.0</td>\n",
              "      <td>0.770167</td>\n",
              "      <td>0.203133</td>\n",
              "      <td>0.726095</td>\n",
              "      <td>0.129478</td>\n",
              "    </tr>\n",
              "    <tr>\n",
              "      <th>3</th>\n",
              "      <td>train</td>\n",
              "      <td>support</td>\n",
              "      <td>4449.000000</td>\n",
              "      <td>3506.000000</td>\n",
              "      <td>3349.000000</td>\n",
              "      <td>1363.000000</td>\n",
              "      <td>1286.000000</td>\n",
              "      <td>200.000000</td>\n",
              "      <td>200.0</td>\n",
              "      <td>149.0</td>\n",
              "      <td>...</td>\n",
              "      <td>110.0</td>\n",
              "      <td>110.0</td>\n",
              "      <td>109.0</td>\n",
              "      <td>104.0</td>\n",
              "      <td>50.0</td>\n",
              "      <td>50.0</td>\n",
              "      <td>15722.000000</td>\n",
              "      <td>15722.000000</td>\n",
              "      <td>15722.000000</td>\n",
              "      <td>15722.000000</td>\n",
              "    </tr>\n",
              "    <tr>\n",
              "      <th>4</th>\n",
              "      <td>dev</td>\n",
              "      <td>precision</td>\n",
              "      <td>0.580762</td>\n",
              "      <td>0.692898</td>\n",
              "      <td>0.718941</td>\n",
              "      <td>0.497093</td>\n",
              "      <td>0.778325</td>\n",
              "      <td>0.000000</td>\n",
              "      <td>0.0</td>\n",
              "      <td>0.0</td>\n",
              "      <td>...</td>\n",
              "      <td>0.0</td>\n",
              "      <td>0.0</td>\n",
              "      <td>0.0</td>\n",
              "      <td>0.0</td>\n",
              "      <td>0.0</td>\n",
              "      <td>0.0</td>\n",
              "      <td>0.645972</td>\n",
              "      <td>0.163401</td>\n",
              "      <td>0.561798</td>\n",
              "      <td>NaN</td>\n",
              "    </tr>\n",
              "    <tr>\n",
              "      <th>5</th>\n",
              "      <td>dev</td>\n",
              "      <td>recall</td>\n",
              "      <td>0.618956</td>\n",
              "      <td>0.804009</td>\n",
              "      <td>0.798643</td>\n",
              "      <td>0.818182</td>\n",
              "      <td>0.963415</td>\n",
              "      <td>0.000000</td>\n",
              "      <td>0.0</td>\n",
              "      <td>0.0</td>\n",
              "      <td>...</td>\n",
              "      <td>0.0</td>\n",
              "      <td>0.0</td>\n",
              "      <td>0.0</td>\n",
              "      <td>0.0</td>\n",
              "      <td>0.0</td>\n",
              "      <td>0.0</td>\n",
              "      <td>0.659729</td>\n",
              "      <td>0.200160</td>\n",
              "      <td>0.659729</td>\n",
              "      <td>NaN</td>\n",
              "    </tr>\n",
              "    <tr>\n",
              "      <th>6</th>\n",
              "      <td>dev</td>\n",
              "      <td>f1-score</td>\n",
              "      <td>0.599251</td>\n",
              "      <td>0.744330</td>\n",
              "      <td>0.756699</td>\n",
              "      <td>0.618445</td>\n",
              "      <td>0.861035</td>\n",
              "      <td>0.000000</td>\n",
              "      <td>0.0</td>\n",
              "      <td>0.0</td>\n",
              "      <td>...</td>\n",
              "      <td>0.0</td>\n",
              "      <td>0.0</td>\n",
              "      <td>0.0</td>\n",
              "      <td>0.0</td>\n",
              "      <td>0.0</td>\n",
              "      <td>0.0</td>\n",
              "      <td>0.652778</td>\n",
              "      <td>0.178988</td>\n",
              "      <td>0.604522</td>\n",
              "      <td>NaN</td>\n",
              "    </tr>\n",
              "    <tr>\n",
              "      <th>7</th>\n",
              "      <td>dev</td>\n",
              "      <td>support</td>\n",
              "      <td>517.000000</td>\n",
              "      <td>449.000000</td>\n",
              "      <td>442.000000</td>\n",
              "      <td>209.000000</td>\n",
              "      <td>164.000000</td>\n",
              "      <td>39.000000</td>\n",
              "      <td>34.0</td>\n",
              "      <td>20.0</td>\n",
              "      <td>...</td>\n",
              "      <td>12.0</td>\n",
              "      <td>20.0</td>\n",
              "      <td>25.0</td>\n",
              "      <td>23.0</td>\n",
              "      <td>7.0</td>\n",
              "      <td>13.0</td>\n",
              "      <td>2066.000000</td>\n",
              "      <td>2066.000000</td>\n",
              "      <td>2066.000000</td>\n",
              "      <td>NaN</td>\n",
              "    </tr>\n",
              "    <tr>\n",
              "      <th>8</th>\n",
              "      <td>test</td>\n",
              "      <td>precision</td>\n",
              "      <td>0.645472</td>\n",
              "      <td>0.726000</td>\n",
              "      <td>0.736957</td>\n",
              "      <td>0.707182</td>\n",
              "      <td>0.767347</td>\n",
              "      <td>0.000000</td>\n",
              "      <td>0.0</td>\n",
              "      <td>0.0</td>\n",
              "      <td>...</td>\n",
              "      <td>0.0</td>\n",
              "      <td>0.0</td>\n",
              "      <td>0.0</td>\n",
              "      <td>0.0</td>\n",
              "      <td>0.0</td>\n",
              "      <td>0.0</td>\n",
              "      <td>0.710236</td>\n",
              "      <td>0.179148</td>\n",
              "      <td>0.616832</td>\n",
              "      <td>0.114332</td>\n",
              "    </tr>\n",
              "    <tr>\n",
              "      <th>9</th>\n",
              "      <td>test</td>\n",
              "      <td>recall</td>\n",
              "      <td>0.638095</td>\n",
              "      <td>0.821267</td>\n",
              "      <td>0.811005</td>\n",
              "      <td>0.810127</td>\n",
              "      <td>0.979167</td>\n",
              "      <td>0.000000</td>\n",
              "      <td>0.0</td>\n",
              "      <td>0.0</td>\n",
              "      <td>...</td>\n",
              "      <td>0.0</td>\n",
              "      <td>0.0</td>\n",
              "      <td>0.0</td>\n",
              "      <td>0.0</td>\n",
              "      <td>0.0</td>\n",
              "      <td>0.0</td>\n",
              "      <td>0.680241</td>\n",
              "      <td>0.202983</td>\n",
              "      <td>0.680241</td>\n",
              "      <td>0.114247</td>\n",
              "    </tr>\n",
              "    <tr>\n",
              "      <th>10</th>\n",
              "      <td>test</td>\n",
              "      <td>f1-score</td>\n",
              "      <td>0.641762</td>\n",
              "      <td>0.770701</td>\n",
              "      <td>0.772210</td>\n",
              "      <td>0.755162</td>\n",
              "      <td>0.860412</td>\n",
              "      <td>0.000000</td>\n",
              "      <td>0.0</td>\n",
              "      <td>0.0</td>\n",
              "      <td>...</td>\n",
              "      <td>0.0</td>\n",
              "      <td>0.0</td>\n",
              "      <td>0.0</td>\n",
              "      <td>0.0</td>\n",
              "      <td>0.0</td>\n",
              "      <td>0.0</td>\n",
              "      <td>0.694915</td>\n",
              "      <td>0.190012</td>\n",
              "      <td>0.645990</td>\n",
              "      <td>0.114275</td>\n",
              "    </tr>\n",
              "    <tr>\n",
              "      <th>11</th>\n",
              "      <td>test</td>\n",
              "      <td>support</td>\n",
              "      <td>525.000000</td>\n",
              "      <td>442.000000</td>\n",
              "      <td>418.000000</td>\n",
              "      <td>158.000000</td>\n",
              "      <td>192.000000</td>\n",
              "      <td>24.000000</td>\n",
              "      <td>27.0</td>\n",
              "      <td>9.0</td>\n",
              "      <td>...</td>\n",
              "      <td>13.0</td>\n",
              "      <td>27.0</td>\n",
              "      <td>28.0</td>\n",
              "      <td>20.0</td>\n",
              "      <td>25.0</td>\n",
              "      <td>3.0</td>\n",
              "      <td>1989.000000</td>\n",
              "      <td>1989.000000</td>\n",
              "      <td>1989.000000</td>\n",
              "      <td>1989.000000</td>\n",
              "    </tr>\n",
              "  </tbody>\n",
              "</table>\n",
              "<p>12 rows × 26 columns</p>\n",
              "</div>\n",
              "      <button class=\"colab-df-convert\" onclick=\"convertToInteractive('df-febd9580-2000-4578-b4ec-db7cf311990a')\"\n",
              "              title=\"Convert this dataframe to an interactive table.\"\n",
              "              style=\"display:none;\">\n",
              "        \n",
              "  <svg xmlns=\"http://www.w3.org/2000/svg\" height=\"24px\"viewBox=\"0 0 24 24\"\n",
              "       width=\"24px\">\n",
              "    <path d=\"M0 0h24v24H0V0z\" fill=\"none\"/>\n",
              "    <path d=\"M18.56 5.44l.94 2.06.94-2.06 2.06-.94-2.06-.94-.94-2.06-.94 2.06-2.06.94zm-11 1L8.5 8.5l.94-2.06 2.06-.94-2.06-.94L8.5 2.5l-.94 2.06-2.06.94zm10 10l.94 2.06.94-2.06 2.06-.94-2.06-.94-.94-2.06-.94 2.06-2.06.94z\"/><path d=\"M17.41 7.96l-1.37-1.37c-.4-.4-.92-.59-1.43-.59-.52 0-1.04.2-1.43.59L10.3 9.45l-7.72 7.72c-.78.78-.78 2.05 0 2.83L4 21.41c.39.39.9.59 1.41.59.51 0 1.02-.2 1.41-.59l7.78-7.78 2.81-2.81c.8-.78.8-2.07 0-2.86zM5.41 20L4 18.59l7.72-7.72 1.47 1.35L5.41 20z\"/>\n",
              "  </svg>\n",
              "      </button>\n",
              "      \n",
              "  <style>\n",
              "    .colab-df-container {\n",
              "      display:flex;\n",
              "      flex-wrap:wrap;\n",
              "      gap: 12px;\n",
              "    }\n",
              "\n",
              "    .colab-df-convert {\n",
              "      background-color: #E8F0FE;\n",
              "      border: none;\n",
              "      border-radius: 50%;\n",
              "      cursor: pointer;\n",
              "      display: none;\n",
              "      fill: #1967D2;\n",
              "      height: 32px;\n",
              "      padding: 0 0 0 0;\n",
              "      width: 32px;\n",
              "    }\n",
              "\n",
              "    .colab-df-convert:hover {\n",
              "      background-color: #E2EBFA;\n",
              "      box-shadow: 0px 1px 2px rgba(60, 64, 67, 0.3), 0px 1px 3px 1px rgba(60, 64, 67, 0.15);\n",
              "      fill: #174EA6;\n",
              "    }\n",
              "\n",
              "    [theme=dark] .colab-df-convert {\n",
              "      background-color: #3B4455;\n",
              "      fill: #D2E3FC;\n",
              "    }\n",
              "\n",
              "    [theme=dark] .colab-df-convert:hover {\n",
              "      background-color: #434B5C;\n",
              "      box-shadow: 0px 1px 3px 1px rgba(0, 0, 0, 0.15);\n",
              "      filter: drop-shadow(0px 1px 2px rgba(0, 0, 0, 0.3));\n",
              "      fill: #FFFFFF;\n",
              "    }\n",
              "  </style>\n",
              "\n",
              "      <script>\n",
              "        const buttonEl =\n",
              "          document.querySelector('#df-febd9580-2000-4578-b4ec-db7cf311990a button.colab-df-convert');\n",
              "        buttonEl.style.display =\n",
              "          google.colab.kernel.accessAllowed ? 'block' : 'none';\n",
              "\n",
              "        async function convertToInteractive(key) {\n",
              "          const element = document.querySelector('#df-febd9580-2000-4578-b4ec-db7cf311990a');\n",
              "          const dataTable =\n",
              "            await google.colab.kernel.invokeFunction('convertToInteractive',\n",
              "                                                     [key], {});\n",
              "          if (!dataTable) return;\n",
              "\n",
              "          const docLinkHtml = 'Like what you see? Visit the ' +\n",
              "            '<a target=\"_blank\" href=https://colab.research.google.com/notebooks/data_table.ipynb>data table notebook</a>'\n",
              "            + ' to learn more about interactive tables.';\n",
              "          element.innerHTML = '';\n",
              "          dataTable['output_type'] = 'display_data';\n",
              "          await google.colab.output.renderOutput(dataTable, element);\n",
              "          const docLink = document.createElement('div');\n",
              "          docLink.innerHTML = docLinkHtml;\n",
              "          element.appendChild(docLink);\n",
              "        }\n",
              "      </script>\n",
              "    </div>\n",
              "  </div>\n",
              "  "
            ]
          },
          "metadata": {},
          "execution_count": 23
        }
      ],
      "source": [
        "print(suf)\n",
        "\n",
        "os.mkdir('flair_ner_model'+suf+'/classification_report')\n",
        "plotter.plot_training_curves('flair_ner_model'+suf+'/loss.tsv')\n",
        "\n",
        "# evaluate the tagger on the test set\n",
        "result = tagger.evaluate(corpus.train, \n",
        "                         embeddings_storage_mode='gpu',\n",
        "                         mini_batch_size=40,\n",
        "                         main_evaluation_metric = (\"weighted avg\", \"f1-score\"),\n",
        "                         gold_label_type='ner',\n",
        "                         gold_label_dictionary=tag_dictionary)\n",
        "open('flair_ner_model'+suf+'/classification_report/train.txt', 'w').write(str(result))\n",
        "res1 = pd.DataFrame.from_dict(result.classification_report).reset_index()\n",
        "res1.insert(loc=0, column='split', value='train')\n",
        "\n",
        "result = tagger.evaluate(corpus.dev, \n",
        "                         embeddings_storage_mode='gpu',\n",
        "                         mini_batch_size=40,\n",
        "                         main_evaluation_metric = (\"weighted avg\", \"f1-score\"),\n",
        "                         gold_label_type='ner',\n",
        "                         gold_label_dictionary=tag_dictionary)\n",
        "open('flair_ner_model'+suf+'/classification_report/dev.txt', 'w').write(str(result))\n",
        "res2 = pd.DataFrame.from_dict(result.classification_report).reset_index()\n",
        "res2.insert(loc=0, column='split', value='dev')\n",
        "\n",
        "result = tagger.evaluate(corpus.test, \n",
        "                         embeddings_storage_mode='gpu',\n",
        "                         mini_batch_size=40,\n",
        "                         main_evaluation_metric = (\"weighted avg\", \"f1-score\"),\n",
        "                         gold_label_type='ner',\n",
        "                         gold_label_dictionary=tag_dictionary)\n",
        "open('flair_ner_model'+suf+'/classification_report/test.txt', 'w').write(str(result))\n",
        "res3 = pd.DataFrame.from_dict(result.classification_report).reset_index()\n",
        "res3.insert(loc=0, column='split', value='test')\n",
        "\n",
        "res = pd.concat([res1,res2,res3],ignore_index=True)\n",
        "res.to_csv('flair_ner_model'+suf+'/classification_report.csv',index=False)\n",
        "res"
      ]
    },
    {
      "cell_type": "code",
      "execution_count": null,
      "metadata": {
        "id": "VvIDCtYJkY-G"
      },
      "outputs": [],
      "source": [
        "# import time\n",
        "# start_time = time.time()\n",
        "# while time.time() - start_time < 1:\n",
        "#     time.sleep(1)\n",
        "# print('Session has timed out (2 minutes). Disconnecting...')\n",
        "# !kill -9 -1"
      ]
    },
    {
      "cell_type": "markdown",
      "metadata": {
        "id": "tGILL4RFtGil"
      },
      "source": [
        "Layering can be a good idea if the NER tags in the first layer have their own set of dependent values in the second layer. This can help capture more information about the entities being recognized and provide more context for downstream tasks. However, it also increases the complexity of the annotation and the training process, so it should be used judiciously. In general, it's a good idea to start with a simple tag scheme and gradually increase complexity as needed."
      ]
    },
    {
      "cell_type": "markdown",
      "metadata": {
        "id": "JoZ5D6aEtGin"
      },
      "source": [
        "    does it really matter if u use the E header\n",
        "\n",
        "It depends on the specific task and the requirements of the downstream model. In some cases, using the E tag can help disambiguate between overlapping entities, while in other cases it may not be necessary or even desired. Ultimately, it's up to the developer to determine the appropriate tagging scheme for their specific use case."
      ]
    },
    {
      "cell_type": "markdown",
      "metadata": {
        "id": "BGt2RhM6tGin"
      },
      "source": [
        "    would adding POS as an extra NER layer help model performance or not\n",
        "\n",
        "Adding POS as an extra NER layer may or may not help model performance, depending on the specific use case and data being analyzed.\n",
        "\n",
        "On one hand, incorporating POS tags could provide additional context to the model and help it better distinguish between named entities and other parts of speech. For example, knowing that a word is a noun or verb could help the model determine if it is likely to be a named entity or not.\n",
        "\n",
        "On the other hand, adding an additional layer could also increase model complexity and training time without necessarily improving performance. It may also require additional manual annotation efforts to create a labeled dataset with both NER and POS tags.\n",
        "\n",
        "Ultimately, whether to include POS as an additional layer will depend on the specific requirements and goals of the project, as well as the available data and resources."
      ]
    },
    {
      "cell_type": "markdown",
      "metadata": {
        "id": "6zpEn1bgtGin"
      },
      "source": [
        "    besides bioes ordering (which is up-to-down), it doesn't matter what order the tags in the same domain appear in left-to-right?\n",
        "\n",
        "Yes, that is correct. As long as the BIOES order is maintained vertically, the order of tags in the same domain from left-to-right should not impact training in flai"
      ]
    },
    {
      "cell_type": "markdown",
      "metadata": {
        "id": "yrmL98VatGin"
      },
      "source": [
        "    different typenames must be treated as separate tasks?\n",
        "\n",
        "Yes, that's correct. Different typenames should be treated as separate tasks because they represent different types of annotations that you want to predict. For example, in a biomedical NER task, you might want to predict the entity types of both drugs and diseases, which would be represented by two different typenames in your annotation data. Predicting both types of entities would require different models and possibly different evaluation metrics."
      ]
    }
  ],
  "metadata": {
    "accelerator": "GPU",
    "colab": {
      "gpuType": "A100",
      "provenance": []
    },
    "gpuClass": "standard",
    "kernelspec": {
      "display_name": "flair",
      "language": "python",
      "name": "python3"
    },
    "language_info": {
      "codemirror_mode": {
        "name": "ipython",
        "version": 3
      },
      "file_extension": ".py",
      "mimetype": "text/x-python",
      "name": "python",
      "nbconvert_exporter": "python",
      "pygments_lexer": "ipython3",
      "version": "3.9.16"
    },
    "vscode": {
      "interpreter": {
        "hash": "381c8abc3392c5f20473858f182d9ac4a53ef053fb1f276fcb4936938616c3f3"
      }
    }
  },
  "nbformat": 4,
  "nbformat_minor": 0
}