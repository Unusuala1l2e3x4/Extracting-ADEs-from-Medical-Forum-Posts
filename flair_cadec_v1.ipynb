{
  "cells": [
    {
      "cell_type": "code",
      "execution_count": 1,
      "metadata": {
        "colab": {
          "base_uri": "https://localhost:8080/"
        },
        "id": "XhIssB_etI8X",
        "outputId": "25708f88-5088-4751-d56b-b25413649b0e"
      },
      "outputs": [
        {
          "output_type": "stream",
          "name": "stdout",
          "text": [
            "Looking in indexes: https://pypi.org/simple, https://us-python.pkg.dev/colab-wheels/public/simple/\n",
            "Requirement already satisfied: flair in /usr/local/lib/python3.9/dist-packages (0.12.2)\n",
            "Requirement already satisfied: gensim>=3.8.0 in /usr/local/lib/python3.9/dist-packages (from flair) (4.3.1)\n",
            "Requirement already satisfied: pytorch-revgrad in /usr/local/lib/python3.9/dist-packages (from flair) (0.2.0)\n",
            "Requirement already satisfied: regex in /usr/local/lib/python3.9/dist-packages (from flair) (2022.10.31)\n",
            "Requirement already satisfied: transformer-smaller-training-vocab>=0.2.1 in /usr/local/lib/python3.9/dist-packages (from flair) (0.2.3)\n",
            "Requirement already satisfied: segtok>=1.5.7 in /usr/local/lib/python3.9/dist-packages (from flair) (1.5.11)\n",
            "Requirement already satisfied: boto3 in /usr/local/lib/python3.9/dist-packages (from flair) (1.26.117)\n",
            "Requirement already satisfied: transformers[sentencepiece]>=4.18.0 in /usr/local/lib/python3.9/dist-packages (from flair) (4.28.1)\n",
            "Requirement already satisfied: tabulate in /usr/local/lib/python3.9/dist-packages (from flair) (0.8.10)\n",
            "Requirement already satisfied: pptree in /usr/local/lib/python3.9/dist-packages (from flair) (3.1)\n",
            "Requirement already satisfied: lxml in /usr/local/lib/python3.9/dist-packages (from flair) (4.9.2)\n",
            "Requirement already satisfied: mpld3==0.3 in /usr/local/lib/python3.9/dist-packages (from flair) (0.3)\n",
            "Requirement already satisfied: conllu>=4.0 in /usr/local/lib/python3.9/dist-packages (from flair) (4.5.2)\n",
            "Requirement already satisfied: sqlitedict>=1.6.0 in /usr/local/lib/python3.9/dist-packages (from flair) (2.1.0)\n",
            "Requirement already satisfied: deprecated>=1.2.4 in /usr/local/lib/python3.9/dist-packages (from flair) (1.2.13)\n",
            "Requirement already satisfied: python-dateutil>=2.6.1 in /usr/local/lib/python3.9/dist-packages (from flair) (2.8.2)\n",
            "Requirement already satisfied: torch!=1.8,>=1.5.0 in /usr/local/lib/python3.9/dist-packages (from flair) (2.0.0+cu118)\n",
            "Requirement already satisfied: hyperopt>=0.2.7 in /usr/local/lib/python3.9/dist-packages (from flair) (0.2.7)\n",
            "Requirement already satisfied: ftfy in /usr/local/lib/python3.9/dist-packages (from flair) (6.1.1)\n",
            "Requirement already satisfied: scikit-learn>=0.21.3 in /usr/local/lib/python3.9/dist-packages (from flair) (1.2.2)\n",
            "Requirement already satisfied: matplotlib>=2.2.3 in /usr/local/lib/python3.9/dist-packages (from flair) (3.7.1)\n",
            "Requirement already satisfied: more-itertools in /usr/local/lib/python3.9/dist-packages (from flair) (9.1.0)\n",
            "Requirement already satisfied: wikipedia-api in /usr/local/lib/python3.9/dist-packages (from flair) (0.5.8)\n",
            "Requirement already satisfied: janome in /usr/local/lib/python3.9/dist-packages (from flair) (0.4.2)\n",
            "Requirement already satisfied: gdown==4.4.0 in /usr/local/lib/python3.9/dist-packages (from flair) (4.4.0)\n",
            "Requirement already satisfied: huggingface-hub>=0.10.0 in /usr/local/lib/python3.9/dist-packages (from flair) (0.13.4)\n",
            "Requirement already satisfied: langdetect in /usr/local/lib/python3.9/dist-packages (from flair) (1.0.9)\n",
            "Requirement already satisfied: bpemb>=0.3.2 in /usr/local/lib/python3.9/dist-packages (from flair) (0.3.4)\n",
            "Requirement already satisfied: tqdm>=4.26.0 in /usr/local/lib/python3.9/dist-packages (from flair) (4.65.0)\n",
            "Requirement already satisfied: six in /usr/local/lib/python3.9/dist-packages (from gdown==4.4.0->flair) (1.16.0)\n",
            "Requirement already satisfied: filelock in /usr/local/lib/python3.9/dist-packages (from gdown==4.4.0->flair) (3.11.0)\n",
            "Requirement already satisfied: requests[socks] in /usr/local/lib/python3.9/dist-packages (from gdown==4.4.0->flair) (2.27.1)\n",
            "Requirement already satisfied: beautifulsoup4 in /usr/local/lib/python3.9/dist-packages (from gdown==4.4.0->flair) (4.11.2)\n",
            "Requirement already satisfied: numpy in /usr/local/lib/python3.9/dist-packages (from bpemb>=0.3.2->flair) (1.22.4)\n",
            "Requirement already satisfied: sentencepiece in /usr/local/lib/python3.9/dist-packages (from bpemb>=0.3.2->flair) (0.1.98)\n",
            "Requirement already satisfied: wrapt<2,>=1.10 in /usr/local/lib/python3.9/dist-packages (from deprecated>=1.2.4->flair) (1.14.1)\n",
            "Requirement already satisfied: scipy>=1.7.0 in /usr/local/lib/python3.9/dist-packages (from gensim>=3.8.0->flair) (1.10.1)\n",
            "Requirement already satisfied: smart-open>=1.8.1 in /usr/local/lib/python3.9/dist-packages (from gensim>=3.8.0->flair) (6.3.0)\n",
            "Requirement already satisfied: pyyaml>=5.1 in /usr/local/lib/python3.9/dist-packages (from huggingface-hub>=0.10.0->flair) (6.0)\n",
            "Requirement already satisfied: typing-extensions>=3.7.4.3 in /usr/local/lib/python3.9/dist-packages (from huggingface-hub>=0.10.0->flair) (4.5.0)\n",
            "Requirement already satisfied: packaging>=20.9 in /usr/local/lib/python3.9/dist-packages (from huggingface-hub>=0.10.0->flair) (23.1)\n",
            "Requirement already satisfied: networkx>=2.2 in /usr/local/lib/python3.9/dist-packages (from hyperopt>=0.2.7->flair) (3.1)\n",
            "Requirement already satisfied: cloudpickle in /usr/local/lib/python3.9/dist-packages (from hyperopt>=0.2.7->flair) (2.2.1)\n",
            "Requirement already satisfied: py4j in /usr/local/lib/python3.9/dist-packages (from hyperopt>=0.2.7->flair) (0.10.9.7)\n",
            "Requirement already satisfied: future in /usr/local/lib/python3.9/dist-packages (from hyperopt>=0.2.7->flair) (0.18.3)\n",
            "Requirement already satisfied: fonttools>=4.22.0 in /usr/local/lib/python3.9/dist-packages (from matplotlib>=2.2.3->flair) (4.39.3)\n",
            "Requirement already satisfied: kiwisolver>=1.0.1 in /usr/local/lib/python3.9/dist-packages (from matplotlib>=2.2.3->flair) (1.4.4)\n",
            "Requirement already satisfied: contourpy>=1.0.1 in /usr/local/lib/python3.9/dist-packages (from matplotlib>=2.2.3->flair) (1.0.7)\n",
            "Requirement already satisfied: pillow>=6.2.0 in /usr/local/lib/python3.9/dist-packages (from matplotlib>=2.2.3->flair) (8.4.0)\n",
            "Requirement already satisfied: cycler>=0.10 in /usr/local/lib/python3.9/dist-packages (from matplotlib>=2.2.3->flair) (0.11.0)\n",
            "Requirement already satisfied: importlib-resources>=3.2.0 in /usr/local/lib/python3.9/dist-packages (from matplotlib>=2.2.3->flair) (5.12.0)\n",
            "Requirement already satisfied: pyparsing>=2.3.1 in /usr/local/lib/python3.9/dist-packages (from matplotlib>=2.2.3->flair) (3.0.9)\n",
            "Requirement already satisfied: threadpoolctl>=2.0.0 in /usr/local/lib/python3.9/dist-packages (from scikit-learn>=0.21.3->flair) (3.1.0)\n",
            "Requirement already satisfied: joblib>=1.1.1 in /usr/local/lib/python3.9/dist-packages (from scikit-learn>=0.21.3->flair) (1.2.0)\n",
            "Requirement already satisfied: sympy in /usr/local/lib/python3.9/dist-packages (from torch!=1.8,>=1.5.0->flair) (1.11.1)\n",
            "Requirement already satisfied: jinja2 in /usr/local/lib/python3.9/dist-packages (from torch!=1.8,>=1.5.0->flair) (3.1.2)\n",
            "Requirement already satisfied: triton==2.0.0 in /usr/local/lib/python3.9/dist-packages (from torch!=1.8,>=1.5.0->flair) (2.0.0)\n",
            "Requirement already satisfied: lit in /usr/local/lib/python3.9/dist-packages (from triton==2.0.0->torch!=1.8,>=1.5.0->flair) (16.0.1)\n",
            "Requirement already satisfied: cmake in /usr/local/lib/python3.9/dist-packages (from triton==2.0.0->torch!=1.8,>=1.5.0->flair) (3.25.2)\n",
            "Requirement already satisfied: datasets<3.0.0,>=2.0.0 in /usr/local/lib/python3.9/dist-packages (from transformer-smaller-training-vocab>=0.2.1->flair) (2.11.0)\n",
            "Requirement already satisfied: tokenizers!=0.11.3,<0.14,>=0.11.1 in /usr/local/lib/python3.9/dist-packages (from transformers[sentencepiece]>=4.18.0->flair) (0.13.3)\n",
            "Requirement already satisfied: protobuf<=3.20.2 in /usr/local/lib/python3.9/dist-packages (from transformers[sentencepiece]>=4.18.0->flair) (3.20.2)\n",
            "Requirement already satisfied: botocore<1.30.0,>=1.29.117 in /usr/local/lib/python3.9/dist-packages (from boto3->flair) (1.29.117)\n",
            "Requirement already satisfied: s3transfer<0.7.0,>=0.6.0 in /usr/local/lib/python3.9/dist-packages (from boto3->flair) (0.6.0)\n",
            "Requirement already satisfied: jmespath<2.0.0,>=0.7.1 in /usr/local/lib/python3.9/dist-packages (from boto3->flair) (1.0.1)\n",
            "Requirement already satisfied: wcwidth>=0.2.5 in /usr/local/lib/python3.9/dist-packages (from ftfy->flair) (0.2.6)\n",
            "Requirement already satisfied: urllib3<1.27,>=1.25.4 in /usr/local/lib/python3.9/dist-packages (from botocore<1.30.0,>=1.29.117->boto3->flair) (1.26.15)\n",
            "Requirement already satisfied: dill<0.3.7,>=0.3.0 in /usr/local/lib/python3.9/dist-packages (from datasets<3.0.0,>=2.0.0->transformer-smaller-training-vocab>=0.2.1->flair) (0.3.6)\n",
            "Requirement already satisfied: pandas in /usr/local/lib/python3.9/dist-packages (from datasets<3.0.0,>=2.0.0->transformer-smaller-training-vocab>=0.2.1->flair) (1.5.3)\n",
            "Requirement already satisfied: xxhash in /usr/local/lib/python3.9/dist-packages (from datasets<3.0.0,>=2.0.0->transformer-smaller-training-vocab>=0.2.1->flair) (3.2.0)\n",
            "Requirement already satisfied: fsspec[http]>=2021.11.1 in /usr/local/lib/python3.9/dist-packages (from datasets<3.0.0,>=2.0.0->transformer-smaller-training-vocab>=0.2.1->flair) (2023.4.0)\n",
            "Requirement already satisfied: responses<0.19 in /usr/local/lib/python3.9/dist-packages (from datasets<3.0.0,>=2.0.0->transformer-smaller-training-vocab>=0.2.1->flair) (0.18.0)\n",
            "Requirement already satisfied: pyarrow>=8.0.0 in /usr/local/lib/python3.9/dist-packages (from datasets<3.0.0,>=2.0.0->transformer-smaller-training-vocab>=0.2.1->flair) (9.0.0)\n",
            "Requirement already satisfied: multiprocess in /usr/local/lib/python3.9/dist-packages (from datasets<3.0.0,>=2.0.0->transformer-smaller-training-vocab>=0.2.1->flair) (0.70.14)\n",
            "Requirement already satisfied: aiohttp in /usr/local/lib/python3.9/dist-packages (from datasets<3.0.0,>=2.0.0->transformer-smaller-training-vocab>=0.2.1->flair) (3.8.4)\n",
            "Requirement already satisfied: zipp>=3.1.0 in /usr/local/lib/python3.9/dist-packages (from importlib-resources>=3.2.0->matplotlib>=2.2.3->flair) (3.15.0)\n",
            "Requirement already satisfied: idna<4,>=2.5 in /usr/local/lib/python3.9/dist-packages (from requests[socks]->gdown==4.4.0->flair) (3.4)\n",
            "Requirement already satisfied: charset-normalizer~=2.0.0 in /usr/local/lib/python3.9/dist-packages (from requests[socks]->gdown==4.4.0->flair) (2.0.12)\n",
            "Requirement already satisfied: certifi>=2017.4.17 in /usr/local/lib/python3.9/dist-packages (from requests[socks]->gdown==4.4.0->flair) (2022.12.7)\n",
            "Requirement already satisfied: soupsieve>1.2 in /usr/local/lib/python3.9/dist-packages (from beautifulsoup4->gdown==4.4.0->flair) (2.4.1)\n",
            "Requirement already satisfied: MarkupSafe>=2.0 in /usr/local/lib/python3.9/dist-packages (from jinja2->torch!=1.8,>=1.5.0->flair) (2.1.2)\n",
            "Requirement already satisfied: PySocks!=1.5.7,>=1.5.6 in /usr/local/lib/python3.9/dist-packages (from requests[socks]->gdown==4.4.0->flair) (1.7.1)\n",
            "Requirement already satisfied: mpmath>=0.19 in /usr/local/lib/python3.9/dist-packages (from sympy->torch!=1.8,>=1.5.0->flair) (1.3.0)\n",
            "Requirement already satisfied: yarl<2.0,>=1.0 in /usr/local/lib/python3.9/dist-packages (from aiohttp->datasets<3.0.0,>=2.0.0->transformer-smaller-training-vocab>=0.2.1->flair) (1.8.2)\n",
            "Requirement already satisfied: attrs>=17.3.0 in /usr/local/lib/python3.9/dist-packages (from aiohttp->datasets<3.0.0,>=2.0.0->transformer-smaller-training-vocab>=0.2.1->flair) (23.1.0)\n",
            "Requirement already satisfied: frozenlist>=1.1.1 in /usr/local/lib/python3.9/dist-packages (from aiohttp->datasets<3.0.0,>=2.0.0->transformer-smaller-training-vocab>=0.2.1->flair) (1.3.3)\n",
            "Requirement already satisfied: aiosignal>=1.1.2 in /usr/local/lib/python3.9/dist-packages (from aiohttp->datasets<3.0.0,>=2.0.0->transformer-smaller-training-vocab>=0.2.1->flair) (1.3.1)\n",
            "Requirement already satisfied: multidict<7.0,>=4.5 in /usr/local/lib/python3.9/dist-packages (from aiohttp->datasets<3.0.0,>=2.0.0->transformer-smaller-training-vocab>=0.2.1->flair) (6.0.4)\n",
            "Requirement already satisfied: async-timeout<5.0,>=4.0.0a3 in /usr/local/lib/python3.9/dist-packages (from aiohttp->datasets<3.0.0,>=2.0.0->transformer-smaller-training-vocab>=0.2.1->flair) (4.0.2)\n",
            "Requirement already satisfied: pytz>=2020.1 in /usr/local/lib/python3.9/dist-packages (from pandas->datasets<3.0.0,>=2.0.0->transformer-smaller-training-vocab>=0.2.1->flair) (2022.7.1)\n"
          ]
        }
      ],
      "source": [
        "!pip install flair"
      ]
    },
    {
      "cell_type": "code",
      "execution_count": 2,
      "metadata": {
        "id": "xONJpNLKtGie"
      },
      "outputs": [],
      "source": [
        "import pandas as pd\n",
        "import numpy as np\n",
        "import os, re, csv, string, random\n",
        "import flair\n",
        "# print(flair.__version__)\n",
        "\n",
        "\n",
        "import nltk\n",
        "from nltk.tokenize import RegexpTokenizer\n",
        "\n",
        "from flair.data import Sentence, Span, Corpus, Dictionary, Token\n",
        "from flair.embeddings import WordEmbeddings, DocumentPoolEmbeddings, FlairEmbeddings, StackedEmbeddings, TokenEmbeddings\n",
        "from flair.models import SequenceTagger\n",
        "\n",
        "from flair.datasets import ColumnCorpus\n",
        "from flair.trainers import ModelTrainer\n",
        "\n",
        "from typing import List, Tuple\n",
        "\n",
        "from sklearn.metrics import confusion_matrix, classification_report\n",
        "\n",
        "import seaborn as sns\n",
        "import pickle\n",
        "\n",
        "from tqdm.auto import tqdm, trange\n",
        "\n",
        "# import seaborn as sns\n",
        "import matplotlib.pyplot as plt\n",
        "from collections import Counter\n",
        "from itertools import chain\n",
        "# from flair.data import Sentence"
      ]
    },
    {
      "cell_type": "code",
      "execution_count": 3,
      "metadata": {
        "colab": {
          "base_uri": "https://localhost:8080/"
        },
        "id": "nw6RM8uotGih",
        "outputId": "b7a2a9db-9c2f-4db3-f543-cc4016a19974"
      },
      "outputs": [
        {
          "output_type": "stream",
          "name": "stdout",
          "text": [
            "Drive already mounted at /content/drive; to attempt to forcibly remount, call drive.mount(\"/content/drive\", force_remount=True).\n"
          ]
        }
      ],
      "source": [
        "from google.colab import drive\n",
        "drive.mount(\"/content/drive\")\n",
        "\n",
        "os.chdir('/content/drive/MyDrive/SI 630 project')\n",
        "# os.listdir('.')"
      ]
    },
    {
      "cell_type": "code",
      "execution_count": 4,
      "metadata": {
        "colab": {
          "base_uri": "https://localhost:8080/"
        },
        "id": "P9LwpBadtGih",
        "outputId": "fdc4aa2a-bd0b-42e2-974b-e9048f9b647f"
      },
      "outputs": [
        {
          "output_type": "execute_result",
          "data": {
            "text/plain": [
              "['sct',\n",
              " 'text',\n",
              " 'original - unedited version of edited files',\n",
              " 'meddra - unedited version of edited files',\n",
              " 'sct - unedited version of edited files',\n",
              " 'original',\n",
              " 'meddra']"
            ]
          },
          "metadata": {},
          "execution_count": 4
        }
      ],
      "source": [
        "os.listdir('datasets/CADEC/CADEC.v2/cadec')\n"
      ]
    },
    {
      "cell_type": "code",
      "execution_count": 5,
      "metadata": {
        "id": "QKGsELuHb6NP"
      },
      "outputs": [],
      "source": [
        "suf = '_v1'\n",
        "\n",
        "data_save_dir = 'data'+suf"
      ]
    },
    {
      "cell_type": "code",
      "execution_count": 6,
      "metadata": {
        "colab": {
          "base_uri": "https://localhost:8080/",
          "height": 423
        },
        "id": "BIUl2-W9tGii",
        "outputId": "8676898f-8933-41ab-bdf8-3e9e840b756b"
      },
      "outputs": [
        {
          "output_type": "execute_result",
          "data": {
            "text/plain": [
              "          ner        meddra  counts_exploded  counts  counts_exploded_rank\n",
              "0        Drug       Lipitor             1081    1073                     1\n",
              "1         ADR  CONCEPT_LESS             1016     266                     2\n",
              "2         ADR   Severe_pain              722     247                     3\n",
              "3         ADR       Myalgia              619     305                     4\n",
              "4         ADR          Pain              292     260                     5\n",
              "...       ...           ...              ...     ...                   ...\n",
              "1294  Finding      Senility                1       1                  1233\n",
              "1295     Drug      Seroquel                1       1                  1233\n",
              "1296     Drug      Solaraze                1       1                  1233\n",
              "1297     Drug       Tagamet                1       1                  1233\n",
              "1298     Drug  testosterone                1       1                  1233\n",
              "\n",
              "[1299 rows x 5 columns]"
            ],
            "text/html": [
              "\n",
              "  <div id=\"df-14ff4d9d-8424-4c81-8fc1-84cb80b4828e\">\n",
              "    <div class=\"colab-df-container\">\n",
              "      <div>\n",
              "<style scoped>\n",
              "    .dataframe tbody tr th:only-of-type {\n",
              "        vertical-align: middle;\n",
              "    }\n",
              "\n",
              "    .dataframe tbody tr th {\n",
              "        vertical-align: top;\n",
              "    }\n",
              "\n",
              "    .dataframe thead th {\n",
              "        text-align: right;\n",
              "    }\n",
              "</style>\n",
              "<table border=\"1\" class=\"dataframe\">\n",
              "  <thead>\n",
              "    <tr style=\"text-align: right;\">\n",
              "      <th></th>\n",
              "      <th>ner</th>\n",
              "      <th>meddra</th>\n",
              "      <th>counts_exploded</th>\n",
              "      <th>counts</th>\n",
              "      <th>counts_exploded_rank</th>\n",
              "    </tr>\n",
              "  </thead>\n",
              "  <tbody>\n",
              "    <tr>\n",
              "      <th>0</th>\n",
              "      <td>Drug</td>\n",
              "      <td>Lipitor</td>\n",
              "      <td>1081</td>\n",
              "      <td>1073</td>\n",
              "      <td>1</td>\n",
              "    </tr>\n",
              "    <tr>\n",
              "      <th>1</th>\n",
              "      <td>ADR</td>\n",
              "      <td>CONCEPT_LESS</td>\n",
              "      <td>1016</td>\n",
              "      <td>266</td>\n",
              "      <td>2</td>\n",
              "    </tr>\n",
              "    <tr>\n",
              "      <th>2</th>\n",
              "      <td>ADR</td>\n",
              "      <td>Severe_pain</td>\n",
              "      <td>722</td>\n",
              "      <td>247</td>\n",
              "      <td>3</td>\n",
              "    </tr>\n",
              "    <tr>\n",
              "      <th>3</th>\n",
              "      <td>ADR</td>\n",
              "      <td>Myalgia</td>\n",
              "      <td>619</td>\n",
              "      <td>305</td>\n",
              "      <td>4</td>\n",
              "    </tr>\n",
              "    <tr>\n",
              "      <th>4</th>\n",
              "      <td>ADR</td>\n",
              "      <td>Pain</td>\n",
              "      <td>292</td>\n",
              "      <td>260</td>\n",
              "      <td>5</td>\n",
              "    </tr>\n",
              "    <tr>\n",
              "      <th>...</th>\n",
              "      <td>...</td>\n",
              "      <td>...</td>\n",
              "      <td>...</td>\n",
              "      <td>...</td>\n",
              "      <td>...</td>\n",
              "    </tr>\n",
              "    <tr>\n",
              "      <th>1294</th>\n",
              "      <td>Finding</td>\n",
              "      <td>Senility</td>\n",
              "      <td>1</td>\n",
              "      <td>1</td>\n",
              "      <td>1233</td>\n",
              "    </tr>\n",
              "    <tr>\n",
              "      <th>1295</th>\n",
              "      <td>Drug</td>\n",
              "      <td>Seroquel</td>\n",
              "      <td>1</td>\n",
              "      <td>1</td>\n",
              "      <td>1233</td>\n",
              "    </tr>\n",
              "    <tr>\n",
              "      <th>1296</th>\n",
              "      <td>Drug</td>\n",
              "      <td>Solaraze</td>\n",
              "      <td>1</td>\n",
              "      <td>1</td>\n",
              "      <td>1233</td>\n",
              "    </tr>\n",
              "    <tr>\n",
              "      <th>1297</th>\n",
              "      <td>Drug</td>\n",
              "      <td>Tagamet</td>\n",
              "      <td>1</td>\n",
              "      <td>1</td>\n",
              "      <td>1233</td>\n",
              "    </tr>\n",
              "    <tr>\n",
              "      <th>1298</th>\n",
              "      <td>Drug</td>\n",
              "      <td>testosterone</td>\n",
              "      <td>1</td>\n",
              "      <td>1</td>\n",
              "      <td>1233</td>\n",
              "    </tr>\n",
              "  </tbody>\n",
              "</table>\n",
              "<p>1299 rows × 5 columns</p>\n",
              "</div>\n",
              "      <button class=\"colab-df-convert\" onclick=\"convertToInteractive('df-14ff4d9d-8424-4c81-8fc1-84cb80b4828e')\"\n",
              "              title=\"Convert this dataframe to an interactive table.\"\n",
              "              style=\"display:none;\">\n",
              "        \n",
              "  <svg xmlns=\"http://www.w3.org/2000/svg\" height=\"24px\"viewBox=\"0 0 24 24\"\n",
              "       width=\"24px\">\n",
              "    <path d=\"M0 0h24v24H0V0z\" fill=\"none\"/>\n",
              "    <path d=\"M18.56 5.44l.94 2.06.94-2.06 2.06-.94-2.06-.94-.94-2.06-.94 2.06-2.06.94zm-11 1L8.5 8.5l.94-2.06 2.06-.94-2.06-.94L8.5 2.5l-.94 2.06-2.06.94zm10 10l.94 2.06.94-2.06 2.06-.94-2.06-.94-.94-2.06-.94 2.06-2.06.94z\"/><path d=\"M17.41 7.96l-1.37-1.37c-.4-.4-.92-.59-1.43-.59-.52 0-1.04.2-1.43.59L10.3 9.45l-7.72 7.72c-.78.78-.78 2.05 0 2.83L4 21.41c.39.39.9.59 1.41.59.51 0 1.02-.2 1.41-.59l7.78-7.78 2.81-2.81c.8-.78.8-2.07 0-2.86zM5.41 20L4 18.59l7.72-7.72 1.47 1.35L5.41 20z\"/>\n",
              "  </svg>\n",
              "      </button>\n",
              "      \n",
              "  <style>\n",
              "    .colab-df-container {\n",
              "      display:flex;\n",
              "      flex-wrap:wrap;\n",
              "      gap: 12px;\n",
              "    }\n",
              "\n",
              "    .colab-df-convert {\n",
              "      background-color: #E8F0FE;\n",
              "      border: none;\n",
              "      border-radius: 50%;\n",
              "      cursor: pointer;\n",
              "      display: none;\n",
              "      fill: #1967D2;\n",
              "      height: 32px;\n",
              "      padding: 0 0 0 0;\n",
              "      width: 32px;\n",
              "    }\n",
              "\n",
              "    .colab-df-convert:hover {\n",
              "      background-color: #E2EBFA;\n",
              "      box-shadow: 0px 1px 2px rgba(60, 64, 67, 0.3), 0px 1px 3px 1px rgba(60, 64, 67, 0.15);\n",
              "      fill: #174EA6;\n",
              "    }\n",
              "\n",
              "    [theme=dark] .colab-df-convert {\n",
              "      background-color: #3B4455;\n",
              "      fill: #D2E3FC;\n",
              "    }\n",
              "\n",
              "    [theme=dark] .colab-df-convert:hover {\n",
              "      background-color: #434B5C;\n",
              "      box-shadow: 0px 1px 3px 1px rgba(0, 0, 0, 0.15);\n",
              "      filter: drop-shadow(0px 1px 2px rgba(0, 0, 0, 0.3));\n",
              "      fill: #FFFFFF;\n",
              "    }\n",
              "  </style>\n",
              "\n",
              "      <script>\n",
              "        const buttonEl =\n",
              "          document.querySelector('#df-14ff4d9d-8424-4c81-8fc1-84cb80b4828e button.colab-df-convert');\n",
              "        buttonEl.style.display =\n",
              "          google.colab.kernel.accessAllowed ? 'block' : 'none';\n",
              "\n",
              "        async function convertToInteractive(key) {\n",
              "          const element = document.querySelector('#df-14ff4d9d-8424-4c81-8fc1-84cb80b4828e');\n",
              "          const dataTable =\n",
              "            await google.colab.kernel.invokeFunction('convertToInteractive',\n",
              "                                                     [key], {});\n",
              "          if (!dataTable) return;\n",
              "\n",
              "          const docLinkHtml = 'Like what you see? Visit the ' +\n",
              "            '<a target=\"_blank\" href=https://colab.research.google.com/notebooks/data_table.ipynb>data table notebook</a>'\n",
              "            + ' to learn more about interactive tables.';\n",
              "          element.innerHTML = '';\n",
              "          dataTable['output_type'] = 'display_data';\n",
              "          await google.colab.output.renderOutput(dataTable, element);\n",
              "          const docLink = document.createElement('div');\n",
              "          docLink.innerHTML = docLinkHtml;\n",
              "          element.appendChild(docLink);\n",
              "        }\n",
              "      </script>\n",
              "    </div>\n",
              "  </div>\n",
              "  "
            ]
          },
          "metadata": {},
          "execution_count": 6
        }
      ],
      "source": [
        "meddra_counts = pd.read_csv(data_save_dir+'/meddra_counts.csv')\n",
        "meddra_counts"
      ]
    },
    {
      "cell_type": "code",
      "execution_count": 7,
      "metadata": {
        "colab": {
          "base_uri": "https://localhost:8080/",
          "height": 423
        },
        "id": "xzc4Zo0PtGii",
        "outputId": "01142baa-8875-4317-a103-e53dcce7eedc"
      },
      "outputs": [
        {
          "output_type": "execute_result",
          "data": {
            "text/plain": [
              "      ner                       meddra  counts_exploded  counts  \\\n",
              "1     ADR                 CONCEPT_LESS             1016     266   \n",
              "2     ADR                  Severe_pain              722     247   \n",
              "3     ADR                      Myalgia              619     305   \n",
              "4     ADR                         Pain              292     260   \n",
              "5     ADR                   Arthralgia              280     163   \n",
              "...   ...                          ...              ...     ...   \n",
              "1268  ADR                Labyrinthitis                1       1   \n",
              "1269  ADR                    Dysphagia                1       1   \n",
              "1275  ADR          Lupus_erythematosus                1       1   \n",
              "1278  ADR                     Cataract                1       1   \n",
              "1283  ADR  Crying_associated_with_mood                1       1   \n",
              "\n",
              "      counts_exploded_rank  \n",
              "1                        2  \n",
              "2                        3  \n",
              "3                        4  \n",
              "4                        5  \n",
              "5                        6  \n",
              "...                    ...  \n",
              "1268                  1233  \n",
              "1269                  1233  \n",
              "1275                  1233  \n",
              "1278                  1233  \n",
              "1283                  1233  \n",
              "\n",
              "[800 rows x 5 columns]"
            ],
            "text/html": [
              "\n",
              "  <div id=\"df-41062d88-f2a5-47be-80e8-c4e585ea6db0\">\n",
              "    <div class=\"colab-df-container\">\n",
              "      <div>\n",
              "<style scoped>\n",
              "    .dataframe tbody tr th:only-of-type {\n",
              "        vertical-align: middle;\n",
              "    }\n",
              "\n",
              "    .dataframe tbody tr th {\n",
              "        vertical-align: top;\n",
              "    }\n",
              "\n",
              "    .dataframe thead th {\n",
              "        text-align: right;\n",
              "    }\n",
              "</style>\n",
              "<table border=\"1\" class=\"dataframe\">\n",
              "  <thead>\n",
              "    <tr style=\"text-align: right;\">\n",
              "      <th></th>\n",
              "      <th>ner</th>\n",
              "      <th>meddra</th>\n",
              "      <th>counts_exploded</th>\n",
              "      <th>counts</th>\n",
              "      <th>counts_exploded_rank</th>\n",
              "    </tr>\n",
              "  </thead>\n",
              "  <tbody>\n",
              "    <tr>\n",
              "      <th>1</th>\n",
              "      <td>ADR</td>\n",
              "      <td>CONCEPT_LESS</td>\n",
              "      <td>1016</td>\n",
              "      <td>266</td>\n",
              "      <td>2</td>\n",
              "    </tr>\n",
              "    <tr>\n",
              "      <th>2</th>\n",
              "      <td>ADR</td>\n",
              "      <td>Severe_pain</td>\n",
              "      <td>722</td>\n",
              "      <td>247</td>\n",
              "      <td>3</td>\n",
              "    </tr>\n",
              "    <tr>\n",
              "      <th>3</th>\n",
              "      <td>ADR</td>\n",
              "      <td>Myalgia</td>\n",
              "      <td>619</td>\n",
              "      <td>305</td>\n",
              "      <td>4</td>\n",
              "    </tr>\n",
              "    <tr>\n",
              "      <th>4</th>\n",
              "      <td>ADR</td>\n",
              "      <td>Pain</td>\n",
              "      <td>292</td>\n",
              "      <td>260</td>\n",
              "      <td>5</td>\n",
              "    </tr>\n",
              "    <tr>\n",
              "      <th>5</th>\n",
              "      <td>ADR</td>\n",
              "      <td>Arthralgia</td>\n",
              "      <td>280</td>\n",
              "      <td>163</td>\n",
              "      <td>6</td>\n",
              "    </tr>\n",
              "    <tr>\n",
              "      <th>...</th>\n",
              "      <td>...</td>\n",
              "      <td>...</td>\n",
              "      <td>...</td>\n",
              "      <td>...</td>\n",
              "      <td>...</td>\n",
              "    </tr>\n",
              "    <tr>\n",
              "      <th>1268</th>\n",
              "      <td>ADR</td>\n",
              "      <td>Labyrinthitis</td>\n",
              "      <td>1</td>\n",
              "      <td>1</td>\n",
              "      <td>1233</td>\n",
              "    </tr>\n",
              "    <tr>\n",
              "      <th>1269</th>\n",
              "      <td>ADR</td>\n",
              "      <td>Dysphagia</td>\n",
              "      <td>1</td>\n",
              "      <td>1</td>\n",
              "      <td>1233</td>\n",
              "    </tr>\n",
              "    <tr>\n",
              "      <th>1275</th>\n",
              "      <td>ADR</td>\n",
              "      <td>Lupus_erythematosus</td>\n",
              "      <td>1</td>\n",
              "      <td>1</td>\n",
              "      <td>1233</td>\n",
              "    </tr>\n",
              "    <tr>\n",
              "      <th>1278</th>\n",
              "      <td>ADR</td>\n",
              "      <td>Cataract</td>\n",
              "      <td>1</td>\n",
              "      <td>1</td>\n",
              "      <td>1233</td>\n",
              "    </tr>\n",
              "    <tr>\n",
              "      <th>1283</th>\n",
              "      <td>ADR</td>\n",
              "      <td>Crying_associated_with_mood</td>\n",
              "      <td>1</td>\n",
              "      <td>1</td>\n",
              "      <td>1233</td>\n",
              "    </tr>\n",
              "  </tbody>\n",
              "</table>\n",
              "<p>800 rows × 5 columns</p>\n",
              "</div>\n",
              "      <button class=\"colab-df-convert\" onclick=\"convertToInteractive('df-41062d88-f2a5-47be-80e8-c4e585ea6db0')\"\n",
              "              title=\"Convert this dataframe to an interactive table.\"\n",
              "              style=\"display:none;\">\n",
              "        \n",
              "  <svg xmlns=\"http://www.w3.org/2000/svg\" height=\"24px\"viewBox=\"0 0 24 24\"\n",
              "       width=\"24px\">\n",
              "    <path d=\"M0 0h24v24H0V0z\" fill=\"none\"/>\n",
              "    <path d=\"M18.56 5.44l.94 2.06.94-2.06 2.06-.94-2.06-.94-.94-2.06-.94 2.06-2.06.94zm-11 1L8.5 8.5l.94-2.06 2.06-.94-2.06-.94L8.5 2.5l-.94 2.06-2.06.94zm10 10l.94 2.06.94-2.06 2.06-.94-2.06-.94-.94-2.06-.94 2.06-2.06.94z\"/><path d=\"M17.41 7.96l-1.37-1.37c-.4-.4-.92-.59-1.43-.59-.52 0-1.04.2-1.43.59L10.3 9.45l-7.72 7.72c-.78.78-.78 2.05 0 2.83L4 21.41c.39.39.9.59 1.41.59.51 0 1.02-.2 1.41-.59l7.78-7.78 2.81-2.81c.8-.78.8-2.07 0-2.86zM5.41 20L4 18.59l7.72-7.72 1.47 1.35L5.41 20z\"/>\n",
              "  </svg>\n",
              "      </button>\n",
              "      \n",
              "  <style>\n",
              "    .colab-df-container {\n",
              "      display:flex;\n",
              "      flex-wrap:wrap;\n",
              "      gap: 12px;\n",
              "    }\n",
              "\n",
              "    .colab-df-convert {\n",
              "      background-color: #E8F0FE;\n",
              "      border: none;\n",
              "      border-radius: 50%;\n",
              "      cursor: pointer;\n",
              "      display: none;\n",
              "      fill: #1967D2;\n",
              "      height: 32px;\n",
              "      padding: 0 0 0 0;\n",
              "      width: 32px;\n",
              "    }\n",
              "\n",
              "    .colab-df-convert:hover {\n",
              "      background-color: #E2EBFA;\n",
              "      box-shadow: 0px 1px 2px rgba(60, 64, 67, 0.3), 0px 1px 3px 1px rgba(60, 64, 67, 0.15);\n",
              "      fill: #174EA6;\n",
              "    }\n",
              "\n",
              "    [theme=dark] .colab-df-convert {\n",
              "      background-color: #3B4455;\n",
              "      fill: #D2E3FC;\n",
              "    }\n",
              "\n",
              "    [theme=dark] .colab-df-convert:hover {\n",
              "      background-color: #434B5C;\n",
              "      box-shadow: 0px 1px 3px 1px rgba(0, 0, 0, 0.15);\n",
              "      filter: drop-shadow(0px 1px 2px rgba(0, 0, 0, 0.3));\n",
              "      fill: #FFFFFF;\n",
              "    }\n",
              "  </style>\n",
              "\n",
              "      <script>\n",
              "        const buttonEl =\n",
              "          document.querySelector('#df-41062d88-f2a5-47be-80e8-c4e585ea6db0 button.colab-df-convert');\n",
              "        buttonEl.style.display =\n",
              "          google.colab.kernel.accessAllowed ? 'block' : 'none';\n",
              "\n",
              "        async function convertToInteractive(key) {\n",
              "          const element = document.querySelector('#df-41062d88-f2a5-47be-80e8-c4e585ea6db0');\n",
              "          const dataTable =\n",
              "            await google.colab.kernel.invokeFunction('convertToInteractive',\n",
              "                                                     [key], {});\n",
              "          if (!dataTable) return;\n",
              "\n",
              "          const docLinkHtml = 'Like what you see? Visit the ' +\n",
              "            '<a target=\"_blank\" href=https://colab.research.google.com/notebooks/data_table.ipynb>data table notebook</a>'\n",
              "            + ' to learn more about interactive tables.';\n",
              "          element.innerHTML = '';\n",
              "          dataTable['output_type'] = 'display_data';\n",
              "          await google.colab.output.renderOutput(dataTable, element);\n",
              "          const docLink = document.createElement('div');\n",
              "          docLink.innerHTML = docLinkHtml;\n",
              "          element.appendChild(docLink);\n",
              "        }\n",
              "      </script>\n",
              "    </div>\n",
              "  </div>\n",
              "  "
            ]
          },
          "metadata": {},
          "execution_count": 7
        }
      ],
      "source": [
        "meddra_counts.loc[meddra_counts.ner == 'ADR',:]"
      ]
    },
    {
      "cell_type": "code",
      "execution_count": 8,
      "metadata": {
        "colab": {
          "base_uri": "https://localhost:8080/"
        },
        "id": "hAGPini7tGii",
        "outputId": "a74e8572-609c-4c60-9757-39747187bbbd"
      },
      "outputs": [
        {
          "output_type": "execute_result",
          "data": {
            "text/plain": [
              "[Sentence[117]: \"i feel a bit drowsy & have a little blurred vision , so far no gastric problems . ive been on arthrotec 50 for over 10 years on and off , only taking it when i needed it . due to my arthritis getting progressively worse , to the point where i am in tears with the agony , gp ' s started me on 75 twice a day and i have to take it . every day for the next month to see how i get on , here goes . so far its been very good , pains almost gone , but i feel a bit weird , didnt have that when on 50 .\" → [\"i\"/O/O, \"feel\"/O/O, \"a\"/O/O, \"bit\"/B-ADR/B-Drowsy, \"drowsy\"/E-ADR/E-Drowsy, \"&\"/O/O, \"have\"/O/O, \"a\"/O/O, \"little\"/B-ADR/B-Blurred_vision_-_hazy, \"blurred\"/I-ADR/I-Blurred_vision_-_hazy, \"vision\"/E-ADR/E-Blurred_vision_-_hazy, \",\"/O/O, \"so\"/O/O, \"far\"/O/O, \"no\"/O/O, \"gastric\"/B-ADR/B-Excessive_upper_gastrointestinal_gas, \"problems\"/E-ADR/E-Excessive_upper_gastrointestinal_gas, \".\"/O/O, \"ive\"/O/O, \"been\"/O/O, \"on\"/O/O, \"arthrotec\"/B-Drug/B-Arthrotec, \"50\"/O/O, \"for\"/O/O, \"over\"/O/O, \"10\"/O/O, \"years\"/O/O, \"on\"/O/O, \"and\"/O/O, \"off\"/O/O, \",\"/O/O, \"only\"/O/O, \"taking\"/O/O, \"it\"/O/O, \"when\"/O/O, \"i\"/O/O, \"needed\"/O/O, \"it\"/O/O, \".\"/O/O, \"due\"/O/O, \"to\"/O/O, \"my\"/O/O, \"arthritis\"/B-Disease/B-Arthritis, \"getting\"/O/O, \"progressively\"/O/O, \"worse\"/O/O, \",\"/O/O, \"to\"/O/O, \"the\"/O/O, \"point\"/O/O, \"where\"/O/O, \"i\"/O/O, \"am\"/O/O, \"in\"/O/O, \"tears\"/O/O, \"with\"/O/O, \"the\"/O/O, \"agony\"/B-Symptom/B-Agony, \",\"/O/O, \"gp\"/O/O, \"'\"/O/O, \"s\"/O/O, \"started\"/O/O, \"me\"/O/O, \"on\"/O/O, \"75\"/O/O, \"twice\"/O/O, \"a\"/O/O, \"day\"/O/O, \"and\"/O/O, \"i\"/O/O, \"have\"/O/O, \"to\"/O/O, \"take\"/O/O, \"it\"/O/O, \".\"/O/O, \"every\"/O/O, \"day\"/O/O, \"for\"/O/O, \"the\"/O/O, \"next\"/O/O, \"month\"/O/O, \"to\"/O/O, \"see\"/O/O, \"how\"/O/O, \"i\"/O/O, \"get\"/O/O, \"on\"/O/O, \",\"/O/O, \"here\"/O/O, \"goes\"/O/O, \".\"/O/O, \"so\"/O/O, \"far\"/O/O, \"its\"/O/O, \"been\"/O/O, \"very\"/O/O, \"good\"/O/O, \",\"/O/O, \"pains\"/B-Symptom/B-Pain, \"almost\"/O/O, \"gone\"/O/O, \",\"/O/O, \"but\"/O/O, \"i\"/O/O, \"feel\"/B-ADR/B-Malaise, \"a\"/I-ADR/I-Malaise, \"bit\"/I-ADR/I-Malaise, \"weird\"/E-ADR/E-Malaise, \",\"/O/O, \"didnt\"/O/O, \"have\"/O/O, \"that\"/O/O, \"when\"/O/O, \"on\"/O/O, \"50\"/O/O, \".\"/O/O],\n",
              " Sentence[39]: \"hunger pangs . brilliant , i have a new lease of life , i walk up & down steps properly , no longer sideways like a toddler , hip pain as gone other than if i jar it .\" → [\"hunger\"/B-ADR/B-Hunger_pain, \"pangs\"/E-ADR/E-Hunger_pain, \".\"/O/O, \"brilliant\"/O/O, \",\"/O/O, \"i\"/O/O, \"have\"/O/O, \"a\"/O/O, \"new\"/O/O, \"lease\"/O/O, \"of\"/O/O, \"life\"/O/O, \",\"/O/O, \"i\"/O/O, \"walk\"/B-Symptom/B-CONCEPT_LESS, \"up\"/I-Symptom/I-CONCEPT_LESS, \"&\"/I-Symptom/I-CONCEPT_LESS, \"down\"/I-Symptom/I-CONCEPT_LESS, \"steps\"/I-Symptom/I-CONCEPT_LESS, \"properly\"/O/O, \",\"/O/O, \"no\"/O/O, \"longer\"/O/O, \"sideways\"/E-Symptom/E-CONCEPT_LESS, \"like\"/O/O, \"a\"/O/O, \"toddler\"/O/O, \",\"/O/O, \"hip\"/B-Symptom/B-Hip_pain, \"pain\"/E-Symptom/E-Hip_pain, \"as\"/O/O, \"gone\"/O/O, \"other\"/O/O, \"than\"/O/O, \"if\"/O/O, \"i\"/O/O, \"jar\"/O/O, \"it\"/O/O, \".\"/O/O],\n",
              " Sentence[51]: \"no side effects for the first two months . then vaginal bleeding 2 wks after menstral cycle . stomach pain . canker sores in my mouth . headache . been off for 1 week still have bleeding . helped my pain alot . too scared to take this drug again .\" → [\"no\"/O/O, \"side\"/O/O, \"effects\"/O/O, \"for\"/O/O, \"the\"/O/O, \"first\"/O/O, \"two\"/O/O, \"months\"/O/O, \".\"/O/O, \"then\"/O/O, \"vaginal\"/B-ADR/B-Vaginal_bleeding, \"bleeding\"/E-ADR/E-Vaginal_bleeding, \"2\"/O/O, \"wks\"/O/O, \"after\"/O/O, \"menstral\"/O/O, \"cycle\"/O/O, \".\"/O/O, \"stomach\"/B-ADR/B-Stomach_ache, \"pain\"/E-ADR/E-Stomach_ache, \".\"/O/O, \"canker\"/B-ADR/B-Aphthous_ulcer, \"sores\"/E-ADR/E-Aphthous_ulcer, \"in\"/O/O, \"my\"/O/O, \"mouth\"/O/O, \".\"/O/O, \"headache\"/B-ADR/B-Headache, \".\"/O/O, \"been\"/O/O, \"off\"/O/O, \"for\"/O/O, \"1\"/O/O, \"week\"/O/O, \"still\"/O/O, \"have\"/O/O, \"bleeding\"/O/O, \".\"/O/O, \"helped\"/O/O, \"my\"/O/O, \"pain\"/B-Symptom/B-Pain, \"alot\"/O/O, \".\"/O/O, \"too\"/O/O, \"scared\"/O/O, \"to\"/O/O, \"take\"/O/O, \"this\"/O/O, \"drug\"/O/O, \"again\"/O/O, \".\"/O/O],\n",
              " Sentence[68]: \"1st pill taken with food , a few hours after i experienced shortness of breath , a sense of depression , cramping , upset stomache will stop taking immediately . honestly can not recommend this drug , i am still experiencing side effects just after 1 pill and im supposed to take twice / day 75mg . i just cant keep going have to try something else .\" → [\"1st\"/O/O, \"pill\"/O/O, \"taken\"/O/O, \"with\"/O/O, \"food\"/O/O, \",\"/O/O, \"a\"/O/O, \"few\"/O/O, \"hours\"/O/O, \"after\"/O/O, \"i\"/O/O, \"experienced\"/O/O, \"shortness\"/B-ADR/B-Dyspnoea, \"of\"/I-ADR/I-Dyspnoea, \"breath\"/E-ADR/E-Dyspnoea, \",\"/O/O, \"a\"/O/O, \"sense\"/O/O, \"of\"/O/O, \"depression\"/B-ADR/B-Depression, \",\"/O/O, \"cramping\"/B-ADR/B-Muscle_cramp, \",\"/O/O, \"upset\"/B-ADR/B-Upset_stomach, \"stomache\"/E-ADR/E-Upset_stomach, \"will\"/O/O, \"stop\"/O/O, \"taking\"/O/O, \"immediately\"/O/O, \".\"/O/O, \"honestly\"/O/O, \"can\"/O/O, \"not\"/O/O, \"recommend\"/O/O, \"this\"/O/O, \"drug\"/O/O, \",\"/O/O, \"i\"/O/O, \"am\"/O/O, \"still\"/O/O, \"experiencing\"/O/O, \"side\"/O/O, \"effects\"/O/O, \"just\"/O/O, \"after\"/O/O, \"1\"/O/O, \"pill\"/O/O, \"and\"/O/O, \"im\"/O/O, \"supposed\"/O/O, \"to\"/O/O, \"take\"/O/O, \"twice\"/O/O, \"/\"/O/O, \"day\"/O/O, \"75mg\"/O/O, \".\"/O/O, \"i\"/O/O, \"just\"/O/O, \"cant\"/O/O, \"keep\"/O/O, \"going\"/O/O, \"have\"/O/O, \"to\"/O/O, \"try\"/O/O, \"something\"/O/O, \"else\"/O/O, \".\"/O/O],\n",
              " Sentence[50]: \"i have had no side effects been taking arthrotec a little over a year , have not noticed any side effects . it does help alot i noticed that when there are times when i forget to take it i cant stand or walk for any lengths of time .\" → [\"i\"/O/O, \"have\"/O/O, \"had\"/O/O, \"no\"/O/O, \"side\"/O/O, \"effects\"/O/O, \"been\"/O/O, \"taking\"/O/O, \"arthrotec\"/B-Drug/B-Arthrotec, \"a\"/O/O, \"little\"/O/O, \"over\"/O/O, \"a\"/O/O, \"year\"/O/O, \",\"/O/O, \"have\"/O/O, \"not\"/O/O, \"noticed\"/O/O, \"any\"/O/O, \"side\"/O/O, \"effects\"/O/O, \".\"/O/O, \"it\"/O/O, \"does\"/O/O, \"help\"/O/O, \"alot\"/O/O, \"i\"/O/O, \"noticed\"/O/O, \"that\"/O/O, \"when\"/O/O, \"there\"/O/O, \"are\"/O/O, \"times\"/O/O, \"when\"/O/O, \"i\"/O/O, \"forget\"/O/O, \"to\"/O/O, \"take\"/O/O, \"it\"/O/O, \"i\"/B-Symptom/B-Reduced_mobility, \"cant\"/I-Symptom/I-Reduced_mobility, \"stand\"/I-Symptom/I-Reduced_mobility, \"or\"/I-Symptom/I-Reduced_mobility, \"walk\"/I-Symptom/I-Reduced_mobility, \"for\"/I-Symptom/I-Reduced_mobility, \"any\"/I-Symptom/I-Reduced_mobility, \"lengths\"/I-Symptom/I-Reduced_mobility, \"of\"/I-Symptom/I-Reduced_mobility, \"time\"/E-Symptom/E-Reduced_mobility, \".\"/O/O],\n",
              " Sentence[89]: \"it seems as if bleeding forever is a side effect but doctors tell you that its not the drug . i have been on arthotec for three months i still have pain and stiffness . at first week into this drug i was in so much pain i sat on the floor at work and thought i was gaving a baby . i always feel weak and almost fainted a bunch of times . consider somthing that works i am switching today as this isnt in my head .\" → [\"it\"/O/O, \"seems\"/O/O, \"as\"/O/O, \"if\"/O/O, \"bleeding\"/B-ADR/B-Bleeding, \"forever\"/O/O, \"is\"/O/O, \"a\"/O/O, \"side\"/O/O, \"effect\"/O/O, \"but\"/O/O, \"doctors\"/O/O, \"tell\"/O/O, \"you\"/O/O, \"that\"/O/O, \"its\"/O/O, \"not\"/O/O, \"the\"/O/O, \"drug\"/O/O, \".\"/O/O, \"i\"/O/O, \"have\"/O/O, \"been\"/O/O, \"on\"/O/O, \"arthotec\"/B-Drug/B-Arthrotec, \"for\"/O/O, \"three\"/O/O, \"months\"/O/O, \"i\"/O/O, \"still\"/O/O, \"have\"/O/O, \"pain\"/B-Symptom/B-Pain, \"and\"/I-Symptom/I-Pain, \"stiffness\"/E-Symptom/E-Pain, \".\"/O/O, \"at\"/O/O, \"first\"/O/O, \"week\"/O/O, \"into\"/O/O, \"this\"/O/O, \"drug\"/O/O, \"i\"/O/O, \"was\"/O/O, \"in\"/O/O, \"so\"/B-ADR/B-Pain, \"much\"/I-ADR/I-Pain, \"pain\"/E-ADR/E-Pain, \"i\"/O/O, \"sat\"/O/O, \"on\"/O/O, \"the\"/O/O, \"floor\"/O/O, \"at\"/O/O, \"work\"/O/O, \"and\"/O/O, \"thought\"/O/O, \"i\"/O/O, \"was\"/O/O, \"gaving\"/O/O, \"a\"/O/O, \"baby\"/O/O, \".\"/O/O, \"i\"/O/O, \"always\"/O/O, \"feel\"/B-ADR/B-Malaise_and_fatigue, \"weak\"/I-ADR/I-Malaise_and_fatigue, \"and\"/I-ADR/I-Malaise_and_fatigue, \"almost\"/I-ADR/I-Malaise_and_fatigue, \"fainted\"/E-ADR/E-Malaise_and_fatigue, \"a\"/O/O, \"bunch\"/O/O, \"of\"/O/O, \"times\"/O/O, \".\"/O/O, \"consider\"/O/O, \"somthing\"/O/O, \"that\"/O/O, \"works\"/O/O, \"i\"/O/O, \"am\"/O/O, \"switching\"/O/O, \"today\"/O/O, \"as\"/O/O, \"this\"/O/O, \"isnt\"/O/O, \"in\"/O/O, \"my\"/O/O, \"head\"/O/O, \".\"/O/O],\n",
              " Sentence[56]: \"some diarrhea , some constipation , fatigue . it works very well for the heel ; i couldnt walk on it very well before taking it . i take 75mg . twice a day . also have severe osteoarthritis in the knees and hands , but it doesnt seem to relieve that pain at all .\" → [\"some\"/O/O, \"diarrhea\"/B-ADR/B-Diarrhoea, \",\"/O/O, \"some\"/O/O, \"constipation\"/B-ADR/B-Constipation, \",\"/O/O, \"fatigue\"/B-ADR/B-Fatigue, \".\"/O/O, \"it\"/O/O, \"works\"/O/O, \"very\"/O/O, \"well\"/O/O, \"for\"/O/O, \"the\"/B-Symptom/B-Walking_disability, \"heel\"/I-Symptom/I-Walking_disability, \";\"/O/O, \"i\"/I-Symptom/I-Walking_disability, \"couldnt\"/I-Symptom/I-Walking_disability, \"walk\"/I-Symptom/I-Walking_disability, \"on\"/I-Symptom/I-Walking_disability, \"it\"/O/O, \"very\"/I-Symptom/I-Walking_disability, \"well\"/E-Symptom/E-Walking_disability, \"before\"/O/O, \"taking\"/O/O, \"it\"/O/O, \".\"/O/O, \"i\"/O/O, \"take\"/O/O, \"75mg\"/O/O, \".\"/O/O, \"twice\"/O/O, \"a\"/O/O, \"day\"/O/O, \".\"/O/O, \"also\"/O/O, \"have\"/O/O, \"severe\"/B-Disease/B-Osteoarthritis_of_knee/B-Osteoarthrosis_of_hand, \"osteoarthritis\"/I-Disease/I-Osteoarthritis_of_knee/I-Osteoarthrosis_of_hand, \"in\"/I-Disease/I-Osteoarthritis_of_knee/I-Osteoarthrosis_of_hand, \"the\"/I-Disease/I-Osteoarthritis_of_knee/I-Osteoarthrosis_of_hand, \"knees\"/E-Disease/E-Osteoarthritis_of_knee, \"and\"/O/O, \"hands\"/E-Disease/E-Osteoarthrosis_of_hand, \",\"/O/O, \"but\"/O/O, \"it\"/O/O, \"doesnt\"/O/O, \"seem\"/O/O, \"to\"/O/O, \"relieve\"/O/O, \"that\"/O/O, \"pain\"/B-Symptom/B-Pain, \"at\"/O/O, \"all\"/O/O, \".\"/O/O],\n",
              " Sentence[84]: \"ive been on 75mg twice daily for 13 days , with recent body swelling , face , wrists , abdomen , thighs - clothes fit tight . insomina is much worse . i have forgetfulnes and confussion - really bad - almost dangerous . have felt \" empty stomach \" feeling , but not bothersome . have had more loose stools , but tolerable . im looking for a more natural therapy , checking into ha ( hyaluronic acid ) to replace arthrotec .\" → [\"ive\"/O/O, \"been\"/O/O, \"on\"/O/O, \"75mg\"/O/O, \"twice\"/O/O, \"daily\"/O/O, \"for\"/O/O, \"13\"/O/O, \"days\"/O/O, \",\"/O/O, \"with\"/O/O, \"recent\"/O/O, \"body\"/B-ADR/B-Swelling_of_body_region, \"swelling\"/B-ADR/E-ADR/B-Abdominal_swelling/B-Facial_swelling/E-Swelling_of_body_region/B-Swelling_of_lower_limb/B-Swelling_of_wrist_joint, \",\"/O/O, \"face\"/E-ADR/E-Facial_swelling, \",\"/O/O, \"wrists\"/E-ADR/E-Swelling_of_wrist_joint, \",\"/O/O, \"abdomen\"/E-ADR/E-Abdominal_swelling, \",\"/O/O, \"thighs\"/E-ADR/E-Swelling_of_lower_limb, \"-\"/O/O, \"clothes\"/O/O, \"fit\"/O/O, \"tight\"/O/O, \".\"/O/O, \"insomina\"/B-ADR/B-Insomnia, \"is\"/O/O, \"much\"/O/O, \"worse\"/O/O, \".\"/O/O, \"i\"/O/O, \"have\"/O/O, \"forgetfulnes\"/B-ADR/B-Forgetful, \"and\"/I-ADR/I-Forgetful, \"confussion\"/E-ADR/E-Forgetful, \"-\"/O/O, \"really\"/O/O, \"bad\"/O/O, \"-\"/O/O, \"almost\"/O/O, \"dangerous\"/O/O, \".\"/O/O, \"have\"/O/O, \"felt\"/O/O, \"\"\"/B-ADR/B-Feeling_empty, \"empty\"/I-ADR/I-Feeling_empty, \"stomach\"/I-ADR/I-Feeling_empty, \"\"\"/I-ADR/I-Feeling_empty, \"feeling\"/E-ADR/E-Feeling_empty, \",\"/O/O, \"but\"/O/O, \"not\"/O/O, \"bothersome\"/O/O, \".\"/O/O, \"have\"/O/O, \"had\"/O/O, \"more\"/O/O, \"loose\"/B-ADR/B-Loose_stool, \"stools\"/E-ADR/E-Loose_stool, \",\"/O/O, \"but\"/O/O, \"tolerable\"/O/O, \".\"/O/O, \"im\"/O/O, \"looking\"/O/O, \"for\"/O/O, \"a\"/O/O, \"more\"/O/O, \"natural\"/O/O, \"therapy\"/O/O, \",\"/O/O, \"checking\"/O/O, \"into\"/O/O, \"ha\"/B-Drug/B-CONCEPT_LESS, \"(\"/I-Drug/I-CONCEPT_LESS, \"hyaluronic\"/I-Drug/I-CONCEPT_LESS, \"acid\"/I-Drug/I-CONCEPT_LESS, \")\"/E-Drug/E-CONCEPT_LESS, \"to\"/O/O, \"replace\"/O/O, \"arthrotec\"/B-Drug/B-Arthrotec, \".\"/O/O],\n",
              " Sentence[68]: \"none that i can think of . i recently had bilateral knee replacement . prior to that , arthrotec was the only drug that helped . i tried every drug on the market , but , to no avail . i took 50 mg . 3 times a day of arthrotec and was almost pain free . i highly recommend it to anyone that suffers from arthritis .\" → [\"none\"/O/O, \"that\"/O/O, \"i\"/O/O, \"can\"/O/O, \"think\"/O/O, \"of\"/O/O, \".\"/O/O, \"i\"/O/O, \"recently\"/O/O, \"had\"/O/O, \"bilateral\"/O/O, \"knee\"/O/O, \"replacement\"/O/O, \".\"/O/O, \"prior\"/O/O, \"to\"/O/O, \"that\"/O/O, \",\"/O/O, \"arthrotec\"/B-Drug/B-Arthrotec, \"was\"/O/O, \"the\"/O/O, \"only\"/O/O, \"drug\"/O/O, \"that\"/O/O, \"helped\"/O/O, \".\"/O/O, \"i\"/O/O, \"tried\"/O/O, \"every\"/O/O, \"drug\"/O/O, \"on\"/O/O, \"the\"/O/O, \"market\"/O/O, \",\"/O/O, \"but\"/O/O, \",\"/O/O, \"to\"/O/O, \"no\"/O/O, \"avail\"/O/O, \".\"/O/O, \"i\"/O/O, \"took\"/O/O, \"50\"/O/O, \"mg\"/O/O, \".\"/O/O, \"3\"/O/O, \"times\"/O/O, \"a\"/O/O, \"day\"/O/O, \"of\"/O/O, \"arthrotec\"/B-Drug/B-Arthrotec, \"and\"/O/O, \"was\"/O/O, \"almost\"/O/O, \"pain\"/B-Symptom/B-Pain, \"free\"/O/O, \".\"/O/O, \"i\"/O/O, \"highly\"/O/O, \"recommend\"/O/O, \"it\"/O/O, \"to\"/O/O, \"anyone\"/O/O, \"that\"/O/O, \"suffers\"/O/O, \"from\"/O/O, \"arthritis\"/B-Finding/B-Arthritis, \".\"/O/O],\n",
              " Sentence[28]: \"hospitalization due extreme rectal bleed that required blood transfusion . i was extremely sick and initially felt i might not survive . should be removed from market .\" → [\"hospitalization\"/O/O, \"due\"/O/O, \"extreme\"/O/O, \"rectal\"/B-ADR/B-Rectal_haemorrhage, \"bleed\"/E-ADR/E-Rectal_haemorrhage, \"that\"/O/O, \"required\"/O/O, \"blood\"/O/O, \"transfusion\"/O/O, \".\"/O/O, \"i\"/O/O, \"was\"/O/O, \"extremely\"/B-ADR/B-Generally_unwell, \"sick\"/E-ADR/E-Generally_unwell, \"and\"/O/O, \"initially\"/O/O, \"felt\"/B-ADR/B-CONCEPT_LESS, \"i\"/I-ADR/I-CONCEPT_LESS, \"might\"/I-ADR/I-CONCEPT_LESS, \"not\"/I-ADR/I-CONCEPT_LESS, \"survive\"/E-ADR/E-CONCEPT_LESS, \".\"/O/O, \"should\"/O/O, \"be\"/O/O, \"removed\"/O/O, \"from\"/O/O, \"market\"/O/O, \".\"/O/O]]"
            ]
          },
          "metadata": {},
          "execution_count": 8
        }
      ],
      "source": [
        "with open(data_save_dir+'/cadec_flair_objects.pkl', 'rb') as f:\n",
        "    docs = pickle.load(f)\n",
        "docs[:10]"
      ]
    },
    {
      "cell_type": "code",
      "execution_count": 9,
      "metadata": {
        "colab": {
          "base_uri": "https://localhost:8080/"
        },
        "id": "sW10pPAPtGij",
        "outputId": "19cf697a-9d09-4ceb-cc80-f2be36fac686"
      },
      "outputs": [
        {
          "output_type": "execute_result",
          "data": {
            "text/plain": [
              "1186"
            ]
          },
          "metadata": {},
          "execution_count": 9
        }
      ],
      "source": [
        "len(docs)"
      ]
    },
    {
      "cell_type": "code",
      "execution_count": 10,
      "metadata": {
        "colab": {
          "base_uri": "https://localhost:8080/"
        },
        "id": "EMT5TsNStGij",
        "outputId": "7b7e6c03-7079-4d95-8c08-5747fc728457"
      },
      "outputs": [
        {
          "output_type": "execute_result",
          "data": {
            "text/plain": [
              "Sentence[117]: \"i feel a bit drowsy & have a little blurred vision , so far no gastric problems . ive been on arthrotec 50 for over 10 years on and off , only taking it when i needed it . due to my arthritis getting progressively worse , to the point where i am in tears with the agony , gp ' s started me on 75 twice a day and i have to take it . every day for the next month to see how i get on , here goes . so far its been very good , pains almost gone , but i feel a bit weird , didnt have that when on 50 .\" → [\"i\"/O/O, \"feel\"/O/O, \"a\"/O/O, \"bit\"/B-ADR/B-Drowsy, \"drowsy\"/E-ADR/E-Drowsy, \"&\"/O/O, \"have\"/O/O, \"a\"/O/O, \"little\"/B-ADR/B-Blurred_vision_-_hazy, \"blurred\"/I-ADR/I-Blurred_vision_-_hazy, \"vision\"/E-ADR/E-Blurred_vision_-_hazy, \",\"/O/O, \"so\"/O/O, \"far\"/O/O, \"no\"/O/O, \"gastric\"/B-ADR/B-Excessive_upper_gastrointestinal_gas, \"problems\"/E-ADR/E-Excessive_upper_gastrointestinal_gas, \".\"/O/O, \"ive\"/O/O, \"been\"/O/O, \"on\"/O/O, \"arthrotec\"/B-Drug/B-Arthrotec, \"50\"/O/O, \"for\"/O/O, \"over\"/O/O, \"10\"/O/O, \"years\"/O/O, \"on\"/O/O, \"and\"/O/O, \"off\"/O/O, \",\"/O/O, \"only\"/O/O, \"taking\"/O/O, \"it\"/O/O, \"when\"/O/O, \"i\"/O/O, \"needed\"/O/O, \"it\"/O/O, \".\"/O/O, \"due\"/O/O, \"to\"/O/O, \"my\"/O/O, \"arthritis\"/B-Disease/B-Arthritis, \"getting\"/O/O, \"progressively\"/O/O, \"worse\"/O/O, \",\"/O/O, \"to\"/O/O, \"the\"/O/O, \"point\"/O/O, \"where\"/O/O, \"i\"/O/O, \"am\"/O/O, \"in\"/O/O, \"tears\"/O/O, \"with\"/O/O, \"the\"/O/O, \"agony\"/B-Symptom/B-Agony, \",\"/O/O, \"gp\"/O/O, \"'\"/O/O, \"s\"/O/O, \"started\"/O/O, \"me\"/O/O, \"on\"/O/O, \"75\"/O/O, \"twice\"/O/O, \"a\"/O/O, \"day\"/O/O, \"and\"/O/O, \"i\"/O/O, \"have\"/O/O, \"to\"/O/O, \"take\"/O/O, \"it\"/O/O, \".\"/O/O, \"every\"/O/O, \"day\"/O/O, \"for\"/O/O, \"the\"/O/O, \"next\"/O/O, \"month\"/O/O, \"to\"/O/O, \"see\"/O/O, \"how\"/O/O, \"i\"/O/O, \"get\"/O/O, \"on\"/O/O, \",\"/O/O, \"here\"/O/O, \"goes\"/O/O, \".\"/O/O, \"so\"/O/O, \"far\"/O/O, \"its\"/O/O, \"been\"/O/O, \"very\"/O/O, \"good\"/O/O, \",\"/O/O, \"pains\"/B-Symptom/B-Pain, \"almost\"/O/O, \"gone\"/O/O, \",\"/O/O, \"but\"/O/O, \"i\"/O/O, \"feel\"/B-ADR/B-Malaise, \"a\"/I-ADR/I-Malaise, \"bit\"/I-ADR/I-Malaise, \"weird\"/E-ADR/E-Malaise, \",\"/O/O, \"didnt\"/O/O, \"have\"/O/O, \"that\"/O/O, \"when\"/O/O, \"on\"/O/O, \"50\"/O/O, \".\"/O/O]"
            ]
          },
          "metadata": {},
          "execution_count": 10
        }
      ],
      "source": [
        "temp = docs[0]\n",
        "temp"
      ]
    },
    {
      "cell_type": "code",
      "execution_count": 11,
      "metadata": {
        "colab": {
          "base_uri": "https://localhost:8080/"
        },
        "id": "2EeTdfHstGij",
        "outputId": "50a8db81-41c0-42d9-ca5e-31eeeb7ea3ad"
      },
      "outputs": [
        {
          "output_type": "execute_result",
          "data": {
            "text/plain": [
              "{'ner': ['Token[0]: \"i\"'/'O' (1.0),\n",
              "  'Token[1]: \"feel\"'/'O' (1.0),\n",
              "  'Token[2]: \"a\"'/'O' (1.0),\n",
              "  'Token[3]: \"bit\"'/'B-ADR' (1.0),\n",
              "  'Token[4]: \"drowsy\"'/'E-ADR' (1.0),\n",
              "  'Token[5]: \"&\"'/'O' (1.0),\n",
              "  'Token[6]: \"have\"'/'O' (1.0),\n",
              "  'Token[7]: \"a\"'/'O' (1.0),\n",
              "  'Token[8]: \"little\"'/'B-ADR' (1.0),\n",
              "  'Token[9]: \"blurred\"'/'I-ADR' (1.0),\n",
              "  'Token[10]: \"vision\"'/'E-ADR' (1.0),\n",
              "  'Token[11]: \",\"'/'O' (1.0),\n",
              "  'Token[12]: \"so\"'/'O' (1.0),\n",
              "  'Token[13]: \"far\"'/'O' (1.0),\n",
              "  'Token[14]: \"no\"'/'O' (1.0),\n",
              "  'Token[15]: \"gastric\"'/'B-ADR' (1.0),\n",
              "  'Token[16]: \"problems\"'/'E-ADR' (1.0),\n",
              "  'Token[17]: \".\"'/'O' (1.0),\n",
              "  'Token[18]: \"ive\"'/'O' (1.0),\n",
              "  'Token[19]: \"been\"'/'O' (1.0),\n",
              "  'Token[20]: \"on\"'/'O' (1.0),\n",
              "  'Token[21]: \"arthrotec\"'/'B-Drug' (1.0),\n",
              "  'Token[22]: \"50\"'/'O' (1.0),\n",
              "  'Token[23]: \"for\"'/'O' (1.0),\n",
              "  'Token[24]: \"over\"'/'O' (1.0),\n",
              "  'Token[25]: \"10\"'/'O' (1.0),\n",
              "  'Token[26]: \"years\"'/'O' (1.0),\n",
              "  'Token[27]: \"on\"'/'O' (1.0),\n",
              "  'Token[28]: \"and\"'/'O' (1.0),\n",
              "  'Token[29]: \"off\"'/'O' (1.0),\n",
              "  'Token[30]: \",\"'/'O' (1.0),\n",
              "  'Token[31]: \"only\"'/'O' (1.0),\n",
              "  'Token[32]: \"taking\"'/'O' (1.0),\n",
              "  'Token[33]: \"it\"'/'O' (1.0),\n",
              "  'Token[34]: \"when\"'/'O' (1.0),\n",
              "  'Token[35]: \"i\"'/'O' (1.0),\n",
              "  'Token[36]: \"needed\"'/'O' (1.0),\n",
              "  'Token[37]: \"it\"'/'O' (1.0),\n",
              "  'Token[38]: \".\"'/'O' (1.0),\n",
              "  'Token[39]: \"due\"'/'O' (1.0),\n",
              "  'Token[40]: \"to\"'/'O' (1.0),\n",
              "  'Token[41]: \"my\"'/'O' (1.0),\n",
              "  'Token[42]: \"arthritis\"'/'B-Disease' (1.0),\n",
              "  'Token[43]: \"getting\"'/'O' (1.0),\n",
              "  'Token[44]: \"progressively\"'/'O' (1.0),\n",
              "  'Token[45]: \"worse\"'/'O' (1.0),\n",
              "  'Token[46]: \",\"'/'O' (1.0),\n",
              "  'Token[47]: \"to\"'/'O' (1.0),\n",
              "  'Token[48]: \"the\"'/'O' (1.0),\n",
              "  'Token[49]: \"point\"'/'O' (1.0),\n",
              "  'Token[50]: \"where\"'/'O' (1.0),\n",
              "  'Token[51]: \"i\"'/'O' (1.0),\n",
              "  'Token[52]: \"am\"'/'O' (1.0),\n",
              "  'Token[53]: \"in\"'/'O' (1.0),\n",
              "  'Token[54]: \"tears\"'/'O' (1.0),\n",
              "  'Token[55]: \"with\"'/'O' (1.0),\n",
              "  'Token[56]: \"the\"'/'O' (1.0),\n",
              "  'Token[57]: \"agony\"'/'B-Symptom' (1.0),\n",
              "  'Token[58]: \",\"'/'O' (1.0),\n",
              "  'Token[59]: \"gp\"'/'O' (1.0),\n",
              "  'Token[60]: \"'\"'/'O' (1.0),\n",
              "  'Token[61]: \"s\"'/'O' (1.0),\n",
              "  'Token[62]: \"started\"'/'O' (1.0),\n",
              "  'Token[63]: \"me\"'/'O' (1.0),\n",
              "  'Token[64]: \"on\"'/'O' (1.0),\n",
              "  'Token[65]: \"75\"'/'O' (1.0),\n",
              "  'Token[66]: \"twice\"'/'O' (1.0),\n",
              "  'Token[67]: \"a\"'/'O' (1.0),\n",
              "  'Token[68]: \"day\"'/'O' (1.0),\n",
              "  'Token[69]: \"and\"'/'O' (1.0),\n",
              "  'Token[70]: \"i\"'/'O' (1.0),\n",
              "  'Token[71]: \"have\"'/'O' (1.0),\n",
              "  'Token[72]: \"to\"'/'O' (1.0),\n",
              "  'Token[73]: \"take\"'/'O' (1.0),\n",
              "  'Token[74]: \"it\"'/'O' (1.0),\n",
              "  'Token[75]: \".\"'/'O' (1.0),\n",
              "  'Token[76]: \"every\"'/'O' (1.0),\n",
              "  'Token[77]: \"day\"'/'O' (1.0),\n",
              "  'Token[78]: \"for\"'/'O' (1.0),\n",
              "  'Token[79]: \"the\"'/'O' (1.0),\n",
              "  'Token[80]: \"next\"'/'O' (1.0),\n",
              "  'Token[81]: \"month\"'/'O' (1.0),\n",
              "  'Token[82]: \"to\"'/'O' (1.0),\n",
              "  'Token[83]: \"see\"'/'O' (1.0),\n",
              "  'Token[84]: \"how\"'/'O' (1.0),\n",
              "  'Token[85]: \"i\"'/'O' (1.0),\n",
              "  'Token[86]: \"get\"'/'O' (1.0),\n",
              "  'Token[87]: \"on\"'/'O' (1.0),\n",
              "  'Token[88]: \",\"'/'O' (1.0),\n",
              "  'Token[89]: \"here\"'/'O' (1.0),\n",
              "  'Token[90]: \"goes\"'/'O' (1.0),\n",
              "  'Token[91]: \".\"'/'O' (1.0),\n",
              "  'Token[92]: \"so\"'/'O' (1.0),\n",
              "  'Token[93]: \"far\"'/'O' (1.0),\n",
              "  'Token[94]: \"its\"'/'O' (1.0),\n",
              "  'Token[95]: \"been\"'/'O' (1.0),\n",
              "  'Token[96]: \"very\"'/'O' (1.0),\n",
              "  'Token[97]: \"good\"'/'O' (1.0),\n",
              "  'Token[98]: \",\"'/'O' (1.0),\n",
              "  'Token[99]: \"pains\"'/'B-Symptom' (1.0),\n",
              "  'Token[100]: \"almost\"'/'O' (1.0),\n",
              "  'Token[101]: \"gone\"'/'O' (1.0),\n",
              "  'Token[102]: \",\"'/'O' (1.0),\n",
              "  'Token[103]: \"but\"'/'O' (1.0),\n",
              "  'Token[104]: \"i\"'/'O' (1.0),\n",
              "  'Token[105]: \"feel\"'/'B-ADR' (1.0),\n",
              "  'Token[106]: \"a\"'/'I-ADR' (1.0),\n",
              "  'Token[107]: \"bit\"'/'I-ADR' (1.0),\n",
              "  'Token[108]: \"weird\"'/'E-ADR' (1.0),\n",
              "  'Token[109]: \",\"'/'O' (1.0),\n",
              "  'Token[110]: \"didnt\"'/'O' (1.0),\n",
              "  'Token[111]: \"have\"'/'O' (1.0),\n",
              "  'Token[112]: \"that\"'/'O' (1.0),\n",
              "  'Token[113]: \"when\"'/'O' (1.0),\n",
              "  'Token[114]: \"on\"'/'O' (1.0),\n",
              "  'Token[115]: \"50\"'/'O' (1.0),\n",
              "  'Token[116]: \".\"'/'O' (1.0)],\n",
              " 'meddra': ['Token[0]: \"i\"'/'O' (1.0),\n",
              "  'Token[1]: \"feel\"'/'O' (1.0),\n",
              "  'Token[2]: \"a\"'/'O' (1.0),\n",
              "  'Token[3]: \"bit\"'/'B-Drowsy' (1.0),\n",
              "  'Token[4]: \"drowsy\"'/'E-Drowsy' (1.0),\n",
              "  'Token[5]: \"&\"'/'O' (1.0),\n",
              "  'Token[6]: \"have\"'/'O' (1.0),\n",
              "  'Token[7]: \"a\"'/'O' (1.0),\n",
              "  'Token[8]: \"little\"'/'B-Blurred_vision_-_hazy' (1.0),\n",
              "  'Token[9]: \"blurred\"'/'I-Blurred_vision_-_hazy' (1.0),\n",
              "  'Token[10]: \"vision\"'/'E-Blurred_vision_-_hazy' (1.0),\n",
              "  'Token[11]: \",\"'/'O' (1.0),\n",
              "  'Token[12]: \"so\"'/'O' (1.0),\n",
              "  'Token[13]: \"far\"'/'O' (1.0),\n",
              "  'Token[14]: \"no\"'/'O' (1.0),\n",
              "  'Token[15]: \"gastric\"'/'B-Excessive_upper_gastrointestinal_gas' (1.0),\n",
              "  'Token[16]: \"problems\"'/'E-Excessive_upper_gastrointestinal_gas' (1.0),\n",
              "  'Token[17]: \".\"'/'O' (1.0),\n",
              "  'Token[18]: \"ive\"'/'O' (1.0),\n",
              "  'Token[19]: \"been\"'/'O' (1.0),\n",
              "  'Token[20]: \"on\"'/'O' (1.0),\n",
              "  'Token[21]: \"arthrotec\"'/'B-Arthrotec' (1.0),\n",
              "  'Token[22]: \"50\"'/'O' (1.0),\n",
              "  'Token[23]: \"for\"'/'O' (1.0),\n",
              "  'Token[24]: \"over\"'/'O' (1.0),\n",
              "  'Token[25]: \"10\"'/'O' (1.0),\n",
              "  'Token[26]: \"years\"'/'O' (1.0),\n",
              "  'Token[27]: \"on\"'/'O' (1.0),\n",
              "  'Token[28]: \"and\"'/'O' (1.0),\n",
              "  'Token[29]: \"off\"'/'O' (1.0),\n",
              "  'Token[30]: \",\"'/'O' (1.0),\n",
              "  'Token[31]: \"only\"'/'O' (1.0),\n",
              "  'Token[32]: \"taking\"'/'O' (1.0),\n",
              "  'Token[33]: \"it\"'/'O' (1.0),\n",
              "  'Token[34]: \"when\"'/'O' (1.0),\n",
              "  'Token[35]: \"i\"'/'O' (1.0),\n",
              "  'Token[36]: \"needed\"'/'O' (1.0),\n",
              "  'Token[37]: \"it\"'/'O' (1.0),\n",
              "  'Token[38]: \".\"'/'O' (1.0),\n",
              "  'Token[39]: \"due\"'/'O' (1.0),\n",
              "  'Token[40]: \"to\"'/'O' (1.0),\n",
              "  'Token[41]: \"my\"'/'O' (1.0),\n",
              "  'Token[42]: \"arthritis\"'/'B-Arthritis' (1.0),\n",
              "  'Token[43]: \"getting\"'/'O' (1.0),\n",
              "  'Token[44]: \"progressively\"'/'O' (1.0),\n",
              "  'Token[45]: \"worse\"'/'O' (1.0),\n",
              "  'Token[46]: \",\"'/'O' (1.0),\n",
              "  'Token[47]: \"to\"'/'O' (1.0),\n",
              "  'Token[48]: \"the\"'/'O' (1.0),\n",
              "  'Token[49]: \"point\"'/'O' (1.0),\n",
              "  'Token[50]: \"where\"'/'O' (1.0),\n",
              "  'Token[51]: \"i\"'/'O' (1.0),\n",
              "  'Token[52]: \"am\"'/'O' (1.0),\n",
              "  'Token[53]: \"in\"'/'O' (1.0),\n",
              "  'Token[54]: \"tears\"'/'O' (1.0),\n",
              "  'Token[55]: \"with\"'/'O' (1.0),\n",
              "  'Token[56]: \"the\"'/'O' (1.0),\n",
              "  'Token[57]: \"agony\"'/'B-Agony' (1.0),\n",
              "  'Token[58]: \",\"'/'O' (1.0),\n",
              "  'Token[59]: \"gp\"'/'O' (1.0),\n",
              "  'Token[60]: \"'\"'/'O' (1.0),\n",
              "  'Token[61]: \"s\"'/'O' (1.0),\n",
              "  'Token[62]: \"started\"'/'O' (1.0),\n",
              "  'Token[63]: \"me\"'/'O' (1.0),\n",
              "  'Token[64]: \"on\"'/'O' (1.0),\n",
              "  'Token[65]: \"75\"'/'O' (1.0),\n",
              "  'Token[66]: \"twice\"'/'O' (1.0),\n",
              "  'Token[67]: \"a\"'/'O' (1.0),\n",
              "  'Token[68]: \"day\"'/'O' (1.0),\n",
              "  'Token[69]: \"and\"'/'O' (1.0),\n",
              "  'Token[70]: \"i\"'/'O' (1.0),\n",
              "  'Token[71]: \"have\"'/'O' (1.0),\n",
              "  'Token[72]: \"to\"'/'O' (1.0),\n",
              "  'Token[73]: \"take\"'/'O' (1.0),\n",
              "  'Token[74]: \"it\"'/'O' (1.0),\n",
              "  'Token[75]: \".\"'/'O' (1.0),\n",
              "  'Token[76]: \"every\"'/'O' (1.0),\n",
              "  'Token[77]: \"day\"'/'O' (1.0),\n",
              "  'Token[78]: \"for\"'/'O' (1.0),\n",
              "  'Token[79]: \"the\"'/'O' (1.0),\n",
              "  'Token[80]: \"next\"'/'O' (1.0),\n",
              "  'Token[81]: \"month\"'/'O' (1.0),\n",
              "  'Token[82]: \"to\"'/'O' (1.0),\n",
              "  'Token[83]: \"see\"'/'O' (1.0),\n",
              "  'Token[84]: \"how\"'/'O' (1.0),\n",
              "  'Token[85]: \"i\"'/'O' (1.0),\n",
              "  'Token[86]: \"get\"'/'O' (1.0),\n",
              "  'Token[87]: \"on\"'/'O' (1.0),\n",
              "  'Token[88]: \",\"'/'O' (1.0),\n",
              "  'Token[89]: \"here\"'/'O' (1.0),\n",
              "  'Token[90]: \"goes\"'/'O' (1.0),\n",
              "  'Token[91]: \".\"'/'O' (1.0),\n",
              "  'Token[92]: \"so\"'/'O' (1.0),\n",
              "  'Token[93]: \"far\"'/'O' (1.0),\n",
              "  'Token[94]: \"its\"'/'O' (1.0),\n",
              "  'Token[95]: \"been\"'/'O' (1.0),\n",
              "  'Token[96]: \"very\"'/'O' (1.0),\n",
              "  'Token[97]: \"good\"'/'O' (1.0),\n",
              "  'Token[98]: \",\"'/'O' (1.0),\n",
              "  'Token[99]: \"pains\"'/'B-Pain' (1.0),\n",
              "  'Token[100]: \"almost\"'/'O' (1.0),\n",
              "  'Token[101]: \"gone\"'/'O' (1.0),\n",
              "  'Token[102]: \",\"'/'O' (1.0),\n",
              "  'Token[103]: \"but\"'/'O' (1.0),\n",
              "  'Token[104]: \"i\"'/'O' (1.0),\n",
              "  'Token[105]: \"feel\"'/'B-Malaise' (1.0),\n",
              "  'Token[106]: \"a\"'/'I-Malaise' (1.0),\n",
              "  'Token[107]: \"bit\"'/'I-Malaise' (1.0),\n",
              "  'Token[108]: \"weird\"'/'E-Malaise' (1.0),\n",
              "  'Token[109]: \",\"'/'O' (1.0),\n",
              "  'Token[110]: \"didnt\"'/'O' (1.0),\n",
              "  'Token[111]: \"have\"'/'O' (1.0),\n",
              "  'Token[112]: \"that\"'/'O' (1.0),\n",
              "  'Token[113]: \"when\"'/'O' (1.0),\n",
              "  'Token[114]: \"on\"'/'O' (1.0),\n",
              "  'Token[115]: \"50\"'/'O' (1.0),\n",
              "  'Token[116]: \".\"'/'O' (1.0)]}"
            ]
          },
          "metadata": {},
          "execution_count": 11
        }
      ],
      "source": [
        "temp.annotation_layers"
      ]
    },
    {
      "cell_type": "code",
      "execution_count": 12,
      "metadata": {
        "id": "4CsGKKB6tGik"
      },
      "outputs": [],
      "source": [
        "\n",
        "# define your NER tags\n",
        "label_dict = {\n",
        "    'ADR': 'ADR',\n",
        "    'Drug': 'Drug',\n",
        "    'Finding': 'Finding',\n",
        "    'Symptom': 'Symptom',\n",
        "    'Disease': 'Disease'\n",
        "}"
      ]
    },
    {
      "cell_type": "code",
      "execution_count": 13,
      "metadata": {
        "colab": {
          "base_uri": "https://localhost:8080/"
        },
        "id": "QmNsy8AltGik",
        "outputId": "4968cae4-7e95-4bd5-8ba2-af8c8b383a46"
      },
      "outputs": [
        {
          "output_type": "stream",
          "name": "stdout",
          "text": [
            "2023-04-21 01:37:02,589 Filtering empty sentences\n",
            "2023-04-21 01:37:02,611 Corpus: 948 train + 119 dev + 119 test sentences\n",
            "2023-04-21 01:37:02,612 Computing label dictionary. Progress:\n"
          ]
        },
        {
          "output_type": "stream",
          "name": "stderr",
          "text": [
            "948it [00:00, 6599.81it/s]"
          ]
        },
        {
          "output_type": "stream",
          "name": "stdout",
          "text": [
            "2023-04-21 01:37:02,762 Dictionary created for label 'ner' with 17 values: O (seen 79057 times), B-ADR (seen 4712 times), I-ADR (seen 4449 times), E-ADR (seen 3506 times), B-Drug (seen 1396 times), B-Finding (seen 309 times), B-Disease (seen 231 times), B-Symptom (seen 222 times), E-Finding (seen 200 times), I-Finding (seen 149 times), E-Disease (seen 119 times), E-Symptom (seen 114 times), E-Drug (seen 111 times), I-Symptom (seen 104 times), I-Drug (seen 50 times), I-Disease (seen 50 times)\n",
            "False\n"
          ]
        },
        {
          "output_type": "stream",
          "name": "stderr",
          "text": [
            "\n"
          ]
        },
        {
          "output_type": "stream",
          "name": "stdout",
          "text": [
            "2023-04-21 01:37:11,209 SequenceTagger predicts: Dictionary with 17 tags: <unk>, O, B-ADR, I-ADR, E-ADR, B-Drug, B-Finding, B-Disease, B-Symptom, E-Finding, I-Finding, E-Disease, E-Symptom, E-Drug, I-Symptom, I-Drug, I-Disease\n",
            "True\n",
            "False\n"
          ]
        }
      ],
      "source": [
        "from flair.data import Corpus\n",
        "# from flair.datasets import SentenceDataset\n",
        "from flair.embeddings import WordEmbeddings, FlairEmbeddings, StackedEmbeddings, TransformerWordEmbeddings\n",
        "from flair.models import SequenceTagger\n",
        "from flair.trainers import ModelTrainer\n",
        "from sklearn.model_selection import train_test_split\n",
        "\n",
        "import torch\n",
        "from torch.utils.data import Dataset\n",
        "from torch.optim import AdamW, SGD\n",
        "\n",
        "from flair.visual.training_curves import Plotter\n",
        "plotter = Plotter()\n",
        "\n",
        "\n",
        "\n",
        "train_docs, test_docs = train_test_split(docs, test_size=0.2, random_state=321)\n",
        "dev_docs, test_docs = train_test_split(test_docs, test_size=0.5, random_state=123)\n",
        "\n",
        "corpus = Corpus(train=train_docs, dev=dev_docs, test=test_docs) # Corpus: 948 train + 119 dev + 119 test sentences\n",
        "corpus.filter_empty_sentences()\n",
        "# # create a tag dictionary\n",
        "labels = ['ADR', 'Drug', 'Finding', 'Symptom', 'Disease']\n",
        "# tag_dictionary = Dictionary(add_unk=True)\n",
        "# for label in labels:\n",
        "#     tag_dictionary.add_item(label)\n",
        "tag_dictionary = corpus.make_label_dictionary(label_type='ner')\n",
        "print(tag_dictionary.span_labels)\n",
        "\n",
        "# create a stacked embedding using GloVe and Flair embeddings\n",
        "stacked_embeddings = StackedEmbeddings([\n",
        "    WordEmbeddings('glove',\n",
        "                   force_cpu=False,\n",
        "                #    embedding_length=1024,\n",
        "                  #  fine_tune=True,\n",
        "                   ),\n",
        "    # TransformerWordEmbeddings('emilyalsentzer/Bio_ClinicalBERT', layers=\"-1\",\n",
        "    #                                    subtoken_pooling=\"first\",\n",
        "    #                                    is_document_embedding=True,\n",
        "    #                                    fine_tune=True,\n",
        "    #                                    use_context=True,\n",
        "    #                                    max_seq_length=1024,\n",
        "    #                                    ),\n",
        "    FlairEmbeddings('news-forward',\n",
        "                    # fine_tune=True\n",
        "                    ),\n",
        "    FlairEmbeddings('news-backward',\n",
        "                    # fine_tune=True\n",
        "                    ),\n",
        "])\n",
        "# https://github.com/flairNLP/flair/blob/master/resources/docs/embeddings/FLAIR_EMBEDDINGS.md\n",
        "\n",
        "# create a SequenceTagger object and specify the tag dictionary and embeddings to use\n",
        "tagger = SequenceTagger(hidden_size=256,\n",
        "                        embeddings=stacked_embeddings,\n",
        "                        tag_dictionary=tag_dictionary,\n",
        "                        tag_type='ner',\n",
        "                        # use_crf=False,\n",
        "                        # use_rnn=False,\n",
        "                        # reproject_embeddings=False,\n",
        "                        )\n",
        "tagger.predict_spans = False\n",
        "\n",
        "print(tagger._determine_if_span_prediction_problem(tagger.label_dictionary))\n",
        "print(tagger.predict_spans)\n",
        "\n",
        "# https://github.com/flairNLP/flair/blob/master/flair/trainers/trainer.py\n",
        "# create a ModelTrainer object and train the tagger\n",
        "trainer = ModelTrainer(tagger, corpus)"
      ]
    },
    {
      "cell_type": "code",
      "execution_count": 14,
      "metadata": {
        "id": "fh0zU2jHAA4J"
      },
      "outputs": [],
      "source": [
        "# !tensorboard --logdir=runs\n",
        "# http://localhost:6006/"
      ]
    },
    {
      "cell_type": "code",
      "execution_count": 15,
      "metadata": {
        "colab": {
          "base_uri": "https://localhost:8080/"
        },
        "id": "UKTMzxV8zF9o",
        "outputId": "506e0d69-261c-4b04-a29d-468be13c8739"
      },
      "outputs": [
        {
          "output_type": "stream",
          "name": "stdout",
          "text": [
            "2023-04-21 01:37:11,468 tensorboard logging path is runs/tb_logs_v1\n",
            "2023-04-21 01:37:11,480 ----------------------------------------------------------------------------------------------------\n",
            "2023-04-21 01:37:11,481 Model: \"SequenceTagger(\n",
            "  (embeddings): StackedEmbeddings(\n",
            "    (list_embedding_0): WordEmbeddings(\n",
            "      'glove'\n",
            "      (embedding): Embedding(400001, 100)\n",
            "    )\n",
            "    (list_embedding_1): FlairEmbeddings(\n",
            "      (lm): LanguageModel(\n",
            "        (drop): Dropout(p=0.05, inplace=False)\n",
            "        (encoder): Embedding(300, 100)\n",
            "        (rnn): LSTM(100, 2048)\n",
            "      )\n",
            "    )\n",
            "    (list_embedding_2): FlairEmbeddings(\n",
            "      (lm): LanguageModel(\n",
            "        (drop): Dropout(p=0.05, inplace=False)\n",
            "        (encoder): Embedding(300, 100)\n",
            "        (rnn): LSTM(100, 2048)\n",
            "      )\n",
            "    )\n",
            "  )\n",
            "  (word_dropout): WordDropout(p=0.05)\n",
            "  (locked_dropout): LockedDropout(p=0.5)\n",
            "  (embedding2nn): Linear(in_features=4196, out_features=4196, bias=True)\n",
            "  (rnn): LSTM(4196, 256, batch_first=True, bidirectional=True)\n",
            "  (linear): Linear(in_features=512, out_features=19, bias=True)\n",
            "  (loss_function): ViterbiLoss()\n",
            "  (crf): CRF()\n",
            ")\"\n",
            "2023-04-21 01:37:11,483 ----------------------------------------------------------------------------------------------------\n",
            "2023-04-21 01:37:11,484 Corpus: \"Corpus: 948 train + 119 dev + 119 test sentences\"\n",
            "2023-04-21 01:37:11,486 ----------------------------------------------------------------------------------------------------\n",
            "2023-04-21 01:37:11,487 Parameters:\n",
            "2023-04-21 01:37:11,489  - learning_rate: \"0.100000\"\n",
            "2023-04-21 01:37:11,490  - mini_batch_size: \"12\"\n",
            "2023-04-21 01:37:11,492  - patience: \"1\"\n",
            "2023-04-21 01:37:11,493  - anneal_factor: \"0.5\"\n",
            "2023-04-21 01:37:11,495  - max_epochs: \"100\"\n",
            "2023-04-21 01:37:11,497  - shuffle: \"True\"\n",
            "2023-04-21 01:37:11,498  - train_with_dev: \"False\"\n",
            "2023-04-21 01:37:11,500  - batch_growth_annealing: \"False\"\n",
            "2023-04-21 01:37:11,501 ----------------------------------------------------------------------------------------------------\n",
            "2023-04-21 01:37:11,503 Model training base path: \"flair_ner_model_v1\"\n",
            "2023-04-21 01:37:11,504 ----------------------------------------------------------------------------------------------------\n",
            "2023-04-21 01:37:11,505 Device: cuda:0\n",
            "2023-04-21 01:37:11,506 ----------------------------------------------------------------------------------------------------\n",
            "2023-04-21 01:37:11,507 Embeddings storage mode: gpu\n",
            "2023-04-21 01:37:11,509 ----------------------------------------------------------------------------------------------------\n",
            "2023-04-21 01:37:14,547 epoch 1 - iter 7/79 - loss 3.43966220 - time (sec): 3.04 - samples/sec: 3010.03 - lr: 0.100000\n",
            "2023-04-21 01:37:16,876 epoch 1 - iter 14/79 - loss 2.80625205 - time (sec): 5.37 - samples/sec: 3047.72 - lr: 0.100000\n",
            "2023-04-21 01:37:19,640 epoch 1 - iter 21/79 - loss 2.67319299 - time (sec): 8.13 - samples/sec: 3005.11 - lr: 0.100000\n",
            "2023-04-21 01:37:22,285 epoch 1 - iter 28/79 - loss 2.52823098 - time (sec): 10.78 - samples/sec: 3025.77 - lr: 0.100000\n",
            "2023-04-21 01:37:25,050 epoch 1 - iter 35/79 - loss 2.42297634 - time (sec): 13.54 - samples/sec: 3048.89 - lr: 0.100000\n",
            "2023-04-21 01:37:27,758 epoch 1 - iter 42/79 - loss 2.60474561 - time (sec): 16.25 - samples/sec: 3045.25 - lr: 0.100000\n",
            "2023-04-21 01:37:30,458 epoch 1 - iter 49/79 - loss 2.60485300 - time (sec): 18.95 - samples/sec: 3054.83 - lr: 0.100000\n",
            "2023-04-21 01:37:34,305 epoch 1 - iter 56/79 - loss 2.50025391 - time (sec): 22.79 - samples/sec: 2919.41 - lr: 0.100000\n",
            "2023-04-21 01:37:36,658 epoch 1 - iter 63/79 - loss 2.43013997 - time (sec): 25.15 - samples/sec: 2978.05 - lr: 0.100000\n",
            "2023-04-21 01:37:39,675 epoch 1 - iter 70/79 - loss 2.46221956 - time (sec): 28.16 - samples/sec: 2953.19 - lr: 0.100000\n",
            "2023-04-21 01:37:43,597 epoch 1 - iter 77/79 - loss 2.46783093 - time (sec): 32.09 - samples/sec: 2864.75 - lr: 0.100000\n",
            "2023-04-21 01:37:45,155 ----------------------------------------------------------------------------------------------------\n",
            "2023-04-21 01:37:45,156 EPOCH 1 done: loss 2.4695 - lr 0.100000\n"
          ]
        },
        {
          "output_type": "stream",
          "name": "stderr",
          "text": [
            "100%|██████████| 79/79 [00:21<00:00,  3.72it/s]"
          ]
        },
        {
          "output_type": "stream",
          "name": "stdout",
          "text": [
            "2023-04-21 01:38:06,496 Evaluating as a multi-label problem: True\n"
          ]
        },
        {
          "output_type": "stream",
          "name": "stderr",
          "text": [
            "\n"
          ]
        },
        {
          "output_type": "stream",
          "name": "stdout",
          "text": [
            "2023-04-21 01:38:08,775 TRAIN : loss 1.620639681816101 - f1-score (weighted avg)  0.065\n"
          ]
        },
        {
          "output_type": "stream",
          "name": "stderr",
          "text": [
            "100%|██████████| 10/10 [00:04<00:00,  2.32it/s]\n"
          ]
        },
        {
          "output_type": "stream",
          "name": "stdout",
          "text": [
            "2023-04-21 01:38:13,449 Evaluating as a multi-label problem: False\n",
            "2023-04-21 01:38:13,514 DEV : loss 1.6220180988311768 - f1-score (weighted avg)  0.0714\n",
            "2023-04-21 01:38:13,524 BAD EPOCHS (no improvement): 0\n",
            "2023-04-21 01:38:13,528 saving best model\n",
            "2023-04-21 01:38:15,540 ----------------------------------------------------------------------------------------------------\n",
            "2023-04-21 01:38:17,184 epoch 2 - iter 7/79 - loss 2.07842031 - time (sec): 1.64 - samples/sec: 5203.09 - lr: 0.100000\n",
            "2023-04-21 01:38:18,703 epoch 2 - iter 14/79 - loss 2.18068577 - time (sec): 3.16 - samples/sec: 5121.74 - lr: 0.100000\n",
            "2023-04-21 01:38:20,270 epoch 2 - iter 21/79 - loss 2.23710320 - time (sec): 4.73 - samples/sec: 5216.34 - lr: 0.100000\n",
            "2023-04-21 01:38:22,288 epoch 2 - iter 28/79 - loss 2.39456664 - time (sec): 6.75 - samples/sec: 4949.30 - lr: 0.100000\n",
            "2023-04-21 01:38:24,392 epoch 2 - iter 35/79 - loss 2.22319636 - time (sec): 8.85 - samples/sec: 4856.75 - lr: 0.100000\n",
            "2023-04-21 01:38:26,266 epoch 2 - iter 42/79 - loss 2.22414489 - time (sec): 10.72 - samples/sec: 4814.51 - lr: 0.100000\n",
            "2023-04-21 01:38:28,037 epoch 2 - iter 49/79 - loss 2.25733133 - time (sec): 12.50 - samples/sec: 4761.34 - lr: 0.100000\n",
            "2023-04-21 01:38:29,716 epoch 2 - iter 56/79 - loss 2.25672610 - time (sec): 14.17 - samples/sec: 4723.58 - lr: 0.100000\n",
            "2023-04-21 01:38:32,072 epoch 2 - iter 63/79 - loss 2.18043533 - time (sec): 16.53 - samples/sec: 4617.10 - lr: 0.100000\n",
            "2023-04-21 01:38:33,972 epoch 2 - iter 70/79 - loss 2.16674612 - time (sec): 18.43 - samples/sec: 4610.24 - lr: 0.100000\n",
            "2023-04-21 01:38:35,384 epoch 2 - iter 77/79 - loss 2.22499754 - time (sec): 19.84 - samples/sec: 4674.54 - lr: 0.100000\n",
            "2023-04-21 01:38:35,869 ----------------------------------------------------------------------------------------------------\n",
            "2023-04-21 01:38:35,871 EPOCH 2 done: loss 2.2140 - lr 0.100000\n"
          ]
        },
        {
          "output_type": "stream",
          "name": "stderr",
          "text": [
            "100%|██████████| 79/79 [00:22<00:00,  3.48it/s]"
          ]
        },
        {
          "output_type": "stream",
          "name": "stdout",
          "text": [
            "2023-04-21 01:38:58,673 Evaluating as a multi-label problem: True\n"
          ]
        },
        {
          "output_type": "stream",
          "name": "stderr",
          "text": [
            "\n"
          ]
        },
        {
          "output_type": "stream",
          "name": "stdout",
          "text": [
            "2023-04-21 01:39:00,939 TRAIN : loss 1.7005283832550049 - f1-score (weighted avg)  0.232\n"
          ]
        },
        {
          "output_type": "stream",
          "name": "stderr",
          "text": [
            "100%|██████████| 10/10 [00:02<00:00,  3.57it/s]"
          ]
        },
        {
          "output_type": "stream",
          "name": "stdout",
          "text": [
            "2023-04-21 01:39:03,817 Evaluating as a multi-label problem: False\n",
            "2023-04-21 01:39:03,884 DEV : loss 1.6920753717422485 - f1-score (weighted avg)  0.223\n",
            "2023-04-21 01:39:03,893 BAD EPOCHS (no improvement): 1\n",
            "2023-04-21 01:39:03,897 ----------------------------------------------------------------------------------------------------\n"
          ]
        },
        {
          "output_type": "stream",
          "name": "stderr",
          "text": [
            "\n"
          ]
        },
        {
          "output_type": "stream",
          "name": "stdout",
          "text": [
            "2023-04-21 01:39:05,564 epoch 3 - iter 7/79 - loss 2.92270685 - time (sec): 1.66 - samples/sec: 4730.42 - lr: 0.100000\n",
            "2023-04-21 01:39:07,158 epoch 3 - iter 14/79 - loss 2.52563672 - time (sec): 3.26 - samples/sec: 5065.70 - lr: 0.100000\n",
            "2023-04-21 01:39:08,860 epoch 3 - iter 21/79 - loss 2.48414391 - time (sec): 4.96 - samples/sec: 4950.24 - lr: 0.100000\n",
            "2023-04-21 01:39:10,359 epoch 3 - iter 28/79 - loss 2.30927048 - time (sec): 6.46 - samples/sec: 5045.34 - lr: 0.100000\n",
            "2023-04-21 01:39:12,255 epoch 3 - iter 35/79 - loss 2.16882463 - time (sec): 8.36 - samples/sec: 4925.97 - lr: 0.100000\n",
            "2023-04-21 01:39:13,914 epoch 3 - iter 42/79 - loss 2.10839802 - time (sec): 10.02 - samples/sec: 4943.27 - lr: 0.100000\n",
            "2023-04-21 01:39:15,357 epoch 3 - iter 49/79 - loss 2.09331312 - time (sec): 11.46 - samples/sec: 4990.36 - lr: 0.100000\n",
            "2023-04-21 01:39:16,760 epoch 3 - iter 56/79 - loss 2.08952814 - time (sec): 12.86 - samples/sec: 5137.66 - lr: 0.100000\n",
            "2023-04-21 01:39:18,427 epoch 3 - iter 63/79 - loss 2.08166051 - time (sec): 14.53 - samples/sec: 5124.51 - lr: 0.100000\n",
            "2023-04-21 01:39:20,378 epoch 3 - iter 70/79 - loss 2.08060340 - time (sec): 16.48 - samples/sec: 5071.94 - lr: 0.100000\n",
            "2023-04-21 01:39:22,621 epoch 3 - iter 77/79 - loss 2.09100561 - time (sec): 18.72 - samples/sec: 4964.45 - lr: 0.100000\n",
            "2023-04-21 01:39:22,979 ----------------------------------------------------------------------------------------------------\n",
            "2023-04-21 01:39:22,981 EPOCH 3 done: loss 2.1031 - lr 0.100000\n"
          ]
        },
        {
          "output_type": "stream",
          "name": "stderr",
          "text": [
            "100%|██████████| 79/79 [00:21<00:00,  3.72it/s]"
          ]
        },
        {
          "output_type": "stream",
          "name": "stdout",
          "text": [
            "2023-04-21 01:39:44,376 Evaluating as a multi-label problem: True\n"
          ]
        },
        {
          "output_type": "stream",
          "name": "stderr",
          "text": [
            "\n"
          ]
        },
        {
          "output_type": "stream",
          "name": "stdout",
          "text": [
            "2023-04-21 01:39:46,673 TRAIN : loss 2.2053091526031494 - f1-score (weighted avg)  0.0213\n"
          ]
        },
        {
          "output_type": "stream",
          "name": "stderr",
          "text": [
            "100%|██████████| 10/10 [00:03<00:00,  2.59it/s]"
          ]
        },
        {
          "output_type": "stream",
          "name": "stdout",
          "text": [
            "2023-04-21 01:39:50,610 Evaluating as a multi-label problem: False\n",
            "2023-04-21 01:39:50,674 DEV : loss 2.2307281494140625 - f1-score (weighted avg)  0.0171\n",
            "2023-04-21 01:39:50,684 Epoch     3: reducing learning rate of group 0 to 5.0000e-02.\n",
            "2023-04-21 01:39:50,685 BAD EPOCHS (no improvement): 2\n",
            "2023-04-21 01:39:50,689 ----------------------------------------------------------------------------------------------------\n"
          ]
        },
        {
          "output_type": "stream",
          "name": "stderr",
          "text": [
            "\n"
          ]
        },
        {
          "output_type": "stream",
          "name": "stdout",
          "text": [
            "2023-04-21 01:39:52,389 epoch 4 - iter 7/79 - loss 2.12729465 - time (sec): 1.70 - samples/sec: 5125.77 - lr: 0.050000\n",
            "2023-04-21 01:39:54,618 epoch 4 - iter 14/79 - loss 2.00272651 - time (sec): 3.93 - samples/sec: 4603.68 - lr: 0.050000\n",
            "2023-04-21 01:39:55,956 epoch 4 - iter 21/79 - loss 2.06955041 - time (sec): 5.27 - samples/sec: 4831.97 - lr: 0.050000\n",
            "2023-04-21 01:39:57,538 epoch 4 - iter 28/79 - loss 1.95443819 - time (sec): 6.85 - samples/sec: 4911.61 - lr: 0.050000\n",
            "2023-04-21 01:39:59,315 epoch 4 - iter 35/79 - loss 1.98413529 - time (sec): 8.62 - samples/sec: 4787.99 - lr: 0.050000\n",
            "2023-04-21 01:40:01,359 epoch 4 - iter 42/79 - loss 1.90862448 - time (sec): 10.67 - samples/sec: 4711.02 - lr: 0.050000\n",
            "2023-04-21 01:40:03,219 epoch 4 - iter 49/79 - loss 1.90954704 - time (sec): 12.53 - samples/sec: 4715.62 - lr: 0.050000\n",
            "2023-04-21 01:40:04,738 epoch 4 - iter 56/79 - loss 1.84428117 - time (sec): 14.05 - samples/sec: 4814.35 - lr: 0.050000\n",
            "2023-04-21 01:40:06,452 epoch 4 - iter 63/79 - loss 1.79227424 - time (sec): 15.76 - samples/sec: 4812.68 - lr: 0.050000\n",
            "2023-04-21 01:40:08,014 epoch 4 - iter 70/79 - loss 1.76755631 - time (sec): 17.32 - samples/sec: 4815.96 - lr: 0.050000\n",
            "2023-04-21 01:40:09,970 epoch 4 - iter 77/79 - loss 1.75585139 - time (sec): 19.28 - samples/sec: 4797.20 - lr: 0.050000\n",
            "2023-04-21 01:40:10,481 ----------------------------------------------------------------------------------------------------\n",
            "2023-04-21 01:40:10,483 EPOCH 4 done: loss 1.7678 - lr 0.050000\n"
          ]
        },
        {
          "output_type": "stream",
          "name": "stderr",
          "text": [
            "100%|██████████| 79/79 [00:21<00:00,  3.66it/s]"
          ]
        },
        {
          "output_type": "stream",
          "name": "stdout",
          "text": [
            "2023-04-21 01:40:32,266 Evaluating as a multi-label problem: True\n"
          ]
        },
        {
          "output_type": "stream",
          "name": "stderr",
          "text": [
            "\n"
          ]
        },
        {
          "output_type": "stream",
          "name": "stdout",
          "text": [
            "2023-04-21 01:40:35,890 TRAIN : loss 1.8077532052993774 - f1-score (weighted avg)  0.1056\n"
          ]
        },
        {
          "output_type": "stream",
          "name": "stderr",
          "text": [
            "100%|██████████| 10/10 [00:02<00:00,  3.58it/s]"
          ]
        },
        {
          "output_type": "stream",
          "name": "stdout",
          "text": [
            "2023-04-21 01:40:38,774 Evaluating as a multi-label problem: False\n",
            "2023-04-21 01:40:38,854 DEV : loss 1.8756130933761597 - f1-score (weighted avg)  0.1\n",
            "2023-04-21 01:40:38,863 BAD EPOCHS (no improvement): 1\n",
            "2023-04-21 01:40:38,867 ----------------------------------------------------------------------------------------------------\n"
          ]
        },
        {
          "output_type": "stream",
          "name": "stderr",
          "text": [
            "\n"
          ]
        },
        {
          "output_type": "stream",
          "name": "stdout",
          "text": [
            "2023-04-21 01:40:40,662 epoch 5 - iter 7/79 - loss 1.40240675 - time (sec): 1.79 - samples/sec: 4908.87 - lr: 0.050000\n",
            "2023-04-21 01:40:42,417 epoch 5 - iter 14/79 - loss 1.34595637 - time (sec): 3.55 - samples/sec: 5168.86 - lr: 0.050000\n",
            "2023-04-21 01:40:44,281 epoch 5 - iter 21/79 - loss 1.38305373 - time (sec): 5.41 - samples/sec: 5020.50 - lr: 0.050000\n",
            "2023-04-21 01:40:46,339 epoch 5 - iter 28/79 - loss 1.32497640 - time (sec): 7.47 - samples/sec: 4936.09 - lr: 0.050000\n",
            "2023-04-21 01:40:47,886 epoch 5 - iter 35/79 - loss 1.34061295 - time (sec): 9.02 - samples/sec: 4941.02 - lr: 0.050000\n",
            "2023-04-21 01:40:49,480 epoch 5 - iter 42/79 - loss 1.32863911 - time (sec): 10.61 - samples/sec: 4970.74 - lr: 0.050000\n",
            "2023-04-21 01:40:51,836 epoch 5 - iter 49/79 - loss 1.34346558 - time (sec): 12.97 - samples/sec: 4796.82 - lr: 0.050000\n",
            "2023-04-21 01:40:53,172 epoch 5 - iter 56/79 - loss 1.35208768 - time (sec): 14.30 - samples/sec: 4857.71 - lr: 0.050000\n",
            "2023-04-21 01:40:54,560 epoch 5 - iter 63/79 - loss 1.34430379 - time (sec): 15.69 - samples/sec: 4905.28 - lr: 0.050000\n",
            "2023-04-21 01:40:56,005 epoch 5 - iter 70/79 - loss 1.34116476 - time (sec): 17.14 - samples/sec: 4941.82 - lr: 0.050000\n",
            "2023-04-21 01:40:57,652 epoch 5 - iter 77/79 - loss 1.33204488 - time (sec): 18.78 - samples/sec: 4930.14 - lr: 0.050000\n",
            "2023-04-21 01:40:58,128 ----------------------------------------------------------------------------------------------------\n",
            "2023-04-21 01:40:58,130 EPOCH 5 done: loss 1.3271 - lr 0.050000\n"
          ]
        },
        {
          "output_type": "stream",
          "name": "stderr",
          "text": [
            "100%|██████████| 79/79 [00:21<00:00,  3.72it/s]"
          ]
        },
        {
          "output_type": "stream",
          "name": "stdout",
          "text": [
            "2023-04-21 01:41:19,525 Evaluating as a multi-label problem: True\n"
          ]
        },
        {
          "output_type": "stream",
          "name": "stderr",
          "text": [
            "\n"
          ]
        },
        {
          "output_type": "stream",
          "name": "stdout",
          "text": [
            "2023-04-21 01:41:21,724 TRAIN : loss 1.1516971588134766 - f1-score (weighted avg)  0.0945\n"
          ]
        },
        {
          "output_type": "stream",
          "name": "stderr",
          "text": [
            "100%|██████████| 10/10 [00:02<00:00,  3.65it/s]"
          ]
        },
        {
          "output_type": "stream",
          "name": "stdout",
          "text": [
            "2023-04-21 01:41:24,534 Evaluating as a multi-label problem: False\n",
            "2023-04-21 01:41:24,602 DEV : loss 1.154456377029419 - f1-score (weighted avg)  0.0945\n",
            "2023-04-21 01:41:24,612 BAD EPOCHS (no improvement): 0\n",
            "2023-04-21 01:41:24,616 saving best model\n"
          ]
        },
        {
          "output_type": "stream",
          "name": "stderr",
          "text": [
            "\n"
          ]
        },
        {
          "output_type": "stream",
          "name": "stdout",
          "text": [
            "2023-04-21 01:41:26,692 ----------------------------------------------------------------------------------------------------\n",
            "2023-04-21 01:41:28,215 epoch 6 - iter 7/79 - loss 1.36199883 - time (sec): 1.52 - samples/sec: 5096.18 - lr: 0.050000\n",
            "2023-04-21 01:41:29,927 epoch 6 - iter 14/79 - loss 1.34050180 - time (sec): 3.23 - samples/sec: 5142.03 - lr: 0.050000\n",
            "2023-04-21 01:41:31,726 epoch 6 - iter 21/79 - loss 1.27342608 - time (sec): 5.03 - samples/sec: 5235.01 - lr: 0.050000\n",
            "2023-04-21 01:41:33,452 epoch 6 - iter 28/79 - loss 1.26511165 - time (sec): 6.76 - samples/sec: 5208.46 - lr: 0.050000\n",
            "2023-04-21 01:41:35,328 epoch 6 - iter 35/79 - loss 1.24188278 - time (sec): 8.63 - samples/sec: 5047.17 - lr: 0.050000\n",
            "2023-04-21 01:41:37,532 epoch 6 - iter 42/79 - loss 1.20265371 - time (sec): 10.84 - samples/sec: 4898.51 - lr: 0.050000\n",
            "2023-04-21 01:41:39,225 epoch 6 - iter 49/79 - loss 1.17908861 - time (sec): 12.53 - samples/sec: 4880.09 - lr: 0.050000\n",
            "2023-04-21 01:41:40,849 epoch 6 - iter 56/79 - loss 1.16093649 - time (sec): 14.15 - samples/sec: 4800.09 - lr: 0.050000\n",
            "2023-04-21 01:41:42,835 epoch 6 - iter 63/79 - loss 1.17236619 - time (sec): 16.14 - samples/sec: 4710.46 - lr: 0.050000\n",
            "2023-04-21 01:41:44,649 epoch 6 - iter 70/79 - loss 1.15419452 - time (sec): 17.95 - samples/sec: 4717.81 - lr: 0.050000\n",
            "2023-04-21 01:41:46,228 epoch 6 - iter 77/79 - loss 1.14454721 - time (sec): 19.53 - samples/sec: 4749.60 - lr: 0.050000\n",
            "2023-04-21 01:41:46,593 ----------------------------------------------------------------------------------------------------\n",
            "2023-04-21 01:41:46,594 EPOCH 6 done: loss 1.1407 - lr 0.050000\n"
          ]
        },
        {
          "output_type": "stream",
          "name": "stderr",
          "text": [
            "100%|██████████| 79/79 [00:21<00:00,  3.71it/s]"
          ]
        },
        {
          "output_type": "stream",
          "name": "stdout",
          "text": [
            "2023-04-21 01:42:08,002 Evaluating as a multi-label problem: True\n"
          ]
        },
        {
          "output_type": "stream",
          "name": "stderr",
          "text": [
            "\n"
          ]
        },
        {
          "output_type": "stream",
          "name": "stdout",
          "text": [
            "2023-04-21 01:42:11,494 TRAIN : loss 0.8717836141586304 - f1-score (weighted avg)  0.1639\n"
          ]
        },
        {
          "output_type": "stream",
          "name": "stderr",
          "text": [
            "100%|██████████| 10/10 [00:02<00:00,  3.64it/s]"
          ]
        },
        {
          "output_type": "stream",
          "name": "stdout",
          "text": [
            "2023-04-21 01:42:14,341 Evaluating as a multi-label problem: False\n",
            "2023-04-21 01:42:14,408 DEV : loss 0.9019215106964111 - f1-score (weighted avg)  0.1771\n",
            "2023-04-21 01:42:14,418 BAD EPOCHS (no improvement): 0\n",
            "2023-04-21 01:42:14,423 saving best model\n"
          ]
        },
        {
          "output_type": "stream",
          "name": "stderr",
          "text": [
            "\n"
          ]
        },
        {
          "output_type": "stream",
          "name": "stdout",
          "text": [
            "2023-04-21 01:42:16,506 ----------------------------------------------------------------------------------------------------\n",
            "2023-04-21 01:42:18,059 epoch 7 - iter 7/79 - loss 1.39554461 - time (sec): 1.54 - samples/sec: 5695.56 - lr: 0.050000\n",
            "2023-04-21 01:42:19,736 epoch 7 - iter 14/79 - loss 1.27425625 - time (sec): 3.22 - samples/sec: 5325.55 - lr: 0.050000\n",
            "2023-04-21 01:42:21,527 epoch 7 - iter 21/79 - loss 1.17008782 - time (sec): 5.01 - samples/sec: 5090.25 - lr: 0.050000\n",
            "2023-04-21 01:42:23,552 epoch 7 - iter 28/79 - loss 1.21190576 - time (sec): 7.03 - samples/sec: 5100.97 - lr: 0.050000\n",
            "2023-04-21 01:42:25,231 epoch 7 - iter 35/79 - loss 1.23173015 - time (sec): 8.71 - samples/sec: 5140.94 - lr: 0.050000\n",
            "2023-04-21 01:42:26,896 epoch 7 - iter 42/79 - loss 1.21721352 - time (sec): 10.38 - samples/sec: 5078.06 - lr: 0.050000\n",
            "2023-04-21 01:42:28,409 epoch 7 - iter 49/79 - loss 1.24819598 - time (sec): 11.89 - samples/sec: 5063.14 - lr: 0.050000\n",
            "2023-04-21 01:42:30,362 epoch 7 - iter 56/79 - loss 1.24749863 - time (sec): 13.84 - samples/sec: 4968.55 - lr: 0.050000\n",
            "2023-04-21 01:42:31,945 epoch 7 - iter 63/79 - loss 1.24336973 - time (sec): 15.42 - samples/sec: 4927.54 - lr: 0.050000\n",
            "2023-04-21 01:42:33,744 epoch 7 - iter 70/79 - loss 1.22879091 - time (sec): 17.22 - samples/sec: 4854.08 - lr: 0.050000\n",
            "2023-04-21 01:42:35,803 epoch 7 - iter 77/79 - loss 1.20316355 - time (sec): 19.28 - samples/sec: 4784.80 - lr: 0.050000\n",
            "2023-04-21 01:42:36,288 ----------------------------------------------------------------------------------------------------\n",
            "2023-04-21 01:42:36,289 EPOCH 7 done: loss 1.1960 - lr 0.050000\n"
          ]
        },
        {
          "output_type": "stream",
          "name": "stderr",
          "text": [
            "100%|██████████| 79/79 [00:21<00:00,  3.71it/s]"
          ]
        },
        {
          "output_type": "stream",
          "name": "stdout",
          "text": [
            "2023-04-21 01:42:57,716 Evaluating as a multi-label problem: True\n"
          ]
        },
        {
          "output_type": "stream",
          "name": "stderr",
          "text": [
            "\n"
          ]
        },
        {
          "output_type": "stream",
          "name": "stdout",
          "text": [
            "2023-04-21 01:42:59,955 TRAIN : loss 0.6627253890037537 - f1-score (weighted avg)  0.3197\n"
          ]
        },
        {
          "output_type": "stream",
          "name": "stderr",
          "text": [
            "100%|██████████| 10/10 [00:02<00:00,  3.57it/s]"
          ]
        },
        {
          "output_type": "stream",
          "name": "stdout",
          "text": [
            "2023-04-21 01:43:02,832 Evaluating as a multi-label problem: False\n",
            "2023-04-21 01:43:02,897 DEV : loss 0.7184054255485535 - f1-score (weighted avg)  0.313\n",
            "2023-04-21 01:43:02,913 BAD EPOCHS (no improvement): 0\n",
            "2023-04-21 01:43:02,918 saving best model\n"
          ]
        },
        {
          "output_type": "stream",
          "name": "stderr",
          "text": [
            "\n"
          ]
        },
        {
          "output_type": "stream",
          "name": "stdout",
          "text": [
            "2023-04-21 01:43:04,992 ----------------------------------------------------------------------------------------------------\n",
            "2023-04-21 01:43:06,423 epoch 8 - iter 7/79 - loss 1.29250986 - time (sec): 1.41 - samples/sec: 5227.76 - lr: 0.050000\n",
            "2023-04-21 01:43:08,409 epoch 8 - iter 14/79 - loss 1.24608116 - time (sec): 3.40 - samples/sec: 4973.91 - lr: 0.050000\n",
            "2023-04-21 01:43:09,955 epoch 8 - iter 21/79 - loss 1.25182123 - time (sec): 4.95 - samples/sec: 5053.05 - lr: 0.050000\n",
            "2023-04-21 01:43:11,493 epoch 8 - iter 28/79 - loss 1.21233272 - time (sec): 6.48 - samples/sec: 5084.84 - lr: 0.050000\n",
            "2023-04-21 01:43:13,539 epoch 8 - iter 35/79 - loss 1.15628299 - time (sec): 8.53 - samples/sec: 4919.98 - lr: 0.050000\n",
            "2023-04-21 01:43:14,970 epoch 8 - iter 42/79 - loss 1.17207685 - time (sec): 9.96 - samples/sec: 4880.01 - lr: 0.050000\n",
            "2023-04-21 01:43:16,902 epoch 8 - iter 49/79 - loss 1.15251194 - time (sec): 11.89 - samples/sec: 4800.17 - lr: 0.050000\n",
            "2023-04-21 01:43:18,662 epoch 8 - iter 56/79 - loss 1.10182703 - time (sec): 13.65 - samples/sec: 4798.81 - lr: 0.050000\n",
            "2023-04-21 01:43:20,332 epoch 8 - iter 63/79 - loss 1.09499766 - time (sec): 15.32 - samples/sec: 4829.32 - lr: 0.050000\n",
            "2023-04-21 01:43:22,014 epoch 8 - iter 70/79 - loss 1.10058970 - time (sec): 17.01 - samples/sec: 4870.46 - lr: 0.050000\n",
            "2023-04-21 01:43:24,365 epoch 8 - iter 77/79 - loss 1.09770785 - time (sec): 19.36 - samples/sec: 4790.72 - lr: 0.050000\n",
            "2023-04-21 01:43:24,780 ----------------------------------------------------------------------------------------------------\n",
            "2023-04-21 01:43:24,782 EPOCH 8 done: loss 1.1050 - lr 0.050000\n"
          ]
        },
        {
          "output_type": "stream",
          "name": "stderr",
          "text": [
            "100%|██████████| 79/79 [00:23<00:00,  3.42it/s]"
          ]
        },
        {
          "output_type": "stream",
          "name": "stdout",
          "text": [
            "2023-04-21 01:43:48,056 Evaluating as a multi-label problem: True\n"
          ]
        },
        {
          "output_type": "stream",
          "name": "stderr",
          "text": [
            "\n"
          ]
        },
        {
          "output_type": "stream",
          "name": "stdout",
          "text": [
            "2023-04-21 01:43:51,795 TRAIN : loss 1.5408475399017334 - f1-score (weighted avg)  0.0843\n"
          ]
        },
        {
          "output_type": "stream",
          "name": "stderr",
          "text": [
            "100%|██████████| 10/10 [00:02<00:00,  3.58it/s]"
          ]
        },
        {
          "output_type": "stream",
          "name": "stdout",
          "text": [
            "2023-04-21 01:43:54,673 Evaluating as a multi-label problem: False\n",
            "2023-04-21 01:43:54,746 DEV : loss 1.6126140356063843 - f1-score (weighted avg)  0.0731\n",
            "2023-04-21 01:43:54,755 BAD EPOCHS (no improvement): 1\n",
            "2023-04-21 01:43:54,759 ----------------------------------------------------------------------------------------------------\n"
          ]
        },
        {
          "output_type": "stream",
          "name": "stderr",
          "text": [
            "\n"
          ]
        },
        {
          "output_type": "stream",
          "name": "stdout",
          "text": [
            "2023-04-21 01:43:56,472 epoch 9 - iter 7/79 - loss 1.45135394 - time (sec): 1.71 - samples/sec: 4515.23 - lr: 0.050000\n",
            "2023-04-21 01:43:58,106 epoch 9 - iter 14/79 - loss 1.23748734 - time (sec): 3.34 - samples/sec: 4761.79 - lr: 0.050000\n",
            "2023-04-21 01:44:00,328 epoch 9 - iter 21/79 - loss 1.34387326 - time (sec): 5.57 - samples/sec: 4599.77 - lr: 0.050000\n",
            "2023-04-21 01:44:02,335 epoch 9 - iter 28/79 - loss 1.39399307 - time (sec): 7.57 - samples/sec: 4529.70 - lr: 0.050000\n",
            "2023-04-21 01:44:04,015 epoch 9 - iter 35/79 - loss 1.35922565 - time (sec): 9.25 - samples/sec: 4561.84 - lr: 0.050000\n",
            "2023-04-21 01:44:05,512 epoch 9 - iter 42/79 - loss 1.37583334 - time (sec): 10.75 - samples/sec: 4613.42 - lr: 0.050000\n",
            "2023-04-21 01:44:07,317 epoch 9 - iter 49/79 - loss 1.36466593 - time (sec): 12.56 - samples/sec: 4645.50 - lr: 0.050000\n",
            "2023-04-21 01:44:08,922 epoch 9 - iter 56/79 - loss 1.33947834 - time (sec): 14.16 - samples/sec: 4728.78 - lr: 0.050000\n",
            "2023-04-21 01:44:10,548 epoch 9 - iter 63/79 - loss 1.32491563 - time (sec): 15.79 - samples/sec: 4699.84 - lr: 0.050000\n",
            "2023-04-21 01:44:12,267 epoch 9 - iter 70/79 - loss 1.32051069 - time (sec): 17.51 - samples/sec: 4736.55 - lr: 0.050000\n",
            "2023-04-21 01:44:14,198 epoch 9 - iter 77/79 - loss 1.29249957 - time (sec): 19.44 - samples/sec: 4741.23 - lr: 0.050000\n",
            "2023-04-21 01:44:14,705 ----------------------------------------------------------------------------------------------------\n",
            "2023-04-21 01:44:14,706 EPOCH 9 done: loss 1.2903 - lr 0.050000\n"
          ]
        },
        {
          "output_type": "stream",
          "name": "stderr",
          "text": [
            "100%|██████████| 79/79 [00:21<00:00,  3.70it/s]"
          ]
        },
        {
          "output_type": "stream",
          "name": "stdout",
          "text": [
            "2023-04-21 01:44:36,218 Evaluating as a multi-label problem: True\n"
          ]
        },
        {
          "output_type": "stream",
          "name": "stderr",
          "text": [
            "\n"
          ]
        },
        {
          "output_type": "stream",
          "name": "stdout",
          "text": [
            "2023-04-21 01:44:38,500 TRAIN : loss 0.7558526396751404 - f1-score (weighted avg)  0.2692\n"
          ]
        },
        {
          "output_type": "stream",
          "name": "stderr",
          "text": [
            "100%|██████████| 10/10 [00:02<00:00,  3.68it/s]"
          ]
        },
        {
          "output_type": "stream",
          "name": "stdout",
          "text": [
            "2023-04-21 01:44:41,295 Evaluating as a multi-label problem: False\n",
            "2023-04-21 01:44:41,359 DEV : loss 0.7895233035087585 - f1-score (weighted avg)  0.2816\n",
            "2023-04-21 01:44:41,369 Epoch     9: reducing learning rate of group 0 to 2.5000e-02.\n",
            "2023-04-21 01:44:41,371 BAD EPOCHS (no improvement): 2\n",
            "2023-04-21 01:44:41,375 ----------------------------------------------------------------------------------------------------\n"
          ]
        },
        {
          "output_type": "stream",
          "name": "stderr",
          "text": [
            "\n"
          ]
        },
        {
          "output_type": "stream",
          "name": "stdout",
          "text": [
            "2023-04-21 01:44:43,009 epoch 10 - iter 7/79 - loss 1.02457327 - time (sec): 1.63 - samples/sec: 4994.73 - lr: 0.025000\n",
            "2023-04-21 01:44:44,687 epoch 10 - iter 14/79 - loss 1.01007959 - time (sec): 3.31 - samples/sec: 4919.21 - lr: 0.025000\n",
            "2023-04-21 01:44:46,598 epoch 10 - iter 21/79 - loss 1.01769870 - time (sec): 5.22 - samples/sec: 4810.74 - lr: 0.025000\n",
            "2023-04-21 01:44:48,305 epoch 10 - iter 28/79 - loss 1.02237230 - time (sec): 6.93 - samples/sec: 4802.17 - lr: 0.025000\n",
            "2023-04-21 01:44:50,039 epoch 10 - iter 35/79 - loss 0.99598757 - time (sec): 8.66 - samples/sec: 4858.21 - lr: 0.025000\n",
            "2023-04-21 01:44:51,543 epoch 10 - iter 42/79 - loss 0.97670677 - time (sec): 10.17 - samples/sec: 4854.89 - lr: 0.025000\n",
            "2023-04-21 01:44:53,149 epoch 10 - iter 49/79 - loss 0.94800114 - time (sec): 11.77 - samples/sec: 4888.82 - lr: 0.025000\n",
            "2023-04-21 01:44:55,502 epoch 10 - iter 56/79 - loss 0.91869466 - time (sec): 14.13 - samples/sec: 4750.37 - lr: 0.025000\n",
            "2023-04-21 01:44:57,115 epoch 10 - iter 63/79 - loss 0.90820196 - time (sec): 15.74 - samples/sec: 4800.68 - lr: 0.025000\n",
            "2023-04-21 01:44:58,984 epoch 10 - iter 70/79 - loss 0.90886372 - time (sec): 17.61 - samples/sec: 4765.00 - lr: 0.025000\n",
            "2023-04-21 01:45:00,908 epoch 10 - iter 77/79 - loss 0.89865267 - time (sec): 19.53 - samples/sec: 4715.69 - lr: 0.025000\n",
            "2023-04-21 01:45:01,435 ----------------------------------------------------------------------------------------------------\n",
            "2023-04-21 01:45:01,437 EPOCH 10 done: loss 0.8977 - lr 0.025000\n"
          ]
        },
        {
          "output_type": "stream",
          "name": "stderr",
          "text": [
            "100%|██████████| 79/79 [00:21<00:00,  3.71it/s]"
          ]
        },
        {
          "output_type": "stream",
          "name": "stdout",
          "text": [
            "2023-04-21 01:45:22,857 Evaluating as a multi-label problem: True\n"
          ]
        },
        {
          "output_type": "stream",
          "name": "stderr",
          "text": [
            "\n"
          ]
        },
        {
          "output_type": "stream",
          "name": "stdout",
          "text": [
            "2023-04-21 01:45:26,388 TRAIN : loss 0.6128535270690918 - f1-score (weighted avg)  0.2919\n"
          ]
        },
        {
          "output_type": "stream",
          "name": "stderr",
          "text": [
            "100%|██████████| 10/10 [00:02<00:00,  3.72it/s]"
          ]
        },
        {
          "output_type": "stream",
          "name": "stdout",
          "text": [
            "2023-04-21 01:45:29,169 Evaluating as a multi-label problem: False\n",
            "2023-04-21 01:45:29,236 DEV : loss 0.6277104020118713 - f1-score (weighted avg)  0.3098\n",
            "2023-04-21 01:45:29,245 BAD EPOCHS (no improvement): 0\n",
            "2023-04-21 01:45:29,249 saving best model\n"
          ]
        },
        {
          "output_type": "stream",
          "name": "stderr",
          "text": [
            "\n"
          ]
        },
        {
          "output_type": "stream",
          "name": "stdout",
          "text": [
            "2023-04-21 01:45:31,348 ----------------------------------------------------------------------------------------------------\n",
            "2023-04-21 01:45:33,563 epoch 11 - iter 7/79 - loss 0.65287012 - time (sec): 2.21 - samples/sec: 3626.53 - lr: 0.025000\n",
            "2023-04-21 01:45:35,362 epoch 11 - iter 14/79 - loss 0.69423417 - time (sec): 4.01 - samples/sec: 4092.96 - lr: 0.025000\n",
            "2023-04-21 01:45:36,970 epoch 11 - iter 21/79 - loss 0.71226878 - time (sec): 5.62 - samples/sec: 4463.24 - lr: 0.025000\n",
            "2023-04-21 01:45:38,639 epoch 11 - iter 28/79 - loss 0.70253258 - time (sec): 7.29 - samples/sec: 4518.93 - lr: 0.025000\n",
            "2023-04-21 01:45:40,129 epoch 11 - iter 35/79 - loss 0.70208274 - time (sec): 8.78 - samples/sec: 4552.98 - lr: 0.025000\n",
            "2023-04-21 01:45:41,752 epoch 11 - iter 42/79 - loss 0.69937471 - time (sec): 10.40 - samples/sec: 4620.51 - lr: 0.025000\n",
            "2023-04-21 01:45:44,072 epoch 11 - iter 49/79 - loss 0.69241640 - time (sec): 12.72 - samples/sec: 4600.42 - lr: 0.025000\n",
            "2023-04-21 01:45:45,837 epoch 11 - iter 56/79 - loss 0.68865133 - time (sec): 14.49 - samples/sec: 4689.16 - lr: 0.025000\n",
            "2023-04-21 01:45:47,419 epoch 11 - iter 63/79 - loss 0.68773485 - time (sec): 16.07 - samples/sec: 4725.31 - lr: 0.025000\n",
            "2023-04-21 01:45:49,205 epoch 11 - iter 70/79 - loss 0.69095453 - time (sec): 17.86 - samples/sec: 4681.93 - lr: 0.025000\n",
            "2023-04-21 01:45:50,903 epoch 11 - iter 77/79 - loss 0.69382907 - time (sec): 19.55 - samples/sec: 4713.48 - lr: 0.025000\n",
            "2023-04-21 01:45:51,427 ----------------------------------------------------------------------------------------------------\n",
            "2023-04-21 01:45:51,429 EPOCH 11 done: loss 0.7028 - lr 0.025000\n"
          ]
        },
        {
          "output_type": "stream",
          "name": "stderr",
          "text": [
            "100%|██████████| 79/79 [00:21<00:00,  3.74it/s]"
          ]
        },
        {
          "output_type": "stream",
          "name": "stdout",
          "text": [
            "2023-04-21 01:46:12,682 Evaluating as a multi-label problem: True\n"
          ]
        },
        {
          "output_type": "stream",
          "name": "stderr",
          "text": [
            "\n"
          ]
        },
        {
          "output_type": "stream",
          "name": "stdout",
          "text": [
            "2023-04-21 01:46:14,944 TRAIN : loss 0.8146184086799622 - f1-score (weighted avg)  0.0879\n"
          ]
        },
        {
          "output_type": "stream",
          "name": "stderr",
          "text": [
            "100%|██████████| 10/10 [00:02<00:00,  3.62it/s]"
          ]
        },
        {
          "output_type": "stream",
          "name": "stdout",
          "text": [
            "2023-04-21 01:46:17,795 Evaluating as a multi-label problem: False\n",
            "2023-04-21 01:46:17,859 DEV : loss 0.8435848951339722 - f1-score (weighted avg)  0.0906\n",
            "2023-04-21 01:46:17,868 BAD EPOCHS (no improvement): 1\n",
            "2023-04-21 01:46:17,873 ----------------------------------------------------------------------------------------------------\n"
          ]
        },
        {
          "output_type": "stream",
          "name": "stderr",
          "text": [
            "\n"
          ]
        },
        {
          "output_type": "stream",
          "name": "stdout",
          "text": [
            "2023-04-21 01:46:19,322 epoch 12 - iter 7/79 - loss 0.74544615 - time (sec): 1.45 - samples/sec: 5357.14 - lr: 0.025000\n",
            "2023-04-21 01:46:21,075 epoch 12 - iter 14/79 - loss 0.71992943 - time (sec): 3.20 - samples/sec: 5252.92 - lr: 0.025000\n",
            "2023-04-21 01:46:22,817 epoch 12 - iter 21/79 - loss 0.72721684 - time (sec): 4.94 - samples/sec: 5105.97 - lr: 0.025000\n",
            "2023-04-21 01:46:24,555 epoch 12 - iter 28/79 - loss 0.71905591 - time (sec): 6.68 - samples/sec: 5009.71 - lr: 0.025000\n",
            "2023-04-21 01:46:26,265 epoch 12 - iter 35/79 - loss 0.71132600 - time (sec): 8.39 - samples/sec: 4981.32 - lr: 0.025000\n",
            "2023-04-21 01:46:28,023 epoch 12 - iter 42/79 - loss 0.69332719 - time (sec): 10.15 - samples/sec: 4897.37 - lr: 0.025000\n",
            "2023-04-21 01:46:30,396 epoch 12 - iter 49/79 - loss 0.67508285 - time (sec): 12.52 - samples/sec: 4741.90 - lr: 0.025000\n",
            "2023-04-21 01:46:32,067 epoch 12 - iter 56/79 - loss 0.67705970 - time (sec): 14.19 - samples/sec: 4751.34 - lr: 0.025000\n",
            "2023-04-21 01:46:33,587 epoch 12 - iter 63/79 - loss 0.67614729 - time (sec): 15.71 - samples/sec: 4817.23 - lr: 0.025000\n",
            "2023-04-21 01:46:35,581 epoch 12 - iter 70/79 - loss 0.66323994 - time (sec): 17.71 - samples/sec: 4785.40 - lr: 0.025000\n",
            "2023-04-21 01:46:37,151 epoch 12 - iter 77/79 - loss 0.66756235 - time (sec): 19.28 - samples/sec: 4787.35 - lr: 0.025000\n",
            "2023-04-21 01:46:37,580 ----------------------------------------------------------------------------------------------------\n",
            "2023-04-21 01:46:37,581 EPOCH 12 done: loss 0.6684 - lr 0.025000\n"
          ]
        },
        {
          "output_type": "stream",
          "name": "stderr",
          "text": [
            "100%|██████████| 79/79 [00:22<00:00,  3.52it/s]"
          ]
        },
        {
          "output_type": "stream",
          "name": "stdout",
          "text": [
            "2023-04-21 01:47:00,192 Evaluating as a multi-label problem: True\n"
          ]
        },
        {
          "output_type": "stream",
          "name": "stderr",
          "text": [
            "\n"
          ]
        },
        {
          "output_type": "stream",
          "name": "stdout",
          "text": [
            "2023-04-21 01:47:02,475 TRAIN : loss 0.4492488205432892 - f1-score (weighted avg)  0.3303\n"
          ]
        },
        {
          "output_type": "stream",
          "name": "stderr",
          "text": [
            "100%|██████████| 10/10 [00:02<00:00,  3.70it/s]"
          ]
        },
        {
          "output_type": "stream",
          "name": "stdout",
          "text": [
            "2023-04-21 01:47:05,255 Evaluating as a multi-label problem: False\n",
            "2023-04-21 01:47:05,324 DEV : loss 0.49424412846565247 - f1-score (weighted avg)  0.3193\n",
            "2023-04-21 01:47:05,334 BAD EPOCHS (no improvement): 0\n",
            "2023-04-21 01:47:05,338 saving best model\n"
          ]
        },
        {
          "output_type": "stream",
          "name": "stderr",
          "text": [
            "\n"
          ]
        },
        {
          "output_type": "stream",
          "name": "stdout",
          "text": [
            "2023-04-21 01:47:07,431 ----------------------------------------------------------------------------------------------------\n",
            "2023-04-21 01:47:09,144 epoch 13 - iter 7/79 - loss 0.49939300 - time (sec): 1.71 - samples/sec: 5177.06 - lr: 0.025000\n",
            "2023-04-21 01:47:10,774 epoch 13 - iter 14/79 - loss 0.63809966 - time (sec): 3.34 - samples/sec: 5176.36 - lr: 0.025000\n",
            "2023-04-21 01:47:12,724 epoch 13 - iter 21/79 - loss 0.70484954 - time (sec): 5.29 - samples/sec: 4798.37 - lr: 0.025000\n",
            "2023-04-21 01:47:14,354 epoch 13 - iter 28/79 - loss 0.70807008 - time (sec): 6.92 - samples/sec: 4813.43 - lr: 0.025000\n",
            "2023-04-21 01:47:16,050 epoch 13 - iter 35/79 - loss 0.72775805 - time (sec): 8.62 - samples/sec: 4729.12 - lr: 0.025000\n",
            "2023-04-21 01:47:17,656 epoch 13 - iter 42/79 - loss 0.72262142 - time (sec): 10.22 - samples/sec: 4662.58 - lr: 0.025000\n",
            "2023-04-21 01:47:19,532 epoch 13 - iter 49/79 - loss 0.71798235 - time (sec): 12.10 - samples/sec: 4706.78 - lr: 0.025000\n",
            "2023-04-21 01:47:21,575 epoch 13 - iter 56/79 - loss 0.71925208 - time (sec): 14.14 - samples/sec: 4744.95 - lr: 0.025000\n",
            "2023-04-21 01:47:23,460 epoch 13 - iter 63/79 - loss 0.70302050 - time (sec): 16.03 - samples/sec: 4781.35 - lr: 0.025000\n",
            "2023-04-21 01:47:25,199 epoch 13 - iter 70/79 - loss 0.69025178 - time (sec): 17.77 - samples/sec: 4771.08 - lr: 0.025000\n",
            "2023-04-21 01:47:26,852 epoch 13 - iter 77/79 - loss 0.67966541 - time (sec): 19.42 - samples/sec: 4785.66 - lr: 0.025000\n",
            "2023-04-21 01:47:27,221 ----------------------------------------------------------------------------------------------------\n",
            "2023-04-21 01:47:27,223 EPOCH 13 done: loss 0.6767 - lr 0.025000\n"
          ]
        },
        {
          "output_type": "stream",
          "name": "stderr",
          "text": [
            "100%|██████████| 79/79 [00:21<00:00,  3.71it/s]"
          ]
        },
        {
          "output_type": "stream",
          "name": "stdout",
          "text": [
            "2023-04-21 01:47:48,631 Evaluating as a multi-label problem: True\n"
          ]
        },
        {
          "output_type": "stream",
          "name": "stderr",
          "text": [
            "\n"
          ]
        },
        {
          "output_type": "stream",
          "name": "stdout",
          "text": [
            "2023-04-21 01:47:52,204 TRAIN : loss 0.5255668759346008 - f1-score (weighted avg)  0.2774\n"
          ]
        },
        {
          "output_type": "stream",
          "name": "stderr",
          "text": [
            "100%|██████████| 10/10 [00:02<00:00,  3.66it/s]"
          ]
        },
        {
          "output_type": "stream",
          "name": "stdout",
          "text": [
            "2023-04-21 01:47:55,020 Evaluating as a multi-label problem: False\n",
            "2023-04-21 01:47:55,088 DEV : loss 0.5515778064727783 - f1-score (weighted avg)  0.2925\n",
            "2023-04-21 01:47:55,097 BAD EPOCHS (no improvement): 1\n",
            "2023-04-21 01:47:55,102 ----------------------------------------------------------------------------------------------------\n"
          ]
        },
        {
          "output_type": "stream",
          "name": "stderr",
          "text": [
            "\n"
          ]
        },
        {
          "output_type": "stream",
          "name": "stdout",
          "text": [
            "2023-04-21 01:47:56,581 epoch 14 - iter 7/79 - loss 0.56865980 - time (sec): 1.48 - samples/sec: 5469.14 - lr: 0.025000\n",
            "2023-04-21 01:47:58,131 epoch 14 - iter 14/79 - loss 0.60008032 - time (sec): 3.03 - samples/sec: 5254.24 - lr: 0.025000\n",
            "2023-04-21 01:47:59,473 epoch 14 - iter 21/79 - loss 0.60682512 - time (sec): 4.37 - samples/sec: 5321.81 - lr: 0.025000\n",
            "2023-04-21 01:48:01,284 epoch 14 - iter 28/79 - loss 0.60684850 - time (sec): 6.18 - samples/sec: 5187.46 - lr: 0.025000\n",
            "2023-04-21 01:48:02,980 epoch 14 - iter 35/79 - loss 0.61899182 - time (sec): 7.88 - samples/sec: 5172.20 - lr: 0.025000\n",
            "2023-04-21 01:48:04,858 epoch 14 - iter 42/79 - loss 0.63386891 - time (sec): 9.76 - samples/sec: 5125.26 - lr: 0.025000\n",
            "2023-04-21 01:48:06,534 epoch 14 - iter 49/79 - loss 0.62446266 - time (sec): 11.43 - samples/sec: 5130.63 - lr: 0.025000\n",
            "2023-04-21 01:48:08,535 epoch 14 - iter 56/79 - loss 0.62048188 - time (sec): 13.43 - samples/sec: 4971.84 - lr: 0.025000\n",
            "2023-04-21 01:48:10,075 epoch 14 - iter 63/79 - loss 0.62714696 - time (sec): 14.97 - samples/sec: 5013.28 - lr: 0.025000\n",
            "2023-04-21 01:48:12,724 epoch 14 - iter 70/79 - loss 0.63214505 - time (sec): 17.62 - samples/sec: 4792.60 - lr: 0.025000\n",
            "2023-04-21 01:48:14,394 epoch 14 - iter 77/79 - loss 0.63926769 - time (sec): 19.29 - samples/sec: 4811.37 - lr: 0.025000\n",
            "2023-04-21 01:48:14,746 ----------------------------------------------------------------------------------------------------\n",
            "2023-04-21 01:48:14,748 EPOCH 14 done: loss 0.6398 - lr 0.025000\n"
          ]
        },
        {
          "output_type": "stream",
          "name": "stderr",
          "text": [
            "100%|██████████| 79/79 [00:21<00:00,  3.72it/s]"
          ]
        },
        {
          "output_type": "stream",
          "name": "stdout",
          "text": [
            "2023-04-21 01:48:36,160 Evaluating as a multi-label problem: True\n"
          ]
        },
        {
          "output_type": "stream",
          "name": "stderr",
          "text": [
            "\n"
          ]
        },
        {
          "output_type": "stream",
          "name": "stdout",
          "text": [
            "2023-04-21 01:48:38,448 TRAIN : loss 0.45173633098602295 - f1-score (weighted avg)  0.3171\n"
          ]
        },
        {
          "output_type": "stream",
          "name": "stderr",
          "text": [
            "100%|██████████| 10/10 [00:02<00:00,  3.63it/s]"
          ]
        },
        {
          "output_type": "stream",
          "name": "stdout",
          "text": [
            "2023-04-21 01:48:41,281 Evaluating as a multi-label problem: False\n",
            "2023-04-21 01:48:41,348 DEV : loss 0.45647749304771423 - f1-score (weighted avg)  0.3354\n",
            "2023-04-21 01:48:41,357 BAD EPOCHS (no improvement): 0\n",
            "2023-04-21 01:48:41,362 saving best model\n"
          ]
        },
        {
          "output_type": "stream",
          "name": "stderr",
          "text": [
            "\n"
          ]
        },
        {
          "output_type": "stream",
          "name": "stdout",
          "text": [
            "2023-04-21 01:48:43,466 ----------------------------------------------------------------------------------------------------\n",
            "2023-04-21 01:48:45,298 epoch 15 - iter 7/79 - loss 0.58574968 - time (sec): 1.83 - samples/sec: 4784.74 - lr: 0.025000\n",
            "2023-04-21 01:48:46,890 epoch 15 - iter 14/79 - loss 0.59432464 - time (sec): 3.42 - samples/sec: 4890.95 - lr: 0.025000\n",
            "2023-04-21 01:48:48,762 epoch 15 - iter 21/79 - loss 0.59757923 - time (sec): 5.29 - samples/sec: 4809.18 - lr: 0.025000\n",
            "2023-04-21 01:48:50,545 epoch 15 - iter 28/79 - loss 0.60003284 - time (sec): 7.08 - samples/sec: 4814.88 - lr: 0.025000\n",
            "2023-04-21 01:48:52,607 epoch 15 - iter 35/79 - loss 0.60942705 - time (sec): 9.14 - samples/sec: 4668.52 - lr: 0.025000\n",
            "2023-04-21 01:48:54,595 epoch 15 - iter 42/79 - loss 0.61856047 - time (sec): 11.13 - samples/sec: 4631.35 - lr: 0.025000\n",
            "2023-04-21 01:48:56,438 epoch 15 - iter 49/79 - loss 0.62211663 - time (sec): 12.97 - samples/sec: 4590.90 - lr: 0.025000\n",
            "2023-04-21 01:48:57,878 epoch 15 - iter 56/79 - loss 0.63160633 - time (sec): 14.41 - samples/sec: 4650.07 - lr: 0.025000\n",
            "2023-04-21 01:48:59,314 epoch 15 - iter 63/79 - loss 0.63108467 - time (sec): 15.85 - samples/sec: 4760.26 - lr: 0.025000\n",
            "2023-04-21 01:49:01,270 epoch 15 - iter 70/79 - loss 0.64438144 - time (sec): 17.80 - samples/sec: 4719.29 - lr: 0.025000\n",
            "2023-04-21 01:49:03,283 epoch 15 - iter 77/79 - loss 0.63713241 - time (sec): 19.81 - samples/sec: 4656.59 - lr: 0.025000\n",
            "2023-04-21 01:49:03,793 ----------------------------------------------------------------------------------------------------\n",
            "2023-04-21 01:49:03,794 EPOCH 15 done: loss 0.6338 - lr 0.025000\n"
          ]
        },
        {
          "output_type": "stream",
          "name": "stderr",
          "text": [
            "100%|██████████| 79/79 [00:21<00:00,  3.72it/s]\n"
          ]
        },
        {
          "output_type": "stream",
          "name": "stdout",
          "text": [
            "2023-04-21 01:49:26,430 Evaluating as a multi-label problem: True\n",
            "2023-04-21 01:49:28,722 TRAIN : loss 0.44462481141090393 - f1-score (weighted avg)  0.3421\n"
          ]
        },
        {
          "output_type": "stream",
          "name": "stderr",
          "text": [
            "100%|██████████| 10/10 [00:02<00:00,  3.65it/s]"
          ]
        },
        {
          "output_type": "stream",
          "name": "stdout",
          "text": [
            "2023-04-21 01:49:31,545 Evaluating as a multi-label problem: False\n",
            "2023-04-21 01:49:31,618 DEV : loss 0.45877110958099365 - f1-score (weighted avg)  0.3368\n",
            "2023-04-21 01:49:31,628 BAD EPOCHS (no improvement): 1\n",
            "2023-04-21 01:49:31,633 ----------------------------------------------------------------------------------------------------\n"
          ]
        },
        {
          "output_type": "stream",
          "name": "stderr",
          "text": [
            "\n"
          ]
        },
        {
          "output_type": "stream",
          "name": "stdout",
          "text": [
            "2023-04-21 01:49:33,098 epoch 16 - iter 7/79 - loss 0.59559626 - time (sec): 1.46 - samples/sec: 5283.56 - lr: 0.025000\n",
            "2023-04-21 01:49:34,514 epoch 16 - iter 14/79 - loss 0.61984577 - time (sec): 2.88 - samples/sec: 5299.71 - lr: 0.025000\n",
            "2023-04-21 01:49:36,888 epoch 16 - iter 21/79 - loss 0.63568487 - time (sec): 5.25 - samples/sec: 4810.33 - lr: 0.025000\n",
            "2023-04-21 01:49:38,653 epoch 16 - iter 28/79 - loss 0.63096337 - time (sec): 7.02 - samples/sec: 4706.98 - lr: 0.025000\n",
            "2023-04-21 01:49:40,437 epoch 16 - iter 35/79 - loss 0.63272144 - time (sec): 8.80 - samples/sec: 4790.73 - lr: 0.025000\n",
            "2023-04-21 01:49:42,246 epoch 16 - iter 42/79 - loss 0.64439573 - time (sec): 10.61 - samples/sec: 4791.60 - lr: 0.025000\n",
            "2023-04-21 01:49:43,948 epoch 16 - iter 49/79 - loss 0.64637692 - time (sec): 12.31 - samples/sec: 4796.15 - lr: 0.025000\n",
            "2023-04-21 01:49:46,116 epoch 16 - iter 56/79 - loss 0.64288005 - time (sec): 14.48 - samples/sec: 4690.06 - lr: 0.025000\n",
            "2023-04-21 01:49:47,700 epoch 16 - iter 63/79 - loss 0.64244004 - time (sec): 16.07 - samples/sec: 4734.94 - lr: 0.025000\n",
            "2023-04-21 01:49:49,386 epoch 16 - iter 70/79 - loss 0.63799214 - time (sec): 17.75 - samples/sec: 4798.50 - lr: 0.025000\n",
            "2023-04-21 01:49:50,893 epoch 16 - iter 77/79 - loss 0.62986899 - time (sec): 19.26 - samples/sec: 4814.64 - lr: 0.025000\n",
            "2023-04-21 01:49:51,234 ----------------------------------------------------------------------------------------------------\n",
            "2023-04-21 01:49:51,236 EPOCH 16 done: loss 0.6311 - lr 0.025000\n"
          ]
        },
        {
          "output_type": "stream",
          "name": "stderr",
          "text": [
            "100%|██████████| 79/79 [00:21<00:00,  3.71it/s]"
          ]
        },
        {
          "output_type": "stream",
          "name": "stdout",
          "text": [
            "2023-04-21 01:50:12,675 Evaluating as a multi-label problem: True\n"
          ]
        },
        {
          "output_type": "stream",
          "name": "stderr",
          "text": [
            "\n"
          ]
        },
        {
          "output_type": "stream",
          "name": "stdout",
          "text": [
            "2023-04-21 01:50:14,954 TRAIN : loss 0.631736159324646 - f1-score (weighted avg)  0.1055\n"
          ]
        },
        {
          "output_type": "stream",
          "name": "stderr",
          "text": [
            "100%|██████████| 10/10 [00:02<00:00,  3.68it/s]"
          ]
        },
        {
          "output_type": "stream",
          "name": "stdout",
          "text": [
            "2023-04-21 01:50:17,759 Evaluating as a multi-label problem: False\n",
            "2023-04-21 01:50:17,825 DEV : loss 0.6615258455276489 - f1-score (weighted avg)  0.1243\n",
            "2023-04-21 01:50:17,834 Epoch    16: reducing learning rate of group 0 to 1.2500e-02.\n",
            "2023-04-21 01:50:17,836 BAD EPOCHS (no improvement): 2\n",
            "2023-04-21 01:50:17,850 ----------------------------------------------------------------------------------------------------\n"
          ]
        },
        {
          "output_type": "stream",
          "name": "stderr",
          "text": [
            "\n"
          ]
        },
        {
          "output_type": "stream",
          "name": "stdout",
          "text": [
            "2023-04-21 01:50:19,467 epoch 17 - iter 7/79 - loss 0.59108344 - time (sec): 1.61 - samples/sec: 5312.04 - lr: 0.012500\n",
            "2023-04-21 01:50:21,057 epoch 17 - iter 14/79 - loss 0.59307355 - time (sec): 3.20 - samples/sec: 5301.52 - lr: 0.012500\n",
            "2023-04-21 01:50:23,367 epoch 17 - iter 21/79 - loss 0.59593814 - time (sec): 5.52 - samples/sec: 4838.79 - lr: 0.012500\n",
            "2023-04-21 01:50:25,154 epoch 17 - iter 28/79 - loss 0.59190846 - time (sec): 7.30 - samples/sec: 4909.04 - lr: 0.012500\n",
            "2023-04-21 01:50:26,711 epoch 17 - iter 35/79 - loss 0.59269831 - time (sec): 8.86 - samples/sec: 4908.27 - lr: 0.012500\n",
            "2023-04-21 01:50:28,432 epoch 17 - iter 42/79 - loss 0.57553270 - time (sec): 10.58 - samples/sec: 4853.39 - lr: 0.012500\n",
            "2023-04-21 01:50:30,069 epoch 17 - iter 49/79 - loss 0.56587102 - time (sec): 12.22 - samples/sec: 4834.57 - lr: 0.012500\n",
            "2023-04-21 01:50:31,645 epoch 17 - iter 56/79 - loss 0.55866121 - time (sec): 13.79 - samples/sec: 4823.62 - lr: 0.012500\n",
            "2023-04-21 01:50:33,361 epoch 17 - iter 63/79 - loss 0.55211619 - time (sec): 15.51 - samples/sec: 4850.61 - lr: 0.012500\n",
            "2023-04-21 01:50:35,153 epoch 17 - iter 70/79 - loss 0.54844920 - time (sec): 17.30 - samples/sec: 4867.33 - lr: 0.012500\n",
            "2023-04-21 01:50:37,083 epoch 17 - iter 77/79 - loss 0.54429074 - time (sec): 19.23 - samples/sec: 4820.89 - lr: 0.012500\n",
            "2023-04-21 01:50:37,524 ----------------------------------------------------------------------------------------------------\n",
            "2023-04-21 01:50:37,526 EPOCH 17 done: loss 0.5432 - lr 0.012500\n"
          ]
        },
        {
          "output_type": "stream",
          "name": "stderr",
          "text": [
            "100%|██████████| 79/79 [00:22<00:00,  3.52it/s]"
          ]
        },
        {
          "output_type": "stream",
          "name": "stdout",
          "text": [
            "2023-04-21 01:51:00,081 Evaluating as a multi-label problem: True\n"
          ]
        },
        {
          "output_type": "stream",
          "name": "stderr",
          "text": [
            "\n"
          ]
        },
        {
          "output_type": "stream",
          "name": "stdout",
          "text": [
            "2023-04-21 01:51:02,359 TRAIN : loss 0.38410213589668274 - f1-score (weighted avg)  0.3283\n"
          ]
        },
        {
          "output_type": "stream",
          "name": "stderr",
          "text": [
            "100%|██████████| 10/10 [00:02<00:00,  3.64it/s]"
          ]
        },
        {
          "output_type": "stream",
          "name": "stdout",
          "text": [
            "2023-04-21 01:51:05,186 Evaluating as a multi-label problem: False\n",
            "2023-04-21 01:51:05,255 DEV : loss 0.4051736891269684 - f1-score (weighted avg)  0.3394\n",
            "2023-04-21 01:51:05,265 BAD EPOCHS (no improvement): 0\n",
            "2023-04-21 01:51:05,269 saving best model\n"
          ]
        },
        {
          "output_type": "stream",
          "name": "stderr",
          "text": [
            "\n"
          ]
        },
        {
          "output_type": "stream",
          "name": "stdout",
          "text": [
            "2023-04-21 01:51:07,380 ----------------------------------------------------------------------------------------------------\n",
            "2023-04-21 01:51:08,837 epoch 18 - iter 7/79 - loss 0.52628897 - time (sec): 1.45 - samples/sec: 5176.23 - lr: 0.012500\n",
            "2023-04-21 01:51:11,021 epoch 18 - iter 14/79 - loss 0.51689308 - time (sec): 3.64 - samples/sec: 4282.56 - lr: 0.012500\n",
            "2023-04-21 01:51:12,564 epoch 18 - iter 21/79 - loss 0.52433285 - time (sec): 5.18 - samples/sec: 4646.08 - lr: 0.012500\n",
            "2023-04-21 01:51:14,052 epoch 18 - iter 28/79 - loss 0.53246114 - time (sec): 6.67 - samples/sec: 4770.31 - lr: 0.012500\n",
            "2023-04-21 01:51:15,821 epoch 18 - iter 35/79 - loss 0.54323964 - time (sec): 8.44 - samples/sec: 4794.00 - lr: 0.012500\n",
            "2023-04-21 01:51:17,791 epoch 18 - iter 42/79 - loss 0.54825911 - time (sec): 10.41 - samples/sec: 4754.62 - lr: 0.012500\n",
            "2023-04-21 01:51:20,213 epoch 18 - iter 49/79 - loss 0.53247927 - time (sec): 12.83 - samples/sec: 4621.91 - lr: 0.012500\n",
            "2023-04-21 01:51:21,710 epoch 18 - iter 56/79 - loss 0.52571288 - time (sec): 14.33 - samples/sec: 4717.96 - lr: 0.012500\n",
            "2023-04-21 01:51:23,292 epoch 18 - iter 63/79 - loss 0.52364630 - time (sec): 15.91 - samples/sec: 4779.23 - lr: 0.012500\n",
            "2023-04-21 01:51:24,907 epoch 18 - iter 70/79 - loss 0.51368744 - time (sec): 17.52 - samples/sec: 4796.75 - lr: 0.012500\n",
            "2023-04-21 01:51:26,718 epoch 18 - iter 77/79 - loss 0.51177895 - time (sec): 19.34 - samples/sec: 4800.80 - lr: 0.012500\n",
            "2023-04-21 01:51:27,152 ----------------------------------------------------------------------------------------------------\n",
            "2023-04-21 01:51:27,154 EPOCH 18 done: loss 0.5076 - lr 0.012500\n"
          ]
        },
        {
          "output_type": "stream",
          "name": "stderr",
          "text": [
            "100%|██████████| 79/79 [00:21<00:00,  3.72it/s]"
          ]
        },
        {
          "output_type": "stream",
          "name": "stdout",
          "text": [
            "2023-04-21 01:51:48,545 Evaluating as a multi-label problem: True\n"
          ]
        },
        {
          "output_type": "stream",
          "name": "stderr",
          "text": [
            "\n"
          ]
        },
        {
          "output_type": "stream",
          "name": "stdout",
          "text": [
            "2023-04-21 01:51:52,081 TRAIN : loss 0.3809095323085785 - f1-score (weighted avg)  0.2977\n"
          ]
        },
        {
          "output_type": "stream",
          "name": "stderr",
          "text": [
            "100%|██████████| 10/10 [00:02<00:00,  3.67it/s]"
          ]
        },
        {
          "output_type": "stream",
          "name": "stdout",
          "text": [
            "2023-04-21 01:51:54,889 Evaluating as a multi-label problem: False\n",
            "2023-04-21 01:51:54,960 DEV : loss 0.3844245374202728 - f1-score (weighted avg)  0.3109\n",
            "2023-04-21 01:51:54,969 BAD EPOCHS (no improvement): 0\n",
            "2023-04-21 01:51:54,973 saving best model\n"
          ]
        },
        {
          "output_type": "stream",
          "name": "stderr",
          "text": [
            "\n"
          ]
        },
        {
          "output_type": "stream",
          "name": "stdout",
          "text": [
            "2023-04-21 01:51:57,069 ----------------------------------------------------------------------------------------------------\n",
            "2023-04-21 01:51:58,826 epoch 19 - iter 7/79 - loss 0.44335154 - time (sec): 1.75 - samples/sec: 4974.02 - lr: 0.012500\n",
            "2023-04-21 01:52:00,287 epoch 19 - iter 14/79 - loss 0.45667725 - time (sec): 3.22 - samples/sec: 5100.35 - lr: 0.012500\n",
            "2023-04-21 01:52:02,152 epoch 19 - iter 21/79 - loss 0.46541431 - time (sec): 5.08 - samples/sec: 4668.43 - lr: 0.012500\n",
            "2023-04-21 01:52:03,797 epoch 19 - iter 28/79 - loss 0.46273756 - time (sec): 6.73 - samples/sec: 4779.02 - lr: 0.012500\n",
            "2023-04-21 01:52:05,667 epoch 19 - iter 35/79 - loss 0.47251472 - time (sec): 8.60 - samples/sec: 4686.32 - lr: 0.012500\n",
            "2023-04-21 01:52:07,521 epoch 19 - iter 42/79 - loss 0.46895600 - time (sec): 10.45 - samples/sec: 4660.97 - lr: 0.012500\n",
            "2023-04-21 01:52:09,057 epoch 19 - iter 49/79 - loss 0.47510507 - time (sec): 11.99 - samples/sec: 4690.76 - lr: 0.012500\n",
            "2023-04-21 01:52:11,608 epoch 19 - iter 56/79 - loss 0.47735245 - time (sec): 14.54 - samples/sec: 4572.59 - lr: 0.012500\n",
            "2023-04-21 01:52:13,390 epoch 19 - iter 63/79 - loss 0.48088022 - time (sec): 16.32 - samples/sec: 4592.01 - lr: 0.012500\n",
            "2023-04-21 01:52:15,050 epoch 19 - iter 70/79 - loss 0.47714995 - time (sec): 17.98 - samples/sec: 4647.32 - lr: 0.012500\n",
            "2023-04-21 01:52:17,053 epoch 19 - iter 77/79 - loss 0.46821159 - time (sec): 19.98 - samples/sec: 4622.98 - lr: 0.012500\n",
            "2023-04-21 01:52:17,374 ----------------------------------------------------------------------------------------------------\n",
            "2023-04-21 01:52:17,376 EPOCH 19 done: loss 0.4674 - lr 0.012500\n"
          ]
        },
        {
          "output_type": "stream",
          "name": "stderr",
          "text": [
            "100%|██████████| 79/79 [00:21<00:00,  3.71it/s]"
          ]
        },
        {
          "output_type": "stream",
          "name": "stdout",
          "text": [
            "2023-04-21 01:52:38,796 Evaluating as a multi-label problem: True\n"
          ]
        },
        {
          "output_type": "stream",
          "name": "stderr",
          "text": [
            "\n"
          ]
        },
        {
          "output_type": "stream",
          "name": "stdout",
          "text": [
            "2023-04-21 01:52:41,090 TRAIN : loss 0.32065215706825256 - f1-score (weighted avg)  0.3163\n"
          ]
        },
        {
          "output_type": "stream",
          "name": "stderr",
          "text": [
            "100%|██████████| 10/10 [00:02<00:00,  3.61it/s]"
          ]
        },
        {
          "output_type": "stream",
          "name": "stdout",
          "text": [
            "2023-04-21 01:52:43,951 Evaluating as a multi-label problem: False\n",
            "2023-04-21 01:52:44,020 DEV : loss 0.33562713861465454 - f1-score (weighted avg)  0.3071\n",
            "2023-04-21 01:52:44,030 BAD EPOCHS (no improvement): 0\n",
            "2023-04-21 01:52:44,034 saving best model\n"
          ]
        },
        {
          "output_type": "stream",
          "name": "stderr",
          "text": [
            "\n"
          ]
        },
        {
          "output_type": "stream",
          "name": "stdout",
          "text": [
            "2023-04-21 01:52:46,147 ----------------------------------------------------------------------------------------------------\n",
            "2023-04-21 01:52:47,749 epoch 20 - iter 7/79 - loss 0.47917691 - time (sec): 1.60 - samples/sec: 4844.43 - lr: 0.012500\n",
            "2023-04-21 01:52:49,582 epoch 20 - iter 14/79 - loss 0.49961809 - time (sec): 3.43 - samples/sec: 4870.86 - lr: 0.012500\n",
            "2023-04-21 01:52:51,321 epoch 20 - iter 21/79 - loss 0.48384501 - time (sec): 5.17 - samples/sec: 5013.72 - lr: 0.012500\n",
            "2023-04-21 01:52:53,082 epoch 20 - iter 28/79 - loss 0.48517420 - time (sec): 6.93 - samples/sec: 5002.89 - lr: 0.012500\n",
            "2023-04-21 01:52:54,464 epoch 20 - iter 35/79 - loss 0.48132225 - time (sec): 8.32 - samples/sec: 5071.55 - lr: 0.012500\n",
            "2023-04-21 01:52:56,332 epoch 20 - iter 42/79 - loss 0.47853189 - time (sec): 10.18 - samples/sec: 5036.68 - lr: 0.012500\n",
            "2023-04-21 01:52:58,116 epoch 20 - iter 49/79 - loss 0.47844056 - time (sec): 11.97 - samples/sec: 4998.51 - lr: 0.012500\n",
            "2023-04-21 01:52:59,498 epoch 20 - iter 56/79 - loss 0.48146292 - time (sec): 13.35 - samples/sec: 5041.12 - lr: 0.012500\n",
            "2023-04-21 01:53:01,325 epoch 20 - iter 63/79 - loss 0.47606542 - time (sec): 15.18 - samples/sec: 4982.43 - lr: 0.012500\n",
            "2023-04-21 01:53:03,439 epoch 20 - iter 70/79 - loss 0.47027764 - time (sec): 17.29 - samples/sec: 4867.44 - lr: 0.012500\n",
            "2023-04-21 01:53:05,131 epoch 20 - iter 77/79 - loss 0.47136219 - time (sec): 18.98 - samples/sec: 4862.65 - lr: 0.012500\n",
            "2023-04-21 01:53:05,545 ----------------------------------------------------------------------------------------------------\n",
            "2023-04-21 01:53:05,547 EPOCH 20 done: loss 0.4713 - lr 0.012500\n"
          ]
        },
        {
          "output_type": "stream",
          "name": "stderr",
          "text": [
            "100%|██████████| 79/79 [00:22<00:00,  3.52it/s]"
          ]
        },
        {
          "output_type": "stream",
          "name": "stdout",
          "text": [
            "2023-04-21 01:53:28,140 Evaluating as a multi-label problem: True\n"
          ]
        },
        {
          "output_type": "stream",
          "name": "stderr",
          "text": [
            "\n"
          ]
        },
        {
          "output_type": "stream",
          "name": "stdout",
          "text": [
            "2023-04-21 01:53:30,467 TRAIN : loss 0.3540274202823639 - f1-score (weighted avg)  0.3176\n"
          ]
        },
        {
          "output_type": "stream",
          "name": "stderr",
          "text": [
            "100%|██████████| 10/10 [00:02<00:00,  3.67it/s]"
          ]
        },
        {
          "output_type": "stream",
          "name": "stdout",
          "text": [
            "2023-04-21 01:53:33,273 Evaluating as a multi-label problem: False\n",
            "2023-04-21 01:53:33,342 DEV : loss 0.3610313832759857 - f1-score (weighted avg)  0.3231\n",
            "2023-04-21 01:53:33,352 BAD EPOCHS (no improvement): 1\n",
            "2023-04-21 01:53:33,356 ----------------------------------------------------------------------------------------------------\n"
          ]
        },
        {
          "output_type": "stream",
          "name": "stderr",
          "text": [
            "\n"
          ]
        },
        {
          "output_type": "stream",
          "name": "stdout",
          "text": [
            "2023-04-21 01:53:35,175 epoch 21 - iter 7/79 - loss 0.43701777 - time (sec): 1.82 - samples/sec: 4574.66 - lr: 0.012500\n",
            "2023-04-21 01:53:37,000 epoch 21 - iter 14/79 - loss 0.46208891 - time (sec): 3.64 - samples/sec: 4674.92 - lr: 0.012500\n",
            "2023-04-21 01:53:38,705 epoch 21 - iter 21/79 - loss 0.44794048 - time (sec): 5.35 - samples/sec: 4749.44 - lr: 0.012500\n",
            "2023-04-21 01:53:40,295 epoch 21 - iter 28/79 - loss 0.44918776 - time (sec): 6.94 - samples/sec: 4933.27 - lr: 0.012500\n",
            "2023-04-21 01:53:41,905 epoch 21 - iter 35/79 - loss 0.44921540 - time (sec): 8.55 - samples/sec: 4973.22 - lr: 0.012500\n",
            "2023-04-21 01:53:43,482 epoch 21 - iter 42/79 - loss 0.45266293 - time (sec): 10.12 - samples/sec: 4956.10 - lr: 0.012500\n",
            "2023-04-21 01:53:45,127 epoch 21 - iter 49/79 - loss 0.46310382 - time (sec): 11.77 - samples/sec: 4991.74 - lr: 0.012500\n",
            "2023-04-21 01:53:46,902 epoch 21 - iter 56/79 - loss 0.45650510 - time (sec): 13.54 - samples/sec: 4983.22 - lr: 0.012500\n",
            "2023-04-21 01:53:49,217 epoch 21 - iter 63/79 - loss 0.45467764 - time (sec): 15.86 - samples/sec: 4845.00 - lr: 0.012500\n",
            "2023-04-21 01:53:51,032 epoch 21 - iter 70/79 - loss 0.45491352 - time (sec): 17.67 - samples/sec: 4815.54 - lr: 0.012500\n",
            "2023-04-21 01:53:52,563 epoch 21 - iter 77/79 - loss 0.45775644 - time (sec): 19.21 - samples/sec: 4818.10 - lr: 0.012500\n",
            "2023-04-21 01:53:53,081 ----------------------------------------------------------------------------------------------------\n",
            "2023-04-21 01:53:53,083 EPOCH 21 done: loss 0.4588 - lr 0.012500\n"
          ]
        },
        {
          "output_type": "stream",
          "name": "stderr",
          "text": [
            "100%|██████████| 79/79 [00:21<00:00,  3.72it/s]"
          ]
        },
        {
          "output_type": "stream",
          "name": "stdout",
          "text": [
            "2023-04-21 01:54:14,466 Evaluating as a multi-label problem: True\n"
          ]
        },
        {
          "output_type": "stream",
          "name": "stderr",
          "text": [
            "\n"
          ]
        },
        {
          "output_type": "stream",
          "name": "stdout",
          "text": [
            "2023-04-21 01:54:18,038 TRAIN : loss 0.3453005254268646 - f1-score (weighted avg)  0.293\n"
          ]
        },
        {
          "output_type": "stream",
          "name": "stderr",
          "text": [
            "100%|██████████| 10/10 [00:02<00:00,  3.70it/s]"
          ]
        },
        {
          "output_type": "stream",
          "name": "stdout",
          "text": [
            "2023-04-21 01:54:20,829 Evaluating as a multi-label problem: False\n",
            "2023-04-21 01:54:20,896 DEV : loss 0.3505595624446869 - f1-score (weighted avg)  0.2961\n",
            "2023-04-21 01:54:20,907 Epoch    21: reducing learning rate of group 0 to 6.2500e-03.\n",
            "2023-04-21 01:54:20,909 BAD EPOCHS (no improvement): 2\n",
            "2023-04-21 01:54:20,912 ----------------------------------------------------------------------------------------------------\n"
          ]
        },
        {
          "output_type": "stream",
          "name": "stderr",
          "text": [
            "\n"
          ]
        },
        {
          "output_type": "stream",
          "name": "stdout",
          "text": [
            "2023-04-21 01:54:22,374 epoch 22 - iter 7/79 - loss 0.44933411 - time (sec): 1.46 - samples/sec: 5497.95 - lr: 0.006250\n",
            "2023-04-21 01:54:24,079 epoch 22 - iter 14/79 - loss 0.45198079 - time (sec): 3.16 - samples/sec: 5139.30 - lr: 0.006250\n",
            "2023-04-21 01:54:25,727 epoch 22 - iter 21/79 - loss 0.46281450 - time (sec): 4.81 - samples/sec: 5032.07 - lr: 0.006250\n",
            "2023-04-21 01:54:27,148 epoch 22 - iter 28/79 - loss 0.46440001 - time (sec): 6.23 - samples/sec: 5139.70 - lr: 0.006250\n",
            "2023-04-21 01:54:29,051 epoch 22 - iter 35/79 - loss 0.45029245 - time (sec): 8.14 - samples/sec: 4931.98 - lr: 0.006250\n",
            "2023-04-21 01:54:30,560 epoch 22 - iter 42/79 - loss 0.44025362 - time (sec): 9.65 - samples/sec: 5026.35 - lr: 0.006250\n",
            "2023-04-21 01:54:32,730 epoch 22 - iter 49/79 - loss 0.42987162 - time (sec): 11.82 - samples/sec: 5021.91 - lr: 0.006250\n",
            "2023-04-21 01:54:34,071 epoch 22 - iter 56/79 - loss 0.43803604 - time (sec): 13.16 - samples/sec: 5041.62 - lr: 0.006250\n",
            "2023-04-21 01:54:36,222 epoch 22 - iter 63/79 - loss 0.43633383 - time (sec): 15.31 - samples/sec: 4890.61 - lr: 0.006250\n",
            "2023-04-21 01:54:38,059 epoch 22 - iter 70/79 - loss 0.43545431 - time (sec): 17.14 - samples/sec: 4893.14 - lr: 0.006250\n",
            "2023-04-21 01:54:39,714 epoch 22 - iter 77/79 - loss 0.42797353 - time (sec): 18.80 - samples/sec: 4898.01 - lr: 0.006250\n",
            "2023-04-21 01:54:40,204 ----------------------------------------------------------------------------------------------------\n",
            "2023-04-21 01:54:40,206 EPOCH 22 done: loss 0.4278 - lr 0.006250\n"
          ]
        },
        {
          "output_type": "stream",
          "name": "stderr",
          "text": [
            "100%|██████████| 79/79 [00:21<00:00,  3.72it/s]"
          ]
        },
        {
          "output_type": "stream",
          "name": "stdout",
          "text": [
            "2023-04-21 01:55:01,573 Evaluating as a multi-label problem: True\n"
          ]
        },
        {
          "output_type": "stream",
          "name": "stderr",
          "text": [
            "\n"
          ]
        },
        {
          "output_type": "stream",
          "name": "stdout",
          "text": [
            "2023-04-21 01:55:03,867 TRAIN : loss 0.31101834774017334 - f1-score (weighted avg)  0.3343\n"
          ]
        },
        {
          "output_type": "stream",
          "name": "stderr",
          "text": [
            "100%|██████████| 10/10 [00:02<00:00,  3.58it/s]"
          ]
        },
        {
          "output_type": "stream",
          "name": "stdout",
          "text": [
            "2023-04-21 01:55:06,739 Evaluating as a multi-label problem: False\n",
            "2023-04-21 01:55:06,808 DEV : loss 0.32398301362991333 - f1-score (weighted avg)  0.3158\n",
            "2023-04-21 01:55:06,820 BAD EPOCHS (no improvement): 0\n",
            "2023-04-21 01:55:06,824 saving best model\n"
          ]
        },
        {
          "output_type": "stream",
          "name": "stderr",
          "text": [
            "\n"
          ]
        },
        {
          "output_type": "stream",
          "name": "stdout",
          "text": [
            "2023-04-21 01:55:08,896 ----------------------------------------------------------------------------------------------------\n",
            "2023-04-21 01:55:10,545 epoch 23 - iter 7/79 - loss 0.40767466 - time (sec): 1.65 - samples/sec: 4815.04 - lr: 0.006250\n",
            "2023-04-21 01:55:12,199 epoch 23 - iter 14/79 - loss 0.41630058 - time (sec): 3.30 - samples/sec: 5124.36 - lr: 0.006250\n",
            "2023-04-21 01:55:14,008 epoch 23 - iter 21/79 - loss 0.40522323 - time (sec): 5.11 - samples/sec: 4810.47 - lr: 0.006250\n",
            "2023-04-21 01:55:16,024 epoch 23 - iter 28/79 - loss 0.40691391 - time (sec): 7.13 - samples/sec: 4536.25 - lr: 0.006250\n",
            "2023-04-21 01:55:18,417 epoch 23 - iter 35/79 - loss 0.39510581 - time (sec): 9.52 - samples/sec: 4458.49 - lr: 0.006250\n",
            "2023-04-21 01:55:19,960 epoch 23 - iter 42/79 - loss 0.39058298 - time (sec): 11.06 - samples/sec: 4592.89 - lr: 0.006250\n",
            "2023-04-21 01:55:21,750 epoch 23 - iter 49/79 - loss 0.39471505 - time (sec): 12.85 - samples/sec: 4645.61 - lr: 0.006250\n",
            "2023-04-21 01:55:23,354 epoch 23 - iter 56/79 - loss 0.39512796 - time (sec): 14.46 - samples/sec: 4694.60 - lr: 0.006250\n",
            "2023-04-21 01:55:24,618 epoch 23 - iter 63/79 - loss 0.39501350 - time (sec): 15.72 - samples/sec: 4724.28 - lr: 0.006250\n",
            "2023-04-21 01:55:26,217 epoch 23 - iter 70/79 - loss 0.39605930 - time (sec): 17.32 - samples/sec: 4751.17 - lr: 0.006250\n",
            "2023-04-21 01:55:28,369 epoch 23 - iter 77/79 - loss 0.39382994 - time (sec): 19.47 - samples/sec: 4731.27 - lr: 0.006250\n",
            "2023-04-21 01:55:28,976 ----------------------------------------------------------------------------------------------------\n",
            "2023-04-21 01:55:28,978 EPOCH 23 done: loss 0.3939 - lr 0.006250\n"
          ]
        },
        {
          "output_type": "stream",
          "name": "stderr",
          "text": [
            "100%|██████████| 79/79 [00:22<00:00,  3.53it/s]"
          ]
        },
        {
          "output_type": "stream",
          "name": "stdout",
          "text": [
            "2023-04-21 01:55:51,521 Evaluating as a multi-label problem: True\n"
          ]
        },
        {
          "output_type": "stream",
          "name": "stderr",
          "text": [
            "\n"
          ]
        },
        {
          "output_type": "stream",
          "name": "stdout",
          "text": [
            "2023-04-21 01:55:53,794 TRAIN : loss 0.3111548125743866 - f1-score (weighted avg)  0.3184\n"
          ]
        },
        {
          "output_type": "stream",
          "name": "stderr",
          "text": [
            "100%|██████████| 10/10 [00:02<00:00,  3.66it/s]"
          ]
        },
        {
          "output_type": "stream",
          "name": "stdout",
          "text": [
            "2023-04-21 01:55:56,611 Evaluating as a multi-label problem: False\n",
            "2023-04-21 01:55:56,678 DEV : loss 0.3191471993923187 - f1-score (weighted avg)  0.3253\n",
            "2023-04-21 01:55:56,688 BAD EPOCHS (no improvement): 0\n",
            "2023-04-21 01:55:56,692 saving best model\n"
          ]
        },
        {
          "output_type": "stream",
          "name": "stderr",
          "text": [
            "\n"
          ]
        },
        {
          "output_type": "stream",
          "name": "stdout",
          "text": [
            "2023-04-21 01:55:58,793 ----------------------------------------------------------------------------------------------------\n",
            "2023-04-21 01:56:00,334 epoch 24 - iter 7/79 - loss 0.37479217 - time (sec): 1.54 - samples/sec: 4958.83 - lr: 0.006250\n",
            "2023-04-21 01:56:01,847 epoch 24 - iter 14/79 - loss 0.37781780 - time (sec): 3.05 - samples/sec: 5064.57 - lr: 0.006250\n",
            "2023-04-21 01:56:03,366 epoch 24 - iter 21/79 - loss 0.37838934 - time (sec): 4.57 - samples/sec: 5234.52 - lr: 0.006250\n",
            "2023-04-21 01:56:05,262 epoch 24 - iter 28/79 - loss 0.38408651 - time (sec): 6.47 - samples/sec: 5152.49 - lr: 0.006250\n",
            "2023-04-21 01:56:06,778 epoch 24 - iter 35/79 - loss 0.39168671 - time (sec): 7.98 - samples/sec: 5143.26 - lr: 0.006250\n",
            "2023-04-21 01:56:09,127 epoch 24 - iter 42/79 - loss 0.39011213 - time (sec): 10.33 - samples/sec: 4945.57 - lr: 0.006250\n",
            "2023-04-21 01:56:11,063 epoch 24 - iter 49/79 - loss 0.39464349 - time (sec): 12.27 - samples/sec: 4913.34 - lr: 0.006250\n",
            "2023-04-21 01:56:12,675 epoch 24 - iter 56/79 - loss 0.39548124 - time (sec): 13.88 - samples/sec: 4926.98 - lr: 0.006250\n",
            "2023-04-21 01:56:14,582 epoch 24 - iter 63/79 - loss 0.39087328 - time (sec): 15.79 - samples/sec: 4866.26 - lr: 0.006250\n",
            "2023-04-21 01:56:16,312 epoch 24 - iter 70/79 - loss 0.38317194 - time (sec): 17.52 - samples/sec: 4897.99 - lr: 0.006250\n",
            "2023-04-21 01:56:17,792 epoch 24 - iter 77/79 - loss 0.38936644 - time (sec): 19.00 - samples/sec: 4875.37 - lr: 0.006250\n",
            "2023-04-21 01:56:18,190 ----------------------------------------------------------------------------------------------------\n",
            "2023-04-21 01:56:18,193 EPOCH 24 done: loss 0.3885 - lr 0.006250\n"
          ]
        },
        {
          "output_type": "stream",
          "name": "stderr",
          "text": [
            "100%|██████████| 79/79 [00:21<00:00,  3.73it/s]"
          ]
        },
        {
          "output_type": "stream",
          "name": "stdout",
          "text": [
            "2023-04-21 01:56:39,497 Evaluating as a multi-label problem: True\n"
          ]
        },
        {
          "output_type": "stream",
          "name": "stderr",
          "text": [
            "\n"
          ]
        },
        {
          "output_type": "stream",
          "name": "stdout",
          "text": [
            "2023-04-21 01:56:43,067 TRAIN : loss 0.29382815957069397 - f1-score (weighted avg)  0.3261\n"
          ]
        },
        {
          "output_type": "stream",
          "name": "stderr",
          "text": [
            "100%|██████████| 10/10 [00:02<00:00,  3.63it/s]"
          ]
        },
        {
          "output_type": "stream",
          "name": "stdout",
          "text": [
            "2023-04-21 01:56:45,905 Evaluating as a multi-label problem: False\n",
            "2023-04-21 01:56:45,973 DEV : loss 0.3001489043235779 - f1-score (weighted avg)  0.3316\n",
            "2023-04-21 01:56:45,982 BAD EPOCHS (no improvement): 0\n",
            "2023-04-21 01:56:45,987 saving best model\n"
          ]
        },
        {
          "output_type": "stream",
          "name": "stderr",
          "text": [
            "\n"
          ]
        },
        {
          "output_type": "stream",
          "name": "stdout",
          "text": [
            "2023-04-21 01:56:48,074 ----------------------------------------------------------------------------------------------------\n",
            "2023-04-21 01:56:49,461 epoch 25 - iter 7/79 - loss 0.34111776 - time (sec): 1.39 - samples/sec: 4920.49 - lr: 0.006250\n",
            "2023-04-21 01:56:51,225 epoch 25 - iter 14/79 - loss 0.37429765 - time (sec): 3.15 - samples/sec: 4911.00 - lr: 0.006250\n",
            "2023-04-21 01:56:52,786 epoch 25 - iter 21/79 - loss 0.37994439 - time (sec): 4.71 - samples/sec: 5009.71 - lr: 0.006250\n",
            "2023-04-21 01:56:54,223 epoch 25 - iter 28/79 - loss 0.37543556 - time (sec): 6.15 - samples/sec: 5029.04 - lr: 0.006250\n",
            "2023-04-21 01:56:56,426 epoch 25 - iter 35/79 - loss 0.37683194 - time (sec): 8.35 - samples/sec: 4826.64 - lr: 0.006250\n",
            "2023-04-21 01:56:58,381 epoch 25 - iter 42/79 - loss 0.37972380 - time (sec): 10.31 - samples/sec: 4757.51 - lr: 0.006250\n",
            "2023-04-21 01:57:00,056 epoch 25 - iter 49/79 - loss 0.38286427 - time (sec): 11.98 - samples/sec: 4817.71 - lr: 0.006250\n",
            "2023-04-21 01:57:01,982 epoch 25 - iter 56/79 - loss 0.38211336 - time (sec): 13.91 - samples/sec: 4853.33 - lr: 0.006250\n",
            "2023-04-21 01:57:03,361 epoch 25 - iter 63/79 - loss 0.38897378 - time (sec): 15.29 - samples/sec: 4879.34 - lr: 0.006250\n",
            "2023-04-21 01:57:05,167 epoch 25 - iter 70/79 - loss 0.38552514 - time (sec): 17.09 - samples/sec: 4855.05 - lr: 0.006250\n",
            "2023-04-21 01:57:07,496 epoch 25 - iter 77/79 - loss 0.38154556 - time (sec): 19.42 - samples/sec: 4744.04 - lr: 0.006250\n",
            "2023-04-21 01:57:08,200 ----------------------------------------------------------------------------------------------------\n",
            "2023-04-21 01:57:08,202 EPOCH 25 done: loss 0.3794 - lr 0.006250\n"
          ]
        },
        {
          "output_type": "stream",
          "name": "stderr",
          "text": [
            "100%|██████████| 79/79 [00:21<00:00,  3.73it/s]"
          ]
        },
        {
          "output_type": "stream",
          "name": "stdout",
          "text": [
            "2023-04-21 01:57:29,532 Evaluating as a multi-label problem: True\n"
          ]
        },
        {
          "output_type": "stream",
          "name": "stderr",
          "text": [
            "\n"
          ]
        },
        {
          "output_type": "stream",
          "name": "stdout",
          "text": [
            "2023-04-21 01:57:31,823 TRAIN : loss 0.3006163537502289 - f1-score (weighted avg)  0.3238\n"
          ]
        },
        {
          "output_type": "stream",
          "name": "stderr",
          "text": [
            "100%|██████████| 10/10 [00:02<00:00,  3.67it/s]"
          ]
        },
        {
          "output_type": "stream",
          "name": "stdout",
          "text": [
            "2023-04-21 01:57:34,628 Evaluating as a multi-label problem: False\n",
            "2023-04-21 01:57:34,696 DEV : loss 0.30892184376716614 - f1-score (weighted avg)  0.3197\n",
            "2023-04-21 01:57:34,706 BAD EPOCHS (no improvement): 1\n",
            "2023-04-21 01:57:34,710 ----------------------------------------------------------------------------------------------------\n"
          ]
        },
        {
          "output_type": "stream",
          "name": "stderr",
          "text": [
            "\n"
          ]
        },
        {
          "output_type": "stream",
          "name": "stdout",
          "text": [
            "2023-04-21 01:57:36,316 epoch 26 - iter 7/79 - loss 0.34419619 - time (sec): 1.60 - samples/sec: 5430.12 - lr: 0.006250\n",
            "2023-04-21 01:57:37,791 epoch 26 - iter 14/79 - loss 0.38114838 - time (sec): 3.08 - samples/sec: 5289.42 - lr: 0.006250\n",
            "2023-04-21 01:57:40,066 epoch 26 - iter 21/79 - loss 0.37916820 - time (sec): 5.35 - samples/sec: 4886.47 - lr: 0.006250\n",
            "2023-04-21 01:57:42,068 epoch 26 - iter 28/79 - loss 0.38102810 - time (sec): 7.36 - samples/sec: 4785.18 - lr: 0.006250\n",
            "2023-04-21 01:57:43,851 epoch 26 - iter 35/79 - loss 0.37488598 - time (sec): 9.14 - samples/sec: 4804.01 - lr: 0.006250\n",
            "2023-04-21 01:57:45,841 epoch 26 - iter 42/79 - loss 0.38095423 - time (sec): 11.13 - samples/sec: 4727.02 - lr: 0.006250\n",
            "2023-04-21 01:57:47,357 epoch 26 - iter 49/79 - loss 0.38352358 - time (sec): 12.65 - samples/sec: 4733.98 - lr: 0.006250\n",
            "2023-04-21 01:57:48,881 epoch 26 - iter 56/79 - loss 0.38192774 - time (sec): 14.17 - samples/sec: 4792.79 - lr: 0.006250\n",
            "2023-04-21 01:57:50,533 epoch 26 - iter 63/79 - loss 0.38332296 - time (sec): 15.82 - samples/sec: 4791.78 - lr: 0.006250\n",
            "2023-04-21 01:57:52,141 epoch 26 - iter 70/79 - loss 0.38178756 - time (sec): 17.43 - samples/sec: 4800.87 - lr: 0.006250\n",
            "2023-04-21 01:57:53,860 epoch 26 - iter 77/79 - loss 0.38253156 - time (sec): 19.15 - samples/sec: 4799.31 - lr: 0.006250\n",
            "2023-04-21 01:57:54,417 ----------------------------------------------------------------------------------------------------\n",
            "2023-04-21 01:57:54,419 EPOCH 26 done: loss 0.3813 - lr 0.006250\n"
          ]
        },
        {
          "output_type": "stream",
          "name": "stderr",
          "text": [
            "100%|██████████| 79/79 [00:21<00:00,  3.73it/s]\n"
          ]
        },
        {
          "output_type": "stream",
          "name": "stdout",
          "text": [
            "2023-04-21 01:58:16,925 Evaluating as a multi-label problem: True\n",
            "2023-04-21 01:58:19,218 TRAIN : loss 0.31123775243759155 - f1-score (weighted avg)  0.2846\n"
          ]
        },
        {
          "output_type": "stream",
          "name": "stderr",
          "text": [
            "100%|██████████| 10/10 [00:02<00:00,  3.64it/s]"
          ]
        },
        {
          "output_type": "stream",
          "name": "stdout",
          "text": [
            "2023-04-21 01:58:22,054 Evaluating as a multi-label problem: False\n",
            "2023-04-21 01:58:22,124 DEV : loss 0.3202229142189026 - f1-score (weighted avg)  0.2774\n",
            "2023-04-21 01:58:22,134 Epoch    26: reducing learning rate of group 0 to 3.1250e-03.\n",
            "2023-04-21 01:58:22,136 BAD EPOCHS (no improvement): 2\n",
            "2023-04-21 01:58:22,140 ----------------------------------------------------------------------------------------------------\n"
          ]
        },
        {
          "output_type": "stream",
          "name": "stderr",
          "text": [
            "\n"
          ]
        },
        {
          "output_type": "stream",
          "name": "stdout",
          "text": [
            "2023-04-21 01:58:23,801 epoch 27 - iter 7/79 - loss 0.39589420 - time (sec): 1.66 - samples/sec: 5107.35 - lr: 0.003125\n",
            "2023-04-21 01:58:25,342 epoch 27 - iter 14/79 - loss 0.37329475 - time (sec): 3.20 - samples/sec: 5023.43 - lr: 0.003125\n",
            "2023-04-21 01:58:27,262 epoch 27 - iter 21/79 - loss 0.36290826 - time (sec): 5.12 - samples/sec: 4802.68 - lr: 0.003125\n",
            "2023-04-21 01:58:28,953 epoch 27 - iter 28/79 - loss 0.36327456 - time (sec): 6.81 - samples/sec: 4887.48 - lr: 0.003125\n",
            "2023-04-21 01:58:30,488 epoch 27 - iter 35/79 - loss 0.36773621 - time (sec): 8.35 - samples/sec: 4920.42 - lr: 0.003125\n",
            "2023-04-21 01:58:32,363 epoch 27 - iter 42/79 - loss 0.37135928 - time (sec): 10.22 - samples/sec: 4879.36 - lr: 0.003125\n",
            "2023-04-21 01:58:34,279 epoch 27 - iter 49/79 - loss 0.36771604 - time (sec): 12.14 - samples/sec: 4924.53 - lr: 0.003125\n",
            "2023-04-21 01:58:35,816 epoch 27 - iter 56/79 - loss 0.36801515 - time (sec): 13.67 - samples/sec: 4957.96 - lr: 0.003125\n",
            "2023-04-21 01:58:37,371 epoch 27 - iter 63/79 - loss 0.36942914 - time (sec): 15.23 - samples/sec: 4943.04 - lr: 0.003125\n",
            "2023-04-21 01:58:39,209 epoch 27 - iter 70/79 - loss 0.37002948 - time (sec): 17.07 - samples/sec: 4935.28 - lr: 0.003125\n",
            "2023-04-21 01:58:41,173 epoch 27 - iter 77/79 - loss 0.36988788 - time (sec): 19.03 - samples/sec: 4866.15 - lr: 0.003125\n",
            "2023-04-21 01:58:41,954 ----------------------------------------------------------------------------------------------------\n",
            "2023-04-21 01:58:41,956 EPOCH 27 done: loss 0.3690 - lr 0.003125\n"
          ]
        },
        {
          "output_type": "stream",
          "name": "stderr",
          "text": [
            "100%|██████████| 79/79 [00:21<00:00,  3.72it/s]"
          ]
        },
        {
          "output_type": "stream",
          "name": "stdout",
          "text": [
            "2023-04-21 01:59:03,355 Evaluating as a multi-label problem: True\n"
          ]
        },
        {
          "output_type": "stream",
          "name": "stderr",
          "text": [
            "\n"
          ]
        },
        {
          "output_type": "stream",
          "name": "stdout",
          "text": [
            "2023-04-21 01:59:07,000 TRAIN : loss 0.28926950693130493 - f1-score (weighted avg)  0.3354\n"
          ]
        },
        {
          "output_type": "stream",
          "name": "stderr",
          "text": [
            "100%|██████████| 10/10 [00:02<00:00,  3.64it/s]"
          ]
        },
        {
          "output_type": "stream",
          "name": "stdout",
          "text": [
            "2023-04-21 01:59:09,831 Evaluating as a multi-label problem: False\n",
            "2023-04-21 01:59:09,898 DEV : loss 0.29435789585113525 - f1-score (weighted avg)  0.334\n",
            "2023-04-21 01:59:09,907 BAD EPOCHS (no improvement): 0\n",
            "2023-04-21 01:59:09,912 saving best model\n"
          ]
        },
        {
          "output_type": "stream",
          "name": "stderr",
          "text": [
            "\n"
          ]
        },
        {
          "output_type": "stream",
          "name": "stdout",
          "text": [
            "2023-04-21 01:59:11,984 ----------------------------------------------------------------------------------------------------\n",
            "2023-04-21 01:59:14,224 epoch 28 - iter 7/79 - loss 0.37715729 - time (sec): 2.24 - samples/sec: 3984.59 - lr: 0.003125\n",
            "2023-04-21 01:59:15,797 epoch 28 - iter 14/79 - loss 0.38518844 - time (sec): 3.81 - samples/sec: 4547.91 - lr: 0.003125\n",
            "2023-04-21 01:59:17,799 epoch 28 - iter 21/79 - loss 0.37645552 - time (sec): 5.81 - samples/sec: 4561.32 - lr: 0.003125\n",
            "2023-04-21 01:59:19,355 epoch 28 - iter 28/79 - loss 0.37297700 - time (sec): 7.37 - samples/sec: 4695.75 - lr: 0.003125\n",
            "2023-04-21 01:59:21,286 epoch 28 - iter 35/79 - loss 0.36561258 - time (sec): 9.30 - samples/sec: 4667.14 - lr: 0.003125\n",
            "2023-04-21 01:59:22,892 epoch 28 - iter 42/79 - loss 0.37182146 - time (sec): 10.91 - samples/sec: 4670.71 - lr: 0.003125\n",
            "2023-04-21 01:59:24,649 epoch 28 - iter 49/79 - loss 0.36839314 - time (sec): 12.66 - samples/sec: 4656.39 - lr: 0.003125\n",
            "2023-04-21 01:59:26,619 epoch 28 - iter 56/79 - loss 0.36770431 - time (sec): 14.63 - samples/sec: 4686.63 - lr: 0.003125\n",
            "2023-04-21 01:59:28,150 epoch 28 - iter 63/79 - loss 0.36787213 - time (sec): 16.16 - samples/sec: 4718.14 - lr: 0.003125\n",
            "2023-04-21 01:59:29,987 epoch 28 - iter 70/79 - loss 0.36477247 - time (sec): 18.00 - samples/sec: 4723.73 - lr: 0.003125\n",
            "2023-04-21 01:59:31,766 epoch 28 - iter 77/79 - loss 0.36360824 - time (sec): 19.78 - samples/sec: 4690.89 - lr: 0.003125\n",
            "2023-04-21 01:59:32,239 ----------------------------------------------------------------------------------------------------\n",
            "2023-04-21 01:59:32,241 EPOCH 28 done: loss 0.3632 - lr 0.003125\n"
          ]
        },
        {
          "output_type": "stream",
          "name": "stderr",
          "text": [
            "100%|██████████| 79/79 [00:21<00:00,  3.72it/s]"
          ]
        },
        {
          "output_type": "stream",
          "name": "stdout",
          "text": [
            "2023-04-21 01:59:53,633 Evaluating as a multi-label problem: True\n"
          ]
        },
        {
          "output_type": "stream",
          "name": "stderr",
          "text": [
            "\n"
          ]
        },
        {
          "output_type": "stream",
          "name": "stdout",
          "text": [
            "2023-04-21 01:59:55,928 TRAIN : loss 0.28587400913238525 - f1-score (weighted avg)  0.3332\n"
          ]
        },
        {
          "output_type": "stream",
          "name": "stderr",
          "text": [
            "100%|██████████| 10/10 [00:02<00:00,  3.66it/s]"
          ]
        },
        {
          "output_type": "stream",
          "name": "stdout",
          "text": [
            "2023-04-21 01:59:58,743 Evaluating as a multi-label problem: False\n",
            "2023-04-21 01:59:58,811 DEV : loss 0.2950611710548401 - f1-score (weighted avg)  0.3238\n",
            "2023-04-21 01:59:58,821 BAD EPOCHS (no improvement): 1\n",
            "2023-04-21 01:59:58,825 ----------------------------------------------------------------------------------------------------\n"
          ]
        },
        {
          "output_type": "stream",
          "name": "stderr",
          "text": [
            "\n"
          ]
        },
        {
          "output_type": "stream",
          "name": "stdout",
          "text": [
            "2023-04-21 02:00:00,692 epoch 29 - iter 7/79 - loss 0.32162528 - time (sec): 1.87 - samples/sec: 4239.71 - lr: 0.003125\n",
            "2023-04-21 02:00:02,383 epoch 29 - iter 14/79 - loss 0.36214639 - time (sec): 3.56 - samples/sec: 4668.13 - lr: 0.003125\n",
            "2023-04-21 02:00:04,077 epoch 29 - iter 21/79 - loss 0.36692807 - time (sec): 5.25 - samples/sec: 4631.82 - lr: 0.003125\n",
            "2023-04-21 02:00:05,611 epoch 29 - iter 28/79 - loss 0.36747046 - time (sec): 6.78 - samples/sec: 4940.89 - lr: 0.003125\n",
            "2023-04-21 02:00:07,302 epoch 29 - iter 35/79 - loss 0.36563254 - time (sec): 8.47 - samples/sec: 5046.71 - lr: 0.003125\n",
            "2023-04-21 02:00:09,408 epoch 29 - iter 42/79 - loss 0.36238841 - time (sec): 10.58 - samples/sec: 4832.56 - lr: 0.003125\n",
            "2023-04-21 02:00:11,269 epoch 29 - iter 49/79 - loss 0.36377981 - time (sec): 12.44 - samples/sec: 4843.42 - lr: 0.003125\n",
            "2023-04-21 02:00:13,181 epoch 29 - iter 56/79 - loss 0.35538567 - time (sec): 14.35 - samples/sec: 4789.19 - lr: 0.003125\n",
            "2023-04-21 02:00:14,793 epoch 29 - iter 63/79 - loss 0.35732458 - time (sec): 15.97 - samples/sec: 4801.63 - lr: 0.003125\n",
            "2023-04-21 02:00:16,608 epoch 29 - iter 70/79 - loss 0.35587420 - time (sec): 17.78 - samples/sec: 4759.55 - lr: 0.003125\n",
            "2023-04-21 02:00:18,104 epoch 29 - iter 77/79 - loss 0.35662347 - time (sec): 19.28 - samples/sec: 4785.24 - lr: 0.003125\n",
            "2023-04-21 02:00:18,519 ----------------------------------------------------------------------------------------------------\n",
            "2023-04-21 02:00:18,520 EPOCH 29 done: loss 0.3563 - lr 0.003125\n"
          ]
        },
        {
          "output_type": "stream",
          "name": "stderr",
          "text": [
            "100%|██████████| 79/79 [00:21<00:00,  3.71it/s]\n"
          ]
        },
        {
          "output_type": "stream",
          "name": "stdout",
          "text": [
            "2023-04-21 02:00:41,187 Evaluating as a multi-label problem: True\n",
            "2023-04-21 02:00:43,483 TRAIN : loss 0.29707828164100647 - f1-score (weighted avg)  0.3378\n"
          ]
        },
        {
          "output_type": "stream",
          "name": "stderr",
          "text": [
            "100%|██████████| 10/10 [00:02<00:00,  3.69it/s]"
          ]
        },
        {
          "output_type": "stream",
          "name": "stdout",
          "text": [
            "2023-04-21 02:00:46,272 Evaluating as a multi-label problem: False\n",
            "2023-04-21 02:00:46,339 DEV : loss 0.30746668577194214 - f1-score (weighted avg)  0.3328\n",
            "2023-04-21 02:00:46,349 Epoch    29: reducing learning rate of group 0 to 1.5625e-03.\n",
            "2023-04-21 02:00:46,351 BAD EPOCHS (no improvement): 2\n",
            "2023-04-21 02:00:46,355 ----------------------------------------------------------------------------------------------------\n"
          ]
        },
        {
          "output_type": "stream",
          "name": "stderr",
          "text": [
            "\n"
          ]
        },
        {
          "output_type": "stream",
          "name": "stdout",
          "text": [
            "2023-04-21 02:00:48,163 epoch 30 - iter 7/79 - loss 0.35559110 - time (sec): 1.81 - samples/sec: 4823.13 - lr: 0.001563\n",
            "2023-04-21 02:00:50,006 epoch 30 - iter 14/79 - loss 0.35103926 - time (sec): 3.65 - samples/sec: 4691.08 - lr: 0.001563\n",
            "2023-04-21 02:00:51,547 epoch 30 - iter 21/79 - loss 0.34254438 - time (sec): 5.19 - samples/sec: 4836.17 - lr: 0.001563\n",
            "2023-04-21 02:00:53,063 epoch 30 - iter 28/79 - loss 0.34702324 - time (sec): 6.71 - samples/sec: 4937.12 - lr: 0.001563\n",
            "2023-04-21 02:00:54,845 epoch 30 - iter 35/79 - loss 0.34704986 - time (sec): 8.49 - samples/sec: 4868.88 - lr: 0.001563\n",
            "2023-04-21 02:00:56,846 epoch 30 - iter 42/79 - loss 0.34313394 - time (sec): 10.49 - samples/sec: 4855.79 - lr: 0.001563\n",
            "2023-04-21 02:00:58,865 epoch 30 - iter 49/79 - loss 0.34165169 - time (sec): 12.51 - samples/sec: 4786.43 - lr: 0.001563\n",
            "2023-04-21 02:01:00,698 epoch 30 - iter 56/79 - loss 0.34947639 - time (sec): 14.34 - samples/sec: 4754.46 - lr: 0.001563\n",
            "2023-04-21 02:01:02,244 epoch 30 - iter 63/79 - loss 0.34762538 - time (sec): 15.89 - samples/sec: 4790.59 - lr: 0.001563\n",
            "2023-04-21 02:01:04,026 epoch 30 - iter 70/79 - loss 0.34671052 - time (sec): 17.67 - samples/sec: 4800.79 - lr: 0.001563\n",
            "2023-04-21 02:01:05,558 epoch 30 - iter 77/79 - loss 0.34875912 - time (sec): 19.20 - samples/sec: 4816.52 - lr: 0.001563\n",
            "2023-04-21 02:01:05,976 ----------------------------------------------------------------------------------------------------\n",
            "2023-04-21 02:01:05,978 EPOCH 30 done: loss 0.3485 - lr 0.001563\n"
          ]
        },
        {
          "output_type": "stream",
          "name": "stderr",
          "text": [
            "100%|██████████| 79/79 [00:21<00:00,  3.69it/s]"
          ]
        },
        {
          "output_type": "stream",
          "name": "stdout",
          "text": [
            "2023-04-21 02:01:27,542 Evaluating as a multi-label problem: True\n"
          ]
        },
        {
          "output_type": "stream",
          "name": "stderr",
          "text": [
            "\n"
          ]
        },
        {
          "output_type": "stream",
          "name": "stdout",
          "text": [
            "2023-04-21 02:01:29,837 TRAIN : loss 0.28387215733528137 - f1-score (weighted avg)  0.3372\n"
          ]
        },
        {
          "output_type": "stream",
          "name": "stderr",
          "text": [
            "100%|██████████| 10/10 [00:02<00:00,  3.63it/s]"
          ]
        },
        {
          "output_type": "stream",
          "name": "stdout",
          "text": [
            "2023-04-21 02:01:32,685 Evaluating as a multi-label problem: False\n",
            "2023-04-21 02:01:32,753 DEV : loss 0.29396435618400574 - f1-score (weighted avg)  0.3253\n",
            "2023-04-21 02:01:32,764 BAD EPOCHS (no improvement): 0\n",
            "2023-04-21 02:01:32,768 saving best model\n"
          ]
        },
        {
          "output_type": "stream",
          "name": "stderr",
          "text": [
            "\n"
          ]
        },
        {
          "output_type": "stream",
          "name": "stdout",
          "text": [
            "2023-04-21 02:01:34,866 ----------------------------------------------------------------------------------------------------\n",
            "2023-04-21 02:01:36,414 epoch 31 - iter 7/79 - loss 0.35829673 - time (sec): 1.55 - samples/sec: 5386.53 - lr: 0.001563\n",
            "2023-04-21 02:01:38,015 epoch 31 - iter 14/79 - loss 0.33469096 - time (sec): 3.15 - samples/sec: 5203.76 - lr: 0.001563\n",
            "2023-04-21 02:01:39,911 epoch 31 - iter 21/79 - loss 0.34186734 - time (sec): 5.04 - samples/sec: 4957.90 - lr: 0.001563\n",
            "2023-04-21 02:01:41,638 epoch 31 - iter 28/79 - loss 0.35200924 - time (sec): 6.77 - samples/sec: 4934.55 - lr: 0.001563\n",
            "2023-04-21 02:01:43,937 epoch 31 - iter 35/79 - loss 0.35545686 - time (sec): 9.07 - samples/sec: 4654.85 - lr: 0.001563\n",
            "2023-04-21 02:01:45,705 epoch 31 - iter 42/79 - loss 0.35751819 - time (sec): 10.84 - samples/sec: 4633.29 - lr: 0.001563\n",
            "2023-04-21 02:01:47,715 epoch 31 - iter 49/79 - loss 0.35573020 - time (sec): 12.85 - samples/sec: 4566.31 - lr: 0.001563\n",
            "2023-04-21 02:01:49,251 epoch 31 - iter 56/79 - loss 0.35308793 - time (sec): 14.38 - samples/sec: 4557.02 - lr: 0.001563\n",
            "2023-04-21 02:01:50,841 epoch 31 - iter 63/79 - loss 0.35371219 - time (sec): 15.97 - samples/sec: 4651.13 - lr: 0.001563\n",
            "2023-04-21 02:01:52,596 epoch 31 - iter 70/79 - loss 0.35249129 - time (sec): 17.73 - samples/sec: 4663.37 - lr: 0.001563\n",
            "2023-04-21 02:01:54,560 epoch 31 - iter 77/79 - loss 0.35042699 - time (sec): 19.69 - samples/sec: 4703.74 - lr: 0.001563\n",
            "2023-04-21 02:01:55,009 ----------------------------------------------------------------------------------------------------\n",
            "2023-04-21 02:01:55,011 EPOCH 31 done: loss 0.3494 - lr 0.001563\n"
          ]
        },
        {
          "output_type": "stream",
          "name": "stderr",
          "text": [
            "100%|██████████| 79/79 [00:22<00:00,  3.53it/s]"
          ]
        },
        {
          "output_type": "stream",
          "name": "stdout",
          "text": [
            "2023-04-21 02:02:17,515 Evaluating as a multi-label problem: True\n"
          ]
        },
        {
          "output_type": "stream",
          "name": "stderr",
          "text": [
            "\n"
          ]
        },
        {
          "output_type": "stream",
          "name": "stdout",
          "text": [
            "2023-04-21 02:02:19,818 TRAIN : loss 0.28765761852264404 - f1-score (weighted avg)  0.3067\n"
          ]
        },
        {
          "output_type": "stream",
          "name": "stderr",
          "text": [
            "100%|██████████| 10/10 [00:02<00:00,  3.70it/s]"
          ]
        },
        {
          "output_type": "stream",
          "name": "stdout",
          "text": [
            "2023-04-21 02:02:22,603 Evaluating as a multi-label problem: False\n",
            "2023-04-21 02:02:22,670 DEV : loss 0.2948721945285797 - f1-score (weighted avg)  0.3083\n",
            "2023-04-21 02:02:22,680 BAD EPOCHS (no improvement): 1\n",
            "2023-04-21 02:02:22,684 ----------------------------------------------------------------------------------------------------\n"
          ]
        },
        {
          "output_type": "stream",
          "name": "stderr",
          "text": [
            "\n"
          ]
        },
        {
          "output_type": "stream",
          "name": "stdout",
          "text": [
            "2023-04-21 02:02:24,353 epoch 32 - iter 7/79 - loss 0.38533648 - time (sec): 1.67 - samples/sec: 5025.42 - lr: 0.001563\n",
            "2023-04-21 02:02:25,883 epoch 32 - iter 14/79 - loss 0.35707374 - time (sec): 3.20 - samples/sec: 5136.54 - lr: 0.001563\n",
            "2023-04-21 02:02:28,132 epoch 32 - iter 21/79 - loss 0.35548083 - time (sec): 5.45 - samples/sec: 4630.58 - lr: 0.001563\n",
            "2023-04-21 02:02:29,917 epoch 32 - iter 28/79 - loss 0.35937109 - time (sec): 7.23 - samples/sec: 4696.79 - lr: 0.001563\n",
            "2023-04-21 02:02:31,609 epoch 32 - iter 35/79 - loss 0.35089743 - time (sec): 8.92 - samples/sec: 4732.00 - lr: 0.001563\n",
            "2023-04-21 02:02:33,208 epoch 32 - iter 42/79 - loss 0.34976912 - time (sec): 10.52 - samples/sec: 4774.34 - lr: 0.001563\n",
            "2023-04-21 02:02:35,299 epoch 32 - iter 49/79 - loss 0.34500137 - time (sec): 12.61 - samples/sec: 4707.61 - lr: 0.001563\n",
            "2023-04-21 02:02:36,671 epoch 32 - iter 56/79 - loss 0.34369602 - time (sec): 13.99 - samples/sec: 4835.74 - lr: 0.001563\n",
            "2023-04-21 02:02:38,320 epoch 32 - iter 63/79 - loss 0.34474398 - time (sec): 15.63 - samples/sec: 4859.66 - lr: 0.001563\n",
            "2023-04-21 02:02:39,866 epoch 32 - iter 70/79 - loss 0.34328412 - time (sec): 17.18 - samples/sec: 4882.52 - lr: 0.001563\n",
            "2023-04-21 02:02:41,502 epoch 32 - iter 77/79 - loss 0.34420209 - time (sec): 18.82 - samples/sec: 4911.45 - lr: 0.001563\n",
            "2023-04-21 02:02:41,971 ----------------------------------------------------------------------------------------------------\n",
            "2023-04-21 02:02:41,973 EPOCH 32 done: loss 0.3464 - lr 0.001563\n"
          ]
        },
        {
          "output_type": "stream",
          "name": "stderr",
          "text": [
            "100%|██████████| 79/79 [00:21<00:00,  3.70it/s]"
          ]
        },
        {
          "output_type": "stream",
          "name": "stdout",
          "text": [
            "2023-04-21 02:03:03,488 Evaluating as a multi-label problem: True\n"
          ]
        },
        {
          "output_type": "stream",
          "name": "stderr",
          "text": [
            "\n"
          ]
        },
        {
          "output_type": "stream",
          "name": "stdout",
          "text": [
            "2023-04-21 02:03:07,013 TRAIN : loss 0.27820318937301636 - f1-score (weighted avg)  0.3257\n"
          ]
        },
        {
          "output_type": "stream",
          "name": "stderr",
          "text": [
            "100%|██████████| 10/10 [00:02<00:00,  3.68it/s]"
          ]
        },
        {
          "output_type": "stream",
          "name": "stdout",
          "text": [
            "2023-04-21 02:03:09,820 Evaluating as a multi-label problem: False\n",
            "2023-04-21 02:03:09,888 DEV : loss 0.2860194444656372 - f1-score (weighted avg)  0.3281\n",
            "2023-04-21 02:03:09,899 BAD EPOCHS (no improvement): 0\n",
            "2023-04-21 02:03:09,903 saving best model\n"
          ]
        },
        {
          "output_type": "stream",
          "name": "stderr",
          "text": [
            "\n"
          ]
        },
        {
          "output_type": "stream",
          "name": "stdout",
          "text": [
            "2023-04-21 02:03:11,992 ----------------------------------------------------------------------------------------------------\n",
            "2023-04-21 02:03:13,936 epoch 33 - iter 7/79 - loss 0.27634413 - time (sec): 1.92 - samples/sec: 4657.59 - lr: 0.001563\n",
            "2023-04-21 02:03:15,610 epoch 33 - iter 14/79 - loss 0.32335964 - time (sec): 3.59 - samples/sec: 4929.71 - lr: 0.001563\n",
            "2023-04-21 02:03:17,474 epoch 33 - iter 21/79 - loss 0.33187738 - time (sec): 5.46 - samples/sec: 4805.63 - lr: 0.001563\n",
            "2023-04-21 02:03:19,141 epoch 33 - iter 28/79 - loss 0.33999516 - time (sec): 7.12 - samples/sec: 4823.95 - lr: 0.001563\n",
            "2023-04-21 02:03:20,468 epoch 33 - iter 35/79 - loss 0.34515393 - time (sec): 8.45 - samples/sec: 4939.71 - lr: 0.001563\n",
            "2023-04-21 02:03:22,141 epoch 33 - iter 42/79 - loss 0.34464805 - time (sec): 10.12 - samples/sec: 4980.75 - lr: 0.001563\n",
            "2023-04-21 02:03:23,883 epoch 33 - iter 49/79 - loss 0.34547401 - time (sec): 11.87 - samples/sec: 4977.98 - lr: 0.001563\n",
            "2023-04-21 02:03:25,546 epoch 33 - iter 56/79 - loss 0.34213938 - time (sec): 13.53 - samples/sec: 4986.01 - lr: 0.001563\n",
            "2023-04-21 02:03:27,299 epoch 33 - iter 63/79 - loss 0.34554472 - time (sec): 15.28 - samples/sec: 4970.08 - lr: 0.001563\n",
            "2023-04-21 02:03:29,565 epoch 33 - iter 70/79 - loss 0.34523959 - time (sec): 17.55 - samples/sec: 4843.60 - lr: 0.001563\n",
            "2023-04-21 02:03:31,147 epoch 33 - iter 77/79 - loss 0.34935839 - time (sec): 19.13 - samples/sec: 4822.48 - lr: 0.001563\n",
            "2023-04-21 02:03:31,830 ----------------------------------------------------------------------------------------------------\n",
            "2023-04-21 02:03:31,832 EPOCH 33 done: loss 0.3490 - lr 0.001563\n"
          ]
        },
        {
          "output_type": "stream",
          "name": "stderr",
          "text": [
            "100%|██████████| 79/79 [00:21<00:00,  3.72it/s]"
          ]
        },
        {
          "output_type": "stream",
          "name": "stdout",
          "text": [
            "2023-04-21 02:03:53,194 Evaluating as a multi-label problem: True\n"
          ]
        },
        {
          "output_type": "stream",
          "name": "stderr",
          "text": [
            "\n"
          ]
        },
        {
          "output_type": "stream",
          "name": "stdout",
          "text": [
            "2023-04-21 02:03:55,489 TRAIN : loss 0.2817997634410858 - f1-score (weighted avg)  0.3224\n"
          ]
        },
        {
          "output_type": "stream",
          "name": "stderr",
          "text": [
            "100%|██████████| 10/10 [00:02<00:00,  3.64it/s]"
          ]
        },
        {
          "output_type": "stream",
          "name": "stdout",
          "text": [
            "2023-04-21 02:03:58,322 Evaluating as a multi-label problem: False\n",
            "2023-04-21 02:03:58,391 DEV : loss 0.2896963655948639 - f1-score (weighted avg)  0.3222\n",
            "2023-04-21 02:03:58,401 BAD EPOCHS (no improvement): 1\n",
            "2023-04-21 02:03:58,406 ----------------------------------------------------------------------------------------------------\n"
          ]
        },
        {
          "output_type": "stream",
          "name": "stderr",
          "text": [
            "\n"
          ]
        },
        {
          "output_type": "stream",
          "name": "stdout",
          "text": [
            "2023-04-21 02:03:59,968 epoch 34 - iter 7/79 - loss 0.34756484 - time (sec): 1.56 - samples/sec: 5693.25 - lr: 0.001563\n",
            "2023-04-21 02:04:01,768 epoch 34 - iter 14/79 - loss 0.35258965 - time (sec): 3.36 - samples/sec: 5151.50 - lr: 0.001563\n",
            "2023-04-21 02:04:03,672 epoch 34 - iter 21/79 - loss 0.34813849 - time (sec): 5.27 - samples/sec: 4868.97 - lr: 0.001563\n",
            "2023-04-21 02:04:05,600 epoch 34 - iter 28/79 - loss 0.34227988 - time (sec): 7.19 - samples/sec: 4774.66 - lr: 0.001563\n",
            "2023-04-21 02:04:07,300 epoch 34 - iter 35/79 - loss 0.33847826 - time (sec): 8.89 - samples/sec: 4793.93 - lr: 0.001563\n",
            "2023-04-21 02:04:08,824 epoch 34 - iter 42/79 - loss 0.34372066 - time (sec): 10.42 - samples/sec: 4882.10 - lr: 0.001563\n",
            "2023-04-21 02:04:10,484 epoch 34 - iter 49/79 - loss 0.34785527 - time (sec): 12.08 - samples/sec: 4885.31 - lr: 0.001563\n",
            "2023-04-21 02:04:12,234 epoch 34 - iter 56/79 - loss 0.34645800 - time (sec): 13.83 - samples/sec: 4901.11 - lr: 0.001563\n",
            "2023-04-21 02:04:13,870 epoch 34 - iter 63/79 - loss 0.34310265 - time (sec): 15.46 - samples/sec: 4929.83 - lr: 0.001563\n",
            "2023-04-21 02:04:15,653 epoch 34 - iter 70/79 - loss 0.34157463 - time (sec): 17.25 - samples/sec: 4848.75 - lr: 0.001563\n",
            "2023-04-21 02:04:17,304 epoch 34 - iter 77/79 - loss 0.33990505 - time (sec): 18.90 - samples/sec: 4862.34 - lr: 0.001563\n",
            "2023-04-21 02:04:18,218 ----------------------------------------------------------------------------------------------------\n",
            "2023-04-21 02:04:18,220 EPOCH 34 done: loss 0.3382 - lr 0.001563\n"
          ]
        },
        {
          "output_type": "stream",
          "name": "stderr",
          "text": [
            "100%|██████████| 79/79 [00:22<00:00,  3.50it/s]"
          ]
        },
        {
          "output_type": "stream",
          "name": "stdout",
          "text": [
            "2023-04-21 02:04:40,962 Evaluating as a multi-label problem: True\n"
          ]
        },
        {
          "output_type": "stream",
          "name": "stderr",
          "text": [
            "\n"
          ]
        },
        {
          "output_type": "stream",
          "name": "stdout",
          "text": [
            "2023-04-21 02:04:43,234 TRAIN : loss 0.2837710678577423 - f1-score (weighted avg)  0.3287\n"
          ]
        },
        {
          "output_type": "stream",
          "name": "stderr",
          "text": [
            "100%|██████████| 10/10 [00:02<00:00,  3.65it/s]"
          ]
        },
        {
          "output_type": "stream",
          "name": "stdout",
          "text": [
            "2023-04-21 02:04:46,056 Evaluating as a multi-label problem: False\n",
            "2023-04-21 02:04:46,125 DEV : loss 0.291992723941803 - f1-score (weighted avg)  0.3358\n",
            "2023-04-21 02:04:46,134 Epoch    34: reducing learning rate of group 0 to 7.8125e-04.\n",
            "2023-04-21 02:04:46,136 BAD EPOCHS (no improvement): 2\n",
            "2023-04-21 02:04:46,140 ----------------------------------------------------------------------------------------------------\n"
          ]
        },
        {
          "output_type": "stream",
          "name": "stderr",
          "text": [
            "\n"
          ]
        },
        {
          "output_type": "stream",
          "name": "stdout",
          "text": [
            "2023-04-21 02:04:47,870 epoch 35 - iter 7/79 - loss 0.31187466 - time (sec): 1.73 - samples/sec: 4808.26 - lr: 0.000781\n",
            "2023-04-21 02:04:49,314 epoch 35 - iter 14/79 - loss 0.32570011 - time (sec): 3.17 - samples/sec: 5087.51 - lr: 0.000781\n",
            "2023-04-21 02:04:50,745 epoch 35 - iter 21/79 - loss 0.33421713 - time (sec): 4.60 - samples/sec: 5227.94 - lr: 0.000781\n",
            "2023-04-21 02:04:52,686 epoch 35 - iter 28/79 - loss 0.33381470 - time (sec): 6.54 - samples/sec: 5266.08 - lr: 0.000781\n",
            "2023-04-21 02:04:54,591 epoch 35 - iter 35/79 - loss 0.32833692 - time (sec): 8.45 - samples/sec: 5113.56 - lr: 0.000781\n",
            "2023-04-21 02:04:56,111 epoch 35 - iter 42/79 - loss 0.33477092 - time (sec): 9.97 - samples/sec: 5033.64 - lr: 0.000781\n",
            "2023-04-21 02:04:57,946 epoch 35 - iter 49/79 - loss 0.33236683 - time (sec): 11.80 - samples/sec: 4978.73 - lr: 0.000781\n",
            "2023-04-21 02:04:59,824 epoch 35 - iter 56/79 - loss 0.32958243 - time (sec): 13.68 - samples/sec: 4988.32 - lr: 0.000781\n",
            "2023-04-21 02:05:01,974 epoch 35 - iter 63/79 - loss 0.33270371 - time (sec): 15.83 - samples/sec: 4831.10 - lr: 0.000781\n",
            "2023-04-21 02:05:03,377 epoch 35 - iter 70/79 - loss 0.33761002 - time (sec): 17.24 - samples/sec: 4888.57 - lr: 0.000781\n",
            "2023-04-21 02:05:04,951 epoch 35 - iter 77/79 - loss 0.33613545 - time (sec): 18.81 - samples/sec: 4924.58 - lr: 0.000781\n",
            "2023-04-21 02:05:05,331 ----------------------------------------------------------------------------------------------------\n",
            "2023-04-21 02:05:05,333 EPOCH 35 done: loss 0.3373 - lr 0.000781\n"
          ]
        },
        {
          "output_type": "stream",
          "name": "stderr",
          "text": [
            "100%|██████████| 79/79 [00:21<00:00,  3.72it/s]"
          ]
        },
        {
          "output_type": "stream",
          "name": "stdout",
          "text": [
            "2023-04-21 02:05:26,683 Evaluating as a multi-label problem: True\n"
          ]
        },
        {
          "output_type": "stream",
          "name": "stderr",
          "text": [
            "\n"
          ]
        },
        {
          "output_type": "stream",
          "name": "stdout",
          "text": [
            "2023-04-21 02:05:30,303 TRAIN : loss 0.27676016092300415 - f1-score (weighted avg)  0.319\n"
          ]
        },
        {
          "output_type": "stream",
          "name": "stderr",
          "text": [
            "100%|██████████| 10/10 [00:02<00:00,  3.59it/s]"
          ]
        },
        {
          "output_type": "stream",
          "name": "stdout",
          "text": [
            "2023-04-21 02:05:33,184 Evaluating as a multi-label problem: False\n",
            "2023-04-21 02:05:33,251 DEV : loss 0.2835405468940735 - f1-score (weighted avg)  0.3188\n",
            "2023-04-21 02:05:33,261 BAD EPOCHS (no improvement): 0\n",
            "2023-04-21 02:05:33,265 saving best model\n"
          ]
        },
        {
          "output_type": "stream",
          "name": "stderr",
          "text": [
            "\n"
          ]
        },
        {
          "output_type": "stream",
          "name": "stdout",
          "text": [
            "2023-04-21 02:05:35,388 ----------------------------------------------------------------------------------------------------\n",
            "2023-04-21 02:05:37,313 epoch 36 - iter 7/79 - loss 0.32092319 - time (sec): 1.92 - samples/sec: 4337.24 - lr: 0.000781\n",
            "2023-04-21 02:05:39,092 epoch 36 - iter 14/79 - loss 0.32132336 - time (sec): 3.70 - samples/sec: 4707.61 - lr: 0.000781\n",
            "2023-04-21 02:05:40,810 epoch 36 - iter 21/79 - loss 0.32839606 - time (sec): 5.42 - samples/sec: 4753.71 - lr: 0.000781\n",
            "2023-04-21 02:05:42,586 epoch 36 - iter 28/79 - loss 0.32370140 - time (sec): 7.20 - samples/sec: 4703.82 - lr: 0.000781\n",
            "2023-04-21 02:05:44,701 epoch 36 - iter 35/79 - loss 0.32765168 - time (sec): 9.31 - samples/sec: 4548.73 - lr: 0.000781\n",
            "2023-04-21 02:05:46,457 epoch 36 - iter 42/79 - loss 0.33145696 - time (sec): 11.07 - samples/sec: 4556.07 - lr: 0.000781\n",
            "2023-04-21 02:05:48,398 epoch 36 - iter 49/79 - loss 0.33197329 - time (sec): 13.01 - samples/sec: 4502.29 - lr: 0.000781\n",
            "2023-04-21 02:05:50,065 epoch 36 - iter 56/79 - loss 0.33371916 - time (sec): 14.68 - samples/sec: 4569.56 - lr: 0.000781\n",
            "2023-04-21 02:05:51,656 epoch 36 - iter 63/79 - loss 0.32856502 - time (sec): 16.27 - samples/sec: 4651.05 - lr: 0.000781\n",
            "2023-04-21 02:05:53,531 epoch 36 - iter 70/79 - loss 0.33094937 - time (sec): 18.14 - samples/sec: 4688.05 - lr: 0.000781\n",
            "2023-04-21 02:05:55,117 epoch 36 - iter 77/79 - loss 0.33363903 - time (sec): 19.73 - samples/sec: 4687.68 - lr: 0.000781\n",
            "2023-04-21 02:05:55,706 ----------------------------------------------------------------------------------------------------\n",
            "2023-04-21 02:05:55,708 EPOCH 36 done: loss 0.3328 - lr 0.000781\n"
          ]
        },
        {
          "output_type": "stream",
          "name": "stderr",
          "text": [
            "100%|██████████| 79/79 [00:21<00:00,  3.72it/s]"
          ]
        },
        {
          "output_type": "stream",
          "name": "stdout",
          "text": [
            "2023-04-21 02:06:17,095 Evaluating as a multi-label problem: True\n"
          ]
        },
        {
          "output_type": "stream",
          "name": "stderr",
          "text": [
            "\n"
          ]
        },
        {
          "output_type": "stream",
          "name": "stdout",
          "text": [
            "2023-04-21 02:06:19,374 TRAIN : loss 0.27634552121162415 - f1-score (weighted avg)  0.3291\n"
          ]
        },
        {
          "output_type": "stream",
          "name": "stderr",
          "text": [
            "100%|██████████| 10/10 [00:02<00:00,  3.65it/s]"
          ]
        },
        {
          "output_type": "stream",
          "name": "stdout",
          "text": [
            "2023-04-21 02:06:22,192 Evaluating as a multi-label problem: False\n",
            "2023-04-21 02:06:22,259 DEV : loss 0.2839028835296631 - f1-score (weighted avg)  0.3371\n",
            "2023-04-21 02:06:22,268 BAD EPOCHS (no improvement): 1\n",
            "2023-04-21 02:06:22,272 ----------------------------------------------------------------------------------------------------\n"
          ]
        },
        {
          "output_type": "stream",
          "name": "stderr",
          "text": [
            "\n"
          ]
        },
        {
          "output_type": "stream",
          "name": "stdout",
          "text": [
            "2023-04-21 02:06:23,778 epoch 37 - iter 7/79 - loss 0.34032456 - time (sec): 1.50 - samples/sec: 4692.54 - lr: 0.000781\n",
            "2023-04-21 02:06:25,398 epoch 37 - iter 14/79 - loss 0.35486615 - time (sec): 3.12 - samples/sec: 4817.58 - lr: 0.000781\n",
            "2023-04-21 02:06:27,319 epoch 37 - iter 21/79 - loss 0.34266544 - time (sec): 5.05 - samples/sec: 4763.42 - lr: 0.000781\n",
            "2023-04-21 02:06:29,009 epoch 37 - iter 28/79 - loss 0.34257618 - time (sec): 6.73 - samples/sec: 4833.87 - lr: 0.000781\n",
            "2023-04-21 02:06:31,642 epoch 37 - iter 35/79 - loss 0.33392292 - time (sec): 9.37 - samples/sec: 4467.86 - lr: 0.000781\n",
            "2023-04-21 02:06:33,234 epoch 37 - iter 42/79 - loss 0.33718223 - time (sec): 10.96 - samples/sec: 4640.17 - lr: 0.000781\n",
            "2023-04-21 02:06:35,093 epoch 37 - iter 49/79 - loss 0.33618214 - time (sec): 12.82 - samples/sec: 4680.92 - lr: 0.000781\n",
            "2023-04-21 02:06:36,618 epoch 37 - iter 56/79 - loss 0.34131546 - time (sec): 14.34 - samples/sec: 4752.00 - lr: 0.000781\n",
            "2023-04-21 02:06:38,151 epoch 37 - iter 63/79 - loss 0.33917735 - time (sec): 15.88 - samples/sec: 4762.08 - lr: 0.000781\n",
            "2023-04-21 02:06:39,581 epoch 37 - iter 70/79 - loss 0.33824889 - time (sec): 17.31 - samples/sec: 4828.20 - lr: 0.000781\n",
            "2023-04-21 02:06:41,336 epoch 37 - iter 77/79 - loss 0.33520903 - time (sec): 19.06 - samples/sec: 4861.63 - lr: 0.000781\n",
            "2023-04-21 02:06:41,863 ----------------------------------------------------------------------------------------------------\n",
            "2023-04-21 02:06:41,865 EPOCH 37 done: loss 0.3334 - lr 0.000781\n"
          ]
        },
        {
          "output_type": "stream",
          "name": "stderr",
          "text": [
            "100%|██████████| 79/79 [00:21<00:00,  3.70it/s]\n"
          ]
        },
        {
          "output_type": "stream",
          "name": "stdout",
          "text": [
            "2023-04-21 02:07:04,551 Evaluating as a multi-label problem: True\n",
            "2023-04-21 02:07:06,818 TRAIN : loss 0.27950868010520935 - f1-score (weighted avg)  0.3246\n"
          ]
        },
        {
          "output_type": "stream",
          "name": "stderr",
          "text": [
            "100%|██████████| 10/10 [00:02<00:00,  3.65it/s]"
          ]
        },
        {
          "output_type": "stream",
          "name": "stdout",
          "text": [
            "2023-04-21 02:07:09,646 Evaluating as a multi-label problem: False\n",
            "2023-04-21 02:07:09,716 DEV : loss 0.2869514524936676 - f1-score (weighted avg)  0.3336\n",
            "2023-04-21 02:07:09,727 Epoch    37: reducing learning rate of group 0 to 3.9063e-04.\n",
            "2023-04-21 02:07:09,729 BAD EPOCHS (no improvement): 2\n",
            "2023-04-21 02:07:09,733 ----------------------------------------------------------------------------------------------------\n"
          ]
        },
        {
          "output_type": "stream",
          "name": "stderr",
          "text": [
            "\n"
          ]
        },
        {
          "output_type": "stream",
          "name": "stdout",
          "text": [
            "2023-04-21 02:07:12,091 epoch 38 - iter 7/79 - loss 0.32058187 - time (sec): 2.36 - samples/sec: 3816.01 - lr: 0.000391\n",
            "2023-04-21 02:07:13,678 epoch 38 - iter 14/79 - loss 0.34197357 - time (sec): 3.94 - samples/sec: 4381.56 - lr: 0.000391\n",
            "2023-04-21 02:07:15,509 epoch 38 - iter 21/79 - loss 0.32855492 - time (sec): 5.77 - samples/sec: 4429.53 - lr: 0.000391\n",
            "2023-04-21 02:07:17,090 epoch 38 - iter 28/79 - loss 0.31849979 - time (sec): 7.35 - samples/sec: 4622.26 - lr: 0.000391\n",
            "2023-04-21 02:07:18,639 epoch 38 - iter 35/79 - loss 0.32558146 - time (sec): 8.90 - samples/sec: 4686.74 - lr: 0.000391\n",
            "2023-04-21 02:07:20,381 epoch 38 - iter 42/79 - loss 0.32783622 - time (sec): 10.65 - samples/sec: 4687.32 - lr: 0.000391\n",
            "2023-04-21 02:07:22,227 epoch 38 - iter 49/79 - loss 0.33142091 - time (sec): 12.49 - samples/sec: 4724.31 - lr: 0.000391\n",
            "2023-04-21 02:07:23,709 epoch 38 - iter 56/79 - loss 0.33289958 - time (sec): 13.97 - samples/sec: 4852.22 - lr: 0.000391\n",
            "2023-04-21 02:07:25,531 epoch 38 - iter 63/79 - loss 0.33174073 - time (sec): 15.80 - samples/sec: 4878.28 - lr: 0.000391\n",
            "2023-04-21 02:07:27,587 epoch 38 - iter 70/79 - loss 0.33491466 - time (sec): 17.85 - samples/sec: 4770.10 - lr: 0.000391\n",
            "2023-04-21 02:07:28,977 epoch 38 - iter 77/79 - loss 0.33309671 - time (sec): 19.24 - samples/sec: 4823.02 - lr: 0.000391\n",
            "2023-04-21 02:07:29,329 ----------------------------------------------------------------------------------------------------\n",
            "2023-04-21 02:07:29,330 EPOCH 38 done: loss 0.3323 - lr 0.000391\n"
          ]
        },
        {
          "output_type": "stream",
          "name": "stderr",
          "text": [
            "100%|██████████| 79/79 [00:21<00:00,  3.70it/s]"
          ]
        },
        {
          "output_type": "stream",
          "name": "stdout",
          "text": [
            "2023-04-21 02:07:50,805 Evaluating as a multi-label problem: True\n"
          ]
        },
        {
          "output_type": "stream",
          "name": "stderr",
          "text": [
            "\n"
          ]
        },
        {
          "output_type": "stream",
          "name": "stdout",
          "text": [
            "2023-04-21 02:07:54,413 TRAIN : loss 0.27465951442718506 - f1-score (weighted avg)  0.3319\n"
          ]
        },
        {
          "output_type": "stream",
          "name": "stderr",
          "text": [
            "100%|██████████| 10/10 [00:02<00:00,  3.61it/s]"
          ]
        },
        {
          "output_type": "stream",
          "name": "stdout",
          "text": [
            "2023-04-21 02:07:57,266 Evaluating as a multi-label problem: False\n",
            "2023-04-21 02:07:57,332 DEV : loss 0.28304457664489746 - f1-score (weighted avg)  0.3355\n",
            "2023-04-21 02:07:57,342 BAD EPOCHS (no improvement): 0\n",
            "2023-04-21 02:07:57,346 saving best model\n"
          ]
        },
        {
          "output_type": "stream",
          "name": "stderr",
          "text": [
            "\n"
          ]
        },
        {
          "output_type": "stream",
          "name": "stdout",
          "text": [
            "2023-04-21 02:07:59,450 ----------------------------------------------------------------------------------------------------\n",
            "2023-04-21 02:08:00,867 epoch 39 - iter 7/79 - loss 0.30007036 - time (sec): 1.41 - samples/sec: 5336.63 - lr: 0.000391\n",
            "2023-04-21 02:08:02,466 epoch 39 - iter 14/79 - loss 0.32568796 - time (sec): 3.01 - samples/sec: 5159.24 - lr: 0.000391\n",
            "2023-04-21 02:08:03,965 epoch 39 - iter 21/79 - loss 0.33179134 - time (sec): 4.51 - samples/sec: 5332.25 - lr: 0.000391\n",
            "2023-04-21 02:08:06,057 epoch 39 - iter 28/79 - loss 0.32903975 - time (sec): 6.61 - samples/sec: 4927.70 - lr: 0.000391\n",
            "2023-04-21 02:08:08,105 epoch 39 - iter 35/79 - loss 0.32638195 - time (sec): 8.65 - samples/sec: 4717.19 - lr: 0.000391\n",
            "2023-04-21 02:08:09,768 epoch 39 - iter 42/79 - loss 0.32537553 - time (sec): 10.32 - samples/sec: 4840.29 - lr: 0.000391\n",
            "2023-04-21 02:08:11,383 epoch 39 - iter 49/79 - loss 0.32743153 - time (sec): 11.93 - samples/sec: 4833.96 - lr: 0.000391\n",
            "2023-04-21 02:08:12,809 epoch 39 - iter 56/79 - loss 0.32815222 - time (sec): 13.36 - samples/sec: 4942.41 - lr: 0.000391\n",
            "2023-04-21 02:08:14,577 epoch 39 - iter 63/79 - loss 0.33217800 - time (sec): 15.12 - samples/sec: 4934.93 - lr: 0.000391\n",
            "2023-04-21 02:08:16,117 epoch 39 - iter 70/79 - loss 0.33250011 - time (sec): 16.67 - samples/sec: 4936.83 - lr: 0.000391\n",
            "2023-04-21 02:08:18,360 epoch 39 - iter 77/79 - loss 0.33178453 - time (sec): 18.91 - samples/sec: 4857.31 - lr: 0.000391\n",
            "2023-04-21 02:08:18,952 ----------------------------------------------------------------------------------------------------\n",
            "2023-04-21 02:08:18,954 EPOCH 39 done: loss 0.3324 - lr 0.000391\n"
          ]
        },
        {
          "output_type": "stream",
          "name": "stderr",
          "text": [
            "100%|██████████| 79/79 [00:21<00:00,  3.71it/s]"
          ]
        },
        {
          "output_type": "stream",
          "name": "stdout",
          "text": [
            "2023-04-21 02:08:40,412 Evaluating as a multi-label problem: True\n"
          ]
        },
        {
          "output_type": "stream",
          "name": "stderr",
          "text": [
            "\n"
          ]
        },
        {
          "output_type": "stream",
          "name": "stdout",
          "text": [
            "2023-04-21 02:08:42,696 TRAIN : loss 0.273924320936203 - f1-score (weighted avg)  0.3297\n"
          ]
        },
        {
          "output_type": "stream",
          "name": "stderr",
          "text": [
            "100%|██████████| 10/10 [00:02<00:00,  3.70it/s]"
          ]
        },
        {
          "output_type": "stream",
          "name": "stdout",
          "text": [
            "2023-04-21 02:08:45,474 Evaluating as a multi-label problem: False\n",
            "2023-04-21 02:08:45,539 DEV : loss 0.2815655767917633 - f1-score (weighted avg)  0.3288\n",
            "2023-04-21 02:08:45,550 BAD EPOCHS (no improvement): 0\n",
            "2023-04-21 02:08:45,554 saving best model\n"
          ]
        },
        {
          "output_type": "stream",
          "name": "stderr",
          "text": [
            "\n"
          ]
        },
        {
          "output_type": "stream",
          "name": "stdout",
          "text": [
            "2023-04-21 02:08:47,646 ----------------------------------------------------------------------------------------------------\n",
            "2023-04-21 02:08:48,968 epoch 40 - iter 7/79 - loss 0.33165338 - time (sec): 1.32 - samples/sec: 5087.37 - lr: 0.000391\n",
            "2023-04-21 02:08:51,045 epoch 40 - iter 14/79 - loss 0.33545488 - time (sec): 3.40 - samples/sec: 4855.38 - lr: 0.000391\n",
            "2023-04-21 02:08:52,724 epoch 40 - iter 21/79 - loss 0.32570330 - time (sec): 5.08 - samples/sec: 5184.22 - lr: 0.000391\n",
            "2023-04-21 02:08:55,044 epoch 40 - iter 28/79 - loss 0.32984982 - time (sec): 7.40 - samples/sec: 4885.29 - lr: 0.000391\n",
            "2023-04-21 02:08:56,626 epoch 40 - iter 35/79 - loss 0.32905342 - time (sec): 8.98 - samples/sec: 4959.81 - lr: 0.000391\n",
            "2023-04-21 02:08:58,361 epoch 40 - iter 42/79 - loss 0.32894122 - time (sec): 10.71 - samples/sec: 4867.61 - lr: 0.000391\n",
            "2023-04-21 02:08:59,919 epoch 40 - iter 49/79 - loss 0.32759736 - time (sec): 12.27 - samples/sec: 4876.93 - lr: 0.000391\n",
            "2023-04-21 02:09:01,764 epoch 40 - iter 56/79 - loss 0.32951103 - time (sec): 14.12 - samples/sec: 4805.34 - lr: 0.000391\n",
            "2023-04-21 02:09:03,561 epoch 40 - iter 63/79 - loss 0.32867185 - time (sec): 15.91 - samples/sec: 4769.27 - lr: 0.000391\n",
            "2023-04-21 02:09:05,805 epoch 40 - iter 70/79 - loss 0.33049755 - time (sec): 18.16 - samples/sec: 4682.07 - lr: 0.000391\n",
            "2023-04-21 02:09:07,306 epoch 40 - iter 77/79 - loss 0.32991313 - time (sec): 19.66 - samples/sec: 4697.27 - lr: 0.000391\n",
            "2023-04-21 02:09:07,884 ----------------------------------------------------------------------------------------------------\n",
            "2023-04-21 02:09:07,886 EPOCH 40 done: loss 0.3304 - lr 0.000391\n"
          ]
        },
        {
          "output_type": "stream",
          "name": "stderr",
          "text": [
            "100%|██████████| 79/79 [00:21<00:00,  3.72it/s]"
          ]
        },
        {
          "output_type": "stream",
          "name": "stdout",
          "text": [
            "2023-04-21 02:09:29,285 Evaluating as a multi-label problem: True\n"
          ]
        },
        {
          "output_type": "stream",
          "name": "stderr",
          "text": [
            "\n"
          ]
        },
        {
          "output_type": "stream",
          "name": "stdout",
          "text": [
            "2023-04-21 02:09:32,818 TRAIN : loss 0.2751326262950897 - f1-score (weighted avg)  0.3371\n"
          ]
        },
        {
          "output_type": "stream",
          "name": "stderr",
          "text": [
            "100%|██████████| 10/10 [00:02<00:00,  3.65it/s]"
          ]
        },
        {
          "output_type": "stream",
          "name": "stdout",
          "text": [
            "2023-04-21 02:09:35,635 Evaluating as a multi-label problem: False\n",
            "2023-04-21 02:09:35,702 DEV : loss 0.2838353216648102 - f1-score (weighted avg)  0.3339\n",
            "2023-04-21 02:09:35,713 BAD EPOCHS (no improvement): 1\n",
            "2023-04-21 02:09:35,717 ----------------------------------------------------------------------------------------------------\n"
          ]
        },
        {
          "output_type": "stream",
          "name": "stderr",
          "text": [
            "\n"
          ]
        },
        {
          "output_type": "stream",
          "name": "stdout",
          "text": [
            "2023-04-21 02:09:37,886 epoch 41 - iter 7/79 - loss 0.32361254 - time (sec): 2.17 - samples/sec: 3885.78 - lr: 0.000391\n",
            "2023-04-21 02:09:39,476 epoch 41 - iter 14/79 - loss 0.33426796 - time (sec): 3.76 - samples/sec: 4450.45 - lr: 0.000391\n",
            "2023-04-21 02:09:41,228 epoch 41 - iter 21/79 - loss 0.32939203 - time (sec): 5.51 - samples/sec: 4577.82 - lr: 0.000391\n",
            "2023-04-21 02:09:43,205 epoch 41 - iter 28/79 - loss 0.33063230 - time (sec): 7.49 - samples/sec: 4525.05 - lr: 0.000391\n",
            "2023-04-21 02:09:44,706 epoch 41 - iter 35/79 - loss 0.32958590 - time (sec): 8.99 - samples/sec: 4570.29 - lr: 0.000391\n",
            "2023-04-21 02:09:46,327 epoch 41 - iter 42/79 - loss 0.32874787 - time (sec): 10.61 - samples/sec: 4615.49 - lr: 0.000391\n",
            "2023-04-21 02:09:47,824 epoch 41 - iter 49/79 - loss 0.32787637 - time (sec): 12.10 - samples/sec: 4612.74 - lr: 0.000391\n",
            "2023-04-21 02:09:49,486 epoch 41 - iter 56/79 - loss 0.32884383 - time (sec): 13.77 - samples/sec: 4688.61 - lr: 0.000391\n",
            "2023-04-21 02:09:51,059 epoch 41 - iter 63/79 - loss 0.32981237 - time (sec): 15.34 - samples/sec: 4753.90 - lr: 0.000391\n",
            "2023-04-21 02:09:52,885 epoch 41 - iter 70/79 - loss 0.33147191 - time (sec): 17.17 - samples/sec: 4770.83 - lr: 0.000391\n",
            "2023-04-21 02:09:54,862 epoch 41 - iter 77/79 - loss 0.33081877 - time (sec): 19.14 - samples/sec: 4806.58 - lr: 0.000391\n",
            "2023-04-21 02:09:55,383 ----------------------------------------------------------------------------------------------------\n",
            "2023-04-21 02:09:55,384 EPOCH 41 done: loss 0.3314 - lr 0.000391\n"
          ]
        },
        {
          "output_type": "stream",
          "name": "stderr",
          "text": [
            "100%|██████████| 79/79 [00:21<00:00,  3.70it/s]"
          ]
        },
        {
          "output_type": "stream",
          "name": "stdout",
          "text": [
            "2023-04-21 02:10:16,849 Evaluating as a multi-label problem: True\n"
          ]
        },
        {
          "output_type": "stream",
          "name": "stderr",
          "text": [
            "\n"
          ]
        },
        {
          "output_type": "stream",
          "name": "stdout",
          "text": [
            "2023-04-21 02:10:19,160 TRAIN : loss 0.27294236421585083 - f1-score (weighted avg)  0.3353\n"
          ]
        },
        {
          "output_type": "stream",
          "name": "stderr",
          "text": [
            "100%|██████████| 10/10 [00:02<00:00,  3.65it/s]"
          ]
        },
        {
          "output_type": "stream",
          "name": "stdout",
          "text": [
            "2023-04-21 02:10:21,984 Evaluating as a multi-label problem: False\n",
            "2023-04-21 02:10:22,053 DEV : loss 0.2816306948661804 - f1-score (weighted avg)  0.3329\n",
            "2023-04-21 02:10:22,063 Epoch    41: reducing learning rate of group 0 to 1.9531e-04.\n",
            "2023-04-21 02:10:22,065 BAD EPOCHS (no improvement): 2\n",
            "2023-04-21 02:10:22,069 ----------------------------------------------------------------------------------------------------\n"
          ]
        },
        {
          "output_type": "stream",
          "name": "stderr",
          "text": [
            "\n"
          ]
        },
        {
          "output_type": "stream",
          "name": "stdout",
          "text": [
            "2023-04-21 02:10:23,721 epoch 42 - iter 7/79 - loss 0.30691339 - time (sec): 1.65 - samples/sec: 4627.50 - lr: 0.000195\n",
            "2023-04-21 02:10:25,449 epoch 42 - iter 14/79 - loss 0.32420623 - time (sec): 3.38 - samples/sec: 4755.25 - lr: 0.000195\n",
            "2023-04-21 02:10:26,968 epoch 42 - iter 21/79 - loss 0.32161612 - time (sec): 4.90 - samples/sec: 4850.86 - lr: 0.000195\n",
            "2023-04-21 02:10:28,635 epoch 42 - iter 28/79 - loss 0.32681682 - time (sec): 6.56 - samples/sec: 4946.96 - lr: 0.000195\n",
            "2023-04-21 02:10:30,346 epoch 42 - iter 35/79 - loss 0.32937538 - time (sec): 8.28 - samples/sec: 5066.65 - lr: 0.000195\n",
            "2023-04-21 02:10:31,687 epoch 42 - iter 42/79 - loss 0.33218425 - time (sec): 9.62 - samples/sec: 5126.90 - lr: 0.000195\n",
            "2023-04-21 02:10:33,490 epoch 42 - iter 49/79 - loss 0.33405031 - time (sec): 11.42 - samples/sec: 5061.11 - lr: 0.000195\n",
            "2023-04-21 02:10:35,533 epoch 42 - iter 56/79 - loss 0.33353950 - time (sec): 13.46 - samples/sec: 4993.10 - lr: 0.000195\n",
            "2023-04-21 02:10:37,188 epoch 42 - iter 63/79 - loss 0.33335224 - time (sec): 15.12 - samples/sec: 4967.71 - lr: 0.000195\n",
            "2023-04-21 02:10:39,122 epoch 42 - iter 70/79 - loss 0.33080648 - time (sec): 17.05 - samples/sec: 4892.67 - lr: 0.000195\n",
            "2023-04-21 02:10:41,545 epoch 42 - iter 77/79 - loss 0.33044215 - time (sec): 19.47 - samples/sec: 4790.15 - lr: 0.000195\n",
            "2023-04-21 02:10:41,890 ----------------------------------------------------------------------------------------------------\n",
            "2023-04-21 02:10:41,892 EPOCH 42 done: loss 0.3299 - lr 0.000195\n"
          ]
        },
        {
          "output_type": "stream",
          "name": "stderr",
          "text": [
            "100%|██████████| 79/79 [00:22<00:00,  3.52it/s]"
          ]
        },
        {
          "output_type": "stream",
          "name": "stdout",
          "text": [
            "2023-04-21 02:11:04,469 Evaluating as a multi-label problem: True\n"
          ]
        },
        {
          "output_type": "stream",
          "name": "stderr",
          "text": [
            "\n"
          ]
        },
        {
          "output_type": "stream",
          "name": "stdout",
          "text": [
            "2023-04-21 02:11:06,747 TRAIN : loss 0.2743704915046692 - f1-score (weighted avg)  0.3281\n"
          ]
        },
        {
          "output_type": "stream",
          "name": "stderr",
          "text": [
            "100%|██████████| 10/10 [00:02<00:00,  3.54it/s]"
          ]
        },
        {
          "output_type": "stream",
          "name": "stdout",
          "text": [
            "2023-04-21 02:11:09,656 Evaluating as a multi-label problem: False\n",
            "2023-04-21 02:11:09,725 DEV : loss 0.2819850742816925 - f1-score (weighted avg)  0.3312\n",
            "2023-04-21 02:11:09,734 BAD EPOCHS (no improvement): 1\n",
            "2023-04-21 02:11:09,739 ----------------------------------------------------------------------------------------------------\n"
          ]
        },
        {
          "output_type": "stream",
          "name": "stderr",
          "text": [
            "\n"
          ]
        },
        {
          "output_type": "stream",
          "name": "stdout",
          "text": [
            "2023-04-21 02:11:11,641 epoch 43 - iter 7/79 - loss 0.34398019 - time (sec): 1.90 - samples/sec: 4704.95 - lr: 0.000195\n",
            "2023-04-21 02:11:13,636 epoch 43 - iter 14/79 - loss 0.33333998 - time (sec): 3.90 - samples/sec: 4527.16 - lr: 0.000195\n",
            "2023-04-21 02:11:15,087 epoch 43 - iter 21/79 - loss 0.33100252 - time (sec): 5.35 - samples/sec: 4778.55 - lr: 0.000195\n",
            "2023-04-21 02:11:17,031 epoch 43 - iter 28/79 - loss 0.32690706 - time (sec): 7.29 - samples/sec: 4728.94 - lr: 0.000195\n",
            "2023-04-21 02:11:18,719 epoch 43 - iter 35/79 - loss 0.32797235 - time (sec): 8.98 - samples/sec: 4724.30 - lr: 0.000195\n",
            "2023-04-21 02:11:20,331 epoch 43 - iter 42/79 - loss 0.32680565 - time (sec): 10.59 - samples/sec: 4765.83 - lr: 0.000195\n",
            "2023-04-21 02:11:22,211 epoch 43 - iter 49/79 - loss 0.32257003 - time (sec): 12.47 - samples/sec: 4795.11 - lr: 0.000195\n",
            "2023-04-21 02:11:23,763 epoch 43 - iter 56/79 - loss 0.32279525 - time (sec): 14.02 - samples/sec: 4850.37 - lr: 0.000195\n",
            "2023-04-21 02:11:25,331 epoch 43 - iter 63/79 - loss 0.32536528 - time (sec): 15.59 - samples/sec: 4900.50 - lr: 0.000195\n",
            "2023-04-21 02:11:26,718 epoch 43 - iter 70/79 - loss 0.32671005 - time (sec): 16.98 - samples/sec: 4944.50 - lr: 0.000195\n",
            "2023-04-21 02:11:28,742 epoch 43 - iter 77/79 - loss 0.32712349 - time (sec): 19.00 - samples/sec: 4872.51 - lr: 0.000195\n",
            "2023-04-21 02:11:29,177 ----------------------------------------------------------------------------------------------------\n",
            "2023-04-21 02:11:29,179 EPOCH 43 done: loss 0.3276 - lr 0.000195\n"
          ]
        },
        {
          "output_type": "stream",
          "name": "stderr",
          "text": [
            "100%|██████████| 79/79 [00:21<00:00,  3.73it/s]"
          ]
        },
        {
          "output_type": "stream",
          "name": "stdout",
          "text": [
            "2023-04-21 02:11:50,516 Evaluating as a multi-label problem: True\n"
          ]
        },
        {
          "output_type": "stream",
          "name": "stderr",
          "text": [
            "\n"
          ]
        },
        {
          "output_type": "stream",
          "name": "stdout",
          "text": [
            "2023-04-21 02:11:54,115 TRAIN : loss 0.2736373543739319 - f1-score (weighted avg)  0.328\n"
          ]
        },
        {
          "output_type": "stream",
          "name": "stderr",
          "text": [
            "100%|██████████| 10/10 [00:02<00:00,  3.69it/s]"
          ]
        },
        {
          "output_type": "stream",
          "name": "stdout",
          "text": [
            "2023-04-21 02:11:56,907 Evaluating as a multi-label problem: False\n",
            "2023-04-21 02:11:56,974 DEV : loss 0.28201931715011597 - f1-score (weighted avg)  0.323\n",
            "2023-04-21 02:11:56,984 Epoch    43: reducing learning rate of group 0 to 9.7656e-05.\n",
            "2023-04-21 02:11:56,986 BAD EPOCHS (no improvement): 2\n",
            "2023-04-21 02:11:56,989 ----------------------------------------------------------------------------------------------------\n"
          ]
        },
        {
          "output_type": "stream",
          "name": "stderr",
          "text": [
            "\n"
          ]
        },
        {
          "output_type": "stream",
          "name": "stdout",
          "text": [
            "2023-04-21 02:11:58,742 epoch 44 - iter 7/79 - loss 0.29543882 - time (sec): 1.75 - samples/sec: 4395.24 - lr: 0.000098\n",
            "2023-04-21 02:12:00,532 epoch 44 - iter 14/79 - loss 0.32155484 - time (sec): 3.54 - samples/sec: 4495.50 - lr: 0.000098\n",
            "2023-04-21 02:12:02,541 epoch 44 - iter 21/79 - loss 0.32442309 - time (sec): 5.55 - samples/sec: 4355.03 - lr: 0.000098\n",
            "2023-04-21 02:12:04,150 epoch 44 - iter 28/79 - loss 0.32513985 - time (sec): 7.16 - samples/sec: 4547.19 - lr: 0.000098\n",
            "2023-04-21 02:12:05,848 epoch 44 - iter 35/79 - loss 0.32076548 - time (sec): 8.86 - samples/sec: 4616.87 - lr: 0.000098\n",
            "2023-04-21 02:12:07,491 epoch 44 - iter 42/79 - loss 0.31655809 - time (sec): 10.50 - samples/sec: 4665.96 - lr: 0.000098\n",
            "2023-04-21 02:12:09,094 epoch 44 - iter 49/79 - loss 0.31929105 - time (sec): 12.10 - samples/sec: 4682.45 - lr: 0.000098\n",
            "2023-04-21 02:12:10,629 epoch 44 - iter 56/79 - loss 0.32170197 - time (sec): 13.64 - samples/sec: 4788.18 - lr: 0.000098\n",
            "2023-04-21 02:12:12,631 epoch 44 - iter 63/79 - loss 0.32500053 - time (sec): 15.64 - samples/sec: 4747.81 - lr: 0.000098\n",
            "2023-04-21 02:12:14,159 epoch 44 - iter 70/79 - loss 0.32874233 - time (sec): 17.17 - samples/sec: 4796.55 - lr: 0.000098\n",
            "2023-04-21 02:12:16,337 epoch 44 - iter 77/79 - loss 0.33030724 - time (sec): 19.35 - samples/sec: 4759.85 - lr: 0.000098\n",
            "2023-04-21 02:12:16,792 ----------------------------------------------------------------------------------------------------\n",
            "2023-04-21 02:12:16,794 EPOCH 44 done: loss 0.3290 - lr 0.000098\n"
          ]
        },
        {
          "output_type": "stream",
          "name": "stderr",
          "text": [
            "100%|██████████| 79/79 [00:21<00:00,  3.71it/s]"
          ]
        },
        {
          "output_type": "stream",
          "name": "stdout",
          "text": [
            "2023-04-21 02:12:38,205 Evaluating as a multi-label problem: True\n"
          ]
        },
        {
          "output_type": "stream",
          "name": "stderr",
          "text": [
            "\n"
          ]
        },
        {
          "output_type": "stream",
          "name": "stdout",
          "text": [
            "2023-04-21 02:12:40,483 TRAIN : loss 0.27396631240844727 - f1-score (weighted avg)  0.3306\n"
          ]
        },
        {
          "output_type": "stream",
          "name": "stderr",
          "text": [
            "100%|██████████| 10/10 [00:02<00:00,  3.68it/s]"
          ]
        },
        {
          "output_type": "stream",
          "name": "stdout",
          "text": [
            "2023-04-21 02:12:43,280 Evaluating as a multi-label problem: False\n",
            "2023-04-21 02:12:43,349 DEV : loss 0.28222206234931946 - f1-score (weighted avg)  0.3286\n",
            "2023-04-21 02:12:43,360 BAD EPOCHS (no improvement): 1\n",
            "2023-04-21 02:12:43,364 ----------------------------------------------------------------------------------------------------\n"
          ]
        },
        {
          "output_type": "stream",
          "name": "stderr",
          "text": [
            "\n"
          ]
        },
        {
          "output_type": "stream",
          "name": "stdout",
          "text": [
            "2023-04-21 02:12:44,857 epoch 45 - iter 7/79 - loss 0.35966743 - time (sec): 1.49 - samples/sec: 5132.62 - lr: 0.000098\n",
            "2023-04-21 02:12:46,695 epoch 45 - iter 14/79 - loss 0.32853225 - time (sec): 3.33 - samples/sec: 4918.78 - lr: 0.000098\n",
            "2023-04-21 02:12:48,375 epoch 45 - iter 21/79 - loss 0.32794608 - time (sec): 5.01 - samples/sec: 5109.96 - lr: 0.000098\n",
            "2023-04-21 02:12:49,969 epoch 45 - iter 28/79 - loss 0.33380880 - time (sec): 6.60 - samples/sec: 5051.96 - lr: 0.000098\n",
            "2023-04-21 02:12:51,855 epoch 45 - iter 35/79 - loss 0.34315218 - time (sec): 8.49 - samples/sec: 4858.85 - lr: 0.000098\n",
            "2023-04-21 02:12:53,276 epoch 45 - iter 42/79 - loss 0.34015325 - time (sec): 9.91 - samples/sec: 4994.60 - lr: 0.000098\n",
            "2023-04-21 02:12:54,975 epoch 45 - iter 49/79 - loss 0.33633599 - time (sec): 11.61 - samples/sec: 4943.54 - lr: 0.000098\n",
            "2023-04-21 02:12:56,821 epoch 45 - iter 56/79 - loss 0.33468831 - time (sec): 13.46 - samples/sec: 4884.67 - lr: 0.000098\n",
            "2023-04-21 02:12:58,601 epoch 45 - iter 63/79 - loss 0.33423775 - time (sec): 15.24 - samples/sec: 4871.21 - lr: 0.000098\n",
            "2023-04-21 02:13:00,496 epoch 45 - iter 70/79 - loss 0.33404144 - time (sec): 17.13 - samples/sec: 4855.07 - lr: 0.000098\n",
            "2023-04-21 02:13:02,730 epoch 45 - iter 77/79 - loss 0.33033313 - time (sec): 19.36 - samples/sec: 4781.85 - lr: 0.000098\n",
            "2023-04-21 02:13:03,120 ----------------------------------------------------------------------------------------------------\n",
            "2023-04-21 02:13:03,121 EPOCH 45 done: loss 0.3296 - lr 0.000098\n"
          ]
        },
        {
          "output_type": "stream",
          "name": "stderr",
          "text": [
            "100%|██████████| 79/79 [00:22<00:00,  3.52it/s]"
          ]
        },
        {
          "output_type": "stream",
          "name": "stdout",
          "text": [
            "2023-04-21 02:13:25,693 Evaluating as a multi-label problem: True\n"
          ]
        },
        {
          "output_type": "stream",
          "name": "stderr",
          "text": [
            "\n"
          ]
        },
        {
          "output_type": "stream",
          "name": "stdout",
          "text": [
            "2023-04-21 02:13:27,975 TRAIN : loss 0.2734178304672241 - f1-score (weighted avg)  0.333\n"
          ]
        },
        {
          "output_type": "stream",
          "name": "stderr",
          "text": [
            "100%|██████████| 10/10 [00:02<00:00,  3.64it/s]"
          ]
        },
        {
          "output_type": "stream",
          "name": "stdout",
          "text": [
            "2023-04-21 02:13:30,801 Evaluating as a multi-label problem: False\n",
            "2023-04-21 02:13:30,868 DEV : loss 0.2812582552433014 - f1-score (weighted avg)  0.3399\n",
            "2023-04-21 02:13:30,877 BAD EPOCHS (no improvement): 0\n",
            "2023-04-21 02:13:30,882 saving best model\n"
          ]
        },
        {
          "output_type": "stream",
          "name": "stderr",
          "text": [
            "\n"
          ]
        },
        {
          "output_type": "stream",
          "name": "stdout",
          "text": [
            "2023-04-21 02:13:32,988 ----------------------------------------------------------------------------------------------------\n",
            "2023-04-21 02:13:34,663 epoch 46 - iter 7/79 - loss 0.33852682 - time (sec): 1.67 - samples/sec: 5034.00 - lr: 0.000098\n",
            "2023-04-21 02:13:36,258 epoch 46 - iter 14/79 - loss 0.32864235 - time (sec): 3.27 - samples/sec: 5062.92 - lr: 0.000098\n",
            "2023-04-21 02:13:37,976 epoch 46 - iter 21/79 - loss 0.33429045 - time (sec): 4.99 - samples/sec: 5059.25 - lr: 0.000098\n",
            "2023-04-21 02:13:40,559 epoch 46 - iter 28/79 - loss 0.33390256 - time (sec): 7.57 - samples/sec: 4468.76 - lr: 0.000098\n",
            "2023-04-21 02:13:41,972 epoch 46 - iter 35/79 - loss 0.33073805 - time (sec): 8.98 - samples/sec: 4595.38 - lr: 0.000098\n",
            "2023-04-21 02:13:43,928 epoch 46 - iter 42/79 - loss 0.33852513 - time (sec): 10.94 - samples/sec: 4496.64 - lr: 0.000098\n",
            "2023-04-21 02:13:45,942 epoch 46 - iter 49/79 - loss 0.33210394 - time (sec): 12.95 - samples/sec: 4470.82 - lr: 0.000098\n",
            "2023-04-21 02:13:47,643 epoch 46 - iter 56/79 - loss 0.33442653 - time (sec): 14.65 - samples/sec: 4501.67 - lr: 0.000098\n",
            "2023-04-21 02:13:49,576 epoch 46 - iter 63/79 - loss 0.33205187 - time (sec): 16.59 - samples/sec: 4608.56 - lr: 0.000098\n",
            "2023-04-21 02:13:51,319 epoch 46 - iter 70/79 - loss 0.32900089 - time (sec): 18.33 - samples/sec: 4657.63 - lr: 0.000098\n",
            "2023-04-21 02:13:52,656 epoch 46 - iter 77/79 - loss 0.32957527 - time (sec): 19.67 - samples/sec: 4714.55 - lr: 0.000098\n",
            "2023-04-21 02:13:53,014 ----------------------------------------------------------------------------------------------------\n",
            "2023-04-21 02:13:53,016 EPOCH 46 done: loss 0.3294 - lr 0.000098\n"
          ]
        },
        {
          "output_type": "stream",
          "name": "stderr",
          "text": [
            "100%|██████████| 79/79 [00:21<00:00,  3.73it/s]"
          ]
        },
        {
          "output_type": "stream",
          "name": "stdout",
          "text": [
            "2023-04-21 02:14:14,321 Evaluating as a multi-label problem: True\n"
          ]
        },
        {
          "output_type": "stream",
          "name": "stderr",
          "text": [
            "\n"
          ]
        },
        {
          "output_type": "stream",
          "name": "stdout",
          "text": [
            "2023-04-21 02:14:17,907 TRAIN : loss 0.2739681601524353 - f1-score (weighted avg)  0.3316\n"
          ]
        },
        {
          "output_type": "stream",
          "name": "stderr",
          "text": [
            "100%|██████████| 10/10 [00:02<00:00,  3.67it/s]"
          ]
        },
        {
          "output_type": "stream",
          "name": "stdout",
          "text": [
            "2023-04-21 02:14:20,713 Evaluating as a multi-label problem: False\n",
            "2023-04-21 02:14:20,780 DEV : loss 0.28225356340408325 - f1-score (weighted avg)  0.335\n",
            "2023-04-21 02:14:20,790 BAD EPOCHS (no improvement): 1\n",
            "2023-04-21 02:14:20,794 ----------------------------------------------------------------------------------------------------\n"
          ]
        },
        {
          "output_type": "stream",
          "name": "stderr",
          "text": [
            "\n"
          ]
        },
        {
          "output_type": "stream",
          "name": "stdout",
          "text": [
            "2023-04-21 02:14:22,446 epoch 47 - iter 7/79 - loss 0.34121998 - time (sec): 1.65 - samples/sec: 4321.95 - lr: 0.000098\n",
            "2023-04-21 02:14:24,205 epoch 47 - iter 14/79 - loss 0.35122423 - time (sec): 3.41 - samples/sec: 4464.37 - lr: 0.000098\n",
            "2023-04-21 02:14:26,162 epoch 47 - iter 21/79 - loss 0.34102764 - time (sec): 5.37 - samples/sec: 4482.11 - lr: 0.000098\n",
            "2023-04-21 02:14:27,740 epoch 47 - iter 28/79 - loss 0.33440893 - time (sec): 6.94 - samples/sec: 4668.39 - lr: 0.000098\n",
            "2023-04-21 02:14:29,158 epoch 47 - iter 35/79 - loss 0.33408197 - time (sec): 8.36 - samples/sec: 4829.60 - lr: 0.000098\n",
            "2023-04-21 02:14:30,517 epoch 47 - iter 42/79 - loss 0.33779526 - time (sec): 9.72 - samples/sec: 4889.80 - lr: 0.000098\n",
            "2023-04-21 02:14:32,107 epoch 47 - iter 49/79 - loss 0.33537443 - time (sec): 11.31 - samples/sec: 4883.53 - lr: 0.000098\n",
            "2023-04-21 02:14:33,890 epoch 47 - iter 56/79 - loss 0.33230243 - time (sec): 13.09 - samples/sec: 4952.13 - lr: 0.000098\n",
            "2023-04-21 02:14:35,998 epoch 47 - iter 63/79 - loss 0.32805171 - time (sec): 15.20 - samples/sec: 4864.40 - lr: 0.000098\n",
            "2023-04-21 02:14:37,650 epoch 47 - iter 70/79 - loss 0.32771790 - time (sec): 16.85 - samples/sec: 4930.05 - lr: 0.000098\n",
            "2023-04-21 02:14:40,068 epoch 47 - iter 77/79 - loss 0.32462668 - time (sec): 19.27 - samples/sec: 4780.58 - lr: 0.000098\n",
            "2023-04-21 02:14:40,594 ----------------------------------------------------------------------------------------------------\n",
            "2023-04-21 02:14:40,596 EPOCH 47 done: loss 0.3262 - lr 0.000098\n"
          ]
        },
        {
          "output_type": "stream",
          "name": "stderr",
          "text": [
            "100%|██████████| 79/79 [00:21<00:00,  3.72it/s]"
          ]
        },
        {
          "output_type": "stream",
          "name": "stdout",
          "text": [
            "2023-04-21 02:15:01,965 Evaluating as a multi-label problem: True\n"
          ]
        },
        {
          "output_type": "stream",
          "name": "stderr",
          "text": [
            "\n"
          ]
        },
        {
          "output_type": "stream",
          "name": "stdout",
          "text": [
            "2023-04-21 02:15:04,256 TRAIN : loss 0.2729083299636841 - f1-score (weighted avg)  0.3297\n"
          ]
        },
        {
          "output_type": "stream",
          "name": "stderr",
          "text": [
            "100%|██████████| 10/10 [00:02<00:00,  3.56it/s]"
          ]
        },
        {
          "output_type": "stream",
          "name": "stdout",
          "text": [
            "2023-04-21 02:15:07,150 Evaluating as a multi-label problem: False\n",
            "2023-04-21 02:15:07,216 DEV : loss 0.28077390789985657 - f1-score (weighted avg)  0.3304\n",
            "2023-04-21 02:15:07,226 BAD EPOCHS (no improvement): 0\n",
            "2023-04-21 02:15:07,230 saving best model\n"
          ]
        },
        {
          "output_type": "stream",
          "name": "stderr",
          "text": [
            "\n"
          ]
        },
        {
          "output_type": "stream",
          "name": "stdout",
          "text": [
            "2023-04-21 02:15:09,327 ----------------------------------------------------------------------------------------------------\n",
            "2023-04-21 02:15:11,243 epoch 48 - iter 7/79 - loss 0.34534516 - time (sec): 1.90 - samples/sec: 4483.18 - lr: 0.000098\n",
            "2023-04-21 02:15:12,771 epoch 48 - iter 14/79 - loss 0.33555113 - time (sec): 3.43 - samples/sec: 4683.46 - lr: 0.000098\n",
            "2023-04-21 02:15:14,307 epoch 48 - iter 21/79 - loss 0.33987210 - time (sec): 4.96 - samples/sec: 4663.19 - lr: 0.000098\n",
            "2023-04-21 02:15:16,307 epoch 48 - iter 28/79 - loss 0.34644079 - time (sec): 6.96 - samples/sec: 4537.16 - lr: 0.000098\n",
            "2023-04-21 02:15:17,979 epoch 48 - iter 35/79 - loss 0.34192505 - time (sec): 8.64 - samples/sec: 4605.51 - lr: 0.000098\n",
            "2023-04-21 02:15:20,546 epoch 48 - iter 42/79 - loss 0.33932975 - time (sec): 11.20 - samples/sec: 4452.20 - lr: 0.000098\n",
            "2023-04-21 02:15:22,252 epoch 48 - iter 49/79 - loss 0.33547655 - time (sec): 12.91 - samples/sec: 4562.46 - lr: 0.000098\n",
            "2023-04-21 02:15:23,919 epoch 48 - iter 56/79 - loss 0.33283836 - time (sec): 14.58 - samples/sec: 4620.06 - lr: 0.000098\n",
            "2023-04-21 02:15:25,927 epoch 48 - iter 63/79 - loss 0.33504055 - time (sec): 16.58 - samples/sec: 4609.17 - lr: 0.000098\n",
            "2023-04-21 02:15:27,540 epoch 48 - iter 70/79 - loss 0.33354177 - time (sec): 18.20 - samples/sec: 4647.81 - lr: 0.000098\n",
            "2023-04-21 02:15:29,153 epoch 48 - iter 77/79 - loss 0.33080370 - time (sec): 19.81 - samples/sec: 4675.68 - lr: 0.000098\n",
            "2023-04-21 02:15:29,493 ----------------------------------------------------------------------------------------------------\n",
            "2023-04-21 02:15:29,494 EPOCH 48 done: loss 0.3311 - lr 0.000098\n"
          ]
        },
        {
          "output_type": "stream",
          "name": "stderr",
          "text": [
            "100%|██████████| 79/79 [00:21<00:00,  3.72it/s]\n"
          ]
        },
        {
          "output_type": "stream",
          "name": "stdout",
          "text": [
            "2023-04-21 02:15:52,065 Evaluating as a multi-label problem: True\n",
            "2023-04-21 02:15:54,351 TRAIN : loss 0.2740212082862854 - f1-score (weighted avg)  0.3286\n"
          ]
        },
        {
          "output_type": "stream",
          "name": "stderr",
          "text": [
            "100%|██████████| 10/10 [00:02<00:00,  3.68it/s]"
          ]
        },
        {
          "output_type": "stream",
          "name": "stdout",
          "text": [
            "2023-04-21 02:15:57,161 Evaluating as a multi-label problem: False\n",
            "2023-04-21 02:15:57,227 DEV : loss 0.2816661596298218 - f1-score (weighted avg)  0.3321\n",
            "2023-04-21 02:15:57,237 BAD EPOCHS (no improvement): 1\n",
            "2023-04-21 02:15:57,241 ----------------------------------------------------------------------------------------------------\n"
          ]
        },
        {
          "output_type": "stream",
          "name": "stderr",
          "text": [
            "\n"
          ]
        },
        {
          "output_type": "stream",
          "name": "stdout",
          "text": [
            "2023-04-21 02:15:58,777 epoch 49 - iter 7/79 - loss 0.32428832 - time (sec): 1.54 - samples/sec: 5485.59 - lr: 0.000098\n",
            "2023-04-21 02:16:00,991 epoch 49 - iter 14/79 - loss 0.32034190 - time (sec): 3.75 - samples/sec: 4607.29 - lr: 0.000098\n",
            "2023-04-21 02:16:02,452 epoch 49 - iter 21/79 - loss 0.32342446 - time (sec): 5.21 - samples/sec: 4829.62 - lr: 0.000098\n",
            "2023-04-21 02:16:04,169 epoch 49 - iter 28/79 - loss 0.31865533 - time (sec): 6.93 - samples/sec: 4852.15 - lr: 0.000098\n",
            "2023-04-21 02:16:06,572 epoch 49 - iter 35/79 - loss 0.32067083 - time (sec): 9.33 - samples/sec: 4484.32 - lr: 0.000098\n",
            "2023-04-21 02:16:08,056 epoch 49 - iter 42/79 - loss 0.32545006 - time (sec): 10.81 - samples/sec: 4596.99 - lr: 0.000098\n",
            "2023-04-21 02:16:09,980 epoch 49 - iter 49/79 - loss 0.32691547 - time (sec): 12.74 - samples/sec: 4573.50 - lr: 0.000098\n",
            "2023-04-21 02:16:11,796 epoch 49 - iter 56/79 - loss 0.32607776 - time (sec): 14.55 - samples/sec: 4547.32 - lr: 0.000098\n",
            "2023-04-21 02:16:13,519 epoch 49 - iter 63/79 - loss 0.33007353 - time (sec): 16.28 - samples/sec: 4592.02 - lr: 0.000098\n",
            "2023-04-21 02:16:15,046 epoch 49 - iter 70/79 - loss 0.33119135 - time (sec): 17.80 - samples/sec: 4724.38 - lr: 0.000098\n",
            "2023-04-21 02:16:16,754 epoch 49 - iter 77/79 - loss 0.32997825 - time (sec): 19.51 - samples/sec: 4730.78 - lr: 0.000098\n",
            "2023-04-21 02:16:17,263 ----------------------------------------------------------------------------------------------------\n",
            "2023-04-21 02:16:17,265 EPOCH 49 done: loss 0.3288 - lr 0.000098\n"
          ]
        },
        {
          "output_type": "stream",
          "name": "stderr",
          "text": [
            "100%|██████████| 79/79 [00:21<00:00,  3.73it/s]"
          ]
        },
        {
          "output_type": "stream",
          "name": "stdout",
          "text": [
            "2023-04-21 02:16:38,600 Evaluating as a multi-label problem: True\n"
          ]
        },
        {
          "output_type": "stream",
          "name": "stderr",
          "text": [
            "\n"
          ]
        },
        {
          "output_type": "stream",
          "name": "stdout",
          "text": [
            "2023-04-21 02:16:40,874 TRAIN : loss 0.2733156979084015 - f1-score (weighted avg)  0.3317\n"
          ]
        },
        {
          "output_type": "stream",
          "name": "stderr",
          "text": [
            "100%|██████████| 10/10 [00:03<00:00,  2.52it/s]"
          ]
        },
        {
          "output_type": "stream",
          "name": "stdout",
          "text": [
            "2023-04-21 02:16:44,922 Evaluating as a multi-label problem: False\n",
            "2023-04-21 02:16:44,995 DEV : loss 0.28127720952033997 - f1-score (weighted avg)  0.338\n",
            "2023-04-21 02:16:45,004 Epoch    49: reducing learning rate of group 0 to 4.8828e-05.\n",
            "2023-04-21 02:16:45,006 BAD EPOCHS (no improvement): 2\n",
            "2023-04-21 02:16:45,010 ----------------------------------------------------------------------------------------------------\n"
          ]
        },
        {
          "output_type": "stream",
          "name": "stderr",
          "text": [
            "\n"
          ]
        },
        {
          "output_type": "stream",
          "name": "stdout",
          "text": [
            "2023-04-21 02:16:47,171 epoch 50 - iter 7/79 - loss 0.33480976 - time (sec): 2.16 - samples/sec: 4099.02 - lr: 0.000049\n",
            "2023-04-21 02:16:48,677 epoch 50 - iter 14/79 - loss 0.32402829 - time (sec): 3.67 - samples/sec: 4510.35 - lr: 0.000049\n",
            "2023-04-21 02:16:50,395 epoch 50 - iter 21/79 - loss 0.31881452 - time (sec): 5.38 - samples/sec: 4675.40 - lr: 0.000049\n",
            "2023-04-21 02:16:51,989 epoch 50 - iter 28/79 - loss 0.32512395 - time (sec): 6.98 - samples/sec: 4783.72 - lr: 0.000049\n",
            "2023-04-21 02:16:53,790 epoch 50 - iter 35/79 - loss 0.32255443 - time (sec): 8.78 - samples/sec: 4700.70 - lr: 0.000049\n",
            "2023-04-21 02:16:55,977 epoch 50 - iter 42/79 - loss 0.32145244 - time (sec): 10.97 - samples/sec: 4545.18 - lr: 0.000049\n",
            "2023-04-21 02:16:57,805 epoch 50 - iter 49/79 - loss 0.31908164 - time (sec): 12.79 - samples/sec: 4600.47 - lr: 0.000049\n",
            "2023-04-21 02:16:59,478 epoch 50 - iter 56/79 - loss 0.32363069 - time (sec): 14.47 - samples/sec: 4650.30 - lr: 0.000049\n",
            "2023-04-21 02:17:00,971 epoch 50 - iter 63/79 - loss 0.32744793 - time (sec): 15.96 - samples/sec: 4718.22 - lr: 0.000049\n",
            "2023-04-21 02:17:02,828 epoch 50 - iter 70/79 - loss 0.32741771 - time (sec): 17.82 - samples/sec: 4748.96 - lr: 0.000049\n",
            "2023-04-21 02:17:04,355 epoch 50 - iter 77/79 - loss 0.32825413 - time (sec): 19.34 - samples/sec: 4799.50 - lr: 0.000049\n",
            "2023-04-21 02:17:04,775 ----------------------------------------------------------------------------------------------------\n",
            "2023-04-21 02:17:04,777 EPOCH 50 done: loss 0.3293 - lr 0.000049\n"
          ]
        },
        {
          "output_type": "stream",
          "name": "stderr",
          "text": [
            "100%|██████████| 79/79 [00:21<00:00,  3.72it/s]"
          ]
        },
        {
          "output_type": "stream",
          "name": "stdout",
          "text": [
            "2023-04-21 02:17:26,155 Evaluating as a multi-label problem: True\n"
          ]
        },
        {
          "output_type": "stream",
          "name": "stderr",
          "text": [
            "\n"
          ]
        },
        {
          "output_type": "stream",
          "name": "stdout",
          "text": [
            "2023-04-21 02:17:28,451 TRAIN : loss 0.2731970548629761 - f1-score (weighted avg)  0.3312\n"
          ]
        },
        {
          "output_type": "stream",
          "name": "stderr",
          "text": [
            "100%|██████████| 10/10 [00:02<00:00,  3.62it/s]"
          ]
        },
        {
          "output_type": "stream",
          "name": "stdout",
          "text": [
            "2023-04-21 02:17:31,291 Evaluating as a multi-label problem: False\n",
            "2023-04-21 02:17:31,359 DEV : loss 0.28102555871009827 - f1-score (weighted avg)  0.3378\n",
            "2023-04-21 02:17:31,368 BAD EPOCHS (no improvement): 1\n",
            "2023-04-21 02:17:31,371 ----------------------------------------------------------------------------------------------------\n"
          ]
        },
        {
          "output_type": "stream",
          "name": "stderr",
          "text": [
            "\n"
          ]
        },
        {
          "output_type": "stream",
          "name": "stdout",
          "text": [
            "2023-04-21 02:17:33,590 epoch 51 - iter 7/79 - loss 0.31828980 - time (sec): 2.22 - samples/sec: 3824.14 - lr: 0.000049\n",
            "2023-04-21 02:17:35,043 epoch 51 - iter 14/79 - loss 0.32147778 - time (sec): 3.67 - samples/sec: 4422.15 - lr: 0.000049\n",
            "2023-04-21 02:17:36,788 epoch 51 - iter 21/79 - loss 0.31911474 - time (sec): 5.41 - samples/sec: 4514.59 - lr: 0.000049\n",
            "2023-04-21 02:17:38,660 epoch 51 - iter 28/79 - loss 0.31726749 - time (sec): 7.29 - samples/sec: 4513.82 - lr: 0.000049\n",
            "2023-04-21 02:17:40,109 epoch 51 - iter 35/79 - loss 0.32883169 - time (sec): 8.74 - samples/sec: 4701.11 - lr: 0.000049\n",
            "2023-04-21 02:17:42,442 epoch 51 - iter 42/79 - loss 0.32737561 - time (sec): 11.07 - samples/sec: 4548.18 - lr: 0.000049\n",
            "2023-04-21 02:17:44,020 epoch 51 - iter 49/79 - loss 0.32806608 - time (sec): 12.65 - samples/sec: 4697.44 - lr: 0.000049\n",
            "2023-04-21 02:17:45,517 epoch 51 - iter 56/79 - loss 0.33007519 - time (sec): 14.14 - samples/sec: 4753.85 - lr: 0.000049\n",
            "2023-04-21 02:17:47,141 epoch 51 - iter 63/79 - loss 0.32847565 - time (sec): 15.77 - samples/sec: 4785.35 - lr: 0.000049\n",
            "2023-04-21 02:17:48,723 epoch 51 - iter 70/79 - loss 0.32711220 - time (sec): 17.35 - samples/sec: 4840.10 - lr: 0.000049\n",
            "2023-04-21 02:17:50,385 epoch 51 - iter 77/79 - loss 0.32927814 - time (sec): 19.01 - samples/sec: 4871.77 - lr: 0.000049\n",
            "2023-04-21 02:17:50,723 ----------------------------------------------------------------------------------------------------\n",
            "2023-04-21 02:17:50,725 EPOCH 51 done: loss 0.3296 - lr 0.000049\n"
          ]
        },
        {
          "output_type": "stream",
          "name": "stderr",
          "text": [
            "100%|██████████| 79/79 [00:21<00:00,  3.70it/s]\n"
          ]
        },
        {
          "output_type": "stream",
          "name": "stdout",
          "text": [
            "2023-04-21 02:18:13,461 Evaluating as a multi-label problem: True\n",
            "2023-04-21 02:18:15,748 TRAIN : loss 0.272991418838501 - f1-score (weighted avg)  0.3312\n"
          ]
        },
        {
          "output_type": "stream",
          "name": "stderr",
          "text": [
            "100%|██████████| 10/10 [00:02<00:00,  3.64it/s]"
          ]
        },
        {
          "output_type": "stream",
          "name": "stdout",
          "text": [
            "2023-04-21 02:18:18,577 Evaluating as a multi-label problem: False\n",
            "2023-04-21 02:18:18,645 DEV : loss 0.28084027767181396 - f1-score (weighted avg)  0.3332\n",
            "2023-04-21 02:18:18,655 Epoch    51: reducing learning rate of group 0 to 2.4414e-05.\n",
            "2023-04-21 02:18:18,657 BAD EPOCHS (no improvement): 2\n",
            "2023-04-21 02:18:18,660 ----------------------------------------------------------------------------------------------------\n"
          ]
        },
        {
          "output_type": "stream",
          "name": "stderr",
          "text": [
            "\n"
          ]
        },
        {
          "output_type": "stream",
          "name": "stdout",
          "text": [
            "2023-04-21 02:18:20,370 epoch 52 - iter 7/79 - loss 0.34951341 - time (sec): 1.71 - samples/sec: 5146.94 - lr: 0.000024\n",
            "2023-04-21 02:18:22,391 epoch 52 - iter 14/79 - loss 0.33139764 - time (sec): 3.73 - samples/sec: 4396.77 - lr: 0.000024\n",
            "2023-04-21 02:18:23,968 epoch 52 - iter 21/79 - loss 0.33560391 - time (sec): 5.31 - samples/sec: 4639.48 - lr: 0.000024\n",
            "2023-04-21 02:18:25,351 epoch 52 - iter 28/79 - loss 0.32388390 - time (sec): 6.69 - samples/sec: 4813.85 - lr: 0.000024\n",
            "2023-04-21 02:18:27,262 epoch 52 - iter 35/79 - loss 0.32588082 - time (sec): 8.60 - samples/sec: 4685.57 - lr: 0.000024\n",
            "2023-04-21 02:18:28,913 epoch 52 - iter 42/79 - loss 0.32548270 - time (sec): 10.25 - samples/sec: 4700.37 - lr: 0.000024\n",
            "2023-04-21 02:18:30,544 epoch 52 - iter 49/79 - loss 0.32574394 - time (sec): 11.88 - samples/sec: 4848.28 - lr: 0.000024\n",
            "2023-04-21 02:18:32,282 epoch 52 - iter 56/79 - loss 0.32509634 - time (sec): 13.62 - samples/sec: 4843.85 - lr: 0.000024\n",
            "2023-04-21 02:18:33,536 epoch 52 - iter 63/79 - loss 0.32796133 - time (sec): 14.87 - samples/sec: 4922.26 - lr: 0.000024\n",
            "2023-04-21 02:18:35,314 epoch 52 - iter 70/79 - loss 0.33016407 - time (sec): 16.65 - samples/sec: 4943.09 - lr: 0.000024\n",
            "2023-04-21 02:18:37,582 epoch 52 - iter 77/79 - loss 0.33230759 - time (sec): 18.92 - samples/sec: 4885.89 - lr: 0.000024\n",
            "2023-04-21 02:18:38,019 ----------------------------------------------------------------------------------------------------\n",
            "2023-04-21 02:18:38,020 EPOCH 52 done: loss 0.3318 - lr 0.000024\n"
          ]
        },
        {
          "output_type": "stream",
          "name": "stderr",
          "text": [
            "100%|██████████| 79/79 [00:21<00:00,  3.72it/s]"
          ]
        },
        {
          "output_type": "stream",
          "name": "stdout",
          "text": [
            "2023-04-21 02:18:59,373 Evaluating as a multi-label problem: True\n"
          ]
        },
        {
          "output_type": "stream",
          "name": "stderr",
          "text": [
            "\n"
          ]
        },
        {
          "output_type": "stream",
          "name": "stdout",
          "text": [
            "2023-04-21 02:19:01,685 TRAIN : loss 0.2734385132789612 - f1-score (weighted avg)  0.33\n"
          ]
        },
        {
          "output_type": "stream",
          "name": "stderr",
          "text": [
            "100%|██████████| 10/10 [00:02<00:00,  3.68it/s]\n"
          ]
        },
        {
          "output_type": "stream",
          "name": "stdout",
          "text": [
            "2023-04-21 02:19:05,646 Evaluating as a multi-label problem: False\n",
            "2023-04-21 02:19:05,717 DEV : loss 0.28133654594421387 - f1-score (weighted avg)  0.3308\n",
            "2023-04-21 02:19:05,728 BAD EPOCHS (no improvement): 1\n",
            "2023-04-21 02:19:05,732 ----------------------------------------------------------------------------------------------------\n",
            "2023-04-21 02:19:07,608 epoch 53 - iter 7/79 - loss 0.30966509 - time (sec): 1.87 - samples/sec: 5177.00 - lr: 0.000024\n",
            "2023-04-21 02:19:09,191 epoch 53 - iter 14/79 - loss 0.31978815 - time (sec): 3.46 - samples/sec: 5101.08 - lr: 0.000024\n",
            "2023-04-21 02:19:11,244 epoch 53 - iter 21/79 - loss 0.31451299 - time (sec): 5.51 - samples/sec: 4972.67 - lr: 0.000024\n",
            "2023-04-21 02:19:13,080 epoch 53 - iter 28/79 - loss 0.31867573 - time (sec): 7.35 - samples/sec: 4921.09 - lr: 0.000024\n",
            "2023-04-21 02:19:14,509 epoch 53 - iter 35/79 - loss 0.32572935 - time (sec): 8.78 - samples/sec: 5010.43 - lr: 0.000024\n",
            "2023-04-21 02:19:16,175 epoch 53 - iter 42/79 - loss 0.32625746 - time (sec): 10.44 - samples/sec: 5054.91 - lr: 0.000024\n",
            "2023-04-21 02:19:18,056 epoch 53 - iter 49/79 - loss 0.32638510 - time (sec): 12.32 - samples/sec: 4957.95 - lr: 0.000024\n",
            "2023-04-21 02:19:19,389 epoch 53 - iter 56/79 - loss 0.33193023 - time (sec): 13.66 - samples/sec: 4992.03 - lr: 0.000024\n",
            "2023-04-21 02:19:21,141 epoch 53 - iter 63/79 - loss 0.33133872 - time (sec): 15.41 - samples/sec: 4940.54 - lr: 0.000024\n",
            "2023-04-21 02:19:22,581 epoch 53 - iter 70/79 - loss 0.33069996 - time (sec): 16.85 - samples/sec: 4982.23 - lr: 0.000024\n",
            "2023-04-21 02:19:24,278 epoch 53 - iter 77/79 - loss 0.32816937 - time (sec): 18.55 - samples/sec: 4975.00 - lr: 0.000024\n",
            "2023-04-21 02:19:24,733 ----------------------------------------------------------------------------------------------------\n",
            "2023-04-21 02:19:24,734 EPOCH 53 done: loss 0.3288 - lr 0.000024\n"
          ]
        },
        {
          "output_type": "stream",
          "name": "stderr",
          "text": [
            "100%|██████████| 79/79 [00:21<00:00,  3.71it/s]"
          ]
        },
        {
          "output_type": "stream",
          "name": "stdout",
          "text": [
            "2023-04-21 02:19:46,164 Evaluating as a multi-label problem: True\n"
          ]
        },
        {
          "output_type": "stream",
          "name": "stderr",
          "text": [
            "\n"
          ]
        },
        {
          "output_type": "stream",
          "name": "stdout",
          "text": [
            "2023-04-21 02:19:48,472 TRAIN : loss 0.27345770597457886 - f1-score (weighted avg)  0.3302\n"
          ]
        },
        {
          "output_type": "stream",
          "name": "stderr",
          "text": [
            "100%|██████████| 10/10 [00:02<00:00,  3.65it/s]"
          ]
        },
        {
          "output_type": "stream",
          "name": "stdout",
          "text": [
            "2023-04-21 02:19:51,292 Evaluating as a multi-label problem: False\n",
            "2023-04-21 02:19:51,359 DEV : loss 0.2813499867916107 - f1-score (weighted avg)  0.3315\n",
            "2023-04-21 02:19:51,369 Epoch    53: reducing learning rate of group 0 to 1.2207e-05.\n",
            "2023-04-21 02:19:51,370 BAD EPOCHS (no improvement): 2\n",
            "2023-04-21 02:19:51,374 ----------------------------------------------------------------------------------------------------\n"
          ]
        },
        {
          "output_type": "stream",
          "name": "stderr",
          "text": [
            "\n"
          ]
        },
        {
          "output_type": "stream",
          "name": "stdout",
          "text": [
            "2023-04-21 02:19:53,315 epoch 54 - iter 7/79 - loss 0.30744159 - time (sec): 1.94 - samples/sec: 4574.93 - lr: 0.000012\n",
            "2023-04-21 02:19:54,968 epoch 54 - iter 14/79 - loss 0.30567103 - time (sec): 3.59 - samples/sec: 4992.56 - lr: 0.000012\n",
            "2023-04-21 02:19:56,674 epoch 54 - iter 21/79 - loss 0.30913842 - time (sec): 5.30 - samples/sec: 4899.35 - lr: 0.000012\n",
            "2023-04-21 02:19:58,211 epoch 54 - iter 28/79 - loss 0.31753172 - time (sec): 6.84 - samples/sec: 5010.92 - lr: 0.000012\n",
            "2023-04-21 02:20:00,376 epoch 54 - iter 35/79 - loss 0.31899894 - time (sec): 9.00 - samples/sec: 4726.14 - lr: 0.000012\n",
            "2023-04-21 02:20:02,101 epoch 54 - iter 42/79 - loss 0.32466039 - time (sec): 10.73 - samples/sec: 4806.73 - lr: 0.000012\n",
            "2023-04-21 02:20:03,408 epoch 54 - iter 49/79 - loss 0.32231504 - time (sec): 12.03 - samples/sec: 4851.39 - lr: 0.000012\n",
            "2023-04-21 02:20:04,929 epoch 54 - iter 56/79 - loss 0.32266990 - time (sec): 13.55 - samples/sec: 4889.07 - lr: 0.000012\n",
            "2023-04-21 02:20:06,906 epoch 54 - iter 63/79 - loss 0.32535489 - time (sec): 15.53 - samples/sec: 4799.28 - lr: 0.000012\n",
            "2023-04-21 02:20:08,659 epoch 54 - iter 70/79 - loss 0.32410713 - time (sec): 17.28 - samples/sec: 4812.99 - lr: 0.000012\n",
            "2023-04-21 02:20:10,887 epoch 54 - iter 77/79 - loss 0.32470911 - time (sec): 19.51 - samples/sec: 4749.42 - lr: 0.000012\n",
            "2023-04-21 02:20:11,305 ----------------------------------------------------------------------------------------------------\n",
            "2023-04-21 02:20:11,307 EPOCH 54 done: loss 0.3268 - lr 0.000012\n"
          ]
        },
        {
          "output_type": "stream",
          "name": "stderr",
          "text": [
            "100%|██████████| 79/79 [00:21<00:00,  3.72it/s]\n"
          ]
        },
        {
          "output_type": "stream",
          "name": "stdout",
          "text": [
            "2023-04-21 02:20:33,877 Evaluating as a multi-label problem: True\n",
            "2023-04-21 02:20:36,162 TRAIN : loss 0.27316907048225403 - f1-score (weighted avg)  0.3309\n"
          ]
        },
        {
          "output_type": "stream",
          "name": "stderr",
          "text": [
            "100%|██████████| 10/10 [00:02<00:00,  3.65it/s]"
          ]
        },
        {
          "output_type": "stream",
          "name": "stdout",
          "text": [
            "2023-04-21 02:20:38,985 Evaluating as a multi-label problem: False\n",
            "2023-04-21 02:20:39,052 DEV : loss 0.2810463607311249 - f1-score (weighted avg)  0.3329\n",
            "2023-04-21 02:20:39,063 BAD EPOCHS (no improvement): 1\n",
            "2023-04-21 02:20:39,070 ----------------------------------------------------------------------------------------------------\n"
          ]
        },
        {
          "output_type": "stream",
          "name": "stderr",
          "text": [
            "\n"
          ]
        },
        {
          "output_type": "stream",
          "name": "stdout",
          "text": [
            "2023-04-21 02:20:40,841 epoch 55 - iter 7/79 - loss 0.34266665 - time (sec): 1.77 - samples/sec: 5573.20 - lr: 0.000012\n",
            "2023-04-21 02:20:43,124 epoch 55 - iter 14/79 - loss 0.32852477 - time (sec): 4.05 - samples/sec: 4690.47 - lr: 0.000012\n",
            "2023-04-21 02:20:44,803 epoch 55 - iter 21/79 - loss 0.32698882 - time (sec): 5.73 - samples/sec: 4667.13 - lr: 0.000012\n",
            "2023-04-21 02:20:46,201 epoch 55 - iter 28/79 - loss 0.33079512 - time (sec): 7.13 - samples/sec: 4727.18 - lr: 0.000012\n",
            "2023-04-21 02:20:47,751 epoch 55 - iter 35/79 - loss 0.33361138 - time (sec): 8.68 - samples/sec: 4733.14 - lr: 0.000012\n",
            "2023-04-21 02:20:49,456 epoch 55 - iter 42/79 - loss 0.33712780 - time (sec): 10.38 - samples/sec: 4723.48 - lr: 0.000012\n",
            "2023-04-21 02:20:51,178 epoch 55 - iter 49/79 - loss 0.33321934 - time (sec): 12.11 - samples/sec: 4786.79 - lr: 0.000012\n",
            "2023-04-21 02:20:53,087 epoch 55 - iter 56/79 - loss 0.33138896 - time (sec): 14.01 - samples/sec: 4795.13 - lr: 0.000012\n",
            "2023-04-21 02:20:54,591 epoch 55 - iter 63/79 - loss 0.32990547 - time (sec): 15.52 - samples/sec: 4886.08 - lr: 0.000012\n",
            "2023-04-21 02:20:56,408 epoch 55 - iter 70/79 - loss 0.32736799 - time (sec): 17.34 - samples/sec: 4858.23 - lr: 0.000012\n",
            "2023-04-21 02:20:58,042 epoch 55 - iter 77/79 - loss 0.32856508 - time (sec): 18.97 - samples/sec: 4848.14 - lr: 0.000012\n",
            "2023-04-21 02:20:58,849 ----------------------------------------------------------------------------------------------------\n",
            "2023-04-21 02:20:58,851 EPOCH 55 done: loss 0.3280 - lr 0.000012\n"
          ]
        },
        {
          "output_type": "stream",
          "name": "stderr",
          "text": [
            "100%|██████████| 79/79 [00:21<00:00,  3.73it/s]"
          ]
        },
        {
          "output_type": "stream",
          "name": "stdout",
          "text": [
            "2023-04-21 02:21:20,158 Evaluating as a multi-label problem: True\n"
          ]
        },
        {
          "output_type": "stream",
          "name": "stderr",
          "text": [
            "\n"
          ]
        },
        {
          "output_type": "stream",
          "name": "stdout",
          "text": [
            "2023-04-21 02:21:22,437 TRAIN : loss 0.27297043800354004 - f1-score (weighted avg)  0.3316\n"
          ]
        },
        {
          "output_type": "stream",
          "name": "stderr",
          "text": [
            "100%|██████████| 10/10 [00:02<00:00,  3.61it/s]"
          ]
        },
        {
          "output_type": "stream",
          "name": "stdout",
          "text": [
            "2023-04-21 02:21:25,288 Evaluating as a multi-label problem: False\n",
            "2023-04-21 02:21:25,354 DEV : loss 0.28088369965553284 - f1-score (weighted avg)  0.3381\n",
            "2023-04-21 02:21:25,365 Epoch    55: reducing learning rate of group 0 to 6.1035e-06.\n",
            "2023-04-21 02:21:25,367 BAD EPOCHS (no improvement): 2\n",
            "2023-04-21 02:21:25,370 ----------------------------------------------------------------------------------------------------\n"
          ]
        },
        {
          "output_type": "stream",
          "name": "stderr",
          "text": [
            "\n"
          ]
        },
        {
          "output_type": "stream",
          "name": "stdout",
          "text": [
            "2023-04-21 02:21:26,824 epoch 56 - iter 7/79 - loss 0.32572479 - time (sec): 1.45 - samples/sec: 5379.22 - lr: 0.000006\n",
            "2023-04-21 02:21:28,374 epoch 56 - iter 14/79 - loss 0.34424915 - time (sec): 3.00 - samples/sec: 5208.35 - lr: 0.000006\n",
            "2023-04-21 02:21:29,906 epoch 56 - iter 21/79 - loss 0.33233305 - time (sec): 4.53 - samples/sec: 5167.87 - lr: 0.000006\n",
            "2023-04-21 02:21:31,790 epoch 56 - iter 28/79 - loss 0.33493290 - time (sec): 6.42 - samples/sec: 4965.72 - lr: 0.000006\n",
            "2023-04-21 02:21:33,661 epoch 56 - iter 35/79 - loss 0.34317427 - time (sec): 8.29 - samples/sec: 4843.00 - lr: 0.000006\n",
            "2023-04-21 02:21:35,164 epoch 56 - iter 42/79 - loss 0.33898198 - time (sec): 9.79 - samples/sec: 4893.87 - lr: 0.000006\n",
            "2023-04-21 02:21:37,012 epoch 56 - iter 49/79 - loss 0.33541633 - time (sec): 11.64 - samples/sec: 4904.76 - lr: 0.000006\n",
            "2023-04-21 02:21:38,425 epoch 56 - iter 56/79 - loss 0.33314483 - time (sec): 13.05 - samples/sec: 5013.57 - lr: 0.000006\n",
            "2023-04-21 02:21:40,655 epoch 56 - iter 63/79 - loss 0.33259123 - time (sec): 15.28 - samples/sec: 4952.36 - lr: 0.000006\n",
            "2023-04-21 02:21:42,412 epoch 56 - iter 70/79 - loss 0.33133654 - time (sec): 17.04 - samples/sec: 4900.04 - lr: 0.000006\n",
            "2023-04-21 02:21:44,508 epoch 56 - iter 77/79 - loss 0.32921277 - time (sec): 19.14 - samples/sec: 4830.63 - lr: 0.000006\n",
            "2023-04-21 02:21:45,070 ----------------------------------------------------------------------------------------------------\n",
            "2023-04-21 02:21:45,072 EPOCH 56 done: loss 0.3285 - lr 0.000006\n"
          ]
        },
        {
          "output_type": "stream",
          "name": "stderr",
          "text": [
            "100%|██████████| 79/79 [00:22<00:00,  3.51it/s]"
          ]
        },
        {
          "output_type": "stream",
          "name": "stdout",
          "text": [
            "2023-04-21 02:22:07,707 Evaluating as a multi-label problem: True\n"
          ]
        },
        {
          "output_type": "stream",
          "name": "stderr",
          "text": [
            "\n"
          ]
        },
        {
          "output_type": "stream",
          "name": "stdout",
          "text": [
            "2023-04-21 02:22:09,993 TRAIN : loss 0.27287936210632324 - f1-score (weighted avg)  0.3315\n"
          ]
        },
        {
          "output_type": "stream",
          "name": "stderr",
          "text": [
            "100%|██████████| 10/10 [00:02<00:00,  3.66it/s]"
          ]
        },
        {
          "output_type": "stream",
          "name": "stdout",
          "text": [
            "2023-04-21 02:22:12,812 Evaluating as a multi-label problem: False\n",
            "2023-04-21 02:22:12,878 DEV : loss 0.28080326318740845 - f1-score (weighted avg)  0.3381\n",
            "2023-04-21 02:22:12,888 BAD EPOCHS (no improvement): 1\n",
            "2023-04-21 02:22:12,892 ----------------------------------------------------------------------------------------------------\n"
          ]
        },
        {
          "output_type": "stream",
          "name": "stderr",
          "text": [
            "\n"
          ]
        },
        {
          "output_type": "stream",
          "name": "stdout",
          "text": [
            "2023-04-21 02:22:15,290 epoch 57 - iter 7/79 - loss 0.32753405 - time (sec): 2.40 - samples/sec: 3834.45 - lr: 0.000006\n",
            "2023-04-21 02:22:16,865 epoch 57 - iter 14/79 - loss 0.31841745 - time (sec): 3.97 - samples/sec: 4420.78 - lr: 0.000006\n",
            "2023-04-21 02:22:18,429 epoch 57 - iter 21/79 - loss 0.32011120 - time (sec): 5.54 - samples/sec: 4641.41 - lr: 0.000006\n",
            "2023-04-21 02:22:20,054 epoch 57 - iter 28/79 - loss 0.33109483 - time (sec): 7.16 - samples/sec: 4808.09 - lr: 0.000006\n",
            "2023-04-21 02:22:21,649 epoch 57 - iter 35/79 - loss 0.33109550 - time (sec): 8.75 - samples/sec: 4799.16 - lr: 0.000006\n",
            "2023-04-21 02:22:23,442 epoch 57 - iter 42/79 - loss 0.32486666 - time (sec): 10.55 - samples/sec: 4868.03 - lr: 0.000006\n",
            "2023-04-21 02:22:25,187 epoch 57 - iter 49/79 - loss 0.32555370 - time (sec): 12.29 - samples/sec: 4873.45 - lr: 0.000006\n",
            "2023-04-21 02:22:26,960 epoch 57 - iter 56/79 - loss 0.32600616 - time (sec): 14.07 - samples/sec: 4817.96 - lr: 0.000006\n",
            "2023-04-21 02:22:28,940 epoch 57 - iter 63/79 - loss 0.32387688 - time (sec): 16.05 - samples/sec: 4783.40 - lr: 0.000006\n",
            "2023-04-21 02:22:30,531 epoch 57 - iter 70/79 - loss 0.32617592 - time (sec): 17.64 - samples/sec: 4793.91 - lr: 0.000006\n",
            "2023-04-21 02:22:32,295 epoch 57 - iter 77/79 - loss 0.33070831 - time (sec): 19.40 - samples/sec: 4784.39 - lr: 0.000006\n",
            "2023-04-21 02:22:32,719 ----------------------------------------------------------------------------------------------------\n",
            "2023-04-21 02:22:32,721 EPOCH 57 done: loss 0.3300 - lr 0.000006\n"
          ]
        },
        {
          "output_type": "stream",
          "name": "stderr",
          "text": [
            "100%|██████████| 79/79 [00:21<00:00,  3.71it/s]\n"
          ]
        },
        {
          "output_type": "stream",
          "name": "stdout",
          "text": [
            "2023-04-21 02:22:55,365 Evaluating as a multi-label problem: True\n",
            "2023-04-21 02:22:57,630 TRAIN : loss 0.2727651298046112 - f1-score (weighted avg)  0.3323\n"
          ]
        },
        {
          "output_type": "stream",
          "name": "stderr",
          "text": [
            "100%|██████████| 10/10 [00:02<00:00,  3.62it/s]"
          ]
        },
        {
          "output_type": "stream",
          "name": "stdout",
          "text": [
            "2023-04-21 02:23:00,475 Evaluating as a multi-label problem: False\n",
            "2023-04-21 02:23:00,542 DEV : loss 0.28066810965538025 - f1-score (weighted avg)  0.3381\n",
            "2023-04-21 02:23:00,554 BAD EPOCHS (no improvement): 0\n",
            "2023-04-21 02:23:00,558 saving best model\n"
          ]
        },
        {
          "output_type": "stream",
          "name": "stderr",
          "text": [
            "\n"
          ]
        },
        {
          "output_type": "stream",
          "name": "stdout",
          "text": [
            "2023-04-21 02:23:02,650 ----------------------------------------------------------------------------------------------------\n",
            "2023-04-21 02:23:04,162 epoch 58 - iter 7/79 - loss 0.33716551 - time (sec): 1.51 - samples/sec: 5355.26 - lr: 0.000006\n",
            "2023-04-21 02:23:05,612 epoch 58 - iter 14/79 - loss 0.34360963 - time (sec): 2.96 - samples/sec: 5492.15 - lr: 0.000006\n",
            "2023-04-21 02:23:07,399 epoch 58 - iter 21/79 - loss 0.35067227 - time (sec): 4.75 - samples/sec: 5095.62 - lr: 0.000006\n",
            "2023-04-21 02:23:08,910 epoch 58 - iter 28/79 - loss 0.34957327 - time (sec): 6.26 - samples/sec: 5222.08 - lr: 0.000006\n",
            "2023-04-21 02:23:10,624 epoch 58 - iter 35/79 - loss 0.34747397 - time (sec): 7.97 - samples/sec: 5227.27 - lr: 0.000006\n",
            "2023-04-21 02:23:12,460 epoch 58 - iter 42/79 - loss 0.34379487 - time (sec): 9.81 - samples/sec: 5116.90 - lr: 0.000006\n",
            "2023-04-21 02:23:14,870 epoch 58 - iter 49/79 - loss 0.34108055 - time (sec): 12.22 - samples/sec: 4870.74 - lr: 0.000006\n",
            "2023-04-21 02:23:16,774 epoch 58 - iter 56/79 - loss 0.33722765 - time (sec): 14.12 - samples/sec: 4848.10 - lr: 0.000006\n",
            "2023-04-21 02:23:18,400 epoch 58 - iter 63/79 - loss 0.33791945 - time (sec): 15.75 - samples/sec: 4815.10 - lr: 0.000006\n",
            "2023-04-21 02:23:20,140 epoch 58 - iter 70/79 - loss 0.33538540 - time (sec): 17.49 - samples/sec: 4812.65 - lr: 0.000006\n",
            "2023-04-21 02:23:21,950 epoch 58 - iter 77/79 - loss 0.33143737 - time (sec): 19.30 - samples/sec: 4794.81 - lr: 0.000006\n",
            "2023-04-21 02:23:22,490 ----------------------------------------------------------------------------------------------------\n",
            "2023-04-21 02:23:22,491 EPOCH 58 done: loss 0.3310 - lr 0.000006\n"
          ]
        },
        {
          "output_type": "stream",
          "name": "stderr",
          "text": [
            "100%|██████████| 79/79 [00:21<00:00,  3.73it/s]"
          ]
        },
        {
          "output_type": "stream",
          "name": "stdout",
          "text": [
            "2023-04-21 02:23:43,819 Evaluating as a multi-label problem: True\n"
          ]
        },
        {
          "output_type": "stream",
          "name": "stderr",
          "text": [
            "\n"
          ]
        },
        {
          "output_type": "stream",
          "name": "stdout",
          "text": [
            "2023-04-21 02:23:46,098 TRAIN : loss 0.2728068232536316 - f1-score (weighted avg)  0.3327\n"
          ]
        },
        {
          "output_type": "stream",
          "name": "stderr",
          "text": [
            "100%|██████████| 10/10 [00:02<00:00,  3.66it/s]"
          ]
        },
        {
          "output_type": "stream",
          "name": "stdout",
          "text": [
            "2023-04-21 02:23:48,913 Evaluating as a multi-label problem: False\n",
            "2023-04-21 02:23:48,979 DEV : loss 0.2806825041770935 - f1-score (weighted avg)  0.3381\n",
            "2023-04-21 02:23:48,989 BAD EPOCHS (no improvement): 1\n",
            "2023-04-21 02:23:48,993 ----------------------------------------------------------------------------------------------------\n"
          ]
        },
        {
          "output_type": "stream",
          "name": "stderr",
          "text": [
            "\n"
          ]
        },
        {
          "output_type": "stream",
          "name": "stdout",
          "text": [
            "2023-04-21 02:23:50,550 epoch 59 - iter 7/79 - loss 0.33535028 - time (sec): 1.56 - samples/sec: 5174.25 - lr: 0.000006\n",
            "2023-04-21 02:23:52,338 epoch 59 - iter 14/79 - loss 0.32728431 - time (sec): 3.34 - samples/sec: 4615.11 - lr: 0.000006\n",
            "2023-04-21 02:23:53,936 epoch 59 - iter 21/79 - loss 0.31732510 - time (sec): 4.94 - samples/sec: 4844.76 - lr: 0.000006\n",
            "2023-04-21 02:23:55,554 epoch 59 - iter 28/79 - loss 0.31539039 - time (sec): 6.56 - samples/sec: 4932.25 - lr: 0.000006\n",
            "2023-04-21 02:23:57,101 epoch 59 - iter 35/79 - loss 0.32591475 - time (sec): 8.11 - samples/sec: 5014.75 - lr: 0.000006\n",
            "2023-04-21 02:23:58,715 epoch 59 - iter 42/79 - loss 0.32093016 - time (sec): 9.72 - samples/sec: 5058.91 - lr: 0.000006\n",
            "2023-04-21 02:24:00,735 epoch 59 - iter 49/79 - loss 0.32562310 - time (sec): 11.74 - samples/sec: 4890.56 - lr: 0.000006\n",
            "2023-04-21 02:24:02,808 epoch 59 - iter 56/79 - loss 0.32946261 - time (sec): 13.81 - samples/sec: 4771.16 - lr: 0.000006\n",
            "2023-04-21 02:24:04,468 epoch 59 - iter 63/79 - loss 0.33176071 - time (sec): 15.47 - samples/sec: 4794.73 - lr: 0.000006\n",
            "2023-04-21 02:24:06,193 epoch 59 - iter 70/79 - loss 0.33606893 - time (sec): 17.20 - samples/sec: 4875.72 - lr: 0.000006\n",
            "2023-04-21 02:24:08,208 epoch 59 - iter 77/79 - loss 0.33433216 - time (sec): 19.21 - samples/sec: 4811.91 - lr: 0.000006\n",
            "2023-04-21 02:24:08,743 ----------------------------------------------------------------------------------------------------\n",
            "2023-04-21 02:24:08,745 EPOCH 59 done: loss 0.3327 - lr 0.000006\n"
          ]
        },
        {
          "output_type": "stream",
          "name": "stderr",
          "text": [
            "100%|██████████| 79/79 [00:22<00:00,  3.53it/s]"
          ]
        },
        {
          "output_type": "stream",
          "name": "stdout",
          "text": [
            "2023-04-21 02:24:31,280 Evaluating as a multi-label problem: True\n"
          ]
        },
        {
          "output_type": "stream",
          "name": "stderr",
          "text": [
            "\n"
          ]
        },
        {
          "output_type": "stream",
          "name": "stdout",
          "text": [
            "2023-04-21 02:24:33,586 TRAIN : loss 0.27292051911354065 - f1-score (weighted avg)  0.3315\n"
          ]
        },
        {
          "output_type": "stream",
          "name": "stderr",
          "text": [
            "100%|██████████| 10/10 [00:02<00:00,  3.66it/s]"
          ]
        },
        {
          "output_type": "stream",
          "name": "stdout",
          "text": [
            "2023-04-21 02:24:36,403 Evaluating as a multi-label problem: False\n",
            "2023-04-21 02:24:36,472 DEV : loss 0.280784010887146 - f1-score (weighted avg)  0.3381\n",
            "2023-04-21 02:24:36,482 Epoch    59: reducing learning rate of group 0 to 3.0518e-06.\n",
            "2023-04-21 02:24:36,484 BAD EPOCHS (no improvement): 2\n",
            "2023-04-21 02:24:36,488 ----------------------------------------------------------------------------------------------------\n"
          ]
        },
        {
          "output_type": "stream",
          "name": "stderr",
          "text": [
            "\n"
          ]
        },
        {
          "output_type": "stream",
          "name": "stdout",
          "text": [
            "2023-04-21 02:24:38,165 epoch 60 - iter 7/79 - loss 0.33189626 - time (sec): 1.67 - samples/sec: 5460.09 - lr: 0.000003\n",
            "2023-04-21 02:24:39,880 epoch 60 - iter 14/79 - loss 0.34040410 - time (sec): 3.39 - samples/sec: 5257.94 - lr: 0.000003\n",
            "2023-04-21 02:24:41,387 epoch 60 - iter 21/79 - loss 0.33709951 - time (sec): 4.90 - samples/sec: 5256.96 - lr: 0.000003\n",
            "2023-04-21 02:24:43,026 epoch 60 - iter 28/79 - loss 0.33616533 - time (sec): 6.54 - samples/sec: 5074.66 - lr: 0.000003\n",
            "2023-04-21 02:24:44,862 epoch 60 - iter 35/79 - loss 0.33335984 - time (sec): 8.37 - samples/sec: 5005.54 - lr: 0.000003\n",
            "2023-04-21 02:24:46,750 epoch 60 - iter 42/79 - loss 0.33545921 - time (sec): 10.26 - samples/sec: 4994.16 - lr: 0.000003\n",
            "2023-04-21 02:24:48,163 epoch 60 - iter 49/79 - loss 0.33372885 - time (sec): 11.67 - samples/sec: 4964.06 - lr: 0.000003\n",
            "2023-04-21 02:24:50,334 epoch 60 - iter 56/79 - loss 0.33399830 - time (sec): 13.84 - samples/sec: 4873.67 - lr: 0.000003\n",
            "2023-04-21 02:24:52,131 epoch 60 - iter 63/79 - loss 0.33197686 - time (sec): 15.64 - samples/sec: 4853.37 - lr: 0.000003\n",
            "2023-04-21 02:24:54,024 epoch 60 - iter 70/79 - loss 0.33436562 - time (sec): 17.53 - samples/sec: 4834.48 - lr: 0.000003\n",
            "2023-04-21 02:24:55,731 epoch 60 - iter 77/79 - loss 0.33224830 - time (sec): 19.24 - samples/sec: 4824.49 - lr: 0.000003\n",
            "2023-04-21 02:24:56,090 ----------------------------------------------------------------------------------------------------\n",
            "2023-04-21 02:24:56,091 EPOCH 60 done: loss 0.3329 - lr 0.000003\n"
          ]
        },
        {
          "output_type": "stream",
          "name": "stderr",
          "text": [
            "100%|██████████| 79/79 [00:21<00:00,  3.70it/s]"
          ]
        },
        {
          "output_type": "stream",
          "name": "stdout",
          "text": [
            "2023-04-21 02:25:17,569 Evaluating as a multi-label problem: True\n"
          ]
        },
        {
          "output_type": "stream",
          "name": "stderr",
          "text": [
            "\n"
          ]
        },
        {
          "output_type": "stream",
          "name": "stdout",
          "text": [
            "2023-04-21 02:25:21,101 TRAIN : loss 0.2729510962963104 - f1-score (weighted avg)  0.3312\n"
          ]
        },
        {
          "output_type": "stream",
          "name": "stderr",
          "text": [
            "100%|██████████| 10/10 [00:02<00:00,  3.67it/s]"
          ]
        },
        {
          "output_type": "stream",
          "name": "stdout",
          "text": [
            "2023-04-21 02:25:23,914 Evaluating as a multi-label problem: False\n",
            "2023-04-21 02:25:23,982 DEV : loss 0.28081274032592773 - f1-score (weighted avg)  0.3376\n",
            "2023-04-21 02:25:23,992 BAD EPOCHS (no improvement): 1\n",
            "2023-04-21 02:25:23,996 ----------------------------------------------------------------------------------------------------\n"
          ]
        },
        {
          "output_type": "stream",
          "name": "stderr",
          "text": [
            "\n"
          ]
        },
        {
          "output_type": "stream",
          "name": "stdout",
          "text": [
            "2023-04-21 02:25:25,620 epoch 61 - iter 7/79 - loss 0.36003658 - time (sec): 1.62 - samples/sec: 4835.60 - lr: 0.000003\n",
            "2023-04-21 02:25:27,543 epoch 61 - iter 14/79 - loss 0.35108097 - time (sec): 3.55 - samples/sec: 4586.74 - lr: 0.000003\n",
            "2023-04-21 02:25:29,080 epoch 61 - iter 21/79 - loss 0.34626203 - time (sec): 5.08 - samples/sec: 4910.27 - lr: 0.000003\n",
            "2023-04-21 02:25:30,675 epoch 61 - iter 28/79 - loss 0.33832664 - time (sec): 6.68 - samples/sec: 5002.09 - lr: 0.000003\n",
            "2023-04-21 02:25:33,019 epoch 61 - iter 35/79 - loss 0.33545518 - time (sec): 9.02 - samples/sec: 4695.59 - lr: 0.000003\n",
            "2023-04-21 02:25:35,134 epoch 61 - iter 42/79 - loss 0.33060278 - time (sec): 11.14 - samples/sec: 4584.05 - lr: 0.000003\n",
            "2023-04-21 02:25:36,648 epoch 61 - iter 49/79 - loss 0.33141019 - time (sec): 12.65 - samples/sec: 4576.42 - lr: 0.000003\n",
            "2023-04-21 02:25:38,187 epoch 61 - iter 56/79 - loss 0.33386008 - time (sec): 14.19 - samples/sec: 4657.92 - lr: 0.000003\n",
            "2023-04-21 02:25:39,975 epoch 61 - iter 63/79 - loss 0.32828644 - time (sec): 15.98 - samples/sec: 4726.59 - lr: 0.000003\n",
            "2023-04-21 02:25:41,597 epoch 61 - iter 70/79 - loss 0.32851069 - time (sec): 17.60 - samples/sec: 4829.49 - lr: 0.000003\n",
            "2023-04-21 02:25:42,968 epoch 61 - iter 77/79 - loss 0.32797828 - time (sec): 18.97 - samples/sec: 4857.37 - lr: 0.000003\n",
            "2023-04-21 02:25:43,570 ----------------------------------------------------------------------------------------------------\n",
            "2023-04-21 02:25:43,571 EPOCH 61 done: loss 0.3302 - lr 0.000003\n"
          ]
        },
        {
          "output_type": "stream",
          "name": "stderr",
          "text": [
            "100%|██████████| 79/79 [00:21<00:00,  3.71it/s]"
          ]
        },
        {
          "output_type": "stream",
          "name": "stdout",
          "text": [
            "2023-04-21 02:26:05,010 Evaluating as a multi-label problem: True\n"
          ]
        },
        {
          "output_type": "stream",
          "name": "stderr",
          "text": [
            "\n"
          ]
        },
        {
          "output_type": "stream",
          "name": "stdout",
          "text": [
            "2023-04-21 02:26:07,292 TRAIN : loss 0.272946834564209 - f1-score (weighted avg)  0.3316\n"
          ]
        },
        {
          "output_type": "stream",
          "name": "stderr",
          "text": [
            "100%|██████████| 10/10 [00:02<00:00,  3.64it/s]"
          ]
        },
        {
          "output_type": "stream",
          "name": "stdout",
          "text": [
            "2023-04-21 02:26:10,140 Evaluating as a multi-label problem: False\n",
            "2023-04-21 02:26:10,209 DEV : loss 0.28081151843070984 - f1-score (weighted avg)  0.3381\n",
            "2023-04-21 02:26:10,219 Epoch    61: reducing learning rate of group 0 to 1.5259e-06.\n",
            "2023-04-21 02:26:10,220 BAD EPOCHS (no improvement): 2\n",
            "2023-04-21 02:26:10,224 ----------------------------------------------------------------------------------------------------\n"
          ]
        },
        {
          "output_type": "stream",
          "name": "stderr",
          "text": [
            "\n"
          ]
        },
        {
          "output_type": "stream",
          "name": "stdout",
          "text": [
            "2023-04-21 02:26:12,057 epoch 62 - iter 7/79 - loss 0.32189203 - time (sec): 1.83 - samples/sec: 4406.58 - lr: 0.000002\n",
            "2023-04-21 02:26:13,644 epoch 62 - iter 14/79 - loss 0.32657483 - time (sec): 3.42 - samples/sec: 4947.04 - lr: 0.000002\n",
            "2023-04-21 02:26:15,377 epoch 62 - iter 21/79 - loss 0.32340306 - time (sec): 5.15 - samples/sec: 5011.90 - lr: 0.000002\n",
            "2023-04-21 02:26:17,074 epoch 62 - iter 28/79 - loss 0.33238813 - time (sec): 6.85 - samples/sec: 4986.84 - lr: 0.000002\n",
            "2023-04-21 02:26:19,646 epoch 62 - iter 35/79 - loss 0.32707148 - time (sec): 9.42 - samples/sec: 4763.14 - lr: 0.000002\n",
            "2023-04-21 02:26:21,564 epoch 62 - iter 42/79 - loss 0.32167537 - time (sec): 11.34 - samples/sec: 4791.43 - lr: 0.000002\n",
            "2023-04-21 02:26:23,179 epoch 62 - iter 49/79 - loss 0.32086928 - time (sec): 12.95 - samples/sec: 4797.50 - lr: 0.000002\n",
            "2023-04-21 02:26:24,768 epoch 62 - iter 56/79 - loss 0.32117897 - time (sec): 14.54 - samples/sec: 4792.07 - lr: 0.000002\n",
            "2023-04-21 02:26:26,064 epoch 62 - iter 63/79 - loss 0.32031296 - time (sec): 15.84 - samples/sec: 4827.97 - lr: 0.000002\n",
            "2023-04-21 02:26:27,727 epoch 62 - iter 70/79 - loss 0.32276837 - time (sec): 17.50 - samples/sec: 4836.54 - lr: 0.000002\n",
            "2023-04-21 02:26:29,188 epoch 62 - iter 77/79 - loss 0.32542721 - time (sec): 18.96 - samples/sec: 4882.71 - lr: 0.000002\n",
            "2023-04-21 02:26:29,758 ----------------------------------------------------------------------------------------------------\n",
            "2023-04-21 02:26:29,760 EPOCH 62 done: loss 0.3255 - lr 0.000002\n"
          ]
        },
        {
          "output_type": "stream",
          "name": "stderr",
          "text": [
            "100%|██████████| 79/79 [00:22<00:00,  3.53it/s]"
          ]
        },
        {
          "output_type": "stream",
          "name": "stdout",
          "text": [
            "2023-04-21 02:26:52,302 Evaluating as a multi-label problem: True\n"
          ]
        },
        {
          "output_type": "stream",
          "name": "stderr",
          "text": [
            "\n"
          ]
        },
        {
          "output_type": "stream",
          "name": "stdout",
          "text": [
            "2023-04-21 02:26:54,588 TRAIN : loss 0.2729355990886688 - f1-score (weighted avg)  0.3315\n"
          ]
        },
        {
          "output_type": "stream",
          "name": "stderr",
          "text": [
            "100%|██████████| 10/10 [00:02<00:00,  3.67it/s]"
          ]
        },
        {
          "output_type": "stream",
          "name": "stdout",
          "text": [
            "2023-04-21 02:26:57,396 Evaluating as a multi-label problem: False\n",
            "2023-04-21 02:26:57,466 DEV : loss 0.28080815076828003 - f1-score (weighted avg)  0.3381\n",
            "2023-04-21 02:26:57,476 BAD EPOCHS (no improvement): 1\n",
            "2023-04-21 02:26:57,480 ----------------------------------------------------------------------------------------------------\n"
          ]
        },
        {
          "output_type": "stream",
          "name": "stderr",
          "text": [
            "\n"
          ]
        },
        {
          "output_type": "stream",
          "name": "stdout",
          "text": [
            "2023-04-21 02:26:59,345 epoch 63 - iter 7/79 - loss 0.33787756 - time (sec): 1.86 - samples/sec: 4412.41 - lr: 0.000002\n",
            "2023-04-21 02:27:00,995 epoch 63 - iter 14/79 - loss 0.34405516 - time (sec): 3.51 - samples/sec: 4863.10 - lr: 0.000002\n",
            "2023-04-21 02:27:02,736 epoch 63 - iter 21/79 - loss 0.33250718 - time (sec): 5.25 - samples/sec: 4777.92 - lr: 0.000002\n",
            "2023-04-21 02:27:04,791 epoch 63 - iter 28/79 - loss 0.32420010 - time (sec): 7.31 - samples/sec: 4900.32 - lr: 0.000002\n",
            "2023-04-21 02:27:06,757 epoch 63 - iter 35/79 - loss 0.32201419 - time (sec): 9.28 - samples/sec: 4805.20 - lr: 0.000002\n",
            "2023-04-21 02:27:08,228 epoch 63 - iter 42/79 - loss 0.32655779 - time (sec): 10.75 - samples/sec: 4868.32 - lr: 0.000002\n",
            "2023-04-21 02:27:10,259 epoch 63 - iter 49/79 - loss 0.32226129 - time (sec): 12.78 - samples/sec: 4861.92 - lr: 0.000002\n",
            "2023-04-21 02:27:11,762 epoch 63 - iter 56/79 - loss 0.32422201 - time (sec): 14.28 - samples/sec: 4870.12 - lr: 0.000002\n",
            "2023-04-21 02:27:13,217 epoch 63 - iter 63/79 - loss 0.32540983 - time (sec): 15.74 - samples/sec: 4893.14 - lr: 0.000002\n",
            "2023-04-21 02:27:14,703 epoch 63 - iter 70/79 - loss 0.32574437 - time (sec): 17.22 - samples/sec: 4909.08 - lr: 0.000002\n",
            "2023-04-21 02:27:16,483 epoch 63 - iter 77/79 - loss 0.32788791 - time (sec): 19.00 - samples/sec: 4877.41 - lr: 0.000002\n",
            "2023-04-21 02:27:16,848 ----------------------------------------------------------------------------------------------------\n",
            "2023-04-21 02:27:16,850 EPOCH 63 done: loss 0.3274 - lr 0.000002\n"
          ]
        },
        {
          "output_type": "stream",
          "name": "stderr",
          "text": [
            "100%|██████████| 79/79 [00:21<00:00,  3.71it/s]"
          ]
        },
        {
          "output_type": "stream",
          "name": "stdout",
          "text": [
            "2023-04-21 02:27:38,294 Evaluating as a multi-label problem: True\n"
          ]
        },
        {
          "output_type": "stream",
          "name": "stderr",
          "text": [
            "\n"
          ]
        },
        {
          "output_type": "stream",
          "name": "stdout",
          "text": [
            "2023-04-21 02:27:41,957 TRAIN : loss 0.27291539311408997 - f1-score (weighted avg)  0.3315\n"
          ]
        },
        {
          "output_type": "stream",
          "name": "stderr",
          "text": [
            "100%|██████████| 10/10 [00:02<00:00,  3.70it/s]"
          ]
        },
        {
          "output_type": "stream",
          "name": "stdout",
          "text": [
            "2023-04-21 02:27:44,748 Evaluating as a multi-label problem: False\n",
            "2023-04-21 02:27:44,815 DEV : loss 0.2807895243167877 - f1-score (weighted avg)  0.3381\n",
            "2023-04-21 02:27:44,825 Epoch    63: reducing learning rate of group 0 to 7.6294e-07.\n",
            "2023-04-21 02:27:44,827 BAD EPOCHS (no improvement): 2\n",
            "2023-04-21 02:27:44,831 ----------------------------------------------------------------------------------------------------\n"
          ]
        },
        {
          "output_type": "stream",
          "name": "stderr",
          "text": [
            "\n"
          ]
        },
        {
          "output_type": "stream",
          "name": "stdout",
          "text": [
            "2023-04-21 02:27:46,650 epoch 64 - iter 7/79 - loss 0.35963655 - time (sec): 1.82 - samples/sec: 4805.26 - lr: 0.000001\n",
            "2023-04-21 02:27:48,183 epoch 64 - iter 14/79 - loss 0.35368352 - time (sec): 3.35 - samples/sec: 5131.15 - lr: 0.000001\n",
            "2023-04-21 02:27:50,367 epoch 64 - iter 21/79 - loss 0.33747265 - time (sec): 5.53 - samples/sec: 4898.46 - lr: 0.000001\n",
            "2023-04-21 02:27:52,080 epoch 64 - iter 28/79 - loss 0.33626770 - time (sec): 7.25 - samples/sec: 4891.65 - lr: 0.000001\n",
            "2023-04-21 02:27:53,788 epoch 64 - iter 35/79 - loss 0.33577996 - time (sec): 8.96 - samples/sec: 4765.96 - lr: 0.000001\n",
            "2023-04-21 02:27:55,177 epoch 64 - iter 42/79 - loss 0.33349627 - time (sec): 10.34 - samples/sec: 4810.70 - lr: 0.000001\n",
            "2023-04-21 02:27:56,864 epoch 64 - iter 49/79 - loss 0.33379933 - time (sec): 12.03 - samples/sec: 4869.54 - lr: 0.000001\n",
            "2023-04-21 02:27:58,531 epoch 64 - iter 56/79 - loss 0.32928461 - time (sec): 13.70 - samples/sec: 4870.36 - lr: 0.000001\n",
            "2023-04-21 02:28:00,436 epoch 64 - iter 63/79 - loss 0.33497189 - time (sec): 15.60 - samples/sec: 4864.73 - lr: 0.000001\n",
            "2023-04-21 02:28:02,440 epoch 64 - iter 70/79 - loss 0.33381630 - time (sec): 17.61 - samples/sec: 4797.88 - lr: 0.000001\n",
            "2023-04-21 02:28:04,246 epoch 64 - iter 77/79 - loss 0.33140744 - time (sec): 19.41 - samples/sec: 4761.68 - lr: 0.000001\n",
            "2023-04-21 02:28:04,773 ----------------------------------------------------------------------------------------------------\n",
            "2023-04-21 02:28:04,775 EPOCH 64 done: loss 0.3306 - lr 0.000001\n"
          ]
        },
        {
          "output_type": "stream",
          "name": "stderr",
          "text": [
            "100%|██████████| 79/79 [00:21<00:00,  3.72it/s]"
          ]
        },
        {
          "output_type": "stream",
          "name": "stdout",
          "text": [
            "2023-04-21 02:28:26,148 Evaluating as a multi-label problem: True\n"
          ]
        },
        {
          "output_type": "stream",
          "name": "stderr",
          "text": [
            "\n"
          ]
        },
        {
          "output_type": "stream",
          "name": "stdout",
          "text": [
            "2023-04-21 02:28:28,418 TRAIN : loss 0.27292314171791077 - f1-score (weighted avg)  0.3315\n"
          ]
        },
        {
          "output_type": "stream",
          "name": "stderr",
          "text": [
            "100%|██████████| 10/10 [00:02<00:00,  3.66it/s]"
          ]
        },
        {
          "output_type": "stream",
          "name": "stdout",
          "text": [
            "2023-04-21 02:28:31,230 Evaluating as a multi-label problem: False\n",
            "2023-04-21 02:28:31,296 DEV : loss 0.28079745173454285 - f1-score (weighted avg)  0.3381\n",
            "2023-04-21 02:28:31,307 BAD EPOCHS (no improvement): 1\n",
            "2023-04-21 02:28:31,311 ----------------------------------------------------------------------------------------------------\n"
          ]
        },
        {
          "output_type": "stream",
          "name": "stderr",
          "text": [
            "\n"
          ]
        },
        {
          "output_type": "stream",
          "name": "stdout",
          "text": [
            "2023-04-21 02:28:32,924 epoch 65 - iter 7/79 - loss 0.32623896 - time (sec): 1.61 - samples/sec: 5134.02 - lr: 0.000001\n",
            "2023-04-21 02:28:34,400 epoch 65 - iter 14/79 - loss 0.33807981 - time (sec): 3.09 - samples/sec: 5067.56 - lr: 0.000001\n",
            "2023-04-21 02:28:36,248 epoch 65 - iter 21/79 - loss 0.33848455 - time (sec): 4.93 - samples/sec: 5077.21 - lr: 0.000001\n",
            "2023-04-21 02:28:37,935 epoch 65 - iter 28/79 - loss 0.32927047 - time (sec): 6.62 - samples/sec: 5039.07 - lr: 0.000001\n",
            "2023-04-21 02:28:39,472 epoch 65 - iter 35/79 - loss 0.33322486 - time (sec): 8.16 - samples/sec: 5109.35 - lr: 0.000001\n",
            "2023-04-21 02:28:41,954 epoch 65 - iter 42/79 - loss 0.32213088 - time (sec): 10.64 - samples/sec: 4834.44 - lr: 0.000001\n",
            "2023-04-21 02:28:43,668 epoch 65 - iter 49/79 - loss 0.32714429 - time (sec): 12.35 - samples/sec: 4765.12 - lr: 0.000001\n",
            "2023-04-21 02:28:45,300 epoch 65 - iter 56/79 - loss 0.32567704 - time (sec): 13.99 - samples/sec: 4797.81 - lr: 0.000001\n",
            "2023-04-21 02:28:47,250 epoch 65 - iter 63/79 - loss 0.32698190 - time (sec): 15.94 - samples/sec: 4856.97 - lr: 0.000001\n",
            "2023-04-21 02:28:48,985 epoch 65 - iter 70/79 - loss 0.32657330 - time (sec): 17.67 - samples/sec: 4852.90 - lr: 0.000001\n",
            "2023-04-21 02:28:50,171 epoch 65 - iter 77/79 - loss 0.32856650 - time (sec): 18.86 - samples/sec: 4894.06 - lr: 0.000001\n",
            "2023-04-21 02:28:50,718 ----------------------------------------------------------------------------------------------------\n",
            "2023-04-21 02:28:50,720 EPOCH 65 done: loss 0.3290 - lr 0.000001\n"
          ]
        },
        {
          "output_type": "stream",
          "name": "stderr",
          "text": [
            "100%|██████████| 79/79 [00:22<00:00,  3.51it/s]"
          ]
        },
        {
          "output_type": "stream",
          "name": "stdout",
          "text": [
            "2023-04-21 02:29:13,371 Evaluating as a multi-label problem: True\n"
          ]
        },
        {
          "output_type": "stream",
          "name": "stderr",
          "text": [
            "\n"
          ]
        },
        {
          "output_type": "stream",
          "name": "stdout",
          "text": [
            "2023-04-21 02:29:15,649 TRAIN : loss 0.272925466299057 - f1-score (weighted avg)  0.3315\n"
          ]
        },
        {
          "output_type": "stream",
          "name": "stderr",
          "text": [
            "100%|██████████| 10/10 [00:02<00:00,  3.65it/s]"
          ]
        },
        {
          "output_type": "stream",
          "name": "stdout",
          "text": [
            "2023-04-21 02:29:18,474 Evaluating as a multi-label problem: False\n",
            "2023-04-21 02:29:18,543 DEV : loss 0.28080233931541443 - f1-score (weighted avg)  0.3376\n",
            "2023-04-21 02:29:18,554 Epoch    65: reducing learning rate of group 0 to 3.8147e-07.\n",
            "2023-04-21 02:29:18,556 BAD EPOCHS (no improvement): 2\n",
            "2023-04-21 02:29:18,559 ----------------------------------------------------------------------------------------------------\n"
          ]
        },
        {
          "output_type": "stream",
          "name": "stderr",
          "text": [
            "\n"
          ]
        },
        {
          "output_type": "stream",
          "name": "stdout",
          "text": [
            "2023-04-21 02:29:20,278 epoch 66 - iter 7/79 - loss 0.32778363 - time (sec): 1.72 - samples/sec: 4664.43 - lr: 0.000000\n",
            "2023-04-21 02:29:22,085 epoch 66 - iter 14/79 - loss 0.33468515 - time (sec): 3.52 - samples/sec: 4739.39 - lr: 0.000000\n",
            "2023-04-21 02:29:23,865 epoch 66 - iter 21/79 - loss 0.33422805 - time (sec): 5.30 - samples/sec: 4660.75 - lr: 0.000000\n",
            "2023-04-21 02:29:25,374 epoch 66 - iter 28/79 - loss 0.33781629 - time (sec): 6.81 - samples/sec: 4886.66 - lr: 0.000000\n",
            "2023-04-21 02:29:27,425 epoch 66 - iter 35/79 - loss 0.34066336 - time (sec): 8.86 - samples/sec: 4682.07 - lr: 0.000000\n",
            "2023-04-21 02:29:28,996 epoch 66 - iter 42/79 - loss 0.33504068 - time (sec): 10.43 - samples/sec: 4791.89 - lr: 0.000000\n",
            "2023-04-21 02:29:30,942 epoch 66 - iter 49/79 - loss 0.33471996 - time (sec): 12.38 - samples/sec: 4788.27 - lr: 0.000000\n",
            "2023-04-21 02:29:32,535 epoch 66 - iter 56/79 - loss 0.33232052 - time (sec): 13.97 - samples/sec: 4853.51 - lr: 0.000000\n",
            "2023-04-21 02:29:34,352 epoch 66 - iter 63/79 - loss 0.33128833 - time (sec): 15.79 - samples/sec: 4808.18 - lr: 0.000000\n",
            "2023-04-21 02:29:36,143 epoch 66 - iter 70/79 - loss 0.33063663 - time (sec): 17.58 - samples/sec: 4785.72 - lr: 0.000000\n",
            "2023-04-21 02:29:37,910 epoch 66 - iter 77/79 - loss 0.33030815 - time (sec): 19.35 - samples/sec: 4790.74 - lr: 0.000000\n",
            "2023-04-21 02:29:38,328 ----------------------------------------------------------------------------------------------------\n",
            "2023-04-21 02:29:38,330 EPOCH 66 done: loss 0.3301 - lr 0.000000\n"
          ]
        },
        {
          "output_type": "stream",
          "name": "stderr",
          "text": [
            "100%|██████████| 79/79 [00:21<00:00,  3.71it/s]"
          ]
        },
        {
          "output_type": "stream",
          "name": "stdout",
          "text": [
            "2023-04-21 02:29:59,745 Evaluating as a multi-label problem: True\n"
          ]
        },
        {
          "output_type": "stream",
          "name": "stderr",
          "text": [
            "\n"
          ]
        },
        {
          "output_type": "stream",
          "name": "stdout",
          "text": [
            "2023-04-21 02:30:03,309 TRAIN : loss 0.2729237973690033 - f1-score (weighted avg)  0.3314\n"
          ]
        },
        {
          "output_type": "stream",
          "name": "stderr",
          "text": [
            "100%|██████████| 10/10 [00:02<00:00,  3.69it/s]"
          ]
        },
        {
          "output_type": "stream",
          "name": "stdout",
          "text": [
            "2023-04-21 02:30:06,107 Evaluating as a multi-label problem: False\n",
            "2023-04-21 02:30:06,179 DEV : loss 0.2807956337928772 - f1-score (weighted avg)  0.3376\n",
            "2023-04-21 02:30:06,189 BAD EPOCHS (no improvement): 1\n",
            "2023-04-21 02:30:06,193 ----------------------------------------------------------------------------------------------------\n"
          ]
        },
        {
          "output_type": "stream",
          "name": "stderr",
          "text": [
            "\n"
          ]
        },
        {
          "output_type": "stream",
          "name": "stdout",
          "text": [
            "2023-04-21 02:30:07,951 epoch 67 - iter 7/79 - loss 0.32330111 - time (sec): 1.76 - samples/sec: 4700.66 - lr: 0.000000\n",
            "2023-04-21 02:30:10,180 epoch 67 - iter 14/79 - loss 0.32646447 - time (sec): 3.99 - samples/sec: 4259.52 - lr: 0.000000\n",
            "2023-04-21 02:30:11,651 epoch 67 - iter 21/79 - loss 0.31904758 - time (sec): 5.46 - samples/sec: 4669.37 - lr: 0.000000\n",
            "2023-04-21 02:30:13,238 epoch 67 - iter 28/79 - loss 0.32414640 - time (sec): 7.04 - samples/sec: 4829.67 - lr: 0.000000\n",
            "2023-04-21 02:30:15,134 epoch 67 - iter 35/79 - loss 0.32245488 - time (sec): 8.94 - samples/sec: 4790.38 - lr: 0.000000\n",
            "2023-04-21 02:30:16,961 epoch 67 - iter 42/79 - loss 0.32544118 - time (sec): 10.77 - samples/sec: 4846.62 - lr: 0.000000\n",
            "2023-04-21 02:30:18,581 epoch 67 - iter 49/79 - loss 0.32274939 - time (sec): 12.39 - samples/sec: 4877.29 - lr: 0.000000\n",
            "2023-04-21 02:30:20,052 epoch 67 - iter 56/79 - loss 0.32868573 - time (sec): 13.86 - samples/sec: 4916.42 - lr: 0.000000\n",
            "2023-04-21 02:30:21,965 epoch 67 - iter 63/79 - loss 0.32604730 - time (sec): 15.77 - samples/sec: 4873.29 - lr: 0.000000\n",
            "2023-04-21 02:30:23,530 epoch 67 - iter 70/79 - loss 0.32501150 - time (sec): 17.33 - samples/sec: 4901.12 - lr: 0.000000\n",
            "2023-04-21 02:30:25,204 epoch 67 - iter 77/79 - loss 0.32725591 - time (sec): 19.01 - samples/sec: 4880.50 - lr: 0.000000\n",
            "2023-04-21 02:30:25,753 ----------------------------------------------------------------------------------------------------\n",
            "2023-04-21 02:30:25,755 EPOCH 67 done: loss 0.3271 - lr 0.000000\n"
          ]
        },
        {
          "output_type": "stream",
          "name": "stderr",
          "text": [
            "100%|██████████| 79/79 [00:21<00:00,  3.71it/s]"
          ]
        },
        {
          "output_type": "stream",
          "name": "stdout",
          "text": [
            "2023-04-21 02:30:47,214 Evaluating as a multi-label problem: True\n"
          ]
        },
        {
          "output_type": "stream",
          "name": "stderr",
          "text": [
            "\n"
          ]
        },
        {
          "output_type": "stream",
          "name": "stdout",
          "text": [
            "2023-04-21 02:30:49,493 TRAIN : loss 0.27292001247406006 - f1-score (weighted avg)  0.3315\n"
          ]
        },
        {
          "output_type": "stream",
          "name": "stderr",
          "text": [
            "100%|██████████| 10/10 [00:02<00:00,  3.64it/s]"
          ]
        },
        {
          "output_type": "stream",
          "name": "stdout",
          "text": [
            "2023-04-21 02:30:52,321 Evaluating as a multi-label problem: False\n",
            "2023-04-21 02:30:52,389 DEV : loss 0.28079622983932495 - f1-score (weighted avg)  0.3379\n",
            "2023-04-21 02:30:52,398 Epoch    67: reducing learning rate of group 0 to 1.9073e-07.\n",
            "2023-04-21 02:30:52,401 BAD EPOCHS (no improvement): 2\n",
            "2023-04-21 02:30:52,405 ----------------------------------------------------------------------------------------------------\n"
          ]
        },
        {
          "output_type": "stream",
          "name": "stderr",
          "text": [
            "\n"
          ]
        },
        {
          "output_type": "stream",
          "name": "stdout",
          "text": [
            "2023-04-21 02:30:54,127 epoch 68 - iter 7/79 - loss 0.31449012 - time (sec): 1.72 - samples/sec: 4787.05 - lr: 0.000000\n",
            "2023-04-21 02:30:55,690 epoch 68 - iter 14/79 - loss 0.31463745 - time (sec): 3.28 - samples/sec: 4754.18 - lr: 0.000000\n",
            "2023-04-21 02:30:58,075 epoch 68 - iter 21/79 - loss 0.31353323 - time (sec): 5.67 - samples/sec: 4411.94 - lr: 0.000000\n",
            "2023-04-21 02:30:59,735 epoch 68 - iter 28/79 - loss 0.32609182 - time (sec): 7.33 - samples/sec: 4587.33 - lr: 0.000000\n",
            "2023-04-21 02:31:01,486 epoch 68 - iter 35/79 - loss 0.32635125 - time (sec): 9.08 - samples/sec: 4570.45 - lr: 0.000000\n",
            "2023-04-21 02:31:03,274 epoch 68 - iter 42/79 - loss 0.33014333 - time (sec): 10.87 - samples/sec: 4613.72 - lr: 0.000000\n",
            "2023-04-21 02:31:04,916 epoch 68 - iter 49/79 - loss 0.32858378 - time (sec): 12.51 - samples/sec: 4655.27 - lr: 0.000000\n",
            "2023-04-21 02:31:06,796 epoch 68 - iter 56/79 - loss 0.32341623 - time (sec): 14.39 - samples/sec: 4697.10 - lr: 0.000000\n",
            "2023-04-21 02:31:08,192 epoch 68 - iter 63/79 - loss 0.32234007 - time (sec): 15.79 - samples/sec: 4792.98 - lr: 0.000000\n",
            "2023-04-21 02:31:10,007 epoch 68 - iter 70/79 - loss 0.32179240 - time (sec): 17.60 - samples/sec: 4774.63 - lr: 0.000000\n",
            "2023-04-21 02:31:11,961 epoch 68 - iter 77/79 - loss 0.32390297 - time (sec): 19.55 - samples/sec: 4750.57 - lr: 0.000000\n",
            "2023-04-21 02:31:12,327 ----------------------------------------------------------------------------------------------------\n",
            "2023-04-21 02:31:12,329 EPOCH 68 done: loss 0.3242 - lr 0.000000\n"
          ]
        },
        {
          "output_type": "stream",
          "name": "stderr",
          "text": [
            "100%|██████████| 79/79 [00:22<00:00,  3.52it/s]"
          ]
        },
        {
          "output_type": "stream",
          "name": "stdout",
          "text": [
            "2023-04-21 02:31:34,909 Evaluating as a multi-label problem: True\n"
          ]
        },
        {
          "output_type": "stream",
          "name": "stderr",
          "text": [
            "\n"
          ]
        },
        {
          "output_type": "stream",
          "name": "stdout",
          "text": [
            "2023-04-21 02:31:37,203 TRAIN : loss 0.2729175388813019 - f1-score (weighted avg)  0.3316\n"
          ]
        },
        {
          "output_type": "stream",
          "name": "stderr",
          "text": [
            "100%|██████████| 10/10 [00:02<00:00,  3.57it/s]"
          ]
        },
        {
          "output_type": "stream",
          "name": "stdout",
          "text": [
            "2023-04-21 02:31:40,093 Evaluating as a multi-label problem: False\n",
            "2023-04-21 02:31:40,160 DEV : loss 0.2807907462120056 - f1-score (weighted avg)  0.3379\n",
            "2023-04-21 02:31:40,171 BAD EPOCHS (no improvement): 1\n",
            "2023-04-21 02:31:40,176 ----------------------------------------------------------------------------------------------------\n"
          ]
        },
        {
          "output_type": "stream",
          "name": "stderr",
          "text": [
            "\n"
          ]
        },
        {
          "output_type": "stream",
          "name": "stdout",
          "text": [
            "2023-04-21 02:31:41,797 epoch 69 - iter 7/79 - loss 0.34565006 - time (sec): 1.62 - samples/sec: 4749.04 - lr: 0.000000\n",
            "2023-04-21 02:31:43,629 epoch 69 - iter 14/79 - loss 0.32763678 - time (sec): 3.45 - samples/sec: 4810.37 - lr: 0.000000\n",
            "2023-04-21 02:31:45,222 epoch 69 - iter 21/79 - loss 0.32735353 - time (sec): 5.05 - samples/sec: 4858.55 - lr: 0.000000\n",
            "2023-04-21 02:31:47,478 epoch 69 - iter 28/79 - loss 0.32931272 - time (sec): 7.30 - samples/sec: 4578.60 - lr: 0.000000\n",
            "2023-04-21 02:31:49,391 epoch 69 - iter 35/79 - loss 0.33063280 - time (sec): 9.21 - samples/sec: 4680.70 - lr: 0.000000\n",
            "2023-04-21 02:31:51,161 epoch 69 - iter 42/79 - loss 0.32726237 - time (sec): 10.98 - samples/sec: 4722.03 - lr: 0.000000\n",
            "2023-04-21 02:31:52,826 epoch 69 - iter 49/79 - loss 0.32524106 - time (sec): 12.65 - samples/sec: 4788.38 - lr: 0.000000\n",
            "2023-04-21 02:31:54,383 epoch 69 - iter 56/79 - loss 0.32792115 - time (sec): 14.21 - samples/sec: 4849.39 - lr: 0.000000\n",
            "2023-04-21 02:31:55,954 epoch 69 - iter 63/79 - loss 0.32779951 - time (sec): 15.78 - samples/sec: 4834.89 - lr: 0.000000\n",
            "2023-04-21 02:31:57,617 epoch 69 - iter 70/79 - loss 0.32888642 - time (sec): 17.44 - samples/sec: 4832.56 - lr: 0.000000\n",
            "2023-04-21 02:31:59,362 epoch 69 - iter 77/79 - loss 0.32972024 - time (sec): 19.18 - samples/sec: 4828.51 - lr: 0.000000\n",
            "2023-04-21 02:31:59,773 ----------------------------------------------------------------------------------------------------\n",
            "2023-04-21 02:31:59,775 EPOCH 69 done: loss 0.3298 - lr 0.000000\n"
          ]
        },
        {
          "output_type": "stream",
          "name": "stderr",
          "text": [
            "100%|██████████| 79/79 [00:21<00:00,  3.71it/s]"
          ]
        },
        {
          "output_type": "stream",
          "name": "stdout",
          "text": [
            "2023-04-21 02:32:21,207 Evaluating as a multi-label problem: True\n"
          ]
        },
        {
          "output_type": "stream",
          "name": "stderr",
          "text": [
            "\n"
          ]
        },
        {
          "output_type": "stream",
          "name": "stdout",
          "text": [
            "2023-04-21 02:32:24,855 TRAIN : loss 0.2729159891605377 - f1-score (weighted avg)  0.3317\n"
          ]
        },
        {
          "output_type": "stream",
          "name": "stderr",
          "text": [
            "100%|██████████| 10/10 [00:02<00:00,  3.69it/s]"
          ]
        },
        {
          "output_type": "stream",
          "name": "stdout",
          "text": [
            "2023-04-21 02:32:27,647 Evaluating as a multi-label problem: False\n",
            "2023-04-21 02:32:27,716 DEV : loss 0.28079134225845337 - f1-score (weighted avg)  0.3379\n",
            "2023-04-21 02:32:27,725 Epoch    69: reducing learning rate of group 0 to 9.5367e-08.\n",
            "2023-04-21 02:32:27,727 BAD EPOCHS (no improvement): 2\n",
            "2023-04-21 02:32:27,730 ----------------------------------------------------------------------------------------------------\n"
          ]
        },
        {
          "output_type": "stream",
          "name": "stderr",
          "text": [
            "\n"
          ]
        },
        {
          "output_type": "stream",
          "name": "stdout",
          "text": [
            "2023-04-21 02:32:29,634 epoch 70 - iter 7/79 - loss 0.32261603 - time (sec): 1.90 - samples/sec: 5198.75 - lr: 0.000000\n",
            "2023-04-21 02:32:31,358 epoch 70 - iter 14/79 - loss 0.32261245 - time (sec): 3.63 - samples/sec: 4872.08 - lr: 0.000000\n",
            "2023-04-21 02:32:33,363 epoch 70 - iter 21/79 - loss 0.32640767 - time (sec): 5.63 - samples/sec: 4648.73 - lr: 0.000000\n",
            "2023-04-21 02:32:35,051 epoch 70 - iter 28/79 - loss 0.32928506 - time (sec): 7.32 - samples/sec: 4739.22 - lr: 0.000000\n",
            "2023-04-21 02:32:36,301 epoch 70 - iter 35/79 - loss 0.33467659 - time (sec): 8.57 - samples/sec: 4888.27 - lr: 0.000000\n",
            "2023-04-21 02:32:38,165 epoch 70 - iter 42/79 - loss 0.33006879 - time (sec): 10.43 - samples/sec: 4893.00 - lr: 0.000000\n",
            "2023-04-21 02:32:39,765 epoch 70 - iter 49/79 - loss 0.32905720 - time (sec): 12.03 - samples/sec: 4896.88 - lr: 0.000000\n",
            "2023-04-21 02:32:41,460 epoch 70 - iter 56/79 - loss 0.32971618 - time (sec): 13.73 - samples/sec: 4899.27 - lr: 0.000000\n",
            "2023-04-21 02:32:43,748 epoch 70 - iter 63/79 - loss 0.33139217 - time (sec): 16.02 - samples/sec: 4732.40 - lr: 0.000000\n",
            "2023-04-21 02:32:45,453 epoch 70 - iter 70/79 - loss 0.33041977 - time (sec): 17.72 - samples/sec: 4784.71 - lr: 0.000000\n",
            "2023-04-21 02:32:46,920 epoch 70 - iter 77/79 - loss 0.33141076 - time (sec): 19.19 - samples/sec: 4815.68 - lr: 0.000000\n",
            "2023-04-21 02:32:47,334 ----------------------------------------------------------------------------------------------------\n",
            "2023-04-21 02:32:47,336 EPOCH 70 done: loss 0.3300 - lr 0.000000\n"
          ]
        },
        {
          "output_type": "stream",
          "name": "stderr",
          "text": [
            "100%|██████████| 79/79 [00:21<00:00,  3.73it/s]"
          ]
        },
        {
          "output_type": "stream",
          "name": "stdout",
          "text": [
            "2023-04-21 02:33:08,653 Evaluating as a multi-label problem: True\n"
          ]
        },
        {
          "output_type": "stream",
          "name": "stderr",
          "text": [
            "\n"
          ]
        },
        {
          "output_type": "stream",
          "name": "stdout",
          "text": [
            "2023-04-21 02:33:10,939 TRAIN : loss 0.27291426062583923 - f1-score (weighted avg)  0.3315\n"
          ]
        },
        {
          "output_type": "stream",
          "name": "stderr",
          "text": [
            "100%|██████████| 10/10 [00:02<00:00,  3.68it/s]"
          ]
        },
        {
          "output_type": "stream",
          "name": "stdout",
          "text": [
            "2023-04-21 02:33:13,743 Evaluating as a multi-label problem: False\n",
            "2023-04-21 02:33:13,813 DEV : loss 0.2807898223400116 - f1-score (weighted avg)  0.3379\n",
            "2023-04-21 02:33:13,824 BAD EPOCHS (no improvement): 1\n",
            "2023-04-21 02:33:13,828 ----------------------------------------------------------------------------------------------------\n"
          ]
        },
        {
          "output_type": "stream",
          "name": "stderr",
          "text": [
            "\n"
          ]
        },
        {
          "output_type": "stream",
          "name": "stdout",
          "text": [
            "2023-04-21 02:33:15,724 epoch 71 - iter 7/79 - loss 0.30661308 - time (sec): 1.89 - samples/sec: 4415.63 - lr: 0.000000\n",
            "2023-04-21 02:33:17,390 epoch 71 - iter 14/79 - loss 0.30414460 - time (sec): 3.56 - samples/sec: 4778.99 - lr: 0.000000\n",
            "2023-04-21 02:33:19,109 epoch 71 - iter 21/79 - loss 0.31479504 - time (sec): 5.28 - samples/sec: 4865.63 - lr: 0.000000\n",
            "2023-04-21 02:33:20,680 epoch 71 - iter 28/79 - loss 0.31846540 - time (sec): 6.85 - samples/sec: 4907.81 - lr: 0.000000\n",
            "2023-04-21 02:33:22,449 epoch 71 - iter 35/79 - loss 0.32363921 - time (sec): 8.62 - samples/sec: 4854.97 - lr: 0.000000\n",
            "2023-04-21 02:33:23,951 epoch 71 - iter 42/79 - loss 0.32246946 - time (sec): 10.12 - samples/sec: 4953.84 - lr: 0.000000\n",
            "2023-04-21 02:33:25,960 epoch 71 - iter 49/79 - loss 0.32459193 - time (sec): 12.13 - samples/sec: 4900.85 - lr: 0.000000\n",
            "2023-04-21 02:33:27,527 epoch 71 - iter 56/79 - loss 0.32650760 - time (sec): 13.70 - samples/sec: 4906.55 - lr: 0.000000\n",
            "2023-04-21 02:33:29,133 epoch 71 - iter 63/79 - loss 0.32697988 - time (sec): 15.30 - samples/sec: 4906.71 - lr: 0.000000\n",
            "2023-04-21 02:33:31,010 epoch 71 - iter 70/79 - loss 0.32430081 - time (sec): 17.18 - samples/sec: 4887.52 - lr: 0.000000\n",
            "2023-04-21 02:33:33,244 epoch 71 - iter 77/79 - loss 0.32326704 - time (sec): 19.41 - samples/sec: 4773.20 - lr: 0.000000\n",
            "2023-04-21 02:33:33,745 ----------------------------------------------------------------------------------------------------\n",
            "2023-04-21 02:33:33,747 EPOCH 71 done: loss 0.3238 - lr 0.000000\n"
          ]
        },
        {
          "output_type": "stream",
          "name": "stderr",
          "text": [
            "100%|██████████| 79/79 [00:21<00:00,  3.73it/s]\n"
          ]
        },
        {
          "output_type": "stream",
          "name": "stdout",
          "text": [
            "2023-04-21 02:33:56,294 Evaluating as a multi-label problem: True\n",
            "2023-04-21 02:33:58,592 TRAIN : loss 0.272912859916687 - f1-score (weighted avg)  0.3314\n"
          ]
        },
        {
          "output_type": "stream",
          "name": "stderr",
          "text": [
            "100%|██████████| 10/10 [00:02<00:00,  3.67it/s]"
          ]
        },
        {
          "output_type": "stream",
          "name": "stdout",
          "text": [
            "2023-04-21 02:34:01,396 Evaluating as a multi-label problem: False\n",
            "2023-04-21 02:34:01,465 DEV : loss 0.28078553080558777 - f1-score (weighted avg)  0.3379\n",
            "2023-04-21 02:34:01,474 Epoch    71: reducing learning rate of group 0 to 4.7684e-08.\n",
            "2023-04-21 02:34:01,476 BAD EPOCHS (no improvement): 2\n",
            "2023-04-21 02:34:01,480 ----------------------------------------------------------------------------------------------------\n"
          ]
        },
        {
          "output_type": "stream",
          "name": "stderr",
          "text": [
            "\n"
          ]
        },
        {
          "output_type": "stream",
          "name": "stdout",
          "text": [
            "2023-04-21 02:34:03,099 epoch 72 - iter 7/79 - loss 0.32869165 - time (sec): 1.62 - samples/sec: 5409.07 - lr: 0.000000\n",
            "2023-04-21 02:34:04,570 epoch 72 - iter 14/79 - loss 0.32481243 - time (sec): 3.09 - samples/sec: 5399.14 - lr: 0.000000\n",
            "2023-04-21 02:34:06,753 epoch 72 - iter 21/79 - loss 0.32718803 - time (sec): 5.27 - samples/sec: 4842.69 - lr: 0.000000\n",
            "2023-04-21 02:34:08,840 epoch 72 - iter 28/79 - loss 0.34377477 - time (sec): 7.36 - samples/sec: 4735.38 - lr: 0.000000\n",
            "2023-04-21 02:34:10,501 epoch 72 - iter 35/79 - loss 0.33577014 - time (sec): 9.02 - samples/sec: 4712.38 - lr: 0.000000\n",
            "2023-04-21 02:34:12,080 epoch 72 - iter 42/79 - loss 0.33951310 - time (sec): 10.60 - samples/sec: 4853.67 - lr: 0.000000\n",
            "2023-04-21 02:34:13,870 epoch 72 - iter 49/79 - loss 0.33945170 - time (sec): 12.39 - samples/sec: 4807.93 - lr: 0.000000\n",
            "2023-04-21 02:34:15,695 epoch 72 - iter 56/79 - loss 0.33526154 - time (sec): 14.21 - samples/sec: 4854.71 - lr: 0.000000\n",
            "2023-04-21 02:34:17,277 epoch 72 - iter 63/79 - loss 0.33719092 - time (sec): 15.79 - samples/sec: 4809.92 - lr: 0.000000\n",
            "2023-04-21 02:34:19,039 epoch 72 - iter 70/79 - loss 0.33603832 - time (sec): 17.56 - samples/sec: 4796.21 - lr: 0.000000\n",
            "2023-04-21 02:34:20,547 epoch 72 - iter 77/79 - loss 0.33299318 - time (sec): 19.06 - samples/sec: 4848.45 - lr: 0.000000\n",
            "2023-04-21 02:34:21,013 ----------------------------------------------------------------------------------------------------\n",
            "2023-04-21 02:34:21,015 EPOCH 72 done: loss 0.3319 - lr 0.000000\n"
          ]
        },
        {
          "output_type": "stream",
          "name": "stderr",
          "text": [
            "100%|██████████| 79/79 [00:21<00:00,  3.73it/s]"
          ]
        },
        {
          "output_type": "stream",
          "name": "stdout",
          "text": [
            "2023-04-21 02:34:42,341 Evaluating as a multi-label problem: True\n"
          ]
        },
        {
          "output_type": "stream",
          "name": "stderr",
          "text": [
            "\n"
          ]
        },
        {
          "output_type": "stream",
          "name": "stdout",
          "text": [
            "2023-04-21 02:34:44,623 TRAIN : loss 0.27291348576545715 - f1-score (weighted avg)  0.3314\n"
          ]
        },
        {
          "output_type": "stream",
          "name": "stderr",
          "text": [
            "100%|██████████| 10/10 [00:02<00:00,  3.64it/s]"
          ]
        },
        {
          "output_type": "stream",
          "name": "stdout",
          "text": [
            "2023-04-21 02:34:47,454 Evaluating as a multi-label problem: False\n",
            "2023-04-21 02:34:47,520 DEV : loss 0.28078705072402954 - f1-score (weighted avg)  0.3379\n",
            "2023-04-21 02:34:47,531 BAD EPOCHS (no improvement): 1\n",
            "2023-04-21 02:34:47,535 ----------------------------------------------------------------------------------------------------\n"
          ]
        },
        {
          "output_type": "stream",
          "name": "stderr",
          "text": [
            "\n"
          ]
        },
        {
          "output_type": "stream",
          "name": "stdout",
          "text": [
            "2023-04-21 02:34:49,082 epoch 73 - iter 7/79 - loss 0.36651644 - time (sec): 1.54 - samples/sec: 5030.78 - lr: 0.000000\n",
            "2023-04-21 02:34:50,538 epoch 73 - iter 14/79 - loss 0.33050752 - time (sec): 3.00 - samples/sec: 5070.38 - lr: 0.000000\n",
            "2023-04-21 02:34:52,110 epoch 73 - iter 21/79 - loss 0.32204657 - time (sec): 4.57 - samples/sec: 5243.77 - lr: 0.000000\n",
            "2023-04-21 02:34:53,702 epoch 73 - iter 28/79 - loss 0.32413388 - time (sec): 6.16 - samples/sec: 4972.74 - lr: 0.000000\n",
            "2023-04-21 02:34:55,945 epoch 73 - iter 35/79 - loss 0.32326655 - time (sec): 8.41 - samples/sec: 4849.01 - lr: 0.000000\n",
            "2023-04-21 02:34:57,711 epoch 73 - iter 42/79 - loss 0.32521846 - time (sec): 10.17 - samples/sec: 4830.98 - lr: 0.000000\n",
            "2023-04-21 02:34:59,534 epoch 73 - iter 49/79 - loss 0.32593629 - time (sec): 12.00 - samples/sec: 4791.04 - lr: 0.000000\n",
            "2023-04-21 02:35:01,304 epoch 73 - iter 56/79 - loss 0.32460837 - time (sec): 13.77 - samples/sec: 4751.10 - lr: 0.000000\n",
            "2023-04-21 02:35:02,850 epoch 73 - iter 63/79 - loss 0.32205356 - time (sec): 15.31 - samples/sec: 4870.69 - lr: 0.000000\n",
            "2023-04-21 02:35:04,645 epoch 73 - iter 70/79 - loss 0.32544986 - time (sec): 17.11 - samples/sec: 4890.17 - lr: 0.000000\n",
            "2023-04-21 02:35:06,435 epoch 73 - iter 77/79 - loss 0.32743004 - time (sec): 18.90 - samples/sec: 4874.43 - lr: 0.000000\n",
            "2023-04-21 02:35:06,912 ----------------------------------------------------------------------------------------------------\n",
            "2023-04-21 02:35:06,913 EPOCH 73 done: loss 0.3280 - lr 0.000000\n"
          ]
        },
        {
          "output_type": "stream",
          "name": "stderr",
          "text": [
            "100%|██████████| 79/79 [00:22<00:00,  3.51it/s]"
          ]
        },
        {
          "output_type": "stream",
          "name": "stdout",
          "text": [
            "2023-04-21 02:35:29,545 Evaluating as a multi-label problem: True\n"
          ]
        },
        {
          "output_type": "stream",
          "name": "stderr",
          "text": [
            "\n"
          ]
        },
        {
          "output_type": "stream",
          "name": "stdout",
          "text": [
            "2023-04-21 02:35:31,845 TRAIN : loss 0.27291399240493774 - f1-score (weighted avg)  0.3314\n"
          ]
        },
        {
          "output_type": "stream",
          "name": "stderr",
          "text": [
            "100%|██████████| 10/10 [00:02<00:00,  3.62it/s]"
          ]
        },
        {
          "output_type": "stream",
          "name": "stdout",
          "text": [
            "2023-04-21 02:35:34,691 Evaluating as a multi-label problem: False\n",
            "2023-04-21 02:35:34,763 DEV : loss 0.2807901203632355 - f1-score (weighted avg)  0.3379\n",
            "2023-04-21 02:35:34,774 Epoch    73: reducing learning rate of group 0 to 2.3842e-08.\n",
            "2023-04-21 02:35:34,777 BAD EPOCHS (no improvement): 2\n",
            "2023-04-21 02:35:34,780 ----------------------------------------------------------------------------------------------------\n",
            "2023-04-21 02:35:34,782 ----------------------------------------------------------------------------------------------------\n",
            "2023-04-21 02:35:34,784 learning rate too small - quitting training!\n",
            "2023-04-21 02:35:34,785 ----------------------------------------------------------------------------------------------------\n"
          ]
        },
        {
          "output_type": "stream",
          "name": "stderr",
          "text": [
            "\n"
          ]
        },
        {
          "output_type": "stream",
          "name": "stdout",
          "text": [
            "2023-04-21 02:35:37,061 ----------------------------------------------------------------------------------------------------\n",
            "2023-04-21 02:35:38,939 SequenceTagger predicts: Dictionary with 19 tags: <unk>, O, B-ADR, I-ADR, E-ADR, B-Drug, B-Finding, B-Disease, B-Symptom, E-Finding, I-Finding, E-Disease, E-Symptom, E-Drug, I-Symptom, I-Drug, I-Disease, <START>, <STOP>\n"
          ]
        },
        {
          "output_type": "stream",
          "name": "stderr",
          "text": [
            "100%|██████████| 10/10 [00:03<00:00,  2.66it/s]"
          ]
        },
        {
          "output_type": "stream",
          "name": "stdout",
          "text": [
            "2023-04-21 02:35:43,085 Evaluating as a multi-label problem: True\n"
          ]
        },
        {
          "output_type": "stream",
          "name": "stderr",
          "text": [
            "\n"
          ]
        },
        {
          "output_type": "stream",
          "name": "stdout",
          "text": [
            "2023-04-21 02:35:43,367 0.5043\t0.2951\t0.3723\t0.86\n",
            "2023-04-21 02:35:43,368 \n",
            "Results:\n",
            "- F-score (micro) 0.3723\n",
            "- F-score (macro) 0.0858\n",
            "- Accuracy 0.86\n",
            "\n",
            "By class:\n",
            "              precision    recall  f1-score   support\n",
            "\n",
            "       B-ADR     0.6549    0.4844    0.5569       576\n",
            "       I-ADR     0.2586    0.1714    0.2062       525\n",
            "       E-ADR     0.5590    0.4932    0.5240       442\n",
            "      B-Drug     0.0000    0.0000    0.0000       219\n",
            "   B-Finding     0.0000    0.0000    0.0000        52\n",
            "   E-Finding     0.0000    0.0000    0.0000        27\n",
            "      E-Drug     0.0000    0.0000    0.0000        27\n",
            "      I-Drug     0.0000    0.0000    0.0000        25\n",
            "   B-Symptom     0.0000    0.0000    0.0000        22\n",
            "   B-Disease     0.0000    0.0000    0.0000        20\n",
            "   I-Symptom     0.0000    0.0000    0.0000        20\n",
            "   E-Symptom     0.0000    0.0000    0.0000        13\n",
            "   E-Disease     0.0000    0.0000    0.0000         9\n",
            "   I-Finding     0.0000    0.0000    0.0000         9\n",
            "   I-Disease     0.0000    0.0000    0.0000         3\n",
            "\n",
            "   micro avg     0.5043    0.2951    0.3723      1989\n",
            "   macro avg     0.0982    0.0766    0.0858      1989\n",
            "weighted avg     0.3821    0.2951    0.3321      1989\n",
            " samples avg     0.0496    0.0496    0.0496      1989\n",
            "\n",
            "2023-04-21 02:35:43,369 ----------------------------------------------------------------------------------------------------\n"
          ]
        }
      ],
      "source": [
        "hist = trainer.train('flair_ner_model'+suf,\n",
        "              embeddings_storage_mode='gpu',\n",
        "              gold_label_dictionary_for_eval=tag_dictionary,\n",
        "              mini_batch_size = 12,\n",
        "              eval_batch_size = 12,\n",
        "              patience=1,\n",
        "              anneal_factor = 0.5,\n",
        "              anneal_against_dev_loss=True,\n",
        "              main_evaluation_metric = (\"weighted avg\", \"f1-score\"),\n",
        "              metrics_for_tensorboard=[(\"weighted avg\", 'precision'), (\"weighted avg\", 'recall'), (\"macro avg\", 'f1-score'), (\"macro avg\", 'precision'), (\"macro avg\", 'recall')],\n",
        "              use_tensorboard=True,\n",
        "              tensorboard_comment='Flair NER',\n",
        "              tensorboard_log_dir='runs/tb_logs'+suf,\n",
        "              min_learning_rate=3e-8,\n",
        "              optimizer=AdamW,\n",
        "              learning_rate=1e-1,\n",
        "              weight_decay=0.001,\n",
        "              max_epochs=100,\n",
        "              monitor_train=True,\n",
        "              save_optimizer_state=True,)\n",
        "# hist"
      ]
    },
    {
      "cell_type": "code",
      "execution_count": 16,
      "metadata": {
        "id": "ExiLRreqXsDJ"
      },
      "outputs": [],
      "source": [
        "# print(hist.keys())\n",
        "# hist"
      ]
    },
    {
      "cell_type": "code",
      "execution_count": 19,
      "metadata": {
        "colab": {
          "base_uri": "https://localhost:8080/",
          "height": 1000
        },
        "id": "P5Uu5qkN0pia",
        "outputId": "028336b2-16f7-4fcb-9327-e80a70810e2a"
      },
      "outputs": [
        {
          "output_type": "stream",
          "name": "stdout",
          "text": [
            "_v1\n",
            "2023-04-21 02:38:38,690 ----------------------------------------------------------------------------------------------------\n",
            "2023-04-21 02:38:38,691 WARNING: No LOSS found for test split in this data.\n",
            "2023-04-21 02:38:38,692 Are you sure you want to plot LOSS and not another value?\n",
            "2023-04-21 02:38:38,692 ----------------------------------------------------------------------------------------------------\n",
            "2023-04-21 02:38:38,717 ----------------------------------------------------------------------------------------------------\n",
            "2023-04-21 02:38:38,718 WARNING: No F1 found for test split in this data.\n",
            "2023-04-21 02:38:38,719 Are you sure you want to plot F1 and not another value?\n",
            "2023-04-21 02:38:38,719 ----------------------------------------------------------------------------------------------------\n",
            "2023-04-21 02:38:39,870 Loss and F1 plots are saved in flair_ner_model_v1/training.png\n"
          ]
        },
        {
          "output_type": "display_data",
          "data": {
            "text/plain": [
              "<Figure size 1500x1000 with 2 Axes>"
            ],
            "image/png": "[encoded data removed]"
          },
          "metadata": {}
        },
        {
          "output_type": "stream",
          "name": "stderr",
          "text": [
            "100%|██████████| 79/79 [00:34<00:00,  2.31it/s]"
          ]
        },
        {
          "output_type": "stream",
          "name": "stdout",
          "text": [
            "2023-04-21 02:39:14,510 Evaluating as a multi-label problem: True\n"
          ]
        },
        {
          "output_type": "stream",
          "name": "stderr",
          "text": [
            "\n",
            "100%|██████████| 10/10 [00:04<00:00,  2.38it/s]"
          ]
        },
        {
          "output_type": "stream",
          "name": "stdout",
          "text": [
            "2023-04-21 02:39:20,997 Evaluating as a multi-label problem: False\n"
          ]
        },
        {
          "output_type": "stream",
          "name": "stderr",
          "text": [
            "\n",
            "100%|██████████| 10/10 [00:04<00:00,  2.26it/s]"
          ]
        },
        {
          "output_type": "stream",
          "name": "stdout",
          "text": [
            "2023-04-21 02:39:25,523 Evaluating as a multi-label problem: True\n"
          ]
        },
        {
          "output_type": "stream",
          "name": "stderr",
          "text": [
            "\n"
          ]
        },
        {
          "output_type": "execute_result",
          "data": {
            "text/plain": [
              "    split      index        B-ADR        I-ADR        E-ADR  B-Drug  \\\n",
              "0   train  precision     0.623118     0.286095     0.530208     0.0   \n",
              "1   train     recall     0.465620     0.168802     0.480605     0.0   \n",
              "2   train   f1-score     0.532977     0.212327     0.504189     0.0   \n",
              "3   train    support  4712.000000  4449.000000  3506.000000  1396.0   \n",
              "4     dev  precision     0.657205     0.257971     0.553140     0.0   \n",
              "5     dev     recall     0.462366     0.172147     0.510022     0.0   \n",
              "6     dev   f1-score     0.542831     0.206497     0.530707     0.0   \n",
              "7     dev    support   651.000000   517.000000   449.000000   184.0   \n",
              "8    test  precision     0.654930     0.258621     0.558974     0.0   \n",
              "9    test     recall     0.484375     0.171429     0.493213     0.0   \n",
              "10   test   f1-score     0.556886     0.206186     0.524038     0.0   \n",
              "11   test    support   576.000000   525.000000   442.000000   219.0   \n",
              "\n",
              "    B-Finding  B-Disease  B-Symptom  E-Finding  ...  E-Disease  E-Symptom  \\\n",
              "0         0.0        0.0        0.0        0.0  ...        0.0        0.0   \n",
              "1         0.0        0.0        0.0        0.0  ...        0.0        0.0   \n",
              "2         0.0        0.0        0.0        0.0  ...        0.0        0.0   \n",
              "3       309.0      231.0      222.0      200.0  ...      119.0      114.0   \n",
              "4         0.0        0.0        0.0        0.0  ...        0.0        0.0   \n",
              "5         0.0        0.0        0.0        0.0  ...        0.0        0.0   \n",
              "6         0.0        0.0        0.0        0.0  ...        0.0        0.0   \n",
              "7        64.0       31.0       25.0       34.0  ...       15.0       13.0   \n",
              "8         0.0        0.0        0.0        0.0  ...        0.0        0.0   \n",
              "9         0.0        0.0        0.0        0.0  ...        0.0        0.0   \n",
              "10        0.0        0.0        0.0        0.0  ...        0.0        0.0   \n",
              "11       52.0       20.0       22.0       27.0  ...        9.0       13.0   \n",
              "\n",
              "    E-Drug  I-Symptom  I-Drug  I-Disease     micro avg     macro avg  \\\n",
              "0      0.0        0.0     0.0        0.0      0.496408      0.095961   \n",
              "1      0.0        0.0     0.0        0.0      0.294492      0.074335   \n",
              "2      0.0        0.0     0.0        0.0      0.369675      0.083300   \n",
              "3    111.0      104.0    50.0       50.0  15722.000000  15722.000000   \n",
              "4      0.0        0.0     0.0        0.0      0.508628      0.097888   \n",
              "5      0.0        0.0     0.0        0.0      0.299613      0.076302   \n",
              "6      0.0        0.0     0.0        0.0      0.377094      0.085336   \n",
              "7     20.0       23.0     7.0       13.0   2066.000000   2066.000000   \n",
              "8      0.0        0.0     0.0        0.0      0.504296      0.098168   \n",
              "9      0.0        0.0     0.0        0.0      0.295123      0.076601   \n",
              "10     0.0        0.0     0.0        0.0      0.372344      0.085807   \n",
              "11    27.0       20.0    25.0        3.0   1989.000000   1989.000000   \n",
              "\n",
              "    weighted avg   samples avg  \n",
              "0       0.385948      0.048855  \n",
              "1       0.294492      0.048834  \n",
              "2       0.332255      0.048841  \n",
              "3   15722.000000  15722.000000  \n",
              "4       0.391855           NaN  \n",
              "5       0.299613           NaN  \n",
              "6       0.338059           NaN  \n",
              "7    2066.000000           NaN  \n",
              "8       0.382143      0.049603  \n",
              "9       0.295123      0.049561  \n",
              "10      0.332146      0.049575  \n",
              "11   1989.000000   1989.000000  \n",
              "\n",
              "[12 rows x 21 columns]"
            ],
            "text/html": [
              "\n",
              "  <div id=\"df-cd4bd802-082d-4ef8-9d75-3b9f7288d294\">\n",
              "    <div class=\"colab-df-container\">\n",
              "      <div>\n",
              "<style scoped>\n",
              "    .dataframe tbody tr th:only-of-type {\n",
              "        vertical-align: middle;\n",
              "    }\n",
              "\n",
              "    .dataframe tbody tr th {\n",
              "        vertical-align: top;\n",
              "    }\n",
              "\n",
              "    .dataframe thead th {\n",
              "        text-align: right;\n",
              "    }\n",
              "</style>\n",
              "<table border=\"1\" class=\"dataframe\">\n",
              "  <thead>\n",
              "    <tr style=\"text-align: right;\">\n",
              "      <th></th>\n",
              "      <th>split</th>\n",
              "      <th>index</th>\n",
              "      <th>B-ADR</th>\n",
              "      <th>I-ADR</th>\n",
              "      <th>E-ADR</th>\n",
              "      <th>B-Drug</th>\n",
              "      <th>B-Finding</th>\n",
              "      <th>B-Disease</th>\n",
              "      <th>B-Symptom</th>\n",
              "      <th>E-Finding</th>\n",
              "      <th>...</th>\n",
              "      <th>E-Disease</th>\n",
              "      <th>E-Symptom</th>\n",
              "      <th>E-Drug</th>\n",
              "      <th>I-Symptom</th>\n",
              "      <th>I-Drug</th>\n",
              "      <th>I-Disease</th>\n",
              "      <th>micro avg</th>\n",
              "      <th>macro avg</th>\n",
              "      <th>weighted avg</th>\n",
              "      <th>samples avg</th>\n",
              "    </tr>\n",
              "  </thead>\n",
              "  <tbody>\n",
              "    <tr>\n",
              "      <th>0</th>\n",
              "      <td>train</td>\n",
              "      <td>precision</td>\n",
              "      <td>0.623118</td>\n",
              "      <td>0.286095</td>\n",
              "      <td>0.530208</td>\n",
              "      <td>0.0</td>\n",
              "      <td>0.0</td>\n",
              "      <td>0.0</td>\n",
              "      <td>0.0</td>\n",
              "      <td>0.0</td>\n",
              "      <td>...</td>\n",
              "      <td>0.0</td>\n",
              "      <td>0.0</td>\n",
              "      <td>0.0</td>\n",
              "      <td>0.0</td>\n",
              "      <td>0.0</td>\n",
              "      <td>0.0</td>\n",
              "      <td>0.496408</td>\n",
              "      <td>0.095961</td>\n",
              "      <td>0.385948</td>\n",
              "      <td>0.048855</td>\n",
              "    </tr>\n",
              "    <tr>\n",
              "      <th>1</th>\n",
              "      <td>train</td>\n",
              "      <td>recall</td>\n",
              "      <td>0.465620</td>\n",
              "      <td>0.168802</td>\n",
              "      <td>0.480605</td>\n",
              "      <td>0.0</td>\n",
              "      <td>0.0</td>\n",
              "      <td>0.0</td>\n",
              "      <td>0.0</td>\n",
              "      <td>0.0</td>\n",
              "      <td>...</td>\n",
              "      <td>0.0</td>\n",
              "      <td>0.0</td>\n",
              "      <td>0.0</td>\n",
              "      <td>0.0</td>\n",
              "      <td>0.0</td>\n",
              "      <td>0.0</td>\n",
              "      <td>0.294492</td>\n",
              "      <td>0.074335</td>\n",
              "      <td>0.294492</td>\n",
              "      <td>0.048834</td>\n",
              "    </tr>\n",
              "    <tr>\n",
              "      <th>2</th>\n",
              "      <td>train</td>\n",
              "      <td>f1-score</td>\n",
              "      <td>0.532977</td>\n",
              "      <td>0.212327</td>\n",
              "      <td>0.504189</td>\n",
              "      <td>0.0</td>\n",
              "      <td>0.0</td>\n",
              "      <td>0.0</td>\n",
              "      <td>0.0</td>\n",
              "      <td>0.0</td>\n",
              "      <td>...</td>\n",
              "      <td>0.0</td>\n",
              "      <td>0.0</td>\n",
              "      <td>0.0</td>\n",
              "      <td>0.0</td>\n",
              "      <td>0.0</td>\n",
              "      <td>0.0</td>\n",
              "      <td>0.369675</td>\n",
              "      <td>0.083300</td>\n",
              "      <td>0.332255</td>\n",
              "      <td>0.048841</td>\n",
              "    </tr>\n",
              "    <tr>\n",
              "      <th>3</th>\n",
              "      <td>train</td>\n",
              "      <td>support</td>\n",
              "      <td>4712.000000</td>\n",
              "      <td>4449.000000</td>\n",
              "      <td>3506.000000</td>\n",
              "      <td>1396.0</td>\n",
              "      <td>309.0</td>\n",
              "      <td>231.0</td>\n",
              "      <td>222.0</td>\n",
              "      <td>200.0</td>\n",
              "      <td>...</td>\n",
              "      <td>119.0</td>\n",
              "      <td>114.0</td>\n",
              "      <td>111.0</td>\n",
              "      <td>104.0</td>\n",
              "      <td>50.0</td>\n",
              "      <td>50.0</td>\n",
              "      <td>15722.000000</td>\n",
              "      <td>15722.000000</td>\n",
              "      <td>15722.000000</td>\n",
              "      <td>15722.000000</td>\n",
              "    </tr>\n",
              "    <tr>\n",
              "      <th>4</th>\n",
              "      <td>dev</td>\n",
              "      <td>precision</td>\n",
              "      <td>0.657205</td>\n",
              "      <td>0.257971</td>\n",
              "      <td>0.553140</td>\n",
              "      <td>0.0</td>\n",
              "      <td>0.0</td>\n",
              "      <td>0.0</td>\n",
              "      <td>0.0</td>\n",
              "      <td>0.0</td>\n",
              "      <td>...</td>\n",
              "      <td>0.0</td>\n",
              "      <td>0.0</td>\n",
              "      <td>0.0</td>\n",
              "      <td>0.0</td>\n",
              "      <td>0.0</td>\n",
              "      <td>0.0</td>\n",
              "      <td>0.508628</td>\n",
              "      <td>0.097888</td>\n",
              "      <td>0.391855</td>\n",
              "      <td>NaN</td>\n",
              "    </tr>\n",
              "    <tr>\n",
              "      <th>5</th>\n",
              "      <td>dev</td>\n",
              "      <td>recall</td>\n",
              "      <td>0.462366</td>\n",
              "      <td>0.172147</td>\n",
              "      <td>0.510022</td>\n",
              "      <td>0.0</td>\n",
              "      <td>0.0</td>\n",
              "      <td>0.0</td>\n",
              "      <td>0.0</td>\n",
              "      <td>0.0</td>\n",
              "      <td>...</td>\n",
              "      <td>0.0</td>\n",
              "      <td>0.0</td>\n",
              "      <td>0.0</td>\n",
              "      <td>0.0</td>\n",
              "      <td>0.0</td>\n",
              "      <td>0.0</td>\n",
              "      <td>0.299613</td>\n",
              "      <td>0.076302</td>\n",
              "      <td>0.299613</td>\n",
              "      <td>NaN</td>\n",
              "    </tr>\n",
              "    <tr>\n",
              "      <th>6</th>\n",
              "      <td>dev</td>\n",
              "      <td>f1-score</td>\n",
              "      <td>0.542831</td>\n",
              "      <td>0.206497</td>\n",
              "      <td>0.530707</td>\n",
              "      <td>0.0</td>\n",
              "      <td>0.0</td>\n",
              "      <td>0.0</td>\n",
              "      <td>0.0</td>\n",
              "      <td>0.0</td>\n",
              "      <td>...</td>\n",
              "      <td>0.0</td>\n",
              "      <td>0.0</td>\n",
              "      <td>0.0</td>\n",
              "      <td>0.0</td>\n",
              "      <td>0.0</td>\n",
              "      <td>0.0</td>\n",
              "      <td>0.377094</td>\n",
              "      <td>0.085336</td>\n",
              "      <td>0.338059</td>\n",
              "      <td>NaN</td>\n",
              "    </tr>\n",
              "    <tr>\n",
              "      <th>7</th>\n",
              "      <td>dev</td>\n",
              "      <td>support</td>\n",
              "      <td>651.000000</td>\n",
              "      <td>517.000000</td>\n",
              "      <td>449.000000</td>\n",
              "      <td>184.0</td>\n",
              "      <td>64.0</td>\n",
              "      <td>31.0</td>\n",
              "      <td>25.0</td>\n",
              "      <td>34.0</td>\n",
              "      <td>...</td>\n",
              "      <td>15.0</td>\n",
              "      <td>13.0</td>\n",
              "      <td>20.0</td>\n",
              "      <td>23.0</td>\n",
              "      <td>7.0</td>\n",
              "      <td>13.0</td>\n",
              "      <td>2066.000000</td>\n",
              "      <td>2066.000000</td>\n",
              "      <td>2066.000000</td>\n",
              "      <td>NaN</td>\n",
              "    </tr>\n",
              "    <tr>\n",
              "      <th>8</th>\n",
              "      <td>test</td>\n",
              "      <td>precision</td>\n",
              "      <td>0.654930</td>\n",
              "      <td>0.258621</td>\n",
              "      <td>0.558974</td>\n",
              "      <td>0.0</td>\n",
              "      <td>0.0</td>\n",
              "      <td>0.0</td>\n",
              "      <td>0.0</td>\n",
              "      <td>0.0</td>\n",
              "      <td>...</td>\n",
              "      <td>0.0</td>\n",
              "      <td>0.0</td>\n",
              "      <td>0.0</td>\n",
              "      <td>0.0</td>\n",
              "      <td>0.0</td>\n",
              "      <td>0.0</td>\n",
              "      <td>0.504296</td>\n",
              "      <td>0.098168</td>\n",
              "      <td>0.382143</td>\n",
              "      <td>0.049603</td>\n",
              "    </tr>\n",
              "    <tr>\n",
              "      <th>9</th>\n",
              "      <td>test</td>\n",
              "      <td>recall</td>\n",
              "      <td>0.484375</td>\n",
              "      <td>0.171429</td>\n",
              "      <td>0.493213</td>\n",
              "      <td>0.0</td>\n",
              "      <td>0.0</td>\n",
              "      <td>0.0</td>\n",
              "      <td>0.0</td>\n",
              "      <td>0.0</td>\n",
              "      <td>...</td>\n",
              "      <td>0.0</td>\n",
              "      <td>0.0</td>\n",
              "      <td>0.0</td>\n",
              "      <td>0.0</td>\n",
              "      <td>0.0</td>\n",
              "      <td>0.0</td>\n",
              "      <td>0.295123</td>\n",
              "      <td>0.076601</td>\n",
              "      <td>0.295123</td>\n",
              "      <td>0.049561</td>\n",
              "    </tr>\n",
              "    <tr>\n",
              "      <th>10</th>\n",
              "      <td>test</td>\n",
              "      <td>f1-score</td>\n",
              "      <td>0.556886</td>\n",
              "      <td>0.206186</td>\n",
              "      <td>0.524038</td>\n",
              "      <td>0.0</td>\n",
              "      <td>0.0</td>\n",
              "      <td>0.0</td>\n",
              "      <td>0.0</td>\n",
              "      <td>0.0</td>\n",
              "      <td>...</td>\n",
              "      <td>0.0</td>\n",
              "      <td>0.0</td>\n",
              "      <td>0.0</td>\n",
              "      <td>0.0</td>\n",
              "      <td>0.0</td>\n",
              "      <td>0.0</td>\n",
              "      <td>0.372344</td>\n",
              "      <td>0.085807</td>\n",
              "      <td>0.332146</td>\n",
              "      <td>0.049575</td>\n",
              "    </tr>\n",
              "    <tr>\n",
              "      <th>11</th>\n",
              "      <td>test</td>\n",
              "      <td>support</td>\n",
              "      <td>576.000000</td>\n",
              "      <td>525.000000</td>\n",
              "      <td>442.000000</td>\n",
              "      <td>219.0</td>\n",
              "      <td>52.0</td>\n",
              "      <td>20.0</td>\n",
              "      <td>22.0</td>\n",
              "      <td>27.0</td>\n",
              "      <td>...</td>\n",
              "      <td>9.0</td>\n",
              "      <td>13.0</td>\n",
              "      <td>27.0</td>\n",
              "      <td>20.0</td>\n",
              "      <td>25.0</td>\n",
              "      <td>3.0</td>\n",
              "      <td>1989.000000</td>\n",
              "      <td>1989.000000</td>\n",
              "      <td>1989.000000</td>\n",
              "      <td>1989.000000</td>\n",
              "    </tr>\n",
              "  </tbody>\n",
              "</table>\n",
              "<p>12 rows × 21 columns</p>\n",
              "</div>\n",
              "      <button class=\"colab-df-convert\" onclick=\"convertToInteractive('df-cd4bd802-082d-4ef8-9d75-3b9f7288d294')\"\n",
              "              title=\"Convert this dataframe to an interactive table.\"\n",
              "              style=\"display:none;\">\n",
              "        \n",
              "  <svg xmlns=\"http://www.w3.org/2000/svg\" height=\"24px\"viewBox=\"0 0 24 24\"\n",
              "       width=\"24px\">\n",
              "    <path d=\"M0 0h24v24H0V0z\" fill=\"none\"/>\n",
              "    <path d=\"M18.56 5.44l.94 2.06.94-2.06 2.06-.94-2.06-.94-.94-2.06-.94 2.06-2.06.94zm-11 1L8.5 8.5l.94-2.06 2.06-.94-2.06-.94L8.5 2.5l-.94 2.06-2.06.94zm10 10l.94 2.06.94-2.06 2.06-.94-2.06-.94-.94-2.06-.94 2.06-2.06.94z\"/><path d=\"M17.41 7.96l-1.37-1.37c-.4-.4-.92-.59-1.43-.59-.52 0-1.04.2-1.43.59L10.3 9.45l-7.72 7.72c-.78.78-.78 2.05 0 2.83L4 21.41c.39.39.9.59 1.41.59.51 0 1.02-.2 1.41-.59l7.78-7.78 2.81-2.81c.8-.78.8-2.07 0-2.86zM5.41 20L4 18.59l7.72-7.72 1.47 1.35L5.41 20z\"/>\n",
              "  </svg>\n",
              "      </button>\n",
              "      \n",
              "  <style>\n",
              "    .colab-df-container {\n",
              "      display:flex;\n",
              "      flex-wrap:wrap;\n",
              "      gap: 12px;\n",
              "    }\n",
              "\n",
              "    .colab-df-convert {\n",
              "      background-color: #E8F0FE;\n",
              "      border: none;\n",
              "      border-radius: 50%;\n",
              "      cursor: pointer;\n",
              "      display: none;\n",
              "      fill: #1967D2;\n",
              "      height: 32px;\n",
              "      padding: 0 0 0 0;\n",
              "      width: 32px;\n",
              "    }\n",
              "\n",
              "    .colab-df-convert:hover {\n",
              "      background-color: #E2EBFA;\n",
              "      box-shadow: 0px 1px 2px rgba(60, 64, 67, 0.3), 0px 1px 3px 1px rgba(60, 64, 67, 0.15);\n",
              "      fill: #174EA6;\n",
              "    }\n",
              "\n",
              "    [theme=dark] .colab-df-convert {\n",
              "      background-color: #3B4455;\n",
              "      fill: #D2E3FC;\n",
              "    }\n",
              "\n",
              "    [theme=dark] .colab-df-convert:hover {\n",
              "      background-color: #434B5C;\n",
              "      box-shadow: 0px 1px 3px 1px rgba(0, 0, 0, 0.15);\n",
              "      filter: drop-shadow(0px 1px 2px rgba(0, 0, 0, 0.3));\n",
              "      fill: #FFFFFF;\n",
              "    }\n",
              "  </style>\n",
              "\n",
              "      <script>\n",
              "        const buttonEl =\n",
              "          document.querySelector('#df-cd4bd802-082d-4ef8-9d75-3b9f7288d294 button.colab-df-convert');\n",
              "        buttonEl.style.display =\n",
              "          google.colab.kernel.accessAllowed ? 'block' : 'none';\n",
              "\n",
              "        async function convertToInteractive(key) {\n",
              "          const element = document.querySelector('#df-cd4bd802-082d-4ef8-9d75-3b9f7288d294');\n",
              "          const dataTable =\n",
              "            await google.colab.kernel.invokeFunction('convertToInteractive',\n",
              "                                                     [key], {});\n",
              "          if (!dataTable) return;\n",
              "\n",
              "          const docLinkHtml = 'Like what you see? Visit the ' +\n",
              "            '<a target=\"_blank\" href=https://colab.research.google.com/notebooks/data_table.ipynb>data table notebook</a>'\n",
              "            + ' to learn more about interactive tables.';\n",
              "          element.innerHTML = '';\n",
              "          dataTable['output_type'] = 'display_data';\n",
              "          await google.colab.output.renderOutput(dataTable, element);\n",
              "          const docLink = document.createElement('div');\n",
              "          docLink.innerHTML = docLinkHtml;\n",
              "          element.appendChild(docLink);\n",
              "        }\n",
              "      </script>\n",
              "    </div>\n",
              "  </div>\n",
              "  "
            ]
          },
          "metadata": {},
          "execution_count": 19
        }
      ],
      "source": [
        "print(suf)\n",
        "\n",
        "os.mkdir('flair_ner_model'+suf+'/classification_report')\n",
        "plotter.plot_training_curves('flair_ner_model'+suf+'/loss.tsv')\n",
        "\n",
        "# evaluate the tagger on the test set\n",
        "result = tagger.evaluate(corpus.train, \n",
        "                         embeddings_storage_mode='gpu',\n",
        "                         mini_batch_size=12,\n",
        "                         main_evaluation_metric = (\"weighted avg\", \"f1-score\"),\n",
        "                         gold_label_type='ner',\n",
        "                         gold_label_dictionary=tag_dictionary)\n",
        "open('flair_ner_model'+suf+'/classification_report/train.txt', 'w').write(str(result))\n",
        "res1 = pd.DataFrame.from_dict(result.classification_report).reset_index()\n",
        "res1.insert(loc=0, column='split', value='train')\n",
        "\n",
        "result = tagger.evaluate(corpus.dev, \n",
        "                         embeddings_storage_mode='gpu',\n",
        "                         mini_batch_size=12,\n",
        "                         main_evaluation_metric = (\"weighted avg\", \"f1-score\"),\n",
        "                         gold_label_type='ner',\n",
        "                         gold_label_dictionary=tag_dictionary)\n",
        "open('flair_ner_model'+suf+'/classification_report/dev.txt', 'w').write(str(result))\n",
        "res2 = pd.DataFrame.from_dict(result.classification_report).reset_index()\n",
        "res2.insert(loc=0, column='split', value='dev')\n",
        "\n",
        "result = tagger.evaluate(corpus.test, \n",
        "                         embeddings_storage_mode='gpu',\n",
        "                         mini_batch_size=12,\n",
        "                         main_evaluation_metric = (\"weighted avg\", \"f1-score\"),\n",
        "                         gold_label_type='ner',\n",
        "                         gold_label_dictionary=tag_dictionary)\n",
        "open('flair_ner_model'+suf+'/classification_report/test.txt', 'w').write(str(result))\n",
        "res3 = pd.DataFrame.from_dict(result.classification_report).reset_index()\n",
        "res3.insert(loc=0, column='split', value='test')\n",
        "\n",
        "res = pd.concat([res1,res2,res3],ignore_index=True)\n",
        "res.to_csv('flair_ner_model'+suf+'/classification_report.csv',index=False)\n",
        "res"
      ]
    },
    {
      "cell_type": "code",
      "execution_count": 17,
      "metadata": {
        "id": "capiQJ2bb6NS"
      },
      "outputs": [],
      "source": []
    },
    {
      "cell_type": "code",
      "execution_count": 18,
      "metadata": {
        "id": "VvIDCtYJkY-G"
      },
      "outputs": [],
      "source": [
        "# import time\n",
        "# start_time = time.time()\n",
        "# while time.time() - start_time < 1:\n",
        "#     time.sleep(1)\n",
        "# print('Session has timed out (2 minutes). Disconnecting...')\n",
        "# !kill -9 -1"
      ]
    },
    {
      "cell_type": "markdown",
      "metadata": {
        "id": "tGILL4RFtGil"
      },
      "source": [
        "Layering can be a good idea if the NER tags in the first layer have their own set of dependent values in the second layer. This can help capture more information about the entities being recognized and provide more context for downstream tasks. However, it also increases the complexity of the annotation and the training process, so it should be used judiciously. In general, it's a good idea to start with a simple tag scheme and gradually increase complexity as needed."
      ]
    },
    {
      "cell_type": "markdown",
      "metadata": {
        "id": "JoZ5D6aEtGin"
      },
      "source": [
        "    does it really matter if u use the E header\n",
        "\n",
        "It depends on the specific task and the requirements of the downstream model. In some cases, using the E tag can help disambiguate between overlapping entities, while in other cases it may not be necessary or even desired. Ultimately, it's up to the developer to determine the appropriate tagging scheme for their specific use case."
      ]
    },
    {
      "cell_type": "markdown",
      "metadata": {
        "id": "BGt2RhM6tGin"
      },
      "source": [
        "    would adding POS as an extra NER layer help model performance or not\n",
        "\n",
        "Adding POS as an extra NER layer may or may not help model performance, depending on the specific use case and data being analyzed.\n",
        "\n",
        "On one hand, incorporating POS tags could provide additional context to the model and help it better distinguish between named entities and other parts of speech. For example, knowing that a word is a noun or verb could help the model determine if it is likely to be a named entity or not.\n",
        "\n",
        "On the other hand, adding an additional layer could also increase model complexity and training time without necessarily improving performance. It may also require additional manual annotation efforts to create a labeled dataset with both NER and POS tags.\n",
        "\n",
        "Ultimately, whether to include POS as an additional layer will depend on the specific requirements and goals of the project, as well as the available data and resources."
      ]
    },
    {
      "cell_type": "markdown",
      "metadata": {
        "id": "6zpEn1bgtGin"
      },
      "source": [
        "    besides bioes ordering (which is up-to-down), it doesn't matter what order the tags in the same domain appear in left-to-right?\n",
        "\n",
        "Yes, that is correct. As long as the BIOES order is maintained vertically, the order of tags in the same domain from left-to-right should not impact training in flai"
      ]
    },
    {
      "cell_type": "markdown",
      "metadata": {
        "id": "yrmL98VatGin"
      },
      "source": [
        "    different typenames must be treated as separate tasks?\n",
        "\n",
        "Yes, that's correct. Different typenames should be treated as separate tasks because they represent different types of annotations that you want to predict. For example, in a biomedical NER task, you might want to predict the entity types of both drugs and diseases, which would be represented by two different typenames in your annotation data. Predicting both types of entities would require different models and possibly different evaluation metrics."
      ]
    }
  ],
  "metadata": {
    "accelerator": "GPU",
    "colab": {
      "gpuType": "A100",
      "provenance": []
    },
    "gpuClass": "standard",
    "kernelspec": {
      "display_name": "flair",
      "language": "python",
      "name": "python3"
    },
    "language_info": {
      "codemirror_mode": {
        "name": "ipython",
        "version": 3
      },
      "file_extension": ".py",
      "mimetype": "text/x-python",
      "name": "python",
      "nbconvert_exporter": "python",
      "pygments_lexer": "ipython3",
      "version": "3.9.16"
    },
    "vscode": {
      "interpreter": {
        "hash": "381c8abc3392c5f20473858f182d9ac4a53ef053fb1f276fcb4936938616c3f3"
      }
    }
  },
  "nbformat": 4,
  "nbformat_minor": 0
}