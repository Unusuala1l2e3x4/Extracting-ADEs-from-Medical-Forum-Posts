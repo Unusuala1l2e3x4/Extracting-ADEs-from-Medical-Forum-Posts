{
  "cells": [
    {
      "cell_type": "code",
      "execution_count": 1,
      "metadata": {
        "colab": {
          "base_uri": "https://localhost:8080/"
        },
        "id": "XhIssB_etI8X",
        "outputId": "3fddebe3-b5fd-43a8-eb91-8e216a258f3e"
      },
      "outputs": [
        {
          "output_type": "stream",
          "name": "stdout",
          "text": [
            "Looking in indexes: https://pypi.org/simple, https://us-python.pkg.dev/colab-wheels/public/simple/\n",
            "Requirement already satisfied: flair in /usr/local/lib/python3.9/dist-packages (0.12.2)\n",
            "Requirement already satisfied: deprecated>=1.2.4 in /usr/local/lib/python3.9/dist-packages (from flair) (1.2.13)\n",
            "Requirement already satisfied: scikit-learn>=0.21.3 in /usr/local/lib/python3.9/dist-packages (from flair) (1.2.2)\n",
            "Requirement already satisfied: torch!=1.8,>=1.5.0 in /usr/local/lib/python3.9/dist-packages (from flair) (2.0.0+cu118)\n",
            "Requirement already satisfied: pytorch-revgrad in /usr/local/lib/python3.9/dist-packages (from flair) (0.2.0)\n",
            "Requirement already satisfied: transformer-smaller-training-vocab>=0.2.1 in /usr/local/lib/python3.9/dist-packages (from flair) (0.2.3)\n",
            "Requirement already satisfied: pptree in /usr/local/lib/python3.9/dist-packages (from flair) (3.1)\n",
            "Requirement already satisfied: langdetect in /usr/local/lib/python3.9/dist-packages (from flair) (1.0.9)\n",
            "Requirement already satisfied: more-itertools in /usr/local/lib/python3.9/dist-packages (from flair) (9.1.0)\n",
            "Requirement already satisfied: tqdm>=4.26.0 in /usr/local/lib/python3.9/dist-packages (from flair) (4.65.0)\n",
            "Requirement already satisfied: transformers[sentencepiece]>=4.18.0 in /usr/local/lib/python3.9/dist-packages (from flair) (4.28.1)\n",
            "Requirement already satisfied: lxml in /usr/local/lib/python3.9/dist-packages (from flair) (4.9.2)\n",
            "Requirement already satisfied: python-dateutil>=2.6.1 in /usr/local/lib/python3.9/dist-packages (from flair) (2.8.2)\n",
            "Requirement already satisfied: conllu>=4.0 in /usr/local/lib/python3.9/dist-packages (from flair) (4.5.2)\n",
            "Requirement already satisfied: tabulate in /usr/local/lib/python3.9/dist-packages (from flair) (0.8.10)\n",
            "Requirement already satisfied: gdown==4.4.0 in /usr/local/lib/python3.9/dist-packages (from flair) (4.4.0)\n",
            "Requirement already satisfied: bpemb>=0.3.2 in /usr/local/lib/python3.9/dist-packages (from flair) (0.3.4)\n",
            "Requirement already satisfied: mpld3==0.3 in /usr/local/lib/python3.9/dist-packages (from flair) (0.3)\n",
            "Requirement already satisfied: matplotlib>=2.2.3 in /usr/local/lib/python3.9/dist-packages (from flair) (3.7.1)\n",
            "Requirement already satisfied: sqlitedict>=1.6.0 in /usr/local/lib/python3.9/dist-packages (from flair) (2.1.0)\n",
            "Requirement already satisfied: wikipedia-api in /usr/local/lib/python3.9/dist-packages (from flair) (0.5.8)\n",
            "Requirement already satisfied: gensim>=3.8.0 in /usr/local/lib/python3.9/dist-packages (from flair) (4.3.1)\n",
            "Requirement already satisfied: janome in /usr/local/lib/python3.9/dist-packages (from flair) (0.4.2)\n",
            "Requirement already satisfied: boto3 in /usr/local/lib/python3.9/dist-packages (from flair) (1.26.117)\n",
            "Requirement already satisfied: regex in /usr/local/lib/python3.9/dist-packages (from flair) (2022.10.31)\n",
            "Requirement already satisfied: huggingface-hub>=0.10.0 in /usr/local/lib/python3.9/dist-packages (from flair) (0.13.4)\n",
            "Requirement already satisfied: hyperopt>=0.2.7 in /usr/local/lib/python3.9/dist-packages (from flair) (0.2.7)\n",
            "Requirement already satisfied: segtok>=1.5.7 in /usr/local/lib/python3.9/dist-packages (from flair) (1.5.11)\n",
            "Requirement already satisfied: ftfy in /usr/local/lib/python3.9/dist-packages (from flair) (6.1.1)\n",
            "Requirement already satisfied: beautifulsoup4 in /usr/local/lib/python3.9/dist-packages (from gdown==4.4.0->flair) (4.11.2)\n",
            "Requirement already satisfied: requests[socks] in /usr/local/lib/python3.9/dist-packages (from gdown==4.4.0->flair) (2.27.1)\n",
            "Requirement already satisfied: filelock in /usr/local/lib/python3.9/dist-packages (from gdown==4.4.0->flair) (3.11.0)\n",
            "Requirement already satisfied: six in /usr/local/lib/python3.9/dist-packages (from gdown==4.4.0->flair) (1.16.0)\n",
            "Requirement already satisfied: numpy in /usr/local/lib/python3.9/dist-packages (from bpemb>=0.3.2->flair) (1.22.4)\n",
            "Requirement already satisfied: sentencepiece in /usr/local/lib/python3.9/dist-packages (from bpemb>=0.3.2->flair) (0.1.98)\n",
            "Requirement already satisfied: wrapt<2,>=1.10 in /usr/local/lib/python3.9/dist-packages (from deprecated>=1.2.4->flair) (1.14.1)\n",
            "Requirement already satisfied: smart-open>=1.8.1 in /usr/local/lib/python3.9/dist-packages (from gensim>=3.8.0->flair) (6.3.0)\n",
            "Requirement already satisfied: scipy>=1.7.0 in /usr/local/lib/python3.9/dist-packages (from gensim>=3.8.0->flair) (1.10.1)\n",
            "Requirement already satisfied: packaging>=20.9 in /usr/local/lib/python3.9/dist-packages (from huggingface-hub>=0.10.0->flair) (23.1)\n",
            "Requirement already satisfied: typing-extensions>=3.7.4.3 in /usr/local/lib/python3.9/dist-packages (from huggingface-hub>=0.10.0->flair) (4.5.0)\n",
            "Requirement already satisfied: pyyaml>=5.1 in /usr/local/lib/python3.9/dist-packages (from huggingface-hub>=0.10.0->flair) (6.0)\n",
            "Requirement already satisfied: cloudpickle in /usr/local/lib/python3.9/dist-packages (from hyperopt>=0.2.7->flair) (2.2.1)\n",
            "Requirement already satisfied: future in /usr/local/lib/python3.9/dist-packages (from hyperopt>=0.2.7->flair) (0.18.3)\n",
            "Requirement already satisfied: networkx>=2.2 in /usr/local/lib/python3.9/dist-packages (from hyperopt>=0.2.7->flair) (3.1)\n",
            "Requirement already satisfied: py4j in /usr/local/lib/python3.9/dist-packages (from hyperopt>=0.2.7->flair) (0.10.9.7)\n",
            "Requirement already satisfied: fonttools>=4.22.0 in /usr/local/lib/python3.9/dist-packages (from matplotlib>=2.2.3->flair) (4.39.3)\n",
            "Requirement already satisfied: importlib-resources>=3.2.0 in /usr/local/lib/python3.9/dist-packages (from matplotlib>=2.2.3->flair) (5.12.0)\n",
            "Requirement already satisfied: pyparsing>=2.3.1 in /usr/local/lib/python3.9/dist-packages (from matplotlib>=2.2.3->flair) (3.0.9)\n",
            "Requirement already satisfied: cycler>=0.10 in /usr/local/lib/python3.9/dist-packages (from matplotlib>=2.2.3->flair) (0.11.0)\n",
            "Requirement already satisfied: kiwisolver>=1.0.1 in /usr/local/lib/python3.9/dist-packages (from matplotlib>=2.2.3->flair) (1.4.4)\n",
            "Requirement already satisfied: pillow>=6.2.0 in /usr/local/lib/python3.9/dist-packages (from matplotlib>=2.2.3->flair) (8.4.0)\n",
            "Requirement already satisfied: contourpy>=1.0.1 in /usr/local/lib/python3.9/dist-packages (from matplotlib>=2.2.3->flair) (1.0.7)\n",
            "Requirement already satisfied: threadpoolctl>=2.0.0 in /usr/local/lib/python3.9/dist-packages (from scikit-learn>=0.21.3->flair) (3.1.0)\n",
            "Requirement already satisfied: joblib>=1.1.1 in /usr/local/lib/python3.9/dist-packages (from scikit-learn>=0.21.3->flair) (1.2.0)\n",
            "Requirement already satisfied: jinja2 in /usr/local/lib/python3.9/dist-packages (from torch!=1.8,>=1.5.0->flair) (3.1.2)\n",
            "Requirement already satisfied: sympy in /usr/local/lib/python3.9/dist-packages (from torch!=1.8,>=1.5.0->flair) (1.11.1)\n",
            "Requirement already satisfied: triton==2.0.0 in /usr/local/lib/python3.9/dist-packages (from torch!=1.8,>=1.5.0->flair) (2.0.0)\n",
            "Requirement already satisfied: cmake in /usr/local/lib/python3.9/dist-packages (from triton==2.0.0->torch!=1.8,>=1.5.0->flair) (3.25.2)\n",
            "Requirement already satisfied: lit in /usr/local/lib/python3.9/dist-packages (from triton==2.0.0->torch!=1.8,>=1.5.0->flair) (16.0.1)\n",
            "Requirement already satisfied: datasets<3.0.0,>=2.0.0 in /usr/local/lib/python3.9/dist-packages (from transformer-smaller-training-vocab>=0.2.1->flair) (2.11.0)\n",
            "Requirement already satisfied: tokenizers!=0.11.3,<0.14,>=0.11.1 in /usr/local/lib/python3.9/dist-packages (from transformers[sentencepiece]>=4.18.0->flair) (0.13.3)\n",
            "Requirement already satisfied: protobuf<=3.20.2 in /usr/local/lib/python3.9/dist-packages (from transformers[sentencepiece]>=4.18.0->flair) (3.20.2)\n",
            "Requirement already satisfied: jmespath<2.0.0,>=0.7.1 in /usr/local/lib/python3.9/dist-packages (from boto3->flair) (1.0.1)\n",
            "Requirement already satisfied: botocore<1.30.0,>=1.29.117 in /usr/local/lib/python3.9/dist-packages (from boto3->flair) (1.29.117)\n",
            "Requirement already satisfied: s3transfer<0.7.0,>=0.6.0 in /usr/local/lib/python3.9/dist-packages (from boto3->flair) (0.6.0)\n",
            "Requirement already satisfied: wcwidth>=0.2.5 in /usr/local/lib/python3.9/dist-packages (from ftfy->flair) (0.2.6)\n",
            "Requirement already satisfied: urllib3<1.27,>=1.25.4 in /usr/local/lib/python3.9/dist-packages (from botocore<1.30.0,>=1.29.117->boto3->flair) (1.26.15)\n",
            "Requirement already satisfied: pandas in /usr/local/lib/python3.9/dist-packages (from datasets<3.0.0,>=2.0.0->transformer-smaller-training-vocab>=0.2.1->flair) (1.5.3)\n",
            "Requirement already satisfied: aiohttp in /usr/local/lib/python3.9/dist-packages (from datasets<3.0.0,>=2.0.0->transformer-smaller-training-vocab>=0.2.1->flair) (3.8.4)\n",
            "Requirement already satisfied: responses<0.19 in /usr/local/lib/python3.9/dist-packages (from datasets<3.0.0,>=2.0.0->transformer-smaller-training-vocab>=0.2.1->flair) (0.18.0)\n",
            "Requirement already satisfied: pyarrow>=8.0.0 in /usr/local/lib/python3.9/dist-packages (from datasets<3.0.0,>=2.0.0->transformer-smaller-training-vocab>=0.2.1->flair) (9.0.0)\n",
            "Requirement already satisfied: xxhash in /usr/local/lib/python3.9/dist-packages (from datasets<3.0.0,>=2.0.0->transformer-smaller-training-vocab>=0.2.1->flair) (3.2.0)\n",
            "Requirement already satisfied: dill<0.3.7,>=0.3.0 in /usr/local/lib/python3.9/dist-packages (from datasets<3.0.0,>=2.0.0->transformer-smaller-training-vocab>=0.2.1->flair) (0.3.6)\n",
            "Requirement already satisfied: fsspec[http]>=2021.11.1 in /usr/local/lib/python3.9/dist-packages (from datasets<3.0.0,>=2.0.0->transformer-smaller-training-vocab>=0.2.1->flair) (2023.4.0)\n",
            "Requirement already satisfied: multiprocess in /usr/local/lib/python3.9/dist-packages (from datasets<3.0.0,>=2.0.0->transformer-smaller-training-vocab>=0.2.1->flair) (0.70.14)\n",
            "Requirement already satisfied: zipp>=3.1.0 in /usr/local/lib/python3.9/dist-packages (from importlib-resources>=3.2.0->matplotlib>=2.2.3->flair) (3.15.0)\n",
            "Requirement already satisfied: charset-normalizer~=2.0.0 in /usr/local/lib/python3.9/dist-packages (from requests[socks]->gdown==4.4.0->flair) (2.0.12)\n",
            "Requirement already satisfied: idna<4,>=2.5 in /usr/local/lib/python3.9/dist-packages (from requests[socks]->gdown==4.4.0->flair) (3.4)\n",
            "Requirement already satisfied: certifi>=2017.4.17 in /usr/local/lib/python3.9/dist-packages (from requests[socks]->gdown==4.4.0->flair) (2022.12.7)\n",
            "Requirement already satisfied: soupsieve>1.2 in /usr/local/lib/python3.9/dist-packages (from beautifulsoup4->gdown==4.4.0->flair) (2.4.1)\n",
            "Requirement already satisfied: MarkupSafe>=2.0 in /usr/local/lib/python3.9/dist-packages (from jinja2->torch!=1.8,>=1.5.0->flair) (2.1.2)\n",
            "Requirement already satisfied: PySocks!=1.5.7,>=1.5.6 in /usr/local/lib/python3.9/dist-packages (from requests[socks]->gdown==4.4.0->flair) (1.7.1)\n",
            "Requirement already satisfied: mpmath>=0.19 in /usr/local/lib/python3.9/dist-packages (from sympy->torch!=1.8,>=1.5.0->flair) (1.3.0)\n",
            "Requirement already satisfied: async-timeout<5.0,>=4.0.0a3 in /usr/local/lib/python3.9/dist-packages (from aiohttp->datasets<3.0.0,>=2.0.0->transformer-smaller-training-vocab>=0.2.1->flair) (4.0.2)\n",
            "Requirement already satisfied: frozenlist>=1.1.1 in /usr/local/lib/python3.9/dist-packages (from aiohttp->datasets<3.0.0,>=2.0.0->transformer-smaller-training-vocab>=0.2.1->flair) (1.3.3)\n",
            "Requirement already satisfied: yarl<2.0,>=1.0 in /usr/local/lib/python3.9/dist-packages (from aiohttp->datasets<3.0.0,>=2.0.0->transformer-smaller-training-vocab>=0.2.1->flair) (1.8.2)\n",
            "Requirement already satisfied: attrs>=17.3.0 in /usr/local/lib/python3.9/dist-packages (from aiohttp->datasets<3.0.0,>=2.0.0->transformer-smaller-training-vocab>=0.2.1->flair) (23.1.0)\n",
            "Requirement already satisfied: aiosignal>=1.1.2 in /usr/local/lib/python3.9/dist-packages (from aiohttp->datasets<3.0.0,>=2.0.0->transformer-smaller-training-vocab>=0.2.1->flair) (1.3.1)\n",
            "Requirement already satisfied: multidict<7.0,>=4.5 in /usr/local/lib/python3.9/dist-packages (from aiohttp->datasets<3.0.0,>=2.0.0->transformer-smaller-training-vocab>=0.2.1->flair) (6.0.4)\n",
            "Requirement already satisfied: pytz>=2020.1 in /usr/local/lib/python3.9/dist-packages (from pandas->datasets<3.0.0,>=2.0.0->transformer-smaller-training-vocab>=0.2.1->flair) (2022.7.1)\n"
          ]
        }
      ],
      "source": [
        "!pip install flair"
      ]
    },
    {
      "cell_type": "code",
      "execution_count": 2,
      "metadata": {
        "id": "xONJpNLKtGie"
      },
      "outputs": [],
      "source": [
        "import pandas as pd\n",
        "import numpy as np\n",
        "import os, re, csv, string, random\n",
        "import flair\n",
        "# print(flair.__version__)\n",
        "\n",
        "\n",
        "import nltk\n",
        "from nltk.tokenize import RegexpTokenizer\n",
        "\n",
        "from flair.data import Sentence, Span, Corpus, Dictionary, Token\n",
        "from flair.embeddings import WordEmbeddings, DocumentPoolEmbeddings, FlairEmbeddings, StackedEmbeddings, TokenEmbeddings\n",
        "from flair.models import SequenceTagger\n",
        "\n",
        "from flair.datasets import ColumnCorpus\n",
        "from flair.trainers import ModelTrainer\n",
        "\n",
        "from typing import List, Tuple\n",
        "\n",
        "from sklearn.metrics import confusion_matrix, classification_report\n",
        "\n",
        "import seaborn as sns\n",
        "import pickle\n",
        "\n",
        "from tqdm.auto import tqdm, trange\n",
        "\n",
        "# import seaborn as sns\n",
        "import matplotlib.pyplot as plt\n",
        "from collections import Counter\n",
        "from itertools import chain\n",
        "# from flair.data import Sentence"
      ]
    },
    {
      "cell_type": "code",
      "execution_count": 3,
      "metadata": {
        "colab": {
          "base_uri": "https://localhost:8080/"
        },
        "id": "nw6RM8uotGih",
        "outputId": "54fb6185-1b90-4ac8-c300-104f053eb237"
      },
      "outputs": [
        {
          "output_type": "stream",
          "name": "stdout",
          "text": [
            "Drive already mounted at /content/drive; to attempt to forcibly remount, call drive.mount(\"/content/drive\", force_remount=True).\n"
          ]
        }
      ],
      "source": [
        "from google.colab import drive\n",
        "drive.mount(\"/content/drive\")\n",
        "\n",
        "os.chdir('/content/drive/MyDrive/SI 630 project')\n",
        "# os.listdir('.')"
      ]
    },
    {
      "cell_type": "code",
      "execution_count": 4,
      "metadata": {
        "colab": {
          "base_uri": "https://localhost:8080/"
        },
        "id": "P9LwpBadtGih",
        "outputId": "240b7d75-e069-4909-9e10-cd9a44c9a485"
      },
      "outputs": [
        {
          "output_type": "execute_result",
          "data": {
            "text/plain": [
              "['sct',\n",
              " 'text',\n",
              " 'original - unedited version of edited files',\n",
              " 'meddra - unedited version of edited files',\n",
              " 'sct - unedited version of edited files',\n",
              " 'original',\n",
              " 'meddra']"
            ]
          },
          "metadata": {},
          "execution_count": 4
        }
      ],
      "source": [
        "os.listdir('datasets/CADEC/CADEC.v2/cadec')\n"
      ]
    },
    {
      "cell_type": "code",
      "execution_count": 5,
      "metadata": {
        "id": "VNZtmxiPb5uV"
      },
      "outputs": [],
      "source": [
        "suf = '_v2'\n",
        "\n",
        "data_save_dir = 'data'+suf\n",
        "\n",
        "suf += '_spanbert-large-cased'"
      ]
    },
    {
      "cell_type": "code",
      "execution_count": 6,
      "metadata": {
        "colab": {
          "base_uri": "https://localhost:8080/",
          "height": 424
        },
        "id": "BIUl2-W9tGii",
        "outputId": "0fc81059-f659-4872-f513-7f2ba1600c4e"
      },
      "outputs": [
        {
          "output_type": "execute_result",
          "data": {
            "text/plain": [
              "          ner        meddra  counts_exploded  counts  counts_exploded_rank\n",
              "0        Drug       Lipitor             1081    1073                     1\n",
              "1         ADR  CONCEPT_LESS             1016     266                     2\n",
              "2         ADR   Severe_pain              722     247                     3\n",
              "3         ADR       Myalgia              619     305                     4\n",
              "4         ADR          Pain              292     260                     5\n",
              "...       ...           ...              ...     ...                   ...\n",
              "1294  Finding      Senility                1       1                  1233\n",
              "1295     Drug      Seroquel                1       1                  1233\n",
              "1296     Drug      Solaraze                1       1                  1233\n",
              "1297     Drug       Tagamet                1       1                  1233\n",
              "1298     Drug  testosterone                1       1                  1233\n",
              "\n",
              "[1299 rows x 5 columns]"
            ],
            "text/html": [
              "\n",
              "  <div id=\"df-ced12bca-83e4-4272-bd80-6e67f28ac487\">\n",
              "    <div class=\"colab-df-container\">\n",
              "      <div>\n",
              "<style scoped>\n",
              "    .dataframe tbody tr th:only-of-type {\n",
              "        vertical-align: middle;\n",
              "    }\n",
              "\n",
              "    .dataframe tbody tr th {\n",
              "        vertical-align: top;\n",
              "    }\n",
              "\n",
              "    .dataframe thead th {\n",
              "        text-align: right;\n",
              "    }\n",
              "</style>\n",
              "<table border=\"1\" class=\"dataframe\">\n",
              "  <thead>\n",
              "    <tr style=\"text-align: right;\">\n",
              "      <th></th>\n",
              "      <th>ner</th>\n",
              "      <th>meddra</th>\n",
              "      <th>counts_exploded</th>\n",
              "      <th>counts</th>\n",
              "      <th>counts_exploded_rank</th>\n",
              "    </tr>\n",
              "  </thead>\n",
              "  <tbody>\n",
              "    <tr>\n",
              "      <th>0</th>\n",
              "      <td>Drug</td>\n",
              "      <td>Lipitor</td>\n",
              "      <td>1081</td>\n",
              "      <td>1073</td>\n",
              "      <td>1</td>\n",
              "    </tr>\n",
              "    <tr>\n",
              "      <th>1</th>\n",
              "      <td>ADR</td>\n",
              "      <td>CONCEPT_LESS</td>\n",
              "      <td>1016</td>\n",
              "      <td>266</td>\n",
              "      <td>2</td>\n",
              "    </tr>\n",
              "    <tr>\n",
              "      <th>2</th>\n",
              "      <td>ADR</td>\n",
              "      <td>Severe_pain</td>\n",
              "      <td>722</td>\n",
              "      <td>247</td>\n",
              "      <td>3</td>\n",
              "    </tr>\n",
              "    <tr>\n",
              "      <th>3</th>\n",
              "      <td>ADR</td>\n",
              "      <td>Myalgia</td>\n",
              "      <td>619</td>\n",
              "      <td>305</td>\n",
              "      <td>4</td>\n",
              "    </tr>\n",
              "    <tr>\n",
              "      <th>4</th>\n",
              "      <td>ADR</td>\n",
              "      <td>Pain</td>\n",
              "      <td>292</td>\n",
              "      <td>260</td>\n",
              "      <td>5</td>\n",
              "    </tr>\n",
              "    <tr>\n",
              "      <th>...</th>\n",
              "      <td>...</td>\n",
              "      <td>...</td>\n",
              "      <td>...</td>\n",
              "      <td>...</td>\n",
              "      <td>...</td>\n",
              "    </tr>\n",
              "    <tr>\n",
              "      <th>1294</th>\n",
              "      <td>Finding</td>\n",
              "      <td>Senility</td>\n",
              "      <td>1</td>\n",
              "      <td>1</td>\n",
              "      <td>1233</td>\n",
              "    </tr>\n",
              "    <tr>\n",
              "      <th>1295</th>\n",
              "      <td>Drug</td>\n",
              "      <td>Seroquel</td>\n",
              "      <td>1</td>\n",
              "      <td>1</td>\n",
              "      <td>1233</td>\n",
              "    </tr>\n",
              "    <tr>\n",
              "      <th>1296</th>\n",
              "      <td>Drug</td>\n",
              "      <td>Solaraze</td>\n",
              "      <td>1</td>\n",
              "      <td>1</td>\n",
              "      <td>1233</td>\n",
              "    </tr>\n",
              "    <tr>\n",
              "      <th>1297</th>\n",
              "      <td>Drug</td>\n",
              "      <td>Tagamet</td>\n",
              "      <td>1</td>\n",
              "      <td>1</td>\n",
              "      <td>1233</td>\n",
              "    </tr>\n",
              "    <tr>\n",
              "      <th>1298</th>\n",
              "      <td>Drug</td>\n",
              "      <td>testosterone</td>\n",
              "      <td>1</td>\n",
              "      <td>1</td>\n",
              "      <td>1233</td>\n",
              "    </tr>\n",
              "  </tbody>\n",
              "</table>\n",
              "<p>1299 rows × 5 columns</p>\n",
              "</div>\n",
              "      <button class=\"colab-df-convert\" onclick=\"convertToInteractive('df-ced12bca-83e4-4272-bd80-6e67f28ac487')\"\n",
              "              title=\"Convert this dataframe to an interactive table.\"\n",
              "              style=\"display:none;\">\n",
              "        \n",
              "  <svg xmlns=\"http://www.w3.org/2000/svg\" height=\"24px\"viewBox=\"0 0 24 24\"\n",
              "       width=\"24px\">\n",
              "    <path d=\"M0 0h24v24H0V0z\" fill=\"none\"/>\n",
              "    <path d=\"M18.56 5.44l.94 2.06.94-2.06 2.06-.94-2.06-.94-.94-2.06-.94 2.06-2.06.94zm-11 1L8.5 8.5l.94-2.06 2.06-.94-2.06-.94L8.5 2.5l-.94 2.06-2.06.94zm10 10l.94 2.06.94-2.06 2.06-.94-2.06-.94-.94-2.06-.94 2.06-2.06.94z\"/><path d=\"M17.41 7.96l-1.37-1.37c-.4-.4-.92-.59-1.43-.59-.52 0-1.04.2-1.43.59L10.3 9.45l-7.72 7.72c-.78.78-.78 2.05 0 2.83L4 21.41c.39.39.9.59 1.41.59.51 0 1.02-.2 1.41-.59l7.78-7.78 2.81-2.81c.8-.78.8-2.07 0-2.86zM5.41 20L4 18.59l7.72-7.72 1.47 1.35L5.41 20z\"/>\n",
              "  </svg>\n",
              "      </button>\n",
              "      \n",
              "  <style>\n",
              "    .colab-df-container {\n",
              "      display:flex;\n",
              "      flex-wrap:wrap;\n",
              "      gap: 12px;\n",
              "    }\n",
              "\n",
              "    .colab-df-convert {\n",
              "      background-color: #E8F0FE;\n",
              "      border: none;\n",
              "      border-radius: 50%;\n",
              "      cursor: pointer;\n",
              "      display: none;\n",
              "      fill: #1967D2;\n",
              "      height: 32px;\n",
              "      padding: 0 0 0 0;\n",
              "      width: 32px;\n",
              "    }\n",
              "\n",
              "    .colab-df-convert:hover {\n",
              "      background-color: #E2EBFA;\n",
              "      box-shadow: 0px 1px 2px rgba(60, 64, 67, 0.3), 0px 1px 3px 1px rgba(60, 64, 67, 0.15);\n",
              "      fill: #174EA6;\n",
              "    }\n",
              "\n",
              "    [theme=dark] .colab-df-convert {\n",
              "      background-color: #3B4455;\n",
              "      fill: #D2E3FC;\n",
              "    }\n",
              "\n",
              "    [theme=dark] .colab-df-convert:hover {\n",
              "      background-color: #434B5C;\n",
              "      box-shadow: 0px 1px 3px 1px rgba(0, 0, 0, 0.15);\n",
              "      filter: drop-shadow(0px 1px 2px rgba(0, 0, 0, 0.3));\n",
              "      fill: #FFFFFF;\n",
              "    }\n",
              "  </style>\n",
              "\n",
              "      <script>\n",
              "        const buttonEl =\n",
              "          document.querySelector('#df-ced12bca-83e4-4272-bd80-6e67f28ac487 button.colab-df-convert');\n",
              "        buttonEl.style.display =\n",
              "          google.colab.kernel.accessAllowed ? 'block' : 'none';\n",
              "\n",
              "        async function convertToInteractive(key) {\n",
              "          const element = document.querySelector('#df-ced12bca-83e4-4272-bd80-6e67f28ac487');\n",
              "          const dataTable =\n",
              "            await google.colab.kernel.invokeFunction('convertToInteractive',\n",
              "                                                     [key], {});\n",
              "          if (!dataTable) return;\n",
              "\n",
              "          const docLinkHtml = 'Like what you see? Visit the ' +\n",
              "            '<a target=\"_blank\" href=https://colab.research.google.com/notebooks/data_table.ipynb>data table notebook</a>'\n",
              "            + ' to learn more about interactive tables.';\n",
              "          element.innerHTML = '';\n",
              "          dataTable['output_type'] = 'display_data';\n",
              "          await google.colab.output.renderOutput(dataTable, element);\n",
              "          const docLink = document.createElement('div');\n",
              "          docLink.innerHTML = docLinkHtml;\n",
              "          element.appendChild(docLink);\n",
              "        }\n",
              "      </script>\n",
              "    </div>\n",
              "  </div>\n",
              "  "
            ]
          },
          "metadata": {},
          "execution_count": 6
        }
      ],
      "source": [
        "meddra_counts = pd.read_csv(data_save_dir+'/meddra_counts.csv')\n",
        "meddra_counts"
      ]
    },
    {
      "cell_type": "code",
      "execution_count": 7,
      "metadata": {
        "colab": {
          "base_uri": "https://localhost:8080/",
          "height": 424
        },
        "id": "xzc4Zo0PtGii",
        "outputId": "366f27ac-ae00-4d3c-e789-42e135fde8f9"
      },
      "outputs": [
        {
          "output_type": "execute_result",
          "data": {
            "text/plain": [
              "      ner                       meddra  counts_exploded  counts  \\\n",
              "1     ADR                 CONCEPT_LESS             1016     266   \n",
              "2     ADR                  Severe_pain              722     247   \n",
              "3     ADR                      Myalgia              619     305   \n",
              "4     ADR                         Pain              292     260   \n",
              "5     ADR                   Arthralgia              280     163   \n",
              "...   ...                          ...              ...     ...   \n",
              "1268  ADR                Labyrinthitis                1       1   \n",
              "1269  ADR                    Dysphagia                1       1   \n",
              "1275  ADR          Lupus_erythematosus                1       1   \n",
              "1278  ADR                     Cataract                1       1   \n",
              "1283  ADR  Crying_associated_with_mood                1       1   \n",
              "\n",
              "      counts_exploded_rank  \n",
              "1                        2  \n",
              "2                        3  \n",
              "3                        4  \n",
              "4                        5  \n",
              "5                        6  \n",
              "...                    ...  \n",
              "1268                  1233  \n",
              "1269                  1233  \n",
              "1275                  1233  \n",
              "1278                  1233  \n",
              "1283                  1233  \n",
              "\n",
              "[800 rows x 5 columns]"
            ],
            "text/html": [
              "\n",
              "  <div id=\"df-963691c3-160b-4d31-9b6d-97254851f133\">\n",
              "    <div class=\"colab-df-container\">\n",
              "      <div>\n",
              "<style scoped>\n",
              "    .dataframe tbody tr th:only-of-type {\n",
              "        vertical-align: middle;\n",
              "    }\n",
              "\n",
              "    .dataframe tbody tr th {\n",
              "        vertical-align: top;\n",
              "    }\n",
              "\n",
              "    .dataframe thead th {\n",
              "        text-align: right;\n",
              "    }\n",
              "</style>\n",
              "<table border=\"1\" class=\"dataframe\">\n",
              "  <thead>\n",
              "    <tr style=\"text-align: right;\">\n",
              "      <th></th>\n",
              "      <th>ner</th>\n",
              "      <th>meddra</th>\n",
              "      <th>counts_exploded</th>\n",
              "      <th>counts</th>\n",
              "      <th>counts_exploded_rank</th>\n",
              "    </tr>\n",
              "  </thead>\n",
              "  <tbody>\n",
              "    <tr>\n",
              "      <th>1</th>\n",
              "      <td>ADR</td>\n",
              "      <td>CONCEPT_LESS</td>\n",
              "      <td>1016</td>\n",
              "      <td>266</td>\n",
              "      <td>2</td>\n",
              "    </tr>\n",
              "    <tr>\n",
              "      <th>2</th>\n",
              "      <td>ADR</td>\n",
              "      <td>Severe_pain</td>\n",
              "      <td>722</td>\n",
              "      <td>247</td>\n",
              "      <td>3</td>\n",
              "    </tr>\n",
              "    <tr>\n",
              "      <th>3</th>\n",
              "      <td>ADR</td>\n",
              "      <td>Myalgia</td>\n",
              "      <td>619</td>\n",
              "      <td>305</td>\n",
              "      <td>4</td>\n",
              "    </tr>\n",
              "    <tr>\n",
              "      <th>4</th>\n",
              "      <td>ADR</td>\n",
              "      <td>Pain</td>\n",
              "      <td>292</td>\n",
              "      <td>260</td>\n",
              "      <td>5</td>\n",
              "    </tr>\n",
              "    <tr>\n",
              "      <th>5</th>\n",
              "      <td>ADR</td>\n",
              "      <td>Arthralgia</td>\n",
              "      <td>280</td>\n",
              "      <td>163</td>\n",
              "      <td>6</td>\n",
              "    </tr>\n",
              "    <tr>\n",
              "      <th>...</th>\n",
              "      <td>...</td>\n",
              "      <td>...</td>\n",
              "      <td>...</td>\n",
              "      <td>...</td>\n",
              "      <td>...</td>\n",
              "    </tr>\n",
              "    <tr>\n",
              "      <th>1268</th>\n",
              "      <td>ADR</td>\n",
              "      <td>Labyrinthitis</td>\n",
              "      <td>1</td>\n",
              "      <td>1</td>\n",
              "      <td>1233</td>\n",
              "    </tr>\n",
              "    <tr>\n",
              "      <th>1269</th>\n",
              "      <td>ADR</td>\n",
              "      <td>Dysphagia</td>\n",
              "      <td>1</td>\n",
              "      <td>1</td>\n",
              "      <td>1233</td>\n",
              "    </tr>\n",
              "    <tr>\n",
              "      <th>1275</th>\n",
              "      <td>ADR</td>\n",
              "      <td>Lupus_erythematosus</td>\n",
              "      <td>1</td>\n",
              "      <td>1</td>\n",
              "      <td>1233</td>\n",
              "    </tr>\n",
              "    <tr>\n",
              "      <th>1278</th>\n",
              "      <td>ADR</td>\n",
              "      <td>Cataract</td>\n",
              "      <td>1</td>\n",
              "      <td>1</td>\n",
              "      <td>1233</td>\n",
              "    </tr>\n",
              "    <tr>\n",
              "      <th>1283</th>\n",
              "      <td>ADR</td>\n",
              "      <td>Crying_associated_with_mood</td>\n",
              "      <td>1</td>\n",
              "      <td>1</td>\n",
              "      <td>1233</td>\n",
              "    </tr>\n",
              "  </tbody>\n",
              "</table>\n",
              "<p>800 rows × 5 columns</p>\n",
              "</div>\n",
              "      <button class=\"colab-df-convert\" onclick=\"convertToInteractive('df-963691c3-160b-4d31-9b6d-97254851f133')\"\n",
              "              title=\"Convert this dataframe to an interactive table.\"\n",
              "              style=\"display:none;\">\n",
              "        \n",
              "  <svg xmlns=\"http://www.w3.org/2000/svg\" height=\"24px\"viewBox=\"0 0 24 24\"\n",
              "       width=\"24px\">\n",
              "    <path d=\"M0 0h24v24H0V0z\" fill=\"none\"/>\n",
              "    <path d=\"M18.56 5.44l.94 2.06.94-2.06 2.06-.94-2.06-.94-.94-2.06-.94 2.06-2.06.94zm-11 1L8.5 8.5l.94-2.06 2.06-.94-2.06-.94L8.5 2.5l-.94 2.06-2.06.94zm10 10l.94 2.06.94-2.06 2.06-.94-2.06-.94-.94-2.06-.94 2.06-2.06.94z\"/><path d=\"M17.41 7.96l-1.37-1.37c-.4-.4-.92-.59-1.43-.59-.52 0-1.04.2-1.43.59L10.3 9.45l-7.72 7.72c-.78.78-.78 2.05 0 2.83L4 21.41c.39.39.9.59 1.41.59.51 0 1.02-.2 1.41-.59l7.78-7.78 2.81-2.81c.8-.78.8-2.07 0-2.86zM5.41 20L4 18.59l7.72-7.72 1.47 1.35L5.41 20z\"/>\n",
              "  </svg>\n",
              "      </button>\n",
              "      \n",
              "  <style>\n",
              "    .colab-df-container {\n",
              "      display:flex;\n",
              "      flex-wrap:wrap;\n",
              "      gap: 12px;\n",
              "    }\n",
              "\n",
              "    .colab-df-convert {\n",
              "      background-color: #E8F0FE;\n",
              "      border: none;\n",
              "      border-radius: 50%;\n",
              "      cursor: pointer;\n",
              "      display: none;\n",
              "      fill: #1967D2;\n",
              "      height: 32px;\n",
              "      padding: 0 0 0 0;\n",
              "      width: 32px;\n",
              "    }\n",
              "\n",
              "    .colab-df-convert:hover {\n",
              "      background-color: #E2EBFA;\n",
              "      box-shadow: 0px 1px 2px rgba(60, 64, 67, 0.3), 0px 1px 3px 1px rgba(60, 64, 67, 0.15);\n",
              "      fill: #174EA6;\n",
              "    }\n",
              "\n",
              "    [theme=dark] .colab-df-convert {\n",
              "      background-color: #3B4455;\n",
              "      fill: #D2E3FC;\n",
              "    }\n",
              "\n",
              "    [theme=dark] .colab-df-convert:hover {\n",
              "      background-color: #434B5C;\n",
              "      box-shadow: 0px 1px 3px 1px rgba(0, 0, 0, 0.15);\n",
              "      filter: drop-shadow(0px 1px 2px rgba(0, 0, 0, 0.3));\n",
              "      fill: #FFFFFF;\n",
              "    }\n",
              "  </style>\n",
              "\n",
              "      <script>\n",
              "        const buttonEl =\n",
              "          document.querySelector('#df-963691c3-160b-4d31-9b6d-97254851f133 button.colab-df-convert');\n",
              "        buttonEl.style.display =\n",
              "          google.colab.kernel.accessAllowed ? 'block' : 'none';\n",
              "\n",
              "        async function convertToInteractive(key) {\n",
              "          const element = document.querySelector('#df-963691c3-160b-4d31-9b6d-97254851f133');\n",
              "          const dataTable =\n",
              "            await google.colab.kernel.invokeFunction('convertToInteractive',\n",
              "                                                     [key], {});\n",
              "          if (!dataTable) return;\n",
              "\n",
              "          const docLinkHtml = 'Like what you see? Visit the ' +\n",
              "            '<a target=\"_blank\" href=https://colab.research.google.com/notebooks/data_table.ipynb>data table notebook</a>'\n",
              "            + ' to learn more about interactive tables.';\n",
              "          element.innerHTML = '';\n",
              "          dataTable['output_type'] = 'display_data';\n",
              "          await google.colab.output.renderOutput(dataTable, element);\n",
              "          const docLink = document.createElement('div');\n",
              "          docLink.innerHTML = docLinkHtml;\n",
              "          element.appendChild(docLink);\n",
              "        }\n",
              "      </script>\n",
              "    </div>\n",
              "  </div>\n",
              "  "
            ]
          },
          "metadata": {},
          "execution_count": 7
        }
      ],
      "source": [
        "meddra_counts.loc[meddra_counts.ner == 'ADR',:]"
      ]
    },
    {
      "cell_type": "code",
      "execution_count": 8,
      "metadata": {
        "colab": {
          "base_uri": "https://localhost:8080/"
        },
        "id": "hAGPini7tGii",
        "outputId": "ba3ad5e9-abab-4ff4-8b44-cea6f9255708"
      },
      "outputs": [
        {
          "output_type": "execute_result",
          "data": {
            "text/plain": [
              "[Sentence[117]: \"i feel a bit drowsy & have a little blurred vision , so far no gastric problems . ive been on arthrotec 50 for over 10 years on and off , only taking it when i needed it . due to my arthritis getting progressively worse , to the point where i am in tears with the agony , gp ' s started me on 75 twice a day and i have to take it . every day for the next month to see how i get on , here goes . so far its been very good , pains almost gone , but i feel a bit weird , didnt have that when on 50 .\" → [\"i\"/O/O, \"feel\"/O/O, \"a\"/O/O, \"bit\"/B-ADR/B-Drowsy, \"drowsy\"/E-ADR/E-Drowsy, \"&\"/O/O, \"have\"/O/O, \"a\"/O/O, \"little\"/B-ADR/B-Blurred_vision_-_hazy, \"blurred\"/I-ADR/I-Blurred_vision_-_hazy, \"vision\"/E-ADR/E-Blurred_vision_-_hazy, \",\"/O/O, \"so\"/O/O, \"far\"/O/O, \"no\"/O/O, \"gastric\"/B-ADR/B-Excessive_upper_gastrointestinal_gas, \"problems\"/E-ADR/E-Excessive_upper_gastrointestinal_gas, \".\"/O/O, \"ive\"/O/O, \"been\"/O/O, \"on\"/O/O, \"arthrotec\"/S-Drug/S-Arthrotec, \"50\"/O/O, \"for\"/O/O, \"over\"/O/O, \"10\"/O/O, \"years\"/O/O, \"on\"/O/O, \"and\"/O/O, \"off\"/O/O, \",\"/O/O, \"only\"/O/O, \"taking\"/O/O, \"it\"/O/O, \"when\"/O/O, \"i\"/O/O, \"needed\"/O/O, \"it\"/O/O, \".\"/O/O, \"due\"/O/O, \"to\"/O/O, \"my\"/O/O, \"arthritis\"/S-Disease/S-Arthritis, \"getting\"/O/O, \"progressively\"/O/O, \"worse\"/O/O, \",\"/O/O, \"to\"/O/O, \"the\"/O/O, \"point\"/O/O, \"where\"/O/O, \"i\"/O/O, \"am\"/O/O, \"in\"/O/O, \"tears\"/O/O, \"with\"/O/O, \"the\"/O/O, \"agony\"/S-Symptom/S-Agony, \",\"/O/O, \"gp\"/O/O, \"'\"/O/O, \"s\"/O/O, \"started\"/O/O, \"me\"/O/O, \"on\"/O/O, \"75\"/O/O, \"twice\"/O/O, \"a\"/O/O, \"day\"/O/O, \"and\"/O/O, \"i\"/O/O, \"have\"/O/O, \"to\"/O/O, \"take\"/O/O, \"it\"/O/O, \".\"/O/O, \"every\"/O/O, \"day\"/O/O, \"for\"/O/O, \"the\"/O/O, \"next\"/O/O, \"month\"/O/O, \"to\"/O/O, \"see\"/O/O, \"how\"/O/O, \"i\"/O/O, \"get\"/O/O, \"on\"/O/O, \",\"/O/O, \"here\"/O/O, \"goes\"/O/O, \".\"/O/O, \"so\"/O/O, \"far\"/O/O, \"its\"/O/O, \"been\"/O/O, \"very\"/O/O, \"good\"/O/O, \",\"/O/O, \"pains\"/S-Symptom/S-Pain, \"almost\"/O/O, \"gone\"/O/O, \",\"/O/O, \"but\"/O/O, \"i\"/O/O, \"feel\"/B-ADR/B-Malaise, \"a\"/I-ADR/I-Malaise, \"bit\"/I-ADR/I-Malaise, \"weird\"/E-ADR/E-Malaise, \",\"/O/O, \"didnt\"/O/O, \"have\"/O/O, \"that\"/O/O, \"when\"/O/O, \"on\"/O/O, \"50\"/O/O, \".\"/O/O],\n",
              " Sentence[39]: \"hunger pangs . brilliant , i have a new lease of life , i walk up & down steps properly , no longer sideways like a toddler , hip pain as gone other than if i jar it .\" → [\"hunger\"/B-ADR/B-Hunger_pain, \"pangs\"/E-ADR/E-Hunger_pain, \".\"/O/O, \"brilliant\"/O/O, \",\"/O/O, \"i\"/O/O, \"have\"/O/O, \"a\"/O/O, \"new\"/O/O, \"lease\"/O/O, \"of\"/O/O, \"life\"/O/O, \",\"/O/O, \"i\"/O/O, \"walk\"/B-Symptom/B-CONCEPT_LESS, \"up\"/I-Symptom/I-CONCEPT_LESS, \"&\"/I-Symptom/I-CONCEPT_LESS, \"down\"/I-Symptom/I-CONCEPT_LESS, \"steps\"/I-Symptom/I-CONCEPT_LESS, \"properly\"/O/O, \",\"/O/O, \"no\"/O/O, \"longer\"/O/O, \"sideways\"/E-Symptom/E-CONCEPT_LESS, \"like\"/O/O, \"a\"/O/O, \"toddler\"/O/O, \",\"/O/O, \"hip\"/B-Symptom/B-Hip_pain, \"pain\"/E-Symptom/E-Hip_pain, \"as\"/O/O, \"gone\"/O/O, \"other\"/O/O, \"than\"/O/O, \"if\"/O/O, \"i\"/O/O, \"jar\"/O/O, \"it\"/O/O, \".\"/O/O],\n",
              " Sentence[51]: \"no side effects for the first two months . then vaginal bleeding 2 wks after menstral cycle . stomach pain . canker sores in my mouth . headache . been off for 1 week still have bleeding . helped my pain alot . too scared to take this drug again .\" → [\"no\"/O/O, \"side\"/O/O, \"effects\"/O/O, \"for\"/O/O, \"the\"/O/O, \"first\"/O/O, \"two\"/O/O, \"months\"/O/O, \".\"/O/O, \"then\"/O/O, \"vaginal\"/B-ADR/B-Vaginal_bleeding, \"bleeding\"/E-ADR/E-Vaginal_bleeding, \"2\"/O/O, \"wks\"/O/O, \"after\"/O/O, \"menstral\"/O/O, \"cycle\"/O/O, \".\"/O/O, \"stomach\"/B-ADR/B-Stomach_ache, \"pain\"/E-ADR/E-Stomach_ache, \".\"/O/O, \"canker\"/B-ADR/B-Aphthous_ulcer, \"sores\"/E-ADR/E-Aphthous_ulcer, \"in\"/O/O, \"my\"/O/O, \"mouth\"/O/O, \".\"/O/O, \"headache\"/S-ADR/S-Headache, \".\"/O/O, \"been\"/O/O, \"off\"/O/O, \"for\"/O/O, \"1\"/O/O, \"week\"/O/O, \"still\"/O/O, \"have\"/O/O, \"bleeding\"/O/O, \".\"/O/O, \"helped\"/O/O, \"my\"/O/O, \"pain\"/S-Symptom/S-Pain, \"alot\"/O/O, \".\"/O/O, \"too\"/O/O, \"scared\"/O/O, \"to\"/O/O, \"take\"/O/O, \"this\"/O/O, \"drug\"/O/O, \"again\"/O/O, \".\"/O/O],\n",
              " Sentence[68]: \"1st pill taken with food , a few hours after i experienced shortness of breath , a sense of depression , cramping , upset stomache will stop taking immediately . honestly can not recommend this drug , i am still experiencing side effects just after 1 pill and im supposed to take twice / day 75mg . i just cant keep going have to try something else .\" → [\"1st\"/O/O, \"pill\"/O/O, \"taken\"/O/O, \"with\"/O/O, \"food\"/O/O, \",\"/O/O, \"a\"/O/O, \"few\"/O/O, \"hours\"/O/O, \"after\"/O/O, \"i\"/O/O, \"experienced\"/O/O, \"shortness\"/B-ADR/B-Dyspnoea, \"of\"/I-ADR/I-Dyspnoea, \"breath\"/E-ADR/E-Dyspnoea, \",\"/O/O, \"a\"/O/O, \"sense\"/O/O, \"of\"/O/O, \"depression\"/S-ADR/S-Depression, \",\"/O/O, \"cramping\"/S-ADR/S-Muscle_cramp, \",\"/O/O, \"upset\"/B-ADR/B-Upset_stomach, \"stomache\"/E-ADR/E-Upset_stomach, \"will\"/O/O, \"stop\"/O/O, \"taking\"/O/O, \"immediately\"/O/O, \".\"/O/O, \"honestly\"/O/O, \"can\"/O/O, \"not\"/O/O, \"recommend\"/O/O, \"this\"/O/O, \"drug\"/O/O, \",\"/O/O, \"i\"/O/O, \"am\"/O/O, \"still\"/O/O, \"experiencing\"/O/O, \"side\"/O/O, \"effects\"/O/O, \"just\"/O/O, \"after\"/O/O, \"1\"/O/O, \"pill\"/O/O, \"and\"/O/O, \"im\"/O/O, \"supposed\"/O/O, \"to\"/O/O, \"take\"/O/O, \"twice\"/O/O, \"/\"/O/O, \"day\"/O/O, \"75mg\"/O/O, \".\"/O/O, \"i\"/O/O, \"just\"/O/O, \"cant\"/O/O, \"keep\"/O/O, \"going\"/O/O, \"have\"/O/O, \"to\"/O/O, \"try\"/O/O, \"something\"/O/O, \"else\"/O/O, \".\"/O/O],\n",
              " Sentence[50]: \"i have had no side effects been taking arthrotec a little over a year , have not noticed any side effects . it does help alot i noticed that when there are times when i forget to take it i cant stand or walk for any lengths of time .\" → [\"i\"/O/O, \"have\"/O/O, \"had\"/O/O, \"no\"/O/O, \"side\"/O/O, \"effects\"/O/O, \"been\"/O/O, \"taking\"/O/O, \"arthrotec\"/S-Drug/S-Arthrotec, \"a\"/O/O, \"little\"/O/O, \"over\"/O/O, \"a\"/O/O, \"year\"/O/O, \",\"/O/O, \"have\"/O/O, \"not\"/O/O, \"noticed\"/O/O, \"any\"/O/O, \"side\"/O/O, \"effects\"/O/O, \".\"/O/O, \"it\"/O/O, \"does\"/O/O, \"help\"/O/O, \"alot\"/O/O, \"i\"/O/O, \"noticed\"/O/O, \"that\"/O/O, \"when\"/O/O, \"there\"/O/O, \"are\"/O/O, \"times\"/O/O, \"when\"/O/O, \"i\"/O/O, \"forget\"/O/O, \"to\"/O/O, \"take\"/O/O, \"it\"/O/O, \"i\"/B-Symptom/B-Reduced_mobility, \"cant\"/I-Symptom/I-Reduced_mobility, \"stand\"/I-Symptom/I-Reduced_mobility, \"or\"/I-Symptom/I-Reduced_mobility, \"walk\"/I-Symptom/I-Reduced_mobility, \"for\"/I-Symptom/I-Reduced_mobility, \"any\"/I-Symptom/I-Reduced_mobility, \"lengths\"/I-Symptom/I-Reduced_mobility, \"of\"/I-Symptom/I-Reduced_mobility, \"time\"/E-Symptom/E-Reduced_mobility, \".\"/O/O],\n",
              " Sentence[89]: \"it seems as if bleeding forever is a side effect but doctors tell you that its not the drug . i have been on arthotec for three months i still have pain and stiffness . at first week into this drug i was in so much pain i sat on the floor at work and thought i was gaving a baby . i always feel weak and almost fainted a bunch of times . consider somthing that works i am switching today as this isnt in my head .\" → [\"it\"/O/O, \"seems\"/O/O, \"as\"/O/O, \"if\"/O/O, \"bleeding\"/S-ADR/S-Bleeding, \"forever\"/O/O, \"is\"/O/O, \"a\"/O/O, \"side\"/O/O, \"effect\"/O/O, \"but\"/O/O, \"doctors\"/O/O, \"tell\"/O/O, \"you\"/O/O, \"that\"/O/O, \"its\"/O/O, \"not\"/O/O, \"the\"/O/O, \"drug\"/O/O, \".\"/O/O, \"i\"/O/O, \"have\"/O/O, \"been\"/O/O, \"on\"/O/O, \"arthotec\"/S-Drug/S-Arthrotec, \"for\"/O/O, \"three\"/O/O, \"months\"/O/O, \"i\"/O/O, \"still\"/O/O, \"have\"/O/O, \"pain\"/B-Symptom/B-Pain, \"and\"/I-Symptom/I-Pain, \"stiffness\"/E-Symptom/E-Pain, \".\"/O/O, \"at\"/O/O, \"first\"/O/O, \"week\"/O/O, \"into\"/O/O, \"this\"/O/O, \"drug\"/O/O, \"i\"/O/O, \"was\"/O/O, \"in\"/O/O, \"so\"/B-ADR/B-Pain, \"much\"/I-ADR/I-Pain, \"pain\"/E-ADR/E-Pain, \"i\"/O/O, \"sat\"/O/O, \"on\"/O/O, \"the\"/O/O, \"floor\"/O/O, \"at\"/O/O, \"work\"/O/O, \"and\"/O/O, \"thought\"/O/O, \"i\"/O/O, \"was\"/O/O, \"gaving\"/O/O, \"a\"/O/O, \"baby\"/O/O, \".\"/O/O, \"i\"/O/O, \"always\"/O/O, \"feel\"/B-ADR/B-Malaise_and_fatigue, \"weak\"/I-ADR/I-Malaise_and_fatigue, \"and\"/I-ADR/I-Malaise_and_fatigue, \"almost\"/I-ADR/I-Malaise_and_fatigue, \"fainted\"/E-ADR/E-Malaise_and_fatigue, \"a\"/O/O, \"bunch\"/O/O, \"of\"/O/O, \"times\"/O/O, \".\"/O/O, \"consider\"/O/O, \"somthing\"/O/O, \"that\"/O/O, \"works\"/O/O, \"i\"/O/O, \"am\"/O/O, \"switching\"/O/O, \"today\"/O/O, \"as\"/O/O, \"this\"/O/O, \"isnt\"/O/O, \"in\"/O/O, \"my\"/O/O, \"head\"/O/O, \".\"/O/O],\n",
              " Sentence[56]: \"some diarrhea , some constipation , fatigue . it works very well for the heel ; i couldnt walk on it very well before taking it . i take 75mg . twice a day . also have severe osteoarthritis in the knees and hands , but it doesnt seem to relieve that pain at all .\" → [\"some\"/O/O, \"diarrhea\"/S-ADR/S-Diarrhoea, \",\"/O/O, \"some\"/O/O, \"constipation\"/S-ADR/S-Constipation, \",\"/O/O, \"fatigue\"/S-ADR/S-Fatigue, \".\"/O/O, \"it\"/O/O, \"works\"/O/O, \"very\"/O/O, \"well\"/O/O, \"for\"/O/O, \"the\"/B-Symptom/B-Walking_disability, \"heel\"/I-Symptom/I-Walking_disability, \";\"/O/O, \"i\"/I-Symptom/I-Walking_disability, \"couldnt\"/I-Symptom/I-Walking_disability, \"walk\"/I-Symptom/I-Walking_disability, \"on\"/I-Symptom/I-Walking_disability, \"it\"/O/O, \"very\"/I-Symptom/I-Walking_disability, \"well\"/E-Symptom/E-Walking_disability, \"before\"/O/O, \"taking\"/O/O, \"it\"/O/O, \".\"/O/O, \"i\"/O/O, \"take\"/O/O, \"75mg\"/O/O, \".\"/O/O, \"twice\"/O/O, \"a\"/O/O, \"day\"/O/O, \".\"/O/O, \"also\"/O/O, \"have\"/O/O, \"severe\"/B-Disease/B-Osteoarthritis_of_knee/B-Osteoarthrosis_of_hand, \"osteoarthritis\"/I-Disease/I-Osteoarthritis_of_knee/I-Osteoarthrosis_of_hand, \"in\"/I-Disease/I-Osteoarthritis_of_knee/I-Osteoarthrosis_of_hand, \"the\"/I-Disease/I-Osteoarthritis_of_knee/I-Osteoarthrosis_of_hand, \"knees\"/E-Disease/E-Osteoarthritis_of_knee, \"and\"/O/O, \"hands\"/E-Disease/E-Osteoarthrosis_of_hand, \",\"/O/O, \"but\"/O/O, \"it\"/O/O, \"doesnt\"/O/O, \"seem\"/O/O, \"to\"/O/O, \"relieve\"/O/O, \"that\"/O/O, \"pain\"/S-Symptom/S-Pain, \"at\"/O/O, \"all\"/O/O, \".\"/O/O],\n",
              " Sentence[84]: \"ive been on 75mg twice daily for 13 days , with recent body swelling , face , wrists , abdomen , thighs - clothes fit tight . insomina is much worse . i have forgetfulnes and confussion - really bad - almost dangerous . have felt \" empty stomach \" feeling , but not bothersome . have had more loose stools , but tolerable . im looking for a more natural therapy , checking into ha ( hyaluronic acid ) to replace arthrotec .\" → [\"ive\"/O/O, \"been\"/O/O, \"on\"/O/O, \"75mg\"/O/O, \"twice\"/O/O, \"daily\"/O/O, \"for\"/O/O, \"13\"/O/O, \"days\"/O/O, \",\"/O/O, \"with\"/O/O, \"recent\"/O/O, \"body\"/B-ADR/B-Swelling_of_body_region, \"swelling\"/B-ADR/E-ADR/B-Abdominal_swelling/B-Facial_swelling/E-Swelling_of_body_region/B-Swelling_of_lower_limb/B-Swelling_of_wrist_joint, \",\"/O/O, \"face\"/E-ADR/E-Facial_swelling, \",\"/O/O, \"wrists\"/E-ADR/E-Swelling_of_wrist_joint, \",\"/O/O, \"abdomen\"/E-ADR/E-Abdominal_swelling, \",\"/O/O, \"thighs\"/E-ADR/E-Swelling_of_lower_limb, \"-\"/O/O, \"clothes\"/O/O, \"fit\"/O/O, \"tight\"/O/O, \".\"/O/O, \"insomina\"/S-ADR/S-Insomnia, \"is\"/O/O, \"much\"/O/O, \"worse\"/O/O, \".\"/O/O, \"i\"/O/O, \"have\"/O/O, \"forgetfulnes\"/B-ADR/B-Forgetful, \"and\"/I-ADR/I-Forgetful, \"confussion\"/E-ADR/E-Forgetful, \"-\"/O/O, \"really\"/O/O, \"bad\"/O/O, \"-\"/O/O, \"almost\"/O/O, \"dangerous\"/O/O, \".\"/O/O, \"have\"/O/O, \"felt\"/O/O, \"\"\"/B-ADR/B-Feeling_empty, \"empty\"/I-ADR/I-Feeling_empty, \"stomach\"/I-ADR/I-Feeling_empty, \"\"\"/I-ADR/I-Feeling_empty, \"feeling\"/E-ADR/E-Feeling_empty, \",\"/O/O, \"but\"/O/O, \"not\"/O/O, \"bothersome\"/O/O, \".\"/O/O, \"have\"/O/O, \"had\"/O/O, \"more\"/O/O, \"loose\"/B-ADR/B-Loose_stool, \"stools\"/E-ADR/E-Loose_stool, \",\"/O/O, \"but\"/O/O, \"tolerable\"/O/O, \".\"/O/O, \"im\"/O/O, \"looking\"/O/O, \"for\"/O/O, \"a\"/O/O, \"more\"/O/O, \"natural\"/O/O, \"therapy\"/O/O, \",\"/O/O, \"checking\"/O/O, \"into\"/O/O, \"ha\"/B-Drug/B-CONCEPT_LESS, \"(\"/I-Drug/I-CONCEPT_LESS, \"hyaluronic\"/I-Drug/I-CONCEPT_LESS, \"acid\"/I-Drug/I-CONCEPT_LESS, \")\"/E-Drug/E-CONCEPT_LESS, \"to\"/O/O, \"replace\"/O/O, \"arthrotec\"/S-Drug/S-Arthrotec, \".\"/O/O],\n",
              " Sentence[68]: \"none that i can think of . i recently had bilateral knee replacement . prior to that , arthrotec was the only drug that helped . i tried every drug on the market , but , to no avail . i took 50 mg . 3 times a day of arthrotec and was almost pain free . i highly recommend it to anyone that suffers from arthritis .\" → [\"none\"/O/O, \"that\"/O/O, \"i\"/O/O, \"can\"/O/O, \"think\"/O/O, \"of\"/O/O, \".\"/O/O, \"i\"/O/O, \"recently\"/O/O, \"had\"/O/O, \"bilateral\"/O/O, \"knee\"/O/O, \"replacement\"/O/O, \".\"/O/O, \"prior\"/O/O, \"to\"/O/O, \"that\"/O/O, \",\"/O/O, \"arthrotec\"/S-Drug/S-Arthrotec, \"was\"/O/O, \"the\"/O/O, \"only\"/O/O, \"drug\"/O/O, \"that\"/O/O, \"helped\"/O/O, \".\"/O/O, \"i\"/O/O, \"tried\"/O/O, \"every\"/O/O, \"drug\"/O/O, \"on\"/O/O, \"the\"/O/O, \"market\"/O/O, \",\"/O/O, \"but\"/O/O, \",\"/O/O, \"to\"/O/O, \"no\"/O/O, \"avail\"/O/O, \".\"/O/O, \"i\"/O/O, \"took\"/O/O, \"50\"/O/O, \"mg\"/O/O, \".\"/O/O, \"3\"/O/O, \"times\"/O/O, \"a\"/O/O, \"day\"/O/O, \"of\"/O/O, \"arthrotec\"/S-Drug/S-Arthrotec, \"and\"/O/O, \"was\"/O/O, \"almost\"/O/O, \"pain\"/S-Symptom/S-Pain, \"free\"/O/O, \".\"/O/O, \"i\"/O/O, \"highly\"/O/O, \"recommend\"/O/O, \"it\"/O/O, \"to\"/O/O, \"anyone\"/O/O, \"that\"/O/O, \"suffers\"/O/O, \"from\"/O/O, \"arthritis\"/S-Finding/S-Arthritis, \".\"/O/O],\n",
              " Sentence[28]: \"hospitalization due extreme rectal bleed that required blood transfusion . i was extremely sick and initially felt i might not survive . should be removed from market .\" → [\"hospitalization\"/O/O, \"due\"/O/O, \"extreme\"/O/O, \"rectal\"/B-ADR/B-Rectal_haemorrhage, \"bleed\"/E-ADR/E-Rectal_haemorrhage, \"that\"/O/O, \"required\"/O/O, \"blood\"/O/O, \"transfusion\"/O/O, \".\"/O/O, \"i\"/O/O, \"was\"/O/O, \"extremely\"/B-ADR/B-Generally_unwell, \"sick\"/E-ADR/E-Generally_unwell, \"and\"/O/O, \"initially\"/O/O, \"felt\"/B-ADR/B-CONCEPT_LESS, \"i\"/I-ADR/I-CONCEPT_LESS, \"might\"/I-ADR/I-CONCEPT_LESS, \"not\"/I-ADR/I-CONCEPT_LESS, \"survive\"/E-ADR/E-CONCEPT_LESS, \".\"/O/O, \"should\"/O/O, \"be\"/O/O, \"removed\"/O/O, \"from\"/O/O, \"market\"/O/O, \".\"/O/O]]"
            ]
          },
          "metadata": {},
          "execution_count": 8
        }
      ],
      "source": [
        "with open(data_save_dir+'/cadec_flair_objects.pkl', 'rb') as f:\n",
        "    docs = pickle.load(f)\n",
        "docs[:10]"
      ]
    },
    {
      "cell_type": "code",
      "execution_count": 9,
      "metadata": {
        "colab": {
          "base_uri": "https://localhost:8080/"
        },
        "id": "sW10pPAPtGij",
        "outputId": "784bb1cf-1d16-4c99-acc3-01a6d2a9357e"
      },
      "outputs": [
        {
          "output_type": "execute_result",
          "data": {
            "text/plain": [
              "1186"
            ]
          },
          "metadata": {},
          "execution_count": 9
        }
      ],
      "source": [
        "len(docs)"
      ]
    },
    {
      "cell_type": "code",
      "execution_count": 10,
      "metadata": {
        "colab": {
          "base_uri": "https://localhost:8080/"
        },
        "id": "EMT5TsNStGij",
        "outputId": "fd57c767-128c-483f-f0fa-0337524eff49"
      },
      "outputs": [
        {
          "output_type": "execute_result",
          "data": {
            "text/plain": [
              "Sentence[117]: \"i feel a bit drowsy & have a little blurred vision , so far no gastric problems . ive been on arthrotec 50 for over 10 years on and off , only taking it when i needed it . due to my arthritis getting progressively worse , to the point where i am in tears with the agony , gp ' s started me on 75 twice a day and i have to take it . every day for the next month to see how i get on , here goes . so far its been very good , pains almost gone , but i feel a bit weird , didnt have that when on 50 .\" → [\"i\"/O/O, \"feel\"/O/O, \"a\"/O/O, \"bit\"/B-ADR/B-Drowsy, \"drowsy\"/E-ADR/E-Drowsy, \"&\"/O/O, \"have\"/O/O, \"a\"/O/O, \"little\"/B-ADR/B-Blurred_vision_-_hazy, \"blurred\"/I-ADR/I-Blurred_vision_-_hazy, \"vision\"/E-ADR/E-Blurred_vision_-_hazy, \",\"/O/O, \"so\"/O/O, \"far\"/O/O, \"no\"/O/O, \"gastric\"/B-ADR/B-Excessive_upper_gastrointestinal_gas, \"problems\"/E-ADR/E-Excessive_upper_gastrointestinal_gas, \".\"/O/O, \"ive\"/O/O, \"been\"/O/O, \"on\"/O/O, \"arthrotec\"/S-Drug/S-Arthrotec, \"50\"/O/O, \"for\"/O/O, \"over\"/O/O, \"10\"/O/O, \"years\"/O/O, \"on\"/O/O, \"and\"/O/O, \"off\"/O/O, \",\"/O/O, \"only\"/O/O, \"taking\"/O/O, \"it\"/O/O, \"when\"/O/O, \"i\"/O/O, \"needed\"/O/O, \"it\"/O/O, \".\"/O/O, \"due\"/O/O, \"to\"/O/O, \"my\"/O/O, \"arthritis\"/S-Disease/S-Arthritis, \"getting\"/O/O, \"progressively\"/O/O, \"worse\"/O/O, \",\"/O/O, \"to\"/O/O, \"the\"/O/O, \"point\"/O/O, \"where\"/O/O, \"i\"/O/O, \"am\"/O/O, \"in\"/O/O, \"tears\"/O/O, \"with\"/O/O, \"the\"/O/O, \"agony\"/S-Symptom/S-Agony, \",\"/O/O, \"gp\"/O/O, \"'\"/O/O, \"s\"/O/O, \"started\"/O/O, \"me\"/O/O, \"on\"/O/O, \"75\"/O/O, \"twice\"/O/O, \"a\"/O/O, \"day\"/O/O, \"and\"/O/O, \"i\"/O/O, \"have\"/O/O, \"to\"/O/O, \"take\"/O/O, \"it\"/O/O, \".\"/O/O, \"every\"/O/O, \"day\"/O/O, \"for\"/O/O, \"the\"/O/O, \"next\"/O/O, \"month\"/O/O, \"to\"/O/O, \"see\"/O/O, \"how\"/O/O, \"i\"/O/O, \"get\"/O/O, \"on\"/O/O, \",\"/O/O, \"here\"/O/O, \"goes\"/O/O, \".\"/O/O, \"so\"/O/O, \"far\"/O/O, \"its\"/O/O, \"been\"/O/O, \"very\"/O/O, \"good\"/O/O, \",\"/O/O, \"pains\"/S-Symptom/S-Pain, \"almost\"/O/O, \"gone\"/O/O, \",\"/O/O, \"but\"/O/O, \"i\"/O/O, \"feel\"/B-ADR/B-Malaise, \"a\"/I-ADR/I-Malaise, \"bit\"/I-ADR/I-Malaise, \"weird\"/E-ADR/E-Malaise, \",\"/O/O, \"didnt\"/O/O, \"have\"/O/O, \"that\"/O/O, \"when\"/O/O, \"on\"/O/O, \"50\"/O/O, \".\"/O/O]"
            ]
          },
          "metadata": {},
          "execution_count": 10
        }
      ],
      "source": [
        "temp = docs[0]\n",
        "temp"
      ]
    },
    {
      "cell_type": "code",
      "execution_count": 11,
      "metadata": {
        "colab": {
          "base_uri": "https://localhost:8080/"
        },
        "id": "2EeTdfHstGij",
        "outputId": "2a1fc2b5-979c-4aec-87aa-5e3be68d90d7"
      },
      "outputs": [
        {
          "output_type": "execute_result",
          "data": {
            "text/plain": [
              "{'ner': ['Token[0]: \"i\"'/'O' (1.0),\n",
              "  'Token[1]: \"feel\"'/'O' (1.0),\n",
              "  'Token[2]: \"a\"'/'O' (1.0),\n",
              "  'Token[3]: \"bit\"'/'B-ADR' (1.0),\n",
              "  'Token[4]: \"drowsy\"'/'E-ADR' (1.0),\n",
              "  'Token[5]: \"&\"'/'O' (1.0),\n",
              "  'Token[6]: \"have\"'/'O' (1.0),\n",
              "  'Token[7]: \"a\"'/'O' (1.0),\n",
              "  'Token[8]: \"little\"'/'B-ADR' (1.0),\n",
              "  'Token[9]: \"blurred\"'/'I-ADR' (1.0),\n",
              "  'Token[10]: \"vision\"'/'E-ADR' (1.0),\n",
              "  'Token[11]: \",\"'/'O' (1.0),\n",
              "  'Token[12]: \"so\"'/'O' (1.0),\n",
              "  'Token[13]: \"far\"'/'O' (1.0),\n",
              "  'Token[14]: \"no\"'/'O' (1.0),\n",
              "  'Token[15]: \"gastric\"'/'B-ADR' (1.0),\n",
              "  'Token[16]: \"problems\"'/'E-ADR' (1.0),\n",
              "  'Token[17]: \".\"'/'O' (1.0),\n",
              "  'Token[18]: \"ive\"'/'O' (1.0),\n",
              "  'Token[19]: \"been\"'/'O' (1.0),\n",
              "  'Token[20]: \"on\"'/'O' (1.0),\n",
              "  'Token[21]: \"arthrotec\"'/'S-Drug' (1.0),\n",
              "  'Token[22]: \"50\"'/'O' (1.0),\n",
              "  'Token[23]: \"for\"'/'O' (1.0),\n",
              "  'Token[24]: \"over\"'/'O' (1.0),\n",
              "  'Token[25]: \"10\"'/'O' (1.0),\n",
              "  'Token[26]: \"years\"'/'O' (1.0),\n",
              "  'Token[27]: \"on\"'/'O' (1.0),\n",
              "  'Token[28]: \"and\"'/'O' (1.0),\n",
              "  'Token[29]: \"off\"'/'O' (1.0),\n",
              "  'Token[30]: \",\"'/'O' (1.0),\n",
              "  'Token[31]: \"only\"'/'O' (1.0),\n",
              "  'Token[32]: \"taking\"'/'O' (1.0),\n",
              "  'Token[33]: \"it\"'/'O' (1.0),\n",
              "  'Token[34]: \"when\"'/'O' (1.0),\n",
              "  'Token[35]: \"i\"'/'O' (1.0),\n",
              "  'Token[36]: \"needed\"'/'O' (1.0),\n",
              "  'Token[37]: \"it\"'/'O' (1.0),\n",
              "  'Token[38]: \".\"'/'O' (1.0),\n",
              "  'Token[39]: \"due\"'/'O' (1.0),\n",
              "  'Token[40]: \"to\"'/'O' (1.0),\n",
              "  'Token[41]: \"my\"'/'O' (1.0),\n",
              "  'Token[42]: \"arthritis\"'/'S-Disease' (1.0),\n",
              "  'Token[43]: \"getting\"'/'O' (1.0),\n",
              "  'Token[44]: \"progressively\"'/'O' (1.0),\n",
              "  'Token[45]: \"worse\"'/'O' (1.0),\n",
              "  'Token[46]: \",\"'/'O' (1.0),\n",
              "  'Token[47]: \"to\"'/'O' (1.0),\n",
              "  'Token[48]: \"the\"'/'O' (1.0),\n",
              "  'Token[49]: \"point\"'/'O' (1.0),\n",
              "  'Token[50]: \"where\"'/'O' (1.0),\n",
              "  'Token[51]: \"i\"'/'O' (1.0),\n",
              "  'Token[52]: \"am\"'/'O' (1.0),\n",
              "  'Token[53]: \"in\"'/'O' (1.0),\n",
              "  'Token[54]: \"tears\"'/'O' (1.0),\n",
              "  'Token[55]: \"with\"'/'O' (1.0),\n",
              "  'Token[56]: \"the\"'/'O' (1.0),\n",
              "  'Token[57]: \"agony\"'/'S-Symptom' (1.0),\n",
              "  'Token[58]: \",\"'/'O' (1.0),\n",
              "  'Token[59]: \"gp\"'/'O' (1.0),\n",
              "  'Token[60]: \"'\"'/'O' (1.0),\n",
              "  'Token[61]: \"s\"'/'O' (1.0),\n",
              "  'Token[62]: \"started\"'/'O' (1.0),\n",
              "  'Token[63]: \"me\"'/'O' (1.0),\n",
              "  'Token[64]: \"on\"'/'O' (1.0),\n",
              "  'Token[65]: \"75\"'/'O' (1.0),\n",
              "  'Token[66]: \"twice\"'/'O' (1.0),\n",
              "  'Token[67]: \"a\"'/'O' (1.0),\n",
              "  'Token[68]: \"day\"'/'O' (1.0),\n",
              "  'Token[69]: \"and\"'/'O' (1.0),\n",
              "  'Token[70]: \"i\"'/'O' (1.0),\n",
              "  'Token[71]: \"have\"'/'O' (1.0),\n",
              "  'Token[72]: \"to\"'/'O' (1.0),\n",
              "  'Token[73]: \"take\"'/'O' (1.0),\n",
              "  'Token[74]: \"it\"'/'O' (1.0),\n",
              "  'Token[75]: \".\"'/'O' (1.0),\n",
              "  'Token[76]: \"every\"'/'O' (1.0),\n",
              "  'Token[77]: \"day\"'/'O' (1.0),\n",
              "  'Token[78]: \"for\"'/'O' (1.0),\n",
              "  'Token[79]: \"the\"'/'O' (1.0),\n",
              "  'Token[80]: \"next\"'/'O' (1.0),\n",
              "  'Token[81]: \"month\"'/'O' (1.0),\n",
              "  'Token[82]: \"to\"'/'O' (1.0),\n",
              "  'Token[83]: \"see\"'/'O' (1.0),\n",
              "  'Token[84]: \"how\"'/'O' (1.0),\n",
              "  'Token[85]: \"i\"'/'O' (1.0),\n",
              "  'Token[86]: \"get\"'/'O' (1.0),\n",
              "  'Token[87]: \"on\"'/'O' (1.0),\n",
              "  'Token[88]: \",\"'/'O' (1.0),\n",
              "  'Token[89]: \"here\"'/'O' (1.0),\n",
              "  'Token[90]: \"goes\"'/'O' (1.0),\n",
              "  'Token[91]: \".\"'/'O' (1.0),\n",
              "  'Token[92]: \"so\"'/'O' (1.0),\n",
              "  'Token[93]: \"far\"'/'O' (1.0),\n",
              "  'Token[94]: \"its\"'/'O' (1.0),\n",
              "  'Token[95]: \"been\"'/'O' (1.0),\n",
              "  'Token[96]: \"very\"'/'O' (1.0),\n",
              "  'Token[97]: \"good\"'/'O' (1.0),\n",
              "  'Token[98]: \",\"'/'O' (1.0),\n",
              "  'Token[99]: \"pains\"'/'S-Symptom' (1.0),\n",
              "  'Token[100]: \"almost\"'/'O' (1.0),\n",
              "  'Token[101]: \"gone\"'/'O' (1.0),\n",
              "  'Token[102]: \",\"'/'O' (1.0),\n",
              "  'Token[103]: \"but\"'/'O' (1.0),\n",
              "  'Token[104]: \"i\"'/'O' (1.0),\n",
              "  'Token[105]: \"feel\"'/'B-ADR' (1.0),\n",
              "  'Token[106]: \"a\"'/'I-ADR' (1.0),\n",
              "  'Token[107]: \"bit\"'/'I-ADR' (1.0),\n",
              "  'Token[108]: \"weird\"'/'E-ADR' (1.0),\n",
              "  'Token[109]: \",\"'/'O' (1.0),\n",
              "  'Token[110]: \"didnt\"'/'O' (1.0),\n",
              "  'Token[111]: \"have\"'/'O' (1.0),\n",
              "  'Token[112]: \"that\"'/'O' (1.0),\n",
              "  'Token[113]: \"when\"'/'O' (1.0),\n",
              "  'Token[114]: \"on\"'/'O' (1.0),\n",
              "  'Token[115]: \"50\"'/'O' (1.0),\n",
              "  'Token[116]: \".\"'/'O' (1.0)],\n",
              " 'meddra': ['Token[0]: \"i\"'/'O' (1.0),\n",
              "  'Token[1]: \"feel\"'/'O' (1.0),\n",
              "  'Token[2]: \"a\"'/'O' (1.0),\n",
              "  'Token[3]: \"bit\"'/'B-Drowsy' (1.0),\n",
              "  'Token[4]: \"drowsy\"'/'E-Drowsy' (1.0),\n",
              "  'Token[5]: \"&\"'/'O' (1.0),\n",
              "  'Token[6]: \"have\"'/'O' (1.0),\n",
              "  'Token[7]: \"a\"'/'O' (1.0),\n",
              "  'Token[8]: \"little\"'/'B-Blurred_vision_-_hazy' (1.0),\n",
              "  'Token[9]: \"blurred\"'/'I-Blurred_vision_-_hazy' (1.0),\n",
              "  'Token[10]: \"vision\"'/'E-Blurred_vision_-_hazy' (1.0),\n",
              "  'Token[11]: \",\"'/'O' (1.0),\n",
              "  'Token[12]: \"so\"'/'O' (1.0),\n",
              "  'Token[13]: \"far\"'/'O' (1.0),\n",
              "  'Token[14]: \"no\"'/'O' (1.0),\n",
              "  'Token[15]: \"gastric\"'/'B-Excessive_upper_gastrointestinal_gas' (1.0),\n",
              "  'Token[16]: \"problems\"'/'E-Excessive_upper_gastrointestinal_gas' (1.0),\n",
              "  'Token[17]: \".\"'/'O' (1.0),\n",
              "  'Token[18]: \"ive\"'/'O' (1.0),\n",
              "  'Token[19]: \"been\"'/'O' (1.0),\n",
              "  'Token[20]: \"on\"'/'O' (1.0),\n",
              "  'Token[21]: \"arthrotec\"'/'S-Arthrotec' (1.0),\n",
              "  'Token[22]: \"50\"'/'O' (1.0),\n",
              "  'Token[23]: \"for\"'/'O' (1.0),\n",
              "  'Token[24]: \"over\"'/'O' (1.0),\n",
              "  'Token[25]: \"10\"'/'O' (1.0),\n",
              "  'Token[26]: \"years\"'/'O' (1.0),\n",
              "  'Token[27]: \"on\"'/'O' (1.0),\n",
              "  'Token[28]: \"and\"'/'O' (1.0),\n",
              "  'Token[29]: \"off\"'/'O' (1.0),\n",
              "  'Token[30]: \",\"'/'O' (1.0),\n",
              "  'Token[31]: \"only\"'/'O' (1.0),\n",
              "  'Token[32]: \"taking\"'/'O' (1.0),\n",
              "  'Token[33]: \"it\"'/'O' (1.0),\n",
              "  'Token[34]: \"when\"'/'O' (1.0),\n",
              "  'Token[35]: \"i\"'/'O' (1.0),\n",
              "  'Token[36]: \"needed\"'/'O' (1.0),\n",
              "  'Token[37]: \"it\"'/'O' (1.0),\n",
              "  'Token[38]: \".\"'/'O' (1.0),\n",
              "  'Token[39]: \"due\"'/'O' (1.0),\n",
              "  'Token[40]: \"to\"'/'O' (1.0),\n",
              "  'Token[41]: \"my\"'/'O' (1.0),\n",
              "  'Token[42]: \"arthritis\"'/'S-Arthritis' (1.0),\n",
              "  'Token[43]: \"getting\"'/'O' (1.0),\n",
              "  'Token[44]: \"progressively\"'/'O' (1.0),\n",
              "  'Token[45]: \"worse\"'/'O' (1.0),\n",
              "  'Token[46]: \",\"'/'O' (1.0),\n",
              "  'Token[47]: \"to\"'/'O' (1.0),\n",
              "  'Token[48]: \"the\"'/'O' (1.0),\n",
              "  'Token[49]: \"point\"'/'O' (1.0),\n",
              "  'Token[50]: \"where\"'/'O' (1.0),\n",
              "  'Token[51]: \"i\"'/'O' (1.0),\n",
              "  'Token[52]: \"am\"'/'O' (1.0),\n",
              "  'Token[53]: \"in\"'/'O' (1.0),\n",
              "  'Token[54]: \"tears\"'/'O' (1.0),\n",
              "  'Token[55]: \"with\"'/'O' (1.0),\n",
              "  'Token[56]: \"the\"'/'O' (1.0),\n",
              "  'Token[57]: \"agony\"'/'S-Agony' (1.0),\n",
              "  'Token[58]: \",\"'/'O' (1.0),\n",
              "  'Token[59]: \"gp\"'/'O' (1.0),\n",
              "  'Token[60]: \"'\"'/'O' (1.0),\n",
              "  'Token[61]: \"s\"'/'O' (1.0),\n",
              "  'Token[62]: \"started\"'/'O' (1.0),\n",
              "  'Token[63]: \"me\"'/'O' (1.0),\n",
              "  'Token[64]: \"on\"'/'O' (1.0),\n",
              "  'Token[65]: \"75\"'/'O' (1.0),\n",
              "  'Token[66]: \"twice\"'/'O' (1.0),\n",
              "  'Token[67]: \"a\"'/'O' (1.0),\n",
              "  'Token[68]: \"day\"'/'O' (1.0),\n",
              "  'Token[69]: \"and\"'/'O' (1.0),\n",
              "  'Token[70]: \"i\"'/'O' (1.0),\n",
              "  'Token[71]: \"have\"'/'O' (1.0),\n",
              "  'Token[72]: \"to\"'/'O' (1.0),\n",
              "  'Token[73]: \"take\"'/'O' (1.0),\n",
              "  'Token[74]: \"it\"'/'O' (1.0),\n",
              "  'Token[75]: \".\"'/'O' (1.0),\n",
              "  'Token[76]: \"every\"'/'O' (1.0),\n",
              "  'Token[77]: \"day\"'/'O' (1.0),\n",
              "  'Token[78]: \"for\"'/'O' (1.0),\n",
              "  'Token[79]: \"the\"'/'O' (1.0),\n",
              "  'Token[80]: \"next\"'/'O' (1.0),\n",
              "  'Token[81]: \"month\"'/'O' (1.0),\n",
              "  'Token[82]: \"to\"'/'O' (1.0),\n",
              "  'Token[83]: \"see\"'/'O' (1.0),\n",
              "  'Token[84]: \"how\"'/'O' (1.0),\n",
              "  'Token[85]: \"i\"'/'O' (1.0),\n",
              "  'Token[86]: \"get\"'/'O' (1.0),\n",
              "  'Token[87]: \"on\"'/'O' (1.0),\n",
              "  'Token[88]: \",\"'/'O' (1.0),\n",
              "  'Token[89]: \"here\"'/'O' (1.0),\n",
              "  'Token[90]: \"goes\"'/'O' (1.0),\n",
              "  'Token[91]: \".\"'/'O' (1.0),\n",
              "  'Token[92]: \"so\"'/'O' (1.0),\n",
              "  'Token[93]: \"far\"'/'O' (1.0),\n",
              "  'Token[94]: \"its\"'/'O' (1.0),\n",
              "  'Token[95]: \"been\"'/'O' (1.0),\n",
              "  'Token[96]: \"very\"'/'O' (1.0),\n",
              "  'Token[97]: \"good\"'/'O' (1.0),\n",
              "  'Token[98]: \",\"'/'O' (1.0),\n",
              "  'Token[99]: \"pains\"'/'S-Pain' (1.0),\n",
              "  'Token[100]: \"almost\"'/'O' (1.0),\n",
              "  'Token[101]: \"gone\"'/'O' (1.0),\n",
              "  'Token[102]: \",\"'/'O' (1.0),\n",
              "  'Token[103]: \"but\"'/'O' (1.0),\n",
              "  'Token[104]: \"i\"'/'O' (1.0),\n",
              "  'Token[105]: \"feel\"'/'B-Malaise' (1.0),\n",
              "  'Token[106]: \"a\"'/'I-Malaise' (1.0),\n",
              "  'Token[107]: \"bit\"'/'I-Malaise' (1.0),\n",
              "  'Token[108]: \"weird\"'/'E-Malaise' (1.0),\n",
              "  'Token[109]: \",\"'/'O' (1.0),\n",
              "  'Token[110]: \"didnt\"'/'O' (1.0),\n",
              "  'Token[111]: \"have\"'/'O' (1.0),\n",
              "  'Token[112]: \"that\"'/'O' (1.0),\n",
              "  'Token[113]: \"when\"'/'O' (1.0),\n",
              "  'Token[114]: \"on\"'/'O' (1.0),\n",
              "  'Token[115]: \"50\"'/'O' (1.0),\n",
              "  'Token[116]: \".\"'/'O' (1.0)]}"
            ]
          },
          "metadata": {},
          "execution_count": 11
        }
      ],
      "source": [
        "temp.annotation_layers"
      ]
    },
    {
      "cell_type": "code",
      "execution_count": 12,
      "metadata": {
        "id": "4CsGKKB6tGik"
      },
      "outputs": [],
      "source": [
        "\n",
        "# define your NER tags\n",
        "label_dict = {\n",
        "    'ADR': 'ADR',\n",
        "    'Drug': 'Drug',\n",
        "    'Finding': 'Finding',\n",
        "    'Symptom': 'Symptom',\n",
        "    'Disease': 'Disease'\n",
        "}"
      ]
    },
    {
      "cell_type": "code",
      "execution_count": 13,
      "metadata": {
        "colab": {
          "base_uri": "https://localhost:8080/"
        },
        "id": "QmNsy8AltGik",
        "outputId": "6345a9b1-43e8-40e7-b7f1-a36c4c287799"
      },
      "outputs": [
        {
          "output_type": "stream",
          "name": "stdout",
          "text": [
            "2023-04-21 14:55:55,778 Filtering empty sentences\n",
            "2023-04-21 14:55:55,812 Corpus: 948 train + 119 dev + 119 test sentences\n",
            "2023-04-21 14:55:55,814 Computing label dictionary. Progress:\n"
          ]
        },
        {
          "output_type": "stream",
          "name": "stderr",
          "text": [
            "948it [00:00, 6369.44it/s]"
          ]
        },
        {
          "output_type": "stream",
          "name": "stdout",
          "text": [
            "2023-04-21 14:55:55,971 Dictionary created for label 'ner' with 22 values: O (seen 79057 times), I-ADR (seen 4449 times), E-ADR (seen 3506 times), B-ADR (seen 3349 times), S-ADR (seen 1363 times), S-Drug (seen 1286 times), B-Finding (seen 200 times), E-Finding (seen 200 times), I-Finding (seen 149 times), B-Disease (seen 119 times), E-Disease (seen 119 times), E-Symptom (seen 114 times), S-Disease (seen 112 times), S-Symptom (seen 112 times), E-Drug (seen 111 times), B-Symptom (seen 110 times), B-Drug (seen 110 times), S-Finding (seen 109 times), I-Symptom (seen 104 times), I-Drug (seen 50 times)\n",
            "False\n"
          ]
        },
        {
          "output_type": "stream",
          "name": "stderr",
          "text": [
            "\n"
          ]
        },
        {
          "output_type": "stream",
          "name": "stdout",
          "text": [
            "True True False 1024\n",
            "{'is_token_embedding': True, 'is_document_embedding': False, 'allow_long_sentences': False, 'tokenizer': BertTokenizerFast(name_or_path='SpanBERT/spanbert-large-cased', vocab_size=28996, model_max_length=512, is_fast=True, padding_side='right', truncation_side='right', special_tokens={'unk_token': '[UNK]', 'sep_token': '[SEP]', 'pad_token': '[PAD]', 'cls_token': '[CLS]', 'mask_token': '[MASK]', 'additional_special_tokens': ['[FLERT]']}, clean_up_tokenization_spaces=True), 'context_length': 64, 'context_dropout': 0.5, 'respect_document_boundaries': True, 'truncate': True, 'stride': 0, 'embedding_length': 1024, 'name': 'transformer-SpanBERT/spanbert-large-cased', 'fine_tune': True, 'use_lang_emb': False, 'force_max_length': True, 'feature_extractor': None, 'use_context_separator': True, 'needs_manual_ocr': False}\n",
            "BertTokenizerFast(name_or_path='SpanBERT/spanbert-large-cased', vocab_size=28996, model_max_length=512, is_fast=True, padding_side='right', truncation_side='right', special_tokens={'unk_token': '[UNK]', 'sep_token': '[SEP]', 'pad_token': '[PAD]', 'cls_token': '[CLS]', 'mask_token': '[MASK]', 'additional_special_tokens': ['[FLERT]']}, clean_up_tokenization_spaces=True)\n",
            "2023-04-21 14:56:03,820 SequenceTagger predicts: Dictionary with 22 tags: <unk>, O, I-ADR, E-ADR, B-ADR, S-ADR, S-Drug, B-Finding, E-Finding, I-Finding, B-Disease, E-Disease, E-Symptom, S-Disease, S-Symptom, E-Drug, B-Symptom, B-Drug, S-Finding, I-Symptom, I-Drug, I-Disease\n",
            "True\n",
            "False\n"
          ]
        }
      ],
      "source": [
        "from flair.data import Corpus\n",
        "# from flair.datasets import SentenceDataset\n",
        "from flair.embeddings import WordEmbeddings, FlairEmbeddings, StackedEmbeddings, TransformerWordEmbeddings\n",
        "from flair.models import SequenceTagger\n",
        "from flair.trainers import ModelTrainer\n",
        "from sklearn.model_selection import train_test_split\n",
        "\n",
        "import torch\n",
        "from torch.utils.data import Dataset\n",
        "from torch.optim import AdamW, SGD\n",
        "\n",
        "from flair.visual.training_curves import Plotter\n",
        "plotter = Plotter()\n",
        "\n",
        "\n",
        "\n",
        "train_docs, test_docs = train_test_split(docs, test_size=0.2, random_state=321)\n",
        "dev_docs, test_docs = train_test_split(test_docs, test_size=0.5, random_state=123)\n",
        "\n",
        "corpus = Corpus(train=train_docs, dev=dev_docs, test=test_docs) # Corpus: 948 train + 119 dev + 119 test sentences\n",
        "corpus.filter_empty_sentences()\n",
        "# # create a tag dictionary\n",
        "labels = ['ADR', 'Drug', 'Finding', 'Symptom', 'Disease']\n",
        "# tag_dictionary = Dictionary(add_unk=True)\n",
        "# for label in labels:\n",
        "#     tag_dictionary.add_item(label)\n",
        "tag_dictionary = corpus.make_label_dictionary(label_type='ner')\n",
        "print(tag_dictionary.span_labels)\n",
        "\n",
        "# create a stacked embedding using GloVe and Flair embeddings\n",
        "# stacked_embeddings = StackedEmbeddings([\n",
        "#     WordEmbeddings('glove',\n",
        "#                    force_cpu=False,\n",
        "#                 #    embedding_length=1024,\n",
        "#                   #  fine_tune=True,\n",
        "#                    ),\n",
        "#     # TransformerWordEmbeddings('emilyalsentzer/Bio_ClinicalBERT', layers=\"-1\",\n",
        "#     #                                    subtoken_pooling=\"first\",\n",
        "#     #                                    is_document_embedding=True,\n",
        "#     #                                    fine_tune=True,\n",
        "#     #                                    use_context=True,\n",
        "#     #                                    max_seq_length=1024,\n",
        "#     #                                    ),\n",
        "#     FlairEmbeddings('news-forward',\n",
        "#                     # fine_tune=True\n",
        "#                     ),\n",
        "#     FlairEmbeddings('news-backward',\n",
        "#                     # fine_tune=True\n",
        "#                     ),\n",
        "# ])\n",
        "# https://github.com/flairNLP/flair/blob/master/resources/docs/embeddings/FLAIR_EMBEDDINGS.md\n",
        "\n",
        "\n",
        "embeddings = TransformerWordEmbeddings(model='SpanBERT/spanbert-large-cased',\n",
        "                                       layers=\"-1\",\n",
        "                                       subtoken_pooling=\"first\",\n",
        "                                       fine_tune=True,\n",
        "                                       use_context=True,\n",
        "                                       force_max_length=True,\n",
        "                                      #  truncate=True, # not accepted here\n",
        "                                      # #  is_document_embedding=True, # False is default\n",
        "                                      #  allow_long_sentences=True, # True is default; doesnt go through\n",
        "                                      #  embedding_length=512,\n",
        "                                       )\n",
        "# embeddings.allow_long_sentences = False\n",
        "embeddings.truncate = True\n",
        "# embeddings.embedding_length_internal = 512\n",
        "print(embeddings.force_max_length,embeddings.truncate,embeddings.allow_long_sentences,embeddings.embedding_length_internal)\n",
        "embeddings.tokenizer.model_max_length=512\n",
        "print(embeddings.to_args())\n",
        "print(embeddings.tokenizer)\n",
        "\n",
        "\n",
        "# create a SequenceTagger object and specify the tag dictionary and embeddings to use\n",
        "tagger = SequenceTagger(hidden_size=256,\n",
        "                        # embeddings=stacked_embeddings,\n",
        "                        embeddings=embeddings,\n",
        "                        tag_dictionary=tag_dictionary,\n",
        "                        tag_type='ner',\n",
        "                        use_crf=False,\n",
        "                        use_rnn=False,\n",
        "                        # reproject_embeddings=False\n",
        "                        )\n",
        "tagger.predict_spans = False\n",
        "\n",
        "print(tagger._determine_if_span_prediction_problem(tagger.label_dictionary))\n",
        "print(tagger.predict_spans)\n",
        "\n",
        "# https://github.com/flairNLP/flair/blob/master/flair/trainers/trainer.py\n",
        "# create a ModelTrainer object and train the tagger\n",
        "trainer = ModelTrainer(tagger, corpus)"
      ]
    },
    {
      "cell_type": "code",
      "execution_count": 14,
      "metadata": {
        "id": "fh0zU2jHAA4J"
      },
      "outputs": [],
      "source": [
        "# !tensorboard --logdir=runs\n",
        "# http://localhost:6006/"
      ]
    },
    {
      "cell_type": "code",
      "execution_count": 15,
      "metadata": {
        "colab": {
          "base_uri": "https://localhost:8080/"
        },
        "id": "UKTMzxV8zF9o",
        "outputId": "26302b7d-82a5-48f5-9b72-f5dcd664d63e"
      },
      "outputs": [
        {
          "output_type": "stream",
          "name": "stdout",
          "text": [
            "2023-04-21 14:56:03,858 tensorboard logging path is runs/tb_logs_v2_spanbert-large-cased\n"
          ]
        },
        {
          "output_type": "stream",
          "name": "stderr",
          "text": [
            "/usr/local/lib/python3.9/dist-packages/flair/trainers/trainer.py:69: UserWarning: There should be no best model saved at epoch 1 except there is a model from previous trainings in your training folder. All previous best models will be deleted.\n",
            "  warnings.warn(\n"
          ]
        },
        {
          "output_type": "stream",
          "name": "stdout",
          "text": [
            "2023-04-21 14:56:04,404 ----------------------------------------------------------------------------------------------------\n",
            "2023-04-21 14:56:04,409 Model: \"SequenceTagger(\n",
            "  (embeddings): TransformerWordEmbeddings(\n",
            "    (model): BertModel(\n",
            "      (embeddings): BertEmbeddings(\n",
            "        (word_embeddings): Embedding(28997, 1024)\n",
            "        (position_embeddings): Embedding(512, 1024)\n",
            "        (token_type_embeddings): Embedding(2, 1024)\n",
            "        (LayerNorm): LayerNorm((1024,), eps=1e-12, elementwise_affine=True)\n",
            "        (dropout): Dropout(p=0.1, inplace=False)\n",
            "      )\n",
            "      (encoder): BertEncoder(\n",
            "        (layer): ModuleList(\n",
            "          (0-23): 24 x BertLayer(\n",
            "            (attention): BertAttention(\n",
            "              (self): BertSelfAttention(\n",
            "                (query): Linear(in_features=1024, out_features=1024, bias=True)\n",
            "                (key): Linear(in_features=1024, out_features=1024, bias=True)\n",
            "                (value): Linear(in_features=1024, out_features=1024, bias=True)\n",
            "                (dropout): Dropout(p=0.1, inplace=False)\n",
            "              )\n",
            "              (output): BertSelfOutput(\n",
            "                (dense): Linear(in_features=1024, out_features=1024, bias=True)\n",
            "                (LayerNorm): LayerNorm((1024,), eps=1e-12, elementwise_affine=True)\n",
            "                (dropout): Dropout(p=0.1, inplace=False)\n",
            "              )\n",
            "            )\n",
            "            (intermediate): BertIntermediate(\n",
            "              (dense): Linear(in_features=1024, out_features=4096, bias=True)\n",
            "              (intermediate_act_fn): GELUActivation()\n",
            "            )\n",
            "            (output): BertOutput(\n",
            "              (dense): Linear(in_features=4096, out_features=1024, bias=True)\n",
            "              (LayerNorm): LayerNorm((1024,), eps=1e-12, elementwise_affine=True)\n",
            "              (dropout): Dropout(p=0.1, inplace=False)\n",
            "            )\n",
            "          )\n",
            "        )\n",
            "      )\n",
            "      (pooler): BertPooler(\n",
            "        (dense): Linear(in_features=1024, out_features=1024, bias=True)\n",
            "        (activation): Tanh()\n",
            "      )\n",
            "    )\n",
            "  )\n",
            "  (locked_dropout): LockedDropout(p=0.5)\n",
            "  (embedding2nn): Linear(in_features=1024, out_features=1024, bias=True)\n",
            "  (linear): Linear(in_features=1024, out_features=22, bias=True)\n",
            "  (loss_function): CrossEntropyLoss()\n",
            ")\"\n",
            "2023-04-21 14:56:04,411 ----------------------------------------------------------------------------------------------------\n",
            "2023-04-21 14:56:04,412 Corpus: \"Corpus: 948 train + 119 dev + 119 test sentences\"\n",
            "2023-04-21 14:56:04,414 ----------------------------------------------------------------------------------------------------\n",
            "2023-04-21 14:56:04,415 Parameters:\n",
            "2023-04-21 14:56:04,416  - learning_rate: \"0.000005\"\n",
            "2023-04-21 14:56:04,418  - mini_batch_size: \"15\"\n",
            "2023-04-21 14:56:04,420  - patience: \"1\"\n",
            "2023-04-21 14:56:04,422  - anneal_factor: \"0.5\"\n",
            "2023-04-21 14:56:04,423  - max_epochs: \"100\"\n",
            "2023-04-21 14:56:04,425  - shuffle: \"True\"\n",
            "2023-04-21 14:56:04,427  - train_with_dev: \"False\"\n",
            "2023-04-21 14:56:04,428  - batch_growth_annealing: \"False\"\n",
            "2023-04-21 14:56:04,430 ----------------------------------------------------------------------------------------------------\n",
            "2023-04-21 14:56:04,432 Model training base path: \"flair_ner_model_v2_spanbert-large-cased\"\n",
            "2023-04-21 14:56:04,434 ----------------------------------------------------------------------------------------------------\n",
            "2023-04-21 14:56:04,435 Device: cuda:0\n",
            "2023-04-21 14:56:04,437 ----------------------------------------------------------------------------------------------------\n",
            "2023-04-21 14:56:04,438 Embeddings storage mode: gpu\n",
            "2023-04-21 14:56:04,440 ----------------------------------------------------------------------------------------------------\n",
            "2023-04-21 14:56:11,919 epoch 1 - iter 6/64 - loss 2.95545405 - time (sec): 7.48 - samples/sec: 1283.94 - lr: 0.000005\n",
            "2023-04-21 14:56:18,563 epoch 1 - iter 12/64 - loss 2.78797174 - time (sec): 14.12 - samples/sec: 1258.58 - lr: 0.000005\n",
            "2023-04-21 14:56:25,230 epoch 1 - iter 18/64 - loss 2.62722416 - time (sec): 20.79 - samples/sec: 1267.13 - lr: 0.000005\n",
            "2023-04-21 14:56:31,934 epoch 1 - iter 24/64 - loss 2.48559876 - time (sec): 27.49 - samples/sec: 1281.12 - lr: 0.000005\n",
            "2023-04-21 14:56:38,571 epoch 1 - iter 30/64 - loss 2.36355950 - time (sec): 34.13 - samples/sec: 1280.74 - lr: 0.000005\n",
            "2023-04-21 14:56:45,301 epoch 1 - iter 36/64 - loss 2.26519843 - time (sec): 40.86 - samples/sec: 1293.32 - lr: 0.000005\n",
            "2023-04-21 14:56:52,147 epoch 1 - iter 42/64 - loss 2.17359554 - time (sec): 47.71 - samples/sec: 1311.39 - lr: 0.000005\n",
            "2023-04-21 14:56:58,841 epoch 1 - iter 48/64 - loss 2.09276437 - time (sec): 54.40 - samples/sec: 1312.88 - lr: 0.000005\n",
            "2023-04-21 14:57:05,520 epoch 1 - iter 54/64 - loss 2.02546519 - time (sec): 61.08 - samples/sec: 1316.65 - lr: 0.000005\n",
            "2023-04-21 14:57:12,226 epoch 1 - iter 60/64 - loss 1.96351024 - time (sec): 67.78 - samples/sec: 1319.16 - lr: 0.000005\n",
            "2023-04-21 14:57:15,935 ----------------------------------------------------------------------------------------------------\n",
            "2023-04-21 14:57:15,936 EPOCH 1 done: loss 1.9307 - lr 0.000005\n"
          ]
        },
        {
          "output_type": "stream",
          "name": "stderr",
          "text": [
            "100%|██████████| 64/64 [00:25<00:00,  2.51it/s]\n"
          ]
        },
        {
          "output_type": "stream",
          "name": "stdout",
          "text": [
            "2023-04-21 14:57:41,554 Evaluating as a multi-label problem: True\n",
            "2023-04-21 14:57:45,261 TRAIN : loss 1.3106995820999146 - f1-score (weighted avg)  0.0001\n"
          ]
        },
        {
          "output_type": "stream",
          "name": "stderr",
          "text": [
            "100%|██████████| 8/8 [00:03<00:00,  2.51it/s]"
          ]
        },
        {
          "output_type": "stream",
          "name": "stdout",
          "text": [
            "2023-04-21 14:57:48,607 Evaluating as a multi-label problem: False\n",
            "2023-04-21 14:57:48,669 DEV : loss 1.305672526359558 - f1-score (weighted avg)  0.0\n",
            "2023-04-21 14:57:48,690 BAD EPOCHS (no improvement): 0\n",
            "2023-04-21 14:57:48,694 saving best model\n"
          ]
        },
        {
          "output_type": "stream",
          "name": "stderr",
          "text": [
            "\n"
          ]
        },
        {
          "output_type": "stream",
          "name": "stdout",
          "text": [
            "2023-04-21 14:57:57,982 ----------------------------------------------------------------------------------------------------\n",
            "2023-04-21 14:58:04,798 epoch 2 - iter 6/64 - loss 1.33603308 - time (sec): 6.81 - samples/sec: 1341.90 - lr: 0.000005\n",
            "2023-04-21 14:58:11,556 epoch 2 - iter 12/64 - loss 1.28680588 - time (sec): 13.57 - samples/sec: 1371.24 - lr: 0.000005\n",
            "2023-04-21 14:58:18,213 epoch 2 - iter 18/64 - loss 1.29745374 - time (sec): 20.23 - samples/sec: 1304.91 - lr: 0.000005\n",
            "2023-04-21 14:58:24,893 epoch 2 - iter 24/64 - loss 1.26851612 - time (sec): 26.91 - samples/sec: 1297.57 - lr: 0.000005\n",
            "2023-04-21 14:58:31,584 epoch 2 - iter 30/64 - loss 1.24326455 - time (sec): 33.60 - samples/sec: 1303.06 - lr: 0.000005\n",
            "2023-04-21 14:58:38,439 epoch 2 - iter 36/64 - loss 1.23533549 - time (sec): 40.45 - samples/sec: 1323.91 - lr: 0.000005\n",
            "2023-04-21 14:58:45,129 epoch 2 - iter 42/64 - loss 1.22119349 - time (sec): 47.14 - samples/sec: 1328.16 - lr: 0.000005\n",
            "2023-04-21 14:58:51,916 epoch 2 - iter 48/64 - loss 1.20769671 - time (sec): 53.93 - samples/sec: 1334.22 - lr: 0.000005\n",
            "2023-04-21 14:58:58,649 epoch 2 - iter 54/64 - loss 1.18915053 - time (sec): 60.66 - samples/sec: 1344.97 - lr: 0.000005\n",
            "2023-04-21 14:59:05,299 epoch 2 - iter 60/64 - loss 1.17406988 - time (sec): 67.31 - samples/sec: 1343.96 - lr: 0.000005\n",
            "2023-04-21 14:59:08,902 ----------------------------------------------------------------------------------------------------\n",
            "2023-04-21 14:59:08,904 EPOCH 2 done: loss 1.1659 - lr 0.000005\n"
          ]
        },
        {
          "output_type": "stream",
          "name": "stderr",
          "text": [
            "100%|██████████| 64/64 [00:24<00:00,  2.59it/s]\n"
          ]
        },
        {
          "output_type": "stream",
          "name": "stdout",
          "text": [
            "2023-04-21 14:59:33,712 Evaluating as a multi-label problem: True\n",
            "2023-04-21 14:59:36,339 TRAIN : loss 0.9801037907600403 - f1-score (weighted avg)  0.0001\n"
          ]
        },
        {
          "output_type": "stream",
          "name": "stderr",
          "text": [
            "100%|██████████| 8/8 [00:03<00:00,  2.48it/s]"
          ]
        },
        {
          "output_type": "stream",
          "name": "stdout",
          "text": [
            "2023-04-21 14:59:39,726 Evaluating as a multi-label problem: False\n",
            "2023-04-21 14:59:39,792 DEV : loss 0.9744789004325867 - f1-score (weighted avg)  0.0\n",
            "2023-04-21 14:59:39,813 BAD EPOCHS (no improvement): 0\n",
            "2023-04-21 14:59:39,818 saving best model\n"
          ]
        },
        {
          "output_type": "stream",
          "name": "stderr",
          "text": [
            "\n"
          ]
        },
        {
          "output_type": "stream",
          "name": "stdout",
          "text": [
            "2023-04-21 14:59:50,306 ----------------------------------------------------------------------------------------------------\n",
            "2023-04-21 14:59:56,970 epoch 3 - iter 6/64 - loss 0.98570872 - time (sec): 6.66 - samples/sec: 1211.88 - lr: 0.000005\n",
            "2023-04-21 15:00:03,657 epoch 3 - iter 12/64 - loss 0.94653296 - time (sec): 13.35 - samples/sec: 1255.32 - lr: 0.000005\n",
            "2023-04-21 15:00:10,322 epoch 3 - iter 18/64 - loss 0.92393274 - time (sec): 20.01 - samples/sec: 1264.04 - lr: 0.000005\n",
            "2023-04-21 15:00:17,050 epoch 3 - iter 24/64 - loss 0.92115932 - time (sec): 26.74 - samples/sec: 1329.25 - lr: 0.000005\n",
            "2023-04-21 15:00:23,839 epoch 3 - iter 30/64 - loss 0.92733796 - time (sec): 33.53 - samples/sec: 1324.63 - lr: 0.000005\n",
            "2023-04-21 15:00:30,756 epoch 3 - iter 36/64 - loss 0.94415302 - time (sec): 40.45 - samples/sec: 1347.97 - lr: 0.000005\n",
            "2023-04-21 15:00:37,473 epoch 3 - iter 42/64 - loss 0.93546052 - time (sec): 47.16 - samples/sec: 1372.13 - lr: 0.000005\n",
            "2023-04-21 15:00:44,293 epoch 3 - iter 48/64 - loss 0.93753027 - time (sec): 53.98 - samples/sec: 1370.30 - lr: 0.000005\n",
            "2023-04-21 15:00:50,936 epoch 3 - iter 54/64 - loss 0.93455612 - time (sec): 60.63 - samples/sec: 1353.51 - lr: 0.000005\n",
            "2023-04-21 15:00:57,640 epoch 3 - iter 60/64 - loss 0.93562043 - time (sec): 67.33 - samples/sec: 1341.46 - lr: 0.000005\n",
            "2023-04-21 15:01:01,261 ----------------------------------------------------------------------------------------------------\n",
            "2023-04-21 15:01:01,263 EPOCH 3 done: loss 0.9359 - lr 0.000005\n"
          ]
        },
        {
          "output_type": "stream",
          "name": "stderr",
          "text": [
            "100%|██████████| 64/64 [00:25<00:00,  2.48it/s]\n"
          ]
        },
        {
          "output_type": "stream",
          "name": "stdout",
          "text": [
            "2023-04-21 15:01:27,144 Evaluating as a multi-label problem: True\n",
            "2023-04-21 15:01:29,785 TRAIN : loss 0.8688046932220459 - f1-score (weighted avg)  0.0001\n"
          ]
        },
        {
          "output_type": "stream",
          "name": "stderr",
          "text": [
            "100%|██████████| 8/8 [00:03<00:00,  2.48it/s]"
          ]
        },
        {
          "output_type": "stream",
          "name": "stdout",
          "text": [
            "2023-04-21 15:01:33,166 Evaluating as a multi-label problem: False\n",
            "2023-04-21 15:01:33,233 DEV : loss 0.8662349581718445 - f1-score (weighted avg)  0.0\n",
            "2023-04-21 15:01:33,255 BAD EPOCHS (no improvement): 0\n",
            "2023-04-21 15:01:33,260 saving best model\n"
          ]
        },
        {
          "output_type": "stream",
          "name": "stderr",
          "text": [
            "\n"
          ]
        },
        {
          "output_type": "stream",
          "name": "stdout",
          "text": [
            "2023-04-21 15:01:43,527 ----------------------------------------------------------------------------------------------------\n",
            "2023-04-21 15:01:50,294 epoch 4 - iter 6/64 - loss 0.83476886 - time (sec): 6.76 - samples/sec: 1352.25 - lr: 0.000005\n",
            "2023-04-21 15:01:57,006 epoch 4 - iter 12/64 - loss 0.85781116 - time (sec): 13.48 - samples/sec: 1288.42 - lr: 0.000005\n",
            "2023-04-21 15:02:03,805 epoch 4 - iter 18/64 - loss 0.86118018 - time (sec): 20.28 - samples/sec: 1318.61 - lr: 0.000005\n",
            "2023-04-21 15:02:10,526 epoch 4 - iter 24/64 - loss 0.84471599 - time (sec): 27.00 - samples/sec: 1336.41 - lr: 0.000005\n",
            "2023-04-21 15:02:17,366 epoch 4 - iter 30/64 - loss 0.85396684 - time (sec): 33.84 - samples/sec: 1344.77 - lr: 0.000005\n",
            "2023-04-21 15:02:24,021 epoch 4 - iter 36/64 - loss 0.84239807 - time (sec): 40.49 - samples/sec: 1326.85 - lr: 0.000005\n",
            "2023-04-21 15:02:30,729 epoch 4 - iter 42/64 - loss 0.82701857 - time (sec): 47.20 - samples/sec: 1322.50 - lr: 0.000005\n",
            "2023-04-21 15:02:37,449 epoch 4 - iter 48/64 - loss 0.80933841 - time (sec): 53.92 - samples/sec: 1314.56 - lr: 0.000005\n",
            "2023-04-21 15:02:44,155 epoch 4 - iter 54/64 - loss 0.79338685 - time (sec): 60.63 - samples/sec: 1327.87 - lr: 0.000005\n",
            "2023-04-21 15:02:50,886 epoch 4 - iter 60/64 - loss 0.77967875 - time (sec): 67.36 - samples/sec: 1339.34 - lr: 0.000005\n",
            "2023-04-21 15:02:54,493 ----------------------------------------------------------------------------------------------------\n",
            "2023-04-21 15:02:54,495 EPOCH 4 done: loss 0.7731 - lr 0.000005\n"
          ]
        },
        {
          "output_type": "stream",
          "name": "stderr",
          "text": [
            "100%|██████████| 64/64 [00:25<00:00,  2.50it/s]\n"
          ]
        },
        {
          "output_type": "stream",
          "name": "stdout",
          "text": [
            "2023-04-21 15:03:20,258 Evaluating as a multi-label problem: True\n",
            "2023-04-21 15:03:22,898 TRAIN : loss 0.6235568523406982 - f1-score (weighted avg)  0.0001\n"
          ]
        },
        {
          "output_type": "stream",
          "name": "stderr",
          "text": [
            "100%|██████████| 8/8 [00:03<00:00,  2.49it/s]"
          ]
        },
        {
          "output_type": "stream",
          "name": "stdout",
          "text": [
            "2023-04-21 15:03:26,268 Evaluating as a multi-label problem: False\n",
            "2023-04-21 15:03:26,342 DEV : loss 0.6301484107971191 - f1-score (weighted avg)  0.0\n",
            "2023-04-21 15:03:26,363 BAD EPOCHS (no improvement): 0\n",
            "2023-04-21 15:03:26,367 saving best model\n"
          ]
        },
        {
          "output_type": "stream",
          "name": "stderr",
          "text": [
            "\n"
          ]
        },
        {
          "output_type": "stream",
          "name": "stdout",
          "text": [
            "2023-04-21 15:03:37,587 ----------------------------------------------------------------------------------------------------\n",
            "2023-04-21 15:03:44,305 epoch 5 - iter 6/64 - loss 0.64189917 - time (sec): 6.72 - samples/sec: 1271.25 - lr: 0.000005\n",
            "2023-04-21 15:03:51,071 epoch 5 - iter 12/64 - loss 0.64165897 - time (sec): 13.48 - samples/sec: 1321.05 - lr: 0.000005\n",
            "2023-04-21 15:03:57,915 epoch 5 - iter 18/64 - loss 0.67020753 - time (sec): 20.33 - samples/sec: 1272.20 - lr: 0.000005\n",
            "2023-04-21 15:04:04,706 epoch 5 - iter 24/64 - loss 0.65889479 - time (sec): 27.12 - samples/sec: 1319.02 - lr: 0.000005\n",
            "2023-04-21 15:04:11,412 epoch 5 - iter 30/64 - loss 0.64833348 - time (sec): 33.82 - samples/sec: 1306.16 - lr: 0.000005\n",
            "2023-04-21 15:04:18,099 epoch 5 - iter 36/64 - loss 0.63512917 - time (sec): 40.51 - samples/sec: 1314.62 - lr: 0.000005\n",
            "2023-04-21 15:04:24,792 epoch 5 - iter 42/64 - loss 0.61736846 - time (sec): 47.20 - samples/sec: 1342.86 - lr: 0.000005\n",
            "2023-04-21 15:04:31,554 epoch 5 - iter 48/64 - loss 0.60767246 - time (sec): 53.97 - samples/sec: 1364.82 - lr: 0.000005\n",
            "2023-04-21 15:04:38,267 epoch 5 - iter 54/64 - loss 0.60187066 - time (sec): 60.68 - samples/sec: 1358.83 - lr: 0.000005\n",
            "2023-04-21 15:04:44,937 epoch 5 - iter 60/64 - loss 0.59980848 - time (sec): 67.35 - samples/sec: 1336.55 - lr: 0.000005\n",
            "2023-04-21 15:04:48,576 ----------------------------------------------------------------------------------------------------\n",
            "2023-04-21 15:04:48,577 EPOCH 5 done: loss 0.6000 - lr 0.000005\n"
          ]
        },
        {
          "output_type": "stream",
          "name": "stderr",
          "text": [
            "100%|██████████| 64/64 [00:24<00:00,  2.59it/s]\n"
          ]
        },
        {
          "output_type": "stream",
          "name": "stdout",
          "text": [
            "2023-04-21 15:05:13,411 Evaluating as a multi-label problem: True\n",
            "2023-04-21 15:05:17,203 TRAIN : loss 0.527245819568634 - f1-score (weighted avg)  0.2602\n"
          ]
        },
        {
          "output_type": "stream",
          "name": "stderr",
          "text": [
            "100%|██████████| 8/8 [00:03<00:00,  2.47it/s]"
          ]
        },
        {
          "output_type": "stream",
          "name": "stdout",
          "text": [
            "2023-04-21 15:05:20,607 Evaluating as a multi-label problem: False\n",
            "2023-04-21 15:05:20,679 DEV : loss 0.5404419302940369 - f1-score (weighted avg)  0.2488\n",
            "2023-04-21 15:05:20,701 BAD EPOCHS (no improvement): 0\n",
            "2023-04-21 15:05:20,705 saving best model\n"
          ]
        },
        {
          "output_type": "stream",
          "name": "stderr",
          "text": [
            "\n"
          ]
        },
        {
          "output_type": "stream",
          "name": "stdout",
          "text": [
            "2023-04-21 15:05:30,835 ----------------------------------------------------------------------------------------------------\n",
            "2023-04-21 15:05:37,558 epoch 6 - iter 6/64 - loss 0.56890558 - time (sec): 6.72 - samples/sec: 1175.72 - lr: 0.000005\n",
            "2023-04-21 15:05:44,214 epoch 6 - iter 12/64 - loss 0.55692723 - time (sec): 13.38 - samples/sec: 1284.38 - lr: 0.000005\n",
            "2023-04-21 15:05:51,008 epoch 6 - iter 18/64 - loss 0.53666869 - time (sec): 20.17 - samples/sec: 1324.53 - lr: 0.000005\n",
            "2023-04-21 15:05:57,708 epoch 6 - iter 24/64 - loss 0.52640795 - time (sec): 26.87 - samples/sec: 1360.73 - lr: 0.000005\n",
            "2023-04-21 15:06:04,458 epoch 6 - iter 30/64 - loss 0.52323205 - time (sec): 33.62 - samples/sec: 1386.41 - lr: 0.000005\n",
            "2023-04-21 15:06:11,228 epoch 6 - iter 36/64 - loss 0.51630565 - time (sec): 40.39 - samples/sec: 1386.08 - lr: 0.000005\n",
            "2023-04-21 15:06:17,973 epoch 6 - iter 42/64 - loss 0.51275128 - time (sec): 47.13 - samples/sec: 1372.84 - lr: 0.000005\n",
            "2023-04-21 15:06:24,629 epoch 6 - iter 48/64 - loss 0.51667890 - time (sec): 53.79 - samples/sec: 1345.11 - lr: 0.000005\n",
            "2023-04-21 15:06:31,363 epoch 6 - iter 54/64 - loss 0.51743633 - time (sec): 60.52 - samples/sec: 1337.82 - lr: 0.000005\n",
            "2023-04-21 15:06:38,223 epoch 6 - iter 60/64 - loss 0.52199920 - time (sec): 67.38 - samples/sec: 1336.70 - lr: 0.000005\n",
            "2023-04-21 15:06:41,845 ----------------------------------------------------------------------------------------------------\n",
            "2023-04-21 15:06:41,847 EPOCH 6 done: loss 0.5207 - lr 0.000005\n"
          ]
        },
        {
          "output_type": "stream",
          "name": "stderr",
          "text": [
            "100%|██████████| 64/64 [00:24<00:00,  2.59it/s]\n"
          ]
        },
        {
          "output_type": "stream",
          "name": "stdout",
          "text": [
            "2023-04-21 15:07:06,714 Evaluating as a multi-label problem: True\n",
            "2023-04-21 15:07:10,556 TRAIN : loss 0.4584510326385498 - f1-score (weighted avg)  0.4274\n"
          ]
        },
        {
          "output_type": "stream",
          "name": "stderr",
          "text": [
            "100%|██████████| 8/8 [00:03<00:00,  2.48it/s]"
          ]
        },
        {
          "output_type": "stream",
          "name": "stdout",
          "text": [
            "2023-04-21 15:07:13,948 Evaluating as a multi-label problem: False\n",
            "2023-04-21 15:07:14,014 DEV : loss 0.48442408442497253 - f1-score (weighted avg)  0.397\n",
            "2023-04-21 15:07:14,037 BAD EPOCHS (no improvement): 0\n",
            "2023-04-21 15:07:14,041 saving best model\n"
          ]
        },
        {
          "output_type": "stream",
          "name": "stderr",
          "text": [
            "\n"
          ]
        },
        {
          "output_type": "stream",
          "name": "stdout",
          "text": [
            "2023-04-21 15:07:25,754 ----------------------------------------------------------------------------------------------------\n",
            "2023-04-21 15:07:32,466 epoch 7 - iter 6/64 - loss 0.46197731 - time (sec): 6.71 - samples/sec: 1288.18 - lr: 0.000005\n",
            "2023-04-21 15:07:39,204 epoch 7 - iter 12/64 - loss 0.45065659 - time (sec): 13.45 - samples/sec: 1259.86 - lr: 0.000005\n",
            "2023-04-21 15:07:45,906 epoch 7 - iter 18/64 - loss 0.46680728 - time (sec): 20.15 - samples/sec: 1283.22 - lr: 0.000005\n",
            "2023-04-21 15:07:52,718 epoch 7 - iter 24/64 - loss 0.46761208 - time (sec): 26.96 - samples/sec: 1329.89 - lr: 0.000005\n",
            "2023-04-21 15:07:59,399 epoch 7 - iter 30/64 - loss 0.46536453 - time (sec): 33.64 - samples/sec: 1310.42 - lr: 0.000005\n",
            "2023-04-21 15:08:06,158 epoch 7 - iter 36/64 - loss 0.45927458 - time (sec): 40.40 - samples/sec: 1321.46 - lr: 0.000005\n",
            "2023-04-21 15:08:13,024 epoch 7 - iter 42/64 - loss 0.46790830 - time (sec): 47.27 - samples/sec: 1345.88 - lr: 0.000005\n",
            "2023-04-21 15:08:19,737 epoch 7 - iter 48/64 - loss 0.45891154 - time (sec): 53.98 - samples/sec: 1364.59 - lr: 0.000005\n",
            "2023-04-21 15:08:26,439 epoch 7 - iter 54/64 - loss 0.45257839 - time (sec): 60.68 - samples/sec: 1361.11 - lr: 0.000005\n",
            "2023-04-21 15:08:33,132 epoch 7 - iter 60/64 - loss 0.45354723 - time (sec): 67.38 - samples/sec: 1347.65 - lr: 0.000005\n",
            "2023-04-21 15:08:36,753 ----------------------------------------------------------------------------------------------------\n",
            "2023-04-21 15:08:36,754 EPOCH 7 done: loss 0.4545 - lr 0.000005\n"
          ]
        },
        {
          "output_type": "stream",
          "name": "stderr",
          "text": [
            "100%|██████████| 64/64 [00:24<00:00,  2.59it/s]\n"
          ]
        },
        {
          "output_type": "stream",
          "name": "stdout",
          "text": [
            "2023-04-21 15:09:01,613 Evaluating as a multi-label problem: True\n",
            "2023-04-21 15:09:04,469 TRAIN : loss 0.3886544406414032 - f1-score (weighted avg)  0.5102\n"
          ]
        },
        {
          "output_type": "stream",
          "name": "stderr",
          "text": [
            "100%|██████████| 8/8 [00:03<00:00,  2.48it/s]"
          ]
        },
        {
          "output_type": "stream",
          "name": "stdout",
          "text": [
            "2023-04-21 15:09:07,869 Evaluating as a multi-label problem: False\n",
            "2023-04-21 15:09:07,936 DEV : loss 0.4294235408306122 - f1-score (weighted avg)  0.4372\n",
            "2023-04-21 15:09:07,957 BAD EPOCHS (no improvement): 0\n",
            "2023-04-21 15:09:07,961 saving best model\n"
          ]
        },
        {
          "output_type": "stream",
          "name": "stderr",
          "text": [
            "\n"
          ]
        },
        {
          "output_type": "stream",
          "name": "stdout",
          "text": [
            "2023-04-21 15:09:18,245 ----------------------------------------------------------------------------------------------------\n",
            "2023-04-21 15:09:24,959 epoch 8 - iter 6/64 - loss 0.40626142 - time (sec): 6.71 - samples/sec: 1379.26 - lr: 0.000005\n",
            "2023-04-21 15:09:31,643 epoch 8 - iter 12/64 - loss 0.40624815 - time (sec): 13.40 - samples/sec: 1347.69 - lr: 0.000005\n",
            "2023-04-21 15:09:38,582 epoch 8 - iter 18/64 - loss 0.42924466 - time (sec): 20.34 - samples/sec: 1373.17 - lr: 0.000005\n",
            "2023-04-21 15:09:45,270 epoch 8 - iter 24/64 - loss 0.41517193 - time (sec): 27.02 - samples/sec: 1336.39 - lr: 0.000005\n",
            "2023-04-21 15:09:52,045 epoch 8 - iter 30/64 - loss 0.41377540 - time (sec): 33.80 - samples/sec: 1338.91 - lr: 0.000005\n",
            "2023-04-21 15:09:58,715 epoch 8 - iter 36/64 - loss 0.41083631 - time (sec): 40.47 - samples/sec: 1314.62 - lr: 0.000005\n",
            "2023-04-21 15:10:05,410 epoch 8 - iter 42/64 - loss 0.40334432 - time (sec): 47.16 - samples/sec: 1304.47 - lr: 0.000005\n",
            "2023-04-21 15:10:12,119 epoch 8 - iter 48/64 - loss 0.39945385 - time (sec): 53.87 - samples/sec: 1298.38 - lr: 0.000005\n",
            "2023-04-21 15:10:18,867 epoch 8 - iter 54/64 - loss 0.39454222 - time (sec): 60.62 - samples/sec: 1319.47 - lr: 0.000005\n",
            "2023-04-21 15:10:25,604 epoch 8 - iter 60/64 - loss 0.39155544 - time (sec): 67.36 - samples/sec: 1327.88 - lr: 0.000005\n",
            "2023-04-21 15:10:29,289 ----------------------------------------------------------------------------------------------------\n",
            "2023-04-21 15:10:29,291 EPOCH 8 done: loss 0.3867 - lr 0.000005\n"
          ]
        },
        {
          "output_type": "stream",
          "name": "stderr",
          "text": [
            "100%|██████████| 64/64 [00:25<00:00,  2.48it/s]\n"
          ]
        },
        {
          "output_type": "stream",
          "name": "stdout",
          "text": [
            "2023-04-21 15:10:55,214 Evaluating as a multi-label problem: True\n",
            "2023-04-21 15:10:59,087 TRAIN : loss 0.3294545114040375 - f1-score (weighted avg)  0.6105\n"
          ]
        },
        {
          "output_type": "stream",
          "name": "stderr",
          "text": [
            "100%|██████████| 8/8 [00:03<00:00,  2.50it/s]"
          ]
        },
        {
          "output_type": "stream",
          "name": "stdout",
          "text": [
            "2023-04-21 15:11:02,455 Evaluating as a multi-label problem: False\n",
            "2023-04-21 15:11:02,529 DEV : loss 0.3896329402923584 - f1-score (weighted avg)  0.5163\n",
            "2023-04-21 15:11:02,550 BAD EPOCHS (no improvement): 0\n",
            "2023-04-21 15:11:02,555 saving best model\n"
          ]
        },
        {
          "output_type": "stream",
          "name": "stderr",
          "text": [
            "\n"
          ]
        },
        {
          "output_type": "stream",
          "name": "stdout",
          "text": [
            "2023-04-21 15:11:12,270 ----------------------------------------------------------------------------------------------------\n",
            "2023-04-21 15:11:18,968 epoch 9 - iter 6/64 - loss 0.34897522 - time (sec): 6.70 - samples/sec: 1214.03 - lr: 0.000005\n",
            "2023-04-21 15:11:25,752 epoch 9 - iter 12/64 - loss 0.34330558 - time (sec): 13.48 - samples/sec: 1359.85 - lr: 0.000005\n",
            "2023-04-21 15:11:32,596 epoch 9 - iter 18/64 - loss 0.36722092 - time (sec): 20.32 - samples/sec: 1397.39 - lr: 0.000005\n",
            "2023-04-21 15:11:39,320 epoch 9 - iter 24/64 - loss 0.36030415 - time (sec): 27.05 - samples/sec: 1345.56 - lr: 0.000005\n",
            "2023-04-21 15:11:46,047 epoch 9 - iter 30/64 - loss 0.34910217 - time (sec): 33.77 - samples/sec: 1371.14 - lr: 0.000005\n",
            "2023-04-21 15:11:52,758 epoch 9 - iter 36/64 - loss 0.34559488 - time (sec): 40.49 - samples/sec: 1359.88 - lr: 0.000005\n",
            "2023-04-21 15:11:59,559 epoch 9 - iter 42/64 - loss 0.34846104 - time (sec): 47.29 - samples/sec: 1365.81 - lr: 0.000005\n",
            "2023-04-21 15:12:06,256 epoch 9 - iter 48/64 - loss 0.34823649 - time (sec): 53.98 - samples/sec: 1354.15 - lr: 0.000005\n",
            "2023-04-21 15:12:12,918 epoch 9 - iter 54/64 - loss 0.34470516 - time (sec): 60.65 - samples/sec: 1344.78 - lr: 0.000005\n",
            "2023-04-21 15:12:19,605 epoch 9 - iter 60/64 - loss 0.34082423 - time (sec): 67.33 - samples/sec: 1344.41 - lr: 0.000005\n",
            "2023-04-21 15:12:23,222 ----------------------------------------------------------------------------------------------------\n",
            "2023-04-21 15:12:23,224 EPOCH 9 done: loss 0.3399 - lr 0.000005\n"
          ]
        },
        {
          "output_type": "stream",
          "name": "stderr",
          "text": [
            "100%|██████████| 64/64 [00:24<00:00,  2.57it/s]\n"
          ]
        },
        {
          "output_type": "stream",
          "name": "stdout",
          "text": [
            "2023-04-21 15:12:48,278 Evaluating as a multi-label problem: True\n",
            "2023-04-21 15:12:52,290 TRAIN : loss 0.28942999243736267 - f1-score (weighted avg)  0.7048\n"
          ]
        },
        {
          "output_type": "stream",
          "name": "stderr",
          "text": [
            "100%|██████████| 8/8 [00:03<00:00,  2.49it/s]"
          ]
        },
        {
          "output_type": "stream",
          "name": "stdout",
          "text": [
            "2023-04-21 15:12:55,658 Evaluating as a multi-label problem: False\n",
            "2023-04-21 15:12:55,728 DEV : loss 0.3671266436576843 - f1-score (weighted avg)  0.604\n",
            "2023-04-21 15:12:55,749 BAD EPOCHS (no improvement): 0\n",
            "2023-04-21 15:12:55,753 saving best model\n"
          ]
        },
        {
          "output_type": "stream",
          "name": "stderr",
          "text": [
            "\n"
          ]
        },
        {
          "output_type": "stream",
          "name": "stdout",
          "text": [
            "2023-04-21 15:13:05,346 ----------------------------------------------------------------------------------------------------\n",
            "2023-04-21 15:13:12,067 epoch 10 - iter 6/64 - loss 0.31070939 - time (sec): 6.72 - samples/sec: 1343.28 - lr: 0.000005\n",
            "2023-04-21 15:13:18,850 epoch 10 - iter 12/64 - loss 0.31347606 - time (sec): 13.50 - samples/sec: 1400.77 - lr: 0.000005\n",
            "2023-04-21 15:13:25,508 epoch 10 - iter 18/64 - loss 0.31279389 - time (sec): 20.16 - samples/sec: 1344.68 - lr: 0.000005\n",
            "2023-04-21 15:13:32,178 epoch 10 - iter 24/64 - loss 0.30872141 - time (sec): 26.83 - samples/sec: 1322.83 - lr: 0.000005\n",
            "2023-04-21 15:13:38,847 epoch 10 - iter 30/64 - loss 0.29998883 - time (sec): 33.50 - samples/sec: 1316.90 - lr: 0.000005\n",
            "2023-04-21 15:13:45,678 epoch 10 - iter 36/64 - loss 0.31661349 - time (sec): 40.33 - samples/sec: 1327.75 - lr: 0.000005\n",
            "2023-04-21 15:13:52,347 epoch 10 - iter 42/64 - loss 0.31182225 - time (sec): 47.00 - samples/sec: 1324.88 - lr: 0.000005\n",
            "2023-04-21 15:13:59,155 epoch 10 - iter 48/64 - loss 0.31310675 - time (sec): 53.81 - samples/sec: 1332.87 - lr: 0.000005\n",
            "2023-04-21 15:14:05,850 epoch 10 - iter 54/64 - loss 0.30902653 - time (sec): 60.50 - samples/sec: 1323.63 - lr: 0.000005\n",
            "2023-04-21 15:14:12,592 epoch 10 - iter 60/64 - loss 0.30474333 - time (sec): 67.24 - samples/sec: 1323.75 - lr: 0.000005\n",
            "2023-04-21 15:14:16,237 ----------------------------------------------------------------------------------------------------\n",
            "2023-04-21 15:14:16,238 EPOCH 10 done: loss 0.3027 - lr 0.000005\n"
          ]
        },
        {
          "output_type": "stream",
          "name": "stderr",
          "text": [
            "100%|██████████| 64/64 [00:24<00:00,  2.57it/s]\n"
          ]
        },
        {
          "output_type": "stream",
          "name": "stdout",
          "text": [
            "2023-04-21 15:14:41,230 Evaluating as a multi-label problem: True\n",
            "2023-04-21 15:14:43,972 TRAIN : loss 0.2574145793914795 - f1-score (weighted avg)  0.7427\n"
          ]
        },
        {
          "output_type": "stream",
          "name": "stderr",
          "text": [
            "100%|██████████| 8/8 [00:03<00:00,  2.50it/s]"
          ]
        },
        {
          "output_type": "stream",
          "name": "stdout",
          "text": [
            "2023-04-21 15:14:47,338 Evaluating as a multi-label problem: False\n",
            "2023-04-21 15:14:47,408 DEV : loss 0.35706833004951477 - f1-score (weighted avg)  0.6324\n",
            "2023-04-21 15:14:47,428 BAD EPOCHS (no improvement): 0\n",
            "2023-04-21 15:14:47,432 saving best model\n"
          ]
        },
        {
          "output_type": "stream",
          "name": "stderr",
          "text": [
            "\n"
          ]
        },
        {
          "output_type": "stream",
          "name": "stdout",
          "text": [
            "2023-04-21 15:14:57,441 ----------------------------------------------------------------------------------------------------\n",
            "2023-04-21 15:15:04,306 epoch 11 - iter 6/64 - loss 0.30564832 - time (sec): 6.86 - samples/sec: 1455.17 - lr: 0.000005\n",
            "2023-04-21 15:15:11,018 epoch 11 - iter 12/64 - loss 0.28194098 - time (sec): 13.57 - samples/sec: 1344.14 - lr: 0.000005\n",
            "2023-04-21 15:15:17,679 epoch 11 - iter 18/64 - loss 0.27977207 - time (sec): 20.24 - samples/sec: 1320.58 - lr: 0.000005\n",
            "2023-04-21 15:15:24,343 epoch 11 - iter 24/64 - loss 0.28029822 - time (sec): 26.90 - samples/sec: 1334.91 - lr: 0.000005\n",
            "2023-04-21 15:15:31,077 epoch 11 - iter 30/64 - loss 0.27001259 - time (sec): 33.63 - samples/sec: 1345.72 - lr: 0.000005\n",
            "2023-04-21 15:15:37,801 epoch 11 - iter 36/64 - loss 0.26540711 - time (sec): 40.36 - samples/sec: 1332.73 - lr: 0.000005\n",
            "2023-04-21 15:15:45,521 epoch 11 - iter 42/64 - loss 0.26706012 - time (sec): 48.08 - samples/sec: 1310.09 - lr: 0.000005\n",
            "2023-04-21 15:15:52,216 epoch 11 - iter 48/64 - loss 0.26577149 - time (sec): 54.77 - samples/sec: 1325.16 - lr: 0.000005\n",
            "2023-04-21 15:15:59,090 epoch 11 - iter 54/64 - loss 0.27888925 - time (sec): 61.65 - samples/sec: 1334.66 - lr: 0.000005\n",
            "2023-04-21 15:16:05,770 epoch 11 - iter 60/64 - loss 0.27481982 - time (sec): 68.33 - samples/sec: 1320.35 - lr: 0.000005\n",
            "2023-04-21 15:16:09,403 ----------------------------------------------------------------------------------------------------\n",
            "2023-04-21 15:16:09,404 EPOCH 11 done: loss 0.2729 - lr 0.000005\n"
          ]
        },
        {
          "output_type": "stream",
          "name": "stderr",
          "text": [
            "100%|██████████| 64/64 [00:24<00:00,  2.58it/s]\n"
          ]
        },
        {
          "output_type": "stream",
          "name": "stdout",
          "text": [
            "2023-04-21 15:16:34,360 Evaluating as a multi-label problem: True\n",
            "2023-04-21 15:16:38,244 TRAIN : loss 0.23602625727653503 - f1-score (weighted avg)  0.7522\n"
          ]
        },
        {
          "output_type": "stream",
          "name": "stderr",
          "text": [
            "100%|██████████| 8/8 [00:03<00:00,  2.47it/s]"
          ]
        },
        {
          "output_type": "stream",
          "name": "stdout",
          "text": [
            "2023-04-21 15:16:41,643 Evaluating as a multi-label problem: False\n",
            "2023-04-21 15:16:41,714 DEV : loss 0.3434412181377411 - f1-score (weighted avg)  0.6371\n",
            "2023-04-21 15:16:41,737 BAD EPOCHS (no improvement): 0\n",
            "2023-04-21 15:16:41,741 saving best model\n"
          ]
        },
        {
          "output_type": "stream",
          "name": "stderr",
          "text": [
            "\n"
          ]
        },
        {
          "output_type": "stream",
          "name": "stdout",
          "text": [
            "2023-04-21 15:16:51,187 ----------------------------------------------------------------------------------------------------\n",
            "2023-04-21 15:16:57,899 epoch 12 - iter 6/64 - loss 0.23931080 - time (sec): 6.71 - samples/sec: 1292.80 - lr: 0.000005\n",
            "2023-04-21 15:17:04,583 epoch 12 - iter 12/64 - loss 0.23948579 - time (sec): 13.39 - samples/sec: 1247.28 - lr: 0.000005\n",
            "2023-04-21 15:17:11,540 epoch 12 - iter 18/64 - loss 0.30055898 - time (sec): 20.35 - samples/sec: 1296.71 - lr: 0.000005\n",
            "2023-04-21 15:17:18,215 epoch 12 - iter 24/64 - loss 0.29330624 - time (sec): 27.03 - samples/sec: 1274.22 - lr: 0.000005\n",
            "2023-04-21 15:17:25,006 epoch 12 - iter 30/64 - loss 0.28472687 - time (sec): 33.82 - samples/sec: 1294.48 - lr: 0.000005\n",
            "2023-04-21 15:17:31,691 epoch 12 - iter 36/64 - loss 0.27282329 - time (sec): 40.50 - samples/sec: 1314.88 - lr: 0.000005\n",
            "2023-04-21 15:17:38,435 epoch 12 - iter 42/64 - loss 0.26293625 - time (sec): 47.25 - samples/sec: 1328.82 - lr: 0.000005\n",
            "2023-04-21 15:17:45,156 epoch 12 - iter 48/64 - loss 0.25648813 - time (sec): 53.97 - samples/sec: 1348.39 - lr: 0.000005\n",
            "2023-04-21 15:17:51,866 epoch 12 - iter 54/64 - loss 0.25329595 - time (sec): 60.68 - samples/sec: 1352.69 - lr: 0.000005\n",
            "2023-04-21 15:17:58,612 epoch 12 - iter 60/64 - loss 0.25098320 - time (sec): 67.42 - samples/sec: 1346.70 - lr: 0.000005\n",
            "2023-04-21 15:18:02,222 ----------------------------------------------------------------------------------------------------\n",
            "2023-04-21 15:18:02,223 EPOCH 12 done: loss 0.2499 - lr 0.000005\n"
          ]
        },
        {
          "output_type": "stream",
          "name": "stderr",
          "text": [
            "100%|██████████| 64/64 [00:24<00:00,  2.58it/s]\n"
          ]
        },
        {
          "output_type": "stream",
          "name": "stdout",
          "text": [
            "2023-04-21 15:18:27,176 Evaluating as a multi-label problem: True\n",
            "2023-04-21 15:18:31,130 TRAIN : loss 0.21483080089092255 - f1-score (weighted avg)  0.7673\n"
          ]
        },
        {
          "output_type": "stream",
          "name": "stderr",
          "text": [
            "100%|██████████| 8/8 [00:03<00:00,  2.47it/s]"
          ]
        },
        {
          "output_type": "stream",
          "name": "stdout",
          "text": [
            "2023-04-21 15:18:34,529 Evaluating as a multi-label problem: False\n",
            "2023-04-21 15:18:34,600 DEV : loss 0.33488979935646057 - f1-score (weighted avg)  0.6326\n",
            "2023-04-21 15:18:34,621 BAD EPOCHS (no improvement): 0\n",
            "2023-04-21 15:18:34,625 saving best model\n"
          ]
        },
        {
          "output_type": "stream",
          "name": "stderr",
          "text": [
            "\n"
          ]
        },
        {
          "output_type": "stream",
          "name": "stdout",
          "text": [
            "2023-04-21 15:18:44,903 ----------------------------------------------------------------------------------------------------\n",
            "2023-04-21 15:18:51,595 epoch 13 - iter 6/64 - loss 0.20847284 - time (sec): 6.69 - samples/sec: 1360.34 - lr: 0.000005\n",
            "2023-04-21 15:18:58,409 epoch 13 - iter 12/64 - loss 0.21190554 - time (sec): 13.50 - samples/sec: 1390.51 - lr: 0.000005\n",
            "2023-04-21 15:19:05,075 epoch 13 - iter 18/64 - loss 0.21141206 - time (sec): 20.17 - samples/sec: 1362.21 - lr: 0.000005\n",
            "2023-04-21 15:19:11,786 epoch 13 - iter 24/64 - loss 0.21950593 - time (sec): 26.88 - samples/sec: 1333.47 - lr: 0.000005\n",
            "2023-04-21 15:19:18,462 epoch 13 - iter 30/64 - loss 0.21810185 - time (sec): 33.56 - samples/sec: 1305.93 - lr: 0.000005\n",
            "2023-04-21 15:19:25,141 epoch 13 - iter 36/64 - loss 0.21779225 - time (sec): 40.24 - samples/sec: 1285.75 - lr: 0.000005\n",
            "2023-04-21 15:19:31,867 epoch 13 - iter 42/64 - loss 0.21725054 - time (sec): 46.96 - samples/sec: 1309.86 - lr: 0.000005\n",
            "2023-04-21 15:19:38,688 epoch 13 - iter 48/64 - loss 0.22308326 - time (sec): 53.78 - samples/sec: 1339.21 - lr: 0.000005\n",
            "2023-04-21 15:19:45,576 epoch 13 - iter 54/64 - loss 0.23427603 - time (sec): 60.67 - samples/sec: 1350.44 - lr: 0.000005\n",
            "2023-04-21 15:19:52,264 epoch 13 - iter 60/64 - loss 0.23158435 - time (sec): 67.36 - samples/sec: 1331.13 - lr: 0.000005\n",
            "2023-04-21 15:19:55,889 ----------------------------------------------------------------------------------------------------\n",
            "2023-04-21 15:19:55,891 EPOCH 13 done: loss 0.2307 - lr 0.000005\n"
          ]
        },
        {
          "output_type": "stream",
          "name": "stderr",
          "text": [
            "100%|██████████| 64/64 [00:24<00:00,  2.57it/s]\n"
          ]
        },
        {
          "output_type": "stream",
          "name": "stdout",
          "text": [
            "2023-04-21 15:20:20,915 Evaluating as a multi-label problem: True\n",
            "2023-04-21 15:20:23,627 TRAIN : loss 0.20050732791423798 - f1-score (weighted avg)  0.7741\n"
          ]
        },
        {
          "output_type": "stream",
          "name": "stderr",
          "text": [
            "100%|██████████| 8/8 [00:03<00:00,  2.47it/s]\n"
          ]
        },
        {
          "output_type": "stream",
          "name": "stdout",
          "text": [
            "2023-04-21 15:20:28,029 Evaluating as a multi-label problem: False\n",
            "2023-04-21 15:20:28,099 DEV : loss 0.3598255515098572 - f1-score (weighted avg)  0.6272\n",
            "2023-04-21 15:20:28,121 BAD EPOCHS (no improvement): 1\n",
            "2023-04-21 15:20:28,125 ----------------------------------------------------------------------------------------------------\n",
            "2023-04-21 15:20:34,875 epoch 14 - iter 6/64 - loss 0.22765681 - time (sec): 6.75 - samples/sec: 1340.33 - lr: 0.000005\n",
            "2023-04-21 15:20:41,581 epoch 14 - iter 12/64 - loss 0.20539010 - time (sec): 13.45 - samples/sec: 1341.77 - lr: 0.000005\n",
            "2023-04-21 15:20:48,265 epoch 14 - iter 18/64 - loss 0.21240241 - time (sec): 20.14 - samples/sec: 1322.82 - lr: 0.000005\n",
            "2023-04-21 15:20:54,958 epoch 14 - iter 24/64 - loss 0.21182007 - time (sec): 26.83 - samples/sec: 1325.92 - lr: 0.000005\n",
            "2023-04-21 15:21:01,647 epoch 14 - iter 30/64 - loss 0.20986812 - time (sec): 33.52 - samples/sec: 1323.85 - lr: 0.000005\n",
            "2023-04-21 15:21:08,388 epoch 14 - iter 36/64 - loss 0.21239919 - time (sec): 40.26 - samples/sec: 1307.28 - lr: 0.000005\n",
            "2023-04-21 15:21:15,163 epoch 14 - iter 42/64 - loss 0.21391425 - time (sec): 47.04 - samples/sec: 1315.50 - lr: 0.000005\n",
            "2023-04-21 15:21:21,844 epoch 14 - iter 48/64 - loss 0.21103679 - time (sec): 53.72 - samples/sec: 1307.08 - lr: 0.000005\n",
            "2023-04-21 15:21:28,565 epoch 14 - iter 54/64 - loss 0.20774361 - time (sec): 60.44 - samples/sec: 1332.59 - lr: 0.000005\n",
            "2023-04-21 15:21:35,418 epoch 14 - iter 60/64 - loss 0.21908082 - time (sec): 67.29 - samples/sec: 1323.26 - lr: 0.000005\n",
            "2023-04-21 15:21:39,067 ----------------------------------------------------------------------------------------------------\n",
            "2023-04-21 15:21:39,069 EPOCH 14 done: loss 0.2172 - lr 0.000005\n"
          ]
        },
        {
          "output_type": "stream",
          "name": "stderr",
          "text": [
            "100%|██████████| 64/64 [00:24<00:00,  2.58it/s]\n"
          ]
        },
        {
          "output_type": "stream",
          "name": "stdout",
          "text": [
            "2023-04-21 15:22:04,052 Evaluating as a multi-label problem: True\n",
            "2023-04-21 15:22:08,006 TRAIN : loss 0.18805454671382904 - f1-score (weighted avg)  0.7824\n"
          ]
        },
        {
          "output_type": "stream",
          "name": "stderr",
          "text": [
            "100%|██████████| 8/8 [00:03<00:00,  2.47it/s]"
          ]
        },
        {
          "output_type": "stream",
          "name": "stdout",
          "text": [
            "2023-04-21 15:22:11,406 Evaluating as a multi-label problem: False\n",
            "2023-04-21 15:22:11,475 DEV : loss 0.33287736773490906 - f1-score (weighted avg)  0.6272\n",
            "2023-04-21 15:22:11,496 BAD EPOCHS (no improvement): 0\n",
            "2023-04-21 15:22:11,500 saving best model\n"
          ]
        },
        {
          "output_type": "stream",
          "name": "stderr",
          "text": [
            "\n"
          ]
        },
        {
          "output_type": "stream",
          "name": "stdout",
          "text": [
            "2023-04-21 15:22:21,192 ----------------------------------------------------------------------------------------------------\n",
            "2023-04-21 15:22:27,936 epoch 15 - iter 6/64 - loss 0.19823804 - time (sec): 6.74 - samples/sec: 1254.69 - lr: 0.000005\n",
            "2023-04-21 15:22:34,831 epoch 15 - iter 12/64 - loss 0.21445966 - time (sec): 13.64 - samples/sec: 1303.03 - lr: 0.000005\n",
            "2023-04-21 15:22:41,535 epoch 15 - iter 18/64 - loss 0.20060552 - time (sec): 20.34 - samples/sec: 1278.93 - lr: 0.000005\n",
            "2023-04-21 15:22:48,446 epoch 15 - iter 24/64 - loss 0.22524695 - time (sec): 27.25 - samples/sec: 1313.30 - lr: 0.000005\n",
            "2023-04-21 15:22:55,143 epoch 15 - iter 30/64 - loss 0.22088385 - time (sec): 33.95 - samples/sec: 1290.53 - lr: 0.000005\n",
            "2023-04-21 15:23:01,852 epoch 15 - iter 36/64 - loss 0.21542389 - time (sec): 40.66 - samples/sec: 1289.88 - lr: 0.000005\n",
            "2023-04-21 15:23:08,580 epoch 15 - iter 42/64 - loss 0.21216370 - time (sec): 47.39 - samples/sec: 1326.27 - lr: 0.000005\n",
            "2023-04-21 15:23:15,269 epoch 15 - iter 48/64 - loss 0.20702645 - time (sec): 54.08 - samples/sec: 1319.61 - lr: 0.000005\n",
            "2023-04-21 15:23:22,014 epoch 15 - iter 54/64 - loss 0.20750851 - time (sec): 60.82 - samples/sec: 1323.78 - lr: 0.000005\n",
            "2023-04-21 15:23:28,742 epoch 15 - iter 60/64 - loss 0.20513266 - time (sec): 67.55 - samples/sec: 1321.39 - lr: 0.000005\n",
            "2023-04-21 15:23:32,369 ----------------------------------------------------------------------------------------------------\n",
            "2023-04-21 15:23:32,371 EPOCH 15 done: loss 0.2066 - lr 0.000005\n"
          ]
        },
        {
          "output_type": "stream",
          "name": "stderr",
          "text": [
            "100%|██████████| 64/64 [00:24<00:00,  2.57it/s]\n"
          ]
        },
        {
          "output_type": "stream",
          "name": "stdout",
          "text": [
            "2023-04-21 15:23:57,402 Evaluating as a multi-label problem: True\n",
            "2023-04-21 15:24:01,352 TRAIN : loss 0.18198886513710022 - f1-score (weighted avg)  0.7836\n"
          ]
        },
        {
          "output_type": "stream",
          "name": "stderr",
          "text": [
            "100%|██████████| 8/8 [00:03<00:00,  2.48it/s]"
          ]
        },
        {
          "output_type": "stream",
          "name": "stdout",
          "text": [
            "2023-04-21 15:24:04,740 Evaluating as a multi-label problem: False\n",
            "2023-04-21 15:24:04,813 DEV : loss 0.3354378342628479 - f1-score (weighted avg)  0.6286\n",
            "2023-04-21 15:24:04,834 BAD EPOCHS (no improvement): 1\n",
            "2023-04-21 15:24:04,839 ----------------------------------------------------------------------------------------------------\n"
          ]
        },
        {
          "output_type": "stream",
          "name": "stderr",
          "text": [
            "\n"
          ]
        },
        {
          "output_type": "stream",
          "name": "stdout",
          "text": [
            "2023-04-21 15:24:11,545 epoch 16 - iter 6/64 - loss 0.18717252 - time (sec): 6.70 - samples/sec: 1332.29 - lr: 0.000005\n",
            "2023-04-21 15:24:18,275 epoch 16 - iter 12/64 - loss 0.19987973 - time (sec): 13.43 - samples/sec: 1329.22 - lr: 0.000005\n",
            "2023-04-21 15:24:25,112 epoch 16 - iter 18/64 - loss 0.22905987 - time (sec): 20.27 - samples/sec: 1325.12 - lr: 0.000005\n",
            "2023-04-21 15:24:31,836 epoch 16 - iter 24/64 - loss 0.21463242 - time (sec): 27.00 - samples/sec: 1372.20 - lr: 0.000005\n",
            "2023-04-21 15:24:38,612 epoch 16 - iter 30/64 - loss 0.21857972 - time (sec): 33.77 - samples/sec: 1368.32 - lr: 0.000005\n",
            "2023-04-21 15:24:45,304 epoch 16 - iter 36/64 - loss 0.21282021 - time (sec): 40.46 - samples/sec: 1346.24 - lr: 0.000005\n",
            "2023-04-21 15:24:51,981 epoch 16 - iter 42/64 - loss 0.20849913 - time (sec): 47.14 - samples/sec: 1338.82 - lr: 0.000005\n",
            "2023-04-21 15:24:58,691 epoch 16 - iter 48/64 - loss 0.20254008 - time (sec): 53.85 - samples/sec: 1343.47 - lr: 0.000005\n",
            "2023-04-21 15:25:05,407 epoch 16 - iter 54/64 - loss 0.19622723 - time (sec): 60.57 - samples/sec: 1346.93 - lr: 0.000005\n",
            "2023-04-21 15:25:12,135 epoch 16 - iter 60/64 - loss 0.19685994 - time (sec): 67.29 - samples/sec: 1351.67 - lr: 0.000005\n",
            "2023-04-21 15:25:15,736 ----------------------------------------------------------------------------------------------------\n",
            "2023-04-21 15:25:15,738 EPOCH 16 done: loss 0.1952 - lr 0.000005\n"
          ]
        },
        {
          "output_type": "stream",
          "name": "stderr",
          "text": [
            "100%|██████████| 64/64 [00:24<00:00,  2.58it/s]\n"
          ]
        },
        {
          "output_type": "stream",
          "name": "stdout",
          "text": [
            "2023-04-21 15:25:40,642 Evaluating as a multi-label problem: True\n",
            "2023-04-21 15:25:43,364 TRAIN : loss 0.1684892773628235 - f1-score (weighted avg)  0.7916\n"
          ]
        },
        {
          "output_type": "stream",
          "name": "stderr",
          "text": [
            "100%|██████████| 8/8 [00:04<00:00,  1.89it/s]"
          ]
        },
        {
          "output_type": "stream",
          "name": "stdout",
          "text": [
            "2023-04-21 15:25:47,770 Evaluating as a multi-label problem: False\n",
            "2023-04-21 15:25:47,840 DEV : loss 0.3369958996772766 - f1-score (weighted avg)  0.6381\n",
            "2023-04-21 15:25:47,862 Epoch    16: reducing learning rate of group 0 to 2.5000e-06.\n",
            "2023-04-21 15:25:47,864 BAD EPOCHS (no improvement): 2\n",
            "2023-04-21 15:25:47,868 ----------------------------------------------------------------------------------------------------\n"
          ]
        },
        {
          "output_type": "stream",
          "name": "stderr",
          "text": [
            "\n"
          ]
        },
        {
          "output_type": "stream",
          "name": "stdout",
          "text": [
            "2023-04-21 15:25:54,526 epoch 17 - iter 6/64 - loss 0.16495951 - time (sec): 6.66 - samples/sec: 1206.02 - lr: 0.000003\n",
            "2023-04-21 15:26:01,300 epoch 17 - iter 12/64 - loss 0.16613855 - time (sec): 13.43 - samples/sec: 1348.09 - lr: 0.000003\n",
            "2023-04-21 15:26:08,035 epoch 17 - iter 18/64 - loss 0.16684907 - time (sec): 20.17 - samples/sec: 1364.06 - lr: 0.000003\n",
            "2023-04-21 15:26:14,720 epoch 17 - iter 24/64 - loss 0.16697916 - time (sec): 26.85 - samples/sec: 1341.27 - lr: 0.000003\n",
            "2023-04-21 15:26:21,422 epoch 17 - iter 30/64 - loss 0.16840034 - time (sec): 33.55 - samples/sec: 1321.31 - lr: 0.000003\n",
            "2023-04-21 15:26:28,108 epoch 17 - iter 36/64 - loss 0.16634961 - time (sec): 40.24 - samples/sec: 1293.49 - lr: 0.000003\n",
            "2023-04-21 15:26:34,799 epoch 17 - iter 42/64 - loss 0.16592353 - time (sec): 46.93 - samples/sec: 1293.93 - lr: 0.000003\n",
            "2023-04-21 15:26:41,521 epoch 17 - iter 48/64 - loss 0.16532292 - time (sec): 53.65 - samples/sec: 1307.66 - lr: 0.000003\n",
            "2023-04-21 15:26:48,236 epoch 17 - iter 54/64 - loss 0.16666040 - time (sec): 60.37 - samples/sec: 1315.01 - lr: 0.000003\n",
            "2023-04-21 15:26:55,034 epoch 17 - iter 60/64 - loss 0.17048448 - time (sec): 67.17 - samples/sec: 1332.88 - lr: 0.000003\n",
            "2023-04-21 15:26:58,834 ----------------------------------------------------------------------------------------------------\n",
            "2023-04-21 15:26:58,835 EPOCH 17 done: loss 0.1823 - lr 0.000003\n"
          ]
        },
        {
          "output_type": "stream",
          "name": "stderr",
          "text": [
            "100%|██████████| 64/64 [00:24<00:00,  2.58it/s]\n"
          ]
        },
        {
          "output_type": "stream",
          "name": "stdout",
          "text": [
            "2023-04-21 15:27:23,736 Evaluating as a multi-label problem: True\n",
            "2023-04-21 15:27:27,616 TRAIN : loss 0.16132107377052307 - f1-score (weighted avg)  0.7948\n"
          ]
        },
        {
          "output_type": "stream",
          "name": "stderr",
          "text": [
            "100%|██████████| 8/8 [00:03<00:00,  2.48it/s]"
          ]
        },
        {
          "output_type": "stream",
          "name": "stdout",
          "text": [
            "2023-04-21 15:27:30,998 Evaluating as a multi-label problem: False\n",
            "2023-04-21 15:27:31,066 DEV : loss 0.328365683555603 - f1-score (weighted avg)  0.6335\n",
            "2023-04-21 15:27:31,087 BAD EPOCHS (no improvement): 0\n",
            "2023-04-21 15:27:31,091 saving best model\n"
          ]
        },
        {
          "output_type": "stream",
          "name": "stderr",
          "text": [
            "\n"
          ]
        },
        {
          "output_type": "stream",
          "name": "stdout",
          "text": [
            "2023-04-21 15:27:41,038 ----------------------------------------------------------------------------------------------------\n",
            "2023-04-21 15:27:47,745 epoch 18 - iter 6/64 - loss 0.18048938 - time (sec): 6.70 - samples/sec: 1191.81 - lr: 0.000003\n",
            "2023-04-21 15:27:54,460 epoch 18 - iter 12/64 - loss 0.16760785 - time (sec): 13.42 - samples/sec: 1265.14 - lr: 0.000003\n",
            "2023-04-21 15:28:01,148 epoch 18 - iter 18/64 - loss 0.16707931 - time (sec): 20.11 - samples/sec: 1265.70 - lr: 0.000003\n",
            "2023-04-21 15:28:07,859 epoch 18 - iter 24/64 - loss 0.16179826 - time (sec): 26.82 - samples/sec: 1296.92 - lr: 0.000003\n",
            "2023-04-21 15:28:14,679 epoch 18 - iter 30/64 - loss 0.16717468 - time (sec): 33.64 - samples/sec: 1351.62 - lr: 0.000003\n",
            "2023-04-21 15:28:21,397 epoch 18 - iter 36/64 - loss 0.16393035 - time (sec): 40.36 - samples/sec: 1353.16 - lr: 0.000003\n",
            "2023-04-21 15:28:28,273 epoch 18 - iter 42/64 - loss 0.17973566 - time (sec): 47.23 - samples/sec: 1338.07 - lr: 0.000003\n",
            "2023-04-21 15:28:34,990 epoch 18 - iter 48/64 - loss 0.18070871 - time (sec): 53.95 - samples/sec: 1336.00 - lr: 0.000003\n",
            "2023-04-21 15:28:41,762 epoch 18 - iter 54/64 - loss 0.17883435 - time (sec): 60.72 - samples/sec: 1326.56 - lr: 0.000003\n",
            "2023-04-21 15:28:48,487 epoch 18 - iter 60/64 - loss 0.17962788 - time (sec): 67.45 - samples/sec: 1320.98 - lr: 0.000003\n",
            "2023-04-21 15:28:52,147 ----------------------------------------------------------------------------------------------------\n",
            "2023-04-21 15:28:52,149 EPOCH 18 done: loss 0.1770 - lr 0.000003\n"
          ]
        },
        {
          "output_type": "stream",
          "name": "stderr",
          "text": [
            "100%|██████████| 64/64 [00:25<00:00,  2.56it/s]\n"
          ]
        },
        {
          "output_type": "stream",
          "name": "stdout",
          "text": [
            "2023-04-21 15:29:17,322 Evaluating as a multi-label problem: True\n",
            "2023-04-21 15:29:21,445 TRAIN : loss 0.15461769700050354 - f1-score (weighted avg)  0.7998\n"
          ]
        },
        {
          "output_type": "stream",
          "name": "stderr",
          "text": [
            "100%|██████████| 8/8 [00:03<00:00,  2.47it/s]"
          ]
        },
        {
          "output_type": "stream",
          "name": "stdout",
          "text": [
            "2023-04-21 15:29:24,855 Evaluating as a multi-label problem: False\n",
            "2023-04-21 15:29:24,927 DEV : loss 0.33131614327430725 - f1-score (weighted avg)  0.6339\n",
            "2023-04-21 15:29:24,949 BAD EPOCHS (no improvement): 1\n",
            "2023-04-21 15:29:24,954 ----------------------------------------------------------------------------------------------------\n"
          ]
        },
        {
          "output_type": "stream",
          "name": "stderr",
          "text": [
            "\n"
          ]
        },
        {
          "output_type": "stream",
          "name": "stdout",
          "text": [
            "2023-04-21 15:29:31,667 epoch 19 - iter 6/64 - loss 0.16640238 - time (sec): 6.71 - samples/sec: 1127.11 - lr: 0.000003\n",
            "2023-04-21 15:29:38,359 epoch 19 - iter 12/64 - loss 0.16096480 - time (sec): 13.40 - samples/sec: 1200.65 - lr: 0.000003\n",
            "2023-04-21 15:29:45,106 epoch 19 - iter 18/64 - loss 0.15055039 - time (sec): 20.15 - samples/sec: 1282.26 - lr: 0.000003\n",
            "2023-04-21 15:29:51,887 epoch 19 - iter 24/64 - loss 0.15291720 - time (sec): 26.93 - samples/sec: 1322.24 - lr: 0.000003\n",
            "2023-04-21 15:29:58,562 epoch 19 - iter 30/64 - loss 0.15255188 - time (sec): 33.61 - samples/sec: 1291.73 - lr: 0.000003\n",
            "2023-04-21 15:30:05,275 epoch 19 - iter 36/64 - loss 0.15586052 - time (sec): 40.32 - samples/sec: 1329.92 - lr: 0.000003\n",
            "2023-04-21 15:30:11,942 epoch 19 - iter 42/64 - loss 0.15605982 - time (sec): 46.99 - samples/sec: 1306.99 - lr: 0.000003\n",
            "2023-04-21 15:30:18,749 epoch 19 - iter 48/64 - loss 0.16083071 - time (sec): 53.79 - samples/sec: 1328.06 - lr: 0.000003\n",
            "2023-04-21 15:30:25,611 epoch 19 - iter 54/64 - loss 0.17529423 - time (sec): 60.66 - samples/sec: 1341.54 - lr: 0.000003\n",
            "2023-04-21 15:30:32,312 epoch 19 - iter 60/64 - loss 0.17214415 - time (sec): 67.36 - samples/sec: 1342.84 - lr: 0.000003\n",
            "2023-04-21 15:30:35,910 ----------------------------------------------------------------------------------------------------\n",
            "2023-04-21 15:30:35,912 EPOCH 19 done: loss 0.1707 - lr 0.000003\n"
          ]
        },
        {
          "output_type": "stream",
          "name": "stderr",
          "text": [
            "100%|██████████| 64/64 [00:24<00:00,  2.59it/s]\n"
          ]
        },
        {
          "output_type": "stream",
          "name": "stdout",
          "text": [
            "2023-04-21 15:31:00,784 Evaluating as a multi-label problem: True\n",
            "2023-04-21 15:31:04,681 TRAIN : loss 0.15391214191913605 - f1-score (weighted avg)  0.7992\n"
          ]
        },
        {
          "output_type": "stream",
          "name": "stderr",
          "text": [
            "100%|██████████| 8/8 [00:03<00:00,  2.47it/s]"
          ]
        },
        {
          "output_type": "stream",
          "name": "stdout",
          "text": [
            "2023-04-21 15:31:08,089 Evaluating as a multi-label problem: False\n",
            "2023-04-21 15:31:08,159 DEV : loss 0.32777702808380127 - f1-score (weighted avg)  0.6338\n",
            "2023-04-21 15:31:08,181 BAD EPOCHS (no improvement): 0\n",
            "2023-04-21 15:31:08,185 saving best model\n"
          ]
        },
        {
          "output_type": "stream",
          "name": "stderr",
          "text": [
            "\n"
          ]
        },
        {
          "output_type": "stream",
          "name": "stdout",
          "text": [
            "2023-04-21 15:31:18,204 ----------------------------------------------------------------------------------------------------\n",
            "2023-04-21 15:31:24,960 epoch 20 - iter 6/64 - loss 0.14271126 - time (sec): 6.75 - samples/sec: 1306.94 - lr: 0.000003\n",
            "2023-04-21 15:31:31,639 epoch 20 - iter 12/64 - loss 0.15585020 - time (sec): 13.43 - samples/sec: 1278.05 - lr: 0.000003\n",
            "2023-04-21 15:31:38,307 epoch 20 - iter 18/64 - loss 0.15594884 - time (sec): 20.10 - samples/sec: 1283.08 - lr: 0.000003\n",
            "2023-04-21 15:31:44,988 epoch 20 - iter 24/64 - loss 0.15455928 - time (sec): 26.78 - samples/sec: 1300.83 - lr: 0.000003\n",
            "2023-04-21 15:31:51,726 epoch 20 - iter 30/64 - loss 0.14662873 - time (sec): 33.52 - samples/sec: 1309.15 - lr: 0.000003\n",
            "2023-04-21 15:31:58,563 epoch 20 - iter 36/64 - loss 0.15358836 - time (sec): 40.36 - samples/sec: 1328.99 - lr: 0.000003\n",
            "2023-04-21 15:32:05,317 epoch 20 - iter 42/64 - loss 0.15448412 - time (sec): 47.11 - samples/sec: 1326.00 - lr: 0.000003\n",
            "2023-04-21 15:32:12,033 epoch 20 - iter 48/64 - loss 0.15307218 - time (sec): 53.83 - samples/sec: 1346.24 - lr: 0.000003\n",
            "2023-04-21 15:32:18,699 epoch 20 - iter 54/64 - loss 0.15185725 - time (sec): 60.49 - samples/sec: 1325.74 - lr: 0.000003\n",
            "2023-04-21 15:32:25,547 epoch 20 - iter 60/64 - loss 0.16494715 - time (sec): 67.34 - samples/sec: 1325.23 - lr: 0.000003\n",
            "2023-04-21 15:32:29,201 ----------------------------------------------------------------------------------------------------\n",
            "2023-04-21 15:32:29,203 EPOCH 20 done: loss 0.1648 - lr 0.000003\n"
          ]
        },
        {
          "output_type": "stream",
          "name": "stderr",
          "text": [
            "100%|██████████| 64/64 [00:24<00:00,  2.57it/s]\n"
          ]
        },
        {
          "output_type": "stream",
          "name": "stdout",
          "text": [
            "2023-04-21 15:32:54,279 Evaluating as a multi-label problem: True\n",
            "2023-04-21 15:32:57,007 TRAIN : loss 0.14464759826660156 - f1-score (weighted avg)  0.8127\n"
          ]
        },
        {
          "output_type": "stream",
          "name": "stderr",
          "text": [
            "100%|██████████| 8/8 [00:03<00:00,  2.48it/s]"
          ]
        },
        {
          "output_type": "stream",
          "name": "stdout",
          "text": [
            "2023-04-21 15:33:00,420 Evaluating as a multi-label problem: False\n",
            "2023-04-21 15:33:00,489 DEV : loss 0.3325453996658325 - f1-score (weighted avg)  0.6441\n",
            "2023-04-21 15:33:00,510 BAD EPOCHS (no improvement): 1\n",
            "2023-04-21 15:33:00,514 ----------------------------------------------------------------------------------------------------\n"
          ]
        },
        {
          "output_type": "stream",
          "name": "stderr",
          "text": [
            "\n"
          ]
        },
        {
          "output_type": "stream",
          "name": "stdout",
          "text": [
            "2023-04-21 15:33:07,365 epoch 21 - iter 6/64 - loss 0.17217422 - time (sec): 6.85 - samples/sec: 1402.68 - lr: 0.000003\n",
            "2023-04-21 15:33:14,058 epoch 21 - iter 12/64 - loss 0.15335210 - time (sec): 13.54 - samples/sec: 1343.61 - lr: 0.000003\n",
            "2023-04-21 15:33:20,752 epoch 21 - iter 18/64 - loss 0.16032620 - time (sec): 20.24 - samples/sec: 1292.54 - lr: 0.000003\n",
            "2023-04-21 15:33:27,534 epoch 21 - iter 24/64 - loss 0.16199702 - time (sec): 27.02 - samples/sec: 1312.96 - lr: 0.000003\n",
            "2023-04-21 15:33:34,214 epoch 21 - iter 30/64 - loss 0.15932650 - time (sec): 33.70 - samples/sec: 1297.45 - lr: 0.000003\n",
            "2023-04-21 15:33:40,918 epoch 21 - iter 36/64 - loss 0.15510179 - time (sec): 40.40 - samples/sec: 1313.69 - lr: 0.000003\n",
            "2023-04-21 15:33:47,602 epoch 21 - iter 42/64 - loss 0.15181310 - time (sec): 47.09 - samples/sec: 1307.75 - lr: 0.000003\n",
            "2023-04-21 15:33:55,478 epoch 21 - iter 48/64 - loss 0.16738824 - time (sec): 54.96 - samples/sec: 1303.93 - lr: 0.000003\n",
            "2023-04-21 15:34:02,258 epoch 21 - iter 54/64 - loss 0.16491422 - time (sec): 61.74 - samples/sec: 1319.00 - lr: 0.000003\n",
            "2023-04-21 15:34:08,975 epoch 21 - iter 60/64 - loss 0.16135538 - time (sec): 68.46 - samples/sec: 1310.51 - lr: 0.000003\n",
            "2023-04-21 15:34:12,614 ----------------------------------------------------------------------------------------------------\n",
            "2023-04-21 15:34:12,616 EPOCH 21 done: loss 0.1594 - lr 0.000003\n"
          ]
        },
        {
          "output_type": "stream",
          "name": "stderr",
          "text": [
            "100%|██████████| 64/64 [00:24<00:00,  2.56it/s]\n"
          ]
        },
        {
          "output_type": "stream",
          "name": "stdout",
          "text": [
            "2023-04-21 15:34:37,741 Evaluating as a multi-label problem: True\n",
            "2023-04-21 15:34:41,915 TRAIN : loss 0.14014171063899994 - f1-score (weighted avg)  0.8244\n"
          ]
        },
        {
          "output_type": "stream",
          "name": "stderr",
          "text": [
            "100%|██████████| 8/8 [00:03<00:00,  2.42it/s]"
          ]
        },
        {
          "output_type": "stream",
          "name": "stdout",
          "text": [
            "2023-04-21 15:34:45,393 Evaluating as a multi-label problem: False\n",
            "2023-04-21 15:34:45,468 DEV : loss 0.3306526839733124 - f1-score (weighted avg)  0.6489\n",
            "2023-04-21 15:34:45,490 Epoch    21: reducing learning rate of group 0 to 1.2500e-06.\n",
            "2023-04-21 15:34:45,492 BAD EPOCHS (no improvement): 2\n",
            "2023-04-21 15:34:45,497 ----------------------------------------------------------------------------------------------------\n"
          ]
        },
        {
          "output_type": "stream",
          "name": "stderr",
          "text": [
            "\n"
          ]
        },
        {
          "output_type": "stream",
          "name": "stdout",
          "text": [
            "2023-04-21 15:34:52,203 epoch 22 - iter 6/64 - loss 0.11353155 - time (sec): 6.70 - samples/sec: 1242.85 - lr: 0.000001\n",
            "2023-04-21 15:34:58,902 epoch 22 - iter 12/64 - loss 0.13448182 - time (sec): 13.40 - samples/sec: 1227.41 - lr: 0.000001\n",
            "2023-04-21 15:35:05,708 epoch 22 - iter 18/64 - loss 0.14159776 - time (sec): 20.21 - samples/sec: 1338.95 - lr: 0.000001\n",
            "2023-04-21 15:35:12,525 epoch 22 - iter 24/64 - loss 0.14168050 - time (sec): 27.03 - samples/sec: 1335.16 - lr: 0.000001\n",
            "2023-04-21 15:35:19,390 epoch 22 - iter 30/64 - loss 0.16542412 - time (sec): 33.89 - samples/sec: 1333.94 - lr: 0.000001\n",
            "2023-04-21 15:35:26,115 epoch 22 - iter 36/64 - loss 0.16091051 - time (sec): 40.62 - samples/sec: 1334.13 - lr: 0.000001\n",
            "2023-04-21 15:35:32,825 epoch 22 - iter 42/64 - loss 0.15711232 - time (sec): 47.33 - samples/sec: 1358.22 - lr: 0.000001\n",
            "2023-04-21 15:35:39,553 epoch 22 - iter 48/64 - loss 0.15634466 - time (sec): 54.06 - samples/sec: 1361.37 - lr: 0.000001\n",
            "2023-04-21 15:35:46,238 epoch 22 - iter 54/64 - loss 0.15706366 - time (sec): 60.74 - samples/sec: 1335.41 - lr: 0.000001\n",
            "2023-04-21 15:35:52,952 epoch 22 - iter 60/64 - loss 0.15703066 - time (sec): 67.45 - samples/sec: 1341.75 - lr: 0.000001\n",
            "2023-04-21 15:35:56,545 ----------------------------------------------------------------------------------------------------\n",
            "2023-04-21 15:35:56,547 EPOCH 22 done: loss 0.1557 - lr 0.000001\n"
          ]
        },
        {
          "output_type": "stream",
          "name": "stderr",
          "text": [
            "100%|██████████| 64/64 [00:24<00:00,  2.59it/s]\n"
          ]
        },
        {
          "output_type": "stream",
          "name": "stdout",
          "text": [
            "2023-04-21 15:36:21,442 Evaluating as a multi-label problem: True\n",
            "2023-04-21 15:36:25,401 TRAIN : loss 0.1375254988670349 - f1-score (weighted avg)  0.828\n"
          ]
        },
        {
          "output_type": "stream",
          "name": "stderr",
          "text": [
            "100%|██████████| 8/8 [00:03<00:00,  2.48it/s]"
          ]
        },
        {
          "output_type": "stream",
          "name": "stdout",
          "text": [
            "2023-04-21 15:36:28,796 Evaluating as a multi-label problem: False\n",
            "2023-04-21 15:36:28,865 DEV : loss 0.3337743282318115 - f1-score (weighted avg)  0.6521\n",
            "2023-04-21 15:36:28,886 BAD EPOCHS (no improvement): 1\n",
            "2023-04-21 15:36:28,891 ----------------------------------------------------------------------------------------------------\n"
          ]
        },
        {
          "output_type": "stream",
          "name": "stderr",
          "text": [
            "\n"
          ]
        },
        {
          "output_type": "stream",
          "name": "stdout",
          "text": [
            "2023-04-21 15:36:35,552 epoch 23 - iter 6/64 - loss 0.13558789 - time (sec): 6.66 - samples/sec: 1312.54 - lr: 0.000001\n",
            "2023-04-21 15:36:42,221 epoch 23 - iter 12/64 - loss 0.12713098 - time (sec): 13.33 - samples/sec: 1327.09 - lr: 0.000001\n",
            "2023-04-21 15:36:48,927 epoch 23 - iter 18/64 - loss 0.13801037 - time (sec): 20.03 - samples/sec: 1331.78 - lr: 0.000001\n",
            "2023-04-21 15:36:55,745 epoch 23 - iter 24/64 - loss 0.16672700 - time (sec): 26.85 - samples/sec: 1357.05 - lr: 0.000001\n",
            "2023-04-21 15:37:02,444 epoch 23 - iter 30/64 - loss 0.15977061 - time (sec): 33.55 - samples/sec: 1335.01 - lr: 0.000001\n",
            "2023-04-21 15:37:09,142 epoch 23 - iter 36/64 - loss 0.15520714 - time (sec): 40.25 - samples/sec: 1326.90 - lr: 0.000001\n",
            "2023-04-21 15:37:15,821 epoch 23 - iter 42/64 - loss 0.15361032 - time (sec): 46.93 - samples/sec: 1309.55 - lr: 0.000001\n",
            "2023-04-21 15:37:22,530 epoch 23 - iter 48/64 - loss 0.15088705 - time (sec): 53.64 - samples/sec: 1325.79 - lr: 0.000001\n",
            "2023-04-21 15:37:29,291 epoch 23 - iter 54/64 - loss 0.15074181 - time (sec): 60.40 - samples/sec: 1332.77 - lr: 0.000001\n",
            "2023-04-21 15:37:36,078 epoch 23 - iter 60/64 - loss 0.15116510 - time (sec): 67.19 - samples/sec: 1335.19 - lr: 0.000001\n",
            "2023-04-21 15:37:39,820 ----------------------------------------------------------------------------------------------------\n",
            "2023-04-21 15:37:39,821 EPOCH 23 done: loss 0.1532 - lr 0.000001\n"
          ]
        },
        {
          "output_type": "stream",
          "name": "stderr",
          "text": [
            "100%|██████████| 64/64 [00:24<00:00,  2.58it/s]\n"
          ]
        },
        {
          "output_type": "stream",
          "name": "stdout",
          "text": [
            "2023-04-21 15:38:04,762 Evaluating as a multi-label problem: True\n",
            "2023-04-21 15:38:07,485 TRAIN : loss 0.13586443662643433 - f1-score (weighted avg)  0.83\n"
          ]
        },
        {
          "output_type": "stream",
          "name": "stderr",
          "text": [
            "100%|██████████| 8/8 [00:03<00:00,  2.48it/s]"
          ]
        },
        {
          "output_type": "stream",
          "name": "stdout",
          "text": [
            "2023-04-21 15:38:10,870 Evaluating as a multi-label problem: False\n",
            "2023-04-21 15:38:10,938 DEV : loss 0.3327925503253937 - f1-score (weighted avg)  0.6515\n",
            "2023-04-21 15:38:10,960 Epoch    23: reducing learning rate of group 0 to 6.2500e-07.\n",
            "2023-04-21 15:38:10,962 BAD EPOCHS (no improvement): 2\n",
            "2023-04-21 15:38:10,966 ----------------------------------------------------------------------------------------------------\n"
          ]
        },
        {
          "output_type": "stream",
          "name": "stderr",
          "text": [
            "\n"
          ]
        },
        {
          "output_type": "stream",
          "name": "stdout",
          "text": [
            "2023-04-21 15:38:17,845 epoch 24 - iter 6/64 - loss 0.25127253 - time (sec): 6.88 - samples/sec: 1427.47 - lr: 0.000001\n",
            "2023-04-21 15:38:24,572 epoch 24 - iter 12/64 - loss 0.19208961 - time (sec): 13.60 - samples/sec: 1379.04 - lr: 0.000001\n",
            "2023-04-21 15:38:31,243 epoch 24 - iter 18/64 - loss 0.17137901 - time (sec): 20.28 - samples/sec: 1324.48 - lr: 0.000001\n",
            "2023-04-21 15:38:38,007 epoch 24 - iter 24/64 - loss 0.16074100 - time (sec): 27.04 - samples/sec: 1356.01 - lr: 0.000001\n",
            "2023-04-21 15:38:44,683 epoch 24 - iter 30/64 - loss 0.15324728 - time (sec): 33.72 - samples/sec: 1336.07 - lr: 0.000001\n",
            "2023-04-21 15:38:51,396 epoch 24 - iter 36/64 - loss 0.15127211 - time (sec): 40.43 - samples/sec: 1347.02 - lr: 0.000001\n",
            "2023-04-21 15:38:58,122 epoch 24 - iter 42/64 - loss 0.14790780 - time (sec): 47.15 - samples/sec: 1349.43 - lr: 0.000001\n",
            "2023-04-21 15:39:04,937 epoch 24 - iter 48/64 - loss 0.15455465 - time (sec): 53.97 - samples/sec: 1353.74 - lr: 0.000001\n",
            "2023-04-21 15:39:11,626 epoch 24 - iter 54/64 - loss 0.15328476 - time (sec): 60.66 - samples/sec: 1347.80 - lr: 0.000001\n",
            "2023-04-21 15:39:18,348 epoch 24 - iter 60/64 - loss 0.15321095 - time (sec): 67.38 - samples/sec: 1340.58 - lr: 0.000001\n",
            "2023-04-21 15:39:21,975 ----------------------------------------------------------------------------------------------------\n",
            "2023-04-21 15:39:21,976 EPOCH 24 done: loss 0.1518 - lr 0.000001\n"
          ]
        },
        {
          "output_type": "stream",
          "name": "stderr",
          "text": [
            "100%|██████████| 64/64 [00:25<00:00,  2.48it/s]\n"
          ]
        },
        {
          "output_type": "stream",
          "name": "stdout",
          "text": [
            "2023-04-21 15:39:47,911 Evaluating as a multi-label problem: True\n",
            "2023-04-21 15:39:51,818 TRAIN : loss 0.13387742638587952 - f1-score (weighted avg)  0.833\n"
          ]
        },
        {
          "output_type": "stream",
          "name": "stderr",
          "text": [
            "100%|██████████| 8/8 [00:03<00:00,  2.49it/s]"
          ]
        },
        {
          "output_type": "stream",
          "name": "stdout",
          "text": [
            "2023-04-21 15:39:55,192 Evaluating as a multi-label problem: False\n",
            "2023-04-21 15:39:55,260 DEV : loss 0.3336173892021179 - f1-score (weighted avg)  0.6512\n",
            "2023-04-21 15:39:55,282 BAD EPOCHS (no improvement): 1\n",
            "2023-04-21 15:39:55,286 ----------------------------------------------------------------------------------------------------\n"
          ]
        },
        {
          "output_type": "stream",
          "name": "stderr",
          "text": [
            "\n"
          ]
        },
        {
          "output_type": "stream",
          "name": "stdout",
          "text": [
            "2023-04-21 15:40:02,020 epoch 25 - iter 6/64 - loss 0.12142794 - time (sec): 6.73 - samples/sec: 1479.73 - lr: 0.000001\n",
            "2023-04-21 15:40:08,724 epoch 25 - iter 12/64 - loss 0.13350003 - time (sec): 13.44 - samples/sec: 1381.95 - lr: 0.000001\n",
            "2023-04-21 15:40:15,443 epoch 25 - iter 18/64 - loss 0.13331750 - time (sec): 20.16 - samples/sec: 1369.07 - lr: 0.000001\n",
            "2023-04-21 15:40:22,259 epoch 25 - iter 24/64 - loss 0.14511150 - time (sec): 26.97 - samples/sec: 1366.18 - lr: 0.000001\n",
            "2023-04-21 15:40:29,167 epoch 25 - iter 30/64 - loss 0.16453028 - time (sec): 33.88 - samples/sec: 1389.93 - lr: 0.000001\n",
            "2023-04-21 15:40:35,844 epoch 25 - iter 36/64 - loss 0.15999685 - time (sec): 40.56 - samples/sec: 1366.03 - lr: 0.000001\n",
            "2023-04-21 15:40:42,499 epoch 25 - iter 42/64 - loss 0.15601516 - time (sec): 47.21 - samples/sec: 1335.29 - lr: 0.000001\n",
            "2023-04-21 15:40:49,173 epoch 25 - iter 48/64 - loss 0.15673578 - time (sec): 53.89 - samples/sec: 1329.21 - lr: 0.000001\n",
            "2023-04-21 15:40:55,923 epoch 25 - iter 54/64 - loss 0.15255153 - time (sec): 60.64 - samples/sec: 1319.11 - lr: 0.000001\n",
            "2023-04-21 15:41:02,644 epoch 25 - iter 60/64 - loss 0.14974444 - time (sec): 67.36 - samples/sec: 1339.45 - lr: 0.000001\n",
            "2023-04-21 15:41:06,260 ----------------------------------------------------------------------------------------------------\n",
            "2023-04-21 15:41:06,262 EPOCH 25 done: loss 0.1498 - lr 0.000001\n"
          ]
        },
        {
          "output_type": "stream",
          "name": "stderr",
          "text": [
            "100%|██████████| 64/64 [00:24<00:00,  2.58it/s]\n"
          ]
        },
        {
          "output_type": "stream",
          "name": "stdout",
          "text": [
            "2023-04-21 15:41:31,223 Evaluating as a multi-label problem: True\n",
            "2023-04-21 15:41:33,942 TRAIN : loss 0.13351976871490479 - f1-score (weighted avg)  0.833\n"
          ]
        },
        {
          "output_type": "stream",
          "name": "stderr",
          "text": [
            "100%|██████████| 8/8 [00:04<00:00,  1.89it/s]"
          ]
        },
        {
          "output_type": "stream",
          "name": "stdout",
          "text": [
            "2023-04-21 15:41:38,350 Evaluating as a multi-label problem: False\n",
            "2023-04-21 15:41:38,423 DEV : loss 0.3345133662223816 - f1-score (weighted avg)  0.6535\n",
            "2023-04-21 15:41:38,445 Epoch    25: reducing learning rate of group 0 to 3.1250e-07.\n",
            "2023-04-21 15:41:38,447 BAD EPOCHS (no improvement): 2\n",
            "2023-04-21 15:41:38,450 ----------------------------------------------------------------------------------------------------\n"
          ]
        },
        {
          "output_type": "stream",
          "name": "stderr",
          "text": [
            "\n"
          ]
        },
        {
          "output_type": "stream",
          "name": "stdout",
          "text": [
            "2023-04-21 15:41:45,159 epoch 26 - iter 6/64 - loss 0.11773994 - time (sec): 6.71 - samples/sec: 1360.33 - lr: 0.000000\n",
            "2023-04-21 15:41:51,871 epoch 26 - iter 12/64 - loss 0.12587114 - time (sec): 13.42 - samples/sec: 1415.30 - lr: 0.000000\n",
            "2023-04-21 15:41:58,590 epoch 26 - iter 18/64 - loss 0.12769392 - time (sec): 20.14 - samples/sec: 1433.45 - lr: 0.000000\n",
            "2023-04-21 15:42:05,282 epoch 26 - iter 24/64 - loss 0.13214790 - time (sec): 26.83 - samples/sec: 1407.39 - lr: 0.000000\n",
            "2023-04-21 15:42:11,985 epoch 26 - iter 30/64 - loss 0.13731815 - time (sec): 33.53 - samples/sec: 1386.15 - lr: 0.000000\n",
            "2023-04-21 15:42:18,653 epoch 26 - iter 36/64 - loss 0.13903807 - time (sec): 40.20 - samples/sec: 1333.46 - lr: 0.000000\n",
            "2023-04-21 15:42:25,346 epoch 26 - iter 42/64 - loss 0.13575056 - time (sec): 46.89 - samples/sec: 1334.46 - lr: 0.000000\n",
            "2023-04-21 15:42:32,361 epoch 26 - iter 48/64 - loss 0.15653867 - time (sec): 53.91 - samples/sec: 1358.36 - lr: 0.000000\n",
            "2023-04-21 15:42:39,081 epoch 26 - iter 54/64 - loss 0.15189844 - time (sec): 60.63 - samples/sec: 1341.22 - lr: 0.000000\n",
            "2023-04-21 15:42:45,813 epoch 26 - iter 60/64 - loss 0.14850387 - time (sec): 67.36 - samples/sec: 1337.98 - lr: 0.000000\n",
            "2023-04-21 15:42:49,442 ----------------------------------------------------------------------------------------------------\n",
            "2023-04-21 15:42:49,444 EPOCH 26 done: loss 0.1485 - lr 0.000000\n"
          ]
        },
        {
          "output_type": "stream",
          "name": "stderr",
          "text": [
            "100%|██████████| 64/64 [00:24<00:00,  2.58it/s]\n"
          ]
        },
        {
          "output_type": "stream",
          "name": "stdout",
          "text": [
            "2023-04-21 15:43:14,409 Evaluating as a multi-label problem: True\n",
            "2023-04-21 15:43:18,319 TRAIN : loss 0.13248226046562195 - f1-score (weighted avg)  0.8361\n"
          ]
        },
        {
          "output_type": "stream",
          "name": "stderr",
          "text": [
            "100%|██████████| 8/8 [00:03<00:00,  2.49it/s]"
          ]
        },
        {
          "output_type": "stream",
          "name": "stdout",
          "text": [
            "2023-04-21 15:43:21,701 Evaluating as a multi-label problem: False\n",
            "2023-04-21 15:43:21,770 DEV : loss 0.3357246220111847 - f1-score (weighted avg)  0.6544\n",
            "2023-04-21 15:43:21,791 BAD EPOCHS (no improvement): 1\n",
            "2023-04-21 15:43:21,796 ----------------------------------------------------------------------------------------------------\n"
          ]
        },
        {
          "output_type": "stream",
          "name": "stderr",
          "text": [
            "\n"
          ]
        },
        {
          "output_type": "stream",
          "name": "stdout",
          "text": [
            "2023-04-21 15:43:28,513 epoch 27 - iter 6/64 - loss 0.12384726 - time (sec): 6.72 - samples/sec: 1268.38 - lr: 0.000000\n",
            "2023-04-21 15:43:35,216 epoch 27 - iter 12/64 - loss 0.11927437 - time (sec): 13.42 - samples/sec: 1283.95 - lr: 0.000000\n",
            "2023-04-21 15:43:42,095 epoch 27 - iter 18/64 - loss 0.16818964 - time (sec): 20.30 - samples/sec: 1281.74 - lr: 0.000000\n",
            "2023-04-21 15:43:48,798 epoch 27 - iter 24/64 - loss 0.15824031 - time (sec): 27.00 - samples/sec: 1267.20 - lr: 0.000000\n",
            "2023-04-21 15:43:55,578 epoch 27 - iter 30/64 - loss 0.16413943 - time (sec): 33.78 - samples/sec: 1300.19 - lr: 0.000000\n",
            "2023-04-21 15:44:02,274 epoch 27 - iter 36/64 - loss 0.15790644 - time (sec): 40.48 - samples/sec: 1319.63 - lr: 0.000000\n",
            "2023-04-21 15:44:08,972 epoch 27 - iter 42/64 - loss 0.15184415 - time (sec): 47.17 - samples/sec: 1323.18 - lr: 0.000000\n",
            "2023-04-21 15:44:15,721 epoch 27 - iter 48/64 - loss 0.14950490 - time (sec): 53.92 - samples/sec: 1324.43 - lr: 0.000000\n",
            "2023-04-21 15:44:22,459 epoch 27 - iter 54/64 - loss 0.14713808 - time (sec): 60.66 - samples/sec: 1333.19 - lr: 0.000000\n",
            "2023-04-21 15:44:29,173 epoch 27 - iter 60/64 - loss 0.14756096 - time (sec): 67.38 - samples/sec: 1341.04 - lr: 0.000000\n",
            "2023-04-21 15:44:32,795 ----------------------------------------------------------------------------------------------------\n",
            "2023-04-21 15:44:32,797 EPOCH 27 done: loss 0.1478 - lr 0.000000\n"
          ]
        },
        {
          "output_type": "stream",
          "name": "stderr",
          "text": [
            "100%|██████████| 64/64 [00:24<00:00,  2.58it/s]\n"
          ]
        },
        {
          "output_type": "stream",
          "name": "stdout",
          "text": [
            "2023-04-21 15:44:57,710 Evaluating as a multi-label problem: True\n",
            "2023-04-21 15:45:01,642 TRAIN : loss 0.13194435834884644 - f1-score (weighted avg)  0.8369\n"
          ]
        },
        {
          "output_type": "stream",
          "name": "stderr",
          "text": [
            "100%|██████████| 8/8 [00:03<00:00,  2.48it/s]"
          ]
        },
        {
          "output_type": "stream",
          "name": "stdout",
          "text": [
            "2023-04-21 15:45:05,032 Evaluating as a multi-label problem: False\n",
            "2023-04-21 15:45:05,103 DEV : loss 0.3356753885746002 - f1-score (weighted avg)  0.6564\n",
            "2023-04-21 15:45:05,126 Epoch    27: reducing learning rate of group 0 to 1.5625e-07.\n",
            "2023-04-21 15:45:05,128 BAD EPOCHS (no improvement): 2\n",
            "2023-04-21 15:45:05,133 ----------------------------------------------------------------------------------------------------\n"
          ]
        },
        {
          "output_type": "stream",
          "name": "stderr",
          "text": [
            "\n"
          ]
        },
        {
          "output_type": "stream",
          "name": "stdout",
          "text": [
            "2023-04-21 15:45:11,940 epoch 28 - iter 6/64 - loss 0.16046613 - time (sec): 6.81 - samples/sec: 1417.28 - lr: 0.000000\n",
            "2023-04-21 15:45:18,642 epoch 28 - iter 12/64 - loss 0.15260810 - time (sec): 13.51 - samples/sec: 1415.45 - lr: 0.000000\n",
            "2023-04-21 15:45:25,363 epoch 28 - iter 18/64 - loss 0.14031779 - time (sec): 20.23 - samples/sec: 1363.18 - lr: 0.000000\n",
            "2023-04-21 15:45:32,257 epoch 28 - iter 24/64 - loss 0.16723186 - time (sec): 27.12 - samples/sec: 1381.96 - lr: 0.000000\n",
            "2023-04-21 15:45:38,990 epoch 28 - iter 30/64 - loss 0.16047278 - time (sec): 33.86 - samples/sec: 1366.28 - lr: 0.000000\n",
            "2023-04-21 15:45:45,650 epoch 28 - iter 36/64 - loss 0.15653009 - time (sec): 40.52 - samples/sec: 1337.97 - lr: 0.000000\n",
            "2023-04-21 15:45:52,353 epoch 28 - iter 42/64 - loss 0.15327988 - time (sec): 47.22 - samples/sec: 1328.16 - lr: 0.000000\n",
            "2023-04-21 15:45:59,065 epoch 28 - iter 48/64 - loss 0.15216819 - time (sec): 53.93 - samples/sec: 1322.45 - lr: 0.000000\n",
            "2023-04-21 15:46:05,787 epoch 28 - iter 54/64 - loss 0.14951125 - time (sec): 60.65 - samples/sec: 1331.77 - lr: 0.000000\n",
            "2023-04-21 15:46:12,542 epoch 28 - iter 60/64 - loss 0.14889327 - time (sec): 67.41 - samples/sec: 1339.92 - lr: 0.000000\n",
            "2023-04-21 15:46:16,173 ----------------------------------------------------------------------------------------------------\n",
            "2023-04-21 15:46:16,175 EPOCH 28 done: loss 0.1462 - lr 0.000000\n"
          ]
        },
        {
          "output_type": "stream",
          "name": "stderr",
          "text": [
            "100%|██████████| 64/64 [00:24<00:00,  2.58it/s]\n"
          ]
        },
        {
          "output_type": "stream",
          "name": "stdout",
          "text": [
            "2023-04-21 15:46:41,088 Evaluating as a multi-label problem: True\n",
            "2023-04-21 15:46:45,056 TRAIN : loss 0.13082623481750488 - f1-score (weighted avg)  0.8388\n"
          ]
        },
        {
          "output_type": "stream",
          "name": "stderr",
          "text": [
            "100%|██████████| 8/8 [00:03<00:00,  2.48it/s]"
          ]
        },
        {
          "output_type": "stream",
          "name": "stdout",
          "text": [
            "2023-04-21 15:46:48,441 Evaluating as a multi-label problem: False\n",
            "2023-04-21 15:46:48,513 DEV : loss 0.33689722418785095 - f1-score (weighted avg)  0.6546\n",
            "2023-04-21 15:46:48,533 BAD EPOCHS (no improvement): 1\n",
            "2023-04-21 15:46:48,537 ----------------------------------------------------------------------------------------------------\n"
          ]
        },
        {
          "output_type": "stream",
          "name": "stderr",
          "text": [
            "\n"
          ]
        },
        {
          "output_type": "stream",
          "name": "stdout",
          "text": [
            "2023-04-21 15:46:55,236 epoch 29 - iter 6/64 - loss 0.11365887 - time (sec): 6.70 - samples/sec: 1160.16 - lr: 0.000000\n",
            "2023-04-21 15:47:01,981 epoch 29 - iter 12/64 - loss 0.12197672 - time (sec): 13.44 - samples/sec: 1349.30 - lr: 0.000000\n",
            "2023-04-21 15:47:08,696 epoch 29 - iter 18/64 - loss 0.12068983 - time (sec): 20.16 - samples/sec: 1409.28 - lr: 0.000000\n",
            "2023-04-21 15:47:15,379 epoch 29 - iter 24/64 - loss 0.12583134 - time (sec): 26.84 - samples/sec: 1381.07 - lr: 0.000000\n",
            "2023-04-21 15:47:22,050 epoch 29 - iter 30/64 - loss 0.12798782 - time (sec): 33.51 - samples/sec: 1345.48 - lr: 0.000000\n",
            "2023-04-21 15:47:28,783 epoch 29 - iter 36/64 - loss 0.13028769 - time (sec): 40.24 - samples/sec: 1337.37 - lr: 0.000000\n",
            "2023-04-21 15:47:35,589 epoch 29 - iter 42/64 - loss 0.14016421 - time (sec): 47.05 - samples/sec: 1348.81 - lr: 0.000000\n",
            "2023-04-21 15:47:42,298 epoch 29 - iter 48/64 - loss 0.13534457 - time (sec): 53.76 - samples/sec: 1343.27 - lr: 0.000000\n",
            "2023-04-21 15:47:48,979 epoch 29 - iter 54/64 - loss 0.13288270 - time (sec): 60.44 - samples/sec: 1339.71 - lr: 0.000000\n",
            "2023-04-21 15:47:55,846 epoch 29 - iter 60/64 - loss 0.14731449 - time (sec): 67.31 - samples/sec: 1339.15 - lr: 0.000000\n",
            "2023-04-21 15:47:59,497 ----------------------------------------------------------------------------------------------------\n",
            "2023-04-21 15:47:59,499 EPOCH 29 done: loss 0.1461 - lr 0.000000\n"
          ]
        },
        {
          "output_type": "stream",
          "name": "stderr",
          "text": [
            "100%|██████████| 64/64 [00:24<00:00,  2.58it/s]\n"
          ]
        },
        {
          "output_type": "stream",
          "name": "stdout",
          "text": [
            "2023-04-21 15:48:24,464 Evaluating as a multi-label problem: True\n",
            "2023-04-21 15:48:27,195 TRAIN : loss 0.13075421750545502 - f1-score (weighted avg)  0.8393\n"
          ]
        },
        {
          "output_type": "stream",
          "name": "stderr",
          "text": [
            "100%|██████████| 8/8 [00:03<00:00,  2.46it/s]"
          ]
        },
        {
          "output_type": "stream",
          "name": "stdout",
          "text": [
            "2023-04-21 15:48:30,603 Evaluating as a multi-label problem: False\n",
            "2023-04-21 15:48:30,675 DEV : loss 0.3382260501384735 - f1-score (weighted avg)  0.654\n",
            "2023-04-21 15:48:30,697 Epoch    29: reducing learning rate of group 0 to 7.8125e-08.\n",
            "2023-04-21 15:48:30,699 BAD EPOCHS (no improvement): 2\n",
            "2023-04-21 15:48:30,702 ----------------------------------------------------------------------------------------------------\n"
          ]
        },
        {
          "output_type": "stream",
          "name": "stderr",
          "text": [
            "\n"
          ]
        },
        {
          "output_type": "stream",
          "name": "stdout",
          "text": [
            "2023-04-21 15:48:37,446 epoch 30 - iter 6/64 - loss 0.12883740 - time (sec): 6.74 - samples/sec: 1453.66 - lr: 0.000000\n",
            "2023-04-21 15:48:44,137 epoch 30 - iter 12/64 - loss 0.12830416 - time (sec): 13.43 - samples/sec: 1419.84 - lr: 0.000000\n",
            "2023-04-21 15:48:50,849 epoch 30 - iter 18/64 - loss 0.13461667 - time (sec): 20.14 - samples/sec: 1398.62 - lr: 0.000000\n",
            "2023-04-21 15:48:57,514 epoch 30 - iter 24/64 - loss 0.13301284 - time (sec): 26.81 - samples/sec: 1347.04 - lr: 0.000000\n",
            "2023-04-21 15:49:04,231 epoch 30 - iter 30/64 - loss 0.13227422 - time (sec): 33.53 - samples/sec: 1340.15 - lr: 0.000000\n",
            "2023-04-21 15:49:12,088 epoch 30 - iter 36/64 - loss 0.15462808 - time (sec): 41.38 - samples/sec: 1305.84 - lr: 0.000000\n",
            "2023-04-21 15:49:18,800 epoch 30 - iter 42/64 - loss 0.15011043 - time (sec): 48.10 - samples/sec: 1303.11 - lr: 0.000000\n",
            "2023-04-21 15:49:25,634 epoch 30 - iter 48/64 - loss 0.15119787 - time (sec): 54.93 - samples/sec: 1318.69 - lr: 0.000000\n",
            "2023-04-21 15:49:32,338 epoch 30 - iter 54/64 - loss 0.14912407 - time (sec): 61.63 - samples/sec: 1306.54 - lr: 0.000000\n",
            "2023-04-21 15:49:39,081 epoch 30 - iter 60/64 - loss 0.14677669 - time (sec): 68.38 - samples/sec: 1314.05 - lr: 0.000000\n",
            "2023-04-21 15:49:42,703 ----------------------------------------------------------------------------------------------------\n",
            "2023-04-21 15:49:42,704 EPOCH 30 done: loss 0.1454 - lr 0.000000\n"
          ]
        },
        {
          "output_type": "stream",
          "name": "stderr",
          "text": [
            "100%|██████████| 64/64 [00:24<00:00,  2.58it/s]\n"
          ]
        },
        {
          "output_type": "stream",
          "name": "stdout",
          "text": [
            "2023-04-21 15:50:07,687 Evaluating as a multi-label problem: True\n",
            "2023-04-21 15:50:11,602 TRAIN : loss 0.13063673675060272 - f1-score (weighted avg)  0.839\n"
          ]
        },
        {
          "output_type": "stream",
          "name": "stderr",
          "text": [
            "100%|██████████| 8/8 [00:03<00:00,  2.46it/s]"
          ]
        },
        {
          "output_type": "stream",
          "name": "stdout",
          "text": [
            "2023-04-21 15:50:15,018 Evaluating as a multi-label problem: False\n",
            "2023-04-21 15:50:15,087 DEV : loss 0.33797186613082886 - f1-score (weighted avg)  0.6548\n",
            "2023-04-21 15:50:15,108 BAD EPOCHS (no improvement): 1\n",
            "2023-04-21 15:50:15,113 ----------------------------------------------------------------------------------------------------\n"
          ]
        },
        {
          "output_type": "stream",
          "name": "stderr",
          "text": [
            "\n"
          ]
        },
        {
          "output_type": "stream",
          "name": "stdout",
          "text": [
            "2023-04-21 15:50:21,798 epoch 31 - iter 6/64 - loss 0.09897079 - time (sec): 6.68 - samples/sec: 1363.76 - lr: 0.000000\n",
            "2023-04-21 15:50:28,512 epoch 31 - iter 12/64 - loss 0.11426901 - time (sec): 13.40 - samples/sec: 1277.09 - lr: 0.000000\n",
            "2023-04-21 15:50:35,297 epoch 31 - iter 18/64 - loss 0.13729169 - time (sec): 20.18 - samples/sec: 1304.91 - lr: 0.000000\n",
            "2023-04-21 15:50:41,999 epoch 31 - iter 24/64 - loss 0.13821290 - time (sec): 26.88 - samples/sec: 1306.11 - lr: 0.000000\n",
            "2023-04-21 15:50:48,707 epoch 31 - iter 30/64 - loss 0.13753054 - time (sec): 33.59 - samples/sec: 1294.34 - lr: 0.000000\n",
            "2023-04-21 15:50:55,390 epoch 31 - iter 36/64 - loss 0.14088950 - time (sec): 40.28 - samples/sec: 1289.02 - lr: 0.000000\n",
            "2023-04-21 15:51:02,283 epoch 31 - iter 42/64 - loss 0.16273451 - time (sec): 47.17 - samples/sec: 1305.29 - lr: 0.000000\n",
            "2023-04-21 15:51:09,042 epoch 31 - iter 48/64 - loss 0.15667424 - time (sec): 53.93 - samples/sec: 1320.53 - lr: 0.000000\n",
            "2023-04-21 15:51:15,752 epoch 31 - iter 54/64 - loss 0.15135294 - time (sec): 60.64 - samples/sec: 1349.55 - lr: 0.000000\n",
            "2023-04-21 15:51:22,434 epoch 31 - iter 60/64 - loss 0.14755317 - time (sec): 67.32 - samples/sec: 1345.78 - lr: 0.000000\n",
            "2023-04-21 15:51:26,046 ----------------------------------------------------------------------------------------------------\n",
            "2023-04-21 15:51:26,048 EPOCH 31 done: loss 0.1465 - lr 0.000000\n"
          ]
        },
        {
          "output_type": "stream",
          "name": "stderr",
          "text": [
            "100%|██████████| 64/64 [00:24<00:00,  2.58it/s]\n"
          ]
        },
        {
          "output_type": "stream",
          "name": "stdout",
          "text": [
            "2023-04-21 15:51:50,980 Evaluating as a multi-label problem: True\n",
            "2023-04-21 15:51:54,929 TRAIN : loss 0.1305588036775589 - f1-score (weighted avg)  0.8395\n"
          ]
        },
        {
          "output_type": "stream",
          "name": "stderr",
          "text": [
            "100%|██████████| 8/8 [00:03<00:00,  2.48it/s]"
          ]
        },
        {
          "output_type": "stream",
          "name": "stdout",
          "text": [
            "2023-04-21 15:51:58,322 Evaluating as a multi-label problem: False\n",
            "2023-04-21 15:51:58,391 DEV : loss 0.3375723361968994 - f1-score (weighted avg)  0.657\n",
            "2023-04-21 15:51:58,412 Epoch    31: reducing learning rate of group 0 to 3.9063e-08.\n",
            "2023-04-21 15:51:58,414 BAD EPOCHS (no improvement): 2\n",
            "2023-04-21 15:51:58,417 ----------------------------------------------------------------------------------------------------\n"
          ]
        },
        {
          "output_type": "stream",
          "name": "stderr",
          "text": [
            "\n"
          ]
        },
        {
          "output_type": "stream",
          "name": "stdout",
          "text": [
            "2023-04-21 15:52:05,115 epoch 32 - iter 6/64 - loss 0.11941881 - time (sec): 6.70 - samples/sec: 1425.99 - lr: 0.000000\n",
            "2023-04-21 15:52:11,835 epoch 32 - iter 12/64 - loss 0.12052562 - time (sec): 13.42 - samples/sec: 1418.66 - lr: 0.000000\n",
            "2023-04-21 15:52:18,531 epoch 32 - iter 18/64 - loss 0.12396488 - time (sec): 20.11 - samples/sec: 1359.37 - lr: 0.000000\n",
            "2023-04-21 15:52:25,223 epoch 32 - iter 24/64 - loss 0.12340630 - time (sec): 26.80 - samples/sec: 1363.27 - lr: 0.000000\n",
            "2023-04-21 15:52:32,104 epoch 32 - iter 30/64 - loss 0.14970966 - time (sec): 33.68 - samples/sec: 1357.34 - lr: 0.000000\n",
            "2023-04-21 15:52:38,788 epoch 32 - iter 36/64 - loss 0.14444917 - time (sec): 40.37 - samples/sec: 1359.72 - lr: 0.000000\n",
            "2023-04-21 15:52:45,595 epoch 32 - iter 42/64 - loss 0.14551454 - time (sec): 47.18 - samples/sec: 1360.38 - lr: 0.000000\n",
            "2023-04-21 15:52:52,467 epoch 32 - iter 48/64 - loss 0.14838597 - time (sec): 54.05 - samples/sec: 1364.88 - lr: 0.000000\n",
            "2023-04-21 15:52:59,148 epoch 32 - iter 54/64 - loss 0.14776232 - time (sec): 60.73 - samples/sec: 1351.60 - lr: 0.000000\n",
            "2023-04-21 15:53:05,823 epoch 32 - iter 60/64 - loss 0.14764939 - time (sec): 67.40 - samples/sec: 1341.63 - lr: 0.000000\n",
            "2023-04-21 15:53:09,456 ----------------------------------------------------------------------------------------------------\n",
            "2023-04-21 15:53:09,458 EPOCH 32 done: loss 0.1456 - lr 0.000000\n"
          ]
        },
        {
          "output_type": "stream",
          "name": "stderr",
          "text": [
            "100%|██████████| 64/64 [00:24<00:00,  2.58it/s]\n"
          ]
        },
        {
          "output_type": "stream",
          "name": "stdout",
          "text": [
            "2023-04-21 15:53:34,386 Evaluating as a multi-label problem: True\n",
            "2023-04-21 15:53:37,110 TRAIN : loss 0.13050147891044617 - f1-score (weighted avg)  0.8396\n"
          ]
        },
        {
          "output_type": "stream",
          "name": "stderr",
          "text": [
            "100%|██████████| 8/8 [00:03<00:00,  2.49it/s]"
          ]
        },
        {
          "output_type": "stream",
          "name": "stdout",
          "text": [
            "2023-04-21 15:53:40,486 Evaluating as a multi-label problem: False\n",
            "2023-04-21 15:53:40,556 DEV : loss 0.3376908600330353 - f1-score (weighted avg)  0.657\n",
            "2023-04-21 15:53:40,577 BAD EPOCHS (no improvement): 1\n",
            "2023-04-21 15:53:40,582 ----------------------------------------------------------------------------------------------------\n"
          ]
        },
        {
          "output_type": "stream",
          "name": "stderr",
          "text": [
            "\n"
          ]
        },
        {
          "output_type": "stream",
          "name": "stdout",
          "text": [
            "2023-04-21 15:53:47,278 epoch 33 - iter 6/64 - loss 0.10902645 - time (sec): 6.69 - samples/sec: 1409.26 - lr: 0.000000\n",
            "2023-04-21 15:53:53,997 epoch 33 - iter 12/64 - loss 0.12133482 - time (sec): 13.41 - samples/sec: 1427.33 - lr: 0.000000\n",
            "2023-04-21 15:54:00,698 epoch 33 - iter 18/64 - loss 0.12594820 - time (sec): 20.11 - samples/sec: 1414.91 - lr: 0.000000\n",
            "2023-04-21 15:54:07,408 epoch 33 - iter 24/64 - loss 0.12855389 - time (sec): 26.82 - samples/sec: 1374.70 - lr: 0.000000\n",
            "2023-04-21 15:54:14,158 epoch 33 - iter 30/64 - loss 0.12826825 - time (sec): 33.57 - samples/sec: 1375.71 - lr: 0.000000\n",
            "2023-04-21 15:54:21,868 epoch 33 - iter 36/64 - loss 0.13206107 - time (sec): 41.28 - samples/sec: 1346.49 - lr: 0.000000\n",
            "2023-04-21 15:54:28,577 epoch 33 - iter 42/64 - loss 0.13273690 - time (sec): 47.99 - samples/sec: 1328.81 - lr: 0.000000\n",
            "2023-04-21 15:54:35,267 epoch 33 - iter 48/64 - loss 0.13267821 - time (sec): 54.68 - samples/sec: 1321.00 - lr: 0.000000\n",
            "2023-04-21 15:54:42,037 epoch 33 - iter 54/64 - loss 0.13675329 - time (sec): 61.45 - samples/sec: 1308.47 - lr: 0.000000\n",
            "2023-04-21 15:54:48,932 epoch 33 - iter 60/64 - loss 0.14678085 - time (sec): 68.35 - samples/sec: 1313.51 - lr: 0.000000\n",
            "2023-04-21 15:54:52,585 ----------------------------------------------------------------------------------------------------\n",
            "2023-04-21 15:54:52,587 EPOCH 33 done: loss 0.1451 - lr 0.000000\n"
          ]
        },
        {
          "output_type": "stream",
          "name": "stderr",
          "text": [
            "100%|██████████| 64/64 [00:24<00:00,  2.58it/s]\n"
          ]
        },
        {
          "output_type": "stream",
          "name": "stdout",
          "text": [
            "2023-04-21 15:55:17,549 Evaluating as a multi-label problem: True\n",
            "2023-04-21 15:55:21,508 TRAIN : loss 0.13037079572677612 - f1-score (weighted avg)  0.8397\n"
          ]
        },
        {
          "output_type": "stream",
          "name": "stderr",
          "text": [
            "100%|██████████| 8/8 [00:03<00:00,  2.48it/s]"
          ]
        },
        {
          "output_type": "stream",
          "name": "stdout",
          "text": [
            "2023-04-21 15:55:24,907 Evaluating as a multi-label problem: False\n",
            "2023-04-21 15:55:24,978 DEV : loss 0.3376230001449585 - f1-score (weighted avg)  0.6567\n",
            "2023-04-21 15:55:24,999 Epoch    33: reducing learning rate of group 0 to 1.9531e-08.\n",
            "2023-04-21 15:55:25,001 BAD EPOCHS (no improvement): 2\n",
            "2023-04-21 15:55:25,017 ----------------------------------------------------------------------------------------------------\n",
            "2023-04-21 15:55:25,019 ----------------------------------------------------------------------------------------------------\n",
            "2023-04-21 15:55:25,020 learning rate too small - quitting training!\n",
            "2023-04-21 15:55:25,021 ----------------------------------------------------------------------------------------------------\n"
          ]
        },
        {
          "output_type": "stream",
          "name": "stderr",
          "text": [
            "\n"
          ]
        },
        {
          "output_type": "stream",
          "name": "stdout",
          "text": [
            "2023-04-21 15:55:37,474 ----------------------------------------------------------------------------------------------------\n",
            "2023-04-21 15:55:48,075 SequenceTagger predicts: Dictionary with 22 tags: <unk>, O, I-ADR, E-ADR, B-ADR, S-ADR, S-Drug, B-Finding, E-Finding, I-Finding, B-Disease, E-Disease, E-Symptom, S-Disease, S-Symptom, E-Drug, B-Symptom, B-Drug, S-Finding, I-Symptom, I-Drug, I-Disease\n"
          ]
        },
        {
          "output_type": "stream",
          "name": "stderr",
          "text": [
            "100%|██████████| 8/8 [00:03<00:00,  2.53it/s]"
          ]
        },
        {
          "output_type": "stream",
          "name": "stdout",
          "text": [
            "2023-04-21 15:55:51,643 Evaluating as a multi-label problem: True\n"
          ]
        },
        {
          "output_type": "stream",
          "name": "stderr",
          "text": [
            "\n"
          ]
        },
        {
          "output_type": "stream",
          "name": "stdout",
          "text": [
            "2023-04-21 15:55:51,987 0.6996\t0.719\t0.7091\t0.9279\n",
            "2023-04-21 15:55:51,988 \n",
            "Results:\n",
            "- F-score (micro) 0.7091\n",
            "- F-score (macro) 0.1898\n",
            "- Accuracy 0.9279\n",
            "\n",
            "By class:\n",
            "              precision    recall  f1-score   support\n",
            "\n",
            "       I-ADR     0.6293    0.7600    0.6885       525\n",
            "       E-ADR     0.7752    0.8190    0.7965       442\n",
            "       B-ADR     0.7602    0.8493    0.8023       418\n",
            "      S-Drug     0.6800    0.9740    0.8009       192\n",
            "       S-ADR     0.6318    0.8038    0.7075       158\n",
            "   S-Finding     0.0000    0.0000    0.0000        28\n",
            "   E-Finding     0.0000    0.0000    0.0000        27\n",
            "      B-Drug     0.0000    0.0000    0.0000        27\n",
            "      E-Drug     0.0000    0.0000    0.0000        27\n",
            "      I-Drug     0.0000    0.0000    0.0000        25\n",
            "   B-Finding     0.0000    0.0000    0.0000        24\n",
            "   I-Symptom     0.0000    0.0000    0.0000        20\n",
            "   B-Symptom     0.0000    0.0000    0.0000        13\n",
            "   E-Symptom     0.0000    0.0000    0.0000        13\n",
            "   S-Disease     0.0000    0.0000    0.0000        12\n",
            "   E-Disease     0.0000    0.0000    0.0000         9\n",
            "   I-Finding     0.0000    0.0000    0.0000         9\n",
            "   S-Symptom     0.0000    0.0000    0.0000         9\n",
            "   B-Disease     0.0000    0.0000    0.0000         8\n",
            "   I-Disease     0.0000    0.0000    0.0000         3\n",
            "\n",
            "   micro avg     0.6996    0.7190    0.7091      1989\n",
            "   macro avg     0.1738    0.2103    0.1898      1989\n",
            "weighted avg     0.6140    0.7190    0.6608      1989\n",
            " samples avg     0.1208    0.1208    0.1208      1989\n",
            "\n",
            "2023-04-21 15:55:51,989 ----------------------------------------------------------------------------------------------------\n"
          ]
        }
      ],
      "source": [
        "hist = trainer.train('flair_ner_model'+suf,\n",
        "              embeddings_storage_mode='gpu',\n",
        "              gold_label_dictionary_for_eval=tag_dictionary,\n",
        "              mini_batch_size = 15,\n",
        "              eval_batch_size = 15,\n",
        "              patience=1,\n",
        "              anneal_factor = 0.5,\n",
        "              anneal_against_dev_loss=True,\n",
        "              main_evaluation_metric = (\"weighted avg\", \"f1-score\"),\n",
        "              metrics_for_tensorboard=[(\"weighted avg\", 'precision'), (\"weighted avg\", 'recall'), (\"macro avg\", 'f1-score'), (\"macro avg\", 'precision'), (\"macro avg\", 'recall')],\n",
        "              use_tensorboard=True,\n",
        "              tensorboard_comment='Flair NER',\n",
        "              tensorboard_log_dir='runs/tb_logs'+suf,\n",
        "              min_learning_rate=3e-8,\n",
        "              optimizer=AdamW,\n",
        "              learning_rate=5.0e-6,\n",
        "              weight_decay=0.001,\n",
        "              max_epochs=100,\n",
        "              monitor_train=True,\n",
        "              save_optimizer_state=True,)\n",
        "# hist"
      ]
    },
    {
      "cell_type": "code",
      "execution_count": 16,
      "metadata": {
        "id": "ExiLRreqXsDJ"
      },
      "outputs": [],
      "source": [
        "# print(hist.keys())\n",
        "# hist"
      ]
    },
    {
      "cell_type": "code",
      "execution_count": 17,
      "metadata": {
        "id": "P5Uu5qkN0pia",
        "colab": {
          "base_uri": "https://localhost:8080/",
          "height": 1000
        },
        "outputId": "2dc910a6-ad18-4515-8f1b-4442fca4ccee"
      },
      "outputs": [
        {
          "output_type": "stream",
          "name": "stdout",
          "text": [
            "_v2_spanbert-large-cased\n",
            "2023-04-21 15:55:52,012 ----------------------------------------------------------------------------------------------------\n",
            "2023-04-21 15:55:52,013 WARNING: No LOSS found for test split in this data.\n",
            "2023-04-21 15:55:52,014 Are you sure you want to plot LOSS and not another value?\n",
            "2023-04-21 15:55:52,015 ----------------------------------------------------------------------------------------------------\n",
            "2023-04-21 15:55:52,039 ----------------------------------------------------------------------------------------------------\n",
            "2023-04-21 15:55:52,040 WARNING: No F1 found for test split in this data.\n",
            "2023-04-21 15:55:52,040 Are you sure you want to plot F1 and not another value?\n",
            "2023-04-21 15:55:52,041 ----------------------------------------------------------------------------------------------------\n",
            "2023-04-21 15:55:53,128 Loss and F1 plots are saved in flair_ner_model_v2_spanbert-large-cased/training.png\n"
          ]
        },
        {
          "output_type": "display_data",
          "data": {
            "text/plain": [
              "<Figure size 1500x1000 with 2 Axes>"
            ],
            "image/png": "[encoded data removed]"
          },
          "metadata": {}
        },
        {
          "output_type": "stream",
          "name": "stderr",
          "text": [
            "100%|██████████| 64/64 [00:24<00:00,  2.56it/s]\n"
          ]
        },
        {
          "output_type": "stream",
          "name": "stdout",
          "text": [
            "2023-04-21 15:56:18,571 Evaluating as a multi-label problem: True\n"
          ]
        },
        {
          "output_type": "stream",
          "name": "stderr",
          "text": [
            "100%|██████████| 8/8 [00:03<00:00,  2.50it/s]"
          ]
        },
        {
          "output_type": "stream",
          "name": "stdout",
          "text": [
            "2023-04-21 15:56:25,680 Evaluating as a multi-label problem: False\n"
          ]
        },
        {
          "output_type": "stream",
          "name": "stderr",
          "text": [
            "\n",
            "100%|██████████| 8/8 [00:03<00:00,  2.54it/s]"
          ]
        },
        {
          "output_type": "stream",
          "name": "stdout",
          "text": [
            "2023-04-21 15:56:28,925 Evaluating as a multi-label problem: True\n"
          ]
        },
        {
          "output_type": "stream",
          "name": "stderr",
          "text": [
            "\n"
          ]
        },
        {
          "output_type": "execute_result",
          "data": {
            "text/plain": [
              "    split      index        I-ADR        E-ADR        B-ADR        S-ADR  \\\n",
              "0   train  precision     0.873157     0.871623     0.856192     0.736933   \n",
              "1   train     recall     0.971679     0.966343     0.959988     0.941306   \n",
              "2   train   f1-score     0.919787     0.916543     0.905124     0.826675   \n",
              "3   train    support  4449.000000  3506.000000  3349.000000  1363.000000   \n",
              "4     dev  precision     0.580189     0.730693     0.739044     0.678571   \n",
              "5     dev     recall     0.713733     0.821826     0.839367     0.818182   \n",
              "6     dev   f1-score     0.640069     0.773585     0.786017     0.741866   \n",
              "7     dev    support   517.000000   449.000000   442.000000   209.000000   \n",
              "8    test  precision     0.629338     0.775161     0.760171     0.631841   \n",
              "9    test     recall     0.760000     0.819005     0.849282     0.803797   \n",
              "10   test   f1-score     0.688525     0.796480     0.802260     0.707521   \n",
              "11   test    support   525.000000   442.000000   418.000000   158.000000   \n",
              "\n",
              "         S-Drug   B-Finding   E-Finding  I-Finding  ...  B-Symptom  B-Drug  \\\n",
              "0      0.727064    0.391304    0.384615        0.0  ...        0.0     0.0   \n",
              "1      0.986003    0.045000    0.025000        0.0  ...        0.0     0.0   \n",
              "2      0.836964    0.080717    0.046948        0.0  ...        0.0     0.0   \n",
              "3   1286.000000  200.000000  200.000000      149.0  ...      110.0   110.0   \n",
              "4      0.654472    0.000000    0.000000        0.0  ...        0.0     0.0   \n",
              "5      0.981707    0.000000    0.000000        0.0  ...        0.0     0.0   \n",
              "6      0.785366    0.000000    0.000000        0.0  ...        0.0     0.0   \n",
              "7    164.000000   39.000000   34.000000       20.0  ...       12.0    20.0   \n",
              "8      0.680000    0.000000    0.000000        0.0  ...        0.0     0.0   \n",
              "9      0.973958    0.000000    0.000000        0.0  ...        0.0     0.0   \n",
              "10     0.800857    0.000000    0.000000        0.0  ...        0.0     0.0   \n",
              "11   192.000000   24.000000   27.000000        9.0  ...       13.0    27.0   \n",
              "\n",
              "    S-Finding  I-Symptom  I-Drug  I-Disease     micro avg     macro avg  \\\n",
              "0         0.0        0.0     0.0        0.0      0.836392      0.242044   \n",
              "1         0.0        0.0     0.0        0.0      0.858097      0.244766   \n",
              "2         0.0        0.0     0.0        0.0      0.847105      0.226638   \n",
              "3       109.0      104.0    50.0       50.0  15722.000000  15722.000000   \n",
              "4         0.0        0.0     0.0        0.0      0.671795      0.169148   \n",
              "5         0.0        0.0     0.0        0.0      0.697483      0.208741   \n",
              "6         0.0        0.0     0.0        0.0      0.684398      0.186345   \n",
              "7        25.0       23.0     7.0       13.0   2066.000000   2066.000000   \n",
              "8         0.0        0.0     0.0        0.0      0.699609      0.173826   \n",
              "9         0.0        0.0     0.0        0.0      0.718954      0.210302   \n",
              "10        0.0        0.0     0.0        0.0      0.709150      0.189782   \n",
              "11       28.0       20.0    25.0        3.0   1989.000000   1989.000000   \n",
              "\n",
              "    weighted avg   samples avg  \n",
              "0       0.757067      0.142355  \n",
              "1       0.858097      0.142318  \n",
              "2       0.799225      0.142331  \n",
              "3   15722.000000  15722.000000  \n",
              "4       0.582696           NaN  \n",
              "5       0.697483           NaN  \n",
              "6       0.633846           NaN  \n",
              "7    2066.000000           NaN  \n",
              "8       0.613960      0.120838  \n",
              "9       0.718954      0.120754  \n",
              "10      0.660843      0.120782  \n",
              "11   1989.000000   1989.000000  \n",
              "\n",
              "[12 rows x 26 columns]"
            ],
            "text/html": [
              "\n",
              "  <div id=\"df-3db668d1-19af-4ccc-912a-bf5e6b16f194\">\n",
              "    <div class=\"colab-df-container\">\n",
              "      <div>\n",
              "<style scoped>\n",
              "    .dataframe tbody tr th:only-of-type {\n",
              "        vertical-align: middle;\n",
              "    }\n",
              "\n",
              "    .dataframe tbody tr th {\n",
              "        vertical-align: top;\n",
              "    }\n",
              "\n",
              "    .dataframe thead th {\n",
              "        text-align: right;\n",
              "    }\n",
              "</style>\n",
              "<table border=\"1\" class=\"dataframe\">\n",
              "  <thead>\n",
              "    <tr style=\"text-align: right;\">\n",
              "      <th></th>\n",
              "      <th>split</th>\n",
              "      <th>index</th>\n",
              "      <th>I-ADR</th>\n",
              "      <th>E-ADR</th>\n",
              "      <th>B-ADR</th>\n",
              "      <th>S-ADR</th>\n",
              "      <th>S-Drug</th>\n",
              "      <th>B-Finding</th>\n",
              "      <th>E-Finding</th>\n",
              "      <th>I-Finding</th>\n",
              "      <th>...</th>\n",
              "      <th>B-Symptom</th>\n",
              "      <th>B-Drug</th>\n",
              "      <th>S-Finding</th>\n",
              "      <th>I-Symptom</th>\n",
              "      <th>I-Drug</th>\n",
              "      <th>I-Disease</th>\n",
              "      <th>micro avg</th>\n",
              "      <th>macro avg</th>\n",
              "      <th>weighted avg</th>\n",
              "      <th>samples avg</th>\n",
              "    </tr>\n",
              "  </thead>\n",
              "  <tbody>\n",
              "    <tr>\n",
              "      <th>0</th>\n",
              "      <td>train</td>\n",
              "      <td>precision</td>\n",
              "      <td>0.873157</td>\n",
              "      <td>0.871623</td>\n",
              "      <td>0.856192</td>\n",
              "      <td>0.736933</td>\n",
              "      <td>0.727064</td>\n",
              "      <td>0.391304</td>\n",
              "      <td>0.384615</td>\n",
              "      <td>0.0</td>\n",
              "      <td>...</td>\n",
              "      <td>0.0</td>\n",
              "      <td>0.0</td>\n",
              "      <td>0.0</td>\n",
              "      <td>0.0</td>\n",
              "      <td>0.0</td>\n",
              "      <td>0.0</td>\n",
              "      <td>0.836392</td>\n",
              "      <td>0.242044</td>\n",
              "      <td>0.757067</td>\n",
              "      <td>0.142355</td>\n",
              "    </tr>\n",
              "    <tr>\n",
              "      <th>1</th>\n",
              "      <td>train</td>\n",
              "      <td>recall</td>\n",
              "      <td>0.971679</td>\n",
              "      <td>0.966343</td>\n",
              "      <td>0.959988</td>\n",
              "      <td>0.941306</td>\n",
              "      <td>0.986003</td>\n",
              "      <td>0.045000</td>\n",
              "      <td>0.025000</td>\n",
              "      <td>0.0</td>\n",
              "      <td>...</td>\n",
              "      <td>0.0</td>\n",
              "      <td>0.0</td>\n",
              "      <td>0.0</td>\n",
              "      <td>0.0</td>\n",
              "      <td>0.0</td>\n",
              "      <td>0.0</td>\n",
              "      <td>0.858097</td>\n",
              "      <td>0.244766</td>\n",
              "      <td>0.858097</td>\n",
              "      <td>0.142318</td>\n",
              "    </tr>\n",
              "    <tr>\n",
              "      <th>2</th>\n",
              "      <td>train</td>\n",
              "      <td>f1-score</td>\n",
              "      <td>0.919787</td>\n",
              "      <td>0.916543</td>\n",
              "      <td>0.905124</td>\n",
              "      <td>0.826675</td>\n",
              "      <td>0.836964</td>\n",
              "      <td>0.080717</td>\n",
              "      <td>0.046948</td>\n",
              "      <td>0.0</td>\n",
              "      <td>...</td>\n",
              "      <td>0.0</td>\n",
              "      <td>0.0</td>\n",
              "      <td>0.0</td>\n",
              "      <td>0.0</td>\n",
              "      <td>0.0</td>\n",
              "      <td>0.0</td>\n",
              "      <td>0.847105</td>\n",
              "      <td>0.226638</td>\n",
              "      <td>0.799225</td>\n",
              "      <td>0.142331</td>\n",
              "    </tr>\n",
              "    <tr>\n",
              "      <th>3</th>\n",
              "      <td>train</td>\n",
              "      <td>support</td>\n",
              "      <td>4449.000000</td>\n",
              "      <td>3506.000000</td>\n",
              "      <td>3349.000000</td>\n",
              "      <td>1363.000000</td>\n",
              "      <td>1286.000000</td>\n",
              "      <td>200.000000</td>\n",
              "      <td>200.000000</td>\n",
              "      <td>149.0</td>\n",
              "      <td>...</td>\n",
              "      <td>110.0</td>\n",
              "      <td>110.0</td>\n",
              "      <td>109.0</td>\n",
              "      <td>104.0</td>\n",
              "      <td>50.0</td>\n",
              "      <td>50.0</td>\n",
              "      <td>15722.000000</td>\n",
              "      <td>15722.000000</td>\n",
              "      <td>15722.000000</td>\n",
              "      <td>15722.000000</td>\n",
              "    </tr>\n",
              "    <tr>\n",
              "      <th>4</th>\n",
              "      <td>dev</td>\n",
              "      <td>precision</td>\n",
              "      <td>0.580189</td>\n",
              "      <td>0.730693</td>\n",
              "      <td>0.739044</td>\n",
              "      <td>0.678571</td>\n",
              "      <td>0.654472</td>\n",
              "      <td>0.000000</td>\n",
              "      <td>0.000000</td>\n",
              "      <td>0.0</td>\n",
              "      <td>...</td>\n",
              "      <td>0.0</td>\n",
              "      <td>0.0</td>\n",
              "      <td>0.0</td>\n",
              "      <td>0.0</td>\n",
              "      <td>0.0</td>\n",
              "      <td>0.0</td>\n",
              "      <td>0.671795</td>\n",
              "      <td>0.169148</td>\n",
              "      <td>0.582696</td>\n",
              "      <td>NaN</td>\n",
              "    </tr>\n",
              "    <tr>\n",
              "      <th>5</th>\n",
              "      <td>dev</td>\n",
              "      <td>recall</td>\n",
              "      <td>0.713733</td>\n",
              "      <td>0.821826</td>\n",
              "      <td>0.839367</td>\n",
              "      <td>0.818182</td>\n",
              "      <td>0.981707</td>\n",
              "      <td>0.000000</td>\n",
              "      <td>0.000000</td>\n",
              "      <td>0.0</td>\n",
              "      <td>...</td>\n",
              "      <td>0.0</td>\n",
              "      <td>0.0</td>\n",
              "      <td>0.0</td>\n",
              "      <td>0.0</td>\n",
              "      <td>0.0</td>\n",
              "      <td>0.0</td>\n",
              "      <td>0.697483</td>\n",
              "      <td>0.208741</td>\n",
              "      <td>0.697483</td>\n",
              "      <td>NaN</td>\n",
              "    </tr>\n",
              "    <tr>\n",
              "      <th>6</th>\n",
              "      <td>dev</td>\n",
              "      <td>f1-score</td>\n",
              "      <td>0.640069</td>\n",
              "      <td>0.773585</td>\n",
              "      <td>0.786017</td>\n",
              "      <td>0.741866</td>\n",
              "      <td>0.785366</td>\n",
              "      <td>0.000000</td>\n",
              "      <td>0.000000</td>\n",
              "      <td>0.0</td>\n",
              "      <td>...</td>\n",
              "      <td>0.0</td>\n",
              "      <td>0.0</td>\n",
              "      <td>0.0</td>\n",
              "      <td>0.0</td>\n",
              "      <td>0.0</td>\n",
              "      <td>0.0</td>\n",
              "      <td>0.684398</td>\n",
              "      <td>0.186345</td>\n",
              "      <td>0.633846</td>\n",
              "      <td>NaN</td>\n",
              "    </tr>\n",
              "    <tr>\n",
              "      <th>7</th>\n",
              "      <td>dev</td>\n",
              "      <td>support</td>\n",
              "      <td>517.000000</td>\n",
              "      <td>449.000000</td>\n",
              "      <td>442.000000</td>\n",
              "      <td>209.000000</td>\n",
              "      <td>164.000000</td>\n",
              "      <td>39.000000</td>\n",
              "      <td>34.000000</td>\n",
              "      <td>20.0</td>\n",
              "      <td>...</td>\n",
              "      <td>12.0</td>\n",
              "      <td>20.0</td>\n",
              "      <td>25.0</td>\n",
              "      <td>23.0</td>\n",
              "      <td>7.0</td>\n",
              "      <td>13.0</td>\n",
              "      <td>2066.000000</td>\n",
              "      <td>2066.000000</td>\n",
              "      <td>2066.000000</td>\n",
              "      <td>NaN</td>\n",
              "    </tr>\n",
              "    <tr>\n",
              "      <th>8</th>\n",
              "      <td>test</td>\n",
              "      <td>precision</td>\n",
              "      <td>0.629338</td>\n",
              "      <td>0.775161</td>\n",
              "      <td>0.760171</td>\n",
              "      <td>0.631841</td>\n",
              "      <td>0.680000</td>\n",
              "      <td>0.000000</td>\n",
              "      <td>0.000000</td>\n",
              "      <td>0.0</td>\n",
              "      <td>...</td>\n",
              "      <td>0.0</td>\n",
              "      <td>0.0</td>\n",
              "      <td>0.0</td>\n",
              "      <td>0.0</td>\n",
              "      <td>0.0</td>\n",
              "      <td>0.0</td>\n",
              "      <td>0.699609</td>\n",
              "      <td>0.173826</td>\n",
              "      <td>0.613960</td>\n",
              "      <td>0.120838</td>\n",
              "    </tr>\n",
              "    <tr>\n",
              "      <th>9</th>\n",
              "      <td>test</td>\n",
              "      <td>recall</td>\n",
              "      <td>0.760000</td>\n",
              "      <td>0.819005</td>\n",
              "      <td>0.849282</td>\n",
              "      <td>0.803797</td>\n",
              "      <td>0.973958</td>\n",
              "      <td>0.000000</td>\n",
              "      <td>0.000000</td>\n",
              "      <td>0.0</td>\n",
              "      <td>...</td>\n",
              "      <td>0.0</td>\n",
              "      <td>0.0</td>\n",
              "      <td>0.0</td>\n",
              "      <td>0.0</td>\n",
              "      <td>0.0</td>\n",
              "      <td>0.0</td>\n",
              "      <td>0.718954</td>\n",
              "      <td>0.210302</td>\n",
              "      <td>0.718954</td>\n",
              "      <td>0.120754</td>\n",
              "    </tr>\n",
              "    <tr>\n",
              "      <th>10</th>\n",
              "      <td>test</td>\n",
              "      <td>f1-score</td>\n",
              "      <td>0.688525</td>\n",
              "      <td>0.796480</td>\n",
              "      <td>0.802260</td>\n",
              "      <td>0.707521</td>\n",
              "      <td>0.800857</td>\n",
              "      <td>0.000000</td>\n",
              "      <td>0.000000</td>\n",
              "      <td>0.0</td>\n",
              "      <td>...</td>\n",
              "      <td>0.0</td>\n",
              "      <td>0.0</td>\n",
              "      <td>0.0</td>\n",
              "      <td>0.0</td>\n",
              "      <td>0.0</td>\n",
              "      <td>0.0</td>\n",
              "      <td>0.709150</td>\n",
              "      <td>0.189782</td>\n",
              "      <td>0.660843</td>\n",
              "      <td>0.120782</td>\n",
              "    </tr>\n",
              "    <tr>\n",
              "      <th>11</th>\n",
              "      <td>test</td>\n",
              "      <td>support</td>\n",
              "      <td>525.000000</td>\n",
              "      <td>442.000000</td>\n",
              "      <td>418.000000</td>\n",
              "      <td>158.000000</td>\n",
              "      <td>192.000000</td>\n",
              "      <td>24.000000</td>\n",
              "      <td>27.000000</td>\n",
              "      <td>9.0</td>\n",
              "      <td>...</td>\n",
              "      <td>13.0</td>\n",
              "      <td>27.0</td>\n",
              "      <td>28.0</td>\n",
              "      <td>20.0</td>\n",
              "      <td>25.0</td>\n",
              "      <td>3.0</td>\n",
              "      <td>1989.000000</td>\n",
              "      <td>1989.000000</td>\n",
              "      <td>1989.000000</td>\n",
              "      <td>1989.000000</td>\n",
              "    </tr>\n",
              "  </tbody>\n",
              "</table>\n",
              "<p>12 rows × 26 columns</p>\n",
              "</div>\n",
              "      <button class=\"colab-df-convert\" onclick=\"convertToInteractive('df-3db668d1-19af-4ccc-912a-bf5e6b16f194')\"\n",
              "              title=\"Convert this dataframe to an interactive table.\"\n",
              "              style=\"display:none;\">\n",
              "        \n",
              "  <svg xmlns=\"http://www.w3.org/2000/svg\" height=\"24px\"viewBox=\"0 0 24 24\"\n",
              "       width=\"24px\">\n",
              "    <path d=\"M0 0h24v24H0V0z\" fill=\"none\"/>\n",
              "    <path d=\"M18.56 5.44l.94 2.06.94-2.06 2.06-.94-2.06-.94-.94-2.06-.94 2.06-2.06.94zm-11 1L8.5 8.5l.94-2.06 2.06-.94-2.06-.94L8.5 2.5l-.94 2.06-2.06.94zm10 10l.94 2.06.94-2.06 2.06-.94-2.06-.94-.94-2.06-.94 2.06-2.06.94z\"/><path d=\"M17.41 7.96l-1.37-1.37c-.4-.4-.92-.59-1.43-.59-.52 0-1.04.2-1.43.59L10.3 9.45l-7.72 7.72c-.78.78-.78 2.05 0 2.83L4 21.41c.39.39.9.59 1.41.59.51 0 1.02-.2 1.41-.59l7.78-7.78 2.81-2.81c.8-.78.8-2.07 0-2.86zM5.41 20L4 18.59l7.72-7.72 1.47 1.35L5.41 20z\"/>\n",
              "  </svg>\n",
              "      </button>\n",
              "      \n",
              "  <style>\n",
              "    .colab-df-container {\n",
              "      display:flex;\n",
              "      flex-wrap:wrap;\n",
              "      gap: 12px;\n",
              "    }\n",
              "\n",
              "    .colab-df-convert {\n",
              "      background-color: #E8F0FE;\n",
              "      border: none;\n",
              "      border-radius: 50%;\n",
              "      cursor: pointer;\n",
              "      display: none;\n",
              "      fill: #1967D2;\n",
              "      height: 32px;\n",
              "      padding: 0 0 0 0;\n",
              "      width: 32px;\n",
              "    }\n",
              "\n",
              "    .colab-df-convert:hover {\n",
              "      background-color: #E2EBFA;\n",
              "      box-shadow: 0px 1px 2px rgba(60, 64, 67, 0.3), 0px 1px 3px 1px rgba(60, 64, 67, 0.15);\n",
              "      fill: #174EA6;\n",
              "    }\n",
              "\n",
              "    [theme=dark] .colab-df-convert {\n",
              "      background-color: #3B4455;\n",
              "      fill: #D2E3FC;\n",
              "    }\n",
              "\n",
              "    [theme=dark] .colab-df-convert:hover {\n",
              "      background-color: #434B5C;\n",
              "      box-shadow: 0px 1px 3px 1px rgba(0, 0, 0, 0.15);\n",
              "      filter: drop-shadow(0px 1px 2px rgba(0, 0, 0, 0.3));\n",
              "      fill: #FFFFFF;\n",
              "    }\n",
              "  </style>\n",
              "\n",
              "      <script>\n",
              "        const buttonEl =\n",
              "          document.querySelector('#df-3db668d1-19af-4ccc-912a-bf5e6b16f194 button.colab-df-convert');\n",
              "        buttonEl.style.display =\n",
              "          google.colab.kernel.accessAllowed ? 'block' : 'none';\n",
              "\n",
              "        async function convertToInteractive(key) {\n",
              "          const element = document.querySelector('#df-3db668d1-19af-4ccc-912a-bf5e6b16f194');\n",
              "          const dataTable =\n",
              "            await google.colab.kernel.invokeFunction('convertToInteractive',\n",
              "                                                     [key], {});\n",
              "          if (!dataTable) return;\n",
              "\n",
              "          const docLinkHtml = 'Like what you see? Visit the ' +\n",
              "            '<a target=\"_blank\" href=https://colab.research.google.com/notebooks/data_table.ipynb>data table notebook</a>'\n",
              "            + ' to learn more about interactive tables.';\n",
              "          element.innerHTML = '';\n",
              "          dataTable['output_type'] = 'display_data';\n",
              "          await google.colab.output.renderOutput(dataTable, element);\n",
              "          const docLink = document.createElement('div');\n",
              "          docLink.innerHTML = docLinkHtml;\n",
              "          element.appendChild(docLink);\n",
              "        }\n",
              "      </script>\n",
              "    </div>\n",
              "  </div>\n",
              "  "
            ]
          },
          "metadata": {},
          "execution_count": 17
        }
      ],
      "source": [
        "print(suf)\n",
        "\n",
        "os.mkdir('flair_ner_model'+suf+'/classification_report')\n",
        "plotter.plot_training_curves('flair_ner_model'+suf+'/loss.tsv')\n",
        "\n",
        "# evaluate the tagger on the test set\n",
        "result = tagger.evaluate(corpus.train, \n",
        "                         embeddings_storage_mode='gpu',\n",
        "                         mini_batch_size=15,\n",
        "                         main_evaluation_metric = (\"weighted avg\", \"f1-score\"),\n",
        "                         gold_label_type='ner',\n",
        "                         gold_label_dictionary=tag_dictionary)\n",
        "open('flair_ner_model'+suf+'/classification_report/train.txt', 'w').write(str(result))\n",
        "res1 = pd.DataFrame.from_dict(result.classification_report).reset_index()\n",
        "res1.insert(loc=0, column='split', value='train')\n",
        "\n",
        "result = tagger.evaluate(corpus.dev, \n",
        "                         embeddings_storage_mode='gpu',\n",
        "                         mini_batch_size=15,\n",
        "                         main_evaluation_metric = (\"weighted avg\", \"f1-score\"),\n",
        "                         gold_label_type='ner',\n",
        "                         gold_label_dictionary=tag_dictionary)\n",
        "open('flair_ner_model'+suf+'/classification_report/dev.txt', 'w').write(str(result))\n",
        "res2 = pd.DataFrame.from_dict(result.classification_report).reset_index()\n",
        "res2.insert(loc=0, column='split', value='dev')\n",
        "\n",
        "result = tagger.evaluate(corpus.test, \n",
        "                         embeddings_storage_mode='gpu',\n",
        "                         mini_batch_size=15,\n",
        "                         main_evaluation_metric = (\"weighted avg\", \"f1-score\"),\n",
        "                         gold_label_type='ner',\n",
        "                         gold_label_dictionary=tag_dictionary)\n",
        "open('flair_ner_model'+suf+'/classification_report/test.txt', 'w').write(str(result))\n",
        "res3 = pd.DataFrame.from_dict(result.classification_report).reset_index()\n",
        "res3.insert(loc=0, column='split', value='test')\n",
        "\n",
        "res = pd.concat([res1,res2,res3],ignore_index=True)\n",
        "res.to_csv('flair_ner_model'+suf+'/classification_report.csv',index=False)\n",
        "res"
      ]
    },
    {
      "cell_type": "code",
      "execution_count": 18,
      "metadata": {
        "id": "VvIDCtYJkY-G"
      },
      "outputs": [],
      "source": [
        "# import time\n",
        "# start_time = time.time()\n",
        "# while time.time() - start_time < 1:\n",
        "#     time.sleep(1)\n",
        "# print('Session has timed out (2 minutes). Disconnecting...')\n",
        "# !kill -9 -1"
      ]
    },
    {
      "cell_type": "markdown",
      "metadata": {
        "id": "tGILL4RFtGil"
      },
      "source": [
        "Layering can be a good idea if the NER tags in the first layer have their own set of dependent values in the second layer. This can help capture more information about the entities being recognized and provide more context for downstream tasks. However, it also increases the complexity of the annotation and the training process, so it should be used judiciously. In general, it's a good idea to start with a simple tag scheme and gradually increase complexity as needed."
      ]
    },
    {
      "cell_type": "markdown",
      "metadata": {
        "id": "JoZ5D6aEtGin"
      },
      "source": [
        "    does it really matter if u use the E header\n",
        "\n",
        "It depends on the specific task and the requirements of the downstream model. In some cases, using the E tag can help disambiguate between overlapping entities, while in other cases it may not be necessary or even desired. Ultimately, it's up to the developer to determine the appropriate tagging scheme for their specific use case."
      ]
    },
    {
      "cell_type": "markdown",
      "metadata": {
        "id": "BGt2RhM6tGin"
      },
      "source": [
        "    would adding POS as an extra NER layer help model performance or not\n",
        "\n",
        "Adding POS as an extra NER layer may or may not help model performance, depending on the specific use case and data being analyzed.\n",
        "\n",
        "On one hand, incorporating POS tags could provide additional context to the model and help it better distinguish between named entities and other parts of speech. For example, knowing that a word is a noun or verb could help the model determine if it is likely to be a named entity or not.\n",
        "\n",
        "On the other hand, adding an additional layer could also increase model complexity and training time without necessarily improving performance. It may also require additional manual annotation efforts to create a labeled dataset with both NER and POS tags.\n",
        "\n",
        "Ultimately, whether to include POS as an additional layer will depend on the specific requirements and goals of the project, as well as the available data and resources."
      ]
    },
    {
      "cell_type": "markdown",
      "metadata": {
        "id": "6zpEn1bgtGin"
      },
      "source": [
        "    besides bioes ordering (which is up-to-down), it doesn't matter what order the tags in the same domain appear in left-to-right?\n",
        "\n",
        "Yes, that is correct. As long as the BIOES order is maintained vertically, the order of tags in the same domain from left-to-right should not impact training in flai"
      ]
    },
    {
      "cell_type": "markdown",
      "metadata": {
        "id": "yrmL98VatGin"
      },
      "source": [
        "    different typenames must be treated as separate tasks?\n",
        "\n",
        "Yes, that's correct. Different typenames should be treated as separate tasks because they represent different types of annotations that you want to predict. For example, in a biomedical NER task, you might want to predict the entity types of both drugs and diseases, which would be represented by two different typenames in your annotation data. Predicting both types of entities would require different models and possibly different evaluation metrics."
      ]
    }
  ],
  "metadata": {
    "accelerator": "GPU",
    "colab": {
      "gpuType": "A100",
      "provenance": []
    },
    "gpuClass": "standard",
    "kernelspec": {
      "display_name": "flair",
      "language": "python",
      "name": "python3"
    },
    "language_info": {
      "codemirror_mode": {
        "name": "ipython",
        "version": 3
      },
      "file_extension": ".py",
      "mimetype": "text/x-python",
      "name": "python",
      "nbconvert_exporter": "python",
      "pygments_lexer": "ipython3",
      "version": "3.9.16"
    },
    "vscode": {
      "interpreter": {
        "hash": "381c8abc3392c5f20473858f182d9ac4a53ef053fb1f276fcb4936938616c3f3"
      }
    }
  },
  "nbformat": 4,
  "nbformat_minor": 0
}