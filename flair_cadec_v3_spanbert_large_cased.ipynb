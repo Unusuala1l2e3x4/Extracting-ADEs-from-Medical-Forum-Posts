{
  "cells": [
    {
      "cell_type": "code",
      "execution_count": 2,
      "metadata": {
        "id": "xONJpNLKtGie"
      },
      "outputs": [],
      "source": [
        "import pandas as pd\n",
        "import os\n",
        "import pickle"
      ]
    },
    {
      "cell_type": "code",
      "execution_count": 3,
      "metadata": {
        "colab": {
          "base_uri": "https://localhost:8080/"
        },
        "id": "nw6RM8uotGih",
        "outputId": "77ac53a8-1c79-4b77-d679-81fd87e44a7a"
      },
      "outputs": [
        {
          "name": "stdout",
          "output_type": "stream",
          "text": [
            "Mounted at /content/drive\n"
          ]
        }
      ],
      "source": [
        "from google.colab import drive\n",
        "drive.mount(\"/content/drive\")\n",
        "\n",
        "os.chdir('/content/drive/MyDrive/SI 630 project')\n",
        "# os.listdir('.')"
      ]
    },
    {
      "cell_type": "code",
      "execution_count": 4,
      "metadata": {
        "colab": {
          "base_uri": "https://localhost:8080/"
        },
        "id": "P9LwpBadtGih",
        "outputId": "bcbf0a98-02f9-44e2-c9a9-61fc4c467b87"
      },
      "outputs": [
        {
          "data": {
            "text/plain": [
              "['sct',\n",
              " 'text',\n",
              " 'original - unedited version of edited files',\n",
              " 'meddra - unedited version of edited files',\n",
              " 'sct - unedited version of edited files',\n",
              " 'original',\n",
              " 'meddra']"
            ]
          },
          "execution_count": 4,
          "metadata": {},
          "output_type": "execute_result"
        }
      ],
      "source": [
        "os.listdir('datasets/CADEC/CADEC.v2/cadec')\n"
      ]
    },
    {
      "cell_type": "code",
      "execution_count": 5,
      "metadata": {
        "id": "VNZtmxiPb5uV"
      },
      "outputs": [],
      "source": [
        "suf = '_v3'\n",
        "\n",
        "data_save_dir = 'data'+suf\n",
        "\n",
        "suf += '_spanbert-large-cased'"
      ]
    },
    {
      "cell_type": "code",
      "execution_count": 6,
      "metadata": {
        "colab": {
          "base_uri": "https://localhost:8080/",
          "height": 424
        },
        "id": "BIUl2-W9tGii",
        "outputId": "0dfbb4fb-b19c-445d-dabe-135392fc74bf"
      },
      "outputs": [
        {
          "data": {
            "text/html": [
              "\n",
              "  <div id=\"df-dfc95d51-ae63-4621-9b81-3c8350007327\">\n",
              "    <div class=\"colab-df-container\">\n",
              "      <div>\n",
              "<style scoped>\n",
              "    .dataframe tbody tr th:only-of-type {\n",
              "        vertical-align: middle;\n",
              "    }\n",
              "\n",
              "    .dataframe tbody tr th {\n",
              "        vertical-align: top;\n",
              "    }\n",
              "\n",
              "    .dataframe thead th {\n",
              "        text-align: right;\n",
              "    }\n",
              "</style>\n",
              "<table border=\"1\" class=\"dataframe\">\n",
              "  <thead>\n",
              "    <tr style=\"text-align: right;\">\n",
              "      <th></th>\n",
              "      <th>ner</th>\n",
              "      <th>meddra</th>\n",
              "      <th>counts_exploded</th>\n",
              "      <th>counts</th>\n",
              "      <th>counts_exploded_rank</th>\n",
              "    </tr>\n",
              "  </thead>\n",
              "  <tbody>\n",
              "    <tr>\n",
              "      <th>0</th>\n",
              "      <td>Drug</td>\n",
              "      <td>Lipitor</td>\n",
              "      <td>1081</td>\n",
              "      <td>1073</td>\n",
              "      <td>1</td>\n",
              "    </tr>\n",
              "    <tr>\n",
              "      <th>1</th>\n",
              "      <td>ADR</td>\n",
              "      <td>CONCEPT_LESS</td>\n",
              "      <td>1016</td>\n",
              "      <td>266</td>\n",
              "      <td>2</td>\n",
              "    </tr>\n",
              "    <tr>\n",
              "      <th>2</th>\n",
              "      <td>ADR</td>\n",
              "      <td>Severe_pain</td>\n",
              "      <td>722</td>\n",
              "      <td>247</td>\n",
              "      <td>3</td>\n",
              "    </tr>\n",
              "    <tr>\n",
              "      <th>3</th>\n",
              "      <td>ADR</td>\n",
              "      <td>Myalgia</td>\n",
              "      <td>619</td>\n",
              "      <td>305</td>\n",
              "      <td>4</td>\n",
              "    </tr>\n",
              "    <tr>\n",
              "      <th>4</th>\n",
              "      <td>ADR</td>\n",
              "      <td>Pain</td>\n",
              "      <td>292</td>\n",
              "      <td>260</td>\n",
              "      <td>5</td>\n",
              "    </tr>\n",
              "    <tr>\n",
              "      <th>...</th>\n",
              "      <td>...</td>\n",
              "      <td>...</td>\n",
              "      <td>...</td>\n",
              "      <td>...</td>\n",
              "      <td>...</td>\n",
              "    </tr>\n",
              "    <tr>\n",
              "      <th>1294</th>\n",
              "      <td>Finding</td>\n",
              "      <td>Senility</td>\n",
              "      <td>1</td>\n",
              "      <td>1</td>\n",
              "      <td>1233</td>\n",
              "    </tr>\n",
              "    <tr>\n",
              "      <th>1295</th>\n",
              "      <td>Drug</td>\n",
              "      <td>Seroquel</td>\n",
              "      <td>1</td>\n",
              "      <td>1</td>\n",
              "      <td>1233</td>\n",
              "    </tr>\n",
              "    <tr>\n",
              "      <th>1296</th>\n",
              "      <td>Drug</td>\n",
              "      <td>Solaraze</td>\n",
              "      <td>1</td>\n",
              "      <td>1</td>\n",
              "      <td>1233</td>\n",
              "    </tr>\n",
              "    <tr>\n",
              "      <th>1297</th>\n",
              "      <td>Drug</td>\n",
              "      <td>Tagamet</td>\n",
              "      <td>1</td>\n",
              "      <td>1</td>\n",
              "      <td>1233</td>\n",
              "    </tr>\n",
              "    <tr>\n",
              "      <th>1298</th>\n",
              "      <td>Drug</td>\n",
              "      <td>testosterone</td>\n",
              "      <td>1</td>\n",
              "      <td>1</td>\n",
              "      <td>1233</td>\n",
              "    </tr>\n",
              "  </tbody>\n",
              "</table>\n",
              "<p>1299 rows × 5 columns</p>\n",
              "</div>\n",
              "      <button class=\"colab-df-convert\" onclick=\"convertToInteractive('df-dfc95d51-ae63-4621-9b81-3c8350007327')\"\n",
              "              title=\"Convert this dataframe to an interactive table.\"\n",
              "              style=\"display:none;\">\n",
              "        \n",
              "  <svg xmlns=\"http://www.w3.org/2000/svg\" height=\"24px\"viewBox=\"0 0 24 24\"\n",
              "       width=\"24px\">\n",
              "    <path d=\"M0 0h24v24H0V0z\" fill=\"none\"/>\n",
              "    <path d=\"M18.56 5.44l.94 2.06.94-2.06 2.06-.94-2.06-.94-.94-2.06-.94 2.06-2.06.94zm-11 1L8.5 8.5l.94-2.06 2.06-.94-2.06-.94L8.5 2.5l-.94 2.06-2.06.94zm10 10l.94 2.06.94-2.06 2.06-.94-2.06-.94-.94-2.06-.94 2.06-2.06.94z\"/><path d=\"M17.41 7.96l-1.37-1.37c-.4-.4-.92-.59-1.43-.59-.52 0-1.04.2-1.43.59L10.3 9.45l-7.72 7.72c-.78.78-.78 2.05 0 2.83L4 21.41c.39.39.9.59 1.41.59.51 0 1.02-.2 1.41-.59l7.78-7.78 2.81-2.81c.8-.78.8-2.07 0-2.86zM5.41 20L4 18.59l7.72-7.72 1.47 1.35L5.41 20z\"/>\n",
              "  </svg>\n",
              "      </button>\n",
              "      \n",
              "  <style>\n",
              "    .colab-df-container {\n",
              "      display:flex;\n",
              "      flex-wrap:wrap;\n",
              "      gap: 12px;\n",
              "    }\n",
              "\n",
              "    .colab-df-convert {\n",
              "      background-color: #E8F0FE;\n",
              "      border: none;\n",
              "      border-radius: 50%;\n",
              "      cursor: pointer;\n",
              "      display: none;\n",
              "      fill: #1967D2;\n",
              "      height: 32px;\n",
              "      padding: 0 0 0 0;\n",
              "      width: 32px;\n",
              "    }\n",
              "\n",
              "    .colab-df-convert:hover {\n",
              "      background-color: #E2EBFA;\n",
              "      box-shadow: 0px 1px 2px rgba(60, 64, 67, 0.3), 0px 1px 3px 1px rgba(60, 64, 67, 0.15);\n",
              "      fill: #174EA6;\n",
              "    }\n",
              "\n",
              "    [theme=dark] .colab-df-convert {\n",
              "      background-color: #3B4455;\n",
              "      fill: #D2E3FC;\n",
              "    }\n",
              "\n",
              "    [theme=dark] .colab-df-convert:hover {\n",
              "      background-color: #434B5C;\n",
              "      box-shadow: 0px 1px 3px 1px rgba(0, 0, 0, 0.15);\n",
              "      filter: drop-shadow(0px 1px 2px rgba(0, 0, 0, 0.3));\n",
              "      fill: #FFFFFF;\n",
              "    }\n",
              "  </style>\n",
              "\n",
              "      <script>\n",
              "        const buttonEl =\n",
              "          document.querySelector('#df-dfc95d51-ae63-4621-9b81-3c8350007327 button.colab-df-convert');\n",
              "        buttonEl.style.display =\n",
              "          google.colab.kernel.accessAllowed ? 'block' : 'none';\n",
              "\n",
              "        async function convertToInteractive(key) {\n",
              "          const element = document.querySelector('#df-dfc95d51-ae63-4621-9b81-3c8350007327');\n",
              "          const dataTable =\n",
              "            await google.colab.kernel.invokeFunction('convertToInteractive',\n",
              "                                                     [key], {});\n",
              "          if (!dataTable) return;\n",
              "\n",
              "          const docLinkHtml = 'Like what you see? Visit the ' +\n",
              "            '<a target=\"_blank\" href=https://colab.research.google.com/notebooks/data_table.ipynb>data table notebook</a>'\n",
              "            + ' to learn more about interactive tables.';\n",
              "          element.innerHTML = '';\n",
              "          dataTable['output_type'] = 'display_data';\n",
              "          await google.colab.output.renderOutput(dataTable, element);\n",
              "          const docLink = document.createElement('div');\n",
              "          docLink.innerHTML = docLinkHtml;\n",
              "          element.appendChild(docLink);\n",
              "        }\n",
              "      </script>\n",
              "    </div>\n",
              "  </div>\n",
              "  "
            ],
            "text/plain": [
              "          ner        meddra  counts_exploded  counts  counts_exploded_rank\n",
              "0        Drug       Lipitor             1081    1073                     1\n",
              "1         ADR  CONCEPT_LESS             1016     266                     2\n",
              "2         ADR   Severe_pain              722     247                     3\n",
              "3         ADR       Myalgia              619     305                     4\n",
              "4         ADR          Pain              292     260                     5\n",
              "...       ...           ...              ...     ...                   ...\n",
              "1294  Finding      Senility                1       1                  1233\n",
              "1295     Drug      Seroquel                1       1                  1233\n",
              "1296     Drug      Solaraze                1       1                  1233\n",
              "1297     Drug       Tagamet                1       1                  1233\n",
              "1298     Drug  testosterone                1       1                  1233\n",
              "\n",
              "[1299 rows x 5 columns]"
            ]
          },
          "execution_count": 6,
          "metadata": {},
          "output_type": "execute_result"
        }
      ],
      "source": [
        "meddra_counts = pd.read_csv(data_save_dir+'/meddra_counts.csv')\n",
        "meddra_counts"
      ]
    },
    {
      "cell_type": "code",
      "execution_count": 7,
      "metadata": {
        "colab": {
          "base_uri": "https://localhost:8080/",
          "height": 424
        },
        "id": "xzc4Zo0PtGii",
        "outputId": "abad3a33-7ad4-40bd-8f62-ff0caf0c8ec9"
      },
      "outputs": [
        {
          "data": {
            "text/html": [
              "\n",
              "  <div id=\"df-7ad61214-ce3c-43e6-a8b3-eac0aa4e6e89\">\n",
              "    <div class=\"colab-df-container\">\n",
              "      <div>\n",
              "<style scoped>\n",
              "    .dataframe tbody tr th:only-of-type {\n",
              "        vertical-align: middle;\n",
              "    }\n",
              "\n",
              "    .dataframe tbody tr th {\n",
              "        vertical-align: top;\n",
              "    }\n",
              "\n",
              "    .dataframe thead th {\n",
              "        text-align: right;\n",
              "    }\n",
              "</style>\n",
              "<table border=\"1\" class=\"dataframe\">\n",
              "  <thead>\n",
              "    <tr style=\"text-align: right;\">\n",
              "      <th></th>\n",
              "      <th>ner</th>\n",
              "      <th>meddra</th>\n",
              "      <th>counts_exploded</th>\n",
              "      <th>counts</th>\n",
              "      <th>counts_exploded_rank</th>\n",
              "    </tr>\n",
              "  </thead>\n",
              "  <tbody>\n",
              "    <tr>\n",
              "      <th>1</th>\n",
              "      <td>ADR</td>\n",
              "      <td>CONCEPT_LESS</td>\n",
              "      <td>1016</td>\n",
              "      <td>266</td>\n",
              "      <td>2</td>\n",
              "    </tr>\n",
              "    <tr>\n",
              "      <th>2</th>\n",
              "      <td>ADR</td>\n",
              "      <td>Severe_pain</td>\n",
              "      <td>722</td>\n",
              "      <td>247</td>\n",
              "      <td>3</td>\n",
              "    </tr>\n",
              "    <tr>\n",
              "      <th>3</th>\n",
              "      <td>ADR</td>\n",
              "      <td>Myalgia</td>\n",
              "      <td>619</td>\n",
              "      <td>305</td>\n",
              "      <td>4</td>\n",
              "    </tr>\n",
              "    <tr>\n",
              "      <th>4</th>\n",
              "      <td>ADR</td>\n",
              "      <td>Pain</td>\n",
              "      <td>292</td>\n",
              "      <td>260</td>\n",
              "      <td>5</td>\n",
              "    </tr>\n",
              "    <tr>\n",
              "      <th>5</th>\n",
              "      <td>ADR</td>\n",
              "      <td>Arthralgia</td>\n",
              "      <td>280</td>\n",
              "      <td>163</td>\n",
              "      <td>6</td>\n",
              "    </tr>\n",
              "    <tr>\n",
              "      <th>...</th>\n",
              "      <td>...</td>\n",
              "      <td>...</td>\n",
              "      <td>...</td>\n",
              "      <td>...</td>\n",
              "      <td>...</td>\n",
              "    </tr>\n",
              "    <tr>\n",
              "      <th>1268</th>\n",
              "      <td>ADR</td>\n",
              "      <td>Labyrinthitis</td>\n",
              "      <td>1</td>\n",
              "      <td>1</td>\n",
              "      <td>1233</td>\n",
              "    </tr>\n",
              "    <tr>\n",
              "      <th>1269</th>\n",
              "      <td>ADR</td>\n",
              "      <td>Dysphagia</td>\n",
              "      <td>1</td>\n",
              "      <td>1</td>\n",
              "      <td>1233</td>\n",
              "    </tr>\n",
              "    <tr>\n",
              "      <th>1275</th>\n",
              "      <td>ADR</td>\n",
              "      <td>Lupus_erythematosus</td>\n",
              "      <td>1</td>\n",
              "      <td>1</td>\n",
              "      <td>1233</td>\n",
              "    </tr>\n",
              "    <tr>\n",
              "      <th>1278</th>\n",
              "      <td>ADR</td>\n",
              "      <td>Cataract</td>\n",
              "      <td>1</td>\n",
              "      <td>1</td>\n",
              "      <td>1233</td>\n",
              "    </tr>\n",
              "    <tr>\n",
              "      <th>1283</th>\n",
              "      <td>ADR</td>\n",
              "      <td>Crying_associated_with_mood</td>\n",
              "      <td>1</td>\n",
              "      <td>1</td>\n",
              "      <td>1233</td>\n",
              "    </tr>\n",
              "  </tbody>\n",
              "</table>\n",
              "<p>800 rows × 5 columns</p>\n",
              "</div>\n",
              "      <button class=\"colab-df-convert\" onclick=\"convertToInteractive('df-7ad61214-ce3c-43e6-a8b3-eac0aa4e6e89')\"\n",
              "              title=\"Convert this dataframe to an interactive table.\"\n",
              "              style=\"display:none;\">\n",
              "        \n",
              "  <svg xmlns=\"http://www.w3.org/2000/svg\" height=\"24px\"viewBox=\"0 0 24 24\"\n",
              "       width=\"24px\">\n",
              "    <path d=\"M0 0h24v24H0V0z\" fill=\"none\"/>\n",
              "    <path d=\"M18.56 5.44l.94 2.06.94-2.06 2.06-.94-2.06-.94-.94-2.06-.94 2.06-2.06.94zm-11 1L8.5 8.5l.94-2.06 2.06-.94-2.06-.94L8.5 2.5l-.94 2.06-2.06.94zm10 10l.94 2.06.94-2.06 2.06-.94-2.06-.94-.94-2.06-.94 2.06-2.06.94z\"/><path d=\"M17.41 7.96l-1.37-1.37c-.4-.4-.92-.59-1.43-.59-.52 0-1.04.2-1.43.59L10.3 9.45l-7.72 7.72c-.78.78-.78 2.05 0 2.83L4 21.41c.39.39.9.59 1.41.59.51 0 1.02-.2 1.41-.59l7.78-7.78 2.81-2.81c.8-.78.8-2.07 0-2.86zM5.41 20L4 18.59l7.72-7.72 1.47 1.35L5.41 20z\"/>\n",
              "  </svg>\n",
              "      </button>\n",
              "      \n",
              "  <style>\n",
              "    .colab-df-container {\n",
              "      display:flex;\n",
              "      flex-wrap:wrap;\n",
              "      gap: 12px;\n",
              "    }\n",
              "\n",
              "    .colab-df-convert {\n",
              "      background-color: #E8F0FE;\n",
              "      border: none;\n",
              "      border-radius: 50%;\n",
              "      cursor: pointer;\n",
              "      display: none;\n",
              "      fill: #1967D2;\n",
              "      height: 32px;\n",
              "      padding: 0 0 0 0;\n",
              "      width: 32px;\n",
              "    }\n",
              "\n",
              "    .colab-df-convert:hover {\n",
              "      background-color: #E2EBFA;\n",
              "      box-shadow: 0px 1px 2px rgba(60, 64, 67, 0.3), 0px 1px 3px 1px rgba(60, 64, 67, 0.15);\n",
              "      fill: #174EA6;\n",
              "    }\n",
              "\n",
              "    [theme=dark] .colab-df-convert {\n",
              "      background-color: #3B4455;\n",
              "      fill: #D2E3FC;\n",
              "    }\n",
              "\n",
              "    [theme=dark] .colab-df-convert:hover {\n",
              "      background-color: #434B5C;\n",
              "      box-shadow: 0px 1px 3px 1px rgba(0, 0, 0, 0.15);\n",
              "      filter: drop-shadow(0px 1px 2px rgba(0, 0, 0, 0.3));\n",
              "      fill: #FFFFFF;\n",
              "    }\n",
              "  </style>\n",
              "\n",
              "      <script>\n",
              "        const buttonEl =\n",
              "          document.querySelector('#df-7ad61214-ce3c-43e6-a8b3-eac0aa4e6e89 button.colab-df-convert');\n",
              "        buttonEl.style.display =\n",
              "          google.colab.kernel.accessAllowed ? 'block' : 'none';\n",
              "\n",
              "        async function convertToInteractive(key) {\n",
              "          const element = document.querySelector('#df-7ad61214-ce3c-43e6-a8b3-eac0aa4e6e89');\n",
              "          const dataTable =\n",
              "            await google.colab.kernel.invokeFunction('convertToInteractive',\n",
              "                                                     [key], {});\n",
              "          if (!dataTable) return;\n",
              "\n",
              "          const docLinkHtml = 'Like what you see? Visit the ' +\n",
              "            '<a target=\"_blank\" href=https://colab.research.google.com/notebooks/data_table.ipynb>data table notebook</a>'\n",
              "            + ' to learn more about interactive tables.';\n",
              "          element.innerHTML = '';\n",
              "          dataTable['output_type'] = 'display_data';\n",
              "          await google.colab.output.renderOutput(dataTable, element);\n",
              "          const docLink = document.createElement('div');\n",
              "          docLink.innerHTML = docLinkHtml;\n",
              "          element.appendChild(docLink);\n",
              "        }\n",
              "      </script>\n",
              "    </div>\n",
              "  </div>\n",
              "  "
            ],
            "text/plain": [
              "      ner                       meddra  counts_exploded  counts  \\\n",
              "1     ADR                 CONCEPT_LESS             1016     266   \n",
              "2     ADR                  Severe_pain              722     247   \n",
              "3     ADR                      Myalgia              619     305   \n",
              "4     ADR                         Pain              292     260   \n",
              "5     ADR                   Arthralgia              280     163   \n",
              "...   ...                          ...              ...     ...   \n",
              "1268  ADR                Labyrinthitis                1       1   \n",
              "1269  ADR                    Dysphagia                1       1   \n",
              "1275  ADR          Lupus_erythematosus                1       1   \n",
              "1278  ADR                     Cataract                1       1   \n",
              "1283  ADR  Crying_associated_with_mood                1       1   \n",
              "\n",
              "      counts_exploded_rank  \n",
              "1                        2  \n",
              "2                        3  \n",
              "3                        4  \n",
              "4                        5  \n",
              "5                        6  \n",
              "...                    ...  \n",
              "1268                  1233  \n",
              "1269                  1233  \n",
              "1275                  1233  \n",
              "1278                  1233  \n",
              "1283                  1233  \n",
              "\n",
              "[800 rows x 5 columns]"
            ]
          },
          "execution_count": 7,
          "metadata": {},
          "output_type": "execute_result"
        }
      ],
      "source": [
        "meddra_counts.loc[meddra_counts.ner == 'ADR',:]"
      ]
    },
    {
      "cell_type": "code",
      "execution_count": 8,
      "metadata": {
        "colab": {
          "base_uri": "https://localhost:8080/"
        },
        "id": "hAGPini7tGii",
        "outputId": "a1d061aa-6368-4e55-8b5e-aa2a62ea6675"
      },
      "outputs": [
        {
          "data": {
            "text/plain": [
              "[Sentence[117]: \"i feel a bit drowsy & have a little blurred vision , so far no gastric problems . ive been on arthrotec 50 for over 10 years on and off , only taking it when i needed it . due to my arthritis getting progressively worse , to the point where i am in tears with the agony , gp ' s started me on 75 twice a day and i have to take it . every day for the next month to see how i get on , here goes . so far its been very good , pains almost gone , but i feel a bit weird , didnt have that when on 50 .\" → [\"i\"/O/O, \"feel\"/O/O, \"a\"/O/O, \"bit\"/B-ADR/B-Drowsy, \"drowsy\"/I-ADR/I-Drowsy, \"&\"/O/O, \"have\"/O/O, \"a\"/O/O, \"little\"/B-ADR/B-Blurred_vision_-_hazy, \"blurred\"/I-ADR/I-Blurred_vision_-_hazy, \"vision\"/I-ADR/I-Blurred_vision_-_hazy, \",\"/O/O, \"so\"/O/O, \"far\"/O/O, \"no\"/O/O, \"gastric\"/B-ADR/B-Excessive_upper_gastrointestinal_gas, \"problems\"/I-ADR/I-Excessive_upper_gastrointestinal_gas, \".\"/O/O, \"ive\"/O/O, \"been\"/O/O, \"on\"/O/O, \"arthrotec\"/B-Drug/B-Arthrotec, \"50\"/O/O, \"for\"/O/O, \"over\"/O/O, \"10\"/O/O, \"years\"/O/O, \"on\"/O/O, \"and\"/O/O, \"off\"/O/O, \",\"/O/O, \"only\"/O/O, \"taking\"/O/O, \"it\"/O/O, \"when\"/O/O, \"i\"/O/O, \"needed\"/O/O, \"it\"/O/O, \".\"/O/O, \"due\"/O/O, \"to\"/O/O, \"my\"/O/O, \"arthritis\"/B-Disease/B-Arthritis, \"getting\"/O/O, \"progressively\"/O/O, \"worse\"/O/O, \",\"/O/O, \"to\"/O/O, \"the\"/O/O, \"point\"/O/O, \"where\"/O/O, \"i\"/O/O, \"am\"/O/O, \"in\"/O/O, \"tears\"/O/O, \"with\"/O/O, \"the\"/O/O, \"agony\"/B-Symptom/B-Agony, \",\"/O/O, \"gp\"/O/O, \"'\"/O/O, \"s\"/O/O, \"started\"/O/O, \"me\"/O/O, \"on\"/O/O, \"75\"/O/O, \"twice\"/O/O, \"a\"/O/O, \"day\"/O/O, \"and\"/O/O, \"i\"/O/O, \"have\"/O/O, \"to\"/O/O, \"take\"/O/O, \"it\"/O/O, \".\"/O/O, \"every\"/O/O, \"day\"/O/O, \"for\"/O/O, \"the\"/O/O, \"next\"/O/O, \"month\"/O/O, \"to\"/O/O, \"see\"/O/O, \"how\"/O/O, \"i\"/O/O, \"get\"/O/O, \"on\"/O/O, \",\"/O/O, \"here\"/O/O, \"goes\"/O/O, \".\"/O/O, \"so\"/O/O, \"far\"/O/O, \"its\"/O/O, \"been\"/O/O, \"very\"/O/O, \"good\"/O/O, \",\"/O/O, \"pains\"/B-Symptom/B-Pain, \"almost\"/O/O, \"gone\"/O/O, \",\"/O/O, \"but\"/O/O, \"i\"/O/O, \"feel\"/B-ADR/B-Malaise, \"a\"/I-ADR/I-Malaise, \"bit\"/I-ADR/I-Malaise, \"weird\"/I-ADR/I-Malaise, \",\"/O/O, \"didnt\"/O/O, \"have\"/O/O, \"that\"/O/O, \"when\"/O/O, \"on\"/O/O, \"50\"/O/O, \".\"/O/O],\n",
              " Sentence[39]: \"hunger pangs . brilliant , i have a new lease of life , i walk up & down steps properly , no longer sideways like a toddler , hip pain as gone other than if i jar it .\" → [\"hunger\"/B-ADR/B-Hunger_pain, \"pangs\"/I-ADR/I-Hunger_pain, \".\"/O/O, \"brilliant\"/O/O, \",\"/O/O, \"i\"/O/O, \"have\"/O/O, \"a\"/O/O, \"new\"/O/O, \"lease\"/O/O, \"of\"/O/O, \"life\"/O/O, \",\"/O/O, \"i\"/O/O, \"walk\"/B-Symptom/B-CONCEPT_LESS, \"up\"/I-Symptom/I-CONCEPT_LESS, \"&\"/I-Symptom/I-CONCEPT_LESS, \"down\"/I-Symptom/I-CONCEPT_LESS, \"steps\"/I-Symptom/I-CONCEPT_LESS, \"properly\"/O/O, \",\"/O/O, \"no\"/O/O, \"longer\"/O/O, \"sideways\"/I-Symptom/I-CONCEPT_LESS, \"like\"/O/O, \"a\"/O/O, \"toddler\"/O/O, \",\"/O/O, \"hip\"/B-Symptom/B-Hip_pain, \"pain\"/I-Symptom/I-Hip_pain, \"as\"/O/O, \"gone\"/O/O, \"other\"/O/O, \"than\"/O/O, \"if\"/O/O, \"i\"/O/O, \"jar\"/O/O, \"it\"/O/O, \".\"/O/O],\n",
              " Sentence[51]: \"no side effects for the first two months . then vaginal bleeding 2 wks after menstral cycle . stomach pain . canker sores in my mouth . headache . been off for 1 week still have bleeding . helped my pain alot . too scared to take this drug again .\" → [\"no\"/O/O, \"side\"/O/O, \"effects\"/O/O, \"for\"/O/O, \"the\"/O/O, \"first\"/O/O, \"two\"/O/O, \"months\"/O/O, \".\"/O/O, \"then\"/O/O, \"vaginal\"/B-ADR/B-Vaginal_bleeding, \"bleeding\"/I-ADR/I-Vaginal_bleeding, \"2\"/O/O, \"wks\"/O/O, \"after\"/O/O, \"menstral\"/O/O, \"cycle\"/O/O, \".\"/O/O, \"stomach\"/B-ADR/B-Stomach_ache, \"pain\"/I-ADR/I-Stomach_ache, \".\"/O/O, \"canker\"/B-ADR/B-Aphthous_ulcer, \"sores\"/I-ADR/I-Aphthous_ulcer, \"in\"/O/O, \"my\"/O/O, \"mouth\"/O/O, \".\"/O/O, \"headache\"/B-ADR/B-Headache, \".\"/O/O, \"been\"/O/O, \"off\"/O/O, \"for\"/O/O, \"1\"/O/O, \"week\"/O/O, \"still\"/O/O, \"have\"/O/O, \"bleeding\"/O/O, \".\"/O/O, \"helped\"/O/O, \"my\"/O/O, \"pain\"/B-Symptom/B-Pain, \"alot\"/O/O, \".\"/O/O, \"too\"/O/O, \"scared\"/O/O, \"to\"/O/O, \"take\"/O/O, \"this\"/O/O, \"drug\"/O/O, \"again\"/O/O, \".\"/O/O],\n",
              " Sentence[68]: \"1st pill taken with food , a few hours after i experienced shortness of breath , a sense of depression , cramping , upset stomache will stop taking immediately . honestly can not recommend this drug , i am still experiencing side effects just after 1 pill and im supposed to take twice / day 75mg . i just cant keep going have to try something else .\" → [\"1st\"/O/O, \"pill\"/O/O, \"taken\"/O/O, \"with\"/O/O, \"food\"/O/O, \",\"/O/O, \"a\"/O/O, \"few\"/O/O, \"hours\"/O/O, \"after\"/O/O, \"i\"/O/O, \"experienced\"/O/O, \"shortness\"/B-ADR/B-Dyspnoea, \"of\"/I-ADR/I-Dyspnoea, \"breath\"/I-ADR/I-Dyspnoea, \",\"/O/O, \"a\"/O/O, \"sense\"/O/O, \"of\"/O/O, \"depression\"/B-ADR/B-Depression, \",\"/O/O, \"cramping\"/B-ADR/B-Muscle_cramp, \",\"/O/O, \"upset\"/B-ADR/B-Upset_stomach, \"stomache\"/I-ADR/I-Upset_stomach, \"will\"/O/O, \"stop\"/O/O, \"taking\"/O/O, \"immediately\"/O/O, \".\"/O/O, \"honestly\"/O/O, \"can\"/O/O, \"not\"/O/O, \"recommend\"/O/O, \"this\"/O/O, \"drug\"/O/O, \",\"/O/O, \"i\"/O/O, \"am\"/O/O, \"still\"/O/O, \"experiencing\"/O/O, \"side\"/O/O, \"effects\"/O/O, \"just\"/O/O, \"after\"/O/O, \"1\"/O/O, \"pill\"/O/O, \"and\"/O/O, \"im\"/O/O, \"supposed\"/O/O, \"to\"/O/O, \"take\"/O/O, \"twice\"/O/O, \"/\"/O/O, \"day\"/O/O, \"75mg\"/O/O, \".\"/O/O, \"i\"/O/O, \"just\"/O/O, \"cant\"/O/O, \"keep\"/O/O, \"going\"/O/O, \"have\"/O/O, \"to\"/O/O, \"try\"/O/O, \"something\"/O/O, \"else\"/O/O, \".\"/O/O],\n",
              " Sentence[50]: \"i have had no side effects been taking arthrotec a little over a year , have not noticed any side effects . it does help alot i noticed that when there are times when i forget to take it i cant stand or walk for any lengths of time .\" → [\"i\"/O/O, \"have\"/O/O, \"had\"/O/O, \"no\"/O/O, \"side\"/O/O, \"effects\"/O/O, \"been\"/O/O, \"taking\"/O/O, \"arthrotec\"/B-Drug/B-Arthrotec, \"a\"/O/O, \"little\"/O/O, \"over\"/O/O, \"a\"/O/O, \"year\"/O/O, \",\"/O/O, \"have\"/O/O, \"not\"/O/O, \"noticed\"/O/O, \"any\"/O/O, \"side\"/O/O, \"effects\"/O/O, \".\"/O/O, \"it\"/O/O, \"does\"/O/O, \"help\"/O/O, \"alot\"/O/O, \"i\"/O/O, \"noticed\"/O/O, \"that\"/O/O, \"when\"/O/O, \"there\"/O/O, \"are\"/O/O, \"times\"/O/O, \"when\"/O/O, \"i\"/O/O, \"forget\"/O/O, \"to\"/O/O, \"take\"/O/O, \"it\"/O/O, \"i\"/B-Symptom/B-Reduced_mobility, \"cant\"/I-Symptom/I-Reduced_mobility, \"stand\"/I-Symptom/I-Reduced_mobility, \"or\"/I-Symptom/I-Reduced_mobility, \"walk\"/I-Symptom/I-Reduced_mobility, \"for\"/I-Symptom/I-Reduced_mobility, \"any\"/I-Symptom/I-Reduced_mobility, \"lengths\"/I-Symptom/I-Reduced_mobility, \"of\"/I-Symptom/I-Reduced_mobility, \"time\"/I-Symptom/I-Reduced_mobility, \".\"/O/O],\n",
              " Sentence[89]: \"it seems as if bleeding forever is a side effect but doctors tell you that its not the drug . i have been on arthotec for three months i still have pain and stiffness . at first week into this drug i was in so much pain i sat on the floor at work and thought i was gaving a baby . i always feel weak and almost fainted a bunch of times . consider somthing that works i am switching today as this isnt in my head .\" → [\"it\"/O/O, \"seems\"/O/O, \"as\"/O/O, \"if\"/O/O, \"bleeding\"/B-ADR/B-Bleeding, \"forever\"/O/O, \"is\"/O/O, \"a\"/O/O, \"side\"/O/O, \"effect\"/O/O, \"but\"/O/O, \"doctors\"/O/O, \"tell\"/O/O, \"you\"/O/O, \"that\"/O/O, \"its\"/O/O, \"not\"/O/O, \"the\"/O/O, \"drug\"/O/O, \".\"/O/O, \"i\"/O/O, \"have\"/O/O, \"been\"/O/O, \"on\"/O/O, \"arthotec\"/B-Drug/B-Arthrotec, \"for\"/O/O, \"three\"/O/O, \"months\"/O/O, \"i\"/O/O, \"still\"/O/O, \"have\"/O/O, \"pain\"/B-Symptom/B-Pain, \"and\"/I-Symptom/I-Pain, \"stiffness\"/I-Symptom/I-Pain, \".\"/O/O, \"at\"/O/O, \"first\"/O/O, \"week\"/O/O, \"into\"/O/O, \"this\"/O/O, \"drug\"/O/O, \"i\"/O/O, \"was\"/O/O, \"in\"/O/O, \"so\"/B-ADR/B-Pain, \"much\"/I-ADR/I-Pain, \"pain\"/I-ADR/I-Pain, \"i\"/O/O, \"sat\"/O/O, \"on\"/O/O, \"the\"/O/O, \"floor\"/O/O, \"at\"/O/O, \"work\"/O/O, \"and\"/O/O, \"thought\"/O/O, \"i\"/O/O, \"was\"/O/O, \"gaving\"/O/O, \"a\"/O/O, \"baby\"/O/O, \".\"/O/O, \"i\"/O/O, \"always\"/O/O, \"feel\"/B-ADR/B-Malaise_and_fatigue, \"weak\"/I-ADR/I-Malaise_and_fatigue, \"and\"/I-ADR/I-Malaise_and_fatigue, \"almost\"/I-ADR/I-Malaise_and_fatigue, \"fainted\"/I-ADR/I-Malaise_and_fatigue, \"a\"/O/O, \"bunch\"/O/O, \"of\"/O/O, \"times\"/O/O, \".\"/O/O, \"consider\"/O/O, \"somthing\"/O/O, \"that\"/O/O, \"works\"/O/O, \"i\"/O/O, \"am\"/O/O, \"switching\"/O/O, \"today\"/O/O, \"as\"/O/O, \"this\"/O/O, \"isnt\"/O/O, \"in\"/O/O, \"my\"/O/O, \"head\"/O/O, \".\"/O/O],\n",
              " Sentence[56]: \"some diarrhea , some constipation , fatigue . it works very well for the heel ; i couldnt walk on it very well before taking it . i take 75mg . twice a day . also have severe osteoarthritis in the knees and hands , but it doesnt seem to relieve that pain at all .\" → [\"some\"/O/O, \"diarrhea\"/B-ADR/B-Diarrhoea, \",\"/O/O, \"some\"/O/O, \"constipation\"/B-ADR/B-Constipation, \",\"/O/O, \"fatigue\"/B-ADR/B-Fatigue, \".\"/O/O, \"it\"/O/O, \"works\"/O/O, \"very\"/O/O, \"well\"/O/O, \"for\"/O/O, \"the\"/B-Symptom/B-Walking_disability, \"heel\"/I-Symptom/I-Walking_disability, \";\"/O/O, \"i\"/I-Symptom/I-Walking_disability, \"couldnt\"/I-Symptom/I-Walking_disability, \"walk\"/I-Symptom/I-Walking_disability, \"on\"/I-Symptom/I-Walking_disability, \"it\"/O/O, \"very\"/I-Symptom/I-Walking_disability, \"well\"/I-Symptom/I-Walking_disability, \"before\"/O/O, \"taking\"/O/O, \"it\"/O/O, \".\"/O/O, \"i\"/O/O, \"take\"/O/O, \"75mg\"/O/O, \".\"/O/O, \"twice\"/O/O, \"a\"/O/O, \"day\"/O/O, \".\"/O/O, \"also\"/O/O, \"have\"/O/O, \"severe\"/B-Disease/B-Osteoarthritis_of_knee/B-Osteoarthrosis_of_hand, \"osteoarthritis\"/I-Disease/I-Osteoarthritis_of_knee/I-Osteoarthrosis_of_hand, \"in\"/I-Disease/I-Osteoarthritis_of_knee/I-Osteoarthrosis_of_hand, \"the\"/I-Disease/I-Osteoarthritis_of_knee/I-Osteoarthrosis_of_hand, \"knees\"/I-Disease/I-Osteoarthritis_of_knee, \"and\"/O/O, \"hands\"/I-Disease/I-Osteoarthrosis_of_hand, \",\"/O/O, \"but\"/O/O, \"it\"/O/O, \"doesnt\"/O/O, \"seem\"/O/O, \"to\"/O/O, \"relieve\"/O/O, \"that\"/O/O, \"pain\"/B-Symptom/B-Pain, \"at\"/O/O, \"all\"/O/O, \".\"/O/O],\n",
              " Sentence[84]: \"ive been on 75mg twice daily for 13 days , with recent body swelling , face , wrists , abdomen , thighs - clothes fit tight . insomina is much worse . i have forgetfulnes and confussion - really bad - almost dangerous . have felt \" empty stomach \" feeling , but not bothersome . have had more loose stools , but tolerable . im looking for a more natural therapy , checking into ha ( hyaluronic acid ) to replace arthrotec .\" → [\"ive\"/O/O, \"been\"/O/O, \"on\"/O/O, \"75mg\"/O/O, \"twice\"/O/O, \"daily\"/O/O, \"for\"/O/O, \"13\"/O/O, \"days\"/O/O, \",\"/O/O, \"with\"/O/O, \"recent\"/O/O, \"body\"/B-ADR/B-Swelling_of_body_region, \"swelling\"/B-ADR/I-ADR/B-Abdominal_swelling/B-Facial_swelling/I-Swelling_of_body_region/B-Swelling_of_lower_limb/B-Swelling_of_wrist_joint, \",\"/O/O, \"face\"/I-ADR/I-Facial_swelling, \",\"/O/O, \"wrists\"/I-ADR/I-Swelling_of_wrist_joint, \",\"/O/O, \"abdomen\"/I-ADR/I-Abdominal_swelling, \",\"/O/O, \"thighs\"/I-ADR/I-Swelling_of_lower_limb, \"-\"/O/O, \"clothes\"/O/O, \"fit\"/O/O, \"tight\"/O/O, \".\"/O/O, \"insomina\"/B-ADR/B-Insomnia, \"is\"/O/O, \"much\"/O/O, \"worse\"/O/O, \".\"/O/O, \"i\"/O/O, \"have\"/O/O, \"forgetfulnes\"/B-ADR/B-Forgetful, \"and\"/I-ADR/I-Forgetful, \"confussion\"/I-ADR/I-Forgetful, \"-\"/O/O, \"really\"/O/O, \"bad\"/O/O, \"-\"/O/O, \"almost\"/O/O, \"dangerous\"/O/O, \".\"/O/O, \"have\"/O/O, \"felt\"/O/O, \"\"\"/B-ADR/B-Feeling_empty, \"empty\"/I-ADR/I-Feeling_empty, \"stomach\"/I-ADR/I-Feeling_empty, \"\"\"/I-ADR/I-Feeling_empty, \"feeling\"/I-ADR/I-Feeling_empty, \",\"/O/O, \"but\"/O/O, \"not\"/O/O, \"bothersome\"/O/O, \".\"/O/O, \"have\"/O/O, \"had\"/O/O, \"more\"/O/O, \"loose\"/B-ADR/B-Loose_stool, \"stools\"/I-ADR/I-Loose_stool, \",\"/O/O, \"but\"/O/O, \"tolerable\"/O/O, \".\"/O/O, \"im\"/O/O, \"looking\"/O/O, \"for\"/O/O, \"a\"/O/O, \"more\"/O/O, \"natural\"/O/O, \"therapy\"/O/O, \",\"/O/O, \"checking\"/O/O, \"into\"/O/O, \"ha\"/B-Drug/B-CONCEPT_LESS, \"(\"/I-Drug/I-CONCEPT_LESS, \"hyaluronic\"/I-Drug/I-CONCEPT_LESS, \"acid\"/I-Drug/I-CONCEPT_LESS, \")\"/I-Drug/I-CONCEPT_LESS, \"to\"/O/O, \"replace\"/O/O, \"arthrotec\"/B-Drug/B-Arthrotec, \".\"/O/O],\n",
              " Sentence[68]: \"none that i can think of . i recently had bilateral knee replacement . prior to that , arthrotec was the only drug that helped . i tried every drug on the market , but , to no avail . i took 50 mg . 3 times a day of arthrotec and was almost pain free . i highly recommend it to anyone that suffers from arthritis .\" → [\"none\"/O/O, \"that\"/O/O, \"i\"/O/O, \"can\"/O/O, \"think\"/O/O, \"of\"/O/O, \".\"/O/O, \"i\"/O/O, \"recently\"/O/O, \"had\"/O/O, \"bilateral\"/O/O, \"knee\"/O/O, \"replacement\"/O/O, \".\"/O/O, \"prior\"/O/O, \"to\"/O/O, \"that\"/O/O, \",\"/O/O, \"arthrotec\"/B-Drug/B-Arthrotec, \"was\"/O/O, \"the\"/O/O, \"only\"/O/O, \"drug\"/O/O, \"that\"/O/O, \"helped\"/O/O, \".\"/O/O, \"i\"/O/O, \"tried\"/O/O, \"every\"/O/O, \"drug\"/O/O, \"on\"/O/O, \"the\"/O/O, \"market\"/O/O, \",\"/O/O, \"but\"/O/O, \",\"/O/O, \"to\"/O/O, \"no\"/O/O, \"avail\"/O/O, \".\"/O/O, \"i\"/O/O, \"took\"/O/O, \"50\"/O/O, \"mg\"/O/O, \".\"/O/O, \"3\"/O/O, \"times\"/O/O, \"a\"/O/O, \"day\"/O/O, \"of\"/O/O, \"arthrotec\"/B-Drug/B-Arthrotec, \"and\"/O/O, \"was\"/O/O, \"almost\"/O/O, \"pain\"/B-Symptom/B-Pain, \"free\"/O/O, \".\"/O/O, \"i\"/O/O, \"highly\"/O/O, \"recommend\"/O/O, \"it\"/O/O, \"to\"/O/O, \"anyone\"/O/O, \"that\"/O/O, \"suffers\"/O/O, \"from\"/O/O, \"arthritis\"/B-Finding/B-Arthritis, \".\"/O/O],\n",
              " Sentence[28]: \"hospitalization due extreme rectal bleed that required blood transfusion . i was extremely sick and initially felt i might not survive . should be removed from market .\" → [\"hospitalization\"/O/O, \"due\"/O/O, \"extreme\"/O/O, \"rectal\"/B-ADR/B-Rectal_haemorrhage, \"bleed\"/I-ADR/I-Rectal_haemorrhage, \"that\"/O/O, \"required\"/O/O, \"blood\"/O/O, \"transfusion\"/O/O, \".\"/O/O, \"i\"/O/O, \"was\"/O/O, \"extremely\"/B-ADR/B-Generally_unwell, \"sick\"/I-ADR/I-Generally_unwell, \"and\"/O/O, \"initially\"/O/O, \"felt\"/B-ADR/B-CONCEPT_LESS, \"i\"/I-ADR/I-CONCEPT_LESS, \"might\"/I-ADR/I-CONCEPT_LESS, \"not\"/I-ADR/I-CONCEPT_LESS, \"survive\"/I-ADR/I-CONCEPT_LESS, \".\"/O/O, \"should\"/O/O, \"be\"/O/O, \"removed\"/O/O, \"from\"/O/O, \"market\"/O/O, \".\"/O/O]]"
            ]
          },
          "execution_count": 8,
          "metadata": {},
          "output_type": "execute_result"
        }
      ],
      "source": [
        "with open(data_save_dir+'/cadec_flair_objects.pkl', 'rb') as f:\n",
        "    docs = pickle.load(f)\n",
        "docs[:10]"
      ]
    },
    {
      "cell_type": "code",
      "execution_count": 9,
      "metadata": {
        "colab": {
          "base_uri": "https://localhost:8080/"
        },
        "id": "sW10pPAPtGij",
        "outputId": "18b7f2b2-0e28-4566-c008-d8385b147ecc"
      },
      "outputs": [
        {
          "data": {
            "text/plain": [
              "1186"
            ]
          },
          "execution_count": 9,
          "metadata": {},
          "output_type": "execute_result"
        }
      ],
      "source": [
        "len(docs)"
      ]
    },
    {
      "cell_type": "code",
      "execution_count": 10,
      "metadata": {
        "colab": {
          "base_uri": "https://localhost:8080/"
        },
        "id": "EMT5TsNStGij",
        "outputId": "c190c940-9711-44d3-fcac-cf8d651f1844"
      },
      "outputs": [
        {
          "data": {
            "text/plain": [
              "Sentence[117]: \"i feel a bit drowsy & have a little blurred vision , so far no gastric problems . ive been on arthrotec 50 for over 10 years on and off , only taking it when i needed it . due to my arthritis getting progressively worse , to the point where i am in tears with the agony , gp ' s started me on 75 twice a day and i have to take it . every day for the next month to see how i get on , here goes . so far its been very good , pains almost gone , but i feel a bit weird , didnt have that when on 50 .\" → [\"i\"/O/O, \"feel\"/O/O, \"a\"/O/O, \"bit\"/B-ADR/B-Drowsy, \"drowsy\"/I-ADR/I-Drowsy, \"&\"/O/O, \"have\"/O/O, \"a\"/O/O, \"little\"/B-ADR/B-Blurred_vision_-_hazy, \"blurred\"/I-ADR/I-Blurred_vision_-_hazy, \"vision\"/I-ADR/I-Blurred_vision_-_hazy, \",\"/O/O, \"so\"/O/O, \"far\"/O/O, \"no\"/O/O, \"gastric\"/B-ADR/B-Excessive_upper_gastrointestinal_gas, \"problems\"/I-ADR/I-Excessive_upper_gastrointestinal_gas, \".\"/O/O, \"ive\"/O/O, \"been\"/O/O, \"on\"/O/O, \"arthrotec\"/B-Drug/B-Arthrotec, \"50\"/O/O, \"for\"/O/O, \"over\"/O/O, \"10\"/O/O, \"years\"/O/O, \"on\"/O/O, \"and\"/O/O, \"off\"/O/O, \",\"/O/O, \"only\"/O/O, \"taking\"/O/O, \"it\"/O/O, \"when\"/O/O, \"i\"/O/O, \"needed\"/O/O, \"it\"/O/O, \".\"/O/O, \"due\"/O/O, \"to\"/O/O, \"my\"/O/O, \"arthritis\"/B-Disease/B-Arthritis, \"getting\"/O/O, \"progressively\"/O/O, \"worse\"/O/O, \",\"/O/O, \"to\"/O/O, \"the\"/O/O, \"point\"/O/O, \"where\"/O/O, \"i\"/O/O, \"am\"/O/O, \"in\"/O/O, \"tears\"/O/O, \"with\"/O/O, \"the\"/O/O, \"agony\"/B-Symptom/B-Agony, \",\"/O/O, \"gp\"/O/O, \"'\"/O/O, \"s\"/O/O, \"started\"/O/O, \"me\"/O/O, \"on\"/O/O, \"75\"/O/O, \"twice\"/O/O, \"a\"/O/O, \"day\"/O/O, \"and\"/O/O, \"i\"/O/O, \"have\"/O/O, \"to\"/O/O, \"take\"/O/O, \"it\"/O/O, \".\"/O/O, \"every\"/O/O, \"day\"/O/O, \"for\"/O/O, \"the\"/O/O, \"next\"/O/O, \"month\"/O/O, \"to\"/O/O, \"see\"/O/O, \"how\"/O/O, \"i\"/O/O, \"get\"/O/O, \"on\"/O/O, \",\"/O/O, \"here\"/O/O, \"goes\"/O/O, \".\"/O/O, \"so\"/O/O, \"far\"/O/O, \"its\"/O/O, \"been\"/O/O, \"very\"/O/O, \"good\"/O/O, \",\"/O/O, \"pains\"/B-Symptom/B-Pain, \"almost\"/O/O, \"gone\"/O/O, \",\"/O/O, \"but\"/O/O, \"i\"/O/O, \"feel\"/B-ADR/B-Malaise, \"a\"/I-ADR/I-Malaise, \"bit\"/I-ADR/I-Malaise, \"weird\"/I-ADR/I-Malaise, \",\"/O/O, \"didnt\"/O/O, \"have\"/O/O, \"that\"/O/O, \"when\"/O/O, \"on\"/O/O, \"50\"/O/O, \".\"/O/O]"
            ]
          },
          "execution_count": 10,
          "metadata": {},
          "output_type": "execute_result"
        }
      ],
      "source": [
        "temp = docs[0]\n",
        "temp"
      ]
    },
    {
      "cell_type": "code",
      "execution_count": 11,
      "metadata": {
        "colab": {
          "base_uri": "https://localhost:8080/"
        },
        "id": "2EeTdfHstGij",
        "outputId": "37e9a506-04ef-4e5e-b54f-ea9843eb73e4"
      },
      "outputs": [
        {
          "data": {
            "text/plain": [
              "{'ner': ['Token[0]: \"i\"'/'O' (1.0),\n",
              "  'Token[1]: \"feel\"'/'O' (1.0),\n",
              "  'Token[2]: \"a\"'/'O' (1.0),\n",
              "  'Token[3]: \"bit\"'/'B-ADR' (1.0),\n",
              "  'Token[4]: \"drowsy\"'/'I-ADR' (1.0),\n",
              "  'Token[5]: \"&\"'/'O' (1.0),\n",
              "  'Token[6]: \"have\"'/'O' (1.0),\n",
              "  'Token[7]: \"a\"'/'O' (1.0),\n",
              "  'Token[8]: \"little\"'/'B-ADR' (1.0),\n",
              "  'Token[9]: \"blurred\"'/'I-ADR' (1.0),\n",
              "  'Token[10]: \"vision\"'/'I-ADR' (1.0),\n",
              "  'Token[11]: \",\"'/'O' (1.0),\n",
              "  'Token[12]: \"so\"'/'O' (1.0),\n",
              "  'Token[13]: \"far\"'/'O' (1.0),\n",
              "  'Token[14]: \"no\"'/'O' (1.0),\n",
              "  'Token[15]: \"gastric\"'/'B-ADR' (1.0),\n",
              "  'Token[16]: \"problems\"'/'I-ADR' (1.0),\n",
              "  'Token[17]: \".\"'/'O' (1.0),\n",
              "  'Token[18]: \"ive\"'/'O' (1.0),\n",
              "  'Token[19]: \"been\"'/'O' (1.0),\n",
              "  'Token[20]: \"on\"'/'O' (1.0),\n",
              "  'Token[21]: \"arthrotec\"'/'B-Drug' (1.0),\n",
              "  'Token[22]: \"50\"'/'O' (1.0),\n",
              "  'Token[23]: \"for\"'/'O' (1.0),\n",
              "  'Token[24]: \"over\"'/'O' (1.0),\n",
              "  'Token[25]: \"10\"'/'O' (1.0),\n",
              "  'Token[26]: \"years\"'/'O' (1.0),\n",
              "  'Token[27]: \"on\"'/'O' (1.0),\n",
              "  'Token[28]: \"and\"'/'O' (1.0),\n",
              "  'Token[29]: \"off\"'/'O' (1.0),\n",
              "  'Token[30]: \",\"'/'O' (1.0),\n",
              "  'Token[31]: \"only\"'/'O' (1.0),\n",
              "  'Token[32]: \"taking\"'/'O' (1.0),\n",
              "  'Token[33]: \"it\"'/'O' (1.0),\n",
              "  'Token[34]: \"when\"'/'O' (1.0),\n",
              "  'Token[35]: \"i\"'/'O' (1.0),\n",
              "  'Token[36]: \"needed\"'/'O' (1.0),\n",
              "  'Token[37]: \"it\"'/'O' (1.0),\n",
              "  'Token[38]: \".\"'/'O' (1.0),\n",
              "  'Token[39]: \"due\"'/'O' (1.0),\n",
              "  'Token[40]: \"to\"'/'O' (1.0),\n",
              "  'Token[41]: \"my\"'/'O' (1.0),\n",
              "  'Token[42]: \"arthritis\"'/'B-Disease' (1.0),\n",
              "  'Token[43]: \"getting\"'/'O' (1.0),\n",
              "  'Token[44]: \"progressively\"'/'O' (1.0),\n",
              "  'Token[45]: \"worse\"'/'O' (1.0),\n",
              "  'Token[46]: \",\"'/'O' (1.0),\n",
              "  'Token[47]: \"to\"'/'O' (1.0),\n",
              "  'Token[48]: \"the\"'/'O' (1.0),\n",
              "  'Token[49]: \"point\"'/'O' (1.0),\n",
              "  'Token[50]: \"where\"'/'O' (1.0),\n",
              "  'Token[51]: \"i\"'/'O' (1.0),\n",
              "  'Token[52]: \"am\"'/'O' (1.0),\n",
              "  'Token[53]: \"in\"'/'O' (1.0),\n",
              "  'Token[54]: \"tears\"'/'O' (1.0),\n",
              "  'Token[55]: \"with\"'/'O' (1.0),\n",
              "  'Token[56]: \"the\"'/'O' (1.0),\n",
              "  'Token[57]: \"agony\"'/'B-Symptom' (1.0),\n",
              "  'Token[58]: \",\"'/'O' (1.0),\n",
              "  'Token[59]: \"gp\"'/'O' (1.0),\n",
              "  'Token[60]: \"'\"'/'O' (1.0),\n",
              "  'Token[61]: \"s\"'/'O' (1.0),\n",
              "  'Token[62]: \"started\"'/'O' (1.0),\n",
              "  'Token[63]: \"me\"'/'O' (1.0),\n",
              "  'Token[64]: \"on\"'/'O' (1.0),\n",
              "  'Token[65]: \"75\"'/'O' (1.0),\n",
              "  'Token[66]: \"twice\"'/'O' (1.0),\n",
              "  'Token[67]: \"a\"'/'O' (1.0),\n",
              "  'Token[68]: \"day\"'/'O' (1.0),\n",
              "  'Token[69]: \"and\"'/'O' (1.0),\n",
              "  'Token[70]: \"i\"'/'O' (1.0),\n",
              "  'Token[71]: \"have\"'/'O' (1.0),\n",
              "  'Token[72]: \"to\"'/'O' (1.0),\n",
              "  'Token[73]: \"take\"'/'O' (1.0),\n",
              "  'Token[74]: \"it\"'/'O' (1.0),\n",
              "  'Token[75]: \".\"'/'O' (1.0),\n",
              "  'Token[76]: \"every\"'/'O' (1.0),\n",
              "  'Token[77]: \"day\"'/'O' (1.0),\n",
              "  'Token[78]: \"for\"'/'O' (1.0),\n",
              "  'Token[79]: \"the\"'/'O' (1.0),\n",
              "  'Token[80]: \"next\"'/'O' (1.0),\n",
              "  'Token[81]: \"month\"'/'O' (1.0),\n",
              "  'Token[82]: \"to\"'/'O' (1.0),\n",
              "  'Token[83]: \"see\"'/'O' (1.0),\n",
              "  'Token[84]: \"how\"'/'O' (1.0),\n",
              "  'Token[85]: \"i\"'/'O' (1.0),\n",
              "  'Token[86]: \"get\"'/'O' (1.0),\n",
              "  'Token[87]: \"on\"'/'O' (1.0),\n",
              "  'Token[88]: \",\"'/'O' (1.0),\n",
              "  'Token[89]: \"here\"'/'O' (1.0),\n",
              "  'Token[90]: \"goes\"'/'O' (1.0),\n",
              "  'Token[91]: \".\"'/'O' (1.0),\n",
              "  'Token[92]: \"so\"'/'O' (1.0),\n",
              "  'Token[93]: \"far\"'/'O' (1.0),\n",
              "  'Token[94]: \"its\"'/'O' (1.0),\n",
              "  'Token[95]: \"been\"'/'O' (1.0),\n",
              "  'Token[96]: \"very\"'/'O' (1.0),\n",
              "  'Token[97]: \"good\"'/'O' (1.0),\n",
              "  'Token[98]: \",\"'/'O' (1.0),\n",
              "  'Token[99]: \"pains\"'/'B-Symptom' (1.0),\n",
              "  'Token[100]: \"almost\"'/'O' (1.0),\n",
              "  'Token[101]: \"gone\"'/'O' (1.0),\n",
              "  'Token[102]: \",\"'/'O' (1.0),\n",
              "  'Token[103]: \"but\"'/'O' (1.0),\n",
              "  'Token[104]: \"i\"'/'O' (1.0),\n",
              "  'Token[105]: \"feel\"'/'B-ADR' (1.0),\n",
              "  'Token[106]: \"a\"'/'I-ADR' (1.0),\n",
              "  'Token[107]: \"bit\"'/'I-ADR' (1.0),\n",
              "  'Token[108]: \"weird\"'/'I-ADR' (1.0),\n",
              "  'Token[109]: \",\"'/'O' (1.0),\n",
              "  'Token[110]: \"didnt\"'/'O' (1.0),\n",
              "  'Token[111]: \"have\"'/'O' (1.0),\n",
              "  'Token[112]: \"that\"'/'O' (1.0),\n",
              "  'Token[113]: \"when\"'/'O' (1.0),\n",
              "  'Token[114]: \"on\"'/'O' (1.0),\n",
              "  'Token[115]: \"50\"'/'O' (1.0),\n",
              "  'Token[116]: \".\"'/'O' (1.0)],\n",
              " 'meddra': ['Token[0]: \"i\"'/'O' (1.0),\n",
              "  'Token[1]: \"feel\"'/'O' (1.0),\n",
              "  'Token[2]: \"a\"'/'O' (1.0),\n",
              "  'Token[3]: \"bit\"'/'B-Drowsy' (1.0),\n",
              "  'Token[4]: \"drowsy\"'/'I-Drowsy' (1.0),\n",
              "  'Token[5]: \"&\"'/'O' (1.0),\n",
              "  'Token[6]: \"have\"'/'O' (1.0),\n",
              "  'Token[7]: \"a\"'/'O' (1.0),\n",
              "  'Token[8]: \"little\"'/'B-Blurred_vision_-_hazy' (1.0),\n",
              "  'Token[9]: \"blurred\"'/'I-Blurred_vision_-_hazy' (1.0),\n",
              "  'Token[10]: \"vision\"'/'I-Blurred_vision_-_hazy' (1.0),\n",
              "  'Token[11]: \",\"'/'O' (1.0),\n",
              "  'Token[12]: \"so\"'/'O' (1.0),\n",
              "  'Token[13]: \"far\"'/'O' (1.0),\n",
              "  'Token[14]: \"no\"'/'O' (1.0),\n",
              "  'Token[15]: \"gastric\"'/'B-Excessive_upper_gastrointestinal_gas' (1.0),\n",
              "  'Token[16]: \"problems\"'/'I-Excessive_upper_gastrointestinal_gas' (1.0),\n",
              "  'Token[17]: \".\"'/'O' (1.0),\n",
              "  'Token[18]: \"ive\"'/'O' (1.0),\n",
              "  'Token[19]: \"been\"'/'O' (1.0),\n",
              "  'Token[20]: \"on\"'/'O' (1.0),\n",
              "  'Token[21]: \"arthrotec\"'/'B-Arthrotec' (1.0),\n",
              "  'Token[22]: \"50\"'/'O' (1.0),\n",
              "  'Token[23]: \"for\"'/'O' (1.0),\n",
              "  'Token[24]: \"over\"'/'O' (1.0),\n",
              "  'Token[25]: \"10\"'/'O' (1.0),\n",
              "  'Token[26]: \"years\"'/'O' (1.0),\n",
              "  'Token[27]: \"on\"'/'O' (1.0),\n",
              "  'Token[28]: \"and\"'/'O' (1.0),\n",
              "  'Token[29]: \"off\"'/'O' (1.0),\n",
              "  'Token[30]: \",\"'/'O' (1.0),\n",
              "  'Token[31]: \"only\"'/'O' (1.0),\n",
              "  'Token[32]: \"taking\"'/'O' (1.0),\n",
              "  'Token[33]: \"it\"'/'O' (1.0),\n",
              "  'Token[34]: \"when\"'/'O' (1.0),\n",
              "  'Token[35]: \"i\"'/'O' (1.0),\n",
              "  'Token[36]: \"needed\"'/'O' (1.0),\n",
              "  'Token[37]: \"it\"'/'O' (1.0),\n",
              "  'Token[38]: \".\"'/'O' (1.0),\n",
              "  'Token[39]: \"due\"'/'O' (1.0),\n",
              "  'Token[40]: \"to\"'/'O' (1.0),\n",
              "  'Token[41]: \"my\"'/'O' (1.0),\n",
              "  'Token[42]: \"arthritis\"'/'B-Arthritis' (1.0),\n",
              "  'Token[43]: \"getting\"'/'O' (1.0),\n",
              "  'Token[44]: \"progressively\"'/'O' (1.0),\n",
              "  'Token[45]: \"worse\"'/'O' (1.0),\n",
              "  'Token[46]: \",\"'/'O' (1.0),\n",
              "  'Token[47]: \"to\"'/'O' (1.0),\n",
              "  'Token[48]: \"the\"'/'O' (1.0),\n",
              "  'Token[49]: \"point\"'/'O' (1.0),\n",
              "  'Token[50]: \"where\"'/'O' (1.0),\n",
              "  'Token[51]: \"i\"'/'O' (1.0),\n",
              "  'Token[52]: \"am\"'/'O' (1.0),\n",
              "  'Token[53]: \"in\"'/'O' (1.0),\n",
              "  'Token[54]: \"tears\"'/'O' (1.0),\n",
              "  'Token[55]: \"with\"'/'O' (1.0),\n",
              "  'Token[56]: \"the\"'/'O' (1.0),\n",
              "  'Token[57]: \"agony\"'/'B-Agony' (1.0),\n",
              "  'Token[58]: \",\"'/'O' (1.0),\n",
              "  'Token[59]: \"gp\"'/'O' (1.0),\n",
              "  'Token[60]: \"'\"'/'O' (1.0),\n",
              "  'Token[61]: \"s\"'/'O' (1.0),\n",
              "  'Token[62]: \"started\"'/'O' (1.0),\n",
              "  'Token[63]: \"me\"'/'O' (1.0),\n",
              "  'Token[64]: \"on\"'/'O' (1.0),\n",
              "  'Token[65]: \"75\"'/'O' (1.0),\n",
              "  'Token[66]: \"twice\"'/'O' (1.0),\n",
              "  'Token[67]: \"a\"'/'O' (1.0),\n",
              "  'Token[68]: \"day\"'/'O' (1.0),\n",
              "  'Token[69]: \"and\"'/'O' (1.0),\n",
              "  'Token[70]: \"i\"'/'O' (1.0),\n",
              "  'Token[71]: \"have\"'/'O' (1.0),\n",
              "  'Token[72]: \"to\"'/'O' (1.0),\n",
              "  'Token[73]: \"take\"'/'O' (1.0),\n",
              "  'Token[74]: \"it\"'/'O' (1.0),\n",
              "  'Token[75]: \".\"'/'O' (1.0),\n",
              "  'Token[76]: \"every\"'/'O' (1.0),\n",
              "  'Token[77]: \"day\"'/'O' (1.0),\n",
              "  'Token[78]: \"for\"'/'O' (1.0),\n",
              "  'Token[79]: \"the\"'/'O' (1.0),\n",
              "  'Token[80]: \"next\"'/'O' (1.0),\n",
              "  'Token[81]: \"month\"'/'O' (1.0),\n",
              "  'Token[82]: \"to\"'/'O' (1.0),\n",
              "  'Token[83]: \"see\"'/'O' (1.0),\n",
              "  'Token[84]: \"how\"'/'O' (1.0),\n",
              "  'Token[85]: \"i\"'/'O' (1.0),\n",
              "  'Token[86]: \"get\"'/'O' (1.0),\n",
              "  'Token[87]: \"on\"'/'O' (1.0),\n",
              "  'Token[88]: \",\"'/'O' (1.0),\n",
              "  'Token[89]: \"here\"'/'O' (1.0),\n",
              "  'Token[90]: \"goes\"'/'O' (1.0),\n",
              "  'Token[91]: \".\"'/'O' (1.0),\n",
              "  'Token[92]: \"so\"'/'O' (1.0),\n",
              "  'Token[93]: \"far\"'/'O' (1.0),\n",
              "  'Token[94]: \"its\"'/'O' (1.0),\n",
              "  'Token[95]: \"been\"'/'O' (1.0),\n",
              "  'Token[96]: \"very\"'/'O' (1.0),\n",
              "  'Token[97]: \"good\"'/'O' (1.0),\n",
              "  'Token[98]: \",\"'/'O' (1.0),\n",
              "  'Token[99]: \"pains\"'/'B-Pain' (1.0),\n",
              "  'Token[100]: \"almost\"'/'O' (1.0),\n",
              "  'Token[101]: \"gone\"'/'O' (1.0),\n",
              "  'Token[102]: \",\"'/'O' (1.0),\n",
              "  'Token[103]: \"but\"'/'O' (1.0),\n",
              "  'Token[104]: \"i\"'/'O' (1.0),\n",
              "  'Token[105]: \"feel\"'/'B-Malaise' (1.0),\n",
              "  'Token[106]: \"a\"'/'I-Malaise' (1.0),\n",
              "  'Token[107]: \"bit\"'/'I-Malaise' (1.0),\n",
              "  'Token[108]: \"weird\"'/'I-Malaise' (1.0),\n",
              "  'Token[109]: \",\"'/'O' (1.0),\n",
              "  'Token[110]: \"didnt\"'/'O' (1.0),\n",
              "  'Token[111]: \"have\"'/'O' (1.0),\n",
              "  'Token[112]: \"that\"'/'O' (1.0),\n",
              "  'Token[113]: \"when\"'/'O' (1.0),\n",
              "  'Token[114]: \"on\"'/'O' (1.0),\n",
              "  'Token[115]: \"50\"'/'O' (1.0),\n",
              "  'Token[116]: \".\"'/'O' (1.0)]}"
            ]
          },
          "execution_count": 11,
          "metadata": {},
          "output_type": "execute_result"
        }
      ],
      "source": [
        "temp.annotation_layers"
      ]
    },
    {
      "cell_type": "code",
      "execution_count": 12,
      "metadata": {
        "id": "4CsGKKB6tGik"
      },
      "outputs": [],
      "source": [
        "\n",
        "# define your NER tags\n",
        "label_dict = {\n",
        "    'ADR': 'ADR',\n",
        "    'Drug': 'Drug',\n",
        "    'Finding': 'Finding',\n",
        "    'Symptom': 'Symptom',\n",
        "    'Disease': 'Disease'\n",
        "}"
      ]
    },
    {
      "cell_type": "code",
      "execution_count": 13,
      "metadata": {
        "colab": {
          "base_uri": "https://localhost:8080/",
          "height": 341,
          "referenced_widgets": [
            "2d849d81cb0e49dfa366379c94040c74",
            "a703b4f7036a4c8090f5f5e12ba23568",
            "1721637b9e8e4b3e9ea34407b660cc4e",
            "75c87114cb9b4bac99f211814c3602b8",
            "b0e30cfc6d2d4d999ae0b79a9516af99",
            "d1836d77a517475799f1ad2a7bd34b9e",
            "4f6113838f864778b4420f9645aebbf9",
            "56f49e6138cf426d965a465feaa8d3d4",
            "685896a0f3f54219bba45146e45be370",
            "b44aa9b3abd84dc3a827e100f0bca049",
            "6c51fa490b9c4ea2be1c3dc83a6d91c2",
            "649c471f8cab45f4a36713054e3ae08d",
            "745c5ccb4c54467d82b420a63c1e54bd",
            "f111259070b24b52b9c087ee05c85ba8",
            "ff645cb4cf7d49edbf836f61dc55d809",
            "8d09d20bd6d2465ab70ce9993b65c733",
            "82e7626273be4a6ebaa4712ae2dc1e00",
            "0d66c83e466c41bc9cbb4ca6b6a8db3f",
            "78434eeeb52e4a26a2a7a5662fdbd47b",
            "7f5af9acb8924921a196282faaaccf5d",
            "8a3c86b669cf454abe9112d2682d861c",
            "3530f97cce8047ff801dc5b7a7705d27",
            "7baea4a9e6e64b9a85da4af571873d89",
            "71b6042da1d942dd9c0c729aea5b1ed3",
            "db455fae2ee14dcfb50b6e631b2c9716",
            "73b81bfaac4a45de92b7052ca1fc6336",
            "dac1a6cb781a44bc869d931823341148",
            "4908cf605ec346609a2a4c588240a033",
            "1ae19e59bf2342d4b647fa06e3acf047",
            "c50c577a465c4033a43c256881303b5d",
            "e26ae6a491bd4f4ca6cc1ae54c4e3bea",
            "0c0f61469d634eaeb5197b52b6c736da",
            "613561b716cb4b76b6ecabd5cc3d1964"
          ]
        },
        "id": "QmNsy8AltGik",
        "outputId": "8d237b5f-c37f-4d82-da41-49470245c2fe"
      },
      "outputs": [
        {
          "name": "stdout",
          "output_type": "stream",
          "text": [
            "2023-04-21 16:14:12,236 Filtering empty sentences\n",
            "2023-04-21 16:14:12,284 Corpus: 948 train + 119 dev + 119 test sentences\n",
            "2023-04-21 16:14:12,285 Computing label dictionary. Progress:\n"
          ]
        },
        {
          "name": "stderr",
          "output_type": "stream",
          "text": [
            "948it [00:00, 6967.93it/s]"
          ]
        },
        {
          "name": "stdout",
          "output_type": "stream",
          "text": [
            "2023-04-21 16:14:12,426 Dictionary created for label 'ner' with 12 values: O (seen 79057 times), I-ADR (seen 7953 times), B-ADR (seen 4712 times), B-Drug (seen 1396 times), I-Finding (seen 349 times), B-Finding (seen 309 times), B-Disease (seen 231 times), B-Symptom (seen 222 times), I-Symptom (seen 218 times), I-Disease (seen 169 times), I-Drug (seen 161 times)\n",
            "False\n"
          ]
        },
        {
          "name": "stderr",
          "output_type": "stream",
          "text": [
            "\n"
          ]
        },
        {
          "data": {
            "application/vnd.jupyter.widget-view+json": {
              "model_id": "2d849d81cb0e49dfa366379c94040c74",
              "version_major": 2,
              "version_minor": 0
            },
            "text/plain": [
              "Downloading (…)lve/main/config.json:   0%|          | 0.00/414 [00:00<?, ?B/s]"
            ]
          },
          "metadata": {},
          "output_type": "display_data"
        },
        {
          "data": {
            "application/vnd.jupyter.widget-view+json": {
              "model_id": "649c471f8cab45f4a36713054e3ae08d",
              "version_major": 2,
              "version_minor": 0
            },
            "text/plain": [
              "Downloading (…)solve/main/vocab.txt:   0%|          | 0.00/213k [00:00<?, ?B/s]"
            ]
          },
          "metadata": {},
          "output_type": "display_data"
        },
        {
          "data": {
            "application/vnd.jupyter.widget-view+json": {
              "model_id": "7baea4a9e6e64b9a85da4af571873d89",
              "version_major": 2,
              "version_minor": 0
            },
            "text/plain": [
              "Downloading pytorch_model.bin:   0%|          | 0.00/665M [00:00<?, ?B/s]"
            ]
          },
          "metadata": {},
          "output_type": "display_data"
        },
        {
          "name": "stdout",
          "output_type": "stream",
          "text": [
            "True True False 1024\n",
            "{'is_token_embedding': True, 'is_document_embedding': False, 'allow_long_sentences': False, 'tokenizer': BertTokenizerFast(name_or_path='SpanBERT/spanbert-large-cased', vocab_size=28996, model_max_length=512, is_fast=True, padding_side='right', truncation_side='right', special_tokens={'unk_token': '[UNK]', 'sep_token': '[SEP]', 'pad_token': '[PAD]', 'cls_token': '[CLS]', 'mask_token': '[MASK]', 'additional_special_tokens': ['[FLERT]']}, clean_up_tokenization_spaces=True), 'context_length': 64, 'context_dropout': 0.5, 'respect_document_boundaries': True, 'truncate': True, 'stride': 0, 'embedding_length': 1024, 'name': 'transformer-SpanBERT/spanbert-large-cased', 'fine_tune': True, 'use_lang_emb': False, 'force_max_length': True, 'feature_extractor': None, 'use_context_separator': True, 'needs_manual_ocr': False}\n",
            "BertTokenizerFast(name_or_path='SpanBERT/spanbert-large-cased', vocab_size=28996, model_max_length=512, is_fast=True, padding_side='right', truncation_side='right', special_tokens={'unk_token': '[UNK]', 'sep_token': '[SEP]', 'pad_token': '[PAD]', 'cls_token': '[CLS]', 'mask_token': '[MASK]', 'additional_special_tokens': ['[FLERT]']}, clean_up_tokenization_spaces=True)\n",
            "2023-04-21 16:14:30,277 SequenceTagger predicts: Dictionary with 12 tags: <unk>, O, I-ADR, B-ADR, B-Drug, I-Finding, B-Finding, B-Disease, B-Symptom, I-Symptom, I-Disease, I-Drug\n",
            "True\n",
            "False\n"
          ]
        }
      ],
      "source": [
        "from flair.data import Corpus\n",
        "\n",
        "from flair.embeddings import WordEmbeddings, FlairEmbeddings, StackedEmbeddings, TransformerWordEmbeddings\n",
        "from flair.models import SequenceTagger\n",
        "from flair.trainers import ModelTrainer\n",
        "from sklearn.model_selection import train_test_split\n",
        "\n",
        "from torch.optim import AdamW, SGD\n",
        "\n",
        "from flair.visual.training_curves import Plotter\n",
        "plotter = Plotter()\n",
        "\n",
        "\n",
        "\n",
        "train_docs, test_docs = train_test_split(docs, test_size=0.2, random_state=321)\n",
        "dev_docs, test_docs = train_test_split(test_docs, test_size=0.5, random_state=123)\n",
        "\n",
        "corpus = Corpus(train=train_docs, dev=dev_docs, test=test_docs) # Corpus: 948 train + 119 dev + 119 test sentences\n",
        "corpus.filter_empty_sentences()\n",
        "# # create a tag dictionary\n",
        "labels = ['ADR', 'Drug', 'Finding', 'Symptom', 'Disease']\n",
        "# tag_dictionary = Dictionary(add_unk=True)\n",
        "# for label in labels:\n",
        "#     tag_dictionary.add_item(label)\n",
        "tag_dictionary = corpus.make_label_dictionary(label_type='ner')\n",
        "print(tag_dictionary.span_labels)\n",
        "\n",
        "# create a stacked embedding using GloVe and Flair embeddings\n",
        "# stacked_embeddings = StackedEmbeddings([\n",
        "#     WordEmbeddings('glove',\n",
        "#                    force_cpu=False,\n",
        "#                 #    embedding_length=1024,\n",
        "#                   #  fine_tune=True,\n",
        "#                    ),\n",
        "#     # TransformerWordEmbeddings('emilyalsentzer/Bio_ClinicalBERT', layers=\"-1\",\n",
        "#     #                                    subtoken_pooling=\"first\",\n",
        "#     #                                    is_document_embedding=True,\n",
        "#     #                                    fine_tune=True,\n",
        "#     #                                    use_context=True,\n",
        "#     #                                    max_seq_length=1024,\n",
        "#     #                                    ),\n",
        "#     FlairEmbeddings('news-forward',\n",
        "#                     # fine_tune=True\n",
        "#                     ),\n",
        "#     FlairEmbeddings('news-backward',\n",
        "#                     # fine_tune=True\n",
        "#                     ),\n",
        "# ])\n",
        "# https://github.com/flairNLP/flair/blob/master/resources/docs/embeddings/FLAIR_EMBEDDINGS.md\n",
        "\n",
        "\n",
        "embeddings = TransformerWordEmbeddings(model='SpanBERT/spanbert-large-cased',\n",
        "                                       layers=\"-1\",\n",
        "                                       subtoken_pooling=\"first\",\n",
        "                                       fine_tune=True,\n",
        "                                       use_context=True,\n",
        "                                       force_max_length=True,\n",
        "                                      #  truncate=True, # not accepted here\n",
        "                                      # #  is_document_embedding=True, # False is default\n",
        "                                      #  allow_long_sentences=True, # True is default; doesnt go through\n",
        "                                      #  embedding_length=512,\n",
        "                                       )\n",
        "# embeddings.allow_long_sentences = False\n",
        "embeddings.truncate = True\n",
        "# embeddings.embedding_length_internal = 512\n",
        "print(embeddings.force_max_length,embeddings.truncate,embeddings.allow_long_sentences,embeddings.embedding_length_internal)\n",
        "embeddings.tokenizer.model_max_length=512\n",
        "print(embeddings.to_args())\n",
        "print(embeddings.tokenizer)\n",
        "\n",
        "\n",
        "# create a SequenceTagger object and specify the tag dictionary and embeddings to use\n",
        "tagger = SequenceTagger(hidden_size=256,\n",
        "                        # embeddings=stacked_embeddings,\n",
        "                        embeddings=embeddings,\n",
        "                        tag_dictionary=tag_dictionary,\n",
        "                        tag_type='ner',\n",
        "                        use_crf=False,\n",
        "                        use_rnn=False,\n",
        "                        # reproject_embeddings=False\n",
        "                        )\n",
        "tagger.predict_spans = False\n",
        "\n",
        "print(tagger._determine_if_span_prediction_problem(tagger.label_dictionary))\n",
        "print(tagger.predict_spans)\n",
        "\n",
        "# https://github.com/flairNLP/flair/blob/master/flair/trainers/trainer.py\n",
        "# create a ModelTrainer object and train the tagger\n",
        "trainer = ModelTrainer(tagger, corpus)"
      ]
    },
    {
      "cell_type": "code",
      "execution_count": 14,
      "metadata": {
        "id": "fh0zU2jHAA4J"
      },
      "outputs": [],
      "source": [
        "# !tensorboard --logdir=runs\n",
        "# http://localhost:6006/"
      ]
    },
    {
      "cell_type": "code",
      "execution_count": 15,
      "metadata": {
        "colab": {
          "base_uri": "https://localhost:8080/"
        },
        "id": "UKTMzxV8zF9o",
        "outputId": "917028fc-8349-43d3-8371-ccaee41be2ef"
      },
      "outputs": [
        {
          "name": "stdout",
          "output_type": "stream",
          "text": [
            "2023-04-21 16:14:30,705 tensorboard logging path is runs/tb_logs_v3_spanbert-large-cased\n",
            "2023-04-21 16:14:30,717 ----------------------------------------------------------------------------------------------------\n",
            "2023-04-21 16:14:30,720 Model: \"SequenceTagger(\n",
            "  (embeddings): TransformerWordEmbeddings(\n",
            "    (model): BertModel(\n",
            "      (embeddings): BertEmbeddings(\n",
            "        (word_embeddings): Embedding(28997, 1024)\n",
            "        (position_embeddings): Embedding(512, 1024)\n",
            "        (token_type_embeddings): Embedding(2, 1024)\n",
            "        (LayerNorm): LayerNorm((1024,), eps=1e-12, elementwise_affine=True)\n",
            "        (dropout): Dropout(p=0.1, inplace=False)\n",
            "      )\n",
            "      (encoder): BertEncoder(\n",
            "        (layer): ModuleList(\n",
            "          (0-23): 24 x BertLayer(\n",
            "            (attention): BertAttention(\n",
            "              (self): BertSelfAttention(\n",
            "                (query): Linear(in_features=1024, out_features=1024, bias=True)\n",
            "                (key): Linear(in_features=1024, out_features=1024, bias=True)\n",
            "                (value): Linear(in_features=1024, out_features=1024, bias=True)\n",
            "                (dropout): Dropout(p=0.1, inplace=False)\n",
            "              )\n",
            "              (output): BertSelfOutput(\n",
            "                (dense): Linear(in_features=1024, out_features=1024, bias=True)\n",
            "                (LayerNorm): LayerNorm((1024,), eps=1e-12, elementwise_affine=True)\n",
            "                (dropout): Dropout(p=0.1, inplace=False)\n",
            "              )\n",
            "            )\n",
            "            (intermediate): BertIntermediate(\n",
            "              (dense): Linear(in_features=1024, out_features=4096, bias=True)\n",
            "              (intermediate_act_fn): GELUActivation()\n",
            "            )\n",
            "            (output): BertOutput(\n",
            "              (dense): Linear(in_features=4096, out_features=1024, bias=True)\n",
            "              (LayerNorm): LayerNorm((1024,), eps=1e-12, elementwise_affine=True)\n",
            "              (dropout): Dropout(p=0.1, inplace=False)\n",
            "            )\n",
            "          )\n",
            "        )\n",
            "      )\n",
            "      (pooler): BertPooler(\n",
            "        (dense): Linear(in_features=1024, out_features=1024, bias=True)\n",
            "        (activation): Tanh()\n",
            "      )\n",
            "    )\n",
            "  )\n",
            "  (locked_dropout): LockedDropout(p=0.5)\n",
            "  (embedding2nn): Linear(in_features=1024, out_features=1024, bias=True)\n",
            "  (linear): Linear(in_features=1024, out_features=12, bias=True)\n",
            "  (loss_function): CrossEntropyLoss()\n",
            ")\"\n",
            "2023-04-21 16:14:30,722 ----------------------------------------------------------------------------------------------------\n",
            "2023-04-21 16:14:30,723 Corpus: \"Corpus: 948 train + 119 dev + 119 test sentences\"\n",
            "2023-04-21 16:14:30,725 ----------------------------------------------------------------------------------------------------\n",
            "2023-04-21 16:14:30,726 Parameters:\n",
            "2023-04-21 16:14:30,728  - learning_rate: \"0.000005\"\n",
            "2023-04-21 16:14:30,729  - mini_batch_size: \"15\"\n",
            "2023-04-21 16:14:30,731  - patience: \"1\"\n",
            "2023-04-21 16:14:30,733  - anneal_factor: \"0.5\"\n",
            "2023-04-21 16:14:30,735  - max_epochs: \"100\"\n",
            "2023-04-21 16:14:30,736  - shuffle: \"True\"\n",
            "2023-04-21 16:14:30,737  - train_with_dev: \"False\"\n",
            "2023-04-21 16:14:30,739  - batch_growth_annealing: \"False\"\n",
            "2023-04-21 16:14:30,740 ----------------------------------------------------------------------------------------------------\n",
            "2023-04-21 16:14:30,743 Model training base path: \"flair_ner_model_v3_spanbert-large-cased\"\n",
            "2023-04-21 16:14:30,744 ----------------------------------------------------------------------------------------------------\n",
            "2023-04-21 16:14:30,747 Device: cuda:0\n",
            "2023-04-21 16:14:30,749 ----------------------------------------------------------------------------------------------------\n",
            "2023-04-21 16:14:30,751 Embeddings storage mode: gpu\n",
            "2023-04-21 16:14:30,752 ----------------------------------------------------------------------------------------------------\n",
            "2023-04-21 16:14:39,986 epoch 1 - iter 6/64 - loss 2.33951131 - time (sec): 9.23 - samples/sec: 1039.91 - lr: 0.000005\n",
            "2023-04-21 16:14:46,615 epoch 1 - iter 12/64 - loss 2.19488367 - time (sec): 15.86 - samples/sec: 1120.51 - lr: 0.000005\n",
            "2023-04-21 16:14:53,287 epoch 1 - iter 18/64 - loss 2.04024363 - time (sec): 22.53 - samples/sec: 1169.03 - lr: 0.000005\n",
            "2023-04-21 16:14:59,972 epoch 1 - iter 24/64 - loss 1.90437049 - time (sec): 29.22 - samples/sec: 1205.44 - lr: 0.000005\n",
            "2023-04-21 16:15:06,594 epoch 1 - iter 30/64 - loss 1.79934373 - time (sec): 35.84 - samples/sec: 1219.62 - lr: 0.000005\n",
            "2023-04-21 16:15:13,304 epoch 1 - iter 36/64 - loss 1.71718616 - time (sec): 42.55 - samples/sec: 1241.93 - lr: 0.000005\n",
            "2023-04-21 16:15:20,125 epoch 1 - iter 42/64 - loss 1.64780198 - time (sec): 49.37 - samples/sec: 1267.14 - lr: 0.000005\n",
            "2023-04-21 16:15:26,800 epoch 1 - iter 48/64 - loss 1.58107483 - time (sec): 56.05 - samples/sec: 1274.31 - lr: 0.000005\n",
            "2023-04-21 16:15:33,456 epoch 1 - iter 54/64 - loss 1.52864695 - time (sec): 62.70 - samples/sec: 1282.55 - lr: 0.000005\n",
            "2023-04-21 16:15:40,142 epoch 1 - iter 60/64 - loss 1.47874166 - time (sec): 69.39 - samples/sec: 1288.67 - lr: 0.000005\n",
            "2023-04-21 16:15:43,844 ----------------------------------------------------------------------------------------------------\n",
            "2023-04-21 16:15:43,845 EPOCH 1 done: loss 1.4540 - lr 0.000005\n"
          ]
        },
        {
          "name": "stderr",
          "output_type": "stream",
          "text": [
            "100%|██████████| 64/64 [00:25<00:00,  2.52it/s]\n"
          ]
        },
        {
          "name": "stdout",
          "output_type": "stream",
          "text": [
            "2023-04-21 16:16:09,324 Evaluating as a multi-label problem: True\n",
            "2023-04-21 16:16:12,140 TRAIN : loss 0.986102819442749 - f1-score (weighted avg)  0.0\n"
          ]
        },
        {
          "name": "stderr",
          "output_type": "stream",
          "text": [
            "100%|██████████| 8/8 [00:03<00:00,  2.50it/s]"
          ]
        },
        {
          "name": "stdout",
          "output_type": "stream",
          "text": [
            "2023-04-21 16:16:15,488 Evaluating as a multi-label problem: False\n",
            "2023-04-21 16:16:15,550 DEV : loss 0.9820303320884705 - f1-score (weighted avg)  0.0\n",
            "2023-04-21 16:16:15,570 BAD EPOCHS (no improvement): 0\n",
            "2023-04-21 16:16:15,575 saving best model\n"
          ]
        },
        {
          "name": "stderr",
          "output_type": "stream",
          "text": [
            "\n"
          ]
        },
        {
          "name": "stdout",
          "output_type": "stream",
          "text": [
            "2023-04-21 16:16:25,499 ----------------------------------------------------------------------------------------------------\n",
            "2023-04-21 16:16:32,225 epoch 2 - iter 6/64 - loss 1.02124873 - time (sec): 6.72 - samples/sec: 1404.25 - lr: 0.000005\n",
            "2023-04-21 16:16:38,876 epoch 2 - iter 12/64 - loss 0.99118074 - time (sec): 13.37 - samples/sec: 1359.43 - lr: 0.000005\n",
            "2023-04-21 16:16:45,622 epoch 2 - iter 18/64 - loss 0.97102090 - time (sec): 20.12 - samples/sec: 1357.41 - lr: 0.000005\n",
            "2023-04-21 16:16:52,339 epoch 2 - iter 24/64 - loss 0.95199718 - time (sec): 26.84 - samples/sec: 1419.82 - lr: 0.000005\n",
            "2023-04-21 16:16:59,042 epoch 2 - iter 30/64 - loss 0.93875993 - time (sec): 33.54 - samples/sec: 1403.78 - lr: 0.000005\n",
            "2023-04-21 16:17:05,690 epoch 2 - iter 36/64 - loss 0.93100102 - time (sec): 40.19 - samples/sec: 1384.59 - lr: 0.000005\n",
            "2023-04-21 16:17:12,535 epoch 2 - iter 42/64 - loss 0.92977286 - time (sec): 47.03 - samples/sec: 1379.76 - lr: 0.000005\n",
            "2023-04-21 16:17:19,270 epoch 2 - iter 48/64 - loss 0.91981849 - time (sec): 53.77 - samples/sec: 1376.11 - lr: 0.000005\n",
            "2023-04-21 16:17:25,905 epoch 2 - iter 54/64 - loss 0.91462775 - time (sec): 60.40 - samples/sec: 1356.76 - lr: 0.000005\n",
            "2023-04-21 16:17:32,566 epoch 2 - iter 60/64 - loss 0.90620223 - time (sec): 67.06 - samples/sec: 1345.49 - lr: 0.000005\n",
            "2023-04-21 16:17:36,154 ----------------------------------------------------------------------------------------------------\n",
            "2023-04-21 16:17:36,156 EPOCH 2 done: loss 0.9032 - lr 0.000005\n"
          ]
        },
        {
          "name": "stderr",
          "output_type": "stream",
          "text": [
            "100%|██████████| 64/64 [00:24<00:00,  2.61it/s]\n"
          ]
        },
        {
          "name": "stdout",
          "output_type": "stream",
          "text": [
            "2023-04-21 16:18:00,768 Evaluating as a multi-label problem: True\n",
            "2023-04-21 16:18:02,534 TRAIN : loss 0.7920640707015991 - f1-score (weighted avg)  0.0\n"
          ]
        },
        {
          "name": "stderr",
          "output_type": "stream",
          "text": [
            "100%|██████████| 8/8 [00:03<00:00,  2.54it/s]"
          ]
        },
        {
          "name": "stdout",
          "output_type": "stream",
          "text": [
            "2023-04-21 16:18:05,853 Evaluating as a multi-label problem: False\n",
            "2023-04-21 16:18:05,917 DEV : loss 0.789519190788269 - f1-score (weighted avg)  0.0\n",
            "2023-04-21 16:18:05,936 BAD EPOCHS (no improvement): 0\n",
            "2023-04-21 16:18:05,940 saving best model\n"
          ]
        },
        {
          "name": "stderr",
          "output_type": "stream",
          "text": [
            "\n"
          ]
        },
        {
          "name": "stdout",
          "output_type": "stream",
          "text": [
            "2023-04-21 16:18:16,370 ----------------------------------------------------------------------------------------------------\n",
            "2023-04-21 16:18:23,069 epoch 3 - iter 6/64 - loss 0.82206419 - time (sec): 6.70 - samples/sec: 1268.68 - lr: 0.000005\n",
            "2023-04-21 16:18:29,735 epoch 3 - iter 12/64 - loss 0.78950553 - time (sec): 13.36 - samples/sec: 1316.00 - lr: 0.000005\n",
            "2023-04-21 16:18:36,478 epoch 3 - iter 18/64 - loss 0.78792549 - time (sec): 20.11 - samples/sec: 1376.63 - lr: 0.000005\n",
            "2023-04-21 16:18:43,163 epoch 3 - iter 24/64 - loss 0.78932312 - time (sec): 26.79 - samples/sec: 1394.60 - lr: 0.000005\n",
            "2023-04-21 16:18:49,872 epoch 3 - iter 30/64 - loss 0.78388194 - time (sec): 33.50 - samples/sec: 1374.26 - lr: 0.000005\n",
            "2023-04-21 16:18:56,548 epoch 3 - iter 36/64 - loss 0.77568084 - time (sec): 40.18 - samples/sec: 1358.39 - lr: 0.000005\n",
            "2023-04-21 16:19:03,460 epoch 3 - iter 42/64 - loss 0.78260238 - time (sec): 47.09 - samples/sec: 1372.15 - lr: 0.000005\n",
            "2023-04-21 16:19:10,190 epoch 3 - iter 48/64 - loss 0.78096502 - time (sec): 53.82 - samples/sec: 1343.69 - lr: 0.000005\n",
            "2023-04-21 16:19:16,815 epoch 3 - iter 54/64 - loss 0.77591834 - time (sec): 60.44 - samples/sec: 1331.81 - lr: 0.000005\n",
            "2023-04-21 16:19:23,527 epoch 3 - iter 60/64 - loss 0.76302602 - time (sec): 67.15 - samples/sec: 1329.76 - lr: 0.000005\n",
            "2023-04-21 16:19:27,135 ----------------------------------------------------------------------------------------------------\n",
            "2023-04-21 16:19:27,136 EPOCH 3 done: loss 0.7572 - lr 0.000005\n"
          ]
        },
        {
          "name": "stderr",
          "output_type": "stream",
          "text": [
            "100%|██████████| 64/64 [00:25<00:00,  2.50it/s]\n"
          ]
        },
        {
          "name": "stdout",
          "output_type": "stream",
          "text": [
            "2023-04-21 16:19:52,853 Evaluating as a multi-label problem: True\n",
            "2023-04-21 16:19:54,631 TRAIN : loss 0.6033528447151184 - f1-score (weighted avg)  0.0\n"
          ]
        },
        {
          "name": "stderr",
          "output_type": "stream",
          "text": [
            "100%|██████████| 8/8 [00:03<00:00,  2.49it/s]"
          ]
        },
        {
          "name": "stdout",
          "output_type": "stream",
          "text": [
            "2023-04-21 16:19:57,995 Evaluating as a multi-label problem: False\n",
            "2023-04-21 16:19:58,064 DEV : loss 0.6117203235626221 - f1-score (weighted avg)  0.0\n",
            "2023-04-21 16:19:58,084 BAD EPOCHS (no improvement): 0\n",
            "2023-04-21 16:19:58,088 saving best model\n"
          ]
        },
        {
          "name": "stderr",
          "output_type": "stream",
          "text": [
            "\n"
          ]
        },
        {
          "name": "stdout",
          "output_type": "stream",
          "text": [
            "2023-04-21 16:20:10,941 ----------------------------------------------------------------------------------------------------\n",
            "2023-04-21 16:20:17,630 epoch 4 - iter 6/64 - loss 0.59085915 - time (sec): 6.69 - samples/sec: 1397.01 - lr: 0.000005\n",
            "2023-04-21 16:20:24,304 epoch 4 - iter 12/64 - loss 0.59013338 - time (sec): 13.36 - samples/sec: 1318.86 - lr: 0.000005\n",
            "2023-04-21 16:20:31,039 epoch 4 - iter 18/64 - loss 0.58832346 - time (sec): 20.09 - samples/sec: 1334.62 - lr: 0.000005\n",
            "2023-04-21 16:20:37,711 epoch 4 - iter 24/64 - loss 0.58472533 - time (sec): 26.77 - samples/sec: 1297.86 - lr: 0.000005\n",
            "2023-04-21 16:20:44,587 epoch 4 - iter 30/64 - loss 0.58554434 - time (sec): 33.64 - samples/sec: 1321.47 - lr: 0.000005\n",
            "2023-04-21 16:20:51,363 epoch 4 - iter 36/64 - loss 0.57470752 - time (sec): 40.42 - samples/sec: 1334.51 - lr: 0.000005\n",
            "2023-04-21 16:20:59,080 epoch 4 - iter 42/64 - loss 0.56151367 - time (sec): 48.14 - samples/sec: 1306.06 - lr: 0.000005\n",
            "2023-04-21 16:21:05,775 epoch 4 - iter 48/64 - loss 0.55153203 - time (sec): 54.83 - samples/sec: 1320.56 - lr: 0.000005\n",
            "2023-04-21 16:21:12,468 epoch 4 - iter 54/64 - loss 0.54169734 - time (sec): 61.52 - samples/sec: 1320.95 - lr: 0.000005\n",
            "2023-04-21 16:21:19,147 epoch 4 - iter 60/64 - loss 0.54199359 - time (sec): 68.20 - samples/sec: 1315.14 - lr: 0.000005\n",
            "2023-04-21 16:21:22,786 ----------------------------------------------------------------------------------------------------\n",
            "2023-04-21 16:21:22,787 EPOCH 4 done: loss 0.5391 - lr 0.000005\n"
          ]
        },
        {
          "name": "stderr",
          "output_type": "stream",
          "text": [
            "100%|██████████| 64/64 [00:24<00:00,  2.59it/s]\n"
          ]
        },
        {
          "name": "stdout",
          "output_type": "stream",
          "text": [
            "2023-04-21 16:21:47,617 Evaluating as a multi-label problem: True\n",
            "2023-04-21 16:21:50,536 TRAIN : loss 0.4731231927871704 - f1-score (weighted avg)  0.2689\n"
          ]
        },
        {
          "name": "stderr",
          "output_type": "stream",
          "text": [
            "100%|██████████| 8/8 [00:03<00:00,  2.50it/s]"
          ]
        },
        {
          "name": "stdout",
          "output_type": "stream",
          "text": [
            "2023-04-21 16:21:53,888 Evaluating as a multi-label problem: False\n",
            "2023-04-21 16:21:53,955 DEV : loss 0.48401886224746704 - f1-score (weighted avg)  0.2305\n",
            "2023-04-21 16:21:53,975 BAD EPOCHS (no improvement): 0\n",
            "2023-04-21 16:21:53,979 saving best model\n"
          ]
        },
        {
          "name": "stderr",
          "output_type": "stream",
          "text": [
            "\n"
          ]
        },
        {
          "name": "stdout",
          "output_type": "stream",
          "text": [
            "2023-04-21 16:22:04,014 ----------------------------------------------------------------------------------------------------\n",
            "2023-04-21 16:22:10,827 epoch 5 - iter 6/64 - loss 0.48387460 - time (sec): 6.81 - samples/sec: 1416.52 - lr: 0.000005\n",
            "2023-04-21 16:22:17,486 epoch 5 - iter 12/64 - loss 0.48703173 - time (sec): 13.46 - samples/sec: 1347.44 - lr: 0.000005\n",
            "2023-04-21 16:22:24,345 epoch 5 - iter 18/64 - loss 0.51018098 - time (sec): 20.32 - samples/sec: 1329.52 - lr: 0.000005\n",
            "2023-04-21 16:22:31,019 epoch 5 - iter 24/64 - loss 0.49540422 - time (sec): 27.00 - samples/sec: 1345.27 - lr: 0.000005\n",
            "2023-04-21 16:22:37,708 epoch 5 - iter 30/64 - loss 0.48186320 - time (sec): 33.69 - samples/sec: 1334.34 - lr: 0.000005\n",
            "2023-04-21 16:22:44,357 epoch 5 - iter 36/64 - loss 0.47875044 - time (sec): 40.34 - samples/sec: 1298.95 - lr: 0.000005\n",
            "2023-04-21 16:22:51,052 epoch 5 - iter 42/64 - loss 0.46854939 - time (sec): 47.03 - samples/sec: 1336.27 - lr: 0.000005\n",
            "2023-04-21 16:22:57,700 epoch 5 - iter 48/64 - loss 0.46440800 - time (sec): 53.68 - samples/sec: 1337.13 - lr: 0.000005\n",
            "2023-04-21 16:23:04,339 epoch 5 - iter 54/64 - loss 0.46073526 - time (sec): 60.32 - samples/sec: 1324.67 - lr: 0.000005\n",
            "2023-04-21 16:23:11,077 epoch 5 - iter 60/64 - loss 0.45647446 - time (sec): 67.06 - samples/sec: 1327.95 - lr: 0.000005\n",
            "2023-04-21 16:23:14,698 ----------------------------------------------------------------------------------------------------\n",
            "2023-04-21 16:23:14,701 EPOCH 5 done: loss 0.4507 - lr 0.000005\n"
          ]
        },
        {
          "name": "stderr",
          "output_type": "stream",
          "text": [
            "100%|██████████| 64/64 [00:24<00:00,  2.57it/s]\n"
          ]
        },
        {
          "name": "stdout",
          "output_type": "stream",
          "text": [
            "2023-04-21 16:23:39,731 Evaluating as a multi-label problem: True\n",
            "2023-04-21 16:23:42,726 TRAIN : loss 0.3915712833404541 - f1-score (weighted avg)  0.2623\n"
          ]
        },
        {
          "name": "stderr",
          "output_type": "stream",
          "text": [
            "100%|██████████| 8/8 [00:03<00:00,  2.49it/s]"
          ]
        },
        {
          "name": "stdout",
          "output_type": "stream",
          "text": [
            "2023-04-21 16:23:46,095 Evaluating as a multi-label problem: False\n",
            "2023-04-21 16:23:46,161 DEV : loss 0.4178542196750641 - f1-score (weighted avg)  0.2197\n",
            "2023-04-21 16:23:46,180 BAD EPOCHS (no improvement): 0\n",
            "2023-04-21 16:23:46,191 saving best model\n"
          ]
        },
        {
          "name": "stderr",
          "output_type": "stream",
          "text": [
            "\n"
          ]
        },
        {
          "name": "stdout",
          "output_type": "stream",
          "text": [
            "2023-04-21 16:23:55,733 ----------------------------------------------------------------------------------------------------\n",
            "2023-04-21 16:24:02,562 epoch 6 - iter 6/64 - loss 0.42062308 - time (sec): 6.83 - samples/sec: 1520.50 - lr: 0.000005\n",
            "2023-04-21 16:24:09,398 epoch 6 - iter 12/64 - loss 0.45656116 - time (sec): 13.66 - samples/sec: 1401.16 - lr: 0.000005\n",
            "2023-04-21 16:24:16,143 epoch 6 - iter 18/64 - loss 0.43833915 - time (sec): 20.41 - samples/sec: 1355.41 - lr: 0.000005\n",
            "2023-04-21 16:24:22,820 epoch 6 - iter 24/64 - loss 0.43237600 - time (sec): 27.08 - samples/sec: 1368.14 - lr: 0.000005\n",
            "2023-04-21 16:24:29,485 epoch 6 - iter 30/64 - loss 0.41893171 - time (sec): 33.75 - samples/sec: 1348.56 - lr: 0.000005\n",
            "2023-04-21 16:24:36,100 epoch 6 - iter 36/64 - loss 0.41627039 - time (sec): 40.36 - samples/sec: 1336.20 - lr: 0.000005\n",
            "2023-04-21 16:24:42,856 epoch 6 - iter 42/64 - loss 0.40311162 - time (sec): 47.12 - samples/sec: 1365.23 - lr: 0.000005\n",
            "2023-04-21 16:24:49,483 epoch 6 - iter 48/64 - loss 0.40060281 - time (sec): 53.75 - samples/sec: 1341.07 - lr: 0.000005\n",
            "2023-04-21 16:24:56,146 epoch 6 - iter 54/64 - loss 0.39709642 - time (sec): 60.41 - samples/sec: 1328.75 - lr: 0.000005\n",
            "2023-04-21 16:25:02,829 epoch 6 - iter 60/64 - loss 0.39074809 - time (sec): 67.09 - samples/sec: 1340.17 - lr: 0.000005\n",
            "2023-04-21 16:25:06,505 ----------------------------------------------------------------------------------------------------\n",
            "2023-04-21 16:25:06,507 EPOCH 6 done: loss 0.3914 - lr 0.000005\n"
          ]
        },
        {
          "name": "stderr",
          "output_type": "stream",
          "text": [
            "100%|██████████| 64/64 [00:24<00:00,  2.60it/s]\n"
          ]
        },
        {
          "name": "stdout",
          "output_type": "stream",
          "text": [
            "2023-04-21 16:25:31,294 Evaluating as a multi-label problem: True\n",
            "2023-04-21 16:25:33,148 TRAIN : loss 0.3359929025173187 - f1-score (weighted avg)  0.4931\n"
          ]
        },
        {
          "name": "stderr",
          "output_type": "stream",
          "text": [
            "100%|██████████| 8/8 [00:04<00:00,  1.90it/s]"
          ]
        },
        {
          "name": "stdout",
          "output_type": "stream",
          "text": [
            "2023-04-21 16:25:37,500 Evaluating as a multi-label problem: False\n",
            "2023-04-21 16:25:37,568 DEV : loss 0.36398202180862427 - f1-score (weighted avg)  0.4463\n",
            "2023-04-21 16:25:37,588 BAD EPOCHS (no improvement): 0\n",
            "2023-04-21 16:25:37,592 saving best model\n"
          ]
        },
        {
          "name": "stderr",
          "output_type": "stream",
          "text": [
            "\n"
          ]
        },
        {
          "name": "stdout",
          "output_type": "stream",
          "text": [
            "2023-04-21 16:25:47,571 ----------------------------------------------------------------------------------------------------\n",
            "2023-04-21 16:25:54,350 epoch 7 - iter 6/64 - loss 0.33915135 - time (sec): 6.78 - samples/sec: 1304.40 - lr: 0.000005\n",
            "2023-04-21 16:26:01,060 epoch 7 - iter 12/64 - loss 0.34563643 - time (sec): 13.49 - samples/sec: 1312.71 - lr: 0.000005\n",
            "2023-04-21 16:26:07,727 epoch 7 - iter 18/64 - loss 0.32574829 - time (sec): 20.15 - samples/sec: 1365.42 - lr: 0.000005\n",
            "2023-04-21 16:26:14,429 epoch 7 - iter 24/64 - loss 0.32989132 - time (sec): 26.86 - samples/sec: 1348.00 - lr: 0.000005\n",
            "2023-04-21 16:26:21,309 epoch 7 - iter 30/64 - loss 0.34172968 - time (sec): 33.74 - samples/sec: 1378.30 - lr: 0.000005\n",
            "2023-04-21 16:26:27,968 epoch 7 - iter 36/64 - loss 0.34393222 - time (sec): 40.39 - samples/sec: 1367.01 - lr: 0.000005\n",
            "2023-04-21 16:26:34,743 epoch 7 - iter 42/64 - loss 0.34448502 - time (sec): 47.17 - samples/sec: 1365.53 - lr: 0.000005\n",
            "2023-04-21 16:26:41,412 epoch 7 - iter 48/64 - loss 0.34326624 - time (sec): 53.84 - samples/sec: 1356.72 - lr: 0.000005\n",
            "2023-04-21 16:26:48,064 epoch 7 - iter 54/64 - loss 0.34067990 - time (sec): 60.49 - samples/sec: 1349.84 - lr: 0.000005\n",
            "2023-04-21 16:26:54,782 epoch 7 - iter 60/64 - loss 0.33397058 - time (sec): 67.21 - samples/sec: 1346.07 - lr: 0.000005\n",
            "2023-04-21 16:26:58,399 ----------------------------------------------------------------------------------------------------\n",
            "2023-04-21 16:26:58,402 EPOCH 7 done: loss 0.3315 - lr 0.000005\n"
          ]
        },
        {
          "name": "stderr",
          "output_type": "stream",
          "text": [
            "100%|██████████| 64/64 [00:24<00:00,  2.59it/s]\n"
          ]
        },
        {
          "name": "stdout",
          "output_type": "stream",
          "text": [
            "2023-04-21 16:27:23,209 Evaluating as a multi-label problem: True\n",
            "2023-04-21 16:27:26,213 TRAIN : loss 0.2824366092681885 - f1-score (weighted avg)  0.6824\n"
          ]
        },
        {
          "name": "stderr",
          "output_type": "stream",
          "text": [
            "100%|██████████| 8/8 [00:03<00:00,  2.50it/s]"
          ]
        },
        {
          "name": "stdout",
          "output_type": "stream",
          "text": [
            "2023-04-21 16:27:29,563 Evaluating as a multi-label problem: False\n",
            "2023-04-21 16:27:29,633 DEV : loss 0.34281811118125916 - f1-score (weighted avg)  0.6118\n",
            "2023-04-21 16:27:29,653 BAD EPOCHS (no improvement): 0\n",
            "2023-04-21 16:27:29,658 saving best model\n"
          ]
        },
        {
          "name": "stderr",
          "output_type": "stream",
          "text": [
            "\n"
          ]
        },
        {
          "name": "stdout",
          "output_type": "stream",
          "text": [
            "2023-04-21 16:27:39,322 ----------------------------------------------------------------------------------------------------\n",
            "2023-04-21 16:27:46,011 epoch 8 - iter 6/64 - loss 0.29162501 - time (sec): 6.69 - samples/sec: 1193.48 - lr: 0.000005\n",
            "2023-04-21 16:27:52,880 epoch 8 - iter 12/64 - loss 0.32055089 - time (sec): 13.56 - samples/sec: 1373.42 - lr: 0.000005\n",
            "2023-04-21 16:27:59,526 epoch 8 - iter 18/64 - loss 0.31171585 - time (sec): 20.20 - samples/sec: 1336.11 - lr: 0.000005\n",
            "2023-04-21 16:28:06,162 epoch 8 - iter 24/64 - loss 0.30308458 - time (sec): 26.84 - samples/sec: 1307.22 - lr: 0.000005\n",
            "2023-04-21 16:28:12,869 epoch 8 - iter 30/64 - loss 0.29787322 - time (sec): 33.55 - samples/sec: 1290.56 - lr: 0.000005\n",
            "2023-04-21 16:28:19,559 epoch 8 - iter 36/64 - loss 0.29217527 - time (sec): 40.24 - samples/sec: 1305.65 - lr: 0.000005\n",
            "2023-04-21 16:28:26,313 epoch 8 - iter 42/64 - loss 0.29152016 - time (sec): 46.99 - samples/sec: 1320.68 - lr: 0.000005\n",
            "2023-04-21 16:28:32,989 epoch 8 - iter 48/64 - loss 0.28845231 - time (sec): 53.67 - samples/sec: 1313.53 - lr: 0.000005\n",
            "2023-04-21 16:28:39,713 epoch 8 - iter 54/64 - loss 0.28445554 - time (sec): 60.39 - samples/sec: 1317.33 - lr: 0.000005\n",
            "2023-04-21 16:28:46,413 epoch 8 - iter 60/64 - loss 0.27860871 - time (sec): 67.09 - samples/sec: 1342.44 - lr: 0.000005\n",
            "2023-04-21 16:28:50,068 ----------------------------------------------------------------------------------------------------\n",
            "2023-04-21 16:28:50,069 EPOCH 8 done: loss 0.2767 - lr 0.000005\n"
          ]
        },
        {
          "name": "stderr",
          "output_type": "stream",
          "text": [
            "100%|██████████| 64/64 [00:24<00:00,  2.60it/s]\n"
          ]
        },
        {
          "name": "stdout",
          "output_type": "stream",
          "text": [
            "2023-04-21 16:29:14,871 Evaluating as a multi-label problem: True\n",
            "2023-04-21 16:29:17,928 TRAIN : loss 0.22873802483081818 - f1-score (weighted avg)  0.756\n"
          ]
        },
        {
          "name": "stderr",
          "output_type": "stream",
          "text": [
            "100%|██████████| 8/8 [00:03<00:00,  2.49it/s]"
          ]
        },
        {
          "name": "stdout",
          "output_type": "stream",
          "text": [
            "2023-04-21 16:29:21,302 Evaluating as a multi-label problem: False\n",
            "2023-04-21 16:29:21,369 DEV : loss 0.2969987094402313 - f1-score (weighted avg)  0.6678\n",
            "2023-04-21 16:29:21,390 BAD EPOCHS (no improvement): 0\n",
            "2023-04-21 16:29:21,394 saving best model\n"
          ]
        },
        {
          "name": "stderr",
          "output_type": "stream",
          "text": [
            "\n"
          ]
        },
        {
          "name": "stdout",
          "output_type": "stream",
          "text": [
            "2023-04-21 16:29:31,045 ----------------------------------------------------------------------------------------------------\n",
            "2023-04-21 16:29:37,781 epoch 9 - iter 6/64 - loss 0.24322404 - time (sec): 6.73 - samples/sec: 1257.05 - lr: 0.000005\n",
            "2023-04-21 16:29:44,493 epoch 9 - iter 12/64 - loss 0.23312013 - time (sec): 13.45 - samples/sec: 1362.13 - lr: 0.000005\n",
            "2023-04-21 16:29:51,272 epoch 9 - iter 18/64 - loss 0.25477403 - time (sec): 20.22 - samples/sec: 1398.14 - lr: 0.000005\n",
            "2023-04-21 16:29:57,917 epoch 9 - iter 24/64 - loss 0.24904185 - time (sec): 26.87 - samples/sec: 1361.93 - lr: 0.000005\n",
            "2023-04-21 16:30:04,591 epoch 9 - iter 30/64 - loss 0.24308796 - time (sec): 33.54 - samples/sec: 1340.05 - lr: 0.000005\n",
            "2023-04-21 16:30:11,241 epoch 9 - iter 36/64 - loss 0.24021142 - time (sec): 40.19 - samples/sec: 1297.92 - lr: 0.000005\n",
            "2023-04-21 16:30:17,907 epoch 9 - iter 42/64 - loss 0.24018979 - time (sec): 46.86 - samples/sec: 1298.02 - lr: 0.000005\n",
            "2023-04-21 16:30:24,603 epoch 9 - iter 48/64 - loss 0.23485975 - time (sec): 53.55 - samples/sec: 1313.13 - lr: 0.000005\n",
            "2023-04-21 16:30:31,463 epoch 9 - iter 54/64 - loss 0.24209100 - time (sec): 60.42 - samples/sec: 1321.17 - lr: 0.000005\n",
            "2023-04-21 16:30:38,180 epoch 9 - iter 60/64 - loss 0.23713346 - time (sec): 67.13 - samples/sec: 1344.33 - lr: 0.000005\n",
            "2023-04-21 16:30:41,793 ----------------------------------------------------------------------------------------------------\n",
            "2023-04-21 16:30:41,795 EPOCH 9 done: loss 0.2384 - lr 0.000005\n"
          ]
        },
        {
          "name": "stderr",
          "output_type": "stream",
          "text": [
            "100%|██████████| 64/64 [00:24<00:00,  2.59it/s]\n"
          ]
        },
        {
          "name": "stdout",
          "output_type": "stream",
          "text": [
            "2023-04-21 16:31:06,607 Evaluating as a multi-label problem: True\n",
            "2023-04-21 16:31:09,719 TRAIN : loss 0.2051694542169571 - f1-score (weighted avg)  0.765\n"
          ]
        },
        {
          "name": "stderr",
          "output_type": "stream",
          "text": [
            "100%|██████████| 8/8 [00:03<00:00,  2.51it/s]"
          ]
        },
        {
          "name": "stdout",
          "output_type": "stream",
          "text": [
            "2023-04-21 16:31:13,060 Evaluating as a multi-label problem: False\n",
            "2023-04-21 16:31:13,130 DEV : loss 0.28591614961624146 - f1-score (weighted avg)  0.6742\n",
            "2023-04-21 16:31:13,150 BAD EPOCHS (no improvement): 0\n",
            "2023-04-21 16:31:13,154 saving best model\n"
          ]
        },
        {
          "name": "stderr",
          "output_type": "stream",
          "text": [
            "\n"
          ]
        },
        {
          "name": "stdout",
          "output_type": "stream",
          "text": [
            "2023-04-21 16:31:23,449 ----------------------------------------------------------------------------------------------------\n",
            "2023-04-21 16:31:30,334 epoch 10 - iter 6/64 - loss 0.31132309 - time (sec): 6.88 - samples/sec: 1376.19 - lr: 0.000005\n",
            "2023-04-21 16:31:37,088 epoch 10 - iter 12/64 - loss 0.25054165 - time (sec): 13.64 - samples/sec: 1363.49 - lr: 0.000005\n",
            "2023-04-21 16:31:43,777 epoch 10 - iter 18/64 - loss 0.23944902 - time (sec): 20.32 - samples/sec: 1330.40 - lr: 0.000005\n",
            "2023-04-21 16:31:50,450 epoch 10 - iter 24/64 - loss 0.23209270 - time (sec): 27.00 - samples/sec: 1343.02 - lr: 0.000005\n",
            "2023-04-21 16:31:57,141 epoch 10 - iter 30/64 - loss 0.22605316 - time (sec): 33.69 - samples/sec: 1324.54 - lr: 0.000005\n",
            "2023-04-21 16:32:03,815 epoch 10 - iter 36/64 - loss 0.22325121 - time (sec): 40.36 - samples/sec: 1327.38 - lr: 0.000005\n",
            "2023-04-21 16:32:10,527 epoch 10 - iter 42/64 - loss 0.22040914 - time (sec): 47.08 - samples/sec: 1353.81 - lr: 0.000005\n",
            "2023-04-21 16:32:17,275 epoch 10 - iter 48/64 - loss 0.22062728 - time (sec): 53.82 - samples/sec: 1334.38 - lr: 0.000005\n",
            "2023-04-21 16:32:24,036 epoch 10 - iter 54/64 - loss 0.22126517 - time (sec): 60.58 - samples/sec: 1326.16 - lr: 0.000005\n",
            "2023-04-21 16:32:30,691 epoch 10 - iter 60/64 - loss 0.21645940 - time (sec): 67.24 - samples/sec: 1341.91 - lr: 0.000005\n",
            "2023-04-21 16:32:34,284 ----------------------------------------------------------------------------------------------------\n",
            "2023-04-21 16:32:34,286 EPOCH 10 done: loss 0.2152 - lr 0.000005\n"
          ]
        },
        {
          "name": "stderr",
          "output_type": "stream",
          "text": [
            "100%|██████████| 64/64 [00:24<00:00,  2.60it/s]\n"
          ]
        },
        {
          "name": "stdout",
          "output_type": "stream",
          "text": [
            "2023-04-21 16:32:59,071 Evaluating as a multi-label problem: True\n",
            "2023-04-21 16:33:00,948 TRAIN : loss 0.18524512648582458 - f1-score (weighted avg)  0.7765\n"
          ]
        },
        {
          "name": "stderr",
          "output_type": "stream",
          "text": [
            "100%|██████████| 8/8 [00:04<00:00,  1.91it/s]"
          ]
        },
        {
          "name": "stdout",
          "output_type": "stream",
          "text": [
            "2023-04-21 16:33:05,278 Evaluating as a multi-label problem: False\n",
            "2023-04-21 16:33:05,345 DEV : loss 0.27624422311782837 - f1-score (weighted avg)  0.6709\n",
            "2023-04-21 16:33:05,365 BAD EPOCHS (no improvement): 0\n",
            "2023-04-21 16:33:05,369 saving best model\n"
          ]
        },
        {
          "name": "stderr",
          "output_type": "stream",
          "text": [
            "\n"
          ]
        },
        {
          "name": "stdout",
          "output_type": "stream",
          "text": [
            "2023-04-21 16:33:15,044 ----------------------------------------------------------------------------------------------------\n",
            "2023-04-21 16:33:21,738 epoch 11 - iter 6/64 - loss 0.17849619 - time (sec): 6.69 - samples/sec: 1322.65 - lr: 0.000005\n",
            "2023-04-21 16:33:28,564 epoch 11 - iter 12/64 - loss 0.23104621 - time (sec): 13.51 - samples/sec: 1313.35 - lr: 0.000005\n",
            "2023-04-21 16:33:35,202 epoch 11 - iter 18/64 - loss 0.22965714 - time (sec): 20.15 - samples/sec: 1301.48 - lr: 0.000005\n",
            "2023-04-21 16:33:41,895 epoch 11 - iter 24/64 - loss 0.21642853 - time (sec): 26.84 - samples/sec: 1299.65 - lr: 0.000005\n",
            "2023-04-21 16:33:48,614 epoch 11 - iter 30/64 - loss 0.20578544 - time (sec): 33.56 - samples/sec: 1328.39 - lr: 0.000005\n",
            "2023-04-21 16:33:55,283 epoch 11 - iter 36/64 - loss 0.20666714 - time (sec): 40.23 - samples/sec: 1326.70 - lr: 0.000005\n",
            "2023-04-21 16:34:01,976 epoch 11 - iter 42/64 - loss 0.20537109 - time (sec): 46.92 - samples/sec: 1321.76 - lr: 0.000005\n",
            "2023-04-21 16:34:08,679 epoch 11 - iter 48/64 - loss 0.20318032 - time (sec): 53.63 - samples/sec: 1315.79 - lr: 0.000005\n",
            "2023-04-21 16:34:15,381 epoch 11 - iter 54/64 - loss 0.19690015 - time (sec): 60.33 - samples/sec: 1329.71 - lr: 0.000005\n",
            "2023-04-21 16:34:22,033 epoch 11 - iter 60/64 - loss 0.19662867 - time (sec): 66.98 - samples/sec: 1328.13 - lr: 0.000005\n",
            "2023-04-21 16:34:25,756 ----------------------------------------------------------------------------------------------------\n",
            "2023-04-21 16:34:25,758 EPOCH 11 done: loss 0.1984 - lr 0.000005\n"
          ]
        },
        {
          "name": "stderr",
          "output_type": "stream",
          "text": [
            "100%|██████████| 64/64 [00:24<00:00,  2.59it/s]\n"
          ]
        },
        {
          "name": "stdout",
          "output_type": "stream",
          "text": [
            "2023-04-21 16:34:50,584 Evaluating as a multi-label problem: True\n",
            "2023-04-21 16:34:53,655 TRAIN : loss 0.17494212090969086 - f1-score (weighted avg)  0.7798\n"
          ]
        },
        {
          "name": "stderr",
          "output_type": "stream",
          "text": [
            "100%|██████████| 8/8 [00:03<00:00,  2.49it/s]"
          ]
        },
        {
          "name": "stdout",
          "output_type": "stream",
          "text": [
            "2023-04-21 16:34:57,014 Evaluating as a multi-label problem: False\n",
            "2023-04-21 16:34:57,081 DEV : loss 0.28348758816719055 - f1-score (weighted avg)  0.6675\n",
            "2023-04-21 16:34:57,101 BAD EPOCHS (no improvement): 1\n",
            "2023-04-21 16:34:57,105 ----------------------------------------------------------------------------------------------------\n"
          ]
        },
        {
          "name": "stderr",
          "output_type": "stream",
          "text": [
            "\n"
          ]
        },
        {
          "name": "stdout",
          "output_type": "stream",
          "text": [
            "2023-04-21 16:35:03,739 epoch 12 - iter 6/64 - loss 0.16655283 - time (sec): 6.63 - samples/sec: 1290.91 - lr: 0.000005\n",
            "2023-04-21 16:35:10,385 epoch 12 - iter 12/64 - loss 0.15889231 - time (sec): 13.28 - samples/sec: 1299.35 - lr: 0.000005\n",
            "2023-04-21 16:35:17,028 epoch 12 - iter 18/64 - loss 0.16102441 - time (sec): 19.92 - samples/sec: 1268.32 - lr: 0.000005\n",
            "2023-04-21 16:35:23,683 epoch 12 - iter 24/64 - loss 0.16609287 - time (sec): 26.58 - samples/sec: 1298.72 - lr: 0.000005\n",
            "2023-04-21 16:35:30,464 epoch 12 - iter 30/64 - loss 0.18800130 - time (sec): 33.36 - samples/sec: 1291.87 - lr: 0.000005\n",
            "2023-04-21 16:35:37,130 epoch 12 - iter 36/64 - loss 0.18744623 - time (sec): 40.02 - samples/sec: 1315.19 - lr: 0.000005\n",
            "2023-04-21 16:35:43,838 epoch 12 - iter 42/64 - loss 0.18313862 - time (sec): 46.73 - samples/sec: 1340.79 - lr: 0.000005\n",
            "2023-04-21 16:35:50,553 epoch 12 - iter 48/64 - loss 0.18016474 - time (sec): 53.45 - samples/sec: 1349.10 - lr: 0.000005\n",
            "2023-04-21 16:35:57,325 epoch 12 - iter 54/64 - loss 0.18433405 - time (sec): 60.22 - samples/sec: 1349.78 - lr: 0.000005\n",
            "2023-04-21 16:36:04,021 epoch 12 - iter 60/64 - loss 0.18514715 - time (sec): 66.91 - samples/sec: 1346.31 - lr: 0.000005\n",
            "2023-04-21 16:36:07,615 ----------------------------------------------------------------------------------------------------\n",
            "2023-04-21 16:36:07,617 EPOCH 12 done: loss 0.1829 - lr 0.000005\n"
          ]
        },
        {
          "name": "stderr",
          "output_type": "stream",
          "text": [
            "100%|██████████| 64/64 [00:24<00:00,  2.61it/s]\n"
          ]
        },
        {
          "name": "stdout",
          "output_type": "stream",
          "text": [
            "2023-04-21 16:36:32,295 Evaluating as a multi-label problem: True\n",
            "2023-04-21 16:36:35,274 TRAIN : loss 0.1551417112350464 - f1-score (weighted avg)  0.7958\n"
          ]
        },
        {
          "name": "stderr",
          "output_type": "stream",
          "text": [
            "100%|██████████| 8/8 [00:03<00:00,  2.52it/s]"
          ]
        },
        {
          "name": "stdout",
          "output_type": "stream",
          "text": [
            "2023-04-21 16:36:38,607 Evaluating as a multi-label problem: False\n",
            "2023-04-21 16:36:38,677 DEV : loss 0.28231310844421387 - f1-score (weighted avg)  0.6707\n",
            "2023-04-21 16:36:38,697 Epoch    12: reducing learning rate of group 0 to 2.5000e-06.\n",
            "2023-04-21 16:36:38,700 BAD EPOCHS (no improvement): 2\n",
            "2023-04-21 16:36:38,703 ----------------------------------------------------------------------------------------------------\n"
          ]
        },
        {
          "name": "stderr",
          "output_type": "stream",
          "text": [
            "\n"
          ]
        },
        {
          "name": "stdout",
          "output_type": "stream",
          "text": [
            "2023-04-21 16:36:45,327 epoch 13 - iter 6/64 - loss 0.15371794 - time (sec): 6.62 - samples/sec: 1266.23 - lr: 0.000003\n",
            "2023-04-21 16:36:52,001 epoch 13 - iter 12/64 - loss 0.14452136 - time (sec): 13.30 - samples/sec: 1257.68 - lr: 0.000003\n",
            "2023-04-21 16:36:58,884 epoch 13 - iter 18/64 - loss 0.18813026 - time (sec): 20.18 - samples/sec: 1335.21 - lr: 0.000003\n",
            "2023-04-21 16:37:05,625 epoch 13 - iter 24/64 - loss 0.18360342 - time (sec): 26.92 - samples/sec: 1334.92 - lr: 0.000003\n",
            "2023-04-21 16:37:12,309 epoch 13 - iter 30/64 - loss 0.17950281 - time (sec): 33.60 - samples/sec: 1349.18 - lr: 0.000003\n",
            "2023-04-21 16:37:18,986 epoch 13 - iter 36/64 - loss 0.17699626 - time (sec): 40.28 - samples/sec: 1343.40 - lr: 0.000003\n",
            "2023-04-21 16:37:25,626 epoch 13 - iter 42/64 - loss 0.17226640 - time (sec): 46.92 - samples/sec: 1312.36 - lr: 0.000003\n",
            "2023-04-21 16:37:32,331 epoch 13 - iter 48/64 - loss 0.16847660 - time (sec): 53.63 - samples/sec: 1338.68 - lr: 0.000003\n",
            "2023-04-21 16:37:38,984 epoch 13 - iter 54/64 - loss 0.16729904 - time (sec): 60.28 - samples/sec: 1339.01 - lr: 0.000003\n",
            "2023-04-21 16:37:45,632 epoch 13 - iter 60/64 - loss 0.16722436 - time (sec): 66.93 - samples/sec: 1345.98 - lr: 0.000003\n",
            "2023-04-21 16:37:49,219 ----------------------------------------------------------------------------------------------------\n",
            "2023-04-21 16:37:49,220 EPOCH 13 done: loss 0.1683 - lr 0.000003\n"
          ]
        },
        {
          "name": "stderr",
          "output_type": "stream",
          "text": [
            "100%|██████████| 64/64 [00:24<00:00,  2.61it/s]\n"
          ]
        },
        {
          "name": "stdout",
          "output_type": "stream",
          "text": [
            "2023-04-21 16:38:13,913 Evaluating as a multi-label problem: True\n",
            "2023-04-21 16:38:15,771 TRAIN : loss 0.14666293561458588 - f1-score (weighted avg)  0.8002\n"
          ]
        },
        {
          "name": "stderr",
          "output_type": "stream",
          "text": [
            "100%|██████████| 8/8 [00:04<00:00,  1.92it/s]"
          ]
        },
        {
          "name": "stdout",
          "output_type": "stream",
          "text": [
            "2023-04-21 16:38:20,098 Evaluating as a multi-label problem: False\n",
            "2023-04-21 16:38:20,169 DEV : loss 0.2791156768798828 - f1-score (weighted avg)  0.6701\n",
            "2023-04-21 16:38:20,189 BAD EPOCHS (no improvement): 1\n",
            "2023-04-21 16:38:20,194 ----------------------------------------------------------------------------------------------------\n"
          ]
        },
        {
          "name": "stderr",
          "output_type": "stream",
          "text": [
            "\n"
          ]
        },
        {
          "name": "stdout",
          "output_type": "stream",
          "text": [
            "2023-04-21 16:38:26,857 epoch 14 - iter 6/64 - loss 0.16854351 - time (sec): 6.66 - samples/sec: 1295.74 - lr: 0.000003\n",
            "2023-04-21 16:38:33,544 epoch 14 - iter 12/64 - loss 0.16038858 - time (sec): 13.35 - samples/sec: 1395.50 - lr: 0.000003\n",
            "2023-04-21 16:38:40,235 epoch 14 - iter 18/64 - loss 0.15516017 - time (sec): 20.04 - samples/sec: 1375.03 - lr: 0.000003\n",
            "2023-04-21 16:38:46,884 epoch 14 - iter 24/64 - loss 0.14675110 - time (sec): 26.69 - samples/sec: 1363.91 - lr: 0.000003\n",
            "2023-04-21 16:38:53,564 epoch 14 - iter 30/64 - loss 0.15281822 - time (sec): 33.37 - samples/sec: 1340.09 - lr: 0.000003\n",
            "2023-04-21 16:39:00,203 epoch 14 - iter 36/64 - loss 0.15268251 - time (sec): 40.01 - samples/sec: 1319.87 - lr: 0.000003\n",
            "2023-04-21 16:39:06,892 epoch 14 - iter 42/64 - loss 0.14860270 - time (sec): 46.70 - samples/sec: 1342.55 - lr: 0.000003\n",
            "2023-04-21 16:39:13,537 epoch 14 - iter 48/64 - loss 0.14802584 - time (sec): 53.34 - samples/sec: 1327.67 - lr: 0.000003\n",
            "2023-04-21 16:39:20,327 epoch 14 - iter 54/64 - loss 0.15143965 - time (sec): 60.13 - samples/sec: 1345.57 - lr: 0.000003\n",
            "2023-04-21 16:39:27,153 epoch 14 - iter 60/64 - loss 0.16233669 - time (sec): 66.96 - samples/sec: 1341.43 - lr: 0.000003\n",
            "2023-04-21 16:39:30,777 ----------------------------------------------------------------------------------------------------\n",
            "2023-04-21 16:39:30,779 EPOCH 14 done: loss 0.1610 - lr 0.000003\n"
          ]
        },
        {
          "name": "stderr",
          "output_type": "stream",
          "text": [
            "100%|██████████| 64/64 [00:24<00:00,  2.60it/s]\n"
          ]
        },
        {
          "name": "stdout",
          "output_type": "stream",
          "text": [
            "2023-04-21 16:39:55,492 Evaluating as a multi-label problem: True\n",
            "2023-04-21 16:39:58,487 TRAIN : loss 0.13808199763298035 - f1-score (weighted avg)  0.8144\n"
          ]
        },
        {
          "name": "stderr",
          "output_type": "stream",
          "text": [
            "100%|██████████| 8/8 [00:03<00:00,  2.50it/s]"
          ]
        },
        {
          "name": "stdout",
          "output_type": "stream",
          "text": [
            "2023-04-21 16:40:01,838 Evaluating as a multi-label problem: False\n",
            "2023-04-21 16:40:01,906 DEV : loss 0.27454912662506104 - f1-score (weighted avg)  0.6813\n",
            "2023-04-21 16:40:01,925 BAD EPOCHS (no improvement): 0\n",
            "2023-04-21 16:40:01,929 saving best model\n"
          ]
        },
        {
          "name": "stderr",
          "output_type": "stream",
          "text": [
            "\n"
          ]
        },
        {
          "name": "stdout",
          "output_type": "stream",
          "text": [
            "2023-04-21 16:40:11,708 ----------------------------------------------------------------------------------------------------\n",
            "2023-04-21 16:40:18,600 epoch 15 - iter 6/64 - loss 0.25809613 - time (sec): 6.89 - samples/sec: 1373.33 - lr: 0.000003\n",
            "2023-04-21 16:40:25,359 epoch 15 - iter 12/64 - loss 0.21511999 - time (sec): 13.64 - samples/sec: 1386.18 - lr: 0.000003\n",
            "2023-04-21 16:40:32,029 epoch 15 - iter 18/64 - loss 0.18196942 - time (sec): 20.31 - samples/sec: 1404.38 - lr: 0.000003\n",
            "2023-04-21 16:40:38,714 epoch 15 - iter 24/64 - loss 0.17168870 - time (sec): 27.00 - samples/sec: 1397.56 - lr: 0.000003\n",
            "2023-04-21 16:40:45,410 epoch 15 - iter 30/64 - loss 0.16378225 - time (sec): 33.70 - samples/sec: 1385.48 - lr: 0.000003\n",
            "2023-04-21 16:40:52,051 epoch 15 - iter 36/64 - loss 0.16311372 - time (sec): 40.34 - samples/sec: 1349.40 - lr: 0.000003\n",
            "2023-04-21 16:40:58,773 epoch 15 - iter 42/64 - loss 0.16049274 - time (sec): 47.06 - samples/sec: 1379.47 - lr: 0.000003\n",
            "2023-04-21 16:41:05,431 epoch 15 - iter 48/64 - loss 0.15717043 - time (sec): 53.72 - samples/sec: 1341.17 - lr: 0.000003\n",
            "2023-04-21 16:41:12,103 epoch 15 - iter 54/64 - loss 0.15345820 - time (sec): 60.39 - samples/sec: 1357.19 - lr: 0.000003\n",
            "2023-04-21 16:41:18,788 epoch 15 - iter 60/64 - loss 0.15438378 - time (sec): 67.07 - samples/sec: 1351.15 - lr: 0.000003\n",
            "2023-04-21 16:41:22,394 ----------------------------------------------------------------------------------------------------\n",
            "2023-04-21 16:41:22,396 EPOCH 15 done: loss 0.1520 - lr 0.000003\n"
          ]
        },
        {
          "name": "stderr",
          "output_type": "stream",
          "text": [
            "100%|██████████| 64/64 [00:24<00:00,  2.60it/s]\n"
          ]
        },
        {
          "name": "stdout",
          "output_type": "stream",
          "text": [
            "2023-04-21 16:41:47,189 Evaluating as a multi-label problem: True\n",
            "2023-04-21 16:41:50,245 TRAIN : loss 0.13684611022472382 - f1-score (weighted avg)  0.821\n"
          ]
        },
        {
          "name": "stderr",
          "output_type": "stream",
          "text": [
            "100%|██████████| 8/8 [00:03<00:00,  2.48it/s]"
          ]
        },
        {
          "name": "stdout",
          "output_type": "stream",
          "text": [
            "2023-04-21 16:41:53,618 Evaluating as a multi-label problem: False\n",
            "2023-04-21 16:41:53,690 DEV : loss 0.2791268229484558 - f1-score (weighted avg)  0.6844\n",
            "2023-04-21 16:41:53,710 BAD EPOCHS (no improvement): 1\n",
            "2023-04-21 16:41:53,715 ----------------------------------------------------------------------------------------------------\n"
          ]
        },
        {
          "name": "stderr",
          "output_type": "stream",
          "text": [
            "\n"
          ]
        },
        {
          "name": "stdout",
          "output_type": "stream",
          "text": [
            "2023-04-21 16:42:00,424 epoch 16 - iter 6/64 - loss 0.13485861 - time (sec): 6.71 - samples/sec: 1357.05 - lr: 0.000003\n",
            "2023-04-21 16:42:07,079 epoch 16 - iter 12/64 - loss 0.13241487 - time (sec): 13.36 - samples/sec: 1317.05 - lr: 0.000003\n",
            "2023-04-21 16:42:13,930 epoch 16 - iter 18/64 - loss 0.16133217 - time (sec): 20.21 - samples/sec: 1367.37 - lr: 0.000003\n",
            "2023-04-21 16:42:20,608 epoch 16 - iter 24/64 - loss 0.15338556 - time (sec): 26.89 - samples/sec: 1390.25 - lr: 0.000003\n",
            "2023-04-21 16:42:27,269 epoch 16 - iter 30/64 - loss 0.14789256 - time (sec): 33.55 - samples/sec: 1405.89 - lr: 0.000003\n",
            "2023-04-21 16:42:33,995 epoch 16 - iter 36/64 - loss 0.14357286 - time (sec): 40.28 - samples/sec: 1396.24 - lr: 0.000003\n",
            "2023-04-21 16:42:40,662 epoch 16 - iter 42/64 - loss 0.14275077 - time (sec): 46.95 - samples/sec: 1380.99 - lr: 0.000003\n",
            "2023-04-21 16:42:47,322 epoch 16 - iter 48/64 - loss 0.14472441 - time (sec): 53.61 - samples/sec: 1370.06 - lr: 0.000003\n",
            "2023-04-21 16:42:54,039 epoch 16 - iter 54/64 - loss 0.14578106 - time (sec): 60.32 - samples/sec: 1354.57 - lr: 0.000003\n",
            "2023-04-21 16:43:00,715 epoch 16 - iter 60/64 - loss 0.14804688 - time (sec): 67.00 - samples/sec: 1342.83 - lr: 0.000003\n",
            "2023-04-21 16:43:04,308 ----------------------------------------------------------------------------------------------------\n",
            "2023-04-21 16:43:04,310 EPOCH 16 done: loss 0.1484 - lr 0.000003\n"
          ]
        },
        {
          "name": "stderr",
          "output_type": "stream",
          "text": [
            "100%|██████████| 64/64 [00:24<00:00,  2.60it/s]\n"
          ]
        },
        {
          "name": "stdout",
          "output_type": "stream",
          "text": [
            "2023-04-21 16:43:29,067 Evaluating as a multi-label problem: True\n",
            "2023-04-21 16:43:32,119 TRAIN : loss 0.1278633177280426 - f1-score (weighted avg)  0.8347\n"
          ]
        },
        {
          "name": "stderr",
          "output_type": "stream",
          "text": [
            "100%|██████████| 8/8 [00:03<00:00,  2.50it/s]"
          ]
        },
        {
          "name": "stdout",
          "output_type": "stream",
          "text": [
            "2023-04-21 16:43:35,464 Evaluating as a multi-label problem: False\n",
            "2023-04-21 16:43:35,532 DEV : loss 0.27127304673194885 - f1-score (weighted avg)  0.6884\n",
            "2023-04-21 16:43:35,552 BAD EPOCHS (no improvement): 0\n",
            "2023-04-21 16:43:35,557 saving best model\n"
          ]
        },
        {
          "name": "stderr",
          "output_type": "stream",
          "text": [
            "\n"
          ]
        },
        {
          "name": "stdout",
          "output_type": "stream",
          "text": [
            "2023-04-21 16:43:45,037 ----------------------------------------------------------------------------------------------------\n",
            "2023-04-21 16:43:51,974 epoch 17 - iter 6/64 - loss 0.23419236 - time (sec): 6.93 - samples/sec: 1338.50 - lr: 0.000003\n",
            "2023-04-21 16:43:58,624 epoch 17 - iter 12/64 - loss 0.18721365 - time (sec): 13.59 - samples/sec: 1368.05 - lr: 0.000003\n",
            "2023-04-21 16:44:05,307 epoch 17 - iter 18/64 - loss 0.16879814 - time (sec): 20.27 - samples/sec: 1339.28 - lr: 0.000003\n",
            "2023-04-21 16:44:11,942 epoch 17 - iter 24/64 - loss 0.15770108 - time (sec): 26.90 - samples/sec: 1333.04 - lr: 0.000003\n",
            "2023-04-21 16:44:18,601 epoch 17 - iter 30/64 - loss 0.15333381 - time (sec): 33.56 - samples/sec: 1337.03 - lr: 0.000003\n",
            "2023-04-21 16:44:25,218 epoch 17 - iter 36/64 - loss 0.14548694 - time (sec): 40.18 - samples/sec: 1304.58 - lr: 0.000003\n",
            "2023-04-21 16:44:32,010 epoch 17 - iter 42/64 - loss 0.14757517 - time (sec): 46.97 - samples/sec: 1348.04 - lr: 0.000003\n",
            "2023-04-21 16:44:38,678 epoch 17 - iter 48/64 - loss 0.14456013 - time (sec): 53.64 - samples/sec: 1372.37 - lr: 0.000003\n",
            "2023-04-21 16:44:45,321 epoch 17 - iter 54/64 - loss 0.14268645 - time (sec): 60.28 - samples/sec: 1357.88 - lr: 0.000003\n",
            "2023-04-21 16:44:52,038 epoch 17 - iter 60/64 - loss 0.14249945 - time (sec): 67.00 - samples/sec: 1349.23 - lr: 0.000003\n",
            "2023-04-21 16:44:55,646 ----------------------------------------------------------------------------------------------------\n",
            "2023-04-21 16:44:55,647 EPOCH 17 done: loss 0.1425 - lr 0.000003\n"
          ]
        },
        {
          "name": "stderr",
          "output_type": "stream",
          "text": [
            "100%|██████████| 64/64 [00:24<00:00,  2.59it/s]\n"
          ]
        },
        {
          "name": "stdout",
          "output_type": "stream",
          "text": [
            "2023-04-21 16:45:20,531 Evaluating as a multi-label problem: True\n",
            "2023-04-21 16:45:23,661 TRAIN : loss 0.12029071152210236 - f1-score (weighted avg)  0.8477\n"
          ]
        },
        {
          "name": "stderr",
          "output_type": "stream",
          "text": [
            "100%|██████████| 8/8 [00:03<00:00,  2.48it/s]"
          ]
        },
        {
          "name": "stdout",
          "output_type": "stream",
          "text": [
            "2023-04-21 16:45:27,039 Evaluating as a multi-label problem: False\n",
            "2023-04-21 16:45:27,108 DEV : loss 0.2804987132549286 - f1-score (weighted avg)  0.7005\n",
            "2023-04-21 16:45:27,128 BAD EPOCHS (no improvement): 1\n",
            "2023-04-21 16:45:27,132 ----------------------------------------------------------------------------------------------------\n"
          ]
        },
        {
          "name": "stderr",
          "output_type": "stream",
          "text": [
            "\n"
          ]
        },
        {
          "name": "stdout",
          "output_type": "stream",
          "text": [
            "2023-04-21 16:45:33,787 epoch 18 - iter 6/64 - loss 0.13566914 - time (sec): 6.65 - samples/sec: 1293.10 - lr: 0.000003\n",
            "2023-04-21 16:45:40,455 epoch 18 - iter 12/64 - loss 0.12636799 - time (sec): 13.32 - samples/sec: 1381.24 - lr: 0.000003\n",
            "2023-04-21 16:45:47,091 epoch 18 - iter 18/64 - loss 0.12493610 - time (sec): 19.96 - samples/sec: 1324.73 - lr: 0.000003\n",
            "2023-04-21 16:45:53,779 epoch 18 - iter 24/64 - loss 0.13271208 - time (sec): 26.65 - samples/sec: 1303.65 - lr: 0.000003\n",
            "2023-04-21 16:46:00,453 epoch 18 - iter 30/64 - loss 0.12726090 - time (sec): 33.32 - samples/sec: 1302.73 - lr: 0.000003\n",
            "2023-04-21 16:46:07,165 epoch 18 - iter 36/64 - loss 0.12746612 - time (sec): 40.03 - samples/sec: 1340.50 - lr: 0.000003\n",
            "2023-04-21 16:46:13,886 epoch 18 - iter 42/64 - loss 0.12673775 - time (sec): 46.75 - samples/sec: 1364.02 - lr: 0.000003\n",
            "2023-04-21 16:46:20,635 epoch 18 - iter 48/64 - loss 0.12896263 - time (sec): 53.50 - samples/sec: 1376.48 - lr: 0.000003\n",
            "2023-04-21 16:46:27,329 epoch 18 - iter 54/64 - loss 0.12811535 - time (sec): 60.20 - samples/sec: 1368.92 - lr: 0.000003\n",
            "2023-04-21 16:46:33,951 epoch 18 - iter 60/64 - loss 0.12671403 - time (sec): 66.82 - samples/sec: 1341.89 - lr: 0.000003\n",
            "2023-04-21 16:46:37,698 ----------------------------------------------------------------------------------------------------\n",
            "2023-04-21 16:46:37,700 EPOCH 18 done: loss 0.1364 - lr 0.000003\n"
          ]
        },
        {
          "name": "stderr",
          "output_type": "stream",
          "text": [
            "100%|██████████| 64/64 [00:24<00:00,  2.60it/s]\n"
          ]
        },
        {
          "name": "stdout",
          "output_type": "stream",
          "text": [
            "2023-04-21 16:47:02,418 Evaluating as a multi-label problem: True\n",
            "2023-04-21 16:47:04,276 TRAIN : loss 0.11911486089229584 - f1-score (weighted avg)  0.8467\n"
          ]
        },
        {
          "name": "stderr",
          "output_type": "stream",
          "text": [
            "100%|██████████| 8/8 [00:03<00:00,  2.50it/s]"
          ]
        },
        {
          "name": "stdout",
          "output_type": "stream",
          "text": [
            "2023-04-21 16:47:07,628 Evaluating as a multi-label problem: False\n",
            "2023-04-21 16:47:07,697 DEV : loss 0.27640819549560547 - f1-score (weighted avg)  0.6961\n",
            "2023-04-21 16:47:07,718 Epoch    18: reducing learning rate of group 0 to 1.2500e-06.\n",
            "2023-04-21 16:47:07,720 BAD EPOCHS (no improvement): 2\n",
            "2023-04-21 16:47:07,724 ----------------------------------------------------------------------------------------------------\n"
          ]
        },
        {
          "name": "stderr",
          "output_type": "stream",
          "text": [
            "\n"
          ]
        },
        {
          "name": "stdout",
          "output_type": "stream",
          "text": [
            "2023-04-21 16:47:14,361 epoch 19 - iter 6/64 - loss 0.11779804 - time (sec): 6.64 - samples/sec: 1335.24 - lr: 0.000001\n",
            "2023-04-21 16:47:21,015 epoch 19 - iter 12/64 - loss 0.10503245 - time (sec): 13.29 - samples/sec: 1326.52 - lr: 0.000001\n",
            "2023-04-21 16:47:27,674 epoch 19 - iter 18/64 - loss 0.10003574 - time (sec): 19.95 - samples/sec: 1296.19 - lr: 0.000001\n",
            "2023-04-21 16:47:34,525 epoch 19 - iter 24/64 - loss 0.12889518 - time (sec): 26.80 - samples/sec: 1317.06 - lr: 0.000001\n",
            "2023-04-21 16:47:41,177 epoch 19 - iter 30/64 - loss 0.12781542 - time (sec): 33.45 - samples/sec: 1321.31 - lr: 0.000001\n",
            "2023-04-21 16:47:47,894 epoch 19 - iter 36/64 - loss 0.13358979 - time (sec): 40.17 - samples/sec: 1309.57 - lr: 0.000001\n",
            "2023-04-21 16:47:54,640 epoch 19 - iter 42/64 - loss 0.13323280 - time (sec): 46.91 - samples/sec: 1333.76 - lr: 0.000001\n",
            "2023-04-21 16:48:01,295 epoch 19 - iter 48/64 - loss 0.13421649 - time (sec): 53.57 - samples/sec: 1327.39 - lr: 0.000001\n",
            "2023-04-21 16:48:08,017 epoch 19 - iter 54/64 - loss 0.13024325 - time (sec): 60.29 - samples/sec: 1353.38 - lr: 0.000001\n",
            "2023-04-21 16:48:14,663 epoch 19 - iter 60/64 - loss 0.13256158 - time (sec): 66.94 - samples/sec: 1331.94 - lr: 0.000001\n",
            "2023-04-21 16:48:18,273 ----------------------------------------------------------------------------------------------------\n",
            "2023-04-21 16:48:18,275 EPOCH 19 done: loss 0.1311 - lr 0.000001\n"
          ]
        },
        {
          "name": "stderr",
          "output_type": "stream",
          "text": [
            "100%|██████████| 64/64 [00:25<00:00,  2.50it/s]\n"
          ]
        },
        {
          "name": "stdout",
          "output_type": "stream",
          "text": [
            "2023-04-21 16:48:43,967 Evaluating as a multi-label problem: True\n",
            "2023-04-21 16:48:46,989 TRAIN : loss 0.11433394998311996 - f1-score (weighted avg)  0.8531\n"
          ]
        },
        {
          "name": "stderr",
          "output_type": "stream",
          "text": [
            "100%|██████████| 8/8 [00:03<00:00,  2.50it/s]"
          ]
        },
        {
          "name": "stdout",
          "output_type": "stream",
          "text": [
            "2023-04-21 16:48:50,346 Evaluating as a multi-label problem: False\n",
            "2023-04-21 16:48:50,415 DEV : loss 0.2814003527164459 - f1-score (weighted avg)  0.7016\n",
            "2023-04-21 16:48:50,435 BAD EPOCHS (no improvement): 1\n",
            "2023-04-21 16:48:50,439 ----------------------------------------------------------------------------------------------------\n"
          ]
        },
        {
          "name": "stderr",
          "output_type": "stream",
          "text": [
            "\n"
          ]
        },
        {
          "name": "stdout",
          "output_type": "stream",
          "text": [
            "2023-04-21 16:48:57,241 epoch 20 - iter 6/64 - loss 0.19304028 - time (sec): 6.80 - samples/sec: 1315.78 - lr: 0.000001\n",
            "2023-04-21 16:49:03,966 epoch 20 - iter 12/64 - loss 0.14790577 - time (sec): 13.53 - samples/sec: 1417.74 - lr: 0.000001\n",
            "2023-04-21 16:49:10,730 epoch 20 - iter 18/64 - loss 0.14425667 - time (sec): 20.29 - samples/sec: 1381.56 - lr: 0.000001\n",
            "2023-04-21 16:49:17,393 epoch 20 - iter 24/64 - loss 0.14413156 - time (sec): 26.95 - samples/sec: 1383.06 - lr: 0.000001\n",
            "2023-04-21 16:49:24,071 epoch 20 - iter 30/64 - loss 0.13421705 - time (sec): 33.63 - samples/sec: 1364.97 - lr: 0.000001\n",
            "2023-04-21 16:49:30,759 epoch 20 - iter 36/64 - loss 0.13013312 - time (sec): 40.32 - samples/sec: 1390.72 - lr: 0.000001\n",
            "2023-04-21 16:49:37,423 epoch 20 - iter 42/64 - loss 0.12826924 - time (sec): 46.98 - samples/sec: 1397.29 - lr: 0.000001\n",
            "2023-04-21 16:49:44,065 epoch 20 - iter 48/64 - loss 0.12955727 - time (sec): 53.62 - samples/sec: 1365.50 - lr: 0.000001\n",
            "2023-04-21 16:49:50,687 epoch 20 - iter 54/64 - loss 0.12959541 - time (sec): 60.25 - samples/sec: 1345.40 - lr: 0.000001\n",
            "2023-04-21 16:49:57,399 epoch 20 - iter 60/64 - loss 0.12882086 - time (sec): 66.96 - samples/sec: 1349.45 - lr: 0.000001\n",
            "2023-04-21 16:50:00,988 ----------------------------------------------------------------------------------------------------\n",
            "2023-04-21 16:50:00,990 EPOCH 20 done: loss 0.1284 - lr 0.000001\n"
          ]
        },
        {
          "name": "stderr",
          "output_type": "stream",
          "text": [
            "100%|██████████| 64/64 [00:24<00:00,  2.60it/s]\n"
          ]
        },
        {
          "name": "stdout",
          "output_type": "stream",
          "text": [
            "2023-04-21 16:50:25,708 Evaluating as a multi-label problem: True\n",
            "2023-04-21 16:50:27,555 TRAIN : loss 0.11076810210943222 - f1-score (weighted avg)  0.8601\n"
          ]
        },
        {
          "name": "stderr",
          "output_type": "stream",
          "text": [
            "100%|██████████| 8/8 [00:04<00:00,  1.91it/s]"
          ]
        },
        {
          "name": "stdout",
          "output_type": "stream",
          "text": [
            "2023-04-21 16:50:31,888 Evaluating as a multi-label problem: False\n",
            "2023-04-21 16:50:31,956 DEV : loss 0.28186070919036865 - f1-score (weighted avg)  0.704\n",
            "2023-04-21 16:50:31,976 Epoch    20: reducing learning rate of group 0 to 6.2500e-07.\n",
            "2023-04-21 16:50:31,978 BAD EPOCHS (no improvement): 2\n",
            "2023-04-21 16:50:31,981 ----------------------------------------------------------------------------------------------------\n"
          ]
        },
        {
          "name": "stderr",
          "output_type": "stream",
          "text": [
            "\n"
          ]
        },
        {
          "name": "stdout",
          "output_type": "stream",
          "text": [
            "2023-04-21 16:50:38,634 epoch 21 - iter 6/64 - loss 0.11020954 - time (sec): 6.65 - samples/sec: 1266.38 - lr: 0.000001\n",
            "2023-04-21 16:50:45,320 epoch 21 - iter 12/64 - loss 0.10298137 - time (sec): 13.34 - samples/sec: 1392.14 - lr: 0.000001\n",
            "2023-04-21 16:50:52,028 epoch 21 - iter 18/64 - loss 0.10399261 - time (sec): 20.04 - samples/sec: 1425.51 - lr: 0.000001\n",
            "2023-04-21 16:50:58,794 epoch 21 - iter 24/64 - loss 0.11209736 - time (sec): 26.81 - samples/sec: 1448.53 - lr: 0.000001\n",
            "2023-04-21 16:51:05,456 epoch 21 - iter 30/64 - loss 0.11231287 - time (sec): 33.47 - samples/sec: 1414.38 - lr: 0.000001\n",
            "2023-04-21 16:51:12,091 epoch 21 - iter 36/64 - loss 0.11309457 - time (sec): 40.11 - samples/sec: 1374.07 - lr: 0.000001\n",
            "2023-04-21 16:51:18,727 epoch 21 - iter 42/64 - loss 0.11435523 - time (sec): 46.74 - samples/sec: 1365.71 - lr: 0.000001\n",
            "2023-04-21 16:51:25,449 epoch 21 - iter 48/64 - loss 0.11506922 - time (sec): 53.47 - samples/sec: 1357.25 - lr: 0.000001\n",
            "2023-04-21 16:51:32,261 epoch 21 - iter 54/64 - loss 0.12419136 - time (sec): 60.28 - samples/sec: 1367.27 - lr: 0.000001\n",
            "2023-04-21 16:51:38,886 epoch 21 - iter 60/64 - loss 0.12715951 - time (sec): 66.90 - samples/sec: 1355.43 - lr: 0.000001\n",
            "2023-04-21 16:51:42,492 ----------------------------------------------------------------------------------------------------\n",
            "2023-04-21 16:51:42,493 EPOCH 21 done: loss 0.1265 - lr 0.000001\n"
          ]
        },
        {
          "name": "stderr",
          "output_type": "stream",
          "text": [
            "100%|██████████| 64/64 [00:24<00:00,  2.61it/s]\n"
          ]
        },
        {
          "name": "stdout",
          "output_type": "stream",
          "text": [
            "2023-04-21 16:52:07,170 Evaluating as a multi-label problem: True\n",
            "2023-04-21 16:52:10,181 TRAIN : loss 0.11049961298704147 - f1-score (weighted avg)  0.8597\n"
          ]
        },
        {
          "name": "stderr",
          "output_type": "stream",
          "text": [
            "100%|██████████| 8/8 [00:03<00:00,  2.50it/s]"
          ]
        },
        {
          "name": "stdout",
          "output_type": "stream",
          "text": [
            "2023-04-21 16:52:13,534 Evaluating as a multi-label problem: False\n",
            "2023-04-21 16:52:13,603 DEV : loss 0.2817040979862213 - f1-score (weighted avg)  0.7029\n",
            "2023-04-21 16:52:13,623 BAD EPOCHS (no improvement): 1\n",
            "2023-04-21 16:52:13,627 ----------------------------------------------------------------------------------------------------\n"
          ]
        },
        {
          "name": "stderr",
          "output_type": "stream",
          "text": [
            "\n"
          ]
        },
        {
          "name": "stdout",
          "output_type": "stream",
          "text": [
            "2023-04-21 16:52:20,370 epoch 22 - iter 6/64 - loss 0.15216067 - time (sec): 6.74 - samples/sec: 1374.14 - lr: 0.000001\n",
            "2023-04-21 16:52:27,032 epoch 22 - iter 12/64 - loss 0.12989971 - time (sec): 13.40 - samples/sec: 1330.50 - lr: 0.000001\n",
            "2023-04-21 16:52:33,720 epoch 22 - iter 18/64 - loss 0.12107836 - time (sec): 20.09 - samples/sec: 1305.40 - lr: 0.000001\n",
            "2023-04-21 16:52:40,365 epoch 22 - iter 24/64 - loss 0.11740731 - time (sec): 26.74 - samples/sec: 1313.50 - lr: 0.000001\n",
            "2023-04-21 16:52:47,058 epoch 22 - iter 30/64 - loss 0.11468640 - time (sec): 33.43 - samples/sec: 1346.55 - lr: 0.000001\n",
            "2023-04-21 16:52:53,741 epoch 22 - iter 36/64 - loss 0.11457861 - time (sec): 40.11 - samples/sec: 1372.07 - lr: 0.000001\n",
            "2023-04-21 16:53:00,425 epoch 22 - iter 42/64 - loss 0.11245723 - time (sec): 46.80 - samples/sec: 1371.16 - lr: 0.000001\n",
            "2023-04-21 16:53:07,136 epoch 22 - iter 48/64 - loss 0.11300231 - time (sec): 53.51 - samples/sec: 1356.51 - lr: 0.000001\n",
            "2023-04-21 16:53:13,767 epoch 22 - iter 54/64 - loss 0.11438770 - time (sec): 60.14 - samples/sec: 1341.83 - lr: 0.000001\n",
            "2023-04-21 16:53:20,570 epoch 22 - iter 60/64 - loss 0.12569707 - time (sec): 66.94 - samples/sec: 1347.52 - lr: 0.000001\n",
            "2023-04-21 16:53:24,173 ----------------------------------------------------------------------------------------------------\n",
            "2023-04-21 16:53:24,175 EPOCH 22 done: loss 0.1252 - lr 0.000001\n"
          ]
        },
        {
          "name": "stderr",
          "output_type": "stream",
          "text": [
            "100%|██████████| 64/64 [00:24<00:00,  2.61it/s]\n"
          ]
        },
        {
          "name": "stdout",
          "output_type": "stream",
          "text": [
            "2023-04-21 16:53:48,879 Evaluating as a multi-label problem: True\n",
            "2023-04-21 16:53:51,903 TRAIN : loss 0.109440378844738 - f1-score (weighted avg)  0.8593\n"
          ]
        },
        {
          "name": "stderr",
          "output_type": "stream",
          "text": [
            "100%|██████████| 8/8 [00:03<00:00,  2.51it/s]"
          ]
        },
        {
          "name": "stdout",
          "output_type": "stream",
          "text": [
            "2023-04-21 16:53:55,248 Evaluating as a multi-label problem: False\n",
            "2023-04-21 16:53:55,315 DEV : loss 0.2849375903606415 - f1-score (weighted avg)  0.7011\n",
            "2023-04-21 16:53:55,334 Epoch    22: reducing learning rate of group 0 to 3.1250e-07.\n",
            "2023-04-21 16:53:55,336 BAD EPOCHS (no improvement): 2\n",
            "2023-04-21 16:53:55,340 ----------------------------------------------------------------------------------------------------\n"
          ]
        },
        {
          "name": "stderr",
          "output_type": "stream",
          "text": [
            "\n"
          ]
        },
        {
          "name": "stdout",
          "output_type": "stream",
          "text": [
            "2023-04-21 16:54:01,985 epoch 23 - iter 6/64 - loss 0.08704830 - time (sec): 6.64 - samples/sec: 1214.51 - lr: 0.000000\n",
            "2023-04-21 16:54:08,894 epoch 23 - iter 12/64 - loss 0.18030803 - time (sec): 13.55 - samples/sec: 1341.98 - lr: 0.000000\n",
            "2023-04-21 16:54:15,528 epoch 23 - iter 18/64 - loss 0.16566359 - time (sec): 20.19 - samples/sec: 1342.43 - lr: 0.000000\n",
            "2023-04-21 16:54:22,199 epoch 23 - iter 24/64 - loss 0.15122513 - time (sec): 26.86 - samples/sec: 1353.14 - lr: 0.000000\n",
            "2023-04-21 16:54:28,908 epoch 23 - iter 30/64 - loss 0.14515781 - time (sec): 33.57 - samples/sec: 1352.75 - lr: 0.000000\n",
            "2023-04-21 16:54:35,573 epoch 23 - iter 36/64 - loss 0.13967027 - time (sec): 40.23 - samples/sec: 1354.23 - lr: 0.000000\n",
            "2023-04-21 16:54:42,217 epoch 23 - iter 42/64 - loss 0.13566152 - time (sec): 46.88 - samples/sec: 1344.09 - lr: 0.000000\n",
            "2023-04-21 16:54:48,920 epoch 23 - iter 48/64 - loss 0.13359079 - time (sec): 53.58 - samples/sec: 1348.18 - lr: 0.000000\n",
            "2023-04-21 16:54:55,552 epoch 23 - iter 54/64 - loss 0.12906776 - time (sec): 60.21 - samples/sec: 1332.77 - lr: 0.000000\n",
            "2023-04-21 16:55:02,229 epoch 23 - iter 60/64 - loss 0.12619544 - time (sec): 66.89 - samples/sec: 1351.29 - lr: 0.000000\n",
            "2023-04-21 16:55:05,811 ----------------------------------------------------------------------------------------------------\n",
            "2023-04-21 16:55:05,813 EPOCH 23 done: loss 0.1242 - lr 0.000000\n"
          ]
        },
        {
          "name": "stderr",
          "output_type": "stream",
          "text": [
            "100%|██████████| 64/64 [00:24<00:00,  2.61it/s]\n"
          ]
        },
        {
          "name": "stdout",
          "output_type": "stream",
          "text": [
            "2023-04-21 16:55:30,516 Evaluating as a multi-label problem: True\n",
            "2023-04-21 16:55:33,525 TRAIN : loss 0.10914214700460434 - f1-score (weighted avg)  0.8594\n"
          ]
        },
        {
          "name": "stderr",
          "output_type": "stream",
          "text": [
            "100%|██████████| 8/8 [00:03<00:00,  2.50it/s]"
          ]
        },
        {
          "name": "stdout",
          "output_type": "stream",
          "text": [
            "2023-04-21 16:55:36,877 Evaluating as a multi-label problem: False\n",
            "2023-04-21 16:55:36,946 DEV : loss 0.2851102352142334 - f1-score (weighted avg)  0.7027\n",
            "2023-04-21 16:55:36,965 BAD EPOCHS (no improvement): 1\n",
            "2023-04-21 16:55:36,969 ----------------------------------------------------------------------------------------------------\n"
          ]
        },
        {
          "name": "stderr",
          "output_type": "stream",
          "text": [
            "\n"
          ]
        },
        {
          "name": "stdout",
          "output_type": "stream",
          "text": [
            "2023-04-21 16:55:43,645 epoch 24 - iter 6/64 - loss 0.11515855 - time (sec): 6.68 - samples/sec: 1300.67 - lr: 0.000000\n",
            "2023-04-21 16:55:50,328 epoch 24 - iter 12/64 - loss 0.10362051 - time (sec): 13.36 - samples/sec: 1307.07 - lr: 0.000000\n",
            "2023-04-21 16:55:56,970 epoch 24 - iter 18/64 - loss 0.10372403 - time (sec): 20.00 - samples/sec: 1297.60 - lr: 0.000000\n",
            "2023-04-21 16:56:03,708 epoch 24 - iter 24/64 - loss 0.10494026 - time (sec): 26.74 - samples/sec: 1338.16 - lr: 0.000000\n",
            "2023-04-21 16:56:10,360 epoch 24 - iter 30/64 - loss 0.11074958 - time (sec): 33.39 - samples/sec: 1330.26 - lr: 0.000000\n",
            "2023-04-21 16:56:17,020 epoch 24 - iter 36/64 - loss 0.11292903 - time (sec): 40.05 - samples/sec: 1354.49 - lr: 0.000000\n",
            "2023-04-21 16:56:23,682 epoch 24 - iter 42/64 - loss 0.11312846 - time (sec): 46.71 - samples/sec: 1356.06 - lr: 0.000000\n",
            "2023-04-21 16:56:30,337 epoch 24 - iter 48/64 - loss 0.11307861 - time (sec): 53.37 - samples/sec: 1342.79 - lr: 0.000000\n",
            "2023-04-21 16:56:36,974 epoch 24 - iter 54/64 - loss 0.11335383 - time (sec): 60.00 - samples/sec: 1334.75 - lr: 0.000000\n",
            "2023-04-21 16:56:43,887 epoch 24 - iter 60/64 - loss 0.12488969 - time (sec): 66.92 - samples/sec: 1345.28 - lr: 0.000000\n",
            "2023-04-21 16:56:47,475 ----------------------------------------------------------------------------------------------------\n",
            "2023-04-21 16:56:47,477 EPOCH 24 done: loss 0.1236 - lr 0.000000\n"
          ]
        },
        {
          "name": "stderr",
          "output_type": "stream",
          "text": [
            "100%|██████████| 64/64 [00:24<00:00,  2.60it/s]\n"
          ]
        },
        {
          "name": "stdout",
          "output_type": "stream",
          "text": [
            "2023-04-21 16:57:12,233 Evaluating as a multi-label problem: True\n",
            "2023-04-21 16:57:14,090 TRAIN : loss 0.10843140631914139 - f1-score (weighted avg)  0.8613\n"
          ]
        },
        {
          "name": "stderr",
          "output_type": "stream",
          "text": [
            "100%|██████████| 8/8 [00:03<00:00,  2.50it/s]\n"
          ]
        },
        {
          "name": "stdout",
          "output_type": "stream",
          "text": [
            "2023-04-21 16:57:18,471 Evaluating as a multi-label problem: False\n",
            "2023-04-21 16:57:18,541 DEV : loss 0.2850811779499054 - f1-score (weighted avg)  0.7\n",
            "2023-04-21 16:57:18,561 Epoch    24: reducing learning rate of group 0 to 1.5625e-07.\n",
            "2023-04-21 16:57:18,563 BAD EPOCHS (no improvement): 2\n",
            "2023-04-21 16:57:18,567 ----------------------------------------------------------------------------------------------------\n",
            "2023-04-21 16:57:25,195 epoch 25 - iter 6/64 - loss 0.11613097 - time (sec): 6.63 - samples/sec: 1300.64 - lr: 0.000000\n",
            "2023-04-21 16:57:31,882 epoch 25 - iter 12/64 - loss 0.11772462 - time (sec): 13.31 - samples/sec: 1365.71 - lr: 0.000000\n",
            "2023-04-21 16:57:38,513 epoch 25 - iter 18/64 - loss 0.11733645 - time (sec): 19.94 - samples/sec: 1291.82 - lr: 0.000000\n",
            "2023-04-21 16:57:45,141 epoch 25 - iter 24/64 - loss 0.11512328 - time (sec): 26.57 - samples/sec: 1262.44 - lr: 0.000000\n",
            "2023-04-21 16:57:51,836 epoch 25 - iter 30/64 - loss 0.11237022 - time (sec): 33.27 - samples/sec: 1296.60 - lr: 0.000000\n",
            "2023-04-21 16:57:58,555 epoch 25 - iter 36/64 - loss 0.11846766 - time (sec): 39.99 - samples/sec: 1280.92 - lr: 0.000000\n",
            "2023-04-21 16:58:05,237 epoch 25 - iter 42/64 - loss 0.11765056 - time (sec): 46.67 - samples/sec: 1277.08 - lr: 0.000000\n",
            "2023-04-21 16:58:11,907 epoch 25 - iter 48/64 - loss 0.11596170 - time (sec): 53.34 - samples/sec: 1286.96 - lr: 0.000000\n",
            "2023-04-21 16:58:18,602 epoch 25 - iter 54/64 - loss 0.11349586 - time (sec): 60.03 - samples/sec: 1308.14 - lr: 0.000000\n",
            "2023-04-21 16:58:25,296 epoch 25 - iter 60/64 - loss 0.11212079 - time (sec): 66.73 - samples/sec: 1325.65 - lr: 0.000000\n",
            "2023-04-21 16:58:29,097 ----------------------------------------------------------------------------------------------------\n",
            "2023-04-21 16:58:29,099 EPOCH 25 done: loss 0.1231 - lr 0.000000\n"
          ]
        },
        {
          "name": "stderr",
          "output_type": "stream",
          "text": [
            "100%|██████████| 64/64 [00:24<00:00,  2.61it/s]\n"
          ]
        },
        {
          "name": "stdout",
          "output_type": "stream",
          "text": [
            "2023-04-21 16:58:53,770 Evaluating as a multi-label problem: True\n",
            "2023-04-21 16:58:56,770 TRAIN : loss 0.10815412551164627 - f1-score (weighted avg)  0.8606\n"
          ]
        },
        {
          "name": "stderr",
          "output_type": "stream",
          "text": [
            "100%|██████████| 8/8 [00:03<00:00,  2.48it/s]"
          ]
        },
        {
          "name": "stdout",
          "output_type": "stream",
          "text": [
            "2023-04-21 16:59:00,145 Evaluating as a multi-label problem: False\n",
            "2023-04-21 16:59:00,212 DEV : loss 0.28329312801361084 - f1-score (weighted avg)  0.7032\n",
            "2023-04-21 16:59:00,232 BAD EPOCHS (no improvement): 1\n",
            "2023-04-21 16:59:00,236 ----------------------------------------------------------------------------------------------------\n"
          ]
        },
        {
          "name": "stderr",
          "output_type": "stream",
          "text": [
            "\n"
          ]
        },
        {
          "name": "stdout",
          "output_type": "stream",
          "text": [
            "2023-04-21 16:59:06,886 epoch 26 - iter 6/64 - loss 0.11654737 - time (sec): 6.65 - samples/sec: 1304.63 - lr: 0.000000\n",
            "2023-04-21 16:59:13,553 epoch 26 - iter 12/64 - loss 0.10983926 - time (sec): 13.32 - samples/sec: 1379.64 - lr: 0.000000\n",
            "2023-04-21 16:59:20,167 epoch 26 - iter 18/64 - loss 0.10718921 - time (sec): 19.93 - samples/sec: 1304.84 - lr: 0.000000\n",
            "2023-04-21 16:59:26,963 epoch 26 - iter 24/64 - loss 0.12936098 - time (sec): 26.73 - samples/sec: 1301.97 - lr: 0.000000\n",
            "2023-04-21 16:59:33,601 epoch 26 - iter 30/64 - loss 0.12312775 - time (sec): 33.36 - samples/sec: 1314.38 - lr: 0.000000\n",
            "2023-04-21 16:59:40,381 epoch 26 - iter 36/64 - loss 0.12476262 - time (sec): 40.14 - samples/sec: 1315.86 - lr: 0.000000\n",
            "2023-04-21 16:59:47,087 epoch 26 - iter 42/64 - loss 0.12314300 - time (sec): 46.85 - samples/sec: 1332.88 - lr: 0.000000\n",
            "2023-04-21 16:59:53,760 epoch 26 - iter 48/64 - loss 0.12080410 - time (sec): 53.52 - samples/sec: 1337.34 - lr: 0.000000\n",
            "2023-04-21 17:00:00,408 epoch 26 - iter 54/64 - loss 0.12053928 - time (sec): 60.17 - samples/sec: 1334.25 - lr: 0.000000\n",
            "2023-04-21 17:00:07,084 epoch 26 - iter 60/64 - loss 0.12390654 - time (sec): 66.85 - samples/sec: 1346.43 - lr: 0.000000\n",
            "2023-04-21 17:00:10,695 ----------------------------------------------------------------------------------------------------\n",
            "2023-04-21 17:00:10,697 EPOCH 26 done: loss 0.1219 - lr 0.000000\n"
          ]
        },
        {
          "name": "stderr",
          "output_type": "stream",
          "text": [
            "100%|██████████| 64/64 [00:24<00:00,  2.60it/s]\n"
          ]
        },
        {
          "name": "stdout",
          "output_type": "stream",
          "text": [
            "2023-04-21 17:00:35,420 Evaluating as a multi-label problem: True\n",
            "2023-04-21 17:00:38,439 TRAIN : loss 0.10728350281715393 - f1-score (weighted avg)  0.8623\n"
          ]
        },
        {
          "name": "stderr",
          "output_type": "stream",
          "text": [
            "100%|██████████| 8/8 [00:03<00:00,  2.50it/s]"
          ]
        },
        {
          "name": "stdout",
          "output_type": "stream",
          "text": [
            "2023-04-21 17:00:41,791 Evaluating as a multi-label problem: False\n",
            "2023-04-21 17:00:41,861 DEV : loss 0.2841992974281311 - f1-score (weighted avg)  0.7033\n",
            "2023-04-21 17:00:41,881 Epoch    26: reducing learning rate of group 0 to 7.8125e-08.\n",
            "2023-04-21 17:00:41,883 BAD EPOCHS (no improvement): 2\n",
            "2023-04-21 17:00:41,886 ----------------------------------------------------------------------------------------------------\n"
          ]
        },
        {
          "name": "stderr",
          "output_type": "stream",
          "text": [
            "\n"
          ]
        },
        {
          "name": "stdout",
          "output_type": "stream",
          "text": [
            "2023-04-21 17:00:48,500 epoch 27 - iter 6/64 - loss 0.09957168 - time (sec): 6.61 - samples/sec: 1279.50 - lr: 0.000000\n",
            "2023-04-21 17:00:55,209 epoch 27 - iter 12/64 - loss 0.11173736 - time (sec): 13.32 - samples/sec: 1286.32 - lr: 0.000000\n",
            "2023-04-21 17:01:01,890 epoch 27 - iter 18/64 - loss 0.10946969 - time (sec): 20.00 - samples/sec: 1336.28 - lr: 0.000000\n",
            "2023-04-21 17:01:08,514 epoch 27 - iter 24/64 - loss 0.11017526 - time (sec): 26.63 - samples/sec: 1312.52 - lr: 0.000000\n",
            "2023-04-21 17:01:15,455 epoch 27 - iter 30/64 - loss 0.13685721 - time (sec): 33.57 - samples/sec: 1379.31 - lr: 0.000000\n",
            "2023-04-21 17:01:22,129 epoch 27 - iter 36/64 - loss 0.13031152 - time (sec): 40.24 - samples/sec: 1365.29 - lr: 0.000000\n",
            "2023-04-21 17:01:28,792 epoch 27 - iter 42/64 - loss 0.12672414 - time (sec): 46.90 - samples/sec: 1363.89 - lr: 0.000000\n",
            "2023-04-21 17:01:35,471 epoch 27 - iter 48/64 - loss 0.12373681 - time (sec): 53.58 - samples/sec: 1367.43 - lr: 0.000000\n",
            "2023-04-21 17:01:42,110 epoch 27 - iter 54/64 - loss 0.12301600 - time (sec): 60.22 - samples/sec: 1349.53 - lr: 0.000000\n",
            "2023-04-21 17:01:48,824 epoch 27 - iter 60/64 - loss 0.12147964 - time (sec): 66.94 - samples/sec: 1357.93 - lr: 0.000000\n",
            "2023-04-21 17:01:52,414 ----------------------------------------------------------------------------------------------------\n",
            "2023-04-21 17:01:52,415 EPOCH 27 done: loss 0.1214 - lr 0.000000\n"
          ]
        },
        {
          "name": "stderr",
          "output_type": "stream",
          "text": [
            "100%|██████████| 64/64 [00:24<00:00,  2.60it/s]\n"
          ]
        },
        {
          "name": "stdout",
          "output_type": "stream",
          "text": [
            "2023-04-21 17:02:17,135 Evaluating as a multi-label problem: True\n",
            "2023-04-21 17:02:18,996 TRAIN : loss 0.10756486654281616 - f1-score (weighted avg)  0.8614\n"
          ]
        },
        {
          "name": "stderr",
          "output_type": "stream",
          "text": [
            "100%|██████████| 8/8 [00:03<00:00,  2.52it/s]\n"
          ]
        },
        {
          "name": "stdout",
          "output_type": "stream",
          "text": [
            "2023-04-21 17:02:23,312 Evaluating as a multi-label problem: False\n",
            "2023-04-21 17:02:23,381 DEV : loss 0.28473731875419617 - f1-score (weighted avg)  0.7023\n",
            "2023-04-21 17:02:23,401 BAD EPOCHS (no improvement): 1\n",
            "2023-04-21 17:02:23,405 ----------------------------------------------------------------------------------------------------\n",
            "2023-04-21 17:02:30,070 epoch 28 - iter 6/64 - loss 0.10898361 - time (sec): 6.66 - samples/sec: 1411.74 - lr: 0.000000\n",
            "2023-04-21 17:02:36,740 epoch 28 - iter 12/64 - loss 0.10990296 - time (sec): 13.33 - samples/sec: 1352.96 - lr: 0.000000\n",
            "2023-04-21 17:02:43,444 epoch 28 - iter 18/64 - loss 0.10796487 - time (sec): 20.04 - samples/sec: 1368.61 - lr: 0.000000\n",
            "2023-04-21 17:02:50,073 epoch 28 - iter 24/64 - loss 0.10505135 - time (sec): 26.67 - samples/sec: 1329.33 - lr: 0.000000\n",
            "2023-04-21 17:02:56,821 epoch 28 - iter 30/64 - loss 0.10708834 - time (sec): 33.41 - samples/sec: 1375.83 - lr: 0.000000\n",
            "2023-04-21 17:03:03,509 epoch 28 - iter 36/64 - loss 0.10417016 - time (sec): 40.10 - samples/sec: 1344.63 - lr: 0.000000\n",
            "2023-04-21 17:03:10,342 epoch 28 - iter 42/64 - loss 0.11992787 - time (sec): 46.93 - samples/sec: 1361.64 - lr: 0.000000\n",
            "2023-04-21 17:03:16,989 epoch 28 - iter 48/64 - loss 0.12016862 - time (sec): 53.58 - samples/sec: 1345.85 - lr: 0.000000\n",
            "2023-04-21 17:03:23,650 epoch 28 - iter 54/64 - loss 0.12022577 - time (sec): 60.24 - samples/sec: 1339.15 - lr: 0.000000\n",
            "2023-04-21 17:03:30,404 epoch 28 - iter 60/64 - loss 0.12169527 - time (sec): 67.00 - samples/sec: 1343.61 - lr: 0.000000\n",
            "2023-04-21 17:03:33,995 ----------------------------------------------------------------------------------------------------\n",
            "2023-04-21 17:03:33,996 EPOCH 28 done: loss 0.1208 - lr 0.000000\n"
          ]
        },
        {
          "name": "stderr",
          "output_type": "stream",
          "text": [
            "100%|██████████| 64/64 [00:24<00:00,  2.60it/s]\n"
          ]
        },
        {
          "name": "stdout",
          "output_type": "stream",
          "text": [
            "2023-04-21 17:03:58,772 Evaluating as a multi-label problem: True\n",
            "2023-04-21 17:04:01,777 TRAIN : loss 0.10727710276842117 - f1-score (weighted avg)  0.862\n"
          ]
        },
        {
          "name": "stderr",
          "output_type": "stream",
          "text": [
            "100%|██████████| 8/8 [00:03<00:00,  2.49it/s]"
          ]
        },
        {
          "name": "stdout",
          "output_type": "stream",
          "text": [
            "2023-04-21 17:04:05,137 Evaluating as a multi-label problem: False\n",
            "2023-04-21 17:04:05,206 DEV : loss 0.28490185737609863 - f1-score (weighted avg)  0.7026\n",
            "2023-04-21 17:04:05,226 Epoch    28: reducing learning rate of group 0 to 3.9063e-08.\n",
            "2023-04-21 17:04:05,229 BAD EPOCHS (no improvement): 2\n",
            "2023-04-21 17:04:05,232 ----------------------------------------------------------------------------------------------------\n"
          ]
        },
        {
          "name": "stderr",
          "output_type": "stream",
          "text": [
            "\n"
          ]
        },
        {
          "name": "stdout",
          "output_type": "stream",
          "text": [
            "2023-04-21 17:04:11,851 epoch 29 - iter 6/64 - loss 0.09463798 - time (sec): 6.62 - samples/sec: 1308.47 - lr: 0.000000\n",
            "2023-04-21 17:04:18,562 epoch 29 - iter 12/64 - loss 0.10391159 - time (sec): 13.33 - samples/sec: 1350.48 - lr: 0.000000\n",
            "2023-04-21 17:04:25,333 epoch 29 - iter 18/64 - loss 0.11357999 - time (sec): 20.10 - samples/sec: 1359.96 - lr: 0.000000\n",
            "2023-04-21 17:04:32,045 epoch 29 - iter 24/64 - loss 0.10755519 - time (sec): 26.81 - samples/sec: 1372.57 - lr: 0.000000\n",
            "2023-04-21 17:04:38,682 epoch 29 - iter 30/64 - loss 0.10872039 - time (sec): 33.45 - samples/sec: 1365.59 - lr: 0.000000\n",
            "2023-04-21 17:04:45,299 epoch 29 - iter 36/64 - loss 0.10844061 - time (sec): 40.06 - samples/sec: 1347.99 - lr: 0.000000\n",
            "2023-04-21 17:04:51,947 epoch 29 - iter 42/64 - loss 0.10726846 - time (sec): 46.71 - samples/sec: 1345.82 - lr: 0.000000\n",
            "2023-04-21 17:04:58,616 epoch 29 - iter 48/64 - loss 0.11040013 - time (sec): 53.38 - samples/sec: 1345.60 - lr: 0.000000\n",
            "2023-04-21 17:05:05,444 epoch 29 - iter 54/64 - loss 0.12209816 - time (sec): 60.21 - samples/sec: 1355.26 - lr: 0.000000\n",
            "2023-04-21 17:05:12,091 epoch 29 - iter 60/64 - loss 0.12019298 - time (sec): 66.86 - samples/sec: 1348.76 - lr: 0.000000\n",
            "2023-04-21 17:05:15,685 ----------------------------------------------------------------------------------------------------\n",
            "2023-04-21 17:05:15,687 EPOCH 29 done: loss 0.1199 - lr 0.000000\n"
          ]
        },
        {
          "name": "stderr",
          "output_type": "stream",
          "text": [
            "100%|██████████| 64/64 [00:24<00:00,  2.61it/s]\n"
          ]
        },
        {
          "name": "stdout",
          "output_type": "stream",
          "text": [
            "2023-04-21 17:05:40,366 Evaluating as a multi-label problem: True\n",
            "2023-04-21 17:05:43,420 TRAIN : loss 0.10708489269018173 - f1-score (weighted avg)  0.8623\n"
          ]
        },
        {
          "name": "stderr",
          "output_type": "stream",
          "text": [
            "100%|██████████| 8/8 [00:03<00:00,  2.50it/s]"
          ]
        },
        {
          "name": "stdout",
          "output_type": "stream",
          "text": [
            "2023-04-21 17:05:46,777 Evaluating as a multi-label problem: False\n",
            "2023-04-21 17:05:46,844 DEV : loss 0.28473150730133057 - f1-score (weighted avg)  0.7026\n",
            "2023-04-21 17:05:46,864 BAD EPOCHS (no improvement): 1\n",
            "2023-04-21 17:05:46,868 ----------------------------------------------------------------------------------------------------\n"
          ]
        },
        {
          "name": "stderr",
          "output_type": "stream",
          "text": [
            "\n"
          ]
        },
        {
          "name": "stdout",
          "output_type": "stream",
          "text": [
            "2023-04-21 17:05:53,579 epoch 30 - iter 6/64 - loss 0.11129157 - time (sec): 6.71 - samples/sec: 1249.67 - lr: 0.000000\n",
            "2023-04-21 17:06:00,209 epoch 30 - iter 12/64 - loss 0.11159993 - time (sec): 13.34 - samples/sec: 1277.78 - lr: 0.000000\n",
            "2023-04-21 17:06:06,893 epoch 30 - iter 18/64 - loss 0.10939833 - time (sec): 20.02 - samples/sec: 1313.27 - lr: 0.000000\n",
            "2023-04-21 17:06:13,573 epoch 30 - iter 24/64 - loss 0.11252582 - time (sec): 26.70 - samples/sec: 1324.18 - lr: 0.000000\n",
            "2023-04-21 17:06:20,219 epoch 30 - iter 30/64 - loss 0.11364042 - time (sec): 33.35 - samples/sec: 1337.14 - lr: 0.000000\n",
            "2023-04-21 17:06:26,964 epoch 30 - iter 36/64 - loss 0.11729575 - time (sec): 40.09 - samples/sec: 1343.46 - lr: 0.000000\n",
            "2023-04-21 17:06:33,648 epoch 30 - iter 42/64 - loss 0.11705272 - time (sec): 46.78 - samples/sec: 1363.02 - lr: 0.000000\n",
            "2023-04-21 17:06:40,320 epoch 30 - iter 48/64 - loss 0.11632784 - time (sec): 53.45 - samples/sec: 1353.44 - lr: 0.000000\n",
            "2023-04-21 17:06:46,974 epoch 30 - iter 54/64 - loss 0.11489481 - time (sec): 60.10 - samples/sec: 1344.12 - lr: 0.000000\n",
            "2023-04-21 17:06:53,845 epoch 30 - iter 60/64 - loss 0.12205575 - time (sec): 66.97 - samples/sec: 1350.76 - lr: 0.000000\n",
            "2023-04-21 17:06:57,433 ----------------------------------------------------------------------------------------------------\n",
            "2023-04-21 17:06:57,435 EPOCH 30 done: loss 0.1212 - lr 0.000000\n"
          ]
        },
        {
          "name": "stderr",
          "output_type": "stream",
          "text": [
            "100%|██████████| 64/64 [00:24<00:00,  2.60it/s]\n"
          ]
        },
        {
          "name": "stdout",
          "output_type": "stream",
          "text": [
            "2023-04-21 17:07:22,168 Evaluating as a multi-label problem: True\n",
            "2023-04-21 17:07:24,044 TRAIN : loss 0.10700857639312744 - f1-score (weighted avg)  0.8624\n"
          ]
        },
        {
          "name": "stderr",
          "output_type": "stream",
          "text": [
            "100%|██████████| 8/8 [00:03<00:00,  2.49it/s]\n"
          ]
        },
        {
          "name": "stdout",
          "output_type": "stream",
          "text": [
            "2023-04-21 17:07:28,390 Evaluating as a multi-label problem: False\n",
            "2023-04-21 17:07:28,458 DEV : loss 0.2846706807613373 - f1-score (weighted avg)  0.7026\n",
            "2023-04-21 17:07:28,477 Epoch    30: reducing learning rate of group 0 to 1.9531e-08.\n",
            "2023-04-21 17:07:28,480 BAD EPOCHS (no improvement): 2\n",
            "2023-04-21 17:07:28,484 ----------------------------------------------------------------------------------------------------\n",
            "2023-04-21 17:07:28,485 ----------------------------------------------------------------------------------------------------\n",
            "2023-04-21 17:07:28,487 learning rate too small - quitting training!\n",
            "2023-04-21 17:07:28,488 ----------------------------------------------------------------------------------------------------\n",
            "2023-04-21 17:07:37,826 ----------------------------------------------------------------------------------------------------\n",
            "2023-04-21 17:07:50,476 SequenceTagger predicts: Dictionary with 12 tags: <unk>, O, I-ADR, B-ADR, B-Drug, I-Finding, B-Finding, B-Disease, B-Symptom, I-Symptom, I-Disease, I-Drug\n"
          ]
        },
        {
          "name": "stderr",
          "output_type": "stream",
          "text": [
            "100%|██████████| 8/8 [00:03<00:00,  2.40it/s]"
          ]
        },
        {
          "name": "stdout",
          "output_type": "stream",
          "text": [
            "2023-04-21 17:07:54,224 Evaluating as a multi-label problem: True\n"
          ]
        },
        {
          "name": "stderr",
          "output_type": "stream",
          "text": [
            "\n"
          ]
        },
        {
          "name": "stdout",
          "output_type": "stream",
          "text": [
            "2023-04-21 17:07:54,469 0.7618\t0.7557\t0.7587\t0.9385\n",
            "2023-04-21 17:07:54,471 \n",
            "Results:\n",
            "- F-score (micro) 0.7587\n",
            "- F-score (macro) 0.2897\n",
            "- Accuracy 0.9385\n",
            "\n",
            "By class:\n",
            "              precision    recall  f1-score   support\n",
            "\n",
            "       I-ADR     0.7589    0.8139    0.7854       967\n",
            "       B-ADR     0.7815    0.8507    0.8146       576\n",
            "      B-Drug     0.7794    0.9680    0.8635       219\n",
            "   B-Finding     0.4167    0.1923    0.2632        52\n",
            "      I-Drug     0.0000    0.0000    0.0000        52\n",
            "   I-Finding     0.3636    0.1111    0.1702        36\n",
            "   I-Symptom     0.0000    0.0000    0.0000        33\n",
            "   B-Disease     0.0000    0.0000    0.0000        20\n",
            "   B-Symptom     0.0000    0.0000    0.0000        22\n",
            "   I-Disease     0.0000    0.0000    0.0000        12\n",
            "\n",
            "   micro avg     0.7618    0.7557    0.7587      1989\n",
            "   macro avg     0.3100    0.2936    0.2897      1989\n",
            "weighted avg     0.6986    0.7557    0.7228      1989\n",
            " samples avg     0.1270    0.1269    0.1270      1989\n",
            "\n",
            "2023-04-21 17:07:54,473 ----------------------------------------------------------------------------------------------------\n"
          ]
        }
      ],
      "source": [
        "hist = trainer.train('flair_ner_model'+suf,\n",
        "              embeddings_storage_mode='gpu',\n",
        "              gold_label_dictionary_for_eval=tag_dictionary,\n",
        "              mini_batch_size = 15,\n",
        "              eval_batch_size = 15,\n",
        "              patience=1,\n",
        "              anneal_factor = 0.5,\n",
        "              anneal_against_dev_loss=True,\n",
        "              main_evaluation_metric = (\"weighted avg\", \"f1-score\"),\n",
        "              metrics_for_tensorboard=[(\"weighted avg\", 'precision'), (\"weighted avg\", 'recall'), (\"macro avg\", 'f1-score'), (\"macro avg\", 'precision'), (\"macro avg\", 'recall')],\n",
        "              use_tensorboard=True,\n",
        "              tensorboard_comment='Flair NER',\n",
        "              tensorboard_log_dir='runs/tb_logs'+suf,\n",
        "              min_learning_rate=3e-8,\n",
        "              optimizer=AdamW,\n",
        "              learning_rate=5.0e-6,\n",
        "              weight_decay=0.001,\n",
        "              max_epochs=100,\n",
        "              monitor_train=True,\n",
        "              save_optimizer_state=True,)\n",
        "# hist"
      ]
    },
    {
      "cell_type": "code",
      "execution_count": 16,
      "metadata": {
        "id": "ExiLRreqXsDJ"
      },
      "outputs": [],
      "source": [
        "# print(hist.keys())\n",
        "# hist"
      ]
    },
    {
      "cell_type": "code",
      "execution_count": 17,
      "metadata": {
        "colab": {
          "base_uri": "https://localhost:8080/",
          "height": 1000
        },
        "id": "P5Uu5qkN0pia",
        "outputId": "9405559f-a323-4c26-dab2-794f3a8e38f7"
      },
      "outputs": [
        {
          "name": "stdout",
          "output_type": "stream",
          "text": [
            "_v3_spanbert-large-cased\n",
            "2023-04-21 17:07:54,498 ----------------------------------------------------------------------------------------------------\n",
            "2023-04-21 17:07:54,498 WARNING: No LOSS found for test split in this data.\n",
            "2023-04-21 17:07:54,499 Are you sure you want to plot LOSS and not another value?\n",
            "2023-04-21 17:07:54,500 ----------------------------------------------------------------------------------------------------\n",
            "2023-04-21 17:07:54,525 ----------------------------------------------------------------------------------------------------\n",
            "2023-04-21 17:07:54,526 WARNING: No F1 found for test split in this data.\n",
            "2023-04-21 17:07:54,527 Are you sure you want to plot F1 and not another value?\n",
            "2023-04-21 17:07:54,528 ----------------------------------------------------------------------------------------------------\n",
            "2023-04-21 17:07:55,634 Loss and F1 plots are saved in flair_ner_model_v3_spanbert-large-cased/training.png\n"
          ]
        },
        {
          "data": {
            "image/png": "[encoded data removed]",
            "text/plain": [
              "<Figure size 1500x1000 with 2 Axes>"
            ]
          },
          "metadata": {},
          "output_type": "display_data"
        },
        {
          "name": "stderr",
          "output_type": "stream",
          "text": [
            "100%|██████████| 64/64 [00:24<00:00,  2.58it/s]\n"
          ]
        },
        {
          "name": "stdout",
          "output_type": "stream",
          "text": [
            "2023-04-21 17:08:20,894 Evaluating as a multi-label problem: True\n"
          ]
        },
        {
          "name": "stderr",
          "output_type": "stream",
          "text": [
            "100%|██████████| 8/8 [00:03<00:00,  2.51it/s]"
          ]
        },
        {
          "name": "stdout",
          "output_type": "stream",
          "text": [
            "2023-04-21 17:08:27,059 Evaluating as a multi-label problem: False\n"
          ]
        },
        {
          "name": "stderr",
          "output_type": "stream",
          "text": [
            "\n",
            "100%|██████████| 8/8 [00:03<00:00,  2.54it/s]"
          ]
        },
        {
          "name": "stdout",
          "output_type": "stream",
          "text": [
            "2023-04-21 17:08:30,304 Evaluating as a multi-label problem: True\n"
          ]
        },
        {
          "name": "stderr",
          "output_type": "stream",
          "text": [
            "\n"
          ]
        },
        {
          "data": {
            "text/html": [
              "\n",
              "  <div id=\"df-0f9bb4c8-b7de-4f81-8c1a-9b24d2bacb23\">\n",
              "    <div class=\"colab-df-container\">\n",
              "      <div>\n",
              "<style scoped>\n",
              "    .dataframe tbody tr th:only-of-type {\n",
              "        vertical-align: middle;\n",
              "    }\n",
              "\n",
              "    .dataframe tbody tr th {\n",
              "        vertical-align: top;\n",
              "    }\n",
              "\n",
              "    .dataframe thead th {\n",
              "        text-align: right;\n",
              "    }\n",
              "</style>\n",
              "<table border=\"1\" class=\"dataframe\">\n",
              "  <thead>\n",
              "    <tr style=\"text-align: right;\">\n",
              "      <th></th>\n",
              "      <th>split</th>\n",
              "      <th>index</th>\n",
              "      <th>I-ADR</th>\n",
              "      <th>B-ADR</th>\n",
              "      <th>B-Drug</th>\n",
              "      <th>B-Finding</th>\n",
              "      <th>I-Finding</th>\n",
              "      <th>B-Disease</th>\n",
              "      <th>B-Symptom</th>\n",
              "      <th>I-Symptom</th>\n",
              "      <th>I-Disease</th>\n",
              "      <th>I-Drug</th>\n",
              "      <th>micro avg</th>\n",
              "      <th>macro avg</th>\n",
              "      <th>weighted avg</th>\n",
              "      <th>samples avg</th>\n",
              "    </tr>\n",
              "  </thead>\n",
              "  <tbody>\n",
              "    <tr>\n",
              "      <th>0</th>\n",
              "      <td>train</td>\n",
              "      <td>precision</td>\n",
              "      <td>0.890591</td>\n",
              "      <td>0.866654</td>\n",
              "      <td>0.805507</td>\n",
              "      <td>0.358974</td>\n",
              "      <td>0.389262</td>\n",
              "      <td>0.276596</td>\n",
              "      <td>0.0</td>\n",
              "      <td>0.0</td>\n",
              "      <td>0.461538</td>\n",
              "      <td>0.0</td>\n",
              "      <td>0.857971</td>\n",
              "      <td>0.404912</td>\n",
              "      <td>0.806597</td>\n",
              "      <td>0.145204</td>\n",
              "    </tr>\n",
              "    <tr>\n",
              "      <th>1</th>\n",
              "      <td>train</td>\n",
              "      <td>recall</td>\n",
              "      <td>0.972337</td>\n",
              "      <td>0.950340</td>\n",
              "      <td>0.984957</td>\n",
              "      <td>0.317152</td>\n",
              "      <td>0.166189</td>\n",
              "      <td>0.056277</td>\n",
              "      <td>0.0</td>\n",
              "      <td>0.0</td>\n",
              "      <td>0.035503</td>\n",
              "      <td>0.0</td>\n",
              "      <td>0.875382</td>\n",
              "      <td>0.348276</td>\n",
              "      <td>0.875382</td>\n",
              "      <td>0.145167</td>\n",
              "    </tr>\n",
              "    <tr>\n",
              "      <th>2</th>\n",
              "      <td>train</td>\n",
              "      <td>f1-score</td>\n",
              "      <td>0.929671</td>\n",
              "      <td>0.906569</td>\n",
              "      <td>0.886239</td>\n",
              "      <td>0.336770</td>\n",
              "      <td>0.232932</td>\n",
              "      <td>0.093525</td>\n",
              "      <td>0.0</td>\n",
              "      <td>0.0</td>\n",
              "      <td>0.065934</td>\n",
              "      <td>0.0</td>\n",
              "      <td>0.866589</td>\n",
              "      <td>0.345164</td>\n",
              "      <td>0.834651</td>\n",
              "      <td>0.145180</td>\n",
              "    </tr>\n",
              "    <tr>\n",
              "      <th>3</th>\n",
              "      <td>train</td>\n",
              "      <td>support</td>\n",
              "      <td>7953.000000</td>\n",
              "      <td>4712.000000</td>\n",
              "      <td>1396.000000</td>\n",
              "      <td>309.000000</td>\n",
              "      <td>349.000000</td>\n",
              "      <td>231.000000</td>\n",
              "      <td>222.0</td>\n",
              "      <td>218.0</td>\n",
              "      <td>169.000000</td>\n",
              "      <td>161.0</td>\n",
              "      <td>15720.000000</td>\n",
              "      <td>15720.000000</td>\n",
              "      <td>15720.000000</td>\n",
              "      <td>15720.000000</td>\n",
              "    </tr>\n",
              "    <tr>\n",
              "      <th>4</th>\n",
              "      <td>dev</td>\n",
              "      <td>precision</td>\n",
              "      <td>0.699352</td>\n",
              "      <td>0.775910</td>\n",
              "      <td>0.790179</td>\n",
              "      <td>0.243243</td>\n",
              "      <td>0.190476</td>\n",
              "      <td>0.000000</td>\n",
              "      <td>0.0</td>\n",
              "      <td>0.0</td>\n",
              "      <td>0.500000</td>\n",
              "      <td>0.0</td>\n",
              "      <td>0.720038</td>\n",
              "      <td>0.319916</td>\n",
              "      <td>0.661151</td>\n",
              "      <td>NaN</td>\n",
              "    </tr>\n",
              "    <tr>\n",
              "      <th>5</th>\n",
              "      <td>dev</td>\n",
              "      <td>recall</td>\n",
              "      <td>0.782609</td>\n",
              "      <td>0.850998</td>\n",
              "      <td>0.961957</td>\n",
              "      <td>0.140625</td>\n",
              "      <td>0.074074</td>\n",
              "      <td>0.000000</td>\n",
              "      <td>0.0</td>\n",
              "      <td>0.0</td>\n",
              "      <td>0.071429</td>\n",
              "      <td>0.0</td>\n",
              "      <td>0.727009</td>\n",
              "      <td>0.288169</td>\n",
              "      <td>0.727009</td>\n",
              "      <td>NaN</td>\n",
              "    </tr>\n",
              "    <tr>\n",
              "      <th>6</th>\n",
              "      <td>dev</td>\n",
              "      <td>f1-score</td>\n",
              "      <td>0.738642</td>\n",
              "      <td>0.811722</td>\n",
              "      <td>0.867647</td>\n",
              "      <td>0.178218</td>\n",
              "      <td>0.106667</td>\n",
              "      <td>0.000000</td>\n",
              "      <td>0.0</td>\n",
              "      <td>0.0</td>\n",
              "      <td>0.125000</td>\n",
              "      <td>0.0</td>\n",
              "      <td>0.723507</td>\n",
              "      <td>0.282790</td>\n",
              "      <td>0.688418</td>\n",
              "      <td>NaN</td>\n",
              "    </tr>\n",
              "    <tr>\n",
              "      <th>7</th>\n",
              "      <td>dev</td>\n",
              "      <td>support</td>\n",
              "      <td>966.000000</td>\n",
              "      <td>651.000000</td>\n",
              "      <td>184.000000</td>\n",
              "      <td>64.000000</td>\n",
              "      <td>54.000000</td>\n",
              "      <td>31.000000</td>\n",
              "      <td>25.0</td>\n",
              "      <td>36.0</td>\n",
              "      <td>28.000000</td>\n",
              "      <td>27.0</td>\n",
              "      <td>2066.000000</td>\n",
              "      <td>2066.000000</td>\n",
              "      <td>2066.000000</td>\n",
              "      <td>NaN</td>\n",
              "    </tr>\n",
              "    <tr>\n",
              "      <th>8</th>\n",
              "      <td>test</td>\n",
              "      <td>precision</td>\n",
              "      <td>0.758920</td>\n",
              "      <td>0.781499</td>\n",
              "      <td>0.779412</td>\n",
              "      <td>0.416667</td>\n",
              "      <td>0.363636</td>\n",
              "      <td>0.000000</td>\n",
              "      <td>0.0</td>\n",
              "      <td>0.0</td>\n",
              "      <td>0.000000</td>\n",
              "      <td>0.0</td>\n",
              "      <td>0.761784</td>\n",
              "      <td>0.310013</td>\n",
              "      <td>0.698576</td>\n",
              "      <td>0.127007</td>\n",
              "    </tr>\n",
              "    <tr>\n",
              "      <th>9</th>\n",
              "      <td>test</td>\n",
              "      <td>recall</td>\n",
              "      <td>0.813857</td>\n",
              "      <td>0.850694</td>\n",
              "      <td>0.968037</td>\n",
              "      <td>0.192308</td>\n",
              "      <td>0.111111</td>\n",
              "      <td>0.000000</td>\n",
              "      <td>0.0</td>\n",
              "      <td>0.0</td>\n",
              "      <td>0.000000</td>\n",
              "      <td>0.0</td>\n",
              "      <td>0.755656</td>\n",
              "      <td>0.293601</td>\n",
              "      <td>0.755656</td>\n",
              "      <td>0.126922</td>\n",
              "    </tr>\n",
              "    <tr>\n",
              "      <th>10</th>\n",
              "      <td>test</td>\n",
              "      <td>f1-score</td>\n",
              "      <td>0.785429</td>\n",
              "      <td>0.814630</td>\n",
              "      <td>0.863544</td>\n",
              "      <td>0.263158</td>\n",
              "      <td>0.170213</td>\n",
              "      <td>0.000000</td>\n",
              "      <td>0.0</td>\n",
              "      <td>0.0</td>\n",
              "      <td>0.000000</td>\n",
              "      <td>0.0</td>\n",
              "      <td>0.758708</td>\n",
              "      <td>0.289697</td>\n",
              "      <td>0.722808</td>\n",
              "      <td>0.126951</td>\n",
              "    </tr>\n",
              "    <tr>\n",
              "      <th>11</th>\n",
              "      <td>test</td>\n",
              "      <td>support</td>\n",
              "      <td>967.000000</td>\n",
              "      <td>576.000000</td>\n",
              "      <td>219.000000</td>\n",
              "      <td>52.000000</td>\n",
              "      <td>36.000000</td>\n",
              "      <td>20.000000</td>\n",
              "      <td>22.0</td>\n",
              "      <td>33.0</td>\n",
              "      <td>12.000000</td>\n",
              "      <td>52.0</td>\n",
              "      <td>1989.000000</td>\n",
              "      <td>1989.000000</td>\n",
              "      <td>1989.000000</td>\n",
              "      <td>1989.000000</td>\n",
              "    </tr>\n",
              "  </tbody>\n",
              "</table>\n",
              "</div>\n",
              "      <button class=\"colab-df-convert\" onclick=\"convertToInteractive('df-0f9bb4c8-b7de-4f81-8c1a-9b24d2bacb23')\"\n",
              "              title=\"Convert this dataframe to an interactive table.\"\n",
              "              style=\"display:none;\">\n",
              "        \n",
              "  <svg xmlns=\"http://www.w3.org/2000/svg\" height=\"24px\"viewBox=\"0 0 24 24\"\n",
              "       width=\"24px\">\n",
              "    <path d=\"M0 0h24v24H0V0z\" fill=\"none\"/>\n",
              "    <path d=\"M18.56 5.44l.94 2.06.94-2.06 2.06-.94-2.06-.94-.94-2.06-.94 2.06-2.06.94zm-11 1L8.5 8.5l.94-2.06 2.06-.94-2.06-.94L8.5 2.5l-.94 2.06-2.06.94zm10 10l.94 2.06.94-2.06 2.06-.94-2.06-.94-.94-2.06-.94 2.06-2.06.94z\"/><path d=\"M17.41 7.96l-1.37-1.37c-.4-.4-.92-.59-1.43-.59-.52 0-1.04.2-1.43.59L10.3 9.45l-7.72 7.72c-.78.78-.78 2.05 0 2.83L4 21.41c.39.39.9.59 1.41.59.51 0 1.02-.2 1.41-.59l7.78-7.78 2.81-2.81c.8-.78.8-2.07 0-2.86zM5.41 20L4 18.59l7.72-7.72 1.47 1.35L5.41 20z\"/>\n",
              "  </svg>\n",
              "      </button>\n",
              "      \n",
              "  <style>\n",
              "    .colab-df-container {\n",
              "      display:flex;\n",
              "      flex-wrap:wrap;\n",
              "      gap: 12px;\n",
              "    }\n",
              "\n",
              "    .colab-df-convert {\n",
              "      background-color: #E8F0FE;\n",
              "      border: none;\n",
              "      border-radius: 50%;\n",
              "      cursor: pointer;\n",
              "      display: none;\n",
              "      fill: #1967D2;\n",
              "      height: 32px;\n",
              "      padding: 0 0 0 0;\n",
              "      width: 32px;\n",
              "    }\n",
              "\n",
              "    .colab-df-convert:hover {\n",
              "      background-color: #E2EBFA;\n",
              "      box-shadow: 0px 1px 2px rgba(60, 64, 67, 0.3), 0px 1px 3px 1px rgba(60, 64, 67, 0.15);\n",
              "      fill: #174EA6;\n",
              "    }\n",
              "\n",
              "    [theme=dark] .colab-df-convert {\n",
              "      background-color: #3B4455;\n",
              "      fill: #D2E3FC;\n",
              "    }\n",
              "\n",
              "    [theme=dark] .colab-df-convert:hover {\n",
              "      background-color: #434B5C;\n",
              "      box-shadow: 0px 1px 3px 1px rgba(0, 0, 0, 0.15);\n",
              "      filter: drop-shadow(0px 1px 2px rgba(0, 0, 0, 0.3));\n",
              "      fill: #FFFFFF;\n",
              "    }\n",
              "  </style>\n",
              "\n",
              "      <script>\n",
              "        const buttonEl =\n",
              "          document.querySelector('#df-0f9bb4c8-b7de-4f81-8c1a-9b24d2bacb23 button.colab-df-convert');\n",
              "        buttonEl.style.display =\n",
              "          google.colab.kernel.accessAllowed ? 'block' : 'none';\n",
              "\n",
              "        async function convertToInteractive(key) {\n",
              "          const element = document.querySelector('#df-0f9bb4c8-b7de-4f81-8c1a-9b24d2bacb23');\n",
              "          const dataTable =\n",
              "            await google.colab.kernel.invokeFunction('convertToInteractive',\n",
              "                                                     [key], {});\n",
              "          if (!dataTable) return;\n",
              "\n",
              "          const docLinkHtml = 'Like what you see? Visit the ' +\n",
              "            '<a target=\"_blank\" href=https://colab.research.google.com/notebooks/data_table.ipynb>data table notebook</a>'\n",
              "            + ' to learn more about interactive tables.';\n",
              "          element.innerHTML = '';\n",
              "          dataTable['output_type'] = 'display_data';\n",
              "          await google.colab.output.renderOutput(dataTable, element);\n",
              "          const docLink = document.createElement('div');\n",
              "          docLink.innerHTML = docLinkHtml;\n",
              "          element.appendChild(docLink);\n",
              "        }\n",
              "      </script>\n",
              "    </div>\n",
              "  </div>\n",
              "  "
            ],
            "text/plain": [
              "    split      index        I-ADR        B-ADR       B-Drug   B-Finding  \\\n",
              "0   train  precision     0.890591     0.866654     0.805507    0.358974   \n",
              "1   train     recall     0.972337     0.950340     0.984957    0.317152   \n",
              "2   train   f1-score     0.929671     0.906569     0.886239    0.336770   \n",
              "3   train    support  7953.000000  4712.000000  1396.000000  309.000000   \n",
              "4     dev  precision     0.699352     0.775910     0.790179    0.243243   \n",
              "5     dev     recall     0.782609     0.850998     0.961957    0.140625   \n",
              "6     dev   f1-score     0.738642     0.811722     0.867647    0.178218   \n",
              "7     dev    support   966.000000   651.000000   184.000000   64.000000   \n",
              "8    test  precision     0.758920     0.781499     0.779412    0.416667   \n",
              "9    test     recall     0.813857     0.850694     0.968037    0.192308   \n",
              "10   test   f1-score     0.785429     0.814630     0.863544    0.263158   \n",
              "11   test    support   967.000000   576.000000   219.000000   52.000000   \n",
              "\n",
              "     I-Finding   B-Disease  B-Symptom  I-Symptom   I-Disease  I-Drug  \\\n",
              "0     0.389262    0.276596        0.0        0.0    0.461538     0.0   \n",
              "1     0.166189    0.056277        0.0        0.0    0.035503     0.0   \n",
              "2     0.232932    0.093525        0.0        0.0    0.065934     0.0   \n",
              "3   349.000000  231.000000      222.0      218.0  169.000000   161.0   \n",
              "4     0.190476    0.000000        0.0        0.0    0.500000     0.0   \n",
              "5     0.074074    0.000000        0.0        0.0    0.071429     0.0   \n",
              "6     0.106667    0.000000        0.0        0.0    0.125000     0.0   \n",
              "7    54.000000   31.000000       25.0       36.0   28.000000    27.0   \n",
              "8     0.363636    0.000000        0.0        0.0    0.000000     0.0   \n",
              "9     0.111111    0.000000        0.0        0.0    0.000000     0.0   \n",
              "10    0.170213    0.000000        0.0        0.0    0.000000     0.0   \n",
              "11   36.000000   20.000000       22.0       33.0   12.000000    52.0   \n",
              "\n",
              "       micro avg     macro avg  weighted avg   samples avg  \n",
              "0       0.857971      0.404912      0.806597      0.145204  \n",
              "1       0.875382      0.348276      0.875382      0.145167  \n",
              "2       0.866589      0.345164      0.834651      0.145180  \n",
              "3   15720.000000  15720.000000  15720.000000  15720.000000  \n",
              "4       0.720038      0.319916      0.661151           NaN  \n",
              "5       0.727009      0.288169      0.727009           NaN  \n",
              "6       0.723507      0.282790      0.688418           NaN  \n",
              "7    2066.000000   2066.000000   2066.000000           NaN  \n",
              "8       0.761784      0.310013      0.698576      0.127007  \n",
              "9       0.755656      0.293601      0.755656      0.126922  \n",
              "10      0.758708      0.289697      0.722808      0.126951  \n",
              "11   1989.000000   1989.000000   1989.000000   1989.000000  "
            ]
          },
          "execution_count": 17,
          "metadata": {},
          "output_type": "execute_result"
        }
      ],
      "source": [
        "print(suf)\n",
        "\n",
        "os.mkdir('flair_ner_model'+suf+'/classification_report')\n",
        "plotter.plot_training_curves('flair_ner_model'+suf+'/loss.tsv')\n",
        "\n",
        "# evaluate the tagger on the test set\n",
        "result = tagger.evaluate(corpus.train, \n",
        "                         embeddings_storage_mode='gpu',\n",
        "                         mini_batch_size=15,\n",
        "                         main_evaluation_metric = (\"weighted avg\", \"f1-score\"),\n",
        "                         gold_label_type='ner',\n",
        "                         gold_label_dictionary=tag_dictionary)\n",
        "open('flair_ner_model'+suf+'/classification_report/train.txt', 'w').write(str(result))\n",
        "res1 = pd.DataFrame.from_dict(result.classification_report).reset_index()\n",
        "res1.insert(loc=0, column='split', value='train')\n",
        "\n",
        "result = tagger.evaluate(corpus.dev, \n",
        "                         embeddings_storage_mode='gpu',\n",
        "                         mini_batch_size=15,\n",
        "                         main_evaluation_metric = (\"weighted avg\", \"f1-score\"),\n",
        "                         gold_label_type='ner',\n",
        "                         gold_label_dictionary=tag_dictionary)\n",
        "open('flair_ner_model'+suf+'/classification_report/dev.txt', 'w').write(str(result))\n",
        "res2 = pd.DataFrame.from_dict(result.classification_report).reset_index()\n",
        "res2.insert(loc=0, column='split', value='dev')\n",
        "\n",
        "result = tagger.evaluate(corpus.test, \n",
        "                         embeddings_storage_mode='gpu',\n",
        "                         mini_batch_size=15,\n",
        "                         main_evaluation_metric = (\"weighted avg\", \"f1-score\"),\n",
        "                         gold_label_type='ner',\n",
        "                         gold_label_dictionary=tag_dictionary)\n",
        "open('flair_ner_model'+suf+'/classification_report/test.txt', 'w').write(str(result))\n",
        "res3 = pd.DataFrame.from_dict(result.classification_report).reset_index()\n",
        "res3.insert(loc=0, column='split', value='test')\n",
        "\n",
        "res = pd.concat([res1,res2,res3],ignore_index=True)\n",
        "res.to_csv('flair_ner_model'+suf+'/classification_report.csv',index=False)\n",
        "res"
      ]
    },
    {
      "cell_type": "code",
      "execution_count": 18,
      "metadata": {
        "id": "VvIDCtYJkY-G"
      },
      "outputs": [],
      "source": [
        "# import time\n",
        "# start_time = time.time()\n",
        "# while time.time() - start_time < 1:\n",
        "#     time.sleep(1)\n",
        "# print('Session has timed out (2 minutes). Disconnecting...')\n",
        "# !kill -9 -1"
      ]
    },
    {
      "cell_type": "markdown",
      "metadata": {
        "id": "tGILL4RFtGil"
      },
      "source": [
        "Layering can be a good idea if the NER tags in the first layer have their own set of dependent values in the second layer. This can help capture more information about the entities being recognized and provide more context for downstream tasks. However, it also increases the complexity of the annotation and the training process, so it should be used judiciously. In general, it's a good idea to start with a simple tag scheme and gradually increase complexity as needed."
      ]
    },
    {
      "cell_type": "markdown",
      "metadata": {
        "id": "JoZ5D6aEtGin"
      },
      "source": [
        "    does it really matter if u use the E header\n",
        "\n",
        "It depends on the specific task and the requirements of the downstream model. In some cases, using the E tag can help disambiguate between overlapping entities, while in other cases it may not be necessary or even desired. Ultimately, it's up to the developer to determine the appropriate tagging scheme for their specific use case."
      ]
    },
    {
      "cell_type": "markdown",
      "metadata": {
        "id": "BGt2RhM6tGin"
      },
      "source": [
        "    would adding POS as an extra NER layer help model performance or not\n",
        "\n",
        "Adding POS as an extra NER layer may or may not help model performance, depending on the specific use case and data being analyzed.\n",
        "\n",
        "On one hand, incorporating POS tags could provide additional context to the model and help it better distinguish between named entities and other parts of speech. For example, knowing that a word is a noun or verb could help the model determine if it is likely to be a named entity or not.\n",
        "\n",
        "On the other hand, adding an additional layer could also increase model complexity and training time without necessarily improving performance. It may also require additional manual annotation efforts to create a labeled dataset with both NER and POS tags.\n",
        "\n",
        "Ultimately, whether to include POS as an additional layer will depend on the specific requirements and goals of the project, as well as the available data and resources."
      ]
    },
    {
      "cell_type": "markdown",
      "metadata": {
        "id": "6zpEn1bgtGin"
      },
      "source": [
        "    besides bioes ordering (which is up-to-down), it doesn't matter what order the tags in the same domain appear in left-to-right?\n",
        "\n",
        "Yes, that is correct. As long as the BIOES order is maintained vertically, the order of tags in the same domain from left-to-right should not impact training in flai"
      ]
    },
    {
      "cell_type": "markdown",
      "metadata": {
        "id": "yrmL98VatGin"
      },
      "source": [
        "    different typenames must be treated as separate tasks?\n",
        "\n",
        "Yes, that's correct. Different typenames should be treated as separate tasks because they represent different types of annotations that you want to predict. For example, in a biomedical NER task, you might want to predict the entity types of both drugs and diseases, which would be represented by two different typenames in your annotation data. Predicting both types of entities would require different models and possibly different evaluation metrics."
      ]
    }
  ],
  "metadata": {
    "accelerator": "GPU",
    "colab": {
      "gpuType": "A100",
      "provenance": []
    },
    "gpuClass": "standard",
    "kernelspec": {
      "display_name": "flair",
      "language": "python",
      "name": "python3"
    },
    "language_info": {
      "codemirror_mode": {
        "name": "ipython",
        "version": 3
      },
      "file_extension": ".py",
      "mimetype": "text/x-python",
      "name": "python",
      "nbconvert_exporter": "python",
      "pygments_lexer": "ipython3",
      "version": "3.9.16"
    },
    "vscode": {
      "interpreter": {
        "hash": "381c8abc3392c5f20473858f182d9ac4a53ef053fb1f276fcb4936938616c3f3"
      }
    },
    "widgets": {
      "application/vnd.jupyter.widget-state+json": {
        "0c0f61469d634eaeb5197b52b6c736da": {
          "model_module": "@jupyter-widgets/base",
          "model_module_version": "1.2.0",
          "model_name": "LayoutModel",
          "state": {
            "_model_module": "@jupyter-widgets/base",
            "_model_module_version": "1.2.0",
            "_model_name": "LayoutModel",
            "_view_count": null,
            "_view_module": "@jupyter-widgets/base",
            "_view_module_version": "1.2.0",
            "_view_name": "LayoutView",
            "align_content": null,
            "align_items": null,
            "align_self": null,
            "border": null,
            "bottom": null,
            "display": null,
            "flex": null,
            "flex_flow": null,
            "grid_area": null,
            "grid_auto_columns": null,
            "grid_auto_flow": null,
            "grid_auto_rows": null,
            "grid_column": null,
            "grid_gap": null,
            "grid_row": null,
            "grid_template_areas": null,
            "grid_template_columns": null,
            "grid_template_rows": null,
            "height": null,
            "justify_content": null,
            "justify_items": null,
            "left": null,
            "margin": null,
            "max_height": null,
            "max_width": null,
            "min_height": null,
            "min_width": null,
            "object_fit": null,
            "object_position": null,
            "order": null,
            "overflow": null,
            "overflow_x": null,
            "overflow_y": null,
            "padding": null,
            "right": null,
            "top": null,
            "visibility": null,
            "width": null
          }
        },
        "0d66c83e466c41bc9cbb4ca6b6a8db3f": {
          "model_module": "@jupyter-widgets/controls",
          "model_module_version": "1.5.0",
          "model_name": "DescriptionStyleModel",
          "state": {
            "_model_module": "@jupyter-widgets/controls",
            "_model_module_version": "1.5.0",
            "_model_name": "DescriptionStyleModel",
            "_view_count": null,
            "_view_module": "@jupyter-widgets/base",
            "_view_module_version": "1.2.0",
            "_view_name": "StyleView",
            "description_width": ""
          }
        },
        "1721637b9e8e4b3e9ea34407b660cc4e": {
          "model_module": "@jupyter-widgets/controls",
          "model_module_version": "1.5.0",
          "model_name": "FloatProgressModel",
          "state": {
            "_dom_classes": [],
            "_model_module": "@jupyter-widgets/controls",
            "_model_module_version": "1.5.0",
            "_model_name": "FloatProgressModel",
            "_view_count": null,
            "_view_module": "@jupyter-widgets/controls",
            "_view_module_version": "1.5.0",
            "_view_name": "ProgressView",
            "bar_style": "success",
            "description": "",
            "description_tooltip": null,
            "layout": "IPY_MODEL_56f49e6138cf426d965a465feaa8d3d4",
            "max": 414,
            "min": 0,
            "orientation": "horizontal",
            "style": "IPY_MODEL_685896a0f3f54219bba45146e45be370",
            "value": 414
          }
        },
        "1ae19e59bf2342d4b647fa06e3acf047": {
          "model_module": "@jupyter-widgets/controls",
          "model_module_version": "1.5.0",
          "model_name": "DescriptionStyleModel",
          "state": {
            "_model_module": "@jupyter-widgets/controls",
            "_model_module_version": "1.5.0",
            "_model_name": "DescriptionStyleModel",
            "_view_count": null,
            "_view_module": "@jupyter-widgets/base",
            "_view_module_version": "1.2.0",
            "_view_name": "StyleView",
            "description_width": ""
          }
        },
        "2d849d81cb0e49dfa366379c94040c74": {
          "model_module": "@jupyter-widgets/controls",
          "model_module_version": "1.5.0",
          "model_name": "HBoxModel",
          "state": {
            "_dom_classes": [],
            "_model_module": "@jupyter-widgets/controls",
            "_model_module_version": "1.5.0",
            "_model_name": "HBoxModel",
            "_view_count": null,
            "_view_module": "@jupyter-widgets/controls",
            "_view_module_version": "1.5.0",
            "_view_name": "HBoxView",
            "box_style": "",
            "children": [
              "IPY_MODEL_a703b4f7036a4c8090f5f5e12ba23568",
              "IPY_MODEL_1721637b9e8e4b3e9ea34407b660cc4e",
              "IPY_MODEL_75c87114cb9b4bac99f211814c3602b8"
            ],
            "layout": "IPY_MODEL_b0e30cfc6d2d4d999ae0b79a9516af99"
          }
        },
        "3530f97cce8047ff801dc5b7a7705d27": {
          "model_module": "@jupyter-widgets/controls",
          "model_module_version": "1.5.0",
          "model_name": "DescriptionStyleModel",
          "state": {
            "_model_module": "@jupyter-widgets/controls",
            "_model_module_version": "1.5.0",
            "_model_name": "DescriptionStyleModel",
            "_view_count": null,
            "_view_module": "@jupyter-widgets/base",
            "_view_module_version": "1.2.0",
            "_view_name": "StyleView",
            "description_width": ""
          }
        },
        "4908cf605ec346609a2a4c588240a033": {
          "model_module": "@jupyter-widgets/base",
          "model_module_version": "1.2.0",
          "model_name": "LayoutModel",
          "state": {
            "_model_module": "@jupyter-widgets/base",
            "_model_module_version": "1.2.0",
            "_model_name": "LayoutModel",
            "_view_count": null,
            "_view_module": "@jupyter-widgets/base",
            "_view_module_version": "1.2.0",
            "_view_name": "LayoutView",
            "align_content": null,
            "align_items": null,
            "align_self": null,
            "border": null,
            "bottom": null,
            "display": null,
            "flex": null,
            "flex_flow": null,
            "grid_area": null,
            "grid_auto_columns": null,
            "grid_auto_flow": null,
            "grid_auto_rows": null,
            "grid_column": null,
            "grid_gap": null,
            "grid_row": null,
            "grid_template_areas": null,
            "grid_template_columns": null,
            "grid_template_rows": null,
            "height": null,
            "justify_content": null,
            "justify_items": null,
            "left": null,
            "margin": null,
            "max_height": null,
            "max_width": null,
            "min_height": null,
            "min_width": null,
            "object_fit": null,
            "object_position": null,
            "order": null,
            "overflow": null,
            "overflow_x": null,
            "overflow_y": null,
            "padding": null,
            "right": null,
            "top": null,
            "visibility": null,
            "width": null
          }
        },
        "4f6113838f864778b4420f9645aebbf9": {
          "model_module": "@jupyter-widgets/controls",
          "model_module_version": "1.5.0",
          "model_name": "DescriptionStyleModel",
          "state": {
            "_model_module": "@jupyter-widgets/controls",
            "_model_module_version": "1.5.0",
            "_model_name": "DescriptionStyleModel",
            "_view_count": null,
            "_view_module": "@jupyter-widgets/base",
            "_view_module_version": "1.2.0",
            "_view_name": "StyleView",
            "description_width": ""
          }
        },
        "56f49e6138cf426d965a465feaa8d3d4": {
          "model_module": "@jupyter-widgets/base",
          "model_module_version": "1.2.0",
          "model_name": "LayoutModel",
          "state": {
            "_model_module": "@jupyter-widgets/base",
            "_model_module_version": "1.2.0",
            "_model_name": "LayoutModel",
            "_view_count": null,
            "_view_module": "@jupyter-widgets/base",
            "_view_module_version": "1.2.0",
            "_view_name": "LayoutView",
            "align_content": null,
            "align_items": null,
            "align_self": null,
            "border": null,
            "bottom": null,
            "display": null,
            "flex": null,
            "flex_flow": null,
            "grid_area": null,
            "grid_auto_columns": null,
            "grid_auto_flow": null,
            "grid_auto_rows": null,
            "grid_column": null,
            "grid_gap": null,
            "grid_row": null,
            "grid_template_areas": null,
            "grid_template_columns": null,
            "grid_template_rows": null,
            "height": null,
            "justify_content": null,
            "justify_items": null,
            "left": null,
            "margin": null,
            "max_height": null,
            "max_width": null,
            "min_height": null,
            "min_width": null,
            "object_fit": null,
            "object_position": null,
            "order": null,
            "overflow": null,
            "overflow_x": null,
            "overflow_y": null,
            "padding": null,
            "right": null,
            "top": null,
            "visibility": null,
            "width": null
          }
        },
        "613561b716cb4b76b6ecabd5cc3d1964": {
          "model_module": "@jupyter-widgets/controls",
          "model_module_version": "1.5.0",
          "model_name": "DescriptionStyleModel",
          "state": {
            "_model_module": "@jupyter-widgets/controls",
            "_model_module_version": "1.5.0",
            "_model_name": "DescriptionStyleModel",
            "_view_count": null,
            "_view_module": "@jupyter-widgets/base",
            "_view_module_version": "1.2.0",
            "_view_name": "StyleView",
            "description_width": ""
          }
        },
        "649c471f8cab45f4a36713054e3ae08d": {
          "model_module": "@jupyter-widgets/controls",
          "model_module_version": "1.5.0",
          "model_name": "HBoxModel",
          "state": {
            "_dom_classes": [],
            "_model_module": "@jupyter-widgets/controls",
            "_model_module_version": "1.5.0",
            "_model_name": "HBoxModel",
            "_view_count": null,
            "_view_module": "@jupyter-widgets/controls",
            "_view_module_version": "1.5.0",
            "_view_name": "HBoxView",
            "box_style": "",
            "children": [
              "IPY_MODEL_745c5ccb4c54467d82b420a63c1e54bd",
              "IPY_MODEL_f111259070b24b52b9c087ee05c85ba8",
              "IPY_MODEL_ff645cb4cf7d49edbf836f61dc55d809"
            ],
            "layout": "IPY_MODEL_8d09d20bd6d2465ab70ce9993b65c733"
          }
        },
        "685896a0f3f54219bba45146e45be370": {
          "model_module": "@jupyter-widgets/controls",
          "model_module_version": "1.5.0",
          "model_name": "ProgressStyleModel",
          "state": {
            "_model_module": "@jupyter-widgets/controls",
            "_model_module_version": "1.5.0",
            "_model_name": "ProgressStyleModel",
            "_view_count": null,
            "_view_module": "@jupyter-widgets/base",
            "_view_module_version": "1.2.0",
            "_view_name": "StyleView",
            "bar_color": null,
            "description_width": ""
          }
        },
        "6c51fa490b9c4ea2be1c3dc83a6d91c2": {
          "model_module": "@jupyter-widgets/controls",
          "model_module_version": "1.5.0",
          "model_name": "DescriptionStyleModel",
          "state": {
            "_model_module": "@jupyter-widgets/controls",
            "_model_module_version": "1.5.0",
            "_model_name": "DescriptionStyleModel",
            "_view_count": null,
            "_view_module": "@jupyter-widgets/base",
            "_view_module_version": "1.2.0",
            "_view_name": "StyleView",
            "description_width": ""
          }
        },
        "71b6042da1d942dd9c0c729aea5b1ed3": {
          "model_module": "@jupyter-widgets/controls",
          "model_module_version": "1.5.0",
          "model_name": "HTMLModel",
          "state": {
            "_dom_classes": [],
            "_model_module": "@jupyter-widgets/controls",
            "_model_module_version": "1.5.0",
            "_model_name": "HTMLModel",
            "_view_count": null,
            "_view_module": "@jupyter-widgets/controls",
            "_view_module_version": "1.5.0",
            "_view_name": "HTMLView",
            "description": "",
            "description_tooltip": null,
            "layout": "IPY_MODEL_4908cf605ec346609a2a4c588240a033",
            "placeholder": "​",
            "style": "IPY_MODEL_1ae19e59bf2342d4b647fa06e3acf047",
            "value": "Downloading pytorch_model.bin: 100%"
          }
        },
        "73b81bfaac4a45de92b7052ca1fc6336": {
          "model_module": "@jupyter-widgets/controls",
          "model_module_version": "1.5.0",
          "model_name": "HTMLModel",
          "state": {
            "_dom_classes": [],
            "_model_module": "@jupyter-widgets/controls",
            "_model_module_version": "1.5.0",
            "_model_name": "HTMLModel",
            "_view_count": null,
            "_view_module": "@jupyter-widgets/controls",
            "_view_module_version": "1.5.0",
            "_view_name": "HTMLView",
            "description": "",
            "description_tooltip": null,
            "layout": "IPY_MODEL_0c0f61469d634eaeb5197b52b6c736da",
            "placeholder": "​",
            "style": "IPY_MODEL_613561b716cb4b76b6ecabd5cc3d1964",
            "value": " 665M/665M [00:04&lt;00:00, 153MB/s]"
          }
        },
        "745c5ccb4c54467d82b420a63c1e54bd": {
          "model_module": "@jupyter-widgets/controls",
          "model_module_version": "1.5.0",
          "model_name": "HTMLModel",
          "state": {
            "_dom_classes": [],
            "_model_module": "@jupyter-widgets/controls",
            "_model_module_version": "1.5.0",
            "_model_name": "HTMLModel",
            "_view_count": null,
            "_view_module": "@jupyter-widgets/controls",
            "_view_module_version": "1.5.0",
            "_view_name": "HTMLView",
            "description": "",
            "description_tooltip": null,
            "layout": "IPY_MODEL_82e7626273be4a6ebaa4712ae2dc1e00",
            "placeholder": "​",
            "style": "IPY_MODEL_0d66c83e466c41bc9cbb4ca6b6a8db3f",
            "value": "Downloading (…)solve/main/vocab.txt: 100%"
          }
        },
        "75c87114cb9b4bac99f211814c3602b8": {
          "model_module": "@jupyter-widgets/controls",
          "model_module_version": "1.5.0",
          "model_name": "HTMLModel",
          "state": {
            "_dom_classes": [],
            "_model_module": "@jupyter-widgets/controls",
            "_model_module_version": "1.5.0",
            "_model_name": "HTMLModel",
            "_view_count": null,
            "_view_module": "@jupyter-widgets/controls",
            "_view_module_version": "1.5.0",
            "_view_name": "HTMLView",
            "description": "",
            "description_tooltip": null,
            "layout": "IPY_MODEL_b44aa9b3abd84dc3a827e100f0bca049",
            "placeholder": "​",
            "style": "IPY_MODEL_6c51fa490b9c4ea2be1c3dc83a6d91c2",
            "value": " 414/414 [00:00&lt;00:00, 24.4kB/s]"
          }
        },
        "78434eeeb52e4a26a2a7a5662fdbd47b": {
          "model_module": "@jupyter-widgets/base",
          "model_module_version": "1.2.0",
          "model_name": "LayoutModel",
          "state": {
            "_model_module": "@jupyter-widgets/base",
            "_model_module_version": "1.2.0",
            "_model_name": "LayoutModel",
            "_view_count": null,
            "_view_module": "@jupyter-widgets/base",
            "_view_module_version": "1.2.0",
            "_view_name": "LayoutView",
            "align_content": null,
            "align_items": null,
            "align_self": null,
            "border": null,
            "bottom": null,
            "display": null,
            "flex": null,
            "flex_flow": null,
            "grid_area": null,
            "grid_auto_columns": null,
            "grid_auto_flow": null,
            "grid_auto_rows": null,
            "grid_column": null,
            "grid_gap": null,
            "grid_row": null,
            "grid_template_areas": null,
            "grid_template_columns": null,
            "grid_template_rows": null,
            "height": null,
            "justify_content": null,
            "justify_items": null,
            "left": null,
            "margin": null,
            "max_height": null,
            "max_width": null,
            "min_height": null,
            "min_width": null,
            "object_fit": null,
            "object_position": null,
            "order": null,
            "overflow": null,
            "overflow_x": null,
            "overflow_y": null,
            "padding": null,
            "right": null,
            "top": null,
            "visibility": null,
            "width": null
          }
        },
        "7baea4a9e6e64b9a85da4af571873d89": {
          "model_module": "@jupyter-widgets/controls",
          "model_module_version": "1.5.0",
          "model_name": "HBoxModel",
          "state": {
            "_dom_classes": [],
            "_model_module": "@jupyter-widgets/controls",
            "_model_module_version": "1.5.0",
            "_model_name": "HBoxModel",
            "_view_count": null,
            "_view_module": "@jupyter-widgets/controls",
            "_view_module_version": "1.5.0",
            "_view_name": "HBoxView",
            "box_style": "",
            "children": [
              "IPY_MODEL_71b6042da1d942dd9c0c729aea5b1ed3",
              "IPY_MODEL_db455fae2ee14dcfb50b6e631b2c9716",
              "IPY_MODEL_73b81bfaac4a45de92b7052ca1fc6336"
            ],
            "layout": "IPY_MODEL_dac1a6cb781a44bc869d931823341148"
          }
        },
        "7f5af9acb8924921a196282faaaccf5d": {
          "model_module": "@jupyter-widgets/controls",
          "model_module_version": "1.5.0",
          "model_name": "ProgressStyleModel",
          "state": {
            "_model_module": "@jupyter-widgets/controls",
            "_model_module_version": "1.5.0",
            "_model_name": "ProgressStyleModel",
            "_view_count": null,
            "_view_module": "@jupyter-widgets/base",
            "_view_module_version": "1.2.0",
            "_view_name": "StyleView",
            "bar_color": null,
            "description_width": ""
          }
        },
        "82e7626273be4a6ebaa4712ae2dc1e00": {
          "model_module": "@jupyter-widgets/base",
          "model_module_version": "1.2.0",
          "model_name": "LayoutModel",
          "state": {
            "_model_module": "@jupyter-widgets/base",
            "_model_module_version": "1.2.0",
            "_model_name": "LayoutModel",
            "_view_count": null,
            "_view_module": "@jupyter-widgets/base",
            "_view_module_version": "1.2.0",
            "_view_name": "LayoutView",
            "align_content": null,
            "align_items": null,
            "align_self": null,
            "border": null,
            "bottom": null,
            "display": null,
            "flex": null,
            "flex_flow": null,
            "grid_area": null,
            "grid_auto_columns": null,
            "grid_auto_flow": null,
            "grid_auto_rows": null,
            "grid_column": null,
            "grid_gap": null,
            "grid_row": null,
            "grid_template_areas": null,
            "grid_template_columns": null,
            "grid_template_rows": null,
            "height": null,
            "justify_content": null,
            "justify_items": null,
            "left": null,
            "margin": null,
            "max_height": null,
            "max_width": null,
            "min_height": null,
            "min_width": null,
            "object_fit": null,
            "object_position": null,
            "order": null,
            "overflow": null,
            "overflow_x": null,
            "overflow_y": null,
            "padding": null,
            "right": null,
            "top": null,
            "visibility": null,
            "width": null
          }
        },
        "8a3c86b669cf454abe9112d2682d861c": {
          "model_module": "@jupyter-widgets/base",
          "model_module_version": "1.2.0",
          "model_name": "LayoutModel",
          "state": {
            "_model_module": "@jupyter-widgets/base",
            "_model_module_version": "1.2.0",
            "_model_name": "LayoutModel",
            "_view_count": null,
            "_view_module": "@jupyter-widgets/base",
            "_view_module_version": "1.2.0",
            "_view_name": "LayoutView",
            "align_content": null,
            "align_items": null,
            "align_self": null,
            "border": null,
            "bottom": null,
            "display": null,
            "flex": null,
            "flex_flow": null,
            "grid_area": null,
            "grid_auto_columns": null,
            "grid_auto_flow": null,
            "grid_auto_rows": null,
            "grid_column": null,
            "grid_gap": null,
            "grid_row": null,
            "grid_template_areas": null,
            "grid_template_columns": null,
            "grid_template_rows": null,
            "height": null,
            "justify_content": null,
            "justify_items": null,
            "left": null,
            "margin": null,
            "max_height": null,
            "max_width": null,
            "min_height": null,
            "min_width": null,
            "object_fit": null,
            "object_position": null,
            "order": null,
            "overflow": null,
            "overflow_x": null,
            "overflow_y": null,
            "padding": null,
            "right": null,
            "top": null,
            "visibility": null,
            "width": null
          }
        },
        "8d09d20bd6d2465ab70ce9993b65c733": {
          "model_module": "@jupyter-widgets/base",
          "model_module_version": "1.2.0",
          "model_name": "LayoutModel",
          "state": {
            "_model_module": "@jupyter-widgets/base",
            "_model_module_version": "1.2.0",
            "_model_name": "LayoutModel",
            "_view_count": null,
            "_view_module": "@jupyter-widgets/base",
            "_view_module_version": "1.2.0",
            "_view_name": "LayoutView",
            "align_content": null,
            "align_items": null,
            "align_self": null,
            "border": null,
            "bottom": null,
            "display": null,
            "flex": null,
            "flex_flow": null,
            "grid_area": null,
            "grid_auto_columns": null,
            "grid_auto_flow": null,
            "grid_auto_rows": null,
            "grid_column": null,
            "grid_gap": null,
            "grid_row": null,
            "grid_template_areas": null,
            "grid_template_columns": null,
            "grid_template_rows": null,
            "height": null,
            "justify_content": null,
            "justify_items": null,
            "left": null,
            "margin": null,
            "max_height": null,
            "max_width": null,
            "min_height": null,
            "min_width": null,
            "object_fit": null,
            "object_position": null,
            "order": null,
            "overflow": null,
            "overflow_x": null,
            "overflow_y": null,
            "padding": null,
            "right": null,
            "top": null,
            "visibility": null,
            "width": null
          }
        },
        "a703b4f7036a4c8090f5f5e12ba23568": {
          "model_module": "@jupyter-widgets/controls",
          "model_module_version": "1.5.0",
          "model_name": "HTMLModel",
          "state": {
            "_dom_classes": [],
            "_model_module": "@jupyter-widgets/controls",
            "_model_module_version": "1.5.0",
            "_model_name": "HTMLModel",
            "_view_count": null,
            "_view_module": "@jupyter-widgets/controls",
            "_view_module_version": "1.5.0",
            "_view_name": "HTMLView",
            "description": "",
            "description_tooltip": null,
            "layout": "IPY_MODEL_d1836d77a517475799f1ad2a7bd34b9e",
            "placeholder": "​",
            "style": "IPY_MODEL_4f6113838f864778b4420f9645aebbf9",
            "value": "Downloading (…)lve/main/config.json: 100%"
          }
        },
        "b0e30cfc6d2d4d999ae0b79a9516af99": {
          "model_module": "@jupyter-widgets/base",
          "model_module_version": "1.2.0",
          "model_name": "LayoutModel",
          "state": {
            "_model_module": "@jupyter-widgets/base",
            "_model_module_version": "1.2.0",
            "_model_name": "LayoutModel",
            "_view_count": null,
            "_view_module": "@jupyter-widgets/base",
            "_view_module_version": "1.2.0",
            "_view_name": "LayoutView",
            "align_content": null,
            "align_items": null,
            "align_self": null,
            "border": null,
            "bottom": null,
            "display": null,
            "flex": null,
            "flex_flow": null,
            "grid_area": null,
            "grid_auto_columns": null,
            "grid_auto_flow": null,
            "grid_auto_rows": null,
            "grid_column": null,
            "grid_gap": null,
            "grid_row": null,
            "grid_template_areas": null,
            "grid_template_columns": null,
            "grid_template_rows": null,
            "height": null,
            "justify_content": null,
            "justify_items": null,
            "left": null,
            "margin": null,
            "max_height": null,
            "max_width": null,
            "min_height": null,
            "min_width": null,
            "object_fit": null,
            "object_position": null,
            "order": null,
            "overflow": null,
            "overflow_x": null,
            "overflow_y": null,
            "padding": null,
            "right": null,
            "top": null,
            "visibility": null,
            "width": null
          }
        },
        "b44aa9b3abd84dc3a827e100f0bca049": {
          "model_module": "@jupyter-widgets/base",
          "model_module_version": "1.2.0",
          "model_name": "LayoutModel",
          "state": {
            "_model_module": "@jupyter-widgets/base",
            "_model_module_version": "1.2.0",
            "_model_name": "LayoutModel",
            "_view_count": null,
            "_view_module": "@jupyter-widgets/base",
            "_view_module_version": "1.2.0",
            "_view_name": "LayoutView",
            "align_content": null,
            "align_items": null,
            "align_self": null,
            "border": null,
            "bottom": null,
            "display": null,
            "flex": null,
            "flex_flow": null,
            "grid_area": null,
            "grid_auto_columns": null,
            "grid_auto_flow": null,
            "grid_auto_rows": null,
            "grid_column": null,
            "grid_gap": null,
            "grid_row": null,
            "grid_template_areas": null,
            "grid_template_columns": null,
            "grid_template_rows": null,
            "height": null,
            "justify_content": null,
            "justify_items": null,
            "left": null,
            "margin": null,
            "max_height": null,
            "max_width": null,
            "min_height": null,
            "min_width": null,
            "object_fit": null,
            "object_position": null,
            "order": null,
            "overflow": null,
            "overflow_x": null,
            "overflow_y": null,
            "padding": null,
            "right": null,
            "top": null,
            "visibility": null,
            "width": null
          }
        },
        "c50c577a465c4033a43c256881303b5d": {
          "model_module": "@jupyter-widgets/base",
          "model_module_version": "1.2.0",
          "model_name": "LayoutModel",
          "state": {
            "_model_module": "@jupyter-widgets/base",
            "_model_module_version": "1.2.0",
            "_model_name": "LayoutModel",
            "_view_count": null,
            "_view_module": "@jupyter-widgets/base",
            "_view_module_version": "1.2.0",
            "_view_name": "LayoutView",
            "align_content": null,
            "align_items": null,
            "align_self": null,
            "border": null,
            "bottom": null,
            "display": null,
            "flex": null,
            "flex_flow": null,
            "grid_area": null,
            "grid_auto_columns": null,
            "grid_auto_flow": null,
            "grid_auto_rows": null,
            "grid_column": null,
            "grid_gap": null,
            "grid_row": null,
            "grid_template_areas": null,
            "grid_template_columns": null,
            "grid_template_rows": null,
            "height": null,
            "justify_content": null,
            "justify_items": null,
            "left": null,
            "margin": null,
            "max_height": null,
            "max_width": null,
            "min_height": null,
            "min_width": null,
            "object_fit": null,
            "object_position": null,
            "order": null,
            "overflow": null,
            "overflow_x": null,
            "overflow_y": null,
            "padding": null,
            "right": null,
            "top": null,
            "visibility": null,
            "width": null
          }
        },
        "d1836d77a517475799f1ad2a7bd34b9e": {
          "model_module": "@jupyter-widgets/base",
          "model_module_version": "1.2.0",
          "model_name": "LayoutModel",
          "state": {
            "_model_module": "@jupyter-widgets/base",
            "_model_module_version": "1.2.0",
            "_model_name": "LayoutModel",
            "_view_count": null,
            "_view_module": "@jupyter-widgets/base",
            "_view_module_version": "1.2.0",
            "_view_name": "LayoutView",
            "align_content": null,
            "align_items": null,
            "align_self": null,
            "border": null,
            "bottom": null,
            "display": null,
            "flex": null,
            "flex_flow": null,
            "grid_area": null,
            "grid_auto_columns": null,
            "grid_auto_flow": null,
            "grid_auto_rows": null,
            "grid_column": null,
            "grid_gap": null,
            "grid_row": null,
            "grid_template_areas": null,
            "grid_template_columns": null,
            "grid_template_rows": null,
            "height": null,
            "justify_content": null,
            "justify_items": null,
            "left": null,
            "margin": null,
            "max_height": null,
            "max_width": null,
            "min_height": null,
            "min_width": null,
            "object_fit": null,
            "object_position": null,
            "order": null,
            "overflow": null,
            "overflow_x": null,
            "overflow_y": null,
            "padding": null,
            "right": null,
            "top": null,
            "visibility": null,
            "width": null
          }
        },
        "dac1a6cb781a44bc869d931823341148": {
          "model_module": "@jupyter-widgets/base",
          "model_module_version": "1.2.0",
          "model_name": "LayoutModel",
          "state": {
            "_model_module": "@jupyter-widgets/base",
            "_model_module_version": "1.2.0",
            "_model_name": "LayoutModel",
            "_view_count": null,
            "_view_module": "@jupyter-widgets/base",
            "_view_module_version": "1.2.0",
            "_view_name": "LayoutView",
            "align_content": null,
            "align_items": null,
            "align_self": null,
            "border": null,
            "bottom": null,
            "display": null,
            "flex": null,
            "flex_flow": null,
            "grid_area": null,
            "grid_auto_columns": null,
            "grid_auto_flow": null,
            "grid_auto_rows": null,
            "grid_column": null,
            "grid_gap": null,
            "grid_row": null,
            "grid_template_areas": null,
            "grid_template_columns": null,
            "grid_template_rows": null,
            "height": null,
            "justify_content": null,
            "justify_items": null,
            "left": null,
            "margin": null,
            "max_height": null,
            "max_width": null,
            "min_height": null,
            "min_width": null,
            "object_fit": null,
            "object_position": null,
            "order": null,
            "overflow": null,
            "overflow_x": null,
            "overflow_y": null,
            "padding": null,
            "right": null,
            "top": null,
            "visibility": null,
            "width": null
          }
        },
        "db455fae2ee14dcfb50b6e631b2c9716": {
          "model_module": "@jupyter-widgets/controls",
          "model_module_version": "1.5.0",
          "model_name": "FloatProgressModel",
          "state": {
            "_dom_classes": [],
            "_model_module": "@jupyter-widgets/controls",
            "_model_module_version": "1.5.0",
            "_model_name": "FloatProgressModel",
            "_view_count": null,
            "_view_module": "@jupyter-widgets/controls",
            "_view_module_version": "1.5.0",
            "_view_name": "ProgressView",
            "bar_style": "success",
            "description": "",
            "description_tooltip": null,
            "layout": "IPY_MODEL_c50c577a465c4033a43c256881303b5d",
            "max": 665132540,
            "min": 0,
            "orientation": "horizontal",
            "style": "IPY_MODEL_e26ae6a491bd4f4ca6cc1ae54c4e3bea",
            "value": 665132540
          }
        },
        "e26ae6a491bd4f4ca6cc1ae54c4e3bea": {
          "model_module": "@jupyter-widgets/controls",
          "model_module_version": "1.5.0",
          "model_name": "ProgressStyleModel",
          "state": {
            "_model_module": "@jupyter-widgets/controls",
            "_model_module_version": "1.5.0",
            "_model_name": "ProgressStyleModel",
            "_view_count": null,
            "_view_module": "@jupyter-widgets/base",
            "_view_module_version": "1.2.0",
            "_view_name": "StyleView",
            "bar_color": null,
            "description_width": ""
          }
        },
        "f111259070b24b52b9c087ee05c85ba8": {
          "model_module": "@jupyter-widgets/controls",
          "model_module_version": "1.5.0",
          "model_name": "FloatProgressModel",
          "state": {
            "_dom_classes": [],
            "_model_module": "@jupyter-widgets/controls",
            "_model_module_version": "1.5.0",
            "_model_name": "FloatProgressModel",
            "_view_count": null,
            "_view_module": "@jupyter-widgets/controls",
            "_view_module_version": "1.5.0",
            "_view_name": "ProgressView",
            "bar_style": "success",
            "description": "",
            "description_tooltip": null,
            "layout": "IPY_MODEL_78434eeeb52e4a26a2a7a5662fdbd47b",
            "max": 213450,
            "min": 0,
            "orientation": "horizontal",
            "style": "IPY_MODEL_7f5af9acb8924921a196282faaaccf5d",
            "value": 213450
          }
        },
        "ff645cb4cf7d49edbf836f61dc55d809": {
          "model_module": "@jupyter-widgets/controls",
          "model_module_version": "1.5.0",
          "model_name": "HTMLModel",
          "state": {
            "_dom_classes": [],
            "_model_module": "@jupyter-widgets/controls",
            "_model_module_version": "1.5.0",
            "_model_name": "HTMLModel",
            "_view_count": null,
            "_view_module": "@jupyter-widgets/controls",
            "_view_module_version": "1.5.0",
            "_view_name": "HTMLView",
            "description": "",
            "description_tooltip": null,
            "layout": "IPY_MODEL_8a3c86b669cf454abe9112d2682d861c",
            "placeholder": "​",
            "style": "IPY_MODEL_3530f97cce8047ff801dc5b7a7705d27",
            "value": " 213k/213k [00:00&lt;00:00, 9.10MB/s]"
          }
        }
      }
    }
  },
  "nbformat": 4,
  "nbformat_minor": 0
}
