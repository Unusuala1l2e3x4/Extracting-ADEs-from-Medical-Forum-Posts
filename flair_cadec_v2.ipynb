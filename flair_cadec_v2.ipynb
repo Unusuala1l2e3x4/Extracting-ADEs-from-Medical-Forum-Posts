{
  "cells": [
    {
      "cell_type": "code",
      "execution_count": 1,
      "metadata": {
        "colab": {
          "base_uri": "https://localhost:8080/"
        },
        "id": "XhIssB_etI8X",
        "outputId": "293aa4b5-07ba-4a4b-e49c-15e97d711937"
      },
      "outputs": [
        {
          "output_type": "stream",
          "name": "stdout",
          "text": [
            "Looking in indexes: https://pypi.org/simple, https://us-python.pkg.dev/colab-wheels/public/simple/\n",
            "Requirement already satisfied: flair in /usr/local/lib/python3.9/dist-packages (0.12.2)\n",
            "Requirement already satisfied: gensim>=3.8.0 in /usr/local/lib/python3.9/dist-packages (from flair) (4.3.1)\n",
            "Requirement already satisfied: wikipedia-api in /usr/local/lib/python3.9/dist-packages (from flair) (0.5.8)\n",
            "Requirement already satisfied: huggingface-hub>=0.10.0 in /usr/local/lib/python3.9/dist-packages (from flair) (0.13.4)\n",
            "Requirement already satisfied: hyperopt>=0.2.7 in /usr/local/lib/python3.9/dist-packages (from flair) (0.2.7)\n",
            "Requirement already satisfied: regex in /usr/local/lib/python3.9/dist-packages (from flair) (2022.10.31)\n",
            "Requirement already satisfied: mpld3==0.3 in /usr/local/lib/python3.9/dist-packages (from flair) (0.3)\n",
            "Requirement already satisfied: scikit-learn>=0.21.3 in /usr/local/lib/python3.9/dist-packages (from flair) (1.2.2)\n",
            "Requirement already satisfied: conllu>=4.0 in /usr/local/lib/python3.9/dist-packages (from flair) (4.5.2)\n",
            "Requirement already satisfied: boto3 in /usr/local/lib/python3.9/dist-packages (from flair) (1.26.117)\n",
            "Requirement already satisfied: segtok>=1.5.7 in /usr/local/lib/python3.9/dist-packages (from flair) (1.5.11)\n",
            "Requirement already satisfied: python-dateutil>=2.6.1 in /usr/local/lib/python3.9/dist-packages (from flair) (2.8.2)\n",
            "Requirement already satisfied: torch!=1.8,>=1.5.0 in /usr/local/lib/python3.9/dist-packages (from flair) (2.0.0+cu118)\n",
            "Requirement already satisfied: more-itertools in /usr/local/lib/python3.9/dist-packages (from flair) (9.1.0)\n",
            "Requirement already satisfied: bpemb>=0.3.2 in /usr/local/lib/python3.9/dist-packages (from flair) (0.3.4)\n",
            "Requirement already satisfied: langdetect in /usr/local/lib/python3.9/dist-packages (from flair) (1.0.9)\n",
            "Requirement already satisfied: lxml in /usr/local/lib/python3.9/dist-packages (from flair) (4.9.2)\n",
            "Requirement already satisfied: pptree in /usr/local/lib/python3.9/dist-packages (from flair) (3.1)\n",
            "Requirement already satisfied: ftfy in /usr/local/lib/python3.9/dist-packages (from flair) (6.1.1)\n",
            "Requirement already satisfied: pytorch-revgrad in /usr/local/lib/python3.9/dist-packages (from flair) (0.2.0)\n",
            "Requirement already satisfied: sqlitedict>=1.6.0 in /usr/local/lib/python3.9/dist-packages (from flair) (2.1.0)\n",
            "Requirement already satisfied: tqdm>=4.26.0 in /usr/local/lib/python3.9/dist-packages (from flair) (4.65.0)\n",
            "Requirement already satisfied: transformers[sentencepiece]>=4.18.0 in /usr/local/lib/python3.9/dist-packages (from flair) (4.28.1)\n",
            "Requirement already satisfied: deprecated>=1.2.4 in /usr/local/lib/python3.9/dist-packages (from flair) (1.2.13)\n",
            "Requirement already satisfied: janome in /usr/local/lib/python3.9/dist-packages (from flair) (0.4.2)\n",
            "Requirement already satisfied: matplotlib>=2.2.3 in /usr/local/lib/python3.9/dist-packages (from flair) (3.7.1)\n",
            "Requirement already satisfied: tabulate in /usr/local/lib/python3.9/dist-packages (from flair) (0.8.10)\n",
            "Requirement already satisfied: transformer-smaller-training-vocab>=0.2.1 in /usr/local/lib/python3.9/dist-packages (from flair) (0.2.3)\n",
            "Requirement already satisfied: gdown==4.4.0 in /usr/local/lib/python3.9/dist-packages (from flair) (4.4.0)\n",
            "Requirement already satisfied: requests[socks] in /usr/local/lib/python3.9/dist-packages (from gdown==4.4.0->flair) (2.27.1)\n",
            "Requirement already satisfied: six in /usr/local/lib/python3.9/dist-packages (from gdown==4.4.0->flair) (1.16.0)\n",
            "Requirement already satisfied: filelock in /usr/local/lib/python3.9/dist-packages (from gdown==4.4.0->flair) (3.11.0)\n",
            "Requirement already satisfied: beautifulsoup4 in /usr/local/lib/python3.9/dist-packages (from gdown==4.4.0->flair) (4.11.2)\n",
            "Requirement already satisfied: numpy in /usr/local/lib/python3.9/dist-packages (from bpemb>=0.3.2->flair) (1.22.4)\n",
            "Requirement already satisfied: sentencepiece in /usr/local/lib/python3.9/dist-packages (from bpemb>=0.3.2->flair) (0.1.98)\n",
            "Requirement already satisfied: wrapt<2,>=1.10 in /usr/local/lib/python3.9/dist-packages (from deprecated>=1.2.4->flair) (1.14.1)\n",
            "Requirement already satisfied: smart-open>=1.8.1 in /usr/local/lib/python3.9/dist-packages (from gensim>=3.8.0->flair) (6.3.0)\n",
            "Requirement already satisfied: scipy>=1.7.0 in /usr/local/lib/python3.9/dist-packages (from gensim>=3.8.0->flair) (1.10.1)\n",
            "Requirement already satisfied: pyyaml>=5.1 in /usr/local/lib/python3.9/dist-packages (from huggingface-hub>=0.10.0->flair) (6.0)\n",
            "Requirement already satisfied: packaging>=20.9 in /usr/local/lib/python3.9/dist-packages (from huggingface-hub>=0.10.0->flair) (23.1)\n",
            "Requirement already satisfied: typing-extensions>=3.7.4.3 in /usr/local/lib/python3.9/dist-packages (from huggingface-hub>=0.10.0->flair) (4.5.0)\n",
            "Requirement already satisfied: cloudpickle in /usr/local/lib/python3.9/dist-packages (from hyperopt>=0.2.7->flair) (2.2.1)\n",
            "Requirement already satisfied: future in /usr/local/lib/python3.9/dist-packages (from hyperopt>=0.2.7->flair) (0.18.3)\n",
            "Requirement already satisfied: py4j in /usr/local/lib/python3.9/dist-packages (from hyperopt>=0.2.7->flair) (0.10.9.7)\n",
            "Requirement already satisfied: networkx>=2.2 in /usr/local/lib/python3.9/dist-packages (from hyperopt>=0.2.7->flair) (3.1)\n",
            "Requirement already satisfied: pillow>=6.2.0 in /usr/local/lib/python3.9/dist-packages (from matplotlib>=2.2.3->flair) (8.4.0)\n",
            "Requirement already satisfied: fonttools>=4.22.0 in /usr/local/lib/python3.9/dist-packages (from matplotlib>=2.2.3->flair) (4.39.3)\n",
            "Requirement already satisfied: kiwisolver>=1.0.1 in /usr/local/lib/python3.9/dist-packages (from matplotlib>=2.2.3->flair) (1.4.4)\n",
            "Requirement already satisfied: pyparsing>=2.3.1 in /usr/local/lib/python3.9/dist-packages (from matplotlib>=2.2.3->flair) (3.0.9)\n",
            "Requirement already satisfied: cycler>=0.10 in /usr/local/lib/python3.9/dist-packages (from matplotlib>=2.2.3->flair) (0.11.0)\n",
            "Requirement already satisfied: importlib-resources>=3.2.0 in /usr/local/lib/python3.9/dist-packages (from matplotlib>=2.2.3->flair) (5.12.0)\n",
            "Requirement already satisfied: contourpy>=1.0.1 in /usr/local/lib/python3.9/dist-packages (from matplotlib>=2.2.3->flair) (1.0.7)\n",
            "Requirement already satisfied: threadpoolctl>=2.0.0 in /usr/local/lib/python3.9/dist-packages (from scikit-learn>=0.21.3->flair) (3.1.0)\n",
            "Requirement already satisfied: joblib>=1.1.1 in /usr/local/lib/python3.9/dist-packages (from scikit-learn>=0.21.3->flair) (1.2.0)\n",
            "Requirement already satisfied: jinja2 in /usr/local/lib/python3.9/dist-packages (from torch!=1.8,>=1.5.0->flair) (3.1.2)\n",
            "Requirement already satisfied: sympy in /usr/local/lib/python3.9/dist-packages (from torch!=1.8,>=1.5.0->flair) (1.11.1)\n",
            "Requirement already satisfied: triton==2.0.0 in /usr/local/lib/python3.9/dist-packages (from torch!=1.8,>=1.5.0->flair) (2.0.0)\n",
            "Requirement already satisfied: lit in /usr/local/lib/python3.9/dist-packages (from triton==2.0.0->torch!=1.8,>=1.5.0->flair) (16.0.1)\n",
            "Requirement already satisfied: cmake in /usr/local/lib/python3.9/dist-packages (from triton==2.0.0->torch!=1.8,>=1.5.0->flair) (3.25.2)\n",
            "Requirement already satisfied: datasets<3.0.0,>=2.0.0 in /usr/local/lib/python3.9/dist-packages (from transformer-smaller-training-vocab>=0.2.1->flair) (2.11.0)\n",
            "Requirement already satisfied: tokenizers!=0.11.3,<0.14,>=0.11.1 in /usr/local/lib/python3.9/dist-packages (from transformers[sentencepiece]>=4.18.0->flair) (0.13.3)\n",
            "Requirement already satisfied: protobuf<=3.20.2 in /usr/local/lib/python3.9/dist-packages (from transformers[sentencepiece]>=4.18.0->flair) (3.20.2)\n",
            "Requirement already satisfied: jmespath<2.0.0,>=0.7.1 in /usr/local/lib/python3.9/dist-packages (from boto3->flair) (1.0.1)\n",
            "Requirement already satisfied: s3transfer<0.7.0,>=0.6.0 in /usr/local/lib/python3.9/dist-packages (from boto3->flair) (0.6.0)\n",
            "Requirement already satisfied: botocore<1.30.0,>=1.29.117 in /usr/local/lib/python3.9/dist-packages (from boto3->flair) (1.29.117)\n",
            "Requirement already satisfied: wcwidth>=0.2.5 in /usr/local/lib/python3.9/dist-packages (from ftfy->flair) (0.2.6)\n",
            "Requirement already satisfied: urllib3<1.27,>=1.25.4 in /usr/local/lib/python3.9/dist-packages (from botocore<1.30.0,>=1.29.117->boto3->flair) (1.26.15)\n",
            "Requirement already satisfied: aiohttp in /usr/local/lib/python3.9/dist-packages (from datasets<3.0.0,>=2.0.0->transformer-smaller-training-vocab>=0.2.1->flair) (3.8.4)\n",
            "Requirement already satisfied: pyarrow>=8.0.0 in /usr/local/lib/python3.9/dist-packages (from datasets<3.0.0,>=2.0.0->transformer-smaller-training-vocab>=0.2.1->flair) (9.0.0)\n",
            "Requirement already satisfied: xxhash in /usr/local/lib/python3.9/dist-packages (from datasets<3.0.0,>=2.0.0->transformer-smaller-training-vocab>=0.2.1->flair) (3.2.0)\n",
            "Requirement already satisfied: dill<0.3.7,>=0.3.0 in /usr/local/lib/python3.9/dist-packages (from datasets<3.0.0,>=2.0.0->transformer-smaller-training-vocab>=0.2.1->flair) (0.3.6)\n",
            "Requirement already satisfied: fsspec[http]>=2021.11.1 in /usr/local/lib/python3.9/dist-packages (from datasets<3.0.0,>=2.0.0->transformer-smaller-training-vocab>=0.2.1->flair) (2023.4.0)\n",
            "Requirement already satisfied: responses<0.19 in /usr/local/lib/python3.9/dist-packages (from datasets<3.0.0,>=2.0.0->transformer-smaller-training-vocab>=0.2.1->flair) (0.18.0)\n",
            "Requirement already satisfied: multiprocess in /usr/local/lib/python3.9/dist-packages (from datasets<3.0.0,>=2.0.0->transformer-smaller-training-vocab>=0.2.1->flair) (0.70.14)\n",
            "Requirement already satisfied: pandas in /usr/local/lib/python3.9/dist-packages (from datasets<3.0.0,>=2.0.0->transformer-smaller-training-vocab>=0.2.1->flair) (1.5.3)\n",
            "Requirement already satisfied: zipp>=3.1.0 in /usr/local/lib/python3.9/dist-packages (from importlib-resources>=3.2.0->matplotlib>=2.2.3->flair) (3.15.0)\n",
            "Requirement already satisfied: charset-normalizer~=2.0.0 in /usr/local/lib/python3.9/dist-packages (from requests[socks]->gdown==4.4.0->flair) (2.0.12)\n",
            "Requirement already satisfied: certifi>=2017.4.17 in /usr/local/lib/python3.9/dist-packages (from requests[socks]->gdown==4.4.0->flair) (2022.12.7)\n",
            "Requirement already satisfied: idna<4,>=2.5 in /usr/local/lib/python3.9/dist-packages (from requests[socks]->gdown==4.4.0->flair) (3.4)\n",
            "Requirement already satisfied: soupsieve>1.2 in /usr/local/lib/python3.9/dist-packages (from beautifulsoup4->gdown==4.4.0->flair) (2.4.1)\n",
            "Requirement already satisfied: MarkupSafe>=2.0 in /usr/local/lib/python3.9/dist-packages (from jinja2->torch!=1.8,>=1.5.0->flair) (2.1.2)\n",
            "Requirement already satisfied: PySocks!=1.5.7,>=1.5.6 in /usr/local/lib/python3.9/dist-packages (from requests[socks]->gdown==4.4.0->flair) (1.7.1)\n",
            "Requirement already satisfied: mpmath>=0.19 in /usr/local/lib/python3.9/dist-packages (from sympy->torch!=1.8,>=1.5.0->flair) (1.3.0)\n",
            "Requirement already satisfied: yarl<2.0,>=1.0 in /usr/local/lib/python3.9/dist-packages (from aiohttp->datasets<3.0.0,>=2.0.0->transformer-smaller-training-vocab>=0.2.1->flair) (1.8.2)\n",
            "Requirement already satisfied: aiosignal>=1.1.2 in /usr/local/lib/python3.9/dist-packages (from aiohttp->datasets<3.0.0,>=2.0.0->transformer-smaller-training-vocab>=0.2.1->flair) (1.3.1)\n",
            "Requirement already satisfied: multidict<7.0,>=4.5 in /usr/local/lib/python3.9/dist-packages (from aiohttp->datasets<3.0.0,>=2.0.0->transformer-smaller-training-vocab>=0.2.1->flair) (6.0.4)\n",
            "Requirement already satisfied: attrs>=17.3.0 in /usr/local/lib/python3.9/dist-packages (from aiohttp->datasets<3.0.0,>=2.0.0->transformer-smaller-training-vocab>=0.2.1->flair) (23.1.0)\n",
            "Requirement already satisfied: frozenlist>=1.1.1 in /usr/local/lib/python3.9/dist-packages (from aiohttp->datasets<3.0.0,>=2.0.0->transformer-smaller-training-vocab>=0.2.1->flair) (1.3.3)\n",
            "Requirement already satisfied: async-timeout<5.0,>=4.0.0a3 in /usr/local/lib/python3.9/dist-packages (from aiohttp->datasets<3.0.0,>=2.0.0->transformer-smaller-training-vocab>=0.2.1->flair) (4.0.2)\n",
            "Requirement already satisfied: pytz>=2020.1 in /usr/local/lib/python3.9/dist-packages (from pandas->datasets<3.0.0,>=2.0.0->transformer-smaller-training-vocab>=0.2.1->flair) (2022.7.1)\n"
          ]
        }
      ],
      "source": [
        "!pip install flair"
      ]
    },
    {
      "cell_type": "code",
      "execution_count": 2,
      "metadata": {
        "id": "xONJpNLKtGie"
      },
      "outputs": [],
      "source": [
        "import pandas as pd\n",
        "import numpy as np\n",
        "import os, re, csv, string, random\n",
        "import flair\n",
        "# print(flair.__version__)\n",
        "\n",
        "\n",
        "import nltk\n",
        "from nltk.tokenize import RegexpTokenizer\n",
        "\n",
        "from flair.data import Sentence, Span, Corpus, Dictionary, Token\n",
        "from flair.embeddings import WordEmbeddings, DocumentPoolEmbeddings, FlairEmbeddings, StackedEmbeddings, TokenEmbeddings\n",
        "from flair.models import SequenceTagger\n",
        "\n",
        "from flair.datasets import ColumnCorpus\n",
        "from flair.trainers import ModelTrainer\n",
        "\n",
        "from typing import List, Tuple\n",
        "\n",
        "from sklearn.metrics import confusion_matrix, classification_report\n",
        "\n",
        "import seaborn as sns\n",
        "import pickle\n",
        "\n",
        "from tqdm.auto import tqdm, trange\n",
        "\n",
        "# import seaborn as sns\n",
        "import matplotlib.pyplot as plt\n",
        "from collections import Counter\n",
        "from itertools import chain\n",
        "# from flair.data import Sentence"
      ]
    },
    {
      "cell_type": "code",
      "execution_count": 3,
      "metadata": {
        "colab": {
          "base_uri": "https://localhost:8080/"
        },
        "id": "nw6RM8uotGih",
        "outputId": "d850bf2d-7bc6-44ca-c8b7-799c8670b279"
      },
      "outputs": [
        {
          "output_type": "stream",
          "name": "stdout",
          "text": [
            "Drive already mounted at /content/drive; to attempt to forcibly remount, call drive.mount(\"/content/drive\", force_remount=True).\n"
          ]
        }
      ],
      "source": [
        "from google.colab import drive\n",
        "drive.mount(\"/content/drive\")\n",
        "\n",
        "os.chdir('/content/drive/MyDrive/SI 630 project')\n",
        "# os.listdir('.')"
      ]
    },
    {
      "cell_type": "code",
      "execution_count": 4,
      "metadata": {
        "colab": {
          "base_uri": "https://localhost:8080/"
        },
        "id": "P9LwpBadtGih",
        "outputId": "704fb914-4baf-4ca0-a285-7619157624d9"
      },
      "outputs": [
        {
          "output_type": "execute_result",
          "data": {
            "text/plain": [
              "['sct',\n",
              " 'text',\n",
              " 'original - unedited version of edited files',\n",
              " 'meddra - unedited version of edited files',\n",
              " 'sct - unedited version of edited files',\n",
              " 'original',\n",
              " 'meddra']"
            ]
          },
          "metadata": {},
          "execution_count": 4
        }
      ],
      "source": [
        "os.listdir('datasets/CADEC/CADEC.v2/cadec')\n"
      ]
    },
    {
      "cell_type": "code",
      "execution_count": 5,
      "metadata": {
        "id": "VNZtmxiPb5uV"
      },
      "outputs": [],
      "source": [
        "suf = '_v2'\n",
        "\n",
        "data_save_dir = 'data'+suf"
      ]
    },
    {
      "cell_type": "code",
      "execution_count": 6,
      "metadata": {
        "colab": {
          "base_uri": "https://localhost:8080/",
          "height": 423
        },
        "id": "BIUl2-W9tGii",
        "outputId": "1d08f361-ad55-48bd-ea8b-43980f3feabf"
      },
      "outputs": [
        {
          "output_type": "execute_result",
          "data": {
            "text/plain": [
              "          ner        meddra  counts_exploded  counts  counts_exploded_rank\n",
              "0        Drug       Lipitor             1081    1073                     1\n",
              "1         ADR  CONCEPT_LESS             1016     266                     2\n",
              "2         ADR   Severe_pain              722     247                     3\n",
              "3         ADR       Myalgia              619     305                     4\n",
              "4         ADR          Pain              292     260                     5\n",
              "...       ...           ...              ...     ...                   ...\n",
              "1294  Finding      Senility                1       1                  1233\n",
              "1295     Drug      Seroquel                1       1                  1233\n",
              "1296     Drug      Solaraze                1       1                  1233\n",
              "1297     Drug       Tagamet                1       1                  1233\n",
              "1298     Drug  testosterone                1       1                  1233\n",
              "\n",
              "[1299 rows x 5 columns]"
            ],
            "text/html": [
              "\n",
              "  <div id=\"df-ac7b53be-a150-443d-bdb7-3eaa5103789a\">\n",
              "    <div class=\"colab-df-container\">\n",
              "      <div>\n",
              "<style scoped>\n",
              "    .dataframe tbody tr th:only-of-type {\n",
              "        vertical-align: middle;\n",
              "    }\n",
              "\n",
              "    .dataframe tbody tr th {\n",
              "        vertical-align: top;\n",
              "    }\n",
              "\n",
              "    .dataframe thead th {\n",
              "        text-align: right;\n",
              "    }\n",
              "</style>\n",
              "<table border=\"1\" class=\"dataframe\">\n",
              "  <thead>\n",
              "    <tr style=\"text-align: right;\">\n",
              "      <th></th>\n",
              "      <th>ner</th>\n",
              "      <th>meddra</th>\n",
              "      <th>counts_exploded</th>\n",
              "      <th>counts</th>\n",
              "      <th>counts_exploded_rank</th>\n",
              "    </tr>\n",
              "  </thead>\n",
              "  <tbody>\n",
              "    <tr>\n",
              "      <th>0</th>\n",
              "      <td>Drug</td>\n",
              "      <td>Lipitor</td>\n",
              "      <td>1081</td>\n",
              "      <td>1073</td>\n",
              "      <td>1</td>\n",
              "    </tr>\n",
              "    <tr>\n",
              "      <th>1</th>\n",
              "      <td>ADR</td>\n",
              "      <td>CONCEPT_LESS</td>\n",
              "      <td>1016</td>\n",
              "      <td>266</td>\n",
              "      <td>2</td>\n",
              "    </tr>\n",
              "    <tr>\n",
              "      <th>2</th>\n",
              "      <td>ADR</td>\n",
              "      <td>Severe_pain</td>\n",
              "      <td>722</td>\n",
              "      <td>247</td>\n",
              "      <td>3</td>\n",
              "    </tr>\n",
              "    <tr>\n",
              "      <th>3</th>\n",
              "      <td>ADR</td>\n",
              "      <td>Myalgia</td>\n",
              "      <td>619</td>\n",
              "      <td>305</td>\n",
              "      <td>4</td>\n",
              "    </tr>\n",
              "    <tr>\n",
              "      <th>4</th>\n",
              "      <td>ADR</td>\n",
              "      <td>Pain</td>\n",
              "      <td>292</td>\n",
              "      <td>260</td>\n",
              "      <td>5</td>\n",
              "    </tr>\n",
              "    <tr>\n",
              "      <th>...</th>\n",
              "      <td>...</td>\n",
              "      <td>...</td>\n",
              "      <td>...</td>\n",
              "      <td>...</td>\n",
              "      <td>...</td>\n",
              "    </tr>\n",
              "    <tr>\n",
              "      <th>1294</th>\n",
              "      <td>Finding</td>\n",
              "      <td>Senility</td>\n",
              "      <td>1</td>\n",
              "      <td>1</td>\n",
              "      <td>1233</td>\n",
              "    </tr>\n",
              "    <tr>\n",
              "      <th>1295</th>\n",
              "      <td>Drug</td>\n",
              "      <td>Seroquel</td>\n",
              "      <td>1</td>\n",
              "      <td>1</td>\n",
              "      <td>1233</td>\n",
              "    </tr>\n",
              "    <tr>\n",
              "      <th>1296</th>\n",
              "      <td>Drug</td>\n",
              "      <td>Solaraze</td>\n",
              "      <td>1</td>\n",
              "      <td>1</td>\n",
              "      <td>1233</td>\n",
              "    </tr>\n",
              "    <tr>\n",
              "      <th>1297</th>\n",
              "      <td>Drug</td>\n",
              "      <td>Tagamet</td>\n",
              "      <td>1</td>\n",
              "      <td>1</td>\n",
              "      <td>1233</td>\n",
              "    </tr>\n",
              "    <tr>\n",
              "      <th>1298</th>\n",
              "      <td>Drug</td>\n",
              "      <td>testosterone</td>\n",
              "      <td>1</td>\n",
              "      <td>1</td>\n",
              "      <td>1233</td>\n",
              "    </tr>\n",
              "  </tbody>\n",
              "</table>\n",
              "<p>1299 rows × 5 columns</p>\n",
              "</div>\n",
              "      <button class=\"colab-df-convert\" onclick=\"convertToInteractive('df-ac7b53be-a150-443d-bdb7-3eaa5103789a')\"\n",
              "              title=\"Convert this dataframe to an interactive table.\"\n",
              "              style=\"display:none;\">\n",
              "        \n",
              "  <svg xmlns=\"http://www.w3.org/2000/svg\" height=\"24px\"viewBox=\"0 0 24 24\"\n",
              "       width=\"24px\">\n",
              "    <path d=\"M0 0h24v24H0V0z\" fill=\"none\"/>\n",
              "    <path d=\"M18.56 5.44l.94 2.06.94-2.06 2.06-.94-2.06-.94-.94-2.06-.94 2.06-2.06.94zm-11 1L8.5 8.5l.94-2.06 2.06-.94-2.06-.94L8.5 2.5l-.94 2.06-2.06.94zm10 10l.94 2.06.94-2.06 2.06-.94-2.06-.94-.94-2.06-.94 2.06-2.06.94z\"/><path d=\"M17.41 7.96l-1.37-1.37c-.4-.4-.92-.59-1.43-.59-.52 0-1.04.2-1.43.59L10.3 9.45l-7.72 7.72c-.78.78-.78 2.05 0 2.83L4 21.41c.39.39.9.59 1.41.59.51 0 1.02-.2 1.41-.59l7.78-7.78 2.81-2.81c.8-.78.8-2.07 0-2.86zM5.41 20L4 18.59l7.72-7.72 1.47 1.35L5.41 20z\"/>\n",
              "  </svg>\n",
              "      </button>\n",
              "      \n",
              "  <style>\n",
              "    .colab-df-container {\n",
              "      display:flex;\n",
              "      flex-wrap:wrap;\n",
              "      gap: 12px;\n",
              "    }\n",
              "\n",
              "    .colab-df-convert {\n",
              "      background-color: #E8F0FE;\n",
              "      border: none;\n",
              "      border-radius: 50%;\n",
              "      cursor: pointer;\n",
              "      display: none;\n",
              "      fill: #1967D2;\n",
              "      height: 32px;\n",
              "      padding: 0 0 0 0;\n",
              "      width: 32px;\n",
              "    }\n",
              "\n",
              "    .colab-df-convert:hover {\n",
              "      background-color: #E2EBFA;\n",
              "      box-shadow: 0px 1px 2px rgba(60, 64, 67, 0.3), 0px 1px 3px 1px rgba(60, 64, 67, 0.15);\n",
              "      fill: #174EA6;\n",
              "    }\n",
              "\n",
              "    [theme=dark] .colab-df-convert {\n",
              "      background-color: #3B4455;\n",
              "      fill: #D2E3FC;\n",
              "    }\n",
              "\n",
              "    [theme=dark] .colab-df-convert:hover {\n",
              "      background-color: #434B5C;\n",
              "      box-shadow: 0px 1px 3px 1px rgba(0, 0, 0, 0.15);\n",
              "      filter: drop-shadow(0px 1px 2px rgba(0, 0, 0, 0.3));\n",
              "      fill: #FFFFFF;\n",
              "    }\n",
              "  </style>\n",
              "\n",
              "      <script>\n",
              "        const buttonEl =\n",
              "          document.querySelector('#df-ac7b53be-a150-443d-bdb7-3eaa5103789a button.colab-df-convert');\n",
              "        buttonEl.style.display =\n",
              "          google.colab.kernel.accessAllowed ? 'block' : 'none';\n",
              "\n",
              "        async function convertToInteractive(key) {\n",
              "          const element = document.querySelector('#df-ac7b53be-a150-443d-bdb7-3eaa5103789a');\n",
              "          const dataTable =\n",
              "            await google.colab.kernel.invokeFunction('convertToInteractive',\n",
              "                                                     [key], {});\n",
              "          if (!dataTable) return;\n",
              "\n",
              "          const docLinkHtml = 'Like what you see? Visit the ' +\n",
              "            '<a target=\"_blank\" href=https://colab.research.google.com/notebooks/data_table.ipynb>data table notebook</a>'\n",
              "            + ' to learn more about interactive tables.';\n",
              "          element.innerHTML = '';\n",
              "          dataTable['output_type'] = 'display_data';\n",
              "          await google.colab.output.renderOutput(dataTable, element);\n",
              "          const docLink = document.createElement('div');\n",
              "          docLink.innerHTML = docLinkHtml;\n",
              "          element.appendChild(docLink);\n",
              "        }\n",
              "      </script>\n",
              "    </div>\n",
              "  </div>\n",
              "  "
            ]
          },
          "metadata": {},
          "execution_count": 6
        }
      ],
      "source": [
        "meddra_counts = pd.read_csv(data_save_dir+'/meddra_counts.csv')\n",
        "meddra_counts"
      ]
    },
    {
      "cell_type": "code",
      "execution_count": 7,
      "metadata": {
        "colab": {
          "base_uri": "https://localhost:8080/",
          "height": 423
        },
        "id": "xzc4Zo0PtGii",
        "outputId": "ea99a2d4-6e17-47be-eae7-4dab0706a837"
      },
      "outputs": [
        {
          "output_type": "execute_result",
          "data": {
            "text/plain": [
              "      ner                       meddra  counts_exploded  counts  \\\n",
              "1     ADR                 CONCEPT_LESS             1016     266   \n",
              "2     ADR                  Severe_pain              722     247   \n",
              "3     ADR                      Myalgia              619     305   \n",
              "4     ADR                         Pain              292     260   \n",
              "5     ADR                   Arthralgia              280     163   \n",
              "...   ...                          ...              ...     ...   \n",
              "1268  ADR                Labyrinthitis                1       1   \n",
              "1269  ADR                    Dysphagia                1       1   \n",
              "1275  ADR          Lupus_erythematosus                1       1   \n",
              "1278  ADR                     Cataract                1       1   \n",
              "1283  ADR  Crying_associated_with_mood                1       1   \n",
              "\n",
              "      counts_exploded_rank  \n",
              "1                        2  \n",
              "2                        3  \n",
              "3                        4  \n",
              "4                        5  \n",
              "5                        6  \n",
              "...                    ...  \n",
              "1268                  1233  \n",
              "1269                  1233  \n",
              "1275                  1233  \n",
              "1278                  1233  \n",
              "1283                  1233  \n",
              "\n",
              "[800 rows x 5 columns]"
            ],
            "text/html": [
              "\n",
              "  <div id=\"df-2f0fef57-5422-4d06-8869-ca5c141095a9\">\n",
              "    <div class=\"colab-df-container\">\n",
              "      <div>\n",
              "<style scoped>\n",
              "    .dataframe tbody tr th:only-of-type {\n",
              "        vertical-align: middle;\n",
              "    }\n",
              "\n",
              "    .dataframe tbody tr th {\n",
              "        vertical-align: top;\n",
              "    }\n",
              "\n",
              "    .dataframe thead th {\n",
              "        text-align: right;\n",
              "    }\n",
              "</style>\n",
              "<table border=\"1\" class=\"dataframe\">\n",
              "  <thead>\n",
              "    <tr style=\"text-align: right;\">\n",
              "      <th></th>\n",
              "      <th>ner</th>\n",
              "      <th>meddra</th>\n",
              "      <th>counts_exploded</th>\n",
              "      <th>counts</th>\n",
              "      <th>counts_exploded_rank</th>\n",
              "    </tr>\n",
              "  </thead>\n",
              "  <tbody>\n",
              "    <tr>\n",
              "      <th>1</th>\n",
              "      <td>ADR</td>\n",
              "      <td>CONCEPT_LESS</td>\n",
              "      <td>1016</td>\n",
              "      <td>266</td>\n",
              "      <td>2</td>\n",
              "    </tr>\n",
              "    <tr>\n",
              "      <th>2</th>\n",
              "      <td>ADR</td>\n",
              "      <td>Severe_pain</td>\n",
              "      <td>722</td>\n",
              "      <td>247</td>\n",
              "      <td>3</td>\n",
              "    </tr>\n",
              "    <tr>\n",
              "      <th>3</th>\n",
              "      <td>ADR</td>\n",
              "      <td>Myalgia</td>\n",
              "      <td>619</td>\n",
              "      <td>305</td>\n",
              "      <td>4</td>\n",
              "    </tr>\n",
              "    <tr>\n",
              "      <th>4</th>\n",
              "      <td>ADR</td>\n",
              "      <td>Pain</td>\n",
              "      <td>292</td>\n",
              "      <td>260</td>\n",
              "      <td>5</td>\n",
              "    </tr>\n",
              "    <tr>\n",
              "      <th>5</th>\n",
              "      <td>ADR</td>\n",
              "      <td>Arthralgia</td>\n",
              "      <td>280</td>\n",
              "      <td>163</td>\n",
              "      <td>6</td>\n",
              "    </tr>\n",
              "    <tr>\n",
              "      <th>...</th>\n",
              "      <td>...</td>\n",
              "      <td>...</td>\n",
              "      <td>...</td>\n",
              "      <td>...</td>\n",
              "      <td>...</td>\n",
              "    </tr>\n",
              "    <tr>\n",
              "      <th>1268</th>\n",
              "      <td>ADR</td>\n",
              "      <td>Labyrinthitis</td>\n",
              "      <td>1</td>\n",
              "      <td>1</td>\n",
              "      <td>1233</td>\n",
              "    </tr>\n",
              "    <tr>\n",
              "      <th>1269</th>\n",
              "      <td>ADR</td>\n",
              "      <td>Dysphagia</td>\n",
              "      <td>1</td>\n",
              "      <td>1</td>\n",
              "      <td>1233</td>\n",
              "    </tr>\n",
              "    <tr>\n",
              "      <th>1275</th>\n",
              "      <td>ADR</td>\n",
              "      <td>Lupus_erythematosus</td>\n",
              "      <td>1</td>\n",
              "      <td>1</td>\n",
              "      <td>1233</td>\n",
              "    </tr>\n",
              "    <tr>\n",
              "      <th>1278</th>\n",
              "      <td>ADR</td>\n",
              "      <td>Cataract</td>\n",
              "      <td>1</td>\n",
              "      <td>1</td>\n",
              "      <td>1233</td>\n",
              "    </tr>\n",
              "    <tr>\n",
              "      <th>1283</th>\n",
              "      <td>ADR</td>\n",
              "      <td>Crying_associated_with_mood</td>\n",
              "      <td>1</td>\n",
              "      <td>1</td>\n",
              "      <td>1233</td>\n",
              "    </tr>\n",
              "  </tbody>\n",
              "</table>\n",
              "<p>800 rows × 5 columns</p>\n",
              "</div>\n",
              "      <button class=\"colab-df-convert\" onclick=\"convertToInteractive('df-2f0fef57-5422-4d06-8869-ca5c141095a9')\"\n",
              "              title=\"Convert this dataframe to an interactive table.\"\n",
              "              style=\"display:none;\">\n",
              "        \n",
              "  <svg xmlns=\"http://www.w3.org/2000/svg\" height=\"24px\"viewBox=\"0 0 24 24\"\n",
              "       width=\"24px\">\n",
              "    <path d=\"M0 0h24v24H0V0z\" fill=\"none\"/>\n",
              "    <path d=\"M18.56 5.44l.94 2.06.94-2.06 2.06-.94-2.06-.94-.94-2.06-.94 2.06-2.06.94zm-11 1L8.5 8.5l.94-2.06 2.06-.94-2.06-.94L8.5 2.5l-.94 2.06-2.06.94zm10 10l.94 2.06.94-2.06 2.06-.94-2.06-.94-.94-2.06-.94 2.06-2.06.94z\"/><path d=\"M17.41 7.96l-1.37-1.37c-.4-.4-.92-.59-1.43-.59-.52 0-1.04.2-1.43.59L10.3 9.45l-7.72 7.72c-.78.78-.78 2.05 0 2.83L4 21.41c.39.39.9.59 1.41.59.51 0 1.02-.2 1.41-.59l7.78-7.78 2.81-2.81c.8-.78.8-2.07 0-2.86zM5.41 20L4 18.59l7.72-7.72 1.47 1.35L5.41 20z\"/>\n",
              "  </svg>\n",
              "      </button>\n",
              "      \n",
              "  <style>\n",
              "    .colab-df-container {\n",
              "      display:flex;\n",
              "      flex-wrap:wrap;\n",
              "      gap: 12px;\n",
              "    }\n",
              "\n",
              "    .colab-df-convert {\n",
              "      background-color: #E8F0FE;\n",
              "      border: none;\n",
              "      border-radius: 50%;\n",
              "      cursor: pointer;\n",
              "      display: none;\n",
              "      fill: #1967D2;\n",
              "      height: 32px;\n",
              "      padding: 0 0 0 0;\n",
              "      width: 32px;\n",
              "    }\n",
              "\n",
              "    .colab-df-convert:hover {\n",
              "      background-color: #E2EBFA;\n",
              "      box-shadow: 0px 1px 2px rgba(60, 64, 67, 0.3), 0px 1px 3px 1px rgba(60, 64, 67, 0.15);\n",
              "      fill: #174EA6;\n",
              "    }\n",
              "\n",
              "    [theme=dark] .colab-df-convert {\n",
              "      background-color: #3B4455;\n",
              "      fill: #D2E3FC;\n",
              "    }\n",
              "\n",
              "    [theme=dark] .colab-df-convert:hover {\n",
              "      background-color: #434B5C;\n",
              "      box-shadow: 0px 1px 3px 1px rgba(0, 0, 0, 0.15);\n",
              "      filter: drop-shadow(0px 1px 2px rgba(0, 0, 0, 0.3));\n",
              "      fill: #FFFFFF;\n",
              "    }\n",
              "  </style>\n",
              "\n",
              "      <script>\n",
              "        const buttonEl =\n",
              "          document.querySelector('#df-2f0fef57-5422-4d06-8869-ca5c141095a9 button.colab-df-convert');\n",
              "        buttonEl.style.display =\n",
              "          google.colab.kernel.accessAllowed ? 'block' : 'none';\n",
              "\n",
              "        async function convertToInteractive(key) {\n",
              "          const element = document.querySelector('#df-2f0fef57-5422-4d06-8869-ca5c141095a9');\n",
              "          const dataTable =\n",
              "            await google.colab.kernel.invokeFunction('convertToInteractive',\n",
              "                                                     [key], {});\n",
              "          if (!dataTable) return;\n",
              "\n",
              "          const docLinkHtml = 'Like what you see? Visit the ' +\n",
              "            '<a target=\"_blank\" href=https://colab.research.google.com/notebooks/data_table.ipynb>data table notebook</a>'\n",
              "            + ' to learn more about interactive tables.';\n",
              "          element.innerHTML = '';\n",
              "          dataTable['output_type'] = 'display_data';\n",
              "          await google.colab.output.renderOutput(dataTable, element);\n",
              "          const docLink = document.createElement('div');\n",
              "          docLink.innerHTML = docLinkHtml;\n",
              "          element.appendChild(docLink);\n",
              "        }\n",
              "      </script>\n",
              "    </div>\n",
              "  </div>\n",
              "  "
            ]
          },
          "metadata": {},
          "execution_count": 7
        }
      ],
      "source": [
        "meddra_counts.loc[meddra_counts.ner == 'ADR',:]"
      ]
    },
    {
      "cell_type": "code",
      "execution_count": 8,
      "metadata": {
        "colab": {
          "base_uri": "https://localhost:8080/"
        },
        "id": "hAGPini7tGii",
        "outputId": "21347cac-9bc2-4df8-c92e-e94640f1b5b9"
      },
      "outputs": [
        {
          "output_type": "execute_result",
          "data": {
            "text/plain": [
              "[Sentence[117]: \"i feel a bit drowsy & have a little blurred vision , so far no gastric problems . ive been on arthrotec 50 for over 10 years on and off , only taking it when i needed it . due to my arthritis getting progressively worse , to the point where i am in tears with the agony , gp ' s started me on 75 twice a day and i have to take it . every day for the next month to see how i get on , here goes . so far its been very good , pains almost gone , but i feel a bit weird , didnt have that when on 50 .\" → [\"i\"/O/O, \"feel\"/O/O, \"a\"/O/O, \"bit\"/B-ADR/B-Drowsy, \"drowsy\"/E-ADR/E-Drowsy, \"&\"/O/O, \"have\"/O/O, \"a\"/O/O, \"little\"/B-ADR/B-Blurred_vision_-_hazy, \"blurred\"/I-ADR/I-Blurred_vision_-_hazy, \"vision\"/E-ADR/E-Blurred_vision_-_hazy, \",\"/O/O, \"so\"/O/O, \"far\"/O/O, \"no\"/O/O, \"gastric\"/B-ADR/B-Excessive_upper_gastrointestinal_gas, \"problems\"/E-ADR/E-Excessive_upper_gastrointestinal_gas, \".\"/O/O, \"ive\"/O/O, \"been\"/O/O, \"on\"/O/O, \"arthrotec\"/S-Drug/S-Arthrotec, \"50\"/O/O, \"for\"/O/O, \"over\"/O/O, \"10\"/O/O, \"years\"/O/O, \"on\"/O/O, \"and\"/O/O, \"off\"/O/O, \",\"/O/O, \"only\"/O/O, \"taking\"/O/O, \"it\"/O/O, \"when\"/O/O, \"i\"/O/O, \"needed\"/O/O, \"it\"/O/O, \".\"/O/O, \"due\"/O/O, \"to\"/O/O, \"my\"/O/O, \"arthritis\"/S-Disease/S-Arthritis, \"getting\"/O/O, \"progressively\"/O/O, \"worse\"/O/O, \",\"/O/O, \"to\"/O/O, \"the\"/O/O, \"point\"/O/O, \"where\"/O/O, \"i\"/O/O, \"am\"/O/O, \"in\"/O/O, \"tears\"/O/O, \"with\"/O/O, \"the\"/O/O, \"agony\"/S-Symptom/S-Agony, \",\"/O/O, \"gp\"/O/O, \"'\"/O/O, \"s\"/O/O, \"started\"/O/O, \"me\"/O/O, \"on\"/O/O, \"75\"/O/O, \"twice\"/O/O, \"a\"/O/O, \"day\"/O/O, \"and\"/O/O, \"i\"/O/O, \"have\"/O/O, \"to\"/O/O, \"take\"/O/O, \"it\"/O/O, \".\"/O/O, \"every\"/O/O, \"day\"/O/O, \"for\"/O/O, \"the\"/O/O, \"next\"/O/O, \"month\"/O/O, \"to\"/O/O, \"see\"/O/O, \"how\"/O/O, \"i\"/O/O, \"get\"/O/O, \"on\"/O/O, \",\"/O/O, \"here\"/O/O, \"goes\"/O/O, \".\"/O/O, \"so\"/O/O, \"far\"/O/O, \"its\"/O/O, \"been\"/O/O, \"very\"/O/O, \"good\"/O/O, \",\"/O/O, \"pains\"/S-Symptom/S-Pain, \"almost\"/O/O, \"gone\"/O/O, \",\"/O/O, \"but\"/O/O, \"i\"/O/O, \"feel\"/B-ADR/B-Malaise, \"a\"/I-ADR/I-Malaise, \"bit\"/I-ADR/I-Malaise, \"weird\"/E-ADR/E-Malaise, \",\"/O/O, \"didnt\"/O/O, \"have\"/O/O, \"that\"/O/O, \"when\"/O/O, \"on\"/O/O, \"50\"/O/O, \".\"/O/O],\n",
              " Sentence[39]: \"hunger pangs . brilliant , i have a new lease of life , i walk up & down steps properly , no longer sideways like a toddler , hip pain as gone other than if i jar it .\" → [\"hunger\"/B-ADR/B-Hunger_pain, \"pangs\"/E-ADR/E-Hunger_pain, \".\"/O/O, \"brilliant\"/O/O, \",\"/O/O, \"i\"/O/O, \"have\"/O/O, \"a\"/O/O, \"new\"/O/O, \"lease\"/O/O, \"of\"/O/O, \"life\"/O/O, \",\"/O/O, \"i\"/O/O, \"walk\"/B-Symptom/B-CONCEPT_LESS, \"up\"/I-Symptom/I-CONCEPT_LESS, \"&\"/I-Symptom/I-CONCEPT_LESS, \"down\"/I-Symptom/I-CONCEPT_LESS, \"steps\"/I-Symptom/I-CONCEPT_LESS, \"properly\"/O/O, \",\"/O/O, \"no\"/O/O, \"longer\"/O/O, \"sideways\"/E-Symptom/E-CONCEPT_LESS, \"like\"/O/O, \"a\"/O/O, \"toddler\"/O/O, \",\"/O/O, \"hip\"/B-Symptom/B-Hip_pain, \"pain\"/E-Symptom/E-Hip_pain, \"as\"/O/O, \"gone\"/O/O, \"other\"/O/O, \"than\"/O/O, \"if\"/O/O, \"i\"/O/O, \"jar\"/O/O, \"it\"/O/O, \".\"/O/O],\n",
              " Sentence[51]: \"no side effects for the first two months . then vaginal bleeding 2 wks after menstral cycle . stomach pain . canker sores in my mouth . headache . been off for 1 week still have bleeding . helped my pain alot . too scared to take this drug again .\" → [\"no\"/O/O, \"side\"/O/O, \"effects\"/O/O, \"for\"/O/O, \"the\"/O/O, \"first\"/O/O, \"two\"/O/O, \"months\"/O/O, \".\"/O/O, \"then\"/O/O, \"vaginal\"/B-ADR/B-Vaginal_bleeding, \"bleeding\"/E-ADR/E-Vaginal_bleeding, \"2\"/O/O, \"wks\"/O/O, \"after\"/O/O, \"menstral\"/O/O, \"cycle\"/O/O, \".\"/O/O, \"stomach\"/B-ADR/B-Stomach_ache, \"pain\"/E-ADR/E-Stomach_ache, \".\"/O/O, \"canker\"/B-ADR/B-Aphthous_ulcer, \"sores\"/E-ADR/E-Aphthous_ulcer, \"in\"/O/O, \"my\"/O/O, \"mouth\"/O/O, \".\"/O/O, \"headache\"/S-ADR/S-Headache, \".\"/O/O, \"been\"/O/O, \"off\"/O/O, \"for\"/O/O, \"1\"/O/O, \"week\"/O/O, \"still\"/O/O, \"have\"/O/O, \"bleeding\"/O/O, \".\"/O/O, \"helped\"/O/O, \"my\"/O/O, \"pain\"/S-Symptom/S-Pain, \"alot\"/O/O, \".\"/O/O, \"too\"/O/O, \"scared\"/O/O, \"to\"/O/O, \"take\"/O/O, \"this\"/O/O, \"drug\"/O/O, \"again\"/O/O, \".\"/O/O],\n",
              " Sentence[68]: \"1st pill taken with food , a few hours after i experienced shortness of breath , a sense of depression , cramping , upset stomache will stop taking immediately . honestly can not recommend this drug , i am still experiencing side effects just after 1 pill and im supposed to take twice / day 75mg . i just cant keep going have to try something else .\" → [\"1st\"/O/O, \"pill\"/O/O, \"taken\"/O/O, \"with\"/O/O, \"food\"/O/O, \",\"/O/O, \"a\"/O/O, \"few\"/O/O, \"hours\"/O/O, \"after\"/O/O, \"i\"/O/O, \"experienced\"/O/O, \"shortness\"/B-ADR/B-Dyspnoea, \"of\"/I-ADR/I-Dyspnoea, \"breath\"/E-ADR/E-Dyspnoea, \",\"/O/O, \"a\"/O/O, \"sense\"/O/O, \"of\"/O/O, \"depression\"/S-ADR/S-Depression, \",\"/O/O, \"cramping\"/S-ADR/S-Muscle_cramp, \",\"/O/O, \"upset\"/B-ADR/B-Upset_stomach, \"stomache\"/E-ADR/E-Upset_stomach, \"will\"/O/O, \"stop\"/O/O, \"taking\"/O/O, \"immediately\"/O/O, \".\"/O/O, \"honestly\"/O/O, \"can\"/O/O, \"not\"/O/O, \"recommend\"/O/O, \"this\"/O/O, \"drug\"/O/O, \",\"/O/O, \"i\"/O/O, \"am\"/O/O, \"still\"/O/O, \"experiencing\"/O/O, \"side\"/O/O, \"effects\"/O/O, \"just\"/O/O, \"after\"/O/O, \"1\"/O/O, \"pill\"/O/O, \"and\"/O/O, \"im\"/O/O, \"supposed\"/O/O, \"to\"/O/O, \"take\"/O/O, \"twice\"/O/O, \"/\"/O/O, \"day\"/O/O, \"75mg\"/O/O, \".\"/O/O, \"i\"/O/O, \"just\"/O/O, \"cant\"/O/O, \"keep\"/O/O, \"going\"/O/O, \"have\"/O/O, \"to\"/O/O, \"try\"/O/O, \"something\"/O/O, \"else\"/O/O, \".\"/O/O],\n",
              " Sentence[50]: \"i have had no side effects been taking arthrotec a little over a year , have not noticed any side effects . it does help alot i noticed that when there are times when i forget to take it i cant stand or walk for any lengths of time .\" → [\"i\"/O/O, \"have\"/O/O, \"had\"/O/O, \"no\"/O/O, \"side\"/O/O, \"effects\"/O/O, \"been\"/O/O, \"taking\"/O/O, \"arthrotec\"/S-Drug/S-Arthrotec, \"a\"/O/O, \"little\"/O/O, \"over\"/O/O, \"a\"/O/O, \"year\"/O/O, \",\"/O/O, \"have\"/O/O, \"not\"/O/O, \"noticed\"/O/O, \"any\"/O/O, \"side\"/O/O, \"effects\"/O/O, \".\"/O/O, \"it\"/O/O, \"does\"/O/O, \"help\"/O/O, \"alot\"/O/O, \"i\"/O/O, \"noticed\"/O/O, \"that\"/O/O, \"when\"/O/O, \"there\"/O/O, \"are\"/O/O, \"times\"/O/O, \"when\"/O/O, \"i\"/O/O, \"forget\"/O/O, \"to\"/O/O, \"take\"/O/O, \"it\"/O/O, \"i\"/B-Symptom/B-Reduced_mobility, \"cant\"/I-Symptom/I-Reduced_mobility, \"stand\"/I-Symptom/I-Reduced_mobility, \"or\"/I-Symptom/I-Reduced_mobility, \"walk\"/I-Symptom/I-Reduced_mobility, \"for\"/I-Symptom/I-Reduced_mobility, \"any\"/I-Symptom/I-Reduced_mobility, \"lengths\"/I-Symptom/I-Reduced_mobility, \"of\"/I-Symptom/I-Reduced_mobility, \"time\"/E-Symptom/E-Reduced_mobility, \".\"/O/O],\n",
              " Sentence[89]: \"it seems as if bleeding forever is a side effect but doctors tell you that its not the drug . i have been on arthotec for three months i still have pain and stiffness . at first week into this drug i was in so much pain i sat on the floor at work and thought i was gaving a baby . i always feel weak and almost fainted a bunch of times . consider somthing that works i am switching today as this isnt in my head .\" → [\"it\"/O/O, \"seems\"/O/O, \"as\"/O/O, \"if\"/O/O, \"bleeding\"/S-ADR/S-Bleeding, \"forever\"/O/O, \"is\"/O/O, \"a\"/O/O, \"side\"/O/O, \"effect\"/O/O, \"but\"/O/O, \"doctors\"/O/O, \"tell\"/O/O, \"you\"/O/O, \"that\"/O/O, \"its\"/O/O, \"not\"/O/O, \"the\"/O/O, \"drug\"/O/O, \".\"/O/O, \"i\"/O/O, \"have\"/O/O, \"been\"/O/O, \"on\"/O/O, \"arthotec\"/S-Drug/S-Arthrotec, \"for\"/O/O, \"three\"/O/O, \"months\"/O/O, \"i\"/O/O, \"still\"/O/O, \"have\"/O/O, \"pain\"/B-Symptom/B-Pain, \"and\"/I-Symptom/I-Pain, \"stiffness\"/E-Symptom/E-Pain, \".\"/O/O, \"at\"/O/O, \"first\"/O/O, \"week\"/O/O, \"into\"/O/O, \"this\"/O/O, \"drug\"/O/O, \"i\"/O/O, \"was\"/O/O, \"in\"/O/O, \"so\"/B-ADR/B-Pain, \"much\"/I-ADR/I-Pain, \"pain\"/E-ADR/E-Pain, \"i\"/O/O, \"sat\"/O/O, \"on\"/O/O, \"the\"/O/O, \"floor\"/O/O, \"at\"/O/O, \"work\"/O/O, \"and\"/O/O, \"thought\"/O/O, \"i\"/O/O, \"was\"/O/O, \"gaving\"/O/O, \"a\"/O/O, \"baby\"/O/O, \".\"/O/O, \"i\"/O/O, \"always\"/O/O, \"feel\"/B-ADR/B-Malaise_and_fatigue, \"weak\"/I-ADR/I-Malaise_and_fatigue, \"and\"/I-ADR/I-Malaise_and_fatigue, \"almost\"/I-ADR/I-Malaise_and_fatigue, \"fainted\"/E-ADR/E-Malaise_and_fatigue, \"a\"/O/O, \"bunch\"/O/O, \"of\"/O/O, \"times\"/O/O, \".\"/O/O, \"consider\"/O/O, \"somthing\"/O/O, \"that\"/O/O, \"works\"/O/O, \"i\"/O/O, \"am\"/O/O, \"switching\"/O/O, \"today\"/O/O, \"as\"/O/O, \"this\"/O/O, \"isnt\"/O/O, \"in\"/O/O, \"my\"/O/O, \"head\"/O/O, \".\"/O/O],\n",
              " Sentence[56]: \"some diarrhea , some constipation , fatigue . it works very well for the heel ; i couldnt walk on it very well before taking it . i take 75mg . twice a day . also have severe osteoarthritis in the knees and hands , but it doesnt seem to relieve that pain at all .\" → [\"some\"/O/O, \"diarrhea\"/S-ADR/S-Diarrhoea, \",\"/O/O, \"some\"/O/O, \"constipation\"/S-ADR/S-Constipation, \",\"/O/O, \"fatigue\"/S-ADR/S-Fatigue, \".\"/O/O, \"it\"/O/O, \"works\"/O/O, \"very\"/O/O, \"well\"/O/O, \"for\"/O/O, \"the\"/B-Symptom/B-Walking_disability, \"heel\"/I-Symptom/I-Walking_disability, \";\"/O/O, \"i\"/I-Symptom/I-Walking_disability, \"couldnt\"/I-Symptom/I-Walking_disability, \"walk\"/I-Symptom/I-Walking_disability, \"on\"/I-Symptom/I-Walking_disability, \"it\"/O/O, \"very\"/I-Symptom/I-Walking_disability, \"well\"/E-Symptom/E-Walking_disability, \"before\"/O/O, \"taking\"/O/O, \"it\"/O/O, \".\"/O/O, \"i\"/O/O, \"take\"/O/O, \"75mg\"/O/O, \".\"/O/O, \"twice\"/O/O, \"a\"/O/O, \"day\"/O/O, \".\"/O/O, \"also\"/O/O, \"have\"/O/O, \"severe\"/B-Disease/B-Osteoarthritis_of_knee/B-Osteoarthrosis_of_hand, \"osteoarthritis\"/I-Disease/I-Osteoarthritis_of_knee/I-Osteoarthrosis_of_hand, \"in\"/I-Disease/I-Osteoarthritis_of_knee/I-Osteoarthrosis_of_hand, \"the\"/I-Disease/I-Osteoarthritis_of_knee/I-Osteoarthrosis_of_hand, \"knees\"/E-Disease/E-Osteoarthritis_of_knee, \"and\"/O/O, \"hands\"/E-Disease/E-Osteoarthrosis_of_hand, \",\"/O/O, \"but\"/O/O, \"it\"/O/O, \"doesnt\"/O/O, \"seem\"/O/O, \"to\"/O/O, \"relieve\"/O/O, \"that\"/O/O, \"pain\"/S-Symptom/S-Pain, \"at\"/O/O, \"all\"/O/O, \".\"/O/O],\n",
              " Sentence[84]: \"ive been on 75mg twice daily for 13 days , with recent body swelling , face , wrists , abdomen , thighs - clothes fit tight . insomina is much worse . i have forgetfulnes and confussion - really bad - almost dangerous . have felt \" empty stomach \" feeling , but not bothersome . have had more loose stools , but tolerable . im looking for a more natural therapy , checking into ha ( hyaluronic acid ) to replace arthrotec .\" → [\"ive\"/O/O, \"been\"/O/O, \"on\"/O/O, \"75mg\"/O/O, \"twice\"/O/O, \"daily\"/O/O, \"for\"/O/O, \"13\"/O/O, \"days\"/O/O, \",\"/O/O, \"with\"/O/O, \"recent\"/O/O, \"body\"/B-ADR/B-Swelling_of_body_region, \"swelling\"/B-ADR/E-ADR/B-Abdominal_swelling/B-Facial_swelling/E-Swelling_of_body_region/B-Swelling_of_lower_limb/B-Swelling_of_wrist_joint, \",\"/O/O, \"face\"/E-ADR/E-Facial_swelling, \",\"/O/O, \"wrists\"/E-ADR/E-Swelling_of_wrist_joint, \",\"/O/O, \"abdomen\"/E-ADR/E-Abdominal_swelling, \",\"/O/O, \"thighs\"/E-ADR/E-Swelling_of_lower_limb, \"-\"/O/O, \"clothes\"/O/O, \"fit\"/O/O, \"tight\"/O/O, \".\"/O/O, \"insomina\"/S-ADR/S-Insomnia, \"is\"/O/O, \"much\"/O/O, \"worse\"/O/O, \".\"/O/O, \"i\"/O/O, \"have\"/O/O, \"forgetfulnes\"/B-ADR/B-Forgetful, \"and\"/I-ADR/I-Forgetful, \"confussion\"/E-ADR/E-Forgetful, \"-\"/O/O, \"really\"/O/O, \"bad\"/O/O, \"-\"/O/O, \"almost\"/O/O, \"dangerous\"/O/O, \".\"/O/O, \"have\"/O/O, \"felt\"/O/O, \"\"\"/B-ADR/B-Feeling_empty, \"empty\"/I-ADR/I-Feeling_empty, \"stomach\"/I-ADR/I-Feeling_empty, \"\"\"/I-ADR/I-Feeling_empty, \"feeling\"/E-ADR/E-Feeling_empty, \",\"/O/O, \"but\"/O/O, \"not\"/O/O, \"bothersome\"/O/O, \".\"/O/O, \"have\"/O/O, \"had\"/O/O, \"more\"/O/O, \"loose\"/B-ADR/B-Loose_stool, \"stools\"/E-ADR/E-Loose_stool, \",\"/O/O, \"but\"/O/O, \"tolerable\"/O/O, \".\"/O/O, \"im\"/O/O, \"looking\"/O/O, \"for\"/O/O, \"a\"/O/O, \"more\"/O/O, \"natural\"/O/O, \"therapy\"/O/O, \",\"/O/O, \"checking\"/O/O, \"into\"/O/O, \"ha\"/B-Drug/B-CONCEPT_LESS, \"(\"/I-Drug/I-CONCEPT_LESS, \"hyaluronic\"/I-Drug/I-CONCEPT_LESS, \"acid\"/I-Drug/I-CONCEPT_LESS, \")\"/E-Drug/E-CONCEPT_LESS, \"to\"/O/O, \"replace\"/O/O, \"arthrotec\"/S-Drug/S-Arthrotec, \".\"/O/O],\n",
              " Sentence[68]: \"none that i can think of . i recently had bilateral knee replacement . prior to that , arthrotec was the only drug that helped . i tried every drug on the market , but , to no avail . i took 50 mg . 3 times a day of arthrotec and was almost pain free . i highly recommend it to anyone that suffers from arthritis .\" → [\"none\"/O/O, \"that\"/O/O, \"i\"/O/O, \"can\"/O/O, \"think\"/O/O, \"of\"/O/O, \".\"/O/O, \"i\"/O/O, \"recently\"/O/O, \"had\"/O/O, \"bilateral\"/O/O, \"knee\"/O/O, \"replacement\"/O/O, \".\"/O/O, \"prior\"/O/O, \"to\"/O/O, \"that\"/O/O, \",\"/O/O, \"arthrotec\"/S-Drug/S-Arthrotec, \"was\"/O/O, \"the\"/O/O, \"only\"/O/O, \"drug\"/O/O, \"that\"/O/O, \"helped\"/O/O, \".\"/O/O, \"i\"/O/O, \"tried\"/O/O, \"every\"/O/O, \"drug\"/O/O, \"on\"/O/O, \"the\"/O/O, \"market\"/O/O, \",\"/O/O, \"but\"/O/O, \",\"/O/O, \"to\"/O/O, \"no\"/O/O, \"avail\"/O/O, \".\"/O/O, \"i\"/O/O, \"took\"/O/O, \"50\"/O/O, \"mg\"/O/O, \".\"/O/O, \"3\"/O/O, \"times\"/O/O, \"a\"/O/O, \"day\"/O/O, \"of\"/O/O, \"arthrotec\"/S-Drug/S-Arthrotec, \"and\"/O/O, \"was\"/O/O, \"almost\"/O/O, \"pain\"/S-Symptom/S-Pain, \"free\"/O/O, \".\"/O/O, \"i\"/O/O, \"highly\"/O/O, \"recommend\"/O/O, \"it\"/O/O, \"to\"/O/O, \"anyone\"/O/O, \"that\"/O/O, \"suffers\"/O/O, \"from\"/O/O, \"arthritis\"/S-Finding/S-Arthritis, \".\"/O/O],\n",
              " Sentence[28]: \"hospitalization due extreme rectal bleed that required blood transfusion . i was extremely sick and initially felt i might not survive . should be removed from market .\" → [\"hospitalization\"/O/O, \"due\"/O/O, \"extreme\"/O/O, \"rectal\"/B-ADR/B-Rectal_haemorrhage, \"bleed\"/E-ADR/E-Rectal_haemorrhage, \"that\"/O/O, \"required\"/O/O, \"blood\"/O/O, \"transfusion\"/O/O, \".\"/O/O, \"i\"/O/O, \"was\"/O/O, \"extremely\"/B-ADR/B-Generally_unwell, \"sick\"/E-ADR/E-Generally_unwell, \"and\"/O/O, \"initially\"/O/O, \"felt\"/B-ADR/B-CONCEPT_LESS, \"i\"/I-ADR/I-CONCEPT_LESS, \"might\"/I-ADR/I-CONCEPT_LESS, \"not\"/I-ADR/I-CONCEPT_LESS, \"survive\"/E-ADR/E-CONCEPT_LESS, \".\"/O/O, \"should\"/O/O, \"be\"/O/O, \"removed\"/O/O, \"from\"/O/O, \"market\"/O/O, \".\"/O/O]]"
            ]
          },
          "metadata": {},
          "execution_count": 8
        }
      ],
      "source": [
        "with open(data_save_dir+'/cadec_flair_objects.pkl', 'rb') as f:\n",
        "    docs = pickle.load(f)\n",
        "docs[:10]"
      ]
    },
    {
      "cell_type": "code",
      "execution_count": 9,
      "metadata": {
        "colab": {
          "base_uri": "https://localhost:8080/"
        },
        "id": "sW10pPAPtGij",
        "outputId": "afc060cd-941d-45b2-8ab4-06d97858cad7"
      },
      "outputs": [
        {
          "output_type": "execute_result",
          "data": {
            "text/plain": [
              "1186"
            ]
          },
          "metadata": {},
          "execution_count": 9
        }
      ],
      "source": [
        "len(docs)"
      ]
    },
    {
      "cell_type": "code",
      "execution_count": 10,
      "metadata": {
        "colab": {
          "base_uri": "https://localhost:8080/"
        },
        "id": "EMT5TsNStGij",
        "outputId": "51bc4d93-a94e-4701-a95f-8b9827592e49"
      },
      "outputs": [
        {
          "output_type": "execute_result",
          "data": {
            "text/plain": [
              "Sentence[117]: \"i feel a bit drowsy & have a little blurred vision , so far no gastric problems . ive been on arthrotec 50 for over 10 years on and off , only taking it when i needed it . due to my arthritis getting progressively worse , to the point where i am in tears with the agony , gp ' s started me on 75 twice a day and i have to take it . every day for the next month to see how i get on , here goes . so far its been very good , pains almost gone , but i feel a bit weird , didnt have that when on 50 .\" → [\"i\"/O/O, \"feel\"/O/O, \"a\"/O/O, \"bit\"/B-ADR/B-Drowsy, \"drowsy\"/E-ADR/E-Drowsy, \"&\"/O/O, \"have\"/O/O, \"a\"/O/O, \"little\"/B-ADR/B-Blurred_vision_-_hazy, \"blurred\"/I-ADR/I-Blurred_vision_-_hazy, \"vision\"/E-ADR/E-Blurred_vision_-_hazy, \",\"/O/O, \"so\"/O/O, \"far\"/O/O, \"no\"/O/O, \"gastric\"/B-ADR/B-Excessive_upper_gastrointestinal_gas, \"problems\"/E-ADR/E-Excessive_upper_gastrointestinal_gas, \".\"/O/O, \"ive\"/O/O, \"been\"/O/O, \"on\"/O/O, \"arthrotec\"/S-Drug/S-Arthrotec, \"50\"/O/O, \"for\"/O/O, \"over\"/O/O, \"10\"/O/O, \"years\"/O/O, \"on\"/O/O, \"and\"/O/O, \"off\"/O/O, \",\"/O/O, \"only\"/O/O, \"taking\"/O/O, \"it\"/O/O, \"when\"/O/O, \"i\"/O/O, \"needed\"/O/O, \"it\"/O/O, \".\"/O/O, \"due\"/O/O, \"to\"/O/O, \"my\"/O/O, \"arthritis\"/S-Disease/S-Arthritis, \"getting\"/O/O, \"progressively\"/O/O, \"worse\"/O/O, \",\"/O/O, \"to\"/O/O, \"the\"/O/O, \"point\"/O/O, \"where\"/O/O, \"i\"/O/O, \"am\"/O/O, \"in\"/O/O, \"tears\"/O/O, \"with\"/O/O, \"the\"/O/O, \"agony\"/S-Symptom/S-Agony, \",\"/O/O, \"gp\"/O/O, \"'\"/O/O, \"s\"/O/O, \"started\"/O/O, \"me\"/O/O, \"on\"/O/O, \"75\"/O/O, \"twice\"/O/O, \"a\"/O/O, \"day\"/O/O, \"and\"/O/O, \"i\"/O/O, \"have\"/O/O, \"to\"/O/O, \"take\"/O/O, \"it\"/O/O, \".\"/O/O, \"every\"/O/O, \"day\"/O/O, \"for\"/O/O, \"the\"/O/O, \"next\"/O/O, \"month\"/O/O, \"to\"/O/O, \"see\"/O/O, \"how\"/O/O, \"i\"/O/O, \"get\"/O/O, \"on\"/O/O, \",\"/O/O, \"here\"/O/O, \"goes\"/O/O, \".\"/O/O, \"so\"/O/O, \"far\"/O/O, \"its\"/O/O, \"been\"/O/O, \"very\"/O/O, \"good\"/O/O, \",\"/O/O, \"pains\"/S-Symptom/S-Pain, \"almost\"/O/O, \"gone\"/O/O, \",\"/O/O, \"but\"/O/O, \"i\"/O/O, \"feel\"/B-ADR/B-Malaise, \"a\"/I-ADR/I-Malaise, \"bit\"/I-ADR/I-Malaise, \"weird\"/E-ADR/E-Malaise, \",\"/O/O, \"didnt\"/O/O, \"have\"/O/O, \"that\"/O/O, \"when\"/O/O, \"on\"/O/O, \"50\"/O/O, \".\"/O/O]"
            ]
          },
          "metadata": {},
          "execution_count": 10
        }
      ],
      "source": [
        "temp = docs[0]\n",
        "temp"
      ]
    },
    {
      "cell_type": "code",
      "execution_count": 11,
      "metadata": {
        "colab": {
          "base_uri": "https://localhost:8080/"
        },
        "id": "2EeTdfHstGij",
        "outputId": "8ad27be9-2190-4f25-a568-b7c9438c4361"
      },
      "outputs": [
        {
          "output_type": "execute_result",
          "data": {
            "text/plain": [
              "{'ner': ['Token[0]: \"i\"'/'O' (1.0),\n",
              "  'Token[1]: \"feel\"'/'O' (1.0),\n",
              "  'Token[2]: \"a\"'/'O' (1.0),\n",
              "  'Token[3]: \"bit\"'/'B-ADR' (1.0),\n",
              "  'Token[4]: \"drowsy\"'/'E-ADR' (1.0),\n",
              "  'Token[5]: \"&\"'/'O' (1.0),\n",
              "  'Token[6]: \"have\"'/'O' (1.0),\n",
              "  'Token[7]: \"a\"'/'O' (1.0),\n",
              "  'Token[8]: \"little\"'/'B-ADR' (1.0),\n",
              "  'Token[9]: \"blurred\"'/'I-ADR' (1.0),\n",
              "  'Token[10]: \"vision\"'/'E-ADR' (1.0),\n",
              "  'Token[11]: \",\"'/'O' (1.0),\n",
              "  'Token[12]: \"so\"'/'O' (1.0),\n",
              "  'Token[13]: \"far\"'/'O' (1.0),\n",
              "  'Token[14]: \"no\"'/'O' (1.0),\n",
              "  'Token[15]: \"gastric\"'/'B-ADR' (1.0),\n",
              "  'Token[16]: \"problems\"'/'E-ADR' (1.0),\n",
              "  'Token[17]: \".\"'/'O' (1.0),\n",
              "  'Token[18]: \"ive\"'/'O' (1.0),\n",
              "  'Token[19]: \"been\"'/'O' (1.0),\n",
              "  'Token[20]: \"on\"'/'O' (1.0),\n",
              "  'Token[21]: \"arthrotec\"'/'S-Drug' (1.0),\n",
              "  'Token[22]: \"50\"'/'O' (1.0),\n",
              "  'Token[23]: \"for\"'/'O' (1.0),\n",
              "  'Token[24]: \"over\"'/'O' (1.0),\n",
              "  'Token[25]: \"10\"'/'O' (1.0),\n",
              "  'Token[26]: \"years\"'/'O' (1.0),\n",
              "  'Token[27]: \"on\"'/'O' (1.0),\n",
              "  'Token[28]: \"and\"'/'O' (1.0),\n",
              "  'Token[29]: \"off\"'/'O' (1.0),\n",
              "  'Token[30]: \",\"'/'O' (1.0),\n",
              "  'Token[31]: \"only\"'/'O' (1.0),\n",
              "  'Token[32]: \"taking\"'/'O' (1.0),\n",
              "  'Token[33]: \"it\"'/'O' (1.0),\n",
              "  'Token[34]: \"when\"'/'O' (1.0),\n",
              "  'Token[35]: \"i\"'/'O' (1.0),\n",
              "  'Token[36]: \"needed\"'/'O' (1.0),\n",
              "  'Token[37]: \"it\"'/'O' (1.0),\n",
              "  'Token[38]: \".\"'/'O' (1.0),\n",
              "  'Token[39]: \"due\"'/'O' (1.0),\n",
              "  'Token[40]: \"to\"'/'O' (1.0),\n",
              "  'Token[41]: \"my\"'/'O' (1.0),\n",
              "  'Token[42]: \"arthritis\"'/'S-Disease' (1.0),\n",
              "  'Token[43]: \"getting\"'/'O' (1.0),\n",
              "  'Token[44]: \"progressively\"'/'O' (1.0),\n",
              "  'Token[45]: \"worse\"'/'O' (1.0),\n",
              "  'Token[46]: \",\"'/'O' (1.0),\n",
              "  'Token[47]: \"to\"'/'O' (1.0),\n",
              "  'Token[48]: \"the\"'/'O' (1.0),\n",
              "  'Token[49]: \"point\"'/'O' (1.0),\n",
              "  'Token[50]: \"where\"'/'O' (1.0),\n",
              "  'Token[51]: \"i\"'/'O' (1.0),\n",
              "  'Token[52]: \"am\"'/'O' (1.0),\n",
              "  'Token[53]: \"in\"'/'O' (1.0),\n",
              "  'Token[54]: \"tears\"'/'O' (1.0),\n",
              "  'Token[55]: \"with\"'/'O' (1.0),\n",
              "  'Token[56]: \"the\"'/'O' (1.0),\n",
              "  'Token[57]: \"agony\"'/'S-Symptom' (1.0),\n",
              "  'Token[58]: \",\"'/'O' (1.0),\n",
              "  'Token[59]: \"gp\"'/'O' (1.0),\n",
              "  'Token[60]: \"'\"'/'O' (1.0),\n",
              "  'Token[61]: \"s\"'/'O' (1.0),\n",
              "  'Token[62]: \"started\"'/'O' (1.0),\n",
              "  'Token[63]: \"me\"'/'O' (1.0),\n",
              "  'Token[64]: \"on\"'/'O' (1.0),\n",
              "  'Token[65]: \"75\"'/'O' (1.0),\n",
              "  'Token[66]: \"twice\"'/'O' (1.0),\n",
              "  'Token[67]: \"a\"'/'O' (1.0),\n",
              "  'Token[68]: \"day\"'/'O' (1.0),\n",
              "  'Token[69]: \"and\"'/'O' (1.0),\n",
              "  'Token[70]: \"i\"'/'O' (1.0),\n",
              "  'Token[71]: \"have\"'/'O' (1.0),\n",
              "  'Token[72]: \"to\"'/'O' (1.0),\n",
              "  'Token[73]: \"take\"'/'O' (1.0),\n",
              "  'Token[74]: \"it\"'/'O' (1.0),\n",
              "  'Token[75]: \".\"'/'O' (1.0),\n",
              "  'Token[76]: \"every\"'/'O' (1.0),\n",
              "  'Token[77]: \"day\"'/'O' (1.0),\n",
              "  'Token[78]: \"for\"'/'O' (1.0),\n",
              "  'Token[79]: \"the\"'/'O' (1.0),\n",
              "  'Token[80]: \"next\"'/'O' (1.0),\n",
              "  'Token[81]: \"month\"'/'O' (1.0),\n",
              "  'Token[82]: \"to\"'/'O' (1.0),\n",
              "  'Token[83]: \"see\"'/'O' (1.0),\n",
              "  'Token[84]: \"how\"'/'O' (1.0),\n",
              "  'Token[85]: \"i\"'/'O' (1.0),\n",
              "  'Token[86]: \"get\"'/'O' (1.0),\n",
              "  'Token[87]: \"on\"'/'O' (1.0),\n",
              "  'Token[88]: \",\"'/'O' (1.0),\n",
              "  'Token[89]: \"here\"'/'O' (1.0),\n",
              "  'Token[90]: \"goes\"'/'O' (1.0),\n",
              "  'Token[91]: \".\"'/'O' (1.0),\n",
              "  'Token[92]: \"so\"'/'O' (1.0),\n",
              "  'Token[93]: \"far\"'/'O' (1.0),\n",
              "  'Token[94]: \"its\"'/'O' (1.0),\n",
              "  'Token[95]: \"been\"'/'O' (1.0),\n",
              "  'Token[96]: \"very\"'/'O' (1.0),\n",
              "  'Token[97]: \"good\"'/'O' (1.0),\n",
              "  'Token[98]: \",\"'/'O' (1.0),\n",
              "  'Token[99]: \"pains\"'/'S-Symptom' (1.0),\n",
              "  'Token[100]: \"almost\"'/'O' (1.0),\n",
              "  'Token[101]: \"gone\"'/'O' (1.0),\n",
              "  'Token[102]: \",\"'/'O' (1.0),\n",
              "  'Token[103]: \"but\"'/'O' (1.0),\n",
              "  'Token[104]: \"i\"'/'O' (1.0),\n",
              "  'Token[105]: \"feel\"'/'B-ADR' (1.0),\n",
              "  'Token[106]: \"a\"'/'I-ADR' (1.0),\n",
              "  'Token[107]: \"bit\"'/'I-ADR' (1.0),\n",
              "  'Token[108]: \"weird\"'/'E-ADR' (1.0),\n",
              "  'Token[109]: \",\"'/'O' (1.0),\n",
              "  'Token[110]: \"didnt\"'/'O' (1.0),\n",
              "  'Token[111]: \"have\"'/'O' (1.0),\n",
              "  'Token[112]: \"that\"'/'O' (1.0),\n",
              "  'Token[113]: \"when\"'/'O' (1.0),\n",
              "  'Token[114]: \"on\"'/'O' (1.0),\n",
              "  'Token[115]: \"50\"'/'O' (1.0),\n",
              "  'Token[116]: \".\"'/'O' (1.0)],\n",
              " 'meddra': ['Token[0]: \"i\"'/'O' (1.0),\n",
              "  'Token[1]: \"feel\"'/'O' (1.0),\n",
              "  'Token[2]: \"a\"'/'O' (1.0),\n",
              "  'Token[3]: \"bit\"'/'B-Drowsy' (1.0),\n",
              "  'Token[4]: \"drowsy\"'/'E-Drowsy' (1.0),\n",
              "  'Token[5]: \"&\"'/'O' (1.0),\n",
              "  'Token[6]: \"have\"'/'O' (1.0),\n",
              "  'Token[7]: \"a\"'/'O' (1.0),\n",
              "  'Token[8]: \"little\"'/'B-Blurred_vision_-_hazy' (1.0),\n",
              "  'Token[9]: \"blurred\"'/'I-Blurred_vision_-_hazy' (1.0),\n",
              "  'Token[10]: \"vision\"'/'E-Blurred_vision_-_hazy' (1.0),\n",
              "  'Token[11]: \",\"'/'O' (1.0),\n",
              "  'Token[12]: \"so\"'/'O' (1.0),\n",
              "  'Token[13]: \"far\"'/'O' (1.0),\n",
              "  'Token[14]: \"no\"'/'O' (1.0),\n",
              "  'Token[15]: \"gastric\"'/'B-Excessive_upper_gastrointestinal_gas' (1.0),\n",
              "  'Token[16]: \"problems\"'/'E-Excessive_upper_gastrointestinal_gas' (1.0),\n",
              "  'Token[17]: \".\"'/'O' (1.0),\n",
              "  'Token[18]: \"ive\"'/'O' (1.0),\n",
              "  'Token[19]: \"been\"'/'O' (1.0),\n",
              "  'Token[20]: \"on\"'/'O' (1.0),\n",
              "  'Token[21]: \"arthrotec\"'/'S-Arthrotec' (1.0),\n",
              "  'Token[22]: \"50\"'/'O' (1.0),\n",
              "  'Token[23]: \"for\"'/'O' (1.0),\n",
              "  'Token[24]: \"over\"'/'O' (1.0),\n",
              "  'Token[25]: \"10\"'/'O' (1.0),\n",
              "  'Token[26]: \"years\"'/'O' (1.0),\n",
              "  'Token[27]: \"on\"'/'O' (1.0),\n",
              "  'Token[28]: \"and\"'/'O' (1.0),\n",
              "  'Token[29]: \"off\"'/'O' (1.0),\n",
              "  'Token[30]: \",\"'/'O' (1.0),\n",
              "  'Token[31]: \"only\"'/'O' (1.0),\n",
              "  'Token[32]: \"taking\"'/'O' (1.0),\n",
              "  'Token[33]: \"it\"'/'O' (1.0),\n",
              "  'Token[34]: \"when\"'/'O' (1.0),\n",
              "  'Token[35]: \"i\"'/'O' (1.0),\n",
              "  'Token[36]: \"needed\"'/'O' (1.0),\n",
              "  'Token[37]: \"it\"'/'O' (1.0),\n",
              "  'Token[38]: \".\"'/'O' (1.0),\n",
              "  'Token[39]: \"due\"'/'O' (1.0),\n",
              "  'Token[40]: \"to\"'/'O' (1.0),\n",
              "  'Token[41]: \"my\"'/'O' (1.0),\n",
              "  'Token[42]: \"arthritis\"'/'S-Arthritis' (1.0),\n",
              "  'Token[43]: \"getting\"'/'O' (1.0),\n",
              "  'Token[44]: \"progressively\"'/'O' (1.0),\n",
              "  'Token[45]: \"worse\"'/'O' (1.0),\n",
              "  'Token[46]: \",\"'/'O' (1.0),\n",
              "  'Token[47]: \"to\"'/'O' (1.0),\n",
              "  'Token[48]: \"the\"'/'O' (1.0),\n",
              "  'Token[49]: \"point\"'/'O' (1.0),\n",
              "  'Token[50]: \"where\"'/'O' (1.0),\n",
              "  'Token[51]: \"i\"'/'O' (1.0),\n",
              "  'Token[52]: \"am\"'/'O' (1.0),\n",
              "  'Token[53]: \"in\"'/'O' (1.0),\n",
              "  'Token[54]: \"tears\"'/'O' (1.0),\n",
              "  'Token[55]: \"with\"'/'O' (1.0),\n",
              "  'Token[56]: \"the\"'/'O' (1.0),\n",
              "  'Token[57]: \"agony\"'/'S-Agony' (1.0),\n",
              "  'Token[58]: \",\"'/'O' (1.0),\n",
              "  'Token[59]: \"gp\"'/'O' (1.0),\n",
              "  'Token[60]: \"'\"'/'O' (1.0),\n",
              "  'Token[61]: \"s\"'/'O' (1.0),\n",
              "  'Token[62]: \"started\"'/'O' (1.0),\n",
              "  'Token[63]: \"me\"'/'O' (1.0),\n",
              "  'Token[64]: \"on\"'/'O' (1.0),\n",
              "  'Token[65]: \"75\"'/'O' (1.0),\n",
              "  'Token[66]: \"twice\"'/'O' (1.0),\n",
              "  'Token[67]: \"a\"'/'O' (1.0),\n",
              "  'Token[68]: \"day\"'/'O' (1.0),\n",
              "  'Token[69]: \"and\"'/'O' (1.0),\n",
              "  'Token[70]: \"i\"'/'O' (1.0),\n",
              "  'Token[71]: \"have\"'/'O' (1.0),\n",
              "  'Token[72]: \"to\"'/'O' (1.0),\n",
              "  'Token[73]: \"take\"'/'O' (1.0),\n",
              "  'Token[74]: \"it\"'/'O' (1.0),\n",
              "  'Token[75]: \".\"'/'O' (1.0),\n",
              "  'Token[76]: \"every\"'/'O' (1.0),\n",
              "  'Token[77]: \"day\"'/'O' (1.0),\n",
              "  'Token[78]: \"for\"'/'O' (1.0),\n",
              "  'Token[79]: \"the\"'/'O' (1.0),\n",
              "  'Token[80]: \"next\"'/'O' (1.0),\n",
              "  'Token[81]: \"month\"'/'O' (1.0),\n",
              "  'Token[82]: \"to\"'/'O' (1.0),\n",
              "  'Token[83]: \"see\"'/'O' (1.0),\n",
              "  'Token[84]: \"how\"'/'O' (1.0),\n",
              "  'Token[85]: \"i\"'/'O' (1.0),\n",
              "  'Token[86]: \"get\"'/'O' (1.0),\n",
              "  'Token[87]: \"on\"'/'O' (1.0),\n",
              "  'Token[88]: \",\"'/'O' (1.0),\n",
              "  'Token[89]: \"here\"'/'O' (1.0),\n",
              "  'Token[90]: \"goes\"'/'O' (1.0),\n",
              "  'Token[91]: \".\"'/'O' (1.0),\n",
              "  'Token[92]: \"so\"'/'O' (1.0),\n",
              "  'Token[93]: \"far\"'/'O' (1.0),\n",
              "  'Token[94]: \"its\"'/'O' (1.0),\n",
              "  'Token[95]: \"been\"'/'O' (1.0),\n",
              "  'Token[96]: \"very\"'/'O' (1.0),\n",
              "  'Token[97]: \"good\"'/'O' (1.0),\n",
              "  'Token[98]: \",\"'/'O' (1.0),\n",
              "  'Token[99]: \"pains\"'/'S-Pain' (1.0),\n",
              "  'Token[100]: \"almost\"'/'O' (1.0),\n",
              "  'Token[101]: \"gone\"'/'O' (1.0),\n",
              "  'Token[102]: \",\"'/'O' (1.0),\n",
              "  'Token[103]: \"but\"'/'O' (1.0),\n",
              "  'Token[104]: \"i\"'/'O' (1.0),\n",
              "  'Token[105]: \"feel\"'/'B-Malaise' (1.0),\n",
              "  'Token[106]: \"a\"'/'I-Malaise' (1.0),\n",
              "  'Token[107]: \"bit\"'/'I-Malaise' (1.0),\n",
              "  'Token[108]: \"weird\"'/'E-Malaise' (1.0),\n",
              "  'Token[109]: \",\"'/'O' (1.0),\n",
              "  'Token[110]: \"didnt\"'/'O' (1.0),\n",
              "  'Token[111]: \"have\"'/'O' (1.0),\n",
              "  'Token[112]: \"that\"'/'O' (1.0),\n",
              "  'Token[113]: \"when\"'/'O' (1.0),\n",
              "  'Token[114]: \"on\"'/'O' (1.0),\n",
              "  'Token[115]: \"50\"'/'O' (1.0),\n",
              "  'Token[116]: \".\"'/'O' (1.0)]}"
            ]
          },
          "metadata": {},
          "execution_count": 11
        }
      ],
      "source": [
        "temp.annotation_layers"
      ]
    },
    {
      "cell_type": "code",
      "execution_count": 12,
      "metadata": {
        "id": "4CsGKKB6tGik"
      },
      "outputs": [],
      "source": [
        "\n",
        "# define your NER tags\n",
        "label_dict = {\n",
        "    'ADR': 'ADR',\n",
        "    'Drug': 'Drug',\n",
        "    'Finding': 'Finding',\n",
        "    'Symptom': 'Symptom',\n",
        "    'Disease': 'Disease'\n",
        "}"
      ]
    },
    {
      "cell_type": "code",
      "execution_count": 13,
      "metadata": {
        "colab": {
          "base_uri": "https://localhost:8080/"
        },
        "id": "QmNsy8AltGik",
        "outputId": "cfbc0c84-cadf-44b9-e3d1-4bf93f1dec86"
      },
      "outputs": [
        {
          "output_type": "stream",
          "name": "stdout",
          "text": [
            "2023-04-21 01:37:07,977 Filtering empty sentences\n",
            "2023-04-21 01:37:07,998 Corpus: 948 train + 119 dev + 119 test sentences\n",
            "2023-04-21 01:37:08,000 Computing label dictionary. Progress:\n"
          ]
        },
        {
          "output_type": "stream",
          "name": "stderr",
          "text": [
            "948it [00:00, 6077.09it/s]"
          ]
        },
        {
          "output_type": "stream",
          "name": "stdout",
          "text": [
            "2023-04-21 01:37:08,161 Dictionary created for label 'ner' with 22 values: O (seen 79057 times), I-ADR (seen 4449 times), E-ADR (seen 3506 times), B-ADR (seen 3349 times), S-ADR (seen 1363 times), S-Drug (seen 1286 times), B-Finding (seen 200 times), E-Finding (seen 200 times), I-Finding (seen 149 times), B-Disease (seen 119 times), E-Disease (seen 119 times), E-Symptom (seen 114 times), S-Disease (seen 112 times), S-Symptom (seen 112 times), E-Drug (seen 111 times), B-Symptom (seen 110 times), B-Drug (seen 110 times), S-Finding (seen 109 times), I-Symptom (seen 104 times), I-Drug (seen 50 times)\n",
            "False\n"
          ]
        },
        {
          "output_type": "stream",
          "name": "stderr",
          "text": [
            "\n"
          ]
        },
        {
          "output_type": "stream",
          "name": "stdout",
          "text": [
            "2023-04-21 01:37:16,713 SequenceTagger predicts: Dictionary with 22 tags: <unk>, O, I-ADR, E-ADR, B-ADR, S-ADR, S-Drug, B-Finding, E-Finding, I-Finding, B-Disease, E-Disease, E-Symptom, S-Disease, S-Symptom, E-Drug, B-Symptom, B-Drug, S-Finding, I-Symptom, I-Drug, I-Disease\n",
            "True\n",
            "False\n"
          ]
        }
      ],
      "source": [
        "from flair.data import Corpus\n",
        "# from flair.datasets import SentenceDataset\n",
        "from flair.embeddings import WordEmbeddings, FlairEmbeddings, StackedEmbeddings, TransformerWordEmbeddings\n",
        "from flair.models import SequenceTagger\n",
        "from flair.trainers import ModelTrainer\n",
        "from sklearn.model_selection import train_test_split\n",
        "\n",
        "import torch\n",
        "from torch.utils.data import Dataset\n",
        "from torch.optim import AdamW, SGD\n",
        "\n",
        "from flair.visual.training_curves import Plotter\n",
        "plotter = Plotter()\n",
        "\n",
        "\n",
        "\n",
        "train_docs, test_docs = train_test_split(docs, test_size=0.2, random_state=321)\n",
        "dev_docs, test_docs = train_test_split(test_docs, test_size=0.5, random_state=123)\n",
        "\n",
        "corpus = Corpus(train=train_docs, dev=dev_docs, test=test_docs) # Corpus: 948 train + 119 dev + 119 test sentences\n",
        "corpus.filter_empty_sentences()\n",
        "# # create a tag dictionary\n",
        "labels = ['ADR', 'Drug', 'Finding', 'Symptom', 'Disease']\n",
        "# tag_dictionary = Dictionary(add_unk=True)\n",
        "# for label in labels:\n",
        "#     tag_dictionary.add_item(label)\n",
        "tag_dictionary = corpus.make_label_dictionary(label_type='ner')\n",
        "print(tag_dictionary.span_labels)\n",
        "\n",
        "# create a stacked embedding using GloVe and Flair embeddings\n",
        "stacked_embeddings = StackedEmbeddings([\n",
        "    WordEmbeddings('glove',\n",
        "                   force_cpu=False,\n",
        "                #    embedding_length=1024,\n",
        "                  #  fine_tune=True,\n",
        "                   ),\n",
        "    # TransformerWordEmbeddings('emilyalsentzer/Bio_ClinicalBERT', layers=\"-1\",\n",
        "    #                                    subtoken_pooling=\"first\",\n",
        "    #                                    is_document_embedding=True,\n",
        "    #                                    fine_tune=True,\n",
        "    #                                    use_context=True,\n",
        "    #                                    max_seq_length=1024,\n",
        "    #                                    ),\n",
        "    FlairEmbeddings('news-forward',\n",
        "                    # fine_tune=True\n",
        "                    ),\n",
        "    FlairEmbeddings('news-backward',\n",
        "                    # fine_tune=True\n",
        "                    ),\n",
        "])\n",
        "# https://github.com/flairNLP/flair/blob/master/resources/docs/embeddings/FLAIR_EMBEDDINGS.md\n",
        "\n",
        "# create a SequenceTagger object and specify the tag dictionary and embeddings to use\n",
        "tagger = SequenceTagger(hidden_size=256,\n",
        "                        embeddings=stacked_embeddings,\n",
        "                        tag_dictionary=tag_dictionary,\n",
        "                        tag_type='ner',\n",
        "                        # use_crf=False,\n",
        "                        # use_rnn=False,\n",
        "                        # reproject_embeddings=False,\n",
        "                        )\n",
        "tagger.predict_spans = False\n",
        "\n",
        "print(tagger._determine_if_span_prediction_problem(tagger.label_dictionary))\n",
        "print(tagger.predict_spans)\n",
        "\n",
        "# https://github.com/flairNLP/flair/blob/master/flair/trainers/trainer.py\n",
        "# create a ModelTrainer object and train the tagger\n",
        "trainer = ModelTrainer(tagger, corpus)"
      ]
    },
    {
      "cell_type": "code",
      "execution_count": 14,
      "metadata": {
        "id": "fh0zU2jHAA4J"
      },
      "outputs": [],
      "source": [
        "# !tensorboard --logdir=runs\n",
        "# http://localhost:6006/"
      ]
    },
    {
      "cell_type": "code",
      "execution_count": 15,
      "metadata": {
        "colab": {
          "base_uri": "https://localhost:8080/"
        },
        "id": "UKTMzxV8zF9o",
        "outputId": "fa32220d-f998-4fea-b33b-55cfae7fbc0e"
      },
      "outputs": [
        {
          "output_type": "stream",
          "name": "stdout",
          "text": [
            "2023-04-21 01:37:16,972 tensorboard logging path is runs/tb_logs_v2\n",
            "2023-04-21 01:37:16,983 ----------------------------------------------------------------------------------------------------\n",
            "2023-04-21 01:37:16,984 Model: \"SequenceTagger(\n",
            "  (embeddings): StackedEmbeddings(\n",
            "    (list_embedding_0): WordEmbeddings(\n",
            "      'glove'\n",
            "      (embedding): Embedding(400001, 100)\n",
            "    )\n",
            "    (list_embedding_1): FlairEmbeddings(\n",
            "      (lm): LanguageModel(\n",
            "        (drop): Dropout(p=0.05, inplace=False)\n",
            "        (encoder): Embedding(300, 100)\n",
            "        (rnn): LSTM(100, 2048)\n",
            "      )\n",
            "    )\n",
            "    (list_embedding_2): FlairEmbeddings(\n",
            "      (lm): LanguageModel(\n",
            "        (drop): Dropout(p=0.05, inplace=False)\n",
            "        (encoder): Embedding(300, 100)\n",
            "        (rnn): LSTM(100, 2048)\n",
            "      )\n",
            "    )\n",
            "  )\n",
            "  (word_dropout): WordDropout(p=0.05)\n",
            "  (locked_dropout): LockedDropout(p=0.5)\n",
            "  (embedding2nn): Linear(in_features=4196, out_features=4196, bias=True)\n",
            "  (rnn): LSTM(4196, 256, batch_first=True, bidirectional=True)\n",
            "  (linear): Linear(in_features=512, out_features=24, bias=True)\n",
            "  (loss_function): ViterbiLoss()\n",
            "  (crf): CRF()\n",
            ")\"\n",
            "2023-04-21 01:37:16,985 ----------------------------------------------------------------------------------------------------\n",
            "2023-04-21 01:37:16,987 Corpus: \"Corpus: 948 train + 119 dev + 119 test sentences\"\n",
            "2023-04-21 01:37:16,988 ----------------------------------------------------------------------------------------------------\n",
            "2023-04-21 01:37:16,990 Parameters:\n",
            "2023-04-21 01:37:16,991  - learning_rate: \"0.100000\"\n",
            "2023-04-21 01:37:16,992  - mini_batch_size: \"12\"\n",
            "2023-04-21 01:37:16,993  - patience: \"1\"\n",
            "2023-04-21 01:37:16,995  - anneal_factor: \"0.5\"\n",
            "2023-04-21 01:37:16,996  - max_epochs: \"100\"\n",
            "2023-04-21 01:37:16,997  - shuffle: \"True\"\n",
            "2023-04-21 01:37:16,999  - train_with_dev: \"False\"\n",
            "2023-04-21 01:37:17,000  - batch_growth_annealing: \"False\"\n",
            "2023-04-21 01:37:17,001 ----------------------------------------------------------------------------------------------------\n",
            "2023-04-21 01:37:17,002 Model training base path: \"flair_ner_model_v2\"\n",
            "2023-04-21 01:37:17,004 ----------------------------------------------------------------------------------------------------\n",
            "2023-04-21 01:37:17,005 Device: cuda:0\n",
            "2023-04-21 01:37:17,006 ----------------------------------------------------------------------------------------------------\n",
            "2023-04-21 01:37:17,008 Embeddings storage mode: gpu\n",
            "2023-04-21 01:37:17,009 ----------------------------------------------------------------------------------------------------\n",
            "2023-04-21 01:37:20,067 epoch 1 - iter 7/79 - loss 4.98871697 - time (sec): 3.06 - samples/sec: 2991.09 - lr: 0.100000\n",
            "2023-04-21 01:37:22,361 epoch 1 - iter 14/79 - loss 6.30638063 - time (sec): 5.35 - samples/sec: 3056.26 - lr: 0.100000\n",
            "2023-04-21 01:37:25,128 epoch 1 - iter 21/79 - loss 5.49719748 - time (sec): 8.12 - samples/sec: 3010.07 - lr: 0.100000\n",
            "2023-04-21 01:37:27,818 epoch 1 - iter 28/79 - loss 4.91810763 - time (sec): 10.81 - samples/sec: 3016.80 - lr: 0.100000\n",
            "2023-04-21 01:37:30,558 epoch 1 - iter 35/79 - loss 4.49004769 - time (sec): 13.55 - samples/sec: 3047.24 - lr: 0.100000\n",
            "2023-04-21 01:37:33,296 epoch 1 - iter 42/79 - loss 4.41306718 - time (sec): 16.28 - samples/sec: 3038.24 - lr: 0.100000\n",
            "2023-04-21 01:37:37,066 epoch 1 - iter 49/79 - loss 4.19839069 - time (sec): 20.06 - samples/sec: 2886.06 - lr: 0.100000\n",
            "2023-04-21 01:37:40,944 epoch 1 - iter 56/79 - loss 4.02508830 - time (sec): 23.93 - samples/sec: 2780.58 - lr: 0.100000\n",
            "2023-04-21 01:37:43,316 epoch 1 - iter 63/79 - loss 3.92796592 - time (sec): 26.30 - samples/sec: 2847.01 - lr: 0.100000\n",
            "2023-04-21 01:37:46,345 epoch 1 - iter 70/79 - loss 3.87202191 - time (sec): 29.33 - samples/sec: 2835.43 - lr: 0.100000\n",
            "2023-04-21 01:37:49,193 epoch 1 - iter 77/79 - loss 3.78429805 - time (sec): 32.18 - samples/sec: 2856.27 - lr: 0.100000\n",
            "2023-04-21 01:37:50,761 ----------------------------------------------------------------------------------------------------\n",
            "2023-04-21 01:37:50,763 EPOCH 1 done: loss 3.7356 - lr 0.100000\n"
          ]
        },
        {
          "output_type": "stream",
          "name": "stderr",
          "text": [
            "100%|██████████| 79/79 [00:21<00:00,  3.71it/s]"
          ]
        },
        {
          "output_type": "stream",
          "name": "stdout",
          "text": [
            "2023-04-21 01:38:12,193 Evaluating as a multi-label problem: True\n"
          ]
        },
        {
          "output_type": "stream",
          "name": "stderr",
          "text": [
            "\n"
          ]
        },
        {
          "output_type": "stream",
          "name": "stdout",
          "text": [
            "2023-04-21 01:38:14,931 TRAIN : loss 1.893505573272705 - f1-score (weighted avg)  0.1212\n"
          ]
        },
        {
          "output_type": "stream",
          "name": "stderr",
          "text": [
            "100%|██████████| 10/10 [00:05<00:00,  1.81it/s]\n"
          ]
        },
        {
          "output_type": "stream",
          "name": "stdout",
          "text": [
            "2023-04-21 01:38:21,460 Evaluating as a multi-label problem: False\n",
            "2023-04-21 01:38:21,526 DEV : loss 1.9621220827102661 - f1-score (weighted avg)  0.1224\n",
            "2023-04-21 01:38:21,535 BAD EPOCHS (no improvement): 0\n",
            "2023-04-21 01:38:21,539 saving best model\n",
            "2023-04-21 01:38:23,549 ----------------------------------------------------------------------------------------------------\n",
            "2023-04-21 01:38:25,553 epoch 2 - iter 7/79 - loss 2.67268115 - time (sec): 2.00 - samples/sec: 4214.37 - lr: 0.100000\n",
            "2023-04-21 01:38:27,020 epoch 2 - iter 14/79 - loss 3.12651882 - time (sec): 3.47 - samples/sec: 4731.92 - lr: 0.100000\n",
            "2023-04-21 01:38:28,721 epoch 2 - iter 21/79 - loss 3.32248311 - time (sec): 5.17 - samples/sec: 4792.40 - lr: 0.100000\n",
            "2023-04-21 01:38:30,257 epoch 2 - iter 28/79 - loss 3.57550108 - time (sec): 6.71 - samples/sec: 4797.07 - lr: 0.100000\n",
            "2023-04-21 01:38:31,945 epoch 2 - iter 35/79 - loss 3.60043622 - time (sec): 8.39 - samples/sec: 4806.55 - lr: 0.100000\n",
            "2023-04-21 01:38:34,374 epoch 2 - iter 42/79 - loss 3.62271722 - time (sec): 10.82 - samples/sec: 4594.34 - lr: 0.100000\n",
            "2023-04-21 01:38:36,148 epoch 2 - iter 49/79 - loss 3.52473111 - time (sec): 12.60 - samples/sec: 4636.84 - lr: 0.100000\n",
            "2023-04-21 01:38:37,941 epoch 2 - iter 56/79 - loss 3.84916292 - time (sec): 14.39 - samples/sec: 4678.23 - lr: 0.100000\n",
            "2023-04-21 01:38:39,567 epoch 2 - iter 63/79 - loss 3.79394267 - time (sec): 16.02 - samples/sec: 4699.46 - lr: 0.100000\n",
            "2023-04-21 01:38:41,539 epoch 2 - iter 70/79 - loss 3.78839245 - time (sec): 17.99 - samples/sec: 4683.52 - lr: 0.100000\n",
            "2023-04-21 01:38:43,252 epoch 2 - iter 77/79 - loss 3.76371094 - time (sec): 19.70 - samples/sec: 4696.75 - lr: 0.100000\n",
            "2023-04-21 01:38:43,635 ----------------------------------------------------------------------------------------------------\n",
            "2023-04-21 01:38:43,637 EPOCH 2 done: loss 3.7644 - lr 0.100000\n"
          ]
        },
        {
          "output_type": "stream",
          "name": "stderr",
          "text": [
            "100%|██████████| 79/79 [00:21<00:00,  3.67it/s]"
          ]
        },
        {
          "output_type": "stream",
          "name": "stdout",
          "text": [
            "2023-04-21 01:39:05,315 Evaluating as a multi-label problem: True\n"
          ]
        },
        {
          "output_type": "stream",
          "name": "stderr",
          "text": [
            "\n"
          ]
        },
        {
          "output_type": "stream",
          "name": "stdout",
          "text": [
            "2023-04-21 01:39:08,079 TRAIN : loss 2.6930272579193115 - f1-score (weighted avg)  0.0699\n"
          ]
        },
        {
          "output_type": "stream",
          "name": "stderr",
          "text": [
            "100%|██████████| 10/10 [00:02<00:00,  3.55it/s]"
          ]
        },
        {
          "output_type": "stream",
          "name": "stdout",
          "text": [
            "2023-04-21 01:39:10,974 Evaluating as a multi-label problem: False\n",
            "2023-04-21 01:39:11,041 DEV : loss 2.6982486248016357 - f1-score (weighted avg)  0.0729\n",
            "2023-04-21 01:39:11,050 BAD EPOCHS (no improvement): 1\n",
            "2023-04-21 01:39:11,054 ----------------------------------------------------------------------------------------------------\n"
          ]
        },
        {
          "output_type": "stream",
          "name": "stderr",
          "text": [
            "\n"
          ]
        },
        {
          "output_type": "stream",
          "name": "stdout",
          "text": [
            "2023-04-21 01:39:12,923 epoch 3 - iter 7/79 - loss 3.42127798 - time (sec): 1.87 - samples/sec: 4492.46 - lr: 0.100000\n",
            "2023-04-21 01:39:14,490 epoch 3 - iter 14/79 - loss 3.30537078 - time (sec): 3.43 - samples/sec: 4782.15 - lr: 0.100000\n",
            "2023-04-21 01:39:16,650 epoch 3 - iter 21/79 - loss 3.32627054 - time (sec): 5.59 - samples/sec: 4597.17 - lr: 0.100000\n",
            "2023-04-21 01:39:19,011 epoch 3 - iter 28/79 - loss 3.24062048 - time (sec): 7.95 - samples/sec: 4516.48 - lr: 0.100000\n",
            "2023-04-21 01:39:20,664 epoch 3 - iter 35/79 - loss 3.35287275 - time (sec): 9.61 - samples/sec: 4581.96 - lr: 0.100000\n",
            "2023-04-21 01:39:22,335 epoch 3 - iter 42/79 - loss 3.27128971 - time (sec): 11.28 - samples/sec: 4592.75 - lr: 0.100000\n",
            "2023-04-21 01:39:23,831 epoch 3 - iter 49/79 - loss 3.35850528 - time (sec): 12.77 - samples/sec: 4652.19 - lr: 0.100000\n",
            "2023-04-21 01:39:25,462 epoch 3 - iter 56/79 - loss 3.29298585 - time (sec): 14.41 - samples/sec: 4725.46 - lr: 0.100000\n",
            "2023-04-21 01:39:27,081 epoch 3 - iter 63/79 - loss 3.35434792 - time (sec): 16.03 - samples/sec: 4776.01 - lr: 0.100000\n",
            "2023-04-21 01:39:29,181 epoch 3 - iter 70/79 - loss 3.38246214 - time (sec): 18.12 - samples/sec: 4736.59 - lr: 0.100000\n",
            "2023-04-21 01:39:30,536 epoch 3 - iter 77/79 - loss 3.46518252 - time (sec): 19.48 - samples/sec: 4769.63 - lr: 0.100000\n",
            "2023-04-21 01:39:30,955 ----------------------------------------------------------------------------------------------------\n",
            "2023-04-21 01:39:30,956 EPOCH 3 done: loss 3.4829 - lr 0.100000\n"
          ]
        },
        {
          "output_type": "stream",
          "name": "stderr",
          "text": [
            "100%|██████████| 79/79 [00:21<00:00,  3.69it/s]"
          ]
        },
        {
          "output_type": "stream",
          "name": "stdout",
          "text": [
            "2023-04-21 01:39:52,512 Evaluating as a multi-label problem: True\n"
          ]
        },
        {
          "output_type": "stream",
          "name": "stderr",
          "text": [
            "\n"
          ]
        },
        {
          "output_type": "stream",
          "name": "stdout",
          "text": [
            "2023-04-21 01:39:56,451 TRAIN : loss 2.871452808380127 - f1-score (weighted avg)  0.0673\n"
          ]
        },
        {
          "output_type": "stream",
          "name": "stderr",
          "text": [
            "100%|██████████| 10/10 [00:02<00:00,  3.64it/s]"
          ]
        },
        {
          "output_type": "stream",
          "name": "stdout",
          "text": [
            "2023-04-21 01:39:59,280 Evaluating as a multi-label problem: False\n",
            "2023-04-21 01:39:59,345 DEV : loss 3.0032033920288086 - f1-score (weighted avg)  0.0632\n",
            "2023-04-21 01:39:59,354 Epoch     3: reducing learning rate of group 0 to 5.0000e-02.\n",
            "2023-04-21 01:39:59,356 BAD EPOCHS (no improvement): 2\n",
            "2023-04-21 01:39:59,359 ----------------------------------------------------------------------------------------------------\n"
          ]
        },
        {
          "output_type": "stream",
          "name": "stderr",
          "text": [
            "\n"
          ]
        },
        {
          "output_type": "stream",
          "name": "stdout",
          "text": [
            "2023-04-21 01:40:01,127 epoch 4 - iter 7/79 - loss 3.98643937 - time (sec): 1.77 - samples/sec: 4683.52 - lr: 0.050000\n",
            "2023-04-21 01:40:02,613 epoch 4 - iter 14/79 - loss 3.40115906 - time (sec): 3.25 - samples/sec: 5088.96 - lr: 0.050000\n",
            "2023-04-21 01:40:04,212 epoch 4 - iter 21/79 - loss 3.22085479 - time (sec): 4.85 - samples/sec: 4908.81 - lr: 0.050000\n",
            "2023-04-21 01:40:06,829 epoch 4 - iter 28/79 - loss 2.89564295 - time (sec): 7.47 - samples/sec: 4496.81 - lr: 0.050000\n",
            "2023-04-21 01:40:08,342 epoch 4 - iter 35/79 - loss 2.82942186 - time (sec): 8.98 - samples/sec: 4719.92 - lr: 0.050000\n",
            "2023-04-21 01:40:09,865 epoch 4 - iter 42/79 - loss 2.82470698 - time (sec): 10.50 - samples/sec: 4740.00 - lr: 0.050000\n",
            "2023-04-21 01:40:11,573 epoch 4 - iter 49/79 - loss 2.78574573 - time (sec): 12.21 - samples/sec: 4805.04 - lr: 0.050000\n",
            "2023-04-21 01:40:13,307 epoch 4 - iter 56/79 - loss 2.72692259 - time (sec): 13.95 - samples/sec: 4828.88 - lr: 0.050000\n",
            "2023-04-21 01:40:14,849 epoch 4 - iter 63/79 - loss 2.68016492 - time (sec): 15.49 - samples/sec: 4874.87 - lr: 0.050000\n",
            "2023-04-21 01:40:16,867 epoch 4 - iter 70/79 - loss 2.59727744 - time (sec): 17.51 - samples/sec: 4817.73 - lr: 0.050000\n",
            "2023-04-21 01:40:18,447 epoch 4 - iter 77/79 - loss 2.57393949 - time (sec): 19.09 - samples/sec: 4837.85 - lr: 0.050000\n",
            "2023-04-21 01:40:18,897 ----------------------------------------------------------------------------------------------------\n",
            "2023-04-21 01:40:18,898 EPOCH 4 done: loss 2.5599 - lr 0.050000\n"
          ]
        },
        {
          "output_type": "stream",
          "name": "stderr",
          "text": [
            "100%|██████████| 79/79 [00:21<00:00,  3.69it/s]"
          ]
        },
        {
          "output_type": "stream",
          "name": "stdout",
          "text": [
            "2023-04-21 01:40:40,420 Evaluating as a multi-label problem: True\n"
          ]
        },
        {
          "output_type": "stream",
          "name": "stderr",
          "text": [
            "\n"
          ]
        },
        {
          "output_type": "stream",
          "name": "stdout",
          "text": [
            "2023-04-21 01:40:43,174 TRAIN : loss 1.9468613862991333 - f1-score (weighted avg)  0.067\n"
          ]
        },
        {
          "output_type": "stream",
          "name": "stderr",
          "text": [
            "100%|██████████| 10/10 [00:02<00:00,  3.64it/s]"
          ]
        },
        {
          "output_type": "stream",
          "name": "stdout",
          "text": [
            "2023-04-21 01:40:46,003 Evaluating as a multi-label problem: False\n",
            "2023-04-21 01:40:46,068 DEV : loss 2.089040517807007 - f1-score (weighted avg)  0.0689\n",
            "2023-04-21 01:40:46,077 BAD EPOCHS (no improvement): 1\n",
            "2023-04-21 01:40:46,080 ----------------------------------------------------------------------------------------------------\n"
          ]
        },
        {
          "output_type": "stream",
          "name": "stderr",
          "text": [
            "\n"
          ]
        },
        {
          "output_type": "stream",
          "name": "stdout",
          "text": [
            "2023-04-21 01:40:47,674 epoch 5 - iter 7/79 - loss 2.36757401 - time (sec): 1.59 - samples/sec: 5244.58 - lr: 0.050000\n",
            "2023-04-21 01:40:49,343 epoch 5 - iter 14/79 - loss 2.43022098 - time (sec): 3.26 - samples/sec: 4912.78 - lr: 0.050000\n",
            "2023-04-21 01:40:51,000 epoch 5 - iter 21/79 - loss 2.31296725 - time (sec): 4.92 - samples/sec: 4970.18 - lr: 0.050000\n",
            "2023-04-21 01:40:52,835 epoch 5 - iter 28/79 - loss 2.18476798 - time (sec): 6.75 - samples/sec: 4931.55 - lr: 0.050000\n",
            "2023-04-21 01:40:54,485 epoch 5 - iter 35/79 - loss 2.15867041 - time (sec): 8.40 - samples/sec: 4818.37 - lr: 0.050000\n",
            "2023-04-21 01:40:57,004 epoch 5 - iter 42/79 - loss 2.15258018 - time (sec): 10.92 - samples/sec: 4664.99 - lr: 0.050000\n",
            "2023-04-21 01:40:58,584 epoch 5 - iter 49/79 - loss 2.13998522 - time (sec): 12.50 - samples/sec: 4719.49 - lr: 0.050000\n",
            "2023-04-21 01:41:00,384 epoch 5 - iter 56/79 - loss 2.08896828 - time (sec): 14.30 - samples/sec: 4731.88 - lr: 0.050000\n",
            "2023-04-21 01:41:02,139 epoch 5 - iter 63/79 - loss 2.09025623 - time (sec): 16.06 - samples/sec: 4805.48 - lr: 0.050000\n",
            "2023-04-21 01:41:03,805 epoch 5 - iter 70/79 - loss 2.08469431 - time (sec): 17.72 - samples/sec: 4812.90 - lr: 0.050000\n",
            "2023-04-21 01:41:05,400 epoch 5 - iter 77/79 - loss 2.06537077 - time (sec): 19.32 - samples/sec: 4791.02 - lr: 0.050000\n",
            "2023-04-21 01:41:05,768 ----------------------------------------------------------------------------------------------------\n",
            "2023-04-21 01:41:05,770 EPOCH 5 done: loss 2.0561 - lr 0.050000\n"
          ]
        },
        {
          "output_type": "stream",
          "name": "stderr",
          "text": [
            "100%|██████████| 79/79 [00:21<00:00,  3.68it/s]\n"
          ]
        },
        {
          "output_type": "stream",
          "name": "stdout",
          "text": [
            "2023-04-21 01:41:28,576 Evaluating as a multi-label problem: True\n",
            "2023-04-21 01:41:31,325 TRAIN : loss 1.2105978727340698 - f1-score (weighted avg)  0.1036\n"
          ]
        },
        {
          "output_type": "stream",
          "name": "stderr",
          "text": [
            "100%|██████████| 10/10 [00:02<00:00,  3.67it/s]"
          ]
        },
        {
          "output_type": "stream",
          "name": "stdout",
          "text": [
            "2023-04-21 01:41:34,128 Evaluating as a multi-label problem: False\n",
            "2023-04-21 01:41:34,193 DEV : loss 1.304074764251709 - f1-score (weighted avg)  0.1122\n",
            "2023-04-21 01:41:34,202 BAD EPOCHS (no improvement): 0\n",
            "2023-04-21 01:41:34,206 saving best model\n"
          ]
        },
        {
          "output_type": "stream",
          "name": "stderr",
          "text": [
            "\n"
          ]
        },
        {
          "output_type": "stream",
          "name": "stdout",
          "text": [
            "2023-04-21 01:41:36,280 ----------------------------------------------------------------------------------------------------\n",
            "2023-04-21 01:41:38,179 epoch 6 - iter 7/79 - loss 1.77905556 - time (sec): 1.90 - samples/sec: 4699.21 - lr: 0.050000\n",
            "2023-04-21 01:41:40,405 epoch 6 - iter 14/79 - loss 1.84236833 - time (sec): 4.12 - samples/sec: 4166.61 - lr: 0.050000\n",
            "2023-04-21 01:41:41,938 epoch 6 - iter 21/79 - loss 1.81905389 - time (sec): 5.66 - samples/sec: 4369.05 - lr: 0.050000\n",
            "2023-04-21 01:41:43,762 epoch 6 - iter 28/79 - loss 1.82260448 - time (sec): 7.48 - samples/sec: 4293.97 - lr: 0.050000\n",
            "2023-04-21 01:41:45,533 epoch 6 - iter 35/79 - loss 1.80871179 - time (sec): 9.25 - samples/sec: 4393.17 - lr: 0.050000\n",
            "2023-04-21 01:41:46,986 epoch 6 - iter 42/79 - loss 1.79340064 - time (sec): 10.70 - samples/sec: 4583.20 - lr: 0.050000\n",
            "2023-04-21 01:41:48,901 epoch 6 - iter 49/79 - loss 1.84211908 - time (sec): 12.62 - samples/sec: 4656.36 - lr: 0.050000\n",
            "2023-04-21 01:41:50,350 epoch 6 - iter 56/79 - loss 1.88961002 - time (sec): 14.07 - samples/sec: 4700.09 - lr: 0.050000\n",
            "2023-04-21 01:41:52,601 epoch 6 - iter 63/79 - loss 1.93627826 - time (sec): 16.32 - samples/sec: 4629.90 - lr: 0.050000\n",
            "2023-04-21 01:41:54,453 epoch 6 - iter 70/79 - loss 1.96495414 - time (sec): 18.17 - samples/sec: 4632.77 - lr: 0.050000\n",
            "2023-04-21 01:41:56,015 epoch 6 - iter 77/79 - loss 1.96412205 - time (sec): 19.73 - samples/sec: 4661.69 - lr: 0.050000\n",
            "2023-04-21 01:41:56,555 ----------------------------------------------------------------------------------------------------\n",
            "2023-04-21 01:41:56,557 EPOCH 6 done: loss 1.9521 - lr 0.050000\n"
          ]
        },
        {
          "output_type": "stream",
          "name": "stderr",
          "text": [
            "100%|██████████| 79/79 [00:21<00:00,  3.65it/s]"
          ]
        },
        {
          "output_type": "stream",
          "name": "stdout",
          "text": [
            "2023-04-21 01:42:18,347 Evaluating as a multi-label problem: True\n"
          ]
        },
        {
          "output_type": "stream",
          "name": "stderr",
          "text": [
            "\n"
          ]
        },
        {
          "output_type": "stream",
          "name": "stdout",
          "text": [
            "2023-04-21 01:42:21,107 TRAIN : loss 1.5016216039657593 - f1-score (weighted avg)  0.0817\n"
          ]
        },
        {
          "output_type": "stream",
          "name": "stderr",
          "text": [
            "100%|██████████| 10/10 [00:02<00:00,  3.62it/s]\n"
          ]
        },
        {
          "output_type": "stream",
          "name": "stdout",
          "text": [
            "2023-04-21 01:42:25,081 Evaluating as a multi-label problem: False\n",
            "2023-04-21 01:42:25,150 DEV : loss 1.6057008504867554 - f1-score (weighted avg)  0.0831\n",
            "2023-04-21 01:42:25,161 BAD EPOCHS (no improvement): 1\n",
            "2023-04-21 01:42:25,165 ----------------------------------------------------------------------------------------------------\n",
            "2023-04-21 01:42:26,883 epoch 7 - iter 7/79 - loss 1.45956417 - time (sec): 1.72 - samples/sec: 4609.93 - lr: 0.050000\n",
            "2023-04-21 01:42:29,027 epoch 7 - iter 14/79 - loss 1.70038587 - time (sec): 3.86 - samples/sec: 4555.96 - lr: 0.050000\n",
            "2023-04-21 01:42:30,524 epoch 7 - iter 21/79 - loss 1.75884807 - time (sec): 5.36 - samples/sec: 4633.20 - lr: 0.050000\n",
            "2023-04-21 01:42:32,173 epoch 7 - iter 28/79 - loss 1.77012083 - time (sec): 7.01 - samples/sec: 4750.12 - lr: 0.050000\n",
            "2023-04-21 01:42:33,759 epoch 7 - iter 35/79 - loss 1.76443774 - time (sec): 8.59 - samples/sec: 4777.51 - lr: 0.050000\n",
            "2023-04-21 01:42:36,097 epoch 7 - iter 42/79 - loss 1.72697787 - time (sec): 10.93 - samples/sec: 4592.72 - lr: 0.050000\n",
            "2023-04-21 01:42:37,875 epoch 7 - iter 49/79 - loss 1.69631983 - time (sec): 12.71 - samples/sec: 4620.53 - lr: 0.050000\n",
            "2023-04-21 01:42:39,491 epoch 7 - iter 56/79 - loss 1.67999092 - time (sec): 14.32 - samples/sec: 4680.85 - lr: 0.050000\n",
            "2023-04-21 01:42:40,969 epoch 7 - iter 63/79 - loss 1.63910039 - time (sec): 15.80 - samples/sec: 4703.23 - lr: 0.050000\n",
            "2023-04-21 01:42:42,768 epoch 7 - iter 70/79 - loss 1.64095856 - time (sec): 17.60 - samples/sec: 4741.71 - lr: 0.050000\n",
            "2023-04-21 01:42:44,537 epoch 7 - iter 77/79 - loss 1.65503941 - time (sec): 19.37 - samples/sec: 4770.89 - lr: 0.050000\n",
            "2023-04-21 01:42:45,013 ----------------------------------------------------------------------------------------------------\n",
            "2023-04-21 01:42:45,015 EPOCH 7 done: loss 1.6521 - lr 0.050000\n"
          ]
        },
        {
          "output_type": "stream",
          "name": "stderr",
          "text": [
            "100%|██████████| 79/79 [00:21<00:00,  3.68it/s]"
          ]
        },
        {
          "output_type": "stream",
          "name": "stdout",
          "text": [
            "2023-04-21 01:43:06,632 Evaluating as a multi-label problem: True\n"
          ]
        },
        {
          "output_type": "stream",
          "name": "stderr",
          "text": [
            "\n"
          ]
        },
        {
          "output_type": "stream",
          "name": "stdout",
          "text": [
            "2023-04-21 01:43:09,370 TRAIN : loss 1.2262790203094482 - f1-score (weighted avg)  0.1321\n"
          ]
        },
        {
          "output_type": "stream",
          "name": "stderr",
          "text": [
            "100%|██████████| 10/10 [00:02<00:00,  3.66it/s]"
          ]
        },
        {
          "output_type": "stream",
          "name": "stdout",
          "text": [
            "2023-04-21 01:43:12,181 Evaluating as a multi-label problem: False\n",
            "2023-04-21 01:43:12,246 DEV : loss 1.3367215394973755 - f1-score (weighted avg)  0.115\n",
            "2023-04-21 01:43:12,256 Epoch     7: reducing learning rate of group 0 to 2.5000e-02.\n",
            "2023-04-21 01:43:12,258 BAD EPOCHS (no improvement): 2\n",
            "2023-04-21 01:43:12,262 ----------------------------------------------------------------------------------------------------\n"
          ]
        },
        {
          "output_type": "stream",
          "name": "stderr",
          "text": [
            "\n"
          ]
        },
        {
          "output_type": "stream",
          "name": "stdout",
          "text": [
            "2023-04-21 01:43:14,099 epoch 8 - iter 7/79 - loss 1.66657451 - time (sec): 1.84 - samples/sec: 4856.85 - lr: 0.025000\n",
            "2023-04-21 01:43:16,343 epoch 8 - iter 14/79 - loss 1.42175850 - time (sec): 4.08 - samples/sec: 4545.02 - lr: 0.025000\n",
            "2023-04-21 01:43:17,973 epoch 8 - iter 21/79 - loss 1.42912292 - time (sec): 5.71 - samples/sec: 4853.13 - lr: 0.025000\n",
            "2023-04-21 01:43:19,466 epoch 8 - iter 28/79 - loss 1.44099904 - time (sec): 7.20 - samples/sec: 4871.65 - lr: 0.025000\n",
            "2023-04-21 01:43:21,201 epoch 8 - iter 35/79 - loss 1.41867851 - time (sec): 8.94 - samples/sec: 4835.46 - lr: 0.025000\n",
            "2023-04-21 01:43:23,075 epoch 8 - iter 42/79 - loss 1.41407292 - time (sec): 10.81 - samples/sec: 4785.61 - lr: 0.025000\n",
            "2023-04-21 01:43:24,679 epoch 8 - iter 49/79 - loss 1.38706206 - time (sec): 12.42 - samples/sec: 4863.42 - lr: 0.025000\n",
            "2023-04-21 01:43:26,400 epoch 8 - iter 56/79 - loss 1.37244910 - time (sec): 14.14 - samples/sec: 4798.17 - lr: 0.025000\n",
            "2023-04-21 01:43:28,072 epoch 8 - iter 63/79 - loss 1.34076677 - time (sec): 15.81 - samples/sec: 4824.56 - lr: 0.025000\n",
            "2023-04-21 01:43:30,019 epoch 8 - iter 70/79 - loss 1.32186478 - time (sec): 17.76 - samples/sec: 4793.04 - lr: 0.025000\n",
            "2023-04-21 01:43:31,749 epoch 8 - iter 77/79 - loss 1.30603801 - time (sec): 19.49 - samples/sec: 4767.29 - lr: 0.025000\n",
            "2023-04-21 01:43:32,124 ----------------------------------------------------------------------------------------------------\n",
            "2023-04-21 01:43:32,126 EPOCH 8 done: loss 1.3127 - lr 0.025000\n"
          ]
        },
        {
          "output_type": "stream",
          "name": "stderr",
          "text": [
            "100%|██████████| 79/79 [00:21<00:00,  3.68it/s]"
          ]
        },
        {
          "output_type": "stream",
          "name": "stdout",
          "text": [
            "2023-04-21 01:43:53,728 Evaluating as a multi-label problem: True\n"
          ]
        },
        {
          "output_type": "stream",
          "name": "stderr",
          "text": [
            "\n"
          ]
        },
        {
          "output_type": "stream",
          "name": "stdout",
          "text": [
            "2023-04-21 01:43:57,737 TRAIN : loss 0.808732807636261 - f1-score (weighted avg)  0.2764\n"
          ]
        },
        {
          "output_type": "stream",
          "name": "stderr",
          "text": [
            "100%|██████████| 10/10 [00:02<00:00,  3.58it/s]"
          ]
        },
        {
          "output_type": "stream",
          "name": "stdout",
          "text": [
            "2023-04-21 01:44:00,612 Evaluating as a multi-label problem: False\n",
            "2023-04-21 01:44:00,681 DEV : loss 0.883874773979187 - f1-score (weighted avg)  0.252\n",
            "2023-04-21 01:44:00,691 BAD EPOCHS (no improvement): 0\n",
            "2023-04-21 01:44:00,695 saving best model\n"
          ]
        },
        {
          "output_type": "stream",
          "name": "stderr",
          "text": [
            "\n"
          ]
        },
        {
          "output_type": "stream",
          "name": "stdout",
          "text": [
            "2023-04-21 01:44:02,791 ----------------------------------------------------------------------------------------------------\n",
            "2023-04-21 01:44:04,417 epoch 9 - iter 7/79 - loss 1.03268109 - time (sec): 1.62 - samples/sec: 5343.89 - lr: 0.025000\n",
            "2023-04-21 01:44:06,294 epoch 9 - iter 14/79 - loss 1.08023398 - time (sec): 3.50 - samples/sec: 5014.98 - lr: 0.025000\n",
            "2023-04-21 01:44:08,298 epoch 9 - iter 21/79 - loss 1.10937868 - time (sec): 5.50 - samples/sec: 4822.12 - lr: 0.025000\n",
            "2023-04-21 01:44:10,284 epoch 9 - iter 28/79 - loss 1.08558738 - time (sec): 7.49 - samples/sec: 4668.97 - lr: 0.025000\n",
            "2023-04-21 01:44:11,952 epoch 9 - iter 35/79 - loss 1.09322276 - time (sec): 9.16 - samples/sec: 4672.47 - lr: 0.025000\n",
            "2023-04-21 01:44:13,584 epoch 9 - iter 42/79 - loss 1.06952405 - time (sec): 10.79 - samples/sec: 4746.42 - lr: 0.025000\n",
            "2023-04-21 01:44:15,324 epoch 9 - iter 49/79 - loss 1.06721320 - time (sec): 12.53 - samples/sec: 4765.20 - lr: 0.025000\n",
            "2023-04-21 01:44:16,874 epoch 9 - iter 56/79 - loss 1.06387028 - time (sec): 14.08 - samples/sec: 4763.18 - lr: 0.025000\n",
            "2023-04-21 01:44:18,634 epoch 9 - iter 63/79 - loss 1.04943458 - time (sec): 15.84 - samples/sec: 4756.02 - lr: 0.025000\n",
            "2023-04-21 01:44:20,259 epoch 9 - iter 70/79 - loss 1.03118733 - time (sec): 17.47 - samples/sec: 4774.91 - lr: 0.025000\n",
            "2023-04-21 01:44:22,379 epoch 9 - iter 77/79 - loss 1.02698917 - time (sec): 19.59 - samples/sec: 4711.92 - lr: 0.025000\n",
            "2023-04-21 01:44:22,834 ----------------------------------------------------------------------------------------------------\n",
            "2023-04-21 01:44:22,836 EPOCH 9 done: loss 1.0253 - lr 0.025000\n"
          ]
        },
        {
          "output_type": "stream",
          "name": "stderr",
          "text": [
            "100%|██████████| 79/79 [00:21<00:00,  3.68it/s]"
          ]
        },
        {
          "output_type": "stream",
          "name": "stdout",
          "text": [
            "2023-04-21 01:44:44,438 Evaluating as a multi-label problem: True\n"
          ]
        },
        {
          "output_type": "stream",
          "name": "stderr",
          "text": [
            "\n"
          ]
        },
        {
          "output_type": "stream",
          "name": "stdout",
          "text": [
            "2023-04-21 01:44:47,180 TRAIN : loss 0.7327685952186584 - f1-score (weighted avg)  0.3009\n"
          ]
        },
        {
          "output_type": "stream",
          "name": "stderr",
          "text": [
            "100%|██████████| 10/10 [00:02<00:00,  3.63it/s]"
          ]
        },
        {
          "output_type": "stream",
          "name": "stdout",
          "text": [
            "2023-04-21 01:44:50,017 Evaluating as a multi-label problem: False\n",
            "2023-04-21 01:44:50,088 DEV : loss 0.8121908903121948 - f1-score (weighted avg)  0.2791\n",
            "2023-04-21 01:44:50,097 BAD EPOCHS (no improvement): 0\n",
            "2023-04-21 01:44:50,102 saving best model\n"
          ]
        },
        {
          "output_type": "stream",
          "name": "stderr",
          "text": [
            "\n"
          ]
        },
        {
          "output_type": "stream",
          "name": "stdout",
          "text": [
            "2023-04-21 01:44:52,188 ----------------------------------------------------------------------------------------------------\n",
            "2023-04-21 01:44:54,254 epoch 10 - iter 7/79 - loss 1.00773167 - time (sec): 2.06 - samples/sec: 4123.83 - lr: 0.025000\n",
            "2023-04-21 01:44:55,657 epoch 10 - iter 14/79 - loss 1.07813924 - time (sec): 3.47 - samples/sec: 4433.14 - lr: 0.025000\n",
            "2023-04-21 01:44:57,559 epoch 10 - iter 21/79 - loss 1.07165152 - time (sec): 5.37 - samples/sec: 4288.15 - lr: 0.025000\n",
            "2023-04-21 01:44:59,248 epoch 10 - iter 28/79 - loss 1.03211974 - time (sec): 7.06 - samples/sec: 4422.48 - lr: 0.025000\n",
            "2023-04-21 01:45:01,136 epoch 10 - iter 35/79 - loss 1.03955071 - time (sec): 8.95 - samples/sec: 4460.74 - lr: 0.025000\n",
            "2023-04-21 01:45:02,823 epoch 10 - iter 42/79 - loss 1.01745259 - time (sec): 10.63 - samples/sec: 4542.09 - lr: 0.025000\n",
            "2023-04-21 01:45:04,466 epoch 10 - iter 49/79 - loss 1.02959463 - time (sec): 12.28 - samples/sec: 4628.10 - lr: 0.025000\n",
            "2023-04-21 01:45:06,242 epoch 10 - iter 56/79 - loss 1.01411734 - time (sec): 14.05 - samples/sec: 4745.80 - lr: 0.025000\n",
            "2023-04-21 01:45:08,142 epoch 10 - iter 63/79 - loss 1.02773842 - time (sec): 15.95 - samples/sec: 4730.10 - lr: 0.025000\n",
            "2023-04-21 01:45:09,875 epoch 10 - iter 70/79 - loss 1.05473014 - time (sec): 17.68 - samples/sec: 4776.68 - lr: 0.025000\n",
            "2023-04-21 01:45:11,542 epoch 10 - iter 77/79 - loss 1.04887994 - time (sec): 19.35 - samples/sec: 4788.23 - lr: 0.025000\n",
            "2023-04-21 01:45:11,973 ----------------------------------------------------------------------------------------------------\n",
            "2023-04-21 01:45:11,975 EPOCH 10 done: loss 1.0426 - lr 0.025000\n"
          ]
        },
        {
          "output_type": "stream",
          "name": "stderr",
          "text": [
            "100%|██████████| 79/79 [00:22<00:00,  3.50it/s]"
          ]
        },
        {
          "output_type": "stream",
          "name": "stdout",
          "text": [
            "2023-04-21 01:45:34,726 Evaluating as a multi-label problem: True\n"
          ]
        },
        {
          "output_type": "stream",
          "name": "stderr",
          "text": [
            "\n"
          ]
        },
        {
          "output_type": "stream",
          "name": "stdout",
          "text": [
            "2023-04-21 01:45:37,505 TRAIN : loss 0.6637446284294128 - f1-score (weighted avg)  0.313\n"
          ]
        },
        {
          "output_type": "stream",
          "name": "stderr",
          "text": [
            "100%|██████████| 10/10 [00:02<00:00,  3.63it/s]"
          ]
        },
        {
          "output_type": "stream",
          "name": "stdout",
          "text": [
            "2023-04-21 01:45:40,343 Evaluating as a multi-label problem: False\n",
            "2023-04-21 01:45:40,412 DEV : loss 0.7185861468315125 - f1-score (weighted avg)  0.2974\n",
            "2023-04-21 01:45:40,423 BAD EPOCHS (no improvement): 0\n",
            "2023-04-21 01:45:40,427 saving best model\n"
          ]
        },
        {
          "output_type": "stream",
          "name": "stderr",
          "text": [
            "\n"
          ]
        },
        {
          "output_type": "stream",
          "name": "stdout",
          "text": [
            "2023-04-21 01:45:42,496 ----------------------------------------------------------------------------------------------------\n",
            "2023-04-21 01:45:44,216 epoch 11 - iter 7/79 - loss 0.87527988 - time (sec): 1.72 - samples/sec: 4922.83 - lr: 0.025000\n",
            "2023-04-21 01:45:45,989 epoch 11 - iter 14/79 - loss 0.93830027 - time (sec): 3.49 - samples/sec: 5000.35 - lr: 0.025000\n",
            "2023-04-21 01:45:47,818 epoch 11 - iter 21/79 - loss 0.98154244 - time (sec): 5.32 - samples/sec: 4905.76 - lr: 0.025000\n",
            "2023-04-21 01:45:49,653 epoch 11 - iter 28/79 - loss 1.03033627 - time (sec): 7.16 - samples/sec: 4823.98 - lr: 0.025000\n",
            "2023-04-21 01:45:51,390 epoch 11 - iter 35/79 - loss 1.01001989 - time (sec): 8.89 - samples/sec: 4822.91 - lr: 0.025000\n",
            "2023-04-21 01:45:52,966 epoch 11 - iter 42/79 - loss 1.01137811 - time (sec): 10.47 - samples/sec: 4810.30 - lr: 0.025000\n",
            "2023-04-21 01:45:54,665 epoch 11 - iter 49/79 - loss 1.00765217 - time (sec): 12.17 - samples/sec: 4766.05 - lr: 0.025000\n",
            "2023-04-21 01:45:57,335 epoch 11 - iter 56/79 - loss 1.02441373 - time (sec): 14.84 - samples/sec: 4565.26 - lr: 0.025000\n",
            "2023-04-21 01:45:58,632 epoch 11 - iter 63/79 - loss 1.02308587 - time (sec): 16.13 - samples/sec: 4668.95 - lr: 0.025000\n",
            "2023-04-21 01:46:00,334 epoch 11 - iter 70/79 - loss 1.02989488 - time (sec): 17.84 - samples/sec: 4685.69 - lr: 0.025000\n",
            "2023-04-21 01:46:02,109 epoch 11 - iter 77/79 - loss 1.01061885 - time (sec): 19.61 - samples/sec: 4737.55 - lr: 0.025000\n",
            "2023-04-21 01:46:02,480 ----------------------------------------------------------------------------------------------------\n",
            "2023-04-21 01:46:02,482 EPOCH 11 done: loss 1.0041 - lr 0.025000\n"
          ]
        },
        {
          "output_type": "stream",
          "name": "stderr",
          "text": [
            "100%|██████████| 79/79 [00:21<00:00,  3.68it/s]"
          ]
        },
        {
          "output_type": "stream",
          "name": "stdout",
          "text": [
            "2023-04-21 01:46:24,103 Evaluating as a multi-label problem: True\n"
          ]
        },
        {
          "output_type": "stream",
          "name": "stderr",
          "text": [
            "\n"
          ]
        },
        {
          "output_type": "stream",
          "name": "stdout",
          "text": [
            "2023-04-21 01:46:28,134 TRAIN : loss 0.6288954019546509 - f1-score (weighted avg)  0.298\n"
          ]
        },
        {
          "output_type": "stream",
          "name": "stderr",
          "text": [
            "100%|██████████| 10/10 [00:02<00:00,  3.59it/s]"
          ]
        },
        {
          "output_type": "stream",
          "name": "stdout",
          "text": [
            "2023-04-21 01:46:31,005 Evaluating as a multi-label problem: False\n",
            "2023-04-21 01:46:31,075 DEV : loss 0.6958194971084595 - f1-score (weighted avg)  0.2829\n",
            "2023-04-21 01:46:31,084 BAD EPOCHS (no improvement): 0\n",
            "2023-04-21 01:46:31,088 saving best model\n"
          ]
        },
        {
          "output_type": "stream",
          "name": "stderr",
          "text": [
            "\n"
          ]
        },
        {
          "output_type": "stream",
          "name": "stdout",
          "text": [
            "2023-04-21 01:46:33,180 ----------------------------------------------------------------------------------------------------\n",
            "2023-04-21 01:46:35,007 epoch 12 - iter 7/79 - loss 0.87704300 - time (sec): 1.82 - samples/sec: 4586.81 - lr: 0.025000\n",
            "2023-04-21 01:46:36,522 epoch 12 - iter 14/79 - loss 0.91744455 - time (sec): 3.34 - samples/sec: 4840.62 - lr: 0.025000\n",
            "2023-04-21 01:46:38,679 epoch 12 - iter 21/79 - loss 0.86429671 - time (sec): 5.50 - samples/sec: 4637.20 - lr: 0.025000\n",
            "2023-04-21 01:46:40,427 epoch 12 - iter 28/79 - loss 0.85178572 - time (sec): 7.24 - samples/sec: 4749.12 - lr: 0.025000\n",
            "2023-04-21 01:46:42,469 epoch 12 - iter 35/79 - loss 0.80498164 - time (sec): 9.29 - samples/sec: 4686.46 - lr: 0.025000\n",
            "2023-04-21 01:46:44,174 epoch 12 - iter 42/79 - loss 0.81087818 - time (sec): 10.99 - samples/sec: 4654.07 - lr: 0.025000\n",
            "2023-04-21 01:46:45,908 epoch 12 - iter 49/79 - loss 0.81576899 - time (sec): 12.73 - samples/sec: 4684.06 - lr: 0.025000\n",
            "2023-04-21 01:46:47,220 epoch 12 - iter 56/79 - loss 0.80881496 - time (sec): 14.04 - samples/sec: 4790.56 - lr: 0.025000\n",
            "2023-04-21 01:46:48,830 epoch 12 - iter 63/79 - loss 0.79595620 - time (sec): 15.65 - samples/sec: 4800.66 - lr: 0.025000\n",
            "2023-04-21 01:46:51,187 epoch 12 - iter 70/79 - loss 0.80368826 - time (sec): 18.00 - samples/sec: 4678.00 - lr: 0.025000\n",
            "2023-04-21 01:46:53,023 epoch 12 - iter 77/79 - loss 0.81776739 - time (sec): 19.84 - samples/sec: 4666.72 - lr: 0.025000\n",
            "2023-04-21 01:46:53,465 ----------------------------------------------------------------------------------------------------\n",
            "2023-04-21 01:46:53,467 EPOCH 12 done: loss 0.8193 - lr 0.025000\n"
          ]
        },
        {
          "output_type": "stream",
          "name": "stderr",
          "text": [
            "100%|██████████| 79/79 [00:21<00:00,  3.68it/s]"
          ]
        },
        {
          "output_type": "stream",
          "name": "stdout",
          "text": [
            "2023-04-21 01:47:15,076 Evaluating as a multi-label problem: True\n"
          ]
        },
        {
          "output_type": "stream",
          "name": "stderr",
          "text": [
            "\n"
          ]
        },
        {
          "output_type": "stream",
          "name": "stdout",
          "text": [
            "2023-04-21 01:47:17,824 TRAIN : loss 0.8327720761299133 - f1-score (weighted avg)  0.115\n"
          ]
        },
        {
          "output_type": "stream",
          "name": "stderr",
          "text": [
            "100%|██████████| 10/10 [00:02<00:00,  3.64it/s]"
          ]
        },
        {
          "output_type": "stream",
          "name": "stdout",
          "text": [
            "2023-04-21 01:47:20,651 Evaluating as a multi-label problem: False\n",
            "2023-04-21 01:47:20,717 DEV : loss 0.8827935457229614 - f1-score (weighted avg)  0.1004\n",
            "2023-04-21 01:47:20,726 BAD EPOCHS (no improvement): 1\n",
            "2023-04-21 01:47:20,730 ----------------------------------------------------------------------------------------------------\n"
          ]
        },
        {
          "output_type": "stream",
          "name": "stderr",
          "text": [
            "\n"
          ]
        },
        {
          "output_type": "stream",
          "name": "stdout",
          "text": [
            "2023-04-21 01:47:22,222 epoch 13 - iter 7/79 - loss 0.95275090 - time (sec): 1.49 - samples/sec: 5408.21 - lr: 0.025000\n",
            "2023-04-21 01:47:23,703 epoch 13 - iter 14/79 - loss 0.87642921 - time (sec): 2.97 - samples/sec: 5265.98 - lr: 0.025000\n",
            "2023-04-21 01:47:25,552 epoch 13 - iter 21/79 - loss 0.84002383 - time (sec): 4.82 - samples/sec: 4905.09 - lr: 0.025000\n",
            "2023-04-21 01:47:27,025 epoch 13 - iter 28/79 - loss 0.87107405 - time (sec): 6.29 - samples/sec: 4976.86 - lr: 0.025000\n",
            "2023-04-21 01:47:28,899 epoch 13 - iter 35/79 - loss 0.84525313 - time (sec): 8.17 - samples/sec: 4773.79 - lr: 0.025000\n",
            "2023-04-21 01:47:30,753 epoch 13 - iter 42/79 - loss 0.81872112 - time (sec): 10.02 - samples/sec: 4778.35 - lr: 0.025000\n",
            "2023-04-21 01:47:32,708 epoch 13 - iter 49/79 - loss 0.81481005 - time (sec): 11.98 - samples/sec: 4828.92 - lr: 0.025000\n",
            "2023-04-21 01:47:34,875 epoch 13 - iter 56/79 - loss 0.80216630 - time (sec): 14.14 - samples/sec: 4717.93 - lr: 0.025000\n",
            "2023-04-21 01:47:36,619 epoch 13 - iter 63/79 - loss 0.78924204 - time (sec): 15.89 - samples/sec: 4707.98 - lr: 0.025000\n",
            "2023-04-21 01:47:38,280 epoch 13 - iter 70/79 - loss 0.78937895 - time (sec): 17.55 - samples/sec: 4756.53 - lr: 0.025000\n",
            "2023-04-21 01:47:39,905 epoch 13 - iter 77/79 - loss 0.77103393 - time (sec): 19.17 - samples/sec: 4810.27 - lr: 0.025000\n",
            "2023-04-21 01:47:40,681 ----------------------------------------------------------------------------------------------------\n",
            "2023-04-21 01:47:40,683 EPOCH 13 done: loss 0.7723 - lr 0.025000\n"
          ]
        },
        {
          "output_type": "stream",
          "name": "stderr",
          "text": [
            "100%|██████████| 79/79 [00:22<00:00,  3.48it/s]"
          ]
        },
        {
          "output_type": "stream",
          "name": "stdout",
          "text": [
            "2023-04-21 01:48:03,507 Evaluating as a multi-label problem: True\n"
          ]
        },
        {
          "output_type": "stream",
          "name": "stderr",
          "text": [
            "\n"
          ]
        },
        {
          "output_type": "stream",
          "name": "stdout",
          "text": [
            "2023-04-21 01:48:06,301 TRAIN : loss 0.6623326539993286 - f1-score (weighted avg)  0.2994\n"
          ]
        },
        {
          "output_type": "stream",
          "name": "stderr",
          "text": [
            "100%|██████████| 10/10 [00:02<00:00,  3.57it/s]"
          ]
        },
        {
          "output_type": "stream",
          "name": "stdout",
          "text": [
            "2023-04-21 01:48:09,181 Evaluating as a multi-label problem: False\n",
            "2023-04-21 01:48:09,255 DEV : loss 0.7103167772293091 - f1-score (weighted avg)  0.2812\n",
            "2023-04-21 01:48:09,265 Epoch    13: reducing learning rate of group 0 to 1.2500e-02.\n",
            "2023-04-21 01:48:09,267 BAD EPOCHS (no improvement): 2\n",
            "2023-04-21 01:48:09,271 ----------------------------------------------------------------------------------------------------\n"
          ]
        },
        {
          "output_type": "stream",
          "name": "stderr",
          "text": [
            "\n"
          ]
        },
        {
          "output_type": "stream",
          "name": "stdout",
          "text": [
            "2023-04-21 01:48:10,948 epoch 14 - iter 7/79 - loss 0.73308079 - time (sec): 1.67 - samples/sec: 5136.93 - lr: 0.012500\n",
            "2023-04-21 01:48:12,541 epoch 14 - iter 14/79 - loss 0.74331531 - time (sec): 3.27 - samples/sec: 5178.15 - lr: 0.012500\n",
            "2023-04-21 01:48:14,435 epoch 14 - iter 21/79 - loss 0.73362449 - time (sec): 5.16 - samples/sec: 4987.08 - lr: 0.012500\n",
            "2023-04-21 01:48:16,299 epoch 14 - iter 28/79 - loss 0.74510234 - time (sec): 7.03 - samples/sec: 4866.59 - lr: 0.012500\n",
            "2023-04-21 01:48:18,212 epoch 14 - iter 35/79 - loss 0.71622259 - time (sec): 8.94 - samples/sec: 4827.92 - lr: 0.012500\n",
            "2023-04-21 01:48:19,858 epoch 14 - iter 42/79 - loss 0.72823520 - time (sec): 10.58 - samples/sec: 4755.40 - lr: 0.012500\n",
            "2023-04-21 01:48:22,035 epoch 14 - iter 49/79 - loss 0.73247046 - time (sec): 12.76 - samples/sec: 4637.01 - lr: 0.012500\n",
            "2023-04-21 01:48:23,693 epoch 14 - iter 56/79 - loss 0.74670624 - time (sec): 14.42 - samples/sec: 4708.84 - lr: 0.012500\n",
            "2023-04-21 01:48:25,260 epoch 14 - iter 63/79 - loss 0.73631281 - time (sec): 15.99 - samples/sec: 4755.81 - lr: 0.012500\n",
            "2023-04-21 01:48:26,766 epoch 14 - iter 70/79 - loss 0.72330187 - time (sec): 17.49 - samples/sec: 4826.81 - lr: 0.012500\n",
            "2023-04-21 01:48:28,162 epoch 14 - iter 77/79 - loss 0.71671941 - time (sec): 18.89 - samples/sec: 4882.84 - lr: 0.012500\n",
            "2023-04-21 01:48:28,871 ----------------------------------------------------------------------------------------------------\n",
            "2023-04-21 01:48:28,873 EPOCH 14 done: loss 0.7192 - lr 0.012500\n"
          ]
        },
        {
          "output_type": "stream",
          "name": "stderr",
          "text": [
            "100%|██████████| 79/79 [00:21<00:00,  3.67it/s]"
          ]
        },
        {
          "output_type": "stream",
          "name": "stdout",
          "text": [
            "2023-04-21 01:48:50,551 Evaluating as a multi-label problem: True\n"
          ]
        },
        {
          "output_type": "stream",
          "name": "stderr",
          "text": [
            "\n"
          ]
        },
        {
          "output_type": "stream",
          "name": "stdout",
          "text": [
            "2023-04-21 01:48:54,608 TRAIN : loss 0.4756223261356354 - f1-score (weighted avg)  0.339\n"
          ]
        },
        {
          "output_type": "stream",
          "name": "stderr",
          "text": [
            "100%|██████████| 10/10 [00:02<00:00,  3.58it/s]"
          ]
        },
        {
          "output_type": "stream",
          "name": "stdout",
          "text": [
            "2023-04-21 01:48:57,485 Evaluating as a multi-label problem: False\n",
            "2023-04-21 01:48:57,558 DEV : loss 0.5125617980957031 - f1-score (weighted avg)  0.3341\n",
            "2023-04-21 01:48:57,568 BAD EPOCHS (no improvement): 0\n",
            "2023-04-21 01:48:57,573 saving best model\n"
          ]
        },
        {
          "output_type": "stream",
          "name": "stderr",
          "text": [
            "\n"
          ]
        },
        {
          "output_type": "stream",
          "name": "stdout",
          "text": [
            "2023-04-21 01:48:59,720 ----------------------------------------------------------------------------------------------------\n",
            "2023-04-21 01:49:01,432 epoch 15 - iter 7/79 - loss 0.60629326 - time (sec): 1.71 - samples/sec: 5216.67 - lr: 0.012500\n",
            "2023-04-21 01:49:02,998 epoch 15 - iter 14/79 - loss 0.62981133 - time (sec): 3.28 - samples/sec: 5063.52 - lr: 0.012500\n",
            "2023-04-21 01:49:04,473 epoch 15 - iter 21/79 - loss 0.63317849 - time (sec): 4.75 - samples/sec: 5106.10 - lr: 0.012500\n",
            "2023-04-21 01:49:06,092 epoch 15 - iter 28/79 - loss 0.62871413 - time (sec): 6.37 - samples/sec: 5164.33 - lr: 0.012500\n",
            "2023-04-21 01:49:08,411 epoch 15 - iter 35/79 - loss 0.63528031 - time (sec): 8.69 - samples/sec: 4759.73 - lr: 0.012500\n",
            "2023-04-21 01:49:10,683 epoch 15 - iter 42/79 - loss 0.63053944 - time (sec): 10.96 - samples/sec: 4558.40 - lr: 0.012500\n",
            "2023-04-21 01:49:12,588 epoch 15 - iter 49/79 - loss 0.63191560 - time (sec): 12.87 - samples/sec: 4575.63 - lr: 0.012500\n",
            "2023-04-21 01:49:14,522 epoch 15 - iter 56/79 - loss 0.63204363 - time (sec): 14.80 - samples/sec: 4583.23 - lr: 0.012500\n",
            "2023-04-21 01:49:16,067 epoch 15 - iter 63/79 - loss 0.63493171 - time (sec): 16.35 - samples/sec: 4577.30 - lr: 0.012500\n",
            "2023-04-21 01:49:18,138 epoch 15 - iter 70/79 - loss 0.61694466 - time (sec): 18.42 - samples/sec: 4522.01 - lr: 0.012500\n",
            "2023-04-21 01:49:20,196 epoch 15 - iter 77/79 - loss 0.61524402 - time (sec): 20.47 - samples/sec: 4519.20 - lr: 0.012500\n",
            "2023-04-21 01:49:20,793 ----------------------------------------------------------------------------------------------------\n",
            "2023-04-21 01:49:20,795 EPOCH 15 done: loss 0.6144 - lr 0.012500\n"
          ]
        },
        {
          "output_type": "stream",
          "name": "stderr",
          "text": [
            "100%|██████████| 79/79 [00:21<00:00,  3.65it/s]"
          ]
        },
        {
          "output_type": "stream",
          "name": "stdout",
          "text": [
            "2023-04-21 01:49:42,556 Evaluating as a multi-label problem: True\n"
          ]
        },
        {
          "output_type": "stream",
          "name": "stderr",
          "text": [
            "\n"
          ]
        },
        {
          "output_type": "stream",
          "name": "stdout",
          "text": [
            "2023-04-21 01:49:45,343 TRAIN : loss 0.45660433173179626 - f1-score (weighted avg)  0.3353\n"
          ]
        },
        {
          "output_type": "stream",
          "name": "stderr",
          "text": [
            "100%|██████████| 10/10 [00:02<00:00,  3.59it/s]"
          ]
        },
        {
          "output_type": "stream",
          "name": "stdout",
          "text": [
            "2023-04-21 01:49:48,209 Evaluating as a multi-label problem: False\n",
            "2023-04-21 01:49:48,277 DEV : loss 0.49260765314102173 - f1-score (weighted avg)  0.332\n",
            "2023-04-21 01:49:48,286 BAD EPOCHS (no improvement): 0\n",
            "2023-04-21 01:49:48,290 saving best model\n"
          ]
        },
        {
          "output_type": "stream",
          "name": "stderr",
          "text": [
            "\n"
          ]
        },
        {
          "output_type": "stream",
          "name": "stdout",
          "text": [
            "2023-04-21 01:49:50,359 ----------------------------------------------------------------------------------------------------\n",
            "2023-04-21 01:49:52,388 epoch 16 - iter 7/79 - loss 0.77625754 - time (sec): 2.03 - samples/sec: 4710.64 - lr: 0.012500\n",
            "2023-04-21 01:49:54,081 epoch 16 - iter 14/79 - loss 0.64910287 - time (sec): 3.72 - samples/sec: 5203.75 - lr: 0.012500\n",
            "2023-04-21 01:49:55,663 epoch 16 - iter 21/79 - loss 0.64576249 - time (sec): 5.30 - samples/sec: 5017.00 - lr: 0.012500\n",
            "2023-04-21 01:49:57,209 epoch 16 - iter 28/79 - loss 0.66749797 - time (sec): 6.85 - samples/sec: 4990.09 - lr: 0.012500\n",
            "2023-04-21 01:49:59,024 epoch 16 - iter 35/79 - loss 0.63563116 - time (sec): 8.66 - samples/sec: 4903.20 - lr: 0.012500\n",
            "2023-04-21 01:50:01,078 epoch 16 - iter 42/79 - loss 0.61072401 - time (sec): 10.72 - samples/sec: 4722.87 - lr: 0.012500\n",
            "2023-04-21 01:50:03,155 epoch 16 - iter 49/79 - loss 0.61736805 - time (sec): 12.79 - samples/sec: 4633.90 - lr: 0.012500\n",
            "2023-04-21 01:50:05,014 epoch 16 - iter 56/79 - loss 0.60347539 - time (sec): 14.65 - samples/sec: 4648.60 - lr: 0.012500\n",
            "2023-04-21 01:50:06,787 epoch 16 - iter 63/79 - loss 0.61221721 - time (sec): 16.43 - samples/sec: 4649.41 - lr: 0.012500\n",
            "2023-04-21 01:50:08,393 epoch 16 - iter 70/79 - loss 0.60181825 - time (sec): 18.03 - samples/sec: 4641.74 - lr: 0.012500\n",
            "2023-04-21 01:50:10,033 epoch 16 - iter 77/79 - loss 0.60264049 - time (sec): 19.67 - samples/sec: 4704.77 - lr: 0.012500\n",
            "2023-04-21 01:50:10,588 ----------------------------------------------------------------------------------------------------\n",
            "2023-04-21 01:50:10,590 EPOCH 16 done: loss 0.5996 - lr 0.012500\n"
          ]
        },
        {
          "output_type": "stream",
          "name": "stderr",
          "text": [
            "100%|██████████| 79/79 [00:22<00:00,  3.48it/s]"
          ]
        },
        {
          "output_type": "stream",
          "name": "stdout",
          "text": [
            "2023-04-21 01:50:33,463 Evaluating as a multi-label problem: True\n"
          ]
        },
        {
          "output_type": "stream",
          "name": "stderr",
          "text": [
            "\n"
          ]
        },
        {
          "output_type": "stream",
          "name": "stdout",
          "text": [
            "2023-04-21 01:50:36,246 TRAIN : loss 0.409477174282074 - f1-score (weighted avg)  0.3364\n"
          ]
        },
        {
          "output_type": "stream",
          "name": "stderr",
          "text": [
            "100%|██████████| 10/10 [00:02<00:00,  3.62it/s]"
          ]
        },
        {
          "output_type": "stream",
          "name": "stdout",
          "text": [
            "2023-04-21 01:50:39,095 Evaluating as a multi-label problem: False\n",
            "2023-04-21 01:50:39,174 DEV : loss 0.4551801085472107 - f1-score (weighted avg)  0.3189\n",
            "2023-04-21 01:50:39,185 BAD EPOCHS (no improvement): 0\n",
            "2023-04-21 01:50:39,189 saving best model\n"
          ]
        },
        {
          "output_type": "stream",
          "name": "stderr",
          "text": [
            "\n"
          ]
        },
        {
          "output_type": "stream",
          "name": "stdout",
          "text": [
            "2023-04-21 01:50:41,256 ----------------------------------------------------------------------------------------------------\n",
            "2023-04-21 01:50:42,760 epoch 17 - iter 7/79 - loss 0.62622443 - time (sec): 1.50 - samples/sec: 4937.74 - lr: 0.012500\n",
            "2023-04-21 01:50:44,631 epoch 17 - iter 14/79 - loss 0.56117783 - time (sec): 3.37 - samples/sec: 4787.00 - lr: 0.012500\n",
            "2023-04-21 01:50:46,506 epoch 17 - iter 21/79 - loss 0.56396270 - time (sec): 5.25 - samples/sec: 4736.86 - lr: 0.012500\n",
            "2023-04-21 01:50:48,666 epoch 17 - iter 28/79 - loss 0.57039429 - time (sec): 7.41 - samples/sec: 4584.64 - lr: 0.012500\n",
            "2023-04-21 01:50:51,119 epoch 17 - iter 35/79 - loss 0.54977418 - time (sec): 9.86 - samples/sec: 4299.03 - lr: 0.012500\n",
            "2023-04-21 01:50:52,904 epoch 17 - iter 42/79 - loss 0.55727802 - time (sec): 11.64 - samples/sec: 4341.77 - lr: 0.012500\n",
            "2023-04-21 01:50:54,533 epoch 17 - iter 49/79 - loss 0.57228176 - time (sec): 13.27 - samples/sec: 4468.09 - lr: 0.012500\n",
            "2023-04-21 01:50:56,070 epoch 17 - iter 56/79 - loss 0.57657723 - time (sec): 14.81 - samples/sec: 4468.25 - lr: 0.012500\n",
            "2023-04-21 01:50:57,993 epoch 17 - iter 63/79 - loss 0.58581275 - time (sec): 16.73 - samples/sec: 4537.59 - lr: 0.012500\n",
            "2023-04-21 01:50:59,551 epoch 17 - iter 70/79 - loss 0.59286774 - time (sec): 18.29 - samples/sec: 4601.01 - lr: 0.012500\n",
            "2023-04-21 01:51:01,052 epoch 17 - iter 77/79 - loss 0.58771115 - time (sec): 19.79 - samples/sec: 4667.97 - lr: 0.012500\n",
            "2023-04-21 01:51:01,468 ----------------------------------------------------------------------------------------------------\n",
            "2023-04-21 01:51:01,469 EPOCH 17 done: loss 0.5862 - lr 0.012500\n"
          ]
        },
        {
          "output_type": "stream",
          "name": "stderr",
          "text": [
            "100%|██████████| 79/79 [00:21<00:00,  3.68it/s]"
          ]
        },
        {
          "output_type": "stream",
          "name": "stdout",
          "text": [
            "2023-04-21 01:51:23,073 Evaluating as a multi-label problem: True\n"
          ]
        },
        {
          "output_type": "stream",
          "name": "stderr",
          "text": [
            "\n"
          ]
        },
        {
          "output_type": "stream",
          "name": "stdout",
          "text": [
            "2023-04-21 01:51:27,122 TRAIN : loss 0.4442141056060791 - f1-score (weighted avg)  0.3112\n"
          ]
        },
        {
          "output_type": "stream",
          "name": "stderr",
          "text": [
            "100%|██████████| 10/10 [00:02<00:00,  3.61it/s]"
          ]
        },
        {
          "output_type": "stream",
          "name": "stdout",
          "text": [
            "2023-04-21 01:51:29,971 Evaluating as a multi-label problem: False\n",
            "2023-04-21 01:51:30,039 DEV : loss 0.4759809374809265 - f1-score (weighted avg)  0.3045\n",
            "2023-04-21 01:51:30,049 BAD EPOCHS (no improvement): 1\n",
            "2023-04-21 01:51:30,052 ----------------------------------------------------------------------------------------------------\n"
          ]
        },
        {
          "output_type": "stream",
          "name": "stderr",
          "text": [
            "\n"
          ]
        },
        {
          "output_type": "stream",
          "name": "stdout",
          "text": [
            "2023-04-21 01:51:32,066 epoch 18 - iter 7/79 - loss 0.50164460 - time (sec): 2.01 - samples/sec: 4407.62 - lr: 0.012500\n",
            "2023-04-21 01:51:33,757 epoch 18 - iter 14/79 - loss 0.48586134 - time (sec): 3.70 - samples/sec: 4476.11 - lr: 0.012500\n",
            "2023-04-21 01:51:35,859 epoch 18 - iter 21/79 - loss 0.49829763 - time (sec): 5.81 - samples/sec: 4444.88 - lr: 0.012500\n",
            "2023-04-21 01:51:37,587 epoch 18 - iter 28/79 - loss 0.50613623 - time (sec): 7.53 - samples/sec: 4648.69 - lr: 0.012500\n",
            "2023-04-21 01:51:39,580 epoch 18 - iter 35/79 - loss 0.51040486 - time (sec): 9.53 - samples/sec: 4585.15 - lr: 0.012500\n",
            "2023-04-21 01:51:41,323 epoch 18 - iter 42/79 - loss 0.52427579 - time (sec): 11.27 - samples/sec: 4597.93 - lr: 0.012500\n",
            "2023-04-21 01:51:42,921 epoch 18 - iter 49/79 - loss 0.52933713 - time (sec): 12.87 - samples/sec: 4652.95 - lr: 0.012500\n",
            "2023-04-21 01:51:44,443 epoch 18 - iter 56/79 - loss 0.53569826 - time (sec): 14.39 - samples/sec: 4696.18 - lr: 0.012500\n",
            "2023-04-21 01:51:45,969 epoch 18 - iter 63/79 - loss 0.54345589 - time (sec): 15.92 - samples/sec: 4710.33 - lr: 0.012500\n",
            "2023-04-21 01:51:47,977 epoch 18 - iter 70/79 - loss 0.54175574 - time (sec): 17.92 - samples/sec: 4733.54 - lr: 0.012500\n",
            "2023-04-21 01:51:49,585 epoch 18 - iter 77/79 - loss 0.54911519 - time (sec): 19.53 - samples/sec: 4735.13 - lr: 0.012500\n",
            "2023-04-21 01:51:50,071 ----------------------------------------------------------------------------------------------------\n",
            "2023-04-21 01:51:50,073 EPOCH 18 done: loss 0.5498 - lr 0.012500\n"
          ]
        },
        {
          "output_type": "stream",
          "name": "stderr",
          "text": [
            "100%|██████████| 79/79 [00:21<00:00,  3.65it/s]"
          ]
        },
        {
          "output_type": "stream",
          "name": "stdout",
          "text": [
            "2023-04-21 01:52:11,889 Evaluating as a multi-label problem: True\n"
          ]
        },
        {
          "output_type": "stream",
          "name": "stderr",
          "text": [
            "\n"
          ]
        },
        {
          "output_type": "stream",
          "name": "stdout",
          "text": [
            "2023-04-21 01:52:14,662 TRAIN : loss 0.3911835849285126 - f1-score (weighted avg)  0.3512\n"
          ]
        },
        {
          "output_type": "stream",
          "name": "stderr",
          "text": [
            "100%|██████████| 10/10 [00:02<00:00,  3.56it/s]"
          ]
        },
        {
          "output_type": "stream",
          "name": "stdout",
          "text": [
            "2023-04-21 01:52:17,553 Evaluating as a multi-label problem: False\n",
            "2023-04-21 01:52:17,625 DEV : loss 0.4246269762516022 - f1-score (weighted avg)  0.348\n",
            "2023-04-21 01:52:17,635 BAD EPOCHS (no improvement): 0\n",
            "2023-04-21 01:52:17,640 saving best model\n"
          ]
        },
        {
          "output_type": "stream",
          "name": "stderr",
          "text": [
            "\n"
          ]
        },
        {
          "output_type": "stream",
          "name": "stdout",
          "text": [
            "2023-04-21 01:52:19,730 ----------------------------------------------------------------------------------------------------\n",
            "2023-04-21 01:52:21,080 epoch 19 - iter 7/79 - loss 0.55096970 - time (sec): 1.35 - samples/sec: 5550.49 - lr: 0.012500\n",
            "2023-04-21 01:52:22,635 epoch 19 - iter 14/79 - loss 0.52813232 - time (sec): 2.90 - samples/sec: 5517.42 - lr: 0.012500\n",
            "2023-04-21 01:52:24,461 epoch 19 - iter 21/79 - loss 0.55591060 - time (sec): 4.73 - samples/sec: 5239.14 - lr: 0.012500\n",
            "2023-04-21 01:52:26,110 epoch 19 - iter 28/79 - loss 0.56068690 - time (sec): 6.38 - samples/sec: 5005.80 - lr: 0.012500\n",
            "2023-04-21 01:52:28,377 epoch 19 - iter 35/79 - loss 0.56305258 - time (sec): 8.65 - samples/sec: 4731.96 - lr: 0.012500\n",
            "2023-04-21 01:52:29,808 epoch 19 - iter 42/79 - loss 0.58916537 - time (sec): 10.08 - samples/sec: 4884.73 - lr: 0.012500\n",
            "2023-04-21 01:52:32,057 epoch 19 - iter 49/79 - loss 0.59284782 - time (sec): 12.33 - samples/sec: 4723.79 - lr: 0.012500\n",
            "2023-04-21 01:52:33,865 epoch 19 - iter 56/79 - loss 0.57658648 - time (sec): 14.13 - samples/sec: 4780.36 - lr: 0.012500\n",
            "2023-04-21 01:52:35,700 epoch 19 - iter 63/79 - loss 0.57513873 - time (sec): 15.97 - samples/sec: 4788.01 - lr: 0.012500\n",
            "2023-04-21 01:52:37,337 epoch 19 - iter 70/79 - loss 0.57876202 - time (sec): 17.61 - samples/sec: 4768.41 - lr: 0.012500\n",
            "2023-04-21 01:52:39,251 epoch 19 - iter 77/79 - loss 0.57175940 - time (sec): 19.52 - samples/sec: 4743.01 - lr: 0.012500\n",
            "2023-04-21 01:52:39,725 ----------------------------------------------------------------------------------------------------\n",
            "2023-04-21 01:52:39,727 EPOCH 19 done: loss 0.5717 - lr 0.012500\n"
          ]
        },
        {
          "output_type": "stream",
          "name": "stderr",
          "text": [
            "100%|██████████| 79/79 [00:22<00:00,  3.48it/s]"
          ]
        },
        {
          "output_type": "stream",
          "name": "stdout",
          "text": [
            "2023-04-21 01:53:02,542 Evaluating as a multi-label problem: True\n"
          ]
        },
        {
          "output_type": "stream",
          "name": "stderr",
          "text": [
            "\n"
          ]
        },
        {
          "output_type": "stream",
          "name": "stdout",
          "text": [
            "2023-04-21 01:53:05,310 TRAIN : loss 0.42172932624816895 - f1-score (weighted avg)  0.3557\n"
          ]
        },
        {
          "output_type": "stream",
          "name": "stderr",
          "text": [
            "100%|██████████| 10/10 [00:02<00:00,  3.62it/s]"
          ]
        },
        {
          "output_type": "stream",
          "name": "stdout",
          "text": [
            "2023-04-21 01:53:08,150 Evaluating as a multi-label problem: False\n",
            "2023-04-21 01:53:08,219 DEV : loss 0.4609644114971161 - f1-score (weighted avg)  0.3603\n",
            "2023-04-21 01:53:08,229 BAD EPOCHS (no improvement): 1\n",
            "2023-04-21 01:53:08,233 ----------------------------------------------------------------------------------------------------\n"
          ]
        },
        {
          "output_type": "stream",
          "name": "stderr",
          "text": [
            "\n"
          ]
        },
        {
          "output_type": "stream",
          "name": "stdout",
          "text": [
            "2023-04-21 01:53:10,186 epoch 20 - iter 7/79 - loss 0.53090659 - time (sec): 1.95 - samples/sec: 4681.20 - lr: 0.012500\n",
            "2023-04-21 01:53:12,204 epoch 20 - iter 14/79 - loss 0.54853996 - time (sec): 3.97 - samples/sec: 4350.89 - lr: 0.012500\n",
            "2023-04-21 01:53:14,181 epoch 20 - iter 21/79 - loss 0.50363431 - time (sec): 5.95 - samples/sec: 4490.76 - lr: 0.012500\n",
            "2023-04-21 01:53:15,936 epoch 20 - iter 28/79 - loss 0.50602708 - time (sec): 7.70 - samples/sec: 4635.02 - lr: 0.012500\n",
            "2023-04-21 01:53:17,736 epoch 20 - iter 35/79 - loss 0.50777336 - time (sec): 9.50 - samples/sec: 4653.59 - lr: 0.012500\n",
            "2023-04-21 01:53:19,408 epoch 20 - iter 42/79 - loss 0.51625424 - time (sec): 11.17 - samples/sec: 4658.06 - lr: 0.012500\n",
            "2023-04-21 01:53:21,083 epoch 20 - iter 49/79 - loss 0.52241924 - time (sec): 12.85 - samples/sec: 4724.76 - lr: 0.012500\n",
            "2023-04-21 01:53:22,689 epoch 20 - iter 56/79 - loss 0.52675318 - time (sec): 14.45 - samples/sec: 4767.81 - lr: 0.012500\n",
            "2023-04-21 01:53:24,360 epoch 20 - iter 63/79 - loss 0.52649882 - time (sec): 16.13 - samples/sec: 4769.95 - lr: 0.012500\n",
            "2023-04-21 01:53:26,190 epoch 20 - iter 70/79 - loss 0.53601259 - time (sec): 17.96 - samples/sec: 4742.79 - lr: 0.012500\n",
            "2023-04-21 01:53:27,551 epoch 20 - iter 77/79 - loss 0.53541956 - time (sec): 19.32 - samples/sec: 4779.35 - lr: 0.012500\n",
            "2023-04-21 01:53:28,018 ----------------------------------------------------------------------------------------------------\n",
            "2023-04-21 01:53:28,020 EPOCH 20 done: loss 0.5367 - lr 0.012500\n"
          ]
        },
        {
          "output_type": "stream",
          "name": "stderr",
          "text": [
            "100%|██████████| 79/79 [00:21<00:00,  3.66it/s]"
          ]
        },
        {
          "output_type": "stream",
          "name": "stdout",
          "text": [
            "2023-04-21 01:53:49,787 Evaluating as a multi-label problem: True\n"
          ]
        },
        {
          "output_type": "stream",
          "name": "stderr",
          "text": [
            "\n"
          ]
        },
        {
          "output_type": "stream",
          "name": "stdout",
          "text": [
            "2023-04-21 01:53:53,858 TRAIN : loss 0.4091442823410034 - f1-score (weighted avg)  0.2937\n"
          ]
        },
        {
          "output_type": "stream",
          "name": "stderr",
          "text": [
            "100%|██████████| 10/10 [00:02<00:00,  3.62it/s]"
          ]
        },
        {
          "output_type": "stream",
          "name": "stdout",
          "text": [
            "2023-04-21 01:53:56,698 Evaluating as a multi-label problem: False\n",
            "2023-04-21 01:53:56,774 DEV : loss 0.4408794045448303 - f1-score (weighted avg)  0.2844\n",
            "2023-04-21 01:53:56,783 Epoch    20: reducing learning rate of group 0 to 6.2500e-03.\n",
            "2023-04-21 01:53:56,785 BAD EPOCHS (no improvement): 2\n",
            "2023-04-21 01:53:56,789 ----------------------------------------------------------------------------------------------------\n"
          ]
        },
        {
          "output_type": "stream",
          "name": "stderr",
          "text": [
            "\n"
          ]
        },
        {
          "output_type": "stream",
          "name": "stdout",
          "text": [
            "2023-04-21 01:53:58,351 epoch 21 - iter 7/79 - loss 0.58469070 - time (sec): 1.56 - samples/sec: 4756.12 - lr: 0.006250\n",
            "2023-04-21 01:53:59,958 epoch 21 - iter 14/79 - loss 0.55565969 - time (sec): 3.17 - samples/sec: 4936.91 - lr: 0.006250\n",
            "2023-04-21 01:54:01,457 epoch 21 - iter 21/79 - loss 0.58022816 - time (sec): 4.67 - samples/sec: 4993.79 - lr: 0.006250\n",
            "2023-04-21 01:54:03,843 epoch 21 - iter 28/79 - loss 0.54199227 - time (sec): 7.05 - samples/sec: 4771.03 - lr: 0.006250\n",
            "2023-04-21 01:54:05,582 epoch 21 - iter 35/79 - loss 0.54242224 - time (sec): 8.79 - samples/sec: 4727.26 - lr: 0.006250\n",
            "2023-04-21 01:54:07,074 epoch 21 - iter 42/79 - loss 0.53008127 - time (sec): 10.28 - samples/sec: 4896.88 - lr: 0.006250\n",
            "2023-04-21 01:54:08,614 epoch 21 - iter 49/79 - loss 0.51750482 - time (sec): 11.82 - samples/sec: 4896.68 - lr: 0.006250\n",
            "2023-04-21 01:54:10,202 epoch 21 - iter 56/79 - loss 0.50875919 - time (sec): 13.41 - samples/sec: 4934.40 - lr: 0.006250\n",
            "2023-04-21 01:54:11,926 epoch 21 - iter 63/79 - loss 0.50161678 - time (sec): 15.13 - samples/sec: 4941.95 - lr: 0.006250\n",
            "2023-04-21 01:54:13,804 epoch 21 - iter 70/79 - loss 0.49706652 - time (sec): 17.01 - samples/sec: 4876.09 - lr: 0.006250\n",
            "2023-04-21 01:54:15,895 epoch 21 - iter 77/79 - loss 0.49946174 - time (sec): 19.10 - samples/sec: 4819.61 - lr: 0.006250\n",
            "2023-04-21 01:54:16,365 ----------------------------------------------------------------------------------------------------\n",
            "2023-04-21 01:54:16,367 EPOCH 21 done: loss 0.5032 - lr 0.006250\n"
          ]
        },
        {
          "output_type": "stream",
          "name": "stderr",
          "text": [
            "100%|██████████| 79/79 [00:21<00:00,  3.68it/s]"
          ]
        },
        {
          "output_type": "stream",
          "name": "stdout",
          "text": [
            "2023-04-21 01:54:37,943 Evaluating as a multi-label problem: True\n"
          ]
        },
        {
          "output_type": "stream",
          "name": "stderr",
          "text": [
            "\n"
          ]
        },
        {
          "output_type": "stream",
          "name": "stdout",
          "text": [
            "2023-04-21 01:54:40,731 TRAIN : loss 0.36594632267951965 - f1-score (weighted avg)  0.3453\n"
          ]
        },
        {
          "output_type": "stream",
          "name": "stderr",
          "text": [
            "100%|██████████| 10/10 [00:02<00:00,  3.61it/s]"
          ]
        },
        {
          "output_type": "stream",
          "name": "stdout",
          "text": [
            "2023-04-21 01:54:43,580 Evaluating as a multi-label problem: False\n",
            "2023-04-21 01:54:43,649 DEV : loss 0.3956149220466614 - f1-score (weighted avg)  0.3266\n",
            "2023-04-21 01:54:43,658 BAD EPOCHS (no improvement): 0\n",
            "2023-04-21 01:54:43,662 saving best model\n"
          ]
        },
        {
          "output_type": "stream",
          "name": "stderr",
          "text": [
            "\n"
          ]
        },
        {
          "output_type": "stream",
          "name": "stdout",
          "text": [
            "2023-04-21 01:54:45,768 ----------------------------------------------------------------------------------------------------\n",
            "2023-04-21 01:54:47,820 epoch 22 - iter 7/79 - loss 0.45124281 - time (sec): 2.05 - samples/sec: 4365.36 - lr: 0.006250\n",
            "2023-04-21 01:54:49,353 epoch 22 - iter 14/79 - loss 0.49555582 - time (sec): 3.58 - samples/sec: 4493.69 - lr: 0.006250\n",
            "2023-04-21 01:54:51,253 epoch 22 - iter 21/79 - loss 0.47635277 - time (sec): 5.48 - samples/sec: 4596.30 - lr: 0.006250\n",
            "2023-04-21 01:54:52,853 epoch 22 - iter 28/79 - loss 0.47924326 - time (sec): 7.08 - samples/sec: 4634.55 - lr: 0.006250\n",
            "2023-04-21 01:54:54,538 epoch 22 - iter 35/79 - loss 0.46591205 - time (sec): 8.77 - samples/sec: 4736.42 - lr: 0.006250\n",
            "2023-04-21 01:54:56,125 epoch 22 - iter 42/79 - loss 0.47196160 - time (sec): 10.36 - samples/sec: 4832.96 - lr: 0.006250\n",
            "2023-04-21 01:54:57,918 epoch 22 - iter 49/79 - loss 0.48072255 - time (sec): 12.15 - samples/sec: 4806.86 - lr: 0.006250\n",
            "2023-04-21 01:54:59,509 epoch 22 - iter 56/79 - loss 0.48340797 - time (sec): 13.74 - samples/sec: 4846.55 - lr: 0.006250\n",
            "2023-04-21 01:55:01,323 epoch 22 - iter 63/79 - loss 0.47804700 - time (sec): 15.55 - samples/sec: 4838.65 - lr: 0.006250\n",
            "2023-04-21 01:55:03,387 epoch 22 - iter 70/79 - loss 0.46925927 - time (sec): 17.62 - samples/sec: 4768.83 - lr: 0.006250\n",
            "2023-04-21 01:55:04,998 epoch 22 - iter 77/79 - loss 0.46278082 - time (sec): 19.23 - samples/sec: 4787.93 - lr: 0.006250\n",
            "2023-04-21 01:55:05,464 ----------------------------------------------------------------------------------------------------\n",
            "2023-04-21 01:55:05,466 EPOCH 22 done: loss 0.4600 - lr 0.006250\n"
          ]
        },
        {
          "output_type": "stream",
          "name": "stderr",
          "text": [
            "100%|██████████| 79/79 [00:22<00:00,  3.49it/s]"
          ]
        },
        {
          "output_type": "stream",
          "name": "stdout",
          "text": [
            "2023-04-21 01:55:28,239 Evaluating as a multi-label problem: True\n"
          ]
        },
        {
          "output_type": "stream",
          "name": "stderr",
          "text": [
            "\n"
          ]
        },
        {
          "output_type": "stream",
          "name": "stdout",
          "text": [
            "2023-04-21 01:55:31,003 TRAIN : loss 0.35216522216796875 - f1-score (weighted avg)  0.3338\n"
          ]
        },
        {
          "output_type": "stream",
          "name": "stderr",
          "text": [
            "100%|██████████| 10/10 [00:02<00:00,  3.67it/s]"
          ]
        },
        {
          "output_type": "stream",
          "name": "stdout",
          "text": [
            "2023-04-21 01:55:33,807 Evaluating as a multi-label problem: False\n",
            "2023-04-21 01:55:33,875 DEV : loss 0.38587358593940735 - f1-score (weighted avg)  0.3118\n",
            "2023-04-21 01:55:33,884 BAD EPOCHS (no improvement): 0\n",
            "2023-04-21 01:55:33,888 saving best model\n"
          ]
        },
        {
          "output_type": "stream",
          "name": "stderr",
          "text": [
            "\n"
          ]
        },
        {
          "output_type": "stream",
          "name": "stdout",
          "text": [
            "2023-04-21 01:55:35,984 ----------------------------------------------------------------------------------------------------\n",
            "2023-04-21 01:55:37,627 epoch 23 - iter 7/79 - loss 0.38650867 - time (sec): 1.64 - samples/sec: 4884.52 - lr: 0.006250\n",
            "2023-04-21 01:55:39,320 epoch 23 - iter 14/79 - loss 0.39284820 - time (sec): 3.33 - samples/sec: 5107.85 - lr: 0.006250\n",
            "2023-04-21 01:55:40,840 epoch 23 - iter 21/79 - loss 0.39981571 - time (sec): 4.85 - samples/sec: 5112.16 - lr: 0.006250\n",
            "2023-04-21 01:55:42,470 epoch 23 - iter 28/79 - loss 0.41451596 - time (sec): 6.48 - samples/sec: 5035.06 - lr: 0.006250\n",
            "2023-04-21 01:55:44,118 epoch 23 - iter 35/79 - loss 0.46072364 - time (sec): 8.13 - samples/sec: 5011.00 - lr: 0.006250\n",
            "2023-04-21 01:55:46,204 epoch 23 - iter 42/79 - loss 0.46250196 - time (sec): 10.22 - samples/sec: 4955.41 - lr: 0.006250\n",
            "2023-04-21 01:55:47,860 epoch 23 - iter 49/79 - loss 0.46219280 - time (sec): 11.87 - samples/sec: 4919.45 - lr: 0.006250\n",
            "2023-04-21 01:55:49,524 epoch 23 - iter 56/79 - loss 0.47025891 - time (sec): 13.54 - samples/sec: 4912.77 - lr: 0.006250\n",
            "2023-04-21 01:55:51,812 epoch 23 - iter 63/79 - loss 0.46724405 - time (sec): 15.83 - samples/sec: 4760.07 - lr: 0.006250\n",
            "2023-04-21 01:55:53,930 epoch 23 - iter 70/79 - loss 0.46071880 - time (sec): 17.94 - samples/sec: 4746.14 - lr: 0.006250\n",
            "2023-04-21 01:55:55,422 epoch 23 - iter 77/79 - loss 0.46427754 - time (sec): 19.44 - samples/sec: 4769.61 - lr: 0.006250\n",
            "2023-04-21 01:55:55,919 ----------------------------------------------------------------------------------------------------\n",
            "2023-04-21 01:55:55,921 EPOCH 23 done: loss 0.4617 - lr 0.006250\n"
          ]
        },
        {
          "output_type": "stream",
          "name": "stderr",
          "text": [
            "100%|██████████| 79/79 [00:21<00:00,  3.67it/s]"
          ]
        },
        {
          "output_type": "stream",
          "name": "stdout",
          "text": [
            "2023-04-21 01:56:17,597 Evaluating as a multi-label problem: True\n"
          ]
        },
        {
          "output_type": "stream",
          "name": "stderr",
          "text": [
            "\n"
          ]
        },
        {
          "output_type": "stream",
          "name": "stdout",
          "text": [
            "2023-04-21 01:56:21,638 TRAIN : loss 0.356751024723053 - f1-score (weighted avg)  0.3228\n"
          ]
        },
        {
          "output_type": "stream",
          "name": "stderr",
          "text": [
            "100%|██████████| 10/10 [00:02<00:00,  3.63it/s]"
          ]
        },
        {
          "output_type": "stream",
          "name": "stdout",
          "text": [
            "2023-04-21 01:56:24,472 Evaluating as a multi-label problem: False\n",
            "2023-04-21 01:56:24,540 DEV : loss 0.3822615146636963 - f1-score (weighted avg)  0.3033\n",
            "2023-04-21 01:56:24,549 BAD EPOCHS (no improvement): 0\n",
            "2023-04-21 01:56:24,553 saving best model\n"
          ]
        },
        {
          "output_type": "stream",
          "name": "stderr",
          "text": [
            "\n"
          ]
        },
        {
          "output_type": "stream",
          "name": "stdout",
          "text": [
            "2023-04-21 01:56:26,635 ----------------------------------------------------------------------------------------------------\n",
            "2023-04-21 01:56:28,205 epoch 24 - iter 7/79 - loss 0.42153774 - time (sec): 1.57 - samples/sec: 5288.87 - lr: 0.006250\n",
            "2023-04-21 01:56:30,365 epoch 24 - iter 14/79 - loss 0.42961325 - time (sec): 3.73 - samples/sec: 4359.98 - lr: 0.006250\n",
            "2023-04-21 01:56:32,086 epoch 24 - iter 21/79 - loss 0.43951591 - time (sec): 5.45 - samples/sec: 4584.48 - lr: 0.006250\n",
            "2023-04-21 01:56:33,742 epoch 24 - iter 28/79 - loss 0.45264062 - time (sec): 7.11 - samples/sec: 4654.51 - lr: 0.006250\n",
            "2023-04-21 01:56:35,490 epoch 24 - iter 35/79 - loss 0.44932533 - time (sec): 8.85 - samples/sec: 4640.62 - lr: 0.006250\n",
            "2023-04-21 01:56:37,636 epoch 24 - iter 42/79 - loss 0.44470367 - time (sec): 11.00 - samples/sec: 4571.37 - lr: 0.006250\n",
            "2023-04-21 01:56:39,594 epoch 24 - iter 49/79 - loss 0.44495754 - time (sec): 12.96 - samples/sec: 4550.51 - lr: 0.006250\n",
            "2023-04-21 01:56:41,130 epoch 24 - iter 56/79 - loss 0.44274022 - time (sec): 14.49 - samples/sec: 4580.39 - lr: 0.006250\n",
            "2023-04-21 01:56:42,981 epoch 24 - iter 63/79 - loss 0.44256608 - time (sec): 16.34 - samples/sec: 4648.17 - lr: 0.006250\n",
            "2023-04-21 01:56:44,714 epoch 24 - iter 70/79 - loss 0.44571531 - time (sec): 18.08 - samples/sec: 4610.71 - lr: 0.006250\n",
            "2023-04-21 01:56:46,452 epoch 24 - iter 77/79 - loss 0.44900436 - time (sec): 19.82 - samples/sec: 4640.82 - lr: 0.006250\n",
            "2023-04-21 01:56:46,939 ----------------------------------------------------------------------------------------------------\n",
            "2023-04-21 01:56:46,940 EPOCH 24 done: loss 0.4467 - lr 0.006250\n"
          ]
        },
        {
          "output_type": "stream",
          "name": "stderr",
          "text": [
            "100%|██████████| 79/79 [00:21<00:00,  3.65it/s]"
          ]
        },
        {
          "output_type": "stream",
          "name": "stdout",
          "text": [
            "2023-04-21 01:57:08,707 Evaluating as a multi-label problem: True\n"
          ]
        },
        {
          "output_type": "stream",
          "name": "stderr",
          "text": [
            "\n"
          ]
        },
        {
          "output_type": "stream",
          "name": "stdout",
          "text": [
            "2023-04-21 01:57:11,471 TRAIN : loss 0.3347572386264801 - f1-score (weighted avg)  0.3298\n"
          ]
        },
        {
          "output_type": "stream",
          "name": "stderr",
          "text": [
            "100%|██████████| 10/10 [00:02<00:00,  3.54it/s]"
          ]
        },
        {
          "output_type": "stream",
          "name": "stdout",
          "text": [
            "2023-04-21 01:57:14,375 Evaluating as a multi-label problem: False\n",
            "2023-04-21 01:57:14,444 DEV : loss 0.36759448051452637 - f1-score (weighted avg)  0.306\n",
            "2023-04-21 01:57:14,454 BAD EPOCHS (no improvement): 0\n",
            "2023-04-21 01:57:14,457 saving best model\n"
          ]
        },
        {
          "output_type": "stream",
          "name": "stderr",
          "text": [
            "\n"
          ]
        },
        {
          "output_type": "stream",
          "name": "stdout",
          "text": [
            "2023-04-21 01:57:16,551 ----------------------------------------------------------------------------------------------------\n",
            "2023-04-21 01:57:18,182 epoch 25 - iter 7/79 - loss 0.41551849 - time (sec): 1.63 - samples/sec: 5451.07 - lr: 0.006250\n",
            "2023-04-21 01:57:20,323 epoch 25 - iter 14/79 - loss 0.43681681 - time (sec): 3.77 - samples/sec: 4706.19 - lr: 0.006250\n",
            "2023-04-21 01:57:21,842 epoch 25 - iter 21/79 - loss 0.44478019 - time (sec): 5.29 - samples/sec: 4994.71 - lr: 0.006250\n",
            "2023-04-21 01:57:23,815 epoch 25 - iter 28/79 - loss 0.42779878 - time (sec): 7.26 - samples/sec: 4843.47 - lr: 0.006250\n",
            "2023-04-21 01:57:25,485 epoch 25 - iter 35/79 - loss 0.43508164 - time (sec): 8.93 - samples/sec: 4821.04 - lr: 0.006250\n",
            "2023-04-21 01:57:27,384 epoch 25 - iter 42/79 - loss 0.43491818 - time (sec): 10.83 - samples/sec: 4721.35 - lr: 0.006250\n",
            "2023-04-21 01:57:29,539 epoch 25 - iter 49/79 - loss 0.43594853 - time (sec): 12.99 - samples/sec: 4571.84 - lr: 0.006250\n",
            "2023-04-21 01:57:31,448 epoch 25 - iter 56/79 - loss 0.43186061 - time (sec): 14.90 - samples/sec: 4594.98 - lr: 0.006250\n",
            "2023-04-21 01:57:33,045 epoch 25 - iter 63/79 - loss 0.43460139 - time (sec): 16.49 - samples/sec: 4604.72 - lr: 0.006250\n",
            "2023-04-21 01:57:35,048 epoch 25 - iter 70/79 - loss 0.43644816 - time (sec): 18.50 - samples/sec: 4552.95 - lr: 0.006250\n",
            "2023-04-21 01:57:36,555 epoch 25 - iter 77/79 - loss 0.44035077 - time (sec): 20.00 - samples/sec: 4613.77 - lr: 0.006250\n",
            "2023-04-21 01:57:36,988 ----------------------------------------------------------------------------------------------------\n",
            "2023-04-21 01:57:36,990 EPOCH 25 done: loss 0.4381 - lr 0.006250\n"
          ]
        },
        {
          "output_type": "stream",
          "name": "stderr",
          "text": [
            "100%|██████████| 79/79 [00:22<00:00,  3.47it/s]"
          ]
        },
        {
          "output_type": "stream",
          "name": "stdout",
          "text": [
            "2023-04-21 01:57:59,912 Evaluating as a multi-label problem: True\n"
          ]
        },
        {
          "output_type": "stream",
          "name": "stderr",
          "text": [
            "\n"
          ]
        },
        {
          "output_type": "stream",
          "name": "stdout",
          "text": [
            "2023-04-21 01:58:02,691 TRAIN : loss 0.3291448950767517 - f1-score (weighted avg)  0.3047\n"
          ]
        },
        {
          "output_type": "stream",
          "name": "stderr",
          "text": [
            "100%|██████████| 10/10 [00:02<00:00,  3.63it/s]"
          ]
        },
        {
          "output_type": "stream",
          "name": "stdout",
          "text": [
            "2023-04-21 01:58:05,524 Evaluating as a multi-label problem: False\n",
            "2023-04-21 01:58:05,612 DEV : loss 0.35930559039115906 - f1-score (weighted avg)  0.2821\n",
            "2023-04-21 01:58:05,622 BAD EPOCHS (no improvement): 0\n",
            "2023-04-21 01:58:05,626 saving best model\n"
          ]
        },
        {
          "output_type": "stream",
          "name": "stderr",
          "text": [
            "\n"
          ]
        },
        {
          "output_type": "stream",
          "name": "stdout",
          "text": [
            "2023-04-21 01:58:07,734 ----------------------------------------------------------------------------------------------------\n",
            "2023-04-21 01:58:09,542 epoch 26 - iter 7/79 - loss 0.40627068 - time (sec): 1.81 - samples/sec: 4603.02 - lr: 0.006250\n",
            "2023-04-21 01:58:11,517 epoch 26 - iter 14/79 - loss 0.40855086 - time (sec): 3.78 - samples/sec: 4620.51 - lr: 0.006250\n",
            "2023-04-21 01:58:12,935 epoch 26 - iter 21/79 - loss 0.40511692 - time (sec): 5.20 - samples/sec: 4807.82 - lr: 0.006250\n",
            "2023-04-21 01:58:15,150 epoch 26 - iter 28/79 - loss 0.39726056 - time (sec): 7.41 - samples/sec: 4673.60 - lr: 0.006250\n",
            "2023-04-21 01:58:16,659 epoch 26 - iter 35/79 - loss 0.39752622 - time (sec): 8.92 - samples/sec: 4675.81 - lr: 0.006250\n",
            "2023-04-21 01:58:18,923 epoch 26 - iter 42/79 - loss 0.39929690 - time (sec): 11.19 - samples/sec: 4530.11 - lr: 0.006250\n",
            "2023-04-21 01:58:20,963 epoch 26 - iter 49/79 - loss 0.41873473 - time (sec): 13.23 - samples/sec: 4504.98 - lr: 0.006250\n",
            "2023-04-21 01:58:22,689 epoch 26 - iter 56/79 - loss 0.43675350 - time (sec): 14.95 - samples/sec: 4575.71 - lr: 0.006250\n",
            "2023-04-21 01:58:24,306 epoch 26 - iter 63/79 - loss 0.43463331 - time (sec): 16.57 - samples/sec: 4616.33 - lr: 0.006250\n",
            "2023-04-21 01:58:25,930 epoch 26 - iter 70/79 - loss 0.43080356 - time (sec): 18.19 - samples/sec: 4621.37 - lr: 0.006250\n",
            "2023-04-21 01:58:27,568 epoch 26 - iter 77/79 - loss 0.42655136 - time (sec): 19.83 - samples/sec: 4678.97 - lr: 0.006250\n",
            "2023-04-21 01:58:27,963 ----------------------------------------------------------------------------------------------------\n",
            "2023-04-21 01:58:27,965 EPOCH 26 done: loss 0.4239 - lr 0.006250\n"
          ]
        },
        {
          "output_type": "stream",
          "name": "stderr",
          "text": [
            "100%|██████████| 79/79 [00:21<00:00,  3.67it/s]"
          ]
        },
        {
          "output_type": "stream",
          "name": "stdout",
          "text": [
            "2023-04-21 01:58:49,619 Evaluating as a multi-label problem: True\n"
          ]
        },
        {
          "output_type": "stream",
          "name": "stderr",
          "text": [
            "\n"
          ]
        },
        {
          "output_type": "stream",
          "name": "stdout",
          "text": [
            "2023-04-21 01:58:53,707 TRAIN : loss 0.32526880502700806 - f1-score (weighted avg)  0.3395\n"
          ]
        },
        {
          "output_type": "stream",
          "name": "stderr",
          "text": [
            "100%|██████████| 10/10 [00:02<00:00,  3.60it/s]"
          ]
        },
        {
          "output_type": "stream",
          "name": "stdout",
          "text": [
            "2023-04-21 01:58:56,566 Evaluating as a multi-label problem: False\n",
            "2023-04-21 01:58:56,635 DEV : loss 0.3525862395763397 - f1-score (weighted avg)  0.3214\n",
            "2023-04-21 01:58:56,644 BAD EPOCHS (no improvement): 0\n",
            "2023-04-21 01:58:56,649 saving best model\n"
          ]
        },
        {
          "output_type": "stream",
          "name": "stderr",
          "text": [
            "\n"
          ]
        },
        {
          "output_type": "stream",
          "name": "stdout",
          "text": [
            "2023-04-21 01:58:58,732 ----------------------------------------------------------------------------------------------------\n",
            "2023-04-21 01:59:00,591 epoch 27 - iter 7/79 - loss 0.43382909 - time (sec): 1.86 - samples/sec: 3940.85 - lr: 0.006250\n",
            "2023-04-21 01:59:02,416 epoch 27 - iter 14/79 - loss 0.44328547 - time (sec): 3.68 - samples/sec: 4125.86 - lr: 0.006250\n",
            "2023-04-21 01:59:03,926 epoch 27 - iter 21/79 - loss 0.41795915 - time (sec): 5.19 - samples/sec: 4545.70 - lr: 0.006250\n",
            "2023-04-21 01:59:05,329 epoch 27 - iter 28/79 - loss 0.42492073 - time (sec): 6.60 - samples/sec: 4762.29 - lr: 0.006250\n",
            "2023-04-21 01:59:07,465 epoch 27 - iter 35/79 - loss 0.42124862 - time (sec): 8.73 - samples/sec: 4553.90 - lr: 0.006250\n",
            "2023-04-21 01:59:09,408 epoch 27 - iter 42/79 - loss 0.42622929 - time (sec): 10.67 - samples/sec: 4487.55 - lr: 0.006250\n",
            "2023-04-21 01:59:11,140 epoch 27 - iter 49/79 - loss 0.44199139 - time (sec): 12.41 - samples/sec: 4603.95 - lr: 0.006250\n",
            "2023-04-21 01:59:13,209 epoch 27 - iter 56/79 - loss 0.44756827 - time (sec): 14.47 - samples/sec: 4567.21 - lr: 0.006250\n",
            "2023-04-21 01:59:14,928 epoch 27 - iter 63/79 - loss 0.43982823 - time (sec): 16.19 - samples/sec: 4595.84 - lr: 0.006250\n",
            "2023-04-21 01:59:16,581 epoch 27 - iter 70/79 - loss 0.43710414 - time (sec): 17.85 - samples/sec: 4651.66 - lr: 0.006250\n",
            "2023-04-21 01:59:18,526 epoch 27 - iter 77/79 - loss 0.43673430 - time (sec): 19.79 - samples/sec: 4673.84 - lr: 0.006250\n",
            "2023-04-21 01:59:19,114 ----------------------------------------------------------------------------------------------------\n",
            "2023-04-21 01:59:19,115 EPOCH 27 done: loss 0.4341 - lr 0.006250\n"
          ]
        },
        {
          "output_type": "stream",
          "name": "stderr",
          "text": [
            "100%|██████████| 79/79 [00:21<00:00,  3.66it/s]"
          ]
        },
        {
          "output_type": "stream",
          "name": "stdout",
          "text": [
            "2023-04-21 01:59:40,815 Evaluating as a multi-label problem: True\n"
          ]
        },
        {
          "output_type": "stream",
          "name": "stderr",
          "text": [
            "\n"
          ]
        },
        {
          "output_type": "stream",
          "name": "stdout",
          "text": [
            "2023-04-21 01:59:43,589 TRAIN : loss 0.315780371427536 - f1-score (weighted avg)  0.3569\n"
          ]
        },
        {
          "output_type": "stream",
          "name": "stderr",
          "text": [
            "100%|██████████| 10/10 [00:02<00:00,  3.60it/s]"
          ]
        },
        {
          "output_type": "stream",
          "name": "stdout",
          "text": [
            "2023-04-21 01:59:46,450 Evaluating as a multi-label problem: False\n",
            "2023-04-21 01:59:46,520 DEV : loss 0.3392994701862335 - f1-score (weighted avg)  0.3416\n",
            "2023-04-21 01:59:46,530 BAD EPOCHS (no improvement): 0\n",
            "2023-04-21 01:59:46,534 saving best model\n"
          ]
        },
        {
          "output_type": "stream",
          "name": "stderr",
          "text": [
            "\n"
          ]
        },
        {
          "output_type": "stream",
          "name": "stdout",
          "text": [
            "2023-04-21 01:59:48,626 ----------------------------------------------------------------------------------------------------\n",
            "2023-04-21 01:59:50,270 epoch 28 - iter 7/79 - loss 0.44658552 - time (sec): 1.64 - samples/sec: 5130.38 - lr: 0.006250\n",
            "2023-04-21 01:59:51,769 epoch 28 - iter 14/79 - loss 0.39492496 - time (sec): 3.14 - samples/sec: 5083.31 - lr: 0.006250\n",
            "2023-04-21 01:59:53,689 epoch 28 - iter 21/79 - loss 0.40176547 - time (sec): 5.06 - samples/sec: 4825.04 - lr: 0.006250\n",
            "2023-04-21 01:59:55,168 epoch 28 - iter 28/79 - loss 0.41003146 - time (sec): 6.54 - samples/sec: 4963.73 - lr: 0.006250\n",
            "2023-04-21 01:59:57,017 epoch 28 - iter 35/79 - loss 0.40682817 - time (sec): 8.39 - samples/sec: 4939.54 - lr: 0.006250\n",
            "2023-04-21 01:59:58,970 epoch 28 - iter 42/79 - loss 0.40789101 - time (sec): 10.34 - samples/sec: 4759.11 - lr: 0.006250\n",
            "2023-04-21 02:00:00,703 epoch 28 - iter 49/79 - loss 0.40454252 - time (sec): 12.07 - samples/sec: 4727.34 - lr: 0.006250\n",
            "2023-04-21 02:00:02,531 epoch 28 - iter 56/79 - loss 0.40842339 - time (sec): 13.90 - samples/sec: 4729.02 - lr: 0.006250\n",
            "2023-04-21 02:00:04,471 epoch 28 - iter 63/79 - loss 0.41409830 - time (sec): 15.84 - samples/sec: 4710.87 - lr: 0.006250\n",
            "2023-04-21 02:00:06,444 epoch 28 - iter 70/79 - loss 0.41198804 - time (sec): 17.82 - samples/sec: 4697.10 - lr: 0.006250\n",
            "2023-04-21 02:00:07,916 epoch 28 - iter 77/79 - loss 0.41373644 - time (sec): 19.29 - samples/sec: 4734.94 - lr: 0.006250\n",
            "2023-04-21 02:00:08,549 ----------------------------------------------------------------------------------------------------\n",
            "2023-04-21 02:00:08,551 EPOCH 28 done: loss 0.4132 - lr 0.006250\n"
          ]
        },
        {
          "output_type": "stream",
          "name": "stderr",
          "text": [
            "100%|██████████| 79/79 [00:22<00:00,  3.49it/s]"
          ]
        },
        {
          "output_type": "stream",
          "name": "stdout",
          "text": [
            "2023-04-21 02:00:31,324 Evaluating as a multi-label problem: True\n"
          ]
        },
        {
          "output_type": "stream",
          "name": "stderr",
          "text": [
            "\n"
          ]
        },
        {
          "output_type": "stream",
          "name": "stdout",
          "text": [
            "2023-04-21 02:00:34,073 TRAIN : loss 0.31246891617774963 - f1-score (weighted avg)  0.3607\n"
          ]
        },
        {
          "output_type": "stream",
          "name": "stderr",
          "text": [
            "100%|██████████| 10/10 [00:02<00:00,  3.57it/s]"
          ]
        },
        {
          "output_type": "stream",
          "name": "stdout",
          "text": [
            "2023-04-21 02:00:36,952 Evaluating as a multi-label problem: False\n",
            "2023-04-21 02:00:37,028 DEV : loss 0.3461717367172241 - f1-score (weighted avg)  0.3415\n",
            "2023-04-21 02:00:37,038 BAD EPOCHS (no improvement): 1\n",
            "2023-04-21 02:00:37,043 ----------------------------------------------------------------------------------------------------\n"
          ]
        },
        {
          "output_type": "stream",
          "name": "stderr",
          "text": [
            "\n"
          ]
        },
        {
          "output_type": "stream",
          "name": "stdout",
          "text": [
            "2023-04-21 02:00:38,748 epoch 29 - iter 7/79 - loss 0.43269769 - time (sec): 1.70 - samples/sec: 4522.98 - lr: 0.006250\n",
            "2023-04-21 02:00:40,380 epoch 29 - iter 14/79 - loss 0.43561438 - time (sec): 3.34 - samples/sec: 4553.35 - lr: 0.006250\n",
            "2023-04-21 02:00:42,068 epoch 29 - iter 21/79 - loss 0.42182164 - time (sec): 5.02 - samples/sec: 4619.37 - lr: 0.006250\n",
            "2023-04-21 02:00:43,742 epoch 29 - iter 28/79 - loss 0.42265483 - time (sec): 6.70 - samples/sec: 4750.12 - lr: 0.006250\n",
            "2023-04-21 02:00:45,521 epoch 29 - iter 35/79 - loss 0.41569343 - time (sec): 8.48 - samples/sec: 4810.07 - lr: 0.006250\n",
            "2023-04-21 02:00:47,273 epoch 29 - iter 42/79 - loss 0.41233593 - time (sec): 10.23 - samples/sec: 4824.21 - lr: 0.006250\n",
            "2023-04-21 02:00:48,966 epoch 29 - iter 49/79 - loss 0.41374633 - time (sec): 11.92 - samples/sec: 4825.29 - lr: 0.006250\n",
            "2023-04-21 02:00:51,084 epoch 29 - iter 56/79 - loss 0.40965942 - time (sec): 14.04 - samples/sec: 4726.62 - lr: 0.006250\n",
            "2023-04-21 02:00:53,131 epoch 29 - iter 63/79 - loss 0.41760609 - time (sec): 16.09 - samples/sec: 4741.96 - lr: 0.006250\n",
            "2023-04-21 02:00:54,943 epoch 29 - iter 70/79 - loss 0.41902554 - time (sec): 17.90 - samples/sec: 4731.96 - lr: 0.006250\n",
            "2023-04-21 02:00:56,748 epoch 29 - iter 77/79 - loss 0.42154867 - time (sec): 19.70 - samples/sec: 4694.41 - lr: 0.006250\n",
            "2023-04-21 02:00:57,175 ----------------------------------------------------------------------------------------------------\n",
            "2023-04-21 02:00:57,177 EPOCH 29 done: loss 0.4208 - lr 0.006250\n"
          ]
        },
        {
          "output_type": "stream",
          "name": "stderr",
          "text": [
            "100%|██████████| 79/79 [00:21<00:00,  3.64it/s]"
          ]
        },
        {
          "output_type": "stream",
          "name": "stdout",
          "text": [
            "2023-04-21 02:01:19,031 Evaluating as a multi-label problem: True\n"
          ]
        },
        {
          "output_type": "stream",
          "name": "stderr",
          "text": [
            "\n"
          ]
        },
        {
          "output_type": "stream",
          "name": "stdout",
          "text": [
            "2023-04-21 02:01:23,147 TRAIN : loss 0.3048126995563507 - f1-score (weighted avg)  0.3433\n"
          ]
        },
        {
          "output_type": "stream",
          "name": "stderr",
          "text": [
            "100%|██████████| 10/10 [00:02<00:00,  3.51it/s]"
          ]
        },
        {
          "output_type": "stream",
          "name": "stdout",
          "text": [
            "2023-04-21 02:01:26,072 Evaluating as a multi-label problem: False\n",
            "2023-04-21 02:01:26,142 DEV : loss 0.33108487725257874 - f1-score (weighted avg)  0.3263\n",
            "2023-04-21 02:01:26,152 BAD EPOCHS (no improvement): 0\n",
            "2023-04-21 02:01:26,156 saving best model\n"
          ]
        },
        {
          "output_type": "stream",
          "name": "stderr",
          "text": [
            "\n"
          ]
        },
        {
          "output_type": "stream",
          "name": "stdout",
          "text": [
            "2023-04-21 02:01:28,236 ----------------------------------------------------------------------------------------------------\n",
            "2023-04-21 02:01:30,135 epoch 30 - iter 7/79 - loss 0.39362351 - time (sec): 1.90 - samples/sec: 4248.83 - lr: 0.006250\n",
            "2023-04-21 02:01:32,146 epoch 30 - iter 14/79 - loss 0.40134311 - time (sec): 3.91 - samples/sec: 4358.99 - lr: 0.006250\n",
            "2023-04-21 02:01:33,729 epoch 30 - iter 21/79 - loss 0.40698763 - time (sec): 5.49 - samples/sec: 4739.33 - lr: 0.006250\n",
            "2023-04-21 02:01:35,443 epoch 30 - iter 28/79 - loss 0.40869932 - time (sec): 7.20 - samples/sec: 4747.01 - lr: 0.006250\n",
            "2023-04-21 02:01:37,264 epoch 30 - iter 35/79 - loss 0.40518116 - time (sec): 9.03 - samples/sec: 4694.16 - lr: 0.006250\n",
            "2023-04-21 02:01:38,893 epoch 30 - iter 42/79 - loss 0.40348079 - time (sec): 10.65 - samples/sec: 4752.39 - lr: 0.006250\n",
            "2023-04-21 02:01:40,844 epoch 30 - iter 49/79 - loss 0.40795252 - time (sec): 12.61 - samples/sec: 4670.50 - lr: 0.006250\n",
            "2023-04-21 02:01:42,869 epoch 30 - iter 56/79 - loss 0.40471424 - time (sec): 14.63 - samples/sec: 4586.44 - lr: 0.006250\n",
            "2023-04-21 02:01:45,072 epoch 30 - iter 63/79 - loss 0.40020874 - time (sec): 16.83 - samples/sec: 4512.00 - lr: 0.006250\n",
            "2023-04-21 02:01:46,492 epoch 30 - iter 70/79 - loss 0.39639930 - time (sec): 18.25 - samples/sec: 4615.77 - lr: 0.006250\n",
            "2023-04-21 02:01:48,139 epoch 30 - iter 77/79 - loss 0.39981249 - time (sec): 19.90 - samples/sec: 4636.38 - lr: 0.006250\n",
            "2023-04-21 02:01:48,655 ----------------------------------------------------------------------------------------------------\n",
            "2023-04-21 02:01:48,657 EPOCH 30 done: loss 0.3991 - lr 0.006250\n"
          ]
        },
        {
          "output_type": "stream",
          "name": "stderr",
          "text": [
            "100%|██████████| 79/79 [00:21<00:00,  3.65it/s]"
          ]
        },
        {
          "output_type": "stream",
          "name": "stdout",
          "text": [
            "2023-04-21 02:02:10,446 Evaluating as a multi-label problem: True\n"
          ]
        },
        {
          "output_type": "stream",
          "name": "stderr",
          "text": [
            "\n"
          ]
        },
        {
          "output_type": "stream",
          "name": "stdout",
          "text": [
            "2023-04-21 02:02:13,237 TRAIN : loss 0.31649377942085266 - f1-score (weighted avg)  0.3433\n"
          ]
        },
        {
          "output_type": "stream",
          "name": "stderr",
          "text": [
            "100%|██████████| 10/10 [00:02<00:00,  3.56it/s]"
          ]
        },
        {
          "output_type": "stream",
          "name": "stdout",
          "text": [
            "2023-04-21 02:02:16,124 Evaluating as a multi-label problem: False\n",
            "2023-04-21 02:02:16,192 DEV : loss 0.3373541533946991 - f1-score (weighted avg)  0.335\n",
            "2023-04-21 02:02:16,202 BAD EPOCHS (no improvement): 1\n",
            "2023-04-21 02:02:16,206 ----------------------------------------------------------------------------------------------------\n"
          ]
        },
        {
          "output_type": "stream",
          "name": "stderr",
          "text": [
            "\n"
          ]
        },
        {
          "output_type": "stream",
          "name": "stdout",
          "text": [
            "2023-04-21 02:02:17,866 epoch 31 - iter 7/79 - loss 0.43654980 - time (sec): 1.66 - samples/sec: 4601.41 - lr: 0.006250\n",
            "2023-04-21 02:02:19,353 epoch 31 - iter 14/79 - loss 0.42965311 - time (sec): 3.15 - samples/sec: 4947.34 - lr: 0.006250\n",
            "2023-04-21 02:02:21,547 epoch 31 - iter 21/79 - loss 0.40736255 - time (sec): 5.34 - samples/sec: 4664.16 - lr: 0.006250\n",
            "2023-04-21 02:02:23,306 epoch 31 - iter 28/79 - loss 0.40639293 - time (sec): 7.10 - samples/sec: 4697.02 - lr: 0.006250\n",
            "2023-04-21 02:02:25,053 epoch 31 - iter 35/79 - loss 0.40861369 - time (sec): 8.84 - samples/sec: 4707.72 - lr: 0.006250\n",
            "2023-04-21 02:02:26,630 epoch 31 - iter 42/79 - loss 0.40407902 - time (sec): 10.42 - samples/sec: 4825.58 - lr: 0.006250\n",
            "2023-04-21 02:02:28,228 epoch 31 - iter 49/79 - loss 0.41536849 - time (sec): 12.02 - samples/sec: 4875.82 - lr: 0.006250\n",
            "2023-04-21 02:02:29,823 epoch 31 - iter 56/79 - loss 0.41697822 - time (sec): 13.62 - samples/sec: 4895.03 - lr: 0.006250\n",
            "2023-04-21 02:02:31,768 epoch 31 - iter 63/79 - loss 0.41303782 - time (sec): 15.56 - samples/sec: 4800.20 - lr: 0.006250\n",
            "2023-04-21 02:02:33,363 epoch 31 - iter 70/79 - loss 0.42075773 - time (sec): 17.15 - samples/sec: 4853.60 - lr: 0.006250\n",
            "2023-04-21 02:02:35,192 epoch 31 - iter 77/79 - loss 0.42234769 - time (sec): 18.98 - samples/sec: 4852.90 - lr: 0.006250\n",
            "2023-04-21 02:02:35,770 ----------------------------------------------------------------------------------------------------\n",
            "2023-04-21 02:02:35,772 EPOCH 31 done: loss 0.4218 - lr 0.006250\n"
          ]
        },
        {
          "output_type": "stream",
          "name": "stderr",
          "text": [
            "100%|██████████| 79/79 [00:21<00:00,  3.64it/s]\n"
          ]
        },
        {
          "output_type": "stream",
          "name": "stdout",
          "text": [
            "2023-04-21 02:02:58,841 Evaluating as a multi-label problem: True\n",
            "2023-04-21 02:03:01,623 TRAIN : loss 0.2990100085735321 - f1-score (weighted avg)  0.3693\n"
          ]
        },
        {
          "output_type": "stream",
          "name": "stderr",
          "text": [
            "100%|██████████| 10/10 [00:02<00:00,  3.61it/s]"
          ]
        },
        {
          "output_type": "stream",
          "name": "stdout",
          "text": [
            "2023-04-21 02:03:04,470 Evaluating as a multi-label problem: False\n",
            "2023-04-21 02:03:04,540 DEV : loss 0.3215554654598236 - f1-score (weighted avg)  0.3648\n",
            "2023-04-21 02:03:04,550 BAD EPOCHS (no improvement): 0\n",
            "2023-04-21 02:03:04,553 saving best model\n"
          ]
        },
        {
          "output_type": "stream",
          "name": "stderr",
          "text": [
            "\n"
          ]
        },
        {
          "output_type": "stream",
          "name": "stdout",
          "text": [
            "2023-04-21 02:03:06,637 ----------------------------------------------------------------------------------------------------\n",
            "2023-04-21 02:03:08,260 epoch 32 - iter 7/79 - loss 0.40458333 - time (sec): 1.62 - samples/sec: 6013.47 - lr: 0.006250\n",
            "2023-04-21 02:03:10,369 epoch 32 - iter 14/79 - loss 0.39036225 - time (sec): 3.73 - samples/sec: 4882.67 - lr: 0.006250\n",
            "2023-04-21 02:03:11,859 epoch 32 - iter 21/79 - loss 0.39760320 - time (sec): 5.22 - samples/sec: 5012.70 - lr: 0.006250\n",
            "2023-04-21 02:03:13,363 epoch 32 - iter 28/79 - loss 0.40748424 - time (sec): 6.72 - samples/sec: 5071.76 - lr: 0.006250\n",
            "2023-04-21 02:03:14,929 epoch 32 - iter 35/79 - loss 0.39508722 - time (sec): 8.29 - samples/sec: 5092.25 - lr: 0.006250\n",
            "2023-04-21 02:03:17,033 epoch 32 - iter 42/79 - loss 0.40558726 - time (sec): 10.39 - samples/sec: 4847.21 - lr: 0.006250\n",
            "2023-04-21 02:03:18,789 epoch 32 - iter 49/79 - loss 0.40409614 - time (sec): 12.15 - samples/sec: 4826.29 - lr: 0.006250\n",
            "2023-04-21 02:03:21,254 epoch 32 - iter 56/79 - loss 0.39156002 - time (sec): 14.62 - samples/sec: 4731.55 - lr: 0.006250\n",
            "2023-04-21 02:03:22,749 epoch 32 - iter 63/79 - loss 0.39723596 - time (sec): 16.11 - samples/sec: 4745.02 - lr: 0.006250\n",
            "2023-04-21 02:03:24,818 epoch 32 - iter 70/79 - loss 0.38890788 - time (sec): 18.18 - samples/sec: 4727.38 - lr: 0.006250\n",
            "2023-04-21 02:03:26,292 epoch 32 - iter 77/79 - loss 0.39054831 - time (sec): 19.65 - samples/sec: 4714.13 - lr: 0.006250\n",
            "2023-04-21 02:03:26,794 ----------------------------------------------------------------------------------------------------\n",
            "2023-04-21 02:03:26,796 EPOCH 32 done: loss 0.3906 - lr 0.006250\n"
          ]
        },
        {
          "output_type": "stream",
          "name": "stderr",
          "text": [
            "100%|██████████| 79/79 [00:21<00:00,  3.66it/s]"
          ]
        },
        {
          "output_type": "stream",
          "name": "stdout",
          "text": [
            "2023-04-21 02:03:48,501 Evaluating as a multi-label problem: True\n"
          ]
        },
        {
          "output_type": "stream",
          "name": "stderr",
          "text": [
            "\n"
          ]
        },
        {
          "output_type": "stream",
          "name": "stdout",
          "text": [
            "2023-04-21 02:03:51,277 TRAIN : loss 0.3419773280620575 - f1-score (weighted avg)  0.3189\n"
          ]
        },
        {
          "output_type": "stream",
          "name": "stderr",
          "text": [
            "100%|██████████| 10/10 [00:02<00:00,  3.61it/s]"
          ]
        },
        {
          "output_type": "stream",
          "name": "stdout",
          "text": [
            "2023-04-21 02:03:54,130 Evaluating as a multi-label problem: False\n",
            "2023-04-21 02:03:54,196 DEV : loss 0.35737770795822144 - f1-score (weighted avg)  0.3183\n",
            "2023-04-21 02:03:54,206 BAD EPOCHS (no improvement): 1\n",
            "2023-04-21 02:03:54,210 ----------------------------------------------------------------------------------------------------\n"
          ]
        },
        {
          "output_type": "stream",
          "name": "stderr",
          "text": [
            "\n"
          ]
        },
        {
          "output_type": "stream",
          "name": "stdout",
          "text": [
            "2023-04-21 02:03:55,772 epoch 33 - iter 7/79 - loss 0.38023578 - time (sec): 1.56 - samples/sec: 4985.03 - lr: 0.006250\n",
            "2023-04-21 02:03:57,623 epoch 33 - iter 14/79 - loss 0.40063690 - time (sec): 3.41 - samples/sec: 4951.62 - lr: 0.006250\n",
            "2023-04-21 02:03:59,042 epoch 33 - iter 21/79 - loss 0.41917389 - time (sec): 4.83 - samples/sec: 5005.04 - lr: 0.006250\n",
            "2023-04-21 02:04:00,650 epoch 33 - iter 28/79 - loss 0.40753831 - time (sec): 6.44 - samples/sec: 5051.10 - lr: 0.006250\n",
            "2023-04-21 02:04:02,212 epoch 33 - iter 35/79 - loss 0.40098344 - time (sec): 8.00 - samples/sec: 5182.37 - lr: 0.006250\n",
            "2023-04-21 02:04:04,006 epoch 33 - iter 42/79 - loss 0.40258796 - time (sec): 9.79 - samples/sec: 5082.47 - lr: 0.006250\n",
            "2023-04-21 02:04:05,930 epoch 33 - iter 49/79 - loss 0.40032758 - time (sec): 11.72 - samples/sec: 5036.26 - lr: 0.006250\n",
            "2023-04-21 02:04:08,150 epoch 33 - iter 56/79 - loss 0.39777044 - time (sec): 13.94 - samples/sec: 4796.64 - lr: 0.006250\n",
            "2023-04-21 02:04:09,894 epoch 33 - iter 63/79 - loss 0.39511045 - time (sec): 15.68 - samples/sec: 4816.53 - lr: 0.006250\n",
            "2023-04-21 02:04:12,057 epoch 33 - iter 70/79 - loss 0.39205873 - time (sec): 17.84 - samples/sec: 4759.88 - lr: 0.006250\n",
            "2023-04-21 02:04:13,770 epoch 33 - iter 77/79 - loss 0.38631256 - time (sec): 19.56 - samples/sec: 4750.36 - lr: 0.006250\n",
            "2023-04-21 02:04:14,176 ----------------------------------------------------------------------------------------------------\n",
            "2023-04-21 02:04:14,177 EPOCH 33 done: loss 0.3850 - lr 0.006250\n"
          ]
        },
        {
          "output_type": "stream",
          "name": "stderr",
          "text": [
            "100%|██████████| 79/79 [00:22<00:00,  3.48it/s]"
          ]
        },
        {
          "output_type": "stream",
          "name": "stdout",
          "text": [
            "2023-04-21 02:04:37,024 Evaluating as a multi-label problem: True\n"
          ]
        },
        {
          "output_type": "stream",
          "name": "stderr",
          "text": [
            "\n"
          ]
        },
        {
          "output_type": "stream",
          "name": "stdout",
          "text": [
            "2023-04-21 02:04:39,817 TRAIN : loss 0.2769707143306732 - f1-score (weighted avg)  0.3561\n"
          ]
        },
        {
          "output_type": "stream",
          "name": "stderr",
          "text": [
            "100%|██████████| 10/10 [00:02<00:00,  3.55it/s]"
          ]
        },
        {
          "output_type": "stream",
          "name": "stdout",
          "text": [
            "2023-04-21 02:04:42,719 Evaluating as a multi-label problem: False\n",
            "2023-04-21 02:04:42,794 DEV : loss 0.3003895580768585 - f1-score (weighted avg)  0.3316\n",
            "2023-04-21 02:04:42,803 BAD EPOCHS (no improvement): 0\n",
            "2023-04-21 02:04:42,808 saving best model\n"
          ]
        },
        {
          "output_type": "stream",
          "name": "stderr",
          "text": [
            "\n"
          ]
        },
        {
          "output_type": "stream",
          "name": "stdout",
          "text": [
            "2023-04-21 02:04:44,904 ----------------------------------------------------------------------------------------------------\n",
            "2023-04-21 02:04:46,298 epoch 34 - iter 7/79 - loss 0.36700913 - time (sec): 1.39 - samples/sec: 5196.72 - lr: 0.006250\n",
            "2023-04-21 02:04:47,998 epoch 34 - iter 14/79 - loss 0.37567686 - time (sec): 3.09 - samples/sec: 5065.98 - lr: 0.006250\n",
            "2023-04-21 02:04:49,827 epoch 34 - iter 21/79 - loss 0.36794053 - time (sec): 4.92 - samples/sec: 5074.41 - lr: 0.006250\n",
            "2023-04-21 02:04:51,419 epoch 34 - iter 28/79 - loss 0.37572487 - time (sec): 6.51 - samples/sec: 5164.49 - lr: 0.006250\n",
            "2023-04-21 02:04:53,055 epoch 34 - iter 35/79 - loss 0.38640994 - time (sec): 8.15 - samples/sec: 5251.95 - lr: 0.006250\n",
            "2023-04-21 02:04:55,232 epoch 34 - iter 42/79 - loss 0.39771952 - time (sec): 10.32 - samples/sec: 4978.68 - lr: 0.006250\n",
            "2023-04-21 02:04:56,952 epoch 34 - iter 49/79 - loss 0.40311196 - time (sec): 12.04 - samples/sec: 4941.05 - lr: 0.006250\n",
            "2023-04-21 02:04:59,215 epoch 34 - iter 56/79 - loss 0.40472433 - time (sec): 14.31 - samples/sec: 4784.99 - lr: 0.006250\n",
            "2023-04-21 02:05:01,123 epoch 34 - iter 63/79 - loss 0.40401744 - time (sec): 16.22 - samples/sec: 4737.38 - lr: 0.006250\n",
            "2023-04-21 02:05:02,955 epoch 34 - iter 70/79 - loss 0.40072869 - time (sec): 18.05 - samples/sec: 4747.79 - lr: 0.006250\n",
            "2023-04-21 02:05:04,319 epoch 34 - iter 77/79 - loss 0.40200521 - time (sec): 19.41 - samples/sec: 4745.21 - lr: 0.006250\n",
            "2023-04-21 02:05:04,856 ----------------------------------------------------------------------------------------------------\n",
            "2023-04-21 02:05:04,857 EPOCH 34 done: loss 0.3993 - lr 0.006250\n"
          ]
        },
        {
          "output_type": "stream",
          "name": "stderr",
          "text": [
            "100%|██████████| 79/79 [00:21<00:00,  3.64it/s]\n"
          ]
        },
        {
          "output_type": "stream",
          "name": "stdout",
          "text": [
            "2023-04-21 02:05:27,937 Evaluating as a multi-label problem: True\n",
            "2023-04-21 02:05:30,717 TRAIN : loss 0.27349668741226196 - f1-score (weighted avg)  0.3692\n"
          ]
        },
        {
          "output_type": "stream",
          "name": "stderr",
          "text": [
            "100%|██████████| 10/10 [00:02<00:00,  3.60it/s]"
          ]
        },
        {
          "output_type": "stream",
          "name": "stdout",
          "text": [
            "2023-04-21 02:05:33,572 Evaluating as a multi-label problem: False\n",
            "2023-04-21 02:05:33,644 DEV : loss 0.291950523853302 - f1-score (weighted avg)  0.36\n",
            "2023-04-21 02:05:33,653 BAD EPOCHS (no improvement): 0\n",
            "2023-04-21 02:05:33,657 saving best model\n"
          ]
        },
        {
          "output_type": "stream",
          "name": "stderr",
          "text": [
            "\n"
          ]
        },
        {
          "output_type": "stream",
          "name": "stdout",
          "text": [
            "2023-04-21 02:05:35,740 ----------------------------------------------------------------------------------------------------\n",
            "2023-04-21 02:05:37,940 epoch 35 - iter 7/79 - loss 0.35230429 - time (sec): 2.20 - samples/sec: 4270.37 - lr: 0.006250\n",
            "2023-04-21 02:05:39,459 epoch 35 - iter 14/79 - loss 0.36154758 - time (sec): 3.72 - samples/sec: 4645.40 - lr: 0.006250\n",
            "2023-04-21 02:05:41,164 epoch 35 - iter 21/79 - loss 0.35803076 - time (sec): 5.42 - samples/sec: 4858.58 - lr: 0.006250\n",
            "2023-04-21 02:05:42,900 epoch 35 - iter 28/79 - loss 0.36272072 - time (sec): 7.16 - samples/sec: 4746.91 - lr: 0.006250\n",
            "2023-04-21 02:05:44,966 epoch 35 - iter 35/79 - loss 0.36395621 - time (sec): 9.22 - samples/sec: 4774.91 - lr: 0.006250\n",
            "2023-04-21 02:05:46,569 epoch 35 - iter 42/79 - loss 0.36627326 - time (sec): 10.83 - samples/sec: 4787.52 - lr: 0.006250\n",
            "2023-04-21 02:05:49,140 epoch 35 - iter 49/79 - loss 0.36586465 - time (sec): 13.40 - samples/sec: 4554.32 - lr: 0.006250\n",
            "2023-04-21 02:05:50,776 epoch 35 - iter 56/79 - loss 0.36718023 - time (sec): 15.03 - samples/sec: 4607.65 - lr: 0.006250\n",
            "2023-04-21 02:05:52,238 epoch 35 - iter 63/79 - loss 0.36856516 - time (sec): 16.50 - samples/sec: 4598.39 - lr: 0.006250\n",
            "2023-04-21 02:05:53,904 epoch 35 - iter 70/79 - loss 0.36721688 - time (sec): 18.16 - samples/sec: 4590.63 - lr: 0.006250\n",
            "2023-04-21 02:05:55,637 epoch 35 - iter 77/79 - loss 0.37626730 - time (sec): 19.89 - samples/sec: 4628.80 - lr: 0.006250\n",
            "2023-04-21 02:05:56,139 ----------------------------------------------------------------------------------------------------\n",
            "2023-04-21 02:05:56,141 EPOCH 35 done: loss 0.3765 - lr 0.006250\n"
          ]
        },
        {
          "output_type": "stream",
          "name": "stderr",
          "text": [
            "100%|██████████| 79/79 [00:21<00:00,  3.64it/s]"
          ]
        },
        {
          "output_type": "stream",
          "name": "stdout",
          "text": [
            "2023-04-21 02:06:17,959 Evaluating as a multi-label problem: True\n"
          ]
        },
        {
          "output_type": "stream",
          "name": "stderr",
          "text": [
            "\n"
          ]
        },
        {
          "output_type": "stream",
          "name": "stdout",
          "text": [
            "2023-04-21 02:06:20,744 TRAIN : loss 0.28911060094833374 - f1-score (weighted avg)  0.3611\n"
          ]
        },
        {
          "output_type": "stream",
          "name": "stderr",
          "text": [
            "100%|██████████| 10/10 [00:02<00:00,  3.58it/s]"
          ]
        },
        {
          "output_type": "stream",
          "name": "stdout",
          "text": [
            "2023-04-21 02:06:23,615 Evaluating as a multi-label problem: False\n",
            "2023-04-21 02:06:23,683 DEV : loss 0.30994680523872375 - f1-score (weighted avg)  0.3725\n",
            "2023-04-21 02:06:23,693 BAD EPOCHS (no improvement): 1\n",
            "2023-04-21 02:06:23,697 ----------------------------------------------------------------------------------------------------\n"
          ]
        },
        {
          "output_type": "stream",
          "name": "stderr",
          "text": [
            "\n"
          ]
        },
        {
          "output_type": "stream",
          "name": "stdout",
          "text": [
            "2023-04-21 02:06:25,220 epoch 36 - iter 7/79 - loss 0.44402137 - time (sec): 1.52 - samples/sec: 5941.01 - lr: 0.006250\n",
            "2023-04-21 02:06:26,542 epoch 36 - iter 14/79 - loss 0.41859720 - time (sec): 2.84 - samples/sec: 5747.09 - lr: 0.006250\n",
            "2023-04-21 02:06:28,185 epoch 36 - iter 21/79 - loss 0.39908062 - time (sec): 4.49 - samples/sec: 5548.47 - lr: 0.006250\n",
            "2023-04-21 02:06:29,846 epoch 36 - iter 28/79 - loss 0.38270123 - time (sec): 6.15 - samples/sec: 5345.65 - lr: 0.006250\n",
            "2023-04-21 02:06:31,883 epoch 36 - iter 35/79 - loss 0.37159876 - time (sec): 8.18 - samples/sec: 4997.00 - lr: 0.006250\n",
            "2023-04-21 02:06:33,566 epoch 36 - iter 42/79 - loss 0.37324318 - time (sec): 9.87 - samples/sec: 4954.19 - lr: 0.006250\n",
            "2023-04-21 02:06:35,379 epoch 36 - iter 49/79 - loss 0.36754002 - time (sec): 11.68 - samples/sec: 4907.59 - lr: 0.006250\n",
            "2023-04-21 02:06:37,294 epoch 36 - iter 56/79 - loss 0.36420995 - time (sec): 13.60 - samples/sec: 4863.81 - lr: 0.006250\n",
            "2023-04-21 02:06:39,603 epoch 36 - iter 63/79 - loss 0.36661371 - time (sec): 15.90 - samples/sec: 4762.49 - lr: 0.006250\n",
            "2023-04-21 02:06:41,377 epoch 36 - iter 70/79 - loss 0.36886969 - time (sec): 17.68 - samples/sec: 4782.92 - lr: 0.006250\n",
            "2023-04-21 02:06:43,097 epoch 36 - iter 77/79 - loss 0.37483844 - time (sec): 19.40 - samples/sec: 4794.88 - lr: 0.006250\n",
            "2023-04-21 02:06:43,491 ----------------------------------------------------------------------------------------------------\n",
            "2023-04-21 02:06:43,492 EPOCH 36 done: loss 0.3758 - lr 0.006250\n"
          ]
        },
        {
          "output_type": "stream",
          "name": "stderr",
          "text": [
            "100%|██████████| 79/79 [00:22<00:00,  3.48it/s]"
          ]
        },
        {
          "output_type": "stream",
          "name": "stdout",
          "text": [
            "2023-04-21 02:07:06,320 Evaluating as a multi-label problem: True\n"
          ]
        },
        {
          "output_type": "stream",
          "name": "stderr",
          "text": [
            "\n"
          ]
        },
        {
          "output_type": "stream",
          "name": "stdout",
          "text": [
            "2023-04-21 02:07:09,098 TRAIN : loss 0.3068969249725342 - f1-score (weighted avg)  0.3431\n"
          ]
        },
        {
          "output_type": "stream",
          "name": "stderr",
          "text": [
            "100%|██████████| 10/10 [00:02<00:00,  3.57it/s]"
          ]
        },
        {
          "output_type": "stream",
          "name": "stdout",
          "text": [
            "2023-04-21 02:07:11,979 Evaluating as a multi-label problem: False\n",
            "2023-04-21 02:07:12,052 DEV : loss 0.32240429520606995 - f1-score (weighted avg)  0.3387\n",
            "2023-04-21 02:07:12,064 Epoch    36: reducing learning rate of group 0 to 3.1250e-03.\n",
            "2023-04-21 02:07:12,066 BAD EPOCHS (no improvement): 2\n",
            "2023-04-21 02:07:12,071 ----------------------------------------------------------------------------------------------------\n"
          ]
        },
        {
          "output_type": "stream",
          "name": "stderr",
          "text": [
            "\n"
          ]
        },
        {
          "output_type": "stream",
          "name": "stdout",
          "text": [
            "2023-04-21 02:07:14,653 epoch 37 - iter 7/79 - loss 0.33983581 - time (sec): 2.58 - samples/sec: 4005.01 - lr: 0.003125\n",
            "2023-04-21 02:07:16,328 epoch 37 - iter 14/79 - loss 0.38127071 - time (sec): 4.26 - samples/sec: 4140.34 - lr: 0.003125\n",
            "2023-04-21 02:07:18,165 epoch 37 - iter 21/79 - loss 0.38211842 - time (sec): 6.09 - samples/sec: 4156.11 - lr: 0.003125\n",
            "2023-04-21 02:07:19,832 epoch 37 - iter 28/79 - loss 0.38708522 - time (sec): 7.76 - samples/sec: 4331.25 - lr: 0.003125\n",
            "2023-04-21 02:07:21,518 epoch 37 - iter 35/79 - loss 0.38509154 - time (sec): 9.45 - samples/sec: 4456.81 - lr: 0.003125\n",
            "2023-04-21 02:07:23,062 epoch 37 - iter 42/79 - loss 0.39964958 - time (sec): 10.99 - samples/sec: 4603.89 - lr: 0.003125\n",
            "2023-04-21 02:07:24,806 epoch 37 - iter 49/79 - loss 0.39896836 - time (sec): 12.73 - samples/sec: 4640.37 - lr: 0.003125\n",
            "2023-04-21 02:07:26,571 epoch 37 - iter 56/79 - loss 0.39451635 - time (sec): 14.50 - samples/sec: 4610.06 - lr: 0.003125\n",
            "2023-04-21 02:07:28,506 epoch 37 - iter 63/79 - loss 0.39107779 - time (sec): 16.43 - samples/sec: 4614.97 - lr: 0.003125\n",
            "2023-04-21 02:07:30,166 epoch 37 - iter 70/79 - loss 0.38483387 - time (sec): 18.09 - samples/sec: 4705.50 - lr: 0.003125\n",
            "2023-04-21 02:07:31,573 epoch 37 - iter 77/79 - loss 0.37982077 - time (sec): 19.50 - samples/sec: 4748.88 - lr: 0.003125\n",
            "2023-04-21 02:07:31,905 ----------------------------------------------------------------------------------------------------\n",
            "2023-04-21 02:07:31,907 EPOCH 37 done: loss 0.3776 - lr 0.003125\n"
          ]
        },
        {
          "output_type": "stream",
          "name": "stderr",
          "text": [
            "100%|██████████| 79/79 [00:21<00:00,  3.64it/s]"
          ]
        },
        {
          "output_type": "stream",
          "name": "stdout",
          "text": [
            "2023-04-21 02:07:53,735 Evaluating as a multi-label problem: True\n"
          ]
        },
        {
          "output_type": "stream",
          "name": "stderr",
          "text": [
            "\n"
          ]
        },
        {
          "output_type": "stream",
          "name": "stdout",
          "text": [
            "2023-04-21 02:07:57,775 TRAIN : loss 0.2786063849925995 - f1-score (weighted avg)  0.3525\n"
          ]
        },
        {
          "output_type": "stream",
          "name": "stderr",
          "text": [
            "100%|██████████| 10/10 [00:02<00:00,  3.60it/s]"
          ]
        },
        {
          "output_type": "stream",
          "name": "stdout",
          "text": [
            "2023-04-21 02:08:00,636 Evaluating as a multi-label problem: False\n",
            "2023-04-21 02:08:00,705 DEV : loss 0.2996746599674225 - f1-score (weighted avg)  0.335\n",
            "2023-04-21 02:08:00,715 BAD EPOCHS (no improvement): 1\n",
            "2023-04-21 02:08:00,719 ----------------------------------------------------------------------------------------------------\n"
          ]
        },
        {
          "output_type": "stream",
          "name": "stderr",
          "text": [
            "\n"
          ]
        },
        {
          "output_type": "stream",
          "name": "stdout",
          "text": [
            "2023-04-21 02:08:03,005 epoch 38 - iter 7/79 - loss 0.29215182 - time (sec): 2.28 - samples/sec: 4217.37 - lr: 0.003125\n",
            "2023-04-21 02:08:04,503 epoch 38 - iter 14/79 - loss 0.35601054 - time (sec): 3.78 - samples/sec: 4569.32 - lr: 0.003125\n",
            "2023-04-21 02:08:06,297 epoch 38 - iter 21/79 - loss 0.35486360 - time (sec): 5.58 - samples/sec: 4630.07 - lr: 0.003125\n",
            "2023-04-21 02:08:08,446 epoch 38 - iter 28/79 - loss 0.34428114 - time (sec): 7.73 - samples/sec: 4622.53 - lr: 0.003125\n",
            "2023-04-21 02:08:10,123 epoch 38 - iter 35/79 - loss 0.34553870 - time (sec): 9.40 - samples/sec: 4795.55 - lr: 0.003125\n",
            "2023-04-21 02:08:11,864 epoch 38 - iter 42/79 - loss 0.35064337 - time (sec): 11.14 - samples/sec: 4816.78 - lr: 0.003125\n",
            "2023-04-21 02:08:13,169 epoch 38 - iter 49/79 - loss 0.34614444 - time (sec): 12.45 - samples/sec: 4861.82 - lr: 0.003125\n",
            "2023-04-21 02:08:14,957 epoch 38 - iter 56/79 - loss 0.34749093 - time (sec): 14.24 - samples/sec: 4881.15 - lr: 0.003125\n",
            "2023-04-21 02:08:16,816 epoch 38 - iter 63/79 - loss 0.34626014 - time (sec): 16.10 - samples/sec: 4846.14 - lr: 0.003125\n",
            "2023-04-21 02:08:18,262 epoch 38 - iter 70/79 - loss 0.34577035 - time (sec): 17.54 - samples/sec: 4823.14 - lr: 0.003125\n",
            "2023-04-21 02:08:20,010 epoch 38 - iter 77/79 - loss 0.34648674 - time (sec): 19.29 - samples/sec: 4812.90 - lr: 0.003125\n",
            "2023-04-21 02:08:20,453 ----------------------------------------------------------------------------------------------------\n",
            "2023-04-21 02:08:20,454 EPOCH 38 done: loss 0.3455 - lr 0.003125\n"
          ]
        },
        {
          "output_type": "stream",
          "name": "stderr",
          "text": [
            "100%|██████████| 79/79 [00:21<00:00,  3.65it/s]"
          ]
        },
        {
          "output_type": "stream",
          "name": "stdout",
          "text": [
            "2023-04-21 02:08:42,266 Evaluating as a multi-label problem: True\n"
          ]
        },
        {
          "output_type": "stream",
          "name": "stderr",
          "text": [
            "\n"
          ]
        },
        {
          "output_type": "stream",
          "name": "stdout",
          "text": [
            "2023-04-21 02:08:45,049 TRAIN : loss 0.2833389639854431 - f1-score (weighted avg)  0.3505\n"
          ]
        },
        {
          "output_type": "stream",
          "name": "stderr",
          "text": [
            "100%|██████████| 10/10 [00:02<00:00,  3.62it/s]"
          ]
        },
        {
          "output_type": "stream",
          "name": "stdout",
          "text": [
            "2023-04-21 02:08:47,887 Evaluating as a multi-label problem: False\n",
            "2023-04-21 02:08:47,956 DEV : loss 0.3018530011177063 - f1-score (weighted avg)  0.3502\n",
            "2023-04-21 02:08:47,966 Epoch    38: reducing learning rate of group 0 to 1.5625e-03.\n",
            "2023-04-21 02:08:47,968 BAD EPOCHS (no improvement): 2\n",
            "2023-04-21 02:08:47,971 ----------------------------------------------------------------------------------------------------\n"
          ]
        },
        {
          "output_type": "stream",
          "name": "stderr",
          "text": [
            "\n"
          ]
        },
        {
          "output_type": "stream",
          "name": "stdout",
          "text": [
            "2023-04-21 02:08:49,650 epoch 39 - iter 7/79 - loss 0.34289651 - time (sec): 1.68 - samples/sec: 5133.52 - lr: 0.001563\n",
            "2023-04-21 02:08:51,875 epoch 39 - iter 14/79 - loss 0.33378136 - time (sec): 3.90 - samples/sec: 4489.81 - lr: 0.001563\n",
            "2023-04-21 02:08:53,476 epoch 39 - iter 21/79 - loss 0.33982872 - time (sec): 5.50 - samples/sec: 4582.29 - lr: 0.001563\n",
            "2023-04-21 02:08:55,025 epoch 39 - iter 28/79 - loss 0.34950435 - time (sec): 7.05 - samples/sec: 4672.51 - lr: 0.001563\n",
            "2023-04-21 02:08:56,938 epoch 39 - iter 35/79 - loss 0.34796158 - time (sec): 8.96 - samples/sec: 4643.64 - lr: 0.001563\n",
            "2023-04-21 02:08:58,539 epoch 39 - iter 42/79 - loss 0.35334955 - time (sec): 10.57 - samples/sec: 4743.61 - lr: 0.001563\n",
            "2023-04-21 02:09:00,458 epoch 39 - iter 49/79 - loss 0.35959626 - time (sec): 12.48 - samples/sec: 4744.18 - lr: 0.001563\n",
            "2023-04-21 02:09:02,172 epoch 39 - iter 56/79 - loss 0.35034793 - time (sec): 14.20 - samples/sec: 4748.96 - lr: 0.001563\n",
            "2023-04-21 02:09:03,701 epoch 39 - iter 63/79 - loss 0.34612400 - time (sec): 15.73 - samples/sec: 4779.75 - lr: 0.001563\n",
            "2023-04-21 02:09:06,057 epoch 39 - iter 70/79 - loss 0.34127320 - time (sec): 18.08 - samples/sec: 4652.30 - lr: 0.001563\n",
            "2023-04-21 02:09:07,811 epoch 39 - iter 77/79 - loss 0.34113675 - time (sec): 19.84 - samples/sec: 4686.40 - lr: 0.001563\n",
            "2023-04-21 02:09:08,178 ----------------------------------------------------------------------------------------------------\n",
            "2023-04-21 02:09:08,180 EPOCH 39 done: loss 0.3411 - lr 0.001563\n"
          ]
        },
        {
          "output_type": "stream",
          "name": "stderr",
          "text": [
            "100%|██████████| 79/79 [00:22<00:00,  3.49it/s]"
          ]
        },
        {
          "output_type": "stream",
          "name": "stdout",
          "text": [
            "2023-04-21 02:09:30,976 Evaluating as a multi-label problem: True\n"
          ]
        },
        {
          "output_type": "stream",
          "name": "stderr",
          "text": [
            "\n"
          ]
        },
        {
          "output_type": "stream",
          "name": "stdout",
          "text": [
            "2023-04-21 02:09:33,786 TRAIN : loss 0.2742469608783722 - f1-score (weighted avg)  0.3583\n"
          ]
        },
        {
          "output_type": "stream",
          "name": "stderr",
          "text": [
            "100%|██████████| 10/10 [00:02<00:00,  3.56it/s]"
          ]
        },
        {
          "output_type": "stream",
          "name": "stdout",
          "text": [
            "2023-04-21 02:09:36,672 Evaluating as a multi-label problem: False\n",
            "2023-04-21 02:09:36,747 DEV : loss 0.2937588691711426 - f1-score (weighted avg)  0.3462\n",
            "2023-04-21 02:09:36,757 BAD EPOCHS (no improvement): 1\n",
            "2023-04-21 02:09:36,761 ----------------------------------------------------------------------------------------------------\n"
          ]
        },
        {
          "output_type": "stream",
          "name": "stderr",
          "text": [
            "\n"
          ]
        },
        {
          "output_type": "stream",
          "name": "stdout",
          "text": [
            "2023-04-21 02:09:38,925 epoch 40 - iter 7/79 - loss 0.30451652 - time (sec): 2.16 - samples/sec: 3931.65 - lr: 0.001563\n",
            "2023-04-21 02:09:40,966 epoch 40 - iter 14/79 - loss 0.30543714 - time (sec): 4.20 - samples/sec: 4068.89 - lr: 0.001563\n",
            "2023-04-21 02:09:42,950 epoch 40 - iter 21/79 - loss 0.32522896 - time (sec): 6.19 - samples/sec: 4179.86 - lr: 0.001563\n",
            "2023-04-21 02:09:44,879 epoch 40 - iter 28/79 - loss 0.31407870 - time (sec): 8.12 - samples/sec: 4325.58 - lr: 0.001563\n",
            "2023-04-21 02:09:46,296 epoch 40 - iter 35/79 - loss 0.32395986 - time (sec): 9.53 - samples/sec: 4499.80 - lr: 0.001563\n",
            "2023-04-21 02:09:47,885 epoch 40 - iter 42/79 - loss 0.33314061 - time (sec): 11.12 - samples/sec: 4547.54 - lr: 0.001563\n",
            "2023-04-21 02:09:49,547 epoch 40 - iter 49/79 - loss 0.33564189 - time (sec): 12.78 - samples/sec: 4657.50 - lr: 0.001563\n",
            "2023-04-21 02:09:51,023 epoch 40 - iter 56/79 - loss 0.33635987 - time (sec): 14.26 - samples/sec: 4709.72 - lr: 0.001563\n",
            "2023-04-21 02:09:52,542 epoch 40 - iter 63/79 - loss 0.33607193 - time (sec): 15.78 - samples/sec: 4765.87 - lr: 0.001563\n",
            "2023-04-21 02:09:54,270 epoch 40 - iter 70/79 - loss 0.33318574 - time (sec): 17.51 - samples/sec: 4792.32 - lr: 0.001563\n",
            "2023-04-21 02:09:55,908 epoch 40 - iter 77/79 - loss 0.33596327 - time (sec): 19.14 - samples/sec: 4838.40 - lr: 0.001563\n",
            "2023-04-21 02:09:56,456 ----------------------------------------------------------------------------------------------------\n",
            "2023-04-21 02:09:56,458 EPOCH 40 done: loss 0.3346 - lr 0.001563\n"
          ]
        },
        {
          "output_type": "stream",
          "name": "stderr",
          "text": [
            "100%|██████████| 79/79 [00:21<00:00,  3.66it/s]"
          ]
        },
        {
          "output_type": "stream",
          "name": "stdout",
          "text": [
            "2023-04-21 02:10:18,188 Evaluating as a multi-label problem: True\n"
          ]
        },
        {
          "output_type": "stream",
          "name": "stderr",
          "text": [
            "\n"
          ]
        },
        {
          "output_type": "stream",
          "name": "stdout",
          "text": [
            "2023-04-21 02:10:22,241 TRAIN : loss 0.2766505181789398 - f1-score (weighted avg)  0.3438\n"
          ]
        },
        {
          "output_type": "stream",
          "name": "stderr",
          "text": [
            "100%|██████████| 10/10 [00:02<00:00,  3.58it/s]"
          ]
        },
        {
          "output_type": "stream",
          "name": "stdout",
          "text": [
            "2023-04-21 02:10:25,112 Evaluating as a multi-label problem: False\n",
            "2023-04-21 02:10:25,184 DEV : loss 0.2953406274318695 - f1-score (weighted avg)  0.3306\n",
            "2023-04-21 02:10:25,193 Epoch    40: reducing learning rate of group 0 to 7.8125e-04.\n",
            "2023-04-21 02:10:25,195 BAD EPOCHS (no improvement): 2\n",
            "2023-04-21 02:10:25,198 ----------------------------------------------------------------------------------------------------\n"
          ]
        },
        {
          "output_type": "stream",
          "name": "stderr",
          "text": [
            "\n"
          ]
        },
        {
          "output_type": "stream",
          "name": "stdout",
          "text": [
            "2023-04-21 02:10:27,152 epoch 41 - iter 7/79 - loss 0.30680235 - time (sec): 1.95 - samples/sec: 4770.31 - lr: 0.000781\n",
            "2023-04-21 02:10:28,705 epoch 41 - iter 14/79 - loss 0.31378448 - time (sec): 3.51 - samples/sec: 4705.05 - lr: 0.000781\n",
            "2023-04-21 02:10:30,998 epoch 41 - iter 21/79 - loss 0.35647853 - time (sec): 5.80 - samples/sec: 4355.48 - lr: 0.000781\n",
            "2023-04-21 02:10:32,841 epoch 41 - iter 28/79 - loss 0.35348881 - time (sec): 7.64 - samples/sec: 4393.96 - lr: 0.000781\n",
            "2023-04-21 02:10:34,993 epoch 41 - iter 35/79 - loss 0.35569531 - time (sec): 9.79 - samples/sec: 4267.84 - lr: 0.000781\n",
            "2023-04-21 02:10:36,858 epoch 41 - iter 42/79 - loss 0.35337161 - time (sec): 11.66 - samples/sec: 4315.81 - lr: 0.000781\n",
            "2023-04-21 02:10:38,668 epoch 41 - iter 49/79 - loss 0.34321458 - time (sec): 13.47 - samples/sec: 4399.47 - lr: 0.000781\n",
            "2023-04-21 02:10:40,376 epoch 41 - iter 56/79 - loss 0.33844169 - time (sec): 15.18 - samples/sec: 4489.44 - lr: 0.000781\n",
            "2023-04-21 02:10:41,783 epoch 41 - iter 63/79 - loss 0.34184331 - time (sec): 16.58 - samples/sec: 4565.33 - lr: 0.000781\n",
            "2023-04-21 02:10:43,294 epoch 41 - iter 70/79 - loss 0.33684717 - time (sec): 18.09 - samples/sec: 4617.54 - lr: 0.000781\n",
            "2023-04-21 02:10:44,845 epoch 41 - iter 77/79 - loss 0.33500488 - time (sec): 19.64 - samples/sec: 4718.45 - lr: 0.000781\n",
            "2023-04-21 02:10:45,254 ----------------------------------------------------------------------------------------------------\n",
            "2023-04-21 02:10:45,256 EPOCH 41 done: loss 0.3356 - lr 0.000781\n"
          ]
        },
        {
          "output_type": "stream",
          "name": "stderr",
          "text": [
            "100%|██████████| 79/79 [00:21<00:00,  3.65it/s]"
          ]
        },
        {
          "output_type": "stream",
          "name": "stdout",
          "text": [
            "2023-04-21 02:11:07,047 Evaluating as a multi-label problem: True\n"
          ]
        },
        {
          "output_type": "stream",
          "name": "stderr",
          "text": [
            "\n"
          ]
        },
        {
          "output_type": "stream",
          "name": "stdout",
          "text": [
            "2023-04-21 02:11:09,801 TRAIN : loss 0.2685922384262085 - f1-score (weighted avg)  0.3629\n"
          ]
        },
        {
          "output_type": "stream",
          "name": "stderr",
          "text": [
            "100%|██████████| 10/10 [00:02<00:00,  3.63it/s]"
          ]
        },
        {
          "output_type": "stream",
          "name": "stdout",
          "text": [
            "2023-04-21 02:11:12,636 Evaluating as a multi-label problem: False\n",
            "2023-04-21 02:11:12,704 DEV : loss 0.28802013397216797 - f1-score (weighted avg)  0.3522\n",
            "2023-04-21 02:11:12,713 BAD EPOCHS (no improvement): 0\n",
            "2023-04-21 02:11:12,717 saving best model\n"
          ]
        },
        {
          "output_type": "stream",
          "name": "stderr",
          "text": [
            "\n"
          ]
        },
        {
          "output_type": "stream",
          "name": "stdout",
          "text": [
            "2023-04-21 02:11:14,784 ----------------------------------------------------------------------------------------------------\n",
            "2023-04-21 02:11:16,622 epoch 42 - iter 7/79 - loss 0.30611757 - time (sec): 1.84 - samples/sec: 4588.51 - lr: 0.000781\n",
            "2023-04-21 02:11:18,127 epoch 42 - iter 14/79 - loss 0.33218639 - time (sec): 3.34 - samples/sec: 5102.13 - lr: 0.000781\n",
            "2023-04-21 02:11:19,706 epoch 42 - iter 21/79 - loss 0.33648170 - time (sec): 4.92 - samples/sec: 5124.80 - lr: 0.000781\n",
            "2023-04-21 02:11:21,531 epoch 42 - iter 28/79 - loss 0.33530879 - time (sec): 6.74 - samples/sec: 5040.81 - lr: 0.000781\n",
            "2023-04-21 02:11:23,455 epoch 42 - iter 35/79 - loss 0.33614360 - time (sec): 8.67 - samples/sec: 4803.39 - lr: 0.000781\n",
            "2023-04-21 02:11:24,969 epoch 42 - iter 42/79 - loss 0.32497384 - time (sec): 10.18 - samples/sec: 4865.22 - lr: 0.000781\n",
            "2023-04-21 02:11:26,793 epoch 42 - iter 49/79 - loss 0.32468364 - time (sec): 12.01 - samples/sec: 4846.31 - lr: 0.000781\n",
            "2023-04-21 02:11:28,235 epoch 42 - iter 56/79 - loss 0.32786086 - time (sec): 13.45 - samples/sec: 4885.70 - lr: 0.000781\n",
            "2023-04-21 02:11:30,008 epoch 42 - iter 63/79 - loss 0.32579837 - time (sec): 15.22 - samples/sec: 4920.54 - lr: 0.000781\n",
            "2023-04-21 02:11:31,740 epoch 42 - iter 70/79 - loss 0.32892615 - time (sec): 16.95 - samples/sec: 4938.25 - lr: 0.000781\n",
            "2023-04-21 02:11:33,478 epoch 42 - iter 77/79 - loss 0.32777562 - time (sec): 18.69 - samples/sec: 4913.83 - lr: 0.000781\n",
            "2023-04-21 02:11:34,403 ----------------------------------------------------------------------------------------------------\n",
            "2023-04-21 02:11:34,404 EPOCH 42 done: loss 0.3280 - lr 0.000781\n"
          ]
        },
        {
          "output_type": "stream",
          "name": "stderr",
          "text": [
            "100%|██████████| 79/79 [00:23<00:00,  3.42it/s]"
          ]
        },
        {
          "output_type": "stream",
          "name": "stdout",
          "text": [
            "2023-04-21 02:11:57,618 Evaluating as a multi-label problem: True\n"
          ]
        },
        {
          "output_type": "stream",
          "name": "stderr",
          "text": [
            "\n"
          ]
        },
        {
          "output_type": "stream",
          "name": "stdout",
          "text": [
            "2023-04-21 02:12:00,385 TRAIN : loss 0.26532042026519775 - f1-score (weighted avg)  0.3683\n"
          ]
        },
        {
          "output_type": "stream",
          "name": "stderr",
          "text": [
            "100%|██████████| 10/10 [00:02<00:00,  3.58it/s]"
          ]
        },
        {
          "output_type": "stream",
          "name": "stdout",
          "text": [
            "2023-04-21 02:12:03,254 Evaluating as a multi-label problem: False\n",
            "2023-04-21 02:12:03,323 DEV : loss 0.28656190633773804 - f1-score (weighted avg)  0.3539\n",
            "2023-04-21 02:12:03,333 BAD EPOCHS (no improvement): 0\n",
            "2023-04-21 02:12:03,337 saving best model\n"
          ]
        },
        {
          "output_type": "stream",
          "name": "stderr",
          "text": [
            "\n"
          ]
        },
        {
          "output_type": "stream",
          "name": "stdout",
          "text": [
            "2023-04-21 02:12:05,428 ----------------------------------------------------------------------------------------------------\n",
            "2023-04-21 02:12:06,834 epoch 43 - iter 7/79 - loss 0.34081339 - time (sec): 1.40 - samples/sec: 5934.99 - lr: 0.000781\n",
            "2023-04-21 02:12:08,691 epoch 43 - iter 14/79 - loss 0.32263383 - time (sec): 3.26 - samples/sec: 5270.68 - lr: 0.000781\n",
            "2023-04-21 02:12:10,191 epoch 43 - iter 21/79 - loss 0.35030633 - time (sec): 4.76 - samples/sec: 5308.46 - lr: 0.000781\n",
            "2023-04-21 02:12:11,876 epoch 43 - iter 28/79 - loss 0.33897584 - time (sec): 6.45 - samples/sec: 5182.21 - lr: 0.000781\n",
            "2023-04-21 02:12:13,693 epoch 43 - iter 35/79 - loss 0.33550026 - time (sec): 8.26 - samples/sec: 5153.83 - lr: 0.000781\n",
            "2023-04-21 02:12:15,365 epoch 43 - iter 42/79 - loss 0.33089047 - time (sec): 9.93 - samples/sec: 5070.49 - lr: 0.000781\n",
            "2023-04-21 02:12:17,152 epoch 43 - iter 49/79 - loss 0.32978074 - time (sec): 11.72 - samples/sec: 5022.29 - lr: 0.000781\n",
            "2023-04-21 02:12:19,212 epoch 43 - iter 56/79 - loss 0.33243046 - time (sec): 13.78 - samples/sec: 4941.88 - lr: 0.000781\n",
            "2023-04-21 02:12:20,738 epoch 43 - iter 63/79 - loss 0.33099059 - time (sec): 15.31 - samples/sec: 4974.84 - lr: 0.000781\n",
            "2023-04-21 02:12:22,493 epoch 43 - iter 70/79 - loss 0.33295057 - time (sec): 17.06 - samples/sec: 4944.88 - lr: 0.000781\n",
            "2023-04-21 02:12:24,397 epoch 43 - iter 77/79 - loss 0.32904672 - time (sec): 18.97 - samples/sec: 4890.74 - lr: 0.000781\n",
            "2023-04-21 02:12:24,881 ----------------------------------------------------------------------------------------------------\n",
            "2023-04-21 02:12:24,883 EPOCH 43 done: loss 0.3284 - lr 0.000781\n"
          ]
        },
        {
          "output_type": "stream",
          "name": "stderr",
          "text": [
            "100%|██████████| 79/79 [00:21<00:00,  3.69it/s]"
          ]
        },
        {
          "output_type": "stream",
          "name": "stdout",
          "text": [
            "2023-04-21 02:12:46,461 Evaluating as a multi-label problem: True\n"
          ]
        },
        {
          "output_type": "stream",
          "name": "stderr",
          "text": [
            "\n"
          ]
        },
        {
          "output_type": "stream",
          "name": "stdout",
          "text": [
            "2023-04-21 02:12:50,587 TRAIN : loss 0.2665311396121979 - f1-score (weighted avg)  0.3586\n"
          ]
        },
        {
          "output_type": "stream",
          "name": "stderr",
          "text": [
            "100%|██████████| 10/10 [00:02<00:00,  3.54it/s]"
          ]
        },
        {
          "output_type": "stream",
          "name": "stdout",
          "text": [
            "2023-04-21 02:12:53,492 Evaluating as a multi-label problem: False\n",
            "2023-04-21 02:12:53,561 DEV : loss 0.28629618883132935 - f1-score (weighted avg)  0.345\n",
            "2023-04-21 02:12:53,572 BAD EPOCHS (no improvement): 0\n",
            "2023-04-21 02:12:53,576 saving best model\n"
          ]
        },
        {
          "output_type": "stream",
          "name": "stderr",
          "text": [
            "\n"
          ]
        },
        {
          "output_type": "stream",
          "name": "stdout",
          "text": [
            "2023-04-21 02:12:55,677 ----------------------------------------------------------------------------------------------------\n",
            "2023-04-21 02:12:58,099 epoch 44 - iter 7/79 - loss 0.31015971 - time (sec): 2.42 - samples/sec: 3823.28 - lr: 0.000781\n",
            "2023-04-21 02:12:59,677 epoch 44 - iter 14/79 - loss 0.30535381 - time (sec): 4.00 - samples/sec: 4447.82 - lr: 0.000781\n",
            "2023-04-21 02:13:01,262 epoch 44 - iter 21/79 - loss 0.30872523 - time (sec): 5.58 - samples/sec: 4571.43 - lr: 0.000781\n",
            "2023-04-21 02:13:02,815 epoch 44 - iter 28/79 - loss 0.30663056 - time (sec): 7.14 - samples/sec: 4677.06 - lr: 0.000781\n",
            "2023-04-21 02:13:04,671 epoch 44 - iter 35/79 - loss 0.31231948 - time (sec): 8.99 - samples/sec: 4671.40 - lr: 0.000781\n",
            "2023-04-21 02:13:06,369 epoch 44 - iter 42/79 - loss 0.31580246 - time (sec): 10.69 - samples/sec: 4784.78 - lr: 0.000781\n",
            "2023-04-21 02:13:08,767 epoch 44 - iter 49/79 - loss 0.31330978 - time (sec): 13.09 - samples/sec: 4619.76 - lr: 0.000781\n",
            "2023-04-21 02:13:10,463 epoch 44 - iter 56/79 - loss 0.31327966 - time (sec): 14.78 - samples/sec: 4614.49 - lr: 0.000781\n",
            "2023-04-21 02:13:12,175 epoch 44 - iter 63/79 - loss 0.31870305 - time (sec): 16.50 - samples/sec: 4658.50 - lr: 0.000781\n",
            "2023-04-21 02:13:13,690 epoch 44 - iter 70/79 - loss 0.31977901 - time (sec): 18.01 - samples/sec: 4681.16 - lr: 0.000781\n",
            "2023-04-21 02:13:15,176 epoch 44 - iter 77/79 - loss 0.32240983 - time (sec): 19.50 - samples/sec: 4734.47 - lr: 0.000781\n",
            "2023-04-21 02:13:15,670 ----------------------------------------------------------------------------------------------------\n",
            "2023-04-21 02:13:15,671 EPOCH 44 done: loss 0.3210 - lr 0.000781\n"
          ]
        },
        {
          "output_type": "stream",
          "name": "stderr",
          "text": [
            "100%|██████████| 79/79 [00:21<00:00,  3.66it/s]"
          ]
        },
        {
          "output_type": "stream",
          "name": "stdout",
          "text": [
            "2023-04-21 02:13:37,388 Evaluating as a multi-label problem: True\n"
          ]
        },
        {
          "output_type": "stream",
          "name": "stderr",
          "text": [
            "\n"
          ]
        },
        {
          "output_type": "stream",
          "name": "stdout",
          "text": [
            "2023-04-21 02:13:40,156 TRAIN : loss 0.2599697709083557 - f1-score (weighted avg)  0.3671\n"
          ]
        },
        {
          "output_type": "stream",
          "name": "stderr",
          "text": [
            "100%|██████████| 10/10 [00:02<00:00,  3.56it/s]"
          ]
        },
        {
          "output_type": "stream",
          "name": "stdout",
          "text": [
            "2023-04-21 02:13:43,047 Evaluating as a multi-label problem: False\n",
            "2023-04-21 02:13:43,115 DEV : loss 0.27935054898262024 - f1-score (weighted avg)  0.352\n",
            "2023-04-21 02:13:43,124 BAD EPOCHS (no improvement): 0\n",
            "2023-04-21 02:13:43,128 saving best model\n"
          ]
        },
        {
          "output_type": "stream",
          "name": "stderr",
          "text": [
            "\n"
          ]
        },
        {
          "output_type": "stream",
          "name": "stdout",
          "text": [
            "2023-04-21 02:13:45,234 ----------------------------------------------------------------------------------------------------\n",
            "2023-04-21 02:13:46,933 epoch 45 - iter 7/79 - loss 0.29894404 - time (sec): 1.70 - samples/sec: 4875.32 - lr: 0.000781\n",
            "2023-04-21 02:13:48,704 epoch 45 - iter 14/79 - loss 0.30657576 - time (sec): 3.47 - samples/sec: 5052.71 - lr: 0.000781\n",
            "2023-04-21 02:13:50,290 epoch 45 - iter 21/79 - loss 0.31067768 - time (sec): 5.05 - samples/sec: 4886.80 - lr: 0.000781\n",
            "2023-04-21 02:13:51,971 epoch 45 - iter 28/79 - loss 0.30754346 - time (sec): 6.74 - samples/sec: 4802.59 - lr: 0.000781\n",
            "2023-04-21 02:13:53,471 epoch 45 - iter 35/79 - loss 0.31482018 - time (sec): 8.24 - samples/sec: 4817.70 - lr: 0.000781\n",
            "2023-04-21 02:13:55,415 epoch 45 - iter 42/79 - loss 0.31764290 - time (sec): 10.18 - samples/sec: 4621.71 - lr: 0.000781\n",
            "2023-04-21 02:13:57,089 epoch 45 - iter 49/79 - loss 0.31958868 - time (sec): 11.85 - samples/sec: 4691.49 - lr: 0.000781\n",
            "2023-04-21 02:13:58,996 epoch 45 - iter 56/79 - loss 0.32957677 - time (sec): 13.76 - samples/sec: 4727.62 - lr: 0.000781\n",
            "2023-04-21 02:14:00,598 epoch 45 - iter 63/79 - loss 0.32697197 - time (sec): 15.36 - samples/sec: 4824.02 - lr: 0.000781\n",
            "2023-04-21 02:14:02,708 epoch 45 - iter 70/79 - loss 0.32398237 - time (sec): 17.47 - samples/sec: 4771.64 - lr: 0.000781\n",
            "2023-04-21 02:14:04,997 epoch 45 - iter 77/79 - loss 0.32257343 - time (sec): 19.76 - samples/sec: 4664.67 - lr: 0.000781\n",
            "2023-04-21 02:14:05,472 ----------------------------------------------------------------------------------------------------\n",
            "2023-04-21 02:14:05,473 EPOCH 45 done: loss 0.3239 - lr 0.000781\n"
          ]
        },
        {
          "output_type": "stream",
          "name": "stderr",
          "text": [
            "100%|██████████| 79/79 [00:22<00:00,  3.47it/s]"
          ]
        },
        {
          "output_type": "stream",
          "name": "stdout",
          "text": [
            "2023-04-21 02:14:28,403 Evaluating as a multi-label problem: True\n"
          ]
        },
        {
          "output_type": "stream",
          "name": "stderr",
          "text": [
            "\n"
          ]
        },
        {
          "output_type": "stream",
          "name": "stdout",
          "text": [
            "2023-04-21 02:14:31,176 TRAIN : loss 0.2602604031562805 - f1-score (weighted avg)  0.3743\n"
          ]
        },
        {
          "output_type": "stream",
          "name": "stderr",
          "text": [
            "100%|██████████| 10/10 [00:02<00:00,  3.61it/s]"
          ]
        },
        {
          "output_type": "stream",
          "name": "stdout",
          "text": [
            "2023-04-21 02:14:34,029 Evaluating as a multi-label problem: False\n",
            "2023-04-21 02:14:34,099 DEV : loss 0.27898821234703064 - f1-score (weighted avg)  0.3521\n",
            "2023-04-21 02:14:34,108 BAD EPOCHS (no improvement): 0\n",
            "2023-04-21 02:14:34,112 saving best model\n"
          ]
        },
        {
          "output_type": "stream",
          "name": "stderr",
          "text": [
            "\n"
          ]
        },
        {
          "output_type": "stream",
          "name": "stdout",
          "text": [
            "2023-04-21 02:14:36,173 ----------------------------------------------------------------------------------------------------\n",
            "2023-04-21 02:14:37,778 epoch 46 - iter 7/79 - loss 0.33683449 - time (sec): 1.59 - samples/sec: 4886.02 - lr: 0.000781\n",
            "2023-04-21 02:14:39,640 epoch 46 - iter 14/79 - loss 0.31677008 - time (sec): 3.45 - samples/sec: 4475.43 - lr: 0.000781\n",
            "2023-04-21 02:14:41,315 epoch 46 - iter 21/79 - loss 0.33058767 - time (sec): 5.12 - samples/sec: 4647.23 - lr: 0.000781\n",
            "2023-04-21 02:14:42,667 epoch 46 - iter 28/79 - loss 0.33733451 - time (sec): 6.48 - samples/sec: 4894.20 - lr: 0.000781\n",
            "2023-04-21 02:14:44,343 epoch 46 - iter 35/79 - loss 0.33472935 - time (sec): 8.15 - samples/sec: 4915.77 - lr: 0.000781\n",
            "2023-04-21 02:14:46,102 epoch 46 - iter 42/79 - loss 0.33101815 - time (sec): 9.91 - samples/sec: 4893.68 - lr: 0.000781\n",
            "2023-04-21 02:14:47,974 epoch 46 - iter 49/79 - loss 0.32788668 - time (sec): 11.78 - samples/sec: 4857.25 - lr: 0.000781\n",
            "2023-04-21 02:14:49,818 epoch 46 - iter 56/79 - loss 0.32123002 - time (sec): 13.63 - samples/sec: 4898.80 - lr: 0.000781\n",
            "2023-04-21 02:14:51,743 epoch 46 - iter 63/79 - loss 0.31988377 - time (sec): 15.55 - samples/sec: 4821.42 - lr: 0.000781\n",
            "2023-04-21 02:14:53,401 epoch 46 - iter 70/79 - loss 0.31981036 - time (sec): 17.21 - samples/sec: 4832.26 - lr: 0.000781\n",
            "2023-04-21 02:14:55,570 epoch 46 - iter 77/79 - loss 0.32097277 - time (sec): 19.38 - samples/sec: 4765.21 - lr: 0.000781\n",
            "2023-04-21 02:14:56,013 ----------------------------------------------------------------------------------------------------\n",
            "2023-04-21 02:14:56,015 EPOCH 46 done: loss 0.3235 - lr 0.000781\n"
          ]
        },
        {
          "output_type": "stream",
          "name": "stderr",
          "text": [
            "100%|██████████| 79/79 [00:21<00:00,  3.69it/s]"
          ]
        },
        {
          "output_type": "stream",
          "name": "stdout",
          "text": [
            "2023-04-21 02:15:17,559 Evaluating as a multi-label problem: True\n"
          ]
        },
        {
          "output_type": "stream",
          "name": "stderr",
          "text": [
            "\n"
          ]
        },
        {
          "output_type": "stream",
          "name": "stdout",
          "text": [
            "2023-04-21 02:15:21,690 TRAIN : loss 0.2622503638267517 - f1-score (weighted avg)  0.3633\n"
          ]
        },
        {
          "output_type": "stream",
          "name": "stderr",
          "text": [
            "100%|██████████| 10/10 [00:02<00:00,  3.52it/s]"
          ]
        },
        {
          "output_type": "stream",
          "name": "stdout",
          "text": [
            "2023-04-21 02:15:24,614 Evaluating as a multi-label problem: False\n",
            "2023-04-21 02:15:24,683 DEV : loss 0.2819312810897827 - f1-score (weighted avg)  0.3534\n",
            "2023-04-21 02:15:24,692 BAD EPOCHS (no improvement): 1\n",
            "2023-04-21 02:15:24,696 ----------------------------------------------------------------------------------------------------\n"
          ]
        },
        {
          "output_type": "stream",
          "name": "stderr",
          "text": [
            "\n"
          ]
        },
        {
          "output_type": "stream",
          "name": "stdout",
          "text": [
            "2023-04-21 02:15:26,545 epoch 47 - iter 7/79 - loss 0.32388497 - time (sec): 1.85 - samples/sec: 4587.28 - lr: 0.000781\n",
            "2023-04-21 02:15:28,155 epoch 47 - iter 14/79 - loss 0.32631379 - time (sec): 3.46 - samples/sec: 4637.11 - lr: 0.000781\n",
            "2023-04-21 02:15:29,964 epoch 47 - iter 21/79 - loss 0.32976181 - time (sec): 5.27 - samples/sec: 4705.72 - lr: 0.000781\n",
            "2023-04-21 02:15:32,007 epoch 47 - iter 28/79 - loss 0.32133190 - time (sec): 7.31 - samples/sec: 4628.74 - lr: 0.000781\n",
            "2023-04-21 02:15:33,540 epoch 47 - iter 35/79 - loss 0.31758374 - time (sec): 8.84 - samples/sec: 4732.66 - lr: 0.000781\n",
            "2023-04-21 02:15:35,322 epoch 47 - iter 42/79 - loss 0.31651020 - time (sec): 10.62 - samples/sec: 4686.85 - lr: 0.000781\n",
            "2023-04-21 02:15:37,064 epoch 47 - iter 49/79 - loss 0.31655827 - time (sec): 12.37 - samples/sec: 4700.49 - lr: 0.000781\n",
            "2023-04-21 02:15:38,683 epoch 47 - iter 56/79 - loss 0.31954873 - time (sec): 13.98 - samples/sec: 4786.12 - lr: 0.000781\n",
            "2023-04-21 02:15:40,679 epoch 47 - iter 63/79 - loss 0.31755041 - time (sec): 15.98 - samples/sec: 4735.54 - lr: 0.000781\n",
            "2023-04-21 02:15:42,302 epoch 47 - iter 70/79 - loss 0.32160185 - time (sec): 17.60 - samples/sec: 4746.48 - lr: 0.000781\n",
            "2023-04-21 02:15:44,430 epoch 47 - iter 77/79 - loss 0.32194993 - time (sec): 19.73 - samples/sec: 4694.62 - lr: 0.000781\n",
            "2023-04-21 02:15:44,891 ----------------------------------------------------------------------------------------------------\n",
            "2023-04-21 02:15:44,893 EPOCH 47 done: loss 0.3220 - lr 0.000781\n"
          ]
        },
        {
          "output_type": "stream",
          "name": "stderr",
          "text": [
            "100%|██████████| 79/79 [00:21<00:00,  3.69it/s]"
          ]
        },
        {
          "output_type": "stream",
          "name": "stdout",
          "text": [
            "2023-04-21 02:16:06,459 Evaluating as a multi-label problem: True\n"
          ]
        },
        {
          "output_type": "stream",
          "name": "stderr",
          "text": [
            "\n"
          ]
        },
        {
          "output_type": "stream",
          "name": "stdout",
          "text": [
            "2023-04-21 02:16:09,227 TRAIN : loss 0.2607969045639038 - f1-score (weighted avg)  0.359\n"
          ]
        },
        {
          "output_type": "stream",
          "name": "stderr",
          "text": [
            "100%|██████████| 10/10 [00:02<00:00,  3.62it/s]"
          ]
        },
        {
          "output_type": "stream",
          "name": "stdout",
          "text": [
            "2023-04-21 02:16:12,072 Evaluating as a multi-label problem: False\n",
            "2023-04-21 02:16:12,141 DEV : loss 0.27991682291030884 - f1-score (weighted avg)  0.3472\n",
            "2023-04-21 02:16:12,150 Epoch    47: reducing learning rate of group 0 to 3.9063e-04.\n",
            "2023-04-21 02:16:12,152 BAD EPOCHS (no improvement): 2\n",
            "2023-04-21 02:16:12,156 ----------------------------------------------------------------------------------------------------\n"
          ]
        },
        {
          "output_type": "stream",
          "name": "stderr",
          "text": [
            "\n"
          ]
        },
        {
          "output_type": "stream",
          "name": "stdout",
          "text": [
            "2023-04-21 02:16:13,675 epoch 48 - iter 7/79 - loss 0.30574300 - time (sec): 1.52 - samples/sec: 4949.59 - lr: 0.000391\n",
            "2023-04-21 02:16:15,389 epoch 48 - iter 14/79 - loss 0.31229376 - time (sec): 3.23 - samples/sec: 4818.27 - lr: 0.000391\n",
            "2023-04-21 02:16:17,267 epoch 48 - iter 21/79 - loss 0.31802616 - time (sec): 5.11 - samples/sec: 4844.67 - lr: 0.000391\n",
            "2023-04-21 02:16:19,445 epoch 48 - iter 28/79 - loss 0.32642620 - time (sec): 7.29 - samples/sec: 4621.15 - lr: 0.000391\n",
            "2023-04-21 02:16:21,206 epoch 48 - iter 35/79 - loss 0.32230092 - time (sec): 9.05 - samples/sec: 4666.35 - lr: 0.000391\n",
            "2023-04-21 02:16:22,843 epoch 48 - iter 42/79 - loss 0.32621725 - time (sec): 10.69 - samples/sec: 4789.71 - lr: 0.000391\n",
            "2023-04-21 02:16:24,358 epoch 48 - iter 49/79 - loss 0.32142634 - time (sec): 12.20 - samples/sec: 4851.97 - lr: 0.000391\n",
            "2023-04-21 02:16:25,957 epoch 48 - iter 56/79 - loss 0.32030252 - time (sec): 13.80 - samples/sec: 4907.94 - lr: 0.000391\n",
            "2023-04-21 02:16:27,491 epoch 48 - iter 63/79 - loss 0.32234050 - time (sec): 15.33 - samples/sec: 4923.16 - lr: 0.000391\n",
            "2023-04-21 02:16:29,178 epoch 48 - iter 70/79 - loss 0.32161984 - time (sec): 17.02 - samples/sec: 4906.88 - lr: 0.000391\n",
            "2023-04-21 02:16:31,665 epoch 48 - iter 77/79 - loss 0.31786962 - time (sec): 19.51 - samples/sec: 4745.57 - lr: 0.000391\n",
            "2023-04-21 02:16:32,125 ----------------------------------------------------------------------------------------------------\n",
            "2023-04-21 02:16:32,127 EPOCH 48 done: loss 0.3181 - lr 0.000391\n"
          ]
        },
        {
          "output_type": "stream",
          "name": "stderr",
          "text": [
            "100%|██████████| 79/79 [00:21<00:00,  3.68it/s]"
          ]
        },
        {
          "output_type": "stream",
          "name": "stdout",
          "text": [
            "2023-04-21 02:16:53,723 Evaluating as a multi-label problem: True\n"
          ]
        },
        {
          "output_type": "stream",
          "name": "stderr",
          "text": [
            "\n"
          ]
        },
        {
          "output_type": "stream",
          "name": "stdout",
          "text": [
            "2023-04-21 02:16:57,744 TRAIN : loss 0.2598779499530792 - f1-score (weighted avg)  0.3593\n"
          ]
        },
        {
          "output_type": "stream",
          "name": "stderr",
          "text": [
            "100%|██████████| 10/10 [00:02<00:00,  3.60it/s]"
          ]
        },
        {
          "output_type": "stream",
          "name": "stdout",
          "text": [
            "2023-04-21 02:17:00,602 Evaluating as a multi-label problem: False\n",
            "2023-04-21 02:17:00,672 DEV : loss 0.27880963683128357 - f1-score (weighted avg)  0.3396\n",
            "2023-04-21 02:17:00,682 BAD EPOCHS (no improvement): 0\n",
            "2023-04-21 02:17:00,685 saving best model\n"
          ]
        },
        {
          "output_type": "stream",
          "name": "stderr",
          "text": [
            "\n"
          ]
        },
        {
          "output_type": "stream",
          "name": "stdout",
          "text": [
            "2023-04-21 02:17:02,768 ----------------------------------------------------------------------------------------------------\n",
            "2023-04-21 02:17:05,014 epoch 49 - iter 7/79 - loss 0.31941550 - time (sec): 2.24 - samples/sec: 4011.01 - lr: 0.000391\n",
            "2023-04-21 02:17:06,369 epoch 49 - iter 14/79 - loss 0.30837480 - time (sec): 3.60 - samples/sec: 4710.08 - lr: 0.000391\n",
            "2023-04-21 02:17:08,191 epoch 49 - iter 21/79 - loss 0.31806694 - time (sec): 5.42 - samples/sec: 4696.06 - lr: 0.000391\n",
            "2023-04-21 02:17:09,878 epoch 49 - iter 28/79 - loss 0.30588275 - time (sec): 7.11 - samples/sec: 4880.57 - lr: 0.000391\n",
            "2023-04-21 02:17:11,643 epoch 49 - iter 35/79 - loss 0.30995451 - time (sec): 8.87 - samples/sec: 4934.25 - lr: 0.000391\n",
            "2023-04-21 02:17:13,335 epoch 49 - iter 42/79 - loss 0.31183409 - time (sec): 10.56 - samples/sec: 4944.97 - lr: 0.000391\n",
            "2023-04-21 02:17:15,680 epoch 49 - iter 49/79 - loss 0.31356645 - time (sec): 12.91 - samples/sec: 4707.35 - lr: 0.000391\n",
            "2023-04-21 02:17:17,336 epoch 49 - iter 56/79 - loss 0.31092666 - time (sec): 14.57 - samples/sec: 4725.56 - lr: 0.000391\n",
            "2023-04-21 02:17:19,525 epoch 49 - iter 63/79 - loss 0.31960112 - time (sec): 16.75 - samples/sec: 4628.70 - lr: 0.000391\n",
            "2023-04-21 02:17:21,222 epoch 49 - iter 70/79 - loss 0.31871476 - time (sec): 18.45 - samples/sec: 4630.44 - lr: 0.000391\n",
            "2023-04-21 02:17:22,783 epoch 49 - iter 77/79 - loss 0.32063847 - time (sec): 20.01 - samples/sec: 4646.72 - lr: 0.000391\n",
            "2023-04-21 02:17:23,197 ----------------------------------------------------------------------------------------------------\n",
            "2023-04-21 02:17:23,199 EPOCH 49 done: loss 0.3193 - lr 0.000391\n"
          ]
        },
        {
          "output_type": "stream",
          "name": "stderr",
          "text": [
            "100%|██████████| 79/79 [00:21<00:00,  3.66it/s]"
          ]
        },
        {
          "output_type": "stream",
          "name": "stdout",
          "text": [
            "2023-04-21 02:17:44,921 Evaluating as a multi-label problem: True\n"
          ]
        },
        {
          "output_type": "stream",
          "name": "stderr",
          "text": [
            "\n"
          ]
        },
        {
          "output_type": "stream",
          "name": "stdout",
          "text": [
            "2023-04-21 02:17:47,691 TRAIN : loss 0.260163813829422 - f1-score (weighted avg)  0.359\n"
          ]
        },
        {
          "output_type": "stream",
          "name": "stderr",
          "text": [
            "100%|██████████| 10/10 [00:02<00:00,  3.61it/s]"
          ]
        },
        {
          "output_type": "stream",
          "name": "stdout",
          "text": [
            "2023-04-21 02:17:50,541 Evaluating as a multi-label problem: False\n",
            "2023-04-21 02:17:50,609 DEV : loss 0.27869558334350586 - f1-score (weighted avg)  0.3438\n",
            "2023-04-21 02:17:50,618 BAD EPOCHS (no improvement): 0\n",
            "2023-04-21 02:17:50,622 saving best model\n"
          ]
        },
        {
          "output_type": "stream",
          "name": "stderr",
          "text": [
            "\n"
          ]
        },
        {
          "output_type": "stream",
          "name": "stdout",
          "text": [
            "2023-04-21 02:17:52,703 ----------------------------------------------------------------------------------------------------\n",
            "2023-04-21 02:17:54,812 epoch 50 - iter 7/79 - loss 0.30427150 - time (sec): 2.11 - samples/sec: 3909.72 - lr: 0.000391\n",
            "2023-04-21 02:17:56,309 epoch 50 - iter 14/79 - loss 0.30310270 - time (sec): 3.60 - samples/sec: 4307.91 - lr: 0.000391\n",
            "2023-04-21 02:17:58,031 epoch 50 - iter 21/79 - loss 0.30633412 - time (sec): 5.33 - samples/sec: 4581.63 - lr: 0.000391\n",
            "2023-04-21 02:17:59,479 epoch 50 - iter 28/79 - loss 0.30179891 - time (sec): 6.77 - samples/sec: 4701.31 - lr: 0.000391\n",
            "2023-04-21 02:18:01,119 epoch 50 - iter 35/79 - loss 0.30780554 - time (sec): 8.41 - samples/sec: 4815.74 - lr: 0.000391\n",
            "2023-04-21 02:18:02,993 epoch 50 - iter 42/79 - loss 0.30780745 - time (sec): 10.29 - samples/sec: 4815.54 - lr: 0.000391\n",
            "2023-04-21 02:18:04,629 epoch 50 - iter 49/79 - loss 0.30837770 - time (sec): 11.92 - samples/sec: 4787.17 - lr: 0.000391\n",
            "2023-04-21 02:18:07,069 epoch 50 - iter 56/79 - loss 0.30866634 - time (sec): 14.36 - samples/sec: 4649.06 - lr: 0.000391\n",
            "2023-04-21 02:18:08,746 epoch 50 - iter 63/79 - loss 0.31502708 - time (sec): 16.04 - samples/sec: 4708.45 - lr: 0.000391\n",
            "2023-04-21 02:18:10,710 epoch 50 - iter 70/79 - loss 0.31537637 - time (sec): 18.00 - samples/sec: 4647.42 - lr: 0.000391\n",
            "2023-04-21 02:18:12,529 epoch 50 - iter 77/79 - loss 0.31719892 - time (sec): 19.82 - samples/sec: 4650.63 - lr: 0.000391\n",
            "2023-04-21 02:18:13,019 ----------------------------------------------------------------------------------------------------\n",
            "2023-04-21 02:18:13,021 EPOCH 50 done: loss 0.3162 - lr 0.000391\n"
          ]
        },
        {
          "output_type": "stream",
          "name": "stderr",
          "text": [
            "100%|██████████| 79/79 [00:22<00:00,  3.48it/s]"
          ]
        },
        {
          "output_type": "stream",
          "name": "stdout",
          "text": [
            "2023-04-21 02:18:35,846 Evaluating as a multi-label problem: True\n"
          ]
        },
        {
          "output_type": "stream",
          "name": "stderr",
          "text": [
            "\n"
          ]
        },
        {
          "output_type": "stream",
          "name": "stdout",
          "text": [
            "2023-04-21 02:18:38,615 TRAIN : loss 0.25912484526634216 - f1-score (weighted avg)  0.3608\n"
          ]
        },
        {
          "output_type": "stream",
          "name": "stderr",
          "text": [
            "100%|██████████| 10/10 [00:02<00:00,  3.64it/s]"
          ]
        },
        {
          "output_type": "stream",
          "name": "stdout",
          "text": [
            "2023-04-21 02:18:41,443 Evaluating as a multi-label problem: False\n",
            "2023-04-21 02:18:41,513 DEV : loss 0.2773917615413666 - f1-score (weighted avg)  0.3466\n",
            "2023-04-21 02:18:41,524 BAD EPOCHS (no improvement): 0\n",
            "2023-04-21 02:18:41,527 saving best model\n"
          ]
        },
        {
          "output_type": "stream",
          "name": "stderr",
          "text": [
            "\n"
          ]
        },
        {
          "output_type": "stream",
          "name": "stdout",
          "text": [
            "2023-04-21 02:18:43,594 ----------------------------------------------------------------------------------------------------\n",
            "2023-04-21 02:18:45,388 epoch 51 - iter 7/79 - loss 0.34499692 - time (sec): 1.79 - samples/sec: 5495.44 - lr: 0.000391\n",
            "2023-04-21 02:18:47,117 epoch 51 - iter 14/79 - loss 0.34569072 - time (sec): 3.52 - samples/sec: 5189.33 - lr: 0.000391\n",
            "2023-04-21 02:18:48,668 epoch 51 - iter 21/79 - loss 0.32944144 - time (sec): 5.07 - samples/sec: 5132.67 - lr: 0.000391\n",
            "2023-04-21 02:18:50,553 epoch 51 - iter 28/79 - loss 0.32806635 - time (sec): 6.96 - samples/sec: 4930.88 - lr: 0.000391\n",
            "2023-04-21 02:18:52,367 epoch 51 - iter 35/79 - loss 0.32864007 - time (sec): 8.77 - samples/sec: 4906.47 - lr: 0.000391\n",
            "2023-04-21 02:18:54,106 epoch 51 - iter 42/79 - loss 0.32813924 - time (sec): 10.51 - samples/sec: 4856.68 - lr: 0.000391\n",
            "2023-04-21 02:18:55,711 epoch 51 - iter 49/79 - loss 0.32189813 - time (sec): 12.11 - samples/sec: 4818.77 - lr: 0.000391\n",
            "2023-04-21 02:18:57,531 epoch 51 - iter 56/79 - loss 0.32263836 - time (sec): 13.93 - samples/sec: 4778.95 - lr: 0.000391\n",
            "2023-04-21 02:18:59,493 epoch 51 - iter 63/79 - loss 0.31940172 - time (sec): 15.90 - samples/sec: 4675.68 - lr: 0.000391\n",
            "2023-04-21 02:19:02,006 epoch 51 - iter 70/79 - loss 0.31333066 - time (sec): 18.41 - samples/sec: 4607.35 - lr: 0.000391\n",
            "2023-04-21 02:19:03,668 epoch 51 - iter 77/79 - loss 0.31381988 - time (sec): 20.07 - samples/sec: 4602.92 - lr: 0.000391\n",
            "2023-04-21 02:19:04,075 ----------------------------------------------------------------------------------------------------\n",
            "2023-04-21 02:19:04,077 EPOCH 51 done: loss 0.3151 - lr 0.000391\n"
          ]
        },
        {
          "output_type": "stream",
          "name": "stderr",
          "text": [
            "100%|██████████| 79/79 [00:21<00:00,  3.68it/s]"
          ]
        },
        {
          "output_type": "stream",
          "name": "stdout",
          "text": [
            "2023-04-21 02:19:25,704 Evaluating as a multi-label problem: True\n"
          ]
        },
        {
          "output_type": "stream",
          "name": "stderr",
          "text": [
            "\n"
          ]
        },
        {
          "output_type": "stream",
          "name": "stdout",
          "text": [
            "2023-04-21 02:19:29,735 TRAIN : loss 0.25914886593818665 - f1-score (weighted avg)  0.3728\n"
          ]
        },
        {
          "output_type": "stream",
          "name": "stderr",
          "text": [
            "100%|██████████| 10/10 [00:02<00:00,  3.64it/s]"
          ]
        },
        {
          "output_type": "stream",
          "name": "stdout",
          "text": [
            "2023-04-21 02:19:32,569 Evaluating as a multi-label problem: False\n",
            "2023-04-21 02:19:32,640 DEV : loss 0.27701565623283386 - f1-score (weighted avg)  0.3621\n",
            "2023-04-21 02:19:32,650 BAD EPOCHS (no improvement): 0\n",
            "2023-04-21 02:19:32,654 saving best model\n"
          ]
        },
        {
          "output_type": "stream",
          "name": "stderr",
          "text": [
            "\n"
          ]
        },
        {
          "output_type": "stream",
          "name": "stdout",
          "text": [
            "2023-04-21 02:19:34,739 ----------------------------------------------------------------------------------------------------\n",
            "2023-04-21 02:19:36,351 epoch 52 - iter 7/79 - loss 0.32215200 - time (sec): 1.61 - samples/sec: 5093.28 - lr: 0.000391\n",
            "2023-04-21 02:19:38,265 epoch 52 - iter 14/79 - loss 0.32328690 - time (sec): 3.52 - samples/sec: 4951.57 - lr: 0.000391\n",
            "2023-04-21 02:19:40,167 epoch 52 - iter 21/79 - loss 0.31457048 - time (sec): 5.43 - samples/sec: 4886.09 - lr: 0.000391\n",
            "2023-04-21 02:19:42,409 epoch 52 - iter 28/79 - loss 0.30512796 - time (sec): 7.67 - samples/sec: 4590.25 - lr: 0.000391\n",
            "2023-04-21 02:19:43,877 epoch 52 - iter 35/79 - loss 0.30464432 - time (sec): 9.14 - samples/sec: 4713.29 - lr: 0.000391\n",
            "2023-04-21 02:19:45,722 epoch 52 - iter 42/79 - loss 0.31345076 - time (sec): 10.98 - samples/sec: 4704.77 - lr: 0.000391\n",
            "2023-04-21 02:19:47,256 epoch 52 - iter 49/79 - loss 0.31336428 - time (sec): 12.52 - samples/sec: 4772.85 - lr: 0.000391\n",
            "2023-04-21 02:19:49,150 epoch 52 - iter 56/79 - loss 0.31117066 - time (sec): 14.41 - samples/sec: 4716.00 - lr: 0.000391\n",
            "2023-04-21 02:19:50,930 epoch 52 - iter 63/79 - loss 0.31510798 - time (sec): 16.19 - samples/sec: 4737.66 - lr: 0.000391\n",
            "2023-04-21 02:19:52,520 epoch 52 - iter 70/79 - loss 0.31824707 - time (sec): 17.78 - samples/sec: 4744.24 - lr: 0.000391\n",
            "2023-04-21 02:19:54,567 epoch 52 - iter 77/79 - loss 0.31606799 - time (sec): 19.83 - samples/sec: 4677.96 - lr: 0.000391\n",
            "2023-04-21 02:19:55,024 ----------------------------------------------------------------------------------------------------\n",
            "2023-04-21 02:19:55,025 EPOCH 52 done: loss 0.3153 - lr 0.000391\n"
          ]
        },
        {
          "output_type": "stream",
          "name": "stderr",
          "text": [
            "100%|██████████| 79/79 [00:21<00:00,  3.67it/s]"
          ]
        },
        {
          "output_type": "stream",
          "name": "stdout",
          "text": [
            "2023-04-21 02:20:16,720 Evaluating as a multi-label problem: True\n"
          ]
        },
        {
          "output_type": "stream",
          "name": "stderr",
          "text": [
            "\n"
          ]
        },
        {
          "output_type": "stream",
          "name": "stdout",
          "text": [
            "2023-04-21 02:20:19,483 TRAIN : loss 0.2593397796154022 - f1-score (weighted avg)  0.3623\n"
          ]
        },
        {
          "output_type": "stream",
          "name": "stderr",
          "text": [
            "100%|██████████| 10/10 [00:02<00:00,  3.54it/s]"
          ]
        },
        {
          "output_type": "stream",
          "name": "stdout",
          "text": [
            "2023-04-21 02:20:22,394 Evaluating as a multi-label problem: False\n",
            "2023-04-21 02:20:22,464 DEV : loss 0.2768321931362152 - f1-score (weighted avg)  0.3523\n",
            "2023-04-21 02:20:22,474 BAD EPOCHS (no improvement): 0\n",
            "2023-04-21 02:20:22,478 saving best model\n"
          ]
        },
        {
          "output_type": "stream",
          "name": "stderr",
          "text": [
            "\n"
          ]
        },
        {
          "output_type": "stream",
          "name": "stdout",
          "text": [
            "2023-04-21 02:20:24,552 ----------------------------------------------------------------------------------------------------\n",
            "2023-04-21 02:20:26,128 epoch 53 - iter 7/79 - loss 0.29554426 - time (sec): 1.57 - samples/sec: 5429.31 - lr: 0.000391\n",
            "2023-04-21 02:20:27,950 epoch 53 - iter 14/79 - loss 0.31591092 - time (sec): 3.40 - samples/sec: 5142.10 - lr: 0.000391\n",
            "2023-04-21 02:20:29,731 epoch 53 - iter 21/79 - loss 0.31758533 - time (sec): 5.18 - samples/sec: 4943.21 - lr: 0.000391\n",
            "2023-04-21 02:20:31,704 epoch 53 - iter 28/79 - loss 0.32018689 - time (sec): 7.15 - samples/sec: 4788.87 - lr: 0.000391\n",
            "2023-04-21 02:20:33,088 epoch 53 - iter 35/79 - loss 0.31999363 - time (sec): 8.53 - samples/sec: 4854.77 - lr: 0.000391\n",
            "2023-04-21 02:20:35,280 epoch 53 - iter 42/79 - loss 0.31689266 - time (sec): 10.73 - samples/sec: 4604.68 - lr: 0.000391\n",
            "2023-04-21 02:20:36,826 epoch 53 - iter 49/79 - loss 0.32251613 - time (sec): 12.27 - samples/sec: 4652.50 - lr: 0.000391\n",
            "2023-04-21 02:20:38,727 epoch 53 - iter 56/79 - loss 0.31704725 - time (sec): 14.17 - samples/sec: 4643.10 - lr: 0.000391\n",
            "2023-04-21 02:20:40,627 epoch 53 - iter 63/79 - loss 0.31782312 - time (sec): 16.07 - samples/sec: 4620.20 - lr: 0.000391\n",
            "2023-04-21 02:20:42,489 epoch 53 - iter 70/79 - loss 0.31886264 - time (sec): 17.93 - samples/sec: 4656.97 - lr: 0.000391\n",
            "2023-04-21 02:20:44,302 epoch 53 - iter 77/79 - loss 0.31954216 - time (sec): 19.75 - samples/sec: 4684.86 - lr: 0.000391\n",
            "2023-04-21 02:20:44,884 ----------------------------------------------------------------------------------------------------\n",
            "2023-04-21 02:20:44,886 EPOCH 53 done: loss 0.3198 - lr 0.000391\n"
          ]
        },
        {
          "output_type": "stream",
          "name": "stderr",
          "text": [
            "100%|██████████| 79/79 [00:22<00:00,  3.49it/s]"
          ]
        },
        {
          "output_type": "stream",
          "name": "stdout",
          "text": [
            "2023-04-21 02:21:07,655 Evaluating as a multi-label problem: True\n"
          ]
        },
        {
          "output_type": "stream",
          "name": "stderr",
          "text": [
            "\n"
          ]
        },
        {
          "output_type": "stream",
          "name": "stdout",
          "text": [
            "2023-04-21 02:21:10,432 TRAIN : loss 0.26275917887687683 - f1-score (weighted avg)  0.3624\n"
          ]
        },
        {
          "output_type": "stream",
          "name": "stderr",
          "text": [
            "100%|██████████| 10/10 [00:02<00:00,  3.59it/s]"
          ]
        },
        {
          "output_type": "stream",
          "name": "stdout",
          "text": [
            "2023-04-21 02:21:13,298 Evaluating as a multi-label problem: False\n",
            "2023-04-21 02:21:13,367 DEV : loss 0.28018224239349365 - f1-score (weighted avg)  0.3509\n",
            "2023-04-21 02:21:13,377 BAD EPOCHS (no improvement): 1\n",
            "2023-04-21 02:21:13,382 ----------------------------------------------------------------------------------------------------\n"
          ]
        },
        {
          "output_type": "stream",
          "name": "stderr",
          "text": [
            "\n"
          ]
        },
        {
          "output_type": "stream",
          "name": "stdout",
          "text": [
            "2023-04-21 02:21:15,306 epoch 54 - iter 7/79 - loss 0.32503583 - time (sec): 1.92 - samples/sec: 4755.04 - lr: 0.000391\n",
            "2023-04-21 02:21:17,089 epoch 54 - iter 14/79 - loss 0.31712427 - time (sec): 3.70 - samples/sec: 4698.80 - lr: 0.000391\n",
            "2023-04-21 02:21:18,892 epoch 54 - iter 21/79 - loss 0.32437588 - time (sec): 5.51 - samples/sec: 4744.21 - lr: 0.000391\n",
            "2023-04-21 02:21:20,423 epoch 54 - iter 28/79 - loss 0.32838558 - time (sec): 7.04 - samples/sec: 4794.08 - lr: 0.000391\n",
            "2023-04-21 02:21:22,100 epoch 54 - iter 35/79 - loss 0.32349424 - time (sec): 8.72 - samples/sec: 4786.62 - lr: 0.000391\n",
            "2023-04-21 02:21:23,938 epoch 54 - iter 42/79 - loss 0.32007812 - time (sec): 10.55 - samples/sec: 4805.42 - lr: 0.000391\n",
            "2023-04-21 02:21:25,509 epoch 54 - iter 49/79 - loss 0.32100744 - time (sec): 12.12 - samples/sec: 4786.25 - lr: 0.000391\n",
            "2023-04-21 02:21:27,089 epoch 54 - iter 56/79 - loss 0.32253589 - time (sec): 13.70 - samples/sec: 4831.32 - lr: 0.000391\n",
            "2023-04-21 02:21:28,978 epoch 54 - iter 63/79 - loss 0.31998812 - time (sec): 15.59 - samples/sec: 4814.84 - lr: 0.000391\n",
            "2023-04-21 02:21:31,107 epoch 54 - iter 70/79 - loss 0.31783374 - time (sec): 17.72 - samples/sec: 4749.38 - lr: 0.000391\n",
            "2023-04-21 02:21:32,609 epoch 54 - iter 77/79 - loss 0.31807563 - time (sec): 19.22 - samples/sec: 4805.44 - lr: 0.000391\n",
            "2023-04-21 02:21:33,116 ----------------------------------------------------------------------------------------------------\n",
            "2023-04-21 02:21:33,117 EPOCH 54 done: loss 0.3186 - lr 0.000391\n"
          ]
        },
        {
          "output_type": "stream",
          "name": "stderr",
          "text": [
            "100%|██████████| 79/79 [00:21<00:00,  3.67it/s]"
          ]
        },
        {
          "output_type": "stream",
          "name": "stdout",
          "text": [
            "2023-04-21 02:21:54,805 Evaluating as a multi-label problem: True\n"
          ]
        },
        {
          "output_type": "stream",
          "name": "stderr",
          "text": [
            "\n"
          ]
        },
        {
          "output_type": "stream",
          "name": "stdout",
          "text": [
            "2023-04-21 02:21:58,871 TRAIN : loss 0.2592394948005676 - f1-score (weighted avg)  0.3614\n"
          ]
        },
        {
          "output_type": "stream",
          "name": "stderr",
          "text": [
            "100%|██████████| 10/10 [00:02<00:00,  3.62it/s]"
          ]
        },
        {
          "output_type": "stream",
          "name": "stdout",
          "text": [
            "2023-04-21 02:22:01,715 Evaluating as a multi-label problem: False\n",
            "2023-04-21 02:22:01,784 DEV : loss 0.2774837911128998 - f1-score (weighted avg)  0.3479\n",
            "2023-04-21 02:22:01,794 Epoch    54: reducing learning rate of group 0 to 1.9531e-04.\n",
            "2023-04-21 02:22:01,796 BAD EPOCHS (no improvement): 2\n",
            "2023-04-21 02:22:01,807 ----------------------------------------------------------------------------------------------------\n"
          ]
        },
        {
          "output_type": "stream",
          "name": "stderr",
          "text": [
            "\n"
          ]
        },
        {
          "output_type": "stream",
          "name": "stdout",
          "text": [
            "2023-04-21 02:22:03,365 epoch 55 - iter 7/79 - loss 0.31978848 - time (sec): 1.56 - samples/sec: 5145.38 - lr: 0.000195\n",
            "2023-04-21 02:22:04,869 epoch 55 - iter 14/79 - loss 0.32465061 - time (sec): 3.06 - samples/sec: 5235.87 - lr: 0.000195\n",
            "2023-04-21 02:22:06,321 epoch 55 - iter 21/79 - loss 0.32321479 - time (sec): 4.51 - samples/sec: 5119.43 - lr: 0.000195\n",
            "2023-04-21 02:22:07,821 epoch 55 - iter 28/79 - loss 0.31581071 - time (sec): 6.01 - samples/sec: 5041.59 - lr: 0.000195\n",
            "2023-04-21 02:22:09,494 epoch 55 - iter 35/79 - loss 0.30951357 - time (sec): 7.69 - samples/sec: 5072.20 - lr: 0.000195\n",
            "2023-04-21 02:22:11,563 epoch 55 - iter 42/79 - loss 0.31183598 - time (sec): 9.75 - samples/sec: 4913.29 - lr: 0.000195\n",
            "2023-04-21 02:22:14,157 epoch 55 - iter 49/79 - loss 0.30460236 - time (sec): 12.35 - samples/sec: 4659.43 - lr: 0.000195\n",
            "2023-04-21 02:22:15,785 epoch 55 - iter 56/79 - loss 0.30101334 - time (sec): 13.98 - samples/sec: 4770.01 - lr: 0.000195\n",
            "2023-04-21 02:22:17,781 epoch 55 - iter 63/79 - loss 0.30959103 - time (sec): 15.97 - samples/sec: 4725.32 - lr: 0.000195\n",
            "2023-04-21 02:22:19,035 epoch 55 - iter 70/79 - loss 0.31206030 - time (sec): 17.23 - samples/sec: 4824.68 - lr: 0.000195\n",
            "2023-04-21 02:22:20,788 epoch 55 - iter 77/79 - loss 0.31289450 - time (sec): 18.98 - samples/sec: 4844.71 - lr: 0.000195\n",
            "2023-04-21 02:22:21,463 ----------------------------------------------------------------------------------------------------\n",
            "2023-04-21 02:22:21,464 EPOCH 55 done: loss 0.3150 - lr 0.000195\n"
          ]
        },
        {
          "output_type": "stream",
          "name": "stderr",
          "text": [
            "100%|██████████| 79/79 [00:21<00:00,  3.70it/s]"
          ]
        },
        {
          "output_type": "stream",
          "name": "stdout",
          "text": [
            "2023-04-21 02:22:42,949 Evaluating as a multi-label problem: True\n"
          ]
        },
        {
          "output_type": "stream",
          "name": "stderr",
          "text": [
            "\n"
          ]
        },
        {
          "output_type": "stream",
          "name": "stdout",
          "text": [
            "2023-04-21 02:22:45,726 TRAIN : loss 0.2578314244747162 - f1-score (weighted avg)  0.3674\n"
          ]
        },
        {
          "output_type": "stream",
          "name": "stderr",
          "text": [
            "100%|██████████| 10/10 [00:02<00:00,  3.56it/s]"
          ]
        },
        {
          "output_type": "stream",
          "name": "stdout",
          "text": [
            "2023-04-21 02:22:48,618 Evaluating as a multi-label problem: False\n",
            "2023-04-21 02:22:48,688 DEV : loss 0.2761448323726654 - f1-score (weighted avg)  0.3507\n",
            "2023-04-21 02:22:48,698 BAD EPOCHS (no improvement): 0\n",
            "2023-04-21 02:22:48,703 saving best model\n"
          ]
        },
        {
          "output_type": "stream",
          "name": "stderr",
          "text": [
            "\n"
          ]
        },
        {
          "output_type": "stream",
          "name": "stdout",
          "text": [
            "2023-04-21 02:22:50,805 ----------------------------------------------------------------------------------------------------\n",
            "2023-04-21 02:22:52,364 epoch 56 - iter 7/79 - loss 0.33083771 - time (sec): 1.56 - samples/sec: 5367.02 - lr: 0.000195\n",
            "2023-04-21 02:22:53,867 epoch 56 - iter 14/79 - loss 0.31818353 - time (sec): 3.06 - samples/sec: 5425.40 - lr: 0.000195\n",
            "2023-04-21 02:22:55,412 epoch 56 - iter 21/79 - loss 0.31644906 - time (sec): 4.60 - samples/sec: 5390.50 - lr: 0.000195\n",
            "2023-04-21 02:22:57,500 epoch 56 - iter 28/79 - loss 0.30572596 - time (sec): 6.69 - samples/sec: 4945.61 - lr: 0.000195\n",
            "2023-04-21 02:22:59,559 epoch 56 - iter 35/79 - loss 0.30808709 - time (sec): 8.75 - samples/sec: 4659.91 - lr: 0.000195\n",
            "2023-04-21 02:23:01,236 epoch 56 - iter 42/79 - loss 0.30722353 - time (sec): 10.43 - samples/sec: 4725.99 - lr: 0.000195\n",
            "2023-04-21 02:23:02,969 epoch 56 - iter 49/79 - loss 0.30782755 - time (sec): 12.16 - samples/sec: 4696.30 - lr: 0.000195\n",
            "2023-04-21 02:23:04,605 epoch 56 - iter 56/79 - loss 0.30706183 - time (sec): 13.80 - samples/sec: 4753.02 - lr: 0.000195\n",
            "2023-04-21 02:23:06,629 epoch 56 - iter 63/79 - loss 0.30939546 - time (sec): 15.82 - samples/sec: 4749.90 - lr: 0.000195\n",
            "2023-04-21 02:23:08,287 epoch 56 - iter 70/79 - loss 0.31129150 - time (sec): 17.48 - samples/sec: 4757.35 - lr: 0.000195\n",
            "2023-04-21 02:23:10,309 epoch 56 - iter 77/79 - loss 0.31236256 - time (sec): 19.50 - samples/sec: 4745.42 - lr: 0.000195\n",
            "2023-04-21 02:23:10,746 ----------------------------------------------------------------------------------------------------\n",
            "2023-04-21 02:23:10,748 EPOCH 56 done: loss 0.3151 - lr 0.000195\n"
          ]
        },
        {
          "output_type": "stream",
          "name": "stderr",
          "text": [
            "100%|██████████| 79/79 [00:22<00:00,  3.47it/s]"
          ]
        },
        {
          "output_type": "stream",
          "name": "stdout",
          "text": [
            "2023-04-21 02:23:33,673 Evaluating as a multi-label problem: True\n"
          ]
        },
        {
          "output_type": "stream",
          "name": "stderr",
          "text": [
            "\n"
          ]
        },
        {
          "output_type": "stream",
          "name": "stdout",
          "text": [
            "2023-04-21 02:23:36,455 TRAIN : loss 0.2572723925113678 - f1-score (weighted avg)  0.3681\n"
          ]
        },
        {
          "output_type": "stream",
          "name": "stderr",
          "text": [
            "100%|██████████| 10/10 [00:02<00:00,  3.58it/s]"
          ]
        },
        {
          "output_type": "stream",
          "name": "stdout",
          "text": [
            "2023-04-21 02:23:39,329 Evaluating as a multi-label problem: False\n",
            "2023-04-21 02:23:39,398 DEV : loss 0.27588093280792236 - f1-score (weighted avg)  0.3505\n",
            "2023-04-21 02:23:39,408 BAD EPOCHS (no improvement): 0\n",
            "2023-04-21 02:23:39,412 saving best model\n"
          ]
        },
        {
          "output_type": "stream",
          "name": "stderr",
          "text": [
            "\n"
          ]
        },
        {
          "output_type": "stream",
          "name": "stdout",
          "text": [
            "2023-04-21 02:23:41,508 ----------------------------------------------------------------------------------------------------\n",
            "2023-04-21 02:23:42,911 epoch 57 - iter 7/79 - loss 0.33211424 - time (sec): 1.40 - samples/sec: 5041.97 - lr: 0.000195\n",
            "2023-04-21 02:23:44,672 epoch 57 - iter 14/79 - loss 0.30523148 - time (sec): 3.16 - samples/sec: 4946.66 - lr: 0.000195\n",
            "2023-04-21 02:23:46,231 epoch 57 - iter 21/79 - loss 0.31254194 - time (sec): 4.72 - samples/sec: 4833.88 - lr: 0.000195\n",
            "2023-04-21 02:23:47,912 epoch 57 - iter 28/79 - loss 0.31035077 - time (sec): 6.40 - samples/sec: 4872.98 - lr: 0.000195\n",
            "2023-04-21 02:23:49,590 epoch 57 - iter 35/79 - loss 0.31220224 - time (sec): 8.08 - samples/sec: 4829.10 - lr: 0.000195\n",
            "2023-04-21 02:23:51,593 epoch 57 - iter 42/79 - loss 0.30702980 - time (sec): 10.08 - samples/sec: 4711.60 - lr: 0.000195\n",
            "2023-04-21 02:23:53,479 epoch 57 - iter 49/79 - loss 0.30986638 - time (sec): 11.97 - samples/sec: 4724.07 - lr: 0.000195\n",
            "2023-04-21 02:23:55,427 epoch 57 - iter 56/79 - loss 0.31449391 - time (sec): 13.92 - samples/sec: 4735.00 - lr: 0.000195\n",
            "2023-04-21 02:23:57,396 epoch 57 - iter 63/79 - loss 0.31117041 - time (sec): 15.89 - samples/sec: 4699.74 - lr: 0.000195\n",
            "2023-04-21 02:23:59,041 epoch 57 - iter 70/79 - loss 0.31129723 - time (sec): 17.53 - samples/sec: 4707.68 - lr: 0.000195\n",
            "2023-04-21 02:24:01,302 epoch 57 - iter 77/79 - loss 0.31010053 - time (sec): 19.79 - samples/sec: 4700.50 - lr: 0.000195\n",
            "2023-04-21 02:24:01,662 ----------------------------------------------------------------------------------------------------\n",
            "2023-04-21 02:24:01,664 EPOCH 57 done: loss 0.3110 - lr 0.000195\n"
          ]
        },
        {
          "output_type": "stream",
          "name": "stderr",
          "text": [
            "100%|██████████| 79/79 [00:21<00:00,  3.67it/s]"
          ]
        },
        {
          "output_type": "stream",
          "name": "stdout",
          "text": [
            "2023-04-21 02:24:23,319 Evaluating as a multi-label problem: True\n"
          ]
        },
        {
          "output_type": "stream",
          "name": "stderr",
          "text": [
            "\n"
          ]
        },
        {
          "output_type": "stream",
          "name": "stdout",
          "text": [
            "2023-04-21 02:24:27,427 TRAIN : loss 0.2570406198501587 - f1-score (weighted avg)  0.3656\n"
          ]
        },
        {
          "output_type": "stream",
          "name": "stderr",
          "text": [
            "100%|██████████| 10/10 [00:02<00:00,  3.62it/s]"
          ]
        },
        {
          "output_type": "stream",
          "name": "stdout",
          "text": [
            "2023-04-21 02:24:30,268 Evaluating as a multi-label problem: False\n",
            "2023-04-21 02:24:30,339 DEV : loss 0.2756916582584381 - f1-score (weighted avg)  0.3476\n",
            "2023-04-21 02:24:30,348 BAD EPOCHS (no improvement): 0\n",
            "2023-04-21 02:24:30,352 saving best model\n"
          ]
        },
        {
          "output_type": "stream",
          "name": "stderr",
          "text": [
            "\n"
          ]
        },
        {
          "output_type": "stream",
          "name": "stdout",
          "text": [
            "2023-04-21 02:24:32,422 ----------------------------------------------------------------------------------------------------\n",
            "2023-04-21 02:24:34,484 epoch 58 - iter 7/79 - loss 0.25049958 - time (sec): 2.06 - samples/sec: 4175.54 - lr: 0.000195\n",
            "2023-04-21 02:24:36,180 epoch 58 - iter 14/79 - loss 0.30163328 - time (sec): 3.75 - samples/sec: 4421.04 - lr: 0.000195\n",
            "2023-04-21 02:24:37,854 epoch 58 - iter 21/79 - loss 0.30531726 - time (sec): 5.43 - samples/sec: 4581.58 - lr: 0.000195\n",
            "2023-04-21 02:24:39,448 epoch 58 - iter 28/79 - loss 0.30850213 - time (sec): 7.02 - samples/sec: 4662.08 - lr: 0.000195\n",
            "2023-04-21 02:24:40,898 epoch 58 - iter 35/79 - loss 0.31401583 - time (sec): 8.47 - samples/sec: 4753.67 - lr: 0.000195\n",
            "2023-04-21 02:24:42,636 epoch 58 - iter 42/79 - loss 0.31207729 - time (sec): 10.21 - samples/sec: 4699.61 - lr: 0.000195\n",
            "2023-04-21 02:24:44,663 epoch 58 - iter 49/79 - loss 0.31026747 - time (sec): 12.24 - samples/sec: 4674.99 - lr: 0.000195\n",
            "2023-04-21 02:24:46,709 epoch 58 - iter 56/79 - loss 0.30583030 - time (sec): 14.28 - samples/sec: 4607.36 - lr: 0.000195\n",
            "2023-04-21 02:24:48,510 epoch 58 - iter 63/79 - loss 0.30756223 - time (sec): 16.09 - samples/sec: 4594.55 - lr: 0.000195\n",
            "2023-04-21 02:24:50,583 epoch 58 - iter 70/79 - loss 0.30976307 - time (sec): 18.16 - samples/sec: 4596.26 - lr: 0.000195\n",
            "2023-04-21 02:24:52,381 epoch 58 - iter 77/79 - loss 0.31461935 - time (sec): 19.96 - samples/sec: 4591.29 - lr: 0.000195\n",
            "2023-04-21 02:24:53,043 ----------------------------------------------------------------------------------------------------\n",
            "2023-04-21 02:24:53,044 EPOCH 58 done: loss 0.3144 - lr 0.000195\n"
          ]
        },
        {
          "output_type": "stream",
          "name": "stderr",
          "text": [
            "100%|██████████| 79/79 [00:21<00:00,  3.63it/s]"
          ]
        },
        {
          "output_type": "stream",
          "name": "stdout",
          "text": [
            "2023-04-21 02:25:14,957 Evaluating as a multi-label problem: True\n"
          ]
        },
        {
          "output_type": "stream",
          "name": "stderr",
          "text": [
            "\n"
          ]
        },
        {
          "output_type": "stream",
          "name": "stdout",
          "text": [
            "2023-04-21 02:25:17,728 TRAIN : loss 0.2568184435367584 - f1-score (weighted avg)  0.3662\n"
          ]
        },
        {
          "output_type": "stream",
          "name": "stderr",
          "text": [
            "100%|██████████| 10/10 [00:02<00:00,  3.63it/s]"
          ]
        },
        {
          "output_type": "stream",
          "name": "stdout",
          "text": [
            "2023-04-21 02:25:20,565 Evaluating as a multi-label problem: False\n",
            "2023-04-21 02:25:20,632 DEV : loss 0.2748049199581146 - f1-score (weighted avg)  0.3497\n",
            "2023-04-21 02:25:20,642 BAD EPOCHS (no improvement): 0\n",
            "2023-04-21 02:25:20,646 saving best model\n"
          ]
        },
        {
          "output_type": "stream",
          "name": "stderr",
          "text": [
            "\n"
          ]
        },
        {
          "output_type": "stream",
          "name": "stdout",
          "text": [
            "2023-04-21 02:25:22,731 ----------------------------------------------------------------------------------------------------\n",
            "2023-04-21 02:25:24,405 epoch 59 - iter 7/79 - loss 0.30438998 - time (sec): 1.67 - samples/sec: 4734.43 - lr: 0.000195\n",
            "2023-04-21 02:25:26,074 epoch 59 - iter 14/79 - loss 0.30850758 - time (sec): 3.34 - samples/sec: 4952.96 - lr: 0.000195\n",
            "2023-04-21 02:25:27,864 epoch 59 - iter 21/79 - loss 0.31658635 - time (sec): 5.13 - samples/sec: 5098.34 - lr: 0.000195\n",
            "2023-04-21 02:25:29,477 epoch 59 - iter 28/79 - loss 0.32429240 - time (sec): 6.74 - samples/sec: 5151.46 - lr: 0.000195\n",
            "2023-04-21 02:25:31,040 epoch 59 - iter 35/79 - loss 0.32477130 - time (sec): 8.31 - samples/sec: 5127.70 - lr: 0.000195\n",
            "2023-04-21 02:25:32,789 epoch 59 - iter 42/79 - loss 0.32514634 - time (sec): 10.06 - samples/sec: 5122.33 - lr: 0.000195\n",
            "2023-04-21 02:25:34,667 epoch 59 - iter 49/79 - loss 0.32141662 - time (sec): 11.93 - samples/sec: 4967.59 - lr: 0.000195\n",
            "2023-04-21 02:25:37,077 epoch 59 - iter 56/79 - loss 0.31479085 - time (sec): 14.34 - samples/sec: 4749.08 - lr: 0.000195\n",
            "2023-04-21 02:25:38,679 epoch 59 - iter 63/79 - loss 0.31370467 - time (sec): 15.95 - samples/sec: 4762.33 - lr: 0.000195\n",
            "2023-04-21 02:25:40,367 epoch 59 - iter 70/79 - loss 0.31090784 - time (sec): 17.63 - samples/sec: 4779.39 - lr: 0.000195\n",
            "2023-04-21 02:25:42,252 epoch 59 - iter 77/79 - loss 0.31085186 - time (sec): 19.52 - samples/sec: 4730.38 - lr: 0.000195\n",
            "2023-04-21 02:25:42,712 ----------------------------------------------------------------------------------------------------\n",
            "2023-04-21 02:25:42,714 EPOCH 59 done: loss 0.3122 - lr 0.000195\n"
          ]
        },
        {
          "output_type": "stream",
          "name": "stderr",
          "text": [
            "100%|██████████| 79/79 [00:21<00:00,  3.67it/s]\n"
          ]
        },
        {
          "output_type": "stream",
          "name": "stdout",
          "text": [
            "2023-04-21 02:26:05,575 Evaluating as a multi-label problem: True\n",
            "2023-04-21 02:26:08,349 TRAIN : loss 0.2554610073566437 - f1-score (weighted avg)  0.367\n"
          ]
        },
        {
          "output_type": "stream",
          "name": "stderr",
          "text": [
            "100%|██████████| 10/10 [00:02<00:00,  3.62it/s]"
          ]
        },
        {
          "output_type": "stream",
          "name": "stdout",
          "text": [
            "2023-04-21 02:26:11,191 Evaluating as a multi-label problem: False\n",
            "2023-04-21 02:26:11,261 DEV : loss 0.2738053500652313 - f1-score (weighted avg)  0.3429\n",
            "2023-04-21 02:26:11,271 BAD EPOCHS (no improvement): 0\n",
            "2023-04-21 02:26:11,274 saving best model\n"
          ]
        },
        {
          "output_type": "stream",
          "name": "stderr",
          "text": [
            "\n"
          ]
        },
        {
          "output_type": "stream",
          "name": "stdout",
          "text": [
            "2023-04-21 02:26:13,349 ----------------------------------------------------------------------------------------------------\n",
            "2023-04-21 02:26:15,245 epoch 60 - iter 7/79 - loss 0.31186860 - time (sec): 1.89 - samples/sec: 4602.59 - lr: 0.000195\n",
            "2023-04-21 02:26:16,737 epoch 60 - iter 14/79 - loss 0.30737466 - time (sec): 3.39 - samples/sec: 4749.53 - lr: 0.000195\n",
            "2023-04-21 02:26:18,243 epoch 60 - iter 21/79 - loss 0.30390287 - time (sec): 4.89 - samples/sec: 5012.21 - lr: 0.000195\n",
            "2023-04-21 02:26:19,919 epoch 60 - iter 28/79 - loss 0.30454839 - time (sec): 6.57 - samples/sec: 4830.97 - lr: 0.000195\n",
            "2023-04-21 02:26:21,631 epoch 60 - iter 35/79 - loss 0.30680404 - time (sec): 8.28 - samples/sec: 4867.39 - lr: 0.000195\n",
            "2023-04-21 02:26:23,059 epoch 60 - iter 42/79 - loss 0.31829634 - time (sec): 9.71 - samples/sec: 4918.31 - lr: 0.000195\n",
            "2023-04-21 02:26:24,886 epoch 60 - iter 49/79 - loss 0.31634041 - time (sec): 11.53 - samples/sec: 4943.02 - lr: 0.000195\n",
            "2023-04-21 02:26:26,725 epoch 60 - iter 56/79 - loss 0.31833791 - time (sec): 13.37 - samples/sec: 4911.45 - lr: 0.000195\n",
            "2023-04-21 02:26:28,377 epoch 60 - iter 63/79 - loss 0.31405343 - time (sec): 15.03 - samples/sec: 4934.11 - lr: 0.000195\n",
            "2023-04-21 02:26:30,288 epoch 60 - iter 70/79 - loss 0.31464166 - time (sec): 16.94 - samples/sec: 4926.88 - lr: 0.000195\n",
            "2023-04-21 02:26:31,759 epoch 60 - iter 77/79 - loss 0.31724149 - time (sec): 18.41 - samples/sec: 4951.74 - lr: 0.000195\n",
            "2023-04-21 02:26:32,952 ----------------------------------------------------------------------------------------------------\n",
            "2023-04-21 02:26:32,956 EPOCH 60 done: loss 0.3163 - lr 0.000195\n"
          ]
        },
        {
          "output_type": "stream",
          "name": "stderr",
          "text": [
            "100%|██████████| 79/79 [00:21<00:00,  3.66it/s]"
          ]
        },
        {
          "output_type": "stream",
          "name": "stdout",
          "text": [
            "2023-04-21 02:26:54,706 Evaluating as a multi-label problem: True\n"
          ]
        },
        {
          "output_type": "stream",
          "name": "stderr",
          "text": [
            "\n"
          ]
        },
        {
          "output_type": "stream",
          "name": "stdout",
          "text": [
            "2023-04-21 02:26:57,472 TRAIN : loss 0.2575482130050659 - f1-score (weighted avg)  0.3654\n"
          ]
        },
        {
          "output_type": "stream",
          "name": "stderr",
          "text": [
            "100%|██████████| 10/10 [00:02<00:00,  3.58it/s]\n"
          ]
        },
        {
          "output_type": "stream",
          "name": "stdout",
          "text": [
            "2023-04-21 02:27:01,491 Evaluating as a multi-label problem: False\n",
            "2023-04-21 02:27:01,558 DEV : loss 0.2756063640117645 - f1-score (weighted avg)  0.3486\n",
            "2023-04-21 02:27:01,567 BAD EPOCHS (no improvement): 1\n",
            "2023-04-21 02:27:01,571 ----------------------------------------------------------------------------------------------------\n",
            "2023-04-21 02:27:03,096 epoch 61 - iter 7/79 - loss 0.33884506 - time (sec): 1.52 - samples/sec: 5100.53 - lr: 0.000195\n",
            "2023-04-21 02:27:04,611 epoch 61 - iter 14/79 - loss 0.32402882 - time (sec): 3.04 - samples/sec: 4968.72 - lr: 0.000195\n",
            "2023-04-21 02:27:06,043 epoch 61 - iter 21/79 - loss 0.32541626 - time (sec): 4.47 - samples/sec: 4897.63 - lr: 0.000195\n",
            "2023-04-21 02:27:07,626 epoch 61 - iter 28/79 - loss 0.31567293 - time (sec): 6.05 - samples/sec: 4966.70 - lr: 0.000195\n",
            "2023-04-21 02:27:09,007 epoch 61 - iter 35/79 - loss 0.32347214 - time (sec): 7.43 - samples/sec: 5104.00 - lr: 0.000195\n",
            "2023-04-21 02:27:10,785 epoch 61 - iter 42/79 - loss 0.31759931 - time (sec): 9.21 - samples/sec: 5111.09 - lr: 0.000195\n",
            "2023-04-21 02:27:12,628 epoch 61 - iter 49/79 - loss 0.32195840 - time (sec): 11.06 - samples/sec: 5108.79 - lr: 0.000195\n",
            "2023-04-21 02:27:14,589 epoch 61 - iter 56/79 - loss 0.32022252 - time (sec): 13.02 - samples/sec: 4998.03 - lr: 0.000195\n",
            "2023-04-21 02:27:16,922 epoch 61 - iter 63/79 - loss 0.32031147 - time (sec): 15.35 - samples/sec: 4826.16 - lr: 0.000195\n",
            "2023-04-21 02:27:18,435 epoch 61 - iter 70/79 - loss 0.31770949 - time (sec): 16.86 - samples/sec: 4841.41 - lr: 0.000195\n",
            "2023-04-21 02:27:20,588 epoch 61 - iter 77/79 - loss 0.31479942 - time (sec): 19.02 - samples/sec: 4841.05 - lr: 0.000195\n",
            "2023-04-21 02:27:21,098 ----------------------------------------------------------------------------------------------------\n",
            "2023-04-21 02:27:21,100 EPOCH 61 done: loss 0.3127 - lr 0.000195\n"
          ]
        },
        {
          "output_type": "stream",
          "name": "stderr",
          "text": [
            "100%|██████████| 79/79 [00:21<00:00,  3.69it/s]"
          ]
        },
        {
          "output_type": "stream",
          "name": "stdout",
          "text": [
            "2023-04-21 02:27:42,654 Evaluating as a multi-label problem: True\n"
          ]
        },
        {
          "output_type": "stream",
          "name": "stderr",
          "text": [
            "\n"
          ]
        },
        {
          "output_type": "stream",
          "name": "stdout",
          "text": [
            "2023-04-21 02:27:45,430 TRAIN : loss 0.25725242495536804 - f1-score (weighted avg)  0.3646\n"
          ]
        },
        {
          "output_type": "stream",
          "name": "stderr",
          "text": [
            "100%|██████████| 10/10 [00:02<00:00,  3.60it/s]"
          ]
        },
        {
          "output_type": "stream",
          "name": "stdout",
          "text": [
            "2023-04-21 02:27:48,288 Evaluating as a multi-label problem: False\n",
            "2023-04-21 02:27:48,358 DEV : loss 0.2756286859512329 - f1-score (weighted avg)  0.3453\n",
            "2023-04-21 02:27:48,371 Epoch    61: reducing learning rate of group 0 to 9.7656e-05.\n",
            "2023-04-21 02:27:48,374 BAD EPOCHS (no improvement): 2\n",
            "2023-04-21 02:27:48,378 ----------------------------------------------------------------------------------------------------\n"
          ]
        },
        {
          "output_type": "stream",
          "name": "stderr",
          "text": [
            "\n"
          ]
        },
        {
          "output_type": "stream",
          "name": "stdout",
          "text": [
            "2023-04-21 02:27:50,028 epoch 62 - iter 7/79 - loss 0.35226186 - time (sec): 1.65 - samples/sec: 4992.45 - lr: 0.000098\n",
            "2023-04-21 02:27:51,346 epoch 62 - iter 14/79 - loss 0.34728004 - time (sec): 2.97 - samples/sec: 5031.64 - lr: 0.000098\n",
            "2023-04-21 02:27:53,056 epoch 62 - iter 21/79 - loss 0.32440835 - time (sec): 4.68 - samples/sec: 4938.08 - lr: 0.000098\n",
            "2023-04-21 02:27:54,452 epoch 62 - iter 28/79 - loss 0.32594244 - time (sec): 6.07 - samples/sec: 4949.38 - lr: 0.000098\n",
            "2023-04-21 02:27:56,382 epoch 62 - iter 35/79 - loss 0.31822224 - time (sec): 8.00 - samples/sec: 4860.09 - lr: 0.000098\n",
            "2023-04-21 02:27:58,330 epoch 62 - iter 42/79 - loss 0.31603227 - time (sec): 9.95 - samples/sec: 4754.06 - lr: 0.000098\n",
            "2023-04-21 02:27:59,942 epoch 62 - iter 49/79 - loss 0.31758964 - time (sec): 11.56 - samples/sec: 4835.91 - lr: 0.000098\n",
            "2023-04-21 02:28:02,071 epoch 62 - iter 56/79 - loss 0.31266529 - time (sec): 13.69 - samples/sec: 4774.38 - lr: 0.000098\n",
            "2023-04-21 02:28:04,233 epoch 62 - iter 63/79 - loss 0.31001547 - time (sec): 15.85 - samples/sec: 4722.58 - lr: 0.000098\n",
            "2023-04-21 02:28:05,911 epoch 62 - iter 70/79 - loss 0.30932473 - time (sec): 17.53 - samples/sec: 4776.56 - lr: 0.000098\n",
            "2023-04-21 02:28:07,724 epoch 62 - iter 77/79 - loss 0.31085687 - time (sec): 19.35 - samples/sec: 4784.10 - lr: 0.000098\n",
            "2023-04-21 02:28:08,090 ----------------------------------------------------------------------------------------------------\n",
            "2023-04-21 02:28:08,092 EPOCH 62 done: loss 0.3112 - lr 0.000098\n"
          ]
        },
        {
          "output_type": "stream",
          "name": "stderr",
          "text": [
            "100%|██████████| 79/79 [00:21<00:00,  3.66it/s]\n"
          ]
        },
        {
          "output_type": "stream",
          "name": "stdout",
          "text": [
            "2023-04-21 02:28:31,054 Evaluating as a multi-label problem: True\n",
            "2023-04-21 02:28:33,836 TRAIN : loss 0.25689011812210083 - f1-score (weighted avg)  0.364\n"
          ]
        },
        {
          "output_type": "stream",
          "name": "stderr",
          "text": [
            "100%|██████████| 10/10 [00:02<00:00,  3.59it/s]"
          ]
        },
        {
          "output_type": "stream",
          "name": "stdout",
          "text": [
            "2023-04-21 02:28:36,701 Evaluating as a multi-label problem: False\n",
            "2023-04-21 02:28:36,771 DEV : loss 0.275298148393631 - f1-score (weighted avg)  0.344\n",
            "2023-04-21 02:28:36,781 BAD EPOCHS (no improvement): 1\n",
            "2023-04-21 02:28:36,786 ----------------------------------------------------------------------------------------------------\n"
          ]
        },
        {
          "output_type": "stream",
          "name": "stderr",
          "text": [
            "\n"
          ]
        },
        {
          "output_type": "stream",
          "name": "stdout",
          "text": [
            "2023-04-21 02:28:38,173 epoch 63 - iter 7/79 - loss 0.32255111 - time (sec): 1.38 - samples/sec: 5356.34 - lr: 0.000098\n",
            "2023-04-21 02:28:39,727 epoch 63 - iter 14/79 - loss 0.31481238 - time (sec): 2.94 - samples/sec: 5305.18 - lr: 0.000098\n",
            "2023-04-21 02:28:41,457 epoch 63 - iter 21/79 - loss 0.30932821 - time (sec): 4.67 - samples/sec: 5138.66 - lr: 0.000098\n",
            "2023-04-21 02:28:43,500 epoch 63 - iter 28/79 - loss 0.30375783 - time (sec): 6.71 - samples/sec: 4780.79 - lr: 0.000098\n",
            "2023-04-21 02:28:45,685 epoch 63 - iter 35/79 - loss 0.30140205 - time (sec): 8.90 - samples/sec: 4676.92 - lr: 0.000098\n",
            "2023-04-21 02:28:47,299 epoch 63 - iter 42/79 - loss 0.30448238 - time (sec): 10.51 - samples/sec: 4688.90 - lr: 0.000098\n",
            "2023-04-21 02:28:48,838 epoch 63 - iter 49/79 - loss 0.30457042 - time (sec): 12.05 - samples/sec: 4770.67 - lr: 0.000098\n",
            "2023-04-21 02:28:50,235 epoch 63 - iter 56/79 - loss 0.30624215 - time (sec): 13.45 - samples/sec: 4864.56 - lr: 0.000098\n",
            "2023-04-21 02:28:52,577 epoch 63 - iter 63/79 - loss 0.30461548 - time (sec): 15.79 - samples/sec: 4735.26 - lr: 0.000098\n",
            "2023-04-21 02:28:54,240 epoch 63 - iter 70/79 - loss 0.30366969 - time (sec): 17.45 - samples/sec: 4745.17 - lr: 0.000098\n",
            "2023-04-21 02:28:56,225 epoch 63 - iter 77/79 - loss 0.30616927 - time (sec): 19.44 - samples/sec: 4757.38 - lr: 0.000098\n",
            "2023-04-21 02:28:56,684 ----------------------------------------------------------------------------------------------------\n",
            "2023-04-21 02:28:56,685 EPOCH 63 done: loss 0.3088 - lr 0.000098\n"
          ]
        },
        {
          "output_type": "stream",
          "name": "stderr",
          "text": [
            "100%|██████████| 79/79 [00:21<00:00,  3.67it/s]"
          ]
        },
        {
          "output_type": "stream",
          "name": "stdout",
          "text": [
            "2023-04-21 02:29:18,334 Evaluating as a multi-label problem: True\n"
          ]
        },
        {
          "output_type": "stream",
          "name": "stderr",
          "text": [
            "\n"
          ]
        },
        {
          "output_type": "stream",
          "name": "stdout",
          "text": [
            "2023-04-21 02:29:21,130 TRAIN : loss 0.256653755903244 - f1-score (weighted avg)  0.3634\n"
          ]
        },
        {
          "output_type": "stream",
          "name": "stderr",
          "text": [
            "100%|██████████| 10/10 [00:02<00:00,  3.63it/s]"
          ]
        },
        {
          "output_type": "stream",
          "name": "stdout",
          "text": [
            "2023-04-21 02:29:23,965 Evaluating as a multi-label problem: False\n",
            "2023-04-21 02:29:24,035 DEV : loss 0.275145560503006 - f1-score (weighted avg)  0.3439\n",
            "2023-04-21 02:29:24,044 Epoch    63: reducing learning rate of group 0 to 4.8828e-05.\n",
            "2023-04-21 02:29:24,046 BAD EPOCHS (no improvement): 2\n",
            "2023-04-21 02:29:24,050 ----------------------------------------------------------------------------------------------------\n"
          ]
        },
        {
          "output_type": "stream",
          "name": "stderr",
          "text": [
            "\n"
          ]
        },
        {
          "output_type": "stream",
          "name": "stdout",
          "text": [
            "2023-04-21 02:29:25,806 epoch 64 - iter 7/79 - loss 0.30489494 - time (sec): 1.75 - samples/sec: 5527.14 - lr: 0.000049\n",
            "2023-04-21 02:29:27,279 epoch 64 - iter 14/79 - loss 0.29840004 - time (sec): 3.23 - samples/sec: 5467.60 - lr: 0.000049\n",
            "2023-04-21 02:29:29,039 epoch 64 - iter 21/79 - loss 0.30180673 - time (sec): 4.99 - samples/sec: 5111.55 - lr: 0.000049\n",
            "2023-04-21 02:29:30,961 epoch 64 - iter 28/79 - loss 0.30601432 - time (sec): 6.91 - samples/sec: 4997.26 - lr: 0.000049\n",
            "2023-04-21 02:29:32,777 epoch 64 - iter 35/79 - loss 0.30215893 - time (sec): 8.73 - samples/sec: 4927.43 - lr: 0.000049\n",
            "2023-04-21 02:29:34,467 epoch 64 - iter 42/79 - loss 0.30651611 - time (sec): 10.42 - samples/sec: 4936.88 - lr: 0.000049\n",
            "2023-04-21 02:29:36,292 epoch 64 - iter 49/79 - loss 0.30643739 - time (sec): 12.24 - samples/sec: 4894.72 - lr: 0.000049\n",
            "2023-04-21 02:29:37,684 epoch 64 - iter 56/79 - loss 0.30455879 - time (sec): 13.63 - samples/sec: 4920.42 - lr: 0.000049\n",
            "2023-04-21 02:29:39,655 epoch 64 - iter 63/79 - loss 0.30914634 - time (sec): 15.60 - samples/sec: 4823.16 - lr: 0.000049\n",
            "2023-04-21 02:29:41,513 epoch 64 - iter 70/79 - loss 0.31064333 - time (sec): 17.46 - samples/sec: 4787.27 - lr: 0.000049\n",
            "2023-04-21 02:29:43,190 epoch 64 - iter 77/79 - loss 0.30916354 - time (sec): 19.14 - samples/sec: 4793.92 - lr: 0.000049\n",
            "2023-04-21 02:29:44,127 ----------------------------------------------------------------------------------------------------\n",
            "2023-04-21 02:29:44,129 EPOCH 64 done: loss 0.3091 - lr 0.000049\n"
          ]
        },
        {
          "output_type": "stream",
          "name": "stderr",
          "text": [
            "100%|██████████| 79/79 [00:22<00:00,  3.50it/s]"
          ]
        },
        {
          "output_type": "stream",
          "name": "stdout",
          "text": [
            "2023-04-21 02:30:06,864 Evaluating as a multi-label problem: True\n"
          ]
        },
        {
          "output_type": "stream",
          "name": "stderr",
          "text": [
            "\n"
          ]
        },
        {
          "output_type": "stream",
          "name": "stdout",
          "text": [
            "2023-04-21 02:30:09,629 TRAIN : loss 0.25604048371315 - f1-score (weighted avg)  0.367\n"
          ]
        },
        {
          "output_type": "stream",
          "name": "stderr",
          "text": [
            "100%|██████████| 10/10 [00:02<00:00,  3.65it/s]"
          ]
        },
        {
          "output_type": "stream",
          "name": "stdout",
          "text": [
            "2023-04-21 02:30:12,453 Evaluating as a multi-label problem: False\n",
            "2023-04-21 02:30:12,520 DEV : loss 0.2746654748916626 - f1-score (weighted avg)  0.347\n",
            "2023-04-21 02:30:12,530 BAD EPOCHS (no improvement): 1\n",
            "2023-04-21 02:30:12,537 ----------------------------------------------------------------------------------------------------\n"
          ]
        },
        {
          "output_type": "stream",
          "name": "stderr",
          "text": [
            "\n"
          ]
        },
        {
          "output_type": "stream",
          "name": "stdout",
          "text": [
            "2023-04-21 02:30:13,987 epoch 65 - iter 7/79 - loss 0.29825899 - time (sec): 1.45 - samples/sec: 5194.75 - lr: 0.000049\n",
            "2023-04-21 02:30:15,866 epoch 65 - iter 14/79 - loss 0.31311362 - time (sec): 3.33 - samples/sec: 5067.81 - lr: 0.000049\n",
            "2023-04-21 02:30:17,917 epoch 65 - iter 21/79 - loss 0.31760081 - time (sec): 5.38 - samples/sec: 4607.53 - lr: 0.000049\n",
            "2023-04-21 02:30:19,452 epoch 65 - iter 28/79 - loss 0.32084275 - time (sec): 6.91 - samples/sec: 4721.28 - lr: 0.000049\n",
            "2023-04-21 02:30:21,008 epoch 65 - iter 35/79 - loss 0.32154933 - time (sec): 8.47 - samples/sec: 4896.54 - lr: 0.000049\n",
            "2023-04-21 02:30:22,483 epoch 65 - iter 42/79 - loss 0.31473351 - time (sec): 9.94 - samples/sec: 4936.69 - lr: 0.000049\n",
            "2023-04-21 02:30:24,059 epoch 65 - iter 49/79 - loss 0.31605230 - time (sec): 11.52 - samples/sec: 4979.68 - lr: 0.000049\n",
            "2023-04-21 02:30:25,600 epoch 65 - iter 56/79 - loss 0.31706628 - time (sec): 13.06 - samples/sec: 5065.25 - lr: 0.000049\n",
            "2023-04-21 02:30:27,441 epoch 65 - iter 63/79 - loss 0.31558318 - time (sec): 14.90 - samples/sec: 5012.33 - lr: 0.000049\n",
            "2023-04-21 02:30:29,599 epoch 65 - iter 70/79 - loss 0.31241246 - time (sec): 17.06 - samples/sec: 4935.89 - lr: 0.000049\n",
            "2023-04-21 02:30:31,602 epoch 65 - iter 77/79 - loss 0.31550823 - time (sec): 19.06 - samples/sec: 4867.12 - lr: 0.000049\n",
            "2023-04-21 02:30:32,001 ----------------------------------------------------------------------------------------------------\n",
            "2023-04-21 02:30:32,002 EPOCH 65 done: loss 0.3172 - lr 0.000049\n"
          ]
        },
        {
          "output_type": "stream",
          "name": "stderr",
          "text": [
            "100%|██████████| 79/79 [00:21<00:00,  3.68it/s]"
          ]
        },
        {
          "output_type": "stream",
          "name": "stdout",
          "text": [
            "2023-04-21 02:30:53,591 Evaluating as a multi-label problem: True\n"
          ]
        },
        {
          "output_type": "stream",
          "name": "stderr",
          "text": [
            "\n"
          ]
        },
        {
          "output_type": "stream",
          "name": "stdout",
          "text": [
            "2023-04-21 02:30:57,628 TRAIN : loss 0.2570628225803375 - f1-score (weighted avg)  0.3651\n"
          ]
        },
        {
          "output_type": "stream",
          "name": "stderr",
          "text": [
            "100%|██████████| 10/10 [00:02<00:00,  3.64it/s]"
          ]
        },
        {
          "output_type": "stream",
          "name": "stdout",
          "text": [
            "2023-04-21 02:31:00,460 Evaluating as a multi-label problem: False\n",
            "2023-04-21 02:31:00,529 DEV : loss 0.27540668845176697 - f1-score (weighted avg)  0.347\n",
            "2023-04-21 02:31:00,539 Epoch    65: reducing learning rate of group 0 to 2.4414e-05.\n",
            "2023-04-21 02:31:00,541 BAD EPOCHS (no improvement): 2\n",
            "2023-04-21 02:31:00,544 ----------------------------------------------------------------------------------------------------\n"
          ]
        },
        {
          "output_type": "stream",
          "name": "stderr",
          "text": [
            "\n"
          ]
        },
        {
          "output_type": "stream",
          "name": "stdout",
          "text": [
            "2023-04-21 02:31:02,729 epoch 66 - iter 7/79 - loss 0.32466213 - time (sec): 2.18 - samples/sec: 4040.55 - lr: 0.000024\n",
            "2023-04-21 02:31:04,623 epoch 66 - iter 14/79 - loss 0.32296931 - time (sec): 4.08 - samples/sec: 4459.36 - lr: 0.000024\n",
            "2023-04-21 02:31:06,150 epoch 66 - iter 21/79 - loss 0.32778423 - time (sec): 5.60 - samples/sec: 4731.41 - lr: 0.000024\n",
            "2023-04-21 02:31:07,876 epoch 66 - iter 28/79 - loss 0.32651338 - time (sec): 7.33 - samples/sec: 4643.52 - lr: 0.000024\n",
            "2023-04-21 02:31:09,396 epoch 66 - iter 35/79 - loss 0.32139772 - time (sec): 8.85 - samples/sec: 4747.61 - lr: 0.000024\n",
            "2023-04-21 02:31:11,134 epoch 66 - iter 42/79 - loss 0.31685400 - time (sec): 10.59 - samples/sec: 4619.09 - lr: 0.000024\n",
            "2023-04-21 02:31:12,559 epoch 66 - iter 49/79 - loss 0.31755559 - time (sec): 12.01 - samples/sec: 4687.68 - lr: 0.000024\n",
            "2023-04-21 02:31:14,177 epoch 66 - iter 56/79 - loss 0.31852393 - time (sec): 13.63 - samples/sec: 4731.67 - lr: 0.000024\n",
            "2023-04-21 02:31:15,910 epoch 66 - iter 63/79 - loss 0.32363991 - time (sec): 15.36 - samples/sec: 4763.39 - lr: 0.000024\n",
            "2023-04-21 02:31:18,081 epoch 66 - iter 70/79 - loss 0.31590007 - time (sec): 17.53 - samples/sec: 4771.97 - lr: 0.000024\n",
            "2023-04-21 02:31:19,826 epoch 66 - iter 77/79 - loss 0.31276783 - time (sec): 19.28 - samples/sec: 4794.34 - lr: 0.000024\n",
            "2023-04-21 02:31:20,244 ----------------------------------------------------------------------------------------------------\n",
            "2023-04-21 02:31:20,245 EPOCH 66 done: loss 0.3143 - lr 0.000024\n"
          ]
        },
        {
          "output_type": "stream",
          "name": "stderr",
          "text": [
            "100%|██████████| 79/79 [00:21<00:00,  3.64it/s]"
          ]
        },
        {
          "output_type": "stream",
          "name": "stdout",
          "text": [
            "2023-04-21 02:31:42,090 Evaluating as a multi-label problem: True\n"
          ]
        },
        {
          "output_type": "stream",
          "name": "stderr",
          "text": [
            "\n"
          ]
        },
        {
          "output_type": "stream",
          "name": "stdout",
          "text": [
            "2023-04-21 02:31:44,872 TRAIN : loss 0.2570132613182068 - f1-score (weighted avg)  0.3636\n"
          ]
        },
        {
          "output_type": "stream",
          "name": "stderr",
          "text": [
            "100%|██████████| 10/10 [00:02<00:00,  3.65it/s]"
          ]
        },
        {
          "output_type": "stream",
          "name": "stdout",
          "text": [
            "2023-04-21 02:31:47,691 Evaluating as a multi-label problem: False\n",
            "2023-04-21 02:31:47,759 DEV : loss 0.27551859617233276 - f1-score (weighted avg)  0.3429\n",
            "2023-04-21 02:31:47,769 BAD EPOCHS (no improvement): 1\n",
            "2023-04-21 02:31:47,773 ----------------------------------------------------------------------------------------------------\n"
          ]
        },
        {
          "output_type": "stream",
          "name": "stderr",
          "text": [
            "\n"
          ]
        },
        {
          "output_type": "stream",
          "name": "stdout",
          "text": [
            "2023-04-21 02:31:49,754 epoch 67 - iter 7/79 - loss 0.29952608 - time (sec): 1.98 - samples/sec: 4626.64 - lr: 0.000024\n",
            "2023-04-21 02:31:51,522 epoch 67 - iter 14/79 - loss 0.32018719 - time (sec): 3.75 - samples/sec: 4849.78 - lr: 0.000024\n",
            "2023-04-21 02:31:53,129 epoch 67 - iter 21/79 - loss 0.32277564 - time (sec): 5.35 - samples/sec: 4993.51 - lr: 0.000024\n",
            "2023-04-21 02:31:54,631 epoch 67 - iter 28/79 - loss 0.32813448 - time (sec): 6.86 - samples/sec: 4927.07 - lr: 0.000024\n",
            "2023-04-21 02:31:56,622 epoch 67 - iter 35/79 - loss 0.32395353 - time (sec): 8.85 - samples/sec: 4824.29 - lr: 0.000024\n",
            "2023-04-21 02:31:58,164 epoch 67 - iter 42/79 - loss 0.31322885 - time (sec): 10.39 - samples/sec: 4928.18 - lr: 0.000024\n",
            "2023-04-21 02:31:59,928 epoch 67 - iter 49/79 - loss 0.31637059 - time (sec): 12.15 - samples/sec: 4858.65 - lr: 0.000024\n",
            "2023-04-21 02:32:02,071 epoch 67 - iter 56/79 - loss 0.31160657 - time (sec): 14.30 - samples/sec: 4714.60 - lr: 0.000024\n",
            "2023-04-21 02:32:03,611 epoch 67 - iter 63/79 - loss 0.31500931 - time (sec): 15.84 - samples/sec: 4818.62 - lr: 0.000024\n",
            "2023-04-21 02:32:05,845 epoch 67 - iter 70/79 - loss 0.31747211 - time (sec): 18.07 - samples/sec: 4708.03 - lr: 0.000024\n",
            "2023-04-21 02:32:07,259 epoch 67 - iter 77/79 - loss 0.31298878 - time (sec): 19.48 - samples/sec: 4760.36 - lr: 0.000024\n",
            "2023-04-21 02:32:07,711 ----------------------------------------------------------------------------------------------------\n",
            "2023-04-21 02:32:07,713 EPOCH 67 done: loss 0.3141 - lr 0.000024\n"
          ]
        },
        {
          "output_type": "stream",
          "name": "stderr",
          "text": [
            "100%|██████████| 79/79 [00:22<00:00,  3.50it/s]"
          ]
        },
        {
          "output_type": "stream",
          "name": "stdout",
          "text": [
            "2023-04-21 02:32:30,412 Evaluating as a multi-label problem: True\n"
          ]
        },
        {
          "output_type": "stream",
          "name": "stderr",
          "text": [
            "\n"
          ]
        },
        {
          "output_type": "stream",
          "name": "stdout",
          "text": [
            "2023-04-21 02:32:33,195 TRAIN : loss 0.25704139471054077 - f1-score (weighted avg)  0.364\n"
          ]
        },
        {
          "output_type": "stream",
          "name": "stderr",
          "text": [
            "100%|██████████| 10/10 [00:02<00:00,  3.61it/s]"
          ]
        },
        {
          "output_type": "stream",
          "name": "stdout",
          "text": [
            "2023-04-21 02:32:36,048 Evaluating as a multi-label problem: False\n",
            "2023-04-21 02:32:36,129 DEV : loss 0.27537089586257935 - f1-score (weighted avg)  0.3433\n",
            "2023-04-21 02:32:36,139 Epoch    67: reducing learning rate of group 0 to 1.2207e-05.\n",
            "2023-04-21 02:32:36,141 BAD EPOCHS (no improvement): 2\n",
            "2023-04-21 02:32:36,145 ----------------------------------------------------------------------------------------------------\n"
          ]
        },
        {
          "output_type": "stream",
          "name": "stderr",
          "text": [
            "\n"
          ]
        },
        {
          "output_type": "stream",
          "name": "stdout",
          "text": [
            "2023-04-21 02:32:37,805 epoch 68 - iter 7/79 - loss 0.29504575 - time (sec): 1.66 - samples/sec: 5133.17 - lr: 0.000012\n",
            "2023-04-21 02:32:39,431 epoch 68 - iter 14/79 - loss 0.30378669 - time (sec): 3.28 - samples/sec: 5042.87 - lr: 0.000012\n",
            "2023-04-21 02:32:41,194 epoch 68 - iter 21/79 - loss 0.29799946 - time (sec): 5.05 - samples/sec: 4940.35 - lr: 0.000012\n",
            "2023-04-21 02:32:42,926 epoch 68 - iter 28/79 - loss 0.30582782 - time (sec): 6.78 - samples/sec: 4890.12 - lr: 0.000012\n",
            "2023-04-21 02:32:45,304 epoch 68 - iter 35/79 - loss 0.30226064 - time (sec): 9.16 - samples/sec: 4534.57 - lr: 0.000012\n",
            "2023-04-21 02:32:47,053 epoch 68 - iter 42/79 - loss 0.30275920 - time (sec): 10.91 - samples/sec: 4573.07 - lr: 0.000012\n",
            "2023-04-21 02:32:48,571 epoch 68 - iter 49/79 - loss 0.30412538 - time (sec): 12.42 - samples/sec: 4706.46 - lr: 0.000012\n",
            "2023-04-21 02:32:50,322 epoch 68 - iter 56/79 - loss 0.30571137 - time (sec): 14.18 - samples/sec: 4748.35 - lr: 0.000012\n",
            "2023-04-21 02:32:52,104 epoch 68 - iter 63/79 - loss 0.30368254 - time (sec): 15.96 - samples/sec: 4756.67 - lr: 0.000012\n",
            "2023-04-21 02:32:53,894 epoch 68 - iter 70/79 - loss 0.30897138 - time (sec): 17.75 - samples/sec: 4769.25 - lr: 0.000012\n",
            "2023-04-21 02:32:55,747 epoch 68 - iter 77/79 - loss 0.31001614 - time (sec): 19.60 - samples/sec: 4738.33 - lr: 0.000012\n",
            "2023-04-21 02:32:56,136 ----------------------------------------------------------------------------------------------------\n",
            "2023-04-21 02:32:56,138 EPOCH 68 done: loss 0.3120 - lr 0.000012\n"
          ]
        },
        {
          "output_type": "stream",
          "name": "stderr",
          "text": [
            "100%|██████████| 79/79 [00:21<00:00,  3.68it/s]"
          ]
        },
        {
          "output_type": "stream",
          "name": "stdout",
          "text": [
            "2023-04-21 02:33:17,732 Evaluating as a multi-label problem: True\n"
          ]
        },
        {
          "output_type": "stream",
          "name": "stderr",
          "text": [
            "\n"
          ]
        },
        {
          "output_type": "stream",
          "name": "stdout",
          "text": [
            "2023-04-21 02:33:21,761 TRAIN : loss 0.25673776865005493 - f1-score (weighted avg)  0.3643\n"
          ]
        },
        {
          "output_type": "stream",
          "name": "stderr",
          "text": [
            "100%|██████████| 10/10 [00:02<00:00,  3.58it/s]"
          ]
        },
        {
          "output_type": "stream",
          "name": "stdout",
          "text": [
            "2023-04-21 02:33:24,633 Evaluating as a multi-label problem: False\n",
            "2023-04-21 02:33:24,701 DEV : loss 0.2751116156578064 - f1-score (weighted avg)  0.3446\n",
            "2023-04-21 02:33:24,711 BAD EPOCHS (no improvement): 1\n",
            "2023-04-21 02:33:24,715 ----------------------------------------------------------------------------------------------------\n"
          ]
        },
        {
          "output_type": "stream",
          "name": "stderr",
          "text": [
            "\n"
          ]
        },
        {
          "output_type": "stream",
          "name": "stdout",
          "text": [
            "2023-04-21 02:33:26,414 epoch 69 - iter 7/79 - loss 0.32235992 - time (sec): 1.70 - samples/sec: 4491.66 - lr: 0.000012\n",
            "2023-04-21 02:33:28,225 epoch 69 - iter 14/79 - loss 0.30655792 - time (sec): 3.51 - samples/sec: 4489.86 - lr: 0.000012\n",
            "2023-04-21 02:33:30,610 epoch 69 - iter 21/79 - loss 0.30886373 - time (sec): 5.89 - samples/sec: 4345.86 - lr: 0.000012\n",
            "2023-04-21 02:33:32,400 epoch 69 - iter 28/79 - loss 0.30774513 - time (sec): 7.68 - samples/sec: 4399.79 - lr: 0.000012\n",
            "2023-04-21 02:33:34,175 epoch 69 - iter 35/79 - loss 0.31291556 - time (sec): 9.46 - samples/sec: 4445.75 - lr: 0.000012\n",
            "2023-04-21 02:33:35,855 epoch 69 - iter 42/79 - loss 0.30706023 - time (sec): 11.14 - samples/sec: 4497.72 - lr: 0.000012\n",
            "2023-04-21 02:33:37,592 epoch 69 - iter 49/79 - loss 0.30706294 - time (sec): 12.88 - samples/sec: 4553.70 - lr: 0.000012\n",
            "2023-04-21 02:33:39,224 epoch 69 - iter 56/79 - loss 0.30966225 - time (sec): 14.51 - samples/sec: 4649.42 - lr: 0.000012\n",
            "2023-04-21 02:33:41,370 epoch 69 - iter 63/79 - loss 0.30756757 - time (sec): 16.65 - samples/sec: 4629.44 - lr: 0.000012\n",
            "2023-04-21 02:33:42,845 epoch 69 - iter 70/79 - loss 0.31108427 - time (sec): 18.13 - samples/sec: 4684.70 - lr: 0.000012\n",
            "2023-04-21 02:33:44,275 epoch 69 - iter 77/79 - loss 0.31039281 - time (sec): 19.56 - samples/sec: 4714.35 - lr: 0.000012\n",
            "2023-04-21 02:33:44,894 ----------------------------------------------------------------------------------------------------\n",
            "2023-04-21 02:33:44,896 EPOCH 69 done: loss 0.3109 - lr 0.000012\n"
          ]
        },
        {
          "output_type": "stream",
          "name": "stderr",
          "text": [
            "100%|██████████| 79/79 [00:21<00:00,  3.69it/s]"
          ]
        },
        {
          "output_type": "stream",
          "name": "stdout",
          "text": [
            "2023-04-21 02:34:06,469 Evaluating as a multi-label problem: True\n"
          ]
        },
        {
          "output_type": "stream",
          "name": "stderr",
          "text": [
            "\n"
          ]
        },
        {
          "output_type": "stream",
          "name": "stdout",
          "text": [
            "2023-04-21 02:34:09,236 TRAIN : loss 0.25646814703941345 - f1-score (weighted avg)  0.3657\n"
          ]
        },
        {
          "output_type": "stream",
          "name": "stderr",
          "text": [
            "100%|██████████| 10/10 [00:02<00:00,  3.53it/s]"
          ]
        },
        {
          "output_type": "stream",
          "name": "stdout",
          "text": [
            "2023-04-21 02:34:12,152 Evaluating as a multi-label problem: False\n",
            "2023-04-21 02:34:12,221 DEV : loss 0.27484560012817383 - f1-score (weighted avg)  0.346\n",
            "2023-04-21 02:34:12,230 Epoch    69: reducing learning rate of group 0 to 6.1035e-06.\n",
            "2023-04-21 02:34:12,232 BAD EPOCHS (no improvement): 2\n",
            "2023-04-21 02:34:12,235 ----------------------------------------------------------------------------------------------------\n"
          ]
        },
        {
          "output_type": "stream",
          "name": "stderr",
          "text": [
            "\n"
          ]
        },
        {
          "output_type": "stream",
          "name": "stdout",
          "text": [
            "2023-04-21 02:34:14,032 epoch 70 - iter 7/79 - loss 0.35398288 - time (sec): 1.80 - samples/sec: 4617.08 - lr: 0.000006\n",
            "2023-04-21 02:34:15,461 epoch 70 - iter 14/79 - loss 0.33863775 - time (sec): 3.22 - samples/sec: 4909.13 - lr: 0.000006\n",
            "2023-04-21 02:34:17,738 epoch 70 - iter 21/79 - loss 0.33805257 - time (sec): 5.50 - samples/sec: 4532.01 - lr: 0.000006\n",
            "2023-04-21 02:34:19,372 epoch 70 - iter 28/79 - loss 0.32966111 - time (sec): 7.14 - samples/sec: 4718.24 - lr: 0.000006\n",
            "2023-04-21 02:34:21,106 epoch 70 - iter 35/79 - loss 0.32385505 - time (sec): 8.87 - samples/sec: 4665.70 - lr: 0.000006\n",
            "2023-04-21 02:34:23,074 epoch 70 - iter 42/79 - loss 0.31824165 - time (sec): 10.84 - samples/sec: 4655.62 - lr: 0.000006\n",
            "2023-04-21 02:34:24,675 epoch 70 - iter 49/79 - loss 0.31875829 - time (sec): 12.44 - samples/sec: 4738.21 - lr: 0.000006\n",
            "2023-04-21 02:34:26,544 epoch 70 - iter 56/79 - loss 0.31798946 - time (sec): 14.31 - samples/sec: 4735.74 - lr: 0.000006\n",
            "2023-04-21 02:34:28,361 epoch 70 - iter 63/79 - loss 0.31631642 - time (sec): 16.12 - samples/sec: 4757.18 - lr: 0.000006\n",
            "2023-04-21 02:34:29,902 epoch 70 - iter 70/79 - loss 0.31426937 - time (sec): 17.67 - samples/sec: 4793.13 - lr: 0.000006\n",
            "2023-04-21 02:34:31,491 epoch 70 - iter 77/79 - loss 0.31407827 - time (sec): 19.25 - samples/sec: 4795.04 - lr: 0.000006\n",
            "2023-04-21 02:34:31,892 ----------------------------------------------------------------------------------------------------\n",
            "2023-04-21 02:34:31,894 EPOCH 70 done: loss 0.3145 - lr 0.000006\n"
          ]
        },
        {
          "output_type": "stream",
          "name": "stderr",
          "text": [
            "100%|██████████| 79/79 [00:22<00:00,  3.48it/s]"
          ]
        },
        {
          "output_type": "stream",
          "name": "stdout",
          "text": [
            "2023-04-21 02:34:54,707 Evaluating as a multi-label problem: True\n"
          ]
        },
        {
          "output_type": "stream",
          "name": "stderr",
          "text": [
            "\n"
          ]
        },
        {
          "output_type": "stream",
          "name": "stdout",
          "text": [
            "2023-04-21 02:34:57,497 TRAIN : loss 0.2564685344696045 - f1-score (weighted avg)  0.3646\n"
          ]
        },
        {
          "output_type": "stream",
          "name": "stderr",
          "text": [
            "100%|██████████| 10/10 [00:02<00:00,  3.64it/s]"
          ]
        },
        {
          "output_type": "stream",
          "name": "stdout",
          "text": [
            "2023-04-21 02:35:00,327 Evaluating as a multi-label problem: False\n",
            "2023-04-21 02:35:00,398 DEV : loss 0.27484130859375 - f1-score (weighted avg)  0.3454\n",
            "2023-04-21 02:35:00,408 BAD EPOCHS (no improvement): 1\n",
            "2023-04-21 02:35:00,412 ----------------------------------------------------------------------------------------------------\n"
          ]
        },
        {
          "output_type": "stream",
          "name": "stderr",
          "text": [
            "\n"
          ]
        },
        {
          "output_type": "stream",
          "name": "stdout",
          "text": [
            "2023-04-21 02:35:02,143 epoch 71 - iter 7/79 - loss 0.29499605 - time (sec): 1.73 - samples/sec: 4825.82 - lr: 0.000006\n",
            "2023-04-21 02:35:03,898 epoch 71 - iter 14/79 - loss 0.29458844 - time (sec): 3.48 - samples/sec: 4897.38 - lr: 0.000006\n",
            "2023-04-21 02:35:05,770 epoch 71 - iter 21/79 - loss 0.30021075 - time (sec): 5.36 - samples/sec: 4900.14 - lr: 0.000006\n",
            "2023-04-21 02:35:07,664 epoch 71 - iter 28/79 - loss 0.29923878 - time (sec): 7.25 - samples/sec: 4955.69 - lr: 0.000006\n",
            "2023-04-21 02:35:09,171 epoch 71 - iter 35/79 - loss 0.30070454 - time (sec): 8.76 - samples/sec: 4965.90 - lr: 0.000006\n",
            "2023-04-21 02:35:11,241 epoch 71 - iter 42/79 - loss 0.30091917 - time (sec): 10.83 - samples/sec: 4833.96 - lr: 0.000006\n",
            "2023-04-21 02:35:12,816 epoch 71 - iter 49/79 - loss 0.29754670 - time (sec): 12.40 - samples/sec: 4860.56 - lr: 0.000006\n",
            "2023-04-21 02:35:14,430 epoch 71 - iter 56/79 - loss 0.30338780 - time (sec): 14.02 - samples/sec: 4918.27 - lr: 0.000006\n",
            "2023-04-21 02:35:16,121 epoch 71 - iter 63/79 - loss 0.30325234 - time (sec): 15.71 - samples/sec: 4914.44 - lr: 0.000006\n",
            "2023-04-21 02:35:17,773 epoch 71 - iter 70/79 - loss 0.30755363 - time (sec): 17.36 - samples/sec: 4891.82 - lr: 0.000006\n",
            "2023-04-21 02:35:19,282 epoch 71 - iter 77/79 - loss 0.31095914 - time (sec): 18.87 - samples/sec: 4906.99 - lr: 0.000006\n",
            "2023-04-21 02:35:19,664 ----------------------------------------------------------------------------------------------------\n",
            "2023-04-21 02:35:19,666 EPOCH 71 done: loss 0.3116 - lr 0.000006\n"
          ]
        },
        {
          "output_type": "stream",
          "name": "stderr",
          "text": [
            "100%|██████████| 79/79 [00:21<00:00,  3.66it/s]"
          ]
        },
        {
          "output_type": "stream",
          "name": "stdout",
          "text": [
            "2023-04-21 02:35:41,385 Evaluating as a multi-label problem: True\n"
          ]
        },
        {
          "output_type": "stream",
          "name": "stderr",
          "text": [
            "\n"
          ]
        },
        {
          "output_type": "stream",
          "name": "stdout",
          "text": [
            "2023-04-21 02:35:45,450 TRAIN : loss 0.25625917315483093 - f1-score (weighted avg)  0.3672\n"
          ]
        },
        {
          "output_type": "stream",
          "name": "stderr",
          "text": [
            "100%|██████████| 10/10 [00:02<00:00,  3.60it/s]"
          ]
        },
        {
          "output_type": "stream",
          "name": "stdout",
          "text": [
            "2023-04-21 02:35:48,317 Evaluating as a multi-label problem: False\n",
            "2023-04-21 02:35:48,386 DEV : loss 0.2746853530406952 - f1-score (weighted avg)  0.3478\n",
            "2023-04-21 02:35:48,397 Epoch    71: reducing learning rate of group 0 to 3.0518e-06.\n",
            "2023-04-21 02:35:48,399 BAD EPOCHS (no improvement): 2\n",
            "2023-04-21 02:35:48,403 ----------------------------------------------------------------------------------------------------\n"
          ]
        },
        {
          "output_type": "stream",
          "name": "stderr",
          "text": [
            "\n"
          ]
        },
        {
          "output_type": "stream",
          "name": "stdout",
          "text": [
            "2023-04-21 02:35:50,233 epoch 72 - iter 7/79 - loss 0.30149982 - time (sec): 1.83 - samples/sec: 4538.34 - lr: 0.000003\n",
            "2023-04-21 02:35:52,013 epoch 72 - iter 14/79 - loss 0.32608478 - time (sec): 3.61 - samples/sec: 4834.92 - lr: 0.000003\n",
            "2023-04-21 02:35:53,653 epoch 72 - iter 21/79 - loss 0.32188844 - time (sec): 5.25 - samples/sec: 4929.83 - lr: 0.000003\n",
            "2023-04-21 02:35:55,828 epoch 72 - iter 28/79 - loss 0.31466617 - time (sec): 7.42 - samples/sec: 4616.03 - lr: 0.000003\n",
            "2023-04-21 02:35:57,661 epoch 72 - iter 35/79 - loss 0.30281280 - time (sec): 9.26 - samples/sec: 4722.01 - lr: 0.000003\n",
            "2023-04-21 02:35:59,238 epoch 72 - iter 42/79 - loss 0.30273369 - time (sec): 10.83 - samples/sec: 4746.53 - lr: 0.000003\n",
            "2023-04-21 02:36:00,635 epoch 72 - iter 49/79 - loss 0.30061759 - time (sec): 12.23 - samples/sec: 4806.54 - lr: 0.000003\n",
            "2023-04-21 02:36:02,273 epoch 72 - iter 56/79 - loss 0.30292975 - time (sec): 13.87 - samples/sec: 4820.68 - lr: 0.000003\n",
            "2023-04-21 02:36:03,992 epoch 72 - iter 63/79 - loss 0.30632715 - time (sec): 15.59 - samples/sec: 4849.28 - lr: 0.000003\n",
            "2023-04-21 02:36:05,943 epoch 72 - iter 70/79 - loss 0.30575492 - time (sec): 17.54 - samples/sec: 4810.23 - lr: 0.000003\n",
            "2023-04-21 02:36:07,900 epoch 72 - iter 77/79 - loss 0.30737433 - time (sec): 19.50 - samples/sec: 4751.68 - lr: 0.000003\n",
            "2023-04-21 02:36:08,340 ----------------------------------------------------------------------------------------------------\n",
            "2023-04-21 02:36:08,341 EPOCH 72 done: loss 0.3059 - lr 0.000003\n"
          ]
        },
        {
          "output_type": "stream",
          "name": "stderr",
          "text": [
            "100%|██████████| 79/79 [00:21<00:00,  3.67it/s]"
          ]
        },
        {
          "output_type": "stream",
          "name": "stdout",
          "text": [
            "2023-04-21 02:36:30,017 Evaluating as a multi-label problem: True\n"
          ]
        },
        {
          "output_type": "stream",
          "name": "stderr",
          "text": [
            "\n"
          ]
        },
        {
          "output_type": "stream",
          "name": "stdout",
          "text": [
            "2023-04-21 02:36:32,811 TRAIN : loss 0.25622081756591797 - f1-score (weighted avg)  0.3673\n"
          ]
        },
        {
          "output_type": "stream",
          "name": "stderr",
          "text": [
            "100%|██████████| 10/10 [00:02<00:00,  3.60it/s]"
          ]
        },
        {
          "output_type": "stream",
          "name": "stdout",
          "text": [
            "2023-04-21 02:36:35,667 Evaluating as a multi-label problem: False\n",
            "2023-04-21 02:36:35,736 DEV : loss 0.2746419310569763 - f1-score (weighted avg)  0.3491\n",
            "2023-04-21 02:36:35,747 BAD EPOCHS (no improvement): 1\n",
            "2023-04-21 02:36:35,751 ----------------------------------------------------------------------------------------------------\n"
          ]
        },
        {
          "output_type": "stream",
          "name": "stderr",
          "text": [
            "\n"
          ]
        },
        {
          "output_type": "stream",
          "name": "stdout",
          "text": [
            "2023-04-21 02:36:37,553 epoch 73 - iter 7/79 - loss 0.29141806 - time (sec): 1.80 - samples/sec: 4847.80 - lr: 0.000003\n",
            "2023-04-21 02:36:39,116 epoch 73 - iter 14/79 - loss 0.28145140 - time (sec): 3.36 - samples/sec: 4849.33 - lr: 0.000003\n",
            "2023-04-21 02:36:40,974 epoch 73 - iter 21/79 - loss 0.32400264 - time (sec): 5.22 - samples/sec: 4760.31 - lr: 0.000003\n",
            "2023-04-21 02:36:42,648 epoch 73 - iter 28/79 - loss 0.33052245 - time (sec): 6.90 - samples/sec: 4887.75 - lr: 0.000003\n",
            "2023-04-21 02:36:44,546 epoch 73 - iter 35/79 - loss 0.32009502 - time (sec): 8.79 - samples/sec: 4810.35 - lr: 0.000003\n",
            "2023-04-21 02:36:46,116 epoch 73 - iter 42/79 - loss 0.31818378 - time (sec): 10.36 - samples/sec: 4830.63 - lr: 0.000003\n",
            "2023-04-21 02:36:47,724 epoch 73 - iter 49/79 - loss 0.31470949 - time (sec): 11.97 - samples/sec: 4921.06 - lr: 0.000003\n",
            "2023-04-21 02:36:49,145 epoch 73 - iter 56/79 - loss 0.31631929 - time (sec): 13.39 - samples/sec: 4917.12 - lr: 0.000003\n",
            "2023-04-21 02:36:50,857 epoch 73 - iter 63/79 - loss 0.31489889 - time (sec): 15.10 - samples/sec: 4948.25 - lr: 0.000003\n",
            "2023-04-21 02:36:52,976 epoch 73 - iter 70/79 - loss 0.31234470 - time (sec): 17.22 - samples/sec: 4905.37 - lr: 0.000003\n",
            "2023-04-21 02:36:54,924 epoch 73 - iter 77/79 - loss 0.31249962 - time (sec): 19.17 - samples/sec: 4818.93 - lr: 0.000003\n",
            "2023-04-21 02:36:55,471 ----------------------------------------------------------------------------------------------------\n",
            "2023-04-21 02:36:55,473 EPOCH 73 done: loss 0.3126 - lr 0.000003\n"
          ]
        },
        {
          "output_type": "stream",
          "name": "stderr",
          "text": [
            "100%|██████████| 79/79 [00:22<00:00,  3.48it/s]"
          ]
        },
        {
          "output_type": "stream",
          "name": "stdout",
          "text": [
            "2023-04-21 02:37:18,346 Evaluating as a multi-label problem: True\n"
          ]
        },
        {
          "output_type": "stream",
          "name": "stderr",
          "text": [
            "\n"
          ]
        },
        {
          "output_type": "stream",
          "name": "stdout",
          "text": [
            "2023-04-21 02:37:21,128 TRAIN : loss 0.2562093734741211 - f1-score (weighted avg)  0.3664\n"
          ]
        },
        {
          "output_type": "stream",
          "name": "stderr",
          "text": [
            "100%|██████████| 10/10 [00:02<00:00,  3.63it/s]"
          ]
        },
        {
          "output_type": "stream",
          "name": "stdout",
          "text": [
            "2023-04-21 02:37:23,963 Evaluating as a multi-label problem: False\n",
            "2023-04-21 02:37:24,030 DEV : loss 0.274594247341156 - f1-score (weighted avg)  0.3498\n",
            "2023-04-21 02:37:24,040 Epoch    73: reducing learning rate of group 0 to 1.5259e-06.\n",
            "2023-04-21 02:37:24,042 BAD EPOCHS (no improvement): 2\n",
            "2023-04-21 02:37:24,046 ----------------------------------------------------------------------------------------------------\n"
          ]
        },
        {
          "output_type": "stream",
          "name": "stderr",
          "text": [
            "\n"
          ]
        },
        {
          "output_type": "stream",
          "name": "stdout",
          "text": [
            "2023-04-21 02:37:25,672 epoch 74 - iter 7/79 - loss 0.29530183 - time (sec): 1.63 - samples/sec: 4908.23 - lr: 0.000002\n",
            "2023-04-21 02:37:27,182 epoch 74 - iter 14/79 - loss 0.30761815 - time (sec): 3.13 - samples/sec: 5165.83 - lr: 0.000002\n",
            "2023-04-21 02:37:28,719 epoch 74 - iter 21/79 - loss 0.30554541 - time (sec): 4.67 - samples/sec: 5172.43 - lr: 0.000002\n",
            "2023-04-21 02:37:30,257 epoch 74 - iter 28/79 - loss 0.31561604 - time (sec): 6.21 - samples/sec: 5183.92 - lr: 0.000002\n",
            "2023-04-21 02:37:31,851 epoch 74 - iter 35/79 - loss 0.32108586 - time (sec): 7.80 - samples/sec: 5288.01 - lr: 0.000002\n",
            "2023-04-21 02:37:33,697 epoch 74 - iter 42/79 - loss 0.32604354 - time (sec): 9.65 - samples/sec: 5176.21 - lr: 0.000002\n",
            "2023-04-21 02:37:35,509 epoch 74 - iter 49/79 - loss 0.32210320 - time (sec): 11.46 - samples/sec: 5086.93 - lr: 0.000002\n",
            "2023-04-21 02:37:37,414 epoch 74 - iter 56/79 - loss 0.32773280 - time (sec): 13.37 - samples/sec: 4999.05 - lr: 0.000002\n",
            "2023-04-21 02:37:39,829 epoch 74 - iter 63/79 - loss 0.32344024 - time (sec): 15.78 - samples/sec: 4794.60 - lr: 0.000002\n",
            "2023-04-21 02:37:41,467 epoch 74 - iter 70/79 - loss 0.32273030 - time (sec): 17.42 - samples/sec: 4800.35 - lr: 0.000002\n",
            "2023-04-21 02:37:43,229 epoch 74 - iter 77/79 - loss 0.31802718 - time (sec): 19.18 - samples/sec: 4818.10 - lr: 0.000002\n",
            "2023-04-21 02:37:43,746 ----------------------------------------------------------------------------------------------------\n",
            "2023-04-21 02:37:43,747 EPOCH 74 done: loss 0.3175 - lr 0.000002\n"
          ]
        },
        {
          "output_type": "stream",
          "name": "stderr",
          "text": [
            "100%|██████████| 79/79 [00:21<00:00,  3.69it/s]"
          ]
        },
        {
          "output_type": "stream",
          "name": "stdout",
          "text": [
            "2023-04-21 02:38:05,313 Evaluating as a multi-label problem: True\n"
          ]
        },
        {
          "output_type": "stream",
          "name": "stderr",
          "text": [
            "\n"
          ]
        },
        {
          "output_type": "stream",
          "name": "stdout",
          "text": [
            "2023-04-21 02:38:09,403 TRAIN : loss 0.25622376799583435 - f1-score (weighted avg)  0.3664\n"
          ]
        },
        {
          "output_type": "stream",
          "name": "stderr",
          "text": [
            "100%|██████████| 10/10 [00:02<00:00,  3.58it/s]"
          ]
        },
        {
          "output_type": "stream",
          "name": "stdout",
          "text": [
            "2023-04-21 02:38:12,284 Evaluating as a multi-label problem: False\n",
            "2023-04-21 02:38:12,354 DEV : loss 0.2746012806892395 - f1-score (weighted avg)  0.3479\n",
            "2023-04-21 02:38:12,365 BAD EPOCHS (no improvement): 1\n",
            "2023-04-21 02:38:12,369 ----------------------------------------------------------------------------------------------------\n"
          ]
        },
        {
          "output_type": "stream",
          "name": "stderr",
          "text": [
            "\n"
          ]
        },
        {
          "output_type": "stream",
          "name": "stdout",
          "text": [
            "2023-04-21 02:38:14,288 epoch 75 - iter 7/79 - loss 0.28623282 - time (sec): 1.92 - samples/sec: 4783.38 - lr: 0.000002\n",
            "2023-04-21 02:38:16,229 epoch 75 - iter 14/79 - loss 0.30893455 - time (sec): 3.86 - samples/sec: 4590.57 - lr: 0.000002\n",
            "2023-04-21 02:38:18,010 epoch 75 - iter 21/79 - loss 0.30650463 - time (sec): 5.64 - samples/sec: 4714.39 - lr: 0.000002\n",
            "2023-04-21 02:38:19,811 epoch 75 - iter 28/79 - loss 0.30339899 - time (sec): 7.44 - samples/sec: 4667.23 - lr: 0.000002\n",
            "2023-04-21 02:38:21,337 epoch 75 - iter 35/79 - loss 0.30494570 - time (sec): 8.97 - samples/sec: 4719.71 - lr: 0.000002\n",
            "2023-04-21 02:38:22,894 epoch 75 - iter 42/79 - loss 0.30704377 - time (sec): 10.52 - samples/sec: 4804.36 - lr: 0.000002\n",
            "2023-04-21 02:38:24,518 epoch 75 - iter 49/79 - loss 0.31267726 - time (sec): 12.15 - samples/sec: 4856.79 - lr: 0.000002\n",
            "2023-04-21 02:38:25,958 epoch 75 - iter 56/79 - loss 0.31215562 - time (sec): 13.59 - samples/sec: 4896.33 - lr: 0.000002\n",
            "2023-04-21 02:38:27,552 epoch 75 - iter 63/79 - loss 0.31465958 - time (sec): 15.18 - samples/sec: 4908.76 - lr: 0.000002\n",
            "2023-04-21 02:38:29,306 epoch 75 - iter 70/79 - loss 0.31293313 - time (sec): 16.94 - samples/sec: 4875.40 - lr: 0.000002\n",
            "2023-04-21 02:38:31,606 epoch 75 - iter 77/79 - loss 0.31200033 - time (sec): 19.24 - samples/sec: 4819.65 - lr: 0.000002\n",
            "2023-04-21 02:38:31,952 ----------------------------------------------------------------------------------------------------\n",
            "2023-04-21 02:38:31,954 EPOCH 75 done: loss 0.3138 - lr 0.000002\n"
          ]
        },
        {
          "output_type": "stream",
          "name": "stderr",
          "text": [
            "100%|██████████| 79/79 [00:21<00:00,  3.66it/s]"
          ]
        },
        {
          "output_type": "stream",
          "name": "stdout",
          "text": [
            "2023-04-21 02:38:53,669 Evaluating as a multi-label problem: True\n"
          ]
        },
        {
          "output_type": "stream",
          "name": "stderr",
          "text": [
            "\n"
          ]
        },
        {
          "output_type": "stream",
          "name": "stdout",
          "text": [
            "2023-04-21 02:38:56,439 TRAIN : loss 0.25623443722724915 - f1-score (weighted avg)  0.3664\n"
          ]
        },
        {
          "output_type": "stream",
          "name": "stderr",
          "text": [
            "100%|██████████| 10/10 [00:02<00:00,  3.63it/s]"
          ]
        },
        {
          "output_type": "stream",
          "name": "stdout",
          "text": [
            "2023-04-21 02:38:59,280 Evaluating as a multi-label problem: False\n",
            "2023-04-21 02:38:59,348 DEV : loss 0.2746208608150482 - f1-score (weighted avg)  0.3479\n",
            "2023-04-21 02:38:59,357 Epoch    75: reducing learning rate of group 0 to 7.6294e-07.\n",
            "2023-04-21 02:38:59,359 BAD EPOCHS (no improvement): 2\n",
            "2023-04-21 02:38:59,362 ----------------------------------------------------------------------------------------------------\n"
          ]
        },
        {
          "output_type": "stream",
          "name": "stderr",
          "text": [
            "\n"
          ]
        },
        {
          "output_type": "stream",
          "name": "stdout",
          "text": [
            "2023-04-21 02:39:01,305 epoch 76 - iter 7/79 - loss 0.32272548 - time (sec): 1.94 - samples/sec: 4256.14 - lr: 0.000001\n",
            "2023-04-21 02:39:03,366 epoch 76 - iter 14/79 - loss 0.31457501 - time (sec): 4.00 - samples/sec: 4192.25 - lr: 0.000001\n",
            "2023-04-21 02:39:05,386 epoch 76 - iter 21/79 - loss 0.31819074 - time (sec): 6.02 - samples/sec: 4190.93 - lr: 0.000001\n",
            "2023-04-21 02:39:06,944 epoch 76 - iter 28/79 - loss 0.31699309 - time (sec): 7.58 - samples/sec: 4290.76 - lr: 0.000001\n",
            "2023-04-21 02:39:08,546 epoch 76 - iter 35/79 - loss 0.30980551 - time (sec): 9.18 - samples/sec: 4469.44 - lr: 0.000001\n",
            "2023-04-21 02:39:10,258 epoch 76 - iter 42/79 - loss 0.30560988 - time (sec): 10.89 - samples/sec: 4538.27 - lr: 0.000001\n",
            "2023-04-21 02:39:12,052 epoch 76 - iter 49/79 - loss 0.30978259 - time (sec): 12.69 - samples/sec: 4604.58 - lr: 0.000001\n",
            "2023-04-21 02:39:13,899 epoch 76 - iter 56/79 - loss 0.31031907 - time (sec): 14.54 - samples/sec: 4589.69 - lr: 0.000001\n",
            "2023-04-21 02:39:15,746 epoch 76 - iter 63/79 - loss 0.31109738 - time (sec): 16.38 - samples/sec: 4567.93 - lr: 0.000001\n",
            "2023-04-21 02:39:17,608 epoch 76 - iter 70/79 - loss 0.31298574 - time (sec): 18.24 - samples/sec: 4576.27 - lr: 0.000001\n",
            "2023-04-21 02:39:19,063 epoch 76 - iter 77/79 - loss 0.31442972 - time (sec): 19.70 - samples/sec: 4681.07 - lr: 0.000001\n",
            "2023-04-21 02:39:19,657 ----------------------------------------------------------------------------------------------------\n",
            "2023-04-21 02:39:19,659 EPOCH 76 done: loss 0.3144 - lr 0.000001\n"
          ]
        },
        {
          "output_type": "stream",
          "name": "stderr",
          "text": [
            "100%|██████████| 79/79 [00:21<00:00,  3.68it/s]\n"
          ]
        },
        {
          "output_type": "stream",
          "name": "stdout",
          "text": [
            "2023-04-21 02:39:42,457 Evaluating as a multi-label problem: True\n",
            "2023-04-21 02:39:45,233 TRAIN : loss 0.2562463581562042 - f1-score (weighted avg)  0.3663\n"
          ]
        },
        {
          "output_type": "stream",
          "name": "stderr",
          "text": [
            "100%|██████████| 10/10 [00:02<00:00,  3.62it/s]"
          ]
        },
        {
          "output_type": "stream",
          "name": "stdout",
          "text": [
            "2023-04-21 02:39:48,074 Evaluating as a multi-label problem: False\n",
            "2023-04-21 02:39:48,142 DEV : loss 0.2746236026287079 - f1-score (weighted avg)  0.3479\n",
            "2023-04-21 02:39:48,152 BAD EPOCHS (no improvement): 1\n",
            "2023-04-21 02:39:48,156 ----------------------------------------------------------------------------------------------------\n"
          ]
        },
        {
          "output_type": "stream",
          "name": "stderr",
          "text": [
            "\n"
          ]
        },
        {
          "output_type": "stream",
          "name": "stdout",
          "text": [
            "2023-04-21 02:39:49,947 epoch 77 - iter 7/79 - loss 0.28542610 - time (sec): 1.79 - samples/sec: 4488.99 - lr: 0.000001\n",
            "2023-04-21 02:39:51,368 epoch 77 - iter 14/79 - loss 0.29451433 - time (sec): 3.21 - samples/sec: 4831.71 - lr: 0.000001\n",
            "2023-04-21 02:39:53,140 epoch 77 - iter 21/79 - loss 0.30051844 - time (sec): 4.98 - samples/sec: 4838.12 - lr: 0.000001\n",
            "2023-04-21 02:39:54,727 epoch 77 - iter 28/79 - loss 0.31125601 - time (sec): 6.57 - samples/sec: 4827.75 - lr: 0.000001\n",
            "2023-04-21 02:39:56,632 epoch 77 - iter 35/79 - loss 0.31136587 - time (sec): 8.47 - samples/sec: 4773.67 - lr: 0.000001\n",
            "2023-04-21 02:39:58,493 epoch 77 - iter 42/79 - loss 0.30311878 - time (sec): 10.34 - samples/sec: 4852.38 - lr: 0.000001\n",
            "2023-04-21 02:40:00,193 epoch 77 - iter 49/79 - loss 0.30484447 - time (sec): 12.04 - samples/sec: 4838.14 - lr: 0.000001\n",
            "2023-04-21 02:40:01,855 epoch 77 - iter 56/79 - loss 0.30684012 - time (sec): 13.70 - samples/sec: 4838.73 - lr: 0.000001\n",
            "2023-04-21 02:40:03,521 epoch 77 - iter 63/79 - loss 0.31400494 - time (sec): 15.36 - samples/sec: 4895.48 - lr: 0.000001\n",
            "2023-04-21 02:40:06,004 epoch 77 - iter 70/79 - loss 0.31207601 - time (sec): 17.85 - samples/sec: 4755.79 - lr: 0.000001\n",
            "2023-04-21 02:40:07,425 epoch 77 - iter 77/79 - loss 0.31424058 - time (sec): 19.27 - samples/sec: 4806.94 - lr: 0.000001\n",
            "2023-04-21 02:40:07,786 ----------------------------------------------------------------------------------------------------\n",
            "2023-04-21 02:40:07,787 EPOCH 77 done: loss 0.3137 - lr 0.000001\n"
          ]
        },
        {
          "output_type": "stream",
          "name": "stderr",
          "text": [
            "100%|██████████| 79/79 [00:21<00:00,  3.66it/s]"
          ]
        },
        {
          "output_type": "stream",
          "name": "stdout",
          "text": [
            "2023-04-21 02:40:29,509 Evaluating as a multi-label problem: True\n"
          ]
        },
        {
          "output_type": "stream",
          "name": "stderr",
          "text": [
            "\n"
          ]
        },
        {
          "output_type": "stream",
          "name": "stdout",
          "text": [
            "2023-04-21 02:40:32,277 TRAIN : loss 0.25624728202819824 - f1-score (weighted avg)  0.3663\n"
          ]
        },
        {
          "output_type": "stream",
          "name": "stderr",
          "text": [
            "100%|██████████| 10/10 [00:03<00:00,  2.54it/s]"
          ]
        },
        {
          "output_type": "stream",
          "name": "stdout",
          "text": [
            "2023-04-21 02:40:36,293 Evaluating as a multi-label problem: False\n",
            "2023-04-21 02:40:36,365 DEV : loss 0.27462145686149597 - f1-score (weighted avg)  0.3479\n",
            "2023-04-21 02:40:36,378 Epoch    77: reducing learning rate of group 0 to 3.8147e-07.\n",
            "2023-04-21 02:40:36,380 BAD EPOCHS (no improvement): 2\n",
            "2023-04-21 02:40:36,384 ----------------------------------------------------------------------------------------------------\n"
          ]
        },
        {
          "output_type": "stream",
          "name": "stderr",
          "text": [
            "\n"
          ]
        },
        {
          "output_type": "stream",
          "name": "stdout",
          "text": [
            "2023-04-21 02:40:38,018 epoch 78 - iter 7/79 - loss 0.30530310 - time (sec): 1.63 - samples/sec: 5118.89 - lr: 0.000000\n",
            "2023-04-21 02:40:40,128 epoch 78 - iter 14/79 - loss 0.30123786 - time (sec): 3.74 - samples/sec: 4428.36 - lr: 0.000000\n",
            "2023-04-21 02:40:41,575 epoch 78 - iter 21/79 - loss 0.31714221 - time (sec): 5.19 - samples/sec: 4560.86 - lr: 0.000000\n",
            "2023-04-21 02:40:43,406 epoch 78 - iter 28/79 - loss 0.31280390 - time (sec): 7.02 - samples/sec: 4707.69 - lr: 0.000000\n",
            "2023-04-21 02:40:44,929 epoch 78 - iter 35/79 - loss 0.31676541 - time (sec): 8.54 - samples/sec: 4693.56 - lr: 0.000000\n",
            "2023-04-21 02:40:46,574 epoch 78 - iter 42/79 - loss 0.31617064 - time (sec): 10.19 - samples/sec: 4738.52 - lr: 0.000000\n",
            "2023-04-21 02:40:48,249 epoch 78 - iter 49/79 - loss 0.31235856 - time (sec): 11.86 - samples/sec: 4844.45 - lr: 0.000000\n",
            "2023-04-21 02:40:49,966 epoch 78 - iter 56/79 - loss 0.31661441 - time (sec): 13.58 - samples/sec: 4844.48 - lr: 0.000000\n",
            "2023-04-21 02:40:51,478 epoch 78 - iter 63/79 - loss 0.31270830 - time (sec): 15.09 - samples/sec: 4908.28 - lr: 0.000000\n",
            "2023-04-21 02:40:53,297 epoch 78 - iter 70/79 - loss 0.31114360 - time (sec): 16.91 - samples/sec: 4907.42 - lr: 0.000000\n",
            "2023-04-21 02:40:55,220 epoch 78 - iter 77/79 - loss 0.30913398 - time (sec): 18.83 - samples/sec: 4879.52 - lr: 0.000000\n",
            "2023-04-21 02:40:55,822 ----------------------------------------------------------------------------------------------------\n",
            "2023-04-21 02:40:55,824 EPOCH 78 done: loss 0.3096 - lr 0.000000\n"
          ]
        },
        {
          "output_type": "stream",
          "name": "stderr",
          "text": [
            "100%|██████████| 79/79 [00:21<00:00,  3.68it/s]"
          ]
        },
        {
          "output_type": "stream",
          "name": "stdout",
          "text": [
            "2023-04-21 02:41:17,409 Evaluating as a multi-label problem: True\n"
          ]
        },
        {
          "output_type": "stream",
          "name": "stderr",
          "text": [
            "\n"
          ]
        },
        {
          "output_type": "stream",
          "name": "stdout",
          "text": [
            "2023-04-21 02:41:20,174 TRAIN : loss 0.2562538981437683 - f1-score (weighted avg)  0.3663\n"
          ]
        },
        {
          "output_type": "stream",
          "name": "stderr",
          "text": [
            "100%|██████████| 10/10 [00:02<00:00,  3.54it/s]"
          ]
        },
        {
          "output_type": "stream",
          "name": "stdout",
          "text": [
            "2023-04-21 02:41:23,078 Evaluating as a multi-label problem: False\n",
            "2023-04-21 02:41:23,147 DEV : loss 0.2746220827102661 - f1-score (weighted avg)  0.3482\n",
            "2023-04-21 02:41:23,156 BAD EPOCHS (no improvement): 1\n",
            "2023-04-21 02:41:23,160 ----------------------------------------------------------------------------------------------------\n"
          ]
        },
        {
          "output_type": "stream",
          "name": "stderr",
          "text": [
            "\n"
          ]
        },
        {
          "output_type": "stream",
          "name": "stdout",
          "text": [
            "2023-04-21 02:41:25,096 epoch 79 - iter 7/79 - loss 0.30979849 - time (sec): 1.93 - samples/sec: 4087.35 - lr: 0.000000\n",
            "2023-04-21 02:41:26,710 epoch 79 - iter 14/79 - loss 0.32468243 - time (sec): 3.55 - samples/sec: 4385.92 - lr: 0.000000\n",
            "2023-04-21 02:41:28,401 epoch 79 - iter 21/79 - loss 0.31841748 - time (sec): 5.24 - samples/sec: 4637.99 - lr: 0.000000\n",
            "2023-04-21 02:41:30,742 epoch 79 - iter 28/79 - loss 0.31082022 - time (sec): 7.58 - samples/sec: 4436.22 - lr: 0.000000\n",
            "2023-04-21 02:41:32,784 epoch 79 - iter 35/79 - loss 0.31696433 - time (sec): 9.62 - samples/sec: 4343.58 - lr: 0.000000\n",
            "2023-04-21 02:41:34,164 epoch 79 - iter 42/79 - loss 0.31757769 - time (sec): 11.00 - samples/sec: 4547.68 - lr: 0.000000\n",
            "2023-04-21 02:41:35,839 epoch 79 - iter 49/79 - loss 0.31714125 - time (sec): 12.68 - samples/sec: 4555.90 - lr: 0.000000\n",
            "2023-04-21 02:41:37,644 epoch 79 - iter 56/79 - loss 0.31914081 - time (sec): 14.48 - samples/sec: 4644.24 - lr: 0.000000\n",
            "2023-04-21 02:41:39,255 epoch 79 - iter 63/79 - loss 0.31596874 - time (sec): 16.09 - samples/sec: 4694.67 - lr: 0.000000\n",
            "2023-04-21 02:41:40,851 epoch 79 - iter 70/79 - loss 0.31647597 - time (sec): 17.69 - samples/sec: 4719.26 - lr: 0.000000\n",
            "2023-04-21 02:41:42,797 epoch 79 - iter 77/79 - loss 0.31395945 - time (sec): 19.63 - samples/sec: 4709.10 - lr: 0.000000\n",
            "2023-04-21 02:41:43,298 ----------------------------------------------------------------------------------------------------\n",
            "2023-04-21 02:41:43,300 EPOCH 79 done: loss 0.3154 - lr 0.000000\n"
          ]
        },
        {
          "output_type": "stream",
          "name": "stderr",
          "text": [
            "100%|██████████| 79/79 [00:21<00:00,  3.69it/s]\n"
          ]
        },
        {
          "output_type": "stream",
          "name": "stdout",
          "text": [
            "2023-04-21 02:42:06,092 Evaluating as a multi-label problem: True\n",
            "2023-04-21 02:42:08,874 TRAIN : loss 0.25624752044677734 - f1-score (weighted avg)  0.3663\n"
          ]
        },
        {
          "output_type": "stream",
          "name": "stderr",
          "text": [
            "100%|██████████| 10/10 [00:02<00:00,  3.68it/s]"
          ]
        },
        {
          "output_type": "stream",
          "name": "stdout",
          "text": [
            "2023-04-21 02:42:11,675 Evaluating as a multi-label problem: False\n",
            "2023-04-21 02:42:11,743 DEV : loss 0.27461931109428406 - f1-score (weighted avg)  0.3482\n",
            "2023-04-21 02:42:11,753 Epoch    79: reducing learning rate of group 0 to 1.9073e-07.\n",
            "2023-04-21 02:42:11,755 BAD EPOCHS (no improvement): 2\n",
            "2023-04-21 02:42:11,758 ----------------------------------------------------------------------------------------------------\n"
          ]
        },
        {
          "output_type": "stream",
          "name": "stderr",
          "text": [
            "\n"
          ]
        },
        {
          "output_type": "stream",
          "name": "stdout",
          "text": [
            "2023-04-21 02:42:13,312 epoch 80 - iter 7/79 - loss 0.29802553 - time (sec): 1.55 - samples/sec: 4975.93 - lr: 0.000000\n",
            "2023-04-21 02:42:14,913 epoch 80 - iter 14/79 - loss 0.29320941 - time (sec): 3.15 - samples/sec: 5178.30 - lr: 0.000000\n",
            "2023-04-21 02:42:16,568 epoch 80 - iter 21/79 - loss 0.29390605 - time (sec): 4.81 - samples/sec: 5152.77 - lr: 0.000000\n",
            "2023-04-21 02:42:18,645 epoch 80 - iter 28/79 - loss 0.31151413 - time (sec): 6.88 - samples/sec: 4889.65 - lr: 0.000000\n",
            "2023-04-21 02:42:20,909 epoch 80 - iter 35/79 - loss 0.30379914 - time (sec): 9.15 - samples/sec: 4725.31 - lr: 0.000000\n",
            "2023-04-21 02:42:22,593 epoch 80 - iter 42/79 - loss 0.31088619 - time (sec): 10.83 - samples/sec: 4745.77 - lr: 0.000000\n",
            "2023-04-21 02:42:24,080 epoch 80 - iter 49/79 - loss 0.31277958 - time (sec): 12.32 - samples/sec: 4777.24 - lr: 0.000000\n",
            "2023-04-21 02:42:25,976 epoch 80 - iter 56/79 - loss 0.30957043 - time (sec): 14.22 - samples/sec: 4764.07 - lr: 0.000000\n",
            "2023-04-21 02:42:27,463 epoch 80 - iter 63/79 - loss 0.31019791 - time (sec): 15.70 - samples/sec: 4819.01 - lr: 0.000000\n",
            "2023-04-21 02:42:29,101 epoch 80 - iter 70/79 - loss 0.30998745 - time (sec): 17.34 - samples/sec: 4850.09 - lr: 0.000000\n",
            "2023-04-21 02:42:30,837 epoch 80 - iter 77/79 - loss 0.31266391 - time (sec): 19.08 - samples/sec: 4822.38 - lr: 0.000000\n",
            "2023-04-21 02:42:31,380 ----------------------------------------------------------------------------------------------------\n",
            "2023-04-21 02:42:31,382 EPOCH 80 done: loss 0.3114 - lr 0.000000\n"
          ]
        },
        {
          "output_type": "stream",
          "name": "stderr",
          "text": [
            "100%|██████████| 79/79 [00:21<00:00,  3.67it/s]"
          ]
        },
        {
          "output_type": "stream",
          "name": "stdout",
          "text": [
            "2023-04-21 02:42:53,067 Evaluating as a multi-label problem: True\n"
          ]
        },
        {
          "output_type": "stream",
          "name": "stderr",
          "text": [
            "\n"
          ]
        },
        {
          "output_type": "stream",
          "name": "stdout",
          "text": [
            "2023-04-21 02:42:55,855 TRAIN : loss 0.25624772906303406 - f1-score (weighted avg)  0.3663\n"
          ]
        },
        {
          "output_type": "stream",
          "name": "stderr",
          "text": [
            "100%|██████████| 10/10 [00:03<00:00,  2.54it/s]"
          ]
        },
        {
          "output_type": "stream",
          "name": "stdout",
          "text": [
            "2023-04-21 02:42:59,870 Evaluating as a multi-label problem: False\n",
            "2023-04-21 02:42:59,939 DEV : loss 0.2746177911758423 - f1-score (weighted avg)  0.3482\n",
            "2023-04-21 02:42:59,949 BAD EPOCHS (no improvement): 1\n",
            "2023-04-21 02:42:59,954 ----------------------------------------------------------------------------------------------------\n"
          ]
        },
        {
          "output_type": "stream",
          "name": "stderr",
          "text": [
            "\n"
          ]
        },
        {
          "output_type": "stream",
          "name": "stdout",
          "text": [
            "2023-04-21 02:43:01,561 epoch 81 - iter 7/79 - loss 0.38487926 - time (sec): 1.61 - samples/sec: 4999.96 - lr: 0.000000\n",
            "2023-04-21 02:43:03,130 epoch 81 - iter 14/79 - loss 0.35350619 - time (sec): 3.18 - samples/sec: 5083.71 - lr: 0.000000\n",
            "2023-04-21 02:43:04,816 epoch 81 - iter 21/79 - loss 0.34742510 - time (sec): 4.86 - samples/sec: 5023.37 - lr: 0.000000\n",
            "2023-04-21 02:43:06,437 epoch 81 - iter 28/79 - loss 0.33358222 - time (sec): 6.48 - samples/sec: 4903.79 - lr: 0.000000\n",
            "2023-04-21 02:43:08,497 epoch 81 - iter 35/79 - loss 0.32298966 - time (sec): 8.54 - samples/sec: 4736.60 - lr: 0.000000\n",
            "2023-04-21 02:43:10,050 epoch 81 - iter 42/79 - loss 0.31859140 - time (sec): 10.09 - samples/sec: 4904.88 - lr: 0.000000\n",
            "2023-04-21 02:43:12,190 epoch 81 - iter 49/79 - loss 0.31203681 - time (sec): 12.23 - samples/sec: 4772.76 - lr: 0.000000\n",
            "2023-04-21 02:43:13,986 epoch 81 - iter 56/79 - loss 0.31143965 - time (sec): 14.03 - samples/sec: 4760.64 - lr: 0.000000\n",
            "2023-04-21 02:43:15,493 epoch 81 - iter 63/79 - loss 0.31093844 - time (sec): 15.54 - samples/sec: 4831.55 - lr: 0.000000\n",
            "2023-04-21 02:43:17,808 epoch 81 - iter 70/79 - loss 0.32115110 - time (sec): 17.85 - samples/sec: 4687.28 - lr: 0.000000\n",
            "2023-04-21 02:43:19,463 epoch 81 - iter 77/79 - loss 0.31932231 - time (sec): 19.51 - samples/sec: 4731.94 - lr: 0.000000\n",
            "2023-04-21 02:43:19,862 ----------------------------------------------------------------------------------------------------\n",
            "2023-04-21 02:43:19,864 EPOCH 81 done: loss 0.3178 - lr 0.000000\n"
          ]
        },
        {
          "output_type": "stream",
          "name": "stderr",
          "text": [
            "100%|██████████| 79/79 [00:21<00:00,  3.68it/s]"
          ]
        },
        {
          "output_type": "stream",
          "name": "stdout",
          "text": [
            "2023-04-21 02:43:41,457 Evaluating as a multi-label problem: True\n"
          ]
        },
        {
          "output_type": "stream",
          "name": "stderr",
          "text": [
            "\n"
          ]
        },
        {
          "output_type": "stream",
          "name": "stdout",
          "text": [
            "2023-04-21 02:43:44,239 TRAIN : loss 0.2562499940395355 - f1-score (weighted avg)  0.3663\n"
          ]
        },
        {
          "output_type": "stream",
          "name": "stderr",
          "text": [
            "100%|██████████| 10/10 [00:02<00:00,  3.63it/s]"
          ]
        },
        {
          "output_type": "stream",
          "name": "stdout",
          "text": [
            "2023-04-21 02:43:47,075 Evaluating as a multi-label problem: False\n",
            "2023-04-21 02:43:47,143 DEV : loss 0.2746165692806244 - f1-score (weighted avg)  0.3482\n",
            "2023-04-21 02:43:47,153 Epoch    81: reducing learning rate of group 0 to 9.5367e-08.\n",
            "2023-04-21 02:43:47,155 BAD EPOCHS (no improvement): 2\n",
            "2023-04-21 02:43:47,158 ----------------------------------------------------------------------------------------------------\n"
          ]
        },
        {
          "output_type": "stream",
          "name": "stderr",
          "text": [
            "\n"
          ]
        },
        {
          "output_type": "stream",
          "name": "stdout",
          "text": [
            "2023-04-21 02:43:48,855 epoch 82 - iter 7/79 - loss 0.31936353 - time (sec): 1.70 - samples/sec: 4990.52 - lr: 0.000000\n",
            "2023-04-21 02:43:50,478 epoch 82 - iter 14/79 - loss 0.35005382 - time (sec): 3.32 - samples/sec: 5106.32 - lr: 0.000000\n",
            "2023-04-21 02:43:52,642 epoch 82 - iter 21/79 - loss 0.33954642 - time (sec): 5.48 - samples/sec: 4697.06 - lr: 0.000000\n",
            "2023-04-21 02:43:54,127 epoch 82 - iter 28/79 - loss 0.33749506 - time (sec): 6.97 - samples/sec: 4788.63 - lr: 0.000000\n",
            "2023-04-21 02:43:56,434 epoch 82 - iter 35/79 - loss 0.33622239 - time (sec): 9.27 - samples/sec: 4656.02 - lr: 0.000000\n",
            "2023-04-21 02:43:57,973 epoch 82 - iter 42/79 - loss 0.33240163 - time (sec): 10.81 - samples/sec: 4734.35 - lr: 0.000000\n",
            "2023-04-21 02:43:59,673 epoch 82 - iter 49/79 - loss 0.33072770 - time (sec): 12.51 - samples/sec: 4690.74 - lr: 0.000000\n",
            "2023-04-21 02:44:01,340 epoch 82 - iter 56/79 - loss 0.32405938 - time (sec): 14.18 - samples/sec: 4734.74 - lr: 0.000000\n",
            "2023-04-21 02:44:03,329 epoch 82 - iter 63/79 - loss 0.31992369 - time (sec): 16.17 - samples/sec: 4639.07 - lr: 0.000000\n",
            "2023-04-21 02:44:04,950 epoch 82 - iter 70/79 - loss 0.31956574 - time (sec): 17.79 - samples/sec: 4692.85 - lr: 0.000000\n",
            "2023-04-21 02:44:06,802 epoch 82 - iter 77/79 - loss 0.31738382 - time (sec): 19.64 - samples/sec: 4738.35 - lr: 0.000000\n",
            "2023-04-21 02:44:07,204 ----------------------------------------------------------------------------------------------------\n",
            "2023-04-21 02:44:07,206 EPOCH 82 done: loss 0.3159 - lr 0.000000\n"
          ]
        },
        {
          "output_type": "stream",
          "name": "stderr",
          "text": [
            "100%|██████████| 79/79 [00:21<00:00,  3.67it/s]\n"
          ]
        },
        {
          "output_type": "stream",
          "name": "stdout",
          "text": [
            "2023-04-21 02:44:30,117 Evaluating as a multi-label problem: True\n",
            "2023-04-21 02:44:32,885 TRAIN : loss 0.25624722242355347 - f1-score (weighted avg)  0.3664\n"
          ]
        },
        {
          "output_type": "stream",
          "name": "stderr",
          "text": [
            "100%|██████████| 10/10 [00:02<00:00,  3.65it/s]"
          ]
        },
        {
          "output_type": "stream",
          "name": "stdout",
          "text": [
            "2023-04-21 02:44:35,707 Evaluating as a multi-label problem: False\n",
            "2023-04-21 02:44:35,776 DEV : loss 0.2746174931526184 - f1-score (weighted avg)  0.3482\n",
            "2023-04-21 02:44:35,785 BAD EPOCHS (no improvement): 1\n",
            "2023-04-21 02:44:35,789 ----------------------------------------------------------------------------------------------------\n"
          ]
        },
        {
          "output_type": "stream",
          "name": "stderr",
          "text": [
            "\n"
          ]
        },
        {
          "output_type": "stream",
          "name": "stdout",
          "text": [
            "2023-04-21 02:44:37,488 epoch 83 - iter 7/79 - loss 0.33052089 - time (sec): 1.70 - samples/sec: 4669.82 - lr: 0.000000\n",
            "2023-04-21 02:44:39,289 epoch 83 - iter 14/79 - loss 0.33757182 - time (sec): 3.50 - samples/sec: 4764.01 - lr: 0.000000\n",
            "2023-04-21 02:44:40,981 epoch 83 - iter 21/79 - loss 0.33439144 - time (sec): 5.19 - samples/sec: 4778.39 - lr: 0.000000\n",
            "2023-04-21 02:44:42,426 epoch 83 - iter 28/79 - loss 0.32940702 - time (sec): 6.64 - samples/sec: 5016.50 - lr: 0.000000\n",
            "2023-04-21 02:44:44,082 epoch 83 - iter 35/79 - loss 0.32783982 - time (sec): 8.29 - samples/sec: 5058.55 - lr: 0.000000\n",
            "2023-04-21 02:44:45,896 epoch 83 - iter 42/79 - loss 0.32725820 - time (sec): 10.11 - samples/sec: 4911.21 - lr: 0.000000\n",
            "2023-04-21 02:44:47,870 epoch 83 - iter 49/79 - loss 0.32588024 - time (sec): 12.08 - samples/sec: 4799.73 - lr: 0.000000\n",
            "2023-04-21 02:44:49,409 epoch 83 - iter 56/79 - loss 0.32280332 - time (sec): 13.62 - samples/sec: 4882.96 - lr: 0.000000\n",
            "2023-04-21 02:44:50,908 epoch 83 - iter 63/79 - loss 0.32144962 - time (sec): 15.12 - samples/sec: 4891.59 - lr: 0.000000\n",
            "2023-04-21 02:44:53,426 epoch 83 - iter 70/79 - loss 0.31943243 - time (sec): 17.64 - samples/sec: 4759.44 - lr: 0.000000\n",
            "2023-04-21 02:44:55,392 epoch 83 - iter 77/79 - loss 0.31476333 - time (sec): 19.60 - samples/sec: 4703.44 - lr: 0.000000\n",
            "2023-04-21 02:44:55,795 ----------------------------------------------------------------------------------------------------\n",
            "2023-04-21 02:44:55,797 EPOCH 83 done: loss 0.3147 - lr 0.000000\n"
          ]
        },
        {
          "output_type": "stream",
          "name": "stderr",
          "text": [
            "100%|██████████| 79/79 [00:21<00:00,  3.68it/s]"
          ]
        },
        {
          "output_type": "stream",
          "name": "stdout",
          "text": [
            "2023-04-21 02:45:17,382 Evaluating as a multi-label problem: True\n"
          ]
        },
        {
          "output_type": "stream",
          "name": "stderr",
          "text": [
            "\n"
          ]
        },
        {
          "output_type": "stream",
          "name": "stdout",
          "text": [
            "2023-04-21 02:45:20,171 TRAIN : loss 0.25624778866767883 - f1-score (weighted avg)  0.3663\n"
          ]
        },
        {
          "output_type": "stream",
          "name": "stderr",
          "text": [
            "100%|██████████| 10/10 [00:03<00:00,  2.55it/s]"
          ]
        },
        {
          "output_type": "stream",
          "name": "stdout",
          "text": [
            "2023-04-21 02:45:24,169 Evaluating as a multi-label problem: False\n",
            "2023-04-21 02:45:24,238 DEV : loss 0.27461808919906616 - f1-score (weighted avg)  0.3482\n",
            "2023-04-21 02:45:24,248 Epoch    83: reducing learning rate of group 0 to 4.7684e-08.\n",
            "2023-04-21 02:45:24,250 BAD EPOCHS (no improvement): 2\n",
            "2023-04-21 02:45:24,254 ----------------------------------------------------------------------------------------------------\n"
          ]
        },
        {
          "output_type": "stream",
          "name": "stderr",
          "text": [
            "\n"
          ]
        },
        {
          "output_type": "stream",
          "name": "stdout",
          "text": [
            "2023-04-21 02:45:26,079 epoch 84 - iter 7/79 - loss 0.30358435 - time (sec): 1.82 - samples/sec: 3884.88 - lr: 0.000000\n",
            "2023-04-21 02:45:27,888 epoch 84 - iter 14/79 - loss 0.30278594 - time (sec): 3.63 - samples/sec: 4150.26 - lr: 0.000000\n",
            "2023-04-21 02:45:29,678 epoch 84 - iter 21/79 - loss 0.29862481 - time (sec): 5.42 - samples/sec: 4521.52 - lr: 0.000000\n",
            "2023-04-21 02:45:31,598 epoch 84 - iter 28/79 - loss 0.29734640 - time (sec): 7.34 - samples/sec: 4596.80 - lr: 0.000000\n",
            "2023-04-21 02:45:33,097 epoch 84 - iter 35/79 - loss 0.28867990 - time (sec): 8.84 - samples/sec: 4742.54 - lr: 0.000000\n",
            "2023-04-21 02:45:35,326 epoch 84 - iter 42/79 - loss 0.28760586 - time (sec): 11.07 - samples/sec: 4503.59 - lr: 0.000000\n",
            "2023-04-21 02:45:37,235 epoch 84 - iter 49/79 - loss 0.30227545 - time (sec): 12.98 - samples/sec: 4535.02 - lr: 0.000000\n",
            "2023-04-21 02:45:38,596 epoch 84 - iter 56/79 - loss 0.30995309 - time (sec): 14.34 - samples/sec: 4608.78 - lr: 0.000000\n",
            "2023-04-21 02:45:40,238 epoch 84 - iter 63/79 - loss 0.31030017 - time (sec): 15.98 - samples/sec: 4644.78 - lr: 0.000000\n",
            "2023-04-21 02:45:42,088 epoch 84 - iter 70/79 - loss 0.30829903 - time (sec): 17.83 - samples/sec: 4677.31 - lr: 0.000000\n",
            "2023-04-21 02:45:43,845 epoch 84 - iter 77/79 - loss 0.31438524 - time (sec): 19.59 - samples/sec: 4724.84 - lr: 0.000000\n",
            "2023-04-21 02:45:44,282 ----------------------------------------------------------------------------------------------------\n",
            "2023-04-21 02:45:44,284 EPOCH 84 done: loss 0.3140 - lr 0.000000\n"
          ]
        },
        {
          "output_type": "stream",
          "name": "stderr",
          "text": [
            "100%|██████████| 79/79 [00:21<00:00,  3.68it/s]"
          ]
        },
        {
          "output_type": "stream",
          "name": "stdout",
          "text": [
            "2023-04-21 02:46:05,881 Evaluating as a multi-label problem: True\n"
          ]
        },
        {
          "output_type": "stream",
          "name": "stderr",
          "text": [
            "\n"
          ]
        },
        {
          "output_type": "stream",
          "name": "stdout",
          "text": [
            "2023-04-21 02:46:08,651 TRAIN : loss 0.25624674558639526 - f1-score (weighted avg)  0.3663\n"
          ]
        },
        {
          "output_type": "stream",
          "name": "stderr",
          "text": [
            "100%|██████████| 10/10 [00:02<00:00,  3.66it/s]"
          ]
        },
        {
          "output_type": "stream",
          "name": "stdout",
          "text": [
            "2023-04-21 02:46:11,462 Evaluating as a multi-label problem: False\n",
            "2023-04-21 02:46:11,530 DEV : loss 0.27461931109428406 - f1-score (weighted avg)  0.3482\n",
            "2023-04-21 02:46:11,541 BAD EPOCHS (no improvement): 1\n",
            "2023-04-21 02:46:11,545 ----------------------------------------------------------------------------------------------------\n"
          ]
        },
        {
          "output_type": "stream",
          "name": "stderr",
          "text": [
            "\n"
          ]
        },
        {
          "output_type": "stream",
          "name": "stdout",
          "text": [
            "2023-04-21 02:46:13,093 epoch 85 - iter 7/79 - loss 0.33520194 - time (sec): 1.55 - samples/sec: 5536.54 - lr: 0.000000\n",
            "2023-04-21 02:46:14,898 epoch 85 - iter 14/79 - loss 0.33105697 - time (sec): 3.35 - samples/sec: 5097.75 - lr: 0.000000\n",
            "2023-04-21 02:46:16,680 epoch 85 - iter 21/79 - loss 0.31566206 - time (sec): 5.13 - samples/sec: 4923.43 - lr: 0.000000\n",
            "2023-04-21 02:46:18,346 epoch 85 - iter 28/79 - loss 0.30879253 - time (sec): 6.80 - samples/sec: 4909.62 - lr: 0.000000\n",
            "2023-04-21 02:46:20,141 epoch 85 - iter 35/79 - loss 0.31414794 - time (sec): 8.59 - samples/sec: 4831.16 - lr: 0.000000\n",
            "2023-04-21 02:46:22,238 epoch 85 - iter 42/79 - loss 0.31425041 - time (sec): 10.69 - samples/sec: 4663.34 - lr: 0.000000\n",
            "2023-04-21 02:46:23,883 epoch 85 - iter 49/79 - loss 0.31711686 - time (sec): 12.34 - samples/sec: 4725.99 - lr: 0.000000\n",
            "2023-04-21 02:46:25,382 epoch 85 - iter 56/79 - loss 0.31341859 - time (sec): 13.84 - samples/sec: 4760.27 - lr: 0.000000\n",
            "2023-04-21 02:46:27,516 epoch 85 - iter 63/79 - loss 0.30979050 - time (sec): 15.97 - samples/sec: 4741.06 - lr: 0.000000\n",
            "2023-04-21 02:46:29,142 epoch 85 - iter 70/79 - loss 0.31259852 - time (sec): 17.60 - samples/sec: 4767.90 - lr: 0.000000\n",
            "2023-04-21 02:46:31,234 epoch 85 - iter 77/79 - loss 0.31162778 - time (sec): 19.69 - samples/sec: 4728.16 - lr: 0.000000\n",
            "2023-04-21 02:46:31,574 ----------------------------------------------------------------------------------------------------\n",
            "2023-04-21 02:46:31,576 EPOCH 85 done: loss 0.3123 - lr 0.000000\n"
          ]
        },
        {
          "output_type": "stream",
          "name": "stderr",
          "text": [
            "100%|██████████| 79/79 [00:21<00:00,  3.66it/s]\n"
          ]
        },
        {
          "output_type": "stream",
          "name": "stdout",
          "text": [
            "2023-04-21 02:46:54,515 Evaluating as a multi-label problem: True\n",
            "2023-04-21 02:46:57,310 TRAIN : loss 0.25624755024909973 - f1-score (weighted avg)  0.3663\n"
          ]
        },
        {
          "output_type": "stream",
          "name": "stderr",
          "text": [
            "100%|██████████| 10/10 [00:02<00:00,  3.57it/s]"
          ]
        },
        {
          "output_type": "stream",
          "name": "stdout",
          "text": [
            "2023-04-21 02:47:00,195 Evaluating as a multi-label problem: False\n",
            "2023-04-21 02:47:00,263 DEV : loss 0.27462145686149597 - f1-score (weighted avg)  0.3482\n",
            "2023-04-21 02:47:00,273 Epoch    85: reducing learning rate of group 0 to 2.3842e-08.\n",
            "2023-04-21 02:47:00,275 BAD EPOCHS (no improvement): 2\n",
            "2023-04-21 02:47:00,278 ----------------------------------------------------------------------------------------------------\n",
            "2023-04-21 02:47:00,280 ----------------------------------------------------------------------------------------------------\n",
            "2023-04-21 02:47:00,281 learning rate too small - quitting training!\n",
            "2023-04-21 02:47:00,283 ----------------------------------------------------------------------------------------------------\n"
          ]
        },
        {
          "output_type": "stream",
          "name": "stderr",
          "text": [
            "\n"
          ]
        },
        {
          "output_type": "stream",
          "name": "stdout",
          "text": [
            "2023-04-21 02:47:02,503 ----------------------------------------------------------------------------------------------------\n",
            "2023-04-21 02:47:04,444 SequenceTagger predicts: Dictionary with 24 tags: <unk>, O, I-ADR, E-ADR, B-ADR, S-ADR, S-Drug, B-Finding, E-Finding, I-Finding, B-Disease, E-Disease, E-Symptom, S-Disease, S-Symptom, E-Drug, B-Symptom, B-Drug, S-Finding, I-Symptom, I-Drug, I-Disease, <START>, <STOP>\n"
          ]
        },
        {
          "output_type": "stream",
          "name": "stderr",
          "text": [
            "100%|██████████| 10/10 [00:03<00:00,  2.67it/s]"
          ]
        },
        {
          "output_type": "stream",
          "name": "stdout",
          "text": [
            "2023-04-21 02:47:08,576 Evaluating as a multi-label problem: True\n"
          ]
        },
        {
          "output_type": "stream",
          "name": "stderr",
          "text": [
            "\n"
          ]
        },
        {
          "output_type": "stream",
          "name": "stdout",
          "text": [
            "2023-04-21 02:47:08,925 0.5188\t0.3469\t0.4158\t0.8665\n",
            "2023-04-21 02:47:08,927 \n",
            "Results:\n",
            "- F-score (micro) 0.4158\n",
            "- F-score (macro) 0.1152\n",
            "- Accuracy 0.8665\n",
            "\n",
            "By class:\n",
            "              precision    recall  f1-score   support\n",
            "\n",
            "       E-ADR     0.5361    0.5045    0.5198       442\n",
            "       I-ADR     0.2555    0.1543    0.1924       525\n",
            "       B-ADR     0.5361    0.5335    0.5348       418\n",
            "      S-Drug     0.9400    0.7344    0.8246       192\n",
            "       S-ADR     0.7097    0.1392    0.2328       158\n",
            "   S-Finding     0.0000    0.0000    0.0000        28\n",
            "   E-Finding     0.0000    0.0000    0.0000        27\n",
            "      B-Drug     0.0000    0.0000    0.0000        27\n",
            "      E-Drug     0.0000    0.0000    0.0000        27\n",
            "      I-Drug     0.0000    0.0000    0.0000        25\n",
            "   B-Finding     0.0000    0.0000    0.0000        24\n",
            "   I-Symptom     0.0000    0.0000    0.0000        20\n",
            "   B-Symptom     0.0000    0.0000    0.0000        13\n",
            "   E-Symptom     0.0000    0.0000    0.0000        13\n",
            "   S-Disease     0.0000    0.0000    0.0000        12\n",
            "   E-Disease     0.0000    0.0000    0.0000         9\n",
            "   I-Finding     0.0000    0.0000    0.0000         9\n",
            "   S-Symptom     0.0000    0.0000    0.0000         9\n",
            "   B-Disease     0.0000    0.0000    0.0000         8\n",
            "   I-Disease     0.0000    0.0000    0.0000         3\n",
            "\n",
            "   micro avg     0.5188    0.3469    0.4158      1989\n",
            "   macro avg     0.1489    0.1033    0.1152      1989\n",
            "weighted avg     0.4463    0.3469    0.3768      1989\n",
            " samples avg     0.0583    0.0583    0.0583      1989\n",
            "\n",
            "2023-04-21 02:47:08,928 ----------------------------------------------------------------------------------------------------\n"
          ]
        }
      ],
      "source": [
        "hist = trainer.train('flair_ner_model'+suf,\n",
        "              embeddings_storage_mode='gpu',\n",
        "              gold_label_dictionary_for_eval=tag_dictionary,\n",
        "              mini_batch_size = 12,\n",
        "              eval_batch_size = 12,\n",
        "              patience=1,\n",
        "              anneal_factor = 0.5,\n",
        "              anneal_against_dev_loss=True,\n",
        "              main_evaluation_metric = (\"weighted avg\", \"f1-score\"),\n",
        "              metrics_for_tensorboard=[(\"weighted avg\", 'precision'), (\"weighted avg\", 'recall'), (\"macro avg\", 'f1-score'), (\"macro avg\", 'precision'), (\"macro avg\", 'recall')],\n",
        "              use_tensorboard=True,\n",
        "              tensorboard_comment='Flair NER',\n",
        "              tensorboard_log_dir='runs/tb_logs'+suf,\n",
        "              min_learning_rate=3e-8,\n",
        "              optimizer=AdamW,\n",
        "              learning_rate=1e-1,\n",
        "              weight_decay=0.001,\n",
        "              max_epochs=100,\n",
        "              monitor_train=True,\n",
        "              save_optimizer_state=True,)\n",
        "# hist"
      ]
    },
    {
      "cell_type": "code",
      "execution_count": 16,
      "metadata": {
        "id": "ExiLRreqXsDJ"
      },
      "outputs": [],
      "source": [
        "# print(hist.keys())\n",
        "# hist"
      ]
    },
    {
      "cell_type": "code",
      "execution_count": 25,
      "metadata": {
        "colab": {
          "base_uri": "https://localhost:8080/",
          "height": 1000
        },
        "id": "P5Uu5qkN0pia",
        "outputId": "2034761a-2bdf-4478-db4b-1499af64bd51"
      },
      "outputs": [
        {
          "output_type": "stream",
          "name": "stdout",
          "text": [
            "_v2\n",
            "2023-04-21 02:48:20,350 ----------------------------------------------------------------------------------------------------\n",
            "2023-04-21 02:48:20,351 WARNING: No LOSS found for test split in this data.\n",
            "2023-04-21 02:48:20,352 Are you sure you want to plot LOSS and not another value?\n",
            "2023-04-21 02:48:20,353 ----------------------------------------------------------------------------------------------------\n",
            "2023-04-21 02:48:20,375 ----------------------------------------------------------------------------------------------------\n",
            "2023-04-21 02:48:20,376 WARNING: No F1 found for test split in this data.\n",
            "2023-04-21 02:48:20,377 Are you sure you want to plot F1 and not another value?\n",
            "2023-04-21 02:48:20,378 ----------------------------------------------------------------------------------------------------\n",
            "2023-04-21 02:48:21,430 Loss and F1 plots are saved in flair_ner_model_v2/training.png\n"
          ]
        },
        {
          "output_type": "display_data",
          "data": {
            "text/plain": [
              "<Figure size 1500x1000 with 2 Axes>"
            ],
            "image/png": "[encoded data removed]"
          },
          "metadata": {}
        },
        {
          "output_type": "stream",
          "name": "stderr",
          "text": [
            "100%|██████████| 79/79 [00:32<00:00,  2.45it/s]"
          ]
        },
        {
          "output_type": "stream",
          "name": "stdout",
          "text": [
            "2023-04-21 02:48:54,085 Evaluating as a multi-label problem: True\n"
          ]
        },
        {
          "output_type": "stream",
          "name": "stderr",
          "text": [
            "\n",
            "100%|██████████| 10/10 [00:02<00:00,  3.83it/s]"
          ]
        },
        {
          "output_type": "stream",
          "name": "stdout",
          "text": [
            "2023-04-21 02:48:59,516 Evaluating as a multi-label problem: False\n"
          ]
        },
        {
          "output_type": "stream",
          "name": "stderr",
          "text": [
            "\n",
            "100%|██████████| 10/10 [00:04<00:00,  2.24it/s]"
          ]
        },
        {
          "output_type": "stream",
          "name": "stdout",
          "text": [
            "2023-04-21 02:49:04,081 Evaluating as a multi-label problem: True\n"
          ]
        },
        {
          "output_type": "stream",
          "name": "stderr",
          "text": [
            "\n"
          ]
        },
        {
          "output_type": "execute_result",
          "data": {
            "text/plain": [
              "    split      index        E-ADR        I-ADR        B-ADR       S-Drug  \\\n",
              "0   train  precision     0.523926     0.314389     0.511125     0.953757   \n",
              "1   train     recall     0.490302     0.156664     0.500746     0.769829   \n",
              "2   train   f1-score     0.506557     0.209121     0.505882     0.851979   \n",
              "3   train    support  3506.000000  4449.000000  3349.000000  1286.000000   \n",
              "4     dev  precision     0.505643     0.252280     0.485327     0.919463   \n",
              "5     dev     recall     0.498886     0.160542     0.486425     0.835366   \n",
              "6     dev   f1-score     0.502242     0.196217     0.485876     0.875399   \n",
              "7     dev    support   449.000000   517.000000   442.000000   164.000000   \n",
              "8    test  precision     0.536058     0.255521     0.536058     0.940000   \n",
              "9    test     recall     0.504525     0.154286     0.533493     0.734375   \n",
              "10   test   f1-score     0.519814     0.192399     0.534772     0.824561   \n",
              "11   test    support   442.000000   525.000000   418.000000   192.000000   \n",
              "\n",
              "          S-ADR  B-Finding  E-Finding  I-Finding  ...      B-Drug  B-Symptom  \\\n",
              "0      0.542763        0.0        0.0        0.0  ...    1.000000        0.0   \n",
              "1      0.121056        0.0        0.0        0.0  ...    0.009091        0.0   \n",
              "2      0.197960        0.0        0.0        0.0  ...    0.018018        0.0   \n",
              "3   1363.000000      200.0      200.0      149.0  ...  110.000000      110.0   \n",
              "4      0.500000        0.0        0.0        0.0  ...    0.000000        0.0   \n",
              "5      0.062201        0.0        0.0        0.0  ...    0.000000        0.0   \n",
              "6      0.110638        0.0        0.0        0.0  ...    0.000000        0.0   \n",
              "7    209.000000       39.0       34.0       20.0  ...   20.000000       12.0   \n",
              "8      0.709677        0.0        0.0        0.0  ...    0.000000        0.0   \n",
              "9      0.139241        0.0        0.0        0.0  ...    0.000000        0.0   \n",
              "10     0.232804        0.0        0.0        0.0  ...    0.000000        0.0   \n",
              "11   158.000000       24.0       27.0        9.0  ...   27.000000       13.0   \n",
              "\n",
              "    S-Finding  I-Symptom  I-Drug  I-Disease     micro avg     macro avg  \\\n",
              "0         0.0        0.0     0.0        0.0      0.518621      0.242298   \n",
              "1         0.0        0.0     0.0        0.0      0.333927      0.102835   \n",
              "2         0.0        0.0     0.0        0.0      0.406268      0.115369   \n",
              "3       109.0      104.0    50.0       50.0  15722.000000  15722.000000   \n",
              "4         0.0        0.0     0.0        0.0      0.483453      0.133136   \n",
              "5         0.0        0.0     0.0        0.0      0.325266      0.102171   \n",
              "6         0.0        0.0     0.0        0.0      0.388889      0.108519   \n",
              "7        25.0       23.0     7.0       13.0   2066.000000   2066.000000   \n",
              "8         0.0        0.0     0.0        0.0      0.518797      0.148866   \n",
              "9         0.0        0.0     0.0        0.0      0.346908      0.103296   \n",
              "10        0.0        0.0     0.0        0.0      0.415788      0.115218   \n",
              "11       28.0       20.0    25.0        3.0   1989.000000   1989.000000   \n",
              "\n",
              "    weighted avg   samples avg  \n",
              "0       0.453802      0.055397  \n",
              "1       0.333927      0.055360  \n",
              "2       0.367001      0.055373  \n",
              "3   15722.000000  15722.000000  \n",
              "4       0.400421           NaN  \n",
              "5       0.325266           NaN  \n",
              "6       0.342883           NaN  \n",
              "7    2066.000000           NaN  \n",
              "8       0.446338      0.058307  \n",
              "9       0.346908      0.058264  \n",
              "10      0.376773      0.058278  \n",
              "11   1989.000000   1989.000000  \n",
              "\n",
              "[12 rows x 26 columns]"
            ],
            "text/html": [
              "\n",
              "  <div id=\"df-928659cd-88bd-4ad8-a705-804c70c3defe\">\n",
              "    <div class=\"colab-df-container\">\n",
              "      <div>\n",
              "<style scoped>\n",
              "    .dataframe tbody tr th:only-of-type {\n",
              "        vertical-align: middle;\n",
              "    }\n",
              "\n",
              "    .dataframe tbody tr th {\n",
              "        vertical-align: top;\n",
              "    }\n",
              "\n",
              "    .dataframe thead th {\n",
              "        text-align: right;\n",
              "    }\n",
              "</style>\n",
              "<table border=\"1\" class=\"dataframe\">\n",
              "  <thead>\n",
              "    <tr style=\"text-align: right;\">\n",
              "      <th></th>\n",
              "      <th>split</th>\n",
              "      <th>index</th>\n",
              "      <th>E-ADR</th>\n",
              "      <th>I-ADR</th>\n",
              "      <th>B-ADR</th>\n",
              "      <th>S-Drug</th>\n",
              "      <th>S-ADR</th>\n",
              "      <th>B-Finding</th>\n",
              "      <th>E-Finding</th>\n",
              "      <th>I-Finding</th>\n",
              "      <th>...</th>\n",
              "      <th>B-Drug</th>\n",
              "      <th>B-Symptom</th>\n",
              "      <th>S-Finding</th>\n",
              "      <th>I-Symptom</th>\n",
              "      <th>I-Drug</th>\n",
              "      <th>I-Disease</th>\n",
              "      <th>micro avg</th>\n",
              "      <th>macro avg</th>\n",
              "      <th>weighted avg</th>\n",
              "      <th>samples avg</th>\n",
              "    </tr>\n",
              "  </thead>\n",
              "  <tbody>\n",
              "    <tr>\n",
              "      <th>0</th>\n",
              "      <td>train</td>\n",
              "      <td>precision</td>\n",
              "      <td>0.523926</td>\n",
              "      <td>0.314389</td>\n",
              "      <td>0.511125</td>\n",
              "      <td>0.953757</td>\n",
              "      <td>0.542763</td>\n",
              "      <td>0.0</td>\n",
              "      <td>0.0</td>\n",
              "      <td>0.0</td>\n",
              "      <td>...</td>\n",
              "      <td>1.000000</td>\n",
              "      <td>0.0</td>\n",
              "      <td>0.0</td>\n",
              "      <td>0.0</td>\n",
              "      <td>0.0</td>\n",
              "      <td>0.0</td>\n",
              "      <td>0.518621</td>\n",
              "      <td>0.242298</td>\n",
              "      <td>0.453802</td>\n",
              "      <td>0.055397</td>\n",
              "    </tr>\n",
              "    <tr>\n",
              "      <th>1</th>\n",
              "      <td>train</td>\n",
              "      <td>recall</td>\n",
              "      <td>0.490302</td>\n",
              "      <td>0.156664</td>\n",
              "      <td>0.500746</td>\n",
              "      <td>0.769829</td>\n",
              "      <td>0.121056</td>\n",
              "      <td>0.0</td>\n",
              "      <td>0.0</td>\n",
              "      <td>0.0</td>\n",
              "      <td>...</td>\n",
              "      <td>0.009091</td>\n",
              "      <td>0.0</td>\n",
              "      <td>0.0</td>\n",
              "      <td>0.0</td>\n",
              "      <td>0.0</td>\n",
              "      <td>0.0</td>\n",
              "      <td>0.333927</td>\n",
              "      <td>0.102835</td>\n",
              "      <td>0.333927</td>\n",
              "      <td>0.055360</td>\n",
              "    </tr>\n",
              "    <tr>\n",
              "      <th>2</th>\n",
              "      <td>train</td>\n",
              "      <td>f1-score</td>\n",
              "      <td>0.506557</td>\n",
              "      <td>0.209121</td>\n",
              "      <td>0.505882</td>\n",
              "      <td>0.851979</td>\n",
              "      <td>0.197960</td>\n",
              "      <td>0.0</td>\n",
              "      <td>0.0</td>\n",
              "      <td>0.0</td>\n",
              "      <td>...</td>\n",
              "      <td>0.018018</td>\n",
              "      <td>0.0</td>\n",
              "      <td>0.0</td>\n",
              "      <td>0.0</td>\n",
              "      <td>0.0</td>\n",
              "      <td>0.0</td>\n",
              "      <td>0.406268</td>\n",
              "      <td>0.115369</td>\n",
              "      <td>0.367001</td>\n",
              "      <td>0.055373</td>\n",
              "    </tr>\n",
              "    <tr>\n",
              "      <th>3</th>\n",
              "      <td>train</td>\n",
              "      <td>support</td>\n",
              "      <td>3506.000000</td>\n",
              "      <td>4449.000000</td>\n",
              "      <td>3349.000000</td>\n",
              "      <td>1286.000000</td>\n",
              "      <td>1363.000000</td>\n",
              "      <td>200.0</td>\n",
              "      <td>200.0</td>\n",
              "      <td>149.0</td>\n",
              "      <td>...</td>\n",
              "      <td>110.000000</td>\n",
              "      <td>110.0</td>\n",
              "      <td>109.0</td>\n",
              "      <td>104.0</td>\n",
              "      <td>50.0</td>\n",
              "      <td>50.0</td>\n",
              "      <td>15722.000000</td>\n",
              "      <td>15722.000000</td>\n",
              "      <td>15722.000000</td>\n",
              "      <td>15722.000000</td>\n",
              "    </tr>\n",
              "    <tr>\n",
              "      <th>4</th>\n",
              "      <td>dev</td>\n",
              "      <td>precision</td>\n",
              "      <td>0.505643</td>\n",
              "      <td>0.252280</td>\n",
              "      <td>0.485327</td>\n",
              "      <td>0.919463</td>\n",
              "      <td>0.500000</td>\n",
              "      <td>0.0</td>\n",
              "      <td>0.0</td>\n",
              "      <td>0.0</td>\n",
              "      <td>...</td>\n",
              "      <td>0.000000</td>\n",
              "      <td>0.0</td>\n",
              "      <td>0.0</td>\n",
              "      <td>0.0</td>\n",
              "      <td>0.0</td>\n",
              "      <td>0.0</td>\n",
              "      <td>0.483453</td>\n",
              "      <td>0.133136</td>\n",
              "      <td>0.400421</td>\n",
              "      <td>NaN</td>\n",
              "    </tr>\n",
              "    <tr>\n",
              "      <th>5</th>\n",
              "      <td>dev</td>\n",
              "      <td>recall</td>\n",
              "      <td>0.498886</td>\n",
              "      <td>0.160542</td>\n",
              "      <td>0.486425</td>\n",
              "      <td>0.835366</td>\n",
              "      <td>0.062201</td>\n",
              "      <td>0.0</td>\n",
              "      <td>0.0</td>\n",
              "      <td>0.0</td>\n",
              "      <td>...</td>\n",
              "      <td>0.000000</td>\n",
              "      <td>0.0</td>\n",
              "      <td>0.0</td>\n",
              "      <td>0.0</td>\n",
              "      <td>0.0</td>\n",
              "      <td>0.0</td>\n",
              "      <td>0.325266</td>\n",
              "      <td>0.102171</td>\n",
              "      <td>0.325266</td>\n",
              "      <td>NaN</td>\n",
              "    </tr>\n",
              "    <tr>\n",
              "      <th>6</th>\n",
              "      <td>dev</td>\n",
              "      <td>f1-score</td>\n",
              "      <td>0.502242</td>\n",
              "      <td>0.196217</td>\n",
              "      <td>0.485876</td>\n",
              "      <td>0.875399</td>\n",
              "      <td>0.110638</td>\n",
              "      <td>0.0</td>\n",
              "      <td>0.0</td>\n",
              "      <td>0.0</td>\n",
              "      <td>...</td>\n",
              "      <td>0.000000</td>\n",
              "      <td>0.0</td>\n",
              "      <td>0.0</td>\n",
              "      <td>0.0</td>\n",
              "      <td>0.0</td>\n",
              "      <td>0.0</td>\n",
              "      <td>0.388889</td>\n",
              "      <td>0.108519</td>\n",
              "      <td>0.342883</td>\n",
              "      <td>NaN</td>\n",
              "    </tr>\n",
              "    <tr>\n",
              "      <th>7</th>\n",
              "      <td>dev</td>\n",
              "      <td>support</td>\n",
              "      <td>449.000000</td>\n",
              "      <td>517.000000</td>\n",
              "      <td>442.000000</td>\n",
              "      <td>164.000000</td>\n",
              "      <td>209.000000</td>\n",
              "      <td>39.0</td>\n",
              "      <td>34.0</td>\n",
              "      <td>20.0</td>\n",
              "      <td>...</td>\n",
              "      <td>20.000000</td>\n",
              "      <td>12.0</td>\n",
              "      <td>25.0</td>\n",
              "      <td>23.0</td>\n",
              "      <td>7.0</td>\n",
              "      <td>13.0</td>\n",
              "      <td>2066.000000</td>\n",
              "      <td>2066.000000</td>\n",
              "      <td>2066.000000</td>\n",
              "      <td>NaN</td>\n",
              "    </tr>\n",
              "    <tr>\n",
              "      <th>8</th>\n",
              "      <td>test</td>\n",
              "      <td>precision</td>\n",
              "      <td>0.536058</td>\n",
              "      <td>0.255521</td>\n",
              "      <td>0.536058</td>\n",
              "      <td>0.940000</td>\n",
              "      <td>0.709677</td>\n",
              "      <td>0.0</td>\n",
              "      <td>0.0</td>\n",
              "      <td>0.0</td>\n",
              "      <td>...</td>\n",
              "      <td>0.000000</td>\n",
              "      <td>0.0</td>\n",
              "      <td>0.0</td>\n",
              "      <td>0.0</td>\n",
              "      <td>0.0</td>\n",
              "      <td>0.0</td>\n",
              "      <td>0.518797</td>\n",
              "      <td>0.148866</td>\n",
              "      <td>0.446338</td>\n",
              "      <td>0.058307</td>\n",
              "    </tr>\n",
              "    <tr>\n",
              "      <th>9</th>\n",
              "      <td>test</td>\n",
              "      <td>recall</td>\n",
              "      <td>0.504525</td>\n",
              "      <td>0.154286</td>\n",
              "      <td>0.533493</td>\n",
              "      <td>0.734375</td>\n",
              "      <td>0.139241</td>\n",
              "      <td>0.0</td>\n",
              "      <td>0.0</td>\n",
              "      <td>0.0</td>\n",
              "      <td>...</td>\n",
              "      <td>0.000000</td>\n",
              "      <td>0.0</td>\n",
              "      <td>0.0</td>\n",
              "      <td>0.0</td>\n",
              "      <td>0.0</td>\n",
              "      <td>0.0</td>\n",
              "      <td>0.346908</td>\n",
              "      <td>0.103296</td>\n",
              "      <td>0.346908</td>\n",
              "      <td>0.058264</td>\n",
              "    </tr>\n",
              "    <tr>\n",
              "      <th>10</th>\n",
              "      <td>test</td>\n",
              "      <td>f1-score</td>\n",
              "      <td>0.519814</td>\n",
              "      <td>0.192399</td>\n",
              "      <td>0.534772</td>\n",
              "      <td>0.824561</td>\n",
              "      <td>0.232804</td>\n",
              "      <td>0.0</td>\n",
              "      <td>0.0</td>\n",
              "      <td>0.0</td>\n",
              "      <td>...</td>\n",
              "      <td>0.000000</td>\n",
              "      <td>0.0</td>\n",
              "      <td>0.0</td>\n",
              "      <td>0.0</td>\n",
              "      <td>0.0</td>\n",
              "      <td>0.0</td>\n",
              "      <td>0.415788</td>\n",
              "      <td>0.115218</td>\n",
              "      <td>0.376773</td>\n",
              "      <td>0.058278</td>\n",
              "    </tr>\n",
              "    <tr>\n",
              "      <th>11</th>\n",
              "      <td>test</td>\n",
              "      <td>support</td>\n",
              "      <td>442.000000</td>\n",
              "      <td>525.000000</td>\n",
              "      <td>418.000000</td>\n",
              "      <td>192.000000</td>\n",
              "      <td>158.000000</td>\n",
              "      <td>24.0</td>\n",
              "      <td>27.0</td>\n",
              "      <td>9.0</td>\n",
              "      <td>...</td>\n",
              "      <td>27.000000</td>\n",
              "      <td>13.0</td>\n",
              "      <td>28.0</td>\n",
              "      <td>20.0</td>\n",
              "      <td>25.0</td>\n",
              "      <td>3.0</td>\n",
              "      <td>1989.000000</td>\n",
              "      <td>1989.000000</td>\n",
              "      <td>1989.000000</td>\n",
              "      <td>1989.000000</td>\n",
              "    </tr>\n",
              "  </tbody>\n",
              "</table>\n",
              "<p>12 rows × 26 columns</p>\n",
              "</div>\n",
              "      <button class=\"colab-df-convert\" onclick=\"convertToInteractive('df-928659cd-88bd-4ad8-a705-804c70c3defe')\"\n",
              "              title=\"Convert this dataframe to an interactive table.\"\n",
              "              style=\"display:none;\">\n",
              "        \n",
              "  <svg xmlns=\"http://www.w3.org/2000/svg\" height=\"24px\"viewBox=\"0 0 24 24\"\n",
              "       width=\"24px\">\n",
              "    <path d=\"M0 0h24v24H0V0z\" fill=\"none\"/>\n",
              "    <path d=\"M18.56 5.44l.94 2.06.94-2.06 2.06-.94-2.06-.94-.94-2.06-.94 2.06-2.06.94zm-11 1L8.5 8.5l.94-2.06 2.06-.94-2.06-.94L8.5 2.5l-.94 2.06-2.06.94zm10 10l.94 2.06.94-2.06 2.06-.94-2.06-.94-.94-2.06-.94 2.06-2.06.94z\"/><path d=\"M17.41 7.96l-1.37-1.37c-.4-.4-.92-.59-1.43-.59-.52 0-1.04.2-1.43.59L10.3 9.45l-7.72 7.72c-.78.78-.78 2.05 0 2.83L4 21.41c.39.39.9.59 1.41.59.51 0 1.02-.2 1.41-.59l7.78-7.78 2.81-2.81c.8-.78.8-2.07 0-2.86zM5.41 20L4 18.59l7.72-7.72 1.47 1.35L5.41 20z\"/>\n",
              "  </svg>\n",
              "      </button>\n",
              "      \n",
              "  <style>\n",
              "    .colab-df-container {\n",
              "      display:flex;\n",
              "      flex-wrap:wrap;\n",
              "      gap: 12px;\n",
              "    }\n",
              "\n",
              "    .colab-df-convert {\n",
              "      background-color: #E8F0FE;\n",
              "      border: none;\n",
              "      border-radius: 50%;\n",
              "      cursor: pointer;\n",
              "      display: none;\n",
              "      fill: #1967D2;\n",
              "      height: 32px;\n",
              "      padding: 0 0 0 0;\n",
              "      width: 32px;\n",
              "    }\n",
              "\n",
              "    .colab-df-convert:hover {\n",
              "      background-color: #E2EBFA;\n",
              "      box-shadow: 0px 1px 2px rgba(60, 64, 67, 0.3), 0px 1px 3px 1px rgba(60, 64, 67, 0.15);\n",
              "      fill: #174EA6;\n",
              "    }\n",
              "\n",
              "    [theme=dark] .colab-df-convert {\n",
              "      background-color: #3B4455;\n",
              "      fill: #D2E3FC;\n",
              "    }\n",
              "\n",
              "    [theme=dark] .colab-df-convert:hover {\n",
              "      background-color: #434B5C;\n",
              "      box-shadow: 0px 1px 3px 1px rgba(0, 0, 0, 0.15);\n",
              "      filter: drop-shadow(0px 1px 2px rgba(0, 0, 0, 0.3));\n",
              "      fill: #FFFFFF;\n",
              "    }\n",
              "  </style>\n",
              "\n",
              "      <script>\n",
              "        const buttonEl =\n",
              "          document.querySelector('#df-928659cd-88bd-4ad8-a705-804c70c3defe button.colab-df-convert');\n",
              "        buttonEl.style.display =\n",
              "          google.colab.kernel.accessAllowed ? 'block' : 'none';\n",
              "\n",
              "        async function convertToInteractive(key) {\n",
              "          const element = document.querySelector('#df-928659cd-88bd-4ad8-a705-804c70c3defe');\n",
              "          const dataTable =\n",
              "            await google.colab.kernel.invokeFunction('convertToInteractive',\n",
              "                                                     [key], {});\n",
              "          if (!dataTable) return;\n",
              "\n",
              "          const docLinkHtml = 'Like what you see? Visit the ' +\n",
              "            '<a target=\"_blank\" href=https://colab.research.google.com/notebooks/data_table.ipynb>data table notebook</a>'\n",
              "            + ' to learn more about interactive tables.';\n",
              "          element.innerHTML = '';\n",
              "          dataTable['output_type'] = 'display_data';\n",
              "          await google.colab.output.renderOutput(dataTable, element);\n",
              "          const docLink = document.createElement('div');\n",
              "          docLink.innerHTML = docLinkHtml;\n",
              "          element.appendChild(docLink);\n",
              "        }\n",
              "      </script>\n",
              "    </div>\n",
              "  </div>\n",
              "  "
            ]
          },
          "metadata": {},
          "execution_count": 25
        }
      ],
      "source": [
        "print(suf)\n",
        "\n",
        "os.mkdir('flair_ner_model'+suf+'/classification_report')\n",
        "plotter.plot_training_curves('flair_ner_model'+suf+'/loss.tsv')\n",
        "\n",
        "# evaluate the tagger on the test set\n",
        "result = tagger.evaluate(corpus.train, \n",
        "                         embeddings_storage_mode='gpu',\n",
        "                         mini_batch_size=12,\n",
        "                         main_evaluation_metric = (\"weighted avg\", \"f1-score\"),\n",
        "                         gold_label_type='ner',\n",
        "                         gold_label_dictionary=tag_dictionary)\n",
        "open('flair_ner_model'+suf+'/classification_report/train.txt', 'w').write(str(result))\n",
        "res1 = pd.DataFrame.from_dict(result.classification_report).reset_index()\n",
        "res1.insert(loc=0, column='split', value='train')\n",
        "\n",
        "result = tagger.evaluate(corpus.dev, \n",
        "                         embeddings_storage_mode='gpu',\n",
        "                         mini_batch_size=12,\n",
        "                         main_evaluation_metric = (\"weighted avg\", \"f1-score\"),\n",
        "                         gold_label_type='ner',\n",
        "                         gold_label_dictionary=tag_dictionary)\n",
        "open('flair_ner_model'+suf+'/classification_report/dev.txt', 'w').write(str(result))\n",
        "res2 = pd.DataFrame.from_dict(result.classification_report).reset_index()\n",
        "res2.insert(loc=0, column='split', value='dev')\n",
        "\n",
        "result = tagger.evaluate(corpus.test, \n",
        "                         embeddings_storage_mode='gpu',\n",
        "                         mini_batch_size=12,\n",
        "                         main_evaluation_metric = (\"weighted avg\", \"f1-score\"),\n",
        "                         gold_label_type='ner',\n",
        "                         gold_label_dictionary=tag_dictionary)\n",
        "open('flair_ner_model'+suf+'/classification_report/test.txt', 'w').write(str(result))\n",
        "res3 = pd.DataFrame.from_dict(result.classification_report).reset_index()\n",
        "res3.insert(loc=0, column='split', value='test')\n",
        "\n",
        "res = pd.concat([res1,res2,res3],ignore_index=True)\n",
        "res.to_csv('flair_ner_model'+suf+'/classification_report.csv',index=False)\n",
        "res"
      ]
    },
    {
      "cell_type": "code",
      "execution_count": null,
      "metadata": {
        "id": "VvIDCtYJkY-G"
      },
      "outputs": [],
      "source": [
        "# import time\n",
        "# start_time = time.time()\n",
        "# while time.time() - start_time < 1:\n",
        "#     time.sleep(1)\n",
        "# print('Session has timed out (2 minutes). Disconnecting...')\n",
        "# !kill -9 -1"
      ]
    },
    {
      "cell_type": "markdown",
      "metadata": {
        "id": "tGILL4RFtGil"
      },
      "source": [
        "Layering can be a good idea if the NER tags in the first layer have their own set of dependent values in the second layer. This can help capture more information about the entities being recognized and provide more context for downstream tasks. However, it also increases the complexity of the annotation and the training process, so it should be used judiciously. In general, it's a good idea to start with a simple tag scheme and gradually increase complexity as needed."
      ]
    },
    {
      "cell_type": "markdown",
      "metadata": {
        "id": "JoZ5D6aEtGin"
      },
      "source": [
        "    does it really matter if u use the E header\n",
        "\n",
        "It depends on the specific task and the requirements of the downstream model. In some cases, using the E tag can help disambiguate between overlapping entities, while in other cases it may not be necessary or even desired. Ultimately, it's up to the developer to determine the appropriate tagging scheme for their specific use case."
      ]
    },
    {
      "cell_type": "markdown",
      "metadata": {
        "id": "BGt2RhM6tGin"
      },
      "source": [
        "    would adding POS as an extra NER layer help model performance or not\n",
        "\n",
        "Adding POS as an extra NER layer may or may not help model performance, depending on the specific use case and data being analyzed.\n",
        "\n",
        "On one hand, incorporating POS tags could provide additional context to the model and help it better distinguish between named entities and other parts of speech. For example, knowing that a word is a noun or verb could help the model determine if it is likely to be a named entity or not.\n",
        "\n",
        "On the other hand, adding an additional layer could also increase model complexity and training time without necessarily improving performance. It may also require additional manual annotation efforts to create a labeled dataset with both NER and POS tags.\n",
        "\n",
        "Ultimately, whether to include POS as an additional layer will depend on the specific requirements and goals of the project, as well as the available data and resources."
      ]
    },
    {
      "cell_type": "markdown",
      "metadata": {
        "id": "6zpEn1bgtGin"
      },
      "source": [
        "    besides bioes ordering (which is up-to-down), it doesn't matter what order the tags in the same domain appear in left-to-right?\n",
        "\n",
        "Yes, that is correct. As long as the BIOES order is maintained vertically, the order of tags in the same domain from left-to-right should not impact training in flai"
      ]
    },
    {
      "cell_type": "markdown",
      "metadata": {
        "id": "yrmL98VatGin"
      },
      "source": [
        "    different typenames must be treated as separate tasks?\n",
        "\n",
        "Yes, that's correct. Different typenames should be treated as separate tasks because they represent different types of annotations that you want to predict. For example, in a biomedical NER task, you might want to predict the entity types of both drugs and diseases, which would be represented by two different typenames in your annotation data. Predicting both types of entities would require different models and possibly different evaluation metrics."
      ]
    }
  ],
  "metadata": {
    "accelerator": "GPU",
    "colab": {
      "gpuType": "A100",
      "provenance": []
    },
    "gpuClass": "standard",
    "kernelspec": {
      "display_name": "flair",
      "language": "python",
      "name": "python3"
    },
    "language_info": {
      "codemirror_mode": {
        "name": "ipython",
        "version": 3
      },
      "file_extension": ".py",
      "mimetype": "text/x-python",
      "name": "python",
      "nbconvert_exporter": "python",
      "pygments_lexer": "ipython3",
      "version": "3.9.16"
    },
    "vscode": {
      "interpreter": {
        "hash": "381c8abc3392c5f20473858f182d9ac4a53ef053fb1f276fcb4936938616c3f3"
      }
    }
  },
  "nbformat": 4,
  "nbformat_minor": 0
}